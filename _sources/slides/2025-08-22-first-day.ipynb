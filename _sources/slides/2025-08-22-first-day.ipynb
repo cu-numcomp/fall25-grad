{
 "cells": [
  {
   "cell_type": "markdown",
   "id": "4159be0e",
   "metadata": {
    "slideshow": {
     "slide_type": "slide"
    }
   },
   "source": [
    "# 2025-08-22 First Day\n",
    "## Principles of Numerical Computation\n",
    "\n",
    "## Instructor: Jed Brown, jed.brown@colorado.edu, ECOT 824\n",
    "\n",
    "1. Who am I?\n",
    "2. What is this course about?\n",
    "3. How will it work?\n",
    "4. Discussion\n",
    "5. `exp()` demo"
   ]
  },
  {
   "cell_type": "code",
   "execution_count": 1,
   "id": "0a9c9cd2",
   "metadata": {
    "slideshow": {
     "slide_type": "skip"
    }
   },
   "outputs": [],
   "source": [
    "using Plots\n",
    "default(linewidth=3, legendfontsize=12, xtickfontsize=12, ytickfontsize=12)"
   ]
  },
  {
   "cell_type": "markdown",
   "id": "0daceff0",
   "metadata": {
    "slideshow": {
     "slide_type": "slide"
    }
   },
   "source": [
    "# Positionality: Who am I?\n",
    "\n",
    "* Jed Brown (he/him); you can call me Jed\n",
    "* Math + Physics undergrad, MS Math, Dr.Sc. Environmental Engineering (Computational Glaciology)\n",
    "* Postdoc and staff at Argonne National Laboratory (DOE Office of Science)\n",
    "* CU since 2015\n",
    "* Maintainer of open source software like [PETSc](https://petsc.org) and [libCEED](https://libceed.org)\n",
    "* Cis-het white man (which unavoidably affects my experience in these spaces)"
   ]
  },
  {
   "cell_type": "markdown",
   "id": "ece03c41",
   "metadata": {
    "slideshow": {
     "slide_type": "slide"
    }
   },
   "source": [
    "## Physical Prediction, Inference, and Design Group\n",
    "* Develop and maintain open source libraries\n",
    "* Research in fast/parallel algorithms, extensible software\n",
    "* Partner with scientists and engineers in many disciplines: geoscience, aerospace, civil engineering, fusion\n",
    "* Listen, learn about computational bottlenecks, build technology and communities"
   ]
  },
  {
   "cell_type": "markdown",
   "id": "4321bd4a",
   "metadata": {
    "cell_style": "split"
   },
   "source": [
    "<video src=\"../img/ROPI_OutView.webm\" width=\"100%\" controls loop />"
   ]
  },
  {
   "cell_type": "markdown",
   "id": "0e67c8ac",
   "metadata": {
    "cell_style": "split"
   },
   "source": [
    "<video src=\"../img/schwarz-pendulum.webm\" width=\"90%\" controls loop />"
   ]
  },
  {
   "cell_type": "markdown",
   "id": "b1decb86",
   "metadata": {
    "slideshow": {
     "slide_type": "slide"
    }
   },
   "source": [
    "# Prerequisites"
   ]
  },
  {
   "cell_type": "markdown",
   "id": "0d6e6809",
   "metadata": {
    "cell_style": "split",
    "slideshow": {
     "slide_type": ""
    }
   },
   "source": [
    "## Calculus\n",
    "\n",
    "* Fundamental Theorem of Calculus\n",
    "* Differentiate and integrate polynomials\n",
    "* Taylor series\n",
    "* Gradients"
   ]
  },
  {
   "cell_type": "markdown",
   "id": "008e0174",
   "metadata": {
    "cell_style": "split"
   },
   "source": [
    "## Linear Algebra\n",
    "\n",
    "* vector spaces, orthogonality\n",
    "* QR factorization\n",
    "* projectors, reflectors, and rotations (will teach)\n",
    "\n",
    "We'll never compute RREF or eigenvalues by hand (and any time you spent on that was a waste; sorry)"
   ]
  },
  {
   "cell_type": "markdown",
   "id": "7d4939f4",
   "metadata": {
    "slideshow": {
     "slide_type": "slide"
    }
   },
   "source": [
    "# What is Numerical Computation?"
   ]
  },
  {
   "cell_type": "markdown",
   "id": "c138664f",
   "metadata": {
    "cell_style": "split"
   },
   "source": [
    "From [Trefethen (1992)](https://people.maths.ox.ac.uk/trefethen/publication/PDF/1992_55.pdf)\n",
    "\n",
    "> Here is the wrong answer:\n",
    ">> Numerical analysis is the study of rounding errors."
   ]
  },
  {
   "cell_type": "markdown",
   "id": "8ea0f7cc",
   "metadata": {
    "cell_style": "split",
    "slideshow": {
     "slide_type": "fragment"
    }
   },
   "source": [
    "Trefethen goes on to propose\n",
    ">> Numerical analysis is the study of algorithms for the problems of continuous mathematics."
   ]
  },
  {
   "cell_type": "markdown",
   "id": "02de1e33",
   "metadata": {
    "slideshow": {
     "slide_type": "fragment"
    }
   },
   "source": [
    "> This stuff is like computer science meets calculus\n",
    ">\n",
    "> -- former student"
   ]
  },
  {
   "cell_type": "markdown",
   "id": "753f15fe",
   "metadata": {
    "cell_style": "center",
    "slideshow": {
     "slide_type": "slide"
    }
   },
   "source": [
    "# What is continuous mathematics?"
   ]
  },
  {
   "cell_type": "markdown",
   "id": "e3ddf39b",
   "metadata": {
    "cell_style": "split",
    "slideshow": {
     "slide_type": ""
    }
   },
   "source": [
    "* Continuous objects with finite representations on a computer\n",
    "  * real and complex numbers $a \\in \\mathbb R$\n",
    "  * vectors $\\mathbf x \\in \\mathbb R^n$\n",
    "  * matrices $A \\in \\mathbb R^{m\\times n}$\n",
    "* Continuous objects with infinite representations on a computer\n",
    "  * functions $f: \\mathbb R \\to \\mathbb R$\n",
    "  * higher order functions: $g(f)$"
   ]
  },
  {
   "cell_type": "markdown",
   "id": "c5a8bd60",
   "metadata": {
    "cell_style": "split"
   },
   "source": [
    "## Finite vs Infinite algorithms\n",
    "\n",
    "* Compute the matrix product $A B$\n",
    "* Solve $A x = b$ for $x$\n",
    "* Compute the eigenvalues $\\lambda$ of $A \\in \\mathbb R^{10\\times 10}$\n",
    "* Compute $\\int_a^b f(x)$"
   ]
  },
  {
   "cell_type": "markdown",
   "id": "2dd843ce",
   "metadata": {
    "cell_style": "center",
    "slideshow": {
     "slide_type": "slide"
    }
   },
   "source": [
    "# Rootfinding"
   ]
  },
  {
   "cell_type": "markdown",
   "id": "347a2da3",
   "metadata": {
    "cell_style": "split",
    "slideshow": {
     "slide_type": ""
    }
   },
   "source": [
    "Given $f(x)$, find $x$ such that $f(x) = 0$.\n",
    "\n",
    "* Cost\n",
    "  * Evaluation of $f(x)$ and perhaps derivatives $f'(x)$.\n",
    "  * Other arithmetic\n",
    "* Convergence: how many evaluations to reach a given accuracy?\n",
    "* Robustness: does the algorithm always converge?"
   ]
  },
  {
   "cell_type": "code",
   "execution_count": 8,
   "id": "7e55dd6f",
   "metadata": {
    "cell_style": "split",
    "slideshow": {
     "slide_type": "fragment"
    }
   },
   "outputs": [
    {
     "data": {
      "image/svg+xml": [
       "<?xml version=\"1.0\" encoding=\"utf-8\"?>\n",
       "<svg xmlns=\"http://www.w3.org/2000/svg\" xmlns:xlink=\"http://www.w3.org/1999/xlink\" width=\"600\" height=\"400\" viewBox=\"0 0 2400 1600\">\n",
       "<defs>\n",
       "  <clipPath id=\"clip830\">\n",
       "    <rect x=\"0\" y=\"0\" width=\"2400\" height=\"1600\"/>\n",
       "  </clipPath>\n",
       "</defs>\n",
       "<path clip-path=\"url(#clip830)\" d=\"\n",
       "M0 1600 L2400 1600 L2400 0 L0 0  Z\n",
       "  \" fill=\"#ffffff\" fill-rule=\"evenodd\" fill-opacity=\"1\"/>\n",
       "<defs>\n",
       "  <clipPath id=\"clip831\">\n",
       "    <rect x=\"480\" y=\"0\" width=\"1681\" height=\"1600\"/>\n",
       "  </clipPath>\n",
       "</defs>\n",
       "<path clip-path=\"url(#clip830)\" d=\"\n",
       "M224.804 1469.17 L2352.76 1469.17 L2352.76 47.2441 L224.804 47.2441  Z\n",
       "  \" fill=\"#ffffff\" fill-rule=\"evenodd\" fill-opacity=\"1\"/>\n",
       "<defs>\n",
       "  <clipPath id=\"clip832\">\n",
       "    <rect x=\"224\" y=\"47\" width=\"2129\" height=\"1423\"/>\n",
       "  </clipPath>\n",
       "</defs>\n",
       "<polyline clip-path=\"url(#clip832)\" style=\"stroke:#000000; stroke-linecap:round; stroke-linejoin:round; stroke-width:2; stroke-opacity:0.1; fill:none\" points=\"\n",
       "  224.804,1469.17 224.804,47.2441 \n",
       "  \"/>\n",
       "<polyline clip-path=\"url(#clip832)\" style=\"stroke:#000000; stroke-linecap:round; stroke-linejoin:round; stroke-width:2; stroke-opacity:0.1; fill:none\" points=\"\n",
       "  934.121,1469.17 934.121,47.2441 \n",
       "  \"/>\n",
       "<polyline clip-path=\"url(#clip832)\" style=\"stroke:#000000; stroke-linecap:round; stroke-linejoin:round; stroke-width:2; stroke-opacity:0.1; fill:none\" points=\"\n",
       "  1643.44,1469.17 1643.44,47.2441 \n",
       "  \"/>\n",
       "<polyline clip-path=\"url(#clip832)\" style=\"stroke:#000000; stroke-linecap:round; stroke-linejoin:round; stroke-width:2; stroke-opacity:0.1; fill:none\" points=\"\n",
       "  2352.76,1469.17 2352.76,47.2441 \n",
       "  \"/>\n",
       "<polyline clip-path=\"url(#clip830)\" style=\"stroke:#000000; stroke-linecap:round; stroke-linejoin:round; stroke-width:4; stroke-opacity:1; fill:none\" points=\"\n",
       "  224.804,1469.17 2352.76,1469.17 \n",
       "  \"/>\n",
       "<polyline clip-path=\"url(#clip830)\" style=\"stroke:#000000; stroke-linecap:round; stroke-linejoin:round; stroke-width:4; stroke-opacity:1; fill:none\" points=\"\n",
       "  224.804,1469.17 224.804,1450.27 \n",
       "  \"/>\n",
       "<polyline clip-path=\"url(#clip830)\" style=\"stroke:#000000; stroke-linecap:round; stroke-linejoin:round; stroke-width:4; stroke-opacity:1; fill:none\" points=\"\n",
       "  934.121,1469.17 934.121,1450.27 \n",
       "  \"/>\n",
       "<polyline clip-path=\"url(#clip830)\" style=\"stroke:#000000; stroke-linecap:round; stroke-linejoin:round; stroke-width:4; stroke-opacity:1; fill:none\" points=\"\n",
       "  1643.44,1469.17 1643.44,1450.27 \n",
       "  \"/>\n",
       "<polyline clip-path=\"url(#clip830)\" style=\"stroke:#000000; stroke-linecap:round; stroke-linejoin:round; stroke-width:4; stroke-opacity:1; fill:none\" points=\"\n",
       "  2352.76,1469.17 2352.76,1450.27 \n",
       "  \"/>\n",
       "<path clip-path=\"url(#clip830)\" d=\"M145.343 1527.92 L189.856 1527.92 L189.856 1533.83 L145.343 1533.83 L145.343 1527.92 Z\" fill=\"#000000\" fill-rule=\"evenodd\" fill-opacity=\"1\" /><path clip-path=\"url(#clip830)\" d=\"M211.037 1547.27 L235.516 1547.27 L235.516 1553.17 L202.599 1553.17 L202.599 1547.27 Q206.592 1543.13 213.467 1536.19 Q220.377 1529.21 222.148 1527.2 Q225.516 1523.41 226.835 1520.81 Q228.189 1518.17 228.189 1515.63 Q228.189 1511.5 225.273 1508.9 Q222.391 1506.29 217.738 1506.29 Q214.439 1506.29 210.759 1507.44 Q207.113 1508.58 202.946 1510.91 L202.946 1503.83 Q207.182 1502.13 210.863 1501.26 Q214.544 1500.39 217.599 1500.39 Q225.655 1500.39 230.446 1504.42 Q235.238 1508.45 235.238 1515.18 Q235.238 1518.38 234.023 1521.26 Q232.842 1524.11 229.682 1527.99 Q228.814 1529 224.162 1533.83 Q219.509 1538.62 211.037 1547.27 Z\" fill=\"#000000\" fill-rule=\"evenodd\" fill-opacity=\"1\" /><path clip-path=\"url(#clip830)\" d=\"M250.238 1544.35 L257.564 1544.35 L257.564 1553.17 L250.238 1553.17 L250.238 1544.35 Z\" fill=\"#000000\" fill-rule=\"evenodd\" fill-opacity=\"1\" /><path clip-path=\"url(#clip830)\" d=\"M272.911 1501.33 L300.446 1501.33 L300.446 1507.23 L279.335 1507.23 L279.335 1519.94 Q280.863 1519.42 282.39 1519.18 Q283.918 1518.9 285.446 1518.9 Q294.126 1518.9 299.196 1523.65 Q304.265 1528.41 304.265 1536.54 Q304.265 1544.9 299.057 1549.56 Q293.849 1554.17 284.37 1554.17 Q281.106 1554.17 277.703 1553.62 Q274.335 1553.06 270.724 1551.95 L270.724 1544.9 Q273.849 1546.61 277.182 1547.44 Q280.515 1548.27 284.231 1548.27 Q290.238 1548.27 293.744 1545.11 Q297.251 1541.95 297.251 1536.54 Q297.251 1531.12 293.744 1527.96 Q290.238 1524.8 284.231 1524.8 Q281.418 1524.8 278.606 1525.42 Q275.828 1526.05 272.911 1527.37 L272.911 1501.33 Z\" fill=\"#000000\" fill-rule=\"evenodd\" fill-opacity=\"1\" /><path clip-path=\"url(#clip830)\" d=\"M900.198 1505.95 Q894.781 1505.95 892.038 1511.29 Q889.33 1516.61 889.33 1527.3 Q889.33 1537.96 892.038 1543.31 Q894.781 1548.62 900.198 1548.62 Q905.649 1548.62 908.357 1543.31 Q911.101 1537.96 911.101 1527.3 Q911.101 1516.61 908.357 1511.29 Q905.649 1505.95 900.198 1505.95 M900.198 1500.39 Q908.913 1500.39 913.496 1507.3 Q918.114 1514.18 918.114 1527.3 Q918.114 1540.39 913.496 1547.3 Q908.913 1554.17 900.198 1554.17 Q891.483 1554.17 886.865 1547.3 Q882.281 1540.39 882.281 1527.3 Q882.281 1514.18 886.865 1507.3 Q891.483 1500.39 900.198 1500.39 Z\" fill=\"#000000\" fill-rule=\"evenodd\" fill-opacity=\"1\" /><path clip-path=\"url(#clip830)\" d=\"M930.441 1544.35 L937.767 1544.35 L937.767 1553.17 L930.441 1553.17 L930.441 1544.35 Z\" fill=\"#000000\" fill-rule=\"evenodd\" fill-opacity=\"1\" /><path clip-path=\"url(#clip830)\" d=\"M968.045 1505.95 Q962.628 1505.95 959.885 1511.29 Q957.177 1516.61 957.177 1527.3 Q957.177 1537.96 959.885 1543.31 Q962.628 1548.62 968.045 1548.62 Q973.496 1548.62 976.204 1543.31 Q978.947 1537.96 978.947 1527.3 Q978.947 1516.61 976.204 1511.29 Q973.496 1505.95 968.045 1505.95 M968.045 1500.39 Q976.76 1500.39 981.343 1507.3 Q985.961 1514.18 985.961 1527.3 Q985.961 1540.39 981.343 1547.3 Q976.76 1554.17 968.045 1554.17 Q959.329 1554.17 954.711 1547.3 Q950.128 1540.39 950.128 1527.3 Q950.128 1514.18 954.711 1507.3 Q959.329 1500.39 968.045 1500.39 Z\" fill=\"#000000\" fill-rule=\"evenodd\" fill-opacity=\"1\" /><path clip-path=\"url(#clip830)\" d=\"M1601.04 1547.27 L1625.52 1547.27 L1625.52 1553.17 L1592.61 1553.17 L1592.61 1547.27 Q1596.6 1543.13 1603.47 1536.19 Q1610.38 1529.21 1612.15 1527.2 Q1615.52 1523.41 1616.84 1520.81 Q1618.2 1518.17 1618.2 1515.63 Q1618.2 1511.5 1615.28 1508.9 Q1612.4 1506.29 1607.74 1506.29 Q1604.45 1506.29 1600.77 1507.44 Q1597.12 1508.58 1592.95 1510.91 L1592.95 1503.83 Q1597.19 1502.13 1600.87 1501.26 Q1604.55 1500.39 1607.61 1500.39 Q1615.66 1500.39 1620.45 1504.42 Q1625.24 1508.45 1625.24 1515.18 Q1625.24 1518.38 1624.03 1521.26 Q1622.85 1524.11 1619.69 1527.99 Q1618.82 1529 1614.17 1533.83 Q1609.52 1538.62 1601.04 1547.27 Z\" fill=\"#000000\" fill-rule=\"evenodd\" fill-opacity=\"1\" /><path clip-path=\"url(#clip830)\" d=\"M1640.24 1544.35 L1647.57 1544.35 L1647.57 1553.17 L1640.24 1553.17 L1640.24 1544.35 Z\" fill=\"#000000\" fill-rule=\"evenodd\" fill-opacity=\"1\" /><path clip-path=\"url(#clip830)\" d=\"M1662.92 1501.33 L1690.45 1501.33 L1690.45 1507.23 L1669.34 1507.23 L1669.34 1519.94 Q1670.87 1519.42 1672.4 1519.18 Q1673.92 1518.9 1675.45 1518.9 Q1684.13 1518.9 1689.2 1523.65 Q1694.27 1528.41 1694.27 1536.54 Q1694.27 1544.9 1689.06 1549.56 Q1683.86 1554.17 1674.38 1554.17 Q1671.11 1554.17 1667.71 1553.62 Q1664.34 1553.06 1660.73 1551.95 L1660.73 1544.9 Q1663.86 1546.61 1667.19 1547.44 Q1670.52 1548.27 1674.24 1548.27 Q1680.24 1548.27 1683.75 1545.11 Q1687.26 1541.95 1687.26 1536.54 Q1687.26 1531.12 1683.75 1527.96 Q1680.24 1524.8 1674.24 1524.8 Q1671.42 1524.8 1668.61 1525.42 Q1665.83 1526.05 1662.92 1527.37 L1662.92 1501.33 Z\" fill=\"#000000\" fill-rule=\"evenodd\" fill-opacity=\"1\" /><path clip-path=\"url(#clip830)\" d=\"M2303.5 1501.33 L2331.04 1501.33 L2331.04 1507.23 L2309.93 1507.23 L2309.93 1519.94 Q2311.45 1519.42 2312.98 1519.18 Q2314.51 1518.9 2316.04 1518.9 Q2324.72 1518.9 2329.79 1523.65 Q2334.86 1528.41 2334.86 1536.54 Q2334.86 1544.9 2329.65 1549.56 Q2324.44 1554.17 2314.96 1554.17 Q2311.7 1554.17 2308.29 1553.62 Q2304.93 1553.06 2301.32 1551.95 L2301.32 1544.9 Q2304.44 1546.61 2307.77 1547.44 Q2311.11 1548.27 2314.82 1548.27 Q2320.83 1548.27 2324.34 1545.11 Q2327.84 1541.95 2327.84 1536.54 Q2327.84 1531.12 2324.34 1527.96 Q2320.83 1524.8 2314.82 1524.8 Q2312.01 1524.8 2309.2 1525.42 Q2306.42 1526.05 2303.5 1527.37 L2303.5 1501.33 Z\" fill=\"#000000\" fill-rule=\"evenodd\" fill-opacity=\"1\" /><path clip-path=\"url(#clip830)\" d=\"M2348.68 1544.35 L2356 1544.35 L2356 1553.17 L2348.68 1553.17 L2348.68 1544.35 Z\" fill=\"#000000\" fill-rule=\"evenodd\" fill-opacity=\"1\" /><path clip-path=\"url(#clip830)\" d=\"M2386.28 1505.95 Q2380.86 1505.95 2378.12 1511.29 Q2375.41 1516.61 2375.41 1527.3 Q2375.41 1537.96 2378.12 1543.31 Q2380.86 1548.62 2386.28 1548.62 Q2391.73 1548.62 2394.44 1543.31 Q2397.18 1537.96 2397.18 1527.3 Q2397.18 1516.61 2394.44 1511.29 Q2391.73 1505.95 2386.28 1505.95 M2386.28 1500.39 Q2395 1500.39 2399.58 1507.3 Q2404.2 1514.18 2404.2 1527.3 Q2404.2 1540.39 2399.58 1547.3 Q2395 1554.17 2386.28 1554.17 Q2377.56 1554.17 2372.95 1547.3 Q2368.36 1540.39 2368.36 1527.3 Q2368.36 1514.18 2372.95 1507.3 Q2377.56 1500.39 2386.28 1500.39 Z\" fill=\"#000000\" fill-rule=\"evenodd\" fill-opacity=\"1\" /><polyline clip-path=\"url(#clip832)\" style=\"stroke:#000000; stroke-linecap:round; stroke-linejoin:round; stroke-width:2; stroke-opacity:0.1; fill:none\" points=\"\n",
       "  224.804,1172.93 2352.76,1172.93 \n",
       "  \"/>\n",
       "<polyline clip-path=\"url(#clip832)\" style=\"stroke:#000000; stroke-linecap:round; stroke-linejoin:round; stroke-width:2; stroke-opacity:0.1; fill:none\" points=\"\n",
       "  224.804,828.888 2352.76,828.888 \n",
       "  \"/>\n",
       "<polyline clip-path=\"url(#clip832)\" style=\"stroke:#000000; stroke-linecap:round; stroke-linejoin:round; stroke-width:2; stroke-opacity:0.1; fill:none\" points=\"\n",
       "  224.804,484.844 2352.76,484.844 \n",
       "  \"/>\n",
       "<polyline clip-path=\"url(#clip832)\" style=\"stroke:#000000; stroke-linecap:round; stroke-linejoin:round; stroke-width:2; stroke-opacity:0.1; fill:none\" points=\"\n",
       "  224.804,140.8 2352.76,140.8 \n",
       "  \"/>\n",
       "<polyline clip-path=\"url(#clip830)\" style=\"stroke:#000000; stroke-linecap:round; stroke-linejoin:round; stroke-width:4; stroke-opacity:1; fill:none\" points=\"\n",
       "  224.804,1469.17 224.804,47.2441 \n",
       "  \"/>\n",
       "<polyline clip-path=\"url(#clip830)\" style=\"stroke:#000000; stroke-linecap:round; stroke-linejoin:round; stroke-width:4; stroke-opacity:1; fill:none\" points=\"\n",
       "  224.804,1172.93 243.702,1172.93 \n",
       "  \"/>\n",
       "<polyline clip-path=\"url(#clip830)\" style=\"stroke:#000000; stroke-linecap:round; stroke-linejoin:round; stroke-width:4; stroke-opacity:1; fill:none\" points=\"\n",
       "  224.804,828.888 243.702,828.888 \n",
       "  \"/>\n",
       "<polyline clip-path=\"url(#clip830)\" style=\"stroke:#000000; stroke-linecap:round; stroke-linejoin:round; stroke-width:4; stroke-opacity:1; fill:none\" points=\"\n",
       "  224.804,484.844 243.702,484.844 \n",
       "  \"/>\n",
       "<polyline clip-path=\"url(#clip830)\" style=\"stroke:#000000; stroke-linecap:round; stroke-linejoin:round; stroke-width:4; stroke-opacity:1; fill:none\" points=\"\n",
       "  224.804,140.8 243.702,140.8 \n",
       "  \"/>\n",
       "<path clip-path=\"url(#clip830)\" d=\"M50.9921 1173.61 L95.5058 1173.61 L95.5058 1179.51 L50.9921 1179.51 L50.9921 1173.61 Z\" fill=\"#000000\" fill-rule=\"evenodd\" fill-opacity=\"1\" /><path clip-path=\"url(#clip830)\" d=\"M116.686 1192.95 L141.165 1192.95 L141.165 1198.85 L108.249 1198.85 L108.249 1192.95 Q112.242 1188.82 119.117 1181.87 Q126.026 1174.89 127.797 1172.88 Q131.165 1169.1 132.485 1166.49 Q133.839 1163.85 133.839 1161.32 Q133.839 1157.19 130.922 1154.58 Q128.04 1151.98 123.388 1151.98 Q120.089 1151.98 116.408 1153.12 Q112.763 1154.27 108.596 1156.6 L108.596 1149.51 Q112.832 1147.81 116.513 1146.94 Q120.193 1146.07 123.249 1146.07 Q131.304 1146.07 136.096 1150.1 Q140.887 1154.13 140.887 1160.87 Q140.887 1164.06 139.672 1166.94 Q138.492 1169.79 135.332 1173.68 Q134.464 1174.69 129.811 1179.51 Q125.158 1184.3 116.686 1192.95 Z\" fill=\"#000000\" fill-rule=\"evenodd\" fill-opacity=\"1\" /><path clip-path=\"url(#clip830)\" d=\"M170.887 1151.63 Q165.471 1151.63 162.728 1156.98 Q160.019 1162.29 160.019 1172.98 Q160.019 1183.64 162.728 1188.99 Q165.471 1194.3 170.887 1194.3 Q176.339 1194.3 179.047 1188.99 Q181.79 1183.64 181.79 1172.98 Q181.79 1162.29 179.047 1156.98 Q176.339 1151.63 170.887 1151.63 M170.887 1146.07 Q179.603 1146.07 184.186 1152.98 Q188.804 1159.86 188.804 1172.98 Q188.804 1186.07 184.186 1192.98 Q179.603 1199.86 170.887 1199.86 Q162.172 1199.86 157.554 1192.98 Q152.971 1186.07 152.971 1172.98 Q152.971 1159.86 157.554 1152.98 Q162.172 1146.07 170.887 1146.07 Z\" fill=\"#000000\" fill-rule=\"evenodd\" fill-opacity=\"1\" /><path clip-path=\"url(#clip830)\" d=\"M170.887 807.586 Q165.471 807.586 162.728 812.933 Q160.019 818.246 160.019 828.94 Q160.019 839.6 162.728 844.947 Q165.471 850.26 170.887 850.26 Q176.339 850.26 179.047 844.947 Q181.79 839.6 181.79 828.94 Q181.79 818.246 179.047 812.933 Q176.339 807.586 170.887 807.586 M170.887 802.031 Q179.603 802.031 184.186 808.94 Q188.804 815.815 188.804 828.94 Q188.804 842.03 184.186 848.94 Q179.603 855.815 170.887 855.815 Q162.172 855.815 157.554 848.94 Q152.971 842.03 152.971 828.94 Q152.971 815.815 157.554 808.94 Q162.172 802.031 170.887 802.031 Z\" fill=\"#000000\" fill-rule=\"evenodd\" fill-opacity=\"1\" /><path clip-path=\"url(#clip830)\" d=\"M116.686 504.861 L141.165 504.861 L141.165 510.764 L108.249 510.764 L108.249 504.861 Q112.242 500.73 119.117 493.785 Q126.026 486.806 127.797 484.792 Q131.165 481.007 132.485 478.403 Q133.839 475.764 133.839 473.23 Q133.839 469.098 130.922 466.494 Q128.04 463.889 123.388 463.889 Q120.089 463.889 116.408 465.035 Q112.763 466.181 108.596 468.507 L108.596 461.424 Q112.832 459.723 116.513 458.855 Q120.193 457.987 123.249 457.987 Q131.304 457.987 136.096 462.014 Q140.887 466.042 140.887 472.778 Q140.887 475.973 139.672 478.855 Q138.492 481.702 135.332 485.591 Q134.464 486.598 129.811 491.424 Q125.158 496.216 116.686 504.861 Z\" fill=\"#000000\" fill-rule=\"evenodd\" fill-opacity=\"1\" /><path clip-path=\"url(#clip830)\" d=\"M170.887 463.542 Q165.471 463.542 162.728 468.889 Q160.019 474.202 160.019 484.896 Q160.019 495.556 162.728 500.903 Q165.471 506.216 170.887 506.216 Q176.339 506.216 179.047 500.903 Q181.79 495.556 181.79 484.896 Q181.79 474.202 179.047 468.889 Q176.339 463.542 170.887 463.542 M170.887 457.987 Q179.603 457.987 184.186 464.896 Q188.804 471.771 188.804 484.896 Q188.804 497.986 184.186 504.896 Q179.603 511.771 170.887 511.771 Q162.172 511.771 157.554 504.896 Q152.971 497.986 152.971 484.896 Q152.971 471.771 157.554 464.896 Q162.172 457.987 170.887 457.987 Z\" fill=\"#000000\" fill-rule=\"evenodd\" fill-opacity=\"1\" /><path clip-path=\"url(#clip830)\" d=\"M129.915 120.991 L112.207 148.665 L129.915 148.665 L129.915 120.991 M128.075 114.88 L136.894 114.88 L136.894 148.665 L144.29 148.665 L144.29 154.498 L136.894 154.498 L136.894 166.72 L129.915 166.72 L129.915 154.498 L106.513 154.498 L106.513 147.727 L128.075 114.88 Z\" fill=\"#000000\" fill-rule=\"evenodd\" fill-opacity=\"1\" /><path clip-path=\"url(#clip830)\" d=\"M170.887 119.498 Q165.471 119.498 162.728 124.846 Q160.019 130.158 160.019 140.852 Q160.019 151.512 162.728 156.859 Q165.471 162.172 170.887 162.172 Q176.339 162.172 179.047 156.859 Q181.79 151.512 181.79 140.852 Q181.79 130.158 179.047 124.846 Q176.339 119.498 170.887 119.498 M170.887 113.943 Q179.603 113.943 184.186 120.852 Q188.804 127.727 188.804 140.852 Q188.804 153.943 184.186 160.852 Q179.603 167.727 170.887 167.727 Q162.172 167.727 157.554 160.852 Q152.971 153.943 152.971 140.852 Q152.971 127.727 157.554 120.852 Q162.172 113.943 170.887 113.943 Z\" fill=\"#000000\" fill-rule=\"evenodd\" fill-opacity=\"1\" /><polyline clip-path=\"url(#clip832)\" style=\"stroke:#009af9; stroke-linecap:round; stroke-linejoin:round; stroke-width:12; stroke-opacity:1; fill:none\" points=\"\n",
       "  224.804,812.817 238.658,812.829 366.759,812.654 443.743,812.165 508.832,811.41 579.536,810.13 644.72,808.439 714.603,806.009 795.57,802.364 867.524,798.456 \n",
       "  930.621,794.696 999.413,790.603 1068.61,787.099 1145.13,785.052 1217.92,786.425 1255.77,789.059 1293.62,793.419 1325.48,798.683 1357.34,805.639 1376.78,810.816 \n",
       "  1396.23,816.762 1415.68,823.53 1435.13,831.173 1470.76,847.618 1506.39,867.474 1539.3,889.07 1572.21,913.967 1588.87,927.873 1605.54,942.663 1622.21,958.338 \n",
       "  1638.88,974.894 1657.56,994.481 1676.24,1015.13 1694.91,1036.8 1713.59,1059.44 1747.45,1102.68 1781.3,1148.24 1820.06,1202.16 1858.82,1256.31 1876.77,1280.86 \n",
       "  1894.71,1304.72 1912.65,1327.59 1930.6,1349.15 1948.29,1368.77 1965.98,1386.39 1983.67,1401.59 2001.36,1413.93 2009.95,1418.74 2018.54,1422.71 2027.12,1425.77 \n",
       "  2035.71,1427.86 2044.3,1428.92 2052.89,1428.88 2061.48,1427.68 2070.07,1425.23 2078.87,1421.36 2087.67,1416.03 2096.48,1409.16 2105.28,1400.66 2114.09,1390.45 \n",
       "  2122.89,1378.43 2131.69,1364.52 2140.5,1348.63 2150.14,1328.81 2159.79,1306.36 2169.43,1281.15 2179.08,1253.05 2188.73,1221.91 2198.37,1187.6 2203.19,1169.21 \n",
       "  2208.02,1149.98 2212.84,1129.88 2217.66,1108.9 2224.67,1076.81 2231.67,1042.77 2238.68,1006.72 2245.69,968.593 2252.69,928.344 2259.7,885.911 2266.71,841.237 \n",
       "  2273.71,794.265 2280.72,744.936 2287.72,693.194 2294.73,638.98 2301.74,582.237 2308.74,522.909 2315.75,460.938 2322.75,396.268 2329.76,328.843 2332.63,300.369 \n",
       "  2335.51,271.417 2338.38,241.985 2341.26,212.069 2344.13,181.665 2347.01,150.769 2349.88,119.378 2352.76,87.4872 \n",
       "  \"/>\n",
       "<polyline clip-path=\"url(#clip832)\" style=\"stroke:#e26f46; stroke-linecap:round; stroke-linejoin:round; stroke-width:12; stroke-opacity:1; fill:none\" points=\"\n",
       "  224.804,828.888 238.658,828.888 366.759,828.888 443.743,828.888 508.832,828.888 579.536,828.888 644.72,828.888 714.603,828.888 795.57,828.888 867.524,828.888 \n",
       "  930.621,828.888 999.413,828.888 1068.61,828.888 1145.13,828.888 1217.92,828.888 1293.62,828.888 1357.34,828.888 1435.13,828.888 1506.39,828.888 1572.21,828.888 \n",
       "  1638.88,828.888 1713.59,828.888 1781.3,828.888 1858.82,828.888 1930.6,828.888 2001.36,828.888 2070.07,828.888 2140.5,828.888 2217.66,828.888 2329.76,828.888 \n",
       "  2352.76,828.888 \n",
       "  \"/>\n",
       "<path clip-path=\"url(#clip830)\" d=\"\n",
       "M1966.74 327.922 L2281.82 327.922 L2281.82 94.6416 L1966.74 94.6416  Z\n",
       "  \" fill=\"#ffffff\" fill-rule=\"evenodd\" fill-opacity=\"1\"/>\n",
       "<polyline clip-path=\"url(#clip830)\" style=\"stroke:#000000; stroke-linecap:round; stroke-linejoin:round; stroke-width:4; stroke-opacity:1; fill:none\" points=\"\n",
       "  1966.74,327.922 2281.82,327.922 2281.82,94.6416 1966.74,94.6416 1966.74,327.922 \n",
       "  \"/>\n",
       "<polyline clip-path=\"url(#clip830)\" style=\"stroke:#009af9; stroke-linecap:round; stroke-linejoin:round; stroke-width:6; stroke-opacity:1; fill:none\" points=\"\n",
       "  1990.38,172.402 2132.25,172.402 \n",
       "  \"/>\n",
       "<path clip-path=\"url(#clip830)\" d=\"M2176.65 201.933 Q2173.95 208.877 2171.38 210.995 Q2168.81 213.113 2164.5 213.113 L2159.4 213.113 L2159.4 207.766 L2163.15 207.766 Q2165.79 207.766 2167.25 206.516 Q2168.7 205.266 2170.47 200.613 L2171.62 197.697 L2155.89 159.433 L2162.66 159.433 L2174.81 189.849 L2186.97 159.433 L2193.74 159.433 L2176.65 201.933 Z\" fill=\"#000000\" fill-rule=\"evenodd\" fill-opacity=\"1\" /><path clip-path=\"url(#clip830)\" d=\"M2204.68 192.419 L2216.13 192.419 L2216.13 152.87 L2203.67 155.37 L2203.67 148.982 L2216.06 146.482 L2223.08 146.482 L2223.08 192.419 L2234.54 192.419 L2234.54 198.322 L2204.68 198.322 L2204.68 192.419 Z\" fill=\"#000000\" fill-rule=\"evenodd\" fill-opacity=\"1\" /><polyline clip-path=\"url(#clip830)\" style=\"stroke:#e26f46; stroke-linecap:round; stroke-linejoin:round; stroke-width:6; stroke-opacity:1; fill:none\" points=\"\n",
       "  1990.38,250.162 2132.25,250.162 \n",
       "  \"/>\n",
       "<path clip-path=\"url(#clip830)\" d=\"M2176.65 279.693 Q2173.95 286.637 2171.38 288.755 Q2168.81 290.873 2164.5 290.873 L2159.4 290.873 L2159.4 285.526 L2163.15 285.526 Q2165.79 285.526 2167.25 284.276 Q2168.7 283.026 2170.47 278.373 L2171.62 275.457 L2155.89 237.193 L2162.66 237.193 L2174.81 267.609 L2186.97 237.193 L2193.74 237.193 L2176.65 279.693 Z\" fill=\"#000000\" fill-rule=\"evenodd\" fill-opacity=\"1\" /><path clip-path=\"url(#clip830)\" d=\"M2209.5 270.179 L2233.98 270.179 L2233.98 276.082 L2201.06 276.082 L2201.06 270.179 Q2205.06 266.047 2211.93 259.102 Q2218.84 252.123 2220.61 250.109 Q2223.98 246.325 2225.3 243.721 Q2226.65 241.082 2226.65 238.547 Q2226.65 234.415 2223.74 231.811 Q2220.86 229.207 2216.2 229.207 Q2212.9 229.207 2209.22 230.353 Q2205.58 231.498 2201.41 233.825 L2201.41 226.742 Q2205.65 225.04 2209.33 224.172 Q2213.01 223.304 2216.06 223.304 Q2224.12 223.304 2228.91 227.332 Q2233.7 231.36 2233.7 238.096 Q2233.7 241.29 2232.49 244.172 Q2231.31 247.019 2228.15 250.908 Q2227.28 251.915 2222.63 256.741 Q2217.97 261.533 2209.5 270.179 Z\" fill=\"#000000\" fill-rule=\"evenodd\" fill-opacity=\"1\" /></svg>\n"
      ]
     },
     "execution_count": 8,
     "metadata": {},
     "output_type": "execute_result"
    }
   ],
   "source": [
    "using Plots\n",
    "\n",
    "f(x) = exp(x) * cos(x) + 1\n",
    "plot([f, x -> 0], xlims=[-2.5, 5])"
   ]
  },
  {
   "cell_type": "markdown",
   "id": "53f643a4",
   "metadata": {
    "slideshow": {
     "slide_type": "slide"
    }
   },
   "source": [
    "# Numerical linear algebra"
   ]
  },
  {
   "cell_type": "markdown",
   "id": "c1e9f4c2",
   "metadata": {
    "cell_style": "split"
   },
   "source": [
    "## Finite algorithms for factorization\n",
    "* $QR = A$, such that $Q^T Q = I$ and $R$ is right-triangular.\n",
    "* $L U = A$, such that $L$ and $U$ are lower and upper triangular, respectively.\n",
    "\n",
    "## Infinite (iterative) algorithms\n",
    "\n",
    "* $X \\Lambda X^{-1} = A$ where $\\Lambda$ is diagonal.\n",
    "* $U \\Sigma V^T = A$, such that $U^T U = I$, $V^T V = I$, and $\\Sigma$ is diagonal with nonnegative entries.\n",
    "* Iterative solution of $Ax=b$ using Krylov basis $\\{b, Ab, A^2b, \\dotsc \\}$"
   ]
  },
  {
   "cell_type": "markdown",
   "id": "8b37a91a",
   "metadata": {
    "cell_style": "split"
   },
   "source": [
    "## Concepts\n",
    "* Accurate estimates of cost\n",
    "* Orthogonality, null spaces, projections\n",
    "* Geometry and modeling\n",
    "* Stable and backwards-stable algorithms\n",
    "* Conditioning\n",
    "* Develop a language in which to frame many concepts in the course"
   ]
  },
  {
   "cell_type": "markdown",
   "id": "8733c954",
   "metadata": {
    "slideshow": {
     "slide_type": "slide"
    }
   },
   "source": [
    "# Approximating functions from data"
   ]
  },
  {
   "cell_type": "markdown",
   "id": "32c2308d",
   "metadata": {
    "cell_style": "split"
   },
   "source": [
    "## Interpolation\n",
    "\n",
    "Given samples $(x_0, f(x_0)), (x_1, f(x_1)), \\dotsc$, determine an easily-computable function $g(x)$ that **exactly** fits these samples and behaves **sensibly** in between."
   ]
  },
  {
   "cell_type": "markdown",
   "id": "b4d7c50f",
   "metadata": {
    "cell_style": "split"
   },
   "source": [
    "## Regression\n",
    "\n",
    "Given **noisy** data $(x_0, y_0), (x_1, y_1), \\dotsc$, determine an easily-computable function $g(x)$ that **explains** these data."
   ]
  },
  {
   "cell_type": "markdown",
   "id": "47155e79",
   "metadata": {},
   "source": [
    "We will need to make subjective choices to specify a problem with a unique solution."
   ]
  },
  {
   "cell_type": "markdown",
   "id": "9dc52632",
   "metadata": {
    "slideshow": {
     "slide_type": "slide"
    }
   },
   "source": [
    "# Calculus: functions of functions"
   ]
  },
  {
   "cell_type": "markdown",
   "id": "52ddbd39",
   "metadata": {
    "cell_style": "split"
   },
   "source": [
    "## Differentiation\n",
    "\n",
    "Given a function $f(x)$ (as a computer program or callable function), define a new function\n",
    "\n",
    "$$g(x) \\approx f'(x). $$\n",
    "\n",
    "We can do this\n",
    "* Numerically (black box)\n",
    "* By-hand code transformation\n",
    "* Automatic code transformation"
   ]
  },
  {
   "cell_type": "markdown",
   "id": "86575335",
   "metadata": {
    "cell_style": "split"
   },
   "source": [
    "## Integration\n",
    "Given a function $f(x)$ (as a computer program or callable function), approximate the integral\n",
    "\n",
    "$$ \\int_a^b f(x) . $$"
   ]
  },
  {
   "cell_type": "markdown",
   "id": "585e42e5",
   "metadata": {
    "slideshow": {
     "slide_type": "slide"
    }
   },
   "source": [
    "# Numerical optimization\n",
    "\n",
    "Given a scalar function $f(x)$ (and perhaps its gradient $f'(x)$), determine\n",
    "$$ x_* = \\operatorname{argmin}_x f(x) . $$"
   ]
  },
  {
   "cell_type": "markdown",
   "id": "e74328db",
   "metadata": {
    "slideshow": {
     "slide_type": "slide"
    }
   },
   "source": [
    "# Differential equations\n",
    "\n",
    "Given a dynamical system\n",
    "$$ \\frac{\\partial u(t)}{\\partial t} = f(u(t)), $$\n",
    "and initial condition $u(0) = u_0$, estimate $u(t)$ for arbitrary $t$."
   ]
  },
  {
   "cell_type": "markdown",
   "id": "6d0376df",
   "metadata": {
    "slideshow": {
     "slide_type": "slide"
    }
   },
   "source": [
    "# Higher dimensions\n",
    "\n",
    "Many of these algorithms will generalize to functions of multiple variables.  Different algorithms may be needed for such \"high-dimensional\" problems."
   ]
  },
  {
   "cell_type": "markdown",
   "id": "a181eea5",
   "metadata": {
    "slideshow": {
     "slide_type": "slide"
    }
   },
   "source": [
    "# Computer Science = Runnable Abstraction Science"
   ]
  },
  {
   "cell_type": "markdown",
   "id": "b66498d2",
   "metadata": {
    "cell_style": "split"
   },
   "source": [
    "## In the \"grinder\"\n",
    "* Mathematical language and principles for each major class of method\n",
    "  * What is covered by theory\n",
    "  * When you're venturing off-trail\n",
    "  * Analytic tools to predict and debug\n",
    "* Realistic cost and exploitable structure\n",
    "  * Performance on modern hardware\n",
    "* Write/modify stand-alone code\n",
    "* Select and use (parallel) libraries"
   ]
  },
  {
   "cell_type": "markdown",
   "id": "ad132037",
   "metadata": {
    "cell_style": "split"
   },
   "source": [
    "## How can you trust the solution?\n",
    "* Verification: solving the problem right\n",
    "* Validation: solving the right problem\n",
    "\n",
    "## Abstractions/collaboration\n",
    "* Domain scientists, engineers\n",
    "* Optimizers, statisticians\n",
    "* Abstractions that reduce cognitive load\n",
    "* Metrics/visualization for decisions"
   ]
  },
  {
   "cell_type": "markdown",
   "id": "d910b1c2",
   "metadata": {
    "slideshow": {
     "slide_type": "slide"
    }
   },
   "source": [
    "# On programming languages"
   ]
  },
  {
   "cell_type": "markdown",
   "id": "1b6d3017",
   "metadata": {
    "cell_style": "split"
   },
   "source": [
    "## C\n",
    "Reliable and popular for libraries (PETSc, etc.). \"Simple\", unsafe, capable of encapsulation.\n",
    "\n",
    "## C++\n",
    "Popular with applications and some libraries. Powerful, but complicated and unsafe.\n",
    "\n",
    "## Fortran\n",
    "The OG of numerical computing. Good for \"array programming\", but encapsulation is hard. Unsafe depending on dialect."
   ]
  },
  {
   "cell_type": "markdown",
   "id": "19695d74",
   "metadata": {
    "cell_style": "split"
   },
   "source": [
    "## Julia\n",
    "For ground-up examples in class and in activities. Capable of high performance, expressive multiple dispatch, works well in a notebook. Error messages are not great.\n",
    "\n",
    "## Python\n",
    "Good access to JIT, though with sharp edges. Poor native performance, but good libraries to compiled code.\n",
    "\n",
    "## Rust\n",
    "New compiled language. Good performance, encapsulation, safety, static analysis. Poor libraries (so far)."
   ]
  },
  {
   "cell_type": "markdown",
   "id": "9e462589",
   "metadata": {},
   "source": [
    "You don't need to know any of these well and you can choose the language for your project."
   ]
  },
  {
   "cell_type": "markdown",
   "id": "51106d86",
   "metadata": {
    "slideshow": {
     "slide_type": "slide"
    }
   },
   "source": [
    "<img src=\"../img/Butler1988-Table1.png\" width=\"80%\" />"
   ]
  },
  {
   "cell_type": "markdown",
   "id": "a69f134c",
   "metadata": {
    "slideshow": {
     "slide_type": "slide"
    }
   },
   "source": [
    "# I won't grade and I won't waste your time"
   ]
  },
  {
   "cell_type": "markdown",
   "id": "1ad89faa",
   "metadata": {
    "cell_style": "center",
    "slideshow": {
     "slide_type": "fragment"
    }
   },
   "source": [
    "<div class=\"floatleft70\"\n",
    "\n",
    "  * I will provide feedback   \n",
    "  * I will be a mentor and guide navigating this field\n",
    "  * I will help you get what you want out of the class (with a dash of wholesome context)\n",
    "\n",
    "  > My mom said, \"basically, your professor is asking you to be an adult\". That was too flexible.\n",
    "\n",
    "  > In other classes, I didn’t feel like I could bounce back, but in this one I did.\n",
    "</div>\n",
    "\n",
    "<div class=\"floatright30\">\n",
    "<a href=\"https://www.wvupressonline.com/ungrading\"><img src=\"../img/Ungrading.jpg\" width=\"100%\" /></a>\n",
    "</div>"
   ]
  },
  {
   "cell_type": "markdown",
   "id": "2eec927d",
   "metadata": {
    "slideshow": {
     "slide_type": "slide"
    }
   },
   "source": [
    "# Formative vs Summative Assessment"
   ]
  },
  {
   "cell_type": "markdown",
   "id": "fdcfe852",
   "metadata": {
    "cell_style": "split"
   },
   "source": [
    "## Formative\n",
    "\n",
    "* Continual component of learning\n",
    "* Check our understanding\n",
    "* Guide next steps\n",
    "* Collaborative\n",
    "* Develops self-direction\n",
    "* Surrounded by formative assessment throughout our careers\n",
    "  * Learn to recognize these opportunities"
   ]
  },
  {
   "cell_type": "markdown",
   "id": "8a89456b",
   "metadata": {
    "cell_style": "split"
   },
   "source": [
    "## Summative\n",
    "\n",
    "* Instructor evaluation of student understanding after a unit\n",
    "* Driven by a need for \"fairness\" and \"objectivity\"\n",
    "  * Permeates culture and goals of a class\n",
    "  * Stifles creativity\n",
    "* Often adversarial\n",
    "* Goal is scoring/ranking, not learning itself\n",
    "* Feels \"cheap\" when encountered in careers"
   ]
  },
  {
   "cell_type": "markdown",
   "id": "333ffc2e",
   "metadata": {
    "slideshow": {
     "slide_type": "fragment"
    }
   },
   "source": [
    "This class centers formative assessment and the process by which you respond and reflect on it."
   ]
  },
  {
   "cell_type": "markdown",
   "id": "8b1167b9",
   "metadata": {
    "slideshow": {
     "slide_type": "slide"
    }
   },
   "source": [
    "# What about the letter grade?"
   ]
  },
  {
   "cell_type": "markdown",
   "id": "748b2379",
   "metadata": {
    "slideshow": {
     "slide_type": "fragment"
    }
   },
   "source": [
    "* Collect a portfolio of the work and insights you're most proud of\n",
    "  * You can follow your creativity\n",
    "* Journaling through the semester (setting goals, reflecting on formative assessments)\n",
    "* Individual meetings during the last week of the semester (mid-term preview)\n",
    "* We'll have a conversation and you'll propose a grade based on your portfolio\n",
    "  * I'll trust you."
   ]
  },
  {
   "cell_type": "markdown",
   "id": "6e66274a",
   "metadata": {
    "slideshow": {
     "slide_type": "fragment"
    }
   },
   "source": [
    "*I can nudge upward when students are too modest -- pretty common. In rare cases, I may adjust down.*"
   ]
  },
  {
   "cell_type": "markdown",
   "id": "123c7b1c",
   "metadata": {
    "slideshow": {
     "slide_type": "slide"
    }
   },
   "source": [
    "# What I need from you: Growth Mindset\n",
    "\n",
    "<img src=\"../img/Henry2019-Table1.png\" width=\"90%\" />"
   ]
  },
  {
   "cell_type": "markdown",
   "id": "47fe3ae4",
   "metadata": {
    "slideshow": {
     "slide_type": "slide"
    }
   },
   "source": [
    "# How will the semester look?"
   ]
  },
  {
   "cell_type": "markdown",
   "id": "583d6bfb",
   "metadata": {
    "cell_style": "split"
   },
   "source": [
    "## Lecture periods\n",
    "* Refresh, introduce, activity/group discussion, reflect\n",
    "* Pointers to further resources/activities\n",
    "\n",
    "## Readings and activities\n",
    "* Annotate assigned readings\n",
    "* (Short) coding, experiments, presentation of results\n",
    "* Use the math and programming tools of the field\n",
    "* Open-ended, go further occasionally\n",
    "\n",
    "## Learning plans\n",
    "* Write, track, and revise a personal learning plan.\n",
    "* Meet/chat approx weekly to check in with partner"
   ]
  },
  {
   "cell_type": "markdown",
   "id": "c3f5351b",
   "metadata": {
    "cell_style": "split"
   },
   "source": [
    "## Projects (second half of semester)\n",
    "* Dig into community software that implements or relies on numerical computation\n",
    "* Short presentation on how the community works\n",
    " * Key stakeholders\n",
    " * Strengths and weaknesses\n",
    "* Discuss and critique\n",
    "\n",
    "## Original study or contribution\n",
    "* Tutorial, documentation, performance study, comparison, new features, new application\n",
    "* Reflect in a short presentation"
   ]
  },
  {
   "cell_type": "markdown",
   "id": "fc3d6bd3",
   "metadata": {
    "slideshow": {
     "slide_type": "slide"
    }
   },
   "source": [
    "# Expectations"
   ]
  },
  {
   "cell_type": "markdown",
   "id": "36d6ec3a",
   "metadata": {
    "cell_style": "split"
   },
   "source": [
    "1. Enter with a growth mindset, practice adaptive coping, and nurture your intrinsic motivation\n",
    "2. Attend class (in-person or virtual) and participate in discussions\n",
    "3. Annotate assigned readings and respond thoughtfully to prompts\n",
    "4. Make an honest attempt on activities\n",
    "5. Interact with the class notebooks and read reference material\n",
    "6 Set goals and track your progress\n",
    "  * revise these goals as you learn more\n",
    "7. Meet/chat with your partner weekly for at least a few minutes\n",
    "  * share how lecture and activities are going\n",
    "  * share your goals and how you're progressing\n",
    "  * identify questions"
   ]
  },
  {
   "cell_type": "markdown",
   "id": "df6203f5",
   "metadata": {
    "cell_style": "split"
   },
   "source": [
    "8. Ask or answer at least one question per week\n",
    "  * ask a question that you don't know the answer to\n",
    "  * ask a question that you do know the answer to, but you think will be a good exercise/seed for discussion \n",
    "  * ask me during office hours, write up your best understanding\n",
    "  * make a meme relevant to the class\n",
    "  * raise a concern or suggestion that you and/or peers have\n",
    "  * contribute an answer or relevant discussion to any of the above\n",
    "9. Individual and group projects\n"
   ]
  },
  {
   "cell_type": "markdown",
   "id": "b5acb449",
   "metadata": {
    "slideshow": {
     "slide_type": "slide"
    }
   },
   "source": [
    "# Advice from last year\n",
    "\n",
    "\"What advice would you give to your former self at the start of the term?\""
   ]
  },
  {
   "cell_type": "markdown",
   "id": "e0da0194",
   "metadata": {
    "cell_style": "split",
    "slideshow": {
     "slide_type": ""
    }
   },
   "source": [
    "> Come in with “learn as much as you can” rather than “get good grade”.\n",
    "\n",
    "> Don’t get overwhelmed by “big dense equations”. Pay attention to initial concepts (stability, conditioning).\n",
    "\n",
    "> Be serious about linear algebra.\n",
    "\n",
    "> Take more initiative about how to manage time and structuring personal goals."
   ]
  },
  {
   "cell_type": "markdown",
   "id": "03fed074",
   "metadata": {
    "cell_style": "split"
   },
   "source": [
    "> Take your time and play with all the buttons, not “completionist”.\n",
    "\n",
    "> Calm down and really write the functions, visualize, and experiment. Biggest regret was not engaging with programming activities to build concepts from class independently.\n",
    "\n",
    "> Take things slow and don’t stress. Stay on top of topics, attend class, you’ll be okay."
   ]
  },
  {
   "cell_type": "markdown",
   "id": "a473030e",
   "metadata": {
    "slideshow": {
     "slide_type": "slide"
    }
   },
   "source": [
    "# Tools"
   ]
  },
  {
   "cell_type": "markdown",
   "id": "61105cbb",
   "metadata": {
    "cell_style": "split"
   },
   "source": [
    "## Git and GitHub\n",
    "\n",
    "* GitHub Classroom to manage repositories\n",
    "* Write using notebooks and markdown\n",
    "* Review using GitHub tools and nbgrader\n",
    "\n",
    "## Zulip\n",
    "\n",
    "* math- and code-aware team chat\n",
    "* live, informal\n",
    "* thread managemnet so a question in class can spin off into a deeper asynchronous conversation"
   ]
  },
  {
   "cell_type": "markdown",
   "id": "7850eace",
   "metadata": {
    "cell_style": "split"
   },
   "source": [
    "## Jupyter\n",
    "\n",
    "* RISE slides available on website\n",
    "* Activities with scaffolding\n",
    "* Nbgrader for writing feedback\n",
    "* Works with many languages; we'll mostly use Julia\n",
    "* Collaborative mode (new)\n",
    "\n",
    "## JupyterHub: [coding.csel.io](https://coding.csel.io)\n",
    "* Nothing to install, persistent storage\n",
    "* Select `Numerical Computation` tile"
   ]
  },
  {
   "cell_type": "markdown",
   "id": "400fc848",
   "metadata": {
    "cell_style": "center",
    "slideshow": {
     "slide_type": "slide"
    }
   },
   "source": [
    "# Poll: What is floating point arithmetic?"
   ]
  },
  {
   "cell_type": "markdown",
   "id": "73e46069",
   "metadata": {
    "cell_style": "split",
    "slideshow": {
     "slide_type": ""
    }
   },
   "source": [
    "1. fuzzy arithmetic\n",
    "2. exact arithmetic, correctly rounded\n",
    "3. the primary focus of numerical analysis"
   ]
  },
  {
   "cell_type": "code",
   "execution_count": 4,
   "id": "b3206a55",
   "metadata": {
    "cell_style": "split"
   },
   "outputs": [
    {
     "data": {
      "text/plain": [
       "0.30000000000000004"
      ]
     },
     "execution_count": 4,
     "metadata": {},
     "output_type": "execute_result"
    }
   ],
   "source": [
    "0.1 + 0.2\n"
   ]
  },
  {
   "cell_type": "code",
   "execution_count": 10,
   "id": "e2726136",
   "metadata": {
    "cell_style": "split",
    "slideshow": {
     "slide_type": "fragment"
    }
   },
   "outputs": [
    {
     "data": {
      "image/svg+xml": [
       "<?xml version=\"1.0\" encoding=\"utf-8\"?>\n",
       "<svg xmlns=\"http://www.w3.org/2000/svg\" xmlns:xlink=\"http://www.w3.org/1999/xlink\" width=\"600\" height=\"400\" viewBox=\"0 0 2400 1600\">\n",
       "<defs>\n",
       "  <clipPath id=\"clip910\">\n",
       "    <rect x=\"0\" y=\"0\" width=\"2400\" height=\"1600\"/>\n",
       "  </clipPath>\n",
       "</defs>\n",
       "<path clip-path=\"url(#clip910)\" d=\"\n",
       "M0 1600 L2400 1600 L2400 0 L0 0  Z\n",
       "  \" fill=\"#ffffff\" fill-rule=\"evenodd\" fill-opacity=\"1\"/>\n",
       "<defs>\n",
       "  <clipPath id=\"clip911\">\n",
       "    <rect x=\"480\" y=\"0\" width=\"1681\" height=\"1600\"/>\n",
       "  </clipPath>\n",
       "</defs>\n",
       "<path clip-path=\"url(#clip910)\" d=\"\n",
       "M366.73 1450.74 L2352.76 1450.74 L2352.76 47.2441 L366.73 47.2441  Z\n",
       "  \" fill=\"#ffffff\" fill-rule=\"evenodd\" fill-opacity=\"1\"/>\n",
       "<defs>\n",
       "  <clipPath id=\"clip912\">\n",
       "    <rect x=\"366\" y=\"47\" width=\"1987\" height=\"1404\"/>\n",
       "  </clipPath>\n",
       "</defs>\n",
       "<polyline clip-path=\"url(#clip912)\" style=\"stroke:#000000; stroke-linecap:round; stroke-linejoin:round; stroke-width:2; stroke-opacity:0.1; fill:none\" points=\"\n",
       "  366.73,1450 366.73,100 \n",
       "  \"/>\n",
       "<polyline clip-path=\"url(#clip912)\" style=\"stroke:#000000; stroke-linecap:round; stroke-linejoin:round; stroke-width:2; stroke-opacity:0.1; fill:none\" points=\"\n",
       "  863.237,1450 863.237,100 \n",
       "  \"/>\n",
       "<polyline clip-path=\"url(#clip912)\" style=\"stroke:#000000; stroke-linecap:round; stroke-linejoin:round; stroke-width:2; stroke-opacity:0.1; fill:none\" points=\"\n",
       "  1359.74,1450 1359.74,100 \n",
       "  \"/>\n",
       "<polyline clip-path=\"url(#clip912)\" style=\"stroke:#000000; stroke-linecap:round; stroke-linejoin:round; stroke-width:2; stroke-opacity:0.1; fill:none\" points=\"\n",
       "  1856.25,1450 1856.25,100 \n",
       "  \"/>\n",
       "<polyline clip-path=\"url(#clip912)\" style=\"stroke:#000000; stroke-linecap:round; stroke-linejoin:round; stroke-width:2; stroke-opacity:0.1; fill:none\" points=\"\n",
       "  2352.76,1450 2352.76,100 \n",
       "  \"/>\n",
       "<polyline clip-path=\"url(#clip910)\" style=\"stroke:#000000; stroke-linecap:round; stroke-linejoin:round; stroke-width:4; stroke-opacity:1; fill:none\" points=\"\n",
       "  366.73,1450 2352.76,1450 \n",
       "  \"/>\n",
       "<polyline clip-path=\"url(#clip910)\" style=\"stroke:#000000; stroke-linecap:round; stroke-linejoin:round; stroke-width:4; stroke-opacity:1; fill:none\" points=\"\n",
       "  366.73,1450 366.73,1450 \n",
       "  \"/>\n",
       "<polyline clip-path=\"url(#clip910)\" style=\"stroke:#000000; stroke-linecap:round; stroke-linejoin:round; stroke-width:4; stroke-opacity:1; fill:none\" points=\"\n",
       "  863.237,1450 863.237,1450 \n",
       "  \"/>\n",
       "<polyline clip-path=\"url(#clip910)\" style=\"stroke:#000000; stroke-linecap:round; stroke-linejoin:round; stroke-width:4; stroke-opacity:1; fill:none\" points=\"\n",
       "  1359.74,1450 1359.74,1450 \n",
       "  \"/>\n",
       "<polyline clip-path=\"url(#clip910)\" style=\"stroke:#000000; stroke-linecap:round; stroke-linejoin:round; stroke-width:4; stroke-opacity:1; fill:none\" points=\"\n",
       "  1856.25,1450 1856.25,1450 \n",
       "  \"/>\n",
       "<polyline clip-path=\"url(#clip910)\" style=\"stroke:#000000; stroke-linecap:round; stroke-linejoin:round; stroke-width:4; stroke-opacity:1; fill:none\" points=\"\n",
       "  2352.76,1450 2352.76,1450 \n",
       "  \"/>\n",
       "<path clip-path=\"url(#clip910)\" d=\"M156.109 1532.25 L200.622 1532.25 L200.622 1538.15 L156.109 1538.15 L156.109 1532.25 Z\" fill=\"#000000\" fill-rule=\"evenodd\" fill-opacity=\"1\" /><path clip-path=\"url(#clip910)\" d=\"M216.976 1551.59 L228.435 1551.59 L228.435 1512.04 L215.969 1514.54 L215.969 1508.15 L228.365 1505.65 L235.379 1505.65 L235.379 1551.59 L246.837 1551.59 L246.837 1557.49 L216.976 1557.49 L216.976 1551.59 Z\" fill=\"#000000\" fill-rule=\"evenodd\" fill-opacity=\"1\" /><path clip-path=\"url(#clip910)\" d=\"M261.004 1548.67 L268.33 1548.67 L268.33 1557.49 L261.004 1557.49 L261.004 1548.67 Z\" fill=\"#000000\" fill-rule=\"evenodd\" fill-opacity=\"1\" /><path clip-path=\"url(#clip910)\" d=\"M298.608 1510.27 Q293.191 1510.27 290.448 1515.62 Q287.74 1520.93 287.74 1531.62 Q287.74 1542.28 290.448 1547.63 Q293.191 1552.94 298.608 1552.94 Q304.059 1552.94 306.767 1547.63 Q309.51 1542.28 309.51 1531.62 Q309.51 1520.93 306.767 1515.62 Q304.059 1510.27 298.608 1510.27 M298.608 1504.71 Q307.323 1504.71 311.906 1511.62 Q316.524 1518.5 316.524 1531.62 Q316.524 1544.71 311.906 1551.62 Q307.323 1558.5 298.608 1558.5 Q289.893 1558.5 285.274 1551.62 Q280.691 1544.71 280.691 1531.62 Q280.691 1518.5 285.274 1511.62 Q289.893 1504.71 298.608 1504.71 Z\" fill=\"#000000\" fill-rule=\"evenodd\" fill-opacity=\"1\" /><path clip-path=\"url(#clip910)\" d=\"M371.107 1519.3 L355.239 1535.23 L371.107 1551.1 L366.975 1555.3 L351.038 1539.37 L335.101 1555.3 L331.003 1551.1 L346.837 1535.23 L331.003 1519.3 L335.101 1515.09 L351.038 1531.03 L366.975 1515.09 L371.107 1519.3 Z\" fill=\"#000000\" fill-rule=\"evenodd\" fill-opacity=\"1\" /><path clip-path=\"url(#clip910)\" d=\"M389.649 1551.59 L401.107 1551.59 L401.107 1512.04 L388.642 1514.54 L388.642 1508.15 L401.038 1505.65 L408.052 1505.65 L408.052 1551.59 L419.51 1551.59 L419.51 1557.49 L389.649 1557.49 L389.649 1551.59 Z\" fill=\"#000000\" fill-rule=\"evenodd\" fill-opacity=\"1\" /><path clip-path=\"url(#clip910)\" d=\"M448.676 1510.27 Q443.26 1510.27 440.517 1515.62 Q437.808 1520.93 437.808 1531.62 Q437.808 1542.28 440.517 1547.63 Q443.26 1552.94 448.676 1552.94 Q454.128 1552.94 456.836 1547.63 Q459.579 1542.28 459.579 1531.62 Q459.579 1520.93 456.836 1515.62 Q454.128 1510.27 448.676 1510.27 M448.676 1504.71 Q457.392 1504.71 461.975 1511.62 Q466.593 1518.5 466.593 1531.62 Q466.593 1544.71 461.975 1551.62 Q457.392 1558.5 448.676 1558.5 Q439.961 1558.5 435.343 1551.62 Q430.76 1544.71 430.76 1531.62 Q430.76 1518.5 435.343 1511.62 Q439.961 1504.71 448.676 1504.71 Z\" fill=\"#000000\" fill-rule=\"evenodd\" fill-opacity=\"1\" /><path clip-path=\"url(#clip910)\" d=\"M466.593 1495.86 L502.76 1495.86 L502.76 1500.66 L466.593 1500.66 L466.593 1495.86 Z\" fill=\"#000000\" fill-rule=\"evenodd\" fill-opacity=\"1\" /><path clip-path=\"url(#clip910)\" d=\"M516.048 1511.58 L525.358 1511.58 L525.358 1479.45 L515.23 1481.48 L515.23 1476.29 L525.301 1474.25 L531 1474.25 L531 1511.58 L540.31 1511.58 L540.31 1516.37 L516.048 1516.37 L516.048 1511.58 Z\" fill=\"#000000\" fill-rule=\"evenodd\" fill-opacity=\"1\" /><path clip-path=\"url(#clip910)\" d=\"M551.877 1474.25 L574.249 1474.25 L574.249 1479.05 L557.096 1479.05 L557.096 1489.38 Q558.337 1488.95 559.579 1488.76 Q560.82 1488.53 562.061 1488.53 Q569.114 1488.53 573.233 1492.39 Q577.352 1496.26 577.352 1502.86 Q577.352 1509.66 573.12 1513.44 Q568.888 1517.19 561.187 1517.19 Q558.535 1517.19 555.77 1516.74 Q553.033 1516.29 550.099 1515.39 L550.099 1509.66 Q552.639 1511.04 555.347 1511.72 Q558.055 1512.4 561.074 1512.4 Q565.954 1512.4 568.804 1509.83 Q571.653 1507.26 571.653 1502.86 Q571.653 1498.46 568.804 1495.89 Q565.954 1493.33 561.074 1493.33 Q558.789 1493.33 556.503 1493.83 Q554.247 1494.34 551.877 1495.41 L551.877 1474.25 Z\" fill=\"#000000\" fill-rule=\"evenodd\" fill-opacity=\"1\" /><path clip-path=\"url(#clip910)\" d=\"M651.91 1532.25 L696.423 1532.25 L696.423 1538.15 L651.91 1538.15 L651.91 1532.25 Z\" fill=\"#000000\" fill-rule=\"evenodd\" fill-opacity=\"1\" /><path clip-path=\"url(#clip910)\" d=\"M711.632 1505.65 L739.166 1505.65 L739.166 1511.55 L718.055 1511.55 L718.055 1524.26 Q719.583 1523.74 721.111 1523.5 Q722.638 1523.22 724.166 1523.22 Q732.847 1523.22 737.916 1527.98 Q742.986 1532.73 742.986 1540.86 Q742.986 1549.23 737.777 1553.88 Q732.569 1558.5 723.09 1558.5 Q719.826 1558.5 716.423 1557.94 Q713.055 1557.39 709.444 1556.27 L709.444 1549.23 Q712.569 1550.93 715.902 1551.76 Q719.236 1552.59 722.951 1552.59 Q728.958 1552.59 732.465 1549.43 Q735.972 1546.27 735.972 1540.86 Q735.972 1535.44 732.465 1532.28 Q728.958 1529.12 722.951 1529.12 Q720.138 1529.12 717.326 1529.75 Q714.548 1530.37 711.632 1531.69 L711.632 1505.65 Z\" fill=\"#000000\" fill-rule=\"evenodd\" fill-opacity=\"1\" /><path clip-path=\"url(#clip910)\" d=\"M756.805 1548.67 L764.131 1548.67 L764.131 1557.49 L756.805 1557.49 L756.805 1548.67 Z\" fill=\"#000000\" fill-rule=\"evenodd\" fill-opacity=\"1\" /><path clip-path=\"url(#clip910)\" d=\"M794.409 1510.27 Q788.992 1510.27 786.249 1515.62 Q783.541 1520.93 783.541 1531.62 Q783.541 1542.28 786.249 1547.63 Q788.992 1552.94 794.409 1552.94 Q799.86 1552.94 802.569 1547.63 Q805.312 1542.28 805.312 1531.62 Q805.312 1520.93 802.569 1515.62 Q799.86 1510.27 794.409 1510.27 M794.409 1504.71 Q803.124 1504.71 807.707 1511.62 Q812.325 1518.5 812.325 1531.62 Q812.325 1544.71 807.707 1551.62 Q803.124 1558.5 794.409 1558.5 Q785.694 1558.5 781.076 1551.62 Q776.492 1544.71 776.492 1531.62 Q776.492 1518.5 781.076 1511.62 Q785.694 1504.71 794.409 1504.71 Z\" fill=\"#000000\" fill-rule=\"evenodd\" fill-opacity=\"1\" /><path clip-path=\"url(#clip910)\" d=\"M866.908 1519.3 L851.041 1535.23 L866.908 1551.1 L862.777 1555.3 L846.839 1539.37 L830.902 1555.3 L826.805 1551.1 L842.638 1535.23 L826.805 1519.3 L830.902 1515.09 L846.839 1531.03 L862.777 1515.09 L866.908 1519.3 Z\" fill=\"#000000\" fill-rule=\"evenodd\" fill-opacity=\"1\" /><path clip-path=\"url(#clip910)\" d=\"M885.45 1551.59 L896.908 1551.59 L896.908 1512.04 L884.443 1514.54 L884.443 1508.15 L896.839 1505.65 L903.853 1505.65 L903.853 1551.59 L915.311 1551.59 L915.311 1557.49 L885.45 1557.49 L885.45 1551.59 Z\" fill=\"#000000\" fill-rule=\"evenodd\" fill-opacity=\"1\" /><path clip-path=\"url(#clip910)\" d=\"M944.478 1510.27 Q939.061 1510.27 936.318 1515.62 Q933.61 1520.93 933.61 1531.62 Q933.61 1542.28 936.318 1547.63 Q939.061 1552.94 944.478 1552.94 Q949.929 1552.94 952.637 1547.63 Q955.38 1542.28 955.38 1531.62 Q955.38 1520.93 952.637 1515.62 Q949.929 1510.27 944.478 1510.27 M944.478 1504.71 Q953.193 1504.71 957.776 1511.62 Q962.394 1518.5 962.394 1531.62 Q962.394 1544.71 957.776 1551.62 Q953.193 1558.5 944.478 1558.5 Q935.762 1558.5 931.144 1551.62 Q926.561 1544.71 926.561 1531.62 Q926.561 1518.5 931.144 1511.62 Q935.762 1504.71 944.478 1504.71 Z\" fill=\"#000000\" fill-rule=\"evenodd\" fill-opacity=\"1\" /><path clip-path=\"url(#clip910)\" d=\"M962.394 1495.86 L998.561 1495.86 L998.561 1500.66 L962.394 1500.66 L962.394 1495.86 Z\" fill=\"#000000\" fill-rule=\"evenodd\" fill-opacity=\"1\" /><path clip-path=\"url(#clip910)\" d=\"M1011.85 1511.58 L1021.16 1511.58 L1021.16 1479.45 L1011.03 1481.48 L1011.03 1476.29 L1021.1 1474.25 L1026.8 1474.25 L1026.8 1511.58 L1036.11 1511.58 L1036.11 1516.37 L1011.85 1516.37 L1011.85 1511.58 Z\" fill=\"#000000\" fill-rule=\"evenodd\" fill-opacity=\"1\" /><path clip-path=\"url(#clip910)\" d=\"M1060.51 1493.04 Q1056.68 1493.04 1054.42 1495.67 Q1052.19 1498.29 1052.19 1502.86 Q1052.19 1507.4 1054.42 1510.05 Q1056.68 1512.68 1060.51 1512.68 Q1064.35 1512.68 1066.58 1510.05 Q1068.84 1507.4 1068.84 1502.86 Q1068.84 1498.29 1066.58 1495.67 Q1064.35 1493.04 1060.51 1493.04 M1071.83 1475.19 L1071.83 1480.38 Q1069.68 1479.36 1067.48 1478.82 Q1065.31 1478.29 1063.17 1478.29 Q1057.52 1478.29 1054.53 1482.1 Q1051.57 1485.91 1051.15 1493.61 Q1052.81 1491.15 1055.32 1489.86 Q1057.83 1488.53 1060.85 1488.53 Q1067.2 1488.53 1070.87 1492.39 Q1074.56 1496.23 1074.56 1502.86 Q1074.56 1509.35 1070.73 1513.27 Q1066.89 1517.19 1060.51 1517.19 Q1053.21 1517.19 1049.34 1511.61 Q1045.48 1505.99 1045.48 1495.36 Q1045.48 1485.37 1050.22 1479.45 Q1054.96 1473.49 1062.94 1473.49 Q1065.08 1473.49 1067.26 1473.92 Q1069.46 1474.34 1071.83 1475.19 Z\" fill=\"#000000\" fill-rule=\"evenodd\" fill-opacity=\"1\" /><path clip-path=\"url(#clip910)\" d=\"M1359.74 1486.78 Q1354.33 1486.78 1351.58 1492.13 Q1348.88 1497.44 1348.88 1508.13 Q1348.88 1518.79 1351.58 1524.14 Q1354.33 1529.45 1359.74 1529.45 Q1365.19 1529.45 1367.9 1524.14 Q1370.65 1518.79 1370.65 1508.13 Q1370.65 1497.44 1367.9 1492.13 Q1365.19 1486.78 1359.74 1486.78 M1359.74 1481.22 Q1368.46 1481.22 1373.04 1488.13 Q1377.66 1495.01 1377.66 1508.13 Q1377.66 1521.22 1373.04 1528.13 Q1368.46 1535.01 1359.74 1535.01 Q1351.03 1535.01 1346.41 1528.13 Q1341.83 1521.22 1341.83 1508.13 Q1341.83 1495.01 1346.41 1488.13 Q1351.03 1481.22 1359.74 1481.22 Z\" fill=\"#000000\" fill-rule=\"evenodd\" fill-opacity=\"1\" /><path clip-path=\"url(#clip910)\" d=\"M1675.88 1505.65 L1703.41 1505.65 L1703.41 1511.55 L1682.3 1511.55 L1682.3 1524.26 Q1683.83 1523.74 1685.36 1523.5 Q1686.88 1523.22 1688.41 1523.22 Q1697.09 1523.22 1702.16 1527.98 Q1707.23 1532.73 1707.23 1540.86 Q1707.23 1549.23 1702.02 1553.88 Q1696.81 1558.5 1687.34 1558.5 Q1684.07 1558.5 1680.67 1557.94 Q1677.3 1557.39 1673.69 1556.27 L1673.69 1549.23 Q1676.81 1550.93 1680.15 1551.76 Q1683.48 1552.59 1687.2 1552.59 Q1693.2 1552.59 1696.71 1549.43 Q1700.22 1546.27 1700.22 1540.86 Q1700.22 1535.44 1696.71 1532.28 Q1693.2 1529.12 1687.2 1529.12 Q1684.38 1529.12 1681.57 1529.75 Q1678.79 1530.37 1675.88 1531.69 L1675.88 1505.65 Z\" fill=\"#000000\" fill-rule=\"evenodd\" fill-opacity=\"1\" /><path clip-path=\"url(#clip910)\" d=\"M1721.05 1548.67 L1728.38 1548.67 L1728.38 1557.49 L1721.05 1557.49 L1721.05 1548.67 Z\" fill=\"#000000\" fill-rule=\"evenodd\" fill-opacity=\"1\" /><path clip-path=\"url(#clip910)\" d=\"M1758.65 1510.27 Q1753.24 1510.27 1750.49 1515.62 Q1747.79 1520.93 1747.79 1531.62 Q1747.79 1542.28 1750.49 1547.63 Q1753.24 1552.94 1758.65 1552.94 Q1764.11 1552.94 1766.81 1547.63 Q1769.56 1542.28 1769.56 1531.62 Q1769.56 1520.93 1766.81 1515.62 Q1764.11 1510.27 1758.65 1510.27 M1758.65 1504.71 Q1767.37 1504.71 1771.95 1511.62 Q1776.57 1518.5 1776.57 1531.62 Q1776.57 1544.71 1771.95 1551.62 Q1767.37 1558.5 1758.65 1558.5 Q1749.94 1558.5 1745.32 1551.62 Q1740.74 1544.71 1740.74 1531.62 Q1740.74 1518.5 1745.32 1511.62 Q1749.94 1504.71 1758.65 1504.71 Z\" fill=\"#000000\" fill-rule=\"evenodd\" fill-opacity=\"1\" /><path clip-path=\"url(#clip910)\" d=\"M1831.15 1519.3 L1815.29 1535.23 L1831.15 1551.1 L1827.02 1555.3 L1811.08 1539.37 L1795.15 1555.3 L1791.05 1551.1 L1806.88 1535.23 L1791.05 1519.3 L1795.15 1515.09 L1811.08 1531.03 L1827.02 1515.09 L1831.15 1519.3 Z\" fill=\"#000000\" fill-rule=\"evenodd\" fill-opacity=\"1\" /><path clip-path=\"url(#clip910)\" d=\"M1849.7 1551.59 L1861.15 1551.59 L1861.15 1512.04 L1848.69 1514.54 L1848.69 1508.15 L1861.08 1505.65 L1868.1 1505.65 L1868.1 1551.59 L1879.56 1551.59 L1879.56 1557.49 L1849.7 1557.49 L1849.7 1551.59 Z\" fill=\"#000000\" fill-rule=\"evenodd\" fill-opacity=\"1\" /><path clip-path=\"url(#clip910)\" d=\"M1908.72 1510.27 Q1903.31 1510.27 1900.56 1515.62 Q1897.86 1520.93 1897.86 1531.62 Q1897.86 1542.28 1900.56 1547.63 Q1903.31 1552.94 1908.72 1552.94 Q1914.17 1552.94 1916.88 1547.63 Q1919.63 1542.28 1919.63 1531.62 Q1919.63 1520.93 1916.88 1515.62 Q1914.17 1510.27 1908.72 1510.27 M1908.72 1504.71 Q1917.44 1504.71 1922.02 1511.62 Q1926.64 1518.5 1926.64 1531.62 Q1926.64 1544.71 1922.02 1551.62 Q1917.44 1558.5 1908.72 1558.5 Q1900.01 1558.5 1895.39 1551.62 Q1890.81 1544.71 1890.81 1531.62 Q1890.81 1518.5 1895.39 1511.62 Q1900.01 1504.71 1908.72 1504.71 Z\" fill=\"#000000\" fill-rule=\"evenodd\" fill-opacity=\"1\" /><path clip-path=\"url(#clip910)\" d=\"M1926.64 1495.86 L1962.81 1495.86 L1962.81 1500.66 L1926.64 1500.66 L1926.64 1495.86 Z\" fill=\"#000000\" fill-rule=\"evenodd\" fill-opacity=\"1\" /><path clip-path=\"url(#clip910)\" d=\"M1976.09 1511.58 L1985.4 1511.58 L1985.4 1479.45 L1975.28 1481.48 L1975.28 1476.29 L1985.35 1474.25 L1991.05 1474.25 L1991.05 1511.58 L2000.36 1511.58 L2000.36 1516.37 L1976.09 1516.37 L1976.09 1511.58 Z\" fill=\"#000000\" fill-rule=\"evenodd\" fill-opacity=\"1\" /><path clip-path=\"url(#clip910)\" d=\"M2024.76 1493.04 Q2020.92 1493.04 2018.67 1495.67 Q2016.44 1498.29 2016.44 1502.86 Q2016.44 1507.4 2018.67 1510.05 Q2020.92 1512.68 2024.76 1512.68 Q2028.6 1512.68 2030.83 1510.05 Q2033.08 1507.4 2033.08 1502.86 Q2033.08 1498.29 2030.83 1495.67 Q2028.6 1493.04 2024.76 1493.04 M2036.07 1475.19 L2036.07 1480.38 Q2033.93 1479.36 2031.73 1478.82 Q2029.56 1478.29 2027.41 1478.29 Q2021.77 1478.29 2018.78 1482.1 Q2015.82 1485.91 2015.39 1493.61 Q2017.06 1491.15 2019.57 1489.86 Q2022.08 1488.53 2025.1 1488.53 Q2031.45 1488.53 2035.11 1492.39 Q2038.81 1496.23 2038.81 1502.86 Q2038.81 1509.35 2034.97 1513.27 Q2031.14 1517.19 2024.76 1517.19 Q2017.45 1517.19 2013.59 1511.61 Q2009.72 1505.99 2009.72 1495.36 Q2009.72 1485.37 2014.46 1479.45 Q2019.2 1473.49 2027.19 1473.49 Q2029.33 1473.49 2031.5 1473.92 Q2033.7 1474.34 2036.07 1475.19 Z\" fill=\"#000000\" fill-rule=\"evenodd\" fill-opacity=\"1\" /><path clip-path=\"url(#clip910)\" d=\"M2173.07 1551.59 L2184.53 1551.59 L2184.53 1512.04 L2172.06 1514.54 L2172.06 1508.15 L2184.46 1505.65 L2191.47 1505.65 L2191.47 1551.59 L2202.93 1551.59 L2202.93 1557.49 L2173.07 1557.49 L2173.07 1551.59 Z\" fill=\"#000000\" fill-rule=\"evenodd\" fill-opacity=\"1\" /><path clip-path=\"url(#clip910)\" d=\"M2217.1 1548.67 L2224.43 1548.67 L2224.43 1557.49 L2217.1 1557.49 L2217.1 1548.67 Z\" fill=\"#000000\" fill-rule=\"evenodd\" fill-opacity=\"1\" /><path clip-path=\"url(#clip910)\" d=\"M2254.7 1510.27 Q2249.29 1510.27 2246.54 1515.62 Q2243.84 1520.93 2243.84 1531.62 Q2243.84 1542.28 2246.54 1547.63 Q2249.29 1552.94 2254.7 1552.94 Q2260.15 1552.94 2262.86 1547.63 Q2265.61 1542.28 2265.61 1531.62 Q2265.61 1520.93 2262.86 1515.62 Q2260.15 1510.27 2254.7 1510.27 M2254.7 1504.71 Q2263.42 1504.71 2268 1511.62 Q2272.62 1518.5 2272.62 1531.62 Q2272.62 1544.71 2268 1551.62 Q2263.42 1558.5 2254.7 1558.5 Q2245.99 1558.5 2241.37 1551.62 Q2236.79 1544.71 2236.79 1531.62 Q2236.79 1518.5 2241.37 1511.62 Q2245.99 1504.71 2254.7 1504.71 Z\" fill=\"#000000\" fill-rule=\"evenodd\" fill-opacity=\"1\" /><path clip-path=\"url(#clip910)\" d=\"M2327.2 1519.3 L2311.33 1535.23 L2327.2 1551.1 L2323.07 1555.3 L2307.13 1539.37 L2291.2 1555.3 L2287.1 1551.1 L2302.93 1535.23 L2287.1 1519.3 L2291.2 1515.09 L2307.13 1531.03 L2323.07 1515.09 L2327.2 1519.3 Z\" fill=\"#000000\" fill-rule=\"evenodd\" fill-opacity=\"1\" /><path clip-path=\"url(#clip910)\" d=\"M2345.74 1551.59 L2357.2 1551.59 L2357.2 1512.04 L2344.74 1514.54 L2344.74 1508.15 L2357.13 1505.65 L2364.15 1505.65 L2364.15 1551.59 L2375.61 1551.59 L2375.61 1557.49 L2345.74 1557.49 L2345.74 1551.59 Z\" fill=\"#000000\" fill-rule=\"evenodd\" fill-opacity=\"1\" /><path clip-path=\"url(#clip910)\" d=\"M2404.77 1510.27 Q2399.36 1510.27 2396.61 1515.62 Q2393.9 1520.93 2393.9 1531.62 Q2393.9 1542.28 2396.61 1547.63 Q2399.36 1552.94 2404.77 1552.94 Q2410.22 1552.94 2412.93 1547.63 Q2415.67 1542.28 2415.67 1531.62 Q2415.67 1520.93 2412.93 1515.62 Q2410.22 1510.27 2404.77 1510.27 M2404.77 1504.71 Q2413.49 1504.71 2418.07 1511.62 Q2422.69 1518.5 2422.69 1531.62 Q2422.69 1544.71 2418.07 1551.62 Q2413.49 1558.5 2404.77 1558.5 Q2396.06 1558.5 2391.44 1551.62 Q2386.86 1544.71 2386.86 1531.62 Q2386.86 1518.5 2391.44 1511.62 Q2396.06 1504.71 2404.77 1504.71 Z\" fill=\"#000000\" fill-rule=\"evenodd\" fill-opacity=\"1\" /><path clip-path=\"url(#clip910)\" d=\"M2422.69 1495.86 L2458.86 1495.86 L2458.86 1500.66 L2422.69 1500.66 L2422.69 1495.86 Z\" fill=\"#000000\" fill-rule=\"evenodd\" fill-opacity=\"1\" /><path clip-path=\"url(#clip910)\" d=\"M2472.14 1511.58 L2481.45 1511.58 L2481.45 1479.45 L2471.33 1481.48 L2471.33 1476.29 L2481.4 1474.25 L2487.1 1474.25 L2487.1 1511.58 L2496.41 1511.58 L2496.41 1516.37 L2472.14 1516.37 L2472.14 1511.58 Z\" fill=\"#000000\" fill-rule=\"evenodd\" fill-opacity=\"1\" /><path clip-path=\"url(#clip910)\" d=\"M2507.97 1474.25 L2530.34 1474.25 L2530.34 1479.05 L2513.19 1479.05 L2513.19 1489.38 Q2514.43 1488.95 2515.67 1488.76 Q2516.92 1488.53 2518.16 1488.53 Q2525.21 1488.53 2529.33 1492.39 Q2533.45 1496.26 2533.45 1502.86 Q2533.45 1509.66 2529.22 1513.44 Q2524.98 1517.19 2517.28 1517.19 Q2514.63 1517.19 2511.87 1516.74 Q2509.13 1516.29 2506.19 1515.39 L2506.19 1509.66 Q2508.73 1511.04 2511.44 1511.72 Q2514.15 1512.4 2517.17 1512.4 Q2522.05 1512.4 2524.9 1509.83 Q2527.75 1507.26 2527.75 1502.86 Q2527.75 1498.46 2524.9 1495.89 Q2522.05 1493.33 2517.17 1493.33 Q2514.88 1493.33 2512.6 1493.83 Q2510.34 1494.34 2507.97 1495.41 L2507.97 1474.25 Z\" fill=\"#000000\" fill-rule=\"evenodd\" fill-opacity=\"1\" /><polyline clip-path=\"url(#clip912)\" style=\"stroke:#000000; stroke-linecap:round; stroke-linejoin:round; stroke-width:2; stroke-opacity:0.1; fill:none\" points=\"\n",
       "  366.73,1300 2352.76,1300 \n",
       "  \"/>\n",
       "<polyline clip-path=\"url(#clip912)\" style=\"stroke:#000000; stroke-linecap:round; stroke-linejoin:round; stroke-width:2; stroke-opacity:0.1; fill:none\" points=\"\n",
       "  366.73,1075 2352.76,1075 \n",
       "  \"/>\n",
       "<polyline clip-path=\"url(#clip912)\" style=\"stroke:#000000; stroke-linecap:round; stroke-linejoin:round; stroke-width:2; stroke-opacity:0.1; fill:none\" points=\"\n",
       "  366.73,775 2352.76,775 \n",
       "  \"/>\n",
       "<polyline clip-path=\"url(#clip912)\" style=\"stroke:#000000; stroke-linecap:round; stroke-linejoin:round; stroke-width:2; stroke-opacity:0.1; fill:none\" points=\"\n",
       "  366.73,325 2352.76,325 \n",
       "  \"/>\n",
       "<polyline clip-path=\"url(#clip912)\" style=\"stroke:#000000; stroke-linecap:round; stroke-linejoin:round; stroke-width:2; stroke-opacity:0.1; fill:none\" points=\"\n",
       "  366.73,100 2352.76,100 \n",
       "  \"/>\n",
       "<polyline clip-path=\"url(#clip910)\" style=\"stroke:#000000; stroke-linecap:round; stroke-linejoin:round; stroke-width:4; stroke-opacity:1; fill:none\" points=\"\n",
       "  366.73,1450 366.73,100 \n",
       "  \"/>\n",
       "<polyline clip-path=\"url(#clip910)\" style=\"stroke:#000000; stroke-linecap:round; stroke-linejoin:round; stroke-width:4; stroke-opacity:1; fill:none\" points=\"\n",
       "  366.73,1300 385.628,1300 \n",
       "  \"/>\n",
       "<polyline clip-path=\"url(#clip910)\" style=\"stroke:#000000; stroke-linecap:round; stroke-linejoin:round; stroke-width:4; stroke-opacity:1; fill:none\" points=\"\n",
       "  366.73,1075 385.628,1075 \n",
       "  \"/>\n",
       "<polyline clip-path=\"url(#clip910)\" style=\"stroke:#000000; stroke-linecap:round; stroke-linejoin:round; stroke-width:4; stroke-opacity:1; fill:none\" points=\"\n",
       "  366.73,775 385.628,775 \n",
       "  \"/>\n",
       "<polyline clip-path=\"url(#clip910)\" style=\"stroke:#000000; stroke-linecap:round; stroke-linejoin:round; stroke-width:4; stroke-opacity:1; fill:none\" points=\"\n",
       "  366.73,325 385.628,325 \n",
       "  \"/>\n",
       "<polyline clip-path=\"url(#clip910)\" style=\"stroke:#000000; stroke-linecap:round; stroke-linejoin:round; stroke-width:4; stroke-opacity:1; fill:none\" points=\"\n",
       "  366.73,100 385.628,100 \n",
       "  \"/>\n",
       "<path clip-path=\"url(#clip910)\" d=\"M51.9991 1329.69 L63.4573 1329.69 L63.4573 1290.14 L50.9921 1292.64 L50.9921 1286.25 L63.3879 1283.75 L70.4017 1283.75 L70.4017 1329.69 L81.86 1329.69 L81.86 1335.59 L51.9991 1335.59 L51.9991 1329.69 Z\" fill=\"#000000\" fill-rule=\"evenodd\" fill-opacity=\"1\" /><path clip-path=\"url(#clip910)\" d=\"M96.0266 1326.77 L103.353 1326.77 L103.353 1335.59 L96.0266 1335.59 L96.0266 1326.77 Z\" fill=\"#000000\" fill-rule=\"evenodd\" fill-opacity=\"1\" /><path clip-path=\"url(#clip910)\" d=\"M133.631 1288.37 Q128.214 1288.37 125.471 1293.72 Q122.763 1299.03 122.763 1309.72 Q122.763 1320.38 125.471 1325.73 Q128.214 1331.04 133.631 1331.04 Q139.082 1331.04 141.79 1325.73 Q144.533 1320.38 144.533 1309.72 Q144.533 1299.03 141.79 1293.72 Q139.082 1288.37 133.631 1288.37 M133.631 1282.81 Q142.346 1282.81 146.929 1289.72 Q151.547 1296.6 151.547 1309.72 Q151.547 1322.81 146.929 1329.72 Q142.346 1336.6 133.631 1336.6 Q124.915 1336.6 120.297 1329.72 Q115.714 1322.81 115.714 1309.72 Q115.714 1296.6 120.297 1289.72 Q124.915 1282.81 133.631 1282.81 Z\" fill=\"#000000\" fill-rule=\"evenodd\" fill-opacity=\"1\" /><path clip-path=\"url(#clip910)\" d=\"M206.13 1297.4 L190.262 1313.33 L206.13 1329.2 L201.998 1333.4 L186.061 1317.47 L170.123 1333.4 L166.026 1329.2 L181.859 1313.33 L166.026 1297.4 L170.123 1293.2 L186.061 1309.13 L201.998 1293.2 L206.13 1297.4 Z\" fill=\"#000000\" fill-rule=\"evenodd\" fill-opacity=\"1\" /><path clip-path=\"url(#clip910)\" d=\"M224.672 1329.69 L236.13 1329.69 L236.13 1290.14 L223.665 1292.64 L223.665 1286.25 L236.061 1283.75 L243.074 1283.75 L243.074 1329.69 L254.533 1329.69 L254.533 1335.59 L224.672 1335.59 L224.672 1329.69 Z\" fill=\"#000000\" fill-rule=\"evenodd\" fill-opacity=\"1\" /><path clip-path=\"url(#clip910)\" d=\"M283.699 1288.37 Q278.283 1288.37 275.54 1293.72 Q272.831 1299.03 272.831 1309.72 Q272.831 1320.38 275.54 1325.73 Q278.283 1331.04 283.699 1331.04 Q289.151 1331.04 291.859 1325.73 Q294.602 1320.38 294.602 1309.72 Q294.602 1299.03 291.859 1293.72 Q289.151 1288.37 283.699 1288.37 M283.699 1282.81 Q292.414 1282.81 296.998 1289.72 Q301.616 1296.6 301.616 1309.72 Q301.616 1322.81 296.998 1329.72 Q292.414 1336.6 283.699 1336.6 Q274.984 1336.6 270.366 1329.72 Q265.783 1322.81 265.783 1309.72 Q265.783 1296.6 270.366 1289.72 Q274.984 1282.81 283.699 1282.81 Z\" fill=\"#000000\" fill-rule=\"evenodd\" fill-opacity=\"1\" /><path clip-path=\"url(#clip910)\" d=\"M316.173 1256.11 Q311.772 1256.11 309.543 1260.45 Q307.343 1264.77 307.343 1273.46 Q307.343 1282.12 309.543 1286.46 Q311.772 1290.78 316.173 1290.78 Q320.602 1290.78 322.803 1286.46 Q325.031 1282.12 325.031 1273.46 Q325.031 1264.77 322.803 1260.45 Q320.602 1256.11 316.173 1256.11 M316.173 1251.59 Q323.254 1251.59 326.978 1257.21 Q330.73 1262.79 330.73 1273.46 Q330.73 1284.09 326.978 1289.71 Q323.254 1295.29 316.173 1295.29 Q309.092 1295.29 305.34 1289.71 Q301.616 1284.09 301.616 1273.46 Q301.616 1262.79 305.34 1257.21 Q309.092 1251.59 316.173 1251.59 Z\" fill=\"#000000\" fill-rule=\"evenodd\" fill-opacity=\"1\" /><path clip-path=\"url(#clip910)\" d=\"M51.9991 1104.69 L63.4573 1104.69 L63.4573 1065.14 L50.9921 1067.64 L50.9921 1061.25 L63.3879 1058.75 L70.4017 1058.75 L70.4017 1104.69 L81.86 1104.69 L81.86 1110.59 L51.9991 1110.59 L51.9991 1104.69 Z\" fill=\"#000000\" fill-rule=\"evenodd\" fill-opacity=\"1\" /><path clip-path=\"url(#clip910)\" d=\"M96.0266 1101.77 L103.353 1101.77 L103.353 1110.59 L96.0266 1110.59 L96.0266 1101.77 Z\" fill=\"#000000\" fill-rule=\"evenodd\" fill-opacity=\"1\" /><path clip-path=\"url(#clip910)\" d=\"M133.631 1063.37 Q128.214 1063.37 125.471 1068.72 Q122.763 1074.03 122.763 1084.72 Q122.763 1095.38 125.471 1100.73 Q128.214 1106.04 133.631 1106.04 Q139.082 1106.04 141.79 1100.73 Q144.533 1095.38 144.533 1084.72 Q144.533 1074.03 141.79 1068.72 Q139.082 1063.37 133.631 1063.37 M133.631 1057.81 Q142.346 1057.81 146.929 1064.72 Q151.547 1071.6 151.547 1084.72 Q151.547 1097.81 146.929 1104.72 Q142.346 1111.6 133.631 1111.6 Q124.915 1111.6 120.297 1104.72 Q115.714 1097.81 115.714 1084.72 Q115.714 1071.6 120.297 1064.72 Q124.915 1057.81 133.631 1057.81 Z\" fill=\"#000000\" fill-rule=\"evenodd\" fill-opacity=\"1\" /><path clip-path=\"url(#clip910)\" d=\"M206.13 1072.4 L190.262 1088.33 L206.13 1104.2 L201.998 1108.4 L186.061 1092.47 L170.123 1108.4 L166.026 1104.2 L181.859 1088.33 L166.026 1072.4 L170.123 1068.2 L186.061 1084.13 L201.998 1068.2 L206.13 1072.4 Z\" fill=\"#000000\" fill-rule=\"evenodd\" fill-opacity=\"1\" /><path clip-path=\"url(#clip910)\" d=\"M224.672 1104.69 L236.13 1104.69 L236.13 1065.14 L223.665 1067.64 L223.665 1061.25 L236.061 1058.75 L243.074 1058.75 L243.074 1104.69 L254.533 1104.69 L254.533 1110.59 L224.672 1110.59 L224.672 1104.69 Z\" fill=\"#000000\" fill-rule=\"evenodd\" fill-opacity=\"1\" /><path clip-path=\"url(#clip910)\" d=\"M283.699 1063.37 Q278.283 1063.37 275.54 1068.72 Q272.831 1074.03 272.831 1084.72 Q272.831 1095.38 275.54 1100.73 Q278.283 1106.04 283.699 1106.04 Q289.151 1106.04 291.859 1100.73 Q294.602 1095.38 294.602 1084.72 Q294.602 1074.03 291.859 1068.72 Q289.151 1063.37 283.699 1063.37 M283.699 1057.81 Q292.414 1057.81 296.998 1064.72 Q301.616 1071.6 301.616 1084.72 Q301.616 1097.81 296.998 1104.72 Q292.414 1111.6 283.699 1111.6 Q274.984 1111.6 270.366 1104.72 Q265.783 1097.81 265.783 1084.72 Q265.783 1071.6 270.366 1064.72 Q274.984 1057.81 283.699 1057.81 Z\" fill=\"#000000\" fill-rule=\"evenodd\" fill-opacity=\"1\" /><path clip-path=\"url(#clip910)\" d=\"M316.173 1031.11 Q311.772 1031.11 309.543 1035.45 Q307.343 1039.77 307.343 1048.46 Q307.343 1057.12 309.543 1061.46 Q311.772 1065.78 316.173 1065.78 Q320.602 1065.78 322.803 1061.46 Q325.031 1057.12 325.031 1048.46 Q325.031 1039.77 322.803 1035.45 Q320.602 1031.11 316.173 1031.11 M316.173 1026.59 Q323.254 1026.59 326.978 1032.21 Q330.73 1037.79 330.73 1048.46 Q330.73 1059.09 326.978 1064.71 Q323.254 1070.29 316.173 1070.29 Q309.092 1070.29 305.34 1064.71 Q301.616 1059.09 301.616 1048.46 Q301.616 1037.79 305.34 1032.21 Q309.092 1026.59 316.173 1026.59 Z\" fill=\"#000000\" fill-rule=\"evenodd\" fill-opacity=\"1\" /><path clip-path=\"url(#clip910)\" d=\"M51.9991 804.689 L63.4573 804.689 L63.4573 765.14 L50.9921 767.64 L50.9921 761.251 L63.3879 758.751 L70.4017 758.751 L70.4017 804.689 L81.86 804.689 L81.86 810.591 L51.9991 810.591 L51.9991 804.689 Z\" fill=\"#000000\" fill-rule=\"evenodd\" fill-opacity=\"1\" /><path clip-path=\"url(#clip910)\" d=\"M96.0266 801.772 L103.353 801.772 L103.353 810.591 L96.0266 810.591 L96.0266 801.772 Z\" fill=\"#000000\" fill-rule=\"evenodd\" fill-opacity=\"1\" /><path clip-path=\"url(#clip910)\" d=\"M133.631 763.369 Q128.214 763.369 125.471 768.717 Q122.763 774.029 122.763 784.723 Q122.763 795.383 125.471 800.73 Q128.214 806.043 133.631 806.043 Q139.082 806.043 141.79 800.73 Q144.533 795.383 144.533 784.723 Q144.533 774.029 141.79 768.717 Q139.082 763.369 133.631 763.369 M133.631 757.814 Q142.346 757.814 146.929 764.724 Q151.547 771.599 151.547 784.723 Q151.547 797.814 146.929 804.723 Q142.346 811.598 133.631 811.598 Q124.915 811.598 120.297 804.723 Q115.714 797.814 115.714 784.723 Q115.714 771.599 120.297 764.724 Q124.915 757.814 133.631 757.814 Z\" fill=\"#000000\" fill-rule=\"evenodd\" fill-opacity=\"1\" /><path clip-path=\"url(#clip910)\" d=\"M206.13 772.397 L190.262 788.335 L206.13 804.203 L201.998 808.404 L186.061 792.466 L170.123 808.404 L166.026 804.203 L181.859 788.335 L166.026 772.397 L170.123 768.196 L186.061 784.133 L201.998 768.196 L206.13 772.397 Z\" fill=\"#000000\" fill-rule=\"evenodd\" fill-opacity=\"1\" /><path clip-path=\"url(#clip910)\" d=\"M224.672 804.689 L236.13 804.689 L236.13 765.14 L223.665 767.64 L223.665 761.251 L236.061 758.751 L243.074 758.751 L243.074 804.689 L254.533 804.689 L254.533 810.591 L224.672 810.591 L224.672 804.689 Z\" fill=\"#000000\" fill-rule=\"evenodd\" fill-opacity=\"1\" /><path clip-path=\"url(#clip910)\" d=\"M283.699 763.369 Q278.283 763.369 275.54 768.717 Q272.831 774.029 272.831 784.723 Q272.831 795.383 275.54 800.73 Q278.283 806.043 283.699 806.043 Q289.151 806.043 291.859 800.73 Q294.602 795.383 294.602 784.723 Q294.602 774.029 291.859 768.717 Q289.151 763.369 283.699 763.369 M283.699 757.814 Q292.414 757.814 296.998 764.724 Q301.616 771.599 301.616 784.723 Q301.616 797.814 296.998 804.723 Q292.414 811.598 283.699 811.598 Q274.984 811.598 270.366 804.723 Q265.783 797.814 265.783 784.723 Q265.783 771.599 270.366 764.724 Q274.984 757.814 283.699 757.814 Z\" fill=\"#000000\" fill-rule=\"evenodd\" fill-opacity=\"1\" /><path clip-path=\"url(#clip910)\" d=\"M316.173 731.108 Q311.772 731.108 309.543 735.453 Q307.343 739.769 307.343 748.458 Q307.343 757.119 309.543 761.464 Q311.772 765.78 316.173 765.78 Q320.602 765.78 322.803 761.464 Q325.031 757.119 325.031 748.458 Q325.031 739.769 322.803 735.453 Q320.602 731.108 316.173 731.108 M316.173 726.594 Q323.254 726.594 326.978 732.208 Q330.73 737.794 330.73 748.458 Q330.73 759.094 326.978 764.708 Q323.254 770.294 316.173 770.294 Q309.092 770.294 305.34 764.708 Q301.616 759.094 301.616 748.458 Q301.616 737.794 305.34 732.208 Q309.092 726.594 316.173 726.594 Z\" fill=\"#000000\" fill-rule=\"evenodd\" fill-opacity=\"1\" /><path clip-path=\"url(#clip910)\" d=\"M51.9991 354.689 L63.4573 354.689 L63.4573 315.14 L50.9921 317.64 L50.9921 311.251 L63.3879 308.751 L70.4017 308.751 L70.4017 354.689 L81.86 354.689 L81.86 360.591 L51.9991 360.591 L51.9991 354.689 Z\" fill=\"#000000\" fill-rule=\"evenodd\" fill-opacity=\"1\" /><path clip-path=\"url(#clip910)\" d=\"M96.0266 351.772 L103.353 351.772 L103.353 360.591 L96.0266 360.591 L96.0266 351.772 Z\" fill=\"#000000\" fill-rule=\"evenodd\" fill-opacity=\"1\" /><path clip-path=\"url(#clip910)\" d=\"M133.631 313.369 Q128.214 313.369 125.471 318.717 Q122.763 324.029 122.763 334.723 Q122.763 345.383 125.471 350.73 Q128.214 356.043 133.631 356.043 Q139.082 356.043 141.79 350.73 Q144.533 345.383 144.533 334.723 Q144.533 324.029 141.79 318.717 Q139.082 313.369 133.631 313.369 M133.631 307.814 Q142.346 307.814 146.929 314.724 Q151.547 321.599 151.547 334.723 Q151.547 347.814 146.929 354.723 Q142.346 361.598 133.631 361.598 Q124.915 361.598 120.297 354.723 Q115.714 347.814 115.714 334.723 Q115.714 321.599 120.297 314.724 Q124.915 307.814 133.631 307.814 Z\" fill=\"#000000\" fill-rule=\"evenodd\" fill-opacity=\"1\" /><path clip-path=\"url(#clip910)\" d=\"M206.13 322.397 L190.262 338.335 L206.13 354.203 L201.998 358.404 L186.061 342.466 L170.123 358.404 L166.026 354.203 L181.859 338.335 L166.026 322.397 L170.123 318.196 L186.061 334.133 L201.998 318.196 L206.13 322.397 Z\" fill=\"#000000\" fill-rule=\"evenodd\" fill-opacity=\"1\" /><path clip-path=\"url(#clip910)\" d=\"M224.672 354.689 L236.13 354.689 L236.13 315.14 L223.665 317.64 L223.665 311.251 L236.061 308.751 L243.074 308.751 L243.074 354.689 L254.533 354.689 L254.533 360.591 L224.672 360.591 L224.672 354.689 Z\" fill=\"#000000\" fill-rule=\"evenodd\" fill-opacity=\"1\" /><path clip-path=\"url(#clip910)\" d=\"M283.699 313.369 Q278.283 313.369 275.54 318.717 Q272.831 324.029 272.831 334.723 Q272.831 345.383 275.54 350.73 Q278.283 356.043 283.699 356.043 Q289.151 356.043 291.859 350.73 Q294.602 345.383 294.602 334.723 Q294.602 324.029 291.859 318.717 Q289.151 313.369 283.699 313.369 M283.699 307.814 Q292.414 307.814 296.998 314.724 Q301.616 321.599 301.616 334.723 Q301.616 347.814 296.998 354.723 Q292.414 361.598 283.699 361.598 Q274.984 361.598 270.366 354.723 Q265.783 347.814 265.783 334.723 Q265.783 321.599 270.366 314.724 Q274.984 307.814 283.699 307.814 Z\" fill=\"#000000\" fill-rule=\"evenodd\" fill-opacity=\"1\" /><path clip-path=\"url(#clip910)\" d=\"M316.173 281.108 Q311.772 281.108 309.543 285.453 Q307.343 289.769 307.343 298.458 Q307.343 307.119 309.543 311.464 Q311.772 315.78 316.173 315.78 Q320.602 315.78 322.803 311.464 Q325.031 307.119 325.031 298.458 Q325.031 289.769 322.803 285.453 Q320.602 281.108 316.173 281.108 M316.173 276.594 Q323.254 276.594 326.978 282.208 Q330.73 287.794 330.73 298.458 Q330.73 309.094 326.978 314.708 Q323.254 320.294 316.173 320.294 Q309.092 320.294 305.34 314.708 Q301.616 309.094 301.616 298.458 Q301.616 287.794 305.34 282.208 Q309.092 276.594 316.173 276.594 Z\" fill=\"#000000\" fill-rule=\"evenodd\" fill-opacity=\"1\" /><path clip-path=\"url(#clip910)\" d=\"M51.9991 129.689 L63.4573 129.689 L63.4573 90.1403 L50.9921 92.6402 L50.9921 86.2514 L63.3879 83.7514 L70.4017 83.7514 L70.4017 129.689 L81.86 129.689 L81.86 135.591 L51.9991 135.591 L51.9991 129.689 Z\" fill=\"#000000\" fill-rule=\"evenodd\" fill-opacity=\"1\" /><path clip-path=\"url(#clip910)\" d=\"M96.0266 126.772 L103.353 126.772 L103.353 135.591 L96.0266 135.591 L96.0266 126.772 Z\" fill=\"#000000\" fill-rule=\"evenodd\" fill-opacity=\"1\" /><path clip-path=\"url(#clip910)\" d=\"M133.631 88.3694 Q128.214 88.3694 125.471 93.7166 Q122.763 99.0291 122.763 109.723 Q122.763 120.383 125.471 125.73 Q128.214 131.043 133.631 131.043 Q139.082 131.043 141.79 125.73 Q144.533 120.383 144.533 109.723 Q144.533 99.0291 141.79 93.7166 Q139.082 88.3694 133.631 88.3694 M133.631 82.8139 Q142.346 82.8139 146.929 89.7236 Q151.547 96.5986 151.547 109.723 Q151.547 122.814 146.929 129.723 Q142.346 136.598 133.631 136.598 Q124.915 136.598 120.297 129.723 Q115.714 122.814 115.714 109.723 Q115.714 96.5986 120.297 89.7236 Q124.915 82.8139 133.631 82.8139 Z\" fill=\"#000000\" fill-rule=\"evenodd\" fill-opacity=\"1\" /><path clip-path=\"url(#clip910)\" d=\"M206.13 97.3972 L190.262 113.335 L206.13 129.203 L201.998 133.404 L186.061 117.466 L170.123 133.404 L166.026 129.203 L181.859 113.335 L166.026 97.3972 L170.123 93.1958 L186.061 109.133 L201.998 93.1958 L206.13 97.3972 Z\" fill=\"#000000\" fill-rule=\"evenodd\" fill-opacity=\"1\" /><path clip-path=\"url(#clip910)\" d=\"M224.672 129.689 L236.13 129.689 L236.13 90.1403 L223.665 92.6402 L223.665 86.2514 L236.061 83.7514 L243.074 83.7514 L243.074 129.689 L254.533 129.689 L254.533 135.591 L224.672 135.591 L224.672 129.689 Z\" fill=\"#000000\" fill-rule=\"evenodd\" fill-opacity=\"1\" /><path clip-path=\"url(#clip910)\" d=\"M283.699 88.3694 Q278.283 88.3694 275.54 93.7166 Q272.831 99.0291 272.831 109.723 Q272.831 120.383 275.54 125.73 Q278.283 131.043 283.699 131.043 Q289.151 131.043 291.859 125.73 Q294.602 120.383 294.602 109.723 Q294.602 99.0291 291.859 93.7166 Q289.151 88.3694 283.699 88.3694 M283.699 82.8139 Q292.414 82.8139 296.998 89.7236 Q301.616 96.5986 301.616 109.723 Q301.616 122.814 296.998 129.723 Q292.414 136.598 283.699 136.598 Q274.984 136.598 270.366 129.723 Q265.783 122.814 265.783 109.723 Q265.783 96.5986 270.366 89.7236 Q274.984 82.8139 283.699 82.8139 Z\" fill=\"#000000\" fill-rule=\"evenodd\" fill-opacity=\"1\" /><path clip-path=\"url(#clip910)\" d=\"M316.173 56.108 Q311.772 56.108 309.543 60.4525 Q307.343 64.7689 307.343 73.4581 Q307.343 82.1191 309.543 86.4637 Q311.772 90.7801 316.173 90.7801 Q320.602 90.7801 322.803 86.4637 Q325.031 82.1191 325.031 73.4581 Q325.031 64.7689 322.803 60.4525 Q320.602 56.108 316.173 56.108 M316.173 51.5941 Q323.254 51.5941 326.978 57.2082 Q330.73 62.7941 330.73 73.4581 Q330.73 84.0939 326.978 89.708 Q323.254 95.2939 316.173 95.2939 Q309.092 95.2939 305.34 89.708 Q301.616 84.0939 301.616 73.4581 Q301.616 62.7941 305.34 57.2082 Q309.092 51.5941 316.173 51.5941 Z\" fill=\"#000000\" fill-rule=\"evenodd\" fill-opacity=\"1\" /><polyline clip-path=\"url(#clip912)\" style=\"stroke:#009af9; stroke-linecap:round; stroke-linejoin:round; stroke-width:12; stroke-opacity:1; fill:none\" points=\"\n",
       "  366.73,1375 369.963,1375 373.195,1375 376.428,1375 379.66,1375 387.133,1375 394.605,1375 402.077,1375 409.55,1375 413.286,1375 \n",
       "  417.022,1375 418.89,1375 420.758,1375 421.692,1375 422.626,1375 423.56,1300 424.494,1300 425.428,1300 426.362,1300 427.297,1300 \n",
       "  428.231,1300 430.099,1300 431.967,1300 435.703,1300 439.439,1300 454.384,1300 469.328,1300 484.273,1300 499.218,1300 508.199,1300 \n",
       "  517.18,1300 521.671,1300 526.161,1300 527.284,1300 528.407,1300 529.529,1300 530.652,1300 531.213,1300 531.775,1300 532.336,1300 \n",
       "  532.897,1300 533.458,1300 534.02,1300 534.581,1300 535.142,1300 537.388,1300 539.633,1300 541.878,1300 544.124,1300 548.614,1300 \n",
       "  553.105,1300 562.086,1300 571.067,1300 586.254,1300 601.441,1300 609.034,1300 616.628,1300 624.221,1300 631.814,1300 633.877,1300 \n",
       "  635.939,1300 638.001,1300 640.063,1300 640.579,1300 641.094,1300 641.61,1300 642.125,1300 642.641,1300 643.156,1225 643.672,1225 \n",
       "  644.187,1225 645.218,1225 646.25,1225 647.281,1225 648.312,1225 652.436,1225 656.56,1225 660.685,1225 664.809,1225 681.306,1225 \n",
       "  697.803,1225 713.012,1225 728.221,1225 735.826,1225 743.43,1225 745.331,1225 747.232,1225 749.134,1225 751.035,1225 751.51,1225 \n",
       "  751.985,1225 752.461,1225 752.936,1225 753.411,1150 753.886,1150 754.362,1150 754.837,1150 755.787,1150 756.738,1150 757.689,1150 \n",
       "  758.639,1150 760.677,1150 762.716,1150 764.754,1150 766.792,1150 770.868,1150 774.945,1150 783.098,1150 791.25,1150 807.556,1150 \n",
       "  823.862,1150 833.307,1150 842.753,1150 847.476,1150 852.199,1150 854.561,1150 856.922,1150 858.103,1150 859.283,1150 860.464,1150 \n",
       "  861.645,1150 862.235,1150 862.826,1150 863.416,1150 864.006,1075 864.597,1075 865.187,1075 865.777,1075 866.368,1075 868.729,1075 \n",
       "  871.091,1075 875.814,1075 880.537,1075 889.982,1075 899.428,1075 916.217,1075 933.006,1075 941.4,1075 949.794,1075 953.991,1075 \n",
       "  958.189,1075 962.386,1075 966.583,1075 968.423,1075 970.263,1075 971.184,1075 972.104,1075 972.564,1075 973.024,1075 973.484,1075 \n",
       "  973.944,1000 974.404,1000 974.864,1000 975.324,1000 975.784,1000 976.704,1000 977.625,1000 979.465,1000 981.305,1000 988.666,1000 \n",
       "  996.027,1000 1010.75,1000 1025.47,1000 1041.52,1000 1057.57,1000 1065.6,1000 1073.62,1000 1075.63,1000 1077.64,1000 1079.64,1000 \n",
       "  1081.65,1000 1082.15,1000 1082.65,1000 1083.16,1000 1083.66,1000 1084.16,925 1084.66,925 1085.16,925 1085.66,925 1086.67,925 \n",
       "  1087.67,925 1088.67,925 1089.68,925 1097.75,925 1105.82,925 1113.9,925 1121.97,925 1138.12,925 1154.26,925 1163.19,925 \n",
       "  1172.11,925 1176.58,925 1181.04,925 1183.27,925 1185.5,925 1187.73,925 1189.97,925 1191.08,925 1192.2,925 1192.76,925 \n",
       "  1193.31,925 1193.87,925 1194.43,850 1194.99,850 1195.54,850 1196.1,850 1196.66,850 1197.78,850 1198.89,850 1203.35,850 \n",
       "  1207.82,850 1216.74,850 1225.67,850 1242.66,850 1259.64,850 1276.63,850 1293.61,850 1295.82,850 1298.03,850 1299.13,850 \n",
       "  1300.24,850 1301.34,850 1302.44,850 1303,850 1303.55,850 1304.1,850 1304.65,775 1305.2,775 1305.76,775 1306.31,775 \n",
       "  1306.86,775 1309.07,775 1311.27,775 1315.69,775 1320.1,775 1324.52,775 1328.94,775 1346.6,775 1364.26,775 1393.99,775 \n",
       "  1423.73,775 1441.88,775 1460.03,775 1462.3,775 1464.57,775 1465.7,775 1466.83,775 1467.4,775 1467.97,775 1468.54,775 \n",
       "  1469.1,775 1469.67,775 1470.24,625 1470.8,625 1471.37,625 1472.51,625 1473.64,625 1475.91,625 1478.18,625 1482.72,625 \n",
       "  1487.25,625 1491.79,625 1496.33,625 1529.58,625 1562.84,625 1593.55,625 1624.27,625 1639.82,625 1655.38,625 1663.16,625 \n",
       "  1670.93,625 1678.71,625 1686.49,625 1687.58,625 1688.67,625 1689.21,625 1689.76,625 1690.3,625 1690.85,475 1691.39,475 \n",
       "  1691.94,475 1692.48,475 1693.03,475 1694.12,475 1695.21,475 1699.56,475 1703.92,475 1712.64,475 1721.36,475 1738.79,475 \n",
       "  1756.22,475 1787.82,475 1819.42,475 1855.59,475 1891.76,475 1895.95,475 1900.14,475 1902.23,475 1904.33,475 1906.42,475 \n",
       "  1908.51,475 1909.04,475 1909.56,475 1910.08,475 1910.61,475 1911.13,325 1911.65,325 1912.18,325 1912.7,325 1913.75,325 \n",
       "  1914.79,325 1915.84,325 1916.89,325 1921.07,325 1925.26,325 1933.63,325 1942.01,325 1950.38,325 1958.75,325 1991.78,325 \n",
       "  2024.8,325 2056.86,325 2088.92,325 2105.35,325 2121.79,325 2123.84,325 2125.9,325 2126.92,325 2127.95,325 2128.98,325 \n",
       "  2130,325 2130.52,325 2131.03,325 2131.54,250 2132.06,250 2132.57,250 2133.08,250 2133.6,250 2134.11,250 2136.17,250 \n",
       "  2138.22,250 2142.33,250 2146.44,250 2150.55,250 2154.65,250 2190.66,250 2226.67,250 2278.98,250 2331.29,250 2342.02,250 \n",
       "  2352.76,100 \n",
       "  \"/>\n",
       "</svg>\n"
      ]
     },
     "execution_count": 10,
     "metadata": {},
     "output_type": "execute_result"
    }
   ],
   "source": [
    "a = 1e-15\n",
    "plot(x -> 1 + x, xlim=(-a, a), legend=:none)"
   ]
  },
  {
   "cell_type": "markdown",
   "id": "c49bf903",
   "metadata": {
    "slideshow": {
     "slide_type": "slide"
    }
   },
   "source": [
    "# Machine epsilon\n",
    "\n",
    "We approximate real numbers with **floating point** arithmetic, which can only represent discrete values. In particular, there exists a largest number, which we call $\\epsilon_{\\text{machine}}$, such that\n",
    "$$ 1 \\oplus x = 1 \\quad \\text{for all}\\  \\lvert x \\rvert < \\epsilon_{\\text{machine}}.$$\n",
    "\n",
    "The notation $\\oplus, \\ominus, \\odot, \\oslash$ represent the elementary operation carried out in floating point arithmetic."
   ]
  },
  {
   "cell_type": "code",
   "execution_count": 5,
   "id": "86096208",
   "metadata": {
    "cell_style": "split",
    "slideshow": {
     "slide_type": "fragment"
    }
   },
   "outputs": [
    {
     "data": {
      "text/plain": [
       "1.1102230246251565e-16"
      ]
     },
     "execution_count": 5,
     "metadata": {},
     "output_type": "execute_result"
    }
   ],
   "source": [
    "eps = 1\n",
    "while 1 + eps != 1\n",
    "    eps = eps / 2\n",
    "end\n",
    "eps"
   ]
  },
  {
   "cell_type": "markdown",
   "id": "56fade8b",
   "metadata": {
    "slideshow": {
     "slide_type": "slide"
    }
   },
   "source": [
    "# Beating `exp`\n",
    "\n",
    "$$e^x = 1 + x + \\frac{x^2}{2!} + \\frac{x^3}{3!} + \\dotsb$$\n",
    "\n",
    "Suppose we want to compute $f(x) = e^x - 1$ for small values of $x$."
   ]
  },
  {
   "cell_type": "code",
   "execution_count": 6,
   "id": "282ad48a",
   "metadata": {
    "cell_style": "split"
   },
   "outputs": [
    {
     "data": {
      "text/plain": [
       "9.99999993922529e-9"
      ]
     },
     "execution_count": 6,
     "metadata": {},
     "output_type": "execute_result"
    }
   ],
   "source": [
    "f1(x) = exp(x) - 1\n",
    "y1 = f1(1e-8)"
   ]
  },
  {
   "cell_type": "code",
   "execution_count": 7,
   "id": "eff4a68c",
   "metadata": {
    "cell_style": "split"
   },
   "outputs": [
    {
     "data": {
      "text/plain": [
       "1.000000005e-8"
      ]
     },
     "execution_count": 7,
     "metadata": {},
     "output_type": "execute_result"
    }
   ],
   "source": [
    "f2(x) = x + x^2/2 + x^3/6\n",
    "y2 = f2(1e-8)"
   ]
  },
  {
   "cell_type": "markdown",
   "id": "379682f9",
   "metadata": {
    "slideshow": {
     "slide_type": "fragment"
    }
   },
   "source": [
    "Which answer is more accurate?"
   ]
  },
  {
   "cell_type": "code",
   "execution_count": 8,
   "id": "6081053e",
   "metadata": {
    "cell_style": "split"
   },
   "outputs": [
    {
     "name": "stdout",
     "output_type": "stream",
     "text": [
      "y1 - y2 = -1.1077470910720506e-16\n",
      "(y1 - y2) / y2 = -1.1077470855333152e-8\n"
     ]
    }
   ],
   "source": [
    "@show (y1 - y2)        # Absolute difference\n",
    "@show (y1 - y2) / y2;  # Relative difference"
   ]
  }
 ],
 "metadata": {
  "celltoolbar": "Slideshow",
  "kernelspec": {
   "display_name": "Julia 1.11.6",
   "language": "julia",
   "name": "julia-1.11"
  },
  "language_info": {
   "file_extension": ".jl",
   "mimetype": "application/julia",
   "name": "julia",
   "version": "1.11.6"
  },
  "rise": {
   "enable_chalkboard": true
  }
 },
 "nbformat": 4,
 "nbformat_minor": 5
}
