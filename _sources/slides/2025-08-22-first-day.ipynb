{
 "cells": [
  {
   "cell_type": "markdown",
   "id": "4159be0e",
   "metadata": {
    "slideshow": {
     "slide_type": "slide"
    }
   },
   "source": [
    "# 2025-08-22 First Day\n",
    "## Principles of Numerical Computation\n",
    "\n",
    "## Instructor: Jed Brown, jed.brown@colorado.edu, ECOT 824\n",
    "\n",
    "1. Who am I?\n",
    "2. What is this course about?\n",
    "3. How will it work?\n",
    "4. Discussion\n",
    "5. `exp()` demo"
   ]
  },
  {
   "cell_type": "code",
   "execution_count": 8,
   "id": "0a9c9cd2",
   "metadata": {
    "slideshow": {
     "slide_type": "skip"
    }
   },
   "outputs": [],
   "source": [
    "using Plots\n",
    "default(linewidth=3, legendfontsize=12, xtickfontsize=12, ytickfontsize=12)"
   ]
  },
  {
   "cell_type": "markdown",
   "id": "0daceff0",
   "metadata": {
    "slideshow": {
     "slide_type": "slide"
    }
   },
   "source": [
    "# Positionality: Who am I?\n",
    "\n",
    "* Jed Brown (he/him); you can call me Jed\n",
    "* Math + Physics undergrad, MS Math, Dr.Sc. Environmental Engineering (Computational Glaciology)\n",
    "* Postdoc and staff at Argonne National Laboratory (DOE Office of Science)\n",
    "* CU since 2015\n",
    "* Maintainer of open source software like [PETSc](https://petsc.org) and [libCEED](https://libceed.org)\n",
    "* Cis-het white man (which unavoidably affects my experience in these spaces)"
   ]
  },
  {
   "cell_type": "markdown",
   "id": "ece03c41",
   "metadata": {
    "slideshow": {
     "slide_type": "slide"
    }
   },
   "source": [
    "## Physical Prediction, Inference, and Design Group\n",
    "* Develop and maintain open source libraries\n",
    "* Research in fast/parallel algorithms, extensible software\n",
    "* Partner with scientists and engineers in many disciplines: geoscience, aerospace, civil engineering, fusion\n",
    "* Listen, learn about computational bottlenecks, build technology and communities"
   ]
  },
  {
   "cell_type": "markdown",
   "id": "4321bd4a",
   "metadata": {
    "cell_style": "split"
   },
   "source": [
    "<video src=\"../img/ROPI_OutView.webm\" width=\"100%\" controls loop />"
   ]
  },
  {
   "cell_type": "markdown",
   "id": "0e67c8ac",
   "metadata": {
    "cell_style": "split"
   },
   "source": [
    "<video src=\"../img/schwarz-pendulum.webm\" width=\"90%\" controls loop />"
   ]
  },
  {
   "cell_type": "markdown",
   "id": "b1decb86",
   "metadata": {
    "slideshow": {
     "slide_type": "slide"
    }
   },
   "source": [
    "# Prerequisites"
   ]
  },
  {
   "cell_type": "markdown",
   "id": "0d6e6809",
   "metadata": {
    "cell_style": "split",
    "slideshow": {
     "slide_type": ""
    }
   },
   "source": [
    "## Calculus\n",
    "\n",
    "* Fundamental Theorem of Calculus\n",
    "* Differentiate and integrate polynomials\n",
    "* Taylor series\n",
    "* Gradients"
   ]
  },
  {
   "cell_type": "markdown",
   "id": "008e0174",
   "metadata": {
    "cell_style": "split"
   },
   "source": [
    "## Linear Algebra\n",
    "\n",
    "* vector spaces, orthogonality\n",
    "* QR factorization\n",
    "* projectors, reflectors, and rotations (will teach)\n",
    "\n",
    "We'll never compute RREF or eigenvalues by hand (and any time you spent on that was a waste; sorry)"
   ]
  },
  {
   "cell_type": "markdown",
   "id": "7d4939f4",
   "metadata": {
    "slideshow": {
     "slide_type": "slide"
    }
   },
   "source": [
    "# What is Numerical Computation?"
   ]
  },
  {
   "cell_type": "markdown",
   "id": "c138664f",
   "metadata": {
    "cell_style": "split"
   },
   "source": [
    "From [Trefethen (1992)](https://people.maths.ox.ac.uk/trefethen/publication/PDF/1992_55.pdf)\n",
    "\n",
    "> Here is the wrong answer:\n",
    ">> Numerical analysis is the study of rounding errors."
   ]
  },
  {
   "cell_type": "markdown",
   "id": "8ea0f7cc",
   "metadata": {
    "cell_style": "split",
    "slideshow": {
     "slide_type": "fragment"
    }
   },
   "source": [
    "Trefethen goes on to propose\n",
    ">> Numerical analysis is the study of algorithms for the problems of continuous mathematics."
   ]
  },
  {
   "cell_type": "markdown",
   "id": "02de1e33",
   "metadata": {
    "slideshow": {
     "slide_type": "fragment"
    }
   },
   "source": [
    "> This stuff is like computer science meets calculus\n",
    ">\n",
    "> -- former student"
   ]
  },
  {
   "cell_type": "markdown",
   "id": "753f15fe",
   "metadata": {
    "cell_style": "center",
    "slideshow": {
     "slide_type": "slide"
    }
   },
   "source": [
    "# What is continuous mathematics?"
   ]
  },
  {
   "cell_type": "markdown",
   "id": "e3ddf39b",
   "metadata": {
    "cell_style": "split",
    "slideshow": {
     "slide_type": ""
    }
   },
   "source": [
    "* Continuous objects with finite representations on a computer\n",
    "  * real and complex numbers $a \\in \\mathbb R$\n",
    "  * vectors $\\mathbf x \\in \\mathbb R^n$\n",
    "  * matrices $A \\in \\mathbb R^{m\\times n}$\n",
    "* Continuous objects with infinite representations on a computer\n",
    "  * functions $f: \\mathbb R \\to \\mathbb R$\n",
    "  * higher order functions: $g(f)$"
   ]
  },
  {
   "cell_type": "markdown",
   "id": "c5a8bd60",
   "metadata": {
    "cell_style": "split"
   },
   "source": [
    "## Finite vs Infinite algorithms\n",
    "\n",
    "* Compute the matrix product $A B$\n",
    "* Solve $A x = b$ for $x$\n",
    "* Compute the eigenvalues $\\lambda$ of $A \\in \\mathbb R^{10\\times 10}$\n",
    "* Compute $\\int_a^b f(x)$"
   ]
  },
  {
   "cell_type": "markdown",
   "id": "2dd843ce",
   "metadata": {
    "cell_style": "center",
    "slideshow": {
     "slide_type": "slide"
    }
   },
   "source": [
    "# Rootfinding"
   ]
  },
  {
   "cell_type": "markdown",
   "id": "347a2da3",
   "metadata": {
    "cell_style": "split",
    "slideshow": {
     "slide_type": ""
    }
   },
   "source": [
    "Given $f(x)$, find $x$ such that $f(x) = 0$.\n",
    "\n",
    "* Cost\n",
    "  * Evaluation of $f(x)$ and perhaps derivatives $f'(x)$.\n",
    "  * Other arithmetic\n",
    "* Convergence: how many evaluations to reach a given accuracy?\n",
    "* Robustness: does the algorithm always converge?"
   ]
  },
  {
   "cell_type": "code",
   "execution_count": 9,
   "id": "7e55dd6f",
   "metadata": {
    "cell_style": "split",
    "slideshow": {
     "slide_type": "fragment"
    }
   },
   "outputs": [
    {
     "data": {
      "image/png": "[encoded data removed]",
      "image/svg+xml": [
       "<?xml version=\"1.0\" encoding=\"utf-8\"?>\n",
       "<svg xmlns=\"http://www.w3.org/2000/svg\" xmlns:xlink=\"http://www.w3.org/1999/xlink\" width=\"600\" height=\"400\" viewBox=\"0 0 2400 1600\">\n",
       "<defs>\n",
       "  <clipPath id=\"clip680\">\n",
       "    <rect x=\"0\" y=\"0\" width=\"2400\" height=\"1600\"/>\n",
       "  </clipPath>\n",
       "</defs>\n",
       "<path clip-path=\"url(#clip680)\" d=\"M0 1600 L2400 1600 L2400 0 L0 0  Z\" fill=\"#ffffff\" fill-rule=\"evenodd\" fill-opacity=\"1\"/>\n",
       "<defs>\n",
       "  <clipPath id=\"clip681\">\n",
       "    <rect x=\"480\" y=\"0\" width=\"1681\" height=\"1600\"/>\n",
       "  </clipPath>\n",
       "</defs>\n",
       "<path clip-path=\"url(#clip680)\" d=\"M224.804 1469.17 L2352.76 1469.17 L2352.76 47.2441 L224.804 47.2441  Z\" fill=\"#ffffff\" fill-rule=\"evenodd\" fill-opacity=\"1\"/>\n",
       "<defs>\n",
       "  <clipPath id=\"clip682\">\n",
       "    <rect x=\"224\" y=\"47\" width=\"2129\" height=\"1423\"/>\n",
       "  </clipPath>\n",
       "</defs>\n",
       "<polyline clip-path=\"url(#clip682)\" style=\"stroke:#000000; stroke-linecap:round; stroke-linejoin:round; stroke-width:2; stroke-opacity:0.1; fill:none\" points=\"224.804,1469.17 224.804,47.2441 \"/>\n",
       "<polyline clip-path=\"url(#clip682)\" style=\"stroke:#000000; stroke-linecap:round; stroke-linejoin:round; stroke-width:2; stroke-opacity:0.1; fill:none\" points=\"934.121,1469.17 934.121,47.2441 \"/>\n",
       "<polyline clip-path=\"url(#clip682)\" style=\"stroke:#000000; stroke-linecap:round; stroke-linejoin:round; stroke-width:2; stroke-opacity:0.1; fill:none\" points=\"1643.44,1469.17 1643.44,47.2441 \"/>\n",
       "<polyline clip-path=\"url(#clip682)\" style=\"stroke:#000000; stroke-linecap:round; stroke-linejoin:round; stroke-width:2; stroke-opacity:0.1; fill:none\" points=\"2352.76,1469.17 2352.76,47.2441 \"/>\n",
       "<polyline clip-path=\"url(#clip682)\" style=\"stroke:#000000; stroke-linecap:round; stroke-linejoin:round; stroke-width:2; stroke-opacity:0.1; fill:none\" points=\"224.804,1172.83 2352.76,1172.83 \"/>\n",
       "<polyline clip-path=\"url(#clip682)\" style=\"stroke:#000000; stroke-linecap:round; stroke-linejoin:round; stroke-width:2; stroke-opacity:0.1; fill:none\" points=\"224.804,828.821 2352.76,828.821 \"/>\n",
       "<polyline clip-path=\"url(#clip682)\" style=\"stroke:#000000; stroke-linecap:round; stroke-linejoin:round; stroke-width:2; stroke-opacity:0.1; fill:none\" points=\"224.804,484.808 2352.76,484.808 \"/>\n",
       "<polyline clip-path=\"url(#clip682)\" style=\"stroke:#000000; stroke-linecap:round; stroke-linejoin:round; stroke-width:2; stroke-opacity:0.1; fill:none\" points=\"224.804,140.795 2352.76,140.795 \"/>\n",
       "<polyline clip-path=\"url(#clip680)\" style=\"stroke:#000000; stroke-linecap:round; stroke-linejoin:round; stroke-width:4; stroke-opacity:1; fill:none\" points=\"224.804,1469.17 2352.76,1469.17 \"/>\n",
       "<polyline clip-path=\"url(#clip680)\" style=\"stroke:#000000; stroke-linecap:round; stroke-linejoin:round; stroke-width:4; stroke-opacity:1; fill:none\" points=\"224.804,1469.17 224.804,1450.27 \"/>\n",
       "<polyline clip-path=\"url(#clip680)\" style=\"stroke:#000000; stroke-linecap:round; stroke-linejoin:round; stroke-width:4; stroke-opacity:1; fill:none\" points=\"934.121,1469.17 934.121,1450.27 \"/>\n",
       "<polyline clip-path=\"url(#clip680)\" style=\"stroke:#000000; stroke-linecap:round; stroke-linejoin:round; stroke-width:4; stroke-opacity:1; fill:none\" points=\"1643.44,1469.17 1643.44,1450.27 \"/>\n",
       "<polyline clip-path=\"url(#clip680)\" style=\"stroke:#000000; stroke-linecap:round; stroke-linejoin:round; stroke-width:4; stroke-opacity:1; fill:none\" points=\"2352.76,1469.17 2352.76,1450.27 \"/>\n",
       "<path clip-path=\"url(#clip680)\" d=\"M145.343 1527.92 L189.856 1527.92 L189.856 1533.83 L145.343 1533.83 L145.343 1527.92 Z\" fill=\"#000000\" fill-rule=\"nonzero\" fill-opacity=\"1\" /><path clip-path=\"url(#clip680)\" d=\"M211.037 1547.27 L235.516 1547.27 L235.516 1553.17 L202.599 1553.17 L202.599 1547.27 Q206.592 1543.13 213.467 1536.19 Q220.377 1529.21 222.148 1527.2 Q225.516 1523.41 226.835 1520.81 Q228.189 1518.17 228.189 1515.63 Q228.189 1511.5 225.273 1508.9 Q222.391 1506.29 217.738 1506.29 Q214.439 1506.29 210.759 1507.44 Q207.113 1508.58 202.946 1510.91 L202.946 1503.83 Q207.182 1502.13 210.863 1501.26 Q214.544 1500.39 217.599 1500.39 Q225.655 1500.39 230.446 1504.42 Q235.238 1508.45 235.238 1515.18 Q235.238 1518.38 234.023 1521.26 Q232.842 1524.11 229.682 1527.99 Q228.814 1529 224.162 1533.83 Q219.509 1538.62 211.037 1547.27 Z\" fill=\"#000000\" fill-rule=\"nonzero\" fill-opacity=\"1\" /><path clip-path=\"url(#clip680)\" d=\"M250.238 1544.35 L257.564 1544.35 L257.564 1553.17 L250.238 1553.17 L250.238 1544.35 Z\" fill=\"#000000\" fill-rule=\"nonzero\" fill-opacity=\"1\" /><path clip-path=\"url(#clip680)\" d=\"M272.911 1501.33 L300.446 1501.33 L300.446 1507.23 L279.335 1507.23 L279.335 1519.94 Q280.863 1519.42 282.39 1519.18 Q283.918 1518.9 285.446 1518.9 Q294.126 1518.9 299.196 1523.65 Q304.265 1528.41 304.265 1536.54 Q304.265 1544.9 299.057 1549.56 Q293.849 1554.17 284.37 1554.17 Q281.106 1554.17 277.703 1553.62 Q274.335 1553.06 270.724 1551.95 L270.724 1544.9 Q273.849 1546.61 277.182 1547.44 Q280.515 1548.27 284.231 1548.27 Q290.238 1548.27 293.744 1545.11 Q297.251 1541.95 297.251 1536.54 Q297.251 1531.12 293.744 1527.96 Q290.238 1524.8 284.231 1524.8 Q281.418 1524.8 278.606 1525.42 Q275.828 1526.05 272.911 1527.37 L272.911 1501.33 Z\" fill=\"#000000\" fill-rule=\"nonzero\" fill-opacity=\"1\" /><path clip-path=\"url(#clip680)\" d=\"M900.198 1505.95 Q894.781 1505.95 892.038 1511.29 Q889.33 1516.61 889.33 1527.3 Q889.33 1537.96 892.038 1543.31 Q894.781 1548.62 900.198 1548.62 Q905.649 1548.62 908.357 1543.31 Q911.101 1537.96 911.101 1527.3 Q911.101 1516.61 908.357 1511.29 Q905.649 1505.95 900.198 1505.95 M900.198 1500.39 Q908.913 1500.39 913.496 1507.3 Q918.114 1514.18 918.114 1527.3 Q918.114 1540.39 913.496 1547.3 Q908.913 1554.17 900.198 1554.17 Q891.483 1554.17 886.865 1547.3 Q882.281 1540.39 882.281 1527.3 Q882.281 1514.18 886.865 1507.3 Q891.483 1500.39 900.198 1500.39 Z\" fill=\"#000000\" fill-rule=\"nonzero\" fill-opacity=\"1\" /><path clip-path=\"url(#clip680)\" d=\"M930.441 1544.35 L937.767 1544.35 L937.767 1553.17 L930.441 1553.17 L930.441 1544.35 Z\" fill=\"#000000\" fill-rule=\"nonzero\" fill-opacity=\"1\" /><path clip-path=\"url(#clip680)\" d=\"M968.045 1505.95 Q962.628 1505.95 959.885 1511.29 Q957.177 1516.61 957.177 1527.3 Q957.177 1537.96 959.885 1543.31 Q962.628 1548.62 968.045 1548.62 Q973.496 1548.62 976.204 1543.31 Q978.947 1537.96 978.947 1527.3 Q978.947 1516.61 976.204 1511.29 Q973.496 1505.95 968.045 1505.95 M968.045 1500.39 Q976.76 1500.39 981.343 1507.3 Q985.961 1514.18 985.961 1527.3 Q985.961 1540.39 981.343 1547.3 Q976.76 1554.17 968.045 1554.17 Q959.329 1554.17 954.711 1547.3 Q950.128 1540.39 950.128 1527.3 Q950.128 1514.18 954.711 1507.3 Q959.329 1500.39 968.045 1500.39 Z\" fill=\"#000000\" fill-rule=\"nonzero\" fill-opacity=\"1\" /><path clip-path=\"url(#clip680)\" d=\"M1601.04 1547.27 L1625.52 1547.27 L1625.52 1553.17 L1592.61 1553.17 L1592.61 1547.27 Q1596.6 1543.13 1603.47 1536.19 Q1610.38 1529.21 1612.15 1527.2 Q1615.52 1523.41 1616.84 1520.81 Q1618.2 1518.17 1618.2 1515.63 Q1618.2 1511.5 1615.28 1508.9 Q1612.4 1506.29 1607.74 1506.29 Q1604.45 1506.29 1600.77 1507.44 Q1597.12 1508.58 1592.95 1510.91 L1592.95 1503.83 Q1597.19 1502.13 1600.87 1501.26 Q1604.55 1500.39 1607.61 1500.39 Q1615.66 1500.39 1620.45 1504.42 Q1625.24 1508.45 1625.24 1515.18 Q1625.24 1518.38 1624.03 1521.26 Q1622.85 1524.11 1619.69 1527.99 Q1618.82 1529 1614.17 1533.83 Q1609.52 1538.62 1601.04 1547.27 Z\" fill=\"#000000\" fill-rule=\"nonzero\" fill-opacity=\"1\" /><path clip-path=\"url(#clip680)\" d=\"M1640.24 1544.35 L1647.57 1544.35 L1647.57 1553.17 L1640.24 1553.17 L1640.24 1544.35 Z\" fill=\"#000000\" fill-rule=\"nonzero\" fill-opacity=\"1\" /><path clip-path=\"url(#clip680)\" d=\"M1662.92 1501.33 L1690.45 1501.33 L1690.45 1507.23 L1669.34 1507.23 L1669.34 1519.94 Q1670.87 1519.42 1672.4 1519.18 Q1673.92 1518.9 1675.45 1518.9 Q1684.13 1518.9 1689.2 1523.65 Q1694.27 1528.41 1694.27 1536.54 Q1694.27 1544.9 1689.06 1549.56 Q1683.86 1554.17 1674.38 1554.17 Q1671.11 1554.17 1667.71 1553.62 Q1664.34 1553.06 1660.73 1551.95 L1660.73 1544.9 Q1663.86 1546.61 1667.19 1547.44 Q1670.52 1548.27 1674.24 1548.27 Q1680.24 1548.27 1683.75 1545.11 Q1687.26 1541.95 1687.26 1536.54 Q1687.26 1531.12 1683.75 1527.96 Q1680.24 1524.8 1674.24 1524.8 Q1671.42 1524.8 1668.61 1525.42 Q1665.83 1526.05 1662.92 1527.37 L1662.92 1501.33 Z\" fill=\"#000000\" fill-rule=\"nonzero\" fill-opacity=\"1\" /><path clip-path=\"url(#clip680)\" d=\"M2303.5 1501.33 L2331.04 1501.33 L2331.04 1507.23 L2309.93 1507.23 L2309.93 1519.94 Q2311.45 1519.42 2312.98 1519.18 Q2314.51 1518.9 2316.04 1518.9 Q2324.72 1518.9 2329.79 1523.65 Q2334.86 1528.41 2334.86 1536.54 Q2334.86 1544.9 2329.65 1549.56 Q2324.44 1554.17 2314.96 1554.17 Q2311.7 1554.17 2308.29 1553.62 Q2304.93 1553.06 2301.32 1551.95 L2301.32 1544.9 Q2304.44 1546.61 2307.77 1547.44 Q2311.11 1548.27 2314.82 1548.27 Q2320.83 1548.27 2324.34 1545.11 Q2327.84 1541.95 2327.84 1536.54 Q2327.84 1531.12 2324.34 1527.96 Q2320.83 1524.8 2314.82 1524.8 Q2312.01 1524.8 2309.2 1525.42 Q2306.42 1526.05 2303.5 1527.37 L2303.5 1501.33 Z\" fill=\"#000000\" fill-rule=\"nonzero\" fill-opacity=\"1\" /><path clip-path=\"url(#clip680)\" d=\"M2348.68 1544.35 L2356 1544.35 L2356 1553.17 L2348.68 1553.17 L2348.68 1544.35 Z\" fill=\"#000000\" fill-rule=\"nonzero\" fill-opacity=\"1\" /><path clip-path=\"url(#clip680)\" d=\"M2386.28 1505.95 Q2380.86 1505.95 2378.12 1511.29 Q2375.41 1516.61 2375.41 1527.3 Q2375.41 1537.96 2378.12 1543.31 Q2380.86 1548.62 2386.28 1548.62 Q2391.73 1548.62 2394.44 1543.31 Q2397.18 1537.96 2397.18 1527.3 Q2397.18 1516.61 2394.44 1511.29 Q2391.73 1505.95 2386.28 1505.95 M2386.28 1500.39 Q2395 1500.39 2399.58 1507.3 Q2404.2 1514.18 2404.2 1527.3 Q2404.2 1540.39 2399.58 1547.3 Q2395 1554.17 2386.28 1554.17 Q2377.56 1554.17 2372.95 1547.3 Q2368.36 1540.39 2368.36 1527.3 Q2368.36 1514.18 2372.95 1507.3 Q2377.56 1500.39 2386.28 1500.39 Z\" fill=\"#000000\" fill-rule=\"nonzero\" fill-opacity=\"1\" /><polyline clip-path=\"url(#clip680)\" style=\"stroke:#000000; stroke-linecap:round; stroke-linejoin:round; stroke-width:4; stroke-opacity:1; fill:none\" points=\"224.804,1469.17 224.804,47.2441 \"/>\n",
       "<polyline clip-path=\"url(#clip680)\" style=\"stroke:#000000; stroke-linecap:round; stroke-linejoin:round; stroke-width:4; stroke-opacity:1; fill:none\" points=\"224.804,1172.83 243.702,1172.83 \"/>\n",
       "<polyline clip-path=\"url(#clip680)\" style=\"stroke:#000000; stroke-linecap:round; stroke-linejoin:round; stroke-width:4; stroke-opacity:1; fill:none\" points=\"224.804,828.821 243.702,828.821 \"/>\n",
       "<polyline clip-path=\"url(#clip680)\" style=\"stroke:#000000; stroke-linecap:round; stroke-linejoin:round; stroke-width:4; stroke-opacity:1; fill:none\" points=\"224.804,484.808 243.702,484.808 \"/>\n",
       "<polyline clip-path=\"url(#clip680)\" style=\"stroke:#000000; stroke-linecap:round; stroke-linejoin:round; stroke-width:4; stroke-opacity:1; fill:none\" points=\"224.804,140.795 243.702,140.795 \"/>\n",
       "<path clip-path=\"url(#clip680)\" d=\"M50.9921 1173.51 L95.5058 1173.51 L95.5058 1179.41 L50.9921 1179.41 L50.9921 1173.51 Z\" fill=\"#000000\" fill-rule=\"nonzero\" fill-opacity=\"1\" /><path clip-path=\"url(#clip680)\" d=\"M116.686 1192.85 L141.165 1192.85 L141.165 1198.75 L108.249 1198.75 L108.249 1192.85 Q112.242 1188.72 119.117 1181.77 Q126.026 1174.8 127.797 1172.78 Q131.165 1169 132.485 1166.39 Q133.839 1163.75 133.839 1161.22 Q133.839 1157.09 130.922 1154.48 Q128.04 1151.88 123.388 1151.88 Q120.089 1151.88 116.408 1153.02 Q112.763 1154.17 108.596 1156.5 L108.596 1149.41 Q112.832 1147.71 116.513 1146.84 Q120.193 1145.98 123.249 1145.98 Q131.304 1145.98 136.096 1150 Q140.887 1154.03 140.887 1160.77 Q140.887 1163.96 139.672 1166.84 Q138.492 1169.69 135.332 1173.58 Q134.464 1174.59 129.811 1179.41 Q125.158 1184.21 116.686 1192.85 Z\" fill=\"#000000\" fill-rule=\"nonzero\" fill-opacity=\"1\" /><path clip-path=\"url(#clip680)\" d=\"M170.887 1151.53 Q165.471 1151.53 162.728 1156.88 Q160.019 1162.19 160.019 1172.89 Q160.019 1183.55 162.728 1188.89 Q165.471 1194.21 170.887 1194.21 Q176.339 1194.21 179.047 1188.89 Q181.79 1183.55 181.79 1172.89 Q181.79 1162.19 179.047 1156.88 Q176.339 1151.53 170.887 1151.53 M170.887 1145.98 Q179.603 1145.98 184.186 1152.89 Q188.804 1159.76 188.804 1172.89 Q188.804 1185.98 184.186 1192.89 Q179.603 1199.76 170.887 1199.76 Q162.172 1199.76 157.554 1192.89 Q152.971 1185.98 152.971 1172.89 Q152.971 1159.76 157.554 1152.89 Q162.172 1145.98 170.887 1145.98 Z\" fill=\"#000000\" fill-rule=\"nonzero\" fill-opacity=\"1\" /><path clip-path=\"url(#clip680)\" d=\"M170.887 807.519 Q165.471 807.519 162.728 812.866 Q160.019 818.179 160.019 828.873 Q160.019 839.533 162.728 844.88 Q165.471 850.192 170.887 850.192 Q176.339 850.192 179.047 844.88 Q181.79 839.533 181.79 828.873 Q181.79 818.179 179.047 812.866 Q176.339 807.519 170.887 807.519 M170.887 801.963 Q179.603 801.963 184.186 808.873 Q188.804 815.748 188.804 828.873 Q188.804 841.963 184.186 848.873 Q179.603 855.748 170.887 855.748 Q162.172 855.748 157.554 848.873 Q152.971 841.963 152.971 828.873 Q152.971 815.748 157.554 808.873 Q162.172 801.963 170.887 801.963 Z\" fill=\"#000000\" fill-rule=\"nonzero\" fill-opacity=\"1\" /><path clip-path=\"url(#clip680)\" d=\"M116.686 504.825 L141.165 504.825 L141.165 510.728 L108.249 510.728 L108.249 504.825 Q112.242 500.694 119.117 493.749 Q126.026 486.77 127.797 484.756 Q131.165 480.971 132.485 478.367 Q133.839 475.728 133.839 473.194 Q133.839 469.062 130.922 466.458 Q128.04 463.853 123.388 463.853 Q120.089 463.853 116.408 464.999 Q112.763 466.145 108.596 468.471 L108.596 461.388 Q112.832 459.687 116.513 458.819 Q120.193 457.951 123.249 457.951 Q131.304 457.951 136.096 461.978 Q140.887 466.006 140.887 472.742 Q140.887 475.937 139.672 478.819 Q138.492 481.666 135.332 485.555 Q134.464 486.562 129.811 491.388 Q125.158 496.18 116.686 504.825 Z\" fill=\"#000000\" fill-rule=\"nonzero\" fill-opacity=\"1\" /><path clip-path=\"url(#clip680)\" d=\"M170.887 463.506 Q165.471 463.506 162.728 468.853 Q160.019 474.166 160.019 484.86 Q160.019 495.52 162.728 500.867 Q165.471 506.18 170.887 506.18 Q176.339 506.18 179.047 500.867 Q181.79 495.52 181.79 484.86 Q181.79 474.166 179.047 468.853 Q176.339 463.506 170.887 463.506 M170.887 457.951 Q179.603 457.951 184.186 464.86 Q188.804 471.735 188.804 484.86 Q188.804 497.95 184.186 504.86 Q179.603 511.735 170.887 511.735 Q162.172 511.735 157.554 504.86 Q152.971 497.95 152.971 484.86 Q152.971 471.735 157.554 464.86 Q162.172 457.951 170.887 457.951 Z\" fill=\"#000000\" fill-rule=\"nonzero\" fill-opacity=\"1\" /><path clip-path=\"url(#clip680)\" d=\"M129.915 120.987 L112.207 148.66 L129.915 148.66 L129.915 120.987 M128.075 114.875 L136.894 114.875 L136.894 148.66 L144.29 148.66 L144.29 154.493 L136.894 154.493 L136.894 166.715 L129.915 166.715 L129.915 154.493 L106.513 154.493 L106.513 147.722 L128.075 114.875 Z\" fill=\"#000000\" fill-rule=\"nonzero\" fill-opacity=\"1\" /><path clip-path=\"url(#clip680)\" d=\"M170.887 119.493 Q165.471 119.493 162.728 124.841 Q160.019 130.153 160.019 140.848 Q160.019 151.507 162.728 156.854 Q165.471 162.167 170.887 162.167 Q176.339 162.167 179.047 156.854 Q181.79 151.507 181.79 140.848 Q181.79 130.153 179.047 124.841 Q176.339 119.493 170.887 119.493 M170.887 113.938 Q179.603 113.938 184.186 120.848 Q188.804 127.723 188.804 140.848 Q188.804 153.938 184.186 160.847 Q179.603 167.722 170.887 167.722 Q162.172 167.722 157.554 160.847 Q152.971 153.938 152.971 140.848 Q152.971 127.723 157.554 120.848 Q162.172 113.938 170.887 113.938 Z\" fill=\"#000000\" fill-rule=\"nonzero\" fill-opacity=\"1\" /><polyline clip-path=\"url(#clip682)\" style=\"stroke:#009af9; stroke-linecap:round; stroke-linejoin:round; stroke-width:12; stroke-opacity:1; fill:none\" points=\"224.804,812.751 246.772,812.768 375.439,812.551 435.295,812.172 515.524,811.245 581.817,810.014 643.464,808.412 720.852,805.694 790.269,802.564 869.727,798.264 929.121,794.723 1005.09,790.219 1074.42,786.795 1153.33,784.948 1215.89,786.262 1254.75,788.903 1293.61,793.353 1323.37,798.22 1353.13,804.55 1374.1,809.992 1395.08,816.322 1416.06,823.604 1437.04,831.906 1468.39,846.354 1499.74,863.429 1517.57,874.38 1535.4,886.27 1553.23,899.124 1571.06,912.964 1588.71,927.657 1606.37,943.341 1624.02,960.018 1641.68,977.682 1661.1,998.238 1680.53,1019.94 1699.95,1042.73 1719.38,1066.55 1749.05,1104.7 1778.72,1144.61 1816.17,1196.6 1853.61,1248.99 1888.25,1296.11 1922.88,1339.95 1940.74,1360.51 1958.6,1379.19 1976.46,1395.6 1994.32,1409.27 2003.37,1415.01 2012.42,1419.85 2021.47,1423.74 2030.52,1426.6 2039.57,1428.35 2048.63,1428.92 2057.68,1428.24 2066.73,1426.21 2076.18,1422.57 2085.63,1417.28 2095.08,1410.23 2104.53,1401.33 2113.98,1390.46 2123.44,1377.51 2132.89,1362.37 2142.34,1344.93 2149.78,1329.48 2157.23,1312.48 2164.67,1293.84 2172.12,1273.52 2179.56,1251.46 2187.01,1227.58 2194.45,1201.83 2201.9,1174.14 2210.38,1140.16 2218.85,1103.49 2227.33,1064.02 2235.81,1021.66 2244.29,976.307 2252.76,927.854 2261.24,876.204 2269.72,821.255 2273.96,792.511 2278.2,762.904 2282.43,732.421 2286.67,701.05 2290.91,668.777 2295.15,635.59 2299.39,601.476 2303.63,566.422 2307.87,530.417 2312.11,493.447 2316.34,455.5 2320.58,416.563 2324.82,376.624 2329.06,335.672 2333.3,293.692 2337.54,250.674 2339.44,231.028 2341.34,211.169 2343.24,191.096 2345.15,170.808 2347.05,150.304 2348.95,129.583 2350.85,108.645 2352.76,87.4872 \"/>\n",
       "<polyline clip-path=\"url(#clip682)\" style=\"stroke:#e26f46; stroke-linecap:round; stroke-linejoin:round; stroke-width:12; stroke-opacity:1; fill:none\" points=\"224.804,828.821 246.772,828.821 375.439,828.821 435.295,828.821 515.524,828.821 581.817,828.821 643.464,828.821 720.852,828.821 790.269,828.821 869.727,828.821 929.121,828.821 1005.09,828.821 1074.42,828.821 1153.33,828.821 1215.89,828.821 1293.61,828.821 1353.13,828.821 1437.04,828.821 1499.74,828.821 1571.06,828.821 1641.68,828.821 1719.38,828.821 1778.72,828.821 1853.61,828.821 1922.88,828.821 1994.32,828.821 2066.73,828.821 2142.34,828.821 2201.9,828.821 2337.54,828.821 2352.76,828.821 \"/>\n",
       "<path clip-path=\"url(#clip680)\" d=\"M295.736 327.922 L587.176 327.922 L587.176 94.6416 L295.736 94.6416  Z\" fill=\"#ffffff\" fill-rule=\"evenodd\" fill-opacity=\"1\"/>\n",
       "<polyline clip-path=\"url(#clip680)\" style=\"stroke:#000000; stroke-linecap:round; stroke-linejoin:round; stroke-width:4; stroke-opacity:1; fill:none\" points=\"295.736,327.922 587.176,327.922 587.176,94.6416 295.736,94.6416 295.736,327.922 \"/>\n",
       "<polyline clip-path=\"url(#clip680)\" style=\"stroke:#009af9; stroke-linecap:round; stroke-linejoin:round; stroke-width:18; stroke-opacity:1; fill:none\" points=\"319.38,172.402 461.243,172.402 \"/>\n",
       "<path clip-path=\"url(#clip680)\" d=\"M505.651 201.933 Q502.942 208.877 500.373 210.995 Q497.804 213.113 493.498 213.113 L488.394 213.113 L488.394 207.766 L492.144 207.766 Q494.783 207.766 496.241 206.516 Q497.699 205.266 499.47 200.613 L500.616 197.697 L484.887 159.433 L491.658 159.433 L503.81 189.849 L515.963 159.433 L522.734 159.433 L505.651 201.933 Z\" fill=\"#000000\" fill-rule=\"nonzero\" fill-opacity=\"1\" /><path clip-path=\"url(#clip680)\" d=\"M533.671 192.419 L545.13 192.419 L545.13 152.87 L532.664 155.37 L532.664 148.982 L545.06 146.482 L552.074 146.482 L552.074 192.419 L563.532 192.419 L563.532 198.322 L533.671 198.322 L533.671 192.419 Z\" fill=\"#000000\" fill-rule=\"nonzero\" fill-opacity=\"1\" /><polyline clip-path=\"url(#clip680)\" style=\"stroke:#e26f46; stroke-linecap:round; stroke-linejoin:round; stroke-width:18; stroke-opacity:1; fill:none\" points=\"319.38,250.162 461.243,250.162 \"/>\n",
       "<path clip-path=\"url(#clip680)\" d=\"M505.651 279.693 Q502.942 286.637 500.373 288.755 Q497.804 290.873 493.498 290.873 L488.394 290.873 L488.394 285.526 L492.144 285.526 Q494.783 285.526 496.241 284.276 Q497.699 283.026 499.47 278.373 L500.616 275.457 L484.887 237.193 L491.658 237.193 L503.81 267.609 L515.963 237.193 L522.734 237.193 L505.651 279.693 Z\" fill=\"#000000\" fill-rule=\"nonzero\" fill-opacity=\"1\" /><path clip-path=\"url(#clip680)\" d=\"M538.498 270.179 L562.977 270.179 L562.977 276.082 L530.06 276.082 L530.06 270.179 Q534.053 266.047 540.928 259.102 Q547.838 252.123 549.609 250.109 Q552.977 246.325 554.296 243.721 Q555.65 241.082 555.65 238.547 Q555.65 234.415 552.734 231.811 Q549.852 229.207 545.199 229.207 Q541.9 229.207 538.22 230.353 Q534.574 231.498 530.408 233.825 L530.408 226.742 Q534.644 225.04 538.324 224.172 Q542.005 223.304 545.06 223.304 Q553.116 223.304 557.907 227.332 Q562.699 231.36 562.699 238.096 Q562.699 241.29 561.484 244.172 Q560.303 247.019 557.143 250.908 Q556.275 251.915 551.623 256.741 Q546.97 261.533 538.498 270.179 Z\" fill=\"#000000\" fill-rule=\"nonzero\" fill-opacity=\"1\" /></svg>\n"
      ],
      "text/html": [
       "<?xml version=\"1.0\" encoding=\"utf-8\"?>\n",
       "<svg xmlns=\"http://www.w3.org/2000/svg\" xmlns:xlink=\"http://www.w3.org/1999/xlink\" width=\"600\" height=\"400\" viewBox=\"0 0 2400 1600\">\n",
       "<defs>\n",
       "  <clipPath id=\"clip730\">\n",
       "    <rect x=\"0\" y=\"0\" width=\"2400\" height=\"1600\"/>\n",
       "  </clipPath>\n",
       "</defs>\n",
       "<path clip-path=\"url(#clip730)\" d=\"M0 1600 L2400 1600 L2400 0 L0 0  Z\" fill=\"#ffffff\" fill-rule=\"evenodd\" fill-opacity=\"1\"/>\n",
       "<defs>\n",
       "  <clipPath id=\"clip731\">\n",
       "    <rect x=\"480\" y=\"0\" width=\"1681\" height=\"1600\"/>\n",
       "  </clipPath>\n",
       "</defs>\n",
       "<path clip-path=\"url(#clip730)\" d=\"M224.804 1469.17 L2352.76 1469.17 L2352.76 47.2441 L224.804 47.2441  Z\" fill=\"#ffffff\" fill-rule=\"evenodd\" fill-opacity=\"1\"/>\n",
       "<defs>\n",
       "  <clipPath id=\"clip732\">\n",
       "    <rect x=\"224\" y=\"47\" width=\"2129\" height=\"1423\"/>\n",
       "  </clipPath>\n",
       "</defs>\n",
       "<polyline clip-path=\"url(#clip732)\" style=\"stroke:#000000; stroke-linecap:round; stroke-linejoin:round; stroke-width:2; stroke-opacity:0.1; fill:none\" points=\"224.804,1469.17 224.804,47.2441 \"/>\n",
       "<polyline clip-path=\"url(#clip732)\" style=\"stroke:#000000; stroke-linecap:round; stroke-linejoin:round; stroke-width:2; stroke-opacity:0.1; fill:none\" points=\"934.121,1469.17 934.121,47.2441 \"/>\n",
       "<polyline clip-path=\"url(#clip732)\" style=\"stroke:#000000; stroke-linecap:round; stroke-linejoin:round; stroke-width:2; stroke-opacity:0.1; fill:none\" points=\"1643.44,1469.17 1643.44,47.2441 \"/>\n",
       "<polyline clip-path=\"url(#clip732)\" style=\"stroke:#000000; stroke-linecap:round; stroke-linejoin:round; stroke-width:2; stroke-opacity:0.1; fill:none\" points=\"2352.76,1469.17 2352.76,47.2441 \"/>\n",
       "<polyline clip-path=\"url(#clip732)\" style=\"stroke:#000000; stroke-linecap:round; stroke-linejoin:round; stroke-width:2; stroke-opacity:0.1; fill:none\" points=\"224.804,1172.83 2352.76,1172.83 \"/>\n",
       "<polyline clip-path=\"url(#clip732)\" style=\"stroke:#000000; stroke-linecap:round; stroke-linejoin:round; stroke-width:2; stroke-opacity:0.1; fill:none\" points=\"224.804,828.821 2352.76,828.821 \"/>\n",
       "<polyline clip-path=\"url(#clip732)\" style=\"stroke:#000000; stroke-linecap:round; stroke-linejoin:round; stroke-width:2; stroke-opacity:0.1; fill:none\" points=\"224.804,484.808 2352.76,484.808 \"/>\n",
       "<polyline clip-path=\"url(#clip732)\" style=\"stroke:#000000; stroke-linecap:round; stroke-linejoin:round; stroke-width:2; stroke-opacity:0.1; fill:none\" points=\"224.804,140.795 2352.76,140.795 \"/>\n",
       "<polyline clip-path=\"url(#clip730)\" style=\"stroke:#000000; stroke-linecap:round; stroke-linejoin:round; stroke-width:4; stroke-opacity:1; fill:none\" points=\"224.804,1469.17 2352.76,1469.17 \"/>\n",
       "<polyline clip-path=\"url(#clip730)\" style=\"stroke:#000000; stroke-linecap:round; stroke-linejoin:round; stroke-width:4; stroke-opacity:1; fill:none\" points=\"224.804,1469.17 224.804,1450.27 \"/>\n",
       "<polyline clip-path=\"url(#clip730)\" style=\"stroke:#000000; stroke-linecap:round; stroke-linejoin:round; stroke-width:4; stroke-opacity:1; fill:none\" points=\"934.121,1469.17 934.121,1450.27 \"/>\n",
       "<polyline clip-path=\"url(#clip730)\" style=\"stroke:#000000; stroke-linecap:round; stroke-linejoin:round; stroke-width:4; stroke-opacity:1; fill:none\" points=\"1643.44,1469.17 1643.44,1450.27 \"/>\n",
       "<polyline clip-path=\"url(#clip730)\" style=\"stroke:#000000; stroke-linecap:round; stroke-linejoin:round; stroke-width:4; stroke-opacity:1; fill:none\" points=\"2352.76,1469.17 2352.76,1450.27 \"/>\n",
       "<path clip-path=\"url(#clip730)\" d=\"M145.343 1527.92 L189.856 1527.92 L189.856 1533.83 L145.343 1533.83 L145.343 1527.92 Z\" fill=\"#000000\" fill-rule=\"nonzero\" fill-opacity=\"1\" /><path clip-path=\"url(#clip730)\" d=\"M211.037 1547.27 L235.516 1547.27 L235.516 1553.17 L202.599 1553.17 L202.599 1547.27 Q206.592 1543.13 213.467 1536.19 Q220.377 1529.21 222.148 1527.2 Q225.516 1523.41 226.835 1520.81 Q228.189 1518.17 228.189 1515.63 Q228.189 1511.5 225.273 1508.9 Q222.391 1506.29 217.738 1506.29 Q214.439 1506.29 210.759 1507.44 Q207.113 1508.58 202.946 1510.91 L202.946 1503.83 Q207.182 1502.13 210.863 1501.26 Q214.544 1500.39 217.599 1500.39 Q225.655 1500.39 230.446 1504.42 Q235.238 1508.45 235.238 1515.18 Q235.238 1518.38 234.023 1521.26 Q232.842 1524.11 229.682 1527.99 Q228.814 1529 224.162 1533.83 Q219.509 1538.62 211.037 1547.27 Z\" fill=\"#000000\" fill-rule=\"nonzero\" fill-opacity=\"1\" /><path clip-path=\"url(#clip730)\" d=\"M250.238 1544.35 L257.564 1544.35 L257.564 1553.17 L250.238 1553.17 L250.238 1544.35 Z\" fill=\"#000000\" fill-rule=\"nonzero\" fill-opacity=\"1\" /><path clip-path=\"url(#clip730)\" d=\"M272.911 1501.33 L300.446 1501.33 L300.446 1507.23 L279.335 1507.23 L279.335 1519.94 Q280.863 1519.42 282.39 1519.18 Q283.918 1518.9 285.446 1518.9 Q294.126 1518.9 299.196 1523.65 Q304.265 1528.41 304.265 1536.54 Q304.265 1544.9 299.057 1549.56 Q293.849 1554.17 284.37 1554.17 Q281.106 1554.17 277.703 1553.62 Q274.335 1553.06 270.724 1551.95 L270.724 1544.9 Q273.849 1546.61 277.182 1547.44 Q280.515 1548.27 284.231 1548.27 Q290.238 1548.27 293.744 1545.11 Q297.251 1541.95 297.251 1536.54 Q297.251 1531.12 293.744 1527.96 Q290.238 1524.8 284.231 1524.8 Q281.418 1524.8 278.606 1525.42 Q275.828 1526.05 272.911 1527.37 L272.911 1501.33 Z\" fill=\"#000000\" fill-rule=\"nonzero\" fill-opacity=\"1\" /><path clip-path=\"url(#clip730)\" d=\"M900.198 1505.95 Q894.781 1505.95 892.038 1511.29 Q889.33 1516.61 889.33 1527.3 Q889.33 1537.96 892.038 1543.31 Q894.781 1548.62 900.198 1548.62 Q905.649 1548.62 908.357 1543.31 Q911.101 1537.96 911.101 1527.3 Q911.101 1516.61 908.357 1511.29 Q905.649 1505.95 900.198 1505.95 M900.198 1500.39 Q908.913 1500.39 913.496 1507.3 Q918.114 1514.18 918.114 1527.3 Q918.114 1540.39 913.496 1547.3 Q908.913 1554.17 900.198 1554.17 Q891.483 1554.17 886.865 1547.3 Q882.281 1540.39 882.281 1527.3 Q882.281 1514.18 886.865 1507.3 Q891.483 1500.39 900.198 1500.39 Z\" fill=\"#000000\" fill-rule=\"nonzero\" fill-opacity=\"1\" /><path clip-path=\"url(#clip730)\" d=\"M930.441 1544.35 L937.767 1544.35 L937.767 1553.17 L930.441 1553.17 L930.441 1544.35 Z\" fill=\"#000000\" fill-rule=\"nonzero\" fill-opacity=\"1\" /><path clip-path=\"url(#clip730)\" d=\"M968.045 1505.95 Q962.628 1505.95 959.885 1511.29 Q957.177 1516.61 957.177 1527.3 Q957.177 1537.96 959.885 1543.31 Q962.628 1548.62 968.045 1548.62 Q973.496 1548.62 976.204 1543.31 Q978.947 1537.96 978.947 1527.3 Q978.947 1516.61 976.204 1511.29 Q973.496 1505.95 968.045 1505.95 M968.045 1500.39 Q976.76 1500.39 981.343 1507.3 Q985.961 1514.18 985.961 1527.3 Q985.961 1540.39 981.343 1547.3 Q976.76 1554.17 968.045 1554.17 Q959.329 1554.17 954.711 1547.3 Q950.128 1540.39 950.128 1527.3 Q950.128 1514.18 954.711 1507.3 Q959.329 1500.39 968.045 1500.39 Z\" fill=\"#000000\" fill-rule=\"nonzero\" fill-opacity=\"1\" /><path clip-path=\"url(#clip730)\" d=\"M1601.04 1547.27 L1625.52 1547.27 L1625.52 1553.17 L1592.61 1553.17 L1592.61 1547.27 Q1596.6 1543.13 1603.47 1536.19 Q1610.38 1529.21 1612.15 1527.2 Q1615.52 1523.41 1616.84 1520.81 Q1618.2 1518.17 1618.2 1515.63 Q1618.2 1511.5 1615.28 1508.9 Q1612.4 1506.29 1607.74 1506.29 Q1604.45 1506.29 1600.77 1507.44 Q1597.12 1508.58 1592.95 1510.91 L1592.95 1503.83 Q1597.19 1502.13 1600.87 1501.26 Q1604.55 1500.39 1607.61 1500.39 Q1615.66 1500.39 1620.45 1504.42 Q1625.24 1508.45 1625.24 1515.18 Q1625.24 1518.38 1624.03 1521.26 Q1622.85 1524.11 1619.69 1527.99 Q1618.82 1529 1614.17 1533.83 Q1609.52 1538.62 1601.04 1547.27 Z\" fill=\"#000000\" fill-rule=\"nonzero\" fill-opacity=\"1\" /><path clip-path=\"url(#clip730)\" d=\"M1640.24 1544.35 L1647.57 1544.35 L1647.57 1553.17 L1640.24 1553.17 L1640.24 1544.35 Z\" fill=\"#000000\" fill-rule=\"nonzero\" fill-opacity=\"1\" /><path clip-path=\"url(#clip730)\" d=\"M1662.92 1501.33 L1690.45 1501.33 L1690.45 1507.23 L1669.34 1507.23 L1669.34 1519.94 Q1670.87 1519.42 1672.4 1519.18 Q1673.92 1518.9 1675.45 1518.9 Q1684.13 1518.9 1689.2 1523.65 Q1694.27 1528.41 1694.27 1536.54 Q1694.27 1544.9 1689.06 1549.56 Q1683.86 1554.17 1674.38 1554.17 Q1671.11 1554.17 1667.71 1553.62 Q1664.34 1553.06 1660.73 1551.95 L1660.73 1544.9 Q1663.86 1546.61 1667.19 1547.44 Q1670.52 1548.27 1674.24 1548.27 Q1680.24 1548.27 1683.75 1545.11 Q1687.26 1541.95 1687.26 1536.54 Q1687.26 1531.12 1683.75 1527.96 Q1680.24 1524.8 1674.24 1524.8 Q1671.42 1524.8 1668.61 1525.42 Q1665.83 1526.05 1662.92 1527.37 L1662.92 1501.33 Z\" fill=\"#000000\" fill-rule=\"nonzero\" fill-opacity=\"1\" /><path clip-path=\"url(#clip730)\" d=\"M2303.5 1501.33 L2331.04 1501.33 L2331.04 1507.23 L2309.93 1507.23 L2309.93 1519.94 Q2311.45 1519.42 2312.98 1519.18 Q2314.51 1518.9 2316.04 1518.9 Q2324.72 1518.9 2329.79 1523.65 Q2334.86 1528.41 2334.86 1536.54 Q2334.86 1544.9 2329.65 1549.56 Q2324.44 1554.17 2314.96 1554.17 Q2311.7 1554.17 2308.29 1553.62 Q2304.93 1553.06 2301.32 1551.95 L2301.32 1544.9 Q2304.44 1546.61 2307.77 1547.44 Q2311.11 1548.27 2314.82 1548.27 Q2320.83 1548.27 2324.34 1545.11 Q2327.84 1541.95 2327.84 1536.54 Q2327.84 1531.12 2324.34 1527.96 Q2320.83 1524.8 2314.82 1524.8 Q2312.01 1524.8 2309.2 1525.42 Q2306.42 1526.05 2303.5 1527.37 L2303.5 1501.33 Z\" fill=\"#000000\" fill-rule=\"nonzero\" fill-opacity=\"1\" /><path clip-path=\"url(#clip730)\" d=\"M2348.68 1544.35 L2356 1544.35 L2356 1553.17 L2348.68 1553.17 L2348.68 1544.35 Z\" fill=\"#000000\" fill-rule=\"nonzero\" fill-opacity=\"1\" /><path clip-path=\"url(#clip730)\" d=\"M2386.28 1505.95 Q2380.86 1505.95 2378.12 1511.29 Q2375.41 1516.61 2375.41 1527.3 Q2375.41 1537.96 2378.12 1543.31 Q2380.86 1548.62 2386.28 1548.62 Q2391.73 1548.62 2394.44 1543.31 Q2397.18 1537.96 2397.18 1527.3 Q2397.18 1516.61 2394.44 1511.29 Q2391.73 1505.95 2386.28 1505.95 M2386.28 1500.39 Q2395 1500.39 2399.58 1507.3 Q2404.2 1514.18 2404.2 1527.3 Q2404.2 1540.39 2399.58 1547.3 Q2395 1554.17 2386.28 1554.17 Q2377.56 1554.17 2372.95 1547.3 Q2368.36 1540.39 2368.36 1527.3 Q2368.36 1514.18 2372.95 1507.3 Q2377.56 1500.39 2386.28 1500.39 Z\" fill=\"#000000\" fill-rule=\"nonzero\" fill-opacity=\"1\" /><polyline clip-path=\"url(#clip730)\" style=\"stroke:#000000; stroke-linecap:round; stroke-linejoin:round; stroke-width:4; stroke-opacity:1; fill:none\" points=\"224.804,1469.17 224.804,47.2441 \"/>\n",
       "<polyline clip-path=\"url(#clip730)\" style=\"stroke:#000000; stroke-linecap:round; stroke-linejoin:round; stroke-width:4; stroke-opacity:1; fill:none\" points=\"224.804,1172.83 243.702,1172.83 \"/>\n",
       "<polyline clip-path=\"url(#clip730)\" style=\"stroke:#000000; stroke-linecap:round; stroke-linejoin:round; stroke-width:4; stroke-opacity:1; fill:none\" points=\"224.804,828.821 243.702,828.821 \"/>\n",
       "<polyline clip-path=\"url(#clip730)\" style=\"stroke:#000000; stroke-linecap:round; stroke-linejoin:round; stroke-width:4; stroke-opacity:1; fill:none\" points=\"224.804,484.808 243.702,484.808 \"/>\n",
       "<polyline clip-path=\"url(#clip730)\" style=\"stroke:#000000; stroke-linecap:round; stroke-linejoin:round; stroke-width:4; stroke-opacity:1; fill:none\" points=\"224.804,140.795 243.702,140.795 \"/>\n",
       "<path clip-path=\"url(#clip730)\" d=\"M50.9921 1173.51 L95.5058 1173.51 L95.5058 1179.41 L50.9921 1179.41 L50.9921 1173.51 Z\" fill=\"#000000\" fill-rule=\"nonzero\" fill-opacity=\"1\" /><path clip-path=\"url(#clip730)\" d=\"M116.686 1192.85 L141.165 1192.85 L141.165 1198.75 L108.249 1198.75 L108.249 1192.85 Q112.242 1188.72 119.117 1181.77 Q126.026 1174.8 127.797 1172.78 Q131.165 1169 132.485 1166.39 Q133.839 1163.75 133.839 1161.22 Q133.839 1157.09 130.922 1154.48 Q128.04 1151.88 123.388 1151.88 Q120.089 1151.88 116.408 1153.02 Q112.763 1154.17 108.596 1156.5 L108.596 1149.41 Q112.832 1147.71 116.513 1146.84 Q120.193 1145.98 123.249 1145.98 Q131.304 1145.98 136.096 1150 Q140.887 1154.03 140.887 1160.77 Q140.887 1163.96 139.672 1166.84 Q138.492 1169.69 135.332 1173.58 Q134.464 1174.59 129.811 1179.41 Q125.158 1184.21 116.686 1192.85 Z\" fill=\"#000000\" fill-rule=\"nonzero\" fill-opacity=\"1\" /><path clip-path=\"url(#clip730)\" d=\"M170.887 1151.53 Q165.471 1151.53 162.728 1156.88 Q160.019 1162.19 160.019 1172.89 Q160.019 1183.55 162.728 1188.89 Q165.471 1194.21 170.887 1194.21 Q176.339 1194.21 179.047 1188.89 Q181.79 1183.55 181.79 1172.89 Q181.79 1162.19 179.047 1156.88 Q176.339 1151.53 170.887 1151.53 M170.887 1145.98 Q179.603 1145.98 184.186 1152.89 Q188.804 1159.76 188.804 1172.89 Q188.804 1185.98 184.186 1192.89 Q179.603 1199.76 170.887 1199.76 Q162.172 1199.76 157.554 1192.89 Q152.971 1185.98 152.971 1172.89 Q152.971 1159.76 157.554 1152.89 Q162.172 1145.98 170.887 1145.98 Z\" fill=\"#000000\" fill-rule=\"nonzero\" fill-opacity=\"1\" /><path clip-path=\"url(#clip730)\" d=\"M170.887 807.519 Q165.471 807.519 162.728 812.866 Q160.019 818.179 160.019 828.873 Q160.019 839.533 162.728 844.88 Q165.471 850.192 170.887 850.192 Q176.339 850.192 179.047 844.88 Q181.79 839.533 181.79 828.873 Q181.79 818.179 179.047 812.866 Q176.339 807.519 170.887 807.519 M170.887 801.963 Q179.603 801.963 184.186 808.873 Q188.804 815.748 188.804 828.873 Q188.804 841.963 184.186 848.873 Q179.603 855.748 170.887 855.748 Q162.172 855.748 157.554 848.873 Q152.971 841.963 152.971 828.873 Q152.971 815.748 157.554 808.873 Q162.172 801.963 170.887 801.963 Z\" fill=\"#000000\" fill-rule=\"nonzero\" fill-opacity=\"1\" /><path clip-path=\"url(#clip730)\" d=\"M116.686 504.825 L141.165 504.825 L141.165 510.728 L108.249 510.728 L108.249 504.825 Q112.242 500.694 119.117 493.749 Q126.026 486.77 127.797 484.756 Q131.165 480.971 132.485 478.367 Q133.839 475.728 133.839 473.194 Q133.839 469.062 130.922 466.458 Q128.04 463.853 123.388 463.853 Q120.089 463.853 116.408 464.999 Q112.763 466.145 108.596 468.471 L108.596 461.388 Q112.832 459.687 116.513 458.819 Q120.193 457.951 123.249 457.951 Q131.304 457.951 136.096 461.978 Q140.887 466.006 140.887 472.742 Q140.887 475.937 139.672 478.819 Q138.492 481.666 135.332 485.555 Q134.464 486.562 129.811 491.388 Q125.158 496.18 116.686 504.825 Z\" fill=\"#000000\" fill-rule=\"nonzero\" fill-opacity=\"1\" /><path clip-path=\"url(#clip730)\" d=\"M170.887 463.506 Q165.471 463.506 162.728 468.853 Q160.019 474.166 160.019 484.86 Q160.019 495.52 162.728 500.867 Q165.471 506.18 170.887 506.18 Q176.339 506.18 179.047 500.867 Q181.79 495.52 181.79 484.86 Q181.79 474.166 179.047 468.853 Q176.339 463.506 170.887 463.506 M170.887 457.951 Q179.603 457.951 184.186 464.86 Q188.804 471.735 188.804 484.86 Q188.804 497.95 184.186 504.86 Q179.603 511.735 170.887 511.735 Q162.172 511.735 157.554 504.86 Q152.971 497.95 152.971 484.86 Q152.971 471.735 157.554 464.86 Q162.172 457.951 170.887 457.951 Z\" fill=\"#000000\" fill-rule=\"nonzero\" fill-opacity=\"1\" /><path clip-path=\"url(#clip730)\" d=\"M129.915 120.987 L112.207 148.66 L129.915 148.66 L129.915 120.987 M128.075 114.875 L136.894 114.875 L136.894 148.66 L144.29 148.66 L144.29 154.493 L136.894 154.493 L136.894 166.715 L129.915 166.715 L129.915 154.493 L106.513 154.493 L106.513 147.722 L128.075 114.875 Z\" fill=\"#000000\" fill-rule=\"nonzero\" fill-opacity=\"1\" /><path clip-path=\"url(#clip730)\" d=\"M170.887 119.493 Q165.471 119.493 162.728 124.841 Q160.019 130.153 160.019 140.848 Q160.019 151.507 162.728 156.854 Q165.471 162.167 170.887 162.167 Q176.339 162.167 179.047 156.854 Q181.79 151.507 181.79 140.848 Q181.79 130.153 179.047 124.841 Q176.339 119.493 170.887 119.493 M170.887 113.938 Q179.603 113.938 184.186 120.848 Q188.804 127.723 188.804 140.848 Q188.804 153.938 184.186 160.847 Q179.603 167.722 170.887 167.722 Q162.172 167.722 157.554 160.847 Q152.971 153.938 152.971 140.848 Q152.971 127.723 157.554 120.848 Q162.172 113.938 170.887 113.938 Z\" fill=\"#000000\" fill-rule=\"nonzero\" fill-opacity=\"1\" /><polyline clip-path=\"url(#clip732)\" style=\"stroke:#009af9; stroke-linecap:round; stroke-linejoin:round; stroke-width:12; stroke-opacity:1; fill:none\" points=\"224.804,812.751 246.772,812.768 375.439,812.551 435.295,812.172 515.524,811.245 581.817,810.014 643.464,808.412 720.852,805.694 790.269,802.564 869.727,798.264 929.121,794.723 1005.09,790.219 1074.42,786.795 1153.33,784.948 1215.89,786.262 1254.75,788.903 1293.61,793.353 1323.37,798.22 1353.13,804.55 1374.1,809.992 1395.08,816.322 1416.06,823.604 1437.04,831.906 1468.39,846.354 1499.74,863.429 1517.57,874.38 1535.4,886.27 1553.23,899.124 1571.06,912.964 1588.71,927.657 1606.37,943.341 1624.02,960.018 1641.68,977.682 1661.1,998.238 1680.53,1019.94 1699.95,1042.73 1719.38,1066.55 1749.05,1104.7 1778.72,1144.61 1816.17,1196.6 1853.61,1248.99 1888.25,1296.11 1922.88,1339.95 1940.74,1360.51 1958.6,1379.19 1976.46,1395.6 1994.32,1409.27 2003.37,1415.01 2012.42,1419.85 2021.47,1423.74 2030.52,1426.6 2039.57,1428.35 2048.63,1428.92 2057.68,1428.24 2066.73,1426.21 2076.18,1422.57 2085.63,1417.28 2095.08,1410.23 2104.53,1401.33 2113.98,1390.46 2123.44,1377.51 2132.89,1362.37 2142.34,1344.93 2149.78,1329.48 2157.23,1312.48 2164.67,1293.84 2172.12,1273.52 2179.56,1251.46 2187.01,1227.58 2194.45,1201.83 2201.9,1174.14 2210.38,1140.16 2218.85,1103.49 2227.33,1064.02 2235.81,1021.66 2244.29,976.307 2252.76,927.854 2261.24,876.204 2269.72,821.255 2273.96,792.511 2278.2,762.904 2282.43,732.421 2286.67,701.05 2290.91,668.777 2295.15,635.59 2299.39,601.476 2303.63,566.422 2307.87,530.417 2312.11,493.447 2316.34,455.5 2320.58,416.563 2324.82,376.624 2329.06,335.672 2333.3,293.692 2337.54,250.674 2339.44,231.028 2341.34,211.169 2343.24,191.096 2345.15,170.808 2347.05,150.304 2348.95,129.583 2350.85,108.645 2352.76,87.4872 \"/>\n",
       "<polyline clip-path=\"url(#clip732)\" style=\"stroke:#e26f46; stroke-linecap:round; stroke-linejoin:round; stroke-width:12; stroke-opacity:1; fill:none\" points=\"224.804,828.821 246.772,828.821 375.439,828.821 435.295,828.821 515.524,828.821 581.817,828.821 643.464,828.821 720.852,828.821 790.269,828.821 869.727,828.821 929.121,828.821 1005.09,828.821 1074.42,828.821 1153.33,828.821 1215.89,828.821 1293.61,828.821 1353.13,828.821 1437.04,828.821 1499.74,828.821 1571.06,828.821 1641.68,828.821 1719.38,828.821 1778.72,828.821 1853.61,828.821 1922.88,828.821 1994.32,828.821 2066.73,828.821 2142.34,828.821 2201.9,828.821 2337.54,828.821 2352.76,828.821 \"/>\n",
       "<path clip-path=\"url(#clip730)\" d=\"M295.736 327.922 L587.176 327.922 L587.176 94.6416 L295.736 94.6416  Z\" fill=\"#ffffff\" fill-rule=\"evenodd\" fill-opacity=\"1\"/>\n",
       "<polyline clip-path=\"url(#clip730)\" style=\"stroke:#000000; stroke-linecap:round; stroke-linejoin:round; stroke-width:4; stroke-opacity:1; fill:none\" points=\"295.736,327.922 587.176,327.922 587.176,94.6416 295.736,94.6416 295.736,327.922 \"/>\n",
       "<polyline clip-path=\"url(#clip730)\" style=\"stroke:#009af9; stroke-linecap:round; stroke-linejoin:round; stroke-width:18; stroke-opacity:1; fill:none\" points=\"319.38,172.402 461.243,172.402 \"/>\n",
       "<path clip-path=\"url(#clip730)\" d=\"M505.651 201.933 Q502.942 208.877 500.373 210.995 Q497.804 213.113 493.498 213.113 L488.394 213.113 L488.394 207.766 L492.144 207.766 Q494.783 207.766 496.241 206.516 Q497.699 205.266 499.47 200.613 L500.616 197.697 L484.887 159.433 L491.658 159.433 L503.81 189.849 L515.963 159.433 L522.734 159.433 L505.651 201.933 Z\" fill=\"#000000\" fill-rule=\"nonzero\" fill-opacity=\"1\" /><path clip-path=\"url(#clip730)\" d=\"M533.671 192.419 L545.13 192.419 L545.13 152.87 L532.664 155.37 L532.664 148.982 L545.06 146.482 L552.074 146.482 L552.074 192.419 L563.532 192.419 L563.532 198.322 L533.671 198.322 L533.671 192.419 Z\" fill=\"#000000\" fill-rule=\"nonzero\" fill-opacity=\"1\" /><polyline clip-path=\"url(#clip730)\" style=\"stroke:#e26f46; stroke-linecap:round; stroke-linejoin:round; stroke-width:18; stroke-opacity:1; fill:none\" points=\"319.38,250.162 461.243,250.162 \"/>\n",
       "<path clip-path=\"url(#clip730)\" d=\"M505.651 279.693 Q502.942 286.637 500.373 288.755 Q497.804 290.873 493.498 290.873 L488.394 290.873 L488.394 285.526 L492.144 285.526 Q494.783 285.526 496.241 284.276 Q497.699 283.026 499.47 278.373 L500.616 275.457 L484.887 237.193 L491.658 237.193 L503.81 267.609 L515.963 237.193 L522.734 237.193 L505.651 279.693 Z\" fill=\"#000000\" fill-rule=\"nonzero\" fill-opacity=\"1\" /><path clip-path=\"url(#clip730)\" d=\"M538.498 270.179 L562.977 270.179 L562.977 276.082 L530.06 276.082 L530.06 270.179 Q534.053 266.047 540.928 259.102 Q547.838 252.123 549.609 250.109 Q552.977 246.325 554.296 243.721 Q555.65 241.082 555.65 238.547 Q555.65 234.415 552.734 231.811 Q549.852 229.207 545.199 229.207 Q541.9 229.207 538.22 230.353 Q534.574 231.498 530.408 233.825 L530.408 226.742 Q534.644 225.04 538.324 224.172 Q542.005 223.304 545.06 223.304 Q553.116 223.304 557.907 227.332 Q562.699 231.36 562.699 238.096 Q562.699 241.29 561.484 244.172 Q560.303 247.019 557.143 250.908 Q556.275 251.915 551.623 256.741 Q546.97 261.533 538.498 270.179 Z\" fill=\"#000000\" fill-rule=\"nonzero\" fill-opacity=\"1\" /></svg>\n"
      ]
     },
     "execution_count": 9,
     "metadata": {},
     "output_type": "execute_result"
    }
   ],
   "source": [
    "using Plots\n",
    "\n",
    "f(x) = exp(x) * cos(x) + 1\n",
    "plot([f, x -> 0], xlims=[-2.5, 5])"
   ]
  },
  {
   "cell_type": "markdown",
   "id": "53f643a4",
   "metadata": {
    "slideshow": {
     "slide_type": "slide"
    }
   },
   "source": [
    "# Numerical linear algebra"
   ]
  },
  {
   "cell_type": "markdown",
   "id": "c1e9f4c2",
   "metadata": {
    "cell_style": "split"
   },
   "source": [
    "## Finite algorithms for factorization\n",
    "* $QR = A$, such that $Q^T Q = I$ and $R$ is right-triangular.\n",
    "* $L U = A$, such that $L$ and $U$ are lower and upper triangular, respectively.\n",
    "\n",
    "## Infinite (iterative) algorithms\n",
    "\n",
    "* $X \\Lambda X^{-1} = A$ where $\\Lambda$ is diagonal.\n",
    "* $U \\Sigma V^T = A$, such that $U^T U = I$, $V^T V = I$, and $\\Sigma$ is diagonal with nonnegative entries.\n",
    "* Iterative solution of $Ax=b$ using Krylov basis $\\{b, Ab, A^2b, \\dotsc \\}$"
   ]
  },
  {
   "cell_type": "markdown",
   "id": "8b37a91a",
   "metadata": {
    "cell_style": "split"
   },
   "source": [
    "## Concepts\n",
    "* Accurate estimates of cost\n",
    "* Orthogonality, null spaces, projections\n",
    "* Geometry and modeling\n",
    "* Stable and backwards-stable algorithms\n",
    "* Conditioning\n",
    "* Develop a language in which to frame many concepts in the course"
   ]
  },
  {
   "cell_type": "markdown",
   "id": "8733c954",
   "metadata": {
    "slideshow": {
     "slide_type": "slide"
    }
   },
   "source": [
    "# Approximating functions from data"
   ]
  },
  {
   "cell_type": "markdown",
   "id": "32c2308d",
   "metadata": {
    "cell_style": "split"
   },
   "source": [
    "## Interpolation\n",
    "\n",
    "Given samples $(x_0, f(x_0)), (x_1, f(x_1)), \\dotsc$, determine an easily-computable function $g(x)$ that **exactly** fits these samples and behaves **sensibly** in between."
   ]
  },
  {
   "cell_type": "markdown",
   "id": "b4d7c50f",
   "metadata": {
    "cell_style": "split"
   },
   "source": [
    "## Regression\n",
    "\n",
    "Given **noisy** data $(x_0, y_0), (x_1, y_1), \\dotsc$, determine an easily-computable function $g(x)$ that **explains** these data."
   ]
  },
  {
   "cell_type": "markdown",
   "id": "47155e79",
   "metadata": {},
   "source": [
    "We will need to make subjective choices to specify a problem with a unique solution."
   ]
  },
  {
   "cell_type": "markdown",
   "id": "9dc52632",
   "metadata": {
    "slideshow": {
     "slide_type": "slide"
    }
   },
   "source": [
    "# Calculus: functions of functions"
   ]
  },
  {
   "cell_type": "markdown",
   "id": "52ddbd39",
   "metadata": {
    "cell_style": "split"
   },
   "source": [
    "## Differentiation\n",
    "\n",
    "Given a function $f(x)$ (as a computer program or callable function), define a new function\n",
    "\n",
    "$$g(x) \\approx f'(x). $$\n",
    "\n",
    "We can do this\n",
    "* Numerically (black box)\n",
    "* By-hand code transformation\n",
    "* Automatic code transformation"
   ]
  },
  {
   "cell_type": "markdown",
   "id": "86575335",
   "metadata": {
    "cell_style": "split"
   },
   "source": [
    "## Integration\n",
    "Given a function $f(x)$ (as a computer program or callable function), approximate the integral\n",
    "\n",
    "$$ \\int_a^b f(x) . $$"
   ]
  },
  {
   "cell_type": "markdown",
   "id": "585e42e5",
   "metadata": {
    "slideshow": {
     "slide_type": "slide"
    }
   },
   "source": [
    "# Numerical optimization\n",
    "\n",
    "Given a scalar function $f(x)$ (and perhaps its gradient $f'(x)$), determine\n",
    "$$ x_* = \\operatorname{argmin}_x f(x) . $$"
   ]
  },
  {
   "cell_type": "markdown",
   "id": "e74328db",
   "metadata": {
    "slideshow": {
     "slide_type": "slide"
    }
   },
   "source": [
    "# Differential equations\n",
    "\n",
    "Given a dynamical system\n",
    "$$ \\frac{\\partial u(t)}{\\partial t} = f(u(t)), $$\n",
    "and initial condition $u(0) = u_0$, estimate $u(t)$ for arbitrary $t$."
   ]
  },
  {
   "cell_type": "markdown",
   "id": "6d0376df",
   "metadata": {
    "slideshow": {
     "slide_type": "slide"
    }
   },
   "source": [
    "# Higher dimensions\n",
    "\n",
    "Many of these algorithms will generalize to functions of multiple variables.  Different algorithms may be needed for such \"high-dimensional\" problems."
   ]
  },
  {
   "cell_type": "markdown",
   "id": "a181eea5",
   "metadata": {
    "slideshow": {
     "slide_type": "slide"
    }
   },
   "source": [
    "# Computer Science = Runnable Abstraction Science"
   ]
  },
  {
   "cell_type": "markdown",
   "id": "b66498d2",
   "metadata": {
    "cell_style": "split"
   },
   "source": [
    "## In the \"grinder\"\n",
    "* Mathematical language and principles for each major class of method\n",
    "  * What is covered by theory\n",
    "  * When you're venturing off-trail\n",
    "  * Analytic tools to predict and debug\n",
    "* Realistic cost and exploitable structure\n",
    "  * Performance on modern hardware\n",
    "* Write/modify stand-alone code\n",
    "* Select and use (parallel) libraries"
   ]
  },
  {
   "cell_type": "markdown",
   "id": "ad132037",
   "metadata": {
    "cell_style": "split"
   },
   "source": [
    "## How can you trust the solution?\n",
    "* Verification: solving the problem right\n",
    "* Validation: solving the right problem\n",
    "\n",
    "## Abstractions/collaboration\n",
    "* Domain scientists, engineers\n",
    "* Optimizers, statisticians\n",
    "* Abstractions that reduce cognitive load\n",
    "* Metrics/visualization for decisions"
   ]
  },
  {
   "cell_type": "markdown",
   "id": "d910b1c2",
   "metadata": {
    "slideshow": {
     "slide_type": "slide"
    }
   },
   "source": [
    "# On programming languages"
   ]
  },
  {
   "cell_type": "markdown",
   "id": "1b6d3017",
   "metadata": {
    "cell_style": "split"
   },
   "source": [
    "## C\n",
    "Reliable and popular for libraries (PETSc, etc.). \"Simple\", unsafe, capable of encapsulation.\n",
    "\n",
    "## C++\n",
    "Popular with applications and some libraries. Powerful, but complicated and unsafe.\n",
    "\n",
    "## Fortran\n",
    "The OG of numerical computing. Good for \"array programming\", but encapsulation is hard. Unsafe depending on dialect."
   ]
  },
  {
   "cell_type": "markdown",
   "id": "19695d74",
   "metadata": {
    "cell_style": "split"
   },
   "source": [
    "## Julia\n",
    "For ground-up examples in class and in activities. Capable of high performance, expressive multiple dispatch, works well in a notebook. Error messages are not great.\n",
    "\n",
    "## Python\n",
    "Good access to JIT, though with sharp edges. Poor native performance, but good libraries to compiled code.\n",
    "\n",
    "## Rust\n",
    "New compiled language. Good performance, encapsulation, safety, static analysis. Poor libraries (so far)."
   ]
  },
  {
   "cell_type": "markdown",
   "id": "9e462589",
   "metadata": {},
   "source": [
    "You don't need to know any of these well and you can choose the language for your project."
   ]
  },
  {
   "cell_type": "markdown",
   "id": "51106d86",
   "metadata": {
    "slideshow": {
     "slide_type": "slide"
    }
   },
   "source": [
    "<img src=\"../img/Butler1988-Table1.png\" width=\"80%\" />"
   ]
  },
  {
   "cell_type": "markdown",
   "id": "a69f134c",
   "metadata": {
    "slideshow": {
     "slide_type": "slide"
    }
   },
   "source": [
    "# I won't grade and I won't waste your time"
   ]
  },
  {
   "cell_type": "markdown",
   "id": "1ad89faa",
   "metadata": {
    "cell_style": "center",
    "slideshow": {
     "slide_type": "fragment"
    }
   },
   "source": [
    "<div class=\"floatleft70\"\n",
    "\n",
    "  * I will provide feedback   \n",
    "  * I will be a mentor and guide navigating this field\n",
    "  * I will help you get what you want out of the class (with a dash of wholesome context)\n",
    "\n",
    "  > My mom said, \"basically, your professor is asking you to be an adult\". That was too flexible.\n",
    "\n",
    "  > In other classes, I didn’t feel like I could bounce back, but in this one I did.\n",
    "</div>\n",
    "\n",
    "<div class=\"floatright30\">\n",
    "<a href=\"https://www.wvupressonline.com/ungrading\"><img src=\"../img/Ungrading.jpg\" width=\"100%\" /></a>\n",
    "</div>"
   ]
  },
  {
   "cell_type": "markdown",
   "id": "2eec927d",
   "metadata": {
    "slideshow": {
     "slide_type": "slide"
    }
   },
   "source": [
    "# Formative vs Summative Assessment"
   ]
  },
  {
   "cell_type": "markdown",
   "id": "fdcfe852",
   "metadata": {
    "cell_style": "split"
   },
   "source": [
    "## Formative\n",
    "\n",
    "* Continual component of learning\n",
    "* Check our understanding\n",
    "* Guide next steps\n",
    "* Collaborative\n",
    "* Develops self-direction\n",
    "* Surrounded by formative assessment throughout our careers\n",
    "  * Learn to recognize these opportunities"
   ]
  },
  {
   "cell_type": "markdown",
   "id": "8a89456b",
   "metadata": {
    "cell_style": "split"
   },
   "source": [
    "## Summative\n",
    "\n",
    "* Instructor evaluation of student understanding after a unit\n",
    "* Driven by a need for \"fairness\" and \"objectivity\"\n",
    "  * Permeates culture and goals of a class\n",
    "  * Stifles creativity\n",
    "* Often adversarial\n",
    "* Goal is scoring/ranking, not learning itself\n",
    "* Feels \"cheap\" when encountered in careers"
   ]
  },
  {
   "cell_type": "markdown",
   "id": "333ffc2e",
   "metadata": {
    "slideshow": {
     "slide_type": "fragment"
    }
   },
   "source": [
    "This class centers formative assessment and the process by which you respond and reflect on it."
   ]
  },
  {
   "cell_type": "markdown",
   "id": "8b1167b9",
   "metadata": {
    "slideshow": {
     "slide_type": "slide"
    }
   },
   "source": [
    "# What about the letter grade?"
   ]
  },
  {
   "cell_type": "markdown",
   "id": "748b2379",
   "metadata": {
    "slideshow": {
     "slide_type": "fragment"
    }
   },
   "source": [
    "* Collect a portfolio of the work and insights you're most proud of\n",
    "  * You can follow your creativity\n",
    "* Journaling through the semester (setting goals, reflecting on formative assessments)\n",
    "* Individual meetings during the last week of the semester (mid-term preview)\n",
    "* We'll have a conversation and you'll propose a grade based on your portfolio\n",
    "  * I'll trust you."
   ]
  },
  {
   "cell_type": "markdown",
   "id": "6e66274a",
   "metadata": {
    "slideshow": {
     "slide_type": "fragment"
    }
   },
   "source": [
    "*I can nudge upward when students are too modest -- pretty common. In rare cases, I may adjust down.*"
   ]
  },
  {
   "cell_type": "markdown",
   "id": "123c7b1c",
   "metadata": {
    "slideshow": {
     "slide_type": "slide"
    }
   },
   "source": [
    "# What I need from you: Growth Mindset\n",
    "\n",
    "<img src=\"../img/Henry2019-Table1.png\" width=\"90%\" />"
   ]
  },
  {
   "cell_type": "markdown",
   "id": "f49cef9f",
   "metadata": {
    "slideshow": {
     "slide_type": "slide"
    }
   },
   "source": [
    "# What is \"AI\"?"
   ]
  },
  {
   "cell_type": "markdown",
   "id": "4848389e",
   "metadata": {
    "cell_style": "split",
    "slideshow": {
     "slide_type": "fragment"
    }
   },
   "source": [
    "## Epistemic Soundness\n",
    "\n",
    "Professionalism is understanding how to ask questions and how to assess reliability. This involves not just \"looking right\", but being \"right for the right reasons\".\n",
    "\n",
    "## Denial of Service Attack\n",
    "\n",
    "My goal is not to coach you to producing an artifact, but to guide your mental model of the subject matter. That is often done through activities that produce artifacts. \"AI\" products are counterfeit artifacts, not a product of a consistent mental model."
   ]
  },
  {
   "cell_type": "markdown",
   "id": "9e21eac4",
   "metadata": {
    "cell_style": "split",
    "slideshow": {
     "slide_type": "fragment"
    }
   },
   "source": [
    "## My policy: mutual trust\n",
    "\n",
    "Please do not use \"AI\" in this course. I will not surveil you, and I cannot check that you aren't using it."
   ]
  },
  {
   "cell_type": "markdown",
   "id": "47fe3ae4",
   "metadata": {
    "slideshow": {
     "slide_type": "slide"
    }
   },
   "source": [
    "# How will the semester look?"
   ]
  },
  {
   "cell_type": "markdown",
   "id": "583d6bfb",
   "metadata": {
    "cell_style": "split"
   },
   "source": [
    "## Lecture periods\n",
    "* Refresh, introduce, activity/group discussion, reflect\n",
    "* Pointers to further resources/activities\n",
    "\n",
    "## Readings and activities\n",
    "* Annotate assigned readings\n",
    "* (Short) coding, experiments, presentation of results\n",
    "* Use the math and programming tools of the field\n",
    "* Open-ended, go further occasionally\n",
    "\n",
    "## Journaling and portfolio\n",
    "* Set SMART goals, journal progress and revisions of those goals.\n",
    "* Meet/chat approx weekly to check in with partner"
   ]
  },
  {
   "cell_type": "markdown",
   "id": "c3f5351b",
   "metadata": {
    "cell_style": "split"
   },
   "source": [
    "## Projects (second half of semester)\n",
    "* Dig into community software that implements or relies on numerical computation\n",
    "* Short presentation on how the community works\n",
    " * Key stakeholders\n",
    " * Strengths and weaknesses\n",
    "* Discuss and critique\n",
    "\n",
    "## Original study or contribution\n",
    "* Tutorial, documentation, performance study, comparison, new features, new application\n",
    "* Reflect in a short presentation"
   ]
  },
  {
   "cell_type": "markdown",
   "id": "fc3d6bd3",
   "metadata": {
    "slideshow": {
     "slide_type": "slide"
    }
   },
   "source": [
    "# Expectations"
   ]
  },
  {
   "cell_type": "markdown",
   "id": "36d6ec3a",
   "metadata": {
    "cell_style": "split"
   },
   "source": [
    "1. Enter with a growth mindset, practice adaptive coping, and nurture your intrinsic motivation\n",
    "2. Attend class (in-person or virtual) and participate in discussions\n",
    "3. Annotate assigned readings and respond thoughtfully to prompts\n",
    "4. Make an honest attempt on activities\n",
    "5. Interact with the class notebooks and read reference material\n",
    "6 Set goals and track your progress\n",
    "  * revise these goals as you learn more\n",
    "7. Meet/chat with your partner weekly for at least a few minutes\n",
    "  * share how lecture and activities are going\n",
    "  * share your goals and how you're progressing\n",
    "  * identify questions"
   ]
  },
  {
   "cell_type": "markdown",
   "id": "df6203f5",
   "metadata": {
    "cell_style": "split"
   },
   "source": [
    "8. Ask or answer at least one question per week\n",
    "  * ask a question that you don't know the answer to\n",
    "  * ask a question that you do know the answer to, but you think will be a good exercise/seed for discussion \n",
    "  * ask me during office hours, write up your best understanding\n",
    "  * make a meme relevant to the class\n",
    "  * raise a concern or suggestion that you and/or peers have\n",
    "  * contribute an answer or relevant discussion to any of the above\n",
    "9. Individual and group projects\n"
   ]
  },
  {
   "cell_type": "markdown",
   "id": "b5acb449",
   "metadata": {
    "slideshow": {
     "slide_type": "slide"
    }
   },
   "source": [
    "# Advice from previous years\n",
    "\n",
    "\"What advice would you give to your former self at the start of the term?\""
   ]
  },
  {
   "cell_type": "markdown",
   "id": "e0da0194",
   "metadata": {
    "cell_style": "split",
    "slideshow": {
     "slide_type": ""
    }
   },
   "source": [
    "> Come in with “learn as much as you can” rather than “get good grade”.\n",
    "\n",
    "> Don’t get overwhelmed by “big dense equations”. Pay attention to initial concepts (stability, conditioning).\n",
    "\n",
    "> Be serious about linear algebra.\n",
    "\n",
    "> Take more initiative about how to manage time and structuring personal goals."
   ]
  },
  {
   "cell_type": "markdown",
   "id": "03fed074",
   "metadata": {
    "cell_style": "split"
   },
   "source": [
    "> Take your time and play with all the buttons, not “completionist”.\n",
    "\n",
    "> Calm down and really write the functions, visualize, and experiment. Biggest regret was not engaging with programming activities to build concepts from class independently.\n",
    "\n",
    "> Take things slow and don’t stress. Stay on top of topics, attend class, you’ll be okay."
   ]
  },
  {
   "cell_type": "markdown",
   "id": "a473030e",
   "metadata": {
    "slideshow": {
     "slide_type": "slide"
    }
   },
   "source": [
    "# Tools"
   ]
  },
  {
   "cell_type": "markdown",
   "id": "61105cbb",
   "metadata": {
    "cell_style": "split"
   },
   "source": [
    "## Git and GitHub\n",
    "\n",
    "* GitHub Classroom to manage repositories\n",
    "* Write using notebooks and markdown\n",
    "* Review using GitHub tools and nbgrader\n",
    "\n",
    "## Zulip\n",
    "\n",
    "* math- and code-aware team chat\n",
    "* live, informal\n",
    "* thread managemnet so a question in class can spin off into a deeper asynchronous conversation"
   ]
  },
  {
   "cell_type": "markdown",
   "id": "7850eace",
   "metadata": {
    "cell_style": "split"
   },
   "source": [
    "## Jupyter\n",
    "\n",
    "* RISE slides available on website\n",
    "* Activities with scaffolding\n",
    "* Nbgrader for writing feedback\n",
    "* Works with many languages; we'll mostly use Julia\n",
    "* Collaborative mode (new)\n",
    "\n",
    "## JupyterHub: [coding.csel.io](https://coding.csel.io)\n",
    "* Nothing to install, persistent storage\n",
    "* Select `Numerical Computation` tile"
   ]
  },
  {
   "cell_type": "markdown",
   "id": "400fc848",
   "metadata": {
    "cell_style": "center",
    "slideshow": {
     "slide_type": "slide"
    }
   },
   "source": [
    "# Poll: What is floating point arithmetic?"
   ]
  },
  {
   "cell_type": "markdown",
   "id": "73e46069",
   "metadata": {
    "cell_style": "split",
    "slideshow": {
     "slide_type": ""
    }
   },
   "source": [
    "1. fuzzy arithmetic\n",
    "2. exact arithmetic, correctly rounded\n",
    "3. the primary focus of numerical analysis"
   ]
  },
  {
   "cell_type": "code",
   "execution_count": 17,
   "id": "b3206a55",
   "metadata": {
    "cell_style": "split"
   },
   "outputs": [
    {
     "data": {
      "text/plain": [
       "0.30000000000000004"
      ]
     },
     "execution_count": 17,
     "metadata": {},
     "output_type": "execute_result"
    }
   ],
   "source": [
    "0.1 + 0.2\n"
   ]
  },
  {
   "cell_type": "code",
   "execution_count": 11,
   "id": "e2726136",
   "metadata": {
    "cell_style": "split",
    "slideshow": {
     "slide_type": "fragment"
    }
   },
   "outputs": [
    {
     "data": {
      "image/png": "[encoded data removed]",
      "image/svg+xml": [
       "<?xml version=\"1.0\" encoding=\"utf-8\"?>\n",
       "<svg xmlns=\"http://www.w3.org/2000/svg\" xmlns:xlink=\"http://www.w3.org/1999/xlink\" width=\"600\" height=\"400\" viewBox=\"0 0 2400 1600\">\n",
       "<defs>\n",
       "  <clipPath id=\"clip770\">\n",
       "    <rect x=\"0\" y=\"0\" width=\"2400\" height=\"1600\"/>\n",
       "  </clipPath>\n",
       "</defs>\n",
       "<path clip-path=\"url(#clip770)\" d=\"M0 1600 L2400 1600 L2400 0 L0 0  Z\" fill=\"#ffffff\" fill-rule=\"evenodd\" fill-opacity=\"1\"/>\n",
       "<defs>\n",
       "  <clipPath id=\"clip771\">\n",
       "    <rect x=\"480\" y=\"0\" width=\"1681\" height=\"1600\"/>\n",
       "  </clipPath>\n",
       "</defs>\n",
       "<path clip-path=\"url(#clip770)\" d=\"M366.73 1450.74 L2352.76 1450.74 L2352.76 47.2441 L366.73 47.2441  Z\" fill=\"#ffffff\" fill-rule=\"evenodd\" fill-opacity=\"1\"/>\n",
       "<defs>\n",
       "  <clipPath id=\"clip772\">\n",
       "    <rect x=\"366\" y=\"47\" width=\"1987\" height=\"1404\"/>\n",
       "  </clipPath>\n",
       "</defs>\n",
       "<polyline clip-path=\"url(#clip772)\" style=\"stroke:#000000; stroke-linecap:round; stroke-linejoin:round; stroke-width:2; stroke-opacity:0.1; fill:none\" points=\"366.73,1450 366.73,100 \"/>\n",
       "<polyline clip-path=\"url(#clip772)\" style=\"stroke:#000000; stroke-linecap:round; stroke-linejoin:round; stroke-width:2; stroke-opacity:0.1; fill:none\" points=\"863.237,1450 863.237,100 \"/>\n",
       "<polyline clip-path=\"url(#clip772)\" style=\"stroke:#000000; stroke-linecap:round; stroke-linejoin:round; stroke-width:2; stroke-opacity:0.1; fill:none\" points=\"1359.74,1450 1359.74,100 \"/>\n",
       "<polyline clip-path=\"url(#clip772)\" style=\"stroke:#000000; stroke-linecap:round; stroke-linejoin:round; stroke-width:2; stroke-opacity:0.1; fill:none\" points=\"1856.25,1450 1856.25,100 \"/>\n",
       "<polyline clip-path=\"url(#clip772)\" style=\"stroke:#000000; stroke-linecap:round; stroke-linejoin:round; stroke-width:2; stroke-opacity:0.1; fill:none\" points=\"2352.76,1450 2352.76,100 \"/>\n",
       "<polyline clip-path=\"url(#clip772)\" style=\"stroke:#000000; stroke-linecap:round; stroke-linejoin:round; stroke-width:2; stroke-opacity:0.1; fill:none\" points=\"366.73,1450 2352.76,1450 \"/>\n",
       "<polyline clip-path=\"url(#clip772)\" style=\"stroke:#000000; stroke-linecap:round; stroke-linejoin:round; stroke-width:2; stroke-opacity:0.1; fill:none\" points=\"366.73,1000 2352.76,1000 \"/>\n",
       "<polyline clip-path=\"url(#clip772)\" style=\"stroke:#000000; stroke-linecap:round; stroke-linejoin:round; stroke-width:2; stroke-opacity:0.1; fill:none\" points=\"366.73,475 2352.76,475 \"/>\n",
       "<polyline clip-path=\"url(#clip772)\" style=\"stroke:#000000; stroke-linecap:round; stroke-linejoin:round; stroke-width:2; stroke-opacity:0.1; fill:none\" points=\"366.73,100 2352.76,100 \"/>\n",
       "<polyline clip-path=\"url(#clip770)\" style=\"stroke:#000000; stroke-linecap:round; stroke-linejoin:round; stroke-width:4; stroke-opacity:1; fill:none\" points=\"366.73,1450 2352.76,1450 \"/>\n",
       "<polyline clip-path=\"url(#clip770)\" style=\"stroke:#000000; stroke-linecap:round; stroke-linejoin:round; stroke-width:4; stroke-opacity:1; fill:none\" points=\"366.73,1450 366.73,1450 \"/>\n",
       "<polyline clip-path=\"url(#clip770)\" style=\"stroke:#000000; stroke-linecap:round; stroke-linejoin:round; stroke-width:4; stroke-opacity:1; fill:none\" points=\"863.237,1450 863.237,1450 \"/>\n",
       "<polyline clip-path=\"url(#clip770)\" style=\"stroke:#000000; stroke-linecap:round; stroke-linejoin:round; stroke-width:4; stroke-opacity:1; fill:none\" points=\"1359.74,1450 1359.74,1450 \"/>\n",
       "<polyline clip-path=\"url(#clip770)\" style=\"stroke:#000000; stroke-linecap:round; stroke-linejoin:round; stroke-width:4; stroke-opacity:1; fill:none\" points=\"1856.25,1450 1856.25,1450 \"/>\n",
       "<polyline clip-path=\"url(#clip770)\" style=\"stroke:#000000; stroke-linecap:round; stroke-linejoin:round; stroke-width:4; stroke-opacity:1; fill:none\" points=\"2352.76,1450 2352.76,1450 \"/>\n",
       "<path clip-path=\"url(#clip770)\" d=\"M156.109 1532.25 L200.622 1532.25 L200.622 1538.15 L156.109 1538.15 L156.109 1532.25 Z\" fill=\"#000000\" fill-rule=\"nonzero\" fill-opacity=\"1\" /><path clip-path=\"url(#clip770)\" d=\"M216.976 1551.59 L228.435 1551.59 L228.435 1512.04 L215.969 1514.54 L215.969 1508.15 L228.365 1505.65 L235.379 1505.65 L235.379 1551.59 L246.837 1551.59 L246.837 1557.49 L216.976 1557.49 L216.976 1551.59 Z\" fill=\"#000000\" fill-rule=\"nonzero\" fill-opacity=\"1\" /><path clip-path=\"url(#clip770)\" d=\"M261.004 1548.67 L268.33 1548.67 L268.33 1557.49 L261.004 1557.49 L261.004 1548.67 Z\" fill=\"#000000\" fill-rule=\"nonzero\" fill-opacity=\"1\" /><path clip-path=\"url(#clip770)\" d=\"M298.608 1510.27 Q293.191 1510.27 290.448 1515.62 Q287.74 1520.93 287.74 1531.62 Q287.74 1542.28 290.448 1547.63 Q293.191 1552.94 298.608 1552.94 Q304.059 1552.94 306.767 1547.63 Q309.51 1542.28 309.51 1531.62 Q309.51 1520.93 306.767 1515.62 Q304.059 1510.27 298.608 1510.27 M298.608 1504.71 Q307.323 1504.71 311.906 1511.62 Q316.524 1518.5 316.524 1531.62 Q316.524 1544.71 311.906 1551.62 Q307.323 1558.5 298.608 1558.5 Q289.893 1558.5 285.274 1551.62 Q280.691 1544.71 280.691 1531.62 Q280.691 1518.5 285.274 1511.62 Q289.893 1504.71 298.608 1504.71 Z\" fill=\"#000000\" fill-rule=\"nonzero\" fill-opacity=\"1\" /><path clip-path=\"url(#clip770)\" d=\"M371.107 1519.3 L355.239 1535.23 L371.107 1551.1 L366.975 1555.3 L351.038 1539.37 L335.101 1555.3 L331.003 1551.1 L346.837 1535.23 L331.003 1519.3 L335.101 1515.09 L351.038 1531.03 L366.975 1515.09 L371.107 1519.3 Z\" fill=\"#000000\" fill-rule=\"nonzero\" fill-opacity=\"1\" /><path clip-path=\"url(#clip770)\" d=\"M389.649 1551.59 L401.107 1551.59 L401.107 1512.04 L388.642 1514.54 L388.642 1508.15 L401.038 1505.65 L408.052 1505.65 L408.052 1551.59 L419.51 1551.59 L419.51 1557.49 L389.649 1557.49 L389.649 1551.59 Z\" fill=\"#000000\" fill-rule=\"nonzero\" fill-opacity=\"1\" /><path clip-path=\"url(#clip770)\" d=\"M448.676 1510.27 Q443.26 1510.27 440.517 1515.62 Q437.808 1520.93 437.808 1531.62 Q437.808 1542.28 440.517 1547.63 Q443.26 1552.94 448.676 1552.94 Q454.128 1552.94 456.836 1547.63 Q459.579 1542.28 459.579 1531.62 Q459.579 1520.93 456.836 1515.62 Q454.128 1510.27 448.676 1510.27 M448.676 1504.71 Q457.392 1504.71 461.975 1511.62 Q466.593 1518.5 466.593 1531.62 Q466.593 1544.71 461.975 1551.62 Q457.392 1558.5 448.676 1558.5 Q439.961 1558.5 435.343 1551.62 Q430.76 1544.71 430.76 1531.62 Q430.76 1518.5 435.343 1511.62 Q439.961 1504.71 448.676 1504.71 Z\" fill=\"#000000\" fill-rule=\"nonzero\" fill-opacity=\"1\" /><path clip-path=\"url(#clip770)\" d=\"M466.593 1495.86 L502.76 1495.86 L502.76 1500.66 L466.593 1500.66 L466.593 1495.86 Z\" fill=\"#000000\" fill-rule=\"nonzero\" fill-opacity=\"1\" /><path clip-path=\"url(#clip770)\" d=\"M516.048 1511.58 L525.358 1511.58 L525.358 1479.45 L515.23 1481.48 L515.23 1476.29 L525.301 1474.25 L531 1474.25 L531 1511.58 L540.31 1511.58 L540.31 1516.37 L516.048 1516.37 L516.048 1511.58 Z\" fill=\"#000000\" fill-rule=\"nonzero\" fill-opacity=\"1\" /><path clip-path=\"url(#clip770)\" d=\"M551.877 1474.25 L574.249 1474.25 L574.249 1479.05 L557.096 1479.05 L557.096 1489.38 Q558.337 1488.95 559.579 1488.76 Q560.82 1488.53 562.061 1488.53 Q569.114 1488.53 573.233 1492.39 Q577.352 1496.26 577.352 1502.86 Q577.352 1509.66 573.12 1513.44 Q568.888 1517.19 561.187 1517.19 Q558.535 1517.19 555.77 1516.74 Q553.033 1516.29 550.099 1515.39 L550.099 1509.66 Q552.639 1511.04 555.347 1511.72 Q558.055 1512.4 561.074 1512.4 Q565.954 1512.4 568.804 1509.83 Q571.653 1507.26 571.653 1502.86 Q571.653 1498.46 568.804 1495.89 Q565.954 1493.33 561.074 1493.33 Q558.789 1493.33 556.503 1493.83 Q554.247 1494.34 551.877 1495.41 L551.877 1474.25 Z\" fill=\"#000000\" fill-rule=\"nonzero\" fill-opacity=\"1\" /><path clip-path=\"url(#clip770)\" d=\"M651.91 1532.25 L696.423 1532.25 L696.423 1538.15 L651.91 1538.15 L651.91 1532.25 Z\" fill=\"#000000\" fill-rule=\"nonzero\" fill-opacity=\"1\" /><path clip-path=\"url(#clip770)\" d=\"M711.632 1505.65 L739.166 1505.65 L739.166 1511.55 L718.055 1511.55 L718.055 1524.26 Q719.583 1523.74 721.111 1523.5 Q722.638 1523.22 724.166 1523.22 Q732.847 1523.22 737.916 1527.98 Q742.986 1532.73 742.986 1540.86 Q742.986 1549.23 737.777 1553.88 Q732.569 1558.5 723.09 1558.5 Q719.826 1558.5 716.423 1557.94 Q713.055 1557.39 709.444 1556.27 L709.444 1549.23 Q712.569 1550.93 715.902 1551.76 Q719.236 1552.59 722.951 1552.59 Q728.958 1552.59 732.465 1549.43 Q735.972 1546.27 735.972 1540.86 Q735.972 1535.44 732.465 1532.28 Q728.958 1529.12 722.951 1529.12 Q720.138 1529.12 717.326 1529.75 Q714.548 1530.37 711.632 1531.69 L711.632 1505.65 Z\" fill=\"#000000\" fill-rule=\"nonzero\" fill-opacity=\"1\" /><path clip-path=\"url(#clip770)\" d=\"M756.805 1548.67 L764.131 1548.67 L764.131 1557.49 L756.805 1557.49 L756.805 1548.67 Z\" fill=\"#000000\" fill-rule=\"nonzero\" fill-opacity=\"1\" /><path clip-path=\"url(#clip770)\" d=\"M794.409 1510.27 Q788.992 1510.27 786.249 1515.62 Q783.541 1520.93 783.541 1531.62 Q783.541 1542.28 786.249 1547.63 Q788.992 1552.94 794.409 1552.94 Q799.86 1552.94 802.569 1547.63 Q805.312 1542.28 805.312 1531.62 Q805.312 1520.93 802.569 1515.62 Q799.86 1510.27 794.409 1510.27 M794.409 1504.71 Q803.124 1504.71 807.707 1511.62 Q812.325 1518.5 812.325 1531.62 Q812.325 1544.71 807.707 1551.62 Q803.124 1558.5 794.409 1558.5 Q785.694 1558.5 781.076 1551.62 Q776.492 1544.71 776.492 1531.62 Q776.492 1518.5 781.076 1511.62 Q785.694 1504.71 794.409 1504.71 Z\" fill=\"#000000\" fill-rule=\"nonzero\" fill-opacity=\"1\" /><path clip-path=\"url(#clip770)\" d=\"M866.908 1519.3 L851.041 1535.23 L866.908 1551.1 L862.777 1555.3 L846.839 1539.37 L830.902 1555.3 L826.805 1551.1 L842.638 1535.23 L826.805 1519.3 L830.902 1515.09 L846.839 1531.03 L862.777 1515.09 L866.908 1519.3 Z\" fill=\"#000000\" fill-rule=\"nonzero\" fill-opacity=\"1\" /><path clip-path=\"url(#clip770)\" d=\"M885.45 1551.59 L896.908 1551.59 L896.908 1512.04 L884.443 1514.54 L884.443 1508.15 L896.839 1505.65 L903.853 1505.65 L903.853 1551.59 L915.311 1551.59 L915.311 1557.49 L885.45 1557.49 L885.45 1551.59 Z\" fill=\"#000000\" fill-rule=\"nonzero\" fill-opacity=\"1\" /><path clip-path=\"url(#clip770)\" d=\"M944.478 1510.27 Q939.061 1510.27 936.318 1515.62 Q933.61 1520.93 933.61 1531.62 Q933.61 1542.28 936.318 1547.63 Q939.061 1552.94 944.478 1552.94 Q949.929 1552.94 952.637 1547.63 Q955.38 1542.28 955.38 1531.62 Q955.38 1520.93 952.637 1515.62 Q949.929 1510.27 944.478 1510.27 M944.478 1504.71 Q953.193 1504.71 957.776 1511.62 Q962.394 1518.5 962.394 1531.62 Q962.394 1544.71 957.776 1551.62 Q953.193 1558.5 944.478 1558.5 Q935.762 1558.5 931.144 1551.62 Q926.561 1544.71 926.561 1531.62 Q926.561 1518.5 931.144 1511.62 Q935.762 1504.71 944.478 1504.71 Z\" fill=\"#000000\" fill-rule=\"nonzero\" fill-opacity=\"1\" /><path clip-path=\"url(#clip770)\" d=\"M962.394 1495.86 L998.561 1495.86 L998.561 1500.66 L962.394 1500.66 L962.394 1495.86 Z\" fill=\"#000000\" fill-rule=\"nonzero\" fill-opacity=\"1\" /><path clip-path=\"url(#clip770)\" d=\"M1011.85 1511.58 L1021.16 1511.58 L1021.16 1479.45 L1011.03 1481.48 L1011.03 1476.29 L1021.1 1474.25 L1026.8 1474.25 L1026.8 1511.58 L1036.11 1511.58 L1036.11 1516.37 L1011.85 1516.37 L1011.85 1511.58 Z\" fill=\"#000000\" fill-rule=\"nonzero\" fill-opacity=\"1\" /><path clip-path=\"url(#clip770)\" d=\"M1060.51 1493.04 Q1056.68 1493.04 1054.42 1495.67 Q1052.19 1498.29 1052.19 1502.86 Q1052.19 1507.4 1054.42 1510.05 Q1056.68 1512.68 1060.51 1512.68 Q1064.35 1512.68 1066.58 1510.05 Q1068.84 1507.4 1068.84 1502.86 Q1068.84 1498.29 1066.58 1495.67 Q1064.35 1493.04 1060.51 1493.04 M1071.83 1475.19 L1071.83 1480.38 Q1069.68 1479.36 1067.48 1478.82 Q1065.31 1478.29 1063.17 1478.29 Q1057.52 1478.29 1054.53 1482.1 Q1051.57 1485.91 1051.15 1493.61 Q1052.81 1491.15 1055.32 1489.86 Q1057.83 1488.53 1060.85 1488.53 Q1067.2 1488.53 1070.87 1492.39 Q1074.56 1496.23 1074.56 1502.86 Q1074.56 1509.35 1070.73 1513.27 Q1066.89 1517.19 1060.51 1517.19 Q1053.21 1517.19 1049.34 1511.61 Q1045.48 1505.99 1045.48 1495.36 Q1045.48 1485.37 1050.22 1479.45 Q1054.96 1473.49 1062.94 1473.49 Q1065.08 1473.49 1067.26 1473.92 Q1069.46 1474.34 1071.83 1475.19 Z\" fill=\"#000000\" fill-rule=\"nonzero\" fill-opacity=\"1\" /><path clip-path=\"url(#clip770)\" d=\"M1359.74 1486.78 Q1354.33 1486.78 1351.58 1492.13 Q1348.88 1497.44 1348.88 1508.13 Q1348.88 1518.79 1351.58 1524.14 Q1354.33 1529.45 1359.74 1529.45 Q1365.19 1529.45 1367.9 1524.14 Q1370.65 1518.79 1370.65 1508.13 Q1370.65 1497.44 1367.9 1492.13 Q1365.19 1486.78 1359.74 1486.78 M1359.74 1481.22 Q1368.46 1481.22 1373.04 1488.13 Q1377.66 1495.01 1377.66 1508.13 Q1377.66 1521.22 1373.04 1528.13 Q1368.46 1535.01 1359.74 1535.01 Q1351.03 1535.01 1346.41 1528.13 Q1341.83 1521.22 1341.83 1508.13 Q1341.83 1495.01 1346.41 1488.13 Q1351.03 1481.22 1359.74 1481.22 Z\" fill=\"#000000\" fill-rule=\"nonzero\" fill-opacity=\"1\" /><path clip-path=\"url(#clip770)\" d=\"M1675.88 1505.65 L1703.41 1505.65 L1703.41 1511.55 L1682.3 1511.55 L1682.3 1524.26 Q1683.83 1523.74 1685.36 1523.5 Q1686.88 1523.22 1688.41 1523.22 Q1697.09 1523.22 1702.16 1527.98 Q1707.23 1532.73 1707.23 1540.86 Q1707.23 1549.23 1702.02 1553.88 Q1696.81 1558.5 1687.34 1558.5 Q1684.07 1558.5 1680.67 1557.94 Q1677.3 1557.39 1673.69 1556.27 L1673.69 1549.23 Q1676.81 1550.93 1680.15 1551.76 Q1683.48 1552.59 1687.2 1552.59 Q1693.2 1552.59 1696.71 1549.43 Q1700.22 1546.27 1700.22 1540.86 Q1700.22 1535.44 1696.71 1532.28 Q1693.2 1529.12 1687.2 1529.12 Q1684.38 1529.12 1681.57 1529.75 Q1678.79 1530.37 1675.88 1531.69 L1675.88 1505.65 Z\" fill=\"#000000\" fill-rule=\"nonzero\" fill-opacity=\"1\" /><path clip-path=\"url(#clip770)\" d=\"M1721.05 1548.67 L1728.38 1548.67 L1728.38 1557.49 L1721.05 1557.49 L1721.05 1548.67 Z\" fill=\"#000000\" fill-rule=\"nonzero\" fill-opacity=\"1\" /><path clip-path=\"url(#clip770)\" d=\"M1758.65 1510.27 Q1753.24 1510.27 1750.49 1515.62 Q1747.79 1520.93 1747.79 1531.62 Q1747.79 1542.28 1750.49 1547.63 Q1753.24 1552.94 1758.65 1552.94 Q1764.11 1552.94 1766.81 1547.63 Q1769.56 1542.28 1769.56 1531.62 Q1769.56 1520.93 1766.81 1515.62 Q1764.11 1510.27 1758.65 1510.27 M1758.65 1504.71 Q1767.37 1504.71 1771.95 1511.62 Q1776.57 1518.5 1776.57 1531.62 Q1776.57 1544.71 1771.95 1551.62 Q1767.37 1558.5 1758.65 1558.5 Q1749.94 1558.5 1745.32 1551.62 Q1740.74 1544.71 1740.74 1531.62 Q1740.74 1518.5 1745.32 1511.62 Q1749.94 1504.71 1758.65 1504.71 Z\" fill=\"#000000\" fill-rule=\"nonzero\" fill-opacity=\"1\" /><path clip-path=\"url(#clip770)\" d=\"M1831.15 1519.3 L1815.29 1535.23 L1831.15 1551.1 L1827.02 1555.3 L1811.08 1539.37 L1795.15 1555.3 L1791.05 1551.1 L1806.88 1535.23 L1791.05 1519.3 L1795.15 1515.09 L1811.08 1531.03 L1827.02 1515.09 L1831.15 1519.3 Z\" fill=\"#000000\" fill-rule=\"nonzero\" fill-opacity=\"1\" /><path clip-path=\"url(#clip770)\" d=\"M1849.7 1551.59 L1861.15 1551.59 L1861.15 1512.04 L1848.69 1514.54 L1848.69 1508.15 L1861.08 1505.65 L1868.1 1505.65 L1868.1 1551.59 L1879.56 1551.59 L1879.56 1557.49 L1849.7 1557.49 L1849.7 1551.59 Z\" fill=\"#000000\" fill-rule=\"nonzero\" fill-opacity=\"1\" /><path clip-path=\"url(#clip770)\" d=\"M1908.72 1510.27 Q1903.31 1510.27 1900.56 1515.62 Q1897.86 1520.93 1897.86 1531.62 Q1897.86 1542.28 1900.56 1547.63 Q1903.31 1552.94 1908.72 1552.94 Q1914.17 1552.94 1916.88 1547.63 Q1919.63 1542.28 1919.63 1531.62 Q1919.63 1520.93 1916.88 1515.62 Q1914.17 1510.27 1908.72 1510.27 M1908.72 1504.71 Q1917.44 1504.71 1922.02 1511.62 Q1926.64 1518.5 1926.64 1531.62 Q1926.64 1544.71 1922.02 1551.62 Q1917.44 1558.5 1908.72 1558.5 Q1900.01 1558.5 1895.39 1551.62 Q1890.81 1544.71 1890.81 1531.62 Q1890.81 1518.5 1895.39 1511.62 Q1900.01 1504.71 1908.72 1504.71 Z\" fill=\"#000000\" fill-rule=\"nonzero\" fill-opacity=\"1\" /><path clip-path=\"url(#clip770)\" d=\"M1926.64 1495.86 L1962.81 1495.86 L1962.81 1500.66 L1926.64 1500.66 L1926.64 1495.86 Z\" fill=\"#000000\" fill-rule=\"nonzero\" fill-opacity=\"1\" /><path clip-path=\"url(#clip770)\" d=\"M1976.09 1511.58 L1985.4 1511.58 L1985.4 1479.45 L1975.28 1481.48 L1975.28 1476.29 L1985.35 1474.25 L1991.05 1474.25 L1991.05 1511.58 L2000.36 1511.58 L2000.36 1516.37 L1976.09 1516.37 L1976.09 1511.58 Z\" fill=\"#000000\" fill-rule=\"nonzero\" fill-opacity=\"1\" /><path clip-path=\"url(#clip770)\" d=\"M2024.76 1493.04 Q2020.92 1493.04 2018.67 1495.67 Q2016.44 1498.29 2016.44 1502.86 Q2016.44 1507.4 2018.67 1510.05 Q2020.92 1512.68 2024.76 1512.68 Q2028.6 1512.68 2030.83 1510.05 Q2033.08 1507.4 2033.08 1502.86 Q2033.08 1498.29 2030.83 1495.67 Q2028.6 1493.04 2024.76 1493.04 M2036.07 1475.19 L2036.07 1480.38 Q2033.93 1479.36 2031.73 1478.82 Q2029.56 1478.29 2027.41 1478.29 Q2021.77 1478.29 2018.78 1482.1 Q2015.82 1485.91 2015.39 1493.61 Q2017.06 1491.15 2019.57 1489.86 Q2022.08 1488.53 2025.1 1488.53 Q2031.45 1488.53 2035.11 1492.39 Q2038.81 1496.23 2038.81 1502.86 Q2038.81 1509.35 2034.97 1513.27 Q2031.14 1517.19 2024.76 1517.19 Q2017.45 1517.19 2013.59 1511.61 Q2009.72 1505.99 2009.72 1495.36 Q2009.72 1485.37 2014.46 1479.45 Q2019.2 1473.49 2027.19 1473.49 Q2029.33 1473.49 2031.5 1473.92 Q2033.7 1474.34 2036.07 1475.19 Z\" fill=\"#000000\" fill-rule=\"nonzero\" fill-opacity=\"1\" /><path clip-path=\"url(#clip770)\" d=\"M2173.07 1551.59 L2184.53 1551.59 L2184.53 1512.04 L2172.06 1514.54 L2172.06 1508.15 L2184.46 1505.65 L2191.47 1505.65 L2191.47 1551.59 L2202.93 1551.59 L2202.93 1557.49 L2173.07 1557.49 L2173.07 1551.59 Z\" fill=\"#000000\" fill-rule=\"nonzero\" fill-opacity=\"1\" /><path clip-path=\"url(#clip770)\" d=\"M2217.1 1548.67 L2224.43 1548.67 L2224.43 1557.49 L2217.1 1557.49 L2217.1 1548.67 Z\" fill=\"#000000\" fill-rule=\"nonzero\" fill-opacity=\"1\" /><path clip-path=\"url(#clip770)\" d=\"M2254.7 1510.27 Q2249.29 1510.27 2246.54 1515.62 Q2243.84 1520.93 2243.84 1531.62 Q2243.84 1542.28 2246.54 1547.63 Q2249.29 1552.94 2254.7 1552.94 Q2260.15 1552.94 2262.86 1547.63 Q2265.61 1542.28 2265.61 1531.62 Q2265.61 1520.93 2262.86 1515.62 Q2260.15 1510.27 2254.7 1510.27 M2254.7 1504.71 Q2263.42 1504.71 2268 1511.62 Q2272.62 1518.5 2272.62 1531.62 Q2272.62 1544.71 2268 1551.62 Q2263.42 1558.5 2254.7 1558.5 Q2245.99 1558.5 2241.37 1551.62 Q2236.79 1544.71 2236.79 1531.62 Q2236.79 1518.5 2241.37 1511.62 Q2245.99 1504.71 2254.7 1504.71 Z\" fill=\"#000000\" fill-rule=\"nonzero\" fill-opacity=\"1\" /><path clip-path=\"url(#clip770)\" d=\"M2327.2 1519.3 L2311.33 1535.23 L2327.2 1551.1 L2323.07 1555.3 L2307.13 1539.37 L2291.2 1555.3 L2287.1 1551.1 L2302.93 1535.23 L2287.1 1519.3 L2291.2 1515.09 L2307.13 1531.03 L2323.07 1515.09 L2327.2 1519.3 Z\" fill=\"#000000\" fill-rule=\"nonzero\" fill-opacity=\"1\" /><path clip-path=\"url(#clip770)\" d=\"M2345.74 1551.59 L2357.2 1551.59 L2357.2 1512.04 L2344.74 1514.54 L2344.74 1508.15 L2357.13 1505.65 L2364.15 1505.65 L2364.15 1551.59 L2375.61 1551.59 L2375.61 1557.49 L2345.74 1557.49 L2345.74 1551.59 Z\" fill=\"#000000\" fill-rule=\"nonzero\" fill-opacity=\"1\" /><path clip-path=\"url(#clip770)\" d=\"M2404.77 1510.27 Q2399.36 1510.27 2396.61 1515.62 Q2393.9 1520.93 2393.9 1531.62 Q2393.9 1542.28 2396.61 1547.63 Q2399.36 1552.94 2404.77 1552.94 Q2410.22 1552.94 2412.93 1547.63 Q2415.67 1542.28 2415.67 1531.62 Q2415.67 1520.93 2412.93 1515.62 Q2410.22 1510.27 2404.77 1510.27 M2404.77 1504.71 Q2413.49 1504.71 2418.07 1511.62 Q2422.69 1518.5 2422.69 1531.62 Q2422.69 1544.71 2418.07 1551.62 Q2413.49 1558.5 2404.77 1558.5 Q2396.06 1558.5 2391.44 1551.62 Q2386.86 1544.71 2386.86 1531.62 Q2386.86 1518.5 2391.44 1511.62 Q2396.06 1504.71 2404.77 1504.71 Z\" fill=\"#000000\" fill-rule=\"nonzero\" fill-opacity=\"1\" /><path clip-path=\"url(#clip770)\" d=\"M2422.69 1495.86 L2458.86 1495.86 L2458.86 1500.66 L2422.69 1500.66 L2422.69 1495.86 Z\" fill=\"#000000\" fill-rule=\"nonzero\" fill-opacity=\"1\" /><path clip-path=\"url(#clip770)\" d=\"M2472.14 1511.58 L2481.45 1511.58 L2481.45 1479.45 L2471.33 1481.48 L2471.33 1476.29 L2481.4 1474.25 L2487.1 1474.25 L2487.1 1511.58 L2496.41 1511.58 L2496.41 1516.37 L2472.14 1516.37 L2472.14 1511.58 Z\" fill=\"#000000\" fill-rule=\"nonzero\" fill-opacity=\"1\" /><path clip-path=\"url(#clip770)\" d=\"M2507.97 1474.25 L2530.34 1474.25 L2530.34 1479.05 L2513.19 1479.05 L2513.19 1489.38 Q2514.43 1488.95 2515.67 1488.76 Q2516.92 1488.53 2518.16 1488.53 Q2525.21 1488.53 2529.33 1492.39 Q2533.45 1496.26 2533.45 1502.86 Q2533.45 1509.66 2529.22 1513.44 Q2524.98 1517.19 2517.28 1517.19 Q2514.63 1517.19 2511.87 1516.74 Q2509.13 1516.29 2506.19 1515.39 L2506.19 1509.66 Q2508.73 1511.04 2511.44 1511.72 Q2514.15 1512.4 2517.17 1512.4 Q2522.05 1512.4 2524.9 1509.83 Q2527.75 1507.26 2527.75 1502.86 Q2527.75 1498.46 2524.9 1495.89 Q2522.05 1493.33 2517.17 1493.33 Q2514.88 1493.33 2512.6 1493.83 Q2510.34 1494.34 2507.97 1495.41 L2507.97 1474.25 Z\" fill=\"#000000\" fill-rule=\"nonzero\" fill-opacity=\"1\" /><polyline clip-path=\"url(#clip770)\" style=\"stroke:#000000; stroke-linecap:round; stroke-linejoin:round; stroke-width:4; stroke-opacity:1; fill:none\" points=\"366.73,1450 366.73,100 \"/>\n",
       "<polyline clip-path=\"url(#clip770)\" style=\"stroke:#000000; stroke-linecap:round; stroke-linejoin:round; stroke-width:4; stroke-opacity:1; fill:none\" points=\"366.73,1450 385.628,1450 \"/>\n",
       "<polyline clip-path=\"url(#clip770)\" style=\"stroke:#000000; stroke-linecap:round; stroke-linejoin:round; stroke-width:4; stroke-opacity:1; fill:none\" points=\"366.73,1000 385.628,1000 \"/>\n",
       "<polyline clip-path=\"url(#clip770)\" style=\"stroke:#000000; stroke-linecap:round; stroke-linejoin:round; stroke-width:4; stroke-opacity:1; fill:none\" points=\"366.73,475 385.628,475 \"/>\n",
       "<polyline clip-path=\"url(#clip770)\" style=\"stroke:#000000; stroke-linecap:round; stroke-linejoin:round; stroke-width:4; stroke-opacity:1; fill:none\" points=\"366.73,100 385.628,100 \"/>\n",
       "<path clip-path=\"url(#clip770)\" d=\"M51.9991 1479.69 L63.4573 1479.69 L63.4573 1440.14 L50.9921 1442.64 L50.9921 1436.25 L63.3879 1433.75 L70.4017 1433.75 L70.4017 1479.69 L81.86 1479.69 L81.86 1485.59 L51.9991 1485.59 L51.9991 1479.69 Z\" fill=\"#000000\" fill-rule=\"nonzero\" fill-opacity=\"1\" /><path clip-path=\"url(#clip770)\" d=\"M96.0266 1476.77 L103.353 1476.77 L103.353 1485.59 L96.0266 1485.59 L96.0266 1476.77 Z\" fill=\"#000000\" fill-rule=\"nonzero\" fill-opacity=\"1\" /><path clip-path=\"url(#clip770)\" d=\"M133.631 1438.37 Q128.214 1438.37 125.471 1443.72 Q122.763 1449.03 122.763 1459.72 Q122.763 1470.38 125.471 1475.73 Q128.214 1481.04 133.631 1481.04 Q139.082 1481.04 141.79 1475.73 Q144.533 1470.38 144.533 1459.72 Q144.533 1449.03 141.79 1443.72 Q139.082 1438.37 133.631 1438.37 M133.631 1432.81 Q142.346 1432.81 146.929 1439.72 Q151.547 1446.6 151.547 1459.72 Q151.547 1472.81 146.929 1479.72 Q142.346 1486.6 133.631 1486.6 Q124.915 1486.6 120.297 1479.72 Q115.714 1472.81 115.714 1459.72 Q115.714 1446.6 120.297 1439.72 Q124.915 1432.81 133.631 1432.81 Z\" fill=\"#000000\" fill-rule=\"nonzero\" fill-opacity=\"1\" /><path clip-path=\"url(#clip770)\" d=\"M206.13 1447.4 L190.262 1463.33 L206.13 1479.2 L201.998 1483.4 L186.061 1467.47 L170.123 1483.4 L166.026 1479.2 L181.859 1463.33 L166.026 1447.4 L170.123 1443.2 L186.061 1459.13 L201.998 1443.2 L206.13 1447.4 Z\" fill=\"#000000\" fill-rule=\"nonzero\" fill-opacity=\"1\" /><path clip-path=\"url(#clip770)\" d=\"M224.672 1479.69 L236.13 1479.69 L236.13 1440.14 L223.665 1442.64 L223.665 1436.25 L236.061 1433.75 L243.074 1433.75 L243.074 1479.69 L254.533 1479.69 L254.533 1485.59 L224.672 1485.59 L224.672 1479.69 Z\" fill=\"#000000\" fill-rule=\"nonzero\" fill-opacity=\"1\" /><path clip-path=\"url(#clip770)\" d=\"M283.699 1438.37 Q278.283 1438.37 275.54 1443.72 Q272.831 1449.03 272.831 1459.72 Q272.831 1470.38 275.54 1475.73 Q278.283 1481.04 283.699 1481.04 Q289.151 1481.04 291.859 1475.73 Q294.602 1470.38 294.602 1459.72 Q294.602 1449.03 291.859 1443.72 Q289.151 1438.37 283.699 1438.37 M283.699 1432.81 Q292.414 1432.81 296.998 1439.72 Q301.616 1446.6 301.616 1459.72 Q301.616 1472.81 296.998 1479.72 Q292.414 1486.6 283.699 1486.6 Q274.984 1486.6 270.366 1479.72 Q265.783 1472.81 265.783 1459.72 Q265.783 1446.6 270.366 1439.72 Q274.984 1432.81 283.699 1432.81 Z\" fill=\"#000000\" fill-rule=\"nonzero\" fill-opacity=\"1\" /><path clip-path=\"url(#clip770)\" d=\"M316.173 1406.11 Q311.772 1406.11 309.543 1410.45 Q307.343 1414.77 307.343 1423.46 Q307.343 1432.12 309.543 1436.46 Q311.772 1440.78 316.173 1440.78 Q320.602 1440.78 322.803 1436.46 Q325.031 1432.12 325.031 1423.46 Q325.031 1414.77 322.803 1410.45 Q320.602 1406.11 316.173 1406.11 M316.173 1401.59 Q323.254 1401.59 326.978 1407.21 Q330.73 1412.79 330.73 1423.46 Q330.73 1434.09 326.978 1439.71 Q323.254 1445.29 316.173 1445.29 Q309.092 1445.29 305.34 1439.71 Q301.616 1434.09 301.616 1423.46 Q301.616 1412.79 305.34 1407.21 Q309.092 1401.59 316.173 1401.59 Z\" fill=\"#000000\" fill-rule=\"nonzero\" fill-opacity=\"1\" /><path clip-path=\"url(#clip770)\" d=\"M51.9991 1029.69 L63.4573 1029.69 L63.4573 990.14 L50.9921 992.64 L50.9921 986.251 L63.3879 983.751 L70.4017 983.751 L70.4017 1029.69 L81.86 1029.69 L81.86 1035.59 L51.9991 1035.59 L51.9991 1029.69 Z\" fill=\"#000000\" fill-rule=\"nonzero\" fill-opacity=\"1\" /><path clip-path=\"url(#clip770)\" d=\"M96.0266 1026.77 L103.353 1026.77 L103.353 1035.59 L96.0266 1035.59 L96.0266 1026.77 Z\" fill=\"#000000\" fill-rule=\"nonzero\" fill-opacity=\"1\" /><path clip-path=\"url(#clip770)\" d=\"M133.631 988.369 Q128.214 988.369 125.471 993.717 Q122.763 999.029 122.763 1009.72 Q122.763 1020.38 125.471 1025.73 Q128.214 1031.04 133.631 1031.04 Q139.082 1031.04 141.79 1025.73 Q144.533 1020.38 144.533 1009.72 Q144.533 999.029 141.79 993.717 Q139.082 988.369 133.631 988.369 M133.631 982.814 Q142.346 982.814 146.929 989.724 Q151.547 996.599 151.547 1009.72 Q151.547 1022.81 146.929 1029.72 Q142.346 1036.6 133.631 1036.6 Q124.915 1036.6 120.297 1029.72 Q115.714 1022.81 115.714 1009.72 Q115.714 996.599 120.297 989.724 Q124.915 982.814 133.631 982.814 Z\" fill=\"#000000\" fill-rule=\"nonzero\" fill-opacity=\"1\" /><path clip-path=\"url(#clip770)\" d=\"M206.13 997.397 L190.262 1013.33 L206.13 1029.2 L201.998 1033.4 L186.061 1017.47 L170.123 1033.4 L166.026 1029.2 L181.859 1013.33 L166.026 997.397 L170.123 993.196 L186.061 1009.13 L201.998 993.196 L206.13 997.397 Z\" fill=\"#000000\" fill-rule=\"nonzero\" fill-opacity=\"1\" /><path clip-path=\"url(#clip770)\" d=\"M224.672 1029.69 L236.13 1029.69 L236.13 990.14 L223.665 992.64 L223.665 986.251 L236.061 983.751 L243.074 983.751 L243.074 1029.69 L254.533 1029.69 L254.533 1035.59 L224.672 1035.59 L224.672 1029.69 Z\" fill=\"#000000\" fill-rule=\"nonzero\" fill-opacity=\"1\" /><path clip-path=\"url(#clip770)\" d=\"M283.699 988.369 Q278.283 988.369 275.54 993.717 Q272.831 999.029 272.831 1009.72 Q272.831 1020.38 275.54 1025.73 Q278.283 1031.04 283.699 1031.04 Q289.151 1031.04 291.859 1025.73 Q294.602 1020.38 294.602 1009.72 Q294.602 999.029 291.859 993.717 Q289.151 988.369 283.699 988.369 M283.699 982.814 Q292.414 982.814 296.998 989.724 Q301.616 996.599 301.616 1009.72 Q301.616 1022.81 296.998 1029.72 Q292.414 1036.6 283.699 1036.6 Q274.984 1036.6 270.366 1029.72 Q265.783 1022.81 265.783 1009.72 Q265.783 996.599 270.366 989.724 Q274.984 982.814 283.699 982.814 Z\" fill=\"#000000\" fill-rule=\"nonzero\" fill-opacity=\"1\" /><path clip-path=\"url(#clip770)\" d=\"M316.173 956.108 Q311.772 956.108 309.543 960.453 Q307.343 964.769 307.343 973.458 Q307.343 982.119 309.543 986.464 Q311.772 990.78 316.173 990.78 Q320.602 990.78 322.803 986.464 Q325.031 982.119 325.031 973.458 Q325.031 964.769 322.803 960.453 Q320.602 956.108 316.173 956.108 M316.173 951.594 Q323.254 951.594 326.978 957.208 Q330.73 962.794 330.73 973.458 Q330.73 984.094 326.978 989.708 Q323.254 995.294 316.173 995.294 Q309.092 995.294 305.34 989.708 Q301.616 984.094 301.616 973.458 Q301.616 962.794 305.34 957.208 Q309.092 951.594 316.173 951.594 Z\" fill=\"#000000\" fill-rule=\"nonzero\" fill-opacity=\"1\" /><path clip-path=\"url(#clip770)\" d=\"M51.9991 504.689 L63.4573 504.689 L63.4573 465.14 L50.9921 467.64 L50.9921 461.251 L63.3879 458.751 L70.4017 458.751 L70.4017 504.689 L81.86 504.689 L81.86 510.591 L51.9991 510.591 L51.9991 504.689 Z\" fill=\"#000000\" fill-rule=\"nonzero\" fill-opacity=\"1\" /><path clip-path=\"url(#clip770)\" d=\"M96.0266 501.772 L103.353 501.772 L103.353 510.591 L96.0266 510.591 L96.0266 501.772 Z\" fill=\"#000000\" fill-rule=\"nonzero\" fill-opacity=\"1\" /><path clip-path=\"url(#clip770)\" d=\"M133.631 463.369 Q128.214 463.369 125.471 468.717 Q122.763 474.029 122.763 484.723 Q122.763 495.383 125.471 500.73 Q128.214 506.043 133.631 506.043 Q139.082 506.043 141.79 500.73 Q144.533 495.383 144.533 484.723 Q144.533 474.029 141.79 468.717 Q139.082 463.369 133.631 463.369 M133.631 457.814 Q142.346 457.814 146.929 464.724 Q151.547 471.599 151.547 484.723 Q151.547 497.814 146.929 504.723 Q142.346 511.598 133.631 511.598 Q124.915 511.598 120.297 504.723 Q115.714 497.814 115.714 484.723 Q115.714 471.599 120.297 464.724 Q124.915 457.814 133.631 457.814 Z\" fill=\"#000000\" fill-rule=\"nonzero\" fill-opacity=\"1\" /><path clip-path=\"url(#clip770)\" d=\"M206.13 472.397 L190.262 488.335 L206.13 504.203 L201.998 508.404 L186.061 492.466 L170.123 508.404 L166.026 504.203 L181.859 488.335 L166.026 472.397 L170.123 468.196 L186.061 484.133 L201.998 468.196 L206.13 472.397 Z\" fill=\"#000000\" fill-rule=\"nonzero\" fill-opacity=\"1\" /><path clip-path=\"url(#clip770)\" d=\"M224.672 504.689 L236.13 504.689 L236.13 465.14 L223.665 467.64 L223.665 461.251 L236.061 458.751 L243.074 458.751 L243.074 504.689 L254.533 504.689 L254.533 510.591 L224.672 510.591 L224.672 504.689 Z\" fill=\"#000000\" fill-rule=\"nonzero\" fill-opacity=\"1\" /><path clip-path=\"url(#clip770)\" d=\"M283.699 463.369 Q278.283 463.369 275.54 468.717 Q272.831 474.029 272.831 484.723 Q272.831 495.383 275.54 500.73 Q278.283 506.043 283.699 506.043 Q289.151 506.043 291.859 500.73 Q294.602 495.383 294.602 484.723 Q294.602 474.029 291.859 468.717 Q289.151 463.369 283.699 463.369 M283.699 457.814 Q292.414 457.814 296.998 464.724 Q301.616 471.599 301.616 484.723 Q301.616 497.814 296.998 504.723 Q292.414 511.598 283.699 511.598 Q274.984 511.598 270.366 504.723 Q265.783 497.814 265.783 484.723 Q265.783 471.599 270.366 464.724 Q274.984 457.814 283.699 457.814 Z\" fill=\"#000000\" fill-rule=\"nonzero\" fill-opacity=\"1\" /><path clip-path=\"url(#clip770)\" d=\"M316.173 431.108 Q311.772 431.108 309.543 435.453 Q307.343 439.769 307.343 448.458 Q307.343 457.119 309.543 461.464 Q311.772 465.78 316.173 465.78 Q320.602 465.78 322.803 461.464 Q325.031 457.119 325.031 448.458 Q325.031 439.769 322.803 435.453 Q320.602 431.108 316.173 431.108 M316.173 426.594 Q323.254 426.594 326.978 432.208 Q330.73 437.794 330.73 448.458 Q330.73 459.094 326.978 464.708 Q323.254 470.294 316.173 470.294 Q309.092 470.294 305.34 464.708 Q301.616 459.094 301.616 448.458 Q301.616 437.794 305.34 432.208 Q309.092 426.594 316.173 426.594 Z\" fill=\"#000000\" fill-rule=\"nonzero\" fill-opacity=\"1\" /><path clip-path=\"url(#clip770)\" d=\"M51.9991 129.689 L63.4573 129.689 L63.4573 90.1403 L50.9921 92.6402 L50.9921 86.2514 L63.3879 83.7514 L70.4017 83.7514 L70.4017 129.689 L81.86 129.689 L81.86 135.591 L51.9991 135.591 L51.9991 129.689 Z\" fill=\"#000000\" fill-rule=\"nonzero\" fill-opacity=\"1\" /><path clip-path=\"url(#clip770)\" d=\"M96.0266 126.772 L103.353 126.772 L103.353 135.591 L96.0266 135.591 L96.0266 126.772 Z\" fill=\"#000000\" fill-rule=\"nonzero\" fill-opacity=\"1\" /><path clip-path=\"url(#clip770)\" d=\"M133.631 88.3694 Q128.214 88.3694 125.471 93.7166 Q122.763 99.0291 122.763 109.723 Q122.763 120.383 125.471 125.73 Q128.214 131.043 133.631 131.043 Q139.082 131.043 141.79 125.73 Q144.533 120.383 144.533 109.723 Q144.533 99.0291 141.79 93.7166 Q139.082 88.3694 133.631 88.3694 M133.631 82.8139 Q142.346 82.8139 146.929 89.7236 Q151.547 96.5986 151.547 109.723 Q151.547 122.814 146.929 129.723 Q142.346 136.598 133.631 136.598 Q124.915 136.598 120.297 129.723 Q115.714 122.814 115.714 109.723 Q115.714 96.5986 120.297 89.7236 Q124.915 82.8139 133.631 82.8139 Z\" fill=\"#000000\" fill-rule=\"nonzero\" fill-opacity=\"1\" /><path clip-path=\"url(#clip770)\" d=\"M206.13 97.3972 L190.262 113.335 L206.13 129.203 L201.998 133.404 L186.061 117.466 L170.123 133.404 L166.026 129.203 L181.859 113.335 L166.026 97.3972 L170.123 93.1958 L186.061 109.133 L201.998 93.1958 L206.13 97.3972 Z\" fill=\"#000000\" fill-rule=\"nonzero\" fill-opacity=\"1\" /><path clip-path=\"url(#clip770)\" d=\"M224.672 129.689 L236.13 129.689 L236.13 90.1403 L223.665 92.6402 L223.665 86.2514 L236.061 83.7514 L243.074 83.7514 L243.074 129.689 L254.533 129.689 L254.533 135.591 L224.672 135.591 L224.672 129.689 Z\" fill=\"#000000\" fill-rule=\"nonzero\" fill-opacity=\"1\" /><path clip-path=\"url(#clip770)\" d=\"M283.699 88.3694 Q278.283 88.3694 275.54 93.7166 Q272.831 99.0291 272.831 109.723 Q272.831 120.383 275.54 125.73 Q278.283 131.043 283.699 131.043 Q289.151 131.043 291.859 125.73 Q294.602 120.383 294.602 109.723 Q294.602 99.0291 291.859 93.7166 Q289.151 88.3694 283.699 88.3694 M283.699 82.8139 Q292.414 82.8139 296.998 89.7236 Q301.616 96.5986 301.616 109.723 Q301.616 122.814 296.998 129.723 Q292.414 136.598 283.699 136.598 Q274.984 136.598 270.366 129.723 Q265.783 122.814 265.783 109.723 Q265.783 96.5986 270.366 89.7236 Q274.984 82.8139 283.699 82.8139 Z\" fill=\"#000000\" fill-rule=\"nonzero\" fill-opacity=\"1\" /><path clip-path=\"url(#clip770)\" d=\"M316.173 56.108 Q311.772 56.108 309.543 60.4525 Q307.343 64.7689 307.343 73.4581 Q307.343 82.1191 309.543 86.4637 Q311.772 90.7801 316.173 90.7801 Q320.602 90.7801 322.803 86.4637 Q325.031 82.1191 325.031 73.4581 Q325.031 64.7689 322.803 60.4525 Q320.602 56.108 316.173 56.108 M316.173 51.5941 Q323.254 51.5941 326.978 57.2082 Q330.73 62.7941 330.73 73.4581 Q330.73 84.0939 326.978 89.708 Q323.254 95.2939 316.173 95.2939 Q309.092 95.2939 305.34 89.708 Q301.616 84.0939 301.616 73.4581 Q301.616 62.7941 305.34 57.2082 Q309.092 51.5941 316.173 51.5941 Z\" fill=\"#000000\" fill-rule=\"nonzero\" fill-opacity=\"1\" /><polyline clip-path=\"url(#clip772)\" style=\"stroke:#009af9; stroke-linecap:round; stroke-linejoin:round; stroke-width:12; stroke-opacity:1; fill:none\" points=\"366.73,1375 371.856,1375 376.982,1375 382.108,1375 387.233,1375 394.739,1375 402.244,1375 405.997,1375 409.749,1375 413.502,1375 417.255,1375 418.193,1375 419.131,1375 420.069,1375 421.007,1375 421.945,1375 422.884,1300 423.822,1300 424.76,1300 426.636,1300 428.513,1300 430.389,1300 432.265,1300 439.771,1300 447.276,1300 462.287,1300 477.297,1300 492.308,1300 507.318,1300 514.301,1300 521.284,1300 524.776,1300 528.267,1300 529.14,1300 530.013,1300 530.886,1300 531.759,1300 532.195,1300 532.632,1300 533.068,1300 533.504,1300 533.941,1300 534.377,1300 534.814,1300 535.25,1300 536.996,1300 538.742,1300 540.487,1300 542.233,1300 545.725,1300 549.216,1300 556.199,1300 563.182,1300 581.901,1300 600.621,1300 609.981,1300 619.34,1300 624.02,1300 628.7,1300 633.38,1300 638.06,1300 639.027,1300 639.993,1300 640.96,1300 641.927,1300 642.41,1300 642.894,1300 643.377,1225 643.86,1225 644.344,1225 644.827,1225 645.311,1225 645.794,1225 647.727,1225 649.661,1225 651.595,1225 653.528,1225 661.262,1225 668.996,1225 684.464,1225 699.932,1225 714.316,1225 728.7,1225 735.892,1225 743.084,1225 744.882,1225 746.68,1225 748.478,1225 750.275,1225 751.174,1225 752.073,1225 752.523,1225 752.972,1225 753.422,1150 753.871,1150 754.321,1150 754.77,1150 755.22,1150 755.669,1150 756.568,1150 757.467,1150 759.724,1150 761.982,1150 764.239,1150 766.496,1150 771.01,1150 775.524,1150 784.552,1150 793.581,1150 811.637,1150 829.694,1150 837.792,1150 845.891,1150 849.94,1150 853.989,1150 856.014,1150 858.038,1150 860.063,1150 862.087,1150 862.594,1150 863.1,1150 863.606,1150 864.112,1075 864.618,1075 865.124,1075 865.63,1075 866.137,1075 868.161,1075 870.186,1075 874.235,1075 878.284,1075 886.383,1075 894.481,1075 913.021,1075 931.56,1075 940.83,1075 950.1,1075 959.369,1075 968.639,1075 970.371,1075 972.104,1075 972.537,1075 972.97,1075 973.403,1075 973.836,1075 974.269,1000 974.702,1000 975.135,1000 975.568,1000 976.434,1000 977.3,1000 978.167,1000 979.033,1000 980.765,1000 982.497,1000 989.426,1000 996.356,1000 1010.21,1000 1024.07,1000 1041.8,1000 1059.52,1000 1063.95,1000 1068.38,1000 1072.82,1000 1077.25,1000 1079.46,1000 1081.68,1000 1082.23,1000 1082.79,1000 1083.34,1000 1083.89,1000 1084.45,925 1085,925 1085.56,925 1086.11,925 1087.22,925 1088.33,925 1089.43,925 1090.54,925 1092.76,925 1094.97,925 1111.15,925 1127.33,925 1143.51,925 1159.68,925 1168.89,925 1178.09,925 1182.7,925 1187.3,925 1189.6,925 1191.9,925 1192.48,925 1193.05,925 1193.63,925 1194.21,925 1194.78,850 1195.36,850 1195.93,850 1196.51,850 1197.66,850 1198.81,850 1199.96,850 1201.11,850 1203.41,850 1205.71,850 1210.32,850 1214.92,850 1224.13,850 1233.33,850 1262.52,850 1291.71,850 1293.98,850 1296.25,850 1298.51,850 1300.78,850 1301.91,850 1303.05,850 1303.61,850 1304.18,850 1304.75,775 1305.31,775 1305.88,775 1306.45,775 1307.01,775 1307.58,775 1308.71,775 1309.85,775 1314.38,775 1318.91,775 1323.45,775 1327.98,775 1346.11,775 1364.25,775 1392.02,775 1419.8,775 1429.59,775 1439.38,775 1449.17,775 1458.95,775 1461.4,775 1463.85,775 1465.07,775 1466.3,775 1467.52,775 1468.74,775 1469.36,775 1469.97,775 1470.58,625 1471.19,625 1471.8,625 1472.42,625 1473.03,625 1473.64,625 1476.09,625 1478.53,625 1483.43,625 1488.32,625 1493.22,625 1498.11,625 1527.37,625 1556.64,625 1589.91,625 1623.19,625 1639.67,625 1656.15,625 1664.39,625 1672.63,625 1676.75,625 1680.86,625 1684.98,625 1689.1,625 1689.67,625 1690.24,625 1690.8,475 1691.37,475 1691.94,475 1692.5,475 1693.07,475 1693.64,475 1695.9,475 1698.17,475 1702.7,475 1707.23,475 1716.3,475 1725.36,475 1743.49,475 1761.62,475 1789.31,475 1817.01,475 1851.96,475 1886.91,475 1890.95,475 1894.99,475 1899.03,475 1903.07,475 1905.09,475 1907.11,475 1908.12,475 1909.13,475 1909.63,475 1910.14,475 1910.64,475 1911.15,325 1911.65,325 1912.16,325 1912.66,325 1913.17,325 1914.18,325 1915.19,325 1917.21,325 1919.23,325 1927.31,325 1935.39,325 1943.47,325 1951.55,325 2018.23,325 2085.81,325 2094.63,325 2103.45,325 2112.27,325 2121.09,325 2123.29,325 2125.5,325 2126.6,325 2127.7,325 2128.81,325 2129.91,325 2130.46,325 2131.01,325 2131.56,250 2132.11,250 2132.67,250 2133.22,250 2133.77,250 2134.32,250 2136.52,250 2138.73,250 2143.14,250 2147.55,250 2151.96,250 2156.37,250 2184.17,250 2211.96,250 2275.26,250 2338.55,250 2345.65,250 2352.76,100 \"/>\n",
       "</svg>\n"
      ],
      "text/html": [
       "<?xml version=\"1.0\" encoding=\"utf-8\"?>\n",
       "<svg xmlns=\"http://www.w3.org/2000/svg\" xmlns:xlink=\"http://www.w3.org/1999/xlink\" width=\"600\" height=\"400\" viewBox=\"0 0 2400 1600\">\n",
       "<defs>\n",
       "  <clipPath id=\"clip820\">\n",
       "    <rect x=\"0\" y=\"0\" width=\"2400\" height=\"1600\"/>\n",
       "  </clipPath>\n",
       "</defs>\n",
       "<path clip-path=\"url(#clip820)\" d=\"M0 1600 L2400 1600 L2400 0 L0 0  Z\" fill=\"#ffffff\" fill-rule=\"evenodd\" fill-opacity=\"1\"/>\n",
       "<defs>\n",
       "  <clipPath id=\"clip821\">\n",
       "    <rect x=\"480\" y=\"0\" width=\"1681\" height=\"1600\"/>\n",
       "  </clipPath>\n",
       "</defs>\n",
       "<path clip-path=\"url(#clip820)\" d=\"M366.73 1450.74 L2352.76 1450.74 L2352.76 47.2441 L366.73 47.2441  Z\" fill=\"#ffffff\" fill-rule=\"evenodd\" fill-opacity=\"1\"/>\n",
       "<defs>\n",
       "  <clipPath id=\"clip822\">\n",
       "    <rect x=\"366\" y=\"47\" width=\"1987\" height=\"1404\"/>\n",
       "  </clipPath>\n",
       "</defs>\n",
       "<polyline clip-path=\"url(#clip822)\" style=\"stroke:#000000; stroke-linecap:round; stroke-linejoin:round; stroke-width:2; stroke-opacity:0.1; fill:none\" points=\"366.73,1450 366.73,100 \"/>\n",
       "<polyline clip-path=\"url(#clip822)\" style=\"stroke:#000000; stroke-linecap:round; stroke-linejoin:round; stroke-width:2; stroke-opacity:0.1; fill:none\" points=\"863.237,1450 863.237,100 \"/>\n",
       "<polyline clip-path=\"url(#clip822)\" style=\"stroke:#000000; stroke-linecap:round; stroke-linejoin:round; stroke-width:2; stroke-opacity:0.1; fill:none\" points=\"1359.74,1450 1359.74,100 \"/>\n",
       "<polyline clip-path=\"url(#clip822)\" style=\"stroke:#000000; stroke-linecap:round; stroke-linejoin:round; stroke-width:2; stroke-opacity:0.1; fill:none\" points=\"1856.25,1450 1856.25,100 \"/>\n",
       "<polyline clip-path=\"url(#clip822)\" style=\"stroke:#000000; stroke-linecap:round; stroke-linejoin:round; stroke-width:2; stroke-opacity:0.1; fill:none\" points=\"2352.76,1450 2352.76,100 \"/>\n",
       "<polyline clip-path=\"url(#clip822)\" style=\"stroke:#000000; stroke-linecap:round; stroke-linejoin:round; stroke-width:2; stroke-opacity:0.1; fill:none\" points=\"366.73,1450 2352.76,1450 \"/>\n",
       "<polyline clip-path=\"url(#clip822)\" style=\"stroke:#000000; stroke-linecap:round; stroke-linejoin:round; stroke-width:2; stroke-opacity:0.1; fill:none\" points=\"366.73,1000 2352.76,1000 \"/>\n",
       "<polyline clip-path=\"url(#clip822)\" style=\"stroke:#000000; stroke-linecap:round; stroke-linejoin:round; stroke-width:2; stroke-opacity:0.1; fill:none\" points=\"366.73,475 2352.76,475 \"/>\n",
       "<polyline clip-path=\"url(#clip822)\" style=\"stroke:#000000; stroke-linecap:round; stroke-linejoin:round; stroke-width:2; stroke-opacity:0.1; fill:none\" points=\"366.73,100 2352.76,100 \"/>\n",
       "<polyline clip-path=\"url(#clip820)\" style=\"stroke:#000000; stroke-linecap:round; stroke-linejoin:round; stroke-width:4; stroke-opacity:1; fill:none\" points=\"366.73,1450 2352.76,1450 \"/>\n",
       "<polyline clip-path=\"url(#clip820)\" style=\"stroke:#000000; stroke-linecap:round; stroke-linejoin:round; stroke-width:4; stroke-opacity:1; fill:none\" points=\"366.73,1450 366.73,1450 \"/>\n",
       "<polyline clip-path=\"url(#clip820)\" style=\"stroke:#000000; stroke-linecap:round; stroke-linejoin:round; stroke-width:4; stroke-opacity:1; fill:none\" points=\"863.237,1450 863.237,1450 \"/>\n",
       "<polyline clip-path=\"url(#clip820)\" style=\"stroke:#000000; stroke-linecap:round; stroke-linejoin:round; stroke-width:4; stroke-opacity:1; fill:none\" points=\"1359.74,1450 1359.74,1450 \"/>\n",
       "<polyline clip-path=\"url(#clip820)\" style=\"stroke:#000000; stroke-linecap:round; stroke-linejoin:round; stroke-width:4; stroke-opacity:1; fill:none\" points=\"1856.25,1450 1856.25,1450 \"/>\n",
       "<polyline clip-path=\"url(#clip820)\" style=\"stroke:#000000; stroke-linecap:round; stroke-linejoin:round; stroke-width:4; stroke-opacity:1; fill:none\" points=\"2352.76,1450 2352.76,1450 \"/>\n",
       "<path clip-path=\"url(#clip820)\" d=\"M156.109 1532.25 L200.622 1532.25 L200.622 1538.15 L156.109 1538.15 L156.109 1532.25 Z\" fill=\"#000000\" fill-rule=\"nonzero\" fill-opacity=\"1\" /><path clip-path=\"url(#clip820)\" d=\"M216.976 1551.59 L228.435 1551.59 L228.435 1512.04 L215.969 1514.54 L215.969 1508.15 L228.365 1505.65 L235.379 1505.65 L235.379 1551.59 L246.837 1551.59 L246.837 1557.49 L216.976 1557.49 L216.976 1551.59 Z\" fill=\"#000000\" fill-rule=\"nonzero\" fill-opacity=\"1\" /><path clip-path=\"url(#clip820)\" d=\"M261.004 1548.67 L268.33 1548.67 L268.33 1557.49 L261.004 1557.49 L261.004 1548.67 Z\" fill=\"#000000\" fill-rule=\"nonzero\" fill-opacity=\"1\" /><path clip-path=\"url(#clip820)\" d=\"M298.608 1510.27 Q293.191 1510.27 290.448 1515.62 Q287.74 1520.93 287.74 1531.62 Q287.74 1542.28 290.448 1547.63 Q293.191 1552.94 298.608 1552.94 Q304.059 1552.94 306.767 1547.63 Q309.51 1542.28 309.51 1531.62 Q309.51 1520.93 306.767 1515.62 Q304.059 1510.27 298.608 1510.27 M298.608 1504.71 Q307.323 1504.71 311.906 1511.62 Q316.524 1518.5 316.524 1531.62 Q316.524 1544.71 311.906 1551.62 Q307.323 1558.5 298.608 1558.5 Q289.893 1558.5 285.274 1551.62 Q280.691 1544.71 280.691 1531.62 Q280.691 1518.5 285.274 1511.62 Q289.893 1504.71 298.608 1504.71 Z\" fill=\"#000000\" fill-rule=\"nonzero\" fill-opacity=\"1\" /><path clip-path=\"url(#clip820)\" d=\"M371.107 1519.3 L355.239 1535.23 L371.107 1551.1 L366.975 1555.3 L351.038 1539.37 L335.101 1555.3 L331.003 1551.1 L346.837 1535.23 L331.003 1519.3 L335.101 1515.09 L351.038 1531.03 L366.975 1515.09 L371.107 1519.3 Z\" fill=\"#000000\" fill-rule=\"nonzero\" fill-opacity=\"1\" /><path clip-path=\"url(#clip820)\" d=\"M389.649 1551.59 L401.107 1551.59 L401.107 1512.04 L388.642 1514.54 L388.642 1508.15 L401.038 1505.65 L408.052 1505.65 L408.052 1551.59 L419.51 1551.59 L419.51 1557.49 L389.649 1557.49 L389.649 1551.59 Z\" fill=\"#000000\" fill-rule=\"nonzero\" fill-opacity=\"1\" /><path clip-path=\"url(#clip820)\" d=\"M448.676 1510.27 Q443.26 1510.27 440.517 1515.62 Q437.808 1520.93 437.808 1531.62 Q437.808 1542.28 440.517 1547.63 Q443.26 1552.94 448.676 1552.94 Q454.128 1552.94 456.836 1547.63 Q459.579 1542.28 459.579 1531.62 Q459.579 1520.93 456.836 1515.62 Q454.128 1510.27 448.676 1510.27 M448.676 1504.71 Q457.392 1504.71 461.975 1511.62 Q466.593 1518.5 466.593 1531.62 Q466.593 1544.71 461.975 1551.62 Q457.392 1558.5 448.676 1558.5 Q439.961 1558.5 435.343 1551.62 Q430.76 1544.71 430.76 1531.62 Q430.76 1518.5 435.343 1511.62 Q439.961 1504.71 448.676 1504.71 Z\" fill=\"#000000\" fill-rule=\"nonzero\" fill-opacity=\"1\" /><path clip-path=\"url(#clip820)\" d=\"M466.593 1495.86 L502.76 1495.86 L502.76 1500.66 L466.593 1500.66 L466.593 1495.86 Z\" fill=\"#000000\" fill-rule=\"nonzero\" fill-opacity=\"1\" /><path clip-path=\"url(#clip820)\" d=\"M516.048 1511.58 L525.358 1511.58 L525.358 1479.45 L515.23 1481.48 L515.23 1476.29 L525.301 1474.25 L531 1474.25 L531 1511.58 L540.31 1511.58 L540.31 1516.37 L516.048 1516.37 L516.048 1511.58 Z\" fill=\"#000000\" fill-rule=\"nonzero\" fill-opacity=\"1\" /><path clip-path=\"url(#clip820)\" d=\"M551.877 1474.25 L574.249 1474.25 L574.249 1479.05 L557.096 1479.05 L557.096 1489.38 Q558.337 1488.95 559.579 1488.76 Q560.82 1488.53 562.061 1488.53 Q569.114 1488.53 573.233 1492.39 Q577.352 1496.26 577.352 1502.86 Q577.352 1509.66 573.12 1513.44 Q568.888 1517.19 561.187 1517.19 Q558.535 1517.19 555.77 1516.74 Q553.033 1516.29 550.099 1515.39 L550.099 1509.66 Q552.639 1511.04 555.347 1511.72 Q558.055 1512.4 561.074 1512.4 Q565.954 1512.4 568.804 1509.83 Q571.653 1507.26 571.653 1502.86 Q571.653 1498.46 568.804 1495.89 Q565.954 1493.33 561.074 1493.33 Q558.789 1493.33 556.503 1493.83 Q554.247 1494.34 551.877 1495.41 L551.877 1474.25 Z\" fill=\"#000000\" fill-rule=\"nonzero\" fill-opacity=\"1\" /><path clip-path=\"url(#clip820)\" d=\"M651.91 1532.25 L696.423 1532.25 L696.423 1538.15 L651.91 1538.15 L651.91 1532.25 Z\" fill=\"#000000\" fill-rule=\"nonzero\" fill-opacity=\"1\" /><path clip-path=\"url(#clip820)\" d=\"M711.632 1505.65 L739.166 1505.65 L739.166 1511.55 L718.055 1511.55 L718.055 1524.26 Q719.583 1523.74 721.111 1523.5 Q722.638 1523.22 724.166 1523.22 Q732.847 1523.22 737.916 1527.98 Q742.986 1532.73 742.986 1540.86 Q742.986 1549.23 737.777 1553.88 Q732.569 1558.5 723.09 1558.5 Q719.826 1558.5 716.423 1557.94 Q713.055 1557.39 709.444 1556.27 L709.444 1549.23 Q712.569 1550.93 715.902 1551.76 Q719.236 1552.59 722.951 1552.59 Q728.958 1552.59 732.465 1549.43 Q735.972 1546.27 735.972 1540.86 Q735.972 1535.44 732.465 1532.28 Q728.958 1529.12 722.951 1529.12 Q720.138 1529.12 717.326 1529.75 Q714.548 1530.37 711.632 1531.69 L711.632 1505.65 Z\" fill=\"#000000\" fill-rule=\"nonzero\" fill-opacity=\"1\" /><path clip-path=\"url(#clip820)\" d=\"M756.805 1548.67 L764.131 1548.67 L764.131 1557.49 L756.805 1557.49 L756.805 1548.67 Z\" fill=\"#000000\" fill-rule=\"nonzero\" fill-opacity=\"1\" /><path clip-path=\"url(#clip820)\" d=\"M794.409 1510.27 Q788.992 1510.27 786.249 1515.62 Q783.541 1520.93 783.541 1531.62 Q783.541 1542.28 786.249 1547.63 Q788.992 1552.94 794.409 1552.94 Q799.86 1552.94 802.569 1547.63 Q805.312 1542.28 805.312 1531.62 Q805.312 1520.93 802.569 1515.62 Q799.86 1510.27 794.409 1510.27 M794.409 1504.71 Q803.124 1504.71 807.707 1511.62 Q812.325 1518.5 812.325 1531.62 Q812.325 1544.71 807.707 1551.62 Q803.124 1558.5 794.409 1558.5 Q785.694 1558.5 781.076 1551.62 Q776.492 1544.71 776.492 1531.62 Q776.492 1518.5 781.076 1511.62 Q785.694 1504.71 794.409 1504.71 Z\" fill=\"#000000\" fill-rule=\"nonzero\" fill-opacity=\"1\" /><path clip-path=\"url(#clip820)\" d=\"M866.908 1519.3 L851.041 1535.23 L866.908 1551.1 L862.777 1555.3 L846.839 1539.37 L830.902 1555.3 L826.805 1551.1 L842.638 1535.23 L826.805 1519.3 L830.902 1515.09 L846.839 1531.03 L862.777 1515.09 L866.908 1519.3 Z\" fill=\"#000000\" fill-rule=\"nonzero\" fill-opacity=\"1\" /><path clip-path=\"url(#clip820)\" d=\"M885.45 1551.59 L896.908 1551.59 L896.908 1512.04 L884.443 1514.54 L884.443 1508.15 L896.839 1505.65 L903.853 1505.65 L903.853 1551.59 L915.311 1551.59 L915.311 1557.49 L885.45 1557.49 L885.45 1551.59 Z\" fill=\"#000000\" fill-rule=\"nonzero\" fill-opacity=\"1\" /><path clip-path=\"url(#clip820)\" d=\"M944.478 1510.27 Q939.061 1510.27 936.318 1515.62 Q933.61 1520.93 933.61 1531.62 Q933.61 1542.28 936.318 1547.63 Q939.061 1552.94 944.478 1552.94 Q949.929 1552.94 952.637 1547.63 Q955.38 1542.28 955.38 1531.62 Q955.38 1520.93 952.637 1515.62 Q949.929 1510.27 944.478 1510.27 M944.478 1504.71 Q953.193 1504.71 957.776 1511.62 Q962.394 1518.5 962.394 1531.62 Q962.394 1544.71 957.776 1551.62 Q953.193 1558.5 944.478 1558.5 Q935.762 1558.5 931.144 1551.62 Q926.561 1544.71 926.561 1531.62 Q926.561 1518.5 931.144 1511.62 Q935.762 1504.71 944.478 1504.71 Z\" fill=\"#000000\" fill-rule=\"nonzero\" fill-opacity=\"1\" /><path clip-path=\"url(#clip820)\" d=\"M962.394 1495.86 L998.561 1495.86 L998.561 1500.66 L962.394 1500.66 L962.394 1495.86 Z\" fill=\"#000000\" fill-rule=\"nonzero\" fill-opacity=\"1\" /><path clip-path=\"url(#clip820)\" d=\"M1011.85 1511.58 L1021.16 1511.58 L1021.16 1479.45 L1011.03 1481.48 L1011.03 1476.29 L1021.1 1474.25 L1026.8 1474.25 L1026.8 1511.58 L1036.11 1511.58 L1036.11 1516.37 L1011.85 1516.37 L1011.85 1511.58 Z\" fill=\"#000000\" fill-rule=\"nonzero\" fill-opacity=\"1\" /><path clip-path=\"url(#clip820)\" d=\"M1060.51 1493.04 Q1056.68 1493.04 1054.42 1495.67 Q1052.19 1498.29 1052.19 1502.86 Q1052.19 1507.4 1054.42 1510.05 Q1056.68 1512.68 1060.51 1512.68 Q1064.35 1512.68 1066.58 1510.05 Q1068.84 1507.4 1068.84 1502.86 Q1068.84 1498.29 1066.58 1495.67 Q1064.35 1493.04 1060.51 1493.04 M1071.83 1475.19 L1071.83 1480.38 Q1069.68 1479.36 1067.48 1478.82 Q1065.31 1478.29 1063.17 1478.29 Q1057.52 1478.29 1054.53 1482.1 Q1051.57 1485.91 1051.15 1493.61 Q1052.81 1491.15 1055.32 1489.86 Q1057.83 1488.53 1060.85 1488.53 Q1067.2 1488.53 1070.87 1492.39 Q1074.56 1496.23 1074.56 1502.86 Q1074.56 1509.35 1070.73 1513.27 Q1066.89 1517.19 1060.51 1517.19 Q1053.21 1517.19 1049.34 1511.61 Q1045.48 1505.99 1045.48 1495.36 Q1045.48 1485.37 1050.22 1479.45 Q1054.96 1473.49 1062.94 1473.49 Q1065.08 1473.49 1067.26 1473.92 Q1069.46 1474.34 1071.83 1475.19 Z\" fill=\"#000000\" fill-rule=\"nonzero\" fill-opacity=\"1\" /><path clip-path=\"url(#clip820)\" d=\"M1359.74 1486.78 Q1354.33 1486.78 1351.58 1492.13 Q1348.88 1497.44 1348.88 1508.13 Q1348.88 1518.79 1351.58 1524.14 Q1354.33 1529.45 1359.74 1529.45 Q1365.19 1529.45 1367.9 1524.14 Q1370.65 1518.79 1370.65 1508.13 Q1370.65 1497.44 1367.9 1492.13 Q1365.19 1486.78 1359.74 1486.78 M1359.74 1481.22 Q1368.46 1481.22 1373.04 1488.13 Q1377.66 1495.01 1377.66 1508.13 Q1377.66 1521.22 1373.04 1528.13 Q1368.46 1535.01 1359.74 1535.01 Q1351.03 1535.01 1346.41 1528.13 Q1341.83 1521.22 1341.83 1508.13 Q1341.83 1495.01 1346.41 1488.13 Q1351.03 1481.22 1359.74 1481.22 Z\" fill=\"#000000\" fill-rule=\"nonzero\" fill-opacity=\"1\" /><path clip-path=\"url(#clip820)\" d=\"M1675.88 1505.65 L1703.41 1505.65 L1703.41 1511.55 L1682.3 1511.55 L1682.3 1524.26 Q1683.83 1523.74 1685.36 1523.5 Q1686.88 1523.22 1688.41 1523.22 Q1697.09 1523.22 1702.16 1527.98 Q1707.23 1532.73 1707.23 1540.86 Q1707.23 1549.23 1702.02 1553.88 Q1696.81 1558.5 1687.34 1558.5 Q1684.07 1558.5 1680.67 1557.94 Q1677.3 1557.39 1673.69 1556.27 L1673.69 1549.23 Q1676.81 1550.93 1680.15 1551.76 Q1683.48 1552.59 1687.2 1552.59 Q1693.2 1552.59 1696.71 1549.43 Q1700.22 1546.27 1700.22 1540.86 Q1700.22 1535.44 1696.71 1532.28 Q1693.2 1529.12 1687.2 1529.12 Q1684.38 1529.12 1681.57 1529.75 Q1678.79 1530.37 1675.88 1531.69 L1675.88 1505.65 Z\" fill=\"#000000\" fill-rule=\"nonzero\" fill-opacity=\"1\" /><path clip-path=\"url(#clip820)\" d=\"M1721.05 1548.67 L1728.38 1548.67 L1728.38 1557.49 L1721.05 1557.49 L1721.05 1548.67 Z\" fill=\"#000000\" fill-rule=\"nonzero\" fill-opacity=\"1\" /><path clip-path=\"url(#clip820)\" d=\"M1758.65 1510.27 Q1753.24 1510.27 1750.49 1515.62 Q1747.79 1520.93 1747.79 1531.62 Q1747.79 1542.28 1750.49 1547.63 Q1753.24 1552.94 1758.65 1552.94 Q1764.11 1552.94 1766.81 1547.63 Q1769.56 1542.28 1769.56 1531.62 Q1769.56 1520.93 1766.81 1515.62 Q1764.11 1510.27 1758.65 1510.27 M1758.65 1504.71 Q1767.37 1504.71 1771.95 1511.62 Q1776.57 1518.5 1776.57 1531.62 Q1776.57 1544.71 1771.95 1551.62 Q1767.37 1558.5 1758.65 1558.5 Q1749.94 1558.5 1745.32 1551.62 Q1740.74 1544.71 1740.74 1531.62 Q1740.74 1518.5 1745.32 1511.62 Q1749.94 1504.71 1758.65 1504.71 Z\" fill=\"#000000\" fill-rule=\"nonzero\" fill-opacity=\"1\" /><path clip-path=\"url(#clip820)\" d=\"M1831.15 1519.3 L1815.29 1535.23 L1831.15 1551.1 L1827.02 1555.3 L1811.08 1539.37 L1795.15 1555.3 L1791.05 1551.1 L1806.88 1535.23 L1791.05 1519.3 L1795.15 1515.09 L1811.08 1531.03 L1827.02 1515.09 L1831.15 1519.3 Z\" fill=\"#000000\" fill-rule=\"nonzero\" fill-opacity=\"1\" /><path clip-path=\"url(#clip820)\" d=\"M1849.7 1551.59 L1861.15 1551.59 L1861.15 1512.04 L1848.69 1514.54 L1848.69 1508.15 L1861.08 1505.65 L1868.1 1505.65 L1868.1 1551.59 L1879.56 1551.59 L1879.56 1557.49 L1849.7 1557.49 L1849.7 1551.59 Z\" fill=\"#000000\" fill-rule=\"nonzero\" fill-opacity=\"1\" /><path clip-path=\"url(#clip820)\" d=\"M1908.72 1510.27 Q1903.31 1510.27 1900.56 1515.62 Q1897.86 1520.93 1897.86 1531.62 Q1897.86 1542.28 1900.56 1547.63 Q1903.31 1552.94 1908.72 1552.94 Q1914.17 1552.94 1916.88 1547.63 Q1919.63 1542.28 1919.63 1531.62 Q1919.63 1520.93 1916.88 1515.62 Q1914.17 1510.27 1908.72 1510.27 M1908.72 1504.71 Q1917.44 1504.71 1922.02 1511.62 Q1926.64 1518.5 1926.64 1531.62 Q1926.64 1544.71 1922.02 1551.62 Q1917.44 1558.5 1908.72 1558.5 Q1900.01 1558.5 1895.39 1551.62 Q1890.81 1544.71 1890.81 1531.62 Q1890.81 1518.5 1895.39 1511.62 Q1900.01 1504.71 1908.72 1504.71 Z\" fill=\"#000000\" fill-rule=\"nonzero\" fill-opacity=\"1\" /><path clip-path=\"url(#clip820)\" d=\"M1926.64 1495.86 L1962.81 1495.86 L1962.81 1500.66 L1926.64 1500.66 L1926.64 1495.86 Z\" fill=\"#000000\" fill-rule=\"nonzero\" fill-opacity=\"1\" /><path clip-path=\"url(#clip820)\" d=\"M1976.09 1511.58 L1985.4 1511.58 L1985.4 1479.45 L1975.28 1481.48 L1975.28 1476.29 L1985.35 1474.25 L1991.05 1474.25 L1991.05 1511.58 L2000.36 1511.58 L2000.36 1516.37 L1976.09 1516.37 L1976.09 1511.58 Z\" fill=\"#000000\" fill-rule=\"nonzero\" fill-opacity=\"1\" /><path clip-path=\"url(#clip820)\" d=\"M2024.76 1493.04 Q2020.92 1493.04 2018.67 1495.67 Q2016.44 1498.29 2016.44 1502.86 Q2016.44 1507.4 2018.67 1510.05 Q2020.92 1512.68 2024.76 1512.68 Q2028.6 1512.68 2030.83 1510.05 Q2033.08 1507.4 2033.08 1502.86 Q2033.08 1498.29 2030.83 1495.67 Q2028.6 1493.04 2024.76 1493.04 M2036.07 1475.19 L2036.07 1480.38 Q2033.93 1479.36 2031.73 1478.82 Q2029.56 1478.29 2027.41 1478.29 Q2021.77 1478.29 2018.78 1482.1 Q2015.82 1485.91 2015.39 1493.61 Q2017.06 1491.15 2019.57 1489.86 Q2022.08 1488.53 2025.1 1488.53 Q2031.45 1488.53 2035.11 1492.39 Q2038.81 1496.23 2038.81 1502.86 Q2038.81 1509.35 2034.97 1513.27 Q2031.14 1517.19 2024.76 1517.19 Q2017.45 1517.19 2013.59 1511.61 Q2009.72 1505.99 2009.72 1495.36 Q2009.72 1485.37 2014.46 1479.45 Q2019.2 1473.49 2027.19 1473.49 Q2029.33 1473.49 2031.5 1473.92 Q2033.7 1474.34 2036.07 1475.19 Z\" fill=\"#000000\" fill-rule=\"nonzero\" fill-opacity=\"1\" /><path clip-path=\"url(#clip820)\" d=\"M2173.07 1551.59 L2184.53 1551.59 L2184.53 1512.04 L2172.06 1514.54 L2172.06 1508.15 L2184.46 1505.65 L2191.47 1505.65 L2191.47 1551.59 L2202.93 1551.59 L2202.93 1557.49 L2173.07 1557.49 L2173.07 1551.59 Z\" fill=\"#000000\" fill-rule=\"nonzero\" fill-opacity=\"1\" /><path clip-path=\"url(#clip820)\" d=\"M2217.1 1548.67 L2224.43 1548.67 L2224.43 1557.49 L2217.1 1557.49 L2217.1 1548.67 Z\" fill=\"#000000\" fill-rule=\"nonzero\" fill-opacity=\"1\" /><path clip-path=\"url(#clip820)\" d=\"M2254.7 1510.27 Q2249.29 1510.27 2246.54 1515.62 Q2243.84 1520.93 2243.84 1531.62 Q2243.84 1542.28 2246.54 1547.63 Q2249.29 1552.94 2254.7 1552.94 Q2260.15 1552.94 2262.86 1547.63 Q2265.61 1542.28 2265.61 1531.62 Q2265.61 1520.93 2262.86 1515.62 Q2260.15 1510.27 2254.7 1510.27 M2254.7 1504.71 Q2263.42 1504.71 2268 1511.62 Q2272.62 1518.5 2272.62 1531.62 Q2272.62 1544.71 2268 1551.62 Q2263.42 1558.5 2254.7 1558.5 Q2245.99 1558.5 2241.37 1551.62 Q2236.79 1544.71 2236.79 1531.62 Q2236.79 1518.5 2241.37 1511.62 Q2245.99 1504.71 2254.7 1504.71 Z\" fill=\"#000000\" fill-rule=\"nonzero\" fill-opacity=\"1\" /><path clip-path=\"url(#clip820)\" d=\"M2327.2 1519.3 L2311.33 1535.23 L2327.2 1551.1 L2323.07 1555.3 L2307.13 1539.37 L2291.2 1555.3 L2287.1 1551.1 L2302.93 1535.23 L2287.1 1519.3 L2291.2 1515.09 L2307.13 1531.03 L2323.07 1515.09 L2327.2 1519.3 Z\" fill=\"#000000\" fill-rule=\"nonzero\" fill-opacity=\"1\" /><path clip-path=\"url(#clip820)\" d=\"M2345.74 1551.59 L2357.2 1551.59 L2357.2 1512.04 L2344.74 1514.54 L2344.74 1508.15 L2357.13 1505.65 L2364.15 1505.65 L2364.15 1551.59 L2375.61 1551.59 L2375.61 1557.49 L2345.74 1557.49 L2345.74 1551.59 Z\" fill=\"#000000\" fill-rule=\"nonzero\" fill-opacity=\"1\" /><path clip-path=\"url(#clip820)\" d=\"M2404.77 1510.27 Q2399.36 1510.27 2396.61 1515.62 Q2393.9 1520.93 2393.9 1531.62 Q2393.9 1542.28 2396.61 1547.63 Q2399.36 1552.94 2404.77 1552.94 Q2410.22 1552.94 2412.93 1547.63 Q2415.67 1542.28 2415.67 1531.62 Q2415.67 1520.93 2412.93 1515.62 Q2410.22 1510.27 2404.77 1510.27 M2404.77 1504.71 Q2413.49 1504.71 2418.07 1511.62 Q2422.69 1518.5 2422.69 1531.62 Q2422.69 1544.71 2418.07 1551.62 Q2413.49 1558.5 2404.77 1558.5 Q2396.06 1558.5 2391.44 1551.62 Q2386.86 1544.71 2386.86 1531.62 Q2386.86 1518.5 2391.44 1511.62 Q2396.06 1504.71 2404.77 1504.71 Z\" fill=\"#000000\" fill-rule=\"nonzero\" fill-opacity=\"1\" /><path clip-path=\"url(#clip820)\" d=\"M2422.69 1495.86 L2458.86 1495.86 L2458.86 1500.66 L2422.69 1500.66 L2422.69 1495.86 Z\" fill=\"#000000\" fill-rule=\"nonzero\" fill-opacity=\"1\" /><path clip-path=\"url(#clip820)\" d=\"M2472.14 1511.58 L2481.45 1511.58 L2481.45 1479.45 L2471.33 1481.48 L2471.33 1476.29 L2481.4 1474.25 L2487.1 1474.25 L2487.1 1511.58 L2496.41 1511.58 L2496.41 1516.37 L2472.14 1516.37 L2472.14 1511.58 Z\" fill=\"#000000\" fill-rule=\"nonzero\" fill-opacity=\"1\" /><path clip-path=\"url(#clip820)\" d=\"M2507.97 1474.25 L2530.34 1474.25 L2530.34 1479.05 L2513.19 1479.05 L2513.19 1489.38 Q2514.43 1488.95 2515.67 1488.76 Q2516.92 1488.53 2518.16 1488.53 Q2525.21 1488.53 2529.33 1492.39 Q2533.45 1496.26 2533.45 1502.86 Q2533.45 1509.66 2529.22 1513.44 Q2524.98 1517.19 2517.28 1517.19 Q2514.63 1517.19 2511.87 1516.74 Q2509.13 1516.29 2506.19 1515.39 L2506.19 1509.66 Q2508.73 1511.04 2511.44 1511.72 Q2514.15 1512.4 2517.17 1512.4 Q2522.05 1512.4 2524.9 1509.83 Q2527.75 1507.26 2527.75 1502.86 Q2527.75 1498.46 2524.9 1495.89 Q2522.05 1493.33 2517.17 1493.33 Q2514.88 1493.33 2512.6 1493.83 Q2510.34 1494.34 2507.97 1495.41 L2507.97 1474.25 Z\" fill=\"#000000\" fill-rule=\"nonzero\" fill-opacity=\"1\" /><polyline clip-path=\"url(#clip820)\" style=\"stroke:#000000; stroke-linecap:round; stroke-linejoin:round; stroke-width:4; stroke-opacity:1; fill:none\" points=\"366.73,1450 366.73,100 \"/>\n",
       "<polyline clip-path=\"url(#clip820)\" style=\"stroke:#000000; stroke-linecap:round; stroke-linejoin:round; stroke-width:4; stroke-opacity:1; fill:none\" points=\"366.73,1450 385.628,1450 \"/>\n",
       "<polyline clip-path=\"url(#clip820)\" style=\"stroke:#000000; stroke-linecap:round; stroke-linejoin:round; stroke-width:4; stroke-opacity:1; fill:none\" points=\"366.73,1000 385.628,1000 \"/>\n",
       "<polyline clip-path=\"url(#clip820)\" style=\"stroke:#000000; stroke-linecap:round; stroke-linejoin:round; stroke-width:4; stroke-opacity:1; fill:none\" points=\"366.73,475 385.628,475 \"/>\n",
       "<polyline clip-path=\"url(#clip820)\" style=\"stroke:#000000; stroke-linecap:round; stroke-linejoin:round; stroke-width:4; stroke-opacity:1; fill:none\" points=\"366.73,100 385.628,100 \"/>\n",
       "<path clip-path=\"url(#clip820)\" d=\"M51.9991 1479.69 L63.4573 1479.69 L63.4573 1440.14 L50.9921 1442.64 L50.9921 1436.25 L63.3879 1433.75 L70.4017 1433.75 L70.4017 1479.69 L81.86 1479.69 L81.86 1485.59 L51.9991 1485.59 L51.9991 1479.69 Z\" fill=\"#000000\" fill-rule=\"nonzero\" fill-opacity=\"1\" /><path clip-path=\"url(#clip820)\" d=\"M96.0266 1476.77 L103.353 1476.77 L103.353 1485.59 L96.0266 1485.59 L96.0266 1476.77 Z\" fill=\"#000000\" fill-rule=\"nonzero\" fill-opacity=\"1\" /><path clip-path=\"url(#clip820)\" d=\"M133.631 1438.37 Q128.214 1438.37 125.471 1443.72 Q122.763 1449.03 122.763 1459.72 Q122.763 1470.38 125.471 1475.73 Q128.214 1481.04 133.631 1481.04 Q139.082 1481.04 141.79 1475.73 Q144.533 1470.38 144.533 1459.72 Q144.533 1449.03 141.79 1443.72 Q139.082 1438.37 133.631 1438.37 M133.631 1432.81 Q142.346 1432.81 146.929 1439.72 Q151.547 1446.6 151.547 1459.72 Q151.547 1472.81 146.929 1479.72 Q142.346 1486.6 133.631 1486.6 Q124.915 1486.6 120.297 1479.72 Q115.714 1472.81 115.714 1459.72 Q115.714 1446.6 120.297 1439.72 Q124.915 1432.81 133.631 1432.81 Z\" fill=\"#000000\" fill-rule=\"nonzero\" fill-opacity=\"1\" /><path clip-path=\"url(#clip820)\" d=\"M206.13 1447.4 L190.262 1463.33 L206.13 1479.2 L201.998 1483.4 L186.061 1467.47 L170.123 1483.4 L166.026 1479.2 L181.859 1463.33 L166.026 1447.4 L170.123 1443.2 L186.061 1459.13 L201.998 1443.2 L206.13 1447.4 Z\" fill=\"#000000\" fill-rule=\"nonzero\" fill-opacity=\"1\" /><path clip-path=\"url(#clip820)\" d=\"M224.672 1479.69 L236.13 1479.69 L236.13 1440.14 L223.665 1442.64 L223.665 1436.25 L236.061 1433.75 L243.074 1433.75 L243.074 1479.69 L254.533 1479.69 L254.533 1485.59 L224.672 1485.59 L224.672 1479.69 Z\" fill=\"#000000\" fill-rule=\"nonzero\" fill-opacity=\"1\" /><path clip-path=\"url(#clip820)\" d=\"M283.699 1438.37 Q278.283 1438.37 275.54 1443.72 Q272.831 1449.03 272.831 1459.72 Q272.831 1470.38 275.54 1475.73 Q278.283 1481.04 283.699 1481.04 Q289.151 1481.04 291.859 1475.73 Q294.602 1470.38 294.602 1459.72 Q294.602 1449.03 291.859 1443.72 Q289.151 1438.37 283.699 1438.37 M283.699 1432.81 Q292.414 1432.81 296.998 1439.72 Q301.616 1446.6 301.616 1459.72 Q301.616 1472.81 296.998 1479.72 Q292.414 1486.6 283.699 1486.6 Q274.984 1486.6 270.366 1479.72 Q265.783 1472.81 265.783 1459.72 Q265.783 1446.6 270.366 1439.72 Q274.984 1432.81 283.699 1432.81 Z\" fill=\"#000000\" fill-rule=\"nonzero\" fill-opacity=\"1\" /><path clip-path=\"url(#clip820)\" d=\"M316.173 1406.11 Q311.772 1406.11 309.543 1410.45 Q307.343 1414.77 307.343 1423.46 Q307.343 1432.12 309.543 1436.46 Q311.772 1440.78 316.173 1440.78 Q320.602 1440.78 322.803 1436.46 Q325.031 1432.12 325.031 1423.46 Q325.031 1414.77 322.803 1410.45 Q320.602 1406.11 316.173 1406.11 M316.173 1401.59 Q323.254 1401.59 326.978 1407.21 Q330.73 1412.79 330.73 1423.46 Q330.73 1434.09 326.978 1439.71 Q323.254 1445.29 316.173 1445.29 Q309.092 1445.29 305.34 1439.71 Q301.616 1434.09 301.616 1423.46 Q301.616 1412.79 305.34 1407.21 Q309.092 1401.59 316.173 1401.59 Z\" fill=\"#000000\" fill-rule=\"nonzero\" fill-opacity=\"1\" /><path clip-path=\"url(#clip820)\" d=\"M51.9991 1029.69 L63.4573 1029.69 L63.4573 990.14 L50.9921 992.64 L50.9921 986.251 L63.3879 983.751 L70.4017 983.751 L70.4017 1029.69 L81.86 1029.69 L81.86 1035.59 L51.9991 1035.59 L51.9991 1029.69 Z\" fill=\"#000000\" fill-rule=\"nonzero\" fill-opacity=\"1\" /><path clip-path=\"url(#clip820)\" d=\"M96.0266 1026.77 L103.353 1026.77 L103.353 1035.59 L96.0266 1035.59 L96.0266 1026.77 Z\" fill=\"#000000\" fill-rule=\"nonzero\" fill-opacity=\"1\" /><path clip-path=\"url(#clip820)\" d=\"M133.631 988.369 Q128.214 988.369 125.471 993.717 Q122.763 999.029 122.763 1009.72 Q122.763 1020.38 125.471 1025.73 Q128.214 1031.04 133.631 1031.04 Q139.082 1031.04 141.79 1025.73 Q144.533 1020.38 144.533 1009.72 Q144.533 999.029 141.79 993.717 Q139.082 988.369 133.631 988.369 M133.631 982.814 Q142.346 982.814 146.929 989.724 Q151.547 996.599 151.547 1009.72 Q151.547 1022.81 146.929 1029.72 Q142.346 1036.6 133.631 1036.6 Q124.915 1036.6 120.297 1029.72 Q115.714 1022.81 115.714 1009.72 Q115.714 996.599 120.297 989.724 Q124.915 982.814 133.631 982.814 Z\" fill=\"#000000\" fill-rule=\"nonzero\" fill-opacity=\"1\" /><path clip-path=\"url(#clip820)\" d=\"M206.13 997.397 L190.262 1013.33 L206.13 1029.2 L201.998 1033.4 L186.061 1017.47 L170.123 1033.4 L166.026 1029.2 L181.859 1013.33 L166.026 997.397 L170.123 993.196 L186.061 1009.13 L201.998 993.196 L206.13 997.397 Z\" fill=\"#000000\" fill-rule=\"nonzero\" fill-opacity=\"1\" /><path clip-path=\"url(#clip820)\" d=\"M224.672 1029.69 L236.13 1029.69 L236.13 990.14 L223.665 992.64 L223.665 986.251 L236.061 983.751 L243.074 983.751 L243.074 1029.69 L254.533 1029.69 L254.533 1035.59 L224.672 1035.59 L224.672 1029.69 Z\" fill=\"#000000\" fill-rule=\"nonzero\" fill-opacity=\"1\" /><path clip-path=\"url(#clip820)\" d=\"M283.699 988.369 Q278.283 988.369 275.54 993.717 Q272.831 999.029 272.831 1009.72 Q272.831 1020.38 275.54 1025.73 Q278.283 1031.04 283.699 1031.04 Q289.151 1031.04 291.859 1025.73 Q294.602 1020.38 294.602 1009.72 Q294.602 999.029 291.859 993.717 Q289.151 988.369 283.699 988.369 M283.699 982.814 Q292.414 982.814 296.998 989.724 Q301.616 996.599 301.616 1009.72 Q301.616 1022.81 296.998 1029.72 Q292.414 1036.6 283.699 1036.6 Q274.984 1036.6 270.366 1029.72 Q265.783 1022.81 265.783 1009.72 Q265.783 996.599 270.366 989.724 Q274.984 982.814 283.699 982.814 Z\" fill=\"#000000\" fill-rule=\"nonzero\" fill-opacity=\"1\" /><path clip-path=\"url(#clip820)\" d=\"M316.173 956.108 Q311.772 956.108 309.543 960.453 Q307.343 964.769 307.343 973.458 Q307.343 982.119 309.543 986.464 Q311.772 990.78 316.173 990.78 Q320.602 990.78 322.803 986.464 Q325.031 982.119 325.031 973.458 Q325.031 964.769 322.803 960.453 Q320.602 956.108 316.173 956.108 M316.173 951.594 Q323.254 951.594 326.978 957.208 Q330.73 962.794 330.73 973.458 Q330.73 984.094 326.978 989.708 Q323.254 995.294 316.173 995.294 Q309.092 995.294 305.34 989.708 Q301.616 984.094 301.616 973.458 Q301.616 962.794 305.34 957.208 Q309.092 951.594 316.173 951.594 Z\" fill=\"#000000\" fill-rule=\"nonzero\" fill-opacity=\"1\" /><path clip-path=\"url(#clip820)\" d=\"M51.9991 504.689 L63.4573 504.689 L63.4573 465.14 L50.9921 467.64 L50.9921 461.251 L63.3879 458.751 L70.4017 458.751 L70.4017 504.689 L81.86 504.689 L81.86 510.591 L51.9991 510.591 L51.9991 504.689 Z\" fill=\"#000000\" fill-rule=\"nonzero\" fill-opacity=\"1\" /><path clip-path=\"url(#clip820)\" d=\"M96.0266 501.772 L103.353 501.772 L103.353 510.591 L96.0266 510.591 L96.0266 501.772 Z\" fill=\"#000000\" fill-rule=\"nonzero\" fill-opacity=\"1\" /><path clip-path=\"url(#clip820)\" d=\"M133.631 463.369 Q128.214 463.369 125.471 468.717 Q122.763 474.029 122.763 484.723 Q122.763 495.383 125.471 500.73 Q128.214 506.043 133.631 506.043 Q139.082 506.043 141.79 500.73 Q144.533 495.383 144.533 484.723 Q144.533 474.029 141.79 468.717 Q139.082 463.369 133.631 463.369 M133.631 457.814 Q142.346 457.814 146.929 464.724 Q151.547 471.599 151.547 484.723 Q151.547 497.814 146.929 504.723 Q142.346 511.598 133.631 511.598 Q124.915 511.598 120.297 504.723 Q115.714 497.814 115.714 484.723 Q115.714 471.599 120.297 464.724 Q124.915 457.814 133.631 457.814 Z\" fill=\"#000000\" fill-rule=\"nonzero\" fill-opacity=\"1\" /><path clip-path=\"url(#clip820)\" d=\"M206.13 472.397 L190.262 488.335 L206.13 504.203 L201.998 508.404 L186.061 492.466 L170.123 508.404 L166.026 504.203 L181.859 488.335 L166.026 472.397 L170.123 468.196 L186.061 484.133 L201.998 468.196 L206.13 472.397 Z\" fill=\"#000000\" fill-rule=\"nonzero\" fill-opacity=\"1\" /><path clip-path=\"url(#clip820)\" d=\"M224.672 504.689 L236.13 504.689 L236.13 465.14 L223.665 467.64 L223.665 461.251 L236.061 458.751 L243.074 458.751 L243.074 504.689 L254.533 504.689 L254.533 510.591 L224.672 510.591 L224.672 504.689 Z\" fill=\"#000000\" fill-rule=\"nonzero\" fill-opacity=\"1\" /><path clip-path=\"url(#clip820)\" d=\"M283.699 463.369 Q278.283 463.369 275.54 468.717 Q272.831 474.029 272.831 484.723 Q272.831 495.383 275.54 500.73 Q278.283 506.043 283.699 506.043 Q289.151 506.043 291.859 500.73 Q294.602 495.383 294.602 484.723 Q294.602 474.029 291.859 468.717 Q289.151 463.369 283.699 463.369 M283.699 457.814 Q292.414 457.814 296.998 464.724 Q301.616 471.599 301.616 484.723 Q301.616 497.814 296.998 504.723 Q292.414 511.598 283.699 511.598 Q274.984 511.598 270.366 504.723 Q265.783 497.814 265.783 484.723 Q265.783 471.599 270.366 464.724 Q274.984 457.814 283.699 457.814 Z\" fill=\"#000000\" fill-rule=\"nonzero\" fill-opacity=\"1\" /><path clip-path=\"url(#clip820)\" d=\"M316.173 431.108 Q311.772 431.108 309.543 435.453 Q307.343 439.769 307.343 448.458 Q307.343 457.119 309.543 461.464 Q311.772 465.78 316.173 465.78 Q320.602 465.78 322.803 461.464 Q325.031 457.119 325.031 448.458 Q325.031 439.769 322.803 435.453 Q320.602 431.108 316.173 431.108 M316.173 426.594 Q323.254 426.594 326.978 432.208 Q330.73 437.794 330.73 448.458 Q330.73 459.094 326.978 464.708 Q323.254 470.294 316.173 470.294 Q309.092 470.294 305.34 464.708 Q301.616 459.094 301.616 448.458 Q301.616 437.794 305.34 432.208 Q309.092 426.594 316.173 426.594 Z\" fill=\"#000000\" fill-rule=\"nonzero\" fill-opacity=\"1\" /><path clip-path=\"url(#clip820)\" d=\"M51.9991 129.689 L63.4573 129.689 L63.4573 90.1403 L50.9921 92.6402 L50.9921 86.2514 L63.3879 83.7514 L70.4017 83.7514 L70.4017 129.689 L81.86 129.689 L81.86 135.591 L51.9991 135.591 L51.9991 129.689 Z\" fill=\"#000000\" fill-rule=\"nonzero\" fill-opacity=\"1\" /><path clip-path=\"url(#clip820)\" d=\"M96.0266 126.772 L103.353 126.772 L103.353 135.591 L96.0266 135.591 L96.0266 126.772 Z\" fill=\"#000000\" fill-rule=\"nonzero\" fill-opacity=\"1\" /><path clip-path=\"url(#clip820)\" d=\"M133.631 88.3694 Q128.214 88.3694 125.471 93.7166 Q122.763 99.0291 122.763 109.723 Q122.763 120.383 125.471 125.73 Q128.214 131.043 133.631 131.043 Q139.082 131.043 141.79 125.73 Q144.533 120.383 144.533 109.723 Q144.533 99.0291 141.79 93.7166 Q139.082 88.3694 133.631 88.3694 M133.631 82.8139 Q142.346 82.8139 146.929 89.7236 Q151.547 96.5986 151.547 109.723 Q151.547 122.814 146.929 129.723 Q142.346 136.598 133.631 136.598 Q124.915 136.598 120.297 129.723 Q115.714 122.814 115.714 109.723 Q115.714 96.5986 120.297 89.7236 Q124.915 82.8139 133.631 82.8139 Z\" fill=\"#000000\" fill-rule=\"nonzero\" fill-opacity=\"1\" /><path clip-path=\"url(#clip820)\" d=\"M206.13 97.3972 L190.262 113.335 L206.13 129.203 L201.998 133.404 L186.061 117.466 L170.123 133.404 L166.026 129.203 L181.859 113.335 L166.026 97.3972 L170.123 93.1958 L186.061 109.133 L201.998 93.1958 L206.13 97.3972 Z\" fill=\"#000000\" fill-rule=\"nonzero\" fill-opacity=\"1\" /><path clip-path=\"url(#clip820)\" d=\"M224.672 129.689 L236.13 129.689 L236.13 90.1403 L223.665 92.6402 L223.665 86.2514 L236.061 83.7514 L243.074 83.7514 L243.074 129.689 L254.533 129.689 L254.533 135.591 L224.672 135.591 L224.672 129.689 Z\" fill=\"#000000\" fill-rule=\"nonzero\" fill-opacity=\"1\" /><path clip-path=\"url(#clip820)\" d=\"M283.699 88.3694 Q278.283 88.3694 275.54 93.7166 Q272.831 99.0291 272.831 109.723 Q272.831 120.383 275.54 125.73 Q278.283 131.043 283.699 131.043 Q289.151 131.043 291.859 125.73 Q294.602 120.383 294.602 109.723 Q294.602 99.0291 291.859 93.7166 Q289.151 88.3694 283.699 88.3694 M283.699 82.8139 Q292.414 82.8139 296.998 89.7236 Q301.616 96.5986 301.616 109.723 Q301.616 122.814 296.998 129.723 Q292.414 136.598 283.699 136.598 Q274.984 136.598 270.366 129.723 Q265.783 122.814 265.783 109.723 Q265.783 96.5986 270.366 89.7236 Q274.984 82.8139 283.699 82.8139 Z\" fill=\"#000000\" fill-rule=\"nonzero\" fill-opacity=\"1\" /><path clip-path=\"url(#clip820)\" d=\"M316.173 56.108 Q311.772 56.108 309.543 60.4525 Q307.343 64.7689 307.343 73.4581 Q307.343 82.1191 309.543 86.4637 Q311.772 90.7801 316.173 90.7801 Q320.602 90.7801 322.803 86.4637 Q325.031 82.1191 325.031 73.4581 Q325.031 64.7689 322.803 60.4525 Q320.602 56.108 316.173 56.108 M316.173 51.5941 Q323.254 51.5941 326.978 57.2082 Q330.73 62.7941 330.73 73.4581 Q330.73 84.0939 326.978 89.708 Q323.254 95.2939 316.173 95.2939 Q309.092 95.2939 305.34 89.708 Q301.616 84.0939 301.616 73.4581 Q301.616 62.7941 305.34 57.2082 Q309.092 51.5941 316.173 51.5941 Z\" fill=\"#000000\" fill-rule=\"nonzero\" fill-opacity=\"1\" /><polyline clip-path=\"url(#clip822)\" style=\"stroke:#009af9; stroke-linecap:round; stroke-linejoin:round; stroke-width:12; stroke-opacity:1; fill:none\" points=\"366.73,1375 371.856,1375 376.982,1375 382.108,1375 387.233,1375 394.739,1375 402.244,1375 405.997,1375 409.749,1375 413.502,1375 417.255,1375 418.193,1375 419.131,1375 420.069,1375 421.007,1375 421.945,1375 422.884,1300 423.822,1300 424.76,1300 426.636,1300 428.513,1300 430.389,1300 432.265,1300 439.771,1300 447.276,1300 462.287,1300 477.297,1300 492.308,1300 507.318,1300 514.301,1300 521.284,1300 524.776,1300 528.267,1300 529.14,1300 530.013,1300 530.886,1300 531.759,1300 532.195,1300 532.632,1300 533.068,1300 533.504,1300 533.941,1300 534.377,1300 534.814,1300 535.25,1300 536.996,1300 538.742,1300 540.487,1300 542.233,1300 545.725,1300 549.216,1300 556.199,1300 563.182,1300 581.901,1300 600.621,1300 609.981,1300 619.34,1300 624.02,1300 628.7,1300 633.38,1300 638.06,1300 639.027,1300 639.993,1300 640.96,1300 641.927,1300 642.41,1300 642.894,1300 643.377,1225 643.86,1225 644.344,1225 644.827,1225 645.311,1225 645.794,1225 647.727,1225 649.661,1225 651.595,1225 653.528,1225 661.262,1225 668.996,1225 684.464,1225 699.932,1225 714.316,1225 728.7,1225 735.892,1225 743.084,1225 744.882,1225 746.68,1225 748.478,1225 750.275,1225 751.174,1225 752.073,1225 752.523,1225 752.972,1225 753.422,1150 753.871,1150 754.321,1150 754.77,1150 755.22,1150 755.669,1150 756.568,1150 757.467,1150 759.724,1150 761.982,1150 764.239,1150 766.496,1150 771.01,1150 775.524,1150 784.552,1150 793.581,1150 811.637,1150 829.694,1150 837.792,1150 845.891,1150 849.94,1150 853.989,1150 856.014,1150 858.038,1150 860.063,1150 862.087,1150 862.594,1150 863.1,1150 863.606,1150 864.112,1075 864.618,1075 865.124,1075 865.63,1075 866.137,1075 868.161,1075 870.186,1075 874.235,1075 878.284,1075 886.383,1075 894.481,1075 913.021,1075 931.56,1075 940.83,1075 950.1,1075 959.369,1075 968.639,1075 970.371,1075 972.104,1075 972.537,1075 972.97,1075 973.403,1075 973.836,1075 974.269,1000 974.702,1000 975.135,1000 975.568,1000 976.434,1000 977.3,1000 978.167,1000 979.033,1000 980.765,1000 982.497,1000 989.426,1000 996.356,1000 1010.21,1000 1024.07,1000 1041.8,1000 1059.52,1000 1063.95,1000 1068.38,1000 1072.82,1000 1077.25,1000 1079.46,1000 1081.68,1000 1082.23,1000 1082.79,1000 1083.34,1000 1083.89,1000 1084.45,925 1085,925 1085.56,925 1086.11,925 1087.22,925 1088.33,925 1089.43,925 1090.54,925 1092.76,925 1094.97,925 1111.15,925 1127.33,925 1143.51,925 1159.68,925 1168.89,925 1178.09,925 1182.7,925 1187.3,925 1189.6,925 1191.9,925 1192.48,925 1193.05,925 1193.63,925 1194.21,925 1194.78,850 1195.36,850 1195.93,850 1196.51,850 1197.66,850 1198.81,850 1199.96,850 1201.11,850 1203.41,850 1205.71,850 1210.32,850 1214.92,850 1224.13,850 1233.33,850 1262.52,850 1291.71,850 1293.98,850 1296.25,850 1298.51,850 1300.78,850 1301.91,850 1303.05,850 1303.61,850 1304.18,850 1304.75,775 1305.31,775 1305.88,775 1306.45,775 1307.01,775 1307.58,775 1308.71,775 1309.85,775 1314.38,775 1318.91,775 1323.45,775 1327.98,775 1346.11,775 1364.25,775 1392.02,775 1419.8,775 1429.59,775 1439.38,775 1449.17,775 1458.95,775 1461.4,775 1463.85,775 1465.07,775 1466.3,775 1467.52,775 1468.74,775 1469.36,775 1469.97,775 1470.58,625 1471.19,625 1471.8,625 1472.42,625 1473.03,625 1473.64,625 1476.09,625 1478.53,625 1483.43,625 1488.32,625 1493.22,625 1498.11,625 1527.37,625 1556.64,625 1589.91,625 1623.19,625 1639.67,625 1656.15,625 1664.39,625 1672.63,625 1676.75,625 1680.86,625 1684.98,625 1689.1,625 1689.67,625 1690.24,625 1690.8,475 1691.37,475 1691.94,475 1692.5,475 1693.07,475 1693.64,475 1695.9,475 1698.17,475 1702.7,475 1707.23,475 1716.3,475 1725.36,475 1743.49,475 1761.62,475 1789.31,475 1817.01,475 1851.96,475 1886.91,475 1890.95,475 1894.99,475 1899.03,475 1903.07,475 1905.09,475 1907.11,475 1908.12,475 1909.13,475 1909.63,475 1910.14,475 1910.64,475 1911.15,325 1911.65,325 1912.16,325 1912.66,325 1913.17,325 1914.18,325 1915.19,325 1917.21,325 1919.23,325 1927.31,325 1935.39,325 1943.47,325 1951.55,325 2018.23,325 2085.81,325 2094.63,325 2103.45,325 2112.27,325 2121.09,325 2123.29,325 2125.5,325 2126.6,325 2127.7,325 2128.81,325 2129.91,325 2130.46,325 2131.01,325 2131.56,250 2132.11,250 2132.67,250 2133.22,250 2133.77,250 2134.32,250 2136.52,250 2138.73,250 2143.14,250 2147.55,250 2151.96,250 2156.37,250 2184.17,250 2211.96,250 2275.26,250 2338.55,250 2345.65,250 2352.76,100 \"/>\n",
       "</svg>\n"
      ]
     },
     "execution_count": 11,
     "metadata": {},
     "output_type": "execute_result"
    }
   ],
   "source": [
    "a = 1e-15\n",
    "plot(x -> 1 + x, xlim=(-a, a), legend=:none)"
   ]
  },
  {
   "cell_type": "markdown",
   "id": "c49bf903",
   "metadata": {
    "slideshow": {
     "slide_type": "slide"
    }
   },
   "source": [
    "# Machine epsilon\n",
    "\n",
    "We approximate real numbers with **floating point** arithmetic, which can only represent discrete values. In particular, there exists a largest number, which we call $\\epsilon_{\\text{machine}}$, such that\n",
    "$$ 1 \\oplus x = 1 \\quad \\text{for all}\\  \\lvert x \\rvert < \\epsilon_{\\text{machine}}.$$\n",
    "\n",
    "The notation $\\oplus, \\ominus, \\odot, \\oslash$ represent the elementary operation carried out in floating point arithmetic."
   ]
  },
  {
   "cell_type": "code",
   "execution_count": 18,
   "id": "86096208",
   "metadata": {
    "cell_style": "split",
    "slideshow": {
     "slide_type": "fragment"
    }
   },
   "outputs": [
    {
     "data": {
      "text/plain": [
       "1.1102230246251565e-16"
      ]
     },
     "execution_count": 18,
     "metadata": {},
     "output_type": "execute_result"
    }
   ],
   "source": [
    "eps = 1\n",
    "while 1 + eps != 1\n",
    "    eps = eps / 2\n",
    "end\n",
    "eps"
   ]
  },
  {
   "cell_type": "markdown",
   "id": "56fade8b",
   "metadata": {
    "slideshow": {
     "slide_type": "slide"
    }
   },
   "source": [
    "# Beating `exp`\n",
    "\n",
    "$$e^x = 1 + x + \\frac{x^2}{2!} + \\frac{x^3}{3!} + \\dotsb$$\n",
    "\n",
    "Suppose we want to compute $f(x) = e^x - 1$ for small values of $x$."
   ]
  },
  {
   "cell_type": "code",
   "execution_count": 13,
   "id": "282ad48a",
   "metadata": {
    "cell_style": "split"
   },
   "outputs": [
    {
     "data": {
      "text/plain": [
       "9.99999993922529e-9"
      ]
     },
     "execution_count": 13,
     "metadata": {},
     "output_type": "execute_result"
    }
   ],
   "source": [
    "f1(x) = exp(x) - 1\n",
    "y1 = f1(1e-8)]"
   ]
  },
  {
   "cell_type": "code",
   "execution_count": 14,
   "id": "eff4a68c",
   "metadata": {
    "cell_style": "split"
   },
   "outputs": [
    {
     "data": {
      "text/plain": [
       "1.000000005e-8"
      ]
     },
     "execution_count": 14,
     "metadata": {},
     "output_type": "execute_result"
    }
   ],
   "source": [
    "f2(x) = x + x^2/2 + x^3/6\n",
    "y2 = f2(1e-8)"
   ]
  },
  {
   "cell_type": "markdown",
   "id": "379682f9",
   "metadata": {
    "slideshow": {
     "slide_type": "fragment"
    }
   },
   "source": [
    "Which answer is more accurate?"
   ]
  },
  {
   "cell_type": "code",
   "execution_count": 15,
   "id": "6081053e",
   "metadata": {
    "cell_style": "split"
   },
   "outputs": [
    {
     "name": "stdout",
     "output_type": "stream",
     "text": [
      "y1 - y2 = -1.1077470910720506e-16\n",
      "(y1 - y2) / y2 = -1.1077470855333152e-8\n"
     ]
    }
   ],
   "source": [
    "@show (y1 - y2)        # Absolute difference\n",
    "@show (y1 - y2) / y2;  # Relative difference"
   ]
  },
  {
   "cell_type": "code",
   "execution_count": 16,
   "id": "67c8f171",
   "metadata": {
    "cell_style": "split",
    "slideshow": {
     "slide_type": "fragment"
    }
   },
   "outputs": [
    {
     "data": {
      "text/plain": [
       "1.00000000500000003758922774768741543940607483039462726343113165886778197508307e-08"
      ]
     },
     "execution_count": 16,
     "metadata": {},
     "output_type": "execute_result"
    }
   ],
   "source": [
    "f1(big(1e-8))"
   ]
  }
 ],
 "metadata": {
  "celltoolbar": "Slideshow",
  "kernelspec": {
   "display_name": "Julia 1.11.6",
   "language": "julia",
   "name": "julia-1.11"
  },
  "language_info": {
   "file_extension": ".jl",
   "mimetype": "application/julia",
   "name": "julia",
   "version": "1.11.6"
  },
  "rise": {
   "enable_chalkboard": true
  }
 },
 "nbformat": 4,
 "nbformat_minor": 5
}
