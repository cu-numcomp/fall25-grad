{
 "cells": [
  {
   "cell_type": "markdown",
   "id": "4159be0e",
   "metadata": {
    "hideCode": false,
    "hidePrompt": false,
    "slideshow": {
     "slide_type": "slide"
    }
   },
   "source": [
    "# 2023-01-23 Functions\n",
    "\n",
    "* Using Julia\n",
    "* Plotting\n",
    "* Intro to floating point\n",
    "* Summing series\n",
    "* Relative vs absolute errors"
   ]
  },
  {
   "cell_type": "markdown",
   "id": "1f28cbbc",
   "metadata": {
    "hideCode": false,
    "hidePrompt": false,
    "slideshow": {
     "slide_type": "slide"
    }
   },
   "source": [
    "# Julia\n",
    "\n",
    "Julia is a relatively new programming language. Think of it as MATLAB done right, open source, and fast. It's nominally general-purpose, but mostly for numerical/scientific/statistical computing. There are great [learning resources](https://julialang.org/learning/). We'll introduce concepts and language features as we go."
   ]
  },
  {
   "cell_type": "code",
   "execution_count": 5,
   "id": "7ab85301",
   "metadata": {
    "hideCode": false,
    "hidePrompt": false
   },
   "outputs": [
    {
     "data": {
      "text/plain": [
       "4"
      ]
     },
     "execution_count": 5,
     "metadata": {},
     "output_type": "execute_result"
    }
   ],
   "source": [
    "# The last line of a cell is output by default\n",
    "x = 3\n",
    "y = 4"
   ]
  },
  {
   "cell_type": "code",
   "execution_count": 7,
   "id": "22875437",
   "metadata": {
    "hideCode": false,
    "hidePrompt": false,
    "scrolled": true,
    "slideshow": {
     "slide_type": "fragment"
    }
   },
   "outputs": [
    {
     "name": "stdout",
     "output_type": "stream",
     "text": [
      "3 + 4 = 7\n"
     ]
    }
   ],
   "source": [
    "println(\"$x + $y = $(x + y)\") # string formatting/interpolation\n",
    "4;  # trailing semicolon suppresses output"
   ]
  },
  {
   "cell_type": "code",
   "execution_count": 3,
   "id": "7773ba94",
   "metadata": {
    "hideCode": false,
    "hidePrompt": false,
    "slideshow": {
     "slide_type": "fragment"
    }
   },
   "outputs": [
    {
     "name": "stdout",
     "output_type": "stream",
     "text": [
      "x + y = 7\n"
     ]
    },
    {
     "data": {
      "text/plain": [
       "12"
      ]
     },
     "execution_count": 3,
     "metadata": {},
     "output_type": "execute_result"
    }
   ],
   "source": [
    "@show x + y\n",
    "x * y"
   ]
  },
  {
   "cell_type": "markdown",
   "id": "f8d9c948",
   "metadata": {
    "hideCode": false,
    "hidePrompt": false,
    "slideshow": {
     "slide_type": "slide"
    }
   },
   "source": [
    "# Numbers"
   ]
  },
  {
   "cell_type": "code",
   "execution_count": 8,
   "id": "a21a9aae",
   "metadata": {
    "hideCode": false,
    "hidePrompt": false
   },
   "outputs": [
    {
     "data": {
      "text/plain": [
       "(3, 3.0, 3.0f0, 3.0)"
      ]
     },
     "execution_count": 8,
     "metadata": {},
     "output_type": "execute_result"
    }
   ],
   "source": [
    "3, 3.0, 3.0f0, big(3.0) # integers, double precision, and single precision"
   ]
  },
  {
   "cell_type": "code",
   "execution_count": 95,
   "id": "cad03c36",
   "metadata": {
    "hideCode": false,
    "hidePrompt": false,
    "slideshow": {
     "slide_type": "fragment"
    }
   },
   "outputs": [
    {
     "data": {
      "text/plain": [
       "(Int64, Float64, Float32)"
      ]
     },
     "execution_count": 95,
     "metadata": {},
     "output_type": "execute_result"
    }
   ],
   "source": [
    "typeof(3), typeof(3.0), typeof(3.0f0)"
   ]
  },
  {
   "cell_type": "code",
   "execution_count": 6,
   "id": "fc571720",
   "metadata": {
    "slideshow": {
     "slide_type": "fragment"
    }
   },
   "outputs": [
    {
     "name": "stdout",
     "output_type": "stream",
     "text": [
      "3 + 3.0 = 6.0\n",
      "3.0 + 3.0f0 = 6.0\n",
      "3 + 3.0f0 = 6.0f0\n"
     ]
    }
   ],
   "source": [
    "# automatic promotion\n",
    "@show 3 + 3.0\n",
    "@show 3.0 + 3.0f0\n",
    "@show 3 + 3.0f0;"
   ]
  },
  {
   "cell_type": "code",
   "execution_count": 11,
   "id": "941746b3",
   "metadata": {
    "slideshow": {
     "slide_type": "fragment"
    }
   },
   "outputs": [
    {
     "name": "stdout",
     "output_type": "stream",
     "text": [
      "4 / 2 = 2.0\n",
      "-3 ÷ 2 = -1\n"
     ]
    }
   ],
   "source": [
    "# floating and integer division\n",
    "@show 4 / 2\n",
    "@show -3 ÷ 2; # type `\\div` and press TAB"
   ]
  },
  {
   "cell_type": "markdown",
   "id": "bcc583c4",
   "metadata": {
    "slideshow": {
     "slide_type": "slide"
    }
   },
   "source": [
    "# Arrays"
   ]
  },
  {
   "cell_type": "code",
   "execution_count": 15,
   "id": "f70c3592",
   "metadata": {
    "cell_style": "split"
   },
   "outputs": [
    {
     "data": {
      "text/plain": [
       "3-element Vector{Int64}:\n",
       " 1\n",
       " 2\n",
       " 3"
      ]
     },
     "execution_count": 15,
     "metadata": {},
     "output_type": "execute_result"
    }
   ],
   "source": [
    "[1,2,3]"
   ]
  },
  {
   "cell_type": "code",
   "execution_count": 9,
   "id": "8a45c6db",
   "metadata": {
    "cell_style": "split",
    "slideshow": {
     "slide_type": "fragment"
    }
   },
   "outputs": [
    {
     "data": {
      "text/plain": [
       "3-element Vector{Float64}:\n",
       " 1.0\n",
       " 2.0\n",
       " 3.0"
      ]
     },
     "execution_count": 9,
     "metadata": {},
     "output_type": "execute_result"
    }
   ],
   "source": [
    "# explcit typing\n",
    "Float64[1,2,3]"
   ]
  },
  {
   "cell_type": "code",
   "execution_count": 16,
   "id": "766b13cd",
   "metadata": {
    "cell_style": "split",
    "slideshow": {
     "slide_type": "fragment"
    }
   },
   "outputs": [
    {
     "data": {
      "text/plain": [
       "3-element Vector{Float64}:\n",
       " 2.0\n",
       " 4.0\n",
       " 6.0"
      ]
     },
     "execution_count": 16,
     "metadata": {},
     "output_type": "execute_result"
    }
   ],
   "source": [
    "# promotion rules similar to arithmetic\n",
    "[1,2,3.] + [1,2,3]"
   ]
  },
  {
   "cell_type": "code",
   "execution_count": 19,
   "id": "5742608a",
   "metadata": {
    "cell_style": "split",
    "slideshow": {
     "slide_type": "fragment"
    }
   },
   "outputs": [
    {
     "data": {
      "text/plain": [
       "10"
      ]
     },
     "execution_count": 19,
     "metadata": {},
     "output_type": "execute_result"
    }
   ],
   "source": [
    "x = [10, 20, 30]\n",
    "x[1] # one-based indexing"
   ]
  },
  {
   "cell_type": "code",
   "execution_count": 20,
   "id": "4b566b5e",
   "metadata": {
    "cell_style": "split",
    "slideshow": {
     "slide_type": "fragment"
    }
   },
   "outputs": [
    {
     "ename": "LoadError",
     "evalue": "InexactError: Int64(3.5)",
     "output_type": "error",
     "traceback": [
      "InexactError: Int64(3.5)",
      "",
      "Stacktrace:",
      " [1] Int64",
      "   @ ./float.jl:788 [inlined]",
      " [2] convert",
      "   @ ./number.jl:7 [inlined]",
      " [3] setindex!(A::Vector{Int64}, x::Float64, i1::Int64)",
      "   @ Base ./array.jl:966",
      " [4] top-level scope",
      "   @ In[20]:1",
      " [5] eval",
      "   @ ./boot.jl:368 [inlined]",
      " [6] include_string(mapexpr::typeof(REPL.softscope), mod::Module, code::String, filename::String)",
      "   @ Base ./loading.jl:1428"
     ]
    }
   ],
   "source": [
    "x[2] = 3.5"
   ]
  },
  {
   "cell_type": "code",
   "execution_count": 13,
   "id": "6422ea69",
   "metadata": {
    "cell_style": "split",
    "slideshow": {
     "slide_type": "fragment"
    }
   },
   "outputs": [
    {
     "data": {
      "text/plain": [
       "2×3 Matrix{Int64}:\n",
       " 10  20  30\n",
       " 40  50  60"
      ]
     },
     "execution_count": 13,
     "metadata": {},
     "output_type": "execute_result"
    }
   ],
   "source": [
    "# multi-dimensional array\n",
    "A = [10 20 30; 40 50 60]"
   ]
  },
  {
   "cell_type": "markdown",
   "id": "c7027d32",
   "metadata": {
    "slideshow": {
     "slide_type": "slide"
    }
   },
   "source": [
    "# Functions"
   ]
  },
  {
   "cell_type": "code",
   "execution_count": 22,
   "id": "ce304d6a",
   "metadata": {
    "cell_style": "split"
   },
   "outputs": [
    {
     "data": {
      "text/plain": [
       "f (generic function with 1 method)"
      ]
     },
     "execution_count": 22,
     "metadata": {},
     "output_type": "execute_result"
    }
   ],
   "source": [
    "function f(x, y; z=3)\n",
    "    sqrt(x*x + y*y) + z\n",
    "end"
   ]
  },
  {
   "cell_type": "code",
   "execution_count": 26,
   "id": "b39fa552",
   "metadata": {
    "cell_style": "split"
   },
   "outputs": [
    {
     "data": {
      "text/plain": [
       "10.0"
      ]
     },
     "execution_count": 26,
     "metadata": {},
     "output_type": "execute_result"
    }
   ],
   "source": [
    "f(3, 4, z=5)"
   ]
  },
  {
   "cell_type": "code",
   "execution_count": 27,
   "id": "a51770d4",
   "metadata": {
    "cell_style": "split",
    "slideshow": {
     "slide_type": "fragment"
    }
   },
   "outputs": [
    {
     "data": {
      "text/plain": [
       "5.0"
      ]
     },
     "execution_count": 27,
     "metadata": {},
     "output_type": "execute_result"
    }
   ],
   "source": [
    "g(x, y) = sqrt(x^2 + y^2)\n",
    "g(3, 4)"
   ]
  },
  {
   "cell_type": "code",
   "execution_count": 29,
   "id": "350d604e",
   "metadata": {
    "cell_style": "split",
    "slideshow": {
     "slide_type": "fragment"
    }
   },
   "outputs": [
    {
     "data": {
      "text/plain": [
       "5.0"
      ]
     },
     "execution_count": 29,
     "metadata": {},
     "output_type": "execute_result"
    }
   ],
   "source": [
    "((x, y) -> sqrt(x^2 + y^2))(3, 4)"
   ]
  },
  {
   "cell_type": "markdown",
   "id": "ed443633",
   "metadata": {
    "slideshow": {
     "slide_type": "slide"
    }
   },
   "source": [
    "# Loops"
   ]
  },
  {
   "cell_type": "code",
   "execution_count": 30,
   "id": "a72a3693",
   "metadata": {
    "cell_style": "split"
   },
   "outputs": [
    {
     "data": {
      "text/plain": [
       "1:50000"
      ]
     },
     "execution_count": 30,
     "metadata": {},
     "output_type": "execute_result"
    }
   ],
   "source": [
    "# ranges\n",
    "1:50000"
   ]
  },
  {
   "cell_type": "code",
   "execution_count": 32,
   "id": "1cff5422",
   "metadata": {
    "cell_style": "split"
   },
   "outputs": [
    {
     "data": {
      "text/plain": [
       "5-element Vector{Int64}:\n",
       " 1\n",
       " 2\n",
       " 3\n",
       " 4\n",
       " 5"
      ]
     },
     "execution_count": 32,
     "metadata": {},
     "output_type": "execute_result"
    }
   ],
   "source": [
    "collect(1:5)"
   ]
  },
  {
   "cell_type": "code",
   "execution_count": 39,
   "id": "6d92702a",
   "metadata": {
    "cell_style": "split",
    "slideshow": {
     "slide_type": "fragment"
    }
   },
   "outputs": [
    {
     "name": "stdout",
     "output_type": "stream",
     "text": [
      "x = 1.642936065514894\n"
     ]
    },
    {
     "data": {
      "text/plain": [
       "-0.0019980013333324997"
      ]
     },
     "execution_count": 39,
     "metadata": {},
     "output_type": "execute_result"
    }
   ],
   "source": [
    "x = 0\n",
    "for n in 1:500\n",
    "    x += 1/n^2\n",
    "end\n",
    "@show x\n",
    "x - pi^2/6 # trivia you can easily look up if needed"
   ]
  },
  {
   "cell_type": "code",
   "execution_count": 70,
   "id": "65ed5f01",
   "metadata": {
    "cell_style": "split",
    "slideshow": {
     "slide_type": "fragment"
    }
   },
   "outputs": [
    {
     "data": {
      "text/plain": [
       "1.6439345666815612"
      ]
     },
     "execution_count": 70,
     "metadata": {},
     "output_type": "execute_result"
    }
   ],
   "source": [
    "# list comprehensions\n",
    "sum([1/n^2 for n in 1:1000])"
   ]
  },
  {
   "cell_type": "markdown",
   "id": "400fc848",
   "metadata": {
    "cell_style": "center",
    "hideCode": false,
    "hidePrompt": false,
    "slideshow": {
     "slide_type": "slide"
    }
   },
   "source": [
    "# Poll: What is floating point arithmetic?"
   ]
  },
  {
   "cell_type": "markdown",
   "id": "73e46069",
   "metadata": {
    "cell_style": "split",
    "hideCode": false,
    "hidePrompt": false,
    "slideshow": {
     "slide_type": ""
    }
   },
   "source": [
    "1. fuzzy arithmetic\n",
    "2. exact arithmetic, correctly rounded\n",
    "3. the primary focus of numerical analysis"
   ]
  },
  {
   "cell_type": "code",
   "execution_count": 54,
   "id": "b3206a55",
   "metadata": {
    "cell_style": "split",
    "hideCode": false,
    "hidePrompt": false
   },
   "outputs": [
    {
     "data": {
      "text/plain": [
       "0.0"
      ]
     },
     "execution_count": 54,
     "metadata": {},
     "output_type": "execute_result"
    }
   ],
   "source": [
    "0.1 + 0.2\n",
    "(1 + 1e-16) - 1"
   ]
  },
  {
   "cell_type": "code",
   "execution_count": 49,
   "id": "e2726136",
   "metadata": {
    "cell_style": "split",
    "hideCode": false,
    "hidePrompt": false,
    "slideshow": {
     "slide_type": "fragment"
    }
   },
   "outputs": [
    {
     "data": {
      "image/svg+xml": [
       "<?xml version=\"1.0\" encoding=\"utf-8\"?>\n",
       "<svg xmlns=\"http://www.w3.org/2000/svg\" xmlns:xlink=\"http://www.w3.org/1999/xlink\" width=\"600\" height=\"400\" viewBox=\"0 0 2400 1600\">\n",
       "<defs>\n",
       "  <clipPath id=\"clip770\">\n",
       "    <rect x=\"0\" y=\"0\" width=\"2400\" height=\"1600\"/>\n",
       "  </clipPath>\n",
       "</defs>\n",
       "<path clip-path=\"url(#clip770)\" d=\"\n",
       "M0 1600 L2400 1600 L2400 0 L0 0  Z\n",
       "  \" fill=\"#ffffff\" fill-rule=\"evenodd\" fill-opacity=\"1\"/>\n",
       "<defs>\n",
       "  <clipPath id=\"clip771\">\n",
       "    <rect x=\"480\" y=\"0\" width=\"1681\" height=\"1600\"/>\n",
       "  </clipPath>\n",
       "</defs>\n",
       "<path clip-path=\"url(#clip770)\" d=\"\n",
       "M432.029 1410.9 L2352.76 1410.9 L2352.76 47.2441 L432.029 47.2441  Z\n",
       "  \" fill=\"#ffffff\" fill-rule=\"evenodd\" fill-opacity=\"1\"/>\n",
       "<defs>\n",
       "  <clipPath id=\"clip772\">\n",
       "    <rect x=\"432\" y=\"47\" width=\"1922\" height=\"1365\"/>\n",
       "  </clipPath>\n",
       "</defs>\n",
       "<polyline clip-path=\"url(#clip772)\" style=\"stroke:#000000; stroke-linecap:round; stroke-linejoin:round; stroke-width:2; stroke-opacity:0.1; fill:none\" points=\"\n",
       "  432.029,1410.9 432.029,47.2441 \n",
       "  \"/>\n",
       "<polyline clip-path=\"url(#clip772)\" style=\"stroke:#000000; stroke-linecap:round; stroke-linejoin:round; stroke-width:2; stroke-opacity:0.1; fill:none\" points=\"\n",
       "  912.211,1410.9 912.211,47.2441 \n",
       "  \"/>\n",
       "<polyline clip-path=\"url(#clip772)\" style=\"stroke:#000000; stroke-linecap:round; stroke-linejoin:round; stroke-width:2; stroke-opacity:0.1; fill:none\" points=\"\n",
       "  1392.39,1410.9 1392.39,47.2441 \n",
       "  \"/>\n",
       "<polyline clip-path=\"url(#clip772)\" style=\"stroke:#000000; stroke-linecap:round; stroke-linejoin:round; stroke-width:2; stroke-opacity:0.1; fill:none\" points=\"\n",
       "  1872.57,1410.9 1872.57,47.2441 \n",
       "  \"/>\n",
       "<polyline clip-path=\"url(#clip772)\" style=\"stroke:#000000; stroke-linecap:round; stroke-linejoin:round; stroke-width:2; stroke-opacity:0.1; fill:none\" points=\"\n",
       "  2352.76,1410.9 2352.76,47.2441 \n",
       "  \"/>\n",
       "<polyline clip-path=\"url(#clip770)\" style=\"stroke:#000000; stroke-linecap:round; stroke-linejoin:round; stroke-width:4; stroke-opacity:1; fill:none\" points=\"\n",
       "  432.029,1410.9 2352.76,1410.9 \n",
       "  \"/>\n",
       "<polyline clip-path=\"url(#clip770)\" style=\"stroke:#000000; stroke-linecap:round; stroke-linejoin:round; stroke-width:4; stroke-opacity:1; fill:none\" points=\"\n",
       "  432.029,1410.9 432.029,1392 \n",
       "  \"/>\n",
       "<polyline clip-path=\"url(#clip770)\" style=\"stroke:#000000; stroke-linecap:round; stroke-linejoin:round; stroke-width:4; stroke-opacity:1; fill:none\" points=\"\n",
       "  912.211,1410.9 912.211,1392 \n",
       "  \"/>\n",
       "<polyline clip-path=\"url(#clip770)\" style=\"stroke:#000000; stroke-linecap:round; stroke-linejoin:round; stroke-width:4; stroke-opacity:1; fill:none\" points=\"\n",
       "  1392.39,1410.9 1392.39,1392 \n",
       "  \"/>\n",
       "<polyline clip-path=\"url(#clip770)\" style=\"stroke:#000000; stroke-linecap:round; stroke-linejoin:round; stroke-width:4; stroke-opacity:1; fill:none\" points=\"\n",
       "  1872.57,1410.9 1872.57,1392 \n",
       "  \"/>\n",
       "<polyline clip-path=\"url(#clip770)\" style=\"stroke:#000000; stroke-linecap:round; stroke-linejoin:round; stroke-width:4; stroke-opacity:1; fill:none\" points=\"\n",
       "  2352.76,1410.9 2352.76,1392 \n",
       "  \"/>\n",
       "<path clip-path=\"url(#clip770)\" d=\"M291.615 1472.13 L321.291 1472.13 L321.291 1476.06 L291.615 1476.06 L291.615 1472.13 Z\" fill=\"#000000\" fill-rule=\"evenodd\" fill-opacity=\"1\" /><path clip-path=\"url(#clip770)\" d=\"M332.193 1485.02 L339.832 1485.02 L339.832 1458.66 L331.522 1460.32 L331.522 1456.06 L339.786 1454.4 L344.462 1454.4 L344.462 1485.02 L352.101 1485.02 L352.101 1488.96 L332.193 1488.96 L332.193 1485.02 Z\" fill=\"#000000\" fill-rule=\"evenodd\" fill-opacity=\"1\" /><path clip-path=\"url(#clip770)\" d=\"M361.545 1483.08 L366.429 1483.08 L366.429 1488.96 L361.545 1488.96 L361.545 1483.08 Z\" fill=\"#000000\" fill-rule=\"evenodd\" fill-opacity=\"1\" /><path clip-path=\"url(#clip770)\" d=\"M386.615 1457.48 Q383.003 1457.48 381.175 1461.04 Q379.369 1464.58 379.369 1471.71 Q379.369 1478.82 381.175 1482.38 Q383.003 1485.92 386.615 1485.92 Q390.249 1485.92 392.054 1482.38 Q393.883 1478.82 393.883 1471.71 Q393.883 1464.58 392.054 1461.04 Q390.249 1457.48 386.615 1457.48 M386.615 1453.77 Q392.425 1453.77 395.48 1458.38 Q398.559 1462.96 398.559 1471.71 Q398.559 1480.44 395.48 1485.04 Q392.425 1489.63 386.615 1489.63 Q380.804 1489.63 377.726 1485.04 Q374.67 1480.44 374.67 1471.71 Q374.67 1462.96 377.726 1458.38 Q380.804 1453.77 386.615 1453.77 Z\" fill=\"#000000\" fill-rule=\"evenodd\" fill-opacity=\"1\" /><path clip-path=\"url(#clip770)\" d=\"M434.948 1463.49 L424.369 1474.12 L434.948 1484.7 L432.193 1487.5 L421.568 1476.87 L410.943 1487.5 L408.212 1484.7 L418.767 1474.12 L408.212 1463.49 L410.943 1460.69 L421.568 1471.32 L432.193 1460.69 L434.948 1463.49 Z\" fill=\"#000000\" fill-rule=\"evenodd\" fill-opacity=\"1\" /><path clip-path=\"url(#clip770)\" d=\"M447.309 1485.02 L454.947 1485.02 L454.947 1458.66 L446.637 1460.32 L446.637 1456.06 L454.901 1454.4 L459.577 1454.4 L459.577 1485.02 L467.216 1485.02 L467.216 1488.96 L447.309 1488.96 L447.309 1485.02 Z\" fill=\"#000000\" fill-rule=\"evenodd\" fill-opacity=\"1\" /><path clip-path=\"url(#clip770)\" d=\"M486.66 1457.48 Q483.049 1457.48 481.22 1461.04 Q479.415 1464.58 479.415 1471.71 Q479.415 1478.82 481.22 1482.38 Q483.049 1485.92 486.66 1485.92 Q490.295 1485.92 492.1 1482.38 Q493.929 1478.82 493.929 1471.71 Q493.929 1464.58 492.1 1461.04 Q490.295 1457.48 486.66 1457.48 M486.66 1453.77 Q492.47 1453.77 495.526 1458.38 Q498.605 1462.96 498.605 1471.71 Q498.605 1480.44 495.526 1485.04 Q492.47 1489.63 486.66 1489.63 Q480.85 1489.63 477.771 1485.04 Q474.716 1480.44 474.716 1471.71 Q474.716 1462.96 477.771 1458.38 Q480.85 1453.77 486.66 1453.77 Z\" fill=\"#000000\" fill-rule=\"evenodd\" fill-opacity=\"1\" /><path clip-path=\"url(#clip770)\" d=\"M498.605 1447.87 L522.716 1447.87 L522.716 1451.07 L498.605 1451.07 L498.605 1447.87 Z\" fill=\"#000000\" fill-rule=\"evenodd\" fill-opacity=\"1\" /><path clip-path=\"url(#clip770)\" d=\"M531.575 1458.35 L537.781 1458.35 L537.781 1436.93 L531.029 1438.28 L531.029 1434.82 L537.744 1433.47 L541.543 1433.47 L541.543 1458.35 L547.749 1458.35 L547.749 1461.55 L531.575 1461.55 L531.575 1458.35 Z\" fill=\"#000000\" fill-rule=\"evenodd\" fill-opacity=\"1\" /><path clip-path=\"url(#clip770)\" d=\"M555.461 1433.47 L570.375 1433.47 L570.375 1436.66 L558.94 1436.66 L558.94 1443.55 Q559.768 1443.27 560.595 1443.13 Q561.423 1442.98 562.25 1442.98 Q566.952 1442.98 569.698 1445.56 Q572.444 1448.14 572.444 1452.54 Q572.444 1457.07 569.623 1459.59 Q566.802 1462.09 561.667 1462.09 Q559.899 1462.09 558.056 1461.79 Q556.232 1461.49 554.276 1460.89 L554.276 1457.07 Q555.968 1457.99 557.774 1458.44 Q559.579 1458.89 561.592 1458.89 Q564.846 1458.89 566.745 1457.18 Q568.645 1455.47 568.645 1452.54 Q568.645 1449.6 566.745 1447.89 Q564.846 1446.18 561.592 1446.18 Q560.068 1446.18 558.545 1446.52 Q557.04 1446.86 555.461 1447.57 L555.461 1433.47 Z\" fill=\"#000000\" fill-rule=\"evenodd\" fill-opacity=\"1\" /><path clip-path=\"url(#clip770)\" d=\"M771.326 1472.13 L801.002 1472.13 L801.002 1476.06 L771.326 1476.06 L771.326 1472.13 Z\" fill=\"#000000\" fill-rule=\"evenodd\" fill-opacity=\"1\" /><path clip-path=\"url(#clip770)\" d=\"M811.141 1454.4 L829.497 1454.4 L829.497 1458.33 L815.423 1458.33 L815.423 1466.8 Q816.442 1466.46 817.46 1466.29 Q818.479 1466.11 819.497 1466.11 Q825.284 1466.11 828.664 1469.28 Q832.044 1472.45 832.044 1477.87 Q832.044 1483.45 828.571 1486.55 Q825.099 1489.63 818.78 1489.63 Q816.604 1489.63 814.335 1489.26 Q812.09 1488.89 809.683 1488.15 L809.683 1483.45 Q811.766 1484.58 813.988 1485.14 Q816.21 1485.69 818.687 1485.69 Q822.692 1485.69 825.03 1483.59 Q827.368 1481.48 827.368 1477.87 Q827.368 1474.26 825.03 1472.15 Q822.692 1470.04 818.687 1470.04 Q816.812 1470.04 814.937 1470.46 Q813.085 1470.88 811.141 1471.76 L811.141 1454.4 Z\" fill=\"#000000\" fill-rule=\"evenodd\" fill-opacity=\"1\" /><path clip-path=\"url(#clip770)\" d=\"M841.257 1483.08 L846.141 1483.08 L846.141 1488.96 L841.257 1488.96 L841.257 1483.08 Z\" fill=\"#000000\" fill-rule=\"evenodd\" fill-opacity=\"1\" /><path clip-path=\"url(#clip770)\" d=\"M866.326 1457.48 Q862.715 1457.48 860.886 1461.04 Q859.081 1464.58 859.081 1471.71 Q859.081 1478.82 860.886 1482.38 Q862.715 1485.92 866.326 1485.92 Q869.96 1485.92 871.766 1482.38 Q873.594 1478.82 873.594 1471.71 Q873.594 1464.58 871.766 1461.04 Q869.96 1457.48 866.326 1457.48 M866.326 1453.77 Q872.136 1453.77 875.192 1458.38 Q878.27 1462.96 878.27 1471.71 Q878.27 1480.44 875.192 1485.04 Q872.136 1489.63 866.326 1489.63 Q860.516 1489.63 857.437 1485.04 Q854.382 1480.44 854.382 1471.71 Q854.382 1462.96 857.437 1458.38 Q860.516 1453.77 866.326 1453.77 Z\" fill=\"#000000\" fill-rule=\"evenodd\" fill-opacity=\"1\" /><path clip-path=\"url(#clip770)\" d=\"M914.659 1463.49 L904.08 1474.12 L914.659 1484.7 L911.904 1487.5 L901.279 1476.87 L890.654 1487.5 L887.923 1484.7 L898.479 1474.12 L887.923 1463.49 L890.654 1460.69 L901.279 1471.32 L911.904 1460.69 L914.659 1463.49 Z\" fill=\"#000000\" fill-rule=\"evenodd\" fill-opacity=\"1\" /><path clip-path=\"url(#clip770)\" d=\"M927.02 1485.02 L934.659 1485.02 L934.659 1458.66 L926.349 1460.32 L926.349 1456.06 L934.613 1454.4 L939.288 1454.4 L939.288 1485.02 L946.927 1485.02 L946.927 1488.96 L927.02 1488.96 L927.02 1485.02 Z\" fill=\"#000000\" fill-rule=\"evenodd\" fill-opacity=\"1\" /><path clip-path=\"url(#clip770)\" d=\"M966.372 1457.48 Q962.761 1457.48 960.932 1461.04 Q959.126 1464.58 959.126 1471.71 Q959.126 1478.82 960.932 1482.38 Q962.761 1485.92 966.372 1485.92 Q970.006 1485.92 971.811 1482.38 Q973.64 1478.82 973.64 1471.71 Q973.64 1464.58 971.811 1461.04 Q970.006 1457.48 966.372 1457.48 M966.372 1453.77 Q972.182 1453.77 975.237 1458.38 Q978.316 1462.96 978.316 1471.71 Q978.316 1480.44 975.237 1485.04 Q972.182 1489.63 966.372 1489.63 Q960.562 1489.63 957.483 1485.04 Q954.427 1480.44 954.427 1471.71 Q954.427 1462.96 957.483 1458.38 Q960.562 1453.77 966.372 1453.77 Z\" fill=\"#000000\" fill-rule=\"evenodd\" fill-opacity=\"1\" /><path clip-path=\"url(#clip770)\" d=\"M978.316 1447.87 L1002.43 1447.87 L1002.43 1451.07 L978.316 1451.07 L978.316 1447.87 Z\" fill=\"#000000\" fill-rule=\"evenodd\" fill-opacity=\"1\" /><path clip-path=\"url(#clip770)\" d=\"M1011.29 1458.35 L1017.49 1458.35 L1017.49 1436.93 L1010.74 1438.28 L1010.74 1434.82 L1017.46 1433.47 L1021.25 1433.47 L1021.25 1458.35 L1027.46 1458.35 L1027.46 1461.55 L1011.29 1461.55 L1011.29 1458.35 Z\" fill=\"#000000\" fill-rule=\"evenodd\" fill-opacity=\"1\" /><path clip-path=\"url(#clip770)\" d=\"M1043.73 1445.99 Q1041.17 1445.99 1039.67 1447.74 Q1038.18 1449.49 1038.18 1452.54 Q1038.18 1455.57 1039.67 1457.33 Q1041.17 1459.08 1043.73 1459.08 Q1046.29 1459.08 1047.77 1457.33 Q1049.28 1455.57 1049.28 1452.54 Q1049.28 1449.49 1047.77 1447.74 Q1046.29 1445.99 1043.73 1445.99 M1051.27 1434.09 L1051.27 1437.55 Q1049.84 1436.87 1048.37 1436.51 Q1046.93 1436.16 1045.5 1436.16 Q1041.74 1436.16 1039.74 1438.69 Q1037.77 1441.23 1037.49 1446.37 Q1038.59 1444.73 1040.27 1443.87 Q1041.94 1442.98 1043.96 1442.98 Q1048.19 1442.98 1050.63 1445.56 Q1053.1 1448.12 1053.1 1452.54 Q1053.1 1456.86 1050.54 1459.48 Q1047.98 1462.09 1043.73 1462.09 Q1038.86 1462.09 1036.28 1458.37 Q1033.7 1454.62 1033.7 1447.53 Q1033.7 1440.88 1036.86 1436.93 Q1040.02 1432.96 1045.35 1432.96 Q1046.78 1432.96 1048.22 1433.24 Q1049.69 1433.52 1051.27 1434.09 Z\" fill=\"#000000\" fill-rule=\"evenodd\" fill-opacity=\"1\" /><path clip-path=\"url(#clip770)\" d=\"M1392.39 1441.82 Q1388.78 1441.82 1386.95 1445.38 Q1385.15 1448.92 1385.15 1456.05 Q1385.15 1463.16 1386.95 1466.72 Q1388.78 1470.26 1392.39 1470.26 Q1396.03 1470.26 1397.83 1466.72 Q1399.66 1463.16 1399.66 1456.05 Q1399.66 1448.92 1397.83 1445.38 Q1396.03 1441.82 1392.39 1441.82 M1392.39 1438.11 Q1398.2 1438.11 1401.26 1442.72 Q1404.34 1447.3 1404.34 1456.05 Q1404.34 1464.78 1401.26 1469.38 Q1398.2 1473.97 1392.39 1473.97 Q1386.58 1473.97 1383.5 1469.38 Q1380.45 1464.78 1380.45 1456.05 Q1380.45 1447.3 1383.5 1442.72 Q1386.58 1438.11 1392.39 1438.11 Z\" fill=\"#000000\" fill-rule=\"evenodd\" fill-opacity=\"1\" /><path clip-path=\"url(#clip770)\" d=\"M1752.33 1454.4 L1770.68 1454.4 L1770.68 1458.33 L1756.61 1458.33 L1756.61 1466.8 Q1757.63 1466.46 1758.65 1466.29 Q1759.66 1466.11 1760.68 1466.11 Q1766.47 1466.11 1769.85 1469.28 Q1773.23 1472.45 1773.23 1477.87 Q1773.23 1483.45 1769.76 1486.55 Q1766.28 1489.63 1759.96 1489.63 Q1757.79 1489.63 1755.52 1489.26 Q1753.28 1488.89 1750.87 1488.15 L1750.87 1483.45 Q1752.95 1484.58 1755.17 1485.14 Q1757.4 1485.69 1759.87 1485.69 Q1763.88 1485.69 1766.21 1483.59 Q1768.55 1481.48 1768.55 1477.87 Q1768.55 1474.26 1766.21 1472.15 Q1763.88 1470.04 1759.87 1470.04 Q1758 1470.04 1756.12 1470.46 Q1754.27 1470.88 1752.33 1471.76 L1752.33 1454.4 Z\" fill=\"#000000\" fill-rule=\"evenodd\" fill-opacity=\"1\" /><path clip-path=\"url(#clip770)\" d=\"M1782.44 1483.08 L1787.33 1483.08 L1787.33 1488.96 L1782.44 1488.96 L1782.44 1483.08 Z\" fill=\"#000000\" fill-rule=\"evenodd\" fill-opacity=\"1\" /><path clip-path=\"url(#clip770)\" d=\"M1807.51 1457.48 Q1803.9 1457.48 1802.07 1461.04 Q1800.27 1464.58 1800.27 1471.71 Q1800.27 1478.82 1802.07 1482.38 Q1803.9 1485.92 1807.51 1485.92 Q1811.15 1485.92 1812.95 1482.38 Q1814.78 1478.82 1814.78 1471.71 Q1814.78 1464.58 1812.95 1461.04 Q1811.15 1457.48 1807.51 1457.48 M1807.51 1453.77 Q1813.32 1453.77 1816.38 1458.38 Q1819.46 1462.96 1819.46 1471.71 Q1819.46 1480.44 1816.38 1485.04 Q1813.32 1489.63 1807.51 1489.63 Q1801.7 1489.63 1798.62 1485.04 Q1795.57 1480.44 1795.57 1471.71 Q1795.57 1462.96 1798.62 1458.38 Q1801.7 1453.77 1807.51 1453.77 Z\" fill=\"#000000\" fill-rule=\"evenodd\" fill-opacity=\"1\" /><path clip-path=\"url(#clip770)\" d=\"M1855.84 1463.49 L1845.27 1474.12 L1855.84 1484.7 L1853.09 1487.5 L1842.46 1476.87 L1831.84 1487.5 L1829.11 1484.7 L1839.66 1474.12 L1829.11 1463.49 L1831.84 1460.69 L1842.46 1471.32 L1853.09 1460.69 L1855.84 1463.49 Z\" fill=\"#000000\" fill-rule=\"evenodd\" fill-opacity=\"1\" /><path clip-path=\"url(#clip770)\" d=\"M1868.21 1485.02 L1875.84 1485.02 L1875.84 1458.66 L1867.53 1460.32 L1867.53 1456.06 L1875.8 1454.4 L1880.47 1454.4 L1880.47 1485.02 L1888.11 1485.02 L1888.11 1488.96 L1868.21 1488.96 L1868.21 1485.02 Z\" fill=\"#000000\" fill-rule=\"evenodd\" fill-opacity=\"1\" /><path clip-path=\"url(#clip770)\" d=\"M1907.56 1457.48 Q1903.95 1457.48 1902.12 1461.04 Q1900.31 1464.58 1900.31 1471.71 Q1900.31 1478.82 1902.12 1482.38 Q1903.95 1485.92 1907.56 1485.92 Q1911.19 1485.92 1913 1482.38 Q1914.83 1478.82 1914.83 1471.71 Q1914.83 1464.58 1913 1461.04 Q1911.19 1457.48 1907.56 1457.48 M1907.56 1453.77 Q1913.37 1453.77 1916.42 1458.38 Q1919.5 1462.96 1919.5 1471.71 Q1919.5 1480.44 1916.42 1485.04 Q1913.37 1489.63 1907.56 1489.63 Q1901.75 1489.63 1898.67 1485.04 Q1895.61 1480.44 1895.61 1471.71 Q1895.61 1462.96 1898.67 1458.38 Q1901.75 1453.77 1907.56 1453.77 Z\" fill=\"#000000\" fill-rule=\"evenodd\" fill-opacity=\"1\" /><path clip-path=\"url(#clip770)\" d=\"M1919.5 1447.87 L1943.61 1447.87 L1943.61 1451.07 L1919.5 1451.07 L1919.5 1447.87 Z\" fill=\"#000000\" fill-rule=\"evenodd\" fill-opacity=\"1\" /><path clip-path=\"url(#clip770)\" d=\"M1952.47 1458.35 L1958.68 1458.35 L1958.68 1436.93 L1951.93 1438.28 L1951.93 1434.82 L1958.64 1433.47 L1962.44 1433.47 L1962.44 1458.35 L1968.65 1458.35 L1968.65 1461.55 L1952.47 1461.55 L1952.47 1458.35 Z\" fill=\"#000000\" fill-rule=\"evenodd\" fill-opacity=\"1\" /><path clip-path=\"url(#clip770)\" d=\"M1984.91 1445.99 Q1982.36 1445.99 1980.85 1447.74 Q1979.37 1449.49 1979.37 1452.54 Q1979.37 1455.57 1980.85 1457.33 Q1982.36 1459.08 1984.91 1459.08 Q1987.47 1459.08 1988.96 1457.33 Q1990.46 1455.57 1990.46 1452.54 Q1990.46 1449.49 1988.96 1447.74 Q1987.47 1445.99 1984.91 1445.99 M1992.46 1434.09 L1992.46 1437.55 Q1991.03 1436.87 1989.56 1436.51 Q1988.11 1436.16 1986.68 1436.16 Q1982.92 1436.16 1980.93 1438.69 Q1978.95 1441.23 1978.67 1446.37 Q1979.78 1444.73 1981.45 1443.87 Q1983.13 1442.98 1985.14 1442.98 Q1989.37 1442.98 1991.82 1445.56 Q1994.28 1448.12 1994.28 1452.54 Q1994.28 1456.86 1991.72 1459.48 Q1989.17 1462.09 1984.91 1462.09 Q1980.04 1462.09 1977.47 1458.37 Q1974.89 1454.62 1974.89 1447.53 Q1974.89 1440.88 1978.05 1436.93 Q1981.21 1432.96 1986.53 1432.96 Q1987.96 1432.96 1989.41 1433.24 Q1990.88 1433.52 1992.46 1434.09 Z\" fill=\"#000000\" fill-rule=\"evenodd\" fill-opacity=\"1\" /><path clip-path=\"url(#clip770)\" d=\"M2232.97 1485.02 L2240.61 1485.02 L2240.61 1458.66 L2232.3 1460.32 L2232.3 1456.06 L2240.56 1454.4 L2245.23 1454.4 L2245.23 1485.02 L2252.87 1485.02 L2252.87 1488.96 L2232.97 1488.96 L2232.97 1485.02 Z\" fill=\"#000000\" fill-rule=\"evenodd\" fill-opacity=\"1\" /><path clip-path=\"url(#clip770)\" d=\"M2262.32 1483.08 L2267.2 1483.08 L2267.2 1488.96 L2262.32 1488.96 L2262.32 1483.08 Z\" fill=\"#000000\" fill-rule=\"evenodd\" fill-opacity=\"1\" /><path clip-path=\"url(#clip770)\" d=\"M2287.39 1457.48 Q2283.78 1457.48 2281.95 1461.04 Q2280.14 1464.58 2280.14 1471.71 Q2280.14 1478.82 2281.95 1482.38 Q2283.78 1485.92 2287.39 1485.92 Q2291.02 1485.92 2292.83 1482.38 Q2294.66 1478.82 2294.66 1471.71 Q2294.66 1464.58 2292.83 1461.04 Q2291.02 1457.48 2287.39 1457.48 M2287.39 1453.77 Q2293.2 1453.77 2296.25 1458.38 Q2299.33 1462.96 2299.33 1471.71 Q2299.33 1480.44 2296.25 1485.04 Q2293.2 1489.63 2287.39 1489.63 Q2281.58 1489.63 2278.5 1485.04 Q2275.44 1480.44 2275.44 1471.71 Q2275.44 1462.96 2278.5 1458.38 Q2281.58 1453.77 2287.39 1453.77 Z\" fill=\"#000000\" fill-rule=\"evenodd\" fill-opacity=\"1\" /><path clip-path=\"url(#clip770)\" d=\"M2335.72 1463.49 L2325.14 1474.12 L2335.72 1484.7 L2332.97 1487.5 L2322.34 1476.87 L2311.72 1487.5 L2308.98 1484.7 L2319.54 1474.12 L2308.98 1463.49 L2311.72 1460.69 L2322.34 1471.32 L2332.97 1460.69 L2335.72 1463.49 Z\" fill=\"#000000\" fill-rule=\"evenodd\" fill-opacity=\"1\" /><path clip-path=\"url(#clip770)\" d=\"M2348.08 1485.02 L2355.72 1485.02 L2355.72 1458.66 L2347.41 1460.32 L2347.41 1456.06 L2355.67 1454.4 L2360.35 1454.4 L2360.35 1485.02 L2367.99 1485.02 L2367.99 1488.96 L2348.08 1488.96 L2348.08 1485.02 Z\" fill=\"#000000\" fill-rule=\"evenodd\" fill-opacity=\"1\" /><path clip-path=\"url(#clip770)\" d=\"M2387.43 1457.48 Q2383.82 1457.48 2381.99 1461.04 Q2380.19 1464.58 2380.19 1471.71 Q2380.19 1478.82 2381.99 1482.38 Q2383.82 1485.92 2387.43 1485.92 Q2391.07 1485.92 2392.87 1482.38 Q2394.7 1478.82 2394.7 1471.71 Q2394.7 1464.58 2392.87 1461.04 Q2391.07 1457.48 2387.43 1457.48 M2387.43 1453.77 Q2393.24 1453.77 2396.3 1458.38 Q2399.38 1462.96 2399.38 1471.71 Q2399.38 1480.44 2396.3 1485.04 Q2393.24 1489.63 2387.43 1489.63 Q2381.62 1489.63 2378.54 1485.04 Q2375.49 1480.44 2375.49 1471.71 Q2375.49 1462.96 2378.54 1458.38 Q2381.62 1453.77 2387.43 1453.77 Z\" fill=\"#000000\" fill-rule=\"evenodd\" fill-opacity=\"1\" /><path clip-path=\"url(#clip770)\" d=\"M2399.38 1447.87 L2423.49 1447.87 L2423.49 1451.07 L2399.38 1451.07 L2399.38 1447.87 Z\" fill=\"#000000\" fill-rule=\"evenodd\" fill-opacity=\"1\" /><path clip-path=\"url(#clip770)\" d=\"M2432.35 1458.35 L2438.55 1458.35 L2438.55 1436.93 L2431.8 1438.28 L2431.8 1434.82 L2438.52 1433.47 L2442.32 1433.47 L2442.32 1458.35 L2448.52 1458.35 L2448.52 1461.55 L2432.35 1461.55 L2432.35 1458.35 Z\" fill=\"#000000\" fill-rule=\"evenodd\" fill-opacity=\"1\" /><path clip-path=\"url(#clip770)\" d=\"M2456.23 1433.47 L2471.15 1433.47 L2471.15 1436.66 L2459.71 1436.66 L2459.71 1443.55 Q2460.54 1443.27 2461.37 1443.13 Q2462.2 1442.98 2463.02 1442.98 Q2467.72 1442.98 2470.47 1445.56 Q2473.22 1448.14 2473.22 1452.54 Q2473.22 1457.07 2470.4 1459.59 Q2467.57 1462.09 2462.44 1462.09 Q2460.67 1462.09 2458.83 1461.79 Q2457 1461.49 2455.05 1460.89 L2455.05 1457.07 Q2456.74 1457.99 2458.55 1458.44 Q2460.35 1458.89 2462.36 1458.89 Q2465.62 1458.89 2467.52 1457.18 Q2469.42 1455.47 2469.42 1452.54 Q2469.42 1449.6 2467.52 1447.89 Q2465.62 1446.18 2462.36 1446.18 Q2460.84 1446.18 2459.32 1446.52 Q2457.81 1446.86 2456.23 1447.57 L2456.23 1433.47 Z\" fill=\"#000000\" fill-rule=\"evenodd\" fill-opacity=\"1\" /><path clip-path=\"url(#clip770)\" d=\"M1409.01 1538.54 L1396.12 1555.88 L1409.68 1574.19 L1402.77 1574.19 L1392.39 1560.18 L1382.02 1574.19 L1375.11 1574.19 L1388.96 1555.53 L1376.29 1538.54 L1383.19 1538.54 L1392.65 1551.24 L1402.1 1538.54 L1409.01 1538.54 Z\" fill=\"#000000\" fill-rule=\"evenodd\" fill-opacity=\"1\" /><polyline clip-path=\"url(#clip772)\" style=\"stroke:#000000; stroke-linecap:round; stroke-linejoin:round; stroke-width:2; stroke-opacity:0.1; fill:none\" points=\"\n",
       "  432.029,1372.3 2352.76,1372.3 \n",
       "  \"/>\n",
       "<polyline clip-path=\"url(#clip772)\" style=\"stroke:#000000; stroke-linecap:round; stroke-linejoin:round; stroke-width:2; stroke-opacity:0.1; fill:none\" points=\"\n",
       "  432.029,1067.49 2352.76,1067.49 \n",
       "  \"/>\n",
       "<polyline clip-path=\"url(#clip772)\" style=\"stroke:#000000; stroke-linecap:round; stroke-linejoin:round; stroke-width:2; stroke-opacity:0.1; fill:none\" points=\"\n",
       "  432.029,762.668 2352.76,762.668 \n",
       "  \"/>\n",
       "<polyline clip-path=\"url(#clip772)\" style=\"stroke:#000000; stroke-linecap:round; stroke-linejoin:round; stroke-width:2; stroke-opacity:0.1; fill:none\" points=\"\n",
       "  432.029,457.851 2352.76,457.851 \n",
       "  \"/>\n",
       "<polyline clip-path=\"url(#clip772)\" style=\"stroke:#000000; stroke-linecap:round; stroke-linejoin:round; stroke-width:2; stroke-opacity:0.1; fill:none\" points=\"\n",
       "  432.029,153.034 2352.76,153.034 \n",
       "  \"/>\n",
       "<polyline clip-path=\"url(#clip770)\" style=\"stroke:#000000; stroke-linecap:round; stroke-linejoin:round; stroke-width:4; stroke-opacity:1; fill:none\" points=\"\n",
       "  432.029,1410.9 432.029,47.2441 \n",
       "  \"/>\n",
       "<polyline clip-path=\"url(#clip770)\" style=\"stroke:#000000; stroke-linecap:round; stroke-linejoin:round; stroke-width:4; stroke-opacity:1; fill:none\" points=\"\n",
       "  432.029,1372.3 450.927,1372.3 \n",
       "  \"/>\n",
       "<polyline clip-path=\"url(#clip770)\" style=\"stroke:#000000; stroke-linecap:round; stroke-linejoin:round; stroke-width:4; stroke-opacity:1; fill:none\" points=\"\n",
       "  432.029,1067.49 450.927,1067.49 \n",
       "  \"/>\n",
       "<polyline clip-path=\"url(#clip770)\" style=\"stroke:#000000; stroke-linecap:round; stroke-linejoin:round; stroke-width:4; stroke-opacity:1; fill:none\" points=\"\n",
       "  432.029,762.668 450.927,762.668 \n",
       "  \"/>\n",
       "<polyline clip-path=\"url(#clip770)\" style=\"stroke:#000000; stroke-linecap:round; stroke-linejoin:round; stroke-width:4; stroke-opacity:1; fill:none\" points=\"\n",
       "  432.029,457.851 450.927,457.851 \n",
       "  \"/>\n",
       "<polyline clip-path=\"url(#clip770)\" style=\"stroke:#000000; stroke-linecap:round; stroke-linejoin:round; stroke-width:4; stroke-opacity:1; fill:none\" points=\"\n",
       "  432.029,153.034 450.927,153.034 \n",
       "  \"/>\n",
       "<path clip-path=\"url(#clip770)\" d=\"M115.201 1379.2 L144.876 1379.2 L144.876 1383.14 L115.201 1383.14 L115.201 1379.2 Z\" fill=\"#000000\" fill-rule=\"evenodd\" fill-opacity=\"1\" /><path clip-path=\"url(#clip770)\" d=\"M155.779 1392.1 L163.418 1392.1 L163.418 1365.73 L155.108 1367.4 L155.108 1363.14 L163.372 1361.47 L168.047 1361.47 L168.047 1392.1 L175.686 1392.1 L175.686 1396.03 L155.779 1396.03 L155.779 1392.1 Z\" fill=\"#000000\" fill-rule=\"evenodd\" fill-opacity=\"1\" /><path clip-path=\"url(#clip770)\" d=\"M185.131 1390.15 L190.015 1390.15 L190.015 1396.03 L185.131 1396.03 L185.131 1390.15 Z\" fill=\"#000000\" fill-rule=\"evenodd\" fill-opacity=\"1\" /><path clip-path=\"url(#clip770)\" d=\"M210.2 1364.55 Q206.589 1364.55 204.76 1368.11 Q202.955 1371.66 202.955 1378.79 Q202.955 1385.89 204.76 1389.46 Q206.589 1393 210.2 1393 Q213.834 1393 215.64 1389.46 Q217.469 1385.89 217.469 1378.79 Q217.469 1371.66 215.64 1368.11 Q213.834 1364.55 210.2 1364.55 M210.2 1360.85 Q216.01 1360.85 219.066 1365.45 Q222.144 1370.04 222.144 1378.79 Q222.144 1387.51 219.066 1392.12 Q216.01 1396.7 210.2 1396.7 Q204.39 1396.7 201.311 1392.12 Q198.256 1387.51 198.256 1378.79 Q198.256 1370.04 201.311 1365.45 Q204.39 1360.85 210.2 1360.85 Z\" fill=\"#000000\" fill-rule=\"evenodd\" fill-opacity=\"1\" /><path clip-path=\"url(#clip770)\" d=\"M258.533 1370.57 L247.954 1381.19 L258.533 1391.77 L255.778 1394.57 L245.154 1383.95 L234.529 1394.57 L231.797 1391.77 L242.353 1381.19 L231.797 1370.57 L234.529 1367.77 L245.154 1378.39 L255.778 1367.77 L258.533 1370.57 Z\" fill=\"#000000\" fill-rule=\"evenodd\" fill-opacity=\"1\" /><path clip-path=\"url(#clip770)\" d=\"M270.894 1392.1 L278.533 1392.1 L278.533 1365.73 L270.223 1367.4 L270.223 1363.14 L278.487 1361.47 L283.163 1361.47 L283.163 1392.1 L290.801 1392.1 L290.801 1396.03 L270.894 1396.03 L270.894 1392.1 Z\" fill=\"#000000\" fill-rule=\"evenodd\" fill-opacity=\"1\" /><path clip-path=\"url(#clip770)\" d=\"M310.246 1364.55 Q306.635 1364.55 304.806 1368.11 Q303 1371.66 303 1378.79 Q303 1385.89 304.806 1389.46 Q306.635 1393 310.246 1393 Q313.88 1393 315.686 1389.46 Q317.514 1385.89 317.514 1378.79 Q317.514 1371.66 315.686 1368.11 Q313.88 1364.55 310.246 1364.55 M310.246 1360.85 Q316.056 1360.85 319.111 1365.45 Q322.19 1370.04 322.19 1378.79 Q322.19 1387.51 319.111 1392.12 Q316.056 1396.7 310.246 1396.7 Q304.436 1396.7 301.357 1392.12 Q298.301 1387.51 298.301 1378.79 Q298.301 1370.04 301.357 1365.45 Q304.436 1360.85 310.246 1360.85 Z\" fill=\"#000000\" fill-rule=\"evenodd\" fill-opacity=\"1\" /><path clip-path=\"url(#clip770)\" d=\"M322.19 1354.95 L346.302 1354.95 L346.302 1358.14 L322.19 1358.14 L322.19 1354.95 Z\" fill=\"#000000\" fill-rule=\"evenodd\" fill-opacity=\"1\" /><path clip-path=\"url(#clip770)\" d=\"M355.16 1365.42 L361.367 1365.42 L361.367 1344 L354.615 1345.35 L354.615 1341.89 L361.329 1340.54 L365.128 1340.54 L365.128 1365.42 L371.335 1365.42 L371.335 1368.62 L355.16 1368.62 L355.16 1365.42 Z\" fill=\"#000000\" fill-rule=\"evenodd\" fill-opacity=\"1\" /><path clip-path=\"url(#clip770)\" d=\"M379.046 1340.54 L393.961 1340.54 L393.961 1343.74 L382.526 1343.74 L382.526 1350.62 Q383.353 1350.34 384.181 1350.21 Q385.008 1350.06 385.836 1350.06 Q390.538 1350.06 393.284 1352.63 Q396.029 1355.21 396.029 1359.61 Q396.029 1364.14 393.208 1366.66 Q390.387 1369.17 385.253 1369.17 Q383.485 1369.17 381.642 1368.86 Q379.817 1368.56 377.861 1367.96 L377.861 1364.14 Q379.554 1365.07 381.359 1365.52 Q383.165 1365.97 385.177 1365.97 Q388.431 1365.97 390.331 1364.26 Q392.23 1362.54 392.23 1359.61 Q392.23 1356.68 390.331 1354.97 Q388.431 1353.25 385.177 1353.25 Q383.654 1353.25 382.131 1353.59 Q380.626 1353.93 379.046 1354.65 L379.046 1340.54 Z\" fill=\"#000000\" fill-rule=\"evenodd\" fill-opacity=\"1\" /><path clip-path=\"url(#clip770)\" d=\"M114.26 1074.38 L143.936 1074.38 L143.936 1078.32 L114.26 1078.32 L114.26 1074.38 Z\" fill=\"#000000\" fill-rule=\"evenodd\" fill-opacity=\"1\" /><path clip-path=\"url(#clip770)\" d=\"M154.075 1056.65 L172.431 1056.65 L172.431 1060.59 L158.357 1060.59 L158.357 1069.06 Q159.376 1068.71 160.394 1068.55 Q161.413 1068.37 162.431 1068.37 Q168.218 1068.37 171.598 1071.54 Q174.977 1074.71 174.977 1080.13 Q174.977 1085.7 171.505 1088.81 Q168.033 1091.88 161.714 1091.88 Q159.538 1091.88 157.269 1091.51 Q155.024 1091.14 152.616 1090.4 L152.616 1085.7 Q154.7 1086.84 156.922 1087.39 Q159.144 1087.95 161.621 1087.95 Q165.626 1087.95 167.964 1085.84 Q170.302 1083.74 170.302 1080.13 Q170.302 1076.51 167.964 1074.41 Q165.626 1072.3 161.621 1072.3 Q159.746 1072.3 157.871 1072.72 Q156.019 1073.13 154.075 1074.01 L154.075 1056.65 Z\" fill=\"#000000\" fill-rule=\"evenodd\" fill-opacity=\"1\" /><path clip-path=\"url(#clip770)\" d=\"M184.19 1085.33 L189.075 1085.33 L189.075 1091.21 L184.19 1091.21 L184.19 1085.33 Z\" fill=\"#000000\" fill-rule=\"evenodd\" fill-opacity=\"1\" /><path clip-path=\"url(#clip770)\" d=\"M209.26 1059.73 Q205.649 1059.73 203.82 1063.3 Q202.014 1066.84 202.014 1073.97 Q202.014 1081.07 203.82 1084.64 Q205.649 1088.18 209.26 1088.18 Q212.894 1088.18 214.699 1084.64 Q216.528 1081.07 216.528 1073.97 Q216.528 1066.84 214.699 1063.3 Q212.894 1059.73 209.26 1059.73 M209.26 1056.03 Q215.07 1056.03 218.125 1060.63 Q221.204 1065.22 221.204 1073.97 Q221.204 1082.69 218.125 1087.3 Q215.07 1091.88 209.26 1091.88 Q203.449 1091.88 200.371 1087.3 Q197.315 1082.69 197.315 1073.97 Q197.315 1065.22 200.371 1060.63 Q203.449 1056.03 209.26 1056.03 Z\" fill=\"#000000\" fill-rule=\"evenodd\" fill-opacity=\"1\" /><path clip-path=\"url(#clip770)\" d=\"M257.593 1065.75 L247.014 1076.38 L257.593 1086.95 L254.838 1089.75 L244.213 1079.13 L233.588 1089.75 L230.857 1086.95 L241.412 1076.38 L230.857 1065.75 L233.588 1062.95 L244.213 1073.57 L254.838 1062.95 L257.593 1065.75 Z\" fill=\"#000000\" fill-rule=\"evenodd\" fill-opacity=\"1\" /><path clip-path=\"url(#clip770)\" d=\"M269.954 1087.28 L277.593 1087.28 L277.593 1060.91 L269.282 1062.58 L269.282 1058.32 L277.546 1056.65 L282.222 1056.65 L282.222 1087.28 L289.861 1087.28 L289.861 1091.21 L269.954 1091.21 L269.954 1087.28 Z\" fill=\"#000000\" fill-rule=\"evenodd\" fill-opacity=\"1\" /><path clip-path=\"url(#clip770)\" d=\"M309.305 1059.73 Q305.694 1059.73 303.866 1063.3 Q302.06 1066.84 302.06 1073.97 Q302.06 1081.07 303.866 1084.64 Q305.694 1088.18 309.305 1088.18 Q312.94 1088.18 314.745 1084.64 Q316.574 1081.07 316.574 1073.97 Q316.574 1066.84 314.745 1063.3 Q312.94 1059.73 309.305 1059.73 M309.305 1056.03 Q315.116 1056.03 318.171 1060.63 Q321.25 1065.22 321.25 1073.97 Q321.25 1082.69 318.171 1087.3 Q315.116 1091.88 309.305 1091.88 Q303.495 1091.88 300.417 1087.3 Q297.361 1082.69 297.361 1073.97 Q297.361 1065.22 300.417 1060.63 Q303.495 1056.03 309.305 1056.03 Z\" fill=\"#000000\" fill-rule=\"evenodd\" fill-opacity=\"1\" /><path clip-path=\"url(#clip770)\" d=\"M321.25 1050.13 L345.361 1050.13 L345.361 1053.33 L321.25 1053.33 L321.25 1050.13 Z\" fill=\"#000000\" fill-rule=\"evenodd\" fill-opacity=\"1\" /><path clip-path=\"url(#clip770)\" d=\"M354.22 1060.61 L360.426 1060.61 L360.426 1039.18 L353.674 1040.54 L353.674 1037.08 L360.389 1035.72 L364.188 1035.72 L364.188 1060.61 L370.394 1060.61 L370.394 1063.8 L354.22 1063.8 L354.22 1060.61 Z\" fill=\"#000000\" fill-rule=\"evenodd\" fill-opacity=\"1\" /><path clip-path=\"url(#clip770)\" d=\"M386.663 1048.25 Q384.105 1048.25 382.601 1050 Q381.115 1051.75 381.115 1054.79 Q381.115 1057.82 382.601 1059.59 Q384.105 1061.34 386.663 1061.34 Q389.221 1061.34 390.707 1059.59 Q392.212 1057.82 392.212 1054.79 Q392.212 1051.75 390.707 1050 Q389.221 1048.25 386.663 1048.25 M394.205 1036.34 L394.205 1039.8 Q392.776 1039.13 391.309 1038.77 Q389.861 1038.41 388.431 1038.41 Q384.67 1038.41 382.676 1040.95 Q380.701 1043.49 380.419 1048.62 Q381.529 1046.99 383.203 1046.12 Q384.876 1045.24 386.889 1045.24 Q391.121 1045.24 393.566 1047.82 Q396.029 1050.37 396.029 1054.79 Q396.029 1059.12 393.472 1061.73 Q390.914 1064.35 386.663 1064.35 Q381.792 1064.35 379.215 1060.62 Q376.639 1056.88 376.639 1049.79 Q376.639 1043.13 379.798 1039.18 Q382.958 1035.21 388.281 1035.21 Q389.71 1035.21 391.158 1035.5 Q392.625 1035.78 394.205 1036.34 Z\" fill=\"#000000\" fill-rule=\"evenodd\" fill-opacity=\"1\" /><path clip-path=\"url(#clip770)\" d=\"M384.085 748.467 Q380.474 748.467 378.645 752.032 Q376.84 755.573 376.84 762.703 Q376.84 769.809 378.645 773.374 Q380.474 776.916 384.085 776.916 Q387.719 776.916 389.525 773.374 Q391.354 769.809 391.354 762.703 Q391.354 755.573 389.525 752.032 Q387.719 748.467 384.085 748.467 M384.085 744.763 Q389.895 744.763 392.951 749.37 Q396.029 753.953 396.029 762.703 Q396.029 771.43 392.951 776.036 Q389.895 780.62 384.085 780.62 Q378.275 780.62 375.196 776.036 Q372.141 771.43 372.141 762.703 Q372.141 753.953 375.196 749.37 Q378.275 744.763 384.085 744.763 Z\" fill=\"#000000\" fill-rule=\"evenodd\" fill-opacity=\"1\" /><path clip-path=\"url(#clip770)\" d=\"M154.075 447.019 L172.431 447.019 L172.431 450.954 L158.357 450.954 L158.357 459.426 Q159.376 459.079 160.394 458.917 Q161.413 458.732 162.431 458.732 Q168.218 458.732 171.598 461.903 Q174.977 465.074 174.977 470.491 Q174.977 476.069 171.505 479.171 Q168.033 482.25 161.714 482.25 Q159.538 482.25 157.269 481.88 Q155.024 481.509 152.616 480.768 L152.616 476.069 Q154.7 477.204 156.922 477.759 Q159.144 478.315 161.621 478.315 Q165.626 478.315 167.964 476.208 Q170.302 474.102 170.302 470.491 Q170.302 466.88 167.964 464.773 Q165.626 462.667 161.621 462.667 Q159.746 462.667 157.871 463.083 Q156.019 463.5 154.075 464.38 L154.075 447.019 Z\" fill=\"#000000\" fill-rule=\"evenodd\" fill-opacity=\"1\" /><path clip-path=\"url(#clip770)\" d=\"M184.19 475.699 L189.075 475.699 L189.075 481.579 L184.19 481.579 L184.19 475.699 Z\" fill=\"#000000\" fill-rule=\"evenodd\" fill-opacity=\"1\" /><path clip-path=\"url(#clip770)\" d=\"M209.26 450.097 Q205.649 450.097 203.82 453.662 Q202.014 457.204 202.014 464.333 Q202.014 471.44 203.82 475.005 Q205.649 478.546 209.26 478.546 Q212.894 478.546 214.699 475.005 Q216.528 471.44 216.528 464.333 Q216.528 457.204 214.699 453.662 Q212.894 450.097 209.26 450.097 M209.26 446.394 Q215.07 446.394 218.125 451 Q221.204 455.583 221.204 464.333 Q221.204 473.06 218.125 477.667 Q215.07 482.25 209.26 482.25 Q203.449 482.25 200.371 477.667 Q197.315 473.06 197.315 464.333 Q197.315 455.583 200.371 451 Q203.449 446.394 209.26 446.394 Z\" fill=\"#000000\" fill-rule=\"evenodd\" fill-opacity=\"1\" /><path clip-path=\"url(#clip770)\" d=\"M257.593 456.116 L247.014 466.741 L257.593 477.319 L254.838 480.12 L244.213 469.495 L233.588 480.12 L230.857 477.319 L241.412 466.741 L230.857 456.116 L233.588 453.315 L244.213 463.94 L254.838 453.315 L257.593 456.116 Z\" fill=\"#000000\" fill-rule=\"evenodd\" fill-opacity=\"1\" /><path clip-path=\"url(#clip770)\" d=\"M269.954 477.643 L277.593 477.643 L277.593 451.278 L269.282 452.945 L269.282 448.685 L277.546 447.019 L282.222 447.019 L282.222 477.643 L289.861 477.643 L289.861 481.579 L269.954 481.579 L269.954 477.643 Z\" fill=\"#000000\" fill-rule=\"evenodd\" fill-opacity=\"1\" /><path clip-path=\"url(#clip770)\" d=\"M309.305 450.097 Q305.694 450.097 303.866 453.662 Q302.06 457.204 302.06 464.333 Q302.06 471.44 303.866 475.005 Q305.694 478.546 309.305 478.546 Q312.94 478.546 314.745 475.005 Q316.574 471.44 316.574 464.333 Q316.574 457.204 314.745 453.662 Q312.94 450.097 309.305 450.097 M309.305 446.394 Q315.116 446.394 318.171 451 Q321.25 455.583 321.25 464.333 Q321.25 473.06 318.171 477.667 Q315.116 482.25 309.305 482.25 Q303.495 482.25 300.417 477.667 Q297.361 473.06 297.361 464.333 Q297.361 455.583 300.417 451 Q303.495 446.394 309.305 446.394 Z\" fill=\"#000000\" fill-rule=\"evenodd\" fill-opacity=\"1\" /><path clip-path=\"url(#clip770)\" d=\"M321.25 440.495 L345.361 440.495 L345.361 443.692 L321.25 443.692 L321.25 440.495 Z\" fill=\"#000000\" fill-rule=\"evenodd\" fill-opacity=\"1\" /><path clip-path=\"url(#clip770)\" d=\"M354.22 450.971 L360.426 450.971 L360.426 429.549 L353.674 430.903 L353.674 427.442 L360.389 426.088 L364.188 426.088 L364.188 450.971 L370.394 450.971 L370.394 454.168 L354.22 454.168 L354.22 450.971 Z\" fill=\"#000000\" fill-rule=\"evenodd\" fill-opacity=\"1\" /><path clip-path=\"url(#clip770)\" d=\"M386.663 438.614 Q384.105 438.614 382.601 440.363 Q381.115 442.112 381.115 445.159 Q381.115 448.187 382.601 449.955 Q384.105 451.704 386.663 451.704 Q389.221 451.704 390.707 449.955 Q392.212 448.187 392.212 445.159 Q392.212 442.112 390.707 440.363 Q389.221 438.614 386.663 438.614 M394.205 426.709 L394.205 430.17 Q392.776 429.492 391.309 429.135 Q389.861 428.778 388.431 428.778 Q384.67 428.778 382.676 431.317 Q380.701 433.856 380.419 438.99 Q381.529 437.354 383.203 436.489 Q384.876 435.605 386.889 435.605 Q391.121 435.605 393.566 438.182 Q396.029 440.739 396.029 445.159 Q396.029 449.485 393.472 452.099 Q390.914 454.714 386.663 454.714 Q381.792 454.714 379.215 450.99 Q376.639 447.247 376.639 440.156 Q376.639 433.498 379.798 429.549 Q382.958 425.58 388.281 425.58 Q389.71 425.58 391.158 425.863 Q392.625 426.145 394.205 426.709 Z\" fill=\"#000000\" fill-rule=\"evenodd\" fill-opacity=\"1\" /><path clip-path=\"url(#clip770)\" d=\"M155.779 172.826 L163.418 172.826 L163.418 146.461 L155.108 148.127 L155.108 143.868 L163.372 142.201 L168.047 142.201 L168.047 172.826 L175.686 172.826 L175.686 176.761 L155.779 176.761 L155.779 172.826 Z\" fill=\"#000000\" fill-rule=\"evenodd\" fill-opacity=\"1\" /><path clip-path=\"url(#clip770)\" d=\"M185.131 170.882 L190.015 170.882 L190.015 176.761 L185.131 176.761 L185.131 170.882 Z\" fill=\"#000000\" fill-rule=\"evenodd\" fill-opacity=\"1\" /><path clip-path=\"url(#clip770)\" d=\"M210.2 145.28 Q206.589 145.28 204.76 148.845 Q202.955 152.387 202.955 159.516 Q202.955 166.623 204.76 170.187 Q206.589 173.729 210.2 173.729 Q213.834 173.729 215.64 170.187 Q217.469 166.623 217.469 159.516 Q217.469 152.387 215.64 148.845 Q213.834 145.28 210.2 145.28 M210.2 141.576 Q216.01 141.576 219.066 146.183 Q222.144 150.766 222.144 159.516 Q222.144 168.243 219.066 172.849 Q216.01 177.433 210.2 177.433 Q204.39 177.433 201.311 172.849 Q198.256 168.243 198.256 159.516 Q198.256 150.766 201.311 146.183 Q204.39 141.576 210.2 141.576 Z\" fill=\"#000000\" fill-rule=\"evenodd\" fill-opacity=\"1\" /><path clip-path=\"url(#clip770)\" d=\"M258.533 151.299 L247.954 161.924 L258.533 172.502 L255.778 175.303 L245.154 164.678 L234.529 175.303 L231.797 172.502 L242.353 161.924 L231.797 151.299 L234.529 148.498 L245.154 159.123 L255.778 148.498 L258.533 151.299 Z\" fill=\"#000000\" fill-rule=\"evenodd\" fill-opacity=\"1\" /><path clip-path=\"url(#clip770)\" d=\"M270.894 172.826 L278.533 172.826 L278.533 146.461 L270.223 148.127 L270.223 143.868 L278.487 142.201 L283.163 142.201 L283.163 172.826 L290.801 172.826 L290.801 176.761 L270.894 176.761 L270.894 172.826 Z\" fill=\"#000000\" fill-rule=\"evenodd\" fill-opacity=\"1\" /><path clip-path=\"url(#clip770)\" d=\"M310.246 145.28 Q306.635 145.28 304.806 148.845 Q303 152.387 303 159.516 Q303 166.623 304.806 170.187 Q306.635 173.729 310.246 173.729 Q313.88 173.729 315.686 170.187 Q317.514 166.623 317.514 159.516 Q317.514 152.387 315.686 148.845 Q313.88 145.28 310.246 145.28 M310.246 141.576 Q316.056 141.576 319.111 146.183 Q322.19 150.766 322.19 159.516 Q322.19 168.243 319.111 172.849 Q316.056 177.433 310.246 177.433 Q304.436 177.433 301.357 172.849 Q298.301 168.243 298.301 159.516 Q298.301 150.766 301.357 146.183 Q304.436 141.576 310.246 141.576 Z\" fill=\"#000000\" fill-rule=\"evenodd\" fill-opacity=\"1\" /><path clip-path=\"url(#clip770)\" d=\"M322.19 135.678 L346.302 135.678 L346.302 138.875 L322.19 138.875 L322.19 135.678 Z\" fill=\"#000000\" fill-rule=\"evenodd\" fill-opacity=\"1\" /><path clip-path=\"url(#clip770)\" d=\"M355.16 146.154 L361.367 146.154 L361.367 124.732 L354.615 126.086 L354.615 122.625 L361.329 121.271 L365.128 121.271 L365.128 146.154 L371.335 146.154 L371.335 149.351 L355.16 149.351 L355.16 146.154 Z\" fill=\"#000000\" fill-rule=\"evenodd\" fill-opacity=\"1\" /><path clip-path=\"url(#clip770)\" d=\"M379.046 121.271 L393.961 121.271 L393.961 124.468 L382.526 124.468 L382.526 131.352 Q383.353 131.07 384.181 130.938 Q385.008 130.788 385.836 130.788 Q390.538 130.788 393.284 133.364 Q396.029 135.941 396.029 140.342 Q396.029 144.875 393.208 147.395 Q390.387 149.896 385.253 149.896 Q383.485 149.896 381.642 149.595 Q379.817 149.295 377.861 148.693 L377.861 144.875 Q379.554 145.796 381.359 146.248 Q383.165 146.699 385.177 146.699 Q388.431 146.699 390.331 144.988 Q392.23 143.276 392.23 140.342 Q392.23 137.408 390.331 135.697 Q388.431 133.985 385.177 133.985 Q383.654 133.985 382.131 134.324 Q380.626 134.662 379.046 135.377 L379.046 121.271 Z\" fill=\"#000000\" fill-rule=\"evenodd\" fill-opacity=\"1\" /><path clip-path=\"url(#clip770)\" d=\"M67.3143 727.383 Q73.68 729.866 75.6216 732.221 Q77.5631 734.577 77.5631 738.523 L77.5631 743.202 L72.6615 743.202 L72.6615 739.765 Q72.6615 737.346 71.5157 736.009 Q70.3699 734.672 66.1048 733.049 L63.4312 731.999 L28.3562 746.417 L28.3562 740.21 L56.238 729.07 L28.3562 717.93 L28.3562 711.724 L67.3143 727.383 Z\" fill=\"#000000\" fill-rule=\"evenodd\" fill-opacity=\"1\" /><polyline clip-path=\"url(#clip772)\" style=\"stroke:#009af9; stroke-linecap:round; stroke-linejoin:round; stroke-width:16; stroke-opacity:1; fill:none\" points=\"\n",
       "  432.029,1371.82 435.156,1371.82 438.282,1371.82 441.408,1371.82 444.534,1371.82 451.761,1371.82 458.988,1371.82 466.214,1371.82 473.441,1371.82 477.054,1371.82 \n",
       "  480.668,1371.82 482.474,1371.82 484.281,1371.82 485.184,1371.82 486.088,1371.82 486.991,1304.13 487.894,1304.13 488.798,1304.13 489.701,1304.13 490.604,1304.13 \n",
       "  491.508,1304.13 493.314,1304.13 495.121,1304.13 498.734,1304.13 502.348,1304.13 516.801,1304.13 531.254,1304.13 545.708,1304.13 560.161,1304.13 568.847,1304.13 \n",
       "  577.533,1304.13 581.876,1304.13 586.219,1304.13 587.304,1304.13 588.39,1304.13 589.476,1304.13 590.561,1304.13 591.104,1304.13 591.647,1304.13 592.19,1304.13 \n",
       "  592.733,1236.45 593.276,1236.45 593.819,1236.45 594.362,1236.45 594.904,1236.45 597.076,1236.45 599.247,1236.45 601.419,1236.45 603.59,1236.45 607.933,1236.45 \n",
       "  612.276,1236.45 620.962,1236.45 629.648,1236.45 644.335,1236.45 659.023,1236.45 666.367,1236.45 673.71,1236.45 681.054,1236.45 688.398,1236.45 690.392,1236.45 \n",
       "  692.387,1236.45 694.381,1236.45 696.375,1236.45 696.874,1236.45 697.373,1236.45 697.871,1236.45 698.37,1236.45 698.868,1236.45 699.367,1168.77 699.865,1168.77 \n",
       "  700.364,1168.77 701.361,1168.77 702.358,1168.77 703.356,1168.77 704.353,1168.77 708.341,1168.77 712.33,1168.77 716.319,1168.77 720.308,1168.77 736.262,1168.77 \n",
       "  752.217,1168.77 766.926,1168.77 781.635,1168.77 788.989,1168.77 796.344,1168.77 798.182,1168.77 800.021,1168.77 801.86,1168.77 803.698,1168.77 804.158,1168.77 \n",
       "  804.618,1168.77 805.077,1168.77 805.537,1168.77 805.997,1101.08 806.456,1101.08 806.916,1101.08 807.375,1101.08 808.295,1101.08 809.214,1101.08 810.133,1101.08 \n",
       "  811.053,1101.08 813.024,1101.08 814.995,1101.08 816.966,1101.08 818.937,1101.08 822.88,1101.08 826.822,1101.08 834.707,1101.08 842.592,1101.08 858.361,1101.08 \n",
       "  874.131,1101.08 883.266,1101.08 892.401,1101.08 896.969,1101.08 901.536,1101.08 903.82,1101.08 906.104,1101.08 907.246,1101.08 908.388,1101.08 909.53,1101.08 \n",
       "  910.672,1101.08 911.243,1101.08 911.814,1101.08 912.385,1101.08 912.956,1033.4 913.526,1033.4 914.097,1033.4 914.668,1033.4 915.239,1033.4 917.523,1033.4 \n",
       "  919.807,1033.4 924.375,1033.4 928.942,1033.4 938.077,1033.4 947.213,1033.4 963.449,1033.4 979.686,1033.4 987.804,1033.4 995.923,1033.4 999.982,1033.4 \n",
       "  1004.04,1033.4 1008.1,1033.4 1012.16,1033.4 1013.94,1033.4 1015.72,1033.4 1016.61,1033.4 1017.5,1033.4 1017.94,1033.4 1018.39,1033.4 1018.83,1033.4 \n",
       "  1019.28,965.717 1019.72,965.717 1020.17,965.717 1020.61,965.717 1021.06,965.717 1021.95,965.717 1022.84,965.717 1024.62,965.717 1026.4,965.717 1033.52,965.717 \n",
       "  1040.64,965.717 1054.87,965.717 1069.11,965.717 1084.64,965.717 1100.16,965.717 1107.92,965.717 1115.68,965.717 1117.62,965.717 1119.56,965.717 1121.5,965.717 \n",
       "  1123.44,965.717 1123.93,965.717 1124.41,965.717 1124.9,965.717 1125.38,965.717 1125.87,898.034 1126.35,898.034 1126.84,898.034 1127.32,898.034 1128.29,898.034 \n",
       "  1129.26,898.034 1130.24,898.034 1131.21,898.034 1139.01,898.034 1146.82,898.034 1154.63,898.034 1162.44,898.034 1178.05,898.034 1193.67,898.034 1202.3,898.034 \n",
       "  1210.93,898.034 1215.25,898.034 1219.57,898.034 1221.72,898.034 1223.88,898.034 1226.04,898.034 1228.2,898.034 1229.28,898.034 1230.36,898.034 1230.9,898.034 \n",
       "  1231.43,898.034 1231.97,898.034 1232.51,830.351 1233.05,830.351 1233.59,830.351 1234.13,830.351 1234.67,830.351 1235.75,830.351 1236.83,830.351 1241.15,830.351 \n",
       "  1245.46,830.351 1254.1,830.351 1262.73,830.351 1279.16,830.351 1295.58,830.351 1312.01,830.351 1328.44,830.351 1330.57,830.351 1332.71,830.351 1333.77,830.351 \n",
       "  1334.84,830.351 1335.91,830.351 1336.98,830.351 1337.51,830.351 1338.04,830.351 1338.58,830.351 1339.11,762.668 1339.65,762.668 1340.18,762.668 1340.71,762.668 \n",
       "  1341.25,762.668 1343.38,762.668 1345.52,762.668 1349.79,762.668 1354.06,762.668 1358.33,762.668 1362.6,762.668 1379.68,762.668 1396.76,762.668 1425.52,762.668 \n",
       "  1454.27,762.668 1471.83,762.668 1489.38,762.668 1491.57,762.668 1493.77,762.668 1494.87,762.668 1495.96,762.668 1496.51,762.668 1497.06,762.668 1497.61,762.668 \n",
       "  1498.16,762.668 1498.71,762.668 1499.25,627.302 1499.8,627.302 1500.35,627.302 1501.45,627.302 1502.55,627.302 1504.74,627.302 1506.93,627.302 1511.32,627.302 \n",
       "  1515.71,627.302 1520.1,627.302 1524.49,627.302 1556.65,627.302 1588.81,627.302 1618.51,627.302 1648.22,627.302 1663.26,627.302 1678.31,627.302 1685.83,627.302 \n",
       "  1693.35,627.302 1700.87,627.302 1708.4,627.302 1709.45,627.302 1710.5,627.302 1711.03,627.302 1711.56,627.302 1712.08,627.302 1712.61,491.936 1713.14,491.936 \n",
       "  1713.66,491.936 1714.19,491.936 1714.72,491.936 1715.77,491.936 1716.83,491.936 1721.04,491.936 1725.26,491.936 1733.69,491.936 1742.12,491.936 1758.98,491.936 \n",
       "  1775.84,491.936 1806.39,491.936 1836.95,491.936 1871.94,491.936 1906.92,491.936 1910.97,491.936 1915.02,491.936 1917.04,491.936 1919.07,491.936 1921.09,491.936 \n",
       "  1923.12,491.936 1923.62,491.936 1924.13,491.936 1924.64,491.936 1925.14,491.936 1925.65,356.57 1926.16,356.57 1926.66,356.57 1927.17,356.57 1928.18,356.57 \n",
       "  1929.19,356.57 1930.2,356.57 1931.22,356.57 1935.27,356.57 1939.31,356.57 1947.41,356.57 1955.51,356.57 1963.61,356.57 1971.71,356.57 2003.64,356.57 \n",
       "  2035.58,356.57 2066.59,356.57 2097.59,356.57 2113.49,356.57 2129.38,356.57 2131.37,356.57 2133.35,356.57 2134.35,356.57 2135.34,356.57 2136.33,356.57 \n",
       "  2137.33,356.57 2137.82,356.57 2138.32,356.57 2138.82,221.204 2139.31,221.204 2139.81,221.204 2140.31,221.204 2140.8,221.204 2141.3,221.204 2143.29,221.204 \n",
       "  2145.27,221.204 2149.25,221.204 2153.22,221.204 2157.19,221.204 2161.17,221.204 2195.99,221.204 2230.82,221.204 2281.41,221.204 2332,221.204 2342.38,221.204 \n",
       "  2352.76,85.838 \n",
       "  \"/>\n",
       "<polyline clip-path=\"url(#clip772)\" style=\"stroke:#e26f46; stroke-linecap:round; stroke-linejoin:round; stroke-width:16; stroke-opacity:1; fill:none\" points=\"\n",
       "  432.029,1372.3 444.534,1364.36 560.161,1290.97 629.648,1246.86 688.398,1209.56 752.217,1169.05 811.053,1131.7 874.131,1091.66 947.213,1045.27 1012.16,1004.04 \n",
       "  1069.11,967.886 1131.21,928.469 1193.67,888.818 1262.73,844.979 1328.44,803.267 1396.76,759.896 1454.27,723.388 1524.49,678.815 1588.81,637.983 1648.22,600.271 \n",
       "  1708.4,562.071 1775.84,519.259 1836.95,480.465 1906.92,436.047 1971.71,394.921 2035.58,354.376 2097.59,315.009 2161.17,274.653 2230.82,230.439 2332,166.21 \n",
       "  2352.76,153.034 \n",
       "  \"/>\n",
       "<path clip-path=\"url(#clip770)\" d=\"\n",
       "M2022.89 248.219 L2288.73 248.219 L2288.73 92.6992 L2022.89 92.6992  Z\n",
       "  \" fill=\"#ffffff\" fill-rule=\"evenodd\" fill-opacity=\"1\"/>\n",
       "<polyline clip-path=\"url(#clip770)\" style=\"stroke:#000000; stroke-linecap:round; stroke-linejoin:round; stroke-width:4; stroke-opacity:1; fill:none\" points=\"\n",
       "  2022.89,248.219 2288.73,248.219 2288.73,92.6992 2022.89,92.6992 2022.89,248.219 \n",
       "  \"/>\n",
       "<polyline clip-path=\"url(#clip770)\" style=\"stroke:#009af9; stroke-linecap:round; stroke-linejoin:round; stroke-width:4; stroke-opacity:1; fill:none\" points=\"\n",
       "  2044.23,144.539 2172.28,144.539 \n",
       "  \"/>\n",
       "<path clip-path=\"url(#clip770)\" d=\"M2207.46 164.227 Q2205.66 168.856 2203.94 170.268 Q2202.23 171.68 2199.36 171.68 L2195.96 171.68 L2195.96 168.115 L2198.46 168.115 Q2200.22 168.115 2201.19 167.282 Q2202.16 166.449 2203.34 163.347 L2204.1 161.403 L2193.62 135.893 L2198.13 135.893 L2206.23 156.171 L2214.34 135.893 L2218.85 135.893 L2207.46 164.227 Z\" fill=\"#000000\" fill-rule=\"evenodd\" fill-opacity=\"1\" /><path clip-path=\"url(#clip770)\" d=\"M2226.14 157.884 L2233.78 157.884 L2233.78 131.518 L2225.47 133.185 L2225.47 128.926 L2233.73 127.259 L2238.41 127.259 L2238.41 157.884 L2246.05 157.884 L2246.05 161.819 L2226.14 161.819 L2226.14 157.884 Z\" fill=\"#000000\" fill-rule=\"evenodd\" fill-opacity=\"1\" /><polyline clip-path=\"url(#clip770)\" style=\"stroke:#e26f46; stroke-linecap:round; stroke-linejoin:round; stroke-width:4; stroke-opacity:1; fill:none\" points=\"\n",
       "  2044.23,196.379 2172.28,196.379 \n",
       "  \"/>\n",
       "<path clip-path=\"url(#clip770)\" d=\"M2207.46 216.067 Q2205.66 220.696 2203.94 222.108 Q2202.23 223.52 2199.36 223.52 L2195.96 223.52 L2195.96 219.955 L2198.46 219.955 Q2200.22 219.955 2201.19 219.122 Q2202.16 218.289 2203.34 215.187 L2204.1 213.243 L2193.62 187.733 L2198.13 187.733 L2206.23 208.011 L2214.34 187.733 L2218.85 187.733 L2207.46 216.067 Z\" fill=\"#000000\" fill-rule=\"evenodd\" fill-opacity=\"1\" /><path clip-path=\"url(#clip770)\" d=\"M2229.36 209.724 L2245.68 209.724 L2245.68 213.659 L2223.73 213.659 L2223.73 209.724 Q2226.4 206.969 2230.98 202.34 Q2235.59 197.687 2236.77 196.344 Q2239.01 193.821 2239.89 192.085 Q2240.79 190.326 2240.79 188.636 Q2240.79 185.882 2238.85 184.145 Q2236.93 182.409 2233.83 182.409 Q2231.63 182.409 2229.17 183.173 Q2226.74 183.937 2223.97 185.488 L2223.97 180.766 Q2226.79 179.632 2229.24 179.053 Q2231.7 178.474 2233.73 178.474 Q2239.1 178.474 2242.3 181.159 Q2245.49 183.845 2245.49 188.335 Q2245.49 190.465 2244.68 192.386 Q2243.9 194.284 2241.79 196.877 Q2241.21 197.548 2238.11 200.766 Q2235.01 203.96 2229.36 209.724 Z\" fill=\"#000000\" fill-rule=\"evenodd\" fill-opacity=\"1\" /></svg>\n"
      ]
     },
     "execution_count": 49,
     "metadata": {},
     "output_type": "execute_result"
    }
   ],
   "source": [
    "using Plots\n",
    "default(linewidth=4)\n",
    "plot(x -> (1 + x) - 1, xlims=(-1e-15, 1e-15),\n",
    "xlabel=\"x\", ylabel=\"y\")\n",
    "plot!(x -> x)"
   ]
  },
  {
   "cell_type": "markdown",
   "id": "c49bf903",
   "metadata": {
    "hideCode": false,
    "hidePrompt": false,
    "slideshow": {
     "slide_type": "slide"
    }
   },
   "source": [
    "# Machine epsilon\n",
    "\n",
    "We approximate real numbers with **floating point** arithmetic, which can only represent discrete values. In particular, there exists a largest number, which we call $\\epsilon_{\\text{machine}}$, such that\n",
    "$$ 1 \\oplus x = 1 \\quad \\text{for all}\\  \\lvert x \\rvert < \\epsilon_{\\text{machine}}.$$\n",
    "\n",
    "The notation $\\oplus, \\ominus, \\odot, \\oslash$ represent the elementary operation carried out in floating point arithmetic."
   ]
  },
  {
   "cell_type": "code",
   "execution_count": 57,
   "id": "86096208",
   "metadata": {
    "cell_style": "split",
    "hideCode": false,
    "hidePrompt": false,
    "slideshow": {
     "slide_type": "fragment"
    }
   },
   "outputs": [
    {
     "data": {
      "text/plain": [
       "1.1102230246251565e-16"
      ]
     },
     "execution_count": 57,
     "metadata": {},
     "output_type": "execute_result"
    }
   ],
   "source": [
    "eps = 1.\n",
    "while 1 + eps != 1\n",
    "    eps = eps / 2\n",
    "end\n",
    "eps"
   ]
  },
  {
   "cell_type": "code",
   "execution_count": 81,
   "id": "0a14ea73",
   "metadata": {
    "cell_style": "split",
    "slideshow": {
     "slide_type": "fragment"
    }
   },
   "outputs": [
    {
     "data": {
      "text/plain": [
       "5.9604645f-8"
      ]
     },
     "execution_count": 81,
     "metadata": {},
     "output_type": "execute_result"
    }
   ],
   "source": [
    "eps = 1.f0\n",
    "while 1 + eps != 1\n",
    "    eps = eps / 2\n",
    "end\n",
    "eps"
   ]
  },
  {
   "cell_type": "markdown",
   "id": "56fade8b",
   "metadata": {
    "hideCode": false,
    "hidePrompt": false,
    "slideshow": {
     "slide_type": "slide"
    }
   },
   "source": [
    "# Beating `exp`\n",
    "\n",
    "$$e^x = 1 + x + \\frac{x^2}{2!} + \\frac{x^3}{3!} + \\dotsb$$\n",
    "\n",
    "Suppose we want to compute $f(x) = e^x - 1$ for small values of $x$."
   ]
  },
  {
   "cell_type": "code",
   "execution_count": 89,
   "id": "282ad48a",
   "metadata": {
    "cell_style": "split",
    "hideCode": false,
    "hidePrompt": false
   },
   "outputs": [
    {
     "data": {
      "text/plain": [
       "9.99999993922529e-9"
      ]
     },
     "execution_count": 89,
     "metadata": {},
     "output_type": "execute_result"
    }
   ],
   "source": [
    "f1(x) = exp(x) - 1\n",
    "y1 = f1(1e-8)"
   ]
  },
  {
   "cell_type": "code",
   "execution_count": 87,
   "id": "eff4a68c",
   "metadata": {
    "cell_style": "split",
    "hideCode": false,
    "hidePrompt": false
   },
   "outputs": [
    {
     "data": {
      "text/plain": [
       "1.000000005e-8"
      ]
     },
     "execution_count": 87,
     "metadata": {},
     "output_type": "execute_result"
    }
   ],
   "source": [
    "f2(x) = x + x^2/2 + x^3/6\n",
    "y2 = f2(1e-8)"
   ]
  },
  {
   "cell_type": "markdown",
   "id": "379682f9",
   "metadata": {
    "hideCode": false,
    "hidePrompt": false
   },
   "source": [
    "Which answer is more accurate?"
   ]
  },
  {
   "cell_type": "code",
   "execution_count": 27,
   "id": "6081053e",
   "metadata": {
    "hideCode": false,
    "hidePrompt": false
   },
   "outputs": [
    {
     "name": "stdout",
     "output_type": "stream",
     "text": [
      "y1 - y2 = -1.1077470910720506e-16\n",
      "(y1 - y2) / y2 = -1.1077470855333152e-8\n"
     ]
    }
   ],
   "source": [
    "@show (y1 - y2)        # Absolute difference\n",
    "@show (y1 - y2) / y2;  # Relative difference"
   ]
  },
  {
   "cell_type": "code",
   "execution_count": 91,
   "id": "72039c6a",
   "metadata": {},
   "outputs": [
    {
     "data": {
      "text/plain": [
       "NaN"
      ]
     },
     "execution_count": 91,
     "metadata": {},
     "output_type": "execute_result"
    }
   ],
   "source": [
    "0 / 0"
   ]
  }
 ],
 "metadata": {
  "celltoolbar": "Slideshow",
  "hide_code_all_hidden": false,
  "kernelspec": {
   "display_name": "Julia 1.7.2",
   "language": "julia",
   "name": "julia-1.7"
  },
  "language_info": {
   "file_extension": ".jl",
   "mimetype": "application/julia",
   "name": "julia",
   "version": "1.8.4"
  },
  "rise": {
   "enable_chalkboard": true
  }
 },
 "nbformat": 4,
 "nbformat_minor": 5
}
