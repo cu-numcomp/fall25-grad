{
 "cells": [
  {
   "cell_type": "markdown",
   "id": "4159be0e",
   "metadata": {
    "hideCode": false,
    "hidePrompt": false,
    "slideshow": {
     "slide_type": "slide"
    }
   },
   "source": [
    "# 2023-01-30 Rootfinding\n",
    "\n",
    "## Last time\n",
    "\n",
    "* More on floating point\n",
    "* Discuss Taylor Series activity\n",
    "* Condition numbers\n",
    "\n",
    "## Today\n",
    "\n",
    "* Forward and backward error\n",
    "* Computing volume of a polygon\n",
    "* Rootfinding examples\n",
    "* Use [Roots.jl](https://juliapackages.com/p/roots) to solve\n",
    "* Introduce Bisection"
   ]
  },
  {
   "cell_type": "code",
   "execution_count": 2,
   "id": "eb781a7a",
   "metadata": {
    "slideshow": {
     "slide_type": "skip"
    }
   },
   "outputs": [],
   "source": [
    "using Plots\n",
    "default(linewidth=4)"
   ]
  },
  {
   "cell_type": "markdown",
   "id": "ca3502f6",
   "metadata": {
    "slideshow": {
     "slide_type": "slide"
    }
   },
   "source": [
    "# Reliable = well-conditioned and stable\n",
    "\n",
    "## Mathematical functions $f(x)$ can be ill-conditioned (big $\\kappa$)\n",
    "* Modeling is how we turn an abstract question into a mathematical function\n",
    "* We want well-conditioned models (small $\\kappa$)\n",
    "* Some systems are intrinsically sensitive: fracture, chaotic systems, combustion\n",
    "\n",
    "## Algorithms `f(x)` can be unstable\n",
    "* Unreliable, though sometimes practical\n",
    "* Unstable algorithms are constructed from ill-conditioned parts"
   ]
  },
  {
   "cell_type": "markdown",
   "id": "07cd924a",
   "metadata": {
    "slideshow": {
     "slide_type": "slide"
    }
   },
   "source": [
    "# An ill-conditioned problem from Paul Olum\n",
    "\n",
    "From [Surely You're Joking, Mr. Feynman](https://sistemas.fciencias.unam.mx/%7Ecompcuantica/RICHARD%20P.%20FEYNMAN-SURELY%20YOU%27RE%20JOKING%20MR.%20FEYNMAN.PDF) (page 113)\n",
    "\n",
    "> So Paul is walking past the lunch place and these guys are all excited. \"Hey, \n",
    "Paul!\" they call out. \"Feynman's terrific! We give him a problem that can be stated in ten \n",
    "seconds, and in a minute he gets the answer to 10 percent. Why don't you give him one?\" \n",
    "Without hardly stopping, he says, \"The tangent of 10 to the 100th.\" \n",
    "I was sunk: you have to divide by pi to 100 decimal places! It was hopeless."
   ]
  },
  {
   "cell_type": "markdown",
   "id": "6ecb7b9c",
   "metadata": {
    "cell_style": "split"
   },
   "source": [
    "What's the condition number?\n",
    "\n",
    "$$ \\kappa = |f'(x)| \\frac{|x|}{|f|} $$\n",
    "\n",
    "* $f(x) = \\tan x$\n",
    "* $f'(x) = 1 + \\tan^2 x$\n",
    "\n",
    "$$ \\kappa = \\lvert x \\rvert \\Bigl( \\lvert \\tan x \\rvert + \\bigl\\lvert \\frac{1}{\\tan x} \\bigr\\rvert \\Bigr) > \\lvert x \\rvert$$"
   ]
  },
  {
   "cell_type": "code",
   "execution_count": 3,
   "id": "3c52979f",
   "metadata": {
    "cell_style": "split"
   },
   "outputs": [
    {
     "data": {
      "text/plain": [
       "-0.4116229628832498"
      ]
     },
     "execution_count": 3,
     "metadata": {},
     "output_type": "execute_result"
    }
   ],
   "source": [
    "tan(1e100)"
   ]
  },
  {
   "cell_type": "code",
   "execution_count": 4,
   "id": "f20ecd97",
   "metadata": {
    "cell_style": "split"
   },
   "outputs": [
    {
     "data": {
      "text/plain": [
       "0.4012319619908143541857543436532949583238702611292440683194415381168718098221194"
      ]
     },
     "execution_count": 4,
     "metadata": {},
     "output_type": "execute_result"
    }
   ],
   "source": [
    "tan(BigFloat(\"1e100\", precision=500))"
   ]
  },
  {
   "cell_type": "markdown",
   "id": "e6129d2f",
   "metadata": {
    "slideshow": {
     "slide_type": "slide"
    }
   },
   "source": [
    "# Forward and backward error\n",
    "\n"
   ]
  },
  {
   "cell_type": "code",
   "execution_count": 5,
   "id": "558f743c",
   "metadata": {
    "cell_style": "split"
   },
   "outputs": [
    {
     "data": {
      "image/svg+xml": [
       "<?xml version=\"1.0\" encoding=\"utf-8\"?>\n",
       "<svg xmlns=\"http://www.w3.org/2000/svg\" xmlns:xlink=\"http://www.w3.org/1999/xlink\" width=\"600\" height=\"400\" viewBox=\"0 0 2400 1600\">\n",
       "<defs>\n",
       "  <clipPath id=\"clip980\">\n",
       "    <rect x=\"0\" y=\"0\" width=\"2400\" height=\"1600\"/>\n",
       "  </clipPath>\n",
       "</defs>\n",
       "<path clip-path=\"url(#clip980)\" d=\"\n",
       "M0 1600 L2400 1600 L2400 0 L0 0  Z\n",
       "  \" fill=\"#ffffff\" fill-rule=\"evenodd\" fill-opacity=\"1\"/>\n",
       "<defs>\n",
       "  <clipPath id=\"clip981\">\n",
       "    <rect x=\"480\" y=\"0\" width=\"1681\" height=\"1600\"/>\n",
       "  </clipPath>\n",
       "</defs>\n",
       "<path clip-path=\"url(#clip980)\" d=\"\n",
       "M178.867 1486.45 L2352.76 1486.45 L2352.76 47.2441 L178.867 47.2441  Z\n",
       "  \" fill=\"#ffffff\" fill-rule=\"evenodd\" fill-opacity=\"1\"/>\n",
       "<defs>\n",
       "  <clipPath id=\"clip982\">\n",
       "    <rect x=\"178\" y=\"47\" width=\"2175\" height=\"1440\"/>\n",
       "  </clipPath>\n",
       "</defs>\n",
       "<polyline clip-path=\"url(#clip982)\" style=\"stroke:#000000; stroke-linecap:round; stroke-linejoin:round; stroke-width:2; stroke-opacity:0.1; fill:none\" points=\"\n",
       "  445.476,1486.45 445.476,47.2441 \n",
       "  \"/>\n",
       "<polyline clip-path=\"url(#clip982)\" style=\"stroke:#000000; stroke-linecap:round; stroke-linejoin:round; stroke-width:2; stroke-opacity:0.1; fill:none\" points=\"\n",
       "  855.643,1486.45 855.643,47.2441 \n",
       "  \"/>\n",
       "<polyline clip-path=\"url(#clip982)\" style=\"stroke:#000000; stroke-linecap:round; stroke-linejoin:round; stroke-width:2; stroke-opacity:0.1; fill:none\" points=\"\n",
       "  1265.81,1486.45 1265.81,47.2441 \n",
       "  \"/>\n",
       "<polyline clip-path=\"url(#clip982)\" style=\"stroke:#000000; stroke-linecap:round; stroke-linejoin:round; stroke-width:2; stroke-opacity:0.1; fill:none\" points=\"\n",
       "  1675.98,1486.45 1675.98,47.2441 \n",
       "  \"/>\n",
       "<polyline clip-path=\"url(#clip982)\" style=\"stroke:#000000; stroke-linecap:round; stroke-linejoin:round; stroke-width:2; stroke-opacity:0.1; fill:none\" points=\"\n",
       "  2086.15,1486.45 2086.15,47.2441 \n",
       "  \"/>\n",
       "<polyline clip-path=\"url(#clip980)\" style=\"stroke:#000000; stroke-linecap:round; stroke-linejoin:round; stroke-width:4; stroke-opacity:1; fill:none\" points=\"\n",
       "  178.867,1486.45 2352.76,1486.45 \n",
       "  \"/>\n",
       "<polyline clip-path=\"url(#clip980)\" style=\"stroke:#000000; stroke-linecap:round; stroke-linejoin:round; stroke-width:4; stroke-opacity:1; fill:none\" points=\"\n",
       "  445.476,1486.45 445.476,1467.55 \n",
       "  \"/>\n",
       "<polyline clip-path=\"url(#clip980)\" style=\"stroke:#000000; stroke-linecap:round; stroke-linejoin:round; stroke-width:4; stroke-opacity:1; fill:none\" points=\"\n",
       "  855.643,1486.45 855.643,1467.55 \n",
       "  \"/>\n",
       "<polyline clip-path=\"url(#clip980)\" style=\"stroke:#000000; stroke-linecap:round; stroke-linejoin:round; stroke-width:4; stroke-opacity:1; fill:none\" points=\"\n",
       "  1265.81,1486.45 1265.81,1467.55 \n",
       "  \"/>\n",
       "<polyline clip-path=\"url(#clip980)\" style=\"stroke:#000000; stroke-linecap:round; stroke-linejoin:round; stroke-width:4; stroke-opacity:1; fill:none\" points=\"\n",
       "  1675.98,1486.45 1675.98,1467.55 \n",
       "  \"/>\n",
       "<polyline clip-path=\"url(#clip980)\" style=\"stroke:#000000; stroke-linecap:round; stroke-linejoin:round; stroke-width:4; stroke-opacity:1; fill:none\" points=\"\n",
       "  2086.15,1486.45 2086.15,1467.55 \n",
       "  \"/>\n",
       "<path clip-path=\"url(#clip980)\" d=\"M414.376 1532.02 L444.052 1532.02 L444.052 1535.95 L414.376 1535.95 L414.376 1532.02 Z\" fill=\"#000000\" fill-rule=\"evenodd\" fill-opacity=\"1\" /><path clip-path=\"url(#clip980)\" d=\"M466.992 1518.36 L455.186 1536.81 L466.992 1536.81 L466.992 1518.36 M465.765 1514.29 L471.645 1514.29 L471.645 1536.81 L476.575 1536.81 L476.575 1540.7 L471.645 1540.7 L471.645 1548.85 L466.992 1548.85 L466.992 1540.7 L451.39 1540.7 L451.39 1536.19 L465.765 1514.29 Z\" fill=\"#000000\" fill-rule=\"evenodd\" fill-opacity=\"1\" /><path clip-path=\"url(#clip980)\" d=\"M825.586 1532.02 L855.262 1532.02 L855.262 1535.95 L825.586 1535.95 L825.586 1532.02 Z\" fill=\"#000000\" fill-rule=\"evenodd\" fill-opacity=\"1\" /><path clip-path=\"url(#clip980)\" d=\"M869.382 1544.91 L885.701 1544.91 L885.701 1548.85 L863.757 1548.85 L863.757 1544.91 Q866.419 1542.16 871.002 1537.53 Q875.609 1532.88 876.789 1531.53 Q879.035 1529.01 879.914 1527.27 Q880.817 1525.51 880.817 1523.82 Q880.817 1521.07 878.873 1519.33 Q876.951 1517.6 873.849 1517.6 Q871.65 1517.6 869.197 1518.36 Q866.766 1519.13 863.988 1520.68 L863.988 1515.95 Q866.812 1514.82 869.266 1514.24 Q871.72 1513.66 873.757 1513.66 Q879.127 1513.66 882.322 1516.35 Q885.516 1519.03 885.516 1523.52 Q885.516 1525.65 884.706 1527.57 Q883.919 1529.47 881.812 1532.07 Q881.234 1532.74 878.132 1535.95 Q875.03 1539.15 869.382 1544.91 Z\" fill=\"#000000\" fill-rule=\"evenodd\" fill-opacity=\"1\" /><path clip-path=\"url(#clip980)\" d=\"M1265.81 1517.37 Q1262.2 1517.37 1260.37 1520.93 Q1258.57 1524.47 1258.57 1531.6 Q1258.57 1538.71 1260.37 1542.27 Q1262.2 1545.82 1265.81 1545.82 Q1269.45 1545.82 1271.25 1542.27 Q1273.08 1538.71 1273.08 1531.6 Q1273.08 1524.47 1271.25 1520.93 Q1269.45 1517.37 1265.81 1517.37 M1265.81 1513.66 Q1271.62 1513.66 1274.68 1518.27 Q1277.76 1522.85 1277.76 1531.6 Q1277.76 1540.33 1274.68 1544.94 Q1271.62 1549.52 1265.81 1549.52 Q1260 1549.52 1256.92 1544.94 Q1253.87 1540.33 1253.87 1531.6 Q1253.87 1522.85 1256.92 1518.27 Q1260 1513.66 1265.81 1513.66 Z\" fill=\"#000000\" fill-rule=\"evenodd\" fill-opacity=\"1\" /><path clip-path=\"url(#clip980)\" d=\"M1670.63 1544.91 L1686.95 1544.91 L1686.95 1548.85 L1665.01 1548.85 L1665.01 1544.91 Q1667.67 1542.16 1672.25 1537.53 Q1676.86 1532.88 1678.04 1531.53 Q1680.28 1529.01 1681.16 1527.27 Q1682.07 1525.51 1682.07 1523.82 Q1682.07 1521.07 1680.12 1519.33 Q1678.2 1517.6 1675.1 1517.6 Q1672.9 1517.6 1670.45 1518.36 Q1668.02 1519.13 1665.24 1520.68 L1665.24 1515.95 Q1668.06 1514.82 1670.52 1514.24 Q1672.97 1513.66 1675.01 1513.66 Q1680.38 1513.66 1683.57 1516.35 Q1686.77 1519.03 1686.77 1523.52 Q1686.77 1525.65 1685.96 1527.57 Q1685.17 1529.47 1683.06 1532.07 Q1682.48 1532.74 1679.38 1535.95 Q1676.28 1539.15 1670.63 1544.91 Z\" fill=\"#000000\" fill-rule=\"evenodd\" fill-opacity=\"1\" /><path clip-path=\"url(#clip980)\" d=\"M2089.16 1518.36 L2077.35 1536.81 L2089.16 1536.81 L2089.16 1518.36 M2087.93 1514.29 L2093.81 1514.29 L2093.81 1536.81 L2098.74 1536.81 L2098.74 1540.7 L2093.81 1540.7 L2093.81 1548.85 L2089.16 1548.85 L2089.16 1540.7 L2073.55 1540.7 L2073.55 1536.19 L2087.93 1514.29 Z\" fill=\"#000000\" fill-rule=\"evenodd\" fill-opacity=\"1\" /><polyline clip-path=\"url(#clip982)\" style=\"stroke:#000000; stroke-linecap:round; stroke-linejoin:round; stroke-width:2; stroke-opacity:0.1; fill:none\" points=\"\n",
       "  178.867,1486.45 2352.76,1486.45 \n",
       "  \"/>\n",
       "<polyline clip-path=\"url(#clip982)\" style=\"stroke:#000000; stroke-linecap:round; stroke-linejoin:round; stroke-width:2; stroke-opacity:0.1; fill:none\" points=\"\n",
       "  178.867,1126.65 2352.76,1126.65 \n",
       "  \"/>\n",
       "<polyline clip-path=\"url(#clip982)\" style=\"stroke:#000000; stroke-linecap:round; stroke-linejoin:round; stroke-width:2; stroke-opacity:0.1; fill:none\" points=\"\n",
       "  178.867,766.846 2352.76,766.846 \n",
       "  \"/>\n",
       "<polyline clip-path=\"url(#clip982)\" style=\"stroke:#000000; stroke-linecap:round; stroke-linejoin:round; stroke-width:2; stroke-opacity:0.1; fill:none\" points=\"\n",
       "  178.867,407.045 2352.76,407.045 \n",
       "  \"/>\n",
       "<polyline clip-path=\"url(#clip982)\" style=\"stroke:#000000; stroke-linecap:round; stroke-linejoin:round; stroke-width:2; stroke-opacity:0.1; fill:none\" points=\"\n",
       "  178.867,47.2441 2352.76,47.2441 \n",
       "  \"/>\n",
       "<polyline clip-path=\"url(#clip980)\" style=\"stroke:#000000; stroke-linecap:round; stroke-linejoin:round; stroke-width:4; stroke-opacity:1; fill:none\" points=\"\n",
       "  178.867,1486.45 178.867,47.2441 \n",
       "  \"/>\n",
       "<polyline clip-path=\"url(#clip980)\" style=\"stroke:#000000; stroke-linecap:round; stroke-linejoin:round; stroke-width:4; stroke-opacity:1; fill:none\" points=\"\n",
       "  178.867,1486.45 197.764,1486.45 \n",
       "  \"/>\n",
       "<polyline clip-path=\"url(#clip980)\" style=\"stroke:#000000; stroke-linecap:round; stroke-linejoin:round; stroke-width:4; stroke-opacity:1; fill:none\" points=\"\n",
       "  178.867,1126.65 197.764,1126.65 \n",
       "  \"/>\n",
       "<polyline clip-path=\"url(#clip980)\" style=\"stroke:#000000; stroke-linecap:round; stroke-linejoin:round; stroke-width:4; stroke-opacity:1; fill:none\" points=\"\n",
       "  178.867,766.846 197.764,766.846 \n",
       "  \"/>\n",
       "<polyline clip-path=\"url(#clip980)\" style=\"stroke:#000000; stroke-linecap:round; stroke-linejoin:round; stroke-width:4; stroke-opacity:1; fill:none\" points=\"\n",
       "  178.867,407.045 197.764,407.045 \n",
       "  \"/>\n",
       "<polyline clip-path=\"url(#clip980)\" style=\"stroke:#000000; stroke-linecap:round; stroke-linejoin:round; stroke-width:4; stroke-opacity:1; fill:none\" points=\"\n",
       "  178.867,47.2441 197.764,47.2441 \n",
       "  \"/>\n",
       "<path clip-path=\"url(#clip980)\" d=\"M50.9921 1486.9 L80.6679 1486.9 L80.6679 1490.83 L50.9921 1490.83 L50.9921 1486.9 Z\" fill=\"#000000\" fill-rule=\"evenodd\" fill-opacity=\"1\" /><path clip-path=\"url(#clip980)\" d=\"M91.5706 1499.79 L99.2095 1499.79 L99.2095 1473.43 L90.8993 1475.09 L90.8993 1470.83 L99.1632 1469.17 L103.839 1469.17 L103.839 1499.79 L111.478 1499.79 L111.478 1503.73 L91.5706 1503.73 L91.5706 1499.79 Z\" fill=\"#000000\" fill-rule=\"evenodd\" fill-opacity=\"1\" /><path clip-path=\"url(#clip980)\" d=\"M130.922 1472.25 Q127.311 1472.25 125.482 1475.81 Q123.677 1479.35 123.677 1486.48 Q123.677 1493.59 125.482 1497.15 Q127.311 1500.7 130.922 1500.7 Q134.556 1500.7 136.362 1497.15 Q138.191 1493.59 138.191 1486.48 Q138.191 1479.35 136.362 1475.81 Q134.556 1472.25 130.922 1472.25 M130.922 1468.54 Q136.732 1468.54 139.788 1473.15 Q142.867 1477.73 142.867 1486.48 Q142.867 1495.21 139.788 1499.82 Q136.732 1504.4 130.922 1504.4 Q125.112 1504.4 122.033 1499.82 Q118.978 1495.21 118.978 1486.48 Q118.978 1477.73 122.033 1473.15 Q125.112 1468.54 130.922 1468.54 Z\" fill=\"#000000\" fill-rule=\"evenodd\" fill-opacity=\"1\" /><path clip-path=\"url(#clip980)\" d=\"M82.1494 1127.1 L111.825 1127.1 L111.825 1131.03 L82.1494 1131.03 L82.1494 1127.1 Z\" fill=\"#000000\" fill-rule=\"evenodd\" fill-opacity=\"1\" /><path clip-path=\"url(#clip980)\" d=\"M121.964 1109.37 L140.32 1109.37 L140.32 1113.3 L126.246 1113.3 L126.246 1121.77 Q127.265 1121.43 128.283 1121.27 Q129.302 1121.08 130.32 1121.08 Q136.107 1121.08 139.487 1124.25 Q142.867 1127.42 142.867 1132.84 Q142.867 1138.42 139.394 1141.52 Q135.922 1144.6 129.603 1144.6 Q127.427 1144.6 125.158 1144.23 Q122.913 1143.86 120.506 1143.12 L120.506 1138.42 Q122.589 1139.55 124.811 1140.11 Q127.033 1140.66 129.51 1140.66 Q133.515 1140.66 135.853 1138.56 Q138.191 1136.45 138.191 1132.84 Q138.191 1129.23 135.853 1127.12 Q133.515 1125.01 129.51 1125.01 Q127.635 1125.01 125.76 1125.43 Q123.908 1125.85 121.964 1126.73 L121.964 1109.37 Z\" fill=\"#000000\" fill-rule=\"evenodd\" fill-opacity=\"1\" /><path clip-path=\"url(#clip980)\" d=\"M130.922 752.645 Q127.311 752.645 125.482 756.209 Q123.677 759.751 123.677 766.881 Q123.677 773.987 125.482 777.552 Q127.311 781.094 130.922 781.094 Q134.556 781.094 136.362 777.552 Q138.191 773.987 138.191 766.881 Q138.191 759.751 136.362 756.209 Q134.556 752.645 130.922 752.645 M130.922 748.941 Q136.732 748.941 139.788 753.547 Q142.867 758.131 142.867 766.881 Q142.867 775.608 139.788 780.214 Q136.732 784.797 130.922 784.797 Q125.112 784.797 122.033 780.214 Q118.978 775.608 118.978 766.881 Q118.978 758.131 122.033 753.547 Q125.112 748.941 130.922 748.941 Z\" fill=\"#000000\" fill-rule=\"evenodd\" fill-opacity=\"1\" /><path clip-path=\"url(#clip980)\" d=\"M121.964 389.765 L140.32 389.765 L140.32 393.7 L126.246 393.7 L126.246 402.172 Q127.265 401.825 128.283 401.663 Q129.302 401.478 130.32 401.478 Q136.107 401.478 139.487 404.649 Q142.867 407.82 142.867 413.237 Q142.867 418.816 139.394 421.918 Q135.922 424.996 129.603 424.996 Q127.427 424.996 125.158 424.626 Q122.913 424.256 120.506 423.515 L120.506 418.816 Q122.589 419.95 124.811 420.506 Q127.033 421.061 129.51 421.061 Q133.515 421.061 135.853 418.955 Q138.191 416.848 138.191 413.237 Q138.191 409.626 135.853 407.52 Q133.515 405.413 129.51 405.413 Q127.635 405.413 125.76 405.83 Q123.908 406.246 121.964 407.126 L121.964 389.765 Z\" fill=\"#000000\" fill-rule=\"evenodd\" fill-opacity=\"1\" /><path clip-path=\"url(#clip980)\" d=\"M91.5706 60.5889 L99.2095 60.5889 L99.2095 34.2233 L90.8993 35.89 L90.8993 31.6308 L99.1632 29.9641 L103.839 29.9641 L103.839 60.5889 L111.478 60.5889 L111.478 64.5241 L91.5706 64.5241 L91.5706 60.5889 Z\" fill=\"#000000\" fill-rule=\"evenodd\" fill-opacity=\"1\" /><path clip-path=\"url(#clip980)\" d=\"M130.922 33.0428 Q127.311 33.0428 125.482 36.6076 Q123.677 40.1492 123.677 47.2788 Q123.677 54.3853 125.482 57.9501 Q127.311 61.4917 130.922 61.4917 Q134.556 61.4917 136.362 57.9501 Q138.191 54.3853 138.191 47.2788 Q138.191 40.1492 136.362 36.6076 Q134.556 33.0428 130.922 33.0428 M130.922 29.3391 Q136.732 29.3391 139.788 33.9456 Q142.867 38.5289 142.867 47.2788 Q142.867 56.0056 139.788 60.6121 Q136.732 65.1954 130.922 65.1954 Q125.112 65.1954 122.033 60.6121 Q118.978 56.0056 118.978 47.2788 Q118.978 38.5289 122.033 33.9456 Q125.112 29.3391 130.922 29.3391 Z\" fill=\"#000000\" fill-rule=\"evenodd\" fill-opacity=\"1\" /><polyline clip-path=\"url(#clip982)\" style=\"stroke:#009af9; stroke-linecap:round; stroke-linejoin:round; stroke-width:16; stroke-opacity:1; fill:none\" points=\"\n",
       "  240.392,523.583 242.061,516.099 243.73,508.178 245.399,499.78 247.068,490.858 248.737,481.362 250.406,471.232 252.075,460.401 253.744,448.792 261.46,382.066 \n",
       "  269.176,281.71 273.034,209.685 276.892,113.097 280.751,-23.3184 284.609,-230.775 286.538,-381.159 288.467,-584.646 290.396,-875.458 292.325,-1325.26 293.289,-1657.03 \n",
       "  294.254,-2113.7 295.218,-2782.19 296.183,-3854.46 297.148,-5854.76 298.112,-10907.3 299.077,-48490.8 300.041,22961.7 301.006,9823.65 301.97,6455.84 302.935,4913.65 \n",
       "  303.899,4029.15 304.864,3455.54 305.828,3053.4 306.793,2755.82 307.757,2526.71 309.686,2197.03 311.615,1971.2 313.544,1806.8 315.474,1681.75 319.332,1504.05 \n",
       "  323.19,1383.78 327.048,1296.93 330.906,1231.21 338.622,1138.28 346.338,1075.58 361.771,996.028 377.203,947.279 386.477,925.968 395.752,908.533 405.026,893.952 \n",
       "  414.3,881.529 432.849,861.344 451.397,845.456 482.762,824.634 514.127,808.398 582.269,780.789 645.091,758.539 712.442,732.675 790.474,689.132 825.147,656.508 \n",
       "  859.821,600.751 875.023,559.941 890.226,496.97 897.827,450.277 905.428,385.38 909.229,342.338 913.03,288.728 916.83,220.059 920.631,128.879 924.775,-12.131 \n",
       "  928.918,-232.108 930.99,-395.91 933.062,-623.624 934.098,-774.424 935.134,-961.812 936.17,-1200.96 937.206,-1516.76 938.242,-1953.14 939.278,-2595.47 939.796,-3045.55 \n",
       "  940.314,-3634.69 940.832,-4439.1 941.35,-5603.2 941.868,-7437.7 942.386,-10756 942.903,-18580.9 943.421,-59518.7 943.939,54791.9 944.457,19420.8 944.975,12040 \n",
       "  945.493,8844 946.011,7059.82 946.529,5921.2 947.047,5131.44 947.565,4551.5 948.601,3756.8 949.637,3237.82 950.673,2872.27 951.709,2600.85 952.745,2391.35 \n",
       "  953.781,2224.74 955.853,1976.43 957.924,1800.22 959.996,1668.66 962.068,1566.66 966.212,1418.78 970.356,1316.67 978.643,1184.68 986.931,1102.88 995.267,1046.78 \n",
       "  1003.6,1006.02 1011.94,974.956 1020.28,950.434 1036.95,913.984 1053.62,887.945 1127.36,824.454 1197.52,791.734 1270.47,765.21 1331.88,742.826 1406.86,707.728 \n",
       "  1475.54,648.993 1491.39,625.479 1507.25,593.523 1523.11,546.904 1538.97,471.353 1547,411.332 1555.03,322.493 1559.05,259.761 1563.06,176.943 1567.08,62.4474 \n",
       "  1571.09,-106.358 1573.1,-224.892 1575.11,-380.405 1577.12,-593.45 1579.13,-903.27 1580.13,-1117.74 1581.13,-1395.3 1582.14,-1768.59 1583.14,-2297.5 1583.64,-2654.27 \n",
       "  1584.15,-3105.01 1584.65,-3692.48 1585.15,-4490.04 1585.65,-5634.92 1586.15,-7417.22 1586.66,-10574.6 1587.16,-17698.2 1587.66,-48881.7 1588.16,72848.7 1588.66,21648.9 \n",
       "  1589.17,12976.4 1589.67,9393.5 1590.17,7436.29 1590.67,6202.89 1591.17,5354.44 1591.67,4735.05 1592.18,4262.97 1592.68,3891.24 1593.18,3590.94 1594.18,3135.51 \n",
       "  1595.19,2806.49 1597.2,2362.86 1599.2,2077.53 1601.21,1878.57 1603.22,1731.89 1607.72,1511.2 1612.22,1372.19 1616.72,1276.5 1621.22,1206.57 1630.22,1111.04 \n",
       "  1639.23,1048.67 1657.23,971.723 1675.23,925.609 1707.86,875.575 1740.48,845.067 1815.2,802.747 1884.37,775.922 1952.57,751.728 2018.78,724.689 2052.72,706.794 \n",
       "  2086.66,683.103 2105.26,665.88 2123.85,643.621 2142.44,613.155 2161.03,568.007 2174.54,517.901 2188.04,438.178 2194.79,377.193 2201.55,289.734 2204.92,229.944 \n",
       "  2208.3,153.407 2211.67,51.8808 2215.05,-89.355 2218.43,-299.402 2221.8,-644.99 2223.49,-917.609 2225.18,-1320.35 2226.02,-1603.61 2226.87,-1975.71 2227.71,-2486.25 \n",
       "  2228.55,-3230.19 2229.4,-4415.05 2230.24,-6597.97 2231.09,-11958 2231.93,-45973.5 2232.77,28702.8 2233.62,11520.9 2234.46,7425.36 2235.31,5588.82 2236.15,4546.26 \n",
       "  2236.99,3874.29 2237.84,3405.12 2238.68,3058.98 2240.37,2582.38 2242.06,2269.69 2245.43,1884.3 2248.81,1655.84 2252.19,1504.6 2255.56,1397.05 2262.32,1254.13 \n",
       "  2269.07,1163.33 2271.84,1134.96 2274.61,1110.25 2277.38,1088.54 2280.15,1069.3 2282.92,1052.13 2285.69,1036.71 2288.46,1022.77 2291.23,1010.11 \n",
       "  \"/>\n",
       "<path clip-path=\"url(#clip980)\" d=\"\n",
       "M1986.32 198.898 L2280.29 198.898 L2280.29 95.2176 L1986.32 95.2176  Z\n",
       "  \" fill=\"#ffffff\" fill-rule=\"evenodd\" fill-opacity=\"1\"/>\n",
       "<polyline clip-path=\"url(#clip980)\" style=\"stroke:#000000; stroke-linecap:round; stroke-linejoin:round; stroke-width:4; stroke-opacity:1; fill:none\" points=\"\n",
       "  1986.32,198.898 2280.29,198.898 2280.29,95.2176 1986.32,95.2176 1986.32,198.898 \n",
       "  \"/>\n",
       "<polyline clip-path=\"url(#clip980)\" style=\"stroke:#009af9; stroke-linecap:round; stroke-linejoin:round; stroke-width:4; stroke-opacity:1; fill:none\" points=\"\n",
       "  2010.47,147.058 2155.4,147.058 \n",
       "  \"/>\n",
       "<path clip-path=\"url(#clip980)\" d=\"M2193.4 166.745 Q2191.59 171.375 2189.88 172.787 Q2188.17 174.199 2185.29 174.199 L2181.89 174.199 L2181.89 170.634 L2184.39 170.634 Q2186.15 170.634 2187.12 169.8 Q2188.1 168.967 2189.28 165.865 L2190.04 163.921 L2179.55 138.412 L2184.07 138.412 L2192.17 158.689 L2200.27 138.412 L2204.79 138.412 L2193.4 166.745 Z\" fill=\"#000000\" fill-rule=\"evenodd\" fill-opacity=\"1\" /><path clip-path=\"url(#clip980)\" d=\"M2212.08 160.402 L2219.72 160.402 L2219.72 134.037 L2211.41 135.703 L2211.41 131.444 L2219.67 129.778 L2224.35 129.778 L2224.35 160.402 L2231.98 160.402 L2231.98 164.338 L2212.08 164.338 L2212.08 160.402 Z\" fill=\"#000000\" fill-rule=\"evenodd\" fill-opacity=\"1\" /></svg>\n"
      ]
     },
     "execution_count": 5,
     "metadata": {},
     "output_type": "execute_result"
    }
   ],
   "source": [
    "plot(tan, ylims=(-10, 10), x=LinRange(-10, 10, 1000))"
   ]
  },
  {
   "cell_type": "markdown",
   "id": "53bdc8fa",
   "metadata": {
    "cell_style": "split"
   },
   "source": [
    "## Read [Backward error](https://fncbook.github.io/fnc/intro/stability.html)\n",
    "\n",
    "![](https://fncbook.github.io/fnc/_images/backwarderror.svg)\n",
    "\n",
    "* For ill-conditioned functions, the best we can hope for is small backward error."
   ]
  },
  {
   "cell_type": "markdown",
   "id": "317fcb7c",
   "metadata": {
    "cell_style": "center"
   },
   "source": [
    "* Feynman could have answered with any real number and it would have a (relative) backward error less than $10^{-100}$. All the numbers we saw on the previous slide had tiny backward error because\n",
    "\n",
    "$$ \\texttt{tan} \\big( \\operatorname{fl}(\\underbrace{10^{100}}_x) \\big) = \\tan \\big( \\underbrace{10^{100} (1 + \\epsilon)}_{\\tilde x} \\big) $$\n",
    "\n",
    "for some $\\epsilon < 10^{-100}$. (All real numbers can be written this way for some small $\\epsilon$.)"
   ]
  },
  {
   "cell_type": "markdown",
   "id": "9a15e2e3",
   "metadata": {
    "slideshow": {
     "slide_type": "slide"
    }
   },
   "source": [
    "# Go find some functions...\n",
    "\n",
    "* Find a function $f(x)$ that models something you're interested in\n",
    "* Plot its condition number $\\kappa$ as a function of $x$\n",
    "* Plot the relative error (using single or double precision; compare using Julia's `big`)\n",
    "* Is the relative error ever much bigger than $\\kappa \\epsilon_{\\text{machine}}$?\n",
    "* Can you find what caused the instability?\n",
    "* Share on Zulip\n",
    "\n",
    "## Further reading: [FNC Introduction](https://fncbook.github.io/fnc/intro/overview.html)"
   ]
  },
  {
   "cell_type": "markdown",
   "id": "6b384a37",
   "metadata": {
    "slideshow": {
     "slide_type": "slide"
    }
   },
   "source": [
    "# Stability demo: Volume of a polygon"
   ]
  },
  {
   "cell_type": "code",
   "execution_count": 54,
   "id": "f45333ac",
   "metadata": {
    "cell_style": "split",
    "scrolled": true
   },
   "outputs": [
    {
     "data": {
      "image/svg+xml": [
       "<?xml version=\"1.0\" encoding=\"utf-8\"?>\n",
       "<svg xmlns=\"http://www.w3.org/2000/svg\" xmlns:xlink=\"http://www.w3.org/1999/xlink\" width=\"600\" height=\"400\" viewBox=\"0 0 2400 1600\">\n",
       "<defs>\n",
       "  <clipPath id=\"clip900\">\n",
       "    <rect x=\"0\" y=\"0\" width=\"2400\" height=\"1600\"/>\n",
       "  </clipPath>\n",
       "</defs>\n",
       "<path clip-path=\"url(#clip900)\" d=\"\n",
       "M0 1600 L2400 1600 L2400 0 L0 0  Z\n",
       "  \" fill=\"#ffffff\" fill-rule=\"evenodd\" fill-opacity=\"1\"/>\n",
       "<defs>\n",
       "  <clipPath id=\"clip901\">\n",
       "    <rect x=\"480\" y=\"0\" width=\"1681\" height=\"1600\"/>\n",
       "  </clipPath>\n",
       "</defs>\n",
       "<path clip-path=\"url(#clip900)\" d=\"\n",
       "M530.804 1486.45 L1970.01 1486.45 L1970.01 47.2441 L530.804 47.2441  Z\n",
       "  \" fill=\"#ffffff\" fill-rule=\"evenodd\" fill-opacity=\"1\"/>\n",
       "<defs>\n",
       "  <clipPath id=\"clip902\">\n",
       "    <rect x=\"530\" y=\"47\" width=\"1440\" height=\"1440\"/>\n",
       "  </clipPath>\n",
       "</defs>\n",
       "<polyline clip-path=\"url(#clip902)\" style=\"stroke:#000000; stroke-linecap:round; stroke-linejoin:round; stroke-width:2; stroke-opacity:0.1; fill:none\" points=\"\n",
       "  530.804,1486.45 530.804,47.2441 \n",
       "  \"/>\n",
       "<polyline clip-path=\"url(#clip902)\" style=\"stroke:#000000; stroke-linecap:round; stroke-linejoin:round; stroke-width:2; stroke-opacity:0.1; fill:none\" points=\"\n",
       "  770.672,1486.45 770.672,47.2441 \n",
       "  \"/>\n",
       "<polyline clip-path=\"url(#clip902)\" style=\"stroke:#000000; stroke-linecap:round; stroke-linejoin:round; stroke-width:2; stroke-opacity:0.1; fill:none\" points=\"\n",
       "  1010.54,1486.45 1010.54,47.2441 \n",
       "  \"/>\n",
       "<polyline clip-path=\"url(#clip902)\" style=\"stroke:#000000; stroke-linecap:round; stroke-linejoin:round; stroke-width:2; stroke-opacity:0.1; fill:none\" points=\"\n",
       "  1250.41,1486.45 1250.41,47.2441 \n",
       "  \"/>\n",
       "<polyline clip-path=\"url(#clip902)\" style=\"stroke:#000000; stroke-linecap:round; stroke-linejoin:round; stroke-width:2; stroke-opacity:0.1; fill:none\" points=\"\n",
       "  1490.27,1486.45 1490.27,47.2441 \n",
       "  \"/>\n",
       "<polyline clip-path=\"url(#clip902)\" style=\"stroke:#000000; stroke-linecap:round; stroke-linejoin:round; stroke-width:2; stroke-opacity:0.1; fill:none\" points=\"\n",
       "  1730.14,1486.45 1730.14,47.2441 \n",
       "  \"/>\n",
       "<polyline clip-path=\"url(#clip902)\" style=\"stroke:#000000; stroke-linecap:round; stroke-linejoin:round; stroke-width:2; stroke-opacity:0.1; fill:none\" points=\"\n",
       "  1970.01,1486.45 1970.01,47.2441 \n",
       "  \"/>\n",
       "<polyline clip-path=\"url(#clip900)\" style=\"stroke:#000000; stroke-linecap:round; stroke-linejoin:round; stroke-width:4; stroke-opacity:1; fill:none\" points=\"\n",
       "  530.804,1486.45 1970.01,1486.45 \n",
       "  \"/>\n",
       "<polyline clip-path=\"url(#clip900)\" style=\"stroke:#000000; stroke-linecap:round; stroke-linejoin:round; stroke-width:4; stroke-opacity:1; fill:none\" points=\"\n",
       "  530.804,1486.45 530.804,1467.55 \n",
       "  \"/>\n",
       "<polyline clip-path=\"url(#clip900)\" style=\"stroke:#000000; stroke-linecap:round; stroke-linejoin:round; stroke-width:4; stroke-opacity:1; fill:none\" points=\"\n",
       "  770.672,1486.45 770.672,1467.55 \n",
       "  \"/>\n",
       "<polyline clip-path=\"url(#clip900)\" style=\"stroke:#000000; stroke-linecap:round; stroke-linejoin:round; stroke-width:4; stroke-opacity:1; fill:none\" points=\"\n",
       "  1010.54,1486.45 1010.54,1467.55 \n",
       "  \"/>\n",
       "<polyline clip-path=\"url(#clip900)\" style=\"stroke:#000000; stroke-linecap:round; stroke-linejoin:round; stroke-width:4; stroke-opacity:1; fill:none\" points=\"\n",
       "  1250.41,1486.45 1250.41,1467.55 \n",
       "  \"/>\n",
       "<polyline clip-path=\"url(#clip900)\" style=\"stroke:#000000; stroke-linecap:round; stroke-linejoin:round; stroke-width:4; stroke-opacity:1; fill:none\" points=\"\n",
       "  1490.27,1486.45 1490.27,1467.55 \n",
       "  \"/>\n",
       "<polyline clip-path=\"url(#clip900)\" style=\"stroke:#000000; stroke-linecap:round; stroke-linejoin:round; stroke-width:4; stroke-opacity:1; fill:none\" points=\"\n",
       "  1730.14,1486.45 1730.14,1467.55 \n",
       "  \"/>\n",
       "<polyline clip-path=\"url(#clip900)\" style=\"stroke:#000000; stroke-linecap:round; stroke-linejoin:round; stroke-width:4; stroke-opacity:1; fill:none\" points=\"\n",
       "  1970.01,1486.45 1970.01,1467.55 \n",
       "  \"/>\n",
       "<path clip-path=\"url(#clip900)\" d=\"M500.272 1532.02 L529.948 1532.02 L529.948 1535.95 L500.272 1535.95 L500.272 1532.02 Z\" fill=\"#000000\" fill-rule=\"evenodd\" fill-opacity=\"1\" /><path clip-path=\"url(#clip900)\" d=\"M554.207 1530.21 Q557.563 1530.93 559.438 1533.2 Q561.337 1535.47 561.337 1538.8 Q561.337 1543.92 557.818 1546.72 Q554.3 1549.52 547.818 1549.52 Q545.642 1549.52 543.327 1549.08 Q541.036 1548.66 538.582 1547.81 L538.582 1543.29 Q540.527 1544.43 542.841 1545.01 Q545.156 1545.58 547.679 1545.58 Q552.077 1545.58 554.369 1543.85 Q556.684 1542.11 556.684 1538.8 Q556.684 1535.75 554.531 1534.03 Q552.401 1532.3 548.582 1532.3 L544.554 1532.3 L544.554 1528.45 L548.767 1528.45 Q552.216 1528.45 554.045 1527.09 Q555.874 1525.7 555.874 1523.11 Q555.874 1520.45 553.976 1519.03 Q552.101 1517.6 548.582 1517.6 Q546.661 1517.6 544.462 1518.01 Q542.263 1518.43 539.624 1519.31 L539.624 1515.14 Q542.286 1514.4 544.601 1514.03 Q546.939 1513.66 548.999 1513.66 Q554.323 1513.66 557.425 1516.09 Q560.526 1518.5 560.526 1522.62 Q560.526 1525.49 558.883 1527.48 Q557.239 1529.45 554.207 1530.21 Z\" fill=\"#000000\" fill-rule=\"evenodd\" fill-opacity=\"1\" /><path clip-path=\"url(#clip900)\" d=\"M740.614 1532.02 L770.29 1532.02 L770.29 1535.95 L740.614 1535.95 L740.614 1532.02 Z\" fill=\"#000000\" fill-rule=\"evenodd\" fill-opacity=\"1\" /><path clip-path=\"url(#clip900)\" d=\"M784.41 1544.91 L800.729 1544.91 L800.729 1548.85 L778.785 1548.85 L778.785 1544.91 Q781.447 1542.16 786.03 1537.53 Q790.637 1532.88 791.817 1531.53 Q794.063 1529.01 794.942 1527.27 Q795.845 1525.51 795.845 1523.82 Q795.845 1521.07 793.901 1519.33 Q791.979 1517.6 788.878 1517.6 Q786.679 1517.6 784.225 1518.36 Q781.794 1519.13 779.017 1520.68 L779.017 1515.95 Q781.841 1514.82 784.294 1514.24 Q786.748 1513.66 788.785 1513.66 Q794.155 1513.66 797.35 1516.35 Q800.544 1519.03 800.544 1523.52 Q800.544 1525.65 799.734 1527.57 Q798.947 1529.47 796.841 1532.07 Q796.262 1532.74 793.16 1535.95 Q790.058 1539.15 784.41 1544.91 Z\" fill=\"#000000\" fill-rule=\"evenodd\" fill-opacity=\"1\" /><path clip-path=\"url(#clip900)\" d=\"M980.296 1532.02 L1009.97 1532.02 L1009.97 1535.95 L980.296 1535.95 L980.296 1532.02 Z\" fill=\"#000000\" fill-rule=\"evenodd\" fill-opacity=\"1\" /><path clip-path=\"url(#clip900)\" d=\"M1020.87 1544.91 L1028.51 1544.91 L1028.51 1518.55 L1020.2 1520.21 L1020.2 1515.95 L1028.47 1514.29 L1033.14 1514.29 L1033.14 1544.91 L1040.78 1544.91 L1040.78 1548.85 L1020.87 1548.85 L1020.87 1544.91 Z\" fill=\"#000000\" fill-rule=\"evenodd\" fill-opacity=\"1\" /><path clip-path=\"url(#clip900)\" d=\"M1250.41 1517.37 Q1246.8 1517.37 1244.97 1520.93 Q1243.16 1524.47 1243.16 1531.6 Q1243.16 1538.71 1244.97 1542.27 Q1246.8 1545.82 1250.41 1545.82 Q1254.04 1545.82 1255.85 1542.27 Q1257.67 1538.71 1257.67 1531.6 Q1257.67 1524.47 1255.85 1520.93 Q1254.04 1517.37 1250.41 1517.37 M1250.41 1513.66 Q1256.22 1513.66 1259.27 1518.27 Q1262.35 1522.85 1262.35 1531.6 Q1262.35 1540.33 1259.27 1544.94 Q1256.22 1549.52 1250.41 1549.52 Q1244.6 1549.52 1241.52 1544.94 Q1238.46 1540.33 1238.46 1531.6 Q1238.46 1522.85 1241.52 1518.27 Q1244.6 1513.66 1250.41 1513.66 Z\" fill=\"#000000\" fill-rule=\"evenodd\" fill-opacity=\"1\" /><path clip-path=\"url(#clip900)\" d=\"M1480.66 1544.91 L1488.29 1544.91 L1488.29 1518.55 L1479.98 1520.21 L1479.98 1515.95 L1488.25 1514.29 L1492.92 1514.29 L1492.92 1544.91 L1500.56 1544.91 L1500.56 1548.85 L1480.66 1548.85 L1480.66 1544.91 Z\" fill=\"#000000\" fill-rule=\"evenodd\" fill-opacity=\"1\" /><path clip-path=\"url(#clip900)\" d=\"M1724.79 1544.91 L1741.11 1544.91 L1741.11 1548.85 L1719.17 1548.85 L1719.17 1544.91 Q1721.83 1542.16 1726.41 1537.53 Q1731.02 1532.88 1732.2 1531.53 Q1734.45 1529.01 1735.33 1527.27 Q1736.23 1525.51 1736.23 1523.82 Q1736.23 1521.07 1734.28 1519.33 Q1732.36 1517.6 1729.26 1517.6 Q1727.06 1517.6 1724.61 1518.36 Q1722.18 1519.13 1719.4 1520.68 L1719.4 1515.95 Q1722.22 1514.82 1724.68 1514.24 Q1727.13 1513.66 1729.17 1513.66 Q1734.54 1513.66 1737.73 1516.35 Q1740.93 1519.03 1740.93 1523.52 Q1740.93 1525.65 1740.12 1527.57 Q1739.33 1529.47 1737.22 1532.07 Q1736.65 1532.74 1733.54 1535.95 Q1730.44 1539.15 1724.79 1544.91 Z\" fill=\"#000000\" fill-rule=\"evenodd\" fill-opacity=\"1\" /><path clip-path=\"url(#clip900)\" d=\"M1974.26 1530.21 Q1977.61 1530.93 1979.49 1533.2 Q1981.39 1535.47 1981.39 1538.8 Q1981.39 1543.92 1977.87 1546.72 Q1974.35 1549.52 1967.87 1549.52 Q1965.69 1549.52 1963.38 1549.08 Q1961.08 1548.66 1958.63 1547.81 L1958.63 1543.29 Q1960.58 1544.43 1962.89 1545.01 Q1965.2 1545.58 1967.73 1545.58 Q1972.13 1545.58 1974.42 1543.85 Q1976.73 1542.11 1976.73 1538.8 Q1976.73 1535.75 1974.58 1534.03 Q1972.45 1532.3 1968.63 1532.3 L1964.6 1532.3 L1964.6 1528.45 L1968.82 1528.45 Q1972.27 1528.45 1974.09 1527.09 Q1975.92 1525.7 1975.92 1523.11 Q1975.92 1520.45 1974.02 1519.03 Q1972.15 1517.6 1968.63 1517.6 Q1966.71 1517.6 1964.51 1518.01 Q1962.31 1518.43 1959.67 1519.31 L1959.67 1515.14 Q1962.33 1514.4 1964.65 1514.03 Q1966.99 1513.66 1969.05 1513.66 Q1974.37 1513.66 1977.47 1516.09 Q1980.58 1518.5 1980.58 1522.62 Q1980.58 1525.49 1978.93 1527.48 Q1977.29 1529.45 1974.26 1530.21 Z\" fill=\"#000000\" fill-rule=\"evenodd\" fill-opacity=\"1\" /><polyline clip-path=\"url(#clip902)\" style=\"stroke:#000000; stroke-linecap:round; stroke-linejoin:round; stroke-width:2; stroke-opacity:0.1; fill:none\" points=\"\n",
       "  530.804,1486.45 1970.01,1486.45 \n",
       "  \"/>\n",
       "<polyline clip-path=\"url(#clip902)\" style=\"stroke:#000000; stroke-linecap:round; stroke-linejoin:round; stroke-width:2; stroke-opacity:0.1; fill:none\" points=\"\n",
       "  530.804,1246.58 1970.01,1246.58 \n",
       "  \"/>\n",
       "<polyline clip-path=\"url(#clip902)\" style=\"stroke:#000000; stroke-linecap:round; stroke-linejoin:round; stroke-width:2; stroke-opacity:0.1; fill:none\" points=\"\n",
       "  530.804,1006.71 1970.01,1006.71 \n",
       "  \"/>\n",
       "<polyline clip-path=\"url(#clip902)\" style=\"stroke:#000000; stroke-linecap:round; stroke-linejoin:round; stroke-width:2; stroke-opacity:0.1; fill:none\" points=\"\n",
       "  530.804,766.846 1970.01,766.846 \n",
       "  \"/>\n",
       "<polyline clip-path=\"url(#clip902)\" style=\"stroke:#000000; stroke-linecap:round; stroke-linejoin:round; stroke-width:2; stroke-opacity:0.1; fill:none\" points=\"\n",
       "  530.804,526.979 1970.01,526.979 \n",
       "  \"/>\n",
       "<polyline clip-path=\"url(#clip902)\" style=\"stroke:#000000; stroke-linecap:round; stroke-linejoin:round; stroke-width:2; stroke-opacity:0.1; fill:none\" points=\"\n",
       "  530.804,287.111 1970.01,287.111 \n",
       "  \"/>\n",
       "<polyline clip-path=\"url(#clip902)\" style=\"stroke:#000000; stroke-linecap:round; stroke-linejoin:round; stroke-width:2; stroke-opacity:0.1; fill:none\" points=\"\n",
       "  530.804,47.2441 1970.01,47.2441 \n",
       "  \"/>\n",
       "<polyline clip-path=\"url(#clip900)\" style=\"stroke:#000000; stroke-linecap:round; stroke-linejoin:round; stroke-width:4; stroke-opacity:1; fill:none\" points=\"\n",
       "  530.804,1486.45 530.804,47.2441 \n",
       "  \"/>\n",
       "<polyline clip-path=\"url(#clip900)\" style=\"stroke:#000000; stroke-linecap:round; stroke-linejoin:round; stroke-width:4; stroke-opacity:1; fill:none\" points=\"\n",
       "  530.804,1486.45 543.141,1486.45 \n",
       "  \"/>\n",
       "<polyline clip-path=\"url(#clip900)\" style=\"stroke:#000000; stroke-linecap:round; stroke-linejoin:round; stroke-width:4; stroke-opacity:1; fill:none\" points=\"\n",
       "  530.804,1246.58 543.141,1246.58 \n",
       "  \"/>\n",
       "<polyline clip-path=\"url(#clip900)\" style=\"stroke:#000000; stroke-linecap:round; stroke-linejoin:round; stroke-width:4; stroke-opacity:1; fill:none\" points=\"\n",
       "  530.804,1006.71 543.141,1006.71 \n",
       "  \"/>\n",
       "<polyline clip-path=\"url(#clip900)\" style=\"stroke:#000000; stroke-linecap:round; stroke-linejoin:round; stroke-width:4; stroke-opacity:1; fill:none\" points=\"\n",
       "  530.804,766.846 543.141,766.846 \n",
       "  \"/>\n",
       "<polyline clip-path=\"url(#clip900)\" style=\"stroke:#000000; stroke-linecap:round; stroke-linejoin:round; stroke-width:4; stroke-opacity:1; fill:none\" points=\"\n",
       "  530.804,526.979 543.141,526.979 \n",
       "  \"/>\n",
       "<polyline clip-path=\"url(#clip900)\" style=\"stroke:#000000; stroke-linecap:round; stroke-linejoin:round; stroke-width:4; stroke-opacity:1; fill:none\" points=\"\n",
       "  530.804,287.111 543.141,287.111 \n",
       "  \"/>\n",
       "<polyline clip-path=\"url(#clip900)\" style=\"stroke:#000000; stroke-linecap:round; stroke-linejoin:round; stroke-width:4; stroke-opacity:1; fill:none\" points=\"\n",
       "  530.804,47.2441 543.141,47.2441 \n",
       "  \"/>\n",
       "<path clip-path=\"url(#clip900)\" d=\"M433.74 1486.9 L463.416 1486.9 L463.416 1490.83 L433.74 1490.83 L433.74 1486.9 Z\" fill=\"#000000\" fill-rule=\"evenodd\" fill-opacity=\"1\" /><path clip-path=\"url(#clip900)\" d=\"M487.675 1485.09 Q491.031 1485.81 492.906 1488.08 Q494.804 1490.35 494.804 1493.68 Q494.804 1498.8 491.286 1501.6 Q487.767 1504.4 481.286 1504.4 Q479.11 1504.4 476.795 1503.96 Q474.504 1503.54 472.05 1502.69 L472.05 1498.17 Q473.994 1499.31 476.309 1499.89 Q478.624 1500.46 481.147 1500.46 Q485.545 1500.46 487.837 1498.73 Q490.152 1496.99 490.152 1493.68 Q490.152 1490.63 487.999 1488.91 Q485.869 1487.18 482.05 1487.18 L478.022 1487.18 L478.022 1483.33 L482.235 1483.33 Q485.684 1483.33 487.513 1481.97 Q489.341 1480.58 489.341 1477.99 Q489.341 1475.33 487.443 1473.91 Q485.568 1472.48 482.05 1472.48 Q480.129 1472.48 477.929 1472.89 Q475.73 1473.31 473.092 1474.19 L473.092 1470.02 Q475.754 1469.28 478.068 1468.91 Q480.406 1468.54 482.466 1468.54 Q487.791 1468.54 490.892 1470.97 Q493.994 1473.38 493.994 1477.5 Q493.994 1480.37 492.351 1482.36 Q490.707 1484.33 487.675 1485.09 Z\" fill=\"#000000\" fill-rule=\"evenodd\" fill-opacity=\"1\" /><path clip-path=\"url(#clip900)\" d=\"M434.689 1247.03 L464.365 1247.03 L464.365 1250.97 L434.689 1250.97 L434.689 1247.03 Z\" fill=\"#000000\" fill-rule=\"evenodd\" fill-opacity=\"1\" /><path clip-path=\"url(#clip900)\" d=\"M478.485 1259.93 L494.804 1259.93 L494.804 1263.86 L472.86 1263.86 L472.86 1259.93 Q475.522 1257.17 480.105 1252.54 Q484.712 1247.89 485.892 1246.55 Q488.138 1244.02 489.017 1242.29 Q489.92 1240.53 489.92 1238.84 Q489.92 1236.08 487.976 1234.35 Q486.054 1232.61 482.953 1232.61 Q480.754 1232.61 478.3 1233.37 Q475.869 1234.14 473.092 1235.69 L473.092 1230.97 Q475.916 1229.83 478.369 1229.25 Q480.823 1228.68 482.86 1228.68 Q488.23 1228.68 491.425 1231.36 Q494.619 1234.05 494.619 1238.54 Q494.619 1240.67 493.809 1242.59 Q493.022 1244.49 490.916 1247.08 Q490.337 1247.75 487.235 1250.97 Q484.133 1254.16 478.485 1259.93 Z\" fill=\"#000000\" fill-rule=\"evenodd\" fill-opacity=\"1\" /><path clip-path=\"url(#clip900)\" d=\"M434.319 1007.16 L463.994 1007.16 L463.994 1011.1 L434.319 1011.1 L434.319 1007.16 Z\" fill=\"#000000\" fill-rule=\"evenodd\" fill-opacity=\"1\" /><path clip-path=\"url(#clip900)\" d=\"M474.897 1020.06 L482.536 1020.06 L482.536 993.693 L474.226 995.359 L474.226 991.1 L482.49 989.433 L487.166 989.433 L487.166 1020.06 L494.804 1020.06 L494.804 1023.99 L474.897 1023.99 L474.897 1020.06 Z\" fill=\"#000000\" fill-rule=\"evenodd\" fill-opacity=\"1\" /><path clip-path=\"url(#clip900)\" d=\"M482.86 752.645 Q479.249 752.645 477.42 756.209 Q475.615 759.751 475.615 766.881 Q475.615 773.987 477.42 777.552 Q479.249 781.094 482.86 781.094 Q486.494 781.094 488.3 777.552 Q490.128 773.987 490.128 766.881 Q490.128 759.751 488.3 756.209 Q486.494 752.645 482.86 752.645 M482.86 748.941 Q488.67 748.941 491.726 753.547 Q494.804 758.131 494.804 766.881 Q494.804 775.608 491.726 780.214 Q488.67 784.797 482.86 784.797 Q477.05 784.797 473.971 780.214 Q470.916 775.608 470.916 766.881 Q470.916 758.131 473.971 753.547 Q477.05 748.941 482.86 748.941 Z\" fill=\"#000000\" fill-rule=\"evenodd\" fill-opacity=\"1\" /><path clip-path=\"url(#clip900)\" d=\"M474.897 540.324 L482.536 540.324 L482.536 513.958 L474.226 515.625 L474.226 511.365 L482.49 509.699 L487.166 509.699 L487.166 540.324 L494.804 540.324 L494.804 544.259 L474.897 544.259 L474.897 540.324 Z\" fill=\"#000000\" fill-rule=\"evenodd\" fill-opacity=\"1\" /><path clip-path=\"url(#clip900)\" d=\"M478.485 300.456 L494.804 300.456 L494.804 304.391 L472.86 304.391 L472.86 300.456 Q475.522 297.702 480.105 293.072 Q484.712 288.419 485.892 287.077 Q488.138 284.554 489.017 282.817 Q489.92 281.058 489.92 279.368 Q489.92 276.614 487.976 274.878 Q486.054 273.142 482.953 273.142 Q480.754 273.142 478.3 273.905 Q475.869 274.669 473.092 276.22 L473.092 271.498 Q475.916 270.364 478.369 269.785 Q480.823 269.206 482.86 269.206 Q488.23 269.206 491.425 271.892 Q494.619 274.577 494.619 279.067 Q494.619 281.197 493.809 283.118 Q493.022 285.016 490.916 287.609 Q490.337 288.28 487.235 291.498 Q484.133 294.692 478.485 300.456 Z\" fill=\"#000000\" fill-rule=\"evenodd\" fill-opacity=\"1\" /><path clip-path=\"url(#clip900)\" d=\"M487.675 45.8899 Q491.031 46.6075 492.906 48.876 Q494.804 51.1445 494.804 54.4779 Q494.804 59.5936 491.286 62.3945 Q487.767 65.1954 481.286 65.1954 Q479.11 65.1954 476.795 64.7556 Q474.504 64.3389 472.05 63.4824 L472.05 58.9686 Q473.994 60.1028 476.309 60.6815 Q478.624 61.2602 481.147 61.2602 Q485.545 61.2602 487.837 59.5241 Q490.152 57.788 490.152 54.4779 Q490.152 51.4223 487.999 49.7094 Q485.869 47.9733 482.05 47.9733 L478.022 47.9733 L478.022 44.1307 L482.235 44.1307 Q485.684 44.1307 487.513 42.765 Q489.341 41.3761 489.341 38.7835 Q489.341 36.1215 487.443 34.7094 Q485.568 33.2743 482.05 33.2743 Q480.129 33.2743 477.929 33.6909 Q475.73 34.1076 473.092 34.9872 L473.092 30.8206 Q475.754 30.0798 478.068 29.7095 Q480.406 29.3391 482.466 29.3391 Q487.791 29.3391 490.892 31.7696 Q493.994 34.177 493.994 38.2974 Q493.994 41.1677 492.351 43.1585 Q490.707 45.1261 487.675 45.8899 Z\" fill=\"#000000\" fill-rule=\"evenodd\" fill-opacity=\"1\" /><path clip-path=\"url(#clip902)\" d=\"\n",
       "M1458.14 646.912 L1545.93 319.248 L1098.34 23.7188 L1130.47 559.115 L862.775 575.183 L954.878 1214.44 L1594.14 1122.34 L1458.14 646.912 L1458.14 646.912  Z\n",
       "  \" fill=\"#009af9\" fill-rule=\"evenodd\" fill-opacity=\"1\"/>\n",
       "<polyline clip-path=\"url(#clip902)\" style=\"stroke:#000000; stroke-linecap:round; stroke-linejoin:round; stroke-width:16; stroke-opacity:1; fill:none\" points=\"\n",
       "  1458.14,646.912 1545.93,319.248 1098.34,23.7188 1130.47,559.115 862.775,575.183 954.878,1214.44 1594.14,1122.34 1458.14,646.912 \n",
       "  \"/>\n",
       "<path clip-path=\"url(#clip900)\" d=\"\n",
       "M1599.12 198.898 L1896.52 198.898 L1896.52 95.2176 L1599.12 95.2176  Z\n",
       "  \" fill=\"#ffffff\" fill-rule=\"evenodd\" fill-opacity=\"1\"/>\n",
       "<polyline clip-path=\"url(#clip900)\" style=\"stroke:#000000; stroke-linecap:round; stroke-linejoin:round; stroke-width:4; stroke-opacity:1; fill:none\" points=\"\n",
       "  1599.12,198.898 1896.52,198.898 1896.52,95.2176 1599.12,95.2176 1599.12,198.898 \n",
       "  \"/>\n",
       "<path clip-path=\"url(#clip900)\" d=\"\n",
       "M1623.62 167.794 L1770.6 167.794 L1770.6 126.322 L1623.62 126.322 L1623.62 167.794  Z\n",
       "  \" fill=\"#009af9\" fill-rule=\"evenodd\" fill-opacity=\"1\"/>\n",
       "<polyline clip-path=\"url(#clip900)\" style=\"stroke:#000000; stroke-linecap:round; stroke-linejoin:round; stroke-width:16; stroke-opacity:1; fill:none\" points=\"\n",
       "  1623.62,167.794 1770.6,167.794 1770.6,126.322 1623.62,126.322 1623.62,167.794 \n",
       "  \"/>\n",
       "<path clip-path=\"url(#clip900)\" d=\"M1808.94 166.745 Q1807.13 171.375 1805.42 172.787 Q1803.71 174.199 1800.84 174.199 L1797.43 174.199 L1797.43 170.634 L1799.93 170.634 Q1801.69 170.634 1802.66 169.8 Q1803.64 168.967 1804.82 165.865 L1805.58 163.921 L1795.09 138.412 L1799.61 138.412 L1807.71 158.689 L1815.81 138.412 L1820.33 138.412 L1808.94 166.745 Z\" fill=\"#000000\" fill-rule=\"evenodd\" fill-opacity=\"1\" /><path clip-path=\"url(#clip900)\" d=\"M1827.62 160.402 L1835.26 160.402 L1835.26 134.037 L1826.95 135.703 L1826.95 131.444 L1835.21 129.778 L1839.89 129.778 L1839.89 160.402 L1847.52 160.402 L1847.52 164.338 L1827.62 164.338 L1827.62 160.402 Z\" fill=\"#000000\" fill-rule=\"evenodd\" fill-opacity=\"1\" /></svg>\n"
      ]
     },
     "execution_count": 54,
     "metadata": {},
     "output_type": "execute_result"
    }
   ],
   "source": [
    "X = [1 0; 2 1; 1 3; 0 1; -1 1.5; -2 -1; .5 -2; 1 0]\n",
    "R(θ) = [cos(θ) -sin(θ); sin(θ) cos(θ)]\n",
    "Y = X * R(deg2rad(30))' .+ [0 0]\n",
    "plot(Y[:,1], Y[:,2], seriestype=:shape, aspect_ratio=:equal, xlims=(-3, 3), ylims=(-3, 3))"
   ]
  },
  {
   "cell_type": "code",
   "execution_count": 50,
   "id": "1ea4925d",
   "metadata": {
    "cell_style": "split"
   },
   "outputs": [
    {
     "name": "stdout",
     "output_type": "stream",
     "text": [
      "ref = pvolume(Y) = 9.161744087934494\n"
     ]
    },
    {
     "data": {
      "text/plain": [
       "7-element Vector{Float64}:\n",
       "  1.5320889005198076e8\n",
       "  2.694407313159232e8\n",
       " -2.9409209413546383e8\n",
       "  5.8115921469383694e7\n",
       " -3.645336936847104e8\n",
       " -1.1006899084015849e8\n",
       "  2.8792925414653325e8"
      ]
     },
     "execution_count": 50,
     "metadata": {},
     "output_type": "execute_result"
    }
   ],
   "source": [
    "using LinearAlgebra\n",
    "function pvolume(X)\n",
    "    n = size(X, 1)\n",
    "    vol = sum(det(X[i:i+1, :]) / 2 for i in 1:n-1)\n",
    "end\n",
    "\n",
    "@show ref = pvolume(Y)\n",
    "[det(Y[i:i+1, :]) for i in 1:size(Y, 1)-1]"
   ]
  },
  {
   "cell_type": "markdown",
   "id": "7f7fce01",
   "metadata": {},
   "source": [
    "What happens if this polygon is translated, perhaps far away?"
   ]
  },
  {
   "cell_type": "markdown",
   "id": "cc20233c",
   "metadata": {
    "slideshow": {
     "slide_type": "slide"
    }
   },
   "source": [
    "# Rootfinding\n",
    "\n",
    "> Given $f(x)$, find $x$ such that $f(x) = 0$.\n",
    "\n",
    "We'll work with scalars ($f$ and $x$ are just numbers) for now, and revisit later when they vector-valued."
   ]
  },
  {
   "cell_type": "markdown",
   "id": "eb9574ab",
   "metadata": {
    "cell_style": "split"
   },
   "source": [
    "## Change inputs to outputs\n",
    "\n",
    "* $f(x; b) = x^2 - b$\n",
    "  * $x(b) = \\sqrt{b}$\n",
    "* $f(x; b) = \\tan x - b$\n",
    "  * $x(b) = \\arctan b$\n",
    "* $f(x) = \\cos x + x - b$\n",
    "  * $x(b) = ?$"
   ]
  },
  {
   "cell_type": "markdown",
   "id": "b7c09eb2",
   "metadata": {
    "cell_style": "split",
    "slideshow": {
     "slide_type": ""
    }
   },
   "source": [
    "We aren't given $f(x)$, but rather an algorithm `f(x)` that approximates it.\n",
    "* Sometimes we get extra information, like `fp(x)` that approximates $f'(x)$\n",
    "* If we have source code for `f(x)`, maybe it can be transformed \"automatically\""
   ]
  },
  {
   "cell_type": "markdown",
   "id": "217175a9",
   "metadata": {
    "slideshow": {
     "slide_type": "slide"
    }
   },
   "source": [
    "# Example: Queueing\n",
    "\n",
    "In a [simple queueing model](https://en.wikipedia.org/wiki/Queueing_theory#Simple_two-equation_queue), there is an arrival rate and a departure (serving) rate.  While waiting in the queue, there is a probability of \"dropping out\". The length of the queue in this model is\n",
    "\n",
    "$$ \\text{length} = \\frac{\\text{arrival} - \\text{drop}}{\\text{departure}} $$\n",
    "\n",
    "One model for the waiting time (where these rates are taken from exponential distributions) is"
   ]
  },
  {
   "cell_type": "code",
   "execution_count": 55,
   "id": "672b000b",
   "metadata": {},
   "outputs": [
    {
     "data": {
      "image/svg+xml": [
       "<?xml version=\"1.0\" encoding=\"utf-8\"?>\n",
       "<svg xmlns=\"http://www.w3.org/2000/svg\" xmlns:xlink=\"http://www.w3.org/1999/xlink\" width=\"600\" height=\"400\" viewBox=\"0 0 2400 1600\">\n",
       "<defs>\n",
       "  <clipPath id=\"clip940\">\n",
       "    <rect x=\"0\" y=\"0\" width=\"2400\" height=\"1600\"/>\n",
       "  </clipPath>\n",
       "</defs>\n",
       "<path clip-path=\"url(#clip940)\" d=\"\n",
       "M0 1600 L2400 1600 L2400 0 L0 0  Z\n",
       "  \" fill=\"#ffffff\" fill-rule=\"evenodd\" fill-opacity=\"1\"/>\n",
       "<defs>\n",
       "  <clipPath id=\"clip941\">\n",
       "    <rect x=\"480\" y=\"0\" width=\"1681\" height=\"1600\"/>\n",
       "  </clipPath>\n",
       "</defs>\n",
       "<path clip-path=\"url(#clip940)\" d=\"\n",
       "M203.964 1423.18 L2352.76 1423.18 L2352.76 47.2441 L203.964 47.2441  Z\n",
       "  \" fill=\"#ffffff\" fill-rule=\"evenodd\" fill-opacity=\"1\"/>\n",
       "<defs>\n",
       "  <clipPath id=\"clip942\">\n",
       "    <rect x=\"203\" y=\"47\" width=\"2150\" height=\"1377\"/>\n",
       "  </clipPath>\n",
       "</defs>\n",
       "<polyline clip-path=\"url(#clip942)\" style=\"stroke:#000000; stroke-linecap:round; stroke-linejoin:round; stroke-width:2; stroke-opacity:0.1; fill:none\" points=\"\n",
       "  442.718,1423.18 442.718,47.2441 \n",
       "  \"/>\n",
       "<polyline clip-path=\"url(#clip942)\" style=\"stroke:#000000; stroke-linecap:round; stroke-linejoin:round; stroke-width:2; stroke-opacity:0.1; fill:none\" points=\"\n",
       "  920.228,1423.18 920.228,47.2441 \n",
       "  \"/>\n",
       "<polyline clip-path=\"url(#clip942)\" style=\"stroke:#000000; stroke-linecap:round; stroke-linejoin:round; stroke-width:2; stroke-opacity:0.1; fill:none\" points=\"\n",
       "  1397.74,1423.18 1397.74,47.2441 \n",
       "  \"/>\n",
       "<polyline clip-path=\"url(#clip942)\" style=\"stroke:#000000; stroke-linecap:round; stroke-linejoin:round; stroke-width:2; stroke-opacity:0.1; fill:none\" points=\"\n",
       "  1875.25,1423.18 1875.25,47.2441 \n",
       "  \"/>\n",
       "<polyline clip-path=\"url(#clip942)\" style=\"stroke:#000000; stroke-linecap:round; stroke-linejoin:round; stroke-width:2; stroke-opacity:0.1; fill:none\" points=\"\n",
       "  2352.76,1423.18 2352.76,47.2441 \n",
       "  \"/>\n",
       "<polyline clip-path=\"url(#clip940)\" style=\"stroke:#000000; stroke-linecap:round; stroke-linejoin:round; stroke-width:4; stroke-opacity:1; fill:none\" points=\"\n",
       "  203.964,1423.18 2352.76,1423.18 \n",
       "  \"/>\n",
       "<polyline clip-path=\"url(#clip940)\" style=\"stroke:#000000; stroke-linecap:round; stroke-linejoin:round; stroke-width:4; stroke-opacity:1; fill:none\" points=\"\n",
       "  442.718,1423.18 442.718,1404.28 \n",
       "  \"/>\n",
       "<polyline clip-path=\"url(#clip940)\" style=\"stroke:#000000; stroke-linecap:round; stroke-linejoin:round; stroke-width:4; stroke-opacity:1; fill:none\" points=\"\n",
       "  920.228,1423.18 920.228,1404.28 \n",
       "  \"/>\n",
       "<polyline clip-path=\"url(#clip940)\" style=\"stroke:#000000; stroke-linecap:round; stroke-linejoin:round; stroke-width:4; stroke-opacity:1; fill:none\" points=\"\n",
       "  1397.74,1423.18 1397.74,1404.28 \n",
       "  \"/>\n",
       "<polyline clip-path=\"url(#clip940)\" style=\"stroke:#000000; stroke-linecap:round; stroke-linejoin:round; stroke-width:4; stroke-opacity:1; fill:none\" points=\"\n",
       "  1875.25,1423.18 1875.25,1404.28 \n",
       "  \"/>\n",
       "<polyline clip-path=\"url(#clip940)\" style=\"stroke:#000000; stroke-linecap:round; stroke-linejoin:round; stroke-width:4; stroke-opacity:1; fill:none\" points=\"\n",
       "  2352.76,1423.18 2352.76,1404.28 \n",
       "  \"/>\n",
       "<path clip-path=\"url(#clip940)\" d=\"M420.901 1454.1 Q417.29 1454.1 415.461 1457.66 Q413.656 1461.2 413.656 1468.33 Q413.656 1475.44 415.461 1479.01 Q417.29 1482.55 420.901 1482.55 Q424.536 1482.55 426.341 1479.01 Q428.17 1475.44 428.17 1468.33 Q428.17 1461.2 426.341 1457.66 Q424.536 1454.1 420.901 1454.1 M420.901 1450.39 Q426.711 1450.39 429.767 1455 Q432.846 1459.58 432.846 1468.33 Q432.846 1477.06 429.767 1481.67 Q426.711 1486.25 420.901 1486.25 Q415.091 1486.25 412.012 1481.67 Q408.957 1477.06 408.957 1468.33 Q408.957 1459.58 412.012 1455 Q415.091 1450.39 420.901 1450.39 Z\" fill=\"#000000\" fill-rule=\"evenodd\" fill-opacity=\"1\" /><path clip-path=\"url(#clip940)\" d=\"M441.063 1479.7 L445.947 1479.7 L445.947 1485.58 L441.063 1485.58 L441.063 1479.7 Z\" fill=\"#000000\" fill-rule=\"evenodd\" fill-opacity=\"1\" /><path clip-path=\"url(#clip940)\" d=\"M460.16 1481.64 L476.48 1481.64 L476.48 1485.58 L454.535 1485.58 L454.535 1481.64 Q457.197 1478.89 461.781 1474.26 Q466.387 1469.61 467.568 1468.27 Q469.813 1465.74 470.693 1464.01 Q471.595 1462.25 471.595 1460.56 Q471.595 1457.8 469.651 1456.07 Q467.73 1454.33 464.628 1454.33 Q462.429 1454.33 459.975 1455.09 Q457.545 1455.86 454.767 1457.41 L454.767 1452.69 Q457.591 1451.55 460.045 1450.97 Q462.498 1450.39 464.535 1450.39 Q469.906 1450.39 473.1 1453.08 Q476.294 1455.77 476.294 1460.26 Q476.294 1462.39 475.484 1464.31 Q474.697 1466.2 472.591 1468.8 Q472.012 1469.47 468.91 1472.69 Q465.808 1475.88 460.16 1481.64 Z\" fill=\"#000000\" fill-rule=\"evenodd\" fill-opacity=\"1\" /><path clip-path=\"url(#clip940)\" d=\"M897.369 1454.1 Q893.758 1454.1 891.929 1457.66 Q890.124 1461.2 890.124 1468.33 Q890.124 1475.44 891.929 1479.01 Q893.758 1482.55 897.369 1482.55 Q901.003 1482.55 902.809 1479.01 Q904.637 1475.44 904.637 1468.33 Q904.637 1461.2 902.809 1457.66 Q901.003 1454.1 897.369 1454.1 M897.369 1450.39 Q903.179 1450.39 906.235 1455 Q909.313 1459.58 909.313 1468.33 Q909.313 1477.06 906.235 1481.67 Q903.179 1486.25 897.369 1486.25 Q891.559 1486.25 888.48 1481.67 Q885.425 1477.06 885.425 1468.33 Q885.425 1459.58 888.48 1455 Q891.559 1450.39 897.369 1450.39 Z\" fill=\"#000000\" fill-rule=\"evenodd\" fill-opacity=\"1\" /><path clip-path=\"url(#clip940)\" d=\"M917.531 1479.7 L922.415 1479.7 L922.415 1485.58 L917.531 1485.58 L917.531 1479.7 Z\" fill=\"#000000\" fill-rule=\"evenodd\" fill-opacity=\"1\" /><path clip-path=\"url(#clip940)\" d=\"M945.447 1455.09 L933.642 1473.54 L945.447 1473.54 L945.447 1455.09 M944.221 1451.02 L950.1 1451.02 L950.1 1473.54 L955.031 1473.54 L955.031 1477.43 L950.1 1477.43 L950.1 1485.58 L945.447 1485.58 L945.447 1477.43 L929.846 1477.43 L929.846 1472.92 L944.221 1451.02 Z\" fill=\"#000000\" fill-rule=\"evenodd\" fill-opacity=\"1\" /><path clip-path=\"url(#clip940)\" d=\"M1375.04 1454.1 Q1371.43 1454.1 1369.6 1457.66 Q1367.8 1461.2 1367.8 1468.33 Q1367.8 1475.44 1369.6 1479.01 Q1371.43 1482.55 1375.04 1482.55 Q1378.67 1482.55 1380.48 1479.01 Q1382.31 1475.44 1382.31 1468.33 Q1382.31 1461.2 1380.48 1457.66 Q1378.67 1454.1 1375.04 1454.1 M1375.04 1450.39 Q1380.85 1450.39 1383.91 1455 Q1386.98 1459.58 1386.98 1468.33 Q1386.98 1477.06 1383.91 1481.67 Q1380.85 1486.25 1375.04 1486.25 Q1369.23 1486.25 1366.15 1481.67 Q1363.1 1477.06 1363.1 1468.33 Q1363.1 1459.58 1366.15 1455 Q1369.23 1450.39 1375.04 1450.39 Z\" fill=\"#000000\" fill-rule=\"evenodd\" fill-opacity=\"1\" /><path clip-path=\"url(#clip940)\" d=\"M1395.2 1479.7 L1400.09 1479.7 L1400.09 1485.58 L1395.2 1485.58 L1395.2 1479.7 Z\" fill=\"#000000\" fill-rule=\"evenodd\" fill-opacity=\"1\" /><path clip-path=\"url(#clip940)\" d=\"M1420.85 1466.44 Q1417.7 1466.44 1415.85 1468.59 Q1414.02 1470.74 1414.02 1474.49 Q1414.02 1478.22 1415.85 1480.39 Q1417.7 1482.55 1420.85 1482.55 Q1424 1482.55 1425.83 1480.39 Q1427.68 1478.22 1427.68 1474.49 Q1427.68 1470.74 1425.83 1468.59 Q1424 1466.44 1420.85 1466.44 M1430.13 1451.78 L1430.13 1456.04 Q1428.37 1455.21 1426.57 1454.77 Q1424.79 1454.33 1423.03 1454.33 Q1418.4 1454.33 1415.94 1457.45 Q1413.51 1460.58 1413.17 1466.9 Q1414.53 1464.89 1416.59 1463.82 Q1418.65 1462.73 1421.13 1462.73 Q1426.34 1462.73 1429.35 1465.9 Q1432.38 1469.05 1432.38 1474.49 Q1432.38 1479.82 1429.23 1483.03 Q1426.08 1486.25 1420.85 1486.25 Q1414.86 1486.25 1411.68 1481.67 Q1408.51 1477.06 1408.51 1468.33 Q1408.51 1460.14 1412.4 1455.28 Q1416.29 1450.39 1422.84 1450.39 Q1424.6 1450.39 1426.38 1450.74 Q1428.19 1451.09 1430.13 1451.78 Z\" fill=\"#000000\" fill-rule=\"evenodd\" fill-opacity=\"1\" /><path clip-path=\"url(#clip940)\" d=\"M1852.68 1454.1 Q1849.07 1454.1 1847.24 1457.66 Q1845.43 1461.2 1845.43 1468.33 Q1845.43 1475.44 1847.24 1479.01 Q1849.07 1482.55 1852.68 1482.55 Q1856.31 1482.55 1858.12 1479.01 Q1859.95 1475.44 1859.95 1468.33 Q1859.95 1461.2 1858.12 1457.66 Q1856.31 1454.1 1852.68 1454.1 M1852.68 1450.39 Q1858.49 1450.39 1861.54 1455 Q1864.62 1459.58 1864.62 1468.33 Q1864.62 1477.06 1861.54 1481.67 Q1858.49 1486.25 1852.68 1486.25 Q1846.87 1486.25 1843.79 1481.67 Q1840.73 1477.06 1840.73 1468.33 Q1840.73 1459.58 1843.79 1455 Q1846.87 1450.39 1852.68 1450.39 Z\" fill=\"#000000\" fill-rule=\"evenodd\" fill-opacity=\"1\" /><path clip-path=\"url(#clip940)\" d=\"M1872.84 1479.7 L1877.72 1479.7 L1877.72 1485.58 L1872.84 1485.58 L1872.84 1479.7 Z\" fill=\"#000000\" fill-rule=\"evenodd\" fill-opacity=\"1\" /><path clip-path=\"url(#clip940)\" d=\"M1897.91 1469.17 Q1894.58 1469.17 1892.65 1470.95 Q1890.76 1472.73 1890.76 1475.86 Q1890.76 1478.98 1892.65 1480.77 Q1894.58 1482.55 1897.91 1482.55 Q1901.24 1482.55 1903.16 1480.77 Q1905.08 1478.96 1905.08 1475.86 Q1905.08 1472.73 1903.16 1470.95 Q1901.26 1469.17 1897.91 1469.17 M1893.23 1467.18 Q1890.22 1466.44 1888.53 1464.38 Q1886.87 1462.32 1886.87 1459.35 Q1886.87 1455.21 1889.81 1452.8 Q1892.77 1450.39 1897.91 1450.39 Q1903.07 1450.39 1906.01 1452.8 Q1908.95 1455.21 1908.95 1459.35 Q1908.95 1462.32 1907.26 1464.38 Q1905.59 1466.44 1902.61 1467.18 Q1905.99 1467.96 1907.86 1470.26 Q1909.76 1472.55 1909.76 1475.86 Q1909.76 1480.88 1906.68 1483.57 Q1903.63 1486.25 1897.91 1486.25 Q1892.19 1486.25 1889.11 1483.57 Q1886.06 1480.88 1886.06 1475.86 Q1886.06 1472.55 1887.95 1470.26 Q1889.85 1467.96 1893.23 1467.18 M1891.52 1459.79 Q1891.52 1462.48 1893.19 1463.98 Q1894.88 1465.49 1897.91 1465.49 Q1900.92 1465.49 1902.61 1463.98 Q1904.32 1462.48 1904.32 1459.79 Q1904.32 1457.11 1902.61 1455.6 Q1900.92 1454.1 1897.91 1454.1 Q1894.88 1454.1 1893.19 1455.6 Q1891.52 1457.11 1891.52 1459.79 Z\" fill=\"#000000\" fill-rule=\"evenodd\" fill-opacity=\"1\" /><path clip-path=\"url(#clip940)\" d=\"M2319.91 1481.64 L2327.55 1481.64 L2327.55 1455.28 L2319.24 1456.95 L2319.24 1452.69 L2327.5 1451.02 L2332.18 1451.02 L2332.18 1481.64 L2339.82 1481.64 L2339.82 1485.58 L2319.91 1485.58 L2319.91 1481.64 Z\" fill=\"#000000\" fill-rule=\"evenodd\" fill-opacity=\"1\" /><path clip-path=\"url(#clip940)\" d=\"M2349.26 1479.7 L2354.14 1479.7 L2354.14 1485.58 L2349.26 1485.58 L2349.26 1479.7 Z\" fill=\"#000000\" fill-rule=\"evenodd\" fill-opacity=\"1\" /><path clip-path=\"url(#clip940)\" d=\"M2374.33 1454.1 Q2370.72 1454.1 2368.89 1457.66 Q2367.08 1461.2 2367.08 1468.33 Q2367.08 1475.44 2368.89 1479.01 Q2370.72 1482.55 2374.33 1482.55 Q2377.96 1482.55 2379.77 1479.01 Q2381.6 1475.44 2381.6 1468.33 Q2381.6 1461.2 2379.77 1457.66 Q2377.96 1454.1 2374.33 1454.1 M2374.33 1450.39 Q2380.14 1450.39 2383.2 1455 Q2386.27 1459.58 2386.27 1468.33 Q2386.27 1477.06 2383.2 1481.67 Q2380.14 1486.25 2374.33 1486.25 Q2368.52 1486.25 2365.44 1481.67 Q2362.39 1477.06 2362.39 1468.33 Q2362.39 1459.58 2365.44 1455 Q2368.52 1450.39 2374.33 1450.39 Z\" fill=\"#000000\" fill-rule=\"evenodd\" fill-opacity=\"1\" /><path clip-path=\"url(#clip940)\" d=\"M1146.92 1537.81 L1146.92 1518.52 L1152.78 1518.52 L1152.78 1568.04 L1146.92 1568.04 L1146.92 1562.7 Q1145.08 1565.88 1142.25 1567.44 Q1139.44 1568.97 1135.5 1568.97 Q1129.04 1568.97 1124.96 1563.81 Q1120.92 1558.65 1120.92 1550.25 Q1120.92 1541.85 1124.96 1536.69 Q1129.04 1531.54 1135.5 1531.54 Q1139.44 1531.54 1142.25 1533.1 Q1145.08 1534.62 1146.92 1537.81 M1126.97 1550.25 Q1126.97 1556.71 1129.61 1560.4 Q1132.28 1564.07 1136.93 1564.07 Q1141.58 1564.07 1144.25 1560.4 Q1146.92 1556.71 1146.92 1550.25 Q1146.92 1543.79 1144.25 1540.13 Q1141.58 1536.44 1136.93 1536.44 Q1132.28 1536.44 1129.61 1540.13 Q1126.97 1543.79 1126.97 1550.25 Z\" fill=\"#000000\" fill-rule=\"evenodd\" fill-opacity=\"1\" /><path clip-path=\"url(#clip940)\" d=\"M1195.34 1548.76 L1195.34 1551.62 L1168.41 1551.62 Q1168.79 1557.67 1172.04 1560.85 Q1175.31 1564 1181.14 1564 Q1184.51 1564 1187.66 1563.17 Q1190.85 1562.35 1193.97 1560.69 L1193.97 1566.23 Q1190.82 1567.57 1187.51 1568.27 Q1184.2 1568.97 1180.79 1568.97 Q1172.26 1568.97 1167.26 1564 Q1162.3 1559.04 1162.3 1550.57 Q1162.3 1541.82 1167.01 1536.69 Q1171.75 1531.54 1179.77 1531.54 Q1186.96 1531.54 1191.13 1536.18 Q1195.34 1540.8 1195.34 1548.76 M1189.48 1547.04 Q1189.41 1542.23 1186.77 1539.37 Q1184.16 1536.5 1179.83 1536.5 Q1174.93 1536.5 1171.97 1539.27 Q1169.04 1542.04 1168.6 1547.07 L1189.48 1547.04 Z\" fill=\"#000000\" fill-rule=\"evenodd\" fill-opacity=\"1\" /><path clip-path=\"url(#clip940)\" d=\"M1210.61 1562.7 L1210.61 1581.6 L1204.72 1581.6 L1204.72 1532.4 L1210.61 1532.4 L1210.61 1537.81 Q1212.46 1534.62 1215.26 1533.1 Q1218.09 1531.54 1222.01 1531.54 Q1228.5 1531.54 1232.54 1536.69 Q1236.62 1541.85 1236.62 1550.25 Q1236.62 1558.65 1232.54 1563.81 Q1228.5 1568.97 1222.01 1568.97 Q1218.09 1568.97 1215.26 1567.44 Q1212.46 1565.88 1210.61 1562.7 M1230.54 1550.25 Q1230.54 1543.79 1227.86 1540.13 Q1225.22 1536.44 1220.58 1536.44 Q1215.93 1536.44 1213.25 1540.13 Q1210.61 1543.79 1210.61 1550.25 Q1210.61 1556.71 1213.25 1560.4 Q1215.93 1564.07 1220.58 1564.07 Q1225.22 1564.07 1227.86 1560.4 Q1230.54 1556.71 1230.54 1550.25 Z\" fill=\"#000000\" fill-rule=\"evenodd\" fill-opacity=\"1\" /><path clip-path=\"url(#clip940)\" d=\"M1262.53 1550.12 Q1255.43 1550.12 1252.69 1551.75 Q1249.95 1553.37 1249.95 1557.29 Q1249.95 1560.4 1251.99 1562.25 Q1254.06 1564.07 1257.59 1564.07 Q1262.46 1564.07 1265.39 1560.63 Q1268.35 1557.16 1268.35 1551.43 L1268.35 1550.12 L1262.53 1550.12 M1274.21 1547.71 L1274.21 1568.04 L1268.35 1568.04 L1268.35 1562.63 Q1266.34 1565.88 1263.35 1567.44 Q1260.36 1568.97 1256.03 1568.97 Q1250.56 1568.97 1247.31 1565.91 Q1244.1 1562.82 1244.1 1557.67 Q1244.1 1551.65 1248.11 1548.6 Q1252.15 1545.54 1260.14 1545.54 L1268.35 1545.54 L1268.35 1544.97 Q1268.35 1540.93 1265.68 1538.73 Q1263.03 1536.5 1258.23 1536.5 Q1255.17 1536.5 1252.28 1537.23 Q1249.38 1537.97 1246.71 1539.43 L1246.71 1534.02 Q1249.92 1532.78 1252.94 1532.17 Q1255.97 1531.54 1258.83 1531.54 Q1266.57 1531.54 1270.39 1535.55 Q1274.21 1539.56 1274.21 1547.71 Z\" fill=\"#000000\" fill-rule=\"evenodd\" fill-opacity=\"1\" /><path clip-path=\"url(#clip940)\" d=\"M1306.93 1537.87 Q1305.94 1537.3 1304.76 1537.04 Q1303.62 1536.76 1302.22 1536.76 Q1297.25 1536.76 1294.58 1540 Q1291.93 1543.22 1291.93 1549.27 L1291.93 1568.04 L1286.05 1568.04 L1286.05 1532.4 L1291.93 1532.4 L1291.93 1537.93 Q1293.78 1534.69 1296.74 1533.13 Q1299.7 1531.54 1303.93 1531.54 Q1304.54 1531.54 1305.27 1531.63 Q1306 1531.7 1306.89 1531.85 L1306.93 1537.87 Z\" fill=\"#000000\" fill-rule=\"evenodd\" fill-opacity=\"1\" /><path clip-path=\"url(#clip940)\" d=\"M1318.86 1522.27 L1318.86 1532.4 L1330.92 1532.4 L1330.92 1536.95 L1318.86 1536.95 L1318.86 1556.3 Q1318.86 1560.66 1320.04 1561.9 Q1321.25 1563.14 1324.91 1563.14 L1330.92 1563.14 L1330.92 1568.04 L1324.91 1568.04 Q1318.13 1568.04 1315.55 1565.53 Q1312.97 1562.98 1312.97 1556.3 L1312.97 1536.95 L1308.68 1536.95 L1308.68 1532.4 L1312.97 1532.4 L1312.97 1522.27 L1318.86 1522.27 Z\" fill=\"#000000\" fill-rule=\"evenodd\" fill-opacity=\"1\" /><path clip-path=\"url(#clip940)\" d=\"M1338.02 1553.98 L1338.02 1532.4 L1343.88 1532.4 L1343.88 1553.75 Q1343.88 1558.81 1345.85 1561.36 Q1347.83 1563.87 1351.77 1563.87 Q1356.51 1563.87 1359.25 1560.85 Q1362.02 1557.83 1362.02 1552.61 L1362.02 1532.4 L1367.88 1532.4 L1367.88 1568.04 L1362.02 1568.04 L1362.02 1562.57 Q1359.89 1565.82 1357.06 1567.41 Q1354.25 1568.97 1350.53 1568.97 Q1344.39 1568.97 1341.21 1565.15 Q1338.02 1561.33 1338.02 1553.98 M1352.76 1531.54 L1352.76 1531.54 Z\" fill=\"#000000\" fill-rule=\"evenodd\" fill-opacity=\"1\" /><path clip-path=\"url(#clip940)\" d=\"M1400.6 1537.87 Q1399.61 1537.3 1398.43 1537.04 Q1397.29 1536.76 1395.89 1536.76 Q1390.92 1536.76 1388.25 1540 Q1385.61 1543.22 1385.61 1549.27 L1385.61 1568.04 L1379.72 1568.04 L1379.72 1532.4 L1385.61 1532.4 L1385.61 1537.93 Q1387.45 1534.69 1390.41 1533.13 Q1393.37 1531.54 1397.61 1531.54 Q1398.21 1531.54 1398.94 1531.63 Q1399.67 1531.7 1400.57 1531.85 L1400.6 1537.87 Z\" fill=\"#000000\" fill-rule=\"evenodd\" fill-opacity=\"1\" /><path clip-path=\"url(#clip940)\" d=\"M1435.8 1548.76 L1435.8 1551.62 L1408.87 1551.62 Q1409.25 1557.67 1412.5 1560.85 Q1415.78 1564 1421.6 1564 Q1424.98 1564 1428.13 1563.17 Q1431.31 1562.35 1434.43 1560.69 L1434.43 1566.23 Q1431.28 1567.57 1427.97 1568.27 Q1424.66 1568.97 1421.25 1568.97 Q1412.72 1568.97 1407.73 1564 Q1402.76 1559.04 1402.76 1550.57 Q1402.76 1541.82 1407.47 1536.69 Q1412.21 1531.54 1420.24 1531.54 Q1427.43 1531.54 1431.6 1536.18 Q1435.8 1540.8 1435.8 1548.76 M1429.94 1547.04 Q1429.88 1542.23 1427.24 1539.37 Q1424.63 1536.5 1420.3 1536.5 Q1415.4 1536.5 1412.44 1539.27 Q1409.51 1542.04 1409.06 1547.07 L1429.94 1547.04 Z\" fill=\"#000000\" fill-rule=\"evenodd\" fill-opacity=\"1\" /><polyline clip-path=\"url(#clip942)\" style=\"stroke:#000000; stroke-linecap:round; stroke-linejoin:round; stroke-width:2; stroke-opacity:0.1; fill:none\" points=\"\n",
       "  203.964,1384.24 2352.76,1384.24 \n",
       "  \"/>\n",
       "<polyline clip-path=\"url(#clip942)\" style=\"stroke:#000000; stroke-linecap:round; stroke-linejoin:round; stroke-width:2; stroke-opacity:0.1; fill:none\" points=\"\n",
       "  203.964,1102.37 2352.76,1102.37 \n",
       "  \"/>\n",
       "<polyline clip-path=\"url(#clip942)\" style=\"stroke:#000000; stroke-linecap:round; stroke-linejoin:round; stroke-width:2; stroke-opacity:0.1; fill:none\" points=\"\n",
       "  203.964,820.501 2352.76,820.501 \n",
       "  \"/>\n",
       "<polyline clip-path=\"url(#clip942)\" style=\"stroke:#000000; stroke-linecap:round; stroke-linejoin:round; stroke-width:2; stroke-opacity:0.1; fill:none\" points=\"\n",
       "  203.964,538.633 2352.76,538.633 \n",
       "  \"/>\n",
       "<polyline clip-path=\"url(#clip942)\" style=\"stroke:#000000; stroke-linecap:round; stroke-linejoin:round; stroke-width:2; stroke-opacity:0.1; fill:none\" points=\"\n",
       "  203.964,256.764 2352.76,256.764 \n",
       "  \"/>\n",
       "<polyline clip-path=\"url(#clip940)\" style=\"stroke:#000000; stroke-linecap:round; stroke-linejoin:round; stroke-width:4; stroke-opacity:1; fill:none\" points=\"\n",
       "  203.964,1423.18 203.964,47.2441 \n",
       "  \"/>\n",
       "<polyline clip-path=\"url(#clip940)\" style=\"stroke:#000000; stroke-linecap:round; stroke-linejoin:round; stroke-width:4; stroke-opacity:1; fill:none\" points=\"\n",
       "  203.964,1384.24 222.861,1384.24 \n",
       "  \"/>\n",
       "<polyline clip-path=\"url(#clip940)\" style=\"stroke:#000000; stroke-linecap:round; stroke-linejoin:round; stroke-width:4; stroke-opacity:1; fill:none\" points=\"\n",
       "  203.964,1102.37 222.861,1102.37 \n",
       "  \"/>\n",
       "<polyline clip-path=\"url(#clip940)\" style=\"stroke:#000000; stroke-linecap:round; stroke-linejoin:round; stroke-width:4; stroke-opacity:1; fill:none\" points=\"\n",
       "  203.964,820.501 222.861,820.501 \n",
       "  \"/>\n",
       "<polyline clip-path=\"url(#clip940)\" style=\"stroke:#000000; stroke-linecap:round; stroke-linejoin:round; stroke-width:4; stroke-opacity:1; fill:none\" points=\"\n",
       "  203.964,538.633 222.861,538.633 \n",
       "  \"/>\n",
       "<polyline clip-path=\"url(#clip940)\" style=\"stroke:#000000; stroke-linecap:round; stroke-linejoin:round; stroke-width:4; stroke-opacity:1; fill:none\" points=\"\n",
       "  203.964,256.764 222.861,256.764 \n",
       "  \"/>\n",
       "<path clip-path=\"url(#clip940)\" d=\"M156.019 1370.04 Q152.408 1370.04 150.579 1373.6 Q148.774 1377.14 148.774 1384.27 Q148.774 1391.38 150.579 1394.94 Q152.408 1398.49 156.019 1398.49 Q159.653 1398.49 161.459 1394.94 Q163.288 1391.38 163.288 1384.27 Q163.288 1377.14 161.459 1373.6 Q159.653 1370.04 156.019 1370.04 M156.019 1366.33 Q161.829 1366.33 164.885 1370.94 Q167.964 1375.52 167.964 1384.27 Q167.964 1393 164.885 1397.61 Q161.829 1402.19 156.019 1402.19 Q150.209 1402.19 147.13 1397.61 Q144.075 1393 144.075 1384.27 Q144.075 1375.52 147.13 1370.94 Q150.209 1366.33 156.019 1366.33 Z\" fill=\"#000000\" fill-rule=\"evenodd\" fill-opacity=\"1\" /><path clip-path=\"url(#clip940)\" d=\"M147.061 1085.09 L165.417 1085.09 L165.417 1089.02 L151.343 1089.02 L151.343 1097.5 Q152.362 1097.15 153.38 1096.99 Q154.399 1096.8 155.417 1096.8 Q161.204 1096.8 164.584 1099.97 Q167.964 1103.15 167.964 1108.56 Q167.964 1114.14 164.491 1117.24 Q161.019 1120.32 154.7 1120.32 Q152.524 1120.32 150.255 1119.95 Q148.01 1119.58 145.603 1118.84 L145.603 1114.14 Q147.686 1115.27 149.908 1115.83 Q152.13 1116.39 154.607 1116.39 Q158.612 1116.39 160.95 1114.28 Q163.288 1112.17 163.288 1108.56 Q163.288 1104.95 160.95 1102.84 Q158.612 1100.74 154.607 1100.74 Q152.732 1100.74 150.857 1101.15 Q149.005 1101.57 147.061 1102.45 L147.061 1085.09 Z\" fill=\"#000000\" fill-rule=\"evenodd\" fill-opacity=\"1\" /><path clip-path=\"url(#clip940)\" d=\"M116.668 833.846 L124.306 833.846 L124.306 807.48 L115.996 809.147 L115.996 804.888 L124.26 803.221 L128.936 803.221 L128.936 833.846 L136.575 833.846 L136.575 837.781 L116.668 837.781 L116.668 833.846 Z\" fill=\"#000000\" fill-rule=\"evenodd\" fill-opacity=\"1\" /><path clip-path=\"url(#clip940)\" d=\"M156.019 806.3 Q152.408 806.3 150.579 809.865 Q148.774 813.406 148.774 820.536 Q148.774 827.642 150.579 831.207 Q152.408 834.749 156.019 834.749 Q159.653 834.749 161.459 831.207 Q163.288 827.642 163.288 820.536 Q163.288 813.406 161.459 809.865 Q159.653 806.3 156.019 806.3 M156.019 802.596 Q161.829 802.596 164.885 807.203 Q167.964 811.786 167.964 820.536 Q167.964 829.263 164.885 833.869 Q161.829 838.452 156.019 838.452 Q150.209 838.452 147.13 833.869 Q144.075 829.263 144.075 820.536 Q144.075 811.786 147.13 807.203 Q150.209 802.596 156.019 802.596 Z\" fill=\"#000000\" fill-rule=\"evenodd\" fill-opacity=\"1\" /><path clip-path=\"url(#clip940)\" d=\"M117.663 551.977 L125.302 551.977 L125.302 525.612 L116.992 527.279 L116.992 523.019 L125.255 521.353 L129.931 521.353 L129.931 551.977 L137.57 551.977 L137.57 555.913 L117.663 555.913 L117.663 551.977 Z\" fill=\"#000000\" fill-rule=\"evenodd\" fill-opacity=\"1\" /><path clip-path=\"url(#clip940)\" d=\"M147.061 521.353 L165.417 521.353 L165.417 525.288 L151.343 525.288 L151.343 533.76 Q152.362 533.413 153.38 533.251 Q154.399 533.066 155.417 533.066 Q161.204 533.066 164.584 536.237 Q167.964 539.408 167.964 544.825 Q167.964 550.403 164.491 553.505 Q161.019 556.584 154.7 556.584 Q152.524 556.584 150.255 556.214 Q148.01 555.843 145.603 555.102 L145.603 550.403 Q147.686 551.538 149.908 552.093 Q152.13 552.649 154.607 552.649 Q158.612 552.649 160.95 550.542 Q163.288 548.436 163.288 544.825 Q163.288 541.214 160.95 539.107 Q158.612 537.001 154.607 537.001 Q152.732 537.001 150.857 537.417 Q149.005 537.834 147.061 538.714 L147.061 521.353 Z\" fill=\"#000000\" fill-rule=\"evenodd\" fill-opacity=\"1\" /><path clip-path=\"url(#clip940)\" d=\"M119.885 270.109 L136.204 270.109 L136.204 274.044 L114.26 274.044 L114.26 270.109 Q116.922 267.354 121.505 262.725 Q126.112 258.072 127.292 256.729 Q129.538 254.206 130.417 252.47 Q131.32 250.711 131.32 249.021 Q131.32 246.266 129.376 244.53 Q127.455 242.794 124.353 242.794 Q122.154 242.794 119.7 243.558 Q117.269 244.322 114.492 245.873 L114.492 241.151 Q117.316 240.017 119.769 239.438 Q122.223 238.859 124.26 238.859 Q129.63 238.859 132.825 241.544 Q136.019 244.229 136.019 248.72 Q136.019 250.85 135.209 252.771 Q134.422 254.669 132.316 257.262 Q131.737 257.933 128.635 261.151 Q125.533 264.345 119.885 270.109 Z\" fill=\"#000000\" fill-rule=\"evenodd\" fill-opacity=\"1\" /><path clip-path=\"url(#clip940)\" d=\"M156.019 242.563 Q152.408 242.563 150.579 246.128 Q148.774 249.669 148.774 256.799 Q148.774 263.905 150.579 267.47 Q152.408 271.012 156.019 271.012 Q159.653 271.012 161.459 267.47 Q163.288 263.905 163.288 256.799 Q163.288 249.669 161.459 246.128 Q159.653 242.563 156.019 242.563 M156.019 238.859 Q161.829 238.859 164.885 243.466 Q167.964 248.049 167.964 256.799 Q167.964 265.526 164.885 270.132 Q161.829 274.715 156.019 274.715 Q150.209 274.715 147.13 270.132 Q144.075 265.526 144.075 256.799 Q144.075 248.049 147.13 243.466 Q150.209 238.859 156.019 238.859 Z\" fill=\"#000000\" fill-rule=\"evenodd\" fill-opacity=\"1\" /><path clip-path=\"url(#clip940)\" d=\"M28.3562 801.527 L28.3562 795.67 L56.1743 788.35 L28.3562 781.061 L28.3562 774.154 L56.1743 766.834 L28.3562 759.545 L28.3562 753.688 L64.0042 763.014 L64.0042 769.921 L34.7856 777.592 L64.0042 785.294 L64.0042 792.201 L28.3562 801.527 Z\" fill=\"#000000\" fill-rule=\"evenodd\" fill-opacity=\"1\" /><path clip-path=\"url(#clip940)\" d=\"M46.0847 728.608 Q46.0847 735.705 47.7079 738.443 Q49.3312 741.18 53.2461 741.18 Q56.3653 741.18 58.2114 739.143 Q60.0256 737.074 60.0256 733.541 Q60.0256 728.671 56.5881 725.743 Q53.1188 722.783 47.3897 722.783 L46.0847 722.783 L46.0847 728.608 M43.6657 716.926 L64.0042 716.926 L64.0042 722.783 L58.5933 722.783 Q61.8398 724.788 63.3994 727.78 Q64.9272 730.772 64.9272 735.101 Q64.9272 740.575 61.8716 743.822 Q58.7843 747.036 53.6281 747.036 Q47.6125 747.036 44.5569 743.026 Q41.5014 738.984 41.5014 730.995 L41.5014 722.783 L40.9285 722.783 Q36.8862 722.783 34.6901 725.457 Q32.4621 728.098 32.4621 732.904 Q32.4621 735.96 33.1941 738.856 Q33.9262 741.753 35.3903 744.426 L29.9795 744.426 Q28.7381 741.212 28.1334 738.188 Q27.4968 735.164 27.4968 732.3 Q27.4968 724.565 31.5072 720.746 Q35.5176 716.926 43.6657 716.926 Z\" fill=\"#000000\" fill-rule=\"evenodd\" fill-opacity=\"1\" /><path clip-path=\"url(#clip940)\" d=\"M28.3562 704.863 L28.3562 699.007 L64.0042 699.007 L64.0042 704.863 L28.3562 704.863 M14.479 704.863 L14.479 699.007 L21.895 699.007 L21.895 704.863 L14.479 704.863 Z\" fill=\"#000000\" fill-rule=\"evenodd\" fill-opacity=\"1\" /><path clip-path=\"url(#clip940)\" d=\"M18.2347 680.96 L28.3562 680.96 L28.3562 668.897 L32.9077 668.897 L32.9077 680.96 L52.2594 680.96 Q56.6199 680.96 57.8613 679.783 Q59.1026 678.573 59.1026 674.913 L59.1026 668.897 L64.0042 668.897 L64.0042 674.913 Q64.0042 681.692 61.4897 684.27 Q58.9434 686.849 52.2594 686.849 L32.9077 686.849 L32.9077 691.145 L28.3562 691.145 L28.3562 686.849 L18.2347 686.849 L18.2347 680.96 Z\" fill=\"#000000\" fill-rule=\"evenodd\" fill-opacity=\"1\" /><polyline clip-path=\"url(#clip942)\" style=\"stroke:#009af9; stroke-linecap:round; stroke-linejoin:round; stroke-width:16; stroke-opacity:1; fill:none\" points=\"\n",
       "  203.964,86.1857 205.712,99.708 207.461,113.006 209.21,126.084 210.958,138.948 212.707,151.603 214.456,164.053 216.205,176.304 217.953,188.359 226.038,241.675 \n",
       "  234.123,291.304 242.208,337.596 250.292,380.861 258.377,421.37 266.462,459.365 274.547,495.06 282.631,528.647 290.716,560.297 298.801,590.165 306.886,618.387 \n",
       "  314.97,645.089 323.055,670.384 331.14,694.373 339.225,717.149 347.309,738.797 357.027,763.431 366.744,786.666 376.461,808.612 386.178,829.366 395.895,849.017 \n",
       "  405.613,867.645 415.33,885.323 425.047,902.117 441.478,928.673 457.91,953.132 474.342,975.718 490.773,996.624 508.622,1017.63 526.472,1037.04 544.321,1055.01 \n",
       "  562.17,1071.7 578.626,1086.05 595.081,1099.5 611.536,1112.12 627.992,1123.98 663.276,1147.14 698.56,1167.6 739.44,1188.46 780.319,1206.78 816.649,1221.24 \n",
       "  852.978,1234.25 884.835,1244.6 916.693,1254.1 986.159,1272.24 1056.04,1287.59 1133.3,1301.86 1206.81,1313.36 1283.24,1323.57 1347.59,1331.03 1426.14,1338.98 \n",
       "  1498.1,1345.33 1564.56,1350.52 1631.88,1355.21 1707.33,1359.89 1775.7,1363.67 1853.98,1367.54 1926.46,1370.74 1997.92,1373.58 2067.3,1376.09 2138.42,1378.41 \n",
       "  2216.34,1380.72 2329.53,1383.68 2352.76,1384.24 \n",
       "  \"/>\n",
       "<path clip-path=\"url(#clip940)\" d=\"\n",
       "M1989.94 196.789 L2281.13 196.789 L2281.13 93.1086 L1989.94 93.1086  Z\n",
       "  \" fill=\"#ffffff\" fill-rule=\"evenodd\" fill-opacity=\"1\"/>\n",
       "<polyline clip-path=\"url(#clip940)\" style=\"stroke:#000000; stroke-linecap:round; stroke-linejoin:round; stroke-width:4; stroke-opacity:1; fill:none\" points=\"\n",
       "  1989.94,196.789 2281.13,196.789 2281.13,93.1086 1989.94,93.1086 1989.94,196.789 \n",
       "  \"/>\n",
       "<polyline clip-path=\"url(#clip940)\" style=\"stroke:#009af9; stroke-linecap:round; stroke-linejoin:round; stroke-width:4; stroke-opacity:1; fill:none\" points=\"\n",
       "  2013.82,144.949 2157.07,144.949 \n",
       "  \"/>\n",
       "<path clip-path=\"url(#clip940)\" d=\"M2194.79 164.636 Q2192.99 169.266 2191.27 170.678 Q2189.56 172.09 2186.69 172.09 L2183.29 172.09 L2183.29 168.525 L2185.79 168.525 Q2187.55 168.525 2188.52 167.692 Q2189.49 166.858 2190.67 163.756 L2191.43 161.812 L2180.95 136.303 L2185.46 136.303 L2193.56 156.581 L2201.67 136.303 L2206.18 136.303 L2194.79 164.636 Z\" fill=\"#000000\" fill-rule=\"evenodd\" fill-opacity=\"1\" /><path clip-path=\"url(#clip940)\" d=\"M2213.47 158.293 L2221.11 158.293 L2221.11 131.928 L2212.8 133.595 L2212.8 129.335 L2221.06 127.669 L2225.74 127.669 L2225.74 158.293 L2233.38 158.293 L2233.38 162.229 L2213.47 162.229 L2213.47 158.293 Z\" fill=\"#000000\" fill-rule=\"evenodd\" fill-opacity=\"1\" /></svg>\n"
      ]
     },
     "execution_count": 55,
     "metadata": {},
     "output_type": "execute_result"
    }
   ],
   "source": [
    "wait(arrival, departure) = log(arrival / departure) / departure\n",
    "\n",
    "plot(d -> wait(1, d), xlims=(.1, 1), xlabel=\"departure\", ylabel=\"wait\")"
   ]
  },
  {
   "cell_type": "markdown",
   "id": "724dd4c3",
   "metadata": {
    "slideshow": {
     "slide_type": "slide"
    }
   },
   "source": [
    "# Departure rate given wait\n",
    "\n",
    "* Easy to measure wait\n",
    "* I have a limited tolerance for waiting"
   ]
  },
  {
   "cell_type": "code",
   "execution_count": 9,
   "id": "7c824d4c",
   "metadata": {
    "cell_style": "split"
   },
   "outputs": [
    {
     "data": {
      "image/svg+xml": [
       "<?xml version=\"1.0\" encoding=\"utf-8\"?>\n",
       "<svg xmlns=\"http://www.w3.org/2000/svg\" xmlns:xlink=\"http://www.w3.org/1999/xlink\" width=\"600\" height=\"400\" viewBox=\"0 0 2400 1600\">\n",
       "<defs>\n",
       "  <clipPath id=\"clip060\">\n",
       "    <rect x=\"0\" y=\"0\" width=\"2400\" height=\"1600\"/>\n",
       "  </clipPath>\n",
       "</defs>\n",
       "<path clip-path=\"url(#clip060)\" d=\"\n",
       "M0 1600 L2400 1600 L2400 0 L0 0  Z\n",
       "  \" fill=\"#ffffff\" fill-rule=\"evenodd\" fill-opacity=\"1\"/>\n",
       "<defs>\n",
       "  <clipPath id=\"clip061\">\n",
       "    <rect x=\"480\" y=\"0\" width=\"1681\" height=\"1600\"/>\n",
       "  </clipPath>\n",
       "</defs>\n",
       "<path clip-path=\"url(#clip060)\" d=\"\n",
       "M203.964 1423.18 L2352.76 1423.18 L2352.76 47.2441 L203.964 47.2441  Z\n",
       "  \" fill=\"#ffffff\" fill-rule=\"evenodd\" fill-opacity=\"1\"/>\n",
       "<defs>\n",
       "  <clipPath id=\"clip062\">\n",
       "    <rect x=\"203\" y=\"47\" width=\"2150\" height=\"1377\"/>\n",
       "  </clipPath>\n",
       "</defs>\n",
       "<polyline clip-path=\"url(#clip062)\" style=\"stroke:#000000; stroke-linecap:round; stroke-linejoin:round; stroke-width:2; stroke-opacity:0.1; fill:none\" points=\"\n",
       "  442.718,1423.18 442.718,47.2441 \n",
       "  \"/>\n",
       "<polyline clip-path=\"url(#clip062)\" style=\"stroke:#000000; stroke-linecap:round; stroke-linejoin:round; stroke-width:2; stroke-opacity:0.1; fill:none\" points=\"\n",
       "  920.228,1423.18 920.228,47.2441 \n",
       "  \"/>\n",
       "<polyline clip-path=\"url(#clip062)\" style=\"stroke:#000000; stroke-linecap:round; stroke-linejoin:round; stroke-width:2; stroke-opacity:0.1; fill:none\" points=\"\n",
       "  1397.74,1423.18 1397.74,47.2441 \n",
       "  \"/>\n",
       "<polyline clip-path=\"url(#clip062)\" style=\"stroke:#000000; stroke-linecap:round; stroke-linejoin:round; stroke-width:2; stroke-opacity:0.1; fill:none\" points=\"\n",
       "  1875.25,1423.18 1875.25,47.2441 \n",
       "  \"/>\n",
       "<polyline clip-path=\"url(#clip062)\" style=\"stroke:#000000; stroke-linecap:round; stroke-linejoin:round; stroke-width:2; stroke-opacity:0.1; fill:none\" points=\"\n",
       "  2352.76,1423.18 2352.76,47.2441 \n",
       "  \"/>\n",
       "<polyline clip-path=\"url(#clip060)\" style=\"stroke:#000000; stroke-linecap:round; stroke-linejoin:round; stroke-width:4; stroke-opacity:1; fill:none\" points=\"\n",
       "  203.964,1423.18 2352.76,1423.18 \n",
       "  \"/>\n",
       "<polyline clip-path=\"url(#clip060)\" style=\"stroke:#000000; stroke-linecap:round; stroke-linejoin:round; stroke-width:4; stroke-opacity:1; fill:none\" points=\"\n",
       "  442.718,1423.18 442.718,1404.28 \n",
       "  \"/>\n",
       "<polyline clip-path=\"url(#clip060)\" style=\"stroke:#000000; stroke-linecap:round; stroke-linejoin:round; stroke-width:4; stroke-opacity:1; fill:none\" points=\"\n",
       "  920.228,1423.18 920.228,1404.28 \n",
       "  \"/>\n",
       "<polyline clip-path=\"url(#clip060)\" style=\"stroke:#000000; stroke-linecap:round; stroke-linejoin:round; stroke-width:4; stroke-opacity:1; fill:none\" points=\"\n",
       "  1397.74,1423.18 1397.74,1404.28 \n",
       "  \"/>\n",
       "<polyline clip-path=\"url(#clip060)\" style=\"stroke:#000000; stroke-linecap:round; stroke-linejoin:round; stroke-width:4; stroke-opacity:1; fill:none\" points=\"\n",
       "  1875.25,1423.18 1875.25,1404.28 \n",
       "  \"/>\n",
       "<polyline clip-path=\"url(#clip060)\" style=\"stroke:#000000; stroke-linecap:round; stroke-linejoin:round; stroke-width:4; stroke-opacity:1; fill:none\" points=\"\n",
       "  2352.76,1423.18 2352.76,1404.28 \n",
       "  \"/>\n",
       "<path clip-path=\"url(#clip060)\" d=\"M420.901 1454.1 Q417.29 1454.1 415.461 1457.66 Q413.656 1461.2 413.656 1468.33 Q413.656 1475.44 415.461 1479.01 Q417.29 1482.55 420.901 1482.55 Q424.536 1482.55 426.341 1479.01 Q428.17 1475.44 428.17 1468.33 Q428.17 1461.2 426.341 1457.66 Q424.536 1454.1 420.901 1454.1 M420.901 1450.39 Q426.711 1450.39 429.767 1455 Q432.846 1459.58 432.846 1468.33 Q432.846 1477.06 429.767 1481.67 Q426.711 1486.25 420.901 1486.25 Q415.091 1486.25 412.012 1481.67 Q408.957 1477.06 408.957 1468.33 Q408.957 1459.58 412.012 1455 Q415.091 1450.39 420.901 1450.39 Z\" fill=\"#000000\" fill-rule=\"evenodd\" fill-opacity=\"1\" /><path clip-path=\"url(#clip060)\" d=\"M441.063 1479.7 L445.947 1479.7 L445.947 1485.58 L441.063 1485.58 L441.063 1479.7 Z\" fill=\"#000000\" fill-rule=\"evenodd\" fill-opacity=\"1\" /><path clip-path=\"url(#clip060)\" d=\"M460.16 1481.64 L476.48 1481.64 L476.48 1485.58 L454.535 1485.58 L454.535 1481.64 Q457.197 1478.89 461.781 1474.26 Q466.387 1469.61 467.568 1468.27 Q469.813 1465.74 470.693 1464.01 Q471.595 1462.25 471.595 1460.56 Q471.595 1457.8 469.651 1456.07 Q467.73 1454.33 464.628 1454.33 Q462.429 1454.33 459.975 1455.09 Q457.545 1455.86 454.767 1457.41 L454.767 1452.69 Q457.591 1451.55 460.045 1450.97 Q462.498 1450.39 464.535 1450.39 Q469.906 1450.39 473.1 1453.08 Q476.294 1455.77 476.294 1460.26 Q476.294 1462.39 475.484 1464.31 Q474.697 1466.2 472.591 1468.8 Q472.012 1469.47 468.91 1472.69 Q465.808 1475.88 460.16 1481.64 Z\" fill=\"#000000\" fill-rule=\"evenodd\" fill-opacity=\"1\" /><path clip-path=\"url(#clip060)\" d=\"M897.369 1454.1 Q893.758 1454.1 891.929 1457.66 Q890.124 1461.2 890.124 1468.33 Q890.124 1475.44 891.929 1479.01 Q893.758 1482.55 897.369 1482.55 Q901.003 1482.55 902.809 1479.01 Q904.637 1475.44 904.637 1468.33 Q904.637 1461.2 902.809 1457.66 Q901.003 1454.1 897.369 1454.1 M897.369 1450.39 Q903.179 1450.39 906.235 1455 Q909.313 1459.58 909.313 1468.33 Q909.313 1477.06 906.235 1481.67 Q903.179 1486.25 897.369 1486.25 Q891.559 1486.25 888.48 1481.67 Q885.425 1477.06 885.425 1468.33 Q885.425 1459.58 888.48 1455 Q891.559 1450.39 897.369 1450.39 Z\" fill=\"#000000\" fill-rule=\"evenodd\" fill-opacity=\"1\" /><path clip-path=\"url(#clip060)\" d=\"M917.531 1479.7 L922.415 1479.7 L922.415 1485.58 L917.531 1485.58 L917.531 1479.7 Z\" fill=\"#000000\" fill-rule=\"evenodd\" fill-opacity=\"1\" /><path clip-path=\"url(#clip060)\" d=\"M945.447 1455.09 L933.642 1473.54 L945.447 1473.54 L945.447 1455.09 M944.221 1451.02 L950.1 1451.02 L950.1 1473.54 L955.031 1473.54 L955.031 1477.43 L950.1 1477.43 L950.1 1485.58 L945.447 1485.58 L945.447 1477.43 L929.846 1477.43 L929.846 1472.92 L944.221 1451.02 Z\" fill=\"#000000\" fill-rule=\"evenodd\" fill-opacity=\"1\" /><path clip-path=\"url(#clip060)\" d=\"M1375.04 1454.1 Q1371.43 1454.1 1369.6 1457.66 Q1367.8 1461.2 1367.8 1468.33 Q1367.8 1475.44 1369.6 1479.01 Q1371.43 1482.55 1375.04 1482.55 Q1378.67 1482.55 1380.48 1479.01 Q1382.31 1475.44 1382.31 1468.33 Q1382.31 1461.2 1380.48 1457.66 Q1378.67 1454.1 1375.04 1454.1 M1375.04 1450.39 Q1380.85 1450.39 1383.91 1455 Q1386.98 1459.58 1386.98 1468.33 Q1386.98 1477.06 1383.91 1481.67 Q1380.85 1486.25 1375.04 1486.25 Q1369.23 1486.25 1366.15 1481.67 Q1363.1 1477.06 1363.1 1468.33 Q1363.1 1459.58 1366.15 1455 Q1369.23 1450.39 1375.04 1450.39 Z\" fill=\"#000000\" fill-rule=\"evenodd\" fill-opacity=\"1\" /><path clip-path=\"url(#clip060)\" d=\"M1395.2 1479.7 L1400.09 1479.7 L1400.09 1485.58 L1395.2 1485.58 L1395.2 1479.7 Z\" fill=\"#000000\" fill-rule=\"evenodd\" fill-opacity=\"1\" /><path clip-path=\"url(#clip060)\" d=\"M1420.85 1466.44 Q1417.7 1466.44 1415.85 1468.59 Q1414.02 1470.74 1414.02 1474.49 Q1414.02 1478.22 1415.85 1480.39 Q1417.7 1482.55 1420.85 1482.55 Q1424 1482.55 1425.83 1480.39 Q1427.68 1478.22 1427.68 1474.49 Q1427.68 1470.74 1425.83 1468.59 Q1424 1466.44 1420.85 1466.44 M1430.13 1451.78 L1430.13 1456.04 Q1428.37 1455.21 1426.57 1454.77 Q1424.79 1454.33 1423.03 1454.33 Q1418.4 1454.33 1415.94 1457.45 Q1413.51 1460.58 1413.17 1466.9 Q1414.53 1464.89 1416.59 1463.82 Q1418.65 1462.73 1421.13 1462.73 Q1426.34 1462.73 1429.35 1465.9 Q1432.38 1469.05 1432.38 1474.49 Q1432.38 1479.82 1429.23 1483.03 Q1426.08 1486.25 1420.85 1486.25 Q1414.86 1486.25 1411.68 1481.67 Q1408.51 1477.06 1408.51 1468.33 Q1408.51 1460.14 1412.4 1455.28 Q1416.29 1450.39 1422.84 1450.39 Q1424.6 1450.39 1426.38 1450.74 Q1428.19 1451.09 1430.13 1451.78 Z\" fill=\"#000000\" fill-rule=\"evenodd\" fill-opacity=\"1\" /><path clip-path=\"url(#clip060)\" d=\"M1852.68 1454.1 Q1849.07 1454.1 1847.24 1457.66 Q1845.43 1461.2 1845.43 1468.33 Q1845.43 1475.44 1847.24 1479.01 Q1849.07 1482.55 1852.68 1482.55 Q1856.31 1482.55 1858.12 1479.01 Q1859.95 1475.44 1859.95 1468.33 Q1859.95 1461.2 1858.12 1457.66 Q1856.31 1454.1 1852.68 1454.1 M1852.68 1450.39 Q1858.49 1450.39 1861.54 1455 Q1864.62 1459.58 1864.62 1468.33 Q1864.62 1477.06 1861.54 1481.67 Q1858.49 1486.25 1852.68 1486.25 Q1846.87 1486.25 1843.79 1481.67 Q1840.73 1477.06 1840.73 1468.33 Q1840.73 1459.58 1843.79 1455 Q1846.87 1450.39 1852.68 1450.39 Z\" fill=\"#000000\" fill-rule=\"evenodd\" fill-opacity=\"1\" /><path clip-path=\"url(#clip060)\" d=\"M1872.84 1479.7 L1877.72 1479.7 L1877.72 1485.58 L1872.84 1485.58 L1872.84 1479.7 Z\" fill=\"#000000\" fill-rule=\"evenodd\" fill-opacity=\"1\" /><path clip-path=\"url(#clip060)\" d=\"M1897.91 1469.17 Q1894.58 1469.17 1892.65 1470.95 Q1890.76 1472.73 1890.76 1475.86 Q1890.76 1478.98 1892.65 1480.77 Q1894.58 1482.55 1897.91 1482.55 Q1901.24 1482.55 1903.16 1480.77 Q1905.08 1478.96 1905.08 1475.86 Q1905.08 1472.73 1903.16 1470.95 Q1901.26 1469.17 1897.91 1469.17 M1893.23 1467.18 Q1890.22 1466.44 1888.53 1464.38 Q1886.87 1462.32 1886.87 1459.35 Q1886.87 1455.21 1889.81 1452.8 Q1892.77 1450.39 1897.91 1450.39 Q1903.07 1450.39 1906.01 1452.8 Q1908.95 1455.21 1908.95 1459.35 Q1908.95 1462.32 1907.26 1464.38 Q1905.59 1466.44 1902.61 1467.18 Q1905.99 1467.96 1907.86 1470.26 Q1909.76 1472.55 1909.76 1475.86 Q1909.76 1480.88 1906.68 1483.57 Q1903.63 1486.25 1897.91 1486.25 Q1892.19 1486.25 1889.11 1483.57 Q1886.06 1480.88 1886.06 1475.86 Q1886.06 1472.55 1887.95 1470.26 Q1889.85 1467.96 1893.23 1467.18 M1891.52 1459.79 Q1891.52 1462.48 1893.19 1463.98 Q1894.88 1465.49 1897.91 1465.49 Q1900.92 1465.49 1902.61 1463.98 Q1904.32 1462.48 1904.32 1459.79 Q1904.32 1457.11 1902.61 1455.6 Q1900.92 1454.1 1897.91 1454.1 Q1894.88 1454.1 1893.19 1455.6 Q1891.52 1457.11 1891.52 1459.79 Z\" fill=\"#000000\" fill-rule=\"evenodd\" fill-opacity=\"1\" /><path clip-path=\"url(#clip060)\" d=\"M2319.91 1481.64 L2327.55 1481.64 L2327.55 1455.28 L2319.24 1456.95 L2319.24 1452.69 L2327.5 1451.02 L2332.18 1451.02 L2332.18 1481.64 L2339.82 1481.64 L2339.82 1485.58 L2319.91 1485.58 L2319.91 1481.64 Z\" fill=\"#000000\" fill-rule=\"evenodd\" fill-opacity=\"1\" /><path clip-path=\"url(#clip060)\" d=\"M2349.26 1479.7 L2354.14 1479.7 L2354.14 1485.58 L2349.26 1485.58 L2349.26 1479.7 Z\" fill=\"#000000\" fill-rule=\"evenodd\" fill-opacity=\"1\" /><path clip-path=\"url(#clip060)\" d=\"M2374.33 1454.1 Q2370.72 1454.1 2368.89 1457.66 Q2367.08 1461.2 2367.08 1468.33 Q2367.08 1475.44 2368.89 1479.01 Q2370.72 1482.55 2374.33 1482.55 Q2377.96 1482.55 2379.77 1479.01 Q2381.6 1475.44 2381.6 1468.33 Q2381.6 1461.2 2379.77 1457.66 Q2377.96 1454.1 2374.33 1454.1 M2374.33 1450.39 Q2380.14 1450.39 2383.2 1455 Q2386.27 1459.58 2386.27 1468.33 Q2386.27 1477.06 2383.2 1481.67 Q2380.14 1486.25 2374.33 1486.25 Q2368.52 1486.25 2365.44 1481.67 Q2362.39 1477.06 2362.39 1468.33 Q2362.39 1459.58 2365.44 1455 Q2368.52 1450.39 2374.33 1450.39 Z\" fill=\"#000000\" fill-rule=\"evenodd\" fill-opacity=\"1\" /><path clip-path=\"url(#clip060)\" d=\"M1146.92 1537.81 L1146.92 1518.52 L1152.78 1518.52 L1152.78 1568.04 L1146.92 1568.04 L1146.92 1562.7 Q1145.08 1565.88 1142.25 1567.44 Q1139.44 1568.97 1135.5 1568.97 Q1129.04 1568.97 1124.96 1563.81 Q1120.92 1558.65 1120.92 1550.25 Q1120.92 1541.85 1124.96 1536.69 Q1129.04 1531.54 1135.5 1531.54 Q1139.44 1531.54 1142.25 1533.1 Q1145.08 1534.62 1146.92 1537.81 M1126.97 1550.25 Q1126.97 1556.71 1129.61 1560.4 Q1132.28 1564.07 1136.93 1564.07 Q1141.58 1564.07 1144.25 1560.4 Q1146.92 1556.71 1146.92 1550.25 Q1146.92 1543.79 1144.25 1540.13 Q1141.58 1536.44 1136.93 1536.44 Q1132.28 1536.44 1129.61 1540.13 Q1126.97 1543.79 1126.97 1550.25 Z\" fill=\"#000000\" fill-rule=\"evenodd\" fill-opacity=\"1\" /><path clip-path=\"url(#clip060)\" d=\"M1195.34 1548.76 L1195.34 1551.62 L1168.41 1551.62 Q1168.79 1557.67 1172.04 1560.85 Q1175.31 1564 1181.14 1564 Q1184.51 1564 1187.66 1563.17 Q1190.85 1562.35 1193.97 1560.69 L1193.97 1566.23 Q1190.82 1567.57 1187.51 1568.27 Q1184.2 1568.97 1180.79 1568.97 Q1172.26 1568.97 1167.26 1564 Q1162.3 1559.04 1162.3 1550.57 Q1162.3 1541.82 1167.01 1536.69 Q1171.75 1531.54 1179.77 1531.54 Q1186.96 1531.54 1191.13 1536.18 Q1195.34 1540.8 1195.34 1548.76 M1189.48 1547.04 Q1189.41 1542.23 1186.77 1539.37 Q1184.16 1536.5 1179.83 1536.5 Q1174.93 1536.5 1171.97 1539.27 Q1169.04 1542.04 1168.6 1547.07 L1189.48 1547.04 Z\" fill=\"#000000\" fill-rule=\"evenodd\" fill-opacity=\"1\" /><path clip-path=\"url(#clip060)\" d=\"M1210.61 1562.7 L1210.61 1581.6 L1204.72 1581.6 L1204.72 1532.4 L1210.61 1532.4 L1210.61 1537.81 Q1212.46 1534.62 1215.26 1533.1 Q1218.09 1531.54 1222.01 1531.54 Q1228.5 1531.54 1232.54 1536.69 Q1236.62 1541.85 1236.62 1550.25 Q1236.62 1558.65 1232.54 1563.81 Q1228.5 1568.97 1222.01 1568.97 Q1218.09 1568.97 1215.26 1567.44 Q1212.46 1565.88 1210.61 1562.7 M1230.54 1550.25 Q1230.54 1543.79 1227.86 1540.13 Q1225.22 1536.44 1220.58 1536.44 Q1215.93 1536.44 1213.25 1540.13 Q1210.61 1543.79 1210.61 1550.25 Q1210.61 1556.71 1213.25 1560.4 Q1215.93 1564.07 1220.58 1564.07 Q1225.22 1564.07 1227.86 1560.4 Q1230.54 1556.71 1230.54 1550.25 Z\" fill=\"#000000\" fill-rule=\"evenodd\" fill-opacity=\"1\" /><path clip-path=\"url(#clip060)\" d=\"M1262.53 1550.12 Q1255.43 1550.12 1252.69 1551.75 Q1249.95 1553.37 1249.95 1557.29 Q1249.95 1560.4 1251.99 1562.25 Q1254.06 1564.07 1257.59 1564.07 Q1262.46 1564.07 1265.39 1560.63 Q1268.35 1557.16 1268.35 1551.43 L1268.35 1550.12 L1262.53 1550.12 M1274.21 1547.71 L1274.21 1568.04 L1268.35 1568.04 L1268.35 1562.63 Q1266.34 1565.88 1263.35 1567.44 Q1260.36 1568.97 1256.03 1568.97 Q1250.56 1568.97 1247.31 1565.91 Q1244.1 1562.82 1244.1 1557.67 Q1244.1 1551.65 1248.11 1548.6 Q1252.15 1545.54 1260.14 1545.54 L1268.35 1545.54 L1268.35 1544.97 Q1268.35 1540.93 1265.68 1538.73 Q1263.03 1536.5 1258.23 1536.5 Q1255.17 1536.5 1252.28 1537.23 Q1249.38 1537.97 1246.71 1539.43 L1246.71 1534.02 Q1249.92 1532.78 1252.94 1532.17 Q1255.97 1531.54 1258.83 1531.54 Q1266.57 1531.54 1270.39 1535.55 Q1274.21 1539.56 1274.21 1547.71 Z\" fill=\"#000000\" fill-rule=\"evenodd\" fill-opacity=\"1\" /><path clip-path=\"url(#clip060)\" d=\"M1306.93 1537.87 Q1305.94 1537.3 1304.76 1537.04 Q1303.62 1536.76 1302.22 1536.76 Q1297.25 1536.76 1294.58 1540 Q1291.93 1543.22 1291.93 1549.27 L1291.93 1568.04 L1286.05 1568.04 L1286.05 1532.4 L1291.93 1532.4 L1291.93 1537.93 Q1293.78 1534.69 1296.74 1533.13 Q1299.7 1531.54 1303.93 1531.54 Q1304.54 1531.54 1305.27 1531.63 Q1306 1531.7 1306.89 1531.85 L1306.93 1537.87 Z\" fill=\"#000000\" fill-rule=\"evenodd\" fill-opacity=\"1\" /><path clip-path=\"url(#clip060)\" d=\"M1318.86 1522.27 L1318.86 1532.4 L1330.92 1532.4 L1330.92 1536.95 L1318.86 1536.95 L1318.86 1556.3 Q1318.86 1560.66 1320.04 1561.9 Q1321.25 1563.14 1324.91 1563.14 L1330.92 1563.14 L1330.92 1568.04 L1324.91 1568.04 Q1318.13 1568.04 1315.55 1565.53 Q1312.97 1562.98 1312.97 1556.3 L1312.97 1536.95 L1308.68 1536.95 L1308.68 1532.4 L1312.97 1532.4 L1312.97 1522.27 L1318.86 1522.27 Z\" fill=\"#000000\" fill-rule=\"evenodd\" fill-opacity=\"1\" /><path clip-path=\"url(#clip060)\" d=\"M1338.02 1553.98 L1338.02 1532.4 L1343.88 1532.4 L1343.88 1553.75 Q1343.88 1558.81 1345.85 1561.36 Q1347.83 1563.87 1351.77 1563.87 Q1356.51 1563.87 1359.25 1560.85 Q1362.02 1557.83 1362.02 1552.61 L1362.02 1532.4 L1367.88 1532.4 L1367.88 1568.04 L1362.02 1568.04 L1362.02 1562.57 Q1359.89 1565.82 1357.06 1567.41 Q1354.25 1568.97 1350.53 1568.97 Q1344.39 1568.97 1341.21 1565.15 Q1338.02 1561.33 1338.02 1553.98 M1352.76 1531.54 L1352.76 1531.54 Z\" fill=\"#000000\" fill-rule=\"evenodd\" fill-opacity=\"1\" /><path clip-path=\"url(#clip060)\" d=\"M1400.6 1537.87 Q1399.61 1537.3 1398.43 1537.04 Q1397.29 1536.76 1395.89 1536.76 Q1390.92 1536.76 1388.25 1540 Q1385.61 1543.22 1385.61 1549.27 L1385.61 1568.04 L1379.72 1568.04 L1379.72 1532.4 L1385.61 1532.4 L1385.61 1537.93 Q1387.45 1534.69 1390.41 1533.13 Q1393.37 1531.54 1397.61 1531.54 Q1398.21 1531.54 1398.94 1531.63 Q1399.67 1531.7 1400.57 1531.85 L1400.6 1537.87 Z\" fill=\"#000000\" fill-rule=\"evenodd\" fill-opacity=\"1\" /><path clip-path=\"url(#clip060)\" d=\"M1435.8 1548.76 L1435.8 1551.62 L1408.87 1551.62 Q1409.25 1557.67 1412.5 1560.85 Q1415.78 1564 1421.6 1564 Q1424.98 1564 1428.13 1563.17 Q1431.31 1562.35 1434.43 1560.69 L1434.43 1566.23 Q1431.28 1567.57 1427.97 1568.27 Q1424.66 1568.97 1421.25 1568.97 Q1412.72 1568.97 1407.73 1564 Q1402.76 1559.04 1402.76 1550.57 Q1402.76 1541.82 1407.47 1536.69 Q1412.21 1531.54 1420.24 1531.54 Q1427.43 1531.54 1431.6 1536.18 Q1435.8 1540.8 1435.8 1548.76 M1429.94 1547.04 Q1429.88 1542.23 1427.24 1539.37 Q1424.63 1536.5 1420.3 1536.5 Q1415.4 1536.5 1412.44 1539.27 Q1409.51 1542.04 1409.06 1547.07 L1429.94 1547.04 Z\" fill=\"#000000\" fill-rule=\"evenodd\" fill-opacity=\"1\" /><polyline clip-path=\"url(#clip062)\" style=\"stroke:#000000; stroke-linecap:round; stroke-linejoin:round; stroke-width:2; stroke-opacity:0.1; fill:none\" points=\"\n",
       "  203.964,1339.14 2352.76,1339.14 \n",
       "  \"/>\n",
       "<polyline clip-path=\"url(#clip062)\" style=\"stroke:#000000; stroke-linecap:round; stroke-linejoin:round; stroke-width:2; stroke-opacity:0.1; fill:none\" points=\"\n",
       "  203.964,1057.27 2352.76,1057.27 \n",
       "  \"/>\n",
       "<polyline clip-path=\"url(#clip062)\" style=\"stroke:#000000; stroke-linecap:round; stroke-linejoin:round; stroke-width:2; stroke-opacity:0.1; fill:none\" points=\"\n",
       "  203.964,775.402 2352.76,775.402 \n",
       "  \"/>\n",
       "<polyline clip-path=\"url(#clip062)\" style=\"stroke:#000000; stroke-linecap:round; stroke-linejoin:round; stroke-width:2; stroke-opacity:0.1; fill:none\" points=\"\n",
       "  203.964,493.534 2352.76,493.534 \n",
       "  \"/>\n",
       "<polyline clip-path=\"url(#clip062)\" style=\"stroke:#000000; stroke-linecap:round; stroke-linejoin:round; stroke-width:2; stroke-opacity:0.1; fill:none\" points=\"\n",
       "  203.964,211.665 2352.76,211.665 \n",
       "  \"/>\n",
       "<polyline clip-path=\"url(#clip060)\" style=\"stroke:#000000; stroke-linecap:round; stroke-linejoin:round; stroke-width:4; stroke-opacity:1; fill:none\" points=\"\n",
       "  203.964,1423.18 203.964,47.2441 \n",
       "  \"/>\n",
       "<polyline clip-path=\"url(#clip060)\" style=\"stroke:#000000; stroke-linecap:round; stroke-linejoin:round; stroke-width:4; stroke-opacity:1; fill:none\" points=\"\n",
       "  203.964,1339.14 222.861,1339.14 \n",
       "  \"/>\n",
       "<polyline clip-path=\"url(#clip060)\" style=\"stroke:#000000; stroke-linecap:round; stroke-linejoin:round; stroke-width:4; stroke-opacity:1; fill:none\" points=\"\n",
       "  203.964,1057.27 222.861,1057.27 \n",
       "  \"/>\n",
       "<polyline clip-path=\"url(#clip060)\" style=\"stroke:#000000; stroke-linecap:round; stroke-linejoin:round; stroke-width:4; stroke-opacity:1; fill:none\" points=\"\n",
       "  203.964,775.402 222.861,775.402 \n",
       "  \"/>\n",
       "<polyline clip-path=\"url(#clip060)\" style=\"stroke:#000000; stroke-linecap:round; stroke-linejoin:round; stroke-width:4; stroke-opacity:1; fill:none\" points=\"\n",
       "  203.964,493.534 222.861,493.534 \n",
       "  \"/>\n",
       "<polyline clip-path=\"url(#clip060)\" style=\"stroke:#000000; stroke-linecap:round; stroke-linejoin:round; stroke-width:4; stroke-opacity:1; fill:none\" points=\"\n",
       "  203.964,211.665 222.861,211.665 \n",
       "  \"/>\n",
       "<path clip-path=\"url(#clip060)\" d=\"M156.019 1324.94 Q152.408 1324.94 150.579 1328.5 Q148.774 1332.04 148.774 1339.17 Q148.774 1346.28 150.579 1349.85 Q152.408 1353.39 156.019 1353.39 Q159.653 1353.39 161.459 1349.85 Q163.288 1346.28 163.288 1339.17 Q163.288 1332.04 161.459 1328.5 Q159.653 1324.94 156.019 1324.94 M156.019 1321.23 Q161.829 1321.23 164.885 1325.84 Q167.964 1330.42 167.964 1339.17 Q167.964 1347.9 164.885 1352.51 Q161.829 1357.09 156.019 1357.09 Q150.209 1357.09 147.13 1352.51 Q144.075 1347.9 144.075 1339.17 Q144.075 1330.42 147.13 1325.84 Q150.209 1321.23 156.019 1321.23 Z\" fill=\"#000000\" fill-rule=\"evenodd\" fill-opacity=\"1\" /><path clip-path=\"url(#clip060)\" d=\"M147.061 1039.99 L165.417 1039.99 L165.417 1043.93 L151.343 1043.93 L151.343 1052.4 Q152.362 1052.05 153.38 1051.89 Q154.399 1051.7 155.417 1051.7 Q161.204 1051.7 164.584 1054.87 Q167.964 1058.05 167.964 1063.46 Q167.964 1069.04 164.491 1072.14 Q161.019 1075.22 154.7 1075.22 Q152.524 1075.22 150.255 1074.85 Q148.01 1074.48 145.603 1073.74 L145.603 1069.04 Q147.686 1070.18 149.908 1070.73 Q152.13 1071.29 154.607 1071.29 Q158.612 1071.29 160.95 1069.18 Q163.288 1067.07 163.288 1063.46 Q163.288 1059.85 160.95 1057.75 Q158.612 1055.64 154.607 1055.64 Q152.732 1055.64 150.857 1056.06 Q149.005 1056.47 147.061 1057.35 L147.061 1039.99 Z\" fill=\"#000000\" fill-rule=\"evenodd\" fill-opacity=\"1\" /><path clip-path=\"url(#clip060)\" d=\"M116.668 788.747 L124.306 788.747 L124.306 762.381 L115.996 764.048 L115.996 759.789 L124.26 758.122 L128.936 758.122 L128.936 788.747 L136.575 788.747 L136.575 792.682 L116.668 792.682 L116.668 788.747 Z\" fill=\"#000000\" fill-rule=\"evenodd\" fill-opacity=\"1\" /><path clip-path=\"url(#clip060)\" d=\"M156.019 761.201 Q152.408 761.201 150.579 764.766 Q148.774 768.307 148.774 775.437 Q148.774 782.543 150.579 786.108 Q152.408 789.65 156.019 789.65 Q159.653 789.65 161.459 786.108 Q163.288 782.543 163.288 775.437 Q163.288 768.307 161.459 764.766 Q159.653 761.201 156.019 761.201 M156.019 757.497 Q161.829 757.497 164.885 762.104 Q167.964 766.687 167.964 775.437 Q167.964 784.164 164.885 788.77 Q161.829 793.354 156.019 793.354 Q150.209 793.354 147.13 788.77 Q144.075 784.164 144.075 775.437 Q144.075 766.687 147.13 762.104 Q150.209 757.497 156.019 757.497 Z\" fill=\"#000000\" fill-rule=\"evenodd\" fill-opacity=\"1\" /><path clip-path=\"url(#clip060)\" d=\"M117.663 506.879 L125.302 506.879 L125.302 480.513 L116.992 482.18 L116.992 477.92 L125.255 476.254 L129.931 476.254 L129.931 506.879 L137.57 506.879 L137.57 510.814 L117.663 510.814 L117.663 506.879 Z\" fill=\"#000000\" fill-rule=\"evenodd\" fill-opacity=\"1\" /><path clip-path=\"url(#clip060)\" d=\"M147.061 476.254 L165.417 476.254 L165.417 480.189 L151.343 480.189 L151.343 488.661 Q152.362 488.314 153.38 488.152 Q154.399 487.967 155.417 487.967 Q161.204 487.967 164.584 491.138 Q167.964 494.309 167.964 499.726 Q167.964 505.304 164.491 508.406 Q161.019 511.485 154.7 511.485 Q152.524 511.485 150.255 511.115 Q148.01 510.744 145.603 510.004 L145.603 505.304 Q147.686 506.439 149.908 506.994 Q152.13 507.55 154.607 507.55 Q158.612 507.55 160.95 505.443 Q163.288 503.337 163.288 499.726 Q163.288 496.115 160.95 494.008 Q158.612 491.902 154.607 491.902 Q152.732 491.902 150.857 492.318 Q149.005 492.735 147.061 493.615 L147.061 476.254 Z\" fill=\"#000000\" fill-rule=\"evenodd\" fill-opacity=\"1\" /><path clip-path=\"url(#clip060)\" d=\"M119.885 225.01 L136.204 225.01 L136.204 228.945 L114.26 228.945 L114.26 225.01 Q116.922 222.255 121.505 217.626 Q126.112 212.973 127.292 211.63 Q129.538 209.107 130.417 207.371 Q131.32 205.612 131.32 203.922 Q131.32 201.168 129.376 199.431 Q127.455 197.695 124.353 197.695 Q122.154 197.695 119.7 198.459 Q117.269 199.223 114.492 200.774 L114.492 196.052 Q117.316 194.918 119.769 194.339 Q122.223 193.76 124.26 193.76 Q129.63 193.76 132.825 196.445 Q136.019 199.13 136.019 203.621 Q136.019 205.751 135.209 207.672 Q134.422 209.57 132.316 212.163 Q131.737 212.834 128.635 216.052 Q125.533 219.246 119.885 225.01 Z\" fill=\"#000000\" fill-rule=\"evenodd\" fill-opacity=\"1\" /><path clip-path=\"url(#clip060)\" d=\"M156.019 197.464 Q152.408 197.464 150.579 201.029 Q148.774 204.57 148.774 211.7 Q148.774 218.806 150.579 222.371 Q152.408 225.913 156.019 225.913 Q159.653 225.913 161.459 222.371 Q163.288 218.806 163.288 211.7 Q163.288 204.57 161.459 201.029 Q159.653 197.464 156.019 197.464 M156.019 193.76 Q161.829 193.76 164.885 198.367 Q167.964 202.95 167.964 211.7 Q167.964 220.427 164.885 225.033 Q161.829 229.616 156.019 229.616 Q150.209 229.616 147.13 225.033 Q144.075 220.427 144.075 211.7 Q144.075 202.95 147.13 198.367 Q150.209 193.76 156.019 193.76 Z\" fill=\"#000000\" fill-rule=\"evenodd\" fill-opacity=\"1\" /><path clip-path=\"url(#clip060)\" d=\"M28.3562 801.527 L28.3562 795.67 L56.1743 788.35 L28.3562 781.061 L28.3562 774.154 L56.1743 766.834 L28.3562 759.545 L28.3562 753.688 L64.0042 763.014 L64.0042 769.921 L34.7856 777.592 L64.0042 785.294 L64.0042 792.201 L28.3562 801.527 Z\" fill=\"#000000\" fill-rule=\"evenodd\" fill-opacity=\"1\" /><path clip-path=\"url(#clip060)\" d=\"M46.0847 728.608 Q46.0847 735.705 47.7079 738.443 Q49.3312 741.18 53.2461 741.18 Q56.3653 741.18 58.2114 739.143 Q60.0256 737.074 60.0256 733.541 Q60.0256 728.671 56.5881 725.743 Q53.1188 722.783 47.3897 722.783 L46.0847 722.783 L46.0847 728.608 M43.6657 716.926 L64.0042 716.926 L64.0042 722.783 L58.5933 722.783 Q61.8398 724.788 63.3994 727.78 Q64.9272 730.772 64.9272 735.101 Q64.9272 740.575 61.8716 743.822 Q58.7843 747.036 53.6281 747.036 Q47.6125 747.036 44.5569 743.026 Q41.5014 738.984 41.5014 730.995 L41.5014 722.783 L40.9285 722.783 Q36.8862 722.783 34.6901 725.457 Q32.4621 728.098 32.4621 732.904 Q32.4621 735.96 33.1941 738.856 Q33.9262 741.753 35.3903 744.426 L29.9795 744.426 Q28.7381 741.212 28.1334 738.188 Q27.4968 735.164 27.4968 732.3 Q27.4968 724.565 31.5072 720.746 Q35.5176 716.926 43.6657 716.926 Z\" fill=\"#000000\" fill-rule=\"evenodd\" fill-opacity=\"1\" /><path clip-path=\"url(#clip060)\" d=\"M28.3562 704.863 L28.3562 699.007 L64.0042 699.007 L64.0042 704.863 L28.3562 704.863 M14.479 704.863 L14.479 699.007 L21.895 699.007 L21.895 704.863 L14.479 704.863 Z\" fill=\"#000000\" fill-rule=\"evenodd\" fill-opacity=\"1\" /><path clip-path=\"url(#clip060)\" d=\"M18.2347 680.96 L28.3562 680.96 L28.3562 668.897 L32.9077 668.897 L32.9077 680.96 L52.2594 680.96 Q56.6199 680.96 57.8613 679.783 Q59.1026 678.573 59.1026 674.913 L59.1026 668.897 L64.0042 668.897 L64.0042 674.913 Q64.0042 681.692 61.4897 684.27 Q58.9434 686.849 52.2594 686.849 L32.9077 686.849 L32.9077 691.145 L28.3562 691.145 L28.3562 686.849 L18.2347 686.849 L18.2347 680.96 Z\" fill=\"#000000\" fill-rule=\"evenodd\" fill-opacity=\"1\" /><polyline clip-path=\"url(#clip062)\" style=\"stroke:#009af9; stroke-linecap:round; stroke-linejoin:round; stroke-width:16; stroke-opacity:1; fill:none\" points=\"\n",
       "  203.964,86.1857 205.712,99.708 207.461,113.006 209.21,126.084 210.958,138.948 212.707,151.603 214.456,164.053 216.205,176.304 217.953,188.359 226.038,241.675 \n",
       "  234.123,291.304 242.208,337.596 250.292,380.861 258.377,421.37 266.462,459.365 274.547,495.06 282.631,528.647 290.716,560.297 298.801,590.165 306.886,618.387 \n",
       "  314.97,645.089 323.055,670.384 331.14,694.373 339.225,717.149 347.309,738.797 357.027,763.431 366.744,786.666 376.461,808.612 386.178,829.366 395.895,849.017 \n",
       "  405.613,867.645 415.33,885.323 425.047,902.117 441.478,928.673 457.91,953.132 474.342,975.718 490.773,996.624 508.622,1017.63 526.472,1037.04 544.321,1055.01 \n",
       "  562.17,1071.7 578.626,1086.05 595.081,1099.5 611.536,1112.12 627.992,1123.98 663.276,1147.14 698.56,1167.6 739.44,1188.46 780.319,1206.78 816.649,1221.24 \n",
       "  852.978,1234.25 884.835,1244.6 916.693,1254.1 986.159,1272.24 1056.04,1287.59 1133.3,1301.86 1206.81,1313.36 1283.24,1323.57 1347.59,1331.03 1426.14,1338.98 \n",
       "  1498.1,1345.33 1564.56,1350.52 1631.88,1355.21 1707.33,1359.89 1775.7,1363.67 1853.98,1367.54 1926.46,1370.74 1997.92,1373.58 2067.3,1376.09 2138.42,1378.41 \n",
       "  2216.34,1380.72 2329.53,1383.68 2352.76,1384.24 \n",
       "  \"/>\n",
       "<polyline clip-path=\"url(#clip062)\" style=\"stroke:#e26f46; stroke-linecap:round; stroke-linejoin:round; stroke-width:16; stroke-opacity:1; fill:none\" points=\"\n",
       "  203.964,1339.14 217.953,1339.14 347.309,1339.14 425.047,1339.14 490.773,1339.14 562.17,1339.14 627.992,1339.14 698.56,1339.14 780.319,1339.14 852.978,1339.14 \n",
       "  916.693,1339.14 986.159,1339.14 1056.04,1339.14 1133.3,1339.14 1206.81,1339.14 1283.24,1339.14 1347.59,1339.14 1426.14,1339.14 1498.1,1339.14 1564.56,1339.14 \n",
       "  1631.88,1339.14 1707.33,1339.14 1775.7,1339.14 1853.98,1339.14 1926.46,1339.14 1997.92,1339.14 2067.3,1339.14 2138.42,1339.14 2216.34,1339.14 2329.53,1339.14 \n",
       "  2352.76,1339.14 \n",
       "  \"/>\n",
       "<path clip-path=\"url(#clip060)\" d=\"\n",
       "M1989.94 248.629 L2281.13 248.629 L2281.13 93.1086 L1989.94 93.1086  Z\n",
       "  \" fill=\"#ffffff\" fill-rule=\"evenodd\" fill-opacity=\"1\"/>\n",
       "<polyline clip-path=\"url(#clip060)\" style=\"stroke:#000000; stroke-linecap:round; stroke-linejoin:round; stroke-width:4; stroke-opacity:1; fill:none\" points=\"\n",
       "  1989.94,248.629 2281.13,248.629 2281.13,93.1086 1989.94,93.1086 1989.94,248.629 \n",
       "  \"/>\n",
       "<polyline clip-path=\"url(#clip060)\" style=\"stroke:#009af9; stroke-linecap:round; stroke-linejoin:round; stroke-width:4; stroke-opacity:1; fill:none\" points=\"\n",
       "  2013.82,144.949 2157.07,144.949 \n",
       "  \"/>\n",
       "<path clip-path=\"url(#clip060)\" d=\"M2194.79 164.636 Q2192.99 169.266 2191.27 170.678 Q2189.56 172.09 2186.69 172.09 L2183.29 172.09 L2183.29 168.525 L2185.79 168.525 Q2187.55 168.525 2188.52 167.692 Q2189.49 166.858 2190.67 163.756 L2191.43 161.812 L2180.95 136.303 L2185.46 136.303 L2193.56 156.581 L2201.67 136.303 L2206.18 136.303 L2194.79 164.636 Z\" fill=\"#000000\" fill-rule=\"evenodd\" fill-opacity=\"1\" /><path clip-path=\"url(#clip060)\" d=\"M2213.47 158.293 L2221.11 158.293 L2221.11 131.928 L2212.8 133.595 L2212.8 129.335 L2221.06 127.669 L2225.74 127.669 L2225.74 158.293 L2233.38 158.293 L2233.38 162.229 L2213.47 162.229 L2213.47 158.293 Z\" fill=\"#000000\" fill-rule=\"evenodd\" fill-opacity=\"1\" /><polyline clip-path=\"url(#clip060)\" style=\"stroke:#e26f46; stroke-linecap:round; stroke-linejoin:round; stroke-width:4; stroke-opacity:1; fill:none\" points=\"\n",
       "  2013.82,196.789 2157.07,196.789 \n",
       "  \"/>\n",
       "<path clip-path=\"url(#clip060)\" d=\"M2194.79 216.476 Q2192.99 221.106 2191.27 222.518 Q2189.56 223.93 2186.69 223.93 L2183.29 223.93 L2183.29 220.365 L2185.79 220.365 Q2187.55 220.365 2188.52 219.532 Q2189.49 218.698 2190.67 215.596 L2191.43 213.652 L2180.95 188.143 L2185.46 188.143 L2193.56 208.421 L2201.67 188.143 L2206.18 188.143 L2194.79 216.476 Z\" fill=\"#000000\" fill-rule=\"evenodd\" fill-opacity=\"1\" /><path clip-path=\"url(#clip060)\" d=\"M2216.69 210.133 L2233.01 210.133 L2233.01 214.069 L2211.06 214.069 L2211.06 210.133 Q2213.73 207.379 2218.31 202.749 Q2222.92 198.096 2224.1 196.754 Q2226.34 194.231 2227.22 192.495 Q2228.12 190.735 2228.12 189.046 Q2228.12 186.291 2226.18 184.555 Q2224.26 182.819 2221.16 182.819 Q2218.96 182.819 2216.5 183.583 Q2214.07 184.347 2211.3 185.897 L2211.3 181.175 Q2214.12 180.041 2216.57 179.462 Q2219.03 178.884 2221.06 178.884 Q2226.43 178.884 2229.63 181.569 Q2232.82 184.254 2232.82 188.745 Q2232.82 190.874 2232.01 192.796 Q2231.23 194.694 2229.12 197.286 Q2228.54 197.958 2225.44 201.175 Q2222.34 204.37 2216.69 210.133 Z\" fill=\"#000000\" fill-rule=\"evenodd\" fill-opacity=\"1\" /></svg>\n"
      ]
     },
     "execution_count": 9,
     "metadata": {},
     "output_type": "execute_result"
    }
   ],
   "source": [
    "my_wait = 0.8\n",
    "plot([d -> wait(1, d) - my_wait, d -> 0], xlims=(.1, 1), xlabel=\"departure\", ylabel=\"wait\")"
   ]
  },
  {
   "cell_type": "code",
   "execution_count": 62,
   "id": "54c5fe04",
   "metadata": {
    "cell_style": "split"
   },
   "outputs": [
    {
     "data": {
      "image/svg+xml": [
       "<?xml version=\"1.0\" encoding=\"utf-8\"?>\n",
       "<svg xmlns=\"http://www.w3.org/2000/svg\" xmlns:xlink=\"http://www.w3.org/1999/xlink\" width=\"600\" height=\"400\" viewBox=\"0 0 2400 1600\">\n",
       "<defs>\n",
       "  <clipPath id=\"clip180\">\n",
       "    <rect x=\"0\" y=\"0\" width=\"2400\" height=\"1600\"/>\n",
       "  </clipPath>\n",
       "</defs>\n",
       "<path clip-path=\"url(#clip180)\" d=\"\n",
       "M0 1600 L2400 1600 L2400 0 L0 0  Z\n",
       "  \" fill=\"#ffffff\" fill-rule=\"evenodd\" fill-opacity=\"1\"/>\n",
       "<defs>\n",
       "  <clipPath id=\"clip181\">\n",
       "    <rect x=\"480\" y=\"0\" width=\"1681\" height=\"1600\"/>\n",
       "  </clipPath>\n",
       "</defs>\n",
       "<path clip-path=\"url(#clip180)\" d=\"\n",
       "M203.964 1423.18 L2352.76 1423.18 L2352.76 123.472 L203.964 123.472  Z\n",
       "  \" fill=\"#ffffff\" fill-rule=\"evenodd\" fill-opacity=\"1\"/>\n",
       "<defs>\n",
       "  <clipPath id=\"clip182\">\n",
       "    <rect x=\"203\" y=\"123\" width=\"2150\" height=\"1301\"/>\n",
       "  </clipPath>\n",
       "</defs>\n",
       "<polyline clip-path=\"url(#clip182)\" style=\"stroke:#000000; stroke-linecap:round; stroke-linejoin:round; stroke-width:2; stroke-opacity:0.1; fill:none\" points=\"\n",
       "  442.718,1423.18 442.718,123.472 \n",
       "  \"/>\n",
       "<polyline clip-path=\"url(#clip182)\" style=\"stroke:#000000; stroke-linecap:round; stroke-linejoin:round; stroke-width:2; stroke-opacity:0.1; fill:none\" points=\"\n",
       "  920.228,1423.18 920.228,123.472 \n",
       "  \"/>\n",
       "<polyline clip-path=\"url(#clip182)\" style=\"stroke:#000000; stroke-linecap:round; stroke-linejoin:round; stroke-width:2; stroke-opacity:0.1; fill:none\" points=\"\n",
       "  1397.74,1423.18 1397.74,123.472 \n",
       "  \"/>\n",
       "<polyline clip-path=\"url(#clip182)\" style=\"stroke:#000000; stroke-linecap:round; stroke-linejoin:round; stroke-width:2; stroke-opacity:0.1; fill:none\" points=\"\n",
       "  1875.25,1423.18 1875.25,123.472 \n",
       "  \"/>\n",
       "<polyline clip-path=\"url(#clip182)\" style=\"stroke:#000000; stroke-linecap:round; stroke-linejoin:round; stroke-width:2; stroke-opacity:0.1; fill:none\" points=\"\n",
       "  2352.76,1423.18 2352.76,123.472 \n",
       "  \"/>\n",
       "<polyline clip-path=\"url(#clip180)\" style=\"stroke:#000000; stroke-linecap:round; stroke-linejoin:round; stroke-width:4; stroke-opacity:1; fill:none\" points=\"\n",
       "  203.964,1423.18 2352.76,1423.18 \n",
       "  \"/>\n",
       "<polyline clip-path=\"url(#clip180)\" style=\"stroke:#000000; stroke-linecap:round; stroke-linejoin:round; stroke-width:4; stroke-opacity:1; fill:none\" points=\"\n",
       "  442.718,1423.18 442.718,1404.28 \n",
       "  \"/>\n",
       "<polyline clip-path=\"url(#clip180)\" style=\"stroke:#000000; stroke-linecap:round; stroke-linejoin:round; stroke-width:4; stroke-opacity:1; fill:none\" points=\"\n",
       "  920.228,1423.18 920.228,1404.28 \n",
       "  \"/>\n",
       "<polyline clip-path=\"url(#clip180)\" style=\"stroke:#000000; stroke-linecap:round; stroke-linejoin:round; stroke-width:4; stroke-opacity:1; fill:none\" points=\"\n",
       "  1397.74,1423.18 1397.74,1404.28 \n",
       "  \"/>\n",
       "<polyline clip-path=\"url(#clip180)\" style=\"stroke:#000000; stroke-linecap:round; stroke-linejoin:round; stroke-width:4; stroke-opacity:1; fill:none\" points=\"\n",
       "  1875.25,1423.18 1875.25,1404.28 \n",
       "  \"/>\n",
       "<polyline clip-path=\"url(#clip180)\" style=\"stroke:#000000; stroke-linecap:round; stroke-linejoin:round; stroke-width:4; stroke-opacity:1; fill:none\" points=\"\n",
       "  2352.76,1423.18 2352.76,1404.28 \n",
       "  \"/>\n",
       "<path clip-path=\"url(#clip180)\" d=\"M420.901 1454.1 Q417.29 1454.1 415.461 1457.66 Q413.656 1461.2 413.656 1468.33 Q413.656 1475.44 415.461 1479.01 Q417.29 1482.55 420.901 1482.55 Q424.536 1482.55 426.341 1479.01 Q428.17 1475.44 428.17 1468.33 Q428.17 1461.2 426.341 1457.66 Q424.536 1454.1 420.901 1454.1 M420.901 1450.39 Q426.711 1450.39 429.767 1455 Q432.846 1459.58 432.846 1468.33 Q432.846 1477.06 429.767 1481.67 Q426.711 1486.25 420.901 1486.25 Q415.091 1486.25 412.012 1481.67 Q408.957 1477.06 408.957 1468.33 Q408.957 1459.58 412.012 1455 Q415.091 1450.39 420.901 1450.39 Z\" fill=\"#000000\" fill-rule=\"evenodd\" fill-opacity=\"1\" /><path clip-path=\"url(#clip180)\" d=\"M441.063 1479.7 L445.947 1479.7 L445.947 1485.58 L441.063 1485.58 L441.063 1479.7 Z\" fill=\"#000000\" fill-rule=\"evenodd\" fill-opacity=\"1\" /><path clip-path=\"url(#clip180)\" d=\"M460.16 1481.64 L476.48 1481.64 L476.48 1485.58 L454.535 1485.58 L454.535 1481.64 Q457.197 1478.89 461.781 1474.26 Q466.387 1469.61 467.568 1468.27 Q469.813 1465.74 470.693 1464.01 Q471.595 1462.25 471.595 1460.56 Q471.595 1457.8 469.651 1456.07 Q467.73 1454.33 464.628 1454.33 Q462.429 1454.33 459.975 1455.09 Q457.545 1455.86 454.767 1457.41 L454.767 1452.69 Q457.591 1451.55 460.045 1450.97 Q462.498 1450.39 464.535 1450.39 Q469.906 1450.39 473.1 1453.08 Q476.294 1455.77 476.294 1460.26 Q476.294 1462.39 475.484 1464.31 Q474.697 1466.2 472.591 1468.8 Q472.012 1469.47 468.91 1472.69 Q465.808 1475.88 460.16 1481.64 Z\" fill=\"#000000\" fill-rule=\"evenodd\" fill-opacity=\"1\" /><path clip-path=\"url(#clip180)\" d=\"M897.369 1454.1 Q893.758 1454.1 891.929 1457.66 Q890.124 1461.2 890.124 1468.33 Q890.124 1475.44 891.929 1479.01 Q893.758 1482.55 897.369 1482.55 Q901.003 1482.55 902.809 1479.01 Q904.637 1475.44 904.637 1468.33 Q904.637 1461.2 902.809 1457.66 Q901.003 1454.1 897.369 1454.1 M897.369 1450.39 Q903.179 1450.39 906.235 1455 Q909.313 1459.58 909.313 1468.33 Q909.313 1477.06 906.235 1481.67 Q903.179 1486.25 897.369 1486.25 Q891.559 1486.25 888.48 1481.67 Q885.425 1477.06 885.425 1468.33 Q885.425 1459.58 888.48 1455 Q891.559 1450.39 897.369 1450.39 Z\" fill=\"#000000\" fill-rule=\"evenodd\" fill-opacity=\"1\" /><path clip-path=\"url(#clip180)\" d=\"M917.531 1479.7 L922.415 1479.7 L922.415 1485.58 L917.531 1485.58 L917.531 1479.7 Z\" fill=\"#000000\" fill-rule=\"evenodd\" fill-opacity=\"1\" /><path clip-path=\"url(#clip180)\" d=\"M945.447 1455.09 L933.642 1473.54 L945.447 1473.54 L945.447 1455.09 M944.221 1451.02 L950.1 1451.02 L950.1 1473.54 L955.031 1473.54 L955.031 1477.43 L950.1 1477.43 L950.1 1485.58 L945.447 1485.58 L945.447 1477.43 L929.846 1477.43 L929.846 1472.92 L944.221 1451.02 Z\" fill=\"#000000\" fill-rule=\"evenodd\" fill-opacity=\"1\" /><path clip-path=\"url(#clip180)\" d=\"M1375.04 1454.1 Q1371.43 1454.1 1369.6 1457.66 Q1367.8 1461.2 1367.8 1468.33 Q1367.8 1475.44 1369.6 1479.01 Q1371.43 1482.55 1375.04 1482.55 Q1378.67 1482.55 1380.48 1479.01 Q1382.31 1475.44 1382.31 1468.33 Q1382.31 1461.2 1380.48 1457.66 Q1378.67 1454.1 1375.04 1454.1 M1375.04 1450.39 Q1380.85 1450.39 1383.91 1455 Q1386.98 1459.58 1386.98 1468.33 Q1386.98 1477.06 1383.91 1481.67 Q1380.85 1486.25 1375.04 1486.25 Q1369.23 1486.25 1366.15 1481.67 Q1363.1 1477.06 1363.1 1468.33 Q1363.1 1459.58 1366.15 1455 Q1369.23 1450.39 1375.04 1450.39 Z\" fill=\"#000000\" fill-rule=\"evenodd\" fill-opacity=\"1\" /><path clip-path=\"url(#clip180)\" d=\"M1395.2 1479.7 L1400.09 1479.7 L1400.09 1485.58 L1395.2 1485.58 L1395.2 1479.7 Z\" fill=\"#000000\" fill-rule=\"evenodd\" fill-opacity=\"1\" /><path clip-path=\"url(#clip180)\" d=\"M1420.85 1466.44 Q1417.7 1466.44 1415.85 1468.59 Q1414.02 1470.74 1414.02 1474.49 Q1414.02 1478.22 1415.85 1480.39 Q1417.7 1482.55 1420.85 1482.55 Q1424 1482.55 1425.83 1480.39 Q1427.68 1478.22 1427.68 1474.49 Q1427.68 1470.74 1425.83 1468.59 Q1424 1466.44 1420.85 1466.44 M1430.13 1451.78 L1430.13 1456.04 Q1428.37 1455.21 1426.57 1454.77 Q1424.79 1454.33 1423.03 1454.33 Q1418.4 1454.33 1415.94 1457.45 Q1413.51 1460.58 1413.17 1466.9 Q1414.53 1464.89 1416.59 1463.82 Q1418.65 1462.73 1421.13 1462.73 Q1426.34 1462.73 1429.35 1465.9 Q1432.38 1469.05 1432.38 1474.49 Q1432.38 1479.82 1429.23 1483.03 Q1426.08 1486.25 1420.85 1486.25 Q1414.86 1486.25 1411.68 1481.67 Q1408.51 1477.06 1408.51 1468.33 Q1408.51 1460.14 1412.4 1455.28 Q1416.29 1450.39 1422.84 1450.39 Q1424.6 1450.39 1426.38 1450.74 Q1428.19 1451.09 1430.13 1451.78 Z\" fill=\"#000000\" fill-rule=\"evenodd\" fill-opacity=\"1\" /><path clip-path=\"url(#clip180)\" d=\"M1852.68 1454.1 Q1849.07 1454.1 1847.24 1457.66 Q1845.43 1461.2 1845.43 1468.33 Q1845.43 1475.44 1847.24 1479.01 Q1849.07 1482.55 1852.68 1482.55 Q1856.31 1482.55 1858.12 1479.01 Q1859.95 1475.44 1859.95 1468.33 Q1859.95 1461.2 1858.12 1457.66 Q1856.31 1454.1 1852.68 1454.1 M1852.68 1450.39 Q1858.49 1450.39 1861.54 1455 Q1864.62 1459.58 1864.62 1468.33 Q1864.62 1477.06 1861.54 1481.67 Q1858.49 1486.25 1852.68 1486.25 Q1846.87 1486.25 1843.79 1481.67 Q1840.73 1477.06 1840.73 1468.33 Q1840.73 1459.58 1843.79 1455 Q1846.87 1450.39 1852.68 1450.39 Z\" fill=\"#000000\" fill-rule=\"evenodd\" fill-opacity=\"1\" /><path clip-path=\"url(#clip180)\" d=\"M1872.84 1479.7 L1877.72 1479.7 L1877.72 1485.58 L1872.84 1485.58 L1872.84 1479.7 Z\" fill=\"#000000\" fill-rule=\"evenodd\" fill-opacity=\"1\" /><path clip-path=\"url(#clip180)\" d=\"M1897.91 1469.17 Q1894.58 1469.17 1892.65 1470.95 Q1890.76 1472.73 1890.76 1475.86 Q1890.76 1478.98 1892.65 1480.77 Q1894.58 1482.55 1897.91 1482.55 Q1901.24 1482.55 1903.16 1480.77 Q1905.08 1478.96 1905.08 1475.86 Q1905.08 1472.73 1903.16 1470.95 Q1901.26 1469.17 1897.91 1469.17 M1893.23 1467.18 Q1890.22 1466.44 1888.53 1464.38 Q1886.87 1462.32 1886.87 1459.35 Q1886.87 1455.21 1889.81 1452.8 Q1892.77 1450.39 1897.91 1450.39 Q1903.07 1450.39 1906.01 1452.8 Q1908.95 1455.21 1908.95 1459.35 Q1908.95 1462.32 1907.26 1464.38 Q1905.59 1466.44 1902.61 1467.18 Q1905.99 1467.96 1907.86 1470.26 Q1909.76 1472.55 1909.76 1475.86 Q1909.76 1480.88 1906.68 1483.57 Q1903.63 1486.25 1897.91 1486.25 Q1892.19 1486.25 1889.11 1483.57 Q1886.06 1480.88 1886.06 1475.86 Q1886.06 1472.55 1887.95 1470.26 Q1889.85 1467.96 1893.23 1467.18 M1891.52 1459.79 Q1891.52 1462.48 1893.19 1463.98 Q1894.88 1465.49 1897.91 1465.49 Q1900.92 1465.49 1902.61 1463.98 Q1904.32 1462.48 1904.32 1459.79 Q1904.32 1457.11 1902.61 1455.6 Q1900.92 1454.1 1897.91 1454.1 Q1894.88 1454.1 1893.19 1455.6 Q1891.52 1457.11 1891.52 1459.79 Z\" fill=\"#000000\" fill-rule=\"evenodd\" fill-opacity=\"1\" /><path clip-path=\"url(#clip180)\" d=\"M2319.91 1481.64 L2327.55 1481.64 L2327.55 1455.28 L2319.24 1456.95 L2319.24 1452.69 L2327.5 1451.02 L2332.18 1451.02 L2332.18 1481.64 L2339.82 1481.64 L2339.82 1485.58 L2319.91 1485.58 L2319.91 1481.64 Z\" fill=\"#000000\" fill-rule=\"evenodd\" fill-opacity=\"1\" /><path clip-path=\"url(#clip180)\" d=\"M2349.26 1479.7 L2354.14 1479.7 L2354.14 1485.58 L2349.26 1485.58 L2349.26 1479.7 Z\" fill=\"#000000\" fill-rule=\"evenodd\" fill-opacity=\"1\" /><path clip-path=\"url(#clip180)\" d=\"M2374.33 1454.1 Q2370.72 1454.1 2368.89 1457.66 Q2367.08 1461.2 2367.08 1468.33 Q2367.08 1475.44 2368.89 1479.01 Q2370.72 1482.55 2374.33 1482.55 Q2377.96 1482.55 2379.77 1479.01 Q2381.6 1475.44 2381.6 1468.33 Q2381.6 1461.2 2379.77 1457.66 Q2377.96 1454.1 2374.33 1454.1 M2374.33 1450.39 Q2380.14 1450.39 2383.2 1455 Q2386.27 1459.58 2386.27 1468.33 Q2386.27 1477.06 2383.2 1481.67 Q2380.14 1486.25 2374.33 1486.25 Q2368.52 1486.25 2365.44 1481.67 Q2362.39 1477.06 2362.39 1468.33 Q2362.39 1459.58 2365.44 1455 Q2368.52 1450.39 2374.33 1450.39 Z\" fill=\"#000000\" fill-rule=\"evenodd\" fill-opacity=\"1\" /><path clip-path=\"url(#clip180)\" d=\"M1146.92 1537.81 L1146.92 1518.52 L1152.78 1518.52 L1152.78 1568.04 L1146.92 1568.04 L1146.92 1562.7 Q1145.08 1565.88 1142.25 1567.44 Q1139.44 1568.97 1135.5 1568.97 Q1129.04 1568.97 1124.96 1563.81 Q1120.92 1558.65 1120.92 1550.25 Q1120.92 1541.85 1124.96 1536.69 Q1129.04 1531.54 1135.5 1531.54 Q1139.44 1531.54 1142.25 1533.1 Q1145.08 1534.62 1146.92 1537.81 M1126.97 1550.25 Q1126.97 1556.71 1129.61 1560.4 Q1132.28 1564.07 1136.93 1564.07 Q1141.58 1564.07 1144.25 1560.4 Q1146.92 1556.71 1146.92 1550.25 Q1146.92 1543.79 1144.25 1540.13 Q1141.58 1536.44 1136.93 1536.44 Q1132.28 1536.44 1129.61 1540.13 Q1126.97 1543.79 1126.97 1550.25 Z\" fill=\"#000000\" fill-rule=\"evenodd\" fill-opacity=\"1\" /><path clip-path=\"url(#clip180)\" d=\"M1195.34 1548.76 L1195.34 1551.62 L1168.41 1551.62 Q1168.79 1557.67 1172.04 1560.85 Q1175.31 1564 1181.14 1564 Q1184.51 1564 1187.66 1563.17 Q1190.85 1562.35 1193.97 1560.69 L1193.97 1566.23 Q1190.82 1567.57 1187.51 1568.27 Q1184.2 1568.97 1180.79 1568.97 Q1172.26 1568.97 1167.26 1564 Q1162.3 1559.04 1162.3 1550.57 Q1162.3 1541.82 1167.01 1536.69 Q1171.75 1531.54 1179.77 1531.54 Q1186.96 1531.54 1191.13 1536.18 Q1195.34 1540.8 1195.34 1548.76 M1189.48 1547.04 Q1189.41 1542.23 1186.77 1539.37 Q1184.16 1536.5 1179.83 1536.5 Q1174.93 1536.5 1171.97 1539.27 Q1169.04 1542.04 1168.6 1547.07 L1189.48 1547.04 Z\" fill=\"#000000\" fill-rule=\"evenodd\" fill-opacity=\"1\" /><path clip-path=\"url(#clip180)\" d=\"M1210.61 1562.7 L1210.61 1581.6 L1204.72 1581.6 L1204.72 1532.4 L1210.61 1532.4 L1210.61 1537.81 Q1212.46 1534.62 1215.26 1533.1 Q1218.09 1531.54 1222.01 1531.54 Q1228.5 1531.54 1232.54 1536.69 Q1236.62 1541.85 1236.62 1550.25 Q1236.62 1558.65 1232.54 1563.81 Q1228.5 1568.97 1222.01 1568.97 Q1218.09 1568.97 1215.26 1567.44 Q1212.46 1565.88 1210.61 1562.7 M1230.54 1550.25 Q1230.54 1543.79 1227.86 1540.13 Q1225.22 1536.44 1220.58 1536.44 Q1215.93 1536.44 1213.25 1540.13 Q1210.61 1543.79 1210.61 1550.25 Q1210.61 1556.71 1213.25 1560.4 Q1215.93 1564.07 1220.58 1564.07 Q1225.22 1564.07 1227.86 1560.4 Q1230.54 1556.71 1230.54 1550.25 Z\" fill=\"#000000\" fill-rule=\"evenodd\" fill-opacity=\"1\" /><path clip-path=\"url(#clip180)\" d=\"M1262.53 1550.12 Q1255.43 1550.12 1252.69 1551.75 Q1249.95 1553.37 1249.95 1557.29 Q1249.95 1560.4 1251.99 1562.25 Q1254.06 1564.07 1257.59 1564.07 Q1262.46 1564.07 1265.39 1560.63 Q1268.35 1557.16 1268.35 1551.43 L1268.35 1550.12 L1262.53 1550.12 M1274.21 1547.71 L1274.21 1568.04 L1268.35 1568.04 L1268.35 1562.63 Q1266.34 1565.88 1263.35 1567.44 Q1260.36 1568.97 1256.03 1568.97 Q1250.56 1568.97 1247.31 1565.91 Q1244.1 1562.82 1244.1 1557.67 Q1244.1 1551.65 1248.11 1548.6 Q1252.15 1545.54 1260.14 1545.54 L1268.35 1545.54 L1268.35 1544.97 Q1268.35 1540.93 1265.68 1538.73 Q1263.03 1536.5 1258.23 1536.5 Q1255.17 1536.5 1252.28 1537.23 Q1249.38 1537.97 1246.71 1539.43 L1246.71 1534.02 Q1249.92 1532.78 1252.94 1532.17 Q1255.97 1531.54 1258.83 1531.54 Q1266.57 1531.54 1270.39 1535.55 Q1274.21 1539.56 1274.21 1547.71 Z\" fill=\"#000000\" fill-rule=\"evenodd\" fill-opacity=\"1\" /><path clip-path=\"url(#clip180)\" d=\"M1306.93 1537.87 Q1305.94 1537.3 1304.76 1537.04 Q1303.62 1536.76 1302.22 1536.76 Q1297.25 1536.76 1294.58 1540 Q1291.93 1543.22 1291.93 1549.27 L1291.93 1568.04 L1286.05 1568.04 L1286.05 1532.4 L1291.93 1532.4 L1291.93 1537.93 Q1293.78 1534.69 1296.74 1533.13 Q1299.7 1531.54 1303.93 1531.54 Q1304.54 1531.54 1305.27 1531.63 Q1306 1531.7 1306.89 1531.85 L1306.93 1537.87 Z\" fill=\"#000000\" fill-rule=\"evenodd\" fill-opacity=\"1\" /><path clip-path=\"url(#clip180)\" d=\"M1318.86 1522.27 L1318.86 1532.4 L1330.92 1532.4 L1330.92 1536.95 L1318.86 1536.95 L1318.86 1556.3 Q1318.86 1560.66 1320.04 1561.9 Q1321.25 1563.14 1324.91 1563.14 L1330.92 1563.14 L1330.92 1568.04 L1324.91 1568.04 Q1318.13 1568.04 1315.55 1565.53 Q1312.97 1562.98 1312.97 1556.3 L1312.97 1536.95 L1308.68 1536.95 L1308.68 1532.4 L1312.97 1532.4 L1312.97 1522.27 L1318.86 1522.27 Z\" fill=\"#000000\" fill-rule=\"evenodd\" fill-opacity=\"1\" /><path clip-path=\"url(#clip180)\" d=\"M1338.02 1553.98 L1338.02 1532.4 L1343.88 1532.4 L1343.88 1553.75 Q1343.88 1558.81 1345.85 1561.36 Q1347.83 1563.87 1351.77 1563.87 Q1356.51 1563.87 1359.25 1560.85 Q1362.02 1557.83 1362.02 1552.61 L1362.02 1532.4 L1367.88 1532.4 L1367.88 1568.04 L1362.02 1568.04 L1362.02 1562.57 Q1359.89 1565.82 1357.06 1567.41 Q1354.25 1568.97 1350.53 1568.97 Q1344.39 1568.97 1341.21 1565.15 Q1338.02 1561.33 1338.02 1553.98 M1352.76 1531.54 L1352.76 1531.54 Z\" fill=\"#000000\" fill-rule=\"evenodd\" fill-opacity=\"1\" /><path clip-path=\"url(#clip180)\" d=\"M1400.6 1537.87 Q1399.61 1537.3 1398.43 1537.04 Q1397.29 1536.76 1395.89 1536.76 Q1390.92 1536.76 1388.25 1540 Q1385.61 1543.22 1385.61 1549.27 L1385.61 1568.04 L1379.72 1568.04 L1379.72 1532.4 L1385.61 1532.4 L1385.61 1537.93 Q1387.45 1534.69 1390.41 1533.13 Q1393.37 1531.54 1397.61 1531.54 Q1398.21 1531.54 1398.94 1531.63 Q1399.67 1531.7 1400.57 1531.85 L1400.6 1537.87 Z\" fill=\"#000000\" fill-rule=\"evenodd\" fill-opacity=\"1\" /><path clip-path=\"url(#clip180)\" d=\"M1435.8 1548.76 L1435.8 1551.62 L1408.87 1551.62 Q1409.25 1557.67 1412.5 1560.85 Q1415.78 1564 1421.6 1564 Q1424.98 1564 1428.13 1563.17 Q1431.31 1562.35 1434.43 1560.69 L1434.43 1566.23 Q1431.28 1567.57 1427.97 1568.27 Q1424.66 1568.97 1421.25 1568.97 Q1412.72 1568.97 1407.73 1564 Q1402.76 1559.04 1402.76 1550.57 Q1402.76 1541.82 1407.47 1536.69 Q1412.21 1531.54 1420.24 1531.54 Q1427.43 1531.54 1431.6 1536.18 Q1435.8 1540.8 1435.8 1548.76 M1429.94 1547.04 Q1429.88 1542.23 1427.24 1539.37 Q1424.63 1536.5 1420.3 1536.5 Q1415.4 1536.5 1412.44 1539.27 Q1409.51 1542.04 1409.06 1547.07 L1429.94 1547.04 Z\" fill=\"#000000\" fill-rule=\"evenodd\" fill-opacity=\"1\" /><polyline clip-path=\"url(#clip182)\" style=\"stroke:#000000; stroke-linecap:round; stroke-linejoin:round; stroke-width:2; stroke-opacity:0.1; fill:none\" points=\"\n",
       "  203.964,1343.8 2352.76,1343.8 \n",
       "  \"/>\n",
       "<polyline clip-path=\"url(#clip182)\" style=\"stroke:#000000; stroke-linecap:round; stroke-linejoin:round; stroke-width:2; stroke-opacity:0.1; fill:none\" points=\"\n",
       "  203.964,1077.54 2352.76,1077.54 \n",
       "  \"/>\n",
       "<polyline clip-path=\"url(#clip182)\" style=\"stroke:#000000; stroke-linecap:round; stroke-linejoin:round; stroke-width:2; stroke-opacity:0.1; fill:none\" points=\"\n",
       "  203.964,811.29 2352.76,811.29 \n",
       "  \"/>\n",
       "<polyline clip-path=\"url(#clip182)\" style=\"stroke:#000000; stroke-linecap:round; stroke-linejoin:round; stroke-width:2; stroke-opacity:0.1; fill:none\" points=\"\n",
       "  203.964,545.037 2352.76,545.037 \n",
       "  \"/>\n",
       "<polyline clip-path=\"url(#clip182)\" style=\"stroke:#000000; stroke-linecap:round; stroke-linejoin:round; stroke-width:2; stroke-opacity:0.1; fill:none\" points=\"\n",
       "  203.964,278.784 2352.76,278.784 \n",
       "  \"/>\n",
       "<polyline clip-path=\"url(#clip180)\" style=\"stroke:#000000; stroke-linecap:round; stroke-linejoin:round; stroke-width:4; stroke-opacity:1; fill:none\" points=\"\n",
       "  203.964,1423.18 203.964,123.472 \n",
       "  \"/>\n",
       "<polyline clip-path=\"url(#clip180)\" style=\"stroke:#000000; stroke-linecap:round; stroke-linejoin:round; stroke-width:4; stroke-opacity:1; fill:none\" points=\"\n",
       "  203.964,1343.8 222.861,1343.8 \n",
       "  \"/>\n",
       "<polyline clip-path=\"url(#clip180)\" style=\"stroke:#000000; stroke-linecap:round; stroke-linejoin:round; stroke-width:4; stroke-opacity:1; fill:none\" points=\"\n",
       "  203.964,1077.54 222.861,1077.54 \n",
       "  \"/>\n",
       "<polyline clip-path=\"url(#clip180)\" style=\"stroke:#000000; stroke-linecap:round; stroke-linejoin:round; stroke-width:4; stroke-opacity:1; fill:none\" points=\"\n",
       "  203.964,811.29 222.861,811.29 \n",
       "  \"/>\n",
       "<polyline clip-path=\"url(#clip180)\" style=\"stroke:#000000; stroke-linecap:round; stroke-linejoin:round; stroke-width:4; stroke-opacity:1; fill:none\" points=\"\n",
       "  203.964,545.037 222.861,545.037 \n",
       "  \"/>\n",
       "<polyline clip-path=\"url(#clip180)\" style=\"stroke:#000000; stroke-linecap:round; stroke-linejoin:round; stroke-width:4; stroke-opacity:1; fill:none\" points=\"\n",
       "  203.964,278.784 222.861,278.784 \n",
       "  \"/>\n",
       "<path clip-path=\"url(#clip180)\" d=\"M156.019 1329.59 Q152.408 1329.59 150.579 1333.16 Q148.774 1336.7 148.774 1343.83 Q148.774 1350.94 150.579 1354.5 Q152.408 1358.04 156.019 1358.04 Q159.653 1358.04 161.459 1354.5 Q163.288 1350.94 163.288 1343.83 Q163.288 1336.7 161.459 1333.16 Q159.653 1329.59 156.019 1329.59 M156.019 1325.89 Q161.829 1325.89 164.885 1330.5 Q167.964 1335.08 167.964 1343.83 Q167.964 1352.56 164.885 1357.16 Q161.829 1361.75 156.019 1361.75 Q150.209 1361.75 147.13 1357.16 Q144.075 1352.56 144.075 1343.83 Q144.075 1335.08 147.13 1330.5 Q150.209 1325.89 156.019 1325.89 Z\" fill=\"#000000\" fill-rule=\"evenodd\" fill-opacity=\"1\" /><path clip-path=\"url(#clip180)\" d=\"M147.061 1060.26 L165.417 1060.26 L165.417 1064.2 L151.343 1064.2 L151.343 1072.67 Q152.362 1072.32 153.38 1072.16 Q154.399 1071.98 155.417 1071.98 Q161.204 1071.98 164.584 1075.15 Q167.964 1078.32 167.964 1083.73 Q167.964 1089.31 164.491 1092.42 Q161.019 1095.49 154.7 1095.49 Q152.524 1095.49 150.255 1095.12 Q148.01 1094.75 145.603 1094.01 L145.603 1089.31 Q147.686 1090.45 149.908 1091 Q152.13 1091.56 154.607 1091.56 Q158.612 1091.56 160.95 1089.45 Q163.288 1087.35 163.288 1083.73 Q163.288 1080.12 160.95 1078.02 Q158.612 1075.91 154.607 1075.91 Q152.732 1075.91 150.857 1076.33 Q149.005 1076.74 147.061 1077.62 L147.061 1060.26 Z\" fill=\"#000000\" fill-rule=\"evenodd\" fill-opacity=\"1\" /><path clip-path=\"url(#clip180)\" d=\"M116.668 824.634 L124.306 824.634 L124.306 798.269 L115.996 799.936 L115.996 795.676 L124.26 794.01 L128.936 794.01 L128.936 824.634 L136.575 824.634 L136.575 828.57 L116.668 828.57 L116.668 824.634 Z\" fill=\"#000000\" fill-rule=\"evenodd\" fill-opacity=\"1\" /><path clip-path=\"url(#clip180)\" d=\"M156.019 797.088 Q152.408 797.088 150.579 800.653 Q148.774 804.195 148.774 811.324 Q148.774 818.431 150.579 821.996 Q152.408 825.537 156.019 825.537 Q159.653 825.537 161.459 821.996 Q163.288 818.431 163.288 811.324 Q163.288 804.195 161.459 800.653 Q159.653 797.088 156.019 797.088 M156.019 793.385 Q161.829 793.385 164.885 797.991 Q167.964 802.574 167.964 811.324 Q167.964 820.051 164.885 824.658 Q161.829 829.241 156.019 829.241 Q150.209 829.241 147.13 824.658 Q144.075 820.051 144.075 811.324 Q144.075 802.574 147.13 797.991 Q150.209 793.385 156.019 793.385 Z\" fill=\"#000000\" fill-rule=\"evenodd\" fill-opacity=\"1\" /><path clip-path=\"url(#clip180)\" d=\"M117.663 558.382 L125.302 558.382 L125.302 532.016 L116.992 533.683 L116.992 529.424 L125.255 527.757 L129.931 527.757 L129.931 558.382 L137.57 558.382 L137.57 562.317 L117.663 562.317 L117.663 558.382 Z\" fill=\"#000000\" fill-rule=\"evenodd\" fill-opacity=\"1\" /><path clip-path=\"url(#clip180)\" d=\"M147.061 527.757 L165.417 527.757 L165.417 531.692 L151.343 531.692 L151.343 540.164 Q152.362 539.817 153.38 539.655 Q154.399 539.47 155.417 539.47 Q161.204 539.47 164.584 542.641 Q167.964 545.812 167.964 551.229 Q167.964 556.808 164.491 559.909 Q161.019 562.988 154.7 562.988 Q152.524 562.988 150.255 562.618 Q148.01 562.247 145.603 561.507 L145.603 556.808 Q147.686 557.942 149.908 558.497 Q152.13 559.053 154.607 559.053 Q158.612 559.053 160.95 556.947 Q163.288 554.84 163.288 551.229 Q163.288 547.618 160.95 545.511 Q158.612 543.405 154.607 543.405 Q152.732 543.405 150.857 543.822 Q149.005 544.238 147.061 545.118 L147.061 527.757 Z\" fill=\"#000000\" fill-rule=\"evenodd\" fill-opacity=\"1\" /><path clip-path=\"url(#clip180)\" d=\"M119.885 292.129 L136.204 292.129 L136.204 296.064 L114.26 296.064 L114.26 292.129 Q116.922 289.374 121.505 284.745 Q126.112 280.092 127.292 278.749 Q129.538 276.226 130.417 274.49 Q131.32 272.731 131.32 271.041 Q131.32 268.286 129.376 266.55 Q127.455 264.814 124.353 264.814 Q122.154 264.814 119.7 265.578 Q117.269 266.342 114.492 267.893 L114.492 263.171 Q117.316 262.037 119.769 261.458 Q122.223 260.879 124.26 260.879 Q129.63 260.879 132.825 263.564 Q136.019 266.249 136.019 270.74 Q136.019 272.87 135.209 274.791 Q134.422 276.689 132.316 279.282 Q131.737 279.953 128.635 283.171 Q125.533 286.365 119.885 292.129 Z\" fill=\"#000000\" fill-rule=\"evenodd\" fill-opacity=\"1\" /><path clip-path=\"url(#clip180)\" d=\"M156.019 264.583 Q152.408 264.583 150.579 268.148 Q148.774 271.689 148.774 278.819 Q148.774 285.925 150.579 289.49 Q152.408 293.032 156.019 293.032 Q159.653 293.032 161.459 289.49 Q163.288 285.925 163.288 278.819 Q163.288 271.689 161.459 268.148 Q159.653 264.583 156.019 264.583 M156.019 260.879 Q161.829 260.879 164.885 265.486 Q167.964 270.069 167.964 278.819 Q167.964 287.546 164.885 292.152 Q161.829 296.735 156.019 296.735 Q150.209 296.735 147.13 292.152 Q144.075 287.546 144.075 278.819 Q144.075 270.069 147.13 265.486 Q150.209 260.879 156.019 260.879 Z\" fill=\"#000000\" fill-rule=\"evenodd\" fill-opacity=\"1\" /><path clip-path=\"url(#clip180)\" d=\"M28.3562 839.641 L28.3562 833.784 L56.1743 826.464 L28.3562 819.175 L28.3562 812.268 L56.1743 804.948 L28.3562 797.659 L28.3562 791.802 L64.0042 801.128 L64.0042 808.035 L34.7856 815.706 L64.0042 823.408 L64.0042 830.315 L28.3562 839.641 Z\" fill=\"#000000\" fill-rule=\"evenodd\" fill-opacity=\"1\" /><path clip-path=\"url(#clip180)\" d=\"M46.0847 766.722 Q46.0847 773.819 47.7079 776.557 Q49.3312 779.294 53.2461 779.294 Q56.3653 779.294 58.2114 777.257 Q60.0256 775.188 60.0256 771.655 Q60.0256 766.785 56.5881 763.857 Q53.1188 760.897 47.3897 760.897 L46.0847 760.897 L46.0847 766.722 M43.6657 755.04 L64.0042 755.04 L64.0042 760.897 L58.5933 760.897 Q61.8398 762.902 63.3994 765.894 Q64.9272 768.886 64.9272 773.215 Q64.9272 778.689 61.8716 781.936 Q58.7843 785.15 53.6281 785.15 Q47.6125 785.15 44.5569 781.14 Q41.5014 777.098 41.5014 769.109 L41.5014 760.897 L40.9285 760.897 Q36.8862 760.897 34.6901 763.571 Q32.4621 766.212 32.4621 771.018 Q32.4621 774.074 33.1941 776.97 Q33.9262 779.867 35.3903 782.54 L29.9795 782.54 Q28.7381 779.326 28.1334 776.302 Q27.4968 773.278 27.4968 770.414 Q27.4968 762.679 31.5072 758.86 Q35.5176 755.04 43.6657 755.04 Z\" fill=\"#000000\" fill-rule=\"evenodd\" fill-opacity=\"1\" /><path clip-path=\"url(#clip180)\" d=\"M28.3562 742.977 L28.3562 737.121 L64.0042 737.121 L64.0042 742.977 L28.3562 742.977 M14.479 742.977 L14.479 737.121 L21.895 737.121 L21.895 742.977 L14.479 742.977 Z\" fill=\"#000000\" fill-rule=\"evenodd\" fill-opacity=\"1\" /><path clip-path=\"url(#clip180)\" d=\"M18.2347 719.074 L28.3562 719.074 L28.3562 707.011 L32.9077 707.011 L32.9077 719.074 L52.2594 719.074 Q56.6199 719.074 57.8613 717.897 Q59.1026 716.687 59.1026 713.027 L59.1026 707.011 L64.0042 707.011 L64.0042 713.027 Q64.0042 719.806 61.4897 722.384 Q58.9434 724.963 52.2594 724.963 L32.9077 724.963 L32.9077 729.259 L28.3562 729.259 L28.3562 724.963 L18.2347 724.963 L18.2347 719.074 Z\" fill=\"#000000\" fill-rule=\"evenodd\" fill-opacity=\"1\" /><path clip-path=\"url(#clip180)\" d=\"M740.967 34.0924 L740.967 9.54393 L748.42 9.54393 L748.42 72.576 L740.967 72.576 L740.967 65.7705 Q738.617 69.8214 735.012 71.8063 Q731.447 73.7508 726.424 73.7508 Q718.201 73.7508 713.016 67.1883 Q707.871 60.6258 707.871 49.9314 Q707.871 39.2371 713.016 32.6746 Q718.201 26.1121 726.424 26.1121 Q731.447 26.1121 735.012 28.0971 Q738.617 30.0415 740.967 34.0924 M715.568 49.9314 Q715.568 58.1548 718.93 62.8538 Q722.333 67.5124 728.247 67.5124 Q734.161 67.5124 737.564 62.8538 Q740.967 58.1548 740.967 49.9314 Q740.967 41.7081 737.564 37.0496 Q734.161 32.3505 728.247 32.3505 Q722.333 32.3505 718.93 37.0496 Q715.568 41.7081 715.568 49.9314 Z\" fill=\"#000000\" fill-rule=\"evenodd\" fill-opacity=\"1\" /><path clip-path=\"url(#clip180)\" d=\"M782.327 17.4837 Q776.007 17.4837 772.807 23.7221 Q769.647 29.92 769.647 42.3968 Q769.647 54.833 772.807 61.0714 Q776.007 67.2693 782.327 67.2693 Q788.686 67.2693 791.846 61.0714 Q795.046 54.833 795.046 42.3968 Q795.046 29.92 791.846 23.7221 Q788.686 17.4837 782.327 17.4837 M782.327 11.0023 Q792.494 11.0023 797.841 19.0636 Q803.229 27.0843 803.229 42.3968 Q803.229 57.6687 797.841 65.73 Q792.494 73.7508 782.327 73.7508 Q772.159 73.7508 766.771 65.73 Q761.424 57.6687 761.424 42.3968 Q761.424 27.0843 766.771 19.0636 Q772.159 11.0023 782.327 11.0023 Z\" fill=\"#000000\" fill-rule=\"evenodd\" fill-opacity=\"1\" /><path clip-path=\"url(#clip180)\" d=\"M843.9 34.9026 L895.833 34.9026 L895.833 41.7081 L843.9 41.7081 L843.9 34.9026 M843.9 51.4303 L895.833 51.4303 L895.833 58.3168 L843.9 58.3168 L843.9 51.4303 Z\" fill=\"#000000\" fill-rule=\"evenodd\" fill-opacity=\"1\" /><path clip-path=\"url(#clip180)\" d=\"M957.366 17.4837 Q951.047 17.4837 947.846 23.7221 Q944.687 29.92 944.687 42.3968 Q944.687 54.833 947.846 61.0714 Q951.047 67.2693 957.366 67.2693 Q963.726 67.2693 966.886 61.0714 Q970.086 54.833 970.086 42.3968 Q970.086 29.92 966.886 23.7221 Q963.726 17.4837 957.366 17.4837 M957.366 11.0023 Q967.534 11.0023 972.881 19.0636 Q978.269 27.0843 978.269 42.3968 Q978.269 57.6687 972.881 65.73 Q967.534 73.7508 957.366 73.7508 Q947.198 73.7508 941.811 65.73 Q936.463 57.6687 936.463 42.3968 Q936.463 27.0843 941.811 19.0636 Q947.198 11.0023 957.366 11.0023 Z\" fill=\"#000000\" fill-rule=\"evenodd\" fill-opacity=\"1\" /><path clip-path=\"url(#clip180)\" d=\"M992.649 62.2867 L1001.2 62.2867 L1001.2 72.576 L992.649 72.576 L992.649 62.2867 Z\" fill=\"#000000\" fill-rule=\"evenodd\" fill-opacity=\"1\" /><path clip-path=\"url(#clip180)\" d=\"M1037.53 39.075 Q1032.02 39.075 1028.78 42.8424 Q1025.58 46.6097 1025.58 53.1722 Q1025.58 59.6941 1028.78 63.502 Q1032.02 67.2693 1037.53 67.2693 Q1043.04 67.2693 1046.24 63.502 Q1049.48 59.6941 1049.48 53.1722 Q1049.48 46.6097 1046.24 42.8424 Q1043.04 39.075 1037.53 39.075 M1053.78 13.4328 L1053.78 20.8865 Q1050.7 19.4281 1047.54 18.6585 Q1044.42 17.8888 1041.34 17.8888 Q1033.24 17.8888 1028.95 23.3575 Q1024.69 28.8262 1024.08 39.8852 Q1026.47 36.3609 1030.08 34.4975 Q1033.69 32.5936 1038.02 32.5936 Q1047.13 32.5936 1052.4 38.1433 Q1057.71 43.6525 1057.71 53.1722 Q1057.71 62.4892 1052.2 68.12 Q1046.69 73.7508 1037.53 73.7508 Q1027.04 73.7508 1021.49 65.73 Q1015.94 57.6687 1015.94 42.3968 Q1015.94 28.0566 1022.75 19.5497 Q1029.55 11.0023 1041.02 11.0023 Q1044.1 11.0023 1047.22 11.6099 Q1050.37 12.2175 1053.78 13.4328 Z\" fill=\"#000000\" fill-rule=\"evenodd\" fill-opacity=\"1\" /><path clip-path=\"url(#clip180)\" d=\"M1073.22 65.6895 L1086.59 65.6895 L1086.59 19.5497 L1072.05 22.4663 L1072.05 15.0127 L1086.51 12.096 L1094.69 12.096 L1094.69 65.6895 L1108.06 65.6895 L1108.06 72.576 L1073.22 72.576 L1073.22 65.6895 Z\" fill=\"#000000\" fill-rule=\"evenodd\" fill-opacity=\"1\" /><path clip-path=\"url(#clip180)\" d=\"M1131.64 65.6895 L1160.19 65.6895 L1160.19 72.576 L1121.79 72.576 L1121.79 65.6895 Q1126.45 60.8689 1134.47 52.7671 Q1142.53 44.6248 1144.6 42.2752 Q1148.53 37.8598 1150.07 34.8216 Q1151.65 31.7429 1151.65 28.7857 Q1151.65 23.9651 1148.24 20.927 Q1144.88 17.8888 1139.45 17.8888 Q1135.61 17.8888 1131.31 19.2256 Q1127.06 20.5624 1122.2 23.2765 L1122.2 15.0127 Q1127.14 13.0277 1131.43 12.015 Q1135.73 11.0023 1139.29 11.0023 Q1148.69 11.0023 1154.28 15.7013 Q1159.87 20.4004 1159.87 28.2591 Q1159.87 31.9859 1158.45 35.3482 Q1157.08 38.6699 1153.39 43.2069 Q1152.38 44.3817 1146.95 50.0125 Q1141.52 55.6027 1131.64 65.6895 Z\" fill=\"#000000\" fill-rule=\"evenodd\" fill-opacity=\"1\" /><path clip-path=\"url(#clip180)\" d=\"M1177.45 12.096 L1209.58 12.096 L1209.58 18.9825 L1184.95 18.9825 L1184.95 33.8088 Q1186.73 33.2012 1188.51 32.9176 Q1190.29 32.5936 1192.08 32.5936 Q1202.2 32.5936 1208.12 38.1433 Q1214.03 43.6931 1214.03 53.1722 Q1214.03 62.9348 1207.96 68.3631 Q1201.88 73.7508 1190.82 73.7508 Q1187.01 73.7508 1183.04 73.1026 Q1179.11 72.4545 1174.9 71.1582 L1174.9 62.9348 Q1178.55 64.9198 1182.43 65.892 Q1186.32 66.8642 1190.66 66.8642 Q1197.67 66.8642 1201.76 63.1779 Q1205.85 59.4916 1205.85 53.1722 Q1205.85 46.8528 1201.76 43.1664 Q1197.67 39.4801 1190.66 39.4801 Q1187.38 39.4801 1184.1 40.2093 Q1180.85 40.9384 1177.45 42.4778 L1177.45 12.096 Z\" fill=\"#000000\" fill-rule=\"evenodd\" fill-opacity=\"1\" /><path clip-path=\"url(#clip180)\" d=\"M1247.65 43.8551 Q1241.82 43.8551 1238.46 46.9743 Q1235.14 50.0935 1235.14 55.5622 Q1235.14 61.0309 1238.46 64.1501 Q1241.82 67.2693 1247.65 67.2693 Q1253.49 67.2693 1256.85 64.1501 Q1260.21 60.9904 1260.21 55.5622 Q1260.21 50.0935 1256.85 46.9743 Q1253.53 43.8551 1247.65 43.8551 M1239.47 40.3713 Q1234.2 39.075 1231.25 35.4697 Q1228.33 31.8644 1228.33 26.6793 Q1228.33 19.4281 1233.48 15.2152 Q1238.66 11.0023 1247.65 11.0023 Q1256.69 11.0023 1261.83 15.2152 Q1266.98 19.4281 1266.98 26.6793 Q1266.98 31.8644 1264.02 35.4697 Q1261.1 39.075 1255.88 40.3713 Q1261.79 41.7486 1265.07 45.759 Q1268.39 49.7694 1268.39 55.5622 Q1268.39 64.3527 1263.01 69.0517 Q1257.66 73.7508 1247.65 73.7508 Q1237.65 73.7508 1232.26 69.0517 Q1226.91 64.3527 1226.91 55.5622 Q1226.91 49.7694 1230.23 45.759 Q1233.56 41.7486 1239.47 40.3713 M1236.47 27.4489 Q1236.47 32.148 1239.39 34.7811 Q1242.35 37.4142 1247.65 37.4142 Q1252.92 37.4142 1255.88 34.7811 Q1258.87 32.148 1258.87 27.4489 Q1258.87 22.7499 1255.88 20.1168 Q1252.92 17.4837 1247.65 17.4837 Q1242.35 17.4837 1239.39 20.1168 Q1236.47 22.7499 1236.47 27.4489 Z\" fill=\"#000000\" fill-rule=\"evenodd\" fill-opacity=\"1\" /><path clip-path=\"url(#clip180)\" d=\"M1305.42 19.2256 L1284.76 51.5113 L1305.42 51.5113 L1305.42 19.2256 M1303.27 12.096 L1313.56 12.096 L1313.56 51.5113 L1322.19 51.5113 L1322.19 58.3168 L1313.56 58.3168 L1313.56 72.576 L1305.42 72.576 L1305.42 58.3168 L1278.12 58.3168 L1278.12 50.4176 L1303.27 12.096 Z\" fill=\"#000000\" fill-rule=\"evenodd\" fill-opacity=\"1\" /><path clip-path=\"url(#clip180)\" d=\"M1353.22 43.8551 Q1347.39 43.8551 1344.02 46.9743 Q1340.7 50.0935 1340.7 55.5622 Q1340.7 61.0309 1344.02 64.1501 Q1347.39 67.2693 1353.22 67.2693 Q1359.05 67.2693 1362.42 64.1501 Q1365.78 60.9904 1365.78 55.5622 Q1365.78 50.0935 1362.42 46.9743 Q1359.09 43.8551 1353.22 43.8551 M1345.04 40.3713 Q1339.77 39.075 1336.81 35.4697 Q1333.9 31.8644 1333.9 26.6793 Q1333.9 19.4281 1339.04 15.2152 Q1344.23 11.0023 1353.22 11.0023 Q1362.25 11.0023 1367.4 15.2152 Q1372.54 19.4281 1372.54 26.6793 Q1372.54 31.8644 1369.59 35.4697 Q1366.67 39.075 1361.44 40.3713 Q1367.36 41.7486 1370.64 45.759 Q1373.96 49.7694 1373.96 55.5622 Q1373.96 64.3527 1368.57 69.0517 Q1363.23 73.7508 1353.22 73.7508 Q1343.21 73.7508 1337.83 69.0517 Q1332.48 64.3527 1332.48 55.5622 Q1332.48 49.7694 1335.8 45.759 Q1339.12 41.7486 1345.04 40.3713 M1342.04 27.4489 Q1342.04 32.148 1344.96 34.7811 Q1347.91 37.4142 1353.22 37.4142 Q1358.49 37.4142 1361.44 34.7811 Q1364.44 32.148 1364.44 27.4489 Q1364.44 22.7499 1361.44 20.1168 Q1358.49 17.4837 1353.22 17.4837 Q1347.91 17.4837 1344.96 20.1168 Q1342.04 22.7499 1342.04 27.4489 Z\" fill=\"#000000\" fill-rule=\"evenodd\" fill-opacity=\"1\" /><path clip-path=\"url(#clip180)\" d=\"M1395.55 65.6895 L1424.11 65.6895 L1424.11 72.576 L1385.71 72.576 L1385.71 65.6895 Q1390.37 60.8689 1398.39 52.7671 Q1406.45 44.6248 1408.52 42.2752 Q1412.44 37.8598 1413.98 34.8216 Q1415.56 31.7429 1415.56 28.7857 Q1415.56 23.9651 1412.16 20.927 Q1408.8 17.8888 1403.37 17.8888 Q1399.52 17.8888 1395.23 19.2256 Q1390.97 20.5624 1386.11 23.2765 L1386.11 15.0127 Q1391.06 13.0277 1395.35 12.015 Q1399.64 11.0023 1403.21 11.0023 Q1412.61 11.0023 1418.2 15.7013 Q1423.79 20.4004 1423.79 28.2591 Q1423.79 31.9859 1422.37 35.3482 Q1420.99 38.6699 1417.31 43.2069 Q1416.29 44.3817 1410.86 50.0125 Q1405.44 55.6027 1395.55 65.6895 Z\" fill=\"#000000\" fill-rule=\"evenodd\" fill-opacity=\"1\" /><path clip-path=\"url(#clip180)\" d=\"M1466.08 39.9662 Q1471.95 41.222 1475.23 45.1919 Q1478.56 49.1618 1478.56 54.9951 Q1478.56 63.9476 1472.4 68.8492 Q1466.24 73.7508 1454.9 73.7508 Q1451.09 73.7508 1447.04 72.9811 Q1443.03 72.2519 1438.74 70.7531 L1438.74 62.8538 Q1442.14 64.8388 1446.19 65.8515 Q1450.24 66.8642 1454.66 66.8642 Q1462.35 66.8642 1466.36 63.826 Q1470.41 60.7879 1470.41 54.9951 Q1470.41 49.6479 1466.65 46.6502 Q1462.92 43.612 1456.23 43.612 L1449.19 43.612 L1449.19 36.8875 L1456.56 36.8875 Q1462.59 36.8875 1465.8 34.4975 Q1469 32.067 1469 27.5299 Q1469 22.8714 1465.67 20.4004 Q1462.39 17.8888 1456.23 17.8888 Q1452.87 17.8888 1449.02 18.618 Q1445.18 19.3471 1440.56 20.8865 L1440.56 13.5948 Q1445.22 12.2985 1449.27 11.6504 Q1453.36 11.0023 1456.96 11.0023 Q1466.28 11.0023 1471.71 15.2557 Q1477.14 19.4686 1477.14 26.6793 Q1477.14 31.7024 1474.26 35.1862 Q1471.39 38.6294 1466.08 39.9662 Z\" fill=\"#000000\" fill-rule=\"evenodd\" fill-opacity=\"1\" /><path clip-path=\"url(#clip180)\" d=\"M1494.15 12.096 L1526.28 12.096 L1526.28 18.9825 L1501.65 18.9825 L1501.65 33.8088 Q1503.43 33.2012 1505.21 32.9176 Q1506.99 32.5936 1508.78 32.5936 Q1518.9 32.5936 1524.82 38.1433 Q1530.73 43.6931 1530.73 53.1722 Q1530.73 62.9348 1524.65 68.3631 Q1518.58 73.7508 1507.52 73.7508 Q1503.71 73.7508 1499.74 73.1026 Q1495.81 72.4545 1491.6 71.1582 L1491.6 62.9348 Q1495.25 64.9198 1499.13 65.892 Q1503.02 66.8642 1507.36 66.8642 Q1514.37 66.8642 1518.46 63.1779 Q1522.55 59.4916 1522.55 53.1722 Q1522.55 46.8528 1518.46 43.1664 Q1514.37 39.4801 1507.36 39.4801 Q1504.08 39.4801 1500.79 40.2093 Q1497.55 40.9384 1494.15 42.4778 L1494.15 12.096 Z\" fill=\"#000000\" fill-rule=\"evenodd\" fill-opacity=\"1\" /><path clip-path=\"url(#clip180)\" d=\"M1564.35 17.4837 Q1558.03 17.4837 1554.83 23.7221 Q1551.67 29.92 1551.67 42.3968 Q1551.67 54.833 1554.83 61.0714 Q1558.03 67.2693 1564.35 67.2693 Q1570.71 67.2693 1573.87 61.0714 Q1577.07 54.833 1577.07 42.3968 Q1577.07 29.92 1573.87 23.7221 Q1570.71 17.4837 1564.35 17.4837 M1564.35 11.0023 Q1574.52 11.0023 1579.87 19.0636 Q1585.26 27.0843 1585.26 42.3968 Q1585.26 57.6687 1579.87 65.73 Q1574.52 73.7508 1564.35 73.7508 Q1554.19 73.7508 1548.8 65.73 Q1543.45 57.6687 1543.45 42.3968 Q1543.45 27.0843 1548.8 19.0636 Q1554.19 11.0023 1564.35 11.0023 Z\" fill=\"#000000\" fill-rule=\"evenodd\" fill-opacity=\"1\" /><path clip-path=\"url(#clip180)\" d=\"M1601.05 65.6895 L1614.42 65.6895 L1614.42 19.5497 L1599.88 22.4663 L1599.88 15.0127 L1614.34 12.096 L1622.52 12.096 L1622.52 65.6895 L1635.89 65.6895 L1635.89 72.576 L1601.05 72.576 L1601.05 65.6895 Z\" fill=\"#000000\" fill-rule=\"evenodd\" fill-opacity=\"1\" /><path clip-path=\"url(#clip180)\" d=\"M1652.66 71.3202 L1652.66 63.8666 Q1655.74 65.3249 1658.9 66.0946 Q1662.06 66.8642 1665.1 66.8642 Q1673.2 66.8642 1677.45 61.436 Q1681.75 55.9673 1682.36 44.8678 Q1680.01 48.3516 1676.4 50.215 Q1672.8 52.0784 1668.42 52.0784 Q1659.35 52.0784 1654.04 46.6097 Q1648.77 41.1005 1648.77 31.5808 Q1648.77 22.2638 1654.28 16.633 Q1659.79 11.0023 1668.95 11.0023 Q1679.44 11.0023 1684.95 19.0636 Q1690.5 27.0843 1690.5 42.3968 Q1690.5 56.6965 1683.69 65.2439 Q1676.93 73.7508 1665.46 73.7508 Q1662.39 73.7508 1659.23 73.1431 Q1656.07 72.5355 1652.66 71.3202 M1668.95 45.678 Q1674.46 45.678 1677.66 41.9107 Q1680.9 38.1433 1680.9 31.5808 Q1680.9 25.0589 1677.66 21.2916 Q1674.46 17.4837 1668.95 17.4837 Q1663.44 17.4837 1660.2 21.2916 Q1657 25.0589 1657 31.5808 Q1657 38.1433 1660.2 41.9107 Q1663.44 45.678 1668.95 45.678 Z\" fill=\"#000000\" fill-rule=\"evenodd\" fill-opacity=\"1\" /><path clip-path=\"url(#clip180)\" d=\"M1703.14 12.096 L1742.03 12.096 L1742.03 15.5798 L1720.07 72.576 L1711.52 72.576 L1732.18 18.9825 L1703.14 18.9825 L1703.14 12.096 Z\" fill=\"#000000\" fill-rule=\"evenodd\" fill-opacity=\"1\" /><path clip-path=\"url(#clip180)\" d=\"M1780.47 19.2256 L1759.81 51.5113 L1780.47 51.5113 L1780.47 19.2256 M1778.32 12.096 L1788.61 12.096 L1788.61 51.5113 L1797.24 51.5113 L1797.24 58.3168 L1788.61 58.3168 L1788.61 72.576 L1780.47 72.576 L1780.47 58.3168 L1753.17 58.3168 L1753.17 50.4176 L1778.32 12.096 Z\" fill=\"#000000\" fill-rule=\"evenodd\" fill-opacity=\"1\" /><path clip-path=\"url(#clip180)\" d=\"M1811.01 71.3202 L1811.01 63.8666 Q1814.09 65.3249 1817.25 66.0946 Q1820.41 66.8642 1823.45 66.8642 Q1831.55 66.8642 1835.8 61.436 Q1840.1 55.9673 1840.71 44.8678 Q1838.36 48.3516 1834.75 50.215 Q1831.15 52.0784 1826.77 52.0784 Q1817.7 52.0784 1812.39 46.6097 Q1807.12 41.1005 1807.12 31.5808 Q1807.12 22.2638 1812.63 16.633 Q1818.14 11.0023 1827.3 11.0023 Q1837.79 11.0023 1843.3 19.0636 Q1848.85 27.0843 1848.85 42.3968 Q1848.85 56.6965 1842.04 65.2439 Q1835.28 73.7508 1823.81 73.7508 Q1820.74 73.7508 1817.58 73.1431 Q1814.42 72.5355 1811.01 71.3202 M1827.3 45.678 Q1832.81 45.678 1836.01 41.9107 Q1839.25 38.1433 1839.25 31.5808 Q1839.25 25.0589 1836.01 21.2916 Q1832.81 17.4837 1827.3 17.4837 Q1821.79 17.4837 1818.55 21.2916 Q1815.35 25.0589 1815.35 31.5808 Q1815.35 38.1433 1818.55 41.9107 Q1821.79 45.678 1827.3 45.678 Z\" fill=\"#000000\" fill-rule=\"evenodd\" fill-opacity=\"1\" /><polyline clip-path=\"url(#clip182)\" style=\"stroke:#009af9; stroke-linecap:round; stroke-linejoin:round; stroke-width:16; stroke-opacity:1; fill:none\" points=\"\n",
       "  203.964,160.256 205.712,173.029 207.461,185.591 209.21,197.944 210.958,210.096 212.707,222.05 214.456,233.81 216.205,245.382 217.953,256.769 226.038,307.131 \n",
       "  234.123,354.011 242.208,397.739 250.292,438.606 258.377,476.871 266.462,512.761 274.547,546.478 282.631,578.205 290.716,608.102 298.801,636.315 306.886,662.973 \n",
       "  314.97,688.196 323.055,712.09 331.14,734.75 339.225,756.264 347.309,776.713 357.027,799.982 366.744,821.93 376.461,842.66 386.178,862.264 395.895,880.826 \n",
       "  405.613,898.422 415.33,915.12 425.047,930.985 441.478,956.069 457.91,979.173 474.342,1000.51 490.773,1020.26 508.622,1040.1 526.472,1058.43 544.321,1075.41 \n",
       "  562.17,1091.18 578.626,1104.73 595.081,1117.43 611.536,1129.35 627.992,1140.56 663.276,1162.43 698.56,1181.75 739.44,1201.47 780.319,1218.77 816.649,1232.43 \n",
       "  852.978,1244.72 884.835,1254.5 916.693,1263.46 986.159,1280.6 1056.04,1295.1 1133.3,1308.58 1206.81,1319.44 1283.24,1329.09 1347.59,1336.14 1426.14,1343.65 \n",
       "  1498.1,1349.64 1564.56,1354.55 1631.88,1358.98 1707.33,1363.4 1775.7,1366.97 1853.98,1370.62 1926.46,1373.65 1997.92,1376.33 2067.3,1378.69 2138.42,1380.89 \n",
       "  2216.34,1383.07 2329.53,1385.87 2352.76,1386.4 \n",
       "  \"/>\n",
       "<polyline clip-path=\"url(#clip182)\" style=\"stroke:#e26f46; stroke-linecap:round; stroke-linejoin:round; stroke-width:16; stroke-opacity:1; fill:none\" points=\"\n",
       "  203.964,1343.8 217.953,1343.8 347.309,1343.8 425.047,1343.8 490.773,1343.8 562.17,1343.8 627.992,1343.8 698.56,1343.8 780.319,1343.8 852.978,1343.8 \n",
       "  916.693,1343.8 986.159,1343.8 1056.04,1343.8 1133.3,1343.8 1206.81,1343.8 1283.24,1343.8 1347.59,1343.8 1426.14,1343.8 1498.1,1343.8 1564.56,1343.8 \n",
       "  1631.88,1343.8 1707.33,1343.8 1775.7,1343.8 1853.98,1343.8 1926.46,1343.8 1997.92,1343.8 2067.3,1343.8 2138.42,1343.8 2216.34,1343.8 2329.53,1343.8 \n",
       "  2352.76,1343.8 \n",
       "  \"/>\n",
       "<circle clip-path=\"url(#clip182)\" cx=\"1427.78\" cy=\"1343.8\" r=\"14.4\" fill=\"#000000\" fill-rule=\"evenodd\" fill-opacity=\"1\" stroke=\"none\"/>\n",
       "<path clip-path=\"url(#clip180)\" d=\"\n",
       "M1989.37 374.156 L2281.13 374.156 L2281.13 166.796 L1989.37 166.796  Z\n",
       "  \" fill=\"#ffffff\" fill-rule=\"evenodd\" fill-opacity=\"1\"/>\n",
       "<polyline clip-path=\"url(#clip180)\" style=\"stroke:#000000; stroke-linecap:round; stroke-linejoin:round; stroke-width:4; stroke-opacity:1; fill:none\" points=\"\n",
       "  1989.37,374.156 2281.13,374.156 2281.13,166.796 1989.37,166.796 1989.37,374.156 \n",
       "  \"/>\n",
       "<polyline clip-path=\"url(#clip180)\" style=\"stroke:#009af9; stroke-linecap:round; stroke-linejoin:round; stroke-width:4; stroke-opacity:1; fill:none\" points=\"\n",
       "  2013.24,218.636 2156.49,218.636 \n",
       "  \"/>\n",
       "<path clip-path=\"url(#clip180)\" d=\"M2194.21 238.323 Q2192.41 242.953 2190.69 244.365 Q2188.98 245.777 2186.11 245.777 L2182.71 245.777 L2182.71 242.212 L2185.21 242.212 Q2186.97 242.212 2187.94 241.379 Q2188.91 240.545 2190.09 237.443 L2190.86 235.499 L2180.37 209.99 L2184.88 209.99 L2192.99 230.268 L2201.09 209.99 L2205.6 209.99 L2194.21 238.323 Z\" fill=\"#000000\" fill-rule=\"evenodd\" fill-opacity=\"1\" /><path clip-path=\"url(#clip180)\" d=\"M2212.89 231.981 L2220.53 231.981 L2220.53 205.615 L2212.22 207.282 L2212.22 203.022 L2220.49 201.356 L2225.16 201.356 L2225.16 231.981 L2232.8 231.981 L2232.8 235.916 L2212.89 235.916 L2212.89 231.981 Z\" fill=\"#000000\" fill-rule=\"evenodd\" fill-opacity=\"1\" /><polyline clip-path=\"url(#clip180)\" style=\"stroke:#e26f46; stroke-linecap:round; stroke-linejoin:round; stroke-width:4; stroke-opacity:1; fill:none\" points=\"\n",
       "  2013.24,270.476 2156.49,270.476 \n",
       "  \"/>\n",
       "<path clip-path=\"url(#clip180)\" d=\"M2194.21 290.163 Q2192.41 294.793 2190.69 296.205 Q2188.98 297.617 2186.11 297.617 L2182.71 297.617 L2182.71 294.052 L2185.21 294.052 Q2186.97 294.052 2187.94 293.219 Q2188.91 292.385 2190.09 289.283 L2190.86 287.339 L2180.37 261.83 L2184.88 261.83 L2192.99 282.108 L2201.09 261.83 L2205.6 261.83 L2194.21 290.163 Z\" fill=\"#000000\" fill-rule=\"evenodd\" fill-opacity=\"1\" /><path clip-path=\"url(#clip180)\" d=\"M2216.11 283.821 L2232.43 283.821 L2232.43 287.756 L2210.49 287.756 L2210.49 283.821 Q2213.15 281.066 2217.73 276.436 Q2222.34 271.784 2223.52 270.441 Q2225.76 267.918 2226.64 266.182 Q2227.55 264.423 2227.55 262.733 Q2227.55 259.978 2225.6 258.242 Q2223.68 256.506 2220.58 256.506 Q2218.38 256.506 2215.92 257.27 Q2213.49 258.034 2210.72 259.585 L2210.72 254.862 Q2213.54 253.728 2215.99 253.149 Q2218.45 252.571 2220.49 252.571 Q2225.86 252.571 2229.05 255.256 Q2232.24 257.941 2232.24 262.432 Q2232.24 264.561 2231.43 266.483 Q2230.65 268.381 2228.54 270.973 Q2227.96 271.645 2224.86 274.862 Q2221.76 278.057 2216.11 283.821 Z\" fill=\"#000000\" fill-rule=\"evenodd\" fill-opacity=\"1\" /><circle clip-path=\"url(#clip180)\" cx=\"2084.87\" cy=\"322.316\" r=\"23.04\" fill=\"#000000\" fill-rule=\"evenodd\" fill-opacity=\"1\" stroke=\"none\"/>\n",
       "<path clip-path=\"url(#clip180)\" d=\"M2194.21 342.003 Q2192.41 346.633 2190.69 348.045 Q2188.98 349.457 2186.11 349.457 L2182.71 349.457 L2182.71 345.892 L2185.21 345.892 Q2186.97 345.892 2187.94 345.059 Q2188.91 344.225 2190.09 341.123 L2190.86 339.179 L2180.37 313.67 L2184.88 313.67 L2192.99 333.948 L2201.09 313.67 L2205.6 313.67 L2194.21 342.003 Z\" fill=\"#000000\" fill-rule=\"evenodd\" fill-opacity=\"1\" /><path clip-path=\"url(#clip180)\" d=\"M2226.25 320.962 Q2229.61 321.679 2231.48 323.948 Q2233.38 326.216 2233.38 329.549 Q2233.38 334.665 2229.86 337.466 Q2226.34 340.267 2219.86 340.267 Q2217.68 340.267 2215.37 339.827 Q2213.08 339.411 2210.62 338.554 L2210.62 334.04 Q2212.57 335.174 2214.88 335.753 Q2217.2 336.332 2219.72 336.332 Q2224.12 336.332 2226.41 334.596 Q2228.73 332.86 2228.73 329.549 Q2228.73 326.494 2226.57 324.781 Q2224.44 323.045 2220.62 323.045 L2216.6 323.045 L2216.6 319.202 L2220.81 319.202 Q2224.26 319.202 2226.09 317.837 Q2227.92 316.448 2227.92 313.855 Q2227.92 311.193 2226.02 309.781 Q2224.14 308.346 2220.62 308.346 Q2218.7 308.346 2216.5 308.763 Q2214.3 309.179 2211.67 310.059 L2211.67 305.892 Q2214.33 305.151 2216.64 304.781 Q2218.98 304.411 2221.04 304.411 Q2226.36 304.411 2229.47 306.841 Q2232.57 309.249 2232.57 313.369 Q2232.57 316.239 2230.92 318.23 Q2229.28 320.198 2226.25 320.962 Z\" fill=\"#000000\" fill-rule=\"evenodd\" fill-opacity=\"1\" /></svg>\n"
      ]
     },
     "execution_count": 62,
     "metadata": {},
     "output_type": "execute_result"
    }
   ],
   "source": [
    "#import Pkg; Pkg.add(\"Roots\")\n",
    "using Roots\n",
    "d0 = find_zero(d -> wait(1, d) - my_wait, 1)\n",
    "plot([d -> wait(1, d) - my_wait, d -> 0], xlims=(.1, 1), xlabel=\"departure\", ylabel=\"wait\")\n",
    "scatter!([d0], [0], marker=:circle, color=:black, title=\"d0 = $d0\")"
   ]
  },
  {
   "cell_type": "markdown",
   "id": "de80d603",
   "metadata": {
    "slideshow": {
     "slide_type": "slide"
    }
   },
   "source": [
    "# Example: Nonlinear Elasticity\n",
    "\n",
    "## Strain-energy formulation\n",
    "\n",
    "$$ W = C_1 (I_1 - 3 - 2 \\log J) + D_1 (J - 1)^2 $$\n",
    "where $I_1 = \\lambda_1^2 + \\lambda_2^2 + \\lambda_3^3$ and $J = \\lambda_1 \\lambda_2 \\lambda_3$ are *invariants* defined in terms of the principle stretches $\\lambda_i$.\n",
    "\n",
    "### [Uniaxial extension](https://en.wikipedia.org/wiki/Neo-Hookean_solid#Compressible_neo-Hookean_material_3)\n",
    "\n",
    "In the experiment, we would like to know the stress as a function of the stretch $\\lambda_1$. We don't know $J$, and will have to determine it by solving an equation.\n",
    "\n",
    "https://www.youtube.com/watch?v=9N5SS8f1auI&t=60"
   ]
  },
  {
   "cell_type": "markdown",
   "id": "f7fbac69",
   "metadata": {
    "slideshow": {
     "slide_type": "slide"
    }
   },
   "source": [
    "# How much does the volume change?\n",
    "\n",
    "Using symmetries of uniaxial extension, we can write an equation $f(\\lambda, J) = 0$ that must be satisfied. We'll need to solve a rootfinding problem to compute $J(\\lambda)$."
   ]
  },
  {
   "cell_type": "code",
   "execution_count": 11,
   "id": "87b74714",
   "metadata": {
    "cell_style": "split"
   },
   "outputs": [
    {
     "data": {
      "image/svg+xml": [
       "<?xml version=\"1.0\" encoding=\"utf-8\"?>\n",
       "<svg xmlns=\"http://www.w3.org/2000/svg\" xmlns:xlink=\"http://www.w3.org/1999/xlink\" width=\"600\" height=\"400\" viewBox=\"0 0 2400 1600\">\n",
       "<defs>\n",
       "  <clipPath id=\"clip100\">\n",
       "    <rect x=\"0\" y=\"0\" width=\"2400\" height=\"1600\"/>\n",
       "  </clipPath>\n",
       "</defs>\n",
       "<path clip-path=\"url(#clip100)\" d=\"\n",
       "M0 1600 L2400 1600 L2400 0 L0 0  Z\n",
       "  \" fill=\"#ffffff\" fill-rule=\"evenodd\" fill-opacity=\"1\"/>\n",
       "<defs>\n",
       "  <clipPath id=\"clip101\">\n",
       "    <rect x=\"480\" y=\"0\" width=\"1681\" height=\"1600\"/>\n",
       "  </clipPath>\n",
       "</defs>\n",
       "<path clip-path=\"url(#clip100)\" d=\"\n",
       "M369.657 1423.18 L2352.76 1423.18 L2352.76 47.2441 L369.657 47.2441  Z\n",
       "  \" fill=\"#ffffff\" fill-rule=\"evenodd\" fill-opacity=\"1\"/>\n",
       "<defs>\n",
       "  <clipPath id=\"clip102\">\n",
       "    <rect x=\"369\" y=\"47\" width=\"1984\" height=\"1377\"/>\n",
       "  </clipPath>\n",
       "</defs>\n",
       "<polyline clip-path=\"url(#clip102)\" style=\"stroke:#000000; stroke-linecap:round; stroke-linejoin:round; stroke-width:2; stroke-opacity:0.1; fill:none\" points=\"\n",
       "  643.188,1423.18 643.188,47.2441 \n",
       "  \"/>\n",
       "<polyline clip-path=\"url(#clip102)\" style=\"stroke:#000000; stroke-linecap:round; stroke-linejoin:round; stroke-width:2; stroke-opacity:0.1; fill:none\" points=\"\n",
       "  985.102,1423.18 985.102,47.2441 \n",
       "  \"/>\n",
       "<polyline clip-path=\"url(#clip102)\" style=\"stroke:#000000; stroke-linecap:round; stroke-linejoin:round; stroke-width:2; stroke-opacity:0.1; fill:none\" points=\"\n",
       "  1327.02,1423.18 1327.02,47.2441 \n",
       "  \"/>\n",
       "<polyline clip-path=\"url(#clip102)\" style=\"stroke:#000000; stroke-linecap:round; stroke-linejoin:round; stroke-width:2; stroke-opacity:0.1; fill:none\" points=\"\n",
       "  1668.93,1423.18 1668.93,47.2441 \n",
       "  \"/>\n",
       "<polyline clip-path=\"url(#clip102)\" style=\"stroke:#000000; stroke-linecap:round; stroke-linejoin:round; stroke-width:2; stroke-opacity:0.1; fill:none\" points=\"\n",
       "  2010.84,1423.18 2010.84,47.2441 \n",
       "  \"/>\n",
       "<polyline clip-path=\"url(#clip102)\" style=\"stroke:#000000; stroke-linecap:round; stroke-linejoin:round; stroke-width:2; stroke-opacity:0.1; fill:none\" points=\"\n",
       "  2352.76,1423.18 2352.76,47.2441 \n",
       "  \"/>\n",
       "<polyline clip-path=\"url(#clip100)\" style=\"stroke:#000000; stroke-linecap:round; stroke-linejoin:round; stroke-width:4; stroke-opacity:1; fill:none\" points=\"\n",
       "  369.657,1423.18 2352.76,1423.18 \n",
       "  \"/>\n",
       "<polyline clip-path=\"url(#clip100)\" style=\"stroke:#000000; stroke-linecap:round; stroke-linejoin:round; stroke-width:4; stroke-opacity:1; fill:none\" points=\"\n",
       "  643.188,1423.18 643.188,1404.28 \n",
       "  \"/>\n",
       "<polyline clip-path=\"url(#clip100)\" style=\"stroke:#000000; stroke-linecap:round; stroke-linejoin:round; stroke-width:4; stroke-opacity:1; fill:none\" points=\"\n",
       "  985.102,1423.18 985.102,1404.28 \n",
       "  \"/>\n",
       "<polyline clip-path=\"url(#clip100)\" style=\"stroke:#000000; stroke-linecap:round; stroke-linejoin:round; stroke-width:4; stroke-opacity:1; fill:none\" points=\"\n",
       "  1327.02,1423.18 1327.02,1404.28 \n",
       "  \"/>\n",
       "<polyline clip-path=\"url(#clip100)\" style=\"stroke:#000000; stroke-linecap:round; stroke-linejoin:round; stroke-width:4; stroke-opacity:1; fill:none\" points=\"\n",
       "  1668.93,1423.18 1668.93,1404.28 \n",
       "  \"/>\n",
       "<polyline clip-path=\"url(#clip100)\" style=\"stroke:#000000; stroke-linecap:round; stroke-linejoin:round; stroke-width:4; stroke-opacity:1; fill:none\" points=\"\n",
       "  2010.84,1423.18 2010.84,1404.28 \n",
       "  \"/>\n",
       "<polyline clip-path=\"url(#clip100)\" style=\"stroke:#000000; stroke-linecap:round; stroke-linejoin:round; stroke-width:4; stroke-opacity:1; fill:none\" points=\"\n",
       "  2352.76,1423.18 2352.76,1404.28 \n",
       "  \"/>\n",
       "<path clip-path=\"url(#clip100)\" d=\"M621.07 1454.1 Q617.459 1454.1 615.63 1457.66 Q613.825 1461.2 613.825 1468.33 Q613.825 1475.44 615.63 1479.01 Q617.459 1482.55 621.07 1482.55 Q624.704 1482.55 626.51 1479.01 Q628.339 1475.44 628.339 1468.33 Q628.339 1461.2 626.51 1457.66 Q624.704 1454.1 621.07 1454.1 M621.07 1450.39 Q626.88 1450.39 629.936 1455 Q633.014 1459.58 633.014 1468.33 Q633.014 1477.06 629.936 1481.67 Q626.88 1486.25 621.07 1486.25 Q615.26 1486.25 612.181 1481.67 Q609.126 1477.06 609.126 1468.33 Q609.126 1459.58 612.181 1455 Q615.26 1450.39 621.07 1450.39 Z\" fill=\"#000000\" fill-rule=\"evenodd\" fill-opacity=\"1\" /><path clip-path=\"url(#clip100)\" d=\"M641.232 1479.7 L646.116 1479.7 L646.116 1485.58 L641.232 1485.58 L641.232 1479.7 Z\" fill=\"#000000\" fill-rule=\"evenodd\" fill-opacity=\"1\" /><path clip-path=\"url(#clip100)\" d=\"M656.348 1451.02 L674.704 1451.02 L674.704 1454.96 L660.63 1454.96 L660.63 1463.43 Q661.649 1463.08 662.667 1462.92 Q663.686 1462.73 664.704 1462.73 Q670.491 1462.73 673.871 1465.9 Q677.25 1469.08 677.25 1474.49 Q677.25 1480.07 673.778 1483.17 Q670.306 1486.25 663.986 1486.25 Q661.811 1486.25 659.542 1485.88 Q657.297 1485.51 654.889 1484.77 L654.889 1480.07 Q656.973 1481.2 659.195 1481.76 Q661.417 1482.32 663.894 1482.32 Q667.899 1482.32 670.236 1480.21 Q672.574 1478.1 672.574 1474.49 Q672.574 1470.88 670.236 1468.77 Q667.899 1466.67 663.894 1466.67 Q662.019 1466.67 660.144 1467.08 Q658.292 1467.5 656.348 1468.38 L656.348 1451.02 Z\" fill=\"#000000\" fill-rule=\"evenodd\" fill-opacity=\"1\" /><path clip-path=\"url(#clip100)\" d=\"M952.255 1481.64 L959.893 1481.64 L959.893 1455.28 L951.583 1456.95 L951.583 1452.69 L959.847 1451.02 L964.523 1451.02 L964.523 1481.64 L972.162 1481.64 L972.162 1485.58 L952.255 1485.58 L952.255 1481.64 Z\" fill=\"#000000\" fill-rule=\"evenodd\" fill-opacity=\"1\" /><path clip-path=\"url(#clip100)\" d=\"M981.606 1479.7 L986.49 1479.7 L986.49 1485.58 L981.606 1485.58 L981.606 1479.7 Z\" fill=\"#000000\" fill-rule=\"evenodd\" fill-opacity=\"1\" /><path clip-path=\"url(#clip100)\" d=\"M1006.68 1454.1 Q1003.06 1454.1 1001.24 1457.66 Q999.43 1461.2 999.43 1468.33 Q999.43 1475.44 1001.24 1479.01 Q1003.06 1482.55 1006.68 1482.55 Q1010.31 1482.55 1012.12 1479.01 Q1013.94 1475.44 1013.94 1468.33 Q1013.94 1461.2 1012.12 1457.66 Q1010.31 1454.1 1006.68 1454.1 M1006.68 1450.39 Q1012.49 1450.39 1015.54 1455 Q1018.62 1459.58 1018.62 1468.33 Q1018.62 1477.06 1015.54 1481.67 Q1012.49 1486.25 1006.68 1486.25 Q1000.87 1486.25 997.787 1481.67 Q994.731 1477.06 994.731 1468.33 Q994.731 1459.58 997.787 1455 Q1000.87 1450.39 1006.68 1450.39 Z\" fill=\"#000000\" fill-rule=\"evenodd\" fill-opacity=\"1\" /><path clip-path=\"url(#clip100)\" d=\"M1294.67 1481.64 L1302.3 1481.64 L1302.3 1455.28 L1293.99 1456.95 L1293.99 1452.69 L1302.26 1451.02 L1306.93 1451.02 L1306.93 1481.64 L1314.57 1481.64 L1314.57 1485.58 L1294.67 1485.58 L1294.67 1481.64 Z\" fill=\"#000000\" fill-rule=\"evenodd\" fill-opacity=\"1\" /><path clip-path=\"url(#clip100)\" d=\"M1324.02 1479.7 L1328.9 1479.7 L1328.9 1485.58 L1324.02 1485.58 L1324.02 1479.7 Z\" fill=\"#000000\" fill-rule=\"evenodd\" fill-opacity=\"1\" /><path clip-path=\"url(#clip100)\" d=\"M1339.13 1451.02 L1357.49 1451.02 L1357.49 1454.96 L1343.42 1454.96 L1343.42 1463.43 Q1344.43 1463.08 1345.45 1462.92 Q1346.47 1462.73 1347.49 1462.73 Q1353.28 1462.73 1356.66 1465.9 Q1360.04 1469.08 1360.04 1474.49 Q1360.04 1480.07 1356.56 1483.17 Q1353.09 1486.25 1346.77 1486.25 Q1344.6 1486.25 1342.33 1485.88 Q1340.08 1485.51 1337.67 1484.77 L1337.67 1480.07 Q1339.76 1481.2 1341.98 1481.76 Q1344.2 1482.32 1346.68 1482.32 Q1350.68 1482.32 1353.02 1480.21 Q1355.36 1478.1 1355.36 1474.49 Q1355.36 1470.88 1353.02 1468.77 Q1350.68 1466.67 1346.68 1466.67 Q1344.8 1466.67 1342.93 1467.08 Q1341.08 1467.5 1339.13 1468.38 L1339.13 1451.02 Z\" fill=\"#000000\" fill-rule=\"evenodd\" fill-opacity=\"1\" /><path clip-path=\"url(#clip100)\" d=\"M1640.17 1481.64 L1656.49 1481.64 L1656.49 1485.58 L1634.54 1485.58 L1634.54 1481.64 Q1637.2 1478.89 1641.79 1474.26 Q1646.39 1469.61 1647.57 1468.27 Q1649.82 1465.74 1650.7 1464.01 Q1651.6 1462.25 1651.6 1460.56 Q1651.6 1457.8 1649.66 1456.07 Q1647.74 1454.33 1644.63 1454.33 Q1642.44 1454.33 1639.98 1455.09 Q1637.55 1455.86 1634.77 1457.41 L1634.77 1452.69 Q1637.6 1451.55 1640.05 1450.97 Q1642.51 1450.39 1644.54 1450.39 Q1649.91 1450.39 1653.11 1453.08 Q1656.3 1455.77 1656.3 1460.26 Q1656.3 1462.39 1655.49 1464.31 Q1654.7 1466.2 1652.6 1468.8 Q1652.02 1469.47 1648.92 1472.69 Q1645.82 1475.88 1640.17 1481.64 Z\" fill=\"#000000\" fill-rule=\"evenodd\" fill-opacity=\"1\" /><path clip-path=\"url(#clip100)\" d=\"M1666.3 1479.7 L1671.19 1479.7 L1671.19 1485.58 L1666.3 1485.58 L1666.3 1479.7 Z\" fill=\"#000000\" fill-rule=\"evenodd\" fill-opacity=\"1\" /><path clip-path=\"url(#clip100)\" d=\"M1691.37 1454.1 Q1687.76 1454.1 1685.93 1457.66 Q1684.13 1461.2 1684.13 1468.33 Q1684.13 1475.44 1685.93 1479.01 Q1687.76 1482.55 1691.37 1482.55 Q1695 1482.55 1696.81 1479.01 Q1698.64 1475.44 1698.64 1468.33 Q1698.64 1461.2 1696.81 1457.66 Q1695 1454.1 1691.37 1454.1 M1691.37 1450.39 Q1697.18 1450.39 1700.24 1455 Q1703.32 1459.58 1703.32 1468.33 Q1703.32 1477.06 1700.24 1481.67 Q1697.18 1486.25 1691.37 1486.25 Q1685.56 1486.25 1682.48 1481.67 Q1679.43 1477.06 1679.43 1468.33 Q1679.43 1459.58 1682.48 1455 Q1685.56 1450.39 1691.37 1450.39 Z\" fill=\"#000000\" fill-rule=\"evenodd\" fill-opacity=\"1\" /><path clip-path=\"url(#clip100)\" d=\"M1982.58 1481.64 L1998.9 1481.64 L1998.9 1485.58 L1976.95 1485.58 L1976.95 1481.64 Q1979.62 1478.89 1984.2 1474.26 Q1988.81 1469.61 1989.99 1468.27 Q1992.23 1465.74 1993.11 1464.01 Q1994.01 1462.25 1994.01 1460.56 Q1994.01 1457.8 1992.07 1456.07 Q1990.15 1454.33 1987.05 1454.33 Q1984.85 1454.33 1982.39 1455.09 Q1979.96 1455.86 1977.19 1457.41 L1977.19 1452.69 Q1980.01 1451.55 1982.46 1450.97 Q1984.92 1450.39 1986.95 1450.39 Q1992.32 1450.39 1995.52 1453.08 Q1998.71 1455.77 1998.71 1460.26 Q1998.71 1462.39 1997.9 1464.31 Q1997.12 1466.2 1995.01 1468.8 Q1994.43 1469.47 1991.33 1472.69 Q1988.23 1475.88 1982.58 1481.64 Z\" fill=\"#000000\" fill-rule=\"evenodd\" fill-opacity=\"1\" /><path clip-path=\"url(#clip100)\" d=\"M2008.71 1479.7 L2013.6 1479.7 L2013.6 1485.58 L2008.71 1485.58 L2008.71 1479.7 Z\" fill=\"#000000\" fill-rule=\"evenodd\" fill-opacity=\"1\" /><path clip-path=\"url(#clip100)\" d=\"M2023.83 1451.02 L2042.18 1451.02 L2042.18 1454.96 L2028.11 1454.96 L2028.11 1463.43 Q2029.13 1463.08 2030.15 1462.92 Q2031.17 1462.73 2032.18 1462.73 Q2037.97 1462.73 2041.35 1465.9 Q2044.73 1469.08 2044.73 1474.49 Q2044.73 1480.07 2041.26 1483.17 Q2037.79 1486.25 2031.47 1486.25 Q2029.29 1486.25 2027.02 1485.88 Q2024.78 1485.51 2022.37 1484.77 L2022.37 1480.07 Q2024.45 1481.2 2026.68 1481.76 Q2028.9 1482.32 2031.37 1482.32 Q2035.38 1482.32 2037.72 1480.21 Q2040.06 1478.1 2040.06 1474.49 Q2040.06 1470.88 2037.72 1468.77 Q2035.38 1466.67 2031.37 1466.67 Q2029.5 1466.67 2027.62 1467.08 Q2025.77 1467.5 2023.83 1468.38 L2023.83 1451.02 Z\" fill=\"#000000\" fill-rule=\"evenodd\" fill-opacity=\"1\" /><path clip-path=\"url(#clip100)\" d=\"M2334.06 1466.95 Q2337.42 1467.66 2339.3 1469.93 Q2341.19 1472.2 2341.19 1475.53 Q2341.19 1480.65 2337.67 1483.45 Q2334.16 1486.25 2327.68 1486.25 Q2325.5 1486.25 2323.18 1485.81 Q2320.89 1485.39 2318.44 1484.54 L2318.44 1480.02 Q2320.38 1481.16 2322.7 1481.74 Q2325.01 1482.32 2327.54 1482.32 Q2331.93 1482.32 2334.23 1480.58 Q2336.54 1478.84 2336.54 1475.53 Q2336.54 1472.48 2334.39 1470.77 Q2332.26 1469.03 2328.44 1469.03 L2324.41 1469.03 L2324.41 1465.19 L2328.62 1465.19 Q2332.07 1465.19 2333.9 1463.82 Q2335.73 1462.43 2335.73 1459.84 Q2335.73 1457.18 2333.83 1455.77 Q2331.96 1454.33 2328.44 1454.33 Q2326.52 1454.33 2324.32 1454.75 Q2322.12 1455.16 2319.48 1456.04 L2319.48 1451.88 Q2322.14 1451.14 2324.46 1450.77 Q2326.8 1450.39 2328.86 1450.39 Q2334.18 1450.39 2337.28 1452.83 Q2340.38 1455.23 2340.38 1459.35 Q2340.38 1462.22 2338.74 1464.21 Q2337.1 1466.18 2334.06 1466.95 Z\" fill=\"#000000\" fill-rule=\"evenodd\" fill-opacity=\"1\" /><path clip-path=\"url(#clip100)\" d=\"M2350.06 1479.7 L2354.94 1479.7 L2354.94 1485.58 L2350.06 1485.58 L2350.06 1479.7 Z\" fill=\"#000000\" fill-rule=\"evenodd\" fill-opacity=\"1\" /><path clip-path=\"url(#clip100)\" d=\"M2375.13 1454.1 Q2371.52 1454.1 2369.69 1457.66 Q2367.88 1461.2 2367.88 1468.33 Q2367.88 1475.44 2369.69 1479.01 Q2371.52 1482.55 2375.13 1482.55 Q2378.76 1482.55 2380.57 1479.01 Q2382.4 1475.44 2382.4 1468.33 Q2382.4 1461.2 2380.57 1457.66 Q2378.76 1454.1 2375.13 1454.1 M2375.13 1450.39 Q2380.94 1450.39 2383.99 1455 Q2387.07 1459.58 2387.07 1468.33 Q2387.07 1477.06 2383.99 1481.67 Q2380.94 1486.25 2375.13 1486.25 Q2369.32 1486.25 2366.24 1481.67 Q2363.18 1477.06 2363.18 1468.33 Q2363.18 1459.58 2366.24 1455 Q2369.32 1450.39 2375.13 1450.39 Z\" fill=\"#000000\" fill-rule=\"evenodd\" fill-opacity=\"1\" /><path clip-path=\"url(#clip100)\" d=\"M1362.88 1520.52 L1369.31 1520.52 L1369.31 1564.73 Q1369.31 1573.33 1366.03 1577.21 Q1362.78 1581.09 1355.56 1581.09 L1353.11 1581.09 L1353.11 1575.68 L1355.11 1575.68 Q1359.38 1575.68 1361.13 1573.3 Q1362.88 1570.91 1362.88 1564.73 L1362.88 1520.52 Z\" fill=\"#000000\" fill-rule=\"evenodd\" fill-opacity=\"1\" /><polyline clip-path=\"url(#clip102)\" style=\"stroke:#000000; stroke-linecap:round; stroke-linejoin:round; stroke-width:2; stroke-opacity:0.1; fill:none\" points=\"\n",
       "  369.657,1358.7 2352.76,1358.7 \n",
       "  \"/>\n",
       "<polyline clip-path=\"url(#clip102)\" style=\"stroke:#000000; stroke-linecap:round; stroke-linejoin:round; stroke-width:2; stroke-opacity:0.1; fill:none\" points=\"\n",
       "  369.657,1153.52 2352.76,1153.52 \n",
       "  \"/>\n",
       "<polyline clip-path=\"url(#clip102)\" style=\"stroke:#000000; stroke-linecap:round; stroke-linejoin:round; stroke-width:2; stroke-opacity:0.1; fill:none\" points=\"\n",
       "  369.657,948.351 2352.76,948.351 \n",
       "  \"/>\n",
       "<polyline clip-path=\"url(#clip102)\" style=\"stroke:#000000; stroke-linecap:round; stroke-linejoin:round; stroke-width:2; stroke-opacity:0.1; fill:none\" points=\"\n",
       "  369.657,743.177 2352.76,743.177 \n",
       "  \"/>\n",
       "<polyline clip-path=\"url(#clip102)\" style=\"stroke:#000000; stroke-linecap:round; stroke-linejoin:round; stroke-width:2; stroke-opacity:0.1; fill:none\" points=\"\n",
       "  369.657,538.004 2352.76,538.004 \n",
       "  \"/>\n",
       "<polyline clip-path=\"url(#clip102)\" style=\"stroke:#000000; stroke-linecap:round; stroke-linejoin:round; stroke-width:2; stroke-opacity:0.1; fill:none\" points=\"\n",
       "  369.657,332.83 2352.76,332.83 \n",
       "  \"/>\n",
       "<polyline clip-path=\"url(#clip102)\" style=\"stroke:#000000; stroke-linecap:round; stroke-linejoin:round; stroke-width:2; stroke-opacity:0.1; fill:none\" points=\"\n",
       "  369.657,127.657 2352.76,127.657 \n",
       "  \"/>\n",
       "<polyline clip-path=\"url(#clip100)\" style=\"stroke:#000000; stroke-linecap:round; stroke-linejoin:round; stroke-width:4; stroke-opacity:1; fill:none\" points=\"\n",
       "  369.657,1423.18 369.657,47.2441 \n",
       "  \"/>\n",
       "<polyline clip-path=\"url(#clip100)\" style=\"stroke:#000000; stroke-linecap:round; stroke-linejoin:round; stroke-width:4; stroke-opacity:1; fill:none\" points=\"\n",
       "  369.657,1358.7 388.555,1358.7 \n",
       "  \"/>\n",
       "<polyline clip-path=\"url(#clip100)\" style=\"stroke:#000000; stroke-linecap:round; stroke-linejoin:round; stroke-width:4; stroke-opacity:1; fill:none\" points=\"\n",
       "  369.657,1153.52 388.555,1153.52 \n",
       "  \"/>\n",
       "<polyline clip-path=\"url(#clip100)\" style=\"stroke:#000000; stroke-linecap:round; stroke-linejoin:round; stroke-width:4; stroke-opacity:1; fill:none\" points=\"\n",
       "  369.657,948.351 388.555,948.351 \n",
       "  \"/>\n",
       "<polyline clip-path=\"url(#clip100)\" style=\"stroke:#000000; stroke-linecap:round; stroke-linejoin:round; stroke-width:4; stroke-opacity:1; fill:none\" points=\"\n",
       "  369.657,743.177 388.555,743.177 \n",
       "  \"/>\n",
       "<polyline clip-path=\"url(#clip100)\" style=\"stroke:#000000; stroke-linecap:round; stroke-linejoin:round; stroke-width:4; stroke-opacity:1; fill:none\" points=\"\n",
       "  369.657,538.004 388.555,538.004 \n",
       "  \"/>\n",
       "<polyline clip-path=\"url(#clip100)\" style=\"stroke:#000000; stroke-linecap:round; stroke-linejoin:round; stroke-width:4; stroke-opacity:1; fill:none\" points=\"\n",
       "  369.657,332.83 388.555,332.83 \n",
       "  \"/>\n",
       "<polyline clip-path=\"url(#clip100)\" style=\"stroke:#000000; stroke-linecap:round; stroke-linejoin:round; stroke-width:4; stroke-opacity:1; fill:none\" points=\"\n",
       "  369.657,127.657 388.555,127.657 \n",
       "  \"/>\n",
       "<path clip-path=\"url(#clip100)\" d=\"M321.713 1344.5 Q318.102 1344.5 316.273 1348.06 Q314.467 1351.6 314.467 1358.73 Q314.467 1365.84 316.273 1369.4 Q318.102 1372.95 321.713 1372.95 Q325.347 1372.95 327.153 1369.4 Q328.981 1365.84 328.981 1358.73 Q328.981 1351.6 327.153 1348.06 Q325.347 1344.5 321.713 1344.5 M321.713 1340.79 Q327.523 1340.79 330.578 1345.4 Q333.657 1349.98 333.657 1358.73 Q333.657 1367.46 330.578 1372.07 Q327.523 1376.65 321.713 1376.65 Q315.903 1376.65 312.824 1372.07 Q309.768 1367.46 309.768 1358.73 Q309.768 1349.98 312.824 1345.4 Q315.903 1340.79 321.713 1340.79 Z\" fill=\"#000000\" fill-rule=\"evenodd\" fill-opacity=\"1\" /><path clip-path=\"url(#clip100)\" d=\"M121.043 1173.32 L137.362 1173.32 L137.362 1177.25 L115.418 1177.25 L115.418 1173.32 Q118.08 1170.56 122.663 1165.93 Q127.269 1161.28 128.45 1159.94 Q130.695 1157.41 131.575 1155.68 Q132.478 1153.92 132.478 1152.23 Q132.478 1149.47 130.533 1147.74 Q128.612 1146 125.51 1146 Q123.311 1146 120.857 1146.77 Q118.427 1147.53 115.649 1149.08 L115.649 1144.36 Q118.473 1143.22 120.927 1142.65 Q123.38 1142.07 125.418 1142.07 Q130.788 1142.07 133.982 1144.75 Q137.177 1147.44 137.177 1151.93 Q137.177 1154.06 136.367 1155.98 Q135.579 1157.88 133.473 1160.47 Q132.894 1161.14 129.792 1164.36 Q126.691 1167.55 121.043 1173.32 Z\" fill=\"#000000\" fill-rule=\"evenodd\" fill-opacity=\"1\" /><path clip-path=\"url(#clip100)\" d=\"M147.177 1171.37 L152.061 1171.37 L152.061 1177.25 L147.177 1177.25 L147.177 1171.37 Z\" fill=\"#000000\" fill-rule=\"evenodd\" fill-opacity=\"1\" /><path clip-path=\"url(#clip100)\" d=\"M172.246 1145.77 Q168.635 1145.77 166.806 1149.34 Q165.001 1152.88 165.001 1160.01 Q165.001 1167.11 166.806 1170.68 Q168.635 1174.22 172.246 1174.22 Q175.88 1174.22 177.686 1170.68 Q179.514 1167.11 179.514 1160.01 Q179.514 1152.88 177.686 1149.34 Q175.88 1145.77 172.246 1145.77 M172.246 1142.07 Q178.056 1142.07 181.112 1146.67 Q184.19 1151.26 184.19 1160.01 Q184.19 1168.73 181.112 1173.34 Q178.056 1177.92 172.246 1177.92 Q166.436 1177.92 163.357 1173.34 Q160.302 1168.73 160.302 1160.01 Q160.302 1151.26 163.357 1146.67 Q166.436 1142.07 172.246 1142.07 Z\" fill=\"#000000\" fill-rule=\"evenodd\" fill-opacity=\"1\" /><path clip-path=\"url(#clip100)\" d=\"M202.408 1145.77 Q198.797 1145.77 196.968 1149.34 Q195.163 1152.88 195.163 1160.01 Q195.163 1167.11 196.968 1170.68 Q198.797 1174.22 202.408 1174.22 Q206.042 1174.22 207.848 1170.68 Q209.676 1167.11 209.676 1160.01 Q209.676 1152.88 207.848 1149.34 Q206.042 1145.77 202.408 1145.77 M202.408 1142.07 Q208.218 1142.07 211.274 1146.67 Q214.352 1151.26 214.352 1160.01 Q214.352 1168.73 211.274 1173.34 Q208.218 1177.92 202.408 1177.92 Q196.598 1177.92 193.519 1173.34 Q190.463 1168.73 190.463 1160.01 Q190.463 1151.26 193.519 1146.67 Q196.598 1142.07 202.408 1142.07 Z\" fill=\"#000000\" fill-rule=\"evenodd\" fill-opacity=\"1\" /><path clip-path=\"url(#clip100)\" d=\"M250.741 1151.79 L240.162 1162.41 L250.741 1172.99 L247.986 1175.79 L237.361 1165.17 L226.736 1175.79 L224.005 1172.99 L234.56 1162.41 L224.005 1151.79 L226.736 1148.99 L237.361 1159.61 L247.986 1148.99 L250.741 1151.79 Z\" fill=\"#000000\" fill-rule=\"evenodd\" fill-opacity=\"1\" /><path clip-path=\"url(#clip100)\" d=\"M263.102 1173.32 L270.741 1173.32 L270.741 1146.95 L262.431 1148.62 L262.431 1144.36 L270.695 1142.69 L275.37 1142.69 L275.37 1173.32 L283.009 1173.32 L283.009 1177.25 L263.102 1177.25 L263.102 1173.32 Z\" fill=\"#000000\" fill-rule=\"evenodd\" fill-opacity=\"1\" /><path clip-path=\"url(#clip100)\" d=\"M302.454 1145.77 Q298.843 1145.77 297.014 1149.34 Q295.208 1152.88 295.208 1160.01 Q295.208 1167.11 297.014 1170.68 Q298.843 1174.22 302.454 1174.22 Q306.088 1174.22 307.893 1170.68 Q309.722 1167.11 309.722 1160.01 Q309.722 1152.88 307.893 1149.34 Q306.088 1145.77 302.454 1145.77 M302.454 1142.07 Q308.264 1142.07 311.319 1146.67 Q314.398 1151.26 314.398 1160.01 Q314.398 1168.73 311.319 1173.34 Q308.264 1177.92 302.454 1177.92 Q296.643 1177.92 293.565 1173.34 Q290.509 1168.73 290.509 1160.01 Q290.509 1151.26 293.565 1146.67 Q296.643 1142.07 302.454 1142.07 Z\" fill=\"#000000\" fill-rule=\"evenodd\" fill-opacity=\"1\" /><path clip-path=\"url(#clip100)\" d=\"M324.028 1136.51 Q321.319 1136.51 319.758 1137.95 Q318.216 1139.4 318.216 1141.94 Q318.216 1144.48 319.758 1145.93 Q321.319 1147.38 324.028 1147.38 Q326.736 1147.38 328.297 1145.93 Q329.858 1144.46 329.858 1141.94 Q329.858 1139.4 328.297 1137.95 Q326.755 1136.51 324.028 1136.51 M320.228 1134.89 Q317.783 1134.29 316.41 1132.61 Q315.056 1130.94 315.056 1128.53 Q315.056 1125.17 317.445 1123.21 Q319.852 1121.25 324.028 1121.25 Q328.222 1121.25 330.61 1123.21 Q332.999 1125.17 332.999 1128.53 Q332.999 1130.94 331.626 1132.61 Q330.272 1134.29 327.846 1134.89 Q330.591 1135.53 332.115 1137.39 Q333.657 1139.25 333.657 1141.94 Q333.657 1146.02 331.156 1148.21 Q328.673 1150.39 324.028 1150.39 Q319.382 1150.39 316.881 1148.21 Q314.398 1146.02 314.398 1141.94 Q314.398 1139.25 315.94 1137.39 Q317.482 1135.53 320.228 1134.89 M318.837 1128.89 Q318.837 1131.07 320.191 1132.29 Q321.564 1133.52 324.028 1133.52 Q326.473 1133.52 327.846 1132.29 Q329.237 1131.07 329.237 1128.89 Q329.237 1126.71 327.846 1125.49 Q326.473 1124.26 324.028 1124.26 Q321.564 1124.26 320.191 1125.49 Q318.837 1126.71 318.837 1128.89 Z\" fill=\"#000000\" fill-rule=\"evenodd\" fill-opacity=\"1\" /><path clip-path=\"url(#clip100)\" d=\"M129.862 941.592 L118.056 960.041 L129.862 960.041 L129.862 941.592 M128.635 937.518 L134.515 937.518 L134.515 960.041 L139.445 960.041 L139.445 963.93 L134.515 963.93 L134.515 972.078 L129.862 972.078 L129.862 963.93 L114.26 963.93 L114.26 959.416 L128.635 937.518 Z\" fill=\"#000000\" fill-rule=\"evenodd\" fill-opacity=\"1\" /><path clip-path=\"url(#clip100)\" d=\"M147.177 966.199 L152.061 966.199 L152.061 972.078 L147.177 972.078 L147.177 966.199 Z\" fill=\"#000000\" fill-rule=\"evenodd\" fill-opacity=\"1\" /><path clip-path=\"url(#clip100)\" d=\"M172.246 940.597 Q168.635 940.597 166.806 944.162 Q165.001 947.703 165.001 954.833 Q165.001 961.939 166.806 965.504 Q168.635 969.046 172.246 969.046 Q175.88 969.046 177.686 965.504 Q179.514 961.939 179.514 954.833 Q179.514 947.703 177.686 944.162 Q175.88 940.597 172.246 940.597 M172.246 936.893 Q178.056 936.893 181.112 941.5 Q184.19 946.083 184.19 954.833 Q184.19 963.56 181.112 968.166 Q178.056 972.75 172.246 972.75 Q166.436 972.75 163.357 968.166 Q160.302 963.56 160.302 954.833 Q160.302 946.083 163.357 941.5 Q166.436 936.893 172.246 936.893 Z\" fill=\"#000000\" fill-rule=\"evenodd\" fill-opacity=\"1\" /><path clip-path=\"url(#clip100)\" d=\"M202.408 940.597 Q198.797 940.597 196.968 944.162 Q195.163 947.703 195.163 954.833 Q195.163 961.939 196.968 965.504 Q198.797 969.046 202.408 969.046 Q206.042 969.046 207.848 965.504 Q209.676 961.939 209.676 954.833 Q209.676 947.703 207.848 944.162 Q206.042 940.597 202.408 940.597 M202.408 936.893 Q208.218 936.893 211.274 941.5 Q214.352 946.083 214.352 954.833 Q214.352 963.56 211.274 968.166 Q208.218 972.75 202.408 972.75 Q196.598 972.75 193.519 968.166 Q190.463 963.56 190.463 954.833 Q190.463 946.083 193.519 941.5 Q196.598 936.893 202.408 936.893 Z\" fill=\"#000000\" fill-rule=\"evenodd\" fill-opacity=\"1\" /><path clip-path=\"url(#clip100)\" d=\"M250.741 946.615 L240.162 957.24 L250.741 967.819 L247.986 970.62 L237.361 959.995 L226.736 970.62 L224.005 967.819 L234.56 957.24 L224.005 946.615 L226.736 943.815 L237.361 954.439 L247.986 943.815 L250.741 946.615 Z\" fill=\"#000000\" fill-rule=\"evenodd\" fill-opacity=\"1\" /><path clip-path=\"url(#clip100)\" d=\"M263.102 968.143 L270.741 968.143 L270.741 941.777 L262.431 943.444 L262.431 939.185 L270.695 937.518 L275.37 937.518 L275.37 968.143 L283.009 968.143 L283.009 972.078 L263.102 972.078 L263.102 968.143 Z\" fill=\"#000000\" fill-rule=\"evenodd\" fill-opacity=\"1\" /><path clip-path=\"url(#clip100)\" d=\"M302.454 940.597 Q298.843 940.597 297.014 944.162 Q295.208 947.703 295.208 954.833 Q295.208 961.939 297.014 965.504 Q298.843 969.046 302.454 969.046 Q306.088 969.046 307.893 965.504 Q309.722 961.939 309.722 954.833 Q309.722 947.703 307.893 944.162 Q306.088 940.597 302.454 940.597 M302.454 936.893 Q308.264 936.893 311.319 941.5 Q314.398 946.083 314.398 954.833 Q314.398 963.56 311.319 968.166 Q308.264 972.75 302.454 972.75 Q296.643 972.75 293.565 968.166 Q290.509 963.56 290.509 954.833 Q290.509 946.083 293.565 941.5 Q296.643 936.893 302.454 936.893 Z\" fill=\"#000000\" fill-rule=\"evenodd\" fill-opacity=\"1\" /><path clip-path=\"url(#clip100)\" d=\"M324.028 931.333 Q321.319 931.333 319.758 932.781 Q318.216 934.23 318.216 936.769 Q318.216 939.308 319.758 940.756 Q321.319 942.204 324.028 942.204 Q326.736 942.204 328.297 940.756 Q329.858 939.289 329.858 936.769 Q329.858 934.23 328.297 932.781 Q326.755 931.333 324.028 931.333 M320.228 929.716 Q317.783 929.114 316.41 927.44 Q315.056 925.766 315.056 923.359 Q315.056 919.992 317.445 918.036 Q319.852 916.08 324.028 916.08 Q328.222 916.08 330.61 918.036 Q332.999 919.992 332.999 923.359 Q332.999 925.766 331.626 927.44 Q330.272 929.114 327.846 929.716 Q330.591 930.355 332.115 932.217 Q333.657 934.079 333.657 936.769 Q333.657 940.85 331.156 943.032 Q328.673 945.213 324.028 945.213 Q319.382 945.213 316.881 943.032 Q314.398 940.85 314.398 936.769 Q314.398 934.079 315.94 932.217 Q317.482 930.355 320.228 929.716 M318.837 923.716 Q318.837 925.898 320.191 927.12 Q321.564 928.343 324.028 928.343 Q326.473 928.343 327.846 927.12 Q329.237 925.898 329.237 923.716 Q329.237 921.534 327.846 920.312 Q326.473 919.089 324.028 919.089 Q321.564 919.089 320.191 920.312 Q318.837 921.534 318.837 923.716 Z\" fill=\"#000000\" fill-rule=\"evenodd\" fill-opacity=\"1\" /><path clip-path=\"url(#clip100)\" d=\"M127.593 747.761 Q124.445 747.761 122.593 749.914 Q120.765 752.067 120.765 755.817 Q120.765 759.544 122.593 761.72 Q124.445 763.872 127.593 763.872 Q130.742 763.872 132.57 761.72 Q134.422 759.544 134.422 755.817 Q134.422 752.067 132.57 749.914 Q130.742 747.761 127.593 747.761 M136.876 733.109 L136.876 737.368 Q135.117 736.535 133.311 736.095 Q131.529 735.655 129.769 735.655 Q125.14 735.655 122.686 738.78 Q120.255 741.905 119.908 748.224 Q121.274 746.21 123.334 745.146 Q125.394 744.058 127.871 744.058 Q133.08 744.058 136.089 747.229 Q139.121 750.377 139.121 755.817 Q139.121 761.141 135.973 764.358 Q132.825 767.576 127.593 767.576 Q121.598 767.576 118.427 762.993 Q115.256 758.386 115.256 749.659 Q115.256 741.465 119.144 736.604 Q123.033 731.72 129.584 731.72 Q131.343 731.72 133.126 732.067 Q134.931 732.414 136.876 733.109 Z\" fill=\"#000000\" fill-rule=\"evenodd\" fill-opacity=\"1\" /><path clip-path=\"url(#clip100)\" d=\"M147.177 761.025 L152.061 761.025 L152.061 766.905 L147.177 766.905 L147.177 761.025 Z\" fill=\"#000000\" fill-rule=\"evenodd\" fill-opacity=\"1\" /><path clip-path=\"url(#clip100)\" d=\"M172.246 735.423 Q168.635 735.423 166.806 738.988 Q165.001 742.53 165.001 749.659 Q165.001 756.766 166.806 760.331 Q168.635 763.872 172.246 763.872 Q175.88 763.872 177.686 760.331 Q179.514 756.766 179.514 749.659 Q179.514 742.53 177.686 738.988 Q175.88 735.423 172.246 735.423 M172.246 731.72 Q178.056 731.72 181.112 736.326 Q184.19 740.91 184.19 749.659 Q184.19 758.386 181.112 762.993 Q178.056 767.576 172.246 767.576 Q166.436 767.576 163.357 762.993 Q160.302 758.386 160.302 749.659 Q160.302 740.91 163.357 736.326 Q166.436 731.72 172.246 731.72 Z\" fill=\"#000000\" fill-rule=\"evenodd\" fill-opacity=\"1\" /><path clip-path=\"url(#clip100)\" d=\"M202.408 735.423 Q198.797 735.423 196.968 738.988 Q195.163 742.53 195.163 749.659 Q195.163 756.766 196.968 760.331 Q198.797 763.872 202.408 763.872 Q206.042 763.872 207.848 760.331 Q209.676 756.766 209.676 749.659 Q209.676 742.53 207.848 738.988 Q206.042 735.423 202.408 735.423 M202.408 731.72 Q208.218 731.72 211.274 736.326 Q214.352 740.91 214.352 749.659 Q214.352 758.386 211.274 762.993 Q208.218 767.576 202.408 767.576 Q196.598 767.576 193.519 762.993 Q190.463 758.386 190.463 749.659 Q190.463 740.91 193.519 736.326 Q196.598 731.72 202.408 731.72 Z\" fill=\"#000000\" fill-rule=\"evenodd\" fill-opacity=\"1\" /><path clip-path=\"url(#clip100)\" d=\"M250.741 741.442 L240.162 752.067 L250.741 762.646 L247.986 765.446 L237.361 754.821 L226.736 765.446 L224.005 762.646 L234.56 752.067 L224.005 741.442 L226.736 738.641 L237.361 749.266 L247.986 738.641 L250.741 741.442 Z\" fill=\"#000000\" fill-rule=\"evenodd\" fill-opacity=\"1\" /><path clip-path=\"url(#clip100)\" d=\"M263.102 762.97 L270.741 762.97 L270.741 736.604 L262.431 738.271 L262.431 734.011 L270.695 732.345 L275.37 732.345 L275.37 762.97 L283.009 762.97 L283.009 766.905 L263.102 766.905 L263.102 762.97 Z\" fill=\"#000000\" fill-rule=\"evenodd\" fill-opacity=\"1\" /><path clip-path=\"url(#clip100)\" d=\"M302.454 735.423 Q298.843 735.423 297.014 738.988 Q295.208 742.53 295.208 749.659 Q295.208 756.766 297.014 760.331 Q298.843 763.872 302.454 763.872 Q306.088 763.872 307.893 760.331 Q309.722 756.766 309.722 749.659 Q309.722 742.53 307.893 738.988 Q306.088 735.423 302.454 735.423 M302.454 731.72 Q308.264 731.72 311.319 736.326 Q314.398 740.91 314.398 749.659 Q314.398 758.386 311.319 762.993 Q308.264 767.576 302.454 767.576 Q296.643 767.576 293.565 762.993 Q290.509 758.386 290.509 749.659 Q290.509 740.91 293.565 736.326 Q296.643 731.72 302.454 731.72 Z\" fill=\"#000000\" fill-rule=\"evenodd\" fill-opacity=\"1\" /><path clip-path=\"url(#clip100)\" d=\"M324.028 726.16 Q321.319 726.16 319.758 727.608 Q318.216 729.056 318.216 731.595 Q318.216 734.134 319.758 735.582 Q321.319 737.031 324.028 737.031 Q326.736 737.031 328.297 735.582 Q329.858 734.115 329.858 731.595 Q329.858 729.056 328.297 727.608 Q326.755 726.16 324.028 726.16 M320.228 724.542 Q317.783 723.94 316.41 722.266 Q315.056 720.593 315.056 718.185 Q315.056 714.819 317.445 712.863 Q319.852 710.907 324.028 710.907 Q328.222 710.907 330.61 712.863 Q332.999 714.819 332.999 718.185 Q332.999 720.593 331.626 722.266 Q330.272 723.94 327.846 724.542 Q330.591 725.182 332.115 727.044 Q333.657 728.906 333.657 731.595 Q333.657 735.676 331.156 737.858 Q328.673 740.04 324.028 740.04 Q319.382 740.04 316.881 737.858 Q314.398 735.676 314.398 731.595 Q314.398 728.906 315.94 727.044 Q317.482 725.182 320.228 724.542 M318.837 718.542 Q318.837 720.724 320.191 721.947 Q321.564 723.169 324.028 723.169 Q326.473 723.169 327.846 721.947 Q329.237 720.724 329.237 718.542 Q329.237 716.361 327.846 715.138 Q326.473 713.916 324.028 713.916 Q321.564 713.916 320.191 715.138 Q318.837 716.361 318.837 718.542 Z\" fill=\"#000000\" fill-rule=\"evenodd\" fill-opacity=\"1\" /><path clip-path=\"url(#clip100)\" d=\"M127.015 545.319 Q123.681 545.319 121.76 547.102 Q119.862 548.884 119.862 552.009 Q119.862 555.134 121.76 556.916 Q123.681 558.699 127.015 558.699 Q130.348 558.699 132.269 556.916 Q134.191 555.111 134.191 552.009 Q134.191 548.884 132.269 547.102 Q130.371 545.319 127.015 545.319 M122.339 543.329 Q119.33 542.588 117.64 540.528 Q115.973 538.467 115.973 535.505 Q115.973 531.361 118.913 528.954 Q121.876 526.546 127.015 526.546 Q132.177 526.546 135.117 528.954 Q138.056 531.361 138.056 535.505 Q138.056 538.467 136.367 540.528 Q134.7 542.588 131.714 543.329 Q135.093 544.116 136.968 546.407 Q138.867 548.699 138.867 552.009 Q138.867 557.032 135.788 559.717 Q132.732 562.403 127.015 562.403 Q121.297 562.403 118.218 559.717 Q115.163 557.032 115.163 552.009 Q115.163 548.699 117.061 546.407 Q118.959 544.116 122.339 543.329 M120.626 535.944 Q120.626 538.63 122.293 540.134 Q123.982 541.639 127.015 541.639 Q130.024 541.639 131.714 540.134 Q133.427 538.63 133.427 535.944 Q133.427 533.259 131.714 531.755 Q130.024 530.25 127.015 530.25 Q123.982 530.25 122.293 531.755 Q120.626 533.259 120.626 535.944 Z\" fill=\"#000000\" fill-rule=\"evenodd\" fill-opacity=\"1\" /><path clip-path=\"url(#clip100)\" d=\"M147.177 555.852 L152.061 555.852 L152.061 561.731 L147.177 561.731 L147.177 555.852 Z\" fill=\"#000000\" fill-rule=\"evenodd\" fill-opacity=\"1\" /><path clip-path=\"url(#clip100)\" d=\"M172.246 530.25 Q168.635 530.25 166.806 533.815 Q165.001 537.356 165.001 544.486 Q165.001 551.592 166.806 555.157 Q168.635 558.699 172.246 558.699 Q175.88 558.699 177.686 555.157 Q179.514 551.592 179.514 544.486 Q179.514 537.356 177.686 533.815 Q175.88 530.25 172.246 530.25 M172.246 526.546 Q178.056 526.546 181.112 531.153 Q184.19 535.736 184.19 544.486 Q184.19 553.213 181.112 557.819 Q178.056 562.403 172.246 562.403 Q166.436 562.403 163.357 557.819 Q160.302 553.213 160.302 544.486 Q160.302 535.736 163.357 531.153 Q166.436 526.546 172.246 526.546 Z\" fill=\"#000000\" fill-rule=\"evenodd\" fill-opacity=\"1\" /><path clip-path=\"url(#clip100)\" d=\"M202.408 530.25 Q198.797 530.25 196.968 533.815 Q195.163 537.356 195.163 544.486 Q195.163 551.592 196.968 555.157 Q198.797 558.699 202.408 558.699 Q206.042 558.699 207.848 555.157 Q209.676 551.592 209.676 544.486 Q209.676 537.356 207.848 533.815 Q206.042 530.25 202.408 530.25 M202.408 526.546 Q208.218 526.546 211.274 531.153 Q214.352 535.736 214.352 544.486 Q214.352 553.213 211.274 557.819 Q208.218 562.403 202.408 562.403 Q196.598 562.403 193.519 557.819 Q190.463 553.213 190.463 544.486 Q190.463 535.736 193.519 531.153 Q196.598 526.546 202.408 526.546 Z\" fill=\"#000000\" fill-rule=\"evenodd\" fill-opacity=\"1\" /><path clip-path=\"url(#clip100)\" d=\"M250.741 536.268 L240.162 546.893 L250.741 557.472 L247.986 560.273 L237.361 549.648 L226.736 560.273 L224.005 557.472 L234.56 546.893 L224.005 536.268 L226.736 533.468 L237.361 544.092 L247.986 533.468 L250.741 536.268 Z\" fill=\"#000000\" fill-rule=\"evenodd\" fill-opacity=\"1\" /><path clip-path=\"url(#clip100)\" d=\"M263.102 557.796 L270.741 557.796 L270.741 531.43 L262.431 533.097 L262.431 528.838 L270.695 527.171 L275.37 527.171 L275.37 557.796 L283.009 557.796 L283.009 561.731 L263.102 561.731 L263.102 557.796 Z\" fill=\"#000000\" fill-rule=\"evenodd\" fill-opacity=\"1\" /><path clip-path=\"url(#clip100)\" d=\"M302.454 530.25 Q298.843 530.25 297.014 533.815 Q295.208 537.356 295.208 544.486 Q295.208 551.592 297.014 555.157 Q298.843 558.699 302.454 558.699 Q306.088 558.699 307.893 555.157 Q309.722 551.592 309.722 544.486 Q309.722 537.356 307.893 533.815 Q306.088 530.25 302.454 530.25 M302.454 526.546 Q308.264 526.546 311.319 531.153 Q314.398 535.736 314.398 544.486 Q314.398 553.213 311.319 557.819 Q308.264 562.403 302.454 562.403 Q296.643 562.403 293.565 557.819 Q290.509 553.213 290.509 544.486 Q290.509 535.736 293.565 531.153 Q296.643 526.546 302.454 526.546 Z\" fill=\"#000000\" fill-rule=\"evenodd\" fill-opacity=\"1\" /><path clip-path=\"url(#clip100)\" d=\"M324.028 520.986 Q321.319 520.986 319.758 522.434 Q318.216 523.883 318.216 526.422 Q318.216 528.961 319.758 530.409 Q321.319 531.857 324.028 531.857 Q326.736 531.857 328.297 530.409 Q329.858 528.942 329.858 526.422 Q329.858 523.883 328.297 522.434 Q326.755 520.986 324.028 520.986 M320.228 519.369 Q317.783 518.767 316.41 517.093 Q315.056 515.419 315.056 513.012 Q315.056 509.645 317.445 507.689 Q319.852 505.733 324.028 505.733 Q328.222 505.733 330.61 507.689 Q332.999 509.645 332.999 513.012 Q332.999 515.419 331.626 517.093 Q330.272 518.767 327.846 519.369 Q330.591 520.008 332.115 521.87 Q333.657 523.732 333.657 526.422 Q333.657 530.503 331.156 532.685 Q328.673 534.866 324.028 534.866 Q319.382 534.866 316.881 532.685 Q314.398 530.503 314.398 526.422 Q314.398 523.732 315.94 521.87 Q317.482 520.008 320.228 519.369 M318.837 513.369 Q318.837 515.551 320.191 516.773 Q321.564 517.996 324.028 517.996 Q326.473 517.996 327.846 516.773 Q329.237 515.551 329.237 513.369 Q329.237 511.187 327.846 509.965 Q326.473 508.742 324.028 508.742 Q321.564 508.742 320.191 509.965 Q318.837 511.187 318.837 513.369 Z\" fill=\"#000000\" fill-rule=\"evenodd\" fill-opacity=\"1\" /><path clip-path=\"url(#clip100)\" d=\"M117.712 352.623 L125.351 352.623 L125.351 326.257 L117.041 327.924 L117.041 323.664 L125.305 321.998 L129.981 321.998 L129.981 352.623 L137.619 352.623 L137.619 356.558 L117.712 356.558 L117.712 352.623 Z\" fill=\"#000000\" fill-rule=\"evenodd\" fill-opacity=\"1\" /><path clip-path=\"url(#clip100)\" d=\"M147.064 350.678 L151.948 350.678 L151.948 356.558 L147.064 356.558 L147.064 350.678 Z\" fill=\"#000000\" fill-rule=\"evenodd\" fill-opacity=\"1\" /><path clip-path=\"url(#clip100)\" d=\"M172.133 325.076 Q168.522 325.076 166.693 328.641 Q164.888 332.183 164.888 339.312 Q164.888 346.419 166.693 349.984 Q168.522 353.525 172.133 353.525 Q175.767 353.525 177.573 349.984 Q179.402 346.419 179.402 339.312 Q179.402 332.183 177.573 328.641 Q175.767 325.076 172.133 325.076 M172.133 321.373 Q177.943 321.373 180.999 325.979 Q184.077 330.563 184.077 339.312 Q184.077 348.039 180.999 352.646 Q177.943 357.229 172.133 357.229 Q166.323 357.229 163.244 352.646 Q160.189 348.039 160.189 339.312 Q160.189 330.563 163.244 325.979 Q166.323 321.373 172.133 321.373 Z\" fill=\"#000000\" fill-rule=\"evenodd\" fill-opacity=\"1\" /><path clip-path=\"url(#clip100)\" d=\"M202.295 325.076 Q198.684 325.076 196.855 328.641 Q195.05 332.183 195.05 339.312 Q195.05 346.419 196.855 349.984 Q198.684 353.525 202.295 353.525 Q205.929 353.525 207.735 349.984 Q209.563 346.419 209.563 339.312 Q209.563 332.183 207.735 328.641 Q205.929 325.076 202.295 325.076 M202.295 321.373 Q208.105 321.373 211.161 325.979 Q214.239 330.563 214.239 339.312 Q214.239 348.039 211.161 352.646 Q208.105 357.229 202.295 357.229 Q196.485 357.229 193.406 352.646 Q190.351 348.039 190.351 339.312 Q190.351 330.563 193.406 325.979 Q196.485 321.373 202.295 321.373 Z\" fill=\"#000000\" fill-rule=\"evenodd\" fill-opacity=\"1\" /><path clip-path=\"url(#clip100)\" d=\"M250.628 331.095 L240.049 341.72 L250.628 352.299 L247.873 355.099 L237.249 344.474 L226.624 355.099 L223.892 352.299 L234.448 341.72 L223.892 331.095 L226.624 328.294 L237.249 338.919 L247.873 328.294 L250.628 331.095 Z\" fill=\"#000000\" fill-rule=\"evenodd\" fill-opacity=\"1\" /><path clip-path=\"url(#clip100)\" d=\"M262.989 352.623 L270.628 352.623 L270.628 326.257 L262.318 327.924 L262.318 323.664 L270.582 321.998 L275.258 321.998 L275.258 352.623 L282.896 352.623 L282.896 356.558 L262.989 356.558 L262.989 352.623 Z\" fill=\"#000000\" fill-rule=\"evenodd\" fill-opacity=\"1\" /><path clip-path=\"url(#clip100)\" d=\"M302.341 325.076 Q298.73 325.076 296.901 328.641 Q295.095 332.183 295.095 339.312 Q295.095 346.419 296.901 349.984 Q298.73 353.525 302.341 353.525 Q305.975 353.525 307.781 349.984 Q309.609 346.419 309.609 339.312 Q309.609 332.183 307.781 328.641 Q305.975 325.076 302.341 325.076 M302.341 321.373 Q308.151 321.373 311.206 325.979 Q314.285 330.563 314.285 339.312 Q314.285 348.039 311.206 352.646 Q308.151 357.229 302.341 357.229 Q296.531 357.229 293.452 352.646 Q290.396 348.039 290.396 339.312 Q290.396 330.563 293.452 325.979 Q296.531 321.373 302.341 321.373 Z\" fill=\"#000000\" fill-rule=\"evenodd\" fill-opacity=\"1\" /><path clip-path=\"url(#clip100)\" d=\"M316.091 328.564 L316.091 325.104 Q317.52 325.781 318.987 326.138 Q320.454 326.495 321.865 326.495 Q325.626 326.495 327.601 323.975 Q329.595 321.436 329.877 316.283 Q328.786 317.9 327.112 318.765 Q325.438 319.631 323.407 319.631 Q319.194 319.631 316.73 317.092 Q314.285 314.534 314.285 310.114 Q314.285 305.788 316.843 303.174 Q319.401 300.56 323.651 300.56 Q328.523 300.56 331.08 304.302 Q333.657 308.026 333.657 315.136 Q333.657 321.775 330.497 325.743 Q327.357 329.693 322.034 329.693 Q320.605 329.693 319.138 329.411 Q317.671 329.129 316.091 328.564 M323.651 316.659 Q326.209 316.659 327.695 314.91 Q329.2 313.161 329.2 310.114 Q329.2 307.086 327.695 305.337 Q326.209 303.569 323.651 303.569 Q321.094 303.569 319.589 305.337 Q318.103 307.086 318.103 310.114 Q318.103 313.161 319.589 314.91 Q321.094 316.659 323.651 316.659 Z\" fill=\"#000000\" fill-rule=\"evenodd\" fill-opacity=\"1\" /><path clip-path=\"url(#clip100)\" d=\"M117.712 147.449 L125.351 147.449 L125.351 121.084 L117.041 122.75 L117.041 118.491 L125.305 116.824 L129.981 116.824 L129.981 147.449 L137.619 147.449 L137.619 151.384 L117.712 151.384 L117.712 147.449 Z\" fill=\"#000000\" fill-rule=\"evenodd\" fill-opacity=\"1\" /><path clip-path=\"url(#clip100)\" d=\"M147.064 145.505 L151.948 145.505 L151.948 151.384 L147.064 151.384 L147.064 145.505 Z\" fill=\"#000000\" fill-rule=\"evenodd\" fill-opacity=\"1\" /><path clip-path=\"url(#clip100)\" d=\"M166.161 147.449 L182.48 147.449 L182.48 151.384 L160.536 151.384 L160.536 147.449 Q163.198 144.694 167.781 140.065 Q172.388 135.412 173.568 134.07 Q175.814 131.546 176.693 129.81 Q177.596 128.051 177.596 126.361 Q177.596 123.607 175.652 121.871 Q173.73 120.134 170.628 120.134 Q168.429 120.134 165.976 120.898 Q163.545 121.662 160.767 123.213 L160.767 118.491 Q163.591 117.357 166.045 116.778 Q168.499 116.199 170.536 116.199 Q175.906 116.199 179.101 118.884 Q182.295 121.57 182.295 126.06 Q182.295 128.19 181.485 130.111 Q180.698 132.009 178.591 134.602 Q178.013 135.273 174.911 138.491 Q171.809 141.685 166.161 147.449 Z\" fill=\"#000000\" fill-rule=\"evenodd\" fill-opacity=\"1\" /><path clip-path=\"url(#clip100)\" d=\"M202.295 119.903 Q198.684 119.903 196.855 123.468 Q195.05 127.009 195.05 134.139 Q195.05 141.245 196.855 144.81 Q198.684 148.352 202.295 148.352 Q205.929 148.352 207.735 144.81 Q209.563 141.245 209.563 134.139 Q209.563 127.009 207.735 123.468 Q205.929 119.903 202.295 119.903 M202.295 116.199 Q208.105 116.199 211.161 120.806 Q214.239 125.389 214.239 134.139 Q214.239 142.866 211.161 147.472 Q208.105 152.056 202.295 152.056 Q196.485 152.056 193.406 147.472 Q190.351 142.866 190.351 134.139 Q190.351 125.389 193.406 120.806 Q196.485 116.199 202.295 116.199 Z\" fill=\"#000000\" fill-rule=\"evenodd\" fill-opacity=\"1\" /><path clip-path=\"url(#clip100)\" d=\"M250.628 125.921 L240.049 136.546 L250.628 147.125 L247.873 149.926 L237.249 139.301 L226.624 149.926 L223.892 147.125 L234.448 136.546 L223.892 125.921 L226.624 123.121 L237.249 133.745 L247.873 123.121 L250.628 125.921 Z\" fill=\"#000000\" fill-rule=\"evenodd\" fill-opacity=\"1\" /><path clip-path=\"url(#clip100)\" d=\"M262.989 147.449 L270.628 147.449 L270.628 121.084 L262.318 122.75 L262.318 118.491 L270.582 116.824 L275.258 116.824 L275.258 147.449 L282.896 147.449 L282.896 151.384 L262.989 151.384 L262.989 147.449 Z\" fill=\"#000000\" fill-rule=\"evenodd\" fill-opacity=\"1\" /><path clip-path=\"url(#clip100)\" d=\"M302.341 119.903 Q298.73 119.903 296.901 123.468 Q295.095 127.009 295.095 134.139 Q295.095 141.245 296.901 144.81 Q298.73 148.352 302.341 148.352 Q305.975 148.352 307.781 144.81 Q309.609 141.245 309.609 134.139 Q309.609 127.009 307.781 123.468 Q305.975 119.903 302.341 119.903 M302.341 116.199 Q308.151 116.199 311.206 120.806 Q314.285 125.389 314.285 134.139 Q314.285 142.866 311.206 147.472 Q308.151 152.056 302.341 152.056 Q296.531 152.056 293.452 147.472 Q290.396 142.866 290.396 134.139 Q290.396 125.389 293.452 120.806 Q296.531 116.199 302.341 116.199 Z\" fill=\"#000000\" fill-rule=\"evenodd\" fill-opacity=\"1\" /><path clip-path=\"url(#clip100)\" d=\"M316.091 123.391 L316.091 119.93 Q317.52 120.607 318.987 120.965 Q320.454 121.322 321.865 121.322 Q325.626 121.322 327.601 118.802 Q329.595 116.263 329.877 111.109 Q328.786 112.727 327.112 113.592 Q325.438 114.457 323.407 114.457 Q319.194 114.457 316.73 111.918 Q314.285 109.36 314.285 104.94 Q314.285 100.615 316.843 98.0003 Q319.401 95.3861 323.651 95.3861 Q328.523 95.3861 331.08 99.1288 Q333.657 102.853 333.657 109.962 Q333.657 116.601 330.497 120.57 Q327.357 124.519 322.034 124.519 Q320.605 124.519 319.138 124.237 Q317.671 123.955 316.091 123.391 M323.651 111.486 Q326.209 111.486 327.695 109.736 Q329.2 107.987 329.2 104.94 Q329.2 101.912 327.695 100.163 Q326.209 98.3953 323.651 98.3953 Q321.094 98.3953 319.589 100.163 Q318.103 101.912 318.103 104.94 Q318.103 107.987 319.589 109.736 Q321.094 111.486 323.651 111.486 Z\" fill=\"#000000\" fill-rule=\"evenodd\" fill-opacity=\"1\" /><path clip-path=\"url(#clip100)\" d=\"M14.479 755.487 L19.3487 755.487 L19.3487 761.089 Q19.3487 764.24 20.6219 765.481 Q21.895 766.69 25.2052 766.69 L28.3562 766.69 L28.3562 757.046 L32.9077 757.046 L32.9077 766.69 L64.0042 766.69 L64.0042 772.579 L32.9077 772.579 L32.9077 778.18 L28.3562 778.18 L28.3562 772.579 L25.8736 772.579 Q19.9216 772.579 17.2162 769.81 Q14.479 767.041 14.479 761.025 L14.479 755.487 Z\" fill=\"#000000\" fill-rule=\"evenodd\" fill-opacity=\"1\" /><path clip-path=\"url(#clip100)\" d=\"M14.5426 736.517 Q21.8632 740.782 29.0246 742.851 Q36.186 744.92 43.5384 744.92 Q50.8908 744.92 58.1159 742.851 Q65.3091 740.75 72.5979 736.517 L72.5979 741.61 Q65.1182 746.384 57.8931 748.771 Q50.668 751.126 43.5384 751.126 Q36.4406 751.126 29.2474 748.771 Q22.0542 746.416 14.5426 741.61 L14.5426 736.517 Z\" fill=\"#000000\" fill-rule=\"evenodd\" fill-opacity=\"1\" /><path clip-path=\"url(#clip100)\" d=\"M16.4842 724.9 L16.4842 718.47 L60.694 718.47 Q69.2877 718.47 73.1708 721.748 Q77.0539 724.995 77.0539 732.22 L77.0539 734.671 L71.643 734.671 L71.643 732.666 Q71.643 728.401 69.2559 726.65 Q66.8687 724.9 60.694 724.9 L16.4842 724.9 Z\" fill=\"#000000\" fill-rule=\"evenodd\" fill-opacity=\"1\" /><path clip-path=\"url(#clip100)\" d=\"M14.5426 706.853 L14.5426 701.76 Q22.0542 696.986 29.2474 694.631 Q36.4406 692.243 43.5384 692.243 Q50.668 692.243 57.8931 694.631 Q65.1182 696.986 72.5979 701.76 L72.5979 706.853 Q65.3091 702.62 58.1159 700.551 Q50.8908 698.45 43.5384 698.45 Q36.186 698.45 29.0246 700.551 Q21.8632 702.62 14.5426 706.853 Z\" fill=\"#000000\" fill-rule=\"evenodd\" fill-opacity=\"1\" /><polyline clip-path=\"url(#clip102)\" style=\"stroke:#009af9; stroke-linecap:round; stroke-linejoin:round; stroke-width:16; stroke-opacity:1; fill:none\" points=\"\n",
       "  369.657,1368.88 382.568,1369.49 501.95,1376.26 573.693,1380.17 634.351,1382.71 700.242,1384.24 760.988,1384.16 826.115,1382.15 901.57,1376.88 968.626,1369.15 \n",
       "  1027.43,1359.75 1059.48,1353.51 1091.54,1346.44 1123.78,1338.45 1156.03,1329.55 1191.68,1318.62 1227.33,1306.49 1261.25,1293.81 1295.17,1279.97 1330.44,1264.31 \n",
       "  1365.71,1247.33 1395.4,1231.97 1425.1,1215.62 1461.34,1194.29 1497.59,1171.4 1530.8,1149.03 1564,1125.29 1594.67,1102.13 1625.34,1077.75 1656.41,1051.79 \n",
       "  1687.47,1024.53 1722.29,992.406 1757.1,958.591 1788.65,926.46 1820.2,892.886 1856.32,852.645 1892.44,810.446 1925.89,769.597 1959.33,727.01 1992.31,683.296 \n",
       "  2025.28,637.839 2057.29,592.013 2089.31,544.495 2122.13,494.002 2154.95,441.681 2190.9,382.228 2226.86,320.518 2252.98,274.262 2279.09,226.785 2305.21,178.075 \n",
       "  2331.32,128.119 2336.68,117.716 2342.04,107.259 2347.4,96.7488 2352.76,86.1857 \n",
       "  \"/>\n",
       "<path clip-path=\"url(#clip100)\" d=\"\n",
       "M2013.88 196.789 L2286.65 196.789 L2286.65 93.1086 L2013.88 93.1086  Z\n",
       "  \" fill=\"#ffffff\" fill-rule=\"evenodd\" fill-opacity=\"1\"/>\n",
       "<polyline clip-path=\"url(#clip100)\" style=\"stroke:#000000; stroke-linecap:round; stroke-linejoin:round; stroke-width:4; stroke-opacity:1; fill:none\" points=\"\n",
       "  2013.88,196.789 2286.65,196.789 2286.65,93.1086 2013.88,93.1086 2013.88,196.789 \n",
       "  \"/>\n",
       "<polyline clip-path=\"url(#clip100)\" style=\"stroke:#009af9; stroke-linecap:round; stroke-linejoin:round; stroke-width:4; stroke-opacity:1; fill:none\" points=\"\n",
       "  2035.91,144.949 2168.12,144.949 \n",
       "  \"/>\n",
       "<path clip-path=\"url(#clip100)\" d=\"M2204 164.636 Q2202.19 169.266 2200.48 170.678 Q2198.76 172.09 2195.89 172.09 L2192.49 172.09 L2192.49 168.525 L2194.99 168.525 Q2196.75 168.525 2197.72 167.692 Q2198.7 166.858 2199.88 163.756 L2200.64 161.812 L2190.15 136.303 L2194.67 136.303 L2202.77 156.581 L2210.87 136.303 L2215.38 136.303 L2204 164.636 Z\" fill=\"#000000\" fill-rule=\"evenodd\" fill-opacity=\"1\" /><path clip-path=\"url(#clip100)\" d=\"M2222.68 158.293 L2230.32 158.293 L2230.32 131.928 L2222.01 133.595 L2222.01 129.335 L2230.27 127.669 L2234.94 127.669 L2234.94 158.293 L2242.58 158.293 L2242.58 162.229 L2222.68 162.229 L2222.68 158.293 Z\" fill=\"#000000\" fill-rule=\"evenodd\" fill-opacity=\"1\" /></svg>\n"
      ]
     },
     "execution_count": 11,
     "metadata": {},
     "output_type": "execute_result"
    }
   ],
   "source": [
    "function f(lambda, J)\n",
    "    C_1 = 1.5e6\n",
    "    D_1 = 1e8\n",
    "    D_1 * J^(8/3) - D_1 * J^(5/3) + C_1 / (3*lambda) * J - C_1 * lambda^2/3\n",
    "end\n",
    "plot(J -> f(4, J), xlims=(0.1, 3), xlabel=\"J\", ylabel=\"f(J)\")"
   ]
  },
  {
   "cell_type": "code",
   "execution_count": 63,
   "id": "f9993813",
   "metadata": {
    "cell_style": "split",
    "scrolled": false
   },
   "outputs": [
    {
     "data": {
      "image/svg+xml": [
       "<?xml version=\"1.0\" encoding=\"utf-8\"?>\n",
       "<svg xmlns=\"http://www.w3.org/2000/svg\" xmlns:xlink=\"http://www.w3.org/1999/xlink\" width=\"600\" height=\"400\" viewBox=\"0 0 2400 1600\">\n",
       "<defs>\n",
       "  <clipPath id=\"clip220\">\n",
       "    <rect x=\"0\" y=\"0\" width=\"2400\" height=\"1600\"/>\n",
       "  </clipPath>\n",
       "</defs>\n",
       "<path clip-path=\"url(#clip220)\" d=\"\n",
       "M0 1600 L2400 1600 L2400 0 L0 0  Z\n",
       "  \" fill=\"#ffffff\" fill-rule=\"evenodd\" fill-opacity=\"1\"/>\n",
       "<defs>\n",
       "  <clipPath id=\"clip221\">\n",
       "    <rect x=\"480\" y=\"0\" width=\"1681\" height=\"1600\"/>\n",
       "  </clipPath>\n",
       "</defs>\n",
       "<path clip-path=\"url(#clip220)\" d=\"\n",
       "M249.704 1423.18 L2352.76 1423.18 L2352.76 47.2441 L249.704 47.2441  Z\n",
       "  \" fill=\"#ffffff\" fill-rule=\"evenodd\" fill-opacity=\"1\"/>\n",
       "<defs>\n",
       "  <clipPath id=\"clip222\">\n",
       "    <rect x=\"249\" y=\"47\" width=\"2104\" height=\"1377\"/>\n",
       "  </clipPath>\n",
       "</defs>\n",
       "<polyline clip-path=\"url(#clip222)\" style=\"stroke:#000000; stroke-linecap:round; stroke-linejoin:round; stroke-width:2; stroke-opacity:0.1; fill:none\" points=\"\n",
       "  635.979,1423.18 635.979,47.2441 \n",
       "  \"/>\n",
       "<polyline clip-path=\"url(#clip222)\" style=\"stroke:#000000; stroke-linecap:round; stroke-linejoin:round; stroke-width:2; stroke-opacity:0.1; fill:none\" points=\"\n",
       "  1065.17,1423.18 1065.17,47.2441 \n",
       "  \"/>\n",
       "<polyline clip-path=\"url(#clip222)\" style=\"stroke:#000000; stroke-linecap:round; stroke-linejoin:round; stroke-width:2; stroke-opacity:0.1; fill:none\" points=\"\n",
       "  1494.37,1423.18 1494.37,47.2441 \n",
       "  \"/>\n",
       "<polyline clip-path=\"url(#clip222)\" style=\"stroke:#000000; stroke-linecap:round; stroke-linejoin:round; stroke-width:2; stroke-opacity:0.1; fill:none\" points=\"\n",
       "  1923.56,1423.18 1923.56,47.2441 \n",
       "  \"/>\n",
       "<polyline clip-path=\"url(#clip222)\" style=\"stroke:#000000; stroke-linecap:round; stroke-linejoin:round; stroke-width:2; stroke-opacity:0.1; fill:none\" points=\"\n",
       "  2352.76,1423.18 2352.76,47.2441 \n",
       "  \"/>\n",
       "<polyline clip-path=\"url(#clip220)\" style=\"stroke:#000000; stroke-linecap:round; stroke-linejoin:round; stroke-width:4; stroke-opacity:1; fill:none\" points=\"\n",
       "  249.704,1423.18 2352.76,1423.18 \n",
       "  \"/>\n",
       "<polyline clip-path=\"url(#clip220)\" style=\"stroke:#000000; stroke-linecap:round; stroke-linejoin:round; stroke-width:4; stroke-opacity:1; fill:none\" points=\"\n",
       "  635.979,1423.18 635.979,1404.28 \n",
       "  \"/>\n",
       "<polyline clip-path=\"url(#clip220)\" style=\"stroke:#000000; stroke-linecap:round; stroke-linejoin:round; stroke-width:4; stroke-opacity:1; fill:none\" points=\"\n",
       "  1065.17,1423.18 1065.17,1404.28 \n",
       "  \"/>\n",
       "<polyline clip-path=\"url(#clip220)\" style=\"stroke:#000000; stroke-linecap:round; stroke-linejoin:round; stroke-width:4; stroke-opacity:1; fill:none\" points=\"\n",
       "  1494.37,1423.18 1494.37,1404.28 \n",
       "  \"/>\n",
       "<polyline clip-path=\"url(#clip220)\" style=\"stroke:#000000; stroke-linecap:round; stroke-linejoin:round; stroke-width:4; stroke-opacity:1; fill:none\" points=\"\n",
       "  1923.56,1423.18 1923.56,1404.28 \n",
       "  \"/>\n",
       "<polyline clip-path=\"url(#clip220)\" style=\"stroke:#000000; stroke-linecap:round; stroke-linejoin:round; stroke-width:4; stroke-opacity:1; fill:none\" points=\"\n",
       "  2352.76,1423.18 2352.76,1404.28 \n",
       "  \"/>\n",
       "<path clip-path=\"url(#clip220)\" d=\"M626.361 1481.64 L634 1481.64 L634 1455.28 L625.69 1456.95 L625.69 1452.69 L633.953 1451.02 L638.629 1451.02 L638.629 1481.64 L646.268 1481.64 L646.268 1485.58 L626.361 1485.58 L626.361 1481.64 Z\" fill=\"#000000\" fill-rule=\"evenodd\" fill-opacity=\"1\" /><path clip-path=\"url(#clip220)\" d=\"M1059.83 1481.64 L1076.15 1481.64 L1076.15 1485.58 L1054.2 1485.58 L1054.2 1481.64 Q1056.86 1478.89 1061.45 1474.26 Q1066.05 1469.61 1067.23 1468.27 Q1069.48 1465.74 1070.36 1464.01 Q1071.26 1462.25 1071.26 1460.56 Q1071.26 1457.8 1069.32 1456.07 Q1067.4 1454.33 1064.29 1454.33 Q1062.09 1454.33 1059.64 1455.09 Q1057.21 1455.86 1054.43 1457.41 L1054.43 1452.69 Q1057.26 1451.55 1059.71 1450.97 Q1062.16 1450.39 1064.2 1450.39 Q1069.57 1450.39 1072.77 1453.08 Q1075.96 1455.77 1075.96 1460.26 Q1075.96 1462.39 1075.15 1464.31 Q1074.36 1466.2 1072.26 1468.8 Q1071.68 1469.47 1068.58 1472.69 Q1065.47 1475.88 1059.83 1481.64 Z\" fill=\"#000000\" fill-rule=\"evenodd\" fill-opacity=\"1\" /><path clip-path=\"url(#clip220)\" d=\"M1498.62 1466.95 Q1501.97 1467.66 1503.85 1469.93 Q1505.74 1472.2 1505.74 1475.53 Q1505.74 1480.65 1502.23 1483.45 Q1498.71 1486.25 1492.23 1486.25 Q1490.05 1486.25 1487.74 1485.81 Q1485.44 1485.39 1482.99 1484.54 L1482.99 1480.02 Q1484.93 1481.16 1487.25 1481.74 Q1489.56 1482.32 1492.09 1482.32 Q1496.49 1482.32 1498.78 1480.58 Q1501.09 1478.84 1501.09 1475.53 Q1501.09 1472.48 1498.94 1470.77 Q1496.81 1469.03 1492.99 1469.03 L1488.96 1469.03 L1488.96 1465.19 L1493.18 1465.19 Q1496.62 1465.19 1498.45 1463.82 Q1500.28 1462.43 1500.28 1459.84 Q1500.28 1457.18 1498.38 1455.77 Q1496.51 1454.33 1492.99 1454.33 Q1491.07 1454.33 1488.87 1454.75 Q1486.67 1455.16 1484.03 1456.04 L1484.03 1451.88 Q1486.69 1451.14 1489.01 1450.77 Q1491.35 1450.39 1493.41 1450.39 Q1498.73 1450.39 1501.83 1452.83 Q1504.93 1455.23 1504.93 1459.35 Q1504.93 1462.22 1503.29 1464.21 Q1501.65 1466.18 1498.62 1466.95 Z\" fill=\"#000000\" fill-rule=\"evenodd\" fill-opacity=\"1\" /><path clip-path=\"url(#clip220)\" d=\"M1926.57 1455.09 L1914.77 1473.54 L1926.57 1473.54 L1926.57 1455.09 M1925.34 1451.02 L1931.22 1451.02 L1931.22 1473.54 L1936.15 1473.54 L1936.15 1477.43 L1931.22 1477.43 L1931.22 1485.58 L1926.57 1485.58 L1926.57 1477.43 L1910.97 1477.43 L1910.97 1472.92 L1925.34 1451.02 Z\" fill=\"#000000\" fill-rule=\"evenodd\" fill-opacity=\"1\" /><path clip-path=\"url(#clip220)\" d=\"M2343.03 1451.02 L2361.39 1451.02 L2361.39 1454.96 L2347.32 1454.96 L2347.32 1463.43 Q2348.33 1463.08 2349.35 1462.92 Q2350.37 1462.73 2351.39 1462.73 Q2357.18 1462.73 2360.56 1465.9 Q2363.94 1469.08 2363.94 1474.49 Q2363.94 1480.07 2360.46 1483.17 Q2356.99 1486.25 2350.67 1486.25 Q2348.5 1486.25 2346.23 1485.88 Q2343.98 1485.51 2341.58 1484.77 L2341.58 1480.07 Q2343.66 1481.2 2345.88 1481.76 Q2348.1 1482.32 2350.58 1482.32 Q2354.58 1482.32 2356.92 1480.21 Q2359.26 1478.1 2359.26 1474.49 Q2359.26 1470.88 2356.92 1468.77 Q2354.58 1466.67 2350.58 1466.67 Q2348.71 1466.67 2346.83 1467.08 Q2344.98 1467.5 2343.03 1468.38 L2343.03 1451.02 Z\" fill=\"#000000\" fill-rule=\"evenodd\" fill-opacity=\"1\" /><path clip-path=\"url(#clip220)\" d=\"M1185.14 1518.52 L1190.99 1518.52 L1190.99 1568.04 L1185.14 1568.04 L1185.14 1518.52 Z\" fill=\"#000000\" fill-rule=\"evenodd\" fill-opacity=\"1\" /><path clip-path=\"url(#clip220)\" d=\"M1219.45 1550.12 Q1212.35 1550.12 1209.61 1551.75 Q1206.87 1553.37 1206.87 1557.29 Q1206.87 1560.4 1208.91 1562.25 Q1210.98 1564.07 1214.51 1564.07 Q1219.38 1564.07 1222.31 1560.63 Q1225.27 1557.16 1225.27 1551.43 L1225.27 1550.12 L1219.45 1550.12 M1231.13 1547.71 L1231.13 1568.04 L1225.27 1568.04 L1225.27 1562.63 Q1223.27 1565.88 1220.27 1567.44 Q1217.28 1568.97 1212.95 1568.97 Q1207.48 1568.97 1204.23 1565.91 Q1201.02 1562.82 1201.02 1557.67 Q1201.02 1551.65 1205.03 1548.6 Q1209.07 1545.54 1217.06 1545.54 L1225.27 1545.54 L1225.27 1544.97 Q1225.27 1540.93 1222.6 1538.73 Q1219.96 1536.5 1215.15 1536.5 Q1212.09 1536.5 1209.2 1537.23 Q1206.3 1537.97 1203.63 1539.43 L1203.63 1534.02 Q1206.84 1532.78 1209.87 1532.17 Q1212.89 1531.54 1215.75 1531.54 Q1223.49 1531.54 1227.31 1535.55 Q1231.13 1539.56 1231.13 1547.71 Z\" fill=\"#000000\" fill-rule=\"evenodd\" fill-opacity=\"1\" /><path clip-path=\"url(#clip220)\" d=\"M1270.95 1539.24 Q1273.14 1535.29 1276.2 1533.41 Q1279.25 1531.54 1283.39 1531.54 Q1288.96 1531.54 1291.98 1535.45 Q1295.01 1539.33 1295.01 1546.53 L1295.01 1568.04 L1289.12 1568.04 L1289.12 1546.72 Q1289.12 1541.59 1287.31 1539.11 Q1285.49 1536.63 1281.77 1536.63 Q1277.22 1536.63 1274.57 1539.65 Q1271.93 1542.68 1271.93 1547.9 L1271.93 1568.04 L1266.04 1568.04 L1266.04 1546.72 Q1266.04 1541.56 1264.23 1539.11 Q1262.42 1536.63 1258.63 1536.63 Q1254.14 1536.63 1251.5 1539.68 Q1248.86 1542.71 1248.86 1547.9 L1248.86 1568.04 L1242.97 1568.04 L1242.97 1532.4 L1248.86 1532.4 L1248.86 1537.93 Q1250.86 1534.66 1253.66 1533.1 Q1256.46 1531.54 1260.31 1531.54 Q1264.2 1531.54 1266.9 1533.51 Q1269.64 1535.48 1270.95 1539.24 Z\" fill=\"#000000\" fill-rule=\"evenodd\" fill-opacity=\"1\" /><path clip-path=\"url(#clip220)\" d=\"M1332.28 1550.25 Q1332.28 1543.79 1329.61 1540.13 Q1326.96 1536.44 1322.32 1536.44 Q1317.67 1536.44 1315 1540.13 Q1312.35 1543.79 1312.35 1550.25 Q1312.35 1556.71 1315 1560.4 Q1317.67 1564.07 1322.32 1564.07 Q1326.96 1564.07 1329.61 1560.4 Q1332.28 1556.71 1332.28 1550.25 M1312.35 1537.81 Q1314.2 1534.62 1317 1533.1 Q1319.83 1531.54 1323.75 1531.54 Q1330.24 1531.54 1334.28 1536.69 Q1338.36 1541.85 1338.36 1550.25 Q1338.36 1558.65 1334.28 1563.81 Q1330.24 1568.97 1323.75 1568.97 Q1319.83 1568.97 1317 1567.44 Q1314.2 1565.88 1312.35 1562.7 L1312.35 1568.04 L1306.47 1568.04 L1306.47 1518.52 L1312.35 1518.52 L1312.35 1537.81 Z\" fill=\"#000000\" fill-rule=\"evenodd\" fill-opacity=\"1\" /><path clip-path=\"url(#clip220)\" d=\"M1371.52 1537.81 L1371.52 1518.52 L1377.38 1518.52 L1377.38 1568.04 L1371.52 1568.04 L1371.52 1562.7 Q1369.68 1565.88 1366.84 1567.44 Q1364.04 1568.97 1360.1 1568.97 Q1353.64 1568.97 1349.56 1563.81 Q1345.52 1558.65 1345.52 1550.25 Q1345.52 1541.85 1349.56 1536.69 Q1353.64 1531.54 1360.1 1531.54 Q1364.04 1531.54 1366.84 1533.1 Q1369.68 1534.62 1371.52 1537.81 M1351.57 1550.25 Q1351.57 1556.71 1354.21 1560.4 Q1356.88 1564.07 1361.53 1564.07 Q1366.18 1564.07 1368.85 1560.4 Q1371.52 1556.71 1371.52 1550.25 Q1371.52 1543.79 1368.85 1540.13 Q1366.18 1536.44 1361.53 1536.44 Q1356.88 1536.44 1354.21 1540.13 Q1351.57 1543.79 1351.57 1550.25 Z\" fill=\"#000000\" fill-rule=\"evenodd\" fill-opacity=\"1\" /><path clip-path=\"url(#clip220)\" d=\"M1405.64 1550.12 Q1398.55 1550.12 1395.81 1551.75 Q1393.07 1553.37 1393.07 1557.29 Q1393.07 1560.4 1395.11 1562.25 Q1397.18 1564.07 1400.71 1564.07 Q1405.58 1564.07 1408.51 1560.63 Q1411.47 1557.16 1411.47 1551.43 L1411.47 1550.12 L1405.64 1550.12 M1417.32 1547.71 L1417.32 1568.04 L1411.47 1568.04 L1411.47 1562.63 Q1409.46 1565.88 1406.47 1567.44 Q1403.48 1568.97 1399.15 1568.97 Q1393.68 1568.97 1390.43 1565.91 Q1387.21 1562.82 1387.21 1557.67 Q1387.21 1551.65 1391.23 1548.6 Q1395.27 1545.54 1403.26 1545.54 L1411.47 1545.54 L1411.47 1544.97 Q1411.47 1540.93 1408.79 1538.73 Q1406.15 1536.5 1401.35 1536.5 Q1398.29 1536.5 1395.39 1537.23 Q1392.5 1537.97 1389.82 1539.43 L1389.82 1534.02 Q1393.04 1532.78 1396.06 1532.17 Q1399.09 1531.54 1401.95 1531.54 Q1409.69 1531.54 1413.51 1535.55 Q1417.32 1539.56 1417.32 1547.71 Z\" fill=\"#000000\" fill-rule=\"evenodd\" fill-opacity=\"1\" /><polyline clip-path=\"url(#clip222)\" style=\"stroke:#000000; stroke-linecap:round; stroke-linejoin:round; stroke-width:2; stroke-opacity:0.1; fill:none\" points=\"\n",
       "  249.704,1286.9 2352.76,1286.9 \n",
       "  \"/>\n",
       "<polyline clip-path=\"url(#clip222)\" style=\"stroke:#000000; stroke-linecap:round; stroke-linejoin:round; stroke-width:2; stroke-opacity:0.1; fill:none\" points=\"\n",
       "  249.704,1038.33 2352.76,1038.33 \n",
       "  \"/>\n",
       "<polyline clip-path=\"url(#clip222)\" style=\"stroke:#000000; stroke-linecap:round; stroke-linejoin:round; stroke-width:2; stroke-opacity:0.1; fill:none\" points=\"\n",
       "  249.704,789.76 2352.76,789.76 \n",
       "  \"/>\n",
       "<polyline clip-path=\"url(#clip222)\" style=\"stroke:#000000; stroke-linecap:round; stroke-linejoin:round; stroke-width:2; stroke-opacity:0.1; fill:none\" points=\"\n",
       "  249.704,541.192 2352.76,541.192 \n",
       "  \"/>\n",
       "<polyline clip-path=\"url(#clip222)\" style=\"stroke:#000000; stroke-linecap:round; stroke-linejoin:round; stroke-width:2; stroke-opacity:0.1; fill:none\" points=\"\n",
       "  249.704,292.624 2352.76,292.624 \n",
       "  \"/>\n",
       "<polyline clip-path=\"url(#clip220)\" style=\"stroke:#000000; stroke-linecap:round; stroke-linejoin:round; stroke-width:4; stroke-opacity:1; fill:none\" points=\"\n",
       "  249.704,1423.18 249.704,47.2441 \n",
       "  \"/>\n",
       "<polyline clip-path=\"url(#clip220)\" style=\"stroke:#000000; stroke-linecap:round; stroke-linejoin:round; stroke-width:4; stroke-opacity:1; fill:none\" points=\"\n",
       "  249.704,1286.9 268.602,1286.9 \n",
       "  \"/>\n",
       "<polyline clip-path=\"url(#clip220)\" style=\"stroke:#000000; stroke-linecap:round; stroke-linejoin:round; stroke-width:4; stroke-opacity:1; fill:none\" points=\"\n",
       "  249.704,1038.33 268.602,1038.33 \n",
       "  \"/>\n",
       "<polyline clip-path=\"url(#clip220)\" style=\"stroke:#000000; stroke-linecap:round; stroke-linejoin:round; stroke-width:4; stroke-opacity:1; fill:none\" points=\"\n",
       "  249.704,789.76 268.602,789.76 \n",
       "  \"/>\n",
       "<polyline clip-path=\"url(#clip220)\" style=\"stroke:#000000; stroke-linecap:round; stroke-linejoin:round; stroke-width:4; stroke-opacity:1; fill:none\" points=\"\n",
       "  249.704,541.192 268.602,541.192 \n",
       "  \"/>\n",
       "<polyline clip-path=\"url(#clip220)\" style=\"stroke:#000000; stroke-linecap:round; stroke-linejoin:round; stroke-width:4; stroke-opacity:1; fill:none\" points=\"\n",
       "  249.704,292.624 268.602,292.624 \n",
       "  \"/>\n",
       "<path clip-path=\"url(#clip220)\" d=\"M126.205 1272.7 Q122.593 1272.7 120.765 1276.26 Q118.959 1279.8 118.959 1286.93 Q118.959 1294.04 120.765 1297.6 Q122.593 1301.14 126.205 1301.14 Q129.839 1301.14 131.644 1297.6 Q133.473 1294.04 133.473 1286.93 Q133.473 1279.8 131.644 1276.26 Q129.839 1272.7 126.205 1272.7 M126.205 1268.99 Q132.015 1268.99 135.07 1273.6 Q138.149 1278.18 138.149 1286.93 Q138.149 1295.66 135.07 1300.26 Q132.015 1304.85 126.205 1304.85 Q120.394 1304.85 117.316 1300.26 Q114.26 1295.66 114.26 1286.93 Q114.26 1278.18 117.316 1273.6 Q120.394 1268.99 126.205 1268.99 Z\" fill=\"#000000\" fill-rule=\"evenodd\" fill-opacity=\"1\" /><path clip-path=\"url(#clip220)\" d=\"M146.366 1298.3 L151.251 1298.3 L151.251 1304.18 L146.366 1304.18 L146.366 1298.3 Z\" fill=\"#000000\" fill-rule=\"evenodd\" fill-opacity=\"1\" /><path clip-path=\"url(#clip220)\" d=\"M161.575 1303.46 L161.575 1299.2 Q163.334 1300.03 165.14 1300.47 Q166.945 1300.91 168.681 1300.91 Q173.311 1300.91 175.741 1297.81 Q178.195 1294.69 178.542 1288.34 Q177.2 1290.33 175.139 1291.4 Q173.079 1292.46 170.579 1292.46 Q165.394 1292.46 162.362 1289.34 Q159.353 1286.19 159.353 1280.75 Q159.353 1275.43 162.501 1272.21 Q165.649 1268.99 170.88 1268.99 Q176.876 1268.99 180.024 1273.6 Q183.195 1278.18 183.195 1286.93 Q183.195 1295.1 179.306 1299.99 Q175.44 1304.85 168.889 1304.85 Q167.13 1304.85 165.325 1304.5 Q163.519 1304.15 161.575 1303.46 M170.88 1288.81 Q174.028 1288.81 175.857 1286.65 Q177.709 1284.5 177.709 1280.75 Q177.709 1277.02 175.857 1274.87 Q174.028 1272.7 170.88 1272.7 Q167.732 1272.7 165.88 1274.87 Q164.052 1277.02 164.052 1280.75 Q164.052 1284.5 165.88 1286.65 Q167.732 1288.81 170.88 1288.81 Z\" fill=\"#000000\" fill-rule=\"evenodd\" fill-opacity=\"1\" /><path clip-path=\"url(#clip220)\" d=\"M202.176 1285.03 Q199.028 1285.03 197.176 1287.19 Q195.348 1289.34 195.348 1293.09 Q195.348 1296.82 197.176 1298.99 Q199.028 1301.14 202.176 1301.14 Q205.324 1301.14 207.153 1298.99 Q209.005 1296.82 209.005 1293.09 Q209.005 1289.34 207.153 1287.19 Q205.324 1285.03 202.176 1285.03 M211.459 1270.38 L211.459 1274.64 Q209.699 1273.81 207.894 1273.37 Q206.112 1272.93 204.352 1272.93 Q199.723 1272.93 197.269 1276.05 Q194.838 1279.18 194.491 1285.5 Q195.857 1283.48 197.917 1282.42 Q199.977 1281.33 202.454 1281.33 Q207.662 1281.33 210.672 1284.5 Q213.704 1287.65 213.704 1293.09 Q213.704 1298.41 210.556 1301.63 Q207.408 1304.85 202.176 1304.85 Q196.181 1304.85 193.01 1300.26 Q189.838 1295.66 189.838 1286.93 Q189.838 1278.74 193.727 1273.88 Q197.616 1268.99 204.167 1268.99 Q205.926 1268.99 207.709 1269.34 Q209.514 1269.69 211.459 1270.38 Z\" fill=\"#000000\" fill-rule=\"evenodd\" fill-opacity=\"1\" /><path clip-path=\"url(#clip220)\" d=\"M126.552 1024.13 Q122.941 1024.13 121.112 1027.69 Q119.306 1031.23 119.306 1038.36 Q119.306 1045.47 121.112 1049.03 Q122.941 1052.58 126.552 1052.58 Q130.186 1052.58 131.992 1049.03 Q133.82 1045.47 133.82 1038.36 Q133.82 1031.23 131.992 1027.69 Q130.186 1024.13 126.552 1024.13 M126.552 1020.42 Q132.362 1020.42 135.417 1025.03 Q138.496 1029.61 138.496 1038.36 Q138.496 1047.09 135.417 1051.7 Q132.362 1056.28 126.552 1056.28 Q120.742 1056.28 117.663 1051.7 Q114.607 1047.09 114.607 1038.36 Q114.607 1029.61 117.663 1025.03 Q120.742 1020.42 126.552 1020.42 Z\" fill=\"#000000\" fill-rule=\"evenodd\" fill-opacity=\"1\" /><path clip-path=\"url(#clip220)\" d=\"M146.714 1049.73 L151.598 1049.73 L151.598 1055.61 L146.714 1055.61 L146.714 1049.73 Z\" fill=\"#000000\" fill-rule=\"evenodd\" fill-opacity=\"1\" /><path clip-path=\"url(#clip220)\" d=\"M161.922 1054.89 L161.922 1050.63 Q163.681 1051.47 165.487 1051.9 Q167.292 1052.34 169.028 1052.34 Q173.658 1052.34 176.089 1049.24 Q178.542 1046.12 178.889 1039.78 Q177.547 1041.77 175.487 1042.83 Q173.427 1043.9 170.927 1043.9 Q165.741 1043.9 162.709 1040.77 Q159.7 1037.62 159.7 1032.18 Q159.7 1026.86 162.848 1023.64 Q165.996 1020.42 171.227 1020.42 Q177.223 1020.42 180.371 1025.03 Q183.542 1029.61 183.542 1038.36 Q183.542 1046.53 179.653 1051.42 Q175.788 1056.28 169.237 1056.28 Q167.477 1056.28 165.672 1055.93 Q163.866 1055.59 161.922 1054.89 M171.227 1040.24 Q174.376 1040.24 176.204 1038.09 Q178.056 1035.93 178.056 1032.18 Q178.056 1028.46 176.204 1026.3 Q174.376 1024.13 171.227 1024.13 Q168.079 1024.13 166.227 1026.3 Q164.399 1028.46 164.399 1032.18 Q164.399 1035.93 166.227 1038.09 Q168.079 1040.24 171.227 1040.24 Z\" fill=\"#000000\" fill-rule=\"evenodd\" fill-opacity=\"1\" /><path clip-path=\"url(#clip220)\" d=\"M192.084 1054.89 L192.084 1050.63 Q193.843 1051.47 195.649 1051.9 Q197.454 1052.34 199.19 1052.34 Q203.82 1052.34 206.25 1049.24 Q208.704 1046.12 209.051 1039.78 Q207.709 1041.77 205.649 1042.83 Q203.588 1043.9 201.088 1043.9 Q195.903 1043.9 192.871 1040.77 Q189.862 1037.62 189.862 1032.18 Q189.862 1026.86 193.01 1023.64 Q196.158 1020.42 201.389 1020.42 Q207.385 1020.42 210.533 1025.03 Q213.704 1029.61 213.704 1038.36 Q213.704 1046.53 209.815 1051.42 Q205.949 1056.28 199.399 1056.28 Q197.639 1056.28 195.834 1055.93 Q194.028 1055.59 192.084 1054.89 M201.389 1040.24 Q204.537 1040.24 206.366 1038.09 Q208.218 1035.93 208.218 1032.18 Q208.218 1028.46 206.366 1026.3 Q204.537 1024.13 201.389 1024.13 Q198.241 1024.13 196.389 1026.3 Q194.561 1028.46 194.561 1032.18 Q194.561 1035.93 196.389 1038.09 Q198.241 1040.24 201.389 1040.24 Z\" fill=\"#000000\" fill-rule=\"evenodd\" fill-opacity=\"1\" /><path clip-path=\"url(#clip220)\" d=\"M118.774 803.105 L126.413 803.105 L126.413 776.74 L118.103 778.406 L118.103 774.147 L126.367 772.48 L131.042 772.48 L131.042 803.105 L138.681 803.105 L138.681 807.04 L118.774 807.04 L118.774 803.105 Z\" fill=\"#000000\" fill-rule=\"evenodd\" fill-opacity=\"1\" /><path clip-path=\"url(#clip220)\" d=\"M148.126 801.161 L153.01 801.161 L153.01 807.04 L148.126 807.04 L148.126 801.161 Z\" fill=\"#000000\" fill-rule=\"evenodd\" fill-opacity=\"1\" /><path clip-path=\"url(#clip220)\" d=\"M173.195 775.559 Q169.584 775.559 167.755 779.124 Q165.95 782.666 165.95 789.795 Q165.95 796.902 167.755 800.466 Q169.584 804.008 173.195 804.008 Q176.829 804.008 178.635 800.466 Q180.464 796.902 180.464 789.795 Q180.464 782.666 178.635 779.124 Q176.829 775.559 173.195 775.559 M173.195 771.856 Q179.005 771.856 182.061 776.462 Q185.139 781.045 185.139 789.795 Q185.139 798.522 182.061 803.128 Q179.005 807.712 173.195 807.712 Q167.385 807.712 164.306 803.128 Q161.251 798.522 161.251 789.795 Q161.251 781.045 164.306 776.462 Q167.385 771.856 173.195 771.856 Z\" fill=\"#000000\" fill-rule=\"evenodd\" fill-opacity=\"1\" /><path clip-path=\"url(#clip220)\" d=\"M197.385 803.105 L213.704 803.105 L213.704 807.04 L191.76 807.04 L191.76 803.105 Q194.422 800.351 199.005 795.721 Q203.612 791.068 204.792 789.726 Q207.037 787.203 207.917 785.467 Q208.82 783.707 208.82 782.017 Q208.82 779.263 206.875 777.527 Q204.954 775.791 201.852 775.791 Q199.653 775.791 197.2 776.555 Q194.769 777.318 191.991 778.869 L191.991 774.147 Q194.815 773.013 197.269 772.434 Q199.723 771.856 201.76 771.856 Q207.13 771.856 210.324 774.541 Q213.519 777.226 213.519 781.717 Q213.519 783.846 212.709 785.767 Q211.922 787.666 209.815 790.258 Q209.237 790.929 206.135 794.147 Q203.033 797.341 197.385 803.105 Z\" fill=\"#000000\" fill-rule=\"evenodd\" fill-opacity=\"1\" /><path clip-path=\"url(#clip220)\" d=\"M118.172 554.537 L125.811 554.537 L125.811 528.172 L117.501 529.838 L117.501 525.579 L125.765 523.912 L130.441 523.912 L130.441 554.537 L138.079 554.537 L138.079 558.472 L118.172 558.472 L118.172 554.537 Z\" fill=\"#000000\" fill-rule=\"evenodd\" fill-opacity=\"1\" /><path clip-path=\"url(#clip220)\" d=\"M147.524 552.593 L152.408 552.593 L152.408 558.472 L147.524 558.472 L147.524 552.593 Z\" fill=\"#000000\" fill-rule=\"evenodd\" fill-opacity=\"1\" /><path clip-path=\"url(#clip220)\" d=\"M172.593 526.991 Q168.982 526.991 167.153 530.556 Q165.348 534.098 165.348 541.227 Q165.348 548.334 167.153 551.898 Q168.982 555.44 172.593 555.44 Q176.227 555.44 178.033 551.898 Q179.862 548.334 179.862 541.227 Q179.862 534.098 178.033 530.556 Q176.227 526.991 172.593 526.991 M172.593 523.287 Q178.403 523.287 181.459 527.894 Q184.538 532.477 184.538 541.227 Q184.538 549.954 181.459 554.56 Q178.403 559.144 172.593 559.144 Q166.783 559.144 163.704 554.56 Q160.649 549.954 160.649 541.227 Q160.649 532.477 163.704 527.894 Q166.783 523.287 172.593 523.287 Z\" fill=\"#000000\" fill-rule=\"evenodd\" fill-opacity=\"1\" /><path clip-path=\"url(#clip220)\" d=\"M192.801 523.912 L211.158 523.912 L211.158 527.848 L197.084 527.848 L197.084 536.32 Q198.102 535.973 199.121 535.811 Q200.139 535.625 201.158 535.625 Q206.945 535.625 210.324 538.797 Q213.704 541.968 213.704 547.385 Q213.704 552.963 210.232 556.065 Q206.76 559.144 200.44 559.144 Q198.264 559.144 195.996 558.773 Q193.75 558.403 191.343 557.662 L191.343 552.963 Q193.426 554.097 195.649 554.653 Q197.871 555.209 200.348 555.209 Q204.352 555.209 206.69 553.102 Q209.028 550.996 209.028 547.385 Q209.028 543.773 206.69 541.667 Q204.352 539.561 200.348 539.561 Q198.473 539.561 196.598 539.977 Q194.746 540.394 192.801 541.273 L192.801 523.912 Z\" fill=\"#000000\" fill-rule=\"evenodd\" fill-opacity=\"1\" /><path clip-path=\"url(#clip220)\" d=\"M117.269 305.969 L124.908 305.969 L124.908 279.604 L116.598 281.27 L116.598 277.011 L124.862 275.344 L129.538 275.344 L129.538 305.969 L137.177 305.969 L137.177 309.904 L117.269 309.904 L117.269 305.969 Z\" fill=\"#000000\" fill-rule=\"evenodd\" fill-opacity=\"1\" /><path clip-path=\"url(#clip220)\" d=\"M146.621 304.025 L151.505 304.025 L151.505 309.904 L146.621 309.904 L146.621 304.025 Z\" fill=\"#000000\" fill-rule=\"evenodd\" fill-opacity=\"1\" /><path clip-path=\"url(#clip220)\" d=\"M171.69 278.423 Q168.079 278.423 166.251 281.988 Q164.445 285.53 164.445 292.659 Q164.445 299.766 166.251 303.33 Q168.079 306.872 171.69 306.872 Q175.325 306.872 177.13 303.33 Q178.959 299.766 178.959 292.659 Q178.959 285.53 177.13 281.988 Q175.325 278.423 171.69 278.423 M171.69 274.719 Q177.501 274.719 180.556 279.326 Q183.635 283.909 183.635 292.659 Q183.635 301.386 180.556 305.992 Q177.501 310.576 171.69 310.576 Q165.88 310.576 162.802 305.992 Q159.746 301.386 159.746 292.659 Q159.746 283.909 162.802 279.326 Q165.88 274.719 171.69 274.719 Z\" fill=\"#000000\" fill-rule=\"evenodd\" fill-opacity=\"1\" /><path clip-path=\"url(#clip220)\" d=\"M201.852 293.492 Q198.519 293.492 196.598 295.275 Q194.7 297.057 194.7 300.182 Q194.7 303.307 196.598 305.09 Q198.519 306.872 201.852 306.872 Q205.186 306.872 207.107 305.09 Q209.028 303.284 209.028 300.182 Q209.028 297.057 207.107 295.275 Q205.209 293.492 201.852 293.492 M197.176 291.502 Q194.167 290.761 192.477 288.701 Q190.811 286.641 190.811 283.678 Q190.811 279.534 193.75 277.127 Q196.713 274.719 201.852 274.719 Q207.014 274.719 209.954 277.127 Q212.894 279.534 212.894 283.678 Q212.894 286.641 211.204 288.701 Q209.537 290.761 206.551 291.502 Q209.931 292.289 211.806 294.58 Q213.704 296.872 213.704 300.182 Q213.704 305.205 210.625 307.891 Q207.57 310.576 201.852 310.576 Q196.135 310.576 193.056 307.891 Q190 305.205 190 300.182 Q190 296.872 191.899 294.58 Q193.797 292.289 197.176 291.502 M195.463 284.117 Q195.463 286.803 197.13 288.307 Q198.82 289.812 201.852 289.812 Q204.862 289.812 206.551 288.307 Q208.264 286.803 208.264 284.117 Q208.264 281.432 206.551 279.928 Q204.862 278.423 201.852 278.423 Q198.82 278.423 197.13 279.928 Q195.463 281.432 195.463 284.117 Z\" fill=\"#000000\" fill-rule=\"evenodd\" fill-opacity=\"1\" /><path clip-path=\"url(#clip220)\" d=\"M16.4842 733.541 L16.4842 727.112 L60.694 727.112 Q69.2877 727.112 73.1708 730.39 Q77.0539 733.636 77.0539 740.862 L77.0539 743.312 L71.643 743.312 L71.643 741.307 Q71.643 737.042 69.2559 735.292 Q66.8687 733.541 60.694 733.541 L16.4842 733.541 Z\" fill=\"#000000\" fill-rule=\"evenodd\" fill-opacity=\"1\" /><polyline clip-path=\"url(#clip222)\" style=\"stroke:#009af9; stroke-linecap:round; stroke-linejoin:round; stroke-width:16; stroke-opacity:1; fill:none\" points=\"\n",
       "  249.704,1384.24 251.416,1367.15 253.127,1351.36 254.839,1336.73 256.55,1323.14 258.262,1310.47 259.973,1298.65 260.829,1293.02 261.685,1287.57 262.54,1282.3 \n",
       "  263.396,1277.19 267.352,1255.47 271.309,1236.46 275.265,1219.68 279.221,1204.75 283.178,1191.37 287.134,1179.32 291.09,1168.4 295.047,1158.46 302.959,1141 \n",
       "  310.872,1126.16 318.785,1113.36 326.697,1102.2 334.61,1092.35 342.523,1083.58 350.435,1075.71 358.348,1068.58 374.173,1056.13 389.999,1045.54 409.019,1034.61 \n",
       "  428.04,1025.12 447.061,1016.69 466.081,1009.06 498.245,997.418 530.408,986.851 600.286,965.8 664.706,947.195 733.772,927.034 813.791,902.649 884.903,879.674 \n",
       "  947.262,858.358 1015.25,833.785 1083.64,807.617 1159.26,776.969 1231.2,746.141 1306.01,712.381 1368.98,682.641 1445.86,644.734 1516.29,608.512 1581.34,573.827 \n",
       "  1647.23,537.526 1721.07,495.5 1787.99,456.238 1864.6,409.966 1935.54,365.922 2005.47,321.419 2073.37,277.232 2142.98,230.979 2219.24,179.246 2330.03,102.241 \n",
       "  2352.76,86.1857 \n",
       "  \"/>\n",
       "<path clip-path=\"url(#clip220)\" d=\"\n",
       "M1996.55 196.789 L2282.65 196.789 L2282.65 93.1086 L1996.55 93.1086  Z\n",
       "  \" fill=\"#ffffff\" fill-rule=\"evenodd\" fill-opacity=\"1\"/>\n",
       "<polyline clip-path=\"url(#clip220)\" style=\"stroke:#000000; stroke-linecap:round; stroke-linejoin:round; stroke-width:4; stroke-opacity:1; fill:none\" points=\"\n",
       "  1996.55,196.789 2282.65,196.789 2282.65,93.1086 1996.55,93.1086 1996.55,196.789 \n",
       "  \"/>\n",
       "<polyline clip-path=\"url(#clip220)\" style=\"stroke:#009af9; stroke-linecap:round; stroke-linejoin:round; stroke-width:4; stroke-opacity:1; fill:none\" points=\"\n",
       "  2019.92,144.949 2160.12,144.949 \n",
       "  \"/>\n",
       "<path clip-path=\"url(#clip220)\" d=\"M2197.33 164.636 Q2195.53 169.266 2193.81 170.678 Q2192.1 172.09 2189.23 172.09 L2185.83 172.09 L2185.83 168.525 L2188.33 168.525 Q2190.09 168.525 2191.06 167.692 Q2192.03 166.858 2193.21 163.756 L2193.98 161.812 L2183.49 136.303 L2188 136.303 L2196.11 156.581 L2204.21 136.303 L2208.72 136.303 L2197.33 164.636 Z\" fill=\"#000000\" fill-rule=\"evenodd\" fill-opacity=\"1\" /><path clip-path=\"url(#clip220)\" d=\"M2216.01 158.293 L2223.65 158.293 L2223.65 131.928 L2215.34 133.595 L2215.34 129.335 L2223.6 127.669 L2228.28 127.669 L2228.28 158.293 L2235.92 158.293 L2235.92 162.229 L2216.01 162.229 L2216.01 158.293 Z\" fill=\"#000000\" fill-rule=\"evenodd\" fill-opacity=\"1\" /></svg>\n"
      ]
     },
     "execution_count": 63,
     "metadata": {},
     "output_type": "execute_result"
    }
   ],
   "source": [
    "find_J(lambda) = find_zero(J -> f(lambda, J), 1)\n",
    "plot(find_J, xlims=(0.1, 5), xlabel=\"lambda\", ylabel=\"J\")"
   ]
  },
  {
   "cell_type": "markdown",
   "id": "c357cd63",
   "metadata": {
    "slideshow": {
     "slide_type": "slide"
    }
   },
   "source": [
    "# An algorithm: Bisection\n",
    "\n",
    "Bisection is a rootfinding technique that starts with an interval $[a,b]$ containing a root and does not require derivatives. Suppose $f$ is continuous. What is a **sufficient** condition for $f$ to have a root on $[a,b]$?"
   ]
  },
  {
   "cell_type": "code",
   "execution_count": 64,
   "id": "2ce66073",
   "metadata": {},
   "outputs": [
    {
     "data": {
      "image/svg+xml": [
       "<?xml version=\"1.0\" encoding=\"utf-8\"?>\n",
       "<svg xmlns=\"http://www.w3.org/2000/svg\" xmlns:xlink=\"http://www.w3.org/1999/xlink\" width=\"600\" height=\"400\" viewBox=\"0 0 2400 1600\">\n",
       "<defs>\n",
       "  <clipPath id=\"clip260\">\n",
       "    <rect x=\"0\" y=\"0\" width=\"2400\" height=\"1600\"/>\n",
       "  </clipPath>\n",
       "</defs>\n",
       "<path clip-path=\"url(#clip260)\" d=\"\n",
       "M0 1600 L2400 1600 L2400 0 L0 0  Z\n",
       "  \" fill=\"#ffffff\" fill-rule=\"evenodd\" fill-opacity=\"1\"/>\n",
       "<defs>\n",
       "  <clipPath id=\"clip261\">\n",
       "    <rect x=\"480\" y=\"0\" width=\"1681\" height=\"1600\"/>\n",
       "  </clipPath>\n",
       "</defs>\n",
       "<path clip-path=\"url(#clip260)\" d=\"\n",
       "M149.191 1486.45 L2352.76 1486.45 L2352.76 47.2441 L149.191 47.2441  Z\n",
       "  \" fill=\"#ffffff\" fill-rule=\"evenodd\" fill-opacity=\"1\"/>\n",
       "<defs>\n",
       "  <clipPath id=\"clip262\">\n",
       "    <rect x=\"149\" y=\"47\" width=\"2205\" height=\"1440\"/>\n",
       "  </clipPath>\n",
       "</defs>\n",
       "<polyline clip-path=\"url(#clip262)\" style=\"stroke:#000000; stroke-linecap:round; stroke-linejoin:round; stroke-width:2; stroke-opacity:0.1; fill:none\" points=\"\n",
       "  419.439,1486.45 419.439,47.2441 \n",
       "  \"/>\n",
       "<polyline clip-path=\"url(#clip262)\" style=\"stroke:#000000; stroke-linecap:round; stroke-linejoin:round; stroke-width:2; stroke-opacity:0.1; fill:none\" points=\"\n",
       "  835.206,1486.45 835.206,47.2441 \n",
       "  \"/>\n",
       "<polyline clip-path=\"url(#clip262)\" style=\"stroke:#000000; stroke-linecap:round; stroke-linejoin:round; stroke-width:2; stroke-opacity:0.1; fill:none\" points=\"\n",
       "  1250.97,1486.45 1250.97,47.2441 \n",
       "  \"/>\n",
       "<polyline clip-path=\"url(#clip262)\" style=\"stroke:#000000; stroke-linecap:round; stroke-linejoin:round; stroke-width:2; stroke-opacity:0.1; fill:none\" points=\"\n",
       "  1666.74,1486.45 1666.74,47.2441 \n",
       "  \"/>\n",
       "<polyline clip-path=\"url(#clip262)\" style=\"stroke:#000000; stroke-linecap:round; stroke-linejoin:round; stroke-width:2; stroke-opacity:0.1; fill:none\" points=\"\n",
       "  2082.51,1486.45 2082.51,47.2441 \n",
       "  \"/>\n",
       "<polyline clip-path=\"url(#clip260)\" style=\"stroke:#000000; stroke-linecap:round; stroke-linejoin:round; stroke-width:4; stroke-opacity:1; fill:none\" points=\"\n",
       "  149.191,1486.45 2352.76,1486.45 \n",
       "  \"/>\n",
       "<polyline clip-path=\"url(#clip260)\" style=\"stroke:#000000; stroke-linecap:round; stroke-linejoin:round; stroke-width:4; stroke-opacity:1; fill:none\" points=\"\n",
       "  419.439,1486.45 419.439,1467.55 \n",
       "  \"/>\n",
       "<polyline clip-path=\"url(#clip260)\" style=\"stroke:#000000; stroke-linecap:round; stroke-linejoin:round; stroke-width:4; stroke-opacity:1; fill:none\" points=\"\n",
       "  835.206,1486.45 835.206,1467.55 \n",
       "  \"/>\n",
       "<polyline clip-path=\"url(#clip260)\" style=\"stroke:#000000; stroke-linecap:round; stroke-linejoin:round; stroke-width:4; stroke-opacity:1; fill:none\" points=\"\n",
       "  1250.97,1486.45 1250.97,1467.55 \n",
       "  \"/>\n",
       "<polyline clip-path=\"url(#clip260)\" style=\"stroke:#000000; stroke-linecap:round; stroke-linejoin:round; stroke-width:4; stroke-opacity:1; fill:none\" points=\"\n",
       "  1666.74,1486.45 1666.74,1467.55 \n",
       "  \"/>\n",
       "<polyline clip-path=\"url(#clip260)\" style=\"stroke:#000000; stroke-linecap:round; stroke-linejoin:round; stroke-width:4; stroke-opacity:1; fill:none\" points=\"\n",
       "  2082.51,1486.45 2082.51,1467.55 \n",
       "  \"/>\n",
       "<path clip-path=\"url(#clip260)\" d=\"M388.34 1532.02 L418.016 1532.02 L418.016 1535.95 L388.34 1535.95 L388.34 1532.02 Z\" fill=\"#000000\" fill-rule=\"evenodd\" fill-opacity=\"1\" /><path clip-path=\"url(#clip260)\" d=\"M440.955 1518.36 L429.15 1536.81 L440.955 1536.81 L440.955 1518.36 M439.729 1514.29 L445.608 1514.29 L445.608 1536.81 L450.539 1536.81 L450.539 1540.7 L445.608 1540.7 L445.608 1548.85 L440.955 1548.85 L440.955 1540.7 L425.354 1540.7 L425.354 1536.19 L439.729 1514.29 Z\" fill=\"#000000\" fill-rule=\"evenodd\" fill-opacity=\"1\" /><path clip-path=\"url(#clip260)\" d=\"M805.149 1532.02 L834.824 1532.02 L834.824 1535.95 L805.149 1535.95 L805.149 1532.02 Z\" fill=\"#000000\" fill-rule=\"evenodd\" fill-opacity=\"1\" /><path clip-path=\"url(#clip260)\" d=\"M848.945 1544.91 L865.264 1544.91 L865.264 1548.85 L843.32 1548.85 L843.32 1544.91 Q845.982 1542.16 850.565 1537.53 Q855.172 1532.88 856.352 1531.53 Q858.597 1529.01 859.477 1527.27 Q860.38 1525.51 860.38 1523.82 Q860.38 1521.07 858.435 1519.33 Q856.514 1517.6 853.412 1517.6 Q851.213 1517.6 848.76 1518.36 Q846.329 1519.13 843.551 1520.68 L843.551 1515.95 Q846.375 1514.82 848.829 1514.24 Q851.283 1513.66 853.32 1513.66 Q858.69 1513.66 861.884 1516.35 Q865.079 1519.03 865.079 1523.52 Q865.079 1525.65 864.269 1527.57 Q863.482 1529.47 861.375 1532.07 Q860.797 1532.74 857.695 1535.95 Q854.593 1539.15 848.945 1544.91 Z\" fill=\"#000000\" fill-rule=\"evenodd\" fill-opacity=\"1\" /><path clip-path=\"url(#clip260)\" d=\"M1250.97 1517.37 Q1247.36 1517.37 1245.53 1520.93 Q1243.73 1524.47 1243.73 1531.6 Q1243.73 1538.71 1245.53 1542.27 Q1247.36 1545.82 1250.97 1545.82 Q1254.61 1545.82 1256.41 1542.27 Q1258.24 1538.71 1258.24 1531.6 Q1258.24 1524.47 1256.41 1520.93 Q1254.61 1517.37 1250.97 1517.37 M1250.97 1513.66 Q1256.78 1513.66 1259.84 1518.27 Q1262.92 1522.85 1262.92 1531.6 Q1262.92 1540.33 1259.84 1544.94 Q1256.78 1549.52 1250.97 1549.52 Q1245.16 1549.52 1242.08 1544.94 Q1239.03 1540.33 1239.03 1531.6 Q1239.03 1522.85 1242.08 1518.27 Q1245.16 1513.66 1250.97 1513.66 Z\" fill=\"#000000\" fill-rule=\"evenodd\" fill-opacity=\"1\" /><path clip-path=\"url(#clip260)\" d=\"M1661.39 1544.91 L1677.71 1544.91 L1677.71 1548.85 L1655.77 1548.85 L1655.77 1544.91 Q1658.43 1542.16 1663.01 1537.53 Q1667.62 1532.88 1668.8 1531.53 Q1671.05 1529.01 1671.93 1527.27 Q1672.83 1525.51 1672.83 1523.82 Q1672.83 1521.07 1670.88 1519.33 Q1668.96 1517.6 1665.86 1517.6 Q1663.66 1517.6 1661.21 1518.36 Q1658.78 1519.13 1656 1520.68 L1656 1515.95 Q1658.82 1514.82 1661.28 1514.24 Q1663.73 1513.66 1665.77 1513.66 Q1671.14 1513.66 1674.33 1516.35 Q1677.53 1519.03 1677.53 1523.52 Q1677.53 1525.65 1676.72 1527.57 Q1675.93 1529.47 1673.82 1532.07 Q1673.24 1532.74 1670.14 1535.95 Q1667.04 1539.15 1661.39 1544.91 Z\" fill=\"#000000\" fill-rule=\"evenodd\" fill-opacity=\"1\" /><path clip-path=\"url(#clip260)\" d=\"M2085.52 1518.36 L2073.71 1536.81 L2085.52 1536.81 L2085.52 1518.36 M2084.29 1514.29 L2090.17 1514.29 L2090.17 1536.81 L2095.1 1536.81 L2095.1 1540.7 L2090.17 1540.7 L2090.17 1548.85 L2085.52 1548.85 L2085.52 1540.7 L2069.91 1540.7 L2069.91 1536.19 L2084.29 1514.29 Z\" fill=\"#000000\" fill-rule=\"evenodd\" fill-opacity=\"1\" /><polyline clip-path=\"url(#clip262)\" style=\"stroke:#000000; stroke-linecap:round; stroke-linejoin:round; stroke-width:2; stroke-opacity:0.1; fill:none\" points=\"\n",
       "  149.191,1348.46 2352.76,1348.46 \n",
       "  \"/>\n",
       "<polyline clip-path=\"url(#clip262)\" style=\"stroke:#000000; stroke-linecap:round; stroke-linejoin:round; stroke-width:2; stroke-opacity:0.1; fill:none\" points=\"\n",
       "  149.191,1076.91 2352.76,1076.91 \n",
       "  \"/>\n",
       "<polyline clip-path=\"url(#clip262)\" style=\"stroke:#000000; stroke-linecap:round; stroke-linejoin:round; stroke-width:2; stroke-opacity:0.1; fill:none\" points=\"\n",
       "  149.191,805.36 2352.76,805.36 \n",
       "  \"/>\n",
       "<polyline clip-path=\"url(#clip262)\" style=\"stroke:#000000; stroke-linecap:round; stroke-linejoin:round; stroke-width:2; stroke-opacity:0.1; fill:none\" points=\"\n",
       "  149.191,533.812 2352.76,533.812 \n",
       "  \"/>\n",
       "<polyline clip-path=\"url(#clip262)\" style=\"stroke:#000000; stroke-linecap:round; stroke-linejoin:round; stroke-width:2; stroke-opacity:0.1; fill:none\" points=\"\n",
       "  149.191,262.264 2352.76,262.264 \n",
       "  \"/>\n",
       "<polyline clip-path=\"url(#clip260)\" style=\"stroke:#000000; stroke-linecap:round; stroke-linejoin:round; stroke-width:4; stroke-opacity:1; fill:none\" points=\"\n",
       "  149.191,1486.45 149.191,47.2441 \n",
       "  \"/>\n",
       "<polyline clip-path=\"url(#clip260)\" style=\"stroke:#000000; stroke-linecap:round; stroke-linejoin:round; stroke-width:4; stroke-opacity:1; fill:none\" points=\"\n",
       "  149.191,1348.46 168.089,1348.46 \n",
       "  \"/>\n",
       "<polyline clip-path=\"url(#clip260)\" style=\"stroke:#000000; stroke-linecap:round; stroke-linejoin:round; stroke-width:4; stroke-opacity:1; fill:none\" points=\"\n",
       "  149.191,1076.91 168.089,1076.91 \n",
       "  \"/>\n",
       "<polyline clip-path=\"url(#clip260)\" style=\"stroke:#000000; stroke-linecap:round; stroke-linejoin:round; stroke-width:4; stroke-opacity:1; fill:none\" points=\"\n",
       "  149.191,805.36 168.089,805.36 \n",
       "  \"/>\n",
       "<polyline clip-path=\"url(#clip260)\" style=\"stroke:#000000; stroke-linecap:round; stroke-linejoin:round; stroke-width:4; stroke-opacity:1; fill:none\" points=\"\n",
       "  149.191,533.812 168.089,533.812 \n",
       "  \"/>\n",
       "<polyline clip-path=\"url(#clip260)\" style=\"stroke:#000000; stroke-linecap:round; stroke-linejoin:round; stroke-width:4; stroke-opacity:1; fill:none\" points=\"\n",
       "  149.191,262.264 168.089,262.264 \n",
       "  \"/>\n",
       "<path clip-path=\"url(#clip260)\" d=\"M50.9921 1348.91 L80.6679 1348.91 L80.6679 1352.84 L50.9921 1352.84 L50.9921 1348.91 Z\" fill=\"#000000\" fill-rule=\"evenodd\" fill-opacity=\"1\" /><path clip-path=\"url(#clip260)\" d=\"M103.608 1335.25 L91.8021 1353.7 L103.608 1353.7 L103.608 1335.25 M102.381 1331.18 L108.26 1331.18 L108.26 1353.7 L113.191 1353.7 L113.191 1357.59 L108.26 1357.59 L108.26 1365.74 L103.608 1365.74 L103.608 1357.59 L88.0058 1357.59 L88.0058 1353.07 L102.381 1331.18 Z\" fill=\"#000000\" fill-rule=\"evenodd\" fill-opacity=\"1\" /><path clip-path=\"url(#clip260)\" d=\"M53.0754 1077.36 L82.7512 1077.36 L82.7512 1081.29 L53.0754 1081.29 L53.0754 1077.36 Z\" fill=\"#000000\" fill-rule=\"evenodd\" fill-opacity=\"1\" /><path clip-path=\"url(#clip260)\" d=\"M96.8715 1090.25 L113.191 1090.25 L113.191 1094.19 L91.2465 1094.19 L91.2465 1090.25 Q93.9086 1087.5 98.4919 1082.87 Q103.098 1078.22 104.279 1076.87 Q106.524 1074.35 107.404 1072.61 Q108.307 1070.85 108.307 1069.16 Q108.307 1066.41 106.362 1064.67 Q104.441 1062.94 101.339 1062.94 Q99.14 1062.94 96.6863 1063.7 Q94.2558 1064.47 91.478 1066.02 L91.478 1061.29 Q94.3021 1060.16 96.7558 1059.58 Q99.2095 1059 101.246 1059 Q106.617 1059 109.811 1061.69 Q113.006 1064.37 113.006 1068.86 Q113.006 1070.99 112.196 1072.91 Q111.408 1074.81 109.302 1077.41 Q108.723 1078.08 105.621 1081.29 Q102.52 1084.49 96.8715 1090.25 Z\" fill=\"#000000\" fill-rule=\"evenodd\" fill-opacity=\"1\" /><path clip-path=\"url(#clip260)\" d=\"M101.246 791.159 Q97.6354 791.159 95.8067 794.723 Q94.0012 798.265 94.0012 805.395 Q94.0012 812.501 95.8067 816.066 Q97.6354 819.608 101.246 819.608 Q104.881 819.608 106.686 816.066 Q108.515 812.501 108.515 805.395 Q108.515 798.265 106.686 794.723 Q104.881 791.159 101.246 791.159 M101.246 787.455 Q107.057 787.455 110.112 792.061 Q113.191 796.645 113.191 805.395 Q113.191 814.121 110.112 818.728 Q107.057 823.311 101.246 823.311 Q95.4363 823.311 92.3576 818.728 Q89.3021 814.121 89.3021 805.395 Q89.3021 796.645 92.3576 792.061 Q95.4363 787.455 101.246 787.455 Z\" fill=\"#000000\" fill-rule=\"evenodd\" fill-opacity=\"1\" /><path clip-path=\"url(#clip260)\" d=\"M96.8715 547.157 L113.191 547.157 L113.191 551.092 L91.2465 551.092 L91.2465 547.157 Q93.9086 544.402 98.4919 539.773 Q103.098 535.12 104.279 533.777 Q106.524 531.254 107.404 529.518 Q108.307 527.759 108.307 526.069 Q108.307 523.314 106.362 521.578 Q104.441 519.842 101.339 519.842 Q99.14 519.842 96.6863 520.606 Q94.2558 521.37 91.478 522.921 L91.478 518.199 Q94.3021 517.064 96.7558 516.486 Q99.2095 515.907 101.246 515.907 Q106.617 515.907 109.811 518.592 Q113.006 521.277 113.006 525.768 Q113.006 527.898 112.196 529.819 Q111.408 531.717 109.302 534.31 Q108.723 534.981 105.621 538.199 Q102.52 541.393 96.8715 547.157 Z\" fill=\"#000000\" fill-rule=\"evenodd\" fill-opacity=\"1\" /><path clip-path=\"url(#clip260)\" d=\"M103.608 249.058 L91.8021 267.507 L103.608 267.507 L103.608 249.058 M102.381 244.984 L108.26 244.984 L108.26 267.507 L113.191 267.507 L113.191 271.396 L108.26 271.396 L108.26 279.544 L103.608 279.544 L103.608 271.396 L88.0058 271.396 L88.0058 266.882 L102.381 244.984 Z\" fill=\"#000000\" fill-rule=\"evenodd\" fill-opacity=\"1\" /><polyline clip-path=\"url(#clip262)\" style=\"stroke:#009af9; stroke-linecap:round; stroke-linejoin:round; stroke-width:16; stroke-opacity:1; fill:none\" points=\"\n",
       "  211.556,87.9763 218.323,96.654 225.09,105.368 287.663,186.844 350.235,267.362 387.838,313.789 425.442,357.861 457.235,392.813 489.028,425.294 506.296,441.8 \n",
       "  523.564,457.459 540.832,472.241 558.1,486.122 589.94,509.297 621.779,529.296 655.914,547.231 690.05,561.655 709.824,568.484 729.599,574.259 749.373,579.045 \n",
       "  769.148,582.915 804.294,587.792 839.44,590.553 870.261,591.688 901.081,592.055 968.286,592.299 1035.89,595.525 1073.26,600.181 1110.63,607.709 1146.19,618.036 \n",
       "  1181.75,631.834 1200.24,640.474 1218.73,650.155 1237.21,660.896 1255.7,672.708 1286.82,695.014 1317.95,720.313 1336.95,737.183 1355.94,755.09 1374.94,773.989 \n",
       "  1393.94,793.826 1428.75,832.392 1463.56,873.45 1527.86,954.074 1592.99,1038.83 1629.49,1086.17 1665.98,1132.46 1699.05,1172.95 1732.13,1211.54 1751.06,1232.61 \n",
       "  1769.99,1252.85 1788.92,1272.19 1807.86,1290.57 1842.92,1321.92 1877.98,1349.58 1912.54,1373.11 1947.11,1392.9 1963.89,1401.17 1980.67,1408.6 1997.45,1415.2 \n",
       "  2014.23,1421.01 2048.63,1430.57 2083.03,1437.29 2120.72,1441.88 2158.42,1444.24 2213.17,1445.17 2267.92,1445.31 2279.16,1445.47 2290.39,1445.72 \n",
       "  \"/>\n",
       "<path clip-path=\"url(#clip260)\" d=\"\n",
       "M1982.03 198.898 L2279.3 198.898 L2279.3 95.2176 L1982.03 95.2176  Z\n",
       "  \" fill=\"#ffffff\" fill-rule=\"evenodd\" fill-opacity=\"1\"/>\n",
       "<polyline clip-path=\"url(#clip260)\" style=\"stroke:#000000; stroke-linecap:round; stroke-linejoin:round; stroke-width:4; stroke-opacity:1; fill:none\" points=\"\n",
       "  1982.03,198.898 2279.3,198.898 2279.3,95.2176 1982.03,95.2176 1982.03,198.898 \n",
       "  \"/>\n",
       "<polyline clip-path=\"url(#clip260)\" style=\"stroke:#009af9; stroke-linecap:round; stroke-linejoin:round; stroke-width:4; stroke-opacity:1; fill:none\" points=\"\n",
       "  2006.52,147.058 2153.42,147.058 \n",
       "  \"/>\n",
       "<path clip-path=\"url(#clip260)\" d=\"M2191.75 166.745 Q2189.94 171.375 2188.23 172.787 Q2186.52 174.199 2183.65 174.199 L2180.24 174.199 L2180.24 170.634 L2182.74 170.634 Q2184.5 170.634 2185.47 169.8 Q2186.45 168.967 2187.63 165.865 L2188.39 163.921 L2177.91 138.412 L2182.42 138.412 L2190.52 158.689 L2198.62 138.412 L2203.14 138.412 L2191.75 166.745 Z\" fill=\"#000000\" fill-rule=\"evenodd\" fill-opacity=\"1\" /><path clip-path=\"url(#clip260)\" d=\"M2210.43 160.402 L2218.07 160.402 L2218.07 134.037 L2209.76 135.703 L2209.76 131.444 L2218.02 129.778 L2222.7 129.778 L2222.7 160.402 L2230.34 160.402 L2230.34 164.338 L2210.43 164.338 L2210.43 160.402 Z\" fill=\"#000000\" fill-rule=\"evenodd\" fill-opacity=\"1\" /></svg>\n"
      ]
     },
     "execution_count": 64,
     "metadata": {},
     "output_type": "execute_result"
    }
   ],
   "source": [
    "hasroot(f, a, b) = f(a) * f(b) < 0\n",
    "\n",
    "f(x) = cos(x) - x\n",
    "plot(f)"
   ]
  },
  {
   "cell_type": "markdown",
   "id": "8f67e113",
   "metadata": {
    "slideshow": {
     "slide_type": "slide"
    }
   },
   "source": [
    "# Bisection"
   ]
  },
  {
   "cell_type": "code",
   "execution_count": 67,
   "id": "b400680b",
   "metadata": {},
   "outputs": [
    {
     "data": {
      "text/plain": [
       "(0.7390861511230469, -1.7035832658995886e-6)"
      ]
     },
     "execution_count": 67,
     "metadata": {},
     "output_type": "execute_result"
    }
   ],
   "source": [
    "function bisect(f, a, b, tol)\n",
    "    mid = (a + b) / 2\n",
    "    if abs(b - a) < tol\n",
    "        return mid\n",
    "    elseif hasroot(f, a, mid)\n",
    "        return bisect(f, a, mid, tol)\n",
    "    else\n",
    "        return bisect(f, mid, b, tol)\n",
    "    end\n",
    "end\n",
    "\n",
    "x0 = bisect(f, -1, 3, 1e-5)\n",
    "x0, f(x0)"
   ]
  },
  {
   "cell_type": "markdown",
   "id": "4a23a9c0",
   "metadata": {
    "slideshow": {
     "slide_type": "slide"
    }
   },
   "source": [
    "# How fast does it converge?"
   ]
  },
  {
   "cell_type": "code",
   "execution_count": 15,
   "id": "65c2febb",
   "metadata": {
    "cell_style": "split",
    "slideshow": {
     "slide_type": ""
    }
   },
   "outputs": [
    {
     "data": {
      "text/plain": [
       "bisect_hist (generic function with 1 method)"
      ]
     },
     "execution_count": 15,
     "metadata": {},
     "output_type": "execute_result"
    }
   ],
   "source": [
    "function bisect_hist(f, a, b, tol)\n",
    "    mid = (a + b) / 2\n",
    "    if abs(b - a) < tol\n",
    "        return [mid]\n",
    "    elseif hasroot(f, a, mid)\n",
    "        return prepend!(bisect_hist(f, a, mid, tol), [mid])\n",
    "    else\n",
    "        return prepend!(bisect_hist(f, mid, b, tol), [mid])\n",
    "    end\n",
    "end"
   ]
  },
  {
   "cell_type": "code",
   "execution_count": 16,
   "id": "9e4e7ebf",
   "metadata": {
    "cell_style": "split"
   },
   "outputs": [
    {
     "data": {
      "text/plain": [
       "17-element Vector{Float64}:\n",
       " 1.0\n",
       " 0.0\n",
       " 0.5\n",
       " 0.75\n",
       " 0.625\n",
       " 0.6875\n",
       " 0.71875\n",
       " 0.734375\n",
       " 0.7421875\n",
       " 0.73828125\n",
       " 0.740234375\n",
       " 0.7392578125\n",
       " 0.73876953125\n",
       " 0.739013671875\n",
       " 0.7391357421875\n",
       " 0.73907470703125\n",
       " 0.739105224609375"
      ]
     },
     "execution_count": 16,
     "metadata": {},
     "output_type": "execute_result"
    }
   ],
   "source": [
    "bisect_hist(f, -1, 3, 1e-4)"
   ]
  },
  {
   "cell_type": "markdown",
   "id": "ce914f4e",
   "metadata": {
    "slideshow": {
     "slide_type": "slide"
    }
   },
   "source": [
    "# Iterative bisection\n",
    "\n",
    "* Data structures often optimized for appending rather than prepending.\n",
    "* Bounds stack space"
   ]
  },
  {
   "cell_type": "code",
   "execution_count": 17,
   "id": "76489e23",
   "metadata": {
    "cell_style": "split"
   },
   "outputs": [
    {
     "data": {
      "text/plain": [
       "bisect_iter (generic function with 1 method)"
      ]
     },
     "execution_count": 17,
     "metadata": {},
     "output_type": "execute_result"
    }
   ],
   "source": [
    "function bisect_iter(f, a, b, tol)\n",
    "    hist = Float64[]\n",
    "    while abs(b - a) > tol\n",
    "        mid = (a + b) / 2\n",
    "        push!(hist, mid)\n",
    "        if hasroot(f, a, mid)\n",
    "            b = mid\n",
    "        else\n",
    "            a = mid\n",
    "        end\n",
    "    end\n",
    "    hist\n",
    "end"
   ]
  },
  {
   "cell_type": "code",
   "execution_count": 68,
   "id": "3bc94db0",
   "metadata": {
    "cell_style": "split"
   },
   "outputs": [
    {
     "data": {
      "text/plain": [
       "16-element Vector{Float64}:\n",
       " 1.0\n",
       " 0.0\n",
       " 0.5\n",
       " 0.75\n",
       " 0.625\n",
       " 0.6875\n",
       " 0.71875\n",
       " 0.734375\n",
       " 0.7421875\n",
       " 0.73828125\n",
       " 0.740234375\n",
       " 0.7392578125\n",
       " 0.73876953125\n",
       " 0.739013671875\n",
       " 0.7391357421875\n",
       " 0.73907470703125"
      ]
     },
     "execution_count": 68,
     "metadata": {},
     "output_type": "execute_result"
    }
   ],
   "source": [
    "bisect_iter(f, -1, 3, 1e-4)"
   ]
  },
  {
   "cell_type": "markdown",
   "id": "6a970a26",
   "metadata": {
    "slideshow": {
     "slide_type": "slide"
    }
   },
   "source": [
    "# Let's plot the error\n",
    "\n",
    "$$ \\lvert \\texttt{bisect}^k(f, a, b) - r \\rvert, \\quad k = 1, 2, \\dotsc $$\n",
    "\n",
    "where $r$ is the true root, $f(r) = 0$."
   ]
  },
  {
   "cell_type": "code",
   "execution_count": 19,
   "id": "2ab5c98b",
   "metadata": {
    "cell_style": "split"
   },
   "outputs": [
    {
     "data": {
      "image/svg+xml": [
       "<?xml version=\"1.0\" encoding=\"utf-8\"?>\n",
       "<svg xmlns=\"http://www.w3.org/2000/svg\" xmlns:xlink=\"http://www.w3.org/1999/xlink\" width=\"600\" height=\"400\" viewBox=\"0 0 2400 1600\">\n",
       "<defs>\n",
       "  <clipPath id=\"clip180\">\n",
       "    <rect x=\"0\" y=\"0\" width=\"2400\" height=\"1600\"/>\n",
       "  </clipPath>\n",
       "</defs>\n",
       "<path clip-path=\"url(#clip180)\" d=\"\n",
       "M0 1600 L2400 1600 L2400 0 L0 0  Z\n",
       "  \" fill=\"#ffffff\" fill-rule=\"evenodd\" fill-opacity=\"1\"/>\n",
       "<defs>\n",
       "  <clipPath id=\"clip181\">\n",
       "    <rect x=\"480\" y=\"0\" width=\"1681\" height=\"1600\"/>\n",
       "  </clipPath>\n",
       "</defs>\n",
       "<path clip-path=\"url(#clip180)\" d=\"\n",
       "M213.607 1486.45 L2352.76 1486.45 L2352.76 47.2441 L213.607 47.2441  Z\n",
       "  \" fill=\"#ffffff\" fill-rule=\"evenodd\" fill-opacity=\"1\"/>\n",
       "<defs>\n",
       "  <clipPath id=\"clip182\">\n",
       "    <rect x=\"213\" y=\"47\" width=\"2140\" height=\"1440\"/>\n",
       "  </clipPath>\n",
       "</defs>\n",
       "<polyline clip-path=\"url(#clip182)\" style=\"stroke:#000000; stroke-linecap:round; stroke-linejoin:round; stroke-width:2; stroke-opacity:0.1; fill:none\" points=\"\n",
       "  218.092,1486.45 218.092,47.2441 \n",
       "  \"/>\n",
       "<polyline clip-path=\"url(#clip182)\" style=\"stroke:#000000; stroke-linecap:round; stroke-linejoin:round; stroke-width:2; stroke-opacity:0.1; fill:none\" points=\"\n",
       "  778.666,1486.45 778.666,47.2441 \n",
       "  \"/>\n",
       "<polyline clip-path=\"url(#clip182)\" style=\"stroke:#000000; stroke-linecap:round; stroke-linejoin:round; stroke-width:2; stroke-opacity:0.1; fill:none\" points=\"\n",
       "  1339.24,1486.45 1339.24,47.2441 \n",
       "  \"/>\n",
       "<polyline clip-path=\"url(#clip182)\" style=\"stroke:#000000; stroke-linecap:round; stroke-linejoin:round; stroke-width:2; stroke-opacity:0.1; fill:none\" points=\"\n",
       "  1899.81,1486.45 1899.81,47.2441 \n",
       "  \"/>\n",
       "<polyline clip-path=\"url(#clip180)\" style=\"stroke:#000000; stroke-linecap:round; stroke-linejoin:round; stroke-width:4; stroke-opacity:1; fill:none\" points=\"\n",
       "  213.607,1486.45 2352.76,1486.45 \n",
       "  \"/>\n",
       "<polyline clip-path=\"url(#clip180)\" style=\"stroke:#000000; stroke-linecap:round; stroke-linejoin:round; stroke-width:4; stroke-opacity:1; fill:none\" points=\"\n",
       "  218.092,1486.45 218.092,1467.55 \n",
       "  \"/>\n",
       "<polyline clip-path=\"url(#clip180)\" style=\"stroke:#000000; stroke-linecap:round; stroke-linejoin:round; stroke-width:4; stroke-opacity:1; fill:none\" points=\"\n",
       "  778.666,1486.45 778.666,1467.55 \n",
       "  \"/>\n",
       "<polyline clip-path=\"url(#clip180)\" style=\"stroke:#000000; stroke-linecap:round; stroke-linejoin:round; stroke-width:4; stroke-opacity:1; fill:none\" points=\"\n",
       "  1339.24,1486.45 1339.24,1467.55 \n",
       "  \"/>\n",
       "<polyline clip-path=\"url(#clip180)\" style=\"stroke:#000000; stroke-linecap:round; stroke-linejoin:round; stroke-width:4; stroke-opacity:1; fill:none\" points=\"\n",
       "  1899.81,1486.45 1899.81,1467.55 \n",
       "  \"/>\n",
       "<path clip-path=\"url(#clip180)\" d=\"M218.092 1517.37 Q214.481 1517.37 212.652 1520.93 Q210.847 1524.47 210.847 1531.6 Q210.847 1538.71 212.652 1542.27 Q214.481 1545.82 218.092 1545.82 Q221.726 1545.82 223.532 1542.27 Q225.361 1538.71 225.361 1531.6 Q225.361 1524.47 223.532 1520.93 Q221.726 1517.37 218.092 1517.37 M218.092 1513.66 Q223.902 1513.66 226.958 1518.27 Q230.036 1522.85 230.036 1531.6 Q230.036 1540.33 226.958 1544.94 Q223.902 1549.52 218.092 1549.52 Q212.282 1549.52 209.203 1544.94 Q206.148 1540.33 206.148 1531.6 Q206.148 1522.85 209.203 1518.27 Q212.282 1513.66 218.092 1513.66 Z\" fill=\"#000000\" fill-rule=\"evenodd\" fill-opacity=\"1\" /><path clip-path=\"url(#clip180)\" d=\"M753.353 1544.91 L760.992 1544.91 L760.992 1518.55 L752.682 1520.21 L752.682 1515.95 L760.946 1514.29 L765.622 1514.29 L765.622 1544.91 L773.26 1544.91 L773.26 1548.85 L753.353 1548.85 L753.353 1544.91 Z\" fill=\"#000000\" fill-rule=\"evenodd\" fill-opacity=\"1\" /><path clip-path=\"url(#clip180)\" d=\"M792.705 1517.37 Q789.094 1517.37 787.265 1520.93 Q785.459 1524.47 785.459 1531.6 Q785.459 1538.71 787.265 1542.27 Q789.094 1545.82 792.705 1545.82 Q796.339 1545.82 798.145 1542.27 Q799.973 1538.71 799.973 1531.6 Q799.973 1524.47 798.145 1520.93 Q796.339 1517.37 792.705 1517.37 M792.705 1513.66 Q798.515 1513.66 801.571 1518.27 Q804.649 1522.85 804.649 1531.6 Q804.649 1540.33 801.571 1544.94 Q798.515 1549.52 792.705 1549.52 Q786.895 1549.52 783.816 1544.94 Q780.76 1540.33 780.76 1531.6 Q780.76 1522.85 783.816 1518.27 Q786.895 1513.66 792.705 1513.66 Z\" fill=\"#000000\" fill-rule=\"evenodd\" fill-opacity=\"1\" /><path clip-path=\"url(#clip180)\" d=\"M1318.01 1544.91 L1334.33 1544.91 L1334.33 1548.85 L1312.39 1548.85 L1312.39 1544.91 Q1315.05 1542.16 1319.63 1537.53 Q1324.24 1532.88 1325.42 1531.53 Q1327.67 1529.01 1328.54 1527.27 Q1329.45 1525.51 1329.45 1523.82 Q1329.45 1521.07 1327.5 1519.33 Q1325.58 1517.6 1322.48 1517.6 Q1320.28 1517.6 1317.83 1518.36 Q1315.4 1519.13 1312.62 1520.68 L1312.62 1515.95 Q1315.44 1514.82 1317.9 1514.24 Q1320.35 1513.66 1322.39 1513.66 Q1327.76 1513.66 1330.95 1516.35 Q1334.15 1519.03 1334.15 1523.52 Q1334.15 1525.65 1333.34 1527.57 Q1332.55 1529.47 1330.44 1532.07 Q1329.86 1532.74 1326.76 1535.95 Q1323.66 1539.15 1318.01 1544.91 Z\" fill=\"#000000\" fill-rule=\"evenodd\" fill-opacity=\"1\" /><path clip-path=\"url(#clip180)\" d=\"M1354.15 1517.37 Q1350.54 1517.37 1348.71 1520.93 Q1346.9 1524.47 1346.9 1531.6 Q1346.9 1538.71 1348.71 1542.27 Q1350.54 1545.82 1354.15 1545.82 Q1357.78 1545.82 1359.59 1542.27 Q1361.41 1538.71 1361.41 1531.6 Q1361.41 1524.47 1359.59 1520.93 Q1357.78 1517.37 1354.15 1517.37 M1354.15 1513.66 Q1359.96 1513.66 1363.01 1518.27 Q1366.09 1522.85 1366.09 1531.6 Q1366.09 1540.33 1363.01 1544.94 Q1359.96 1549.52 1354.15 1549.52 Q1348.34 1549.52 1345.26 1544.94 Q1342.2 1540.33 1342.2 1531.6 Q1342.2 1522.85 1345.26 1518.27 Q1348.34 1513.66 1354.15 1513.66 Z\" fill=\"#000000\" fill-rule=\"evenodd\" fill-opacity=\"1\" /><path clip-path=\"url(#clip180)\" d=\"M1888.66 1530.21 Q1892.01 1530.93 1893.89 1533.2 Q1895.78 1535.47 1895.78 1538.8 Q1895.78 1543.92 1892.27 1546.72 Q1888.75 1549.52 1882.27 1549.52 Q1880.09 1549.52 1877.78 1549.08 Q1875.48 1548.66 1873.03 1547.81 L1873.03 1543.29 Q1874.97 1544.43 1877.29 1545.01 Q1879.6 1545.58 1882.13 1545.58 Q1886.53 1545.58 1888.82 1543.85 Q1891.13 1542.11 1891.13 1538.8 Q1891.13 1535.75 1888.98 1534.03 Q1886.85 1532.3 1883.03 1532.3 L1879 1532.3 L1879 1528.45 L1883.22 1528.45 Q1886.66 1528.45 1888.49 1527.09 Q1890.32 1525.7 1890.32 1523.11 Q1890.32 1520.45 1888.42 1519.03 Q1886.55 1517.6 1883.03 1517.6 Q1881.11 1517.6 1878.91 1518.01 Q1876.71 1518.43 1874.07 1519.31 L1874.07 1515.14 Q1876.73 1514.4 1879.05 1514.03 Q1881.39 1513.66 1883.45 1513.66 Q1888.77 1513.66 1891.87 1516.09 Q1894.97 1518.5 1894.97 1522.62 Q1894.97 1525.49 1893.33 1527.48 Q1891.69 1529.45 1888.66 1530.21 Z\" fill=\"#000000\" fill-rule=\"evenodd\" fill-opacity=\"1\" /><path clip-path=\"url(#clip180)\" d=\"M1914.65 1517.37 Q1911.04 1517.37 1909.21 1520.93 Q1907.41 1524.47 1907.41 1531.6 Q1907.41 1538.71 1909.21 1542.27 Q1911.04 1545.82 1914.65 1545.82 Q1918.28 1545.82 1920.09 1542.27 Q1921.92 1538.71 1921.92 1531.6 Q1921.92 1524.47 1920.09 1520.93 Q1918.28 1517.37 1914.65 1517.37 M1914.65 1513.66 Q1920.46 1513.66 1923.52 1518.27 Q1926.59 1522.85 1926.59 1531.6 Q1926.59 1540.33 1923.52 1544.94 Q1920.46 1549.52 1914.65 1549.52 Q1908.84 1549.52 1905.76 1544.94 Q1902.71 1540.33 1902.71 1531.6 Q1902.71 1522.85 1905.76 1518.27 Q1908.84 1513.66 1914.65 1513.66 Z\" fill=\"#000000\" fill-rule=\"evenodd\" fill-opacity=\"1\" /><polyline clip-path=\"url(#clip182)\" style=\"stroke:#000000; stroke-linecap:round; stroke-linejoin:round; stroke-width:2; stroke-opacity:0.1; fill:none\" points=\"\n",
       "  213.607,1239.14 2352.76,1239.14 \n",
       "  \"/>\n",
       "<polyline clip-path=\"url(#clip182)\" style=\"stroke:#000000; stroke-linecap:round; stroke-linejoin:round; stroke-width:2; stroke-opacity:0.1; fill:none\" points=\"\n",
       "  213.607,680.381 2352.76,680.381 \n",
       "  \"/>\n",
       "<polyline clip-path=\"url(#clip182)\" style=\"stroke:#000000; stroke-linecap:round; stroke-linejoin:round; stroke-width:2; stroke-opacity:0.1; fill:none\" points=\"\n",
       "  213.607,121.617 2352.76,121.617 \n",
       "  \"/>\n",
       "<polyline clip-path=\"url(#clip180)\" style=\"stroke:#000000; stroke-linecap:round; stroke-linejoin:round; stroke-width:4; stroke-opacity:1; fill:none\" points=\"\n",
       "  213.607,1486.45 213.607,47.2441 \n",
       "  \"/>\n",
       "<polyline clip-path=\"url(#clip180)\" style=\"stroke:#000000; stroke-linecap:round; stroke-linejoin:round; stroke-width:4; stroke-opacity:1; fill:none\" points=\"\n",
       "  213.607,1239.14 232.505,1239.14 \n",
       "  \"/>\n",
       "<polyline clip-path=\"url(#clip180)\" style=\"stroke:#000000; stroke-linecap:round; stroke-linejoin:round; stroke-width:4; stroke-opacity:1; fill:none\" points=\"\n",
       "  213.607,680.381 232.505,680.381 \n",
       "  \"/>\n",
       "<polyline clip-path=\"url(#clip180)\" style=\"stroke:#000000; stroke-linecap:round; stroke-linejoin:round; stroke-width:4; stroke-opacity:1; fill:none\" points=\"\n",
       "  213.607,121.617 232.505,121.617 \n",
       "  \"/>\n",
       "<path clip-path=\"url(#clip180)\" d=\"M51.6634 1258.94 L59.3023 1258.94 L59.3023 1232.57 L50.9921 1234.24 L50.9921 1229.98 L59.256 1228.31 L63.9319 1228.31 L63.9319 1258.94 L71.5707 1258.94 L71.5707 1262.87 L51.6634 1262.87 L51.6634 1258.94 Z\" fill=\"#000000\" fill-rule=\"evenodd\" fill-opacity=\"1\" /><path clip-path=\"url(#clip180)\" d=\"M91.0151 1231.39 Q87.404 1231.39 85.5753 1234.96 Q83.7697 1238.5 83.7697 1245.63 Q83.7697 1252.73 85.5753 1256.3 Q87.404 1259.84 91.0151 1259.84 Q94.6493 1259.84 96.4548 1256.3 Q98.2835 1252.73 98.2835 1245.63 Q98.2835 1238.5 96.4548 1234.96 Q94.6493 1231.39 91.0151 1231.39 M91.0151 1227.69 Q96.8252 1227.69 99.8808 1232.29 Q102.959 1236.88 102.959 1245.63 Q102.959 1254.35 99.8808 1258.96 Q96.8252 1263.54 91.0151 1263.54 Q85.2049 1263.54 82.1262 1258.96 Q79.0707 1254.35 79.0707 1245.63 Q79.0707 1236.88 82.1262 1232.29 Q85.2049 1227.69 91.0151 1227.69 Z\" fill=\"#000000\" fill-rule=\"evenodd\" fill-opacity=\"1\" /><path clip-path=\"url(#clip180)\" d=\"M102.959 1221.79 L127.071 1221.79 L127.071 1224.99 L102.959 1224.99 L102.959 1221.79 Z\" fill=\"#000000\" fill-rule=\"evenodd\" fill-opacity=\"1\" /><path clip-path=\"url(#clip180)\" d=\"M135.929 1232.26 L142.136 1232.26 L142.136 1210.84 L135.384 1212.2 L135.384 1208.74 L142.098 1207.38 L145.898 1207.38 L145.898 1232.26 L152.104 1232.26 L152.104 1235.46 L135.929 1235.46 L135.929 1232.26 Z\" fill=\"#000000\" fill-rule=\"evenodd\" fill-opacity=\"1\" /><path clip-path=\"url(#clip180)\" d=\"M167.903 1209.88 Q164.969 1209.88 163.483 1212.78 Q162.016 1215.66 162.016 1221.45 Q162.016 1227.22 163.483 1230.12 Q164.969 1233 167.903 1233 Q170.855 1233 172.322 1230.12 Q173.808 1227.22 173.808 1221.45 Q173.808 1215.66 172.322 1212.78 Q170.855 1209.88 167.903 1209.88 M167.903 1206.87 Q172.623 1206.87 175.106 1210.62 Q177.607 1214.34 177.607 1221.45 Q177.607 1228.54 175.106 1232.28 Q172.623 1236.01 167.903 1236.01 Q163.182 1236.01 160.68 1232.28 Q158.198 1228.54 158.198 1221.45 Q158.198 1214.34 160.68 1210.62 Q163.182 1206.87 167.903 1206.87 Z\" fill=\"#000000\" fill-rule=\"evenodd\" fill-opacity=\"1\" /><path clip-path=\"url(#clip180)\" d=\"M76.9787 700.173 L84.6175 700.173 L84.6175 673.808 L76.3074 675.474 L76.3074 671.215 L84.5712 669.548 L89.2471 669.548 L89.2471 700.173 L96.886 700.173 L96.886 704.108 L76.9787 704.108 L76.9787 700.173 Z\" fill=\"#000000\" fill-rule=\"evenodd\" fill-opacity=\"1\" /><path clip-path=\"url(#clip180)\" d=\"M116.33 672.627 Q112.719 672.627 110.891 676.192 Q109.085 679.734 109.085 686.863 Q109.085 693.97 110.891 697.534 Q112.719 701.076 116.33 701.076 Q119.965 701.076 121.77 697.534 Q123.599 693.97 123.599 686.863 Q123.599 679.734 121.77 676.192 Q119.965 672.627 116.33 672.627 M116.33 668.923 Q122.14 668.923 125.196 673.53 Q128.275 678.113 128.275 686.863 Q128.275 695.59 125.196 700.196 Q122.14 704.78 116.33 704.78 Q110.52 704.78 107.441 700.196 Q104.386 695.59 104.386 686.863 Q104.386 678.113 107.441 673.53 Q110.52 668.923 116.33 668.923 Z\" fill=\"#000000\" fill-rule=\"evenodd\" fill-opacity=\"1\" /><path clip-path=\"url(#clip180)\" d=\"M128.275 663.025 L152.386 663.025 L152.386 666.222 L128.275 666.222 L128.275 663.025 Z\" fill=\"#000000\" fill-rule=\"evenodd\" fill-opacity=\"1\" /><path clip-path=\"url(#clip180)\" d=\"M160.624 648.618 L175.539 648.618 L175.539 651.815 L164.103 651.815 L164.103 658.699 Q164.931 658.417 165.759 658.285 Q166.586 658.135 167.414 658.135 Q172.116 658.135 174.862 660.711 Q177.607 663.288 177.607 667.689 Q177.607 672.222 174.786 674.742 Q171.965 677.243 166.831 677.243 Q165.063 677.243 163.22 676.943 Q161.395 676.642 159.439 676.04 L159.439 672.222 Q161.132 673.143 162.937 673.595 Q164.743 674.046 166.755 674.046 Q170.009 674.046 171.909 672.335 Q173.808 670.623 173.808 667.689 Q173.808 664.755 171.909 663.044 Q170.009 661.332 166.755 661.332 Q165.232 661.332 163.709 661.671 Q162.204 662.009 160.624 662.724 L160.624 648.618 Z\" fill=\"#000000\" fill-rule=\"evenodd\" fill-opacity=\"1\" /><path clip-path=\"url(#clip180)\" d=\"M106.902 141.41 L114.541 141.41 L114.541 115.044 L106.231 116.711 L106.231 112.451 L114.494 110.785 L119.17 110.785 L119.17 141.41 L126.809 141.41 L126.809 145.345 L106.902 145.345 L106.902 141.41 Z\" fill=\"#000000\" fill-rule=\"evenodd\" fill-opacity=\"1\" /><path clip-path=\"url(#clip180)\" d=\"M146.253 113.863 Q142.642 113.863 140.814 117.428 Q139.008 120.97 139.008 128.1 Q139.008 135.206 140.814 138.771 Q142.642 142.312 146.253 142.312 Q149.888 142.312 151.693 138.771 Q153.522 135.206 153.522 128.1 Q153.522 120.97 151.693 117.428 Q149.888 113.863 146.253 113.863 M146.253 110.16 Q152.064 110.16 155.119 114.766 Q158.198 119.35 158.198 128.1 Q158.198 136.826 155.119 141.433 Q152.064 146.016 146.253 146.016 Q140.443 146.016 137.365 141.433 Q134.309 136.826 134.309 128.1 Q134.309 119.35 137.365 114.766 Q140.443 110.16 146.253 110.16 Z\" fill=\"#000000\" fill-rule=\"evenodd\" fill-opacity=\"1\" /><path clip-path=\"url(#clip180)\" d=\"M167.903 92.3558 Q164.969 92.3558 163.483 95.2522 Q162.016 98.1298 162.016 103.923 Q162.016 109.697 163.483 112.593 Q164.969 115.471 167.903 115.471 Q170.855 115.471 172.322 112.593 Q173.808 109.697 173.808 103.923 Q173.808 98.1298 172.322 95.2522 Q170.855 92.3558 167.903 92.3558 M167.903 89.3466 Q172.623 89.3466 175.106 93.0893 Q177.607 96.8133 177.607 103.923 Q177.607 111.013 175.106 114.756 Q172.623 118.48 167.903 118.48 Q163.182 118.48 160.68 114.756 Q158.198 111.013 158.198 103.923 Q158.198 96.8133 160.68 93.0893 Q163.182 89.3466 167.903 89.3466 Z\" fill=\"#000000\" fill-rule=\"evenodd\" fill-opacity=\"1\" /><circle clip-path=\"url(#clip182)\" cx=\"274.149\" cy=\"186.825\" r=\"14.4\" fill=\"#009af9\" fill-rule=\"evenodd\" fill-opacity=\"1\" stroke=\"#000000\" stroke-opacity=\"1\" stroke-width=\"3.2\"/>\n",
       "<circle clip-path=\"url(#clip182)\" cx=\"330.207\" cy=\"136.291\" r=\"14.4\" fill=\"#009af9\" fill-rule=\"evenodd\" fill-opacity=\"1\" stroke=\"#000000\" stroke-opacity=\"1\" stroke-width=\"3.2\"/>\n",
       "<circle clip-path=\"url(#clip182)\" cx=\"386.264\" cy=\"191.066\" r=\"14.4\" fill=\"#009af9\" fill-rule=\"evenodd\" fill-opacity=\"1\" stroke=\"#000000\" stroke-opacity=\"1\" stroke-width=\"3.2\"/>\n",
       "<circle clip-path=\"url(#clip182)\" cx=\"442.321\" cy=\"340.874\" r=\"14.4\" fill=\"#009af9\" fill-rule=\"evenodd\" fill-opacity=\"1\" stroke=\"#000000\" stroke-opacity=\"1\" stroke-width=\"3.2\"/>\n",
       "<circle clip-path=\"url(#clip182)\" cx=\"498.379\" cy=\"226.974\" r=\"14.4\" fill=\"#009af9\" fill-rule=\"evenodd\" fill-opacity=\"1\" stroke=\"#000000\" stroke-opacity=\"1\" stroke-width=\"3.2\"/>\n",
       "<circle clip-path=\"url(#clip182)\" cx=\"554.436\" cy=\"265.496\" r=\"14.4\" fill=\"#009af9\" fill-rule=\"evenodd\" fill-opacity=\"1\" stroke=\"#000000\" stroke-opacity=\"1\" stroke-width=\"3.2\"/>\n",
       "<circle clip-path=\"url(#clip182)\" cx=\"610.494\" cy=\"310.675\" r=\"14.4\" fill=\"#009af9\" fill-rule=\"evenodd\" fill-opacity=\"1\" stroke=\"#000000\" stroke-opacity=\"1\" stroke-width=\"3.2\"/>\n",
       "<circle clip-path=\"url(#clip182)\" cx=\"666.551\" cy=\"381.662\" r=\"14.4\" fill=\"#009af9\" fill-rule=\"evenodd\" fill-opacity=\"1\" stroke=\"#000000\" stroke-opacity=\"1\" stroke-width=\"3.2\"/>\n",
       "<circle clip-path=\"url(#clip182)\" cx=\"722.608\" cy=\"401.927\" r=\"14.4\" fill=\"#009af9\" fill-rule=\"evenodd\" fill-opacity=\"1\" stroke=\"#000000\" stroke-opacity=\"1\" stroke-width=\"3.2\"/>\n",
       "<circle clip-path=\"url(#clip182)\" cx=\"778.666\" cy=\"467.47\" r=\"14.4\" fill=\"#009af9\" fill-rule=\"evenodd\" fill-opacity=\"1\" stroke=\"#000000\" stroke-opacity=\"1\" stroke-width=\"3.2\"/>\n",
       "<circle clip-path=\"url(#clip182)\" cx=\"834.723\" cy=\"450.124\" r=\"14.4\" fill=\"#009af9\" fill-rule=\"evenodd\" fill-opacity=\"1\" stroke=\"#000000\" stroke-opacity=\"1\" stroke-width=\"3.2\"/>\n",
       "<circle clip-path=\"url(#clip182)\" cx=\"890.78\" cy=\"542.116\" r=\"14.4\" fill=\"#009af9\" fill-rule=\"evenodd\" fill-opacity=\"1\" stroke=\"#000000\" stroke-opacity=\"1\" stroke-width=\"3.2\"/>\n",
       "<circle clip-path=\"url(#clip182)\" cx=\"946.838\" cy=\"512.848\" r=\"14.4\" fill=\"#009af9\" fill-rule=\"evenodd\" fill-opacity=\"1\" stroke=\"#000000\" stroke-opacity=\"1\" stroke-width=\"3.2\"/>\n",
       "<circle clip-path=\"url(#clip182)\" cx=\"1002.89\" cy=\"584.936\" r=\"14.4\" fill=\"#009af9\" fill-rule=\"evenodd\" fill-opacity=\"1\" stroke=\"#000000\" stroke-opacity=\"1\" stroke-width=\"3.2\"/>\n",
       "<circle clip-path=\"url(#clip182)\" cx=\"1058.95\" cy=\"601.681\" r=\"14.4\" fill=\"#009af9\" fill-rule=\"evenodd\" fill-opacity=\"1\" stroke=\"#000000\" stroke-opacity=\"1\" stroke-width=\"3.2\"/>\n",
       "<circle clip-path=\"url(#clip182)\" cx=\"1115.01\" cy=\"678.355\" r=\"14.4\" fill=\"#009af9\" fill-rule=\"evenodd\" fill-opacity=\"1\" stroke=\"#000000\" stroke-opacity=\"1\" stroke-width=\"3.2\"/>\n",
       "<circle clip-path=\"url(#clip182)\" cx=\"1171.07\" cy=\"646.519\" r=\"14.4\" fill=\"#009af9\" fill-rule=\"evenodd\" fill-opacity=\"1\" stroke=\"#000000\" stroke-opacity=\"1\" stroke-width=\"3.2\"/>\n",
       "<circle clip-path=\"url(#clip182)\" cx=\"1227.12\" cy=\"715.674\" r=\"14.4\" fill=\"#009af9\" fill-rule=\"evenodd\" fill-opacity=\"1\" stroke=\"#000000\" stroke-opacity=\"1\" stroke-width=\"3.2\"/>\n",
       "<circle clip-path=\"url(#clip182)\" cx=\"1283.18\" cy=\"742.218\" r=\"14.4\" fill=\"#009af9\" fill-rule=\"evenodd\" fill-opacity=\"1\" stroke=\"#000000\" stroke-opacity=\"1\" stroke-width=\"3.2\"/>\n",
       "<circle clip-path=\"url(#clip182)\" cx=\"1339.24\" cy=\"791.272\" r=\"14.4\" fill=\"#009af9\" fill-rule=\"evenodd\" fill-opacity=\"1\" stroke=\"#000000\" stroke-opacity=\"1\" stroke-width=\"3.2\"/>\n",
       "<circle clip-path=\"url(#clip182)\" cx=\"1395.3\" cy=\"797.82\" r=\"14.4\" fill=\"#009af9\" fill-rule=\"evenodd\" fill-opacity=\"1\" stroke=\"#000000\" stroke-opacity=\"1\" stroke-width=\"3.2\"/>\n",
       "<circle clip-path=\"url(#clip182)\" cx=\"1451.35\" cy=\"925.369\" r=\"14.4\" fill=\"#009af9\" fill-rule=\"evenodd\" fill-opacity=\"1\" stroke=\"#000000\" stroke-opacity=\"1\" stroke-width=\"3.2\"/>\n",
       "<circle clip-path=\"url(#clip182)\" cx=\"1507.41\" cy=\"835.099\" r=\"14.4\" fill=\"#009af9\" fill-rule=\"evenodd\" fill-opacity=\"1\" stroke=\"#000000\" stroke-opacity=\"1\" stroke-width=\"3.2\"/>\n",
       "<circle clip-path=\"url(#clip182)\" cx=\"1563.47\" cy=\"876.953\" r=\"14.4\" fill=\"#009af9\" fill-rule=\"evenodd\" fill-opacity=\"1\" stroke=\"#000000\" stroke-opacity=\"1\" stroke-width=\"3.2\"/>\n",
       "<circle clip-path=\"url(#clip182)\" cx=\"1619.53\" cy=\"932.923\" r=\"14.4\" fill=\"#009af9\" fill-rule=\"evenodd\" fill-opacity=\"1\" stroke=\"#000000\" stroke-opacity=\"1\" stroke-width=\"3.2\"/>\n",
       "<circle clip-path=\"url(#clip182)\" cx=\"1675.58\" cy=\"1053.02\" r=\"14.4\" fill=\"#009af9\" fill-rule=\"evenodd\" fill-opacity=\"1\" stroke=\"#000000\" stroke-opacity=\"1\" stroke-width=\"3.2\"/>\n",
       "<circle clip-path=\"url(#clip182)\" cx=\"1731.64\" cy=\"970.833\" r=\"14.4\" fill=\"#009af9\" fill-rule=\"evenodd\" fill-opacity=\"1\" stroke=\"#000000\" stroke-opacity=\"1\" stroke-width=\"3.2\"/>\n",
       "<circle clip-path=\"url(#clip182)\" cx=\"1787.7\" cy=\"1014.34\" r=\"14.4\" fill=\"#009af9\" fill-rule=\"evenodd\" fill-opacity=\"1\" stroke=\"#000000\" stroke-opacity=\"1\" stroke-width=\"3.2\"/>\n",
       "<circle clip-path=\"url(#clip182)\" cx=\"1843.76\" cy=\"1077.05\" r=\"14.4\" fill=\"#009af9\" fill-rule=\"evenodd\" fill-opacity=\"1\" stroke=\"#000000\" stroke-opacity=\"1\" stroke-width=\"3.2\"/>\n",
       "<circle clip-path=\"url(#clip182)\" cx=\"1899.81\" cy=\"1132.31\" r=\"14.4\" fill=\"#009af9\" fill-rule=\"evenodd\" fill-opacity=\"1\" stroke=\"#000000\" stroke-opacity=\"1\" stroke-width=\"3.2\"/>\n",
       "<circle clip-path=\"url(#clip182)\" cx=\"1955.87\" cy=\"1129.42\" r=\"14.4\" fill=\"#009af9\" fill-rule=\"evenodd\" fill-opacity=\"1\" stroke=\"#000000\" stroke-opacity=\"1\" stroke-width=\"3.2\"/>\n",
       "<circle clip-path=\"url(#clip182)\" cx=\"2011.93\" cy=\"1301.47\" r=\"14.4\" fill=\"#009af9\" fill-rule=\"evenodd\" fill-opacity=\"1\" stroke=\"#000000\" stroke-opacity=\"1\" stroke-width=\"3.2\"/>\n",
       "<circle clip-path=\"url(#clip182)\" cx=\"2067.98\" cy=\"1167.46\" r=\"14.4\" fill=\"#009af9\" fill-rule=\"evenodd\" fill-opacity=\"1\" stroke=\"#000000\" stroke-opacity=\"1\" stroke-width=\"3.2\"/>\n",
       "<circle clip-path=\"url(#clip182)\" cx=\"2124.04\" cy=\"1204.27\" r=\"14.4\" fill=\"#009af9\" fill-rule=\"evenodd\" fill-opacity=\"1\" stroke=\"#000000\" stroke-opacity=\"1\" stroke-width=\"3.2\"/>\n",
       "<circle clip-path=\"url(#clip182)\" cx=\"2180.1\" cy=\"1244.95\" r=\"14.4\" fill=\"#009af9\" fill-rule=\"evenodd\" fill-opacity=\"1\" stroke=\"#000000\" stroke-opacity=\"1\" stroke-width=\"3.2\"/>\n",
       "<circle clip-path=\"url(#clip182)\" cx=\"2236.16\" cy=\"1296.74\" r=\"14.4\" fill=\"#009af9\" fill-rule=\"evenodd\" fill-opacity=\"1\" stroke=\"#000000\" stroke-opacity=\"1\" stroke-width=\"3.2\"/>\n",
       "<circle clip-path=\"url(#clip182)\" cx=\"2292.21\" cy=\"1445.72\" r=\"14.4\" fill=\"#009af9\" fill-rule=\"evenodd\" fill-opacity=\"1\" stroke=\"#000000\" stroke-opacity=\"1\" stroke-width=\"3.2\"/>\n",
       "<polyline clip-path=\"url(#clip182)\" style=\"stroke:#e26f46; stroke-linecap:round; stroke-linejoin:round; stroke-width:16; stroke-opacity:1; fill:none\" points=\"\n",
       "  274.149,87.9763 330.207,121.617 386.264,155.258 442.321,188.899 498.379,222.54 554.436,256.181 610.494,289.822 666.551,323.463 722.608,357.104 778.666,390.745 \n",
       "  834.723,424.386 890.78,458.026 946.838,491.667 1002.89,525.308 1058.95,558.949 1115.01,592.59 1171.07,626.231 1227.12,659.872 1283.18,693.513 1339.24,727.154 \n",
       "  1395.3,760.795 1451.35,794.436 1507.41,828.077 1563.47,861.718 1619.53,895.358 1675.58,928.999 1731.64,962.64 1787.7,996.281 1843.76,1029.92 1899.81,1063.56 \n",
       "  1955.87,1097.2 2011.93,1130.84 2067.98,1164.49 2124.04,1198.13 2180.1,1231.77 2236.16,1265.41 2292.21,1299.05 \n",
       "  \"/>\n",
       "<path clip-path=\"url(#clip180)\" d=\"\n",
       "M1991.34 250.738 L2281.45 250.738 L2281.45 95.2176 L1991.34 95.2176  Z\n",
       "  \" fill=\"#ffffff\" fill-rule=\"evenodd\" fill-opacity=\"1\"/>\n",
       "<polyline clip-path=\"url(#clip180)\" style=\"stroke:#000000; stroke-linecap:round; stroke-linejoin:round; stroke-width:4; stroke-opacity:1; fill:none\" points=\"\n",
       "  1991.34,250.738 2281.45,250.738 2281.45,95.2176 1991.34,95.2176 1991.34,250.738 \n",
       "  \"/>\n",
       "<circle clip-path=\"url(#clip180)\" cx=\"2086.41\" cy=\"147.058\" r=\"23.04\" fill=\"#009af9\" fill-rule=\"evenodd\" fill-opacity=\"1\" stroke=\"#000000\" stroke-opacity=\"1\" stroke-width=\"5.12\"/>\n",
       "<path clip-path=\"url(#clip180)\" d=\"M2195.33 166.745 Q2193.52 171.375 2191.81 172.787 Q2190.1 174.199 2187.22 174.199 L2183.82 174.199 L2183.82 170.634 L2186.32 170.634 Q2188.08 170.634 2189.05 169.8 Q2190.03 168.967 2191.21 165.865 L2191.97 163.921 L2181.48 138.412 L2186 138.412 L2194.1 158.689 L2202.2 138.412 L2206.72 138.412 L2195.33 166.745 Z\" fill=\"#000000\" fill-rule=\"evenodd\" fill-opacity=\"1\" /><path clip-path=\"url(#clip180)\" d=\"M2214.01 160.402 L2221.65 160.402 L2221.65 134.037 L2213.34 135.703 L2213.34 131.444 L2221.6 129.778 L2226.28 129.778 L2226.28 160.402 L2233.91 160.402 L2233.91 164.338 L2214.01 164.338 L2214.01 160.402 Z\" fill=\"#000000\" fill-rule=\"evenodd\" fill-opacity=\"1\" /><polyline clip-path=\"url(#clip180)\" style=\"stroke:#e26f46; stroke-linecap:round; stroke-linejoin:round; stroke-width:4; stroke-opacity:1; fill:none\" points=\"\n",
       "  2015.11,198.898 2157.72,198.898 \n",
       "  \"/>\n",
       "<path clip-path=\"url(#clip180)\" d=\"M2195.33 218.585 Q2193.52 223.215 2191.81 224.627 Q2190.1 226.039 2187.22 226.039 L2183.82 226.039 L2183.82 222.474 L2186.32 222.474 Q2188.08 222.474 2189.05 221.64 Q2190.03 220.807 2191.21 217.705 L2191.97 215.761 L2181.48 190.252 L2186 190.252 L2194.1 210.529 L2202.2 190.252 L2206.72 190.252 L2195.33 218.585 Z\" fill=\"#000000\" fill-rule=\"evenodd\" fill-opacity=\"1\" /><path clip-path=\"url(#clip180)\" d=\"M2217.22 212.242 L2233.54 212.242 L2233.54 216.178 L2211.6 216.178 L2211.6 212.242 Q2214.26 209.488 2218.84 204.858 Q2223.45 200.205 2224.63 198.863 Q2226.88 196.34 2227.76 194.604 Q2228.66 192.844 2228.66 191.155 Q2228.66 188.4 2226.72 186.664 Q2224.79 184.928 2221.69 184.928 Q2219.49 184.928 2217.04 185.692 Q2214.61 186.455 2211.83 188.006 L2211.83 183.284 Q2214.66 182.15 2217.11 181.571 Q2219.56 180.993 2221.6 180.993 Q2226.97 180.993 2230.16 183.678 Q2233.36 186.363 2233.36 190.854 Q2233.36 192.983 2232.55 194.905 Q2231.76 196.803 2229.66 199.395 Q2229.08 200.067 2225.97 203.284 Q2222.87 206.479 2217.22 212.242 Z\" fill=\"#000000\" fill-rule=\"evenodd\" fill-opacity=\"1\" /></svg>\n"
      ]
     },
     "execution_count": 19,
     "metadata": {},
     "output_type": "execute_result"
    }
   ],
   "source": [
    "r = bisect(f, -1, 3, 1e-14) # what are we trusting?\n",
    "hist = bisect_hist(f, -1, 3, 1e-10)\n",
    "scatter( abs.(hist .- r), yscale=:log10)\n",
    "ks = 1:length(hist)\n",
    "plot!(ks, 4 * (.5 .^ ks))"
   ]
  },
  {
   "cell_type": "markdown",
   "id": "4b5d448c",
   "metadata": {
    "cell_style": "split",
    "slideshow": {
     "slide_type": "fragment"
    }
   },
   "source": [
    "Evidently the error $e_k = x_k - x_*$ after $k$ bisections satisfies the bound\n",
    "$$ |e^k| \\le c 2^{-k} . $$"
   ]
  },
  {
   "cell_type": "markdown",
   "id": "142cfca3",
   "metadata": {
    "cell_style": "split",
    "slideshow": {
     "slide_type": "slide"
    }
   },
   "source": [
    "# Next time\n",
    "\n",
    "* Discuss rootfinding examples\n",
    "* Limitations of bisection\n",
    "* Convergence classes\n",
    "* Newton methods\n",
    "  * convergence theory\n",
    "  * derivation via convergence theory\n",
    "  * reliability"
   ]
  },
  {
   "cell_type": "markdown",
   "id": "41218e9b",
   "metadata": {
    "cell_style": "split"
   },
   "source": [
    "## For you\n",
    "\n",
    "* Share an equation that is useful for one task, but requires rootfinding for another task.\n",
    "* OR: explain a system in which one stakeholder has the natural inputs, but a different stakeholder only knows outputs.\n",
    "\n",
    "Please collaborate."
   ]
  }
 ],
 "metadata": {
  "@webio": {
   "lastCommId": "d005758a2c014970b1ecb25bdfe0e5ce",
   "lastKernelId": "6b2d1577-a396-467b-b12c-4c035d941eea"
  },
  "celltoolbar": "Slideshow",
  "hide_code_all_hidden": false,
  "kernelspec": {
   "display_name": "Julia 1.7.2",
   "language": "julia",
   "name": "julia-1.7"
  },
  "language_info": {
   "file_extension": ".jl",
   "mimetype": "application/julia",
   "name": "julia",
   "version": "1.8.5"
  },
  "rise": {
   "enable_chalkboard": true
  }
 },
 "nbformat": 4,
 "nbformat_minor": 5
}
