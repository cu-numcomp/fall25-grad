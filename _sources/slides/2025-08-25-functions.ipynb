{
 "cells": [
  {
   "cell_type": "markdown",
   "id": "4159be0e",
   "metadata": {
    "hideCode": false,
    "hidePrompt": false,
    "slideshow": {
     "slide_type": "slide"
    }
   },
   "source": [
    "# 2025-08-25 Functions\n",
    "\n",
    "## Last time\n",
    "* Class organization and syllabus\n",
    "* Floating point arithmetic and `exp`\n",
    "\n",
    "## Today\n",
    "* Using Julia\n",
    "* Plotting\n",
    "* Intro to floating point\n",
    "* Summing series\n",
    "* Relative vs absolute errors\n",
    "* On reliability, verification and validation"
   ]
  },
  {
   "cell_type": "markdown",
   "id": "1f28cbbc",
   "metadata": {
    "hideCode": false,
    "hidePrompt": false,
    "slideshow": {
     "slide_type": "slide"
    }
   },
   "source": [
    "# Julia\n",
    "\n",
    "Julia is a relatively new programming language. Think of it as MATLAB done right, open source, and fast. It's nominally general-purpose, but mostly for numerical/scientific/statistical computing. There are great [learning resources](https://julialang.org/learning/). We'll introduce concepts and language features as we go."
   ]
  },
  {
   "cell_type": "code",
   "execution_count": 38,
   "id": "7ab85301",
   "metadata": {
    "hideCode": false,
    "hidePrompt": false
   },
   "outputs": [
    {
     "data": {
      "text/plain": [
       "4"
      ]
     },
     "execution_count": 38,
     "metadata": {},
     "output_type": "execute_result"
    }
   ],
   "source": [
    "# The last line of a cell is output by default\n",
    "x = 3\n",
    "y = 4"
   ]
  },
  {
   "cell_type": "code",
   "execution_count": 2,
   "id": "22875437",
   "metadata": {
    "hideCode": false,
    "hidePrompt": false,
    "scrolled": true,
    "slideshow": {
     "slide_type": "fragment"
    }
   },
   "outputs": [
    {
     "name": "stdout",
     "output_type": "stream",
     "text": [
      "3 + 4 = 7\n"
     ]
    }
   ],
   "source": [
    "println(\"$x + $y = $(x + y)\") # string formatting/interpolation\n",
    "4;  # trailing semicolon suppresses output"
   ]
  },
  {
   "cell_type": "code",
   "execution_count": 42,
   "id": "7773ba94",
   "metadata": {
    "hideCode": false,
    "hidePrompt": false,
    "slideshow": {
     "slide_type": "fragment"
    }
   },
   "outputs": [
    {
     "name": "stdout",
     "output_type": "stream",
     "text": [
      "z = x + y = 7\n"
     ]
    },
    {
     "data": {
      "text/plain": [
       "12"
      ]
     },
     "execution_count": 42,
     "metadata": {},
     "output_type": "execute_result"
    }
   ],
   "source": [
    "@show z = x + y\n",
    "x * y"
   ]
  },
  {
   "cell_type": "markdown",
   "id": "f8d9c948",
   "metadata": {
    "hideCode": false,
    "hidePrompt": false,
    "slideshow": {
     "slide_type": "slide"
    }
   },
   "source": [
    "# Numbers"
   ]
  },
  {
   "cell_type": "code",
   "execution_count": 4,
   "id": "a21a9aae",
   "metadata": {
    "hideCode": false,
    "hidePrompt": false
   },
   "outputs": [
    {
     "data": {
      "text/plain": [
       "(3, 3.0, 3.0f0, 3.0)"
      ]
     },
     "execution_count": 4,
     "metadata": {},
     "output_type": "execute_result"
    }
   ],
   "source": [
    "3, 3.0, 3.0f0, big(3.0) # integers, double precision, and single precision"
   ]
  },
  {
   "cell_type": "code",
   "execution_count": 5,
   "id": "cad03c36",
   "metadata": {
    "hideCode": false,
    "hidePrompt": false,
    "slideshow": {
     "slide_type": "fragment"
    }
   },
   "outputs": [
    {
     "data": {
      "text/plain": [
       "(Int64, Float64, Float32, BigFloat)"
      ]
     },
     "execution_count": 5,
     "metadata": {},
     "output_type": "execute_result"
    }
   ],
   "source": [
    "typeof(3), typeof(3.0), typeof(3.0f0), typeof(big(3.0))"
   ]
  },
  {
   "cell_type": "code",
   "execution_count": 44,
   "id": "fc571720",
   "metadata": {
    "slideshow": {
     "slide_type": "fragment"
    }
   },
   "outputs": [
    {
     "name": "stdout",
     "output_type": "stream",
     "text": [
      "3 + 3.0 = 6.0\n",
      "3.0 + 3.0f0 = 6.0\n",
      "3 + 3.0f0 = 6.0f0\n"
     ]
    }
   ],
   "source": [
    "# automatic promotion\n",
    "@show 3 + 3.0\n",
    "@show 3.0 + 3.0f0\n",
    "@show 3 + 3.0f0;"
   ]
  },
  {
   "cell_type": "code",
   "execution_count": 46,
   "id": "941746b3",
   "metadata": {
    "slideshow": {
     "slide_type": "fragment"
    }
   },
   "outputs": [
    {
     "name": "stdout",
     "output_type": "stream",
     "text": [
      "4 / 3 = 1.3333333333333333\n",
      "-3 ÷ 2 = -1\n"
     ]
    }
   ],
   "source": [
    "# floating and integer division\n",
    "@show 4 / 3\n",
    "@show -3 ÷ 2; # type `\\div` and press TAB"
   ]
  },
  {
   "cell_type": "markdown",
   "id": "bcc583c4",
   "metadata": {
    "slideshow": {
     "slide_type": "slide"
    }
   },
   "source": [
    "# Arrays"
   ]
  },
  {
   "cell_type": "code",
   "execution_count": 51,
   "id": "f70c3592",
   "metadata": {
    "cell_style": "split"
   },
   "outputs": [
    {
     "data": {
      "text/plain": [
       "3-element Vector{Int64}:\n",
       " 1\n",
       " 2\n",
       " 3"
      ]
     },
     "execution_count": 51,
     "metadata": {},
     "output_type": "execute_result"
    }
   ],
   "source": [
    "[1, 2, 3]"
   ]
  },
  {
   "cell_type": "code",
   "execution_count": 47,
   "id": "8a45c6db",
   "metadata": {
    "cell_style": "split",
    "slideshow": {
     "slide_type": "fragment"
    }
   },
   "outputs": [
    {
     "data": {
      "text/plain": [
       "3-element Vector{Float64}:\n",
       " 1.0\n",
       " 2.0\n",
       " 3.0"
      ]
     },
     "execution_count": 47,
     "metadata": {},
     "output_type": "execute_result"
    }
   ],
   "source": [
    "# explicit typing\n",
    "Float64[1, 2, 3]"
   ]
  },
  {
   "cell_type": "code",
   "execution_count": 10,
   "id": "766b13cd",
   "metadata": {
    "cell_style": "split",
    "slideshow": {
     "slide_type": "fragment"
    }
   },
   "outputs": [
    {
     "data": {
      "text/plain": [
       "3-element Vector{Float64}:\n",
       " 2.0\n",
       " 4.0\n",
       " 6.0"
      ]
     },
     "execution_count": 10,
     "metadata": {},
     "output_type": "execute_result"
    }
   ],
   "source": [
    "# promotion rules similar to arithmetic\n",
    "[1,2,3.] + [1,2,3]"
   ]
  },
  {
   "cell_type": "code",
   "execution_count": 11,
   "id": "5742608a",
   "metadata": {
    "cell_style": "split",
    "slideshow": {
     "slide_type": "fragment"
    }
   },
   "outputs": [
    {
     "data": {
      "text/plain": [
       "20.0"
      ]
     },
     "execution_count": 11,
     "metadata": {},
     "output_type": "execute_result"
    }
   ],
   "source": [
    "x = [10., 20, 30]\n",
    "x[2] # one-based indexing"
   ]
  },
  {
   "cell_type": "code",
   "execution_count": 12,
   "id": "4b566b5e",
   "metadata": {
    "cell_style": "split",
    "slideshow": {
     "slide_type": "fragment"
    }
   },
   "outputs": [
    {
     "data": {
      "text/plain": [
       "3.5"
      ]
     },
     "execution_count": 12,
     "metadata": {},
     "output_type": "execute_result"
    }
   ],
   "source": [
    "x[2] = 3.5"
   ]
  },
  {
   "cell_type": "code",
   "execution_count": 53,
   "id": "6422ea69",
   "metadata": {
    "cell_style": "split",
    "slideshow": {
     "slide_type": "fragment"
    }
   },
   "outputs": [
    {
     "data": {
      "text/plain": [
       "2×3 Matrix{Int64}:\n",
       " 10  20  30\n",
       " 40  50  60"
      ]
     },
     "execution_count": 53,
     "metadata": {},
     "output_type": "execute_result"
    }
   ],
   "source": [
    "# multi-dimensional array\n",
    "A = [10 20 30; 40 50 60]"
   ]
  },
  {
   "cell_type": "markdown",
   "id": "08ebda36",
   "metadata": {
    "cell_style": "split"
   },
   "source": [
    "```python\n",
    "A = np.array([[10, 20, 30], [40, 50, 60]])\n",
    "```"
   ]
  },
  {
   "cell_type": "markdown",
   "id": "c7027d32",
   "metadata": {
    "slideshow": {
     "slide_type": "slide"
    }
   },
   "source": [
    "# Functions"
   ]
  },
  {
   "cell_type": "code",
   "execution_count": 60,
   "id": "ce304d6a",
   "metadata": {
    "cell_style": "split"
   },
   "outputs": [
    {
     "data": {
      "text/plain": [
       "f (generic function with 1 method)"
      ]
     },
     "execution_count": 60,
     "metadata": {},
     "output_type": "execute_result"
    }
   ],
   "source": [
    "function f(x, y; z=3)\n",
    "    zero = 0.0\n",
    "    sqrt(x*x + y*y) + z + zero\n",
    "end"
   ]
  },
  {
   "cell_type": "code",
   "execution_count": 59,
   "id": "b39fa552",
   "metadata": {
    "cell_style": "split"
   },
   "outputs": [
    {
     "data": {
      "text/plain": [
       "10.0"
      ]
     },
     "execution_count": 59,
     "metadata": {},
     "output_type": "execute_result"
    }
   ],
   "source": [
    "f(3, 4, z=5)"
   ]
  },
  {
   "cell_type": "code",
   "execution_count": 16,
   "id": "a51770d4",
   "metadata": {
    "cell_style": "split",
    "slideshow": {
     "slide_type": "fragment"
    }
   },
   "outputs": [
    {
     "data": {
      "text/plain": [
       "5.0"
      ]
     },
     "execution_count": 16,
     "metadata": {},
     "output_type": "execute_result"
    }
   ],
   "source": [
    "g(x, y) = sqrt(x^2 + y^2)\n",
    "g(3, 4)"
   ]
  },
  {
   "cell_type": "code",
   "execution_count": 17,
   "id": "350d604e",
   "metadata": {
    "cell_style": "split",
    "slideshow": {
     "slide_type": "fragment"
    }
   },
   "outputs": [
    {
     "data": {
      "text/plain": [
       "5.0"
      ]
     },
     "execution_count": 17,
     "metadata": {},
     "output_type": "execute_result"
    }
   ],
   "source": [
    "((x, y) -> sqrt(x^2 + y^2))(3, 4)"
   ]
  },
  {
   "cell_type": "markdown",
   "id": "a343923c",
   "metadata": {},
   "source": [
    "# Functions of functions"
   ]
  },
  {
   "cell_type": "code",
   "execution_count": 61,
   "id": "c2a1efe1",
   "metadata": {
    "cell_style": "split"
   },
   "outputs": [
    {
     "data": {
      "text/plain": [
       "slope_over (generic function with 1 method)"
      ]
     },
     "execution_count": 61,
     "metadata": {},
     "output_type": "execute_result"
    }
   ],
   "source": [
    "function slope_over(a, b, f)\n",
    "    (f(b) - f(a)) / (b - a)\n",
    "end"
   ]
  },
  {
   "cell_type": "code",
   "execution_count": 63,
   "id": "19688573",
   "metadata": {
    "cell_style": "split",
    "slideshow": {
     "slide_type": "fragment"
    }
   },
   "outputs": [
    {
     "data": {
      "text/plain": [
       "0.8414709848078965"
      ]
     },
     "execution_count": 63,
     "metadata": {},
     "output_type": "execute_result"
    }
   ],
   "source": [
    "slope_over(0, 1, x -> sin(x))"
   ]
  },
  {
   "cell_type": "markdown",
   "id": "ed443633",
   "metadata": {
    "slideshow": {
     "slide_type": "slide"
    }
   },
   "source": [
    "# Loops"
   ]
  },
  {
   "cell_type": "code",
   "execution_count": 67,
   "id": "a72a3693",
   "metadata": {
    "cell_style": "split"
   },
   "outputs": [
    {
     "data": {
      "text/plain": [
       "StepRange{Int64, Int64}"
      ]
     },
     "execution_count": 67,
     "metadata": {},
     "output_type": "execute_result"
    }
   ],
   "source": [
    "# ranges\n",
    "typeof(1:50000000:5)"
   ]
  },
  {
   "cell_type": "code",
   "execution_count": 70,
   "id": "1cff5422",
   "metadata": {
    "cell_style": "split"
   },
   "outputs": [
    {
     "data": {
      "text/plain": [
       "5-element Vector{Int64}:\n",
       " 1\n",
       " 2\n",
       " 3\n",
       " 4\n",
       " 5"
      ]
     },
     "execution_count": 70,
     "metadata": {},
     "output_type": "execute_result"
    }
   ],
   "source": [
    "collect(1:5)"
   ]
  },
  {
   "cell_type": "code",
   "execution_count": 71,
   "id": "6d92702a",
   "metadata": {
    "cell_style": "split",
    "slideshow": {
     "slide_type": "fragment"
    }
   },
   "outputs": [
    {
     "name": "stdout",
     "output_type": "stream",
     "text": [
      "x = 1.6449340467988642\n"
     ]
    },
    {
     "data": {
      "text/plain": [
       "-2.0049362170482254e-8"
      ]
     },
     "execution_count": 71,
     "metadata": {},
     "output_type": "execute_result"
    }
   ],
   "source": [
    "x = 0\n",
    "for n in 1:50000000\n",
    "    x += 1/n^2\n",
    "end\n",
    "@show x\n",
    "x - pi^2/6 # trivia you can easily look up if needed"
   ]
  },
  {
   "cell_type": "code",
   "execution_count": 21,
   "id": "65ed5f01",
   "metadata": {
    "cell_style": "split",
    "scrolled": true,
    "slideshow": {
     "slide_type": "fragment"
    }
   },
   "outputs": [
    {
     "data": {
      "text/plain": [
       "1.6439345666815612"
      ]
     },
     "execution_count": 21,
     "metadata": {},
     "output_type": "execute_result"
    }
   ],
   "source": [
    "# list comprehensions\n",
    "sum([1/n^2 for n in 1:1000])"
   ]
  },
  {
   "cell_type": "markdown",
   "id": "400fc848",
   "metadata": {
    "cell_style": "center",
    "hideCode": false,
    "hidePrompt": false,
    "slideshow": {
     "slide_type": "slide"
    }
   },
   "source": [
    "# Poll: What is floating point arithmetic?"
   ]
  },
  {
   "cell_type": "markdown",
   "id": "73e46069",
   "metadata": {
    "cell_style": "split",
    "hideCode": false,
    "hidePrompt": false,
    "slideshow": {
     "slide_type": ""
    }
   },
   "source": [
    "1. fuzzy arithmetic\n",
    "2. exact arithmetic, correctly rounded\n",
    "3. the primary focus of numerical analysis"
   ]
  },
  {
   "cell_type": "code",
   "execution_count": 22,
   "id": "b3206a55",
   "metadata": {
    "cell_style": "split",
    "hideCode": false,
    "hidePrompt": false
   },
   "outputs": [
    {
     "data": {
      "text/plain": [
       "2.220446049250313e-16"
      ]
     },
     "execution_count": 22,
     "metadata": {},
     "output_type": "execute_result"
    }
   ],
   "source": [
    "0.1 + 0.2\n",
    "(1 + 1.2e-16) - 1"
   ]
  },
  {
   "cell_type": "code",
   "execution_count": 77,
   "id": "e2726136",
   "metadata": {
    "cell_style": "split",
    "hideCode": false,
    "hidePrompt": false,
    "scrolled": true,
    "slideshow": {
     "slide_type": "fragment"
    }
   },
   "outputs": [
    {
     "data": {
      "image/png": "[encoded data removed]",
      "image/svg+xml": [
       "<?xml version=\"1.0\" encoding=\"utf-8\"?>\n",
       "<svg xmlns=\"http://www.w3.org/2000/svg\" xmlns:xlink=\"http://www.w3.org/1999/xlink\" width=\"600\" height=\"400\" viewBox=\"0 0 2400 1600\">\n",
       "<defs>\n",
       "  <clipPath id=\"clip260\">\n",
       "    <rect x=\"0\" y=\"0\" width=\"2400\" height=\"1600\"/>\n",
       "  </clipPath>\n",
       "</defs>\n",
       "<path clip-path=\"url(#clip260)\" d=\"M0 1600 L2400 1600 L2400 0 L0 0  Z\" fill=\"#ffffff\" fill-rule=\"evenodd\" fill-opacity=\"1\"/>\n",
       "<defs>\n",
       "  <clipPath id=\"clip261\">\n",
       "    <rect x=\"480\" y=\"0\" width=\"1681\" height=\"1600\"/>\n",
       "  </clipPath>\n",
       "</defs>\n",
       "<path clip-path=\"url(#clip260)\" d=\"M432.029 1410.9 L2352.76 1410.9 L2352.76 47.2441 L432.029 47.2441  Z\" fill=\"#ffffff\" fill-rule=\"evenodd\" fill-opacity=\"1\"/>\n",
       "<defs>\n",
       "  <clipPath id=\"clip262\">\n",
       "    <rect x=\"432\" y=\"47\" width=\"1922\" height=\"1365\"/>\n",
       "  </clipPath>\n",
       "</defs>\n",
       "<polyline clip-path=\"url(#clip262)\" style=\"stroke:#000000; stroke-linecap:round; stroke-linejoin:round; stroke-width:2; stroke-opacity:0.1; fill:none\" points=\"432.029,1410.9 432.029,47.2441 \"/>\n",
       "<polyline clip-path=\"url(#clip262)\" style=\"stroke:#000000; stroke-linecap:round; stroke-linejoin:round; stroke-width:2; stroke-opacity:0.1; fill:none\" points=\"912.211,1410.9 912.211,47.2441 \"/>\n",
       "<polyline clip-path=\"url(#clip262)\" style=\"stroke:#000000; stroke-linecap:round; stroke-linejoin:round; stroke-width:2; stroke-opacity:0.1; fill:none\" points=\"1392.39,1410.9 1392.39,47.2441 \"/>\n",
       "<polyline clip-path=\"url(#clip262)\" style=\"stroke:#000000; stroke-linecap:round; stroke-linejoin:round; stroke-width:2; stroke-opacity:0.1; fill:none\" points=\"1872.57,1410.9 1872.57,47.2441 \"/>\n",
       "<polyline clip-path=\"url(#clip262)\" style=\"stroke:#000000; stroke-linecap:round; stroke-linejoin:round; stroke-width:2; stroke-opacity:0.1; fill:none\" points=\"2352.76,1410.9 2352.76,47.2441 \"/>\n",
       "<polyline clip-path=\"url(#clip262)\" style=\"stroke:#000000; stroke-linecap:round; stroke-linejoin:round; stroke-width:2; stroke-opacity:0.1; fill:none\" points=\"432.029,1372.3 2352.76,1372.3 \"/>\n",
       "<polyline clip-path=\"url(#clip262)\" style=\"stroke:#000000; stroke-linecap:round; stroke-linejoin:round; stroke-width:2; stroke-opacity:0.1; fill:none\" points=\"432.029,1067.49 2352.76,1067.49 \"/>\n",
       "<polyline clip-path=\"url(#clip262)\" style=\"stroke:#000000; stroke-linecap:round; stroke-linejoin:round; stroke-width:2; stroke-opacity:0.1; fill:none\" points=\"432.029,762.668 2352.76,762.668 \"/>\n",
       "<polyline clip-path=\"url(#clip262)\" style=\"stroke:#000000; stroke-linecap:round; stroke-linejoin:round; stroke-width:2; stroke-opacity:0.1; fill:none\" points=\"432.029,457.851 2352.76,457.851 \"/>\n",
       "<polyline clip-path=\"url(#clip262)\" style=\"stroke:#000000; stroke-linecap:round; stroke-linejoin:round; stroke-width:2; stroke-opacity:0.1; fill:none\" points=\"432.029,153.034 2352.76,153.034 \"/>\n",
       "<polyline clip-path=\"url(#clip260)\" style=\"stroke:#000000; stroke-linecap:round; stroke-linejoin:round; stroke-width:4; stroke-opacity:1; fill:none\" points=\"432.029,1410.9 2352.76,1410.9 \"/>\n",
       "<polyline clip-path=\"url(#clip260)\" style=\"stroke:#000000; stroke-linecap:round; stroke-linejoin:round; stroke-width:4; stroke-opacity:1; fill:none\" points=\"432.029,1410.9 432.029,1392 \"/>\n",
       "<polyline clip-path=\"url(#clip260)\" style=\"stroke:#000000; stroke-linecap:round; stroke-linejoin:round; stroke-width:4; stroke-opacity:1; fill:none\" points=\"912.211,1410.9 912.211,1392 \"/>\n",
       "<polyline clip-path=\"url(#clip260)\" style=\"stroke:#000000; stroke-linecap:round; stroke-linejoin:round; stroke-width:4; stroke-opacity:1; fill:none\" points=\"1392.39,1410.9 1392.39,1392 \"/>\n",
       "<polyline clip-path=\"url(#clip260)\" style=\"stroke:#000000; stroke-linecap:round; stroke-linejoin:round; stroke-width:4; stroke-opacity:1; fill:none\" points=\"1872.57,1410.9 1872.57,1392 \"/>\n",
       "<polyline clip-path=\"url(#clip260)\" style=\"stroke:#000000; stroke-linecap:round; stroke-linejoin:round; stroke-width:4; stroke-opacity:1; fill:none\" points=\"2352.76,1410.9 2352.76,1392 \"/>\n",
       "<path clip-path=\"url(#clip260)\" d=\"M291.615 1472.13 L321.291 1472.13 L321.291 1476.06 L291.615 1476.06 L291.615 1472.13 Z\" fill=\"#000000\" fill-rule=\"nonzero\" fill-opacity=\"1\" /><path clip-path=\"url(#clip260)\" d=\"M332.193 1485.02 L339.832 1485.02 L339.832 1458.66 L331.522 1460.32 L331.522 1456.06 L339.786 1454.4 L344.462 1454.4 L344.462 1485.02 L352.101 1485.02 L352.101 1488.96 L332.193 1488.96 L332.193 1485.02 Z\" fill=\"#000000\" fill-rule=\"nonzero\" fill-opacity=\"1\" /><path clip-path=\"url(#clip260)\" d=\"M361.545 1483.08 L366.429 1483.08 L366.429 1488.96 L361.545 1488.96 L361.545 1483.08 Z\" fill=\"#000000\" fill-rule=\"nonzero\" fill-opacity=\"1\" /><path clip-path=\"url(#clip260)\" d=\"M386.615 1457.48 Q383.003 1457.48 381.175 1461.04 Q379.369 1464.58 379.369 1471.71 Q379.369 1478.82 381.175 1482.38 Q383.003 1485.92 386.615 1485.92 Q390.249 1485.92 392.054 1482.38 Q393.883 1478.82 393.883 1471.71 Q393.883 1464.58 392.054 1461.04 Q390.249 1457.48 386.615 1457.48 M386.615 1453.77 Q392.425 1453.77 395.48 1458.38 Q398.559 1462.96 398.559 1471.71 Q398.559 1480.44 395.48 1485.04 Q392.425 1489.63 386.615 1489.63 Q380.804 1489.63 377.726 1485.04 Q374.67 1480.44 374.67 1471.71 Q374.67 1462.96 377.726 1458.38 Q380.804 1453.77 386.615 1453.77 Z\" fill=\"#000000\" fill-rule=\"nonzero\" fill-opacity=\"1\" /><path clip-path=\"url(#clip260)\" d=\"M434.948 1463.49 L424.369 1474.12 L434.948 1484.7 L432.193 1487.5 L421.568 1476.87 L410.943 1487.5 L408.212 1484.7 L418.767 1474.12 L408.212 1463.49 L410.943 1460.69 L421.568 1471.32 L432.193 1460.69 L434.948 1463.49 Z\" fill=\"#000000\" fill-rule=\"nonzero\" fill-opacity=\"1\" /><path clip-path=\"url(#clip260)\" d=\"M447.309 1485.02 L454.947 1485.02 L454.947 1458.66 L446.637 1460.32 L446.637 1456.06 L454.901 1454.4 L459.577 1454.4 L459.577 1485.02 L467.216 1485.02 L467.216 1488.96 L447.309 1488.96 L447.309 1485.02 Z\" fill=\"#000000\" fill-rule=\"nonzero\" fill-opacity=\"1\" /><path clip-path=\"url(#clip260)\" d=\"M486.66 1457.48 Q483.049 1457.48 481.22 1461.04 Q479.415 1464.58 479.415 1471.71 Q479.415 1478.82 481.22 1482.38 Q483.049 1485.92 486.66 1485.92 Q490.295 1485.92 492.1 1482.38 Q493.929 1478.82 493.929 1471.71 Q493.929 1464.58 492.1 1461.04 Q490.295 1457.48 486.66 1457.48 M486.66 1453.77 Q492.47 1453.77 495.526 1458.38 Q498.605 1462.96 498.605 1471.71 Q498.605 1480.44 495.526 1485.04 Q492.47 1489.63 486.66 1489.63 Q480.85 1489.63 477.771 1485.04 Q474.716 1480.44 474.716 1471.71 Q474.716 1462.96 477.771 1458.38 Q480.85 1453.77 486.66 1453.77 Z\" fill=\"#000000\" fill-rule=\"nonzero\" fill-opacity=\"1\" /><path clip-path=\"url(#clip260)\" d=\"M498.605 1447.87 L522.716 1447.87 L522.716 1451.07 L498.605 1451.07 L498.605 1447.87 Z\" fill=\"#000000\" fill-rule=\"nonzero\" fill-opacity=\"1\" /><path clip-path=\"url(#clip260)\" d=\"M531.575 1458.35 L537.781 1458.35 L537.781 1436.93 L531.029 1438.28 L531.029 1434.82 L537.744 1433.47 L541.543 1433.47 L541.543 1458.35 L547.749 1458.35 L547.749 1461.55 L531.575 1461.55 L531.575 1458.35 Z\" fill=\"#000000\" fill-rule=\"nonzero\" fill-opacity=\"1\" /><path clip-path=\"url(#clip260)\" d=\"M555.461 1433.47 L570.375 1433.47 L570.375 1436.66 L558.94 1436.66 L558.94 1443.55 Q559.768 1443.27 560.595 1443.13 Q561.423 1442.98 562.25 1442.98 Q566.952 1442.98 569.698 1445.56 Q572.444 1448.14 572.444 1452.54 Q572.444 1457.07 569.623 1459.59 Q566.802 1462.09 561.667 1462.09 Q559.899 1462.09 558.056 1461.79 Q556.232 1461.49 554.276 1460.89 L554.276 1457.07 Q555.968 1457.99 557.774 1458.44 Q559.579 1458.89 561.592 1458.89 Q564.846 1458.89 566.745 1457.18 Q568.645 1455.47 568.645 1452.54 Q568.645 1449.6 566.745 1447.89 Q564.846 1446.18 561.592 1446.18 Q560.068 1446.18 558.545 1446.52 Q557.04 1446.86 555.461 1447.57 L555.461 1433.47 Z\" fill=\"#000000\" fill-rule=\"nonzero\" fill-opacity=\"1\" /><path clip-path=\"url(#clip260)\" d=\"M771.326 1472.13 L801.002 1472.13 L801.002 1476.06 L771.326 1476.06 L771.326 1472.13 Z\" fill=\"#000000\" fill-rule=\"nonzero\" fill-opacity=\"1\" /><path clip-path=\"url(#clip260)\" d=\"M811.141 1454.4 L829.497 1454.4 L829.497 1458.33 L815.423 1458.33 L815.423 1466.8 Q816.442 1466.46 817.46 1466.29 Q818.479 1466.11 819.497 1466.11 Q825.284 1466.11 828.664 1469.28 Q832.044 1472.45 832.044 1477.87 Q832.044 1483.45 828.571 1486.55 Q825.099 1489.63 818.78 1489.63 Q816.604 1489.63 814.335 1489.26 Q812.09 1488.89 809.683 1488.15 L809.683 1483.45 Q811.766 1484.58 813.988 1485.14 Q816.21 1485.69 818.687 1485.69 Q822.692 1485.69 825.03 1483.59 Q827.368 1481.48 827.368 1477.87 Q827.368 1474.26 825.03 1472.15 Q822.692 1470.04 818.687 1470.04 Q816.812 1470.04 814.937 1470.46 Q813.085 1470.88 811.141 1471.76 L811.141 1454.4 Z\" fill=\"#000000\" fill-rule=\"nonzero\" fill-opacity=\"1\" /><path clip-path=\"url(#clip260)\" d=\"M841.257 1483.08 L846.141 1483.08 L846.141 1488.96 L841.257 1488.96 L841.257 1483.08 Z\" fill=\"#000000\" fill-rule=\"nonzero\" fill-opacity=\"1\" /><path clip-path=\"url(#clip260)\" d=\"M866.326 1457.48 Q862.715 1457.48 860.886 1461.04 Q859.081 1464.58 859.081 1471.71 Q859.081 1478.82 860.886 1482.38 Q862.715 1485.92 866.326 1485.92 Q869.96 1485.92 871.766 1482.38 Q873.594 1478.82 873.594 1471.71 Q873.594 1464.58 871.766 1461.04 Q869.96 1457.48 866.326 1457.48 M866.326 1453.77 Q872.136 1453.77 875.192 1458.38 Q878.27 1462.96 878.27 1471.71 Q878.27 1480.44 875.192 1485.04 Q872.136 1489.63 866.326 1489.63 Q860.516 1489.63 857.437 1485.04 Q854.382 1480.44 854.382 1471.71 Q854.382 1462.96 857.437 1458.38 Q860.516 1453.77 866.326 1453.77 Z\" fill=\"#000000\" fill-rule=\"nonzero\" fill-opacity=\"1\" /><path clip-path=\"url(#clip260)\" d=\"M914.659 1463.49 L904.08 1474.12 L914.659 1484.7 L911.904 1487.5 L901.279 1476.87 L890.654 1487.5 L887.923 1484.7 L898.479 1474.12 L887.923 1463.49 L890.654 1460.69 L901.279 1471.32 L911.904 1460.69 L914.659 1463.49 Z\" fill=\"#000000\" fill-rule=\"nonzero\" fill-opacity=\"1\" /><path clip-path=\"url(#clip260)\" d=\"M927.02 1485.02 L934.659 1485.02 L934.659 1458.66 L926.349 1460.32 L926.349 1456.06 L934.613 1454.4 L939.288 1454.4 L939.288 1485.02 L946.927 1485.02 L946.927 1488.96 L927.02 1488.96 L927.02 1485.02 Z\" fill=\"#000000\" fill-rule=\"nonzero\" fill-opacity=\"1\" /><path clip-path=\"url(#clip260)\" d=\"M966.372 1457.48 Q962.761 1457.48 960.932 1461.04 Q959.126 1464.58 959.126 1471.71 Q959.126 1478.82 960.932 1482.38 Q962.761 1485.92 966.372 1485.92 Q970.006 1485.92 971.811 1482.38 Q973.64 1478.82 973.64 1471.71 Q973.64 1464.58 971.811 1461.04 Q970.006 1457.48 966.372 1457.48 M966.372 1453.77 Q972.182 1453.77 975.237 1458.38 Q978.316 1462.96 978.316 1471.71 Q978.316 1480.44 975.237 1485.04 Q972.182 1489.63 966.372 1489.63 Q960.562 1489.63 957.483 1485.04 Q954.427 1480.44 954.427 1471.71 Q954.427 1462.96 957.483 1458.38 Q960.562 1453.77 966.372 1453.77 Z\" fill=\"#000000\" fill-rule=\"nonzero\" fill-opacity=\"1\" /><path clip-path=\"url(#clip260)\" d=\"M978.316 1447.87 L1002.43 1447.87 L1002.43 1451.07 L978.316 1451.07 L978.316 1447.87 Z\" fill=\"#000000\" fill-rule=\"nonzero\" fill-opacity=\"1\" /><path clip-path=\"url(#clip260)\" d=\"M1011.29 1458.35 L1017.49 1458.35 L1017.49 1436.93 L1010.74 1438.28 L1010.74 1434.82 L1017.46 1433.47 L1021.25 1433.47 L1021.25 1458.35 L1027.46 1458.35 L1027.46 1461.55 L1011.29 1461.55 L1011.29 1458.35 Z\" fill=\"#000000\" fill-rule=\"nonzero\" fill-opacity=\"1\" /><path clip-path=\"url(#clip260)\" d=\"M1043.73 1445.99 Q1041.17 1445.99 1039.67 1447.74 Q1038.18 1449.49 1038.18 1452.54 Q1038.18 1455.57 1039.67 1457.33 Q1041.17 1459.08 1043.73 1459.08 Q1046.29 1459.08 1047.77 1457.33 Q1049.28 1455.57 1049.28 1452.54 Q1049.28 1449.49 1047.77 1447.74 Q1046.29 1445.99 1043.73 1445.99 M1051.27 1434.09 L1051.27 1437.55 Q1049.84 1436.87 1048.37 1436.51 Q1046.93 1436.16 1045.5 1436.16 Q1041.74 1436.16 1039.74 1438.69 Q1037.77 1441.23 1037.49 1446.37 Q1038.59 1444.73 1040.27 1443.87 Q1041.94 1442.98 1043.96 1442.98 Q1048.19 1442.98 1050.63 1445.56 Q1053.1 1448.12 1053.1 1452.54 Q1053.1 1456.86 1050.54 1459.48 Q1047.98 1462.09 1043.73 1462.09 Q1038.86 1462.09 1036.28 1458.37 Q1033.7 1454.62 1033.7 1447.53 Q1033.7 1440.88 1036.86 1436.93 Q1040.02 1432.96 1045.35 1432.96 Q1046.78 1432.96 1048.22 1433.24 Q1049.69 1433.52 1051.27 1434.09 Z\" fill=\"#000000\" fill-rule=\"nonzero\" fill-opacity=\"1\" /><path clip-path=\"url(#clip260)\" d=\"M1392.39 1441.82 Q1388.78 1441.82 1386.95 1445.38 Q1385.15 1448.92 1385.15 1456.05 Q1385.15 1463.16 1386.95 1466.72 Q1388.78 1470.26 1392.39 1470.26 Q1396.03 1470.26 1397.83 1466.72 Q1399.66 1463.16 1399.66 1456.05 Q1399.66 1448.92 1397.83 1445.38 Q1396.03 1441.82 1392.39 1441.82 M1392.39 1438.11 Q1398.2 1438.11 1401.26 1442.72 Q1404.34 1447.3 1404.34 1456.05 Q1404.34 1464.78 1401.26 1469.38 Q1398.2 1473.97 1392.39 1473.97 Q1386.58 1473.97 1383.5 1469.38 Q1380.45 1464.78 1380.45 1456.05 Q1380.45 1447.3 1383.5 1442.72 Q1386.58 1438.11 1392.39 1438.11 Z\" fill=\"#000000\" fill-rule=\"nonzero\" fill-opacity=\"1\" /><path clip-path=\"url(#clip260)\" d=\"M1752.33 1454.4 L1770.68 1454.4 L1770.68 1458.33 L1756.61 1458.33 L1756.61 1466.8 Q1757.63 1466.46 1758.65 1466.29 Q1759.66 1466.11 1760.68 1466.11 Q1766.47 1466.11 1769.85 1469.28 Q1773.23 1472.45 1773.23 1477.87 Q1773.23 1483.45 1769.76 1486.55 Q1766.28 1489.63 1759.96 1489.63 Q1757.79 1489.63 1755.52 1489.26 Q1753.28 1488.89 1750.87 1488.15 L1750.87 1483.45 Q1752.95 1484.58 1755.17 1485.14 Q1757.4 1485.69 1759.87 1485.69 Q1763.88 1485.69 1766.21 1483.59 Q1768.55 1481.48 1768.55 1477.87 Q1768.55 1474.26 1766.21 1472.15 Q1763.88 1470.04 1759.87 1470.04 Q1758 1470.04 1756.12 1470.46 Q1754.27 1470.88 1752.33 1471.76 L1752.33 1454.4 Z\" fill=\"#000000\" fill-rule=\"nonzero\" fill-opacity=\"1\" /><path clip-path=\"url(#clip260)\" d=\"M1782.44 1483.08 L1787.33 1483.08 L1787.33 1488.96 L1782.44 1488.96 L1782.44 1483.08 Z\" fill=\"#000000\" fill-rule=\"nonzero\" fill-opacity=\"1\" /><path clip-path=\"url(#clip260)\" d=\"M1807.51 1457.48 Q1803.9 1457.48 1802.07 1461.04 Q1800.27 1464.58 1800.27 1471.71 Q1800.27 1478.82 1802.07 1482.38 Q1803.9 1485.92 1807.51 1485.92 Q1811.15 1485.92 1812.95 1482.38 Q1814.78 1478.82 1814.78 1471.71 Q1814.78 1464.58 1812.95 1461.04 Q1811.15 1457.48 1807.51 1457.48 M1807.51 1453.77 Q1813.32 1453.77 1816.38 1458.38 Q1819.46 1462.96 1819.46 1471.71 Q1819.46 1480.44 1816.38 1485.04 Q1813.32 1489.63 1807.51 1489.63 Q1801.7 1489.63 1798.62 1485.04 Q1795.57 1480.44 1795.57 1471.71 Q1795.57 1462.96 1798.62 1458.38 Q1801.7 1453.77 1807.51 1453.77 Z\" fill=\"#000000\" fill-rule=\"nonzero\" fill-opacity=\"1\" /><path clip-path=\"url(#clip260)\" d=\"M1855.84 1463.49 L1845.27 1474.12 L1855.84 1484.7 L1853.09 1487.5 L1842.46 1476.87 L1831.84 1487.5 L1829.11 1484.7 L1839.66 1474.12 L1829.11 1463.49 L1831.84 1460.69 L1842.46 1471.32 L1853.09 1460.69 L1855.84 1463.49 Z\" fill=\"#000000\" fill-rule=\"nonzero\" fill-opacity=\"1\" /><path clip-path=\"url(#clip260)\" d=\"M1868.21 1485.02 L1875.84 1485.02 L1875.84 1458.66 L1867.53 1460.32 L1867.53 1456.06 L1875.8 1454.4 L1880.47 1454.4 L1880.47 1485.02 L1888.11 1485.02 L1888.11 1488.96 L1868.21 1488.96 L1868.21 1485.02 Z\" fill=\"#000000\" fill-rule=\"nonzero\" fill-opacity=\"1\" /><path clip-path=\"url(#clip260)\" d=\"M1907.56 1457.48 Q1903.95 1457.48 1902.12 1461.04 Q1900.31 1464.58 1900.31 1471.71 Q1900.31 1478.82 1902.12 1482.38 Q1903.95 1485.92 1907.56 1485.92 Q1911.19 1485.92 1913 1482.38 Q1914.83 1478.82 1914.83 1471.71 Q1914.83 1464.58 1913 1461.04 Q1911.19 1457.48 1907.56 1457.48 M1907.56 1453.77 Q1913.37 1453.77 1916.42 1458.38 Q1919.5 1462.96 1919.5 1471.71 Q1919.5 1480.44 1916.42 1485.04 Q1913.37 1489.63 1907.56 1489.63 Q1901.75 1489.63 1898.67 1485.04 Q1895.61 1480.44 1895.61 1471.71 Q1895.61 1462.96 1898.67 1458.38 Q1901.75 1453.77 1907.56 1453.77 Z\" fill=\"#000000\" fill-rule=\"nonzero\" fill-opacity=\"1\" /><path clip-path=\"url(#clip260)\" d=\"M1919.5 1447.87 L1943.61 1447.87 L1943.61 1451.07 L1919.5 1451.07 L1919.5 1447.87 Z\" fill=\"#000000\" fill-rule=\"nonzero\" fill-opacity=\"1\" /><path clip-path=\"url(#clip260)\" d=\"M1952.47 1458.35 L1958.68 1458.35 L1958.68 1436.93 L1951.93 1438.28 L1951.93 1434.82 L1958.64 1433.47 L1962.44 1433.47 L1962.44 1458.35 L1968.65 1458.35 L1968.65 1461.55 L1952.47 1461.55 L1952.47 1458.35 Z\" fill=\"#000000\" fill-rule=\"nonzero\" fill-opacity=\"1\" /><path clip-path=\"url(#clip260)\" d=\"M1984.91 1445.99 Q1982.36 1445.99 1980.85 1447.74 Q1979.37 1449.49 1979.37 1452.54 Q1979.37 1455.57 1980.85 1457.33 Q1982.36 1459.08 1984.91 1459.08 Q1987.47 1459.08 1988.96 1457.33 Q1990.46 1455.57 1990.46 1452.54 Q1990.46 1449.49 1988.96 1447.74 Q1987.47 1445.99 1984.91 1445.99 M1992.46 1434.09 L1992.46 1437.55 Q1991.03 1436.87 1989.56 1436.51 Q1988.11 1436.16 1986.68 1436.16 Q1982.92 1436.16 1980.93 1438.69 Q1978.95 1441.23 1978.67 1446.37 Q1979.78 1444.73 1981.45 1443.87 Q1983.13 1442.98 1985.14 1442.98 Q1989.37 1442.98 1991.82 1445.56 Q1994.28 1448.12 1994.28 1452.54 Q1994.28 1456.86 1991.72 1459.48 Q1989.17 1462.09 1984.91 1462.09 Q1980.04 1462.09 1977.47 1458.37 Q1974.89 1454.62 1974.89 1447.53 Q1974.89 1440.88 1978.05 1436.93 Q1981.21 1432.96 1986.53 1432.96 Q1987.96 1432.96 1989.41 1433.24 Q1990.88 1433.52 1992.46 1434.09 Z\" fill=\"#000000\" fill-rule=\"nonzero\" fill-opacity=\"1\" /><path clip-path=\"url(#clip260)\" d=\"M2232.97 1485.02 L2240.61 1485.02 L2240.61 1458.66 L2232.3 1460.32 L2232.3 1456.06 L2240.56 1454.4 L2245.23 1454.4 L2245.23 1485.02 L2252.87 1485.02 L2252.87 1488.96 L2232.97 1488.96 L2232.97 1485.02 Z\" fill=\"#000000\" fill-rule=\"nonzero\" fill-opacity=\"1\" /><path clip-path=\"url(#clip260)\" d=\"M2262.32 1483.08 L2267.2 1483.08 L2267.2 1488.96 L2262.32 1488.96 L2262.32 1483.08 Z\" fill=\"#000000\" fill-rule=\"nonzero\" fill-opacity=\"1\" /><path clip-path=\"url(#clip260)\" d=\"M2287.39 1457.48 Q2283.78 1457.48 2281.95 1461.04 Q2280.14 1464.58 2280.14 1471.71 Q2280.14 1478.82 2281.95 1482.38 Q2283.78 1485.92 2287.39 1485.92 Q2291.02 1485.92 2292.83 1482.38 Q2294.66 1478.82 2294.66 1471.71 Q2294.66 1464.58 2292.83 1461.04 Q2291.02 1457.48 2287.39 1457.48 M2287.39 1453.77 Q2293.2 1453.77 2296.25 1458.38 Q2299.33 1462.96 2299.33 1471.71 Q2299.33 1480.44 2296.25 1485.04 Q2293.2 1489.63 2287.39 1489.63 Q2281.58 1489.63 2278.5 1485.04 Q2275.44 1480.44 2275.44 1471.71 Q2275.44 1462.96 2278.5 1458.38 Q2281.58 1453.77 2287.39 1453.77 Z\" fill=\"#000000\" fill-rule=\"nonzero\" fill-opacity=\"1\" /><path clip-path=\"url(#clip260)\" d=\"M2335.72 1463.49 L2325.14 1474.12 L2335.72 1484.7 L2332.97 1487.5 L2322.34 1476.87 L2311.72 1487.5 L2308.98 1484.7 L2319.54 1474.12 L2308.98 1463.49 L2311.72 1460.69 L2322.34 1471.32 L2332.97 1460.69 L2335.72 1463.49 Z\" fill=\"#000000\" fill-rule=\"nonzero\" fill-opacity=\"1\" /><path clip-path=\"url(#clip260)\" d=\"M2348.08 1485.02 L2355.72 1485.02 L2355.72 1458.66 L2347.41 1460.32 L2347.41 1456.06 L2355.67 1454.4 L2360.35 1454.4 L2360.35 1485.02 L2367.99 1485.02 L2367.99 1488.96 L2348.08 1488.96 L2348.08 1485.02 Z\" fill=\"#000000\" fill-rule=\"nonzero\" fill-opacity=\"1\" /><path clip-path=\"url(#clip260)\" d=\"M2387.43 1457.48 Q2383.82 1457.48 2381.99 1461.04 Q2380.19 1464.58 2380.19 1471.71 Q2380.19 1478.82 2381.99 1482.38 Q2383.82 1485.92 2387.43 1485.92 Q2391.07 1485.92 2392.87 1482.38 Q2394.7 1478.82 2394.7 1471.71 Q2394.7 1464.58 2392.87 1461.04 Q2391.07 1457.48 2387.43 1457.48 M2387.43 1453.77 Q2393.24 1453.77 2396.3 1458.38 Q2399.38 1462.96 2399.38 1471.71 Q2399.38 1480.44 2396.3 1485.04 Q2393.24 1489.63 2387.43 1489.63 Q2381.62 1489.63 2378.54 1485.04 Q2375.49 1480.44 2375.49 1471.71 Q2375.49 1462.96 2378.54 1458.38 Q2381.62 1453.77 2387.43 1453.77 Z\" fill=\"#000000\" fill-rule=\"nonzero\" fill-opacity=\"1\" /><path clip-path=\"url(#clip260)\" d=\"M2399.38 1447.87 L2423.49 1447.87 L2423.49 1451.07 L2399.38 1451.07 L2399.38 1447.87 Z\" fill=\"#000000\" fill-rule=\"nonzero\" fill-opacity=\"1\" /><path clip-path=\"url(#clip260)\" d=\"M2432.35 1458.35 L2438.55 1458.35 L2438.55 1436.93 L2431.8 1438.28 L2431.8 1434.82 L2438.52 1433.47 L2442.32 1433.47 L2442.32 1458.35 L2448.52 1458.35 L2448.52 1461.55 L2432.35 1461.55 L2432.35 1458.35 Z\" fill=\"#000000\" fill-rule=\"nonzero\" fill-opacity=\"1\" /><path clip-path=\"url(#clip260)\" d=\"M2456.23 1433.47 L2471.15 1433.47 L2471.15 1436.66 L2459.71 1436.66 L2459.71 1443.55 Q2460.54 1443.27 2461.37 1443.13 Q2462.2 1442.98 2463.02 1442.98 Q2467.72 1442.98 2470.47 1445.56 Q2473.22 1448.14 2473.22 1452.54 Q2473.22 1457.07 2470.4 1459.59 Q2467.57 1462.09 2462.44 1462.09 Q2460.67 1462.09 2458.83 1461.79 Q2457 1461.49 2455.05 1460.89 L2455.05 1457.07 Q2456.74 1457.99 2458.55 1458.44 Q2460.35 1458.89 2462.36 1458.89 Q2465.62 1458.89 2467.52 1457.18 Q2469.42 1455.47 2469.42 1452.54 Q2469.42 1449.6 2467.52 1447.89 Q2465.62 1446.18 2462.36 1446.18 Q2460.84 1446.18 2459.32 1446.52 Q2457.81 1446.86 2456.23 1447.57 L2456.23 1433.47 Z\" fill=\"#000000\" fill-rule=\"nonzero\" fill-opacity=\"1\" /><path clip-path=\"url(#clip260)\" d=\"M1409.01 1538.54 L1396.12 1555.88 L1409.68 1574.19 L1402.77 1574.19 L1392.39 1560.18 L1382.02 1574.19 L1375.11 1574.19 L1388.96 1555.53 L1376.29 1538.54 L1383.19 1538.54 L1392.65 1551.24 L1402.1 1538.54 L1409.01 1538.54 Z\" fill=\"#000000\" fill-rule=\"nonzero\" fill-opacity=\"1\" /><polyline clip-path=\"url(#clip260)\" style=\"stroke:#000000; stroke-linecap:round; stroke-linejoin:round; stroke-width:4; stroke-opacity:1; fill:none\" points=\"432.029,1410.9 432.029,47.2441 \"/>\n",
       "<polyline clip-path=\"url(#clip260)\" style=\"stroke:#000000; stroke-linecap:round; stroke-linejoin:round; stroke-width:4; stroke-opacity:1; fill:none\" points=\"432.029,1372.3 450.927,1372.3 \"/>\n",
       "<polyline clip-path=\"url(#clip260)\" style=\"stroke:#000000; stroke-linecap:round; stroke-linejoin:round; stroke-width:4; stroke-opacity:1; fill:none\" points=\"432.029,1067.49 450.927,1067.49 \"/>\n",
       "<polyline clip-path=\"url(#clip260)\" style=\"stroke:#000000; stroke-linecap:round; stroke-linejoin:round; stroke-width:4; stroke-opacity:1; fill:none\" points=\"432.029,762.668 450.927,762.668 \"/>\n",
       "<polyline clip-path=\"url(#clip260)\" style=\"stroke:#000000; stroke-linecap:round; stroke-linejoin:round; stroke-width:4; stroke-opacity:1; fill:none\" points=\"432.029,457.851 450.927,457.851 \"/>\n",
       "<polyline clip-path=\"url(#clip260)\" style=\"stroke:#000000; stroke-linecap:round; stroke-linejoin:round; stroke-width:4; stroke-opacity:1; fill:none\" points=\"432.029,153.034 450.927,153.034 \"/>\n",
       "<path clip-path=\"url(#clip260)\" d=\"M115.201 1379.2 L144.876 1379.2 L144.876 1383.14 L115.201 1383.14 L115.201 1379.2 Z\" fill=\"#000000\" fill-rule=\"nonzero\" fill-opacity=\"1\" /><path clip-path=\"url(#clip260)\" d=\"M155.779 1392.1 L163.418 1392.1 L163.418 1365.73 L155.108 1367.4 L155.108 1363.14 L163.372 1361.47 L168.047 1361.47 L168.047 1392.1 L175.686 1392.1 L175.686 1396.03 L155.779 1396.03 L155.779 1392.1 Z\" fill=\"#000000\" fill-rule=\"nonzero\" fill-opacity=\"1\" /><path clip-path=\"url(#clip260)\" d=\"M185.131 1390.15 L190.015 1390.15 L190.015 1396.03 L185.131 1396.03 L185.131 1390.15 Z\" fill=\"#000000\" fill-rule=\"nonzero\" fill-opacity=\"1\" /><path clip-path=\"url(#clip260)\" d=\"M210.2 1364.55 Q206.589 1364.55 204.76 1368.11 Q202.955 1371.66 202.955 1378.79 Q202.955 1385.89 204.76 1389.46 Q206.589 1393 210.2 1393 Q213.834 1393 215.64 1389.46 Q217.469 1385.89 217.469 1378.79 Q217.469 1371.66 215.64 1368.11 Q213.834 1364.55 210.2 1364.55 M210.2 1360.85 Q216.01 1360.85 219.066 1365.45 Q222.144 1370.04 222.144 1378.79 Q222.144 1387.51 219.066 1392.12 Q216.01 1396.7 210.2 1396.7 Q204.39 1396.7 201.311 1392.12 Q198.256 1387.51 198.256 1378.79 Q198.256 1370.04 201.311 1365.45 Q204.39 1360.85 210.2 1360.85 Z\" fill=\"#000000\" fill-rule=\"nonzero\" fill-opacity=\"1\" /><path clip-path=\"url(#clip260)\" d=\"M258.533 1370.57 L247.954 1381.19 L258.533 1391.77 L255.778 1394.57 L245.154 1383.95 L234.529 1394.57 L231.797 1391.77 L242.353 1381.19 L231.797 1370.57 L234.529 1367.77 L245.154 1378.39 L255.778 1367.77 L258.533 1370.57 Z\" fill=\"#000000\" fill-rule=\"nonzero\" fill-opacity=\"1\" /><path clip-path=\"url(#clip260)\" d=\"M270.894 1392.1 L278.533 1392.1 L278.533 1365.73 L270.223 1367.4 L270.223 1363.14 L278.487 1361.47 L283.163 1361.47 L283.163 1392.1 L290.801 1392.1 L290.801 1396.03 L270.894 1396.03 L270.894 1392.1 Z\" fill=\"#000000\" fill-rule=\"nonzero\" fill-opacity=\"1\" /><path clip-path=\"url(#clip260)\" d=\"M310.246 1364.55 Q306.635 1364.55 304.806 1368.11 Q303 1371.66 303 1378.79 Q303 1385.89 304.806 1389.46 Q306.635 1393 310.246 1393 Q313.88 1393 315.686 1389.46 Q317.514 1385.89 317.514 1378.79 Q317.514 1371.66 315.686 1368.11 Q313.88 1364.55 310.246 1364.55 M310.246 1360.85 Q316.056 1360.85 319.111 1365.45 Q322.19 1370.04 322.19 1378.79 Q322.19 1387.51 319.111 1392.12 Q316.056 1396.7 310.246 1396.7 Q304.436 1396.7 301.357 1392.12 Q298.301 1387.51 298.301 1378.79 Q298.301 1370.04 301.357 1365.45 Q304.436 1360.85 310.246 1360.85 Z\" fill=\"#000000\" fill-rule=\"nonzero\" fill-opacity=\"1\" /><path clip-path=\"url(#clip260)\" d=\"M322.19 1354.95 L346.302 1354.95 L346.302 1358.14 L322.19 1358.14 L322.19 1354.95 Z\" fill=\"#000000\" fill-rule=\"nonzero\" fill-opacity=\"1\" /><path clip-path=\"url(#clip260)\" d=\"M355.16 1365.42 L361.367 1365.42 L361.367 1344 L354.615 1345.35 L354.615 1341.89 L361.329 1340.54 L365.128 1340.54 L365.128 1365.42 L371.335 1365.42 L371.335 1368.62 L355.16 1368.62 L355.16 1365.42 Z\" fill=\"#000000\" fill-rule=\"nonzero\" fill-opacity=\"1\" /><path clip-path=\"url(#clip260)\" d=\"M379.046 1340.54 L393.961 1340.54 L393.961 1343.74 L382.526 1343.74 L382.526 1350.62 Q383.353 1350.34 384.181 1350.21 Q385.008 1350.06 385.836 1350.06 Q390.538 1350.06 393.284 1352.63 Q396.029 1355.21 396.029 1359.61 Q396.029 1364.14 393.208 1366.66 Q390.387 1369.17 385.253 1369.17 Q383.485 1369.17 381.642 1368.86 Q379.817 1368.56 377.861 1367.96 L377.861 1364.14 Q379.554 1365.07 381.359 1365.52 Q383.165 1365.97 385.177 1365.97 Q388.431 1365.97 390.331 1364.26 Q392.23 1362.54 392.23 1359.61 Q392.23 1356.68 390.331 1354.97 Q388.431 1353.25 385.177 1353.25 Q383.654 1353.25 382.131 1353.59 Q380.626 1353.93 379.046 1354.65 L379.046 1340.54 Z\" fill=\"#000000\" fill-rule=\"nonzero\" fill-opacity=\"1\" /><path clip-path=\"url(#clip260)\" d=\"M114.26 1074.38 L143.936 1074.38 L143.936 1078.32 L114.26 1078.32 L114.26 1074.38 Z\" fill=\"#000000\" fill-rule=\"nonzero\" fill-opacity=\"1\" /><path clip-path=\"url(#clip260)\" d=\"M154.075 1056.65 L172.431 1056.65 L172.431 1060.59 L158.357 1060.59 L158.357 1069.06 Q159.376 1068.71 160.394 1068.55 Q161.413 1068.37 162.431 1068.37 Q168.218 1068.37 171.598 1071.54 Q174.977 1074.71 174.977 1080.13 Q174.977 1085.7 171.505 1088.81 Q168.033 1091.88 161.714 1091.88 Q159.538 1091.88 157.269 1091.51 Q155.024 1091.14 152.616 1090.4 L152.616 1085.7 Q154.7 1086.84 156.922 1087.39 Q159.144 1087.95 161.621 1087.95 Q165.626 1087.95 167.964 1085.84 Q170.302 1083.74 170.302 1080.13 Q170.302 1076.51 167.964 1074.41 Q165.626 1072.3 161.621 1072.3 Q159.746 1072.3 157.871 1072.72 Q156.019 1073.13 154.075 1074.01 L154.075 1056.65 Z\" fill=\"#000000\" fill-rule=\"nonzero\" fill-opacity=\"1\" /><path clip-path=\"url(#clip260)\" d=\"M184.19 1085.33 L189.075 1085.33 L189.075 1091.21 L184.19 1091.21 L184.19 1085.33 Z\" fill=\"#000000\" fill-rule=\"nonzero\" fill-opacity=\"1\" /><path clip-path=\"url(#clip260)\" d=\"M209.26 1059.73 Q205.649 1059.73 203.82 1063.3 Q202.014 1066.84 202.014 1073.97 Q202.014 1081.07 203.82 1084.64 Q205.649 1088.18 209.26 1088.18 Q212.894 1088.18 214.699 1084.64 Q216.528 1081.07 216.528 1073.97 Q216.528 1066.84 214.699 1063.3 Q212.894 1059.73 209.26 1059.73 M209.26 1056.03 Q215.07 1056.03 218.125 1060.63 Q221.204 1065.22 221.204 1073.97 Q221.204 1082.69 218.125 1087.3 Q215.07 1091.88 209.26 1091.88 Q203.449 1091.88 200.371 1087.3 Q197.315 1082.69 197.315 1073.97 Q197.315 1065.22 200.371 1060.63 Q203.449 1056.03 209.26 1056.03 Z\" fill=\"#000000\" fill-rule=\"nonzero\" fill-opacity=\"1\" /><path clip-path=\"url(#clip260)\" d=\"M257.593 1065.75 L247.014 1076.38 L257.593 1086.95 L254.838 1089.75 L244.213 1079.13 L233.588 1089.75 L230.857 1086.95 L241.412 1076.38 L230.857 1065.75 L233.588 1062.95 L244.213 1073.57 L254.838 1062.95 L257.593 1065.75 Z\" fill=\"#000000\" fill-rule=\"nonzero\" fill-opacity=\"1\" /><path clip-path=\"url(#clip260)\" d=\"M269.954 1087.28 L277.593 1087.28 L277.593 1060.91 L269.282 1062.58 L269.282 1058.32 L277.546 1056.65 L282.222 1056.65 L282.222 1087.28 L289.861 1087.28 L289.861 1091.21 L269.954 1091.21 L269.954 1087.28 Z\" fill=\"#000000\" fill-rule=\"nonzero\" fill-opacity=\"1\" /><path clip-path=\"url(#clip260)\" d=\"M309.305 1059.73 Q305.694 1059.73 303.866 1063.3 Q302.06 1066.84 302.06 1073.97 Q302.06 1081.07 303.866 1084.64 Q305.694 1088.18 309.305 1088.18 Q312.94 1088.18 314.745 1084.64 Q316.574 1081.07 316.574 1073.97 Q316.574 1066.84 314.745 1063.3 Q312.94 1059.73 309.305 1059.73 M309.305 1056.03 Q315.116 1056.03 318.171 1060.63 Q321.25 1065.22 321.25 1073.97 Q321.25 1082.69 318.171 1087.3 Q315.116 1091.88 309.305 1091.88 Q303.495 1091.88 300.417 1087.3 Q297.361 1082.69 297.361 1073.97 Q297.361 1065.22 300.417 1060.63 Q303.495 1056.03 309.305 1056.03 Z\" fill=\"#000000\" fill-rule=\"nonzero\" fill-opacity=\"1\" /><path clip-path=\"url(#clip260)\" d=\"M321.25 1050.13 L345.361 1050.13 L345.361 1053.33 L321.25 1053.33 L321.25 1050.13 Z\" fill=\"#000000\" fill-rule=\"nonzero\" fill-opacity=\"1\" /><path clip-path=\"url(#clip260)\" d=\"M354.22 1060.61 L360.426 1060.61 L360.426 1039.18 L353.674 1040.54 L353.674 1037.08 L360.389 1035.72 L364.188 1035.72 L364.188 1060.61 L370.394 1060.61 L370.394 1063.8 L354.22 1063.8 L354.22 1060.61 Z\" fill=\"#000000\" fill-rule=\"nonzero\" fill-opacity=\"1\" /><path clip-path=\"url(#clip260)\" d=\"M386.663 1048.25 Q384.105 1048.25 382.601 1050 Q381.115 1051.75 381.115 1054.79 Q381.115 1057.82 382.601 1059.59 Q384.105 1061.34 386.663 1061.34 Q389.221 1061.34 390.707 1059.59 Q392.212 1057.82 392.212 1054.79 Q392.212 1051.75 390.707 1050 Q389.221 1048.25 386.663 1048.25 M394.205 1036.34 L394.205 1039.8 Q392.776 1039.13 391.309 1038.77 Q389.861 1038.41 388.431 1038.41 Q384.67 1038.41 382.676 1040.95 Q380.701 1043.49 380.419 1048.62 Q381.529 1046.99 383.203 1046.12 Q384.876 1045.24 386.889 1045.24 Q391.121 1045.24 393.566 1047.82 Q396.029 1050.37 396.029 1054.79 Q396.029 1059.12 393.472 1061.73 Q390.914 1064.35 386.663 1064.35 Q381.792 1064.35 379.215 1060.62 Q376.639 1056.88 376.639 1049.79 Q376.639 1043.13 379.798 1039.18 Q382.958 1035.21 388.281 1035.21 Q389.71 1035.21 391.158 1035.5 Q392.625 1035.78 394.205 1036.34 Z\" fill=\"#000000\" fill-rule=\"nonzero\" fill-opacity=\"1\" /><path clip-path=\"url(#clip260)\" d=\"M384.085 748.467 Q380.474 748.467 378.645 752.032 Q376.84 755.573 376.84 762.703 Q376.84 769.809 378.645 773.374 Q380.474 776.916 384.085 776.916 Q387.719 776.916 389.525 773.374 Q391.354 769.809 391.354 762.703 Q391.354 755.573 389.525 752.032 Q387.719 748.467 384.085 748.467 M384.085 744.763 Q389.895 744.763 392.951 749.37 Q396.029 753.953 396.029 762.703 Q396.029 771.43 392.951 776.036 Q389.895 780.62 384.085 780.62 Q378.275 780.62 375.196 776.036 Q372.141 771.43 372.141 762.703 Q372.141 753.953 375.196 749.37 Q378.275 744.763 384.085 744.763 Z\" fill=\"#000000\" fill-rule=\"nonzero\" fill-opacity=\"1\" /><path clip-path=\"url(#clip260)\" d=\"M154.075 447.019 L172.431 447.019 L172.431 450.954 L158.357 450.954 L158.357 459.426 Q159.376 459.079 160.394 458.917 Q161.413 458.732 162.431 458.732 Q168.218 458.732 171.598 461.903 Q174.977 465.074 174.977 470.491 Q174.977 476.069 171.505 479.171 Q168.033 482.25 161.714 482.25 Q159.538 482.25 157.269 481.88 Q155.024 481.509 152.616 480.768 L152.616 476.069 Q154.7 477.204 156.922 477.759 Q159.144 478.315 161.621 478.315 Q165.626 478.315 167.964 476.208 Q170.302 474.102 170.302 470.491 Q170.302 466.88 167.964 464.773 Q165.626 462.667 161.621 462.667 Q159.746 462.667 157.871 463.083 Q156.019 463.5 154.075 464.38 L154.075 447.019 Z\" fill=\"#000000\" fill-rule=\"nonzero\" fill-opacity=\"1\" /><path clip-path=\"url(#clip260)\" d=\"M184.19 475.699 L189.075 475.699 L189.075 481.579 L184.19 481.579 L184.19 475.699 Z\" fill=\"#000000\" fill-rule=\"nonzero\" fill-opacity=\"1\" /><path clip-path=\"url(#clip260)\" d=\"M209.26 450.097 Q205.649 450.097 203.82 453.662 Q202.014 457.204 202.014 464.333 Q202.014 471.44 203.82 475.005 Q205.649 478.546 209.26 478.546 Q212.894 478.546 214.699 475.005 Q216.528 471.44 216.528 464.333 Q216.528 457.204 214.699 453.662 Q212.894 450.097 209.26 450.097 M209.26 446.394 Q215.07 446.394 218.125 451 Q221.204 455.583 221.204 464.333 Q221.204 473.06 218.125 477.667 Q215.07 482.25 209.26 482.25 Q203.449 482.25 200.371 477.667 Q197.315 473.06 197.315 464.333 Q197.315 455.583 200.371 451 Q203.449 446.394 209.26 446.394 Z\" fill=\"#000000\" fill-rule=\"nonzero\" fill-opacity=\"1\" /><path clip-path=\"url(#clip260)\" d=\"M257.593 456.116 L247.014 466.741 L257.593 477.319 L254.838 480.12 L244.213 469.495 L233.588 480.12 L230.857 477.319 L241.412 466.741 L230.857 456.116 L233.588 453.315 L244.213 463.94 L254.838 453.315 L257.593 456.116 Z\" fill=\"#000000\" fill-rule=\"nonzero\" fill-opacity=\"1\" /><path clip-path=\"url(#clip260)\" d=\"M269.954 477.643 L277.593 477.643 L277.593 451.278 L269.282 452.945 L269.282 448.685 L277.546 447.019 L282.222 447.019 L282.222 477.643 L289.861 477.643 L289.861 481.579 L269.954 481.579 L269.954 477.643 Z\" fill=\"#000000\" fill-rule=\"nonzero\" fill-opacity=\"1\" /><path clip-path=\"url(#clip260)\" d=\"M309.305 450.097 Q305.694 450.097 303.866 453.662 Q302.06 457.204 302.06 464.333 Q302.06 471.44 303.866 475.005 Q305.694 478.546 309.305 478.546 Q312.94 478.546 314.745 475.005 Q316.574 471.44 316.574 464.333 Q316.574 457.204 314.745 453.662 Q312.94 450.097 309.305 450.097 M309.305 446.394 Q315.116 446.394 318.171 451 Q321.25 455.583 321.25 464.333 Q321.25 473.06 318.171 477.667 Q315.116 482.25 309.305 482.25 Q303.495 482.25 300.417 477.667 Q297.361 473.06 297.361 464.333 Q297.361 455.583 300.417 451 Q303.495 446.394 309.305 446.394 Z\" fill=\"#000000\" fill-rule=\"nonzero\" fill-opacity=\"1\" /><path clip-path=\"url(#clip260)\" d=\"M321.25 440.495 L345.361 440.495 L345.361 443.692 L321.25 443.692 L321.25 440.495 Z\" fill=\"#000000\" fill-rule=\"nonzero\" fill-opacity=\"1\" /><path clip-path=\"url(#clip260)\" d=\"M354.22 450.971 L360.426 450.971 L360.426 429.549 L353.674 430.903 L353.674 427.442 L360.389 426.088 L364.188 426.088 L364.188 450.971 L370.394 450.971 L370.394 454.168 L354.22 454.168 L354.22 450.971 Z\" fill=\"#000000\" fill-rule=\"nonzero\" fill-opacity=\"1\" /><path clip-path=\"url(#clip260)\" d=\"M386.663 438.614 Q384.105 438.614 382.601 440.363 Q381.115 442.112 381.115 445.159 Q381.115 448.187 382.601 449.955 Q384.105 451.704 386.663 451.704 Q389.221 451.704 390.707 449.955 Q392.212 448.187 392.212 445.159 Q392.212 442.112 390.707 440.363 Q389.221 438.614 386.663 438.614 M394.205 426.709 L394.205 430.17 Q392.776 429.492 391.309 429.135 Q389.861 428.778 388.431 428.778 Q384.67 428.778 382.676 431.317 Q380.701 433.856 380.419 438.99 Q381.529 437.354 383.203 436.489 Q384.876 435.605 386.889 435.605 Q391.121 435.605 393.566 438.182 Q396.029 440.739 396.029 445.159 Q396.029 449.485 393.472 452.099 Q390.914 454.714 386.663 454.714 Q381.792 454.714 379.215 450.99 Q376.639 447.247 376.639 440.156 Q376.639 433.498 379.798 429.549 Q382.958 425.58 388.281 425.58 Q389.71 425.58 391.158 425.863 Q392.625 426.145 394.205 426.709 Z\" fill=\"#000000\" fill-rule=\"nonzero\" fill-opacity=\"1\" /><path clip-path=\"url(#clip260)\" d=\"M155.779 172.826 L163.418 172.826 L163.418 146.461 L155.108 148.127 L155.108 143.868 L163.372 142.201 L168.047 142.201 L168.047 172.826 L175.686 172.826 L175.686 176.761 L155.779 176.761 L155.779 172.826 Z\" fill=\"#000000\" fill-rule=\"nonzero\" fill-opacity=\"1\" /><path clip-path=\"url(#clip260)\" d=\"M185.131 170.882 L190.015 170.882 L190.015 176.761 L185.131 176.761 L185.131 170.882 Z\" fill=\"#000000\" fill-rule=\"nonzero\" fill-opacity=\"1\" /><path clip-path=\"url(#clip260)\" d=\"M210.2 145.28 Q206.589 145.28 204.76 148.845 Q202.955 152.387 202.955 159.516 Q202.955 166.623 204.76 170.187 Q206.589 173.729 210.2 173.729 Q213.834 173.729 215.64 170.187 Q217.469 166.623 217.469 159.516 Q217.469 152.387 215.64 148.845 Q213.834 145.28 210.2 145.28 M210.2 141.576 Q216.01 141.576 219.066 146.183 Q222.144 150.766 222.144 159.516 Q222.144 168.243 219.066 172.849 Q216.01 177.433 210.2 177.433 Q204.39 177.433 201.311 172.849 Q198.256 168.243 198.256 159.516 Q198.256 150.766 201.311 146.183 Q204.39 141.576 210.2 141.576 Z\" fill=\"#000000\" fill-rule=\"nonzero\" fill-opacity=\"1\" /><path clip-path=\"url(#clip260)\" d=\"M258.533 151.299 L247.954 161.924 L258.533 172.502 L255.778 175.303 L245.154 164.678 L234.529 175.303 L231.797 172.502 L242.353 161.924 L231.797 151.299 L234.529 148.498 L245.154 159.123 L255.778 148.498 L258.533 151.299 Z\" fill=\"#000000\" fill-rule=\"nonzero\" fill-opacity=\"1\" /><path clip-path=\"url(#clip260)\" d=\"M270.894 172.826 L278.533 172.826 L278.533 146.461 L270.223 148.127 L270.223 143.868 L278.487 142.201 L283.163 142.201 L283.163 172.826 L290.801 172.826 L290.801 176.761 L270.894 176.761 L270.894 172.826 Z\" fill=\"#000000\" fill-rule=\"nonzero\" fill-opacity=\"1\" /><path clip-path=\"url(#clip260)\" d=\"M310.246 145.28 Q306.635 145.28 304.806 148.845 Q303 152.387 303 159.516 Q303 166.623 304.806 170.187 Q306.635 173.729 310.246 173.729 Q313.88 173.729 315.686 170.187 Q317.514 166.623 317.514 159.516 Q317.514 152.387 315.686 148.845 Q313.88 145.28 310.246 145.28 M310.246 141.576 Q316.056 141.576 319.111 146.183 Q322.19 150.766 322.19 159.516 Q322.19 168.243 319.111 172.849 Q316.056 177.433 310.246 177.433 Q304.436 177.433 301.357 172.849 Q298.301 168.243 298.301 159.516 Q298.301 150.766 301.357 146.183 Q304.436 141.576 310.246 141.576 Z\" fill=\"#000000\" fill-rule=\"nonzero\" fill-opacity=\"1\" /><path clip-path=\"url(#clip260)\" d=\"M322.19 135.678 L346.302 135.678 L346.302 138.875 L322.19 138.875 L322.19 135.678 Z\" fill=\"#000000\" fill-rule=\"nonzero\" fill-opacity=\"1\" /><path clip-path=\"url(#clip260)\" d=\"M355.16 146.154 L361.367 146.154 L361.367 124.732 L354.615 126.086 L354.615 122.625 L361.329 121.271 L365.128 121.271 L365.128 146.154 L371.335 146.154 L371.335 149.351 L355.16 149.351 L355.16 146.154 Z\" fill=\"#000000\" fill-rule=\"nonzero\" fill-opacity=\"1\" /><path clip-path=\"url(#clip260)\" d=\"M379.046 121.271 L393.961 121.271 L393.961 124.468 L382.526 124.468 L382.526 131.352 Q383.353 131.07 384.181 130.938 Q385.008 130.788 385.836 130.788 Q390.538 130.788 393.284 133.364 Q396.029 135.941 396.029 140.342 Q396.029 144.875 393.208 147.395 Q390.387 149.896 385.253 149.896 Q383.485 149.896 381.642 149.595 Q379.817 149.295 377.861 148.693 L377.861 144.875 Q379.554 145.796 381.359 146.248 Q383.165 146.699 385.177 146.699 Q388.431 146.699 390.331 144.988 Q392.23 143.276 392.23 140.342 Q392.23 137.408 390.331 135.697 Q388.431 133.985 385.177 133.985 Q383.654 133.985 382.131 134.324 Q380.626 134.662 379.046 135.377 L379.046 121.271 Z\" fill=\"#000000\" fill-rule=\"nonzero\" fill-opacity=\"1\" /><path clip-path=\"url(#clip260)\" d=\"M67.3143 727.383 Q73.68 729.866 75.6216 732.221 Q77.5631 734.577 77.5631 738.523 L77.5631 743.202 L72.6615 743.202 L72.6615 739.765 Q72.6615 737.346 71.5157 736.009 Q70.3699 734.672 66.1048 733.049 L63.4312 731.999 L28.3562 746.417 L28.3562 740.21 L56.238 729.07 L28.3562 717.93 L28.3562 711.724 L67.3143 727.383 Z\" fill=\"#000000\" fill-rule=\"nonzero\" fill-opacity=\"1\" /><polyline clip-path=\"url(#clip262)\" style=\"stroke:#009af9; stroke-linecap:round; stroke-linejoin:round; stroke-width:16; stroke-opacity:1; fill:none\" points=\"432.029,1371.82 436.987,1371.82 441.944,1371.82 446.901,1371.82 451.858,1371.82 459.117,1371.82 466.376,1371.82 470.005,1371.82 473.634,1371.82 477.263,1371.82 480.893,1371.82 481.8,1371.82 482.707,1371.82 483.615,1371.82 484.522,1371.82 485.429,1371.82 486.337,1304.13 487.244,1304.13 488.151,1304.13 489.966,1304.13 491.78,1304.13 493.595,1304.13 495.41,1304.13 502.668,1304.13 509.927,1304.13 524.444,1304.13 538.961,1304.13 553.478,1304.13 567.995,1304.13 574.749,1304.13 581.502,1304.13 584.879,1304.13 588.255,1304.13 589.099,1304.13 589.944,1304.13 590.788,1304.13 591.632,1304.13 592.054,1304.13 592.476,1304.13 592.898,1236.45 593.32,1236.45 593.742,1236.45 594.164,1236.45 594.587,1236.45 595.009,1236.45 596.697,1236.45 598.385,1236.45 600.074,1236.45 601.762,1236.45 605.139,1236.45 608.515,1236.45 615.269,1236.45 622.022,1236.45 640.126,1236.45 658.23,1236.45 667.282,1236.45 676.334,1236.45 680.86,1236.45 685.386,1236.45 689.912,1236.45 694.438,1236.45 695.373,1236.45 696.308,1236.45 697.243,1236.45 698.178,1236.45 698.645,1236.45 699.113,1236.45 699.58,1168.77 700.048,1168.77 700.515,1168.77 700.983,1168.77 701.45,1168.77 701.918,1168.77 703.788,1168.77 705.658,1168.77 707.528,1168.77 709.398,1168.77 716.877,1168.77 724.357,1168.77 739.317,1168.77 754.276,1168.77 768.187,1168.77 782.098,1168.77 789.053,1168.77 796.009,1168.77 797.747,1168.77 799.486,1168.77 801.225,1168.77 802.964,1168.77 803.833,1168.77 804.703,1168.77 805.138,1168.77 805.572,1168.77 806.007,1101.08 806.442,1101.08 806.876,1101.08 807.311,1101.08 807.746,1101.08 808.181,1101.08 809.05,1101.08 809.919,1101.08 812.102,1101.08 814.285,1101.08 816.468,1101.08 818.651,1101.08 823.017,1101.08 827.382,1101.08 836.114,1101.08 844.845,1101.08 862.308,1101.08 879.771,1101.08 887.603,1101.08 895.435,1101.08 899.351,1101.08 903.268,1101.08 905.226,1101.08 907.184,1101.08 909.142,1101.08 911.1,1101.08 911.589,1101.08 912.079,1101.08 912.568,1101.08 913.058,1033.4 913.547,1033.4 914.037,1033.4 914.526,1033.4 915.016,1033.4 916.974,1033.4 918.932,1033.4 922.848,1033.4 926.764,1033.4 934.596,1033.4 942.428,1033.4 960.358,1033.4 978.288,1033.4 987.253,1033.4 996.218,1033.4 1005.18,1033.4 1014.15,1033.4 1015.82,1033.4 1017.5,1033.4 1017.92,1033.4 1018.34,1033.4 1018.76,1033.4 1019.17,1033.4 1019.59,965.717 1020.01,965.717 1020.43,965.717 1020.85,965.717 1021.69,965.717 1022.52,965.717 1023.36,965.717 1024.2,965.717 1025.88,965.717 1027.55,965.717 1034.25,965.717 1040.95,965.717 1054.36,965.717 1067.76,965.717 1084.9,965.717 1102.04,965.717 1106.33,965.717 1110.61,965.717 1114.9,965.717 1119.19,965.717 1121.33,965.717 1123.47,965.717 1124.01,965.717 1124.54,965.717 1125.08,965.717 1125.61,965.717 1126.15,898.034 1126.68,898.034 1127.22,898.034 1127.76,898.034 1128.83,898.034 1129.9,898.034 1130.97,898.034 1132.04,898.034 1134.18,898.034 1136.33,898.034 1151.97,898.034 1167.62,898.034 1183.26,898.034 1198.91,898.034 1207.81,898.034 1216.72,898.034 1221.17,898.034 1225.62,898.034 1227.85,898.034 1230.07,898.034 1230.63,898.034 1231.19,898.034 1231.74,898.034 1232.3,898.034 1232.85,830.351 1233.41,830.351 1233.97,830.351 1234.52,830.351 1235.64,830.351 1236.75,830.351 1237.86,830.351 1238.98,830.351 1241.2,830.351 1243.43,830.351 1247.88,830.351 1252.33,830.351 1261.23,830.351 1270.14,830.351 1298.37,830.351 1326.6,830.351 1328.79,830.351 1330.99,830.351 1333.18,830.351 1335.37,830.351 1336.47,830.351 1337.56,830.351 1338.11,830.351 1338.66,830.351 1339.21,762.668 1339.75,762.668 1340.3,762.668 1340.85,762.668 1341.4,762.668 1341.95,762.668 1343.04,762.668 1344.14,762.668 1348.52,762.668 1352.91,762.668 1357.29,762.668 1361.68,762.668 1379.21,762.668 1396.75,762.668 1423.61,762.668 1450.47,762.668 1459.94,762.668 1469.41,762.668 1478.87,762.668 1488.34,762.668 1490.71,762.668 1493.08,762.668 1494.26,762.668 1495.44,762.668 1496.63,762.668 1497.81,762.668 1498.4,762.668 1498.99,762.668 1499.59,627.302 1500.18,627.302 1500.77,627.302 1501.36,627.302 1501.95,627.302 1502.54,627.302 1504.91,627.302 1507.28,627.302 1512.01,627.302 1516.75,627.302 1521.48,627.302 1526.21,627.302 1554.51,627.302 1582.81,627.302 1615,627.302 1647.18,627.302 1663.12,627.302 1679.05,627.302 1687.02,627.302 1694.99,627.302 1698.97,627.302 1702.96,627.302 1706.94,627.302 1710.92,627.302 1711.47,627.302 1712.02,627.302 1712.57,491.936 1713.12,491.936 1713.66,491.936 1714.21,491.936 1714.76,491.936 1715.31,491.936 1717.5,491.936 1719.69,491.936 1724.07,491.936 1728.46,491.936 1737.22,491.936 1745.99,491.936 1763.52,491.936 1781.06,491.936 1807.84,491.936 1834.62,491.936 1868.42,491.936 1902.22,491.936 1906.13,491.936 1910.04,491.936 1913.95,491.936 1917.85,491.936 1919.81,491.936 1921.76,491.936 1922.74,491.936 1923.71,491.936 1924.2,491.936 1924.69,491.936 1925.18,491.936 1925.67,356.57 1926.16,356.57 1926.65,356.57 1927.13,356.57 1927.62,356.57 1928.6,356.57 1929.58,356.57 1931.53,356.57 1933.48,356.57 1941.3,356.57 1949.11,356.57 1956.93,356.57 1964.74,356.57 2029.22,356.57 2094.58,356.57 2103.11,356.57 2111.64,356.57 2120.17,356.57 2128.71,356.57 2130.84,356.57 2132.97,356.57 2134.04,356.57 2135.1,356.57 2136.17,356.57 2137.24,356.57 2137.77,356.57 2138.3,356.57 2138.84,221.204 2139.37,221.204 2139.9,221.204 2140.44,221.204 2140.97,221.204 2141.5,221.204 2143.63,221.204 2145.77,221.204 2150.03,221.204 2154.3,221.204 2158.56,221.204 2162.83,221.204 2189.71,221.204 2216.59,221.204 2277.8,221.204 2339.02,221.204 2345.89,221.204 2352.76,85.838 \"/>\n",
       "<polyline clip-path=\"url(#clip262)\" style=\"stroke:#e26f46; stroke-linecap:round; stroke-linejoin:round; stroke-width:16; stroke-opacity:1; fill:none\" points=\"432.029,1372.3 451.858,1359.72 567.995,1285.99 622.022,1251.7 694.438,1205.73 754.276,1167.74 809.919,1132.42 879.771,1088.08 942.428,1048.3 1014.15,1002.78 1067.76,968.745 1136.33,925.218 1198.91,885.49 1270.14,840.275 1326.6,804.433 1396.75,759.903 1450.47,725.8 1526.21,677.72 1582.81,641.791 1647.18,600.931 1710.92,560.466 1781.06,515.947 1834.62,481.942 1902.22,439.03 1964.74,399.342 2029.22,358.41 2094.58,316.921 2162.83,273.599 2216.59,239.472 2339.02,161.753 2352.76,153.034 \"/>\n",
       "<path clip-path=\"url(#clip260)\" d=\"M496.054 248.219 L740.557 248.219 L740.557 92.6992 L496.054 92.6992  Z\" fill=\"#ffffff\" fill-rule=\"evenodd\" fill-opacity=\"1\"/>\n",
       "<polyline clip-path=\"url(#clip260)\" style=\"stroke:#000000; stroke-linecap:round; stroke-linejoin:round; stroke-width:4; stroke-opacity:1; fill:none\" points=\"496.054,248.219 740.557,248.219 740.557,92.6992 496.054,92.6992 496.054,248.219 \"/>\n",
       "<polyline clip-path=\"url(#clip260)\" style=\"stroke:#009af9; stroke-linecap:round; stroke-linejoin:round; stroke-width:16; stroke-opacity:1; fill:none\" points=\"517.395,144.539 645.444,144.539 \"/>\n",
       "<path clip-path=\"url(#clip260)\" d=\"M680.627 164.227 Q678.822 168.856 677.109 170.268 Q675.396 171.68 672.526 171.68 L669.123 171.68 L669.123 168.115 L671.623 168.115 Q673.382 168.115 674.354 167.282 Q675.327 166.449 676.507 163.347 L677.271 161.403 L666.785 135.893 L671.299 135.893 L679.401 156.171 L687.502 135.893 L692.016 135.893 L680.627 164.227 Z\" fill=\"#000000\" fill-rule=\"nonzero\" fill-opacity=\"1\" /><path clip-path=\"url(#clip260)\" d=\"M699.308 157.884 L706.947 157.884 L706.947 131.518 L698.637 133.185 L698.637 128.926 L706.9 127.259 L711.576 127.259 L711.576 157.884 L719.215 157.884 L719.215 161.819 L699.308 161.819 L699.308 157.884 Z\" fill=\"#000000\" fill-rule=\"nonzero\" fill-opacity=\"1\" /><polyline clip-path=\"url(#clip260)\" style=\"stroke:#e26f46; stroke-linecap:round; stroke-linejoin:round; stroke-width:16; stroke-opacity:1; fill:none\" points=\"517.395,196.379 645.444,196.379 \"/>\n",
       "<path clip-path=\"url(#clip260)\" d=\"M680.627 216.067 Q678.822 220.696 677.109 222.108 Q675.396 223.52 672.526 223.52 L669.123 223.52 L669.123 219.955 L671.623 219.955 Q673.382 219.955 674.354 219.122 Q675.327 218.289 676.507 215.187 L677.271 213.243 L666.785 187.733 L671.299 187.733 L679.401 208.011 L687.502 187.733 L692.016 187.733 L680.627 216.067 Z\" fill=\"#000000\" fill-rule=\"nonzero\" fill-opacity=\"1\" /><path clip-path=\"url(#clip260)\" d=\"M702.525 209.724 L718.845 209.724 L718.845 213.659 L696.901 213.659 L696.901 209.724 Q699.563 206.969 704.146 202.34 Q708.752 197.687 709.933 196.344 Q712.178 193.821 713.058 192.085 Q713.961 190.326 713.961 188.636 Q713.961 185.882 712.016 184.145 Q710.095 182.409 706.993 182.409 Q704.794 182.409 702.34 183.173 Q699.91 183.937 697.132 185.488 L697.132 180.766 Q699.956 179.632 702.41 179.053 Q704.863 178.474 706.9 178.474 Q712.271 178.474 715.465 181.159 Q718.66 183.845 718.66 188.335 Q718.66 190.465 717.849 192.386 Q717.062 194.284 714.956 196.877 Q714.377 197.548 711.275 200.766 Q708.174 203.96 702.525 209.724 Z\" fill=\"#000000\" fill-rule=\"nonzero\" fill-opacity=\"1\" /></svg>\n"
      ],
      "text/html": [
       "<?xml version=\"1.0\" encoding=\"utf-8\"?>\n",
       "<svg xmlns=\"http://www.w3.org/2000/svg\" xmlns:xlink=\"http://www.w3.org/1999/xlink\" width=\"600\" height=\"400\" viewBox=\"0 0 2400 1600\">\n",
       "<defs>\n",
       "  <clipPath id=\"clip310\">\n",
       "    <rect x=\"0\" y=\"0\" width=\"2400\" height=\"1600\"/>\n",
       "  </clipPath>\n",
       "</defs>\n",
       "<path clip-path=\"url(#clip310)\" d=\"M0 1600 L2400 1600 L2400 0 L0 0  Z\" fill=\"#ffffff\" fill-rule=\"evenodd\" fill-opacity=\"1\"/>\n",
       "<defs>\n",
       "  <clipPath id=\"clip311\">\n",
       "    <rect x=\"480\" y=\"0\" width=\"1681\" height=\"1600\"/>\n",
       "  </clipPath>\n",
       "</defs>\n",
       "<path clip-path=\"url(#clip310)\" d=\"M432.029 1410.9 L2352.76 1410.9 L2352.76 47.2441 L432.029 47.2441  Z\" fill=\"#ffffff\" fill-rule=\"evenodd\" fill-opacity=\"1\"/>\n",
       "<defs>\n",
       "  <clipPath id=\"clip312\">\n",
       "    <rect x=\"432\" y=\"47\" width=\"1922\" height=\"1365\"/>\n",
       "  </clipPath>\n",
       "</defs>\n",
       "<polyline clip-path=\"url(#clip312)\" style=\"stroke:#000000; stroke-linecap:round; stroke-linejoin:round; stroke-width:2; stroke-opacity:0.1; fill:none\" points=\"432.029,1410.9 432.029,47.2441 \"/>\n",
       "<polyline clip-path=\"url(#clip312)\" style=\"stroke:#000000; stroke-linecap:round; stroke-linejoin:round; stroke-width:2; stroke-opacity:0.1; fill:none\" points=\"912.211,1410.9 912.211,47.2441 \"/>\n",
       "<polyline clip-path=\"url(#clip312)\" style=\"stroke:#000000; stroke-linecap:round; stroke-linejoin:round; stroke-width:2; stroke-opacity:0.1; fill:none\" points=\"1392.39,1410.9 1392.39,47.2441 \"/>\n",
       "<polyline clip-path=\"url(#clip312)\" style=\"stroke:#000000; stroke-linecap:round; stroke-linejoin:round; stroke-width:2; stroke-opacity:0.1; fill:none\" points=\"1872.57,1410.9 1872.57,47.2441 \"/>\n",
       "<polyline clip-path=\"url(#clip312)\" style=\"stroke:#000000; stroke-linecap:round; stroke-linejoin:round; stroke-width:2; stroke-opacity:0.1; fill:none\" points=\"2352.76,1410.9 2352.76,47.2441 \"/>\n",
       "<polyline clip-path=\"url(#clip312)\" style=\"stroke:#000000; stroke-linecap:round; stroke-linejoin:round; stroke-width:2; stroke-opacity:0.1; fill:none\" points=\"432.029,1372.3 2352.76,1372.3 \"/>\n",
       "<polyline clip-path=\"url(#clip312)\" style=\"stroke:#000000; stroke-linecap:round; stroke-linejoin:round; stroke-width:2; stroke-opacity:0.1; fill:none\" points=\"432.029,1067.49 2352.76,1067.49 \"/>\n",
       "<polyline clip-path=\"url(#clip312)\" style=\"stroke:#000000; stroke-linecap:round; stroke-linejoin:round; stroke-width:2; stroke-opacity:0.1; fill:none\" points=\"432.029,762.668 2352.76,762.668 \"/>\n",
       "<polyline clip-path=\"url(#clip312)\" style=\"stroke:#000000; stroke-linecap:round; stroke-linejoin:round; stroke-width:2; stroke-opacity:0.1; fill:none\" points=\"432.029,457.851 2352.76,457.851 \"/>\n",
       "<polyline clip-path=\"url(#clip312)\" style=\"stroke:#000000; stroke-linecap:round; stroke-linejoin:round; stroke-width:2; stroke-opacity:0.1; fill:none\" points=\"432.029,153.034 2352.76,153.034 \"/>\n",
       "<polyline clip-path=\"url(#clip310)\" style=\"stroke:#000000; stroke-linecap:round; stroke-linejoin:round; stroke-width:4; stroke-opacity:1; fill:none\" points=\"432.029,1410.9 2352.76,1410.9 \"/>\n",
       "<polyline clip-path=\"url(#clip310)\" style=\"stroke:#000000; stroke-linecap:round; stroke-linejoin:round; stroke-width:4; stroke-opacity:1; fill:none\" points=\"432.029,1410.9 432.029,1392 \"/>\n",
       "<polyline clip-path=\"url(#clip310)\" style=\"stroke:#000000; stroke-linecap:round; stroke-linejoin:round; stroke-width:4; stroke-opacity:1; fill:none\" points=\"912.211,1410.9 912.211,1392 \"/>\n",
       "<polyline clip-path=\"url(#clip310)\" style=\"stroke:#000000; stroke-linecap:round; stroke-linejoin:round; stroke-width:4; stroke-opacity:1; fill:none\" points=\"1392.39,1410.9 1392.39,1392 \"/>\n",
       "<polyline clip-path=\"url(#clip310)\" style=\"stroke:#000000; stroke-linecap:round; stroke-linejoin:round; stroke-width:4; stroke-opacity:1; fill:none\" points=\"1872.57,1410.9 1872.57,1392 \"/>\n",
       "<polyline clip-path=\"url(#clip310)\" style=\"stroke:#000000; stroke-linecap:round; stroke-linejoin:round; stroke-width:4; stroke-opacity:1; fill:none\" points=\"2352.76,1410.9 2352.76,1392 \"/>\n",
       "<path clip-path=\"url(#clip310)\" d=\"M291.615 1472.13 L321.291 1472.13 L321.291 1476.06 L291.615 1476.06 L291.615 1472.13 Z\" fill=\"#000000\" fill-rule=\"nonzero\" fill-opacity=\"1\" /><path clip-path=\"url(#clip310)\" d=\"M332.193 1485.02 L339.832 1485.02 L339.832 1458.66 L331.522 1460.32 L331.522 1456.06 L339.786 1454.4 L344.462 1454.4 L344.462 1485.02 L352.101 1485.02 L352.101 1488.96 L332.193 1488.96 L332.193 1485.02 Z\" fill=\"#000000\" fill-rule=\"nonzero\" fill-opacity=\"1\" /><path clip-path=\"url(#clip310)\" d=\"M361.545 1483.08 L366.429 1483.08 L366.429 1488.96 L361.545 1488.96 L361.545 1483.08 Z\" fill=\"#000000\" fill-rule=\"nonzero\" fill-opacity=\"1\" /><path clip-path=\"url(#clip310)\" d=\"M386.615 1457.48 Q383.003 1457.48 381.175 1461.04 Q379.369 1464.58 379.369 1471.71 Q379.369 1478.82 381.175 1482.38 Q383.003 1485.92 386.615 1485.92 Q390.249 1485.92 392.054 1482.38 Q393.883 1478.82 393.883 1471.71 Q393.883 1464.58 392.054 1461.04 Q390.249 1457.48 386.615 1457.48 M386.615 1453.77 Q392.425 1453.77 395.48 1458.38 Q398.559 1462.96 398.559 1471.71 Q398.559 1480.44 395.48 1485.04 Q392.425 1489.63 386.615 1489.63 Q380.804 1489.63 377.726 1485.04 Q374.67 1480.44 374.67 1471.71 Q374.67 1462.96 377.726 1458.38 Q380.804 1453.77 386.615 1453.77 Z\" fill=\"#000000\" fill-rule=\"nonzero\" fill-opacity=\"1\" /><path clip-path=\"url(#clip310)\" d=\"M434.948 1463.49 L424.369 1474.12 L434.948 1484.7 L432.193 1487.5 L421.568 1476.87 L410.943 1487.5 L408.212 1484.7 L418.767 1474.12 L408.212 1463.49 L410.943 1460.69 L421.568 1471.32 L432.193 1460.69 L434.948 1463.49 Z\" fill=\"#000000\" fill-rule=\"nonzero\" fill-opacity=\"1\" /><path clip-path=\"url(#clip310)\" d=\"M447.309 1485.02 L454.947 1485.02 L454.947 1458.66 L446.637 1460.32 L446.637 1456.06 L454.901 1454.4 L459.577 1454.4 L459.577 1485.02 L467.216 1485.02 L467.216 1488.96 L447.309 1488.96 L447.309 1485.02 Z\" fill=\"#000000\" fill-rule=\"nonzero\" fill-opacity=\"1\" /><path clip-path=\"url(#clip310)\" d=\"M486.66 1457.48 Q483.049 1457.48 481.22 1461.04 Q479.415 1464.58 479.415 1471.71 Q479.415 1478.82 481.22 1482.38 Q483.049 1485.92 486.66 1485.92 Q490.295 1485.92 492.1 1482.38 Q493.929 1478.82 493.929 1471.71 Q493.929 1464.58 492.1 1461.04 Q490.295 1457.48 486.66 1457.48 M486.66 1453.77 Q492.47 1453.77 495.526 1458.38 Q498.605 1462.96 498.605 1471.71 Q498.605 1480.44 495.526 1485.04 Q492.47 1489.63 486.66 1489.63 Q480.85 1489.63 477.771 1485.04 Q474.716 1480.44 474.716 1471.71 Q474.716 1462.96 477.771 1458.38 Q480.85 1453.77 486.66 1453.77 Z\" fill=\"#000000\" fill-rule=\"nonzero\" fill-opacity=\"1\" /><path clip-path=\"url(#clip310)\" d=\"M498.605 1447.87 L522.716 1447.87 L522.716 1451.07 L498.605 1451.07 L498.605 1447.87 Z\" fill=\"#000000\" fill-rule=\"nonzero\" fill-opacity=\"1\" /><path clip-path=\"url(#clip310)\" d=\"M531.575 1458.35 L537.781 1458.35 L537.781 1436.93 L531.029 1438.28 L531.029 1434.82 L537.744 1433.47 L541.543 1433.47 L541.543 1458.35 L547.749 1458.35 L547.749 1461.55 L531.575 1461.55 L531.575 1458.35 Z\" fill=\"#000000\" fill-rule=\"nonzero\" fill-opacity=\"1\" /><path clip-path=\"url(#clip310)\" d=\"M555.461 1433.47 L570.375 1433.47 L570.375 1436.66 L558.94 1436.66 L558.94 1443.55 Q559.768 1443.27 560.595 1443.13 Q561.423 1442.98 562.25 1442.98 Q566.952 1442.98 569.698 1445.56 Q572.444 1448.14 572.444 1452.54 Q572.444 1457.07 569.623 1459.59 Q566.802 1462.09 561.667 1462.09 Q559.899 1462.09 558.056 1461.79 Q556.232 1461.49 554.276 1460.89 L554.276 1457.07 Q555.968 1457.99 557.774 1458.44 Q559.579 1458.89 561.592 1458.89 Q564.846 1458.89 566.745 1457.18 Q568.645 1455.47 568.645 1452.54 Q568.645 1449.6 566.745 1447.89 Q564.846 1446.18 561.592 1446.18 Q560.068 1446.18 558.545 1446.52 Q557.04 1446.86 555.461 1447.57 L555.461 1433.47 Z\" fill=\"#000000\" fill-rule=\"nonzero\" fill-opacity=\"1\" /><path clip-path=\"url(#clip310)\" d=\"M771.326 1472.13 L801.002 1472.13 L801.002 1476.06 L771.326 1476.06 L771.326 1472.13 Z\" fill=\"#000000\" fill-rule=\"nonzero\" fill-opacity=\"1\" /><path clip-path=\"url(#clip310)\" d=\"M811.141 1454.4 L829.497 1454.4 L829.497 1458.33 L815.423 1458.33 L815.423 1466.8 Q816.442 1466.46 817.46 1466.29 Q818.479 1466.11 819.497 1466.11 Q825.284 1466.11 828.664 1469.28 Q832.044 1472.45 832.044 1477.87 Q832.044 1483.45 828.571 1486.55 Q825.099 1489.63 818.78 1489.63 Q816.604 1489.63 814.335 1489.26 Q812.09 1488.89 809.683 1488.15 L809.683 1483.45 Q811.766 1484.58 813.988 1485.14 Q816.21 1485.69 818.687 1485.69 Q822.692 1485.69 825.03 1483.59 Q827.368 1481.48 827.368 1477.87 Q827.368 1474.26 825.03 1472.15 Q822.692 1470.04 818.687 1470.04 Q816.812 1470.04 814.937 1470.46 Q813.085 1470.88 811.141 1471.76 L811.141 1454.4 Z\" fill=\"#000000\" fill-rule=\"nonzero\" fill-opacity=\"1\" /><path clip-path=\"url(#clip310)\" d=\"M841.257 1483.08 L846.141 1483.08 L846.141 1488.96 L841.257 1488.96 L841.257 1483.08 Z\" fill=\"#000000\" fill-rule=\"nonzero\" fill-opacity=\"1\" /><path clip-path=\"url(#clip310)\" d=\"M866.326 1457.48 Q862.715 1457.48 860.886 1461.04 Q859.081 1464.58 859.081 1471.71 Q859.081 1478.82 860.886 1482.38 Q862.715 1485.92 866.326 1485.92 Q869.96 1485.92 871.766 1482.38 Q873.594 1478.82 873.594 1471.71 Q873.594 1464.58 871.766 1461.04 Q869.96 1457.48 866.326 1457.48 M866.326 1453.77 Q872.136 1453.77 875.192 1458.38 Q878.27 1462.96 878.27 1471.71 Q878.27 1480.44 875.192 1485.04 Q872.136 1489.63 866.326 1489.63 Q860.516 1489.63 857.437 1485.04 Q854.382 1480.44 854.382 1471.71 Q854.382 1462.96 857.437 1458.38 Q860.516 1453.77 866.326 1453.77 Z\" fill=\"#000000\" fill-rule=\"nonzero\" fill-opacity=\"1\" /><path clip-path=\"url(#clip310)\" d=\"M914.659 1463.49 L904.08 1474.12 L914.659 1484.7 L911.904 1487.5 L901.279 1476.87 L890.654 1487.5 L887.923 1484.7 L898.479 1474.12 L887.923 1463.49 L890.654 1460.69 L901.279 1471.32 L911.904 1460.69 L914.659 1463.49 Z\" fill=\"#000000\" fill-rule=\"nonzero\" fill-opacity=\"1\" /><path clip-path=\"url(#clip310)\" d=\"M927.02 1485.02 L934.659 1485.02 L934.659 1458.66 L926.349 1460.32 L926.349 1456.06 L934.613 1454.4 L939.288 1454.4 L939.288 1485.02 L946.927 1485.02 L946.927 1488.96 L927.02 1488.96 L927.02 1485.02 Z\" fill=\"#000000\" fill-rule=\"nonzero\" fill-opacity=\"1\" /><path clip-path=\"url(#clip310)\" d=\"M966.372 1457.48 Q962.761 1457.48 960.932 1461.04 Q959.126 1464.58 959.126 1471.71 Q959.126 1478.82 960.932 1482.38 Q962.761 1485.92 966.372 1485.92 Q970.006 1485.92 971.811 1482.38 Q973.64 1478.82 973.64 1471.71 Q973.64 1464.58 971.811 1461.04 Q970.006 1457.48 966.372 1457.48 M966.372 1453.77 Q972.182 1453.77 975.237 1458.38 Q978.316 1462.96 978.316 1471.71 Q978.316 1480.44 975.237 1485.04 Q972.182 1489.63 966.372 1489.63 Q960.562 1489.63 957.483 1485.04 Q954.427 1480.44 954.427 1471.71 Q954.427 1462.96 957.483 1458.38 Q960.562 1453.77 966.372 1453.77 Z\" fill=\"#000000\" fill-rule=\"nonzero\" fill-opacity=\"1\" /><path clip-path=\"url(#clip310)\" d=\"M978.316 1447.87 L1002.43 1447.87 L1002.43 1451.07 L978.316 1451.07 L978.316 1447.87 Z\" fill=\"#000000\" fill-rule=\"nonzero\" fill-opacity=\"1\" /><path clip-path=\"url(#clip310)\" d=\"M1011.29 1458.35 L1017.49 1458.35 L1017.49 1436.93 L1010.74 1438.28 L1010.74 1434.82 L1017.46 1433.47 L1021.25 1433.47 L1021.25 1458.35 L1027.46 1458.35 L1027.46 1461.55 L1011.29 1461.55 L1011.29 1458.35 Z\" fill=\"#000000\" fill-rule=\"nonzero\" fill-opacity=\"1\" /><path clip-path=\"url(#clip310)\" d=\"M1043.73 1445.99 Q1041.17 1445.99 1039.67 1447.74 Q1038.18 1449.49 1038.18 1452.54 Q1038.18 1455.57 1039.67 1457.33 Q1041.17 1459.08 1043.73 1459.08 Q1046.29 1459.08 1047.77 1457.33 Q1049.28 1455.57 1049.28 1452.54 Q1049.28 1449.49 1047.77 1447.74 Q1046.29 1445.99 1043.73 1445.99 M1051.27 1434.09 L1051.27 1437.55 Q1049.84 1436.87 1048.37 1436.51 Q1046.93 1436.16 1045.5 1436.16 Q1041.74 1436.16 1039.74 1438.69 Q1037.77 1441.23 1037.49 1446.37 Q1038.59 1444.73 1040.27 1443.87 Q1041.94 1442.98 1043.96 1442.98 Q1048.19 1442.98 1050.63 1445.56 Q1053.1 1448.12 1053.1 1452.54 Q1053.1 1456.86 1050.54 1459.48 Q1047.98 1462.09 1043.73 1462.09 Q1038.86 1462.09 1036.28 1458.37 Q1033.7 1454.62 1033.7 1447.53 Q1033.7 1440.88 1036.86 1436.93 Q1040.02 1432.96 1045.35 1432.96 Q1046.78 1432.96 1048.22 1433.24 Q1049.69 1433.52 1051.27 1434.09 Z\" fill=\"#000000\" fill-rule=\"nonzero\" fill-opacity=\"1\" /><path clip-path=\"url(#clip310)\" d=\"M1392.39 1441.82 Q1388.78 1441.82 1386.95 1445.38 Q1385.15 1448.92 1385.15 1456.05 Q1385.15 1463.16 1386.95 1466.72 Q1388.78 1470.26 1392.39 1470.26 Q1396.03 1470.26 1397.83 1466.72 Q1399.66 1463.16 1399.66 1456.05 Q1399.66 1448.92 1397.83 1445.38 Q1396.03 1441.82 1392.39 1441.82 M1392.39 1438.11 Q1398.2 1438.11 1401.26 1442.72 Q1404.34 1447.3 1404.34 1456.05 Q1404.34 1464.78 1401.26 1469.38 Q1398.2 1473.97 1392.39 1473.97 Q1386.58 1473.97 1383.5 1469.38 Q1380.45 1464.78 1380.45 1456.05 Q1380.45 1447.3 1383.5 1442.72 Q1386.58 1438.11 1392.39 1438.11 Z\" fill=\"#000000\" fill-rule=\"nonzero\" fill-opacity=\"1\" /><path clip-path=\"url(#clip310)\" d=\"M1752.33 1454.4 L1770.68 1454.4 L1770.68 1458.33 L1756.61 1458.33 L1756.61 1466.8 Q1757.63 1466.46 1758.65 1466.29 Q1759.66 1466.11 1760.68 1466.11 Q1766.47 1466.11 1769.85 1469.28 Q1773.23 1472.45 1773.23 1477.87 Q1773.23 1483.45 1769.76 1486.55 Q1766.28 1489.63 1759.96 1489.63 Q1757.79 1489.63 1755.52 1489.26 Q1753.28 1488.89 1750.87 1488.15 L1750.87 1483.45 Q1752.95 1484.58 1755.17 1485.14 Q1757.4 1485.69 1759.87 1485.69 Q1763.88 1485.69 1766.21 1483.59 Q1768.55 1481.48 1768.55 1477.87 Q1768.55 1474.26 1766.21 1472.15 Q1763.88 1470.04 1759.87 1470.04 Q1758 1470.04 1756.12 1470.46 Q1754.27 1470.88 1752.33 1471.76 L1752.33 1454.4 Z\" fill=\"#000000\" fill-rule=\"nonzero\" fill-opacity=\"1\" /><path clip-path=\"url(#clip310)\" d=\"M1782.44 1483.08 L1787.33 1483.08 L1787.33 1488.96 L1782.44 1488.96 L1782.44 1483.08 Z\" fill=\"#000000\" fill-rule=\"nonzero\" fill-opacity=\"1\" /><path clip-path=\"url(#clip310)\" d=\"M1807.51 1457.48 Q1803.9 1457.48 1802.07 1461.04 Q1800.27 1464.58 1800.27 1471.71 Q1800.27 1478.82 1802.07 1482.38 Q1803.9 1485.92 1807.51 1485.92 Q1811.15 1485.92 1812.95 1482.38 Q1814.78 1478.82 1814.78 1471.71 Q1814.78 1464.58 1812.95 1461.04 Q1811.15 1457.48 1807.51 1457.48 M1807.51 1453.77 Q1813.32 1453.77 1816.38 1458.38 Q1819.46 1462.96 1819.46 1471.71 Q1819.46 1480.44 1816.38 1485.04 Q1813.32 1489.63 1807.51 1489.63 Q1801.7 1489.63 1798.62 1485.04 Q1795.57 1480.44 1795.57 1471.71 Q1795.57 1462.96 1798.62 1458.38 Q1801.7 1453.77 1807.51 1453.77 Z\" fill=\"#000000\" fill-rule=\"nonzero\" fill-opacity=\"1\" /><path clip-path=\"url(#clip310)\" d=\"M1855.84 1463.49 L1845.27 1474.12 L1855.84 1484.7 L1853.09 1487.5 L1842.46 1476.87 L1831.84 1487.5 L1829.11 1484.7 L1839.66 1474.12 L1829.11 1463.49 L1831.84 1460.69 L1842.46 1471.32 L1853.09 1460.69 L1855.84 1463.49 Z\" fill=\"#000000\" fill-rule=\"nonzero\" fill-opacity=\"1\" /><path clip-path=\"url(#clip310)\" d=\"M1868.21 1485.02 L1875.84 1485.02 L1875.84 1458.66 L1867.53 1460.32 L1867.53 1456.06 L1875.8 1454.4 L1880.47 1454.4 L1880.47 1485.02 L1888.11 1485.02 L1888.11 1488.96 L1868.21 1488.96 L1868.21 1485.02 Z\" fill=\"#000000\" fill-rule=\"nonzero\" fill-opacity=\"1\" /><path clip-path=\"url(#clip310)\" d=\"M1907.56 1457.48 Q1903.95 1457.48 1902.12 1461.04 Q1900.31 1464.58 1900.31 1471.71 Q1900.31 1478.82 1902.12 1482.38 Q1903.95 1485.92 1907.56 1485.92 Q1911.19 1485.92 1913 1482.38 Q1914.83 1478.82 1914.83 1471.71 Q1914.83 1464.58 1913 1461.04 Q1911.19 1457.48 1907.56 1457.48 M1907.56 1453.77 Q1913.37 1453.77 1916.42 1458.38 Q1919.5 1462.96 1919.5 1471.71 Q1919.5 1480.44 1916.42 1485.04 Q1913.37 1489.63 1907.56 1489.63 Q1901.75 1489.63 1898.67 1485.04 Q1895.61 1480.44 1895.61 1471.71 Q1895.61 1462.96 1898.67 1458.38 Q1901.75 1453.77 1907.56 1453.77 Z\" fill=\"#000000\" fill-rule=\"nonzero\" fill-opacity=\"1\" /><path clip-path=\"url(#clip310)\" d=\"M1919.5 1447.87 L1943.61 1447.87 L1943.61 1451.07 L1919.5 1451.07 L1919.5 1447.87 Z\" fill=\"#000000\" fill-rule=\"nonzero\" fill-opacity=\"1\" /><path clip-path=\"url(#clip310)\" d=\"M1952.47 1458.35 L1958.68 1458.35 L1958.68 1436.93 L1951.93 1438.28 L1951.93 1434.82 L1958.64 1433.47 L1962.44 1433.47 L1962.44 1458.35 L1968.65 1458.35 L1968.65 1461.55 L1952.47 1461.55 L1952.47 1458.35 Z\" fill=\"#000000\" fill-rule=\"nonzero\" fill-opacity=\"1\" /><path clip-path=\"url(#clip310)\" d=\"M1984.91 1445.99 Q1982.36 1445.99 1980.85 1447.74 Q1979.37 1449.49 1979.37 1452.54 Q1979.37 1455.57 1980.85 1457.33 Q1982.36 1459.08 1984.91 1459.08 Q1987.47 1459.08 1988.96 1457.33 Q1990.46 1455.57 1990.46 1452.54 Q1990.46 1449.49 1988.96 1447.74 Q1987.47 1445.99 1984.91 1445.99 M1992.46 1434.09 L1992.46 1437.55 Q1991.03 1436.87 1989.56 1436.51 Q1988.11 1436.16 1986.68 1436.16 Q1982.92 1436.16 1980.93 1438.69 Q1978.95 1441.23 1978.67 1446.37 Q1979.78 1444.73 1981.45 1443.87 Q1983.13 1442.98 1985.14 1442.98 Q1989.37 1442.98 1991.82 1445.56 Q1994.28 1448.12 1994.28 1452.54 Q1994.28 1456.86 1991.72 1459.48 Q1989.17 1462.09 1984.91 1462.09 Q1980.04 1462.09 1977.47 1458.37 Q1974.89 1454.62 1974.89 1447.53 Q1974.89 1440.88 1978.05 1436.93 Q1981.21 1432.96 1986.53 1432.96 Q1987.96 1432.96 1989.41 1433.24 Q1990.88 1433.52 1992.46 1434.09 Z\" fill=\"#000000\" fill-rule=\"nonzero\" fill-opacity=\"1\" /><path clip-path=\"url(#clip310)\" d=\"M2232.97 1485.02 L2240.61 1485.02 L2240.61 1458.66 L2232.3 1460.32 L2232.3 1456.06 L2240.56 1454.4 L2245.23 1454.4 L2245.23 1485.02 L2252.87 1485.02 L2252.87 1488.96 L2232.97 1488.96 L2232.97 1485.02 Z\" fill=\"#000000\" fill-rule=\"nonzero\" fill-opacity=\"1\" /><path clip-path=\"url(#clip310)\" d=\"M2262.32 1483.08 L2267.2 1483.08 L2267.2 1488.96 L2262.32 1488.96 L2262.32 1483.08 Z\" fill=\"#000000\" fill-rule=\"nonzero\" fill-opacity=\"1\" /><path clip-path=\"url(#clip310)\" d=\"M2287.39 1457.48 Q2283.78 1457.48 2281.95 1461.04 Q2280.14 1464.58 2280.14 1471.71 Q2280.14 1478.82 2281.95 1482.38 Q2283.78 1485.92 2287.39 1485.92 Q2291.02 1485.92 2292.83 1482.38 Q2294.66 1478.82 2294.66 1471.71 Q2294.66 1464.58 2292.83 1461.04 Q2291.02 1457.48 2287.39 1457.48 M2287.39 1453.77 Q2293.2 1453.77 2296.25 1458.38 Q2299.33 1462.96 2299.33 1471.71 Q2299.33 1480.44 2296.25 1485.04 Q2293.2 1489.63 2287.39 1489.63 Q2281.58 1489.63 2278.5 1485.04 Q2275.44 1480.44 2275.44 1471.71 Q2275.44 1462.96 2278.5 1458.38 Q2281.58 1453.77 2287.39 1453.77 Z\" fill=\"#000000\" fill-rule=\"nonzero\" fill-opacity=\"1\" /><path clip-path=\"url(#clip310)\" d=\"M2335.72 1463.49 L2325.14 1474.12 L2335.72 1484.7 L2332.97 1487.5 L2322.34 1476.87 L2311.72 1487.5 L2308.98 1484.7 L2319.54 1474.12 L2308.98 1463.49 L2311.72 1460.69 L2322.34 1471.32 L2332.97 1460.69 L2335.72 1463.49 Z\" fill=\"#000000\" fill-rule=\"nonzero\" fill-opacity=\"1\" /><path clip-path=\"url(#clip310)\" d=\"M2348.08 1485.02 L2355.72 1485.02 L2355.72 1458.66 L2347.41 1460.32 L2347.41 1456.06 L2355.67 1454.4 L2360.35 1454.4 L2360.35 1485.02 L2367.99 1485.02 L2367.99 1488.96 L2348.08 1488.96 L2348.08 1485.02 Z\" fill=\"#000000\" fill-rule=\"nonzero\" fill-opacity=\"1\" /><path clip-path=\"url(#clip310)\" d=\"M2387.43 1457.48 Q2383.82 1457.48 2381.99 1461.04 Q2380.19 1464.58 2380.19 1471.71 Q2380.19 1478.82 2381.99 1482.38 Q2383.82 1485.92 2387.43 1485.92 Q2391.07 1485.92 2392.87 1482.38 Q2394.7 1478.82 2394.7 1471.71 Q2394.7 1464.58 2392.87 1461.04 Q2391.07 1457.48 2387.43 1457.48 M2387.43 1453.77 Q2393.24 1453.77 2396.3 1458.38 Q2399.38 1462.96 2399.38 1471.71 Q2399.38 1480.44 2396.3 1485.04 Q2393.24 1489.63 2387.43 1489.63 Q2381.62 1489.63 2378.54 1485.04 Q2375.49 1480.44 2375.49 1471.71 Q2375.49 1462.96 2378.54 1458.38 Q2381.62 1453.77 2387.43 1453.77 Z\" fill=\"#000000\" fill-rule=\"nonzero\" fill-opacity=\"1\" /><path clip-path=\"url(#clip310)\" d=\"M2399.38 1447.87 L2423.49 1447.87 L2423.49 1451.07 L2399.38 1451.07 L2399.38 1447.87 Z\" fill=\"#000000\" fill-rule=\"nonzero\" fill-opacity=\"1\" /><path clip-path=\"url(#clip310)\" d=\"M2432.35 1458.35 L2438.55 1458.35 L2438.55 1436.93 L2431.8 1438.28 L2431.8 1434.82 L2438.52 1433.47 L2442.32 1433.47 L2442.32 1458.35 L2448.52 1458.35 L2448.52 1461.55 L2432.35 1461.55 L2432.35 1458.35 Z\" fill=\"#000000\" fill-rule=\"nonzero\" fill-opacity=\"1\" /><path clip-path=\"url(#clip310)\" d=\"M2456.23 1433.47 L2471.15 1433.47 L2471.15 1436.66 L2459.71 1436.66 L2459.71 1443.55 Q2460.54 1443.27 2461.37 1443.13 Q2462.2 1442.98 2463.02 1442.98 Q2467.72 1442.98 2470.47 1445.56 Q2473.22 1448.14 2473.22 1452.54 Q2473.22 1457.07 2470.4 1459.59 Q2467.57 1462.09 2462.44 1462.09 Q2460.67 1462.09 2458.83 1461.79 Q2457 1461.49 2455.05 1460.89 L2455.05 1457.07 Q2456.74 1457.99 2458.55 1458.44 Q2460.35 1458.89 2462.36 1458.89 Q2465.62 1458.89 2467.52 1457.18 Q2469.42 1455.47 2469.42 1452.54 Q2469.42 1449.6 2467.52 1447.89 Q2465.62 1446.18 2462.36 1446.18 Q2460.84 1446.18 2459.32 1446.52 Q2457.81 1446.86 2456.23 1447.57 L2456.23 1433.47 Z\" fill=\"#000000\" fill-rule=\"nonzero\" fill-opacity=\"1\" /><path clip-path=\"url(#clip310)\" d=\"M1409.01 1538.54 L1396.12 1555.88 L1409.68 1574.19 L1402.77 1574.19 L1392.39 1560.18 L1382.02 1574.19 L1375.11 1574.19 L1388.96 1555.53 L1376.29 1538.54 L1383.19 1538.54 L1392.65 1551.24 L1402.1 1538.54 L1409.01 1538.54 Z\" fill=\"#000000\" fill-rule=\"nonzero\" fill-opacity=\"1\" /><polyline clip-path=\"url(#clip310)\" style=\"stroke:#000000; stroke-linecap:round; stroke-linejoin:round; stroke-width:4; stroke-opacity:1; fill:none\" points=\"432.029,1410.9 432.029,47.2441 \"/>\n",
       "<polyline clip-path=\"url(#clip310)\" style=\"stroke:#000000; stroke-linecap:round; stroke-linejoin:round; stroke-width:4; stroke-opacity:1; fill:none\" points=\"432.029,1372.3 450.927,1372.3 \"/>\n",
       "<polyline clip-path=\"url(#clip310)\" style=\"stroke:#000000; stroke-linecap:round; stroke-linejoin:round; stroke-width:4; stroke-opacity:1; fill:none\" points=\"432.029,1067.49 450.927,1067.49 \"/>\n",
       "<polyline clip-path=\"url(#clip310)\" style=\"stroke:#000000; stroke-linecap:round; stroke-linejoin:round; stroke-width:4; stroke-opacity:1; fill:none\" points=\"432.029,762.668 450.927,762.668 \"/>\n",
       "<polyline clip-path=\"url(#clip310)\" style=\"stroke:#000000; stroke-linecap:round; stroke-linejoin:round; stroke-width:4; stroke-opacity:1; fill:none\" points=\"432.029,457.851 450.927,457.851 \"/>\n",
       "<polyline clip-path=\"url(#clip310)\" style=\"stroke:#000000; stroke-linecap:round; stroke-linejoin:round; stroke-width:4; stroke-opacity:1; fill:none\" points=\"432.029,153.034 450.927,153.034 \"/>\n",
       "<path clip-path=\"url(#clip310)\" d=\"M115.201 1379.2 L144.876 1379.2 L144.876 1383.14 L115.201 1383.14 L115.201 1379.2 Z\" fill=\"#000000\" fill-rule=\"nonzero\" fill-opacity=\"1\" /><path clip-path=\"url(#clip310)\" d=\"M155.779 1392.1 L163.418 1392.1 L163.418 1365.73 L155.108 1367.4 L155.108 1363.14 L163.372 1361.47 L168.047 1361.47 L168.047 1392.1 L175.686 1392.1 L175.686 1396.03 L155.779 1396.03 L155.779 1392.1 Z\" fill=\"#000000\" fill-rule=\"nonzero\" fill-opacity=\"1\" /><path clip-path=\"url(#clip310)\" d=\"M185.131 1390.15 L190.015 1390.15 L190.015 1396.03 L185.131 1396.03 L185.131 1390.15 Z\" fill=\"#000000\" fill-rule=\"nonzero\" fill-opacity=\"1\" /><path clip-path=\"url(#clip310)\" d=\"M210.2 1364.55 Q206.589 1364.55 204.76 1368.11 Q202.955 1371.66 202.955 1378.79 Q202.955 1385.89 204.76 1389.46 Q206.589 1393 210.2 1393 Q213.834 1393 215.64 1389.46 Q217.469 1385.89 217.469 1378.79 Q217.469 1371.66 215.64 1368.11 Q213.834 1364.55 210.2 1364.55 M210.2 1360.85 Q216.01 1360.85 219.066 1365.45 Q222.144 1370.04 222.144 1378.79 Q222.144 1387.51 219.066 1392.12 Q216.01 1396.7 210.2 1396.7 Q204.39 1396.7 201.311 1392.12 Q198.256 1387.51 198.256 1378.79 Q198.256 1370.04 201.311 1365.45 Q204.39 1360.85 210.2 1360.85 Z\" fill=\"#000000\" fill-rule=\"nonzero\" fill-opacity=\"1\" /><path clip-path=\"url(#clip310)\" d=\"M258.533 1370.57 L247.954 1381.19 L258.533 1391.77 L255.778 1394.57 L245.154 1383.95 L234.529 1394.57 L231.797 1391.77 L242.353 1381.19 L231.797 1370.57 L234.529 1367.77 L245.154 1378.39 L255.778 1367.77 L258.533 1370.57 Z\" fill=\"#000000\" fill-rule=\"nonzero\" fill-opacity=\"1\" /><path clip-path=\"url(#clip310)\" d=\"M270.894 1392.1 L278.533 1392.1 L278.533 1365.73 L270.223 1367.4 L270.223 1363.14 L278.487 1361.47 L283.163 1361.47 L283.163 1392.1 L290.801 1392.1 L290.801 1396.03 L270.894 1396.03 L270.894 1392.1 Z\" fill=\"#000000\" fill-rule=\"nonzero\" fill-opacity=\"1\" /><path clip-path=\"url(#clip310)\" d=\"M310.246 1364.55 Q306.635 1364.55 304.806 1368.11 Q303 1371.66 303 1378.79 Q303 1385.89 304.806 1389.46 Q306.635 1393 310.246 1393 Q313.88 1393 315.686 1389.46 Q317.514 1385.89 317.514 1378.79 Q317.514 1371.66 315.686 1368.11 Q313.88 1364.55 310.246 1364.55 M310.246 1360.85 Q316.056 1360.85 319.111 1365.45 Q322.19 1370.04 322.19 1378.79 Q322.19 1387.51 319.111 1392.12 Q316.056 1396.7 310.246 1396.7 Q304.436 1396.7 301.357 1392.12 Q298.301 1387.51 298.301 1378.79 Q298.301 1370.04 301.357 1365.45 Q304.436 1360.85 310.246 1360.85 Z\" fill=\"#000000\" fill-rule=\"nonzero\" fill-opacity=\"1\" /><path clip-path=\"url(#clip310)\" d=\"M322.19 1354.95 L346.302 1354.95 L346.302 1358.14 L322.19 1358.14 L322.19 1354.95 Z\" fill=\"#000000\" fill-rule=\"nonzero\" fill-opacity=\"1\" /><path clip-path=\"url(#clip310)\" d=\"M355.16 1365.42 L361.367 1365.42 L361.367 1344 L354.615 1345.35 L354.615 1341.89 L361.329 1340.54 L365.128 1340.54 L365.128 1365.42 L371.335 1365.42 L371.335 1368.62 L355.16 1368.62 L355.16 1365.42 Z\" fill=\"#000000\" fill-rule=\"nonzero\" fill-opacity=\"1\" /><path clip-path=\"url(#clip310)\" d=\"M379.046 1340.54 L393.961 1340.54 L393.961 1343.74 L382.526 1343.74 L382.526 1350.62 Q383.353 1350.34 384.181 1350.21 Q385.008 1350.06 385.836 1350.06 Q390.538 1350.06 393.284 1352.63 Q396.029 1355.21 396.029 1359.61 Q396.029 1364.14 393.208 1366.66 Q390.387 1369.17 385.253 1369.17 Q383.485 1369.17 381.642 1368.86 Q379.817 1368.56 377.861 1367.96 L377.861 1364.14 Q379.554 1365.07 381.359 1365.52 Q383.165 1365.97 385.177 1365.97 Q388.431 1365.97 390.331 1364.26 Q392.23 1362.54 392.23 1359.61 Q392.23 1356.68 390.331 1354.97 Q388.431 1353.25 385.177 1353.25 Q383.654 1353.25 382.131 1353.59 Q380.626 1353.93 379.046 1354.65 L379.046 1340.54 Z\" fill=\"#000000\" fill-rule=\"nonzero\" fill-opacity=\"1\" /><path clip-path=\"url(#clip310)\" d=\"M114.26 1074.38 L143.936 1074.38 L143.936 1078.32 L114.26 1078.32 L114.26 1074.38 Z\" fill=\"#000000\" fill-rule=\"nonzero\" fill-opacity=\"1\" /><path clip-path=\"url(#clip310)\" d=\"M154.075 1056.65 L172.431 1056.65 L172.431 1060.59 L158.357 1060.59 L158.357 1069.06 Q159.376 1068.71 160.394 1068.55 Q161.413 1068.37 162.431 1068.37 Q168.218 1068.37 171.598 1071.54 Q174.977 1074.71 174.977 1080.13 Q174.977 1085.7 171.505 1088.81 Q168.033 1091.88 161.714 1091.88 Q159.538 1091.88 157.269 1091.51 Q155.024 1091.14 152.616 1090.4 L152.616 1085.7 Q154.7 1086.84 156.922 1087.39 Q159.144 1087.95 161.621 1087.95 Q165.626 1087.95 167.964 1085.84 Q170.302 1083.74 170.302 1080.13 Q170.302 1076.51 167.964 1074.41 Q165.626 1072.3 161.621 1072.3 Q159.746 1072.3 157.871 1072.72 Q156.019 1073.13 154.075 1074.01 L154.075 1056.65 Z\" fill=\"#000000\" fill-rule=\"nonzero\" fill-opacity=\"1\" /><path clip-path=\"url(#clip310)\" d=\"M184.19 1085.33 L189.075 1085.33 L189.075 1091.21 L184.19 1091.21 L184.19 1085.33 Z\" fill=\"#000000\" fill-rule=\"nonzero\" fill-opacity=\"1\" /><path clip-path=\"url(#clip310)\" d=\"M209.26 1059.73 Q205.649 1059.73 203.82 1063.3 Q202.014 1066.84 202.014 1073.97 Q202.014 1081.07 203.82 1084.64 Q205.649 1088.18 209.26 1088.18 Q212.894 1088.18 214.699 1084.64 Q216.528 1081.07 216.528 1073.97 Q216.528 1066.84 214.699 1063.3 Q212.894 1059.73 209.26 1059.73 M209.26 1056.03 Q215.07 1056.03 218.125 1060.63 Q221.204 1065.22 221.204 1073.97 Q221.204 1082.69 218.125 1087.3 Q215.07 1091.88 209.26 1091.88 Q203.449 1091.88 200.371 1087.3 Q197.315 1082.69 197.315 1073.97 Q197.315 1065.22 200.371 1060.63 Q203.449 1056.03 209.26 1056.03 Z\" fill=\"#000000\" fill-rule=\"nonzero\" fill-opacity=\"1\" /><path clip-path=\"url(#clip310)\" d=\"M257.593 1065.75 L247.014 1076.38 L257.593 1086.95 L254.838 1089.75 L244.213 1079.13 L233.588 1089.75 L230.857 1086.95 L241.412 1076.38 L230.857 1065.75 L233.588 1062.95 L244.213 1073.57 L254.838 1062.95 L257.593 1065.75 Z\" fill=\"#000000\" fill-rule=\"nonzero\" fill-opacity=\"1\" /><path clip-path=\"url(#clip310)\" d=\"M269.954 1087.28 L277.593 1087.28 L277.593 1060.91 L269.282 1062.58 L269.282 1058.32 L277.546 1056.65 L282.222 1056.65 L282.222 1087.28 L289.861 1087.28 L289.861 1091.21 L269.954 1091.21 L269.954 1087.28 Z\" fill=\"#000000\" fill-rule=\"nonzero\" fill-opacity=\"1\" /><path clip-path=\"url(#clip310)\" d=\"M309.305 1059.73 Q305.694 1059.73 303.866 1063.3 Q302.06 1066.84 302.06 1073.97 Q302.06 1081.07 303.866 1084.64 Q305.694 1088.18 309.305 1088.18 Q312.94 1088.18 314.745 1084.64 Q316.574 1081.07 316.574 1073.97 Q316.574 1066.84 314.745 1063.3 Q312.94 1059.73 309.305 1059.73 M309.305 1056.03 Q315.116 1056.03 318.171 1060.63 Q321.25 1065.22 321.25 1073.97 Q321.25 1082.69 318.171 1087.3 Q315.116 1091.88 309.305 1091.88 Q303.495 1091.88 300.417 1087.3 Q297.361 1082.69 297.361 1073.97 Q297.361 1065.22 300.417 1060.63 Q303.495 1056.03 309.305 1056.03 Z\" fill=\"#000000\" fill-rule=\"nonzero\" fill-opacity=\"1\" /><path clip-path=\"url(#clip310)\" d=\"M321.25 1050.13 L345.361 1050.13 L345.361 1053.33 L321.25 1053.33 L321.25 1050.13 Z\" fill=\"#000000\" fill-rule=\"nonzero\" fill-opacity=\"1\" /><path clip-path=\"url(#clip310)\" d=\"M354.22 1060.61 L360.426 1060.61 L360.426 1039.18 L353.674 1040.54 L353.674 1037.08 L360.389 1035.72 L364.188 1035.72 L364.188 1060.61 L370.394 1060.61 L370.394 1063.8 L354.22 1063.8 L354.22 1060.61 Z\" fill=\"#000000\" fill-rule=\"nonzero\" fill-opacity=\"1\" /><path clip-path=\"url(#clip310)\" d=\"M386.663 1048.25 Q384.105 1048.25 382.601 1050 Q381.115 1051.75 381.115 1054.79 Q381.115 1057.82 382.601 1059.59 Q384.105 1061.34 386.663 1061.34 Q389.221 1061.34 390.707 1059.59 Q392.212 1057.82 392.212 1054.79 Q392.212 1051.75 390.707 1050 Q389.221 1048.25 386.663 1048.25 M394.205 1036.34 L394.205 1039.8 Q392.776 1039.13 391.309 1038.77 Q389.861 1038.41 388.431 1038.41 Q384.67 1038.41 382.676 1040.95 Q380.701 1043.49 380.419 1048.62 Q381.529 1046.99 383.203 1046.12 Q384.876 1045.24 386.889 1045.24 Q391.121 1045.24 393.566 1047.82 Q396.029 1050.37 396.029 1054.79 Q396.029 1059.12 393.472 1061.73 Q390.914 1064.35 386.663 1064.35 Q381.792 1064.35 379.215 1060.62 Q376.639 1056.88 376.639 1049.79 Q376.639 1043.13 379.798 1039.18 Q382.958 1035.21 388.281 1035.21 Q389.71 1035.21 391.158 1035.5 Q392.625 1035.78 394.205 1036.34 Z\" fill=\"#000000\" fill-rule=\"nonzero\" fill-opacity=\"1\" /><path clip-path=\"url(#clip310)\" d=\"M384.085 748.467 Q380.474 748.467 378.645 752.032 Q376.84 755.573 376.84 762.703 Q376.84 769.809 378.645 773.374 Q380.474 776.916 384.085 776.916 Q387.719 776.916 389.525 773.374 Q391.354 769.809 391.354 762.703 Q391.354 755.573 389.525 752.032 Q387.719 748.467 384.085 748.467 M384.085 744.763 Q389.895 744.763 392.951 749.37 Q396.029 753.953 396.029 762.703 Q396.029 771.43 392.951 776.036 Q389.895 780.62 384.085 780.62 Q378.275 780.62 375.196 776.036 Q372.141 771.43 372.141 762.703 Q372.141 753.953 375.196 749.37 Q378.275 744.763 384.085 744.763 Z\" fill=\"#000000\" fill-rule=\"nonzero\" fill-opacity=\"1\" /><path clip-path=\"url(#clip310)\" d=\"M154.075 447.019 L172.431 447.019 L172.431 450.954 L158.357 450.954 L158.357 459.426 Q159.376 459.079 160.394 458.917 Q161.413 458.732 162.431 458.732 Q168.218 458.732 171.598 461.903 Q174.977 465.074 174.977 470.491 Q174.977 476.069 171.505 479.171 Q168.033 482.25 161.714 482.25 Q159.538 482.25 157.269 481.88 Q155.024 481.509 152.616 480.768 L152.616 476.069 Q154.7 477.204 156.922 477.759 Q159.144 478.315 161.621 478.315 Q165.626 478.315 167.964 476.208 Q170.302 474.102 170.302 470.491 Q170.302 466.88 167.964 464.773 Q165.626 462.667 161.621 462.667 Q159.746 462.667 157.871 463.083 Q156.019 463.5 154.075 464.38 L154.075 447.019 Z\" fill=\"#000000\" fill-rule=\"nonzero\" fill-opacity=\"1\" /><path clip-path=\"url(#clip310)\" d=\"M184.19 475.699 L189.075 475.699 L189.075 481.579 L184.19 481.579 L184.19 475.699 Z\" fill=\"#000000\" fill-rule=\"nonzero\" fill-opacity=\"1\" /><path clip-path=\"url(#clip310)\" d=\"M209.26 450.097 Q205.649 450.097 203.82 453.662 Q202.014 457.204 202.014 464.333 Q202.014 471.44 203.82 475.005 Q205.649 478.546 209.26 478.546 Q212.894 478.546 214.699 475.005 Q216.528 471.44 216.528 464.333 Q216.528 457.204 214.699 453.662 Q212.894 450.097 209.26 450.097 M209.26 446.394 Q215.07 446.394 218.125 451 Q221.204 455.583 221.204 464.333 Q221.204 473.06 218.125 477.667 Q215.07 482.25 209.26 482.25 Q203.449 482.25 200.371 477.667 Q197.315 473.06 197.315 464.333 Q197.315 455.583 200.371 451 Q203.449 446.394 209.26 446.394 Z\" fill=\"#000000\" fill-rule=\"nonzero\" fill-opacity=\"1\" /><path clip-path=\"url(#clip310)\" d=\"M257.593 456.116 L247.014 466.741 L257.593 477.319 L254.838 480.12 L244.213 469.495 L233.588 480.12 L230.857 477.319 L241.412 466.741 L230.857 456.116 L233.588 453.315 L244.213 463.94 L254.838 453.315 L257.593 456.116 Z\" fill=\"#000000\" fill-rule=\"nonzero\" fill-opacity=\"1\" /><path clip-path=\"url(#clip310)\" d=\"M269.954 477.643 L277.593 477.643 L277.593 451.278 L269.282 452.945 L269.282 448.685 L277.546 447.019 L282.222 447.019 L282.222 477.643 L289.861 477.643 L289.861 481.579 L269.954 481.579 L269.954 477.643 Z\" fill=\"#000000\" fill-rule=\"nonzero\" fill-opacity=\"1\" /><path clip-path=\"url(#clip310)\" d=\"M309.305 450.097 Q305.694 450.097 303.866 453.662 Q302.06 457.204 302.06 464.333 Q302.06 471.44 303.866 475.005 Q305.694 478.546 309.305 478.546 Q312.94 478.546 314.745 475.005 Q316.574 471.44 316.574 464.333 Q316.574 457.204 314.745 453.662 Q312.94 450.097 309.305 450.097 M309.305 446.394 Q315.116 446.394 318.171 451 Q321.25 455.583 321.25 464.333 Q321.25 473.06 318.171 477.667 Q315.116 482.25 309.305 482.25 Q303.495 482.25 300.417 477.667 Q297.361 473.06 297.361 464.333 Q297.361 455.583 300.417 451 Q303.495 446.394 309.305 446.394 Z\" fill=\"#000000\" fill-rule=\"nonzero\" fill-opacity=\"1\" /><path clip-path=\"url(#clip310)\" d=\"M321.25 440.495 L345.361 440.495 L345.361 443.692 L321.25 443.692 L321.25 440.495 Z\" fill=\"#000000\" fill-rule=\"nonzero\" fill-opacity=\"1\" /><path clip-path=\"url(#clip310)\" d=\"M354.22 450.971 L360.426 450.971 L360.426 429.549 L353.674 430.903 L353.674 427.442 L360.389 426.088 L364.188 426.088 L364.188 450.971 L370.394 450.971 L370.394 454.168 L354.22 454.168 L354.22 450.971 Z\" fill=\"#000000\" fill-rule=\"nonzero\" fill-opacity=\"1\" /><path clip-path=\"url(#clip310)\" d=\"M386.663 438.614 Q384.105 438.614 382.601 440.363 Q381.115 442.112 381.115 445.159 Q381.115 448.187 382.601 449.955 Q384.105 451.704 386.663 451.704 Q389.221 451.704 390.707 449.955 Q392.212 448.187 392.212 445.159 Q392.212 442.112 390.707 440.363 Q389.221 438.614 386.663 438.614 M394.205 426.709 L394.205 430.17 Q392.776 429.492 391.309 429.135 Q389.861 428.778 388.431 428.778 Q384.67 428.778 382.676 431.317 Q380.701 433.856 380.419 438.99 Q381.529 437.354 383.203 436.489 Q384.876 435.605 386.889 435.605 Q391.121 435.605 393.566 438.182 Q396.029 440.739 396.029 445.159 Q396.029 449.485 393.472 452.099 Q390.914 454.714 386.663 454.714 Q381.792 454.714 379.215 450.99 Q376.639 447.247 376.639 440.156 Q376.639 433.498 379.798 429.549 Q382.958 425.58 388.281 425.58 Q389.71 425.58 391.158 425.863 Q392.625 426.145 394.205 426.709 Z\" fill=\"#000000\" fill-rule=\"nonzero\" fill-opacity=\"1\" /><path clip-path=\"url(#clip310)\" d=\"M155.779 172.826 L163.418 172.826 L163.418 146.461 L155.108 148.127 L155.108 143.868 L163.372 142.201 L168.047 142.201 L168.047 172.826 L175.686 172.826 L175.686 176.761 L155.779 176.761 L155.779 172.826 Z\" fill=\"#000000\" fill-rule=\"nonzero\" fill-opacity=\"1\" /><path clip-path=\"url(#clip310)\" d=\"M185.131 170.882 L190.015 170.882 L190.015 176.761 L185.131 176.761 L185.131 170.882 Z\" fill=\"#000000\" fill-rule=\"nonzero\" fill-opacity=\"1\" /><path clip-path=\"url(#clip310)\" d=\"M210.2 145.28 Q206.589 145.28 204.76 148.845 Q202.955 152.387 202.955 159.516 Q202.955 166.623 204.76 170.187 Q206.589 173.729 210.2 173.729 Q213.834 173.729 215.64 170.187 Q217.469 166.623 217.469 159.516 Q217.469 152.387 215.64 148.845 Q213.834 145.28 210.2 145.28 M210.2 141.576 Q216.01 141.576 219.066 146.183 Q222.144 150.766 222.144 159.516 Q222.144 168.243 219.066 172.849 Q216.01 177.433 210.2 177.433 Q204.39 177.433 201.311 172.849 Q198.256 168.243 198.256 159.516 Q198.256 150.766 201.311 146.183 Q204.39 141.576 210.2 141.576 Z\" fill=\"#000000\" fill-rule=\"nonzero\" fill-opacity=\"1\" /><path clip-path=\"url(#clip310)\" d=\"M258.533 151.299 L247.954 161.924 L258.533 172.502 L255.778 175.303 L245.154 164.678 L234.529 175.303 L231.797 172.502 L242.353 161.924 L231.797 151.299 L234.529 148.498 L245.154 159.123 L255.778 148.498 L258.533 151.299 Z\" fill=\"#000000\" fill-rule=\"nonzero\" fill-opacity=\"1\" /><path clip-path=\"url(#clip310)\" d=\"M270.894 172.826 L278.533 172.826 L278.533 146.461 L270.223 148.127 L270.223 143.868 L278.487 142.201 L283.163 142.201 L283.163 172.826 L290.801 172.826 L290.801 176.761 L270.894 176.761 L270.894 172.826 Z\" fill=\"#000000\" fill-rule=\"nonzero\" fill-opacity=\"1\" /><path clip-path=\"url(#clip310)\" d=\"M310.246 145.28 Q306.635 145.28 304.806 148.845 Q303 152.387 303 159.516 Q303 166.623 304.806 170.187 Q306.635 173.729 310.246 173.729 Q313.88 173.729 315.686 170.187 Q317.514 166.623 317.514 159.516 Q317.514 152.387 315.686 148.845 Q313.88 145.28 310.246 145.28 M310.246 141.576 Q316.056 141.576 319.111 146.183 Q322.19 150.766 322.19 159.516 Q322.19 168.243 319.111 172.849 Q316.056 177.433 310.246 177.433 Q304.436 177.433 301.357 172.849 Q298.301 168.243 298.301 159.516 Q298.301 150.766 301.357 146.183 Q304.436 141.576 310.246 141.576 Z\" fill=\"#000000\" fill-rule=\"nonzero\" fill-opacity=\"1\" /><path clip-path=\"url(#clip310)\" d=\"M322.19 135.678 L346.302 135.678 L346.302 138.875 L322.19 138.875 L322.19 135.678 Z\" fill=\"#000000\" fill-rule=\"nonzero\" fill-opacity=\"1\" /><path clip-path=\"url(#clip310)\" d=\"M355.16 146.154 L361.367 146.154 L361.367 124.732 L354.615 126.086 L354.615 122.625 L361.329 121.271 L365.128 121.271 L365.128 146.154 L371.335 146.154 L371.335 149.351 L355.16 149.351 L355.16 146.154 Z\" fill=\"#000000\" fill-rule=\"nonzero\" fill-opacity=\"1\" /><path clip-path=\"url(#clip310)\" d=\"M379.046 121.271 L393.961 121.271 L393.961 124.468 L382.526 124.468 L382.526 131.352 Q383.353 131.07 384.181 130.938 Q385.008 130.788 385.836 130.788 Q390.538 130.788 393.284 133.364 Q396.029 135.941 396.029 140.342 Q396.029 144.875 393.208 147.395 Q390.387 149.896 385.253 149.896 Q383.485 149.896 381.642 149.595 Q379.817 149.295 377.861 148.693 L377.861 144.875 Q379.554 145.796 381.359 146.248 Q383.165 146.699 385.177 146.699 Q388.431 146.699 390.331 144.988 Q392.23 143.276 392.23 140.342 Q392.23 137.408 390.331 135.697 Q388.431 133.985 385.177 133.985 Q383.654 133.985 382.131 134.324 Q380.626 134.662 379.046 135.377 L379.046 121.271 Z\" fill=\"#000000\" fill-rule=\"nonzero\" fill-opacity=\"1\" /><path clip-path=\"url(#clip310)\" d=\"M67.3143 727.383 Q73.68 729.866 75.6216 732.221 Q77.5631 734.577 77.5631 738.523 L77.5631 743.202 L72.6615 743.202 L72.6615 739.765 Q72.6615 737.346 71.5157 736.009 Q70.3699 734.672 66.1048 733.049 L63.4312 731.999 L28.3562 746.417 L28.3562 740.21 L56.238 729.07 L28.3562 717.93 L28.3562 711.724 L67.3143 727.383 Z\" fill=\"#000000\" fill-rule=\"nonzero\" fill-opacity=\"1\" /><polyline clip-path=\"url(#clip312)\" style=\"stroke:#009af9; stroke-linecap:round; stroke-linejoin:round; stroke-width:16; stroke-opacity:1; fill:none\" points=\"432.029,1371.82 436.987,1371.82 441.944,1371.82 446.901,1371.82 451.858,1371.82 459.117,1371.82 466.376,1371.82 470.005,1371.82 473.634,1371.82 477.263,1371.82 480.893,1371.82 481.8,1371.82 482.707,1371.82 483.615,1371.82 484.522,1371.82 485.429,1371.82 486.337,1304.13 487.244,1304.13 488.151,1304.13 489.966,1304.13 491.78,1304.13 493.595,1304.13 495.41,1304.13 502.668,1304.13 509.927,1304.13 524.444,1304.13 538.961,1304.13 553.478,1304.13 567.995,1304.13 574.749,1304.13 581.502,1304.13 584.879,1304.13 588.255,1304.13 589.099,1304.13 589.944,1304.13 590.788,1304.13 591.632,1304.13 592.054,1304.13 592.476,1304.13 592.898,1236.45 593.32,1236.45 593.742,1236.45 594.164,1236.45 594.587,1236.45 595.009,1236.45 596.697,1236.45 598.385,1236.45 600.074,1236.45 601.762,1236.45 605.139,1236.45 608.515,1236.45 615.269,1236.45 622.022,1236.45 640.126,1236.45 658.23,1236.45 667.282,1236.45 676.334,1236.45 680.86,1236.45 685.386,1236.45 689.912,1236.45 694.438,1236.45 695.373,1236.45 696.308,1236.45 697.243,1236.45 698.178,1236.45 698.645,1236.45 699.113,1236.45 699.58,1168.77 700.048,1168.77 700.515,1168.77 700.983,1168.77 701.45,1168.77 701.918,1168.77 703.788,1168.77 705.658,1168.77 707.528,1168.77 709.398,1168.77 716.877,1168.77 724.357,1168.77 739.317,1168.77 754.276,1168.77 768.187,1168.77 782.098,1168.77 789.053,1168.77 796.009,1168.77 797.747,1168.77 799.486,1168.77 801.225,1168.77 802.964,1168.77 803.833,1168.77 804.703,1168.77 805.138,1168.77 805.572,1168.77 806.007,1101.08 806.442,1101.08 806.876,1101.08 807.311,1101.08 807.746,1101.08 808.181,1101.08 809.05,1101.08 809.919,1101.08 812.102,1101.08 814.285,1101.08 816.468,1101.08 818.651,1101.08 823.017,1101.08 827.382,1101.08 836.114,1101.08 844.845,1101.08 862.308,1101.08 879.771,1101.08 887.603,1101.08 895.435,1101.08 899.351,1101.08 903.268,1101.08 905.226,1101.08 907.184,1101.08 909.142,1101.08 911.1,1101.08 911.589,1101.08 912.079,1101.08 912.568,1101.08 913.058,1033.4 913.547,1033.4 914.037,1033.4 914.526,1033.4 915.016,1033.4 916.974,1033.4 918.932,1033.4 922.848,1033.4 926.764,1033.4 934.596,1033.4 942.428,1033.4 960.358,1033.4 978.288,1033.4 987.253,1033.4 996.218,1033.4 1005.18,1033.4 1014.15,1033.4 1015.82,1033.4 1017.5,1033.4 1017.92,1033.4 1018.34,1033.4 1018.76,1033.4 1019.17,1033.4 1019.59,965.717 1020.01,965.717 1020.43,965.717 1020.85,965.717 1021.69,965.717 1022.52,965.717 1023.36,965.717 1024.2,965.717 1025.88,965.717 1027.55,965.717 1034.25,965.717 1040.95,965.717 1054.36,965.717 1067.76,965.717 1084.9,965.717 1102.04,965.717 1106.33,965.717 1110.61,965.717 1114.9,965.717 1119.19,965.717 1121.33,965.717 1123.47,965.717 1124.01,965.717 1124.54,965.717 1125.08,965.717 1125.61,965.717 1126.15,898.034 1126.68,898.034 1127.22,898.034 1127.76,898.034 1128.83,898.034 1129.9,898.034 1130.97,898.034 1132.04,898.034 1134.18,898.034 1136.33,898.034 1151.97,898.034 1167.62,898.034 1183.26,898.034 1198.91,898.034 1207.81,898.034 1216.72,898.034 1221.17,898.034 1225.62,898.034 1227.85,898.034 1230.07,898.034 1230.63,898.034 1231.19,898.034 1231.74,898.034 1232.3,898.034 1232.85,830.351 1233.41,830.351 1233.97,830.351 1234.52,830.351 1235.64,830.351 1236.75,830.351 1237.86,830.351 1238.98,830.351 1241.2,830.351 1243.43,830.351 1247.88,830.351 1252.33,830.351 1261.23,830.351 1270.14,830.351 1298.37,830.351 1326.6,830.351 1328.79,830.351 1330.99,830.351 1333.18,830.351 1335.37,830.351 1336.47,830.351 1337.56,830.351 1338.11,830.351 1338.66,830.351 1339.21,762.668 1339.75,762.668 1340.3,762.668 1340.85,762.668 1341.4,762.668 1341.95,762.668 1343.04,762.668 1344.14,762.668 1348.52,762.668 1352.91,762.668 1357.29,762.668 1361.68,762.668 1379.21,762.668 1396.75,762.668 1423.61,762.668 1450.47,762.668 1459.94,762.668 1469.41,762.668 1478.87,762.668 1488.34,762.668 1490.71,762.668 1493.08,762.668 1494.26,762.668 1495.44,762.668 1496.63,762.668 1497.81,762.668 1498.4,762.668 1498.99,762.668 1499.59,627.302 1500.18,627.302 1500.77,627.302 1501.36,627.302 1501.95,627.302 1502.54,627.302 1504.91,627.302 1507.28,627.302 1512.01,627.302 1516.75,627.302 1521.48,627.302 1526.21,627.302 1554.51,627.302 1582.81,627.302 1615,627.302 1647.18,627.302 1663.12,627.302 1679.05,627.302 1687.02,627.302 1694.99,627.302 1698.97,627.302 1702.96,627.302 1706.94,627.302 1710.92,627.302 1711.47,627.302 1712.02,627.302 1712.57,491.936 1713.12,491.936 1713.66,491.936 1714.21,491.936 1714.76,491.936 1715.31,491.936 1717.5,491.936 1719.69,491.936 1724.07,491.936 1728.46,491.936 1737.22,491.936 1745.99,491.936 1763.52,491.936 1781.06,491.936 1807.84,491.936 1834.62,491.936 1868.42,491.936 1902.22,491.936 1906.13,491.936 1910.04,491.936 1913.95,491.936 1917.85,491.936 1919.81,491.936 1921.76,491.936 1922.74,491.936 1923.71,491.936 1924.2,491.936 1924.69,491.936 1925.18,491.936 1925.67,356.57 1926.16,356.57 1926.65,356.57 1927.13,356.57 1927.62,356.57 1928.6,356.57 1929.58,356.57 1931.53,356.57 1933.48,356.57 1941.3,356.57 1949.11,356.57 1956.93,356.57 1964.74,356.57 2029.22,356.57 2094.58,356.57 2103.11,356.57 2111.64,356.57 2120.17,356.57 2128.71,356.57 2130.84,356.57 2132.97,356.57 2134.04,356.57 2135.1,356.57 2136.17,356.57 2137.24,356.57 2137.77,356.57 2138.3,356.57 2138.84,221.204 2139.37,221.204 2139.9,221.204 2140.44,221.204 2140.97,221.204 2141.5,221.204 2143.63,221.204 2145.77,221.204 2150.03,221.204 2154.3,221.204 2158.56,221.204 2162.83,221.204 2189.71,221.204 2216.59,221.204 2277.8,221.204 2339.02,221.204 2345.89,221.204 2352.76,85.838 \"/>\n",
       "<polyline clip-path=\"url(#clip312)\" style=\"stroke:#e26f46; stroke-linecap:round; stroke-linejoin:round; stroke-width:16; stroke-opacity:1; fill:none\" points=\"432.029,1372.3 451.858,1359.72 567.995,1285.99 622.022,1251.7 694.438,1205.73 754.276,1167.74 809.919,1132.42 879.771,1088.08 942.428,1048.3 1014.15,1002.78 1067.76,968.745 1136.33,925.218 1198.91,885.49 1270.14,840.275 1326.6,804.433 1396.75,759.903 1450.47,725.8 1526.21,677.72 1582.81,641.791 1647.18,600.931 1710.92,560.466 1781.06,515.947 1834.62,481.942 1902.22,439.03 1964.74,399.342 2029.22,358.41 2094.58,316.921 2162.83,273.599 2216.59,239.472 2339.02,161.753 2352.76,153.034 \"/>\n",
       "<path clip-path=\"url(#clip310)\" d=\"M496.054 248.219 L740.557 248.219 L740.557 92.6992 L496.054 92.6992  Z\" fill=\"#ffffff\" fill-rule=\"evenodd\" fill-opacity=\"1\"/>\n",
       "<polyline clip-path=\"url(#clip310)\" style=\"stroke:#000000; stroke-linecap:round; stroke-linejoin:round; stroke-width:4; stroke-opacity:1; fill:none\" points=\"496.054,248.219 740.557,248.219 740.557,92.6992 496.054,92.6992 496.054,248.219 \"/>\n",
       "<polyline clip-path=\"url(#clip310)\" style=\"stroke:#009af9; stroke-linecap:round; stroke-linejoin:round; stroke-width:16; stroke-opacity:1; fill:none\" points=\"517.395,144.539 645.444,144.539 \"/>\n",
       "<path clip-path=\"url(#clip310)\" d=\"M680.627 164.227 Q678.822 168.856 677.109 170.268 Q675.396 171.68 672.526 171.68 L669.123 171.68 L669.123 168.115 L671.623 168.115 Q673.382 168.115 674.354 167.282 Q675.327 166.449 676.507 163.347 L677.271 161.403 L666.785 135.893 L671.299 135.893 L679.401 156.171 L687.502 135.893 L692.016 135.893 L680.627 164.227 Z\" fill=\"#000000\" fill-rule=\"nonzero\" fill-opacity=\"1\" /><path clip-path=\"url(#clip310)\" d=\"M699.308 157.884 L706.947 157.884 L706.947 131.518 L698.637 133.185 L698.637 128.926 L706.9 127.259 L711.576 127.259 L711.576 157.884 L719.215 157.884 L719.215 161.819 L699.308 161.819 L699.308 157.884 Z\" fill=\"#000000\" fill-rule=\"nonzero\" fill-opacity=\"1\" /><polyline clip-path=\"url(#clip310)\" style=\"stroke:#e26f46; stroke-linecap:round; stroke-linejoin:round; stroke-width:16; stroke-opacity:1; fill:none\" points=\"517.395,196.379 645.444,196.379 \"/>\n",
       "<path clip-path=\"url(#clip310)\" d=\"M680.627 216.067 Q678.822 220.696 677.109 222.108 Q675.396 223.52 672.526 223.52 L669.123 223.52 L669.123 219.955 L671.623 219.955 Q673.382 219.955 674.354 219.122 Q675.327 218.289 676.507 215.187 L677.271 213.243 L666.785 187.733 L671.299 187.733 L679.401 208.011 L687.502 187.733 L692.016 187.733 L680.627 216.067 Z\" fill=\"#000000\" fill-rule=\"nonzero\" fill-opacity=\"1\" /><path clip-path=\"url(#clip310)\" d=\"M702.525 209.724 L718.845 209.724 L718.845 213.659 L696.901 213.659 L696.901 209.724 Q699.563 206.969 704.146 202.34 Q708.752 197.687 709.933 196.344 Q712.178 193.821 713.058 192.085 Q713.961 190.326 713.961 188.636 Q713.961 185.882 712.016 184.145 Q710.095 182.409 706.993 182.409 Q704.794 182.409 702.34 183.173 Q699.91 183.937 697.132 185.488 L697.132 180.766 Q699.956 179.632 702.41 179.053 Q704.863 178.474 706.9 178.474 Q712.271 178.474 715.465 181.159 Q718.66 183.845 718.66 188.335 Q718.66 190.465 717.849 192.386 Q717.062 194.284 714.956 196.877 Q714.377 197.548 711.275 200.766 Q708.174 203.96 702.525 209.724 Z\" fill=\"#000000\" fill-rule=\"nonzero\" fill-opacity=\"1\" /></svg>\n"
      ]
     },
     "execution_count": 77,
     "metadata": {},
     "output_type": "execute_result"
    }
   ],
   "source": [
    "using Plots\n",
    "default(linewidth=4)\n",
    "plot(x -> (1 + x) - 1, xlims=(-1e-15, 1e-15),\n",
    "xlabel=\"x\", ylabel=\"y\")\n",
    "plot!(x -> x)"
   ]
  },
  {
   "cell_type": "markdown",
   "id": "c49bf903",
   "metadata": {
    "hideCode": false,
    "hidePrompt": false,
    "slideshow": {
     "slide_type": "slide"
    }
   },
   "source": [
    "# Machine epsilon\n",
    "\n",
    "We approximate real numbers with **floating point** arithmetic, which can only represent discrete values. In particular, there exists a largest number, which we call $\\epsilon_{\\text{machine}}$, such that\n",
    "$$ 1 \\oplus x = 1 \\quad \\text{for all}\\  \\lvert x \\rvert < \\epsilon_{\\text{machine}}.$$\n",
    "\n",
    "The notation $\\oplus, \\ominus, \\odot, \\oslash$ represent the elementary operation carried out in floating point arithmetic."
   ]
  },
  {
   "cell_type": "code",
   "execution_count": 24,
   "id": "86096208",
   "metadata": {
    "cell_style": "split",
    "hideCode": false,
    "hidePrompt": false,
    "slideshow": {
     "slide_type": "fragment"
    }
   },
   "outputs": [
    {
     "data": {
      "text/plain": [
       "1.1102230246251565e-16"
      ]
     },
     "execution_count": 24,
     "metadata": {},
     "output_type": "execute_result"
    }
   ],
   "source": [
    "eps = 1\n",
    "while 1 + eps != 1\n",
    "    eps = eps / 2\n",
    "end\n",
    "eps"
   ]
  },
  {
   "cell_type": "code",
   "execution_count": 25,
   "id": "0a14ea73",
   "metadata": {
    "cell_style": "split",
    "slideshow": {
     "slide_type": "fragment"
    }
   },
   "outputs": [
    {
     "data": {
      "text/plain": [
       "5.9604645f-8"
      ]
     },
     "execution_count": 25,
     "metadata": {},
     "output_type": "execute_result"
    }
   ],
   "source": [
    "eps = 1.f0\n",
    "while 1 + eps != 1\n",
    "    eps = eps / 2\n",
    "end\n",
    "eps "
   ]
  },
  {
   "cell_type": "markdown",
   "id": "56fade8b",
   "metadata": {
    "hideCode": false,
    "hidePrompt": false,
    "slideshow": {
     "slide_type": "slide"
    }
   },
   "source": [
    "# Beating `exp`\n",
    "\n",
    "$$e^x = 1 + x + \\frac{x^2}{2!} + \\frac{x^3}{3!} + \\dotsb$$\n",
    "\n",
    "Suppose we want to compute $f(x) = e^x - 1$ for small values of $x$."
   ]
  },
  {
   "cell_type": "code",
   "execution_count": 26,
   "id": "282ad48a",
   "metadata": {
    "cell_style": "split",
    "hideCode": false,
    "hidePrompt": false
   },
   "outputs": [
    {
     "data": {
      "text/plain": [
       "9.99999993922529e-9"
      ]
     },
     "execution_count": 26,
     "metadata": {},
     "output_type": "execute_result"
    }
   ],
   "source": [
    "f1(x) = exp(x) - 1\n",
    "y1 = f1(1e-8)"
   ]
  },
  {
   "cell_type": "code",
   "execution_count": 27,
   "id": "eff4a68c",
   "metadata": {
    "cell_style": "split",
    "hideCode": false,
    "hidePrompt": false
   },
   "outputs": [
    {
     "data": {
      "text/plain": [
       "1.000000005e-8"
      ]
     },
     "execution_count": 27,
     "metadata": {},
     "output_type": "execute_result"
    }
   ],
   "source": [
    "f2(x) = x + x^2/2 + x^3/6\n",
    "y2 = f2(1e-8)"
   ]
  },
  {
   "cell_type": "markdown",
   "id": "379682f9",
   "metadata": {
    "hideCode": false,
    "hidePrompt": false
   },
   "source": [
    "Which answer is more accurate?"
   ]
  },
  {
   "cell_type": "code",
   "execution_count": 28,
   "id": "6081053e",
   "metadata": {
    "cell_style": "split",
    "hideCode": false,
    "hidePrompt": false
   },
   "outputs": [
    {
     "name": "stdout",
     "output_type": "stream",
     "text": [
      "y1 - y2 = -1.1077470910720506e-16\n",
      "(y1 - y2) / y2 = -1.1077470855333152e-8\n"
     ]
    }
   ],
   "source": [
    "@show (y1 - y2)        # Absolute difference\n",
    "@show (y1 - y2) / y2;  # Relative difference"
   ]
  },
  {
   "cell_type": "code",
   "execution_count": 30,
   "id": "856a2029",
   "metadata": {
    "cell_style": "split",
    "slideshow": {
     "slide_type": "fragment"
    }
   },
   "outputs": [
    {
     "data": {
      "text/plain": [
       "1.00000000500000003758922774768741543940607483039462726343113165886778197508307e-08"
      ]
     },
     "execution_count": 30,
     "metadata": {},
     "output_type": "execute_result"
    }
   ],
   "source": [
    "f1(big(1e-8))"
   ]
  },
  {
   "cell_type": "markdown",
   "id": "8e49cbd3",
   "metadata": {
    "slideshow": {
     "slide_type": "skip"
    }
   },
   "source": [
    "We now turn attention to two terms of art that guide our understanding of epistemic soundness, or the extent to which a model can be \"right for the right reasons\"."
   ]
  },
  {
   "cell_type": "markdown",
   "id": "5c2784e9",
   "metadata": {
    "cell_style": "split",
    "slideshow": {
     "slide_type": "slide"
    }
   },
   "source": [
    "# Verification\n",
    "\n",
    "## solving the problem right"
   ]
  },
  {
   "cell_type": "markdown",
   "id": "42cd9f1b",
   "metadata": {
    "cell_style": "split",
    "slideshow": {
     "slide_type": "fragment"
    }
   },
   "source": [
    "# Validation\n",
    "\n",
    "## solving the right problem"
   ]
  },
  {
   "cell_type": "markdown",
   "id": "67273c32",
   "metadata": {
    "slideshow": {
     "slide_type": "fragment"
    }
   },
   "source": [
    "Verification is a mathematical activity that can, in principle, be completed (though one must always establish sufficient resolution). Validation is always ongoing, subject to tolerances and regime."
   ]
  },
  {
   "cell_type": "markdown",
   "id": "a622e882",
   "metadata": {
    "slideshow": {
     "slide_type": "fragment"
    }
   },
   "source": [
    "## Canvas Module (Hypothes.is): 1986 Journal of Fluids Engineering Editorial Policy\n",
    "\n",
    "* It's a half-page policy statement with some annotation prompts. Please participate and let's discuss at the start of next class."
   ]
  }
 ],
 "metadata": {
  "celltoolbar": "Slideshow",
  "hide_code_all_hidden": false,
  "kernelspec": {
   "display_name": "Julia 1.11.6",
   "language": "julia",
   "name": "julia-1.11"
  },
  "language_info": {
   "file_extension": ".jl",
   "mimetype": "application/julia",
   "name": "julia",
   "version": "1.11.6"
  },
  "rise": {
   "enable_chalkboard": true
  }
 },
 "nbformat": 4,
 "nbformat_minor": 5
}
