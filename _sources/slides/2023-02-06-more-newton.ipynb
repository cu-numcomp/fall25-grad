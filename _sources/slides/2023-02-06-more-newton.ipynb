{
 "cells": [
  {
   "cell_type": "markdown",
   "id": "4159be0e",
   "metadata": {
    "hideCode": false,
    "hidePrompt": false,
    "slideshow": {
     "slide_type": "slide"
    }
   },
   "source": [
    "# 2023-02-06 More Newton\n",
    "\n",
    "## Last time\n",
    "\n",
    "* Newton's method via Taylor series\n",
    "* Convergence theory for fixed point methods\n",
    "* Derive Newton's method via fixed point convergence theory\n",
    "\n",
    "## Today\n",
    "\n",
    "* Newton methods in computing culture\n",
    "* Breaking Newton's method\n",
    "* Exploration\n",
    "* Portfolios"
   ]
  },
  {
   "cell_type": "code",
   "execution_count": 2,
   "id": "eb781a7a",
   "metadata": {
    "slideshow": {
     "slide_type": "skip"
    }
   },
   "outputs": [
    {
     "data": {
      "text/plain": [
       "fp (generic function with 1 method)"
      ]
     },
     "execution_count": 2,
     "metadata": {},
     "output_type": "execute_result"
    }
   ],
   "source": [
    "using Plots\n",
    "default(linewidth=3, legendfontsize=12)\n",
    "\n",
    "function newton(f, fp, x0; tol=1e-8, verbose=false)\n",
    "    x = x0\n",
    "    for k in 1:100 # max number of iterations\n",
    "        fx = f(x)\n",
    "        fpx = fp(x)\n",
    "        if verbose\n",
    "            println(\"[$k] x=$x  f(x)=$fx  f'(x)=$fpx\")\n",
    "        end\n",
    "        if abs(fx) < tol\n",
    "            return x, fx, k\n",
    "        end\n",
    "        x = x - fx / fpx\n",
    "    end  \n",
    "end\n",
    "\n",
    "f(x) = cos(x) - x\n",
    "fp(x) = -sin(x) - 1"
   ]
  },
  {
   "cell_type": "markdown",
   "id": "28c45386",
   "metadata": {
    "slideshow": {
     "slide_type": "slide"
    }
   },
   "source": [
    "# Convergence of fixed-point (by Taylor Series)"
   ]
  },
  {
   "cell_type": "markdown",
   "id": "5b341cff",
   "metadata": {
    "cell_style": "split"
   },
   "source": [
    "Consider the iteration\n",
    "$$x_{k+1} = g(x_k)$$\n",
    "where $g$ is a continuously differentiable function.\n",
    "Suppose that there exists a fixed point $x_* = g(x_*)$. There exists a Taylor series at $x_*$,\n",
    "$$ g(x_k) = g(x_*) + g'(x_*)(x_k - x_*) + O((x_k-x_*)^2) $$\n",
    "and thus\n",
    "\\begin{align}\n",
    "x_{k+1} - x_* &= g(x_k) - g(x_*) \\\\\n",
    "&= g'(x_*) (x_k - x_*) + O((x_k - x_*)^2).\n",
    "\\end{align}"
   ]
  },
  {
   "cell_type": "markdown",
   "id": "a489e86f",
   "metadata": {
    "cell_style": "split"
   },
   "source": [
    "In terms of the error $e_k = x_k - x_*$,\n",
    "$$ \\left\\lvert \\frac{e_{k+1}}{e_k} \\right\\rvert = \\lvert g'(x_*) \\rvert + O(e_k).$$\n",
    "\n",
    "\n",
    "\n",
    "Recall the definition of q-linear convergence\n",
    "$$ \\lim_{k\\to\\infty} \\left\\lvert \\frac{e_{k+1}}{e_k} \\right\\rvert = \\rho < 1. $$"
   ]
  },
  {
   "cell_type": "code",
   "execution_count": 3,
   "id": "1fafaa6b",
   "metadata": {
    "cell_style": "split",
    "slideshow": {
     "slide_type": "skip"
    }
   },
   "outputs": [
    {
     "data": {
      "image/svg+xml": [
       "<?xml version=\"1.0\" encoding=\"utf-8\"?>\n",
       "<svg xmlns=\"http://www.w3.org/2000/svg\" xmlns:xlink=\"http://www.w3.org/1999/xlink\" width=\"600\" height=\"400\" viewBox=\"0 0 2400 1600\">\n",
       "<defs>\n",
       "  <clipPath id=\"clip530\">\n",
       "    <rect x=\"0\" y=\"0\" width=\"2400\" height=\"1600\"/>\n",
       "  </clipPath>\n",
       "</defs>\n",
       "<path clip-path=\"url(#clip530)\" d=\"\n",
       "M0 1600 L2400 1600 L2400 0 L0 0  Z\n",
       "  \" fill=\"#ffffff\" fill-rule=\"evenodd\" fill-opacity=\"1\"/>\n",
       "<defs>\n",
       "  <clipPath id=\"clip531\">\n",
       "    <rect x=\"480\" y=\"0\" width=\"1681\" height=\"1600\"/>\n",
       "  </clipPath>\n",
       "</defs>\n",
       "<path clip-path=\"url(#clip530)\" d=\"\n",
       "M175.445 1423.18 L2352.76 1423.18 L2352.76 123.838 L175.445 123.838  Z\n",
       "  \" fill=\"#ffffff\" fill-rule=\"evenodd\" fill-opacity=\"1\"/>\n",
       "<defs>\n",
       "  <clipPath id=\"clip532\">\n",
       "    <rect x=\"175\" y=\"123\" width=\"2178\" height=\"1300\"/>\n",
       "  </clipPath>\n",
       "</defs>\n",
       "<polyline clip-path=\"url(#clip532)\" style=\"stroke:#000000; stroke-linecap:round; stroke-linejoin:round; stroke-width:2; stroke-opacity:0.1; fill:none\" points=\"\n",
       "  237.067,1423.18 237.067,123.838 \n",
       "  \"/>\n",
       "<polyline clip-path=\"url(#clip532)\" style=\"stroke:#000000; stroke-linecap:round; stroke-linejoin:round; stroke-width:2; stroke-opacity:0.1; fill:none\" points=\"\n",
       "  750.584,1423.18 750.584,123.838 \n",
       "  \"/>\n",
       "<polyline clip-path=\"url(#clip532)\" style=\"stroke:#000000; stroke-linecap:round; stroke-linejoin:round; stroke-width:2; stroke-opacity:0.1; fill:none\" points=\"\n",
       "  1264.1,1423.18 1264.1,123.838 \n",
       "  \"/>\n",
       "<polyline clip-path=\"url(#clip532)\" style=\"stroke:#000000; stroke-linecap:round; stroke-linejoin:round; stroke-width:2; stroke-opacity:0.1; fill:none\" points=\"\n",
       "  1777.62,1423.18 1777.62,123.838 \n",
       "  \"/>\n",
       "<polyline clip-path=\"url(#clip532)\" style=\"stroke:#000000; stroke-linecap:round; stroke-linejoin:round; stroke-width:2; stroke-opacity:0.1; fill:none\" points=\"\n",
       "  2291.13,1423.18 2291.13,123.838 \n",
       "  \"/>\n",
       "<polyline clip-path=\"url(#clip530)\" style=\"stroke:#000000; stroke-linecap:round; stroke-linejoin:round; stroke-width:4; stroke-opacity:1; fill:none\" points=\"\n",
       "  175.445,1386.41 2352.76,1386.41 \n",
       "  \"/>\n",
       "<polyline clip-path=\"url(#clip530)\" style=\"stroke:#000000; stroke-linecap:round; stroke-linejoin:round; stroke-width:4; stroke-opacity:0; fill:none\" points=\"\n",
       "  237.067,1386.41 237.067,1386.41 \n",
       "  \"/>\n",
       "<polyline clip-path=\"url(#clip530)\" style=\"stroke:#000000; stroke-linecap:round; stroke-linejoin:round; stroke-width:4; stroke-opacity:0; fill:none\" points=\"\n",
       "  750.584,1386.41 750.584,1386.41 \n",
       "  \"/>\n",
       "<polyline clip-path=\"url(#clip530)\" style=\"stroke:#000000; stroke-linecap:round; stroke-linejoin:round; stroke-width:4; stroke-opacity:0; fill:none\" points=\"\n",
       "  1264.1,1386.41 1264.1,1386.41 \n",
       "  \"/>\n",
       "<polyline clip-path=\"url(#clip530)\" style=\"stroke:#000000; stroke-linecap:round; stroke-linejoin:round; stroke-width:4; stroke-opacity:0; fill:none\" points=\"\n",
       "  1777.62,1386.41 1777.62,1386.41 \n",
       "  \"/>\n",
       "<polyline clip-path=\"url(#clip530)\" style=\"stroke:#000000; stroke-linecap:round; stroke-linejoin:round; stroke-width:4; stroke-opacity:0; fill:none\" points=\"\n",
       "  2291.13,1386.41 2291.13,1386.41 \n",
       "  \"/>\n",
       "<path clip-path=\"url(#clip530)\" d=\"M237.067 1454.1 Q233.456 1454.1 231.627 1457.66 Q229.822 1461.2 229.822 1468.33 Q229.822 1475.44 231.627 1479.01 Q233.456 1482.55 237.067 1482.55 Q240.701 1482.55 242.507 1479.01 Q244.336 1475.44 244.336 1468.33 Q244.336 1461.2 242.507 1457.66 Q240.701 1454.1 237.067 1454.1 M237.067 1450.39 Q242.877 1450.39 245.933 1455 Q249.012 1459.58 249.012 1468.33 Q249.012 1477.06 245.933 1481.67 Q242.877 1486.25 237.067 1486.25 Q231.257 1486.25 228.178 1481.67 Q225.123 1477.06 225.123 1468.33 Q225.123 1459.58 228.178 1455 Q231.257 1450.39 237.067 1450.39 Z\" fill=\"#ffa500\" fill-rule=\"evenodd\" fill-opacity=\"1\" /><path clip-path=\"url(#clip530)\" d=\"M740.966 1481.64 L748.605 1481.64 L748.605 1455.28 L740.295 1456.95 L740.295 1452.69 L748.558 1451.02 L753.234 1451.02 L753.234 1481.64 L760.873 1481.64 L760.873 1485.58 L740.966 1485.58 L740.966 1481.64 Z\" fill=\"#ffa500\" fill-rule=\"evenodd\" fill-opacity=\"1\" /><path clip-path=\"url(#clip530)\" d=\"M1258.75 1481.64 L1275.07 1481.64 L1275.07 1485.58 L1253.13 1485.58 L1253.13 1481.64 Q1255.79 1478.89 1260.37 1474.26 Q1264.98 1469.61 1266.16 1468.27 Q1268.41 1465.74 1269.29 1464.01 Q1270.19 1462.25 1270.19 1460.56 Q1270.19 1457.8 1268.24 1456.07 Q1266.32 1454.33 1263.22 1454.33 Q1261.02 1454.33 1258.57 1455.09 Q1256.14 1455.86 1253.36 1457.41 L1253.36 1452.69 Q1256.18 1451.55 1258.64 1450.97 Q1261.09 1450.39 1263.13 1450.39 Q1268.5 1450.39 1271.69 1453.08 Q1274.89 1455.77 1274.89 1460.26 Q1274.89 1462.39 1274.08 1464.31 Q1273.29 1466.2 1271.18 1468.8 Q1270.61 1469.47 1267.5 1472.69 Q1264.4 1475.88 1258.75 1481.64 Z\" fill=\"#ffa500\" fill-rule=\"evenodd\" fill-opacity=\"1\" /><path clip-path=\"url(#clip530)\" d=\"M1781.86 1466.95 Q1785.22 1467.66 1787.1 1469.93 Q1788.99 1472.2 1788.99 1475.53 Q1788.99 1480.65 1785.48 1483.45 Q1781.96 1486.25 1775.48 1486.25 Q1773.3 1486.25 1770.99 1485.81 Q1768.69 1485.39 1766.24 1484.54 L1766.24 1480.02 Q1768.18 1481.16 1770.5 1481.74 Q1772.81 1482.32 1775.34 1482.32 Q1779.74 1482.32 1782.03 1480.58 Q1784.34 1478.84 1784.34 1475.53 Q1784.34 1472.48 1782.19 1470.77 Q1780.06 1469.03 1776.24 1469.03 L1772.21 1469.03 L1772.21 1465.19 L1776.43 1465.19 Q1779.87 1465.19 1781.7 1463.82 Q1783.53 1462.43 1783.53 1459.84 Q1783.53 1457.18 1781.63 1455.77 Q1779.76 1454.33 1776.24 1454.33 Q1774.32 1454.33 1772.12 1454.75 Q1769.92 1455.16 1767.28 1456.04 L1767.28 1451.88 Q1769.94 1451.14 1772.26 1450.77 Q1774.6 1450.39 1776.66 1450.39 Q1781.98 1450.39 1785.08 1452.83 Q1788.18 1455.23 1788.18 1459.35 Q1788.18 1462.22 1786.54 1464.21 Q1784.9 1466.18 1781.86 1466.95 Z\" fill=\"#ffa500\" fill-rule=\"evenodd\" fill-opacity=\"1\" /><path clip-path=\"url(#clip530)\" d=\"M2294.14 1455.09 L2282.34 1473.54 L2294.14 1473.54 L2294.14 1455.09 M2292.92 1451.02 L2298.8 1451.02 L2298.8 1473.54 L2303.73 1473.54 L2303.73 1477.43 L2298.8 1477.43 L2298.8 1485.58 L2294.14 1485.58 L2294.14 1477.43 L2278.54 1477.43 L2278.54 1472.92 L2292.92 1451.02 Z\" fill=\"#ffa500\" fill-rule=\"evenodd\" fill-opacity=\"1\" /><path clip-path=\"url(#clip530)\" d=\"M1280.72 1532.4 L1267.82 1549.74 L1281.38 1568.04 L1274.48 1568.04 L1264.1 1554.04 L1253.72 1568.04 L1246.82 1568.04 L1260.66 1549.39 L1248 1532.4 L1254.9 1532.4 L1264.36 1545.1 L1273.81 1532.4 L1280.72 1532.4 Z\" fill=\"#006400\" fill-rule=\"evenodd\" fill-opacity=\"1\" /><polyline clip-path=\"url(#clip532)\" style=\"stroke:#000000; stroke-linecap:round; stroke-linejoin:round; stroke-width:2; stroke-opacity:0.1; fill:none\" points=\"\n",
       "  175.445,1386.41 2352.76,1386.41 \n",
       "  \"/>\n",
       "<polyline clip-path=\"url(#clip532)\" style=\"stroke:#000000; stroke-linecap:round; stroke-linejoin:round; stroke-width:2; stroke-opacity:0.1; fill:none\" points=\"\n",
       "  175.445,1079.96 2352.76,1079.96 \n",
       "  \"/>\n",
       "<polyline clip-path=\"url(#clip532)\" style=\"stroke:#000000; stroke-linecap:round; stroke-linejoin:round; stroke-width:2; stroke-opacity:0.1; fill:none\" points=\"\n",
       "  175.445,773.509 2352.76,773.509 \n",
       "  \"/>\n",
       "<polyline clip-path=\"url(#clip532)\" style=\"stroke:#000000; stroke-linecap:round; stroke-linejoin:round; stroke-width:2; stroke-opacity:0.1; fill:none\" points=\"\n",
       "  175.445,467.06 2352.76,467.06 \n",
       "  \"/>\n",
       "<polyline clip-path=\"url(#clip532)\" style=\"stroke:#000000; stroke-linecap:round; stroke-linejoin:round; stroke-width:2; stroke-opacity:0.1; fill:none\" points=\"\n",
       "  175.445,160.611 2352.76,160.611 \n",
       "  \"/>\n",
       "<polyline clip-path=\"url(#clip532)\" style=\"stroke:#000000; stroke-linecap:round; stroke-linejoin:round; stroke-width:2; stroke-opacity:0.05; fill:none\" points=\"\n",
       "  175.445,1325.12 2352.76,1325.12 \n",
       "  \"/>\n",
       "<polyline clip-path=\"url(#clip532)\" style=\"stroke:#000000; stroke-linecap:round; stroke-linejoin:round; stroke-width:2; stroke-opacity:0.05; fill:none\" points=\"\n",
       "  175.445,1263.83 2352.76,1263.83 \n",
       "  \"/>\n",
       "<polyline clip-path=\"url(#clip532)\" style=\"stroke:#000000; stroke-linecap:round; stroke-linejoin:round; stroke-width:2; stroke-opacity:0.05; fill:none\" points=\"\n",
       "  175.445,1202.54 2352.76,1202.54 \n",
       "  \"/>\n",
       "<polyline clip-path=\"url(#clip532)\" style=\"stroke:#000000; stroke-linecap:round; stroke-linejoin:round; stroke-width:2; stroke-opacity:0.05; fill:none\" points=\"\n",
       "  175.445,1141.25 2352.76,1141.25 \n",
       "  \"/>\n",
       "<polyline clip-path=\"url(#clip532)\" style=\"stroke:#000000; stroke-linecap:round; stroke-linejoin:round; stroke-width:2; stroke-opacity:0.05; fill:none\" points=\"\n",
       "  175.445,1018.67 2352.76,1018.67 \n",
       "  \"/>\n",
       "<polyline clip-path=\"url(#clip532)\" style=\"stroke:#000000; stroke-linecap:round; stroke-linejoin:round; stroke-width:2; stroke-opacity:0.05; fill:none\" points=\"\n",
       "  175.445,957.378 2352.76,957.378 \n",
       "  \"/>\n",
       "<polyline clip-path=\"url(#clip532)\" style=\"stroke:#000000; stroke-linecap:round; stroke-linejoin:round; stroke-width:2; stroke-opacity:0.05; fill:none\" points=\"\n",
       "  175.445,896.088 2352.76,896.088 \n",
       "  \"/>\n",
       "<polyline clip-path=\"url(#clip532)\" style=\"stroke:#000000; stroke-linecap:round; stroke-linejoin:round; stroke-width:2; stroke-opacity:0.05; fill:none\" points=\"\n",
       "  175.445,834.798 2352.76,834.798 \n",
       "  \"/>\n",
       "<polyline clip-path=\"url(#clip532)\" style=\"stroke:#000000; stroke-linecap:round; stroke-linejoin:round; stroke-width:2; stroke-opacity:0.05; fill:none\" points=\"\n",
       "  175.445,712.219 2352.76,712.219 \n",
       "  \"/>\n",
       "<polyline clip-path=\"url(#clip532)\" style=\"stroke:#000000; stroke-linecap:round; stroke-linejoin:round; stroke-width:2; stroke-opacity:0.05; fill:none\" points=\"\n",
       "  175.445,650.929 2352.76,650.929 \n",
       "  \"/>\n",
       "<polyline clip-path=\"url(#clip532)\" style=\"stroke:#000000; stroke-linecap:round; stroke-linejoin:round; stroke-width:2; stroke-opacity:0.05; fill:none\" points=\"\n",
       "  175.445,589.64 2352.76,589.64 \n",
       "  \"/>\n",
       "<polyline clip-path=\"url(#clip532)\" style=\"stroke:#000000; stroke-linecap:round; stroke-linejoin:round; stroke-width:2; stroke-opacity:0.05; fill:none\" points=\"\n",
       "  175.445,528.35 2352.76,528.35 \n",
       "  \"/>\n",
       "<polyline clip-path=\"url(#clip532)\" style=\"stroke:#000000; stroke-linecap:round; stroke-linejoin:round; stroke-width:2; stroke-opacity:0.05; fill:none\" points=\"\n",
       "  175.445,405.77 2352.76,405.77 \n",
       "  \"/>\n",
       "<polyline clip-path=\"url(#clip532)\" style=\"stroke:#000000; stroke-linecap:round; stroke-linejoin:round; stroke-width:2; stroke-opacity:0.05; fill:none\" points=\"\n",
       "  175.445,344.481 2352.76,344.481 \n",
       "  \"/>\n",
       "<polyline clip-path=\"url(#clip532)\" style=\"stroke:#000000; stroke-linecap:round; stroke-linejoin:round; stroke-width:2; stroke-opacity:0.05; fill:none\" points=\"\n",
       "  175.445,283.191 2352.76,283.191 \n",
       "  \"/>\n",
       "<polyline clip-path=\"url(#clip532)\" style=\"stroke:#000000; stroke-linecap:round; stroke-linejoin:round; stroke-width:2; stroke-opacity:0.05; fill:none\" points=\"\n",
       "  175.445,221.901 2352.76,221.901 \n",
       "  \"/>\n",
       "<polyline clip-path=\"url(#clip530)\" style=\"stroke:#000000; stroke-linecap:round; stroke-linejoin:round; stroke-width:4; stroke-opacity:1; fill:none\" points=\"\n",
       "  237.067,1423.18 237.067,123.838 \n",
       "  \"/>\n",
       "<polyline clip-path=\"url(#clip530)\" style=\"stroke:#000000; stroke-linecap:round; stroke-linejoin:round; stroke-width:4; stroke-opacity:0; fill:none\" points=\"\n",
       "  237.067,1386.41 237.067,1386.41 \n",
       "  \"/>\n",
       "<polyline clip-path=\"url(#clip530)\" style=\"stroke:#000000; stroke-linecap:round; stroke-linejoin:round; stroke-width:4; stroke-opacity:0; fill:none\" points=\"\n",
       "  237.067,1079.96 237.067,1079.96 \n",
       "  \"/>\n",
       "<polyline clip-path=\"url(#clip530)\" style=\"stroke:#000000; stroke-linecap:round; stroke-linejoin:round; stroke-width:4; stroke-opacity:0; fill:none\" points=\"\n",
       "  237.067,773.509 237.067,773.509 \n",
       "  \"/>\n",
       "<polyline clip-path=\"url(#clip530)\" style=\"stroke:#000000; stroke-linecap:round; stroke-linejoin:round; stroke-width:4; stroke-opacity:0; fill:none\" points=\"\n",
       "  237.067,467.06 237.067,467.06 \n",
       "  \"/>\n",
       "<polyline clip-path=\"url(#clip530)\" style=\"stroke:#000000; stroke-linecap:round; stroke-linejoin:round; stroke-width:4; stroke-opacity:0; fill:none\" points=\"\n",
       "  237.067,160.611 237.067,160.611 \n",
       "  \"/>\n",
       "<polyline clip-path=\"url(#clip530)\" style=\"stroke:#000000; stroke-linecap:round; stroke-linejoin:round; stroke-width:4; stroke-opacity:0; fill:none\" points=\"\n",
       "  237.067,1325.12 237.067,1325.12 \n",
       "  \"/>\n",
       "<polyline clip-path=\"url(#clip530)\" style=\"stroke:#000000; stroke-linecap:round; stroke-linejoin:round; stroke-width:4; stroke-opacity:0; fill:none\" points=\"\n",
       "  237.067,1263.83 237.067,1263.83 \n",
       "  \"/>\n",
       "<polyline clip-path=\"url(#clip530)\" style=\"stroke:#000000; stroke-linecap:round; stroke-linejoin:round; stroke-width:4; stroke-opacity:0; fill:none\" points=\"\n",
       "  237.067,1202.54 237.067,1202.54 \n",
       "  \"/>\n",
       "<polyline clip-path=\"url(#clip530)\" style=\"stroke:#000000; stroke-linecap:round; stroke-linejoin:round; stroke-width:4; stroke-opacity:0; fill:none\" points=\"\n",
       "  237.067,1141.25 237.067,1141.25 \n",
       "  \"/>\n",
       "<polyline clip-path=\"url(#clip530)\" style=\"stroke:#000000; stroke-linecap:round; stroke-linejoin:round; stroke-width:4; stroke-opacity:0; fill:none\" points=\"\n",
       "  237.067,1018.67 237.067,1018.67 \n",
       "  \"/>\n",
       "<polyline clip-path=\"url(#clip530)\" style=\"stroke:#000000; stroke-linecap:round; stroke-linejoin:round; stroke-width:4; stroke-opacity:0; fill:none\" points=\"\n",
       "  237.067,957.378 237.067,957.378 \n",
       "  \"/>\n",
       "<polyline clip-path=\"url(#clip530)\" style=\"stroke:#000000; stroke-linecap:round; stroke-linejoin:round; stroke-width:4; stroke-opacity:0; fill:none\" points=\"\n",
       "  237.067,896.088 237.067,896.088 \n",
       "  \"/>\n",
       "<polyline clip-path=\"url(#clip530)\" style=\"stroke:#000000; stroke-linecap:round; stroke-linejoin:round; stroke-width:4; stroke-opacity:0; fill:none\" points=\"\n",
       "  237.067,834.798 237.067,834.798 \n",
       "  \"/>\n",
       "<polyline clip-path=\"url(#clip530)\" style=\"stroke:#000000; stroke-linecap:round; stroke-linejoin:round; stroke-width:4; stroke-opacity:0; fill:none\" points=\"\n",
       "  237.067,712.219 237.067,712.219 \n",
       "  \"/>\n",
       "<polyline clip-path=\"url(#clip530)\" style=\"stroke:#000000; stroke-linecap:round; stroke-linejoin:round; stroke-width:4; stroke-opacity:0; fill:none\" points=\"\n",
       "  237.067,650.929 237.067,650.929 \n",
       "  \"/>\n",
       "<polyline clip-path=\"url(#clip530)\" style=\"stroke:#000000; stroke-linecap:round; stroke-linejoin:round; stroke-width:4; stroke-opacity:0; fill:none\" points=\"\n",
       "  237.067,589.64 237.067,589.64 \n",
       "  \"/>\n",
       "<polyline clip-path=\"url(#clip530)\" style=\"stroke:#000000; stroke-linecap:round; stroke-linejoin:round; stroke-width:4; stroke-opacity:0; fill:none\" points=\"\n",
       "  237.067,528.35 237.067,528.35 \n",
       "  \"/>\n",
       "<polyline clip-path=\"url(#clip530)\" style=\"stroke:#000000; stroke-linecap:round; stroke-linejoin:round; stroke-width:4; stroke-opacity:0; fill:none\" points=\"\n",
       "  237.067,405.77 237.067,405.77 \n",
       "  \"/>\n",
       "<polyline clip-path=\"url(#clip530)\" style=\"stroke:#000000; stroke-linecap:round; stroke-linejoin:round; stroke-width:4; stroke-opacity:0; fill:none\" points=\"\n",
       "  237.067,344.481 237.067,344.481 \n",
       "  \"/>\n",
       "<polyline clip-path=\"url(#clip530)\" style=\"stroke:#000000; stroke-linecap:round; stroke-linejoin:round; stroke-width:4; stroke-opacity:0; fill:none\" points=\"\n",
       "  237.067,283.191 237.067,283.191 \n",
       "  \"/>\n",
       "<polyline clip-path=\"url(#clip530)\" style=\"stroke:#000000; stroke-linecap:round; stroke-linejoin:round; stroke-width:4; stroke-opacity:0; fill:none\" points=\"\n",
       "  237.067,221.901 237.067,221.901 \n",
       "  \"/>\n",
       "<path clip-path=\"url(#clip530)\" d=\"M127.501 1372.2 Q123.89 1372.2 122.061 1375.77 Q120.255 1379.31 120.255 1386.44 Q120.255 1393.55 122.061 1397.11 Q123.89 1400.65 127.501 1400.65 Q131.135 1400.65 132.941 1397.11 Q134.769 1393.55 134.769 1386.44 Q134.769 1379.31 132.941 1375.77 Q131.135 1372.2 127.501 1372.2 M127.501 1368.5 Q133.311 1368.5 136.367 1373.11 Q139.445 1377.69 139.445 1386.44 Q139.445 1395.17 136.367 1399.77 Q133.311 1404.36 127.501 1404.36 Q121.691 1404.36 118.612 1399.77 Q115.556 1395.17 115.556 1386.44 Q115.556 1377.69 118.612 1373.11 Q121.691 1368.5 127.501 1368.5 Z\" fill=\"#ffa500\" fill-rule=\"evenodd\" fill-opacity=\"1\" /><path clip-path=\"url(#clip530)\" d=\"M119.538 1093.3 L127.177 1093.3 L127.177 1066.94 L118.867 1068.6 L118.867 1064.34 L127.13 1062.68 L131.806 1062.68 L131.806 1093.3 L139.445 1093.3 L139.445 1097.24 L119.538 1097.24 L119.538 1093.3 Z\" fill=\"#ffa500\" fill-rule=\"evenodd\" fill-opacity=\"1\" /><path clip-path=\"url(#clip530)\" d=\"M123.126 786.854 L139.445 786.854 L139.445 790.789 L117.501 790.789 L117.501 786.854 Q120.163 784.099 124.746 779.469 Q129.353 774.817 130.533 773.474 Q132.779 770.951 133.658 769.215 Q134.561 767.455 134.561 765.766 Q134.561 763.011 132.617 761.275 Q130.695 759.539 127.593 759.539 Q125.394 759.539 122.941 760.303 Q120.51 761.067 117.732 762.618 L117.732 757.895 Q120.556 756.761 123.01 756.182 Q125.464 755.604 127.501 755.604 Q132.871 755.604 136.066 758.289 Q139.26 760.974 139.26 765.465 Q139.26 767.594 138.45 769.516 Q137.663 771.414 135.556 774.006 Q134.978 774.678 131.876 777.895 Q128.774 781.09 123.126 786.854 Z\" fill=\"#ffa500\" fill-rule=\"evenodd\" fill-opacity=\"1\" /><path clip-path=\"url(#clip530)\" d=\"M132.316 465.706 Q135.672 466.423 137.547 468.692 Q139.445 470.96 139.445 474.294 Q139.445 479.41 135.927 482.21 Q132.408 485.011 125.927 485.011 Q123.751 485.011 121.436 484.572 Q119.144 484.155 116.691 483.298 L116.691 478.785 Q118.635 479.919 120.95 480.497 Q123.265 481.076 125.788 481.076 Q130.186 481.076 132.478 479.34 Q134.792 477.604 134.792 474.294 Q134.792 471.238 132.64 469.525 Q130.51 467.789 126.691 467.789 L122.663 467.789 L122.663 463.947 L126.876 463.947 Q130.325 463.947 132.154 462.581 Q133.982 461.192 133.982 458.599 Q133.982 455.937 132.084 454.525 Q130.209 453.09 126.691 453.09 Q124.769 453.09 122.57 453.507 Q120.371 453.924 117.732 454.803 L117.732 450.637 Q120.394 449.896 122.709 449.525 Q125.047 449.155 127.107 449.155 Q132.431 449.155 135.533 451.586 Q138.635 453.993 138.635 458.113 Q138.635 460.984 136.992 462.974 Q135.348 464.942 132.316 465.706 Z\" fill=\"#ffa500\" fill-rule=\"evenodd\" fill-opacity=\"1\" /><path clip-path=\"url(#clip530)\" d=\"M129.862 147.405 L118.056 165.854 L129.862 165.854 L129.862 147.405 M128.635 143.331 L134.515 143.331 L134.515 165.854 L139.445 165.854 L139.445 169.743 L134.515 169.743 L134.515 177.891 L129.862 177.891 L129.862 169.743 L114.26 169.743 L114.26 165.229 L128.635 143.331 Z\" fill=\"#ffa500\" fill-rule=\"evenodd\" fill-opacity=\"1\" /><path clip-path=\"url(#clip530)\" d=\"M28.3562 756.894 L45.7028 769.785 L64.0042 756.226 L64.0042 763.133 L49.9996 773.509 L64.0042 783.885 L64.0042 790.792 L45.3526 776.946 L28.3562 789.614 L28.3562 782.707 L41.0558 773.254 L28.3562 763.801 L28.3562 756.894 Z\" fill=\"#006400\" fill-rule=\"evenodd\" fill-opacity=\"1\" /><g clip-path=\"url(#clip530)\">\n",
       "<text style=\"fill:#000000; fill-opacity:1; font-family:Times New Roman,TimesNewRoman,Times,Baskerville,Georgia,serif; font-size:92px; text-anchor:middle;\" transform=\"rotate(0, 1264.1, 73.2)\" x=\"1264.1\" y=\"73.2\">Bézier curve</text>\n",
       "</g>\n",
       "<polyline clip-path=\"url(#clip532)\" style=\"stroke:#009af9; stroke-linecap:round; stroke-linejoin:round; stroke-width:4; stroke-opacity:1; fill:none\" points=\"\n",
       "  750.584,1079.96 803.706,1078.86 856.829,1075.58 909.951,1070.12 963.074,1062.47 1016.2,1052.63 1069.32,1040.6 1122.44,1026.39 1175.56,1010 1228.69,991.412 \n",
       "  1281.81,970.642 1334.93,947.685 1388.05,922.543 1441.18,895.214 1494.3,865.698 1547.42,833.997 1600.54,800.109 1653.66,764.035 1706.79,725.774 1759.91,685.327 \n",
       "  1813.03,642.694 1866.15,597.875 1919.28,550.869 1972.4,501.677 2025.52,450.298 2078.64,396.734 2131.77,340.982 2184.89,283.045 2238.01,222.921 2291.13,160.611 \n",
       "  \n",
       "  \"/>\n",
       "<circle clip-path=\"url(#clip532)\" cx=\"750.584\" cy=\"1079.96\" r=\"14.4\" fill=\"#009af9\" fill-rule=\"evenodd\" fill-opacity=\"1\" stroke=\"#000000\" stroke-opacity=\"1\" stroke-width=\"3.2\"/>\n",
       "<circle clip-path=\"url(#clip532)\" cx=\"803.706\" cy=\"1078.86\" r=\"14.4\" fill=\"#009af9\" fill-rule=\"evenodd\" fill-opacity=\"1\" stroke=\"#000000\" stroke-opacity=\"1\" stroke-width=\"3.2\"/>\n",
       "<circle clip-path=\"url(#clip532)\" cx=\"856.829\" cy=\"1075.58\" r=\"14.4\" fill=\"#009af9\" fill-rule=\"evenodd\" fill-opacity=\"1\" stroke=\"#000000\" stroke-opacity=\"1\" stroke-width=\"3.2\"/>\n",
       "<circle clip-path=\"url(#clip532)\" cx=\"909.951\" cy=\"1070.12\" r=\"14.4\" fill=\"#009af9\" fill-rule=\"evenodd\" fill-opacity=\"1\" stroke=\"#000000\" stroke-opacity=\"1\" stroke-width=\"3.2\"/>\n",
       "<circle clip-path=\"url(#clip532)\" cx=\"963.074\" cy=\"1062.47\" r=\"14.4\" fill=\"#009af9\" fill-rule=\"evenodd\" fill-opacity=\"1\" stroke=\"#000000\" stroke-opacity=\"1\" stroke-width=\"3.2\"/>\n",
       "<circle clip-path=\"url(#clip532)\" cx=\"1016.2\" cy=\"1052.63\" r=\"14.4\" fill=\"#009af9\" fill-rule=\"evenodd\" fill-opacity=\"1\" stroke=\"#000000\" stroke-opacity=\"1\" stroke-width=\"3.2\"/>\n",
       "<circle clip-path=\"url(#clip532)\" cx=\"1069.32\" cy=\"1040.6\" r=\"14.4\" fill=\"#009af9\" fill-rule=\"evenodd\" fill-opacity=\"1\" stroke=\"#000000\" stroke-opacity=\"1\" stroke-width=\"3.2\"/>\n",
       "<circle clip-path=\"url(#clip532)\" cx=\"1122.44\" cy=\"1026.39\" r=\"14.4\" fill=\"#009af9\" fill-rule=\"evenodd\" fill-opacity=\"1\" stroke=\"#000000\" stroke-opacity=\"1\" stroke-width=\"3.2\"/>\n",
       "<circle clip-path=\"url(#clip532)\" cx=\"1175.56\" cy=\"1010\" r=\"14.4\" fill=\"#009af9\" fill-rule=\"evenodd\" fill-opacity=\"1\" stroke=\"#000000\" stroke-opacity=\"1\" stroke-width=\"3.2\"/>\n",
       "<circle clip-path=\"url(#clip532)\" cx=\"1228.69\" cy=\"991.412\" r=\"14.4\" fill=\"#009af9\" fill-rule=\"evenodd\" fill-opacity=\"1\" stroke=\"#000000\" stroke-opacity=\"1\" stroke-width=\"3.2\"/>\n",
       "<circle clip-path=\"url(#clip532)\" cx=\"1281.81\" cy=\"970.642\" r=\"14.4\" fill=\"#009af9\" fill-rule=\"evenodd\" fill-opacity=\"1\" stroke=\"#000000\" stroke-opacity=\"1\" stroke-width=\"3.2\"/>\n",
       "<circle clip-path=\"url(#clip532)\" cx=\"1334.93\" cy=\"947.685\" r=\"14.4\" fill=\"#009af9\" fill-rule=\"evenodd\" fill-opacity=\"1\" stroke=\"#000000\" stroke-opacity=\"1\" stroke-width=\"3.2\"/>\n",
       "<circle clip-path=\"url(#clip532)\" cx=\"1388.05\" cy=\"922.543\" r=\"14.4\" fill=\"#009af9\" fill-rule=\"evenodd\" fill-opacity=\"1\" stroke=\"#000000\" stroke-opacity=\"1\" stroke-width=\"3.2\"/>\n",
       "<circle clip-path=\"url(#clip532)\" cx=\"1441.18\" cy=\"895.214\" r=\"14.4\" fill=\"#009af9\" fill-rule=\"evenodd\" fill-opacity=\"1\" stroke=\"#000000\" stroke-opacity=\"1\" stroke-width=\"3.2\"/>\n",
       "<circle clip-path=\"url(#clip532)\" cx=\"1494.3\" cy=\"865.698\" r=\"14.4\" fill=\"#009af9\" fill-rule=\"evenodd\" fill-opacity=\"1\" stroke=\"#000000\" stroke-opacity=\"1\" stroke-width=\"3.2\"/>\n",
       "<circle clip-path=\"url(#clip532)\" cx=\"1547.42\" cy=\"833.997\" r=\"14.4\" fill=\"#009af9\" fill-rule=\"evenodd\" fill-opacity=\"1\" stroke=\"#000000\" stroke-opacity=\"1\" stroke-width=\"3.2\"/>\n",
       "<circle clip-path=\"url(#clip532)\" cx=\"1600.54\" cy=\"800.109\" r=\"14.4\" fill=\"#009af9\" fill-rule=\"evenodd\" fill-opacity=\"1\" stroke=\"#000000\" stroke-opacity=\"1\" stroke-width=\"3.2\"/>\n",
       "<circle clip-path=\"url(#clip532)\" cx=\"1653.66\" cy=\"764.035\" r=\"14.4\" fill=\"#009af9\" fill-rule=\"evenodd\" fill-opacity=\"1\" stroke=\"#000000\" stroke-opacity=\"1\" stroke-width=\"3.2\"/>\n",
       "<circle clip-path=\"url(#clip532)\" cx=\"1706.79\" cy=\"725.774\" r=\"14.4\" fill=\"#009af9\" fill-rule=\"evenodd\" fill-opacity=\"1\" stroke=\"#000000\" stroke-opacity=\"1\" stroke-width=\"3.2\"/>\n",
       "<circle clip-path=\"url(#clip532)\" cx=\"1759.91\" cy=\"685.327\" r=\"14.4\" fill=\"#009af9\" fill-rule=\"evenodd\" fill-opacity=\"1\" stroke=\"#000000\" stroke-opacity=\"1\" stroke-width=\"3.2\"/>\n",
       "<circle clip-path=\"url(#clip532)\" cx=\"1813.03\" cy=\"642.694\" r=\"14.4\" fill=\"#009af9\" fill-rule=\"evenodd\" fill-opacity=\"1\" stroke=\"#000000\" stroke-opacity=\"1\" stroke-width=\"3.2\"/>\n",
       "<circle clip-path=\"url(#clip532)\" cx=\"1866.15\" cy=\"597.875\" r=\"14.4\" fill=\"#009af9\" fill-rule=\"evenodd\" fill-opacity=\"1\" stroke=\"#000000\" stroke-opacity=\"1\" stroke-width=\"3.2\"/>\n",
       "<circle clip-path=\"url(#clip532)\" cx=\"1919.28\" cy=\"550.869\" r=\"14.4\" fill=\"#009af9\" fill-rule=\"evenodd\" fill-opacity=\"1\" stroke=\"#000000\" stroke-opacity=\"1\" stroke-width=\"3.2\"/>\n",
       "<circle clip-path=\"url(#clip532)\" cx=\"1972.4\" cy=\"501.677\" r=\"14.4\" fill=\"#009af9\" fill-rule=\"evenodd\" fill-opacity=\"1\" stroke=\"#000000\" stroke-opacity=\"1\" stroke-width=\"3.2\"/>\n",
       "<circle clip-path=\"url(#clip532)\" cx=\"2025.52\" cy=\"450.298\" r=\"14.4\" fill=\"#009af9\" fill-rule=\"evenodd\" fill-opacity=\"1\" stroke=\"#000000\" stroke-opacity=\"1\" stroke-width=\"3.2\"/>\n",
       "<circle clip-path=\"url(#clip532)\" cx=\"2078.64\" cy=\"396.734\" r=\"14.4\" fill=\"#009af9\" fill-rule=\"evenodd\" fill-opacity=\"1\" stroke=\"#000000\" stroke-opacity=\"1\" stroke-width=\"3.2\"/>\n",
       "<circle clip-path=\"url(#clip532)\" cx=\"2131.77\" cy=\"340.982\" r=\"14.4\" fill=\"#009af9\" fill-rule=\"evenodd\" fill-opacity=\"1\" stroke=\"#000000\" stroke-opacity=\"1\" stroke-width=\"3.2\"/>\n",
       "<circle clip-path=\"url(#clip532)\" cx=\"2184.89\" cy=\"283.045\" r=\"14.4\" fill=\"#009af9\" fill-rule=\"evenodd\" fill-opacity=\"1\" stroke=\"#000000\" stroke-opacity=\"1\" stroke-width=\"3.2\"/>\n",
       "<circle clip-path=\"url(#clip532)\" cx=\"2238.01\" cy=\"222.921\" r=\"14.4\" fill=\"#009af9\" fill-rule=\"evenodd\" fill-opacity=\"1\" stroke=\"#000000\" stroke-opacity=\"1\" stroke-width=\"3.2\"/>\n",
       "<circle clip-path=\"url(#clip532)\" cx=\"2291.13\" cy=\"160.611\" r=\"14.4\" fill=\"#009af9\" fill-rule=\"evenodd\" fill-opacity=\"1\" stroke=\"#000000\" stroke-opacity=\"1\" stroke-width=\"3.2\"/>\n",
       "<polyline clip-path=\"url(#clip532)\" style=\"stroke:#e26f46; stroke-linecap:round; stroke-linejoin:round; stroke-width:12; stroke-opacity:1; fill:none\" points=\"\n",
       "  237.067,1079.96 750.584,1220.83 514.521,1123.61 677.435,1185.9 573.056,1143.25 644.533,1171.47 597.232,1152.29 629.373,1165.12 607.879,1156.44 622.419,1162.27 \n",
       "  612.655,1158.34 619.245,1160.98 614.813,1159.2 617.801,1160.4 615.789,1159.59 617.145,1160.13 \n",
       "  \"/>\n",
       "<circle clip-path=\"url(#clip532)\" cx=\"237.067\" cy=\"1079.96\" r=\"14.4\" fill=\"#e26f46\" fill-rule=\"evenodd\" fill-opacity=\"1\" stroke=\"#000000\" stroke-opacity=\"1\" stroke-width=\"3.2\"/>\n",
       "<circle clip-path=\"url(#clip532)\" cx=\"750.584\" cy=\"1220.83\" r=\"14.4\" fill=\"#e26f46\" fill-rule=\"evenodd\" fill-opacity=\"1\" stroke=\"#000000\" stroke-opacity=\"1\" stroke-width=\"3.2\"/>\n",
       "<circle clip-path=\"url(#clip532)\" cx=\"514.521\" cy=\"1123.61\" r=\"14.4\" fill=\"#e26f46\" fill-rule=\"evenodd\" fill-opacity=\"1\" stroke=\"#000000\" stroke-opacity=\"1\" stroke-width=\"3.2\"/>\n",
       "<circle clip-path=\"url(#clip532)\" cx=\"677.435\" cy=\"1185.9\" r=\"14.4\" fill=\"#e26f46\" fill-rule=\"evenodd\" fill-opacity=\"1\" stroke=\"#000000\" stroke-opacity=\"1\" stroke-width=\"3.2\"/>\n",
       "<circle clip-path=\"url(#clip532)\" cx=\"573.056\" cy=\"1143.25\" r=\"14.4\" fill=\"#e26f46\" fill-rule=\"evenodd\" fill-opacity=\"1\" stroke=\"#000000\" stroke-opacity=\"1\" stroke-width=\"3.2\"/>\n",
       "<circle clip-path=\"url(#clip532)\" cx=\"644.533\" cy=\"1171.47\" r=\"14.4\" fill=\"#e26f46\" fill-rule=\"evenodd\" fill-opacity=\"1\" stroke=\"#000000\" stroke-opacity=\"1\" stroke-width=\"3.2\"/>\n",
       "<circle clip-path=\"url(#clip532)\" cx=\"597.232\" cy=\"1152.29\" r=\"14.4\" fill=\"#e26f46\" fill-rule=\"evenodd\" fill-opacity=\"1\" stroke=\"#000000\" stroke-opacity=\"1\" stroke-width=\"3.2\"/>\n",
       "<circle clip-path=\"url(#clip532)\" cx=\"629.373\" cy=\"1165.12\" r=\"14.4\" fill=\"#e26f46\" fill-rule=\"evenodd\" fill-opacity=\"1\" stroke=\"#000000\" stroke-opacity=\"1\" stroke-width=\"3.2\"/>\n",
       "<circle clip-path=\"url(#clip532)\" cx=\"607.879\" cy=\"1156.44\" r=\"14.4\" fill=\"#e26f46\" fill-rule=\"evenodd\" fill-opacity=\"1\" stroke=\"#000000\" stroke-opacity=\"1\" stroke-width=\"3.2\"/>\n",
       "<circle clip-path=\"url(#clip532)\" cx=\"622.419\" cy=\"1162.27\" r=\"14.4\" fill=\"#e26f46\" fill-rule=\"evenodd\" fill-opacity=\"1\" stroke=\"#000000\" stroke-opacity=\"1\" stroke-width=\"3.2\"/>\n",
       "<circle clip-path=\"url(#clip532)\" cx=\"612.655\" cy=\"1158.34\" r=\"14.4\" fill=\"#e26f46\" fill-rule=\"evenodd\" fill-opacity=\"1\" stroke=\"#000000\" stroke-opacity=\"1\" stroke-width=\"3.2\"/>\n",
       "<circle clip-path=\"url(#clip532)\" cx=\"619.245\" cy=\"1160.98\" r=\"14.4\" fill=\"#e26f46\" fill-rule=\"evenodd\" fill-opacity=\"1\" stroke=\"#000000\" stroke-opacity=\"1\" stroke-width=\"3.2\"/>\n",
       "<circle clip-path=\"url(#clip532)\" cx=\"614.813\" cy=\"1159.2\" r=\"14.4\" fill=\"#e26f46\" fill-rule=\"evenodd\" fill-opacity=\"1\" stroke=\"#000000\" stroke-opacity=\"1\" stroke-width=\"3.2\"/>\n",
       "<circle clip-path=\"url(#clip532)\" cx=\"617.801\" cy=\"1160.4\" r=\"14.4\" fill=\"#e26f46\" fill-rule=\"evenodd\" fill-opacity=\"1\" stroke=\"#000000\" stroke-opacity=\"1\" stroke-width=\"3.2\"/>\n",
       "<circle clip-path=\"url(#clip532)\" cx=\"615.789\" cy=\"1159.59\" r=\"14.4\" fill=\"#e26f46\" fill-rule=\"evenodd\" fill-opacity=\"1\" stroke=\"#000000\" stroke-opacity=\"1\" stroke-width=\"3.2\"/>\n",
       "<circle clip-path=\"url(#clip532)\" cx=\"617.145\" cy=\"1160.13\" r=\"14.4\" fill=\"#e26f46\" fill-rule=\"evenodd\" fill-opacity=\"1\" stroke=\"#000000\" stroke-opacity=\"1\" stroke-width=\"3.2\"/>\n",
       "<path clip-path=\"url(#clip530)\" d=\"\n",
       "M1985.83 322.669 L2280.18 322.669 L2280.18 167.149 L1985.83 167.149  Z\n",
       "  \" fill=\"#ffffff\" fill-rule=\"evenodd\" fill-opacity=\"1\"/>\n",
       "<polyline clip-path=\"url(#clip530)\" style=\"stroke:#000000; stroke-linecap:round; stroke-linejoin:round; stroke-width:4; stroke-opacity:1; fill:none\" points=\"\n",
       "  1985.83,322.669 2280.18,322.669 2280.18,167.149 1985.83,167.149 1985.83,322.669 \n",
       "  \"/>\n",
       "<polyline clip-path=\"url(#clip530)\" style=\"stroke:#009af9; stroke-linecap:round; stroke-linejoin:round; stroke-width:4; stroke-opacity:1; fill:none\" points=\"\n",
       "  2010.02,218.989 2155.17,218.989 \n",
       "  \"/>\n",
       "<circle clip-path=\"url(#clip530)\" cx=\"2082.59\" cy=\"218.989\" r=\"20.1603\" fill=\"#009af9\" fill-rule=\"evenodd\" fill-opacity=\"1\" stroke=\"#000000\" stroke-opacity=\"1\" stroke-width=\"5.12\"/>\n",
       "<path clip-path=\"url(#clip530)\" d=\"M2193.21 238.676 Q2191.4 243.306 2189.69 244.718 Q2187.97 246.13 2185.1 246.13 L2181.7 246.13 L2181.7 242.565 L2184.2 242.565 Q2185.96 242.565 2186.93 241.732 Q2187.91 240.899 2189.09 237.797 L2189.85 235.852 L2179.36 210.343 L2183.88 210.343 L2191.98 230.621 L2200.08 210.343 L2204.6 210.343 L2193.21 238.676 Z\" fill=\"#000000\" fill-rule=\"evenodd\" fill-opacity=\"1\" /><path clip-path=\"url(#clip530)\" d=\"M2211.89 232.334 L2219.53 232.334 L2219.53 205.968 L2211.22 207.635 L2211.22 203.376 L2219.48 201.709 L2224.16 201.709 L2224.16 232.334 L2231.79 232.334 L2231.79 236.269 L2211.89 236.269 L2211.89 232.334 Z\" fill=\"#000000\" fill-rule=\"evenodd\" fill-opacity=\"1\" /><polyline clip-path=\"url(#clip530)\" style=\"stroke:#e26f46; stroke-linecap:round; stroke-linejoin:round; stroke-width:4; stroke-opacity:1; fill:none\" points=\"\n",
       "  2010.02,270.829 2155.17,270.829 \n",
       "  \"/>\n",
       "<circle clip-path=\"url(#clip530)\" cx=\"2082.59\" cy=\"270.829\" r=\"20.1603\" fill=\"#e26f46\" fill-rule=\"evenodd\" fill-opacity=\"1\" stroke=\"#000000\" stroke-opacity=\"1\" stroke-width=\"5.12\"/>\n",
       "<path clip-path=\"url(#clip530)\" d=\"M2193.21 290.516 Q2191.4 295.146 2189.69 296.558 Q2187.97 297.97 2185.1 297.97 L2181.7 297.97 L2181.7 294.405 L2184.2 294.405 Q2185.96 294.405 2186.93 293.572 Q2187.91 292.739 2189.09 289.637 L2189.85 287.692 L2179.36 262.183 L2183.88 262.183 L2191.98 282.461 L2200.08 262.183 L2204.6 262.183 L2193.21 290.516 Z\" fill=\"#000000\" fill-rule=\"evenodd\" fill-opacity=\"1\" /><path clip-path=\"url(#clip530)\" d=\"M2215.1 284.174 L2231.42 284.174 L2231.42 288.109 L2209.48 288.109 L2209.48 284.174 Q2212.14 281.419 2216.72 276.79 Q2221.33 272.137 2222.51 270.794 Q2224.76 268.271 2225.64 266.535 Q2226.54 264.776 2226.54 263.086 Q2226.54 260.331 2224.6 258.595 Q2222.67 256.859 2219.57 256.859 Q2217.37 256.859 2214.92 257.623 Q2212.49 258.387 2209.71 259.938 L2209.71 255.216 Q2212.54 254.081 2214.99 253.503 Q2217.44 252.924 2219.48 252.924 Q2224.85 252.924 2228.04 255.609 Q2231.24 258.294 2231.24 262.785 Q2231.24 264.915 2230.43 266.836 Q2229.64 268.734 2227.53 271.327 Q2226.96 271.998 2223.85 275.216 Q2220.75 278.41 2215.1 284.174 Z\" fill=\"#000000\" fill-rule=\"evenodd\" fill-opacity=\"1\" /></svg>\n"
      ]
     },
     "execution_count": 3,
     "metadata": {},
     "output_type": "execute_result"
    }
   ],
   "source": [
    "xstar, _ = newton(f, fp, 1.)\n",
    "g(x) = cos(x)\n",
    "gp(x) = -sin(x)\n",
    "\n",
    "\n",
    "function fixed_point(g, x, n)\n",
    "    xs = [x]\n",
    "    for k in 1:n\n",
    "        x = g(x)\n",
    "        append!(xs, x)\n",
    "    end\n",
    "    xs\n",
    "end\n",
    "\n",
    "xs = fixed_point(g, 0., 15)\n",
    "plot!(xs, g.(xs), seriestype=:path, marker=:auto)"
   ]
  },
  {
   "cell_type": "markdown",
   "id": "26eda74e",
   "metadata": {
    "slideshow": {
     "slide_type": "slide"
    }
   },
   "source": [
    "# Verifying fixed point convergence theory\n",
    "\n",
    "\n",
    "$$ \\left\\lvert \\frac{e_{k+1}}{e_k} \\right\\rvert \\to \\lvert g'(x_*) \\rvert $$"
   ]
  },
  {
   "cell_type": "code",
   "execution_count": 4,
   "id": "ba29642e",
   "metadata": {
    "cell_style": "split"
   },
   "outputs": [
    {
     "name": "stdout",
     "output_type": "stream",
     "text": [
      "gp(xstar) = -0.6736120293089505\n"
     ]
    },
    {
     "data": {
      "text/plain": [
       "15-element Vector{Float64}:\n",
       " -0.3530241034880909\n",
       " -0.7618685362635164\n",
       " -0.5959673878312852\n",
       " -0.7157653025686597\n",
       " -0.6414883589709152\n",
       " -0.6933762938713267\n",
       " -0.6595161800339986\n",
       " -0.6827343083372247\n",
       " -0.667303950535869\n",
       " -0.677785479788835\n",
       " -0.670766892391035\n",
       " -0.6755130653097281\n",
       " -0.6723244355324894\n",
       " -0.6744762481989985\n",
       " -0.6730283414604459"
      ]
     },
     "execution_count": 4,
     "metadata": {},
     "output_type": "execute_result"
    }
   ],
   "source": [
    "@show gp(xstar)\n",
    "es = xs .- xstar\n",
    "es[2:end] ./ es[1:end-1]"
   ]
  },
  {
   "cell_type": "code",
   "execution_count": 5,
   "id": "b353d06d",
   "metadata": {
    "cell_style": "split"
   },
   "outputs": [
    {
     "data": {
      "image/svg+xml": [
       "<?xml version=\"1.0\" encoding=\"utf-8\"?>\n",
       "<svg xmlns=\"http://www.w3.org/2000/svg\" xmlns:xlink=\"http://www.w3.org/1999/xlink\" width=\"600\" height=\"400\" viewBox=\"0 0 2400 1600\">\n",
       "<defs>\n",
       "  <clipPath id=\"clip570\">\n",
       "    <rect x=\"0\" y=\"0\" width=\"2400\" height=\"1600\"/>\n",
       "  </clipPath>\n",
       "</defs>\n",
       "<path clip-path=\"url(#clip570)\" d=\"\n",
       "M0 1600 L2400 1600 L2400 0 L0 0  Z\n",
       "  \" fill=\"#ffffff\" fill-rule=\"evenodd\" fill-opacity=\"1\"/>\n",
       "<defs>\n",
       "  <clipPath id=\"clip571\">\n",
       "    <rect x=\"480\" y=\"0\" width=\"1681\" height=\"1600\"/>\n",
       "  </clipPath>\n",
       "</defs>\n",
       "<defs>\n",
       "  <clipPath id=\"clip572\">\n",
       "    <rect x=\"175\" y=\"123\" width=\"2178\" height=\"1300\"/>\n",
       "  </clipPath>\n",
       "</defs>\n",
       "<path clip-path=\"url(#clip570)\" d=\"\n",
       "M188.574 1486.45 L2352.76 1486.45 L2352.76 47.2441 L188.574 47.2441  Z\n",
       "  \" fill=\"#ffffff\" fill-rule=\"evenodd\" fill-opacity=\"1\"/>\n",
       "<defs>\n",
       "  <clipPath id=\"clip573\">\n",
       "    <rect x=\"188\" y=\"47\" width=\"2165\" height=\"1440\"/>\n",
       "  </clipPath>\n",
       "</defs>\n",
       "<polyline clip-path=\"url(#clip573)\" style=\"stroke:#000000; stroke-linecap:round; stroke-linejoin:round; stroke-width:2; stroke-opacity:0.1; fill:none\" points=\"\n",
       "  522.049,1486.45 522.049,47.2441 \n",
       "  \"/>\n",
       "<polyline clip-path=\"url(#clip573)\" style=\"stroke:#000000; stroke-linecap:round; stroke-linejoin:round; stroke-width:2; stroke-opacity:0.1; fill:none\" points=\"\n",
       "  930.385,1486.45 930.385,47.2441 \n",
       "  \"/>\n",
       "<polyline clip-path=\"url(#clip573)\" style=\"stroke:#000000; stroke-linecap:round; stroke-linejoin:round; stroke-width:2; stroke-opacity:0.1; fill:none\" points=\"\n",
       "  1338.72,1486.45 1338.72,47.2441 \n",
       "  \"/>\n",
       "<polyline clip-path=\"url(#clip573)\" style=\"stroke:#000000; stroke-linecap:round; stroke-linejoin:round; stroke-width:2; stroke-opacity:0.1; fill:none\" points=\"\n",
       "  1747.06,1486.45 1747.06,47.2441 \n",
       "  \"/>\n",
       "<polyline clip-path=\"url(#clip573)\" style=\"stroke:#000000; stroke-linecap:round; stroke-linejoin:round; stroke-width:2; stroke-opacity:0.1; fill:none\" points=\"\n",
       "  2155.39,1486.45 2155.39,47.2441 \n",
       "  \"/>\n",
       "<polyline clip-path=\"url(#clip570)\" style=\"stroke:#000000; stroke-linecap:round; stroke-linejoin:round; stroke-width:4; stroke-opacity:1; fill:none\" points=\"\n",
       "  188.574,1486.45 2352.76,1486.45 \n",
       "  \"/>\n",
       "<polyline clip-path=\"url(#clip570)\" style=\"stroke:#000000; stroke-linecap:round; stroke-linejoin:round; stroke-width:4; stroke-opacity:1; fill:none\" points=\"\n",
       "  522.049,1486.45 522.049,1467.55 \n",
       "  \"/>\n",
       "<polyline clip-path=\"url(#clip570)\" style=\"stroke:#000000; stroke-linecap:round; stroke-linejoin:round; stroke-width:4; stroke-opacity:1; fill:none\" points=\"\n",
       "  930.385,1486.45 930.385,1467.55 \n",
       "  \"/>\n",
       "<polyline clip-path=\"url(#clip570)\" style=\"stroke:#000000; stroke-linecap:round; stroke-linejoin:round; stroke-width:4; stroke-opacity:1; fill:none\" points=\"\n",
       "  1338.72,1486.45 1338.72,1467.55 \n",
       "  \"/>\n",
       "<polyline clip-path=\"url(#clip570)\" style=\"stroke:#000000; stroke-linecap:round; stroke-linejoin:round; stroke-width:4; stroke-opacity:1; fill:none\" points=\"\n",
       "  1747.06,1486.45 1747.06,1467.55 \n",
       "  \"/>\n",
       "<polyline clip-path=\"url(#clip570)\" style=\"stroke:#000000; stroke-linecap:round; stroke-linejoin:round; stroke-width:4; stroke-opacity:1; fill:none\" points=\"\n",
       "  2155.39,1486.45 2155.39,1467.55 \n",
       "  \"/>\n",
       "<path clip-path=\"url(#clip570)\" d=\"M526.297 1530.21 Q529.653 1530.93 531.528 1533.2 Q533.426 1535.47 533.426 1538.8 Q533.426 1543.92 529.908 1546.72 Q526.389 1549.52 519.908 1549.52 Q517.732 1549.52 515.417 1549.08 Q513.125 1548.66 510.672 1547.81 L510.672 1543.29 Q512.616 1544.43 514.931 1545.01 Q517.246 1545.58 519.769 1545.58 Q524.167 1545.58 526.459 1543.85 Q528.773 1542.11 528.773 1538.8 Q528.773 1535.75 526.621 1534.03 Q524.491 1532.3 520.672 1532.3 L516.644 1532.3 L516.644 1528.45 L520.857 1528.45 Q524.306 1528.45 526.134 1527.09 Q527.963 1525.7 527.963 1523.11 Q527.963 1520.45 526.065 1519.03 Q524.19 1517.6 520.672 1517.6 Q518.75 1517.6 516.551 1518.01 Q514.352 1518.43 511.713 1519.31 L511.713 1515.14 Q514.375 1514.4 516.69 1514.03 Q519.028 1513.66 521.088 1513.66 Q526.412 1513.66 529.514 1516.09 Q532.616 1518.5 532.616 1522.62 Q532.616 1525.49 530.972 1527.48 Q529.329 1529.45 526.297 1530.21 Z\" fill=\"#000000\" fill-rule=\"evenodd\" fill-opacity=\"1\" /><path clip-path=\"url(#clip570)\" d=\"M930.79 1529.7 Q927.642 1529.7 925.79 1531.86 Q923.961 1534.01 923.961 1537.76 Q923.961 1541.49 925.79 1543.66 Q927.642 1545.82 930.79 1545.82 Q933.938 1545.82 935.767 1543.66 Q937.619 1541.49 937.619 1537.76 Q937.619 1534.01 935.767 1531.86 Q933.938 1529.7 930.79 1529.7 M940.072 1515.05 L940.072 1519.31 Q938.313 1518.48 936.508 1518.04 Q934.725 1517.6 932.966 1517.6 Q928.336 1517.6 925.883 1520.72 Q923.452 1523.85 923.105 1530.17 Q924.471 1528.15 926.531 1527.09 Q928.591 1526 931.068 1526 Q936.276 1526 939.285 1529.17 Q942.318 1532.32 942.318 1537.76 Q942.318 1543.08 939.17 1546.3 Q936.022 1549.52 930.79 1549.52 Q924.795 1549.52 921.623 1544.94 Q918.452 1540.33 918.452 1531.6 Q918.452 1523.41 922.341 1518.55 Q926.23 1513.66 932.781 1513.66 Q934.54 1513.66 936.322 1514.01 Q938.128 1514.36 940.072 1515.05 Z\" fill=\"#000000\" fill-rule=\"evenodd\" fill-opacity=\"1\" /><path clip-path=\"url(#clip570)\" d=\"M1329.02 1548.13 L1329.02 1543.87 Q1330.78 1544.7 1332.59 1545.14 Q1334.39 1545.58 1336.13 1545.58 Q1340.76 1545.58 1343.19 1542.48 Q1345.64 1539.36 1345.99 1533.01 Q1344.65 1535.01 1342.59 1536.07 Q1340.53 1537.13 1338.03 1537.13 Q1332.84 1537.13 1329.81 1534.01 Q1326.8 1530.86 1326.8 1525.42 Q1326.8 1520.1 1329.95 1516.88 Q1333.1 1513.66 1338.33 1513.66 Q1344.32 1513.66 1347.47 1518.27 Q1350.64 1522.85 1350.64 1531.6 Q1350.64 1539.77 1346.75 1544.66 Q1342.89 1549.52 1336.34 1549.52 Q1334.58 1549.52 1332.77 1549.17 Q1330.97 1548.82 1329.02 1548.13 M1338.33 1533.48 Q1341.48 1533.48 1343.3 1531.32 Q1345.16 1529.17 1345.16 1525.42 Q1345.16 1521.7 1343.3 1519.54 Q1341.48 1517.37 1338.33 1517.37 Q1335.18 1517.37 1333.33 1519.54 Q1331.5 1521.7 1331.5 1525.42 Q1331.5 1529.17 1333.33 1531.32 Q1335.18 1533.48 1338.33 1533.48 Z\" fill=\"#000000\" fill-rule=\"evenodd\" fill-opacity=\"1\" /><path clip-path=\"url(#clip570)\" d=\"M1722.54 1544.91 L1730.18 1544.91 L1730.18 1518.55 L1721.87 1520.21 L1721.87 1515.95 L1730.14 1514.29 L1734.81 1514.29 L1734.81 1544.91 L1742.45 1544.91 L1742.45 1548.85 L1722.54 1548.85 L1722.54 1544.91 Z\" fill=\"#000000\" fill-rule=\"evenodd\" fill-opacity=\"1\" /><path clip-path=\"url(#clip570)\" d=\"M1755.92 1544.91 L1772.24 1544.91 L1772.24 1548.85 L1750.3 1548.85 L1750.3 1544.91 Q1752.96 1542.16 1757.54 1537.53 Q1762.15 1532.88 1763.33 1531.53 Q1765.58 1529.01 1766.46 1527.27 Q1767.36 1525.51 1767.36 1523.82 Q1767.36 1521.07 1765.41 1519.33 Q1763.49 1517.6 1760.39 1517.6 Q1758.19 1517.6 1755.74 1518.36 Q1753.31 1519.13 1750.53 1520.68 L1750.53 1515.95 Q1753.35 1514.82 1755.81 1514.24 Q1758.26 1513.66 1760.3 1513.66 Q1765.67 1513.66 1768.86 1516.35 Q1772.06 1519.03 1772.06 1523.52 Q1772.06 1525.65 1771.25 1527.57 Q1770.46 1529.47 1768.35 1532.07 Q1767.77 1532.74 1764.67 1535.95 Q1761.57 1539.15 1755.92 1544.91 Z\" fill=\"#000000\" fill-rule=\"evenodd\" fill-opacity=\"1\" /><path clip-path=\"url(#clip570)\" d=\"M2130.58 1544.91 L2138.22 1544.91 L2138.22 1518.55 L2129.91 1520.21 L2129.91 1515.95 L2138.17 1514.29 L2142.85 1514.29 L2142.85 1544.91 L2150.49 1544.91 L2150.49 1548.85 L2130.58 1548.85 L2130.58 1544.91 Z\" fill=\"#000000\" fill-rule=\"evenodd\" fill-opacity=\"1\" /><path clip-path=\"url(#clip570)\" d=\"M2159.98 1514.29 L2178.33 1514.29 L2178.33 1518.22 L2164.26 1518.22 L2164.26 1526.7 Q2165.28 1526.35 2166.3 1526.19 Q2167.31 1526 2168.33 1526 Q2174.12 1526 2177.5 1529.17 Q2180.88 1532.34 2180.88 1537.76 Q2180.88 1543.34 2177.41 1546.44 Q2173.94 1549.52 2167.62 1549.52 Q2165.44 1549.52 2163.17 1549.15 Q2160.93 1548.78 2158.52 1548.04 L2158.52 1543.34 Q2160.6 1544.47 2162.82 1545.03 Q2165.05 1545.58 2167.52 1545.58 Q2171.53 1545.58 2173.87 1543.48 Q2176.2 1541.37 2176.2 1537.76 Q2176.2 1534.15 2173.87 1532.04 Q2171.53 1529.94 2167.52 1529.94 Q2165.65 1529.94 2163.77 1530.35 Q2161.92 1530.77 2159.98 1531.65 L2159.98 1514.29 Z\" fill=\"#000000\" fill-rule=\"evenodd\" fill-opacity=\"1\" /><polyline clip-path=\"url(#clip573)\" style=\"stroke:#000000; stroke-linecap:round; stroke-linejoin:round; stroke-width:2; stroke-opacity:0.1; fill:none\" points=\"\n",
       "  188.574,1458.23 2352.76,1458.23 \n",
       "  \"/>\n",
       "<polyline clip-path=\"url(#clip573)\" style=\"stroke:#000000; stroke-linecap:round; stroke-linejoin:round; stroke-width:2; stroke-opacity:0.1; fill:none\" points=\"\n",
       "  188.574,980.575 2352.76,980.575 \n",
       "  \"/>\n",
       "<polyline clip-path=\"url(#clip573)\" style=\"stroke:#000000; stroke-linecap:round; stroke-linejoin:round; stroke-width:2; stroke-opacity:0.1; fill:none\" points=\"\n",
       "  188.574,502.916 2352.76,502.916 \n",
       "  \"/>\n",
       "<polyline clip-path=\"url(#clip570)\" style=\"stroke:#000000; stroke-linecap:round; stroke-linejoin:round; stroke-width:4; stroke-opacity:1; fill:none\" points=\"\n",
       "  188.574,1486.45 188.574,47.2441 \n",
       "  \"/>\n",
       "<polyline clip-path=\"url(#clip570)\" style=\"stroke:#000000; stroke-linecap:round; stroke-linejoin:round; stroke-width:4; stroke-opacity:1; fill:none\" points=\"\n",
       "  188.574,1458.23 207.472,1458.23 \n",
       "  \"/>\n",
       "<polyline clip-path=\"url(#clip570)\" style=\"stroke:#000000; stroke-linecap:round; stroke-linejoin:round; stroke-width:4; stroke-opacity:1; fill:none\" points=\"\n",
       "  188.574,980.575 207.472,980.575 \n",
       "  \"/>\n",
       "<polyline clip-path=\"url(#clip570)\" style=\"stroke:#000000; stroke-linecap:round; stroke-linejoin:round; stroke-width:4; stroke-opacity:1; fill:none\" points=\"\n",
       "  188.574,502.916 207.472,502.916 \n",
       "  \"/>\n",
       "<path clip-path=\"url(#clip570)\" d=\"M51.6634 1478.03 L59.3023 1478.03 L59.3023 1451.66 L50.9921 1453.33 L50.9921 1449.07 L59.256 1447.4 L63.9319 1447.4 L63.9319 1478.03 L71.5707 1478.03 L71.5707 1481.96 L51.6634 1481.96 L51.6634 1478.03 Z\" fill=\"#000000\" fill-rule=\"evenodd\" fill-opacity=\"1\" /><path clip-path=\"url(#clip570)\" d=\"M91.0151 1450.48 Q87.404 1450.48 85.5753 1454.04 Q83.7697 1457.59 83.7697 1464.72 Q83.7697 1471.82 85.5753 1475.39 Q87.404 1478.93 91.0151 1478.93 Q94.6493 1478.93 96.4548 1475.39 Q98.2835 1471.82 98.2835 1464.72 Q98.2835 1457.59 96.4548 1454.04 Q94.6493 1450.48 91.0151 1450.48 M91.0151 1446.78 Q96.8252 1446.78 99.8808 1451.38 Q102.959 1455.97 102.959 1464.72 Q102.959 1473.44 99.8808 1478.05 Q96.8252 1482.63 91.0151 1482.63 Q85.2049 1482.63 82.1262 1478.05 Q79.0707 1473.44 79.0707 1464.72 Q79.0707 1455.97 82.1262 1451.38 Q85.2049 1446.78 91.0151 1446.78 Z\" fill=\"#000000\" fill-rule=\"evenodd\" fill-opacity=\"1\" /><path clip-path=\"url(#clip570)\" d=\"M102.959 1440.88 L127.071 1440.88 L127.071 1444.08 L102.959 1444.08 L102.959 1440.88 Z\" fill=\"#000000\" fill-rule=\"evenodd\" fill-opacity=\"1\" /><path clip-path=\"url(#clip570)\" d=\"M146.782 1439.41 Q149.509 1439.99 151.032 1441.84 Q152.574 1443.68 152.574 1446.39 Q152.574 1450.54 149.716 1452.82 Q146.857 1455.1 141.591 1455.1 Q139.823 1455.1 137.942 1454.74 Q136.08 1454.4 134.086 1453.7 L134.086 1450.04 Q135.666 1450.96 137.547 1451.43 Q139.428 1451.9 141.478 1451.9 Q145.051 1451.9 146.913 1450.49 Q148.794 1449.08 148.794 1446.39 Q148.794 1443.91 147.045 1442.51 Q145.315 1441.1 142.211 1441.1 L138.939 1441.1 L138.939 1437.98 L142.362 1437.98 Q145.164 1437.98 146.65 1436.87 Q148.136 1435.74 148.136 1433.64 Q148.136 1431.47 146.593 1430.33 Q145.07 1429.16 142.211 1429.16 Q140.65 1429.16 138.863 1429.5 Q137.077 1429.84 134.933 1430.55 L134.933 1427.17 Q137.096 1426.57 138.976 1426.26 Q140.876 1425.96 142.55 1425.96 Q146.876 1425.96 149.396 1427.94 Q151.916 1429.89 151.916 1433.24 Q151.916 1435.57 150.581 1437.19 Q149.245 1438.79 146.782 1439.41 Z\" fill=\"#000000\" fill-rule=\"evenodd\" fill-opacity=\"1\" /><path clip-path=\"url(#clip570)\" d=\"M52.4345 1000.37 L60.0734 1000.37 L60.0734 974.002 L51.7632 975.668 L51.7632 971.409 L60.0271 969.742 L64.703 969.742 L64.703 1000.37 L72.3418 1000.37 L72.3418 1004.3 L52.4345 1004.3 L52.4345 1000.37 Z\" fill=\"#000000\" fill-rule=\"evenodd\" fill-opacity=\"1\" /><path clip-path=\"url(#clip570)\" d=\"M91.7862 972.821 Q88.1751 972.821 86.3464 976.386 Q84.5408 979.928 84.5408 987.057 Q84.5408 994.164 86.3464 997.728 Q88.1751 1001.27 91.7862 1001.27 Q95.4204 1001.27 97.226 997.728 Q99.0547 994.164 99.0547 987.057 Q99.0547 979.928 97.226 976.386 Q95.4204 972.821 91.7862 972.821 M91.7862 969.117 Q97.5963 969.117 100.652 973.724 Q103.731 978.307 103.731 987.057 Q103.731 995.784 100.652 1000.39 Q97.5963 1004.97 91.7862 1004.97 Q85.976 1004.97 82.8973 1000.39 Q79.8418 995.784 79.8418 987.057 Q79.8418 978.307 82.8973 973.724 Q85.976 969.117 91.7862 969.117 Z\" fill=\"#000000\" fill-rule=\"evenodd\" fill-opacity=\"1\" /><path clip-path=\"url(#clip570)\" d=\"M103.731 963.219 L127.842 963.219 L127.842 966.416 L103.731 966.416 L103.731 963.219 Z\" fill=\"#000000\" fill-rule=\"evenodd\" fill-opacity=\"1\" /><path clip-path=\"url(#clip570)\" d=\"M139.315 973.695 L152.574 973.695 L152.574 976.892 L134.745 976.892 L134.745 973.695 Q136.907 971.457 140.631 967.695 Q144.374 963.915 145.333 962.824 Q147.158 960.774 147.872 959.363 Q148.606 957.934 148.606 956.561 Q148.606 954.323 147.026 952.912 Q145.465 951.502 142.945 951.502 Q141.158 951.502 139.164 952.122 Q137.19 952.743 134.933 954.003 L134.933 950.166 Q137.227 949.245 139.221 948.774 Q141.214 948.304 142.87 948.304 Q147.233 948.304 149.828 950.486 Q152.424 952.668 152.424 956.316 Q152.424 958.047 151.766 959.608 Q151.126 961.15 149.415 963.256 Q148.944 963.802 146.424 966.416 Q143.904 969.012 139.315 973.695 Z\" fill=\"#000000\" fill-rule=\"evenodd\" fill-opacity=\"1\" /><path clip-path=\"url(#clip570)\" d=\"M52.1336 522.708 L59.7725 522.708 L59.7725 496.343 L51.4623 498.009 L51.4623 493.75 L59.7262 492.084 L64.4021 492.084 L64.4021 522.708 L72.0409 522.708 L72.0409 526.644 L52.1336 526.644 L52.1336 522.708 Z\" fill=\"#000000\" fill-rule=\"evenodd\" fill-opacity=\"1\" /><path clip-path=\"url(#clip570)\" d=\"M91.4853 495.162 Q87.8742 495.162 86.0455 498.727 Q84.2399 502.269 84.2399 509.398 Q84.2399 516.505 86.0455 520.07 Q87.8742 523.611 91.4853 523.611 Q95.1195 523.611 96.925 520.07 Q98.7537 516.505 98.7537 509.398 Q98.7537 502.269 96.925 498.727 Q95.1195 495.162 91.4853 495.162 M91.4853 491.459 Q97.2954 491.459 100.351 496.065 Q103.43 500.648 103.43 509.398 Q103.43 518.125 100.351 522.732 Q97.2954 527.315 91.4853 527.315 Q85.6751 527.315 82.5964 522.732 Q79.5409 518.125 79.5409 509.398 Q79.5409 500.648 82.5964 496.065 Q85.6751 491.459 91.4853 491.459 Z\" fill=\"#000000\" fill-rule=\"evenodd\" fill-opacity=\"1\" /><path clip-path=\"url(#clip570)\" d=\"M103.43 485.56 L127.541 485.56 L127.541 488.757 L103.43 488.757 L103.43 485.56 Z\" fill=\"#000000\" fill-rule=\"evenodd\" fill-opacity=\"1\" /><path clip-path=\"url(#clip570)\" d=\"M136.4 496.036 L142.606 496.036 L142.606 474.614 L135.854 475.968 L135.854 472.507 L142.569 471.153 L146.368 471.153 L146.368 496.036 L152.574 496.036 L152.574 499.233 L136.4 499.233 L136.4 496.036 Z\" fill=\"#000000\" fill-rule=\"evenodd\" fill-opacity=\"1\" /><circle clip-path=\"url(#clip573)\" cx=\"249.825\" cy=\"87.9763\" r=\"14.4\" fill=\"#009af9\" fill-rule=\"evenodd\" fill-opacity=\"1\" stroke=\"#000000\" stroke-opacity=\"1\" stroke-width=\"3.2\"/>\n",
       "<circle clip-path=\"url(#clip573)\" cx=\"385.937\" cy=\"303.972\" r=\"14.4\" fill=\"#009af9\" fill-rule=\"evenodd\" fill-opacity=\"1\" stroke=\"#000000\" stroke-opacity=\"1\" stroke-width=\"3.2\"/>\n",
       "<circle clip-path=\"url(#clip573)\" cx=\"522.049\" cy=\"360.393\" r=\"14.4\" fill=\"#009af9\" fill-rule=\"evenodd\" fill-opacity=\"1\" stroke=\"#000000\" stroke-opacity=\"1\" stroke-width=\"3.2\"/>\n",
       "<circle clip-path=\"url(#clip573)\" cx=\"658.161\" cy=\"467.76\" r=\"14.4\" fill=\"#009af9\" fill-rule=\"evenodd\" fill-opacity=\"1\" stroke=\"#000000\" stroke-opacity=\"1\" stroke-width=\"3.2\"/>\n",
       "<circle clip-path=\"url(#clip573)\" cx=\"794.273\" cy=\"537.13\" r=\"14.4\" fill=\"#009af9\" fill-rule=\"evenodd\" fill-opacity=\"1\" stroke=\"#000000\" stroke-opacity=\"1\" stroke-width=\"3.2\"/>\n",
       "<circle clip-path=\"url(#clip573)\" cx=\"930.385\" cy=\"629.228\" r=\"14.4\" fill=\"#009af9\" fill-rule=\"evenodd\" fill-opacity=\"1\" stroke=\"#000000\" stroke-opacity=\"1\" stroke-width=\"3.2\"/>\n",
       "<circle clip-path=\"url(#clip573)\" cx=\"1066.5\" cy=\"705.19\" r=\"14.4\" fill=\"#009af9\" fill-rule=\"evenodd\" fill-opacity=\"1\" stroke=\"#000000\" stroke-opacity=\"1\" stroke-width=\"3.2\"/>\n",
       "<circle clip-path=\"url(#clip573)\" cx=\"1202.61\" cy=\"791.539\" r=\"14.4\" fill=\"#009af9\" fill-rule=\"evenodd\" fill-opacity=\"1\" stroke=\"#000000\" stroke-opacity=\"1\" stroke-width=\"3.2\"/>\n",
       "<circle clip-path=\"url(#clip573)\" cx=\"1338.72\" cy=\"870.71\" r=\"14.4\" fill=\"#009af9\" fill-rule=\"evenodd\" fill-opacity=\"1\" stroke=\"#000000\" stroke-opacity=\"1\" stroke-width=\"3.2\"/>\n",
       "<circle clip-path=\"url(#clip573)\" cx=\"1474.83\" cy=\"954.623\" r=\"14.4\" fill=\"#009af9\" fill-rule=\"evenodd\" fill-opacity=\"1\" stroke=\"#000000\" stroke-opacity=\"1\" stroke-width=\"3.2\"/>\n",
       "<circle clip-path=\"url(#clip573)\" cx=\"1610.95\" cy=\"1035.3\" r=\"14.4\" fill=\"#009af9\" fill-rule=\"evenodd\" fill-opacity=\"1\" stroke=\"#000000\" stroke-opacity=\"1\" stroke-width=\"3.2\"/>\n",
       "<circle clip-path=\"url(#clip573)\" cx=\"1747.06\" cy=\"1118.14\" r=\"14.4\" fill=\"#009af9\" fill-rule=\"evenodd\" fill-opacity=\"1\" stroke=\"#000000\" stroke-opacity=\"1\" stroke-width=\"3.2\"/>\n",
       "<circle clip-path=\"url(#clip573)\" cx=\"1883.17\" cy=\"1199.52\" r=\"14.4\" fill=\"#009af9\" fill-rule=\"evenodd\" fill-opacity=\"1\" stroke=\"#000000\" stroke-opacity=\"1\" stroke-width=\"3.2\"/>\n",
       "<circle clip-path=\"url(#clip573)\" cx=\"2019.28\" cy=\"1281.88\" r=\"14.4\" fill=\"#009af9\" fill-rule=\"evenodd\" fill-opacity=\"1\" stroke=\"#000000\" stroke-opacity=\"1\" stroke-width=\"3.2\"/>\n",
       "<circle clip-path=\"url(#clip573)\" cx=\"2155.39\" cy=\"1363.57\" r=\"14.4\" fill=\"#009af9\" fill-rule=\"evenodd\" fill-opacity=\"1\" stroke=\"#000000\" stroke-opacity=\"1\" stroke-width=\"3.2\"/>\n",
       "<circle clip-path=\"url(#clip573)\" cx=\"2291.51\" cy=\"1445.72\" r=\"14.4\" fill=\"#009af9\" fill-rule=\"evenodd\" fill-opacity=\"1\" stroke=\"#000000\" stroke-opacity=\"1\" stroke-width=\"3.2\"/>\n",
       "<polyline clip-path=\"url(#clip573)\" style=\"stroke:#e26f46; stroke-linecap:round; stroke-linejoin:round; stroke-width:12; stroke-opacity:1; fill:none\" points=\"\n",
       "  249.825,107.219 253.148,109.22 256.471,111.221 259.794,113.222 263.117,115.223 278.481,124.474 293.844,133.725 309.208,142.977 324.571,152.228 339.935,161.479 \n",
       "  355.298,170.731 370.662,179.982 386.025,189.233 404.491,200.353 422.956,211.472 441.422,222.591 459.888,233.711 475.5,243.112 491.113,252.513 506.725,261.914 \n",
       "  522.338,271.316 539.297,281.528 556.257,291.74 573.216,301.953 590.176,312.165 605.811,321.58 621.446,330.995 637.081,340.41 652.716,349.825 669.479,359.919 \n",
       "  686.241,370.012 703.004,380.106 719.767,390.2 739.188,401.895 758.609,413.589 778.03,425.284 797.451,436.978 831.969,457.764 866.487,478.55 896.757,496.777 \n",
       "  927.026,515.004 960.028,534.876 993.03,554.749 1026.23,574.739 1059.43,594.73 1096.13,616.832 1132.83,638.934 1167.76,659.964 1202.68,680.993 1275.31,724.725 \n",
       "  1336.44,761.538 1411.08,806.482 1479.45,847.654 1542.6,885.68 1606.57,924.198 1678.26,967.367 1743.22,1006.48 1817.6,1051.27 1886.46,1092.74 1954.36,1133.62 \n",
       "  2020.28,1173.32 2087.85,1214.01 2161.89,1258.59 2269.44,1323.36 2291.51,1336.64 \n",
       "  \"/>\n",
       "<path clip-path=\"url(#clip570)\" d=\"\n",
       "M1665.95 382.962 L2280.62 382.962 L2280.62 95.2176 L1665.95 95.2176  Z\n",
       "  \" fill=\"#ffffff\" fill-rule=\"evenodd\" fill-opacity=\"1\"/>\n",
       "<polyline clip-path=\"url(#clip570)\" style=\"stroke:#000000; stroke-linecap:round; stroke-linejoin:round; stroke-width:4; stroke-opacity:1; fill:none\" points=\"\n",
       "  1665.95,382.962 2280.62,382.962 2280.62,95.2176 1665.95,95.2176 1665.95,382.962 \n",
       "  \"/>\n",
       "<circle clip-path=\"url(#clip570)\" cx=\"1762.14\" cy=\"191.132\" r=\"34.56\" fill=\"#009af9\" fill-rule=\"evenodd\" fill-opacity=\"1\" stroke=\"#000000\" stroke-opacity=\"1\" stroke-width=\"7.68\"/>\n",
       "<path clip-path=\"url(#clip570)\" d=\"M1883.08 163.025 L1883.08 168.337 L1876.97 168.337 Q1873.53 168.337 1872.18 169.726 Q1870.86 171.115 1870.86 174.726 L1870.86 178.164 L1881.38 178.164 L1881.38 183.129 L1870.86 183.129 L1870.86 217.052 L1864.44 217.052 L1864.44 183.129 L1858.32 183.129 L1858.32 178.164 L1864.44 178.164 L1864.44 175.455 Q1864.44 168.962 1867.46 166.011 Q1870.48 163.025 1877.04 163.025 L1883.08 163.025 Z\" fill=\"#000000\" fill-rule=\"evenodd\" fill-opacity=\"1\" /><path clip-path=\"url(#clip570)\" d=\"M1888.43 178.164 L1894.82 178.164 L1894.82 217.052 L1888.43 217.052 L1888.43 178.164 M1888.43 163.025 L1894.82 163.025 L1894.82 171.115 L1888.43 171.115 L1888.43 163.025 Z\" fill=\"#000000\" fill-rule=\"evenodd\" fill-opacity=\"1\" /><path clip-path=\"url(#clip570)\" d=\"M1940.51 178.164 L1926.45 197.087 L1941.24 217.052 L1933.71 217.052 L1922.39 201.775 L1911.07 217.052 L1903.53 217.052 L1918.64 196.705 L1904.82 178.164 L1912.35 178.164 L1922.66 192.018 L1932.98 178.164 L1940.51 178.164 Z\" fill=\"#000000\" fill-rule=\"evenodd\" fill-opacity=\"1\" /><path clip-path=\"url(#clip570)\" d=\"M1981.34 196.011 L1981.34 199.136 L1951.97 199.136 Q1952.39 205.733 1955.93 209.205 Q1959.5 212.643 1965.86 212.643 Q1969.54 212.643 1972.98 211.74 Q1976.45 210.837 1979.85 209.032 L1979.85 215.073 Q1976.41 216.532 1972.8 217.295 Q1969.19 218.059 1965.48 218.059 Q1956.17 218.059 1950.72 212.643 Q1945.3 207.226 1945.3 197.99 Q1945.3 188.441 1950.44 182.851 Q1955.62 177.226 1964.37 177.226 Q1972.21 177.226 1976.76 182.296 Q1981.34 187.33 1981.34 196.011 M1974.96 194.136 Q1974.89 188.893 1972 185.768 Q1969.16 182.643 1964.43 182.643 Q1959.09 182.643 1955.86 185.664 Q1952.66 188.684 1952.18 194.171 L1974.96 194.136 Z\" fill=\"#000000\" fill-rule=\"evenodd\" fill-opacity=\"1\" /><path clip-path=\"url(#clip570)\" d=\"M2017.42 184.066 L2017.42 163.025 L2023.81 163.025 L2023.81 217.052 L2017.42 217.052 L2017.42 211.219 Q2015.41 214.691 2012.32 216.393 Q2009.26 218.059 2004.96 218.059 Q1997.91 218.059 1993.46 212.434 Q1989.05 206.809 1989.05 197.643 Q1989.05 188.476 1993.46 182.851 Q1997.91 177.226 2004.96 177.226 Q2009.26 177.226 2012.32 178.928 Q2015.41 180.594 2017.42 184.066 M1995.65 197.643 Q1995.65 204.691 1998.53 208.719 Q2001.45 212.712 2006.52 212.712 Q2011.59 212.712 2014.5 208.719 Q2017.42 204.691 2017.42 197.643 Q2017.42 190.594 2014.5 186.601 Q2011.59 182.573 2006.52 182.573 Q2001.45 182.573 1998.53 186.601 Q1995.65 190.594 1995.65 197.643 Z\" fill=\"#000000\" fill-rule=\"evenodd\" fill-opacity=\"1\" /><path clip-path=\"url(#clip570)\" d=\"M2065.75 211.219 L2065.75 231.844 L2059.33 231.844 L2059.33 178.164 L2065.75 178.164 L2065.75 184.066 Q2067.77 180.594 2070.82 178.928 Q2073.91 177.226 2078.18 177.226 Q2085.27 177.226 2089.68 182.851 Q2094.12 188.476 2094.12 197.643 Q2094.12 206.809 2089.68 212.434 Q2085.27 218.059 2078.18 218.059 Q2073.91 218.059 2070.82 216.393 Q2067.77 214.691 2065.75 211.219 M2087.49 197.643 Q2087.49 190.594 2084.57 186.601 Q2081.69 182.573 2076.62 182.573 Q2071.55 182.573 2068.64 186.601 Q2065.75 190.594 2065.75 197.643 Q2065.75 204.691 2068.64 208.719 Q2071.55 212.712 2076.62 212.712 Q2081.69 212.712 2084.57 208.719 Q2087.49 204.691 2087.49 197.643 Z\" fill=\"#000000\" fill-rule=\"evenodd\" fill-opacity=\"1\" /><path clip-path=\"url(#clip570)\" d=\"M2119.78 182.643 Q2114.64 182.643 2111.66 186.671 Q2108.67 190.664 2108.67 197.643 Q2108.67 204.622 2111.62 208.65 Q2114.61 212.643 2119.78 212.643 Q2124.89 212.643 2127.87 208.615 Q2130.86 204.587 2130.86 197.643 Q2130.86 190.733 2127.87 186.705 Q2124.89 182.643 2119.78 182.643 M2119.78 177.226 Q2128.11 177.226 2132.87 182.643 Q2137.63 188.059 2137.63 197.643 Q2137.63 207.191 2132.87 212.643 Q2128.11 218.059 2119.78 218.059 Q2111.41 218.059 2106.66 212.643 Q2101.93 207.191 2101.93 197.643 Q2101.93 188.059 2106.66 182.643 Q2111.41 177.226 2119.78 177.226 Z\" fill=\"#000000\" fill-rule=\"evenodd\" fill-opacity=\"1\" /><path clip-path=\"url(#clip570)\" d=\"M2148.22 178.164 L2154.61 178.164 L2154.61 217.052 L2148.22 217.052 L2148.22 178.164 M2148.22 163.025 L2154.61 163.025 L2154.61 171.115 L2148.22 171.115 L2148.22 163.025 Z\" fill=\"#000000\" fill-rule=\"evenodd\" fill-opacity=\"1\" /><path clip-path=\"url(#clip570)\" d=\"M2200.3 193.58 L2200.3 217.052 L2193.91 217.052 L2193.91 193.789 Q2193.91 188.268 2191.76 185.525 Q2189.61 182.782 2185.3 182.782 Q2180.13 182.782 2177.14 186.08 Q2174.16 189.379 2174.16 195.073 L2174.16 217.052 L2167.73 217.052 L2167.73 178.164 L2174.16 178.164 L2174.16 184.205 Q2176.45 180.698 2179.54 178.962 Q2182.66 177.226 2186.73 177.226 Q2193.43 177.226 2196.86 181.393 Q2200.3 185.525 2200.3 193.58 Z\" fill=\"#000000\" fill-rule=\"evenodd\" fill-opacity=\"1\" /><path clip-path=\"url(#clip570)\" d=\"M2219.36 167.122 L2219.36 178.164 L2232.52 178.164 L2232.52 183.129 L2219.36 183.129 L2219.36 204.24 Q2219.36 208.997 2220.65 210.351 Q2221.97 211.705 2225.96 211.705 L2232.52 211.705 L2232.52 217.052 L2225.96 217.052 Q2218.57 217.052 2215.75 214.309 Q2212.94 211.532 2212.94 204.24 L2212.94 183.129 L2208.25 183.129 L2208.25 178.164 L2212.94 178.164 L2212.94 167.122 L2219.36 167.122 Z\" fill=\"#000000\" fill-rule=\"evenodd\" fill-opacity=\"1\" /><polyline clip-path=\"url(#clip570)\" style=\"stroke:#e26f46; stroke-linecap:round; stroke-linejoin:round; stroke-width:6; stroke-opacity:1; fill:none\" points=\"\n",
       "  1690,287.047 1834.28,287.047 \n",
       "  \"/>\n",
       "<path clip-path=\"url(#clip570)\" d=\"M1858.32 333.03 L1858.32 266.03 Q1858.32 263.36 1859.76 263.36 Q1861.21 263.36 1861.21 265.503 L1861.21 332.503 Q1861.21 335.173 1859.76 335.173 Q1858.32 335.173 1858.32 333.03 Z\" fill=\"#000000\" fill-rule=\"evenodd\" fill-opacity=\"1\" /><path clip-path=\"url(#clip570)\" d=\"M1902.62 288.832 Q1902.62 288.867 1902.41 290.131 L1894.4 322.068 Q1893.97 323.754 1892.78 325.441 Q1891.62 327.162 1889.76 328.638 Q1887.93 330.149 1885.12 331.062 Q1882.35 332.011 1879.15 332.011 Q1874.05 332.011 1871.81 330.922 Q1869.59 329.868 1869.59 327.619 Q1869.59 325.652 1870.82 324.527 Q1872.05 323.438 1873.46 323.438 Q1874.79 323.438 1875.49 324.211 Q1876.2 324.984 1876.2 325.968 Q1876.2 327.057 1875.46 328.146 Q1874.72 329.27 1873.25 329.692 Q1875.6 330.43 1879.01 330.43 Q1886.21 330.43 1889.3 322.806 Q1889.37 322.7 1889.37 322.665 L1891.76 313.144 L1891.66 313.074 Q1891.06 313.776 1890.11 314.585 Q1889.2 315.357 1887.23 316.306 Q1885.26 317.255 1883.33 317.255 Q1879.29 317.255 1876.51 314.163 Q1873.77 311.036 1873.77 305.871 Q1873.77 302.112 1875.28 298.353 Q1876.83 294.558 1879.22 291.783 Q1881.64 288.972 1884.73 287.215 Q1887.86 285.459 1890.88 285.459 Q1892.99 285.459 1894.78 286.724 Q1896.57 287.953 1897.56 289.991 Q1897.73 288.305 1898.68 287.602 Q1899.67 286.899 1900.51 286.899 Q1901.46 286.899 1902.02 287.426 Q1902.62 287.918 1902.62 288.832 M1896.72 293.223 Q1896.72 293.012 1896.57 292.45 Q1896.43 291.853 1896.01 290.904 Q1895.63 289.956 1895.03 289.113 Q1894.43 288.269 1893.34 287.672 Q1892.29 287.04 1890.95 287.04 Q1888.77 287.04 1886.6 288.867 Q1884.42 290.658 1882.91 293.434 Q1881.5 296.104 1880.17 301.269 Q1878.87 306.433 1878.87 309.069 Q1878.87 311.668 1879.99 313.671 Q1881.12 315.674 1883.54 315.674 Q1886.35 315.674 1889.37 313.074 Q1892.5 310.368 1893.03 308.05 L1896.5 294.312 Q1896.72 293.469 1896.72 293.223 Z\" fill=\"#000000\" fill-rule=\"evenodd\" fill-opacity=\"1\" /><path clip-path=\"url(#clip570)\" d=\"M1909.26 269.473 Q1909.26 267.681 1910.35 266.943 Q1911.44 266.17 1912.6 266.17 Q1914.04 266.17 1914.95 267.049 Q1915.9 267.892 1915.9 269.473 Q1915.9 270.176 1915.83 270.562 L1913.44 292.275 L1911.79 292.275 L1909.33 270.562 Q1909.26 270.176 1909.26 269.473 Z\" fill=\"#000000\" fill-rule=\"evenodd\" fill-opacity=\"1\" /><path clip-path=\"url(#clip570)\" d=\"M1929.06 333.03 L1929.06 266.03 Q1929.06 263.36 1930.5 263.36 Q1931.94 263.36 1931.94 265.503 L1931.94 332.503 Q1931.94 335.173 1930.5 335.173 Q1929.06 335.173 1929.06 333.03 Z\" fill=\"#000000\" fill-rule=\"evenodd\" fill-opacity=\"1\" /><path clip-path=\"url(#clip570)\" d=\"M1962.38 254.622 Q1962.38 256.024 1961.52 256.86 Q1960.68 257.697 1959.63 257.697 Q1958.69 257.697 1958.2 257.156 Q1957.71 256.614 1957.71 255.926 Q1957.71 255.631 1957.83 255.262 Q1957.95 254.868 1958.22 254.401 Q1958.52 253.934 1959.13 253.589 Q1959.75 253.245 1960.58 253.196 Q1960.41 253.024 1960.36 252.999 Q1959.99 252.704 1959.31 252.606 Q1959.21 252.557 1958.86 252.557 Q1957.17 252.557 1955.44 253.811 Q1953.75 255.04 1951.66 257.377 Q1949.03 260.107 1947.33 261.115 Q1954.78 262.099 1954.78 266.403 Q1954.78 267.116 1954.58 267.977 Q1954.19 269.6 1954.19 270.78 Q1954.19 273.141 1955.79 273.141 Q1957.34 273.141 1958.32 271.567 Q1959.33 269.993 1960.17 266.919 Q1960.29 266.354 1960.41 266.181 Q1960.54 266.009 1960.88 266.009 Q1961.49 266.009 1961.49 266.501 Q1960.93 269.379 1959.67 271.592 Q1958.08 274.273 1955.69 274.273 Q1953.7 274.273 1952.37 272.895 Q1951.07 271.494 1951.07 269.28 Q1951.07 268.739 1951.26 267.509 Q1951.41 267.018 1951.41 266.452 Q1951.41 265.296 1950.77 264.435 Q1950.13 263.55 1949.1 263.107 Q1948.07 262.664 1947.21 262.468 Q1946.37 262.246 1945.56 262.173 Q1943.1 272.576 1942.75 273.215 Q1942.53 273.658 1942.04 273.953 Q1941.55 274.273 1941.03 274.273 Q1940.54 274.273 1940.05 273.928 Q1939.58 273.609 1939.58 272.846 Q1939.58 272.453 1939.78 271.74 L1947.08 242.719 L1947.23 241.735 Q1947.23 241.44 1947.11 241.293 Q1947.01 241.121 1946.42 240.998 Q1945.85 240.875 1944.72 240.875 Q1944.25 240.875 1944.03 240.85 Q1943.84 240.825 1943.66 240.702 Q1943.49 240.555 1943.49 240.26 Q1943.49 239.842 1943.66 239.62 Q1943.86 239.374 1944.01 239.325 Q1944.16 239.276 1944.45 239.251 Q1944.87 239.227 1946.27 239.104 Q1947.67 238.956 1948.88 238.858 Q1950.08 238.76 1950.6 238.76 Q1950.89 238.76 1951.04 238.907 Q1951.21 239.03 1951.24 239.178 L1951.26 239.301 L1946.02 260.549 Q1948.19 259.689 1951.61 255.877 Q1955.57 251.45 1958.96 251.45 Q1960.56 251.45 1961.47 252.434 Q1962.38 253.393 1962.38 254.622 Z\" fill=\"#000000\" fill-rule=\"evenodd\" fill-opacity=\"1\" /></svg>\n"
      ]
     },
     "execution_count": 5,
     "metadata": {},
     "output_type": "execute_result"
    }
   ],
   "source": [
    "scatter(abs.(es), yscale=:log10, label=\"fixed point\")\n",
    "plot!(k -> abs(gp(xstar))^k, label=\"\\$|g'|^k\\$\")"
   ]
  },
  {
   "cell_type": "markdown",
   "id": "265cad05",
   "metadata": {
    "slideshow": {
     "slide_type": "slide"
    }
   },
   "source": [
    "# Plotting Newton convergence"
   ]
  },
  {
   "cell_type": "code",
   "execution_count": 6,
   "id": "a67b8eff",
   "metadata": {
    "cell_style": "split"
   },
   "outputs": [
    {
     "data": {
      "text/plain": [
       "newton_hist (generic function with 1 method)"
      ]
     },
     "execution_count": 6,
     "metadata": {},
     "output_type": "execute_result"
    }
   ],
   "source": [
    "function newton_hist(f, fp, x0; tol=1e-12)\n",
    "    x = x0\n",
    "    hist = []\n",
    "    for k in 1:100 # max number of iterations\n",
    "        fx = f(x)\n",
    "        fpx = fp(x)\n",
    "        push!(hist, [x fx fpx])\n",
    "        if abs(fx) < tol\n",
    "            return vcat(hist...)\n",
    "        end\n",
    "        x = x - fx / fpx\n",
    "    end\n",
    "end"
   ]
  },
  {
   "cell_type": "code",
   "execution_count": 7,
   "id": "2ed9af8b",
   "metadata": {
    "cell_style": "split"
   },
   "outputs": [
    {
     "name": "stdout",
     "output_type": "stream",
     "text": [
      "x_star = xs[end, 1] = 0.7390851332151607\n"
     ]
    },
    {
     "data": {
      "image/svg+xml": [
       "<?xml version=\"1.0\" encoding=\"utf-8\"?>\n",
       "<svg xmlns=\"http://www.w3.org/2000/svg\" xmlns:xlink=\"http://www.w3.org/1999/xlink\" width=\"600\" height=\"400\" viewBox=\"0 0 2400 1600\">\n",
       "<defs>\n",
       "  <clipPath id=\"clip610\">\n",
       "    <rect x=\"0\" y=\"0\" width=\"2400\" height=\"1600\"/>\n",
       "  </clipPath>\n",
       "</defs>\n",
       "<path clip-path=\"url(#clip610)\" d=\"\n",
       "M0 1600 L2400 1600 L2400 0 L0 0  Z\n",
       "  \" fill=\"#ffffff\" fill-rule=\"evenodd\" fill-opacity=\"1\"/>\n",
       "<defs>\n",
       "  <clipPath id=\"clip611\">\n",
       "    <rect x=\"480\" y=\"0\" width=\"1681\" height=\"1600\"/>\n",
       "  </clipPath>\n",
       "</defs>\n",
       "<path clip-path=\"url(#clip610)\" d=\"\n",
       "M213.607 1486.45 L2352.76 1486.45 L2352.76 47.2441 L213.607 47.2441  Z\n",
       "  \" fill=\"#ffffff\" fill-rule=\"evenodd\" fill-opacity=\"1\"/>\n",
       "<defs>\n",
       "  <clipPath id=\"clip612\">\n",
       "    <rect x=\"213\" y=\"47\" width=\"2140\" height=\"1440\"/>\n",
       "  </clipPath>\n",
       "</defs>\n",
       "<polyline clip-path=\"url(#clip612)\" style=\"stroke:#000000; stroke-linecap:round; stroke-linejoin:round; stroke-width:2; stroke-opacity:0.1; fill:none\" points=\"\n",
       "  274.149,1486.45 274.149,47.2441 \n",
       "  \"/>\n",
       "<polyline clip-path=\"url(#clip612)\" style=\"stroke:#000000; stroke-linecap:round; stroke-linejoin:round; stroke-width:2; stroke-opacity:0.1; fill:none\" points=\"\n",
       "  946.838,1486.45 946.838,47.2441 \n",
       "  \"/>\n",
       "<polyline clip-path=\"url(#clip612)\" style=\"stroke:#000000; stroke-linecap:round; stroke-linejoin:round; stroke-width:2; stroke-opacity:0.1; fill:none\" points=\"\n",
       "  1619.53,1486.45 1619.53,47.2441 \n",
       "  \"/>\n",
       "<polyline clip-path=\"url(#clip612)\" style=\"stroke:#000000; stroke-linecap:round; stroke-linejoin:round; stroke-width:2; stroke-opacity:0.1; fill:none\" points=\"\n",
       "  2292.21,1486.45 2292.21,47.2441 \n",
       "  \"/>\n",
       "<polyline clip-path=\"url(#clip610)\" style=\"stroke:#000000; stroke-linecap:round; stroke-linejoin:round; stroke-width:4; stroke-opacity:1; fill:none\" points=\"\n",
       "  213.607,1486.45 2352.76,1486.45 \n",
       "  \"/>\n",
       "<polyline clip-path=\"url(#clip610)\" style=\"stroke:#000000; stroke-linecap:round; stroke-linejoin:round; stroke-width:4; stroke-opacity:1; fill:none\" points=\"\n",
       "  274.149,1486.45 274.149,1467.55 \n",
       "  \"/>\n",
       "<polyline clip-path=\"url(#clip610)\" style=\"stroke:#000000; stroke-linecap:round; stroke-linejoin:round; stroke-width:4; stroke-opacity:1; fill:none\" points=\"\n",
       "  946.838,1486.45 946.838,1467.55 \n",
       "  \"/>\n",
       "<polyline clip-path=\"url(#clip610)\" style=\"stroke:#000000; stroke-linecap:round; stroke-linejoin:round; stroke-width:4; stroke-opacity:1; fill:none\" points=\"\n",
       "  1619.53,1486.45 1619.53,1467.55 \n",
       "  \"/>\n",
       "<polyline clip-path=\"url(#clip610)\" style=\"stroke:#000000; stroke-linecap:round; stroke-linejoin:round; stroke-width:4; stroke-opacity:1; fill:none\" points=\"\n",
       "  2292.21,1486.45 2292.21,1467.55 \n",
       "  \"/>\n",
       "<path clip-path=\"url(#clip610)\" d=\"M264.531 1544.91 L272.17 1544.91 L272.17 1518.55 L263.86 1520.21 L263.86 1515.95 L272.124 1514.29 L276.8 1514.29 L276.8 1544.91 L284.439 1544.91 L284.439 1548.85 L264.531 1548.85 L264.531 1544.91 Z\" fill=\"#000000\" fill-rule=\"evenodd\" fill-opacity=\"1\" /><path clip-path=\"url(#clip610)\" d=\"M941.49 1544.91 L957.81 1544.91 L957.81 1548.85 L935.865 1548.85 L935.865 1544.91 Q938.527 1542.16 943.111 1537.53 Q947.717 1532.88 948.898 1531.53 Q951.143 1529.01 952.023 1527.27 Q952.926 1525.51 952.926 1523.82 Q952.926 1521.07 950.981 1519.33 Q949.06 1517.6 945.958 1517.6 Q943.759 1517.6 941.305 1518.36 Q938.875 1519.13 936.097 1520.68 L936.097 1515.95 Q938.921 1514.82 941.375 1514.24 Q943.828 1513.66 945.865 1513.66 Q951.236 1513.66 954.43 1516.35 Q957.625 1519.03 957.625 1523.52 Q957.625 1525.65 956.814 1527.57 Q956.027 1529.47 953.921 1532.07 Q953.342 1532.74 950.24 1535.95 Q947.139 1539.15 941.49 1544.91 Z\" fill=\"#000000\" fill-rule=\"evenodd\" fill-opacity=\"1\" /><path clip-path=\"url(#clip610)\" d=\"M1623.77 1530.21 Q1627.13 1530.93 1629 1533.2 Q1630.9 1535.47 1630.9 1538.8 Q1630.9 1543.92 1627.38 1546.72 Q1623.87 1549.52 1617.38 1549.52 Q1615.21 1549.52 1612.89 1549.08 Q1610.6 1548.66 1608.15 1547.81 L1608.15 1543.29 Q1610.09 1544.43 1612.41 1545.01 Q1614.72 1545.58 1617.25 1545.58 Q1621.64 1545.58 1623.94 1543.85 Q1626.25 1542.11 1626.25 1538.8 Q1626.25 1535.75 1624.1 1534.03 Q1621.97 1532.3 1618.15 1532.3 L1614.12 1532.3 L1614.12 1528.45 L1618.33 1528.45 Q1621.78 1528.45 1623.61 1527.09 Q1625.44 1525.7 1625.44 1523.11 Q1625.44 1520.45 1623.54 1519.03 Q1621.67 1517.6 1618.15 1517.6 Q1616.23 1517.6 1614.03 1518.01 Q1611.83 1518.43 1609.19 1519.31 L1609.19 1515.14 Q1611.85 1514.4 1614.17 1514.03 Q1616.5 1513.66 1618.57 1513.66 Q1623.89 1513.66 1626.99 1516.09 Q1630.09 1518.5 1630.09 1522.62 Q1630.09 1525.49 1628.45 1527.48 Q1626.81 1529.45 1623.77 1530.21 Z\" fill=\"#000000\" fill-rule=\"evenodd\" fill-opacity=\"1\" /><path clip-path=\"url(#clip610)\" d=\"M2295.22 1518.36 L2283.42 1536.81 L2295.22 1536.81 L2295.22 1518.36 M2294 1514.29 L2299.88 1514.29 L2299.88 1536.81 L2304.81 1536.81 L2304.81 1540.7 L2299.88 1540.7 L2299.88 1548.85 L2295.22 1548.85 L2295.22 1540.7 L2279.62 1540.7 L2279.62 1536.19 L2294 1514.29 Z\" fill=\"#000000\" fill-rule=\"evenodd\" fill-opacity=\"1\" /><polyline clip-path=\"url(#clip612)\" style=\"stroke:#000000; stroke-linecap:round; stroke-linejoin:round; stroke-width:2; stroke-opacity:0.1; fill:none\" points=\"\n",
       "  213.607,1231.34 2352.76,1231.34 \n",
       "  \"/>\n",
       "<polyline clip-path=\"url(#clip612)\" style=\"stroke:#000000; stroke-linecap:round; stroke-linejoin:round; stroke-width:2; stroke-opacity:0.1; fill:none\" points=\"\n",
       "  213.607,664.771 2352.76,664.771 \n",
       "  \"/>\n",
       "<polyline clip-path=\"url(#clip612)\" style=\"stroke:#000000; stroke-linecap:round; stroke-linejoin:round; stroke-width:2; stroke-opacity:0.1; fill:none\" points=\"\n",
       "  213.607,98.2004 2352.76,98.2004 \n",
       "  \"/>\n",
       "<polyline clip-path=\"url(#clip610)\" style=\"stroke:#000000; stroke-linecap:round; stroke-linejoin:round; stroke-width:4; stroke-opacity:1; fill:none\" points=\"\n",
       "  213.607,1486.45 213.607,47.2441 \n",
       "  \"/>\n",
       "<polyline clip-path=\"url(#clip610)\" style=\"stroke:#000000; stroke-linecap:round; stroke-linejoin:round; stroke-width:4; stroke-opacity:1; fill:none\" points=\"\n",
       "  213.607,1231.34 232.505,1231.34 \n",
       "  \"/>\n",
       "<polyline clip-path=\"url(#clip610)\" style=\"stroke:#000000; stroke-linecap:round; stroke-linejoin:round; stroke-width:4; stroke-opacity:1; fill:none\" points=\"\n",
       "  213.607,664.771 232.505,664.771 \n",
       "  \"/>\n",
       "<polyline clip-path=\"url(#clip610)\" style=\"stroke:#000000; stroke-linecap:round; stroke-linejoin:round; stroke-width:4; stroke-opacity:1; fill:none\" points=\"\n",
       "  213.607,98.2004 232.505,98.2004 \n",
       "  \"/>\n",
       "<path clip-path=\"url(#clip610)\" d=\"M51.6634 1251.13 L59.3023 1251.13 L59.3023 1224.77 L50.9921 1226.44 L50.9921 1222.18 L59.256 1220.51 L63.9319 1220.51 L63.9319 1251.13 L71.5707 1251.13 L71.5707 1255.07 L51.6634 1255.07 L51.6634 1251.13 Z\" fill=\"#000000\" fill-rule=\"evenodd\" fill-opacity=\"1\" /><path clip-path=\"url(#clip610)\" d=\"M91.0151 1223.59 Q87.404 1223.59 85.5753 1227.15 Q83.7697 1230.69 83.7697 1237.82 Q83.7697 1244.93 85.5753 1248.5 Q87.404 1252.04 91.0151 1252.04 Q94.6493 1252.04 96.4548 1248.5 Q98.2835 1244.93 98.2835 1237.82 Q98.2835 1230.69 96.4548 1227.15 Q94.6493 1223.59 91.0151 1223.59 M91.0151 1219.88 Q96.8252 1219.88 99.8808 1224.49 Q102.959 1229.07 102.959 1237.82 Q102.959 1246.55 99.8808 1251.16 Q96.8252 1255.74 91.0151 1255.74 Q85.2049 1255.74 82.1262 1251.16 Q79.0707 1246.55 79.0707 1237.82 Q79.0707 1229.07 82.1262 1224.49 Q85.2049 1219.88 91.0151 1219.88 Z\" fill=\"#000000\" fill-rule=\"evenodd\" fill-opacity=\"1\" /><path clip-path=\"url(#clip610)\" d=\"M102.959 1213.99 L127.071 1213.99 L127.071 1217.18 L102.959 1217.18 L102.959 1213.99 Z\" fill=\"#000000\" fill-rule=\"evenodd\" fill-opacity=\"1\" /><path clip-path=\"url(#clip610)\" d=\"M135.929 1224.46 L142.136 1224.46 L142.136 1203.04 L135.384 1204.39 L135.384 1200.93 L142.098 1199.58 L145.898 1199.58 L145.898 1224.46 L152.104 1224.46 L152.104 1227.66 L135.929 1227.66 L135.929 1224.46 Z\" fill=\"#000000\" fill-rule=\"evenodd\" fill-opacity=\"1\" /><path clip-path=\"url(#clip610)\" d=\"M167.903 1202.08 Q164.969 1202.08 163.483 1204.98 Q162.016 1207.85 162.016 1213.65 Q162.016 1219.42 163.483 1222.32 Q164.969 1225.19 167.903 1225.19 Q170.855 1225.19 172.322 1222.32 Q173.808 1219.42 173.808 1213.65 Q173.808 1207.85 172.322 1204.98 Q170.855 1202.08 167.903 1202.08 M167.903 1199.07 Q172.623 1199.07 175.106 1202.81 Q177.607 1206.54 177.607 1213.65 Q177.607 1220.74 175.106 1224.48 Q172.623 1228.2 167.903 1228.2 Q163.182 1228.2 160.68 1224.48 Q158.198 1220.74 158.198 1213.65 Q158.198 1206.54 160.68 1202.81 Q163.182 1199.07 167.903 1199.07 Z\" fill=\"#000000\" fill-rule=\"evenodd\" fill-opacity=\"1\" /><path clip-path=\"url(#clip610)\" d=\"M76.9787 684.563 L84.6175 684.563 L84.6175 658.198 L76.3074 659.864 L76.3074 655.605 L84.5712 653.939 L89.2471 653.939 L89.2471 684.563 L96.886 684.563 L96.886 688.499 L76.9787 688.499 L76.9787 684.563 Z\" fill=\"#000000\" fill-rule=\"evenodd\" fill-opacity=\"1\" /><path clip-path=\"url(#clip610)\" d=\"M116.33 657.017 Q112.719 657.017 110.891 660.582 Q109.085 664.124 109.085 671.253 Q109.085 678.36 110.891 681.925 Q112.719 685.466 116.33 685.466 Q119.965 685.466 121.77 681.925 Q123.599 678.36 123.599 671.253 Q123.599 664.124 121.77 660.582 Q119.965 657.017 116.33 657.017 M116.33 653.314 Q122.14 653.314 125.196 657.92 Q128.275 662.503 128.275 671.253 Q128.275 679.98 125.196 684.587 Q122.14 689.17 116.33 689.17 Q110.52 689.17 107.441 684.587 Q104.386 679.98 104.386 671.253 Q104.386 662.503 107.441 657.92 Q110.52 653.314 116.33 653.314 Z\" fill=\"#000000\" fill-rule=\"evenodd\" fill-opacity=\"1\" /><path clip-path=\"url(#clip610)\" d=\"M128.275 647.415 L152.386 647.415 L152.386 650.612 L128.275 650.612 L128.275 647.415 Z\" fill=\"#000000\" fill-rule=\"evenodd\" fill-opacity=\"1\" /><path clip-path=\"url(#clip610)\" d=\"M160.624 633.008 L175.539 633.008 L175.539 636.205 L164.103 636.205 L164.103 643.089 Q164.931 642.807 165.759 642.675 Q166.586 642.525 167.414 642.525 Q172.116 642.525 174.862 645.102 Q177.607 647.678 177.607 652.079 Q177.607 656.612 174.786 659.132 Q171.965 661.634 166.831 661.634 Q165.063 661.634 163.22 661.333 Q161.395 661.032 159.439 660.43 L159.439 656.612 Q161.132 657.533 162.937 657.985 Q164.743 658.436 166.755 658.436 Q170.009 658.436 171.909 656.725 Q173.808 655.013 173.808 652.079 Q173.808 649.145 171.909 647.434 Q170.009 645.722 166.755 645.722 Q165.232 645.722 163.709 646.061 Q162.204 646.399 160.624 647.114 L160.624 633.008 Z\" fill=\"#000000\" fill-rule=\"evenodd\" fill-opacity=\"1\" /><path clip-path=\"url(#clip610)\" d=\"M106.902 117.993 L114.541 117.993 L114.541 91.6272 L106.231 93.2939 L106.231 89.0346 L114.494 87.368 L119.17 87.368 L119.17 117.993 L126.809 117.993 L126.809 121.928 L106.902 121.928 L106.902 117.993 Z\" fill=\"#000000\" fill-rule=\"evenodd\" fill-opacity=\"1\" /><path clip-path=\"url(#clip610)\" d=\"M146.253 90.4467 Q142.642 90.4467 140.814 94.0115 Q139.008 97.5531 139.008 104.683 Q139.008 111.789 140.814 115.354 Q142.642 118.896 146.253 118.896 Q149.888 118.896 151.693 115.354 Q153.522 111.789 153.522 104.683 Q153.522 97.5531 151.693 94.0115 Q149.888 90.4467 146.253 90.4467 M146.253 86.743 Q152.064 86.743 155.119 91.3494 Q158.198 95.9328 158.198 104.683 Q158.198 113.41 155.119 118.016 Q152.064 122.599 146.253 122.599 Q140.443 122.599 137.365 118.016 Q134.309 113.41 134.309 104.683 Q134.309 95.9328 137.365 91.3494 Q140.443 86.743 146.253 86.743 Z\" fill=\"#000000\" fill-rule=\"evenodd\" fill-opacity=\"1\" /><path clip-path=\"url(#clip610)\" d=\"M167.903 68.939 Q164.969 68.939 163.483 71.8354 Q162.016 74.713 162.016 80.5058 Q162.016 86.2798 163.483 89.1762 Q164.969 92.0538 167.903 92.0538 Q170.855 92.0538 172.322 89.1762 Q173.808 86.2798 173.808 80.5058 Q173.808 74.713 172.322 71.8354 Q170.855 68.939 167.903 68.939 M167.903 65.9298 Q172.623 65.9298 175.106 69.6725 Q177.607 73.3965 177.607 80.5058 Q177.607 87.5963 175.106 91.3391 Q172.623 95.063 167.903 95.063 Q163.182 95.063 160.68 91.3391 Q158.198 87.5963 158.198 80.5058 Q158.198 73.3965 160.68 69.6725 Q163.182 65.9298 167.903 65.9298 Z\" fill=\"#000000\" fill-rule=\"evenodd\" fill-opacity=\"1\" /><polyline clip-path=\"url(#clip612)\" style=\"stroke:#009af9; stroke-linecap:round; stroke-linejoin:round; stroke-width:12; stroke-opacity:1; fill:none\" points=\"\n",
       "  274.149,87.9763 946.838,379.244 1619.53,734.791 2292.21,1445.72 \n",
       "  \"/>\n",
       "<line clip-path=\"url(#clip612)\" x1=\"274.149\" y1=\"87.9763\" x2=\"274.149\" y2=\"71.9763\" style=\"stroke:#009af9; stroke-width:3.2; stroke-opacity:1\"/>\n",
       "<line clip-path=\"url(#clip612)\" x1=\"274.149\" y1=\"87.9763\" x2=\"258.149\" y2=\"87.9763\" style=\"stroke:#009af9; stroke-width:3.2; stroke-opacity:1\"/>\n",
       "<line clip-path=\"url(#clip612)\" x1=\"274.149\" y1=\"87.9763\" x2=\"274.149\" y2=\"103.976\" style=\"stroke:#009af9; stroke-width:3.2; stroke-opacity:1\"/>\n",
       "<line clip-path=\"url(#clip612)\" x1=\"274.149\" y1=\"87.9763\" x2=\"290.149\" y2=\"87.9763\" style=\"stroke:#009af9; stroke-width:3.2; stroke-opacity:1\"/>\n",
       "<line clip-path=\"url(#clip612)\" x1=\"946.838\" y1=\"379.244\" x2=\"946.838\" y2=\"363.244\" style=\"stroke:#009af9; stroke-width:3.2; stroke-opacity:1\"/>\n",
       "<line clip-path=\"url(#clip612)\" x1=\"946.838\" y1=\"379.244\" x2=\"930.838\" y2=\"379.244\" style=\"stroke:#009af9; stroke-width:3.2; stroke-opacity:1\"/>\n",
       "<line clip-path=\"url(#clip612)\" x1=\"946.838\" y1=\"379.244\" x2=\"946.838\" y2=\"395.244\" style=\"stroke:#009af9; stroke-width:3.2; stroke-opacity:1\"/>\n",
       "<line clip-path=\"url(#clip612)\" x1=\"946.838\" y1=\"379.244\" x2=\"962.838\" y2=\"379.244\" style=\"stroke:#009af9; stroke-width:3.2; stroke-opacity:1\"/>\n",
       "<line clip-path=\"url(#clip612)\" x1=\"1619.53\" y1=\"734.791\" x2=\"1619.53\" y2=\"718.791\" style=\"stroke:#009af9; stroke-width:3.2; stroke-opacity:1\"/>\n",
       "<line clip-path=\"url(#clip612)\" x1=\"1619.53\" y1=\"734.791\" x2=\"1603.53\" y2=\"734.791\" style=\"stroke:#009af9; stroke-width:3.2; stroke-opacity:1\"/>\n",
       "<line clip-path=\"url(#clip612)\" x1=\"1619.53\" y1=\"734.791\" x2=\"1619.53\" y2=\"750.791\" style=\"stroke:#009af9; stroke-width:3.2; stroke-opacity:1\"/>\n",
       "<line clip-path=\"url(#clip612)\" x1=\"1619.53\" y1=\"734.791\" x2=\"1635.53\" y2=\"734.791\" style=\"stroke:#009af9; stroke-width:3.2; stroke-opacity:1\"/>\n",
       "<line clip-path=\"url(#clip612)\" x1=\"2292.21\" y1=\"1445.72\" x2=\"2292.21\" y2=\"1429.72\" style=\"stroke:#009af9; stroke-width:3.2; stroke-opacity:1\"/>\n",
       "<line clip-path=\"url(#clip612)\" x1=\"2292.21\" y1=\"1445.72\" x2=\"2276.21\" y2=\"1445.72\" style=\"stroke:#009af9; stroke-width:3.2; stroke-opacity:1\"/>\n",
       "<line clip-path=\"url(#clip612)\" x1=\"2292.21\" y1=\"1445.72\" x2=\"2292.21\" y2=\"1461.72\" style=\"stroke:#009af9; stroke-width:3.2; stroke-opacity:1\"/>\n",
       "<line clip-path=\"url(#clip612)\" x1=\"2292.21\" y1=\"1445.72\" x2=\"2308.21\" y2=\"1445.72\" style=\"stroke:#009af9; stroke-width:3.2; stroke-opacity:1\"/>\n",
       "<path clip-path=\"url(#clip610)\" d=\"\n",
       "M1965.12 250.738 L2281.45 250.738 L2281.45 95.2176 L1965.12 95.2176  Z\n",
       "  \" fill=\"#ffffff\" fill-rule=\"evenodd\" fill-opacity=\"1\"/>\n",
       "<polyline clip-path=\"url(#clip610)\" style=\"stroke:#000000; stroke-linecap:round; stroke-linejoin:round; stroke-width:4; stroke-opacity:1; fill:none\" points=\"\n",
       "  1965.12,250.738 2281.45,250.738 2281.45,95.2176 1965.12,95.2176 1965.12,250.738 \n",
       "  \"/>\n",
       "<polyline clip-path=\"url(#clip610)\" style=\"stroke:#009af9; stroke-linecap:round; stroke-linejoin:round; stroke-width:6; stroke-opacity:1; fill:none\" points=\"\n",
       "  1988.89,172.978 2131.5,172.978 \n",
       "  \"/>\n",
       "<line clip-path=\"url(#clip610)\" x1=\"2060.2\" y1=\"172.978\" x2=\"2060.2\" y2=\"158.306\" style=\"stroke:#009af9; stroke-width:7.68; stroke-opacity:1\"/>\n",
       "<line clip-path=\"url(#clip610)\" x1=\"2060.2\" y1=\"172.978\" x2=\"2045.52\" y2=\"172.978\" style=\"stroke:#009af9; stroke-width:7.68; stroke-opacity:1\"/>\n",
       "<line clip-path=\"url(#clip610)\" x1=\"2060.2\" y1=\"172.978\" x2=\"2060.2\" y2=\"187.649\" style=\"stroke:#009af9; stroke-width:7.68; stroke-opacity:1\"/>\n",
       "<line clip-path=\"url(#clip610)\" x1=\"2060.2\" y1=\"172.978\" x2=\"2074.87\" y2=\"172.978\" style=\"stroke:#009af9; stroke-width:7.68; stroke-opacity:1\"/>\n",
       "<path clip-path=\"url(#clip610)\" d=\"M2176.03 202.509 Q2173.32 209.453 2170.75 211.571 Q2168.19 213.689 2163.88 213.689 L2158.78 213.689 L2158.78 208.342 L2162.53 208.342 Q2165.16 208.342 2166.62 207.092 Q2168.08 205.842 2169.85 201.189 L2171 198.273 L2155.27 160.009 L2162.04 160.009 L2174.19 190.425 L2186.35 160.009 L2193.12 160.009 L2176.03 202.509 Z\" fill=\"#000000\" fill-rule=\"evenodd\" fill-opacity=\"1\" /><path clip-path=\"url(#clip610)\" d=\"M2204.05 192.995 L2215.51 192.995 L2215.51 153.446 L2203.05 155.946 L2203.05 149.558 L2215.44 147.058 L2222.46 147.058 L2222.46 192.995 L2233.91 192.995 L2233.91 198.898 L2204.05 198.898 L2204.05 192.995 Z\" fill=\"#000000\" fill-rule=\"evenodd\" fill-opacity=\"1\" /></svg>\n"
      ]
     },
     "execution_count": 7,
     "metadata": {},
     "output_type": "execute_result"
    }
   ],
   "source": [
    "xs = newton_hist(f, fp, 1.97)\n",
    "@show x_star = xs[end,1]\n",
    "plot(xs[1:end-1,1] .- x_star, yscale=:log10, marker=:auto)"
   ]
  },
  {
   "cell_type": "markdown",
   "id": "51533606",
   "metadata": {},
   "source": [
    "## Poll: Is this convergence A=q-linear, B=r-linear, C=neither?"
   ]
  },
  {
   "cell_type": "markdown",
   "id": "71c6fde1",
   "metadata": {
    "slideshow": {
     "slide_type": "slide"
    }
   },
   "source": [
    "# Formulations are not unique (functions)\n",
    "\n",
    "If $x = g(x)$ then\n",
    "$$x = \\underbrace{x + h(x) \\big(g(x) - x\\big)}_{g_3(x)}$$\n",
    "for any smooth $h(x) \\ne 0$. Can we choose $h(x)$ to make $\\lvert g_3'(x) \\rvert$ small?"
   ]
  },
  {
   "cell_type": "code",
   "execution_count": 9,
   "id": "8fd20aa4",
   "metadata": {
    "cell_style": "split",
    "scrolled": false,
    "slideshow": {
     "slide_type": ""
    }
   },
   "outputs": [
    {
     "data": {
      "image/svg+xml": [
       "<?xml version=\"1.0\" encoding=\"utf-8\"?>\n",
       "<svg xmlns=\"http://www.w3.org/2000/svg\" xmlns:xlink=\"http://www.w3.org/1999/xlink\" width=\"600\" height=\"400\" viewBox=\"0 0 2400 1600\">\n",
       "<defs>\n",
       "  <clipPath id=\"clip650\">\n",
       "    <rect x=\"0\" y=\"0\" width=\"2400\" height=\"1600\"/>\n",
       "  </clipPath>\n",
       "</defs>\n",
       "<path clip-path=\"url(#clip650)\" d=\"\n",
       "M0 1600 L2400 1600 L2400 0 L0 0  Z\n",
       "  \" fill=\"#ffffff\" fill-rule=\"evenodd\" fill-opacity=\"1\"/>\n",
       "<defs>\n",
       "  <clipPath id=\"clip651\">\n",
       "    <rect x=\"480\" y=\"0\" width=\"1681\" height=\"1600\"/>\n",
       "  </clipPath>\n",
       "</defs>\n",
       "<path clip-path=\"url(#clip650)\" d=\"\n",
       "M193.936 1486.45 L2352.76 1486.45 L2352.76 47.2441 L193.936 47.2441  Z\n",
       "  \" fill=\"#ffffff\" fill-rule=\"evenodd\" fill-opacity=\"1\"/>\n",
       "<defs>\n",
       "  <clipPath id=\"clip652\">\n",
       "    <rect x=\"193\" y=\"47\" width=\"2160\" height=\"1440\"/>\n",
       "  </clipPath>\n",
       "</defs>\n",
       "<polyline clip-path=\"url(#clip652)\" style=\"stroke:#000000; stroke-linecap:round; stroke-linejoin:round; stroke-width:2; stroke-opacity:0.1; fill:none\" points=\"\n",
       "  458.697,1486.45 458.697,47.2441 \n",
       "  \"/>\n",
       "<polyline clip-path=\"url(#clip652)\" style=\"stroke:#000000; stroke-linecap:round; stroke-linejoin:round; stroke-width:2; stroke-opacity:0.1; fill:none\" points=\"\n",
       "  866.021,1486.45 866.021,47.2441 \n",
       "  \"/>\n",
       "<polyline clip-path=\"url(#clip652)\" style=\"stroke:#000000; stroke-linecap:round; stroke-linejoin:round; stroke-width:2; stroke-opacity:0.1; fill:none\" points=\"\n",
       "  1273.35,1486.45 1273.35,47.2441 \n",
       "  \"/>\n",
       "<polyline clip-path=\"url(#clip652)\" style=\"stroke:#000000; stroke-linecap:round; stroke-linejoin:round; stroke-width:2; stroke-opacity:0.1; fill:none\" points=\"\n",
       "  1680.67,1486.45 1680.67,47.2441 \n",
       "  \"/>\n",
       "<polyline clip-path=\"url(#clip652)\" style=\"stroke:#000000; stroke-linecap:round; stroke-linejoin:round; stroke-width:2; stroke-opacity:0.1; fill:none\" points=\"\n",
       "  2087.99,1486.45 2087.99,47.2441 \n",
       "  \"/>\n",
       "<polyline clip-path=\"url(#clip650)\" style=\"stroke:#000000; stroke-linecap:round; stroke-linejoin:round; stroke-width:4; stroke-opacity:1; fill:none\" points=\"\n",
       "  193.936,1486.45 2352.76,1486.45 \n",
       "  \"/>\n",
       "<polyline clip-path=\"url(#clip650)\" style=\"stroke:#000000; stroke-linecap:round; stroke-linejoin:round; stroke-width:4; stroke-opacity:1; fill:none\" points=\"\n",
       "  458.697,1486.45 458.697,1467.55 \n",
       "  \"/>\n",
       "<polyline clip-path=\"url(#clip650)\" style=\"stroke:#000000; stroke-linecap:round; stroke-linejoin:round; stroke-width:4; stroke-opacity:1; fill:none\" points=\"\n",
       "  866.021,1486.45 866.021,1467.55 \n",
       "  \"/>\n",
       "<polyline clip-path=\"url(#clip650)\" style=\"stroke:#000000; stroke-linecap:round; stroke-linejoin:round; stroke-width:4; stroke-opacity:1; fill:none\" points=\"\n",
       "  1273.35,1486.45 1273.35,1467.55 \n",
       "  \"/>\n",
       "<polyline clip-path=\"url(#clip650)\" style=\"stroke:#000000; stroke-linecap:round; stroke-linejoin:round; stroke-width:4; stroke-opacity:1; fill:none\" points=\"\n",
       "  1680.67,1486.45 1680.67,1467.55 \n",
       "  \"/>\n",
       "<polyline clip-path=\"url(#clip650)\" style=\"stroke:#000000; stroke-linecap:round; stroke-linejoin:round; stroke-width:4; stroke-opacity:1; fill:none\" points=\"\n",
       "  2087.99,1486.45 2087.99,1467.55 \n",
       "  \"/>\n",
       "<path clip-path=\"url(#clip650)\" d=\"M427.598 1532.02 L457.273 1532.02 L457.273 1535.95 L427.598 1535.95 L427.598 1532.02 Z\" fill=\"#000000\" fill-rule=\"evenodd\" fill-opacity=\"1\" /><path clip-path=\"url(#clip650)\" d=\"M480.213 1518.36 L468.408 1536.81 L480.213 1536.81 L480.213 1518.36 M478.986 1514.29 L484.866 1514.29 L484.866 1536.81 L489.796 1536.81 L489.796 1540.7 L484.866 1540.7 L484.866 1548.85 L480.213 1548.85 L480.213 1540.7 L464.611 1540.7 L464.611 1536.19 L478.986 1514.29 Z\" fill=\"#000000\" fill-rule=\"evenodd\" fill-opacity=\"1\" /><path clip-path=\"url(#clip650)\" d=\"M835.964 1532.02 L865.639 1532.02 L865.639 1535.95 L835.964 1535.95 L835.964 1532.02 Z\" fill=\"#000000\" fill-rule=\"evenodd\" fill-opacity=\"1\" /><path clip-path=\"url(#clip650)\" d=\"M879.76 1544.91 L896.079 1544.91 L896.079 1548.85 L874.135 1548.85 L874.135 1544.91 Q876.797 1542.16 881.38 1537.53 Q885.987 1532.88 887.167 1531.53 Q889.413 1529.01 890.292 1527.27 Q891.195 1525.51 891.195 1523.82 Q891.195 1521.07 889.25 1519.33 Q887.329 1517.6 884.227 1517.6 Q882.028 1517.6 879.575 1518.36 Q877.144 1519.13 874.366 1520.68 L874.366 1515.95 Q877.19 1514.82 879.644 1514.24 Q882.098 1513.66 884.135 1513.66 Q889.505 1513.66 892.7 1516.35 Q895.894 1519.03 895.894 1523.52 Q895.894 1525.65 895.084 1527.57 Q894.297 1529.47 892.19 1532.07 Q891.612 1532.74 888.51 1535.95 Q885.408 1539.15 879.76 1544.91 Z\" fill=\"#000000\" fill-rule=\"evenodd\" fill-opacity=\"1\" /><path clip-path=\"url(#clip650)\" d=\"M1273.35 1517.37 Q1269.73 1517.37 1267.91 1520.93 Q1266.1 1524.47 1266.1 1531.6 Q1266.1 1538.71 1267.91 1542.27 Q1269.73 1545.82 1273.35 1545.82 Q1276.98 1545.82 1278.79 1542.27 Q1280.61 1538.71 1280.61 1531.6 Q1280.61 1524.47 1278.79 1520.93 Q1276.98 1517.37 1273.35 1517.37 M1273.35 1513.66 Q1279.16 1513.66 1282.21 1518.27 Q1285.29 1522.85 1285.29 1531.6 Q1285.29 1540.33 1282.21 1544.94 Q1279.16 1549.52 1273.35 1549.52 Q1267.54 1549.52 1264.46 1544.94 Q1261.4 1540.33 1261.4 1531.6 Q1261.4 1522.85 1264.46 1518.27 Q1267.54 1513.66 1273.35 1513.66 Z\" fill=\"#000000\" fill-rule=\"evenodd\" fill-opacity=\"1\" /><path clip-path=\"url(#clip650)\" d=\"M1675.32 1544.91 L1691.64 1544.91 L1691.64 1548.85 L1669.7 1548.85 L1669.7 1544.91 Q1672.36 1542.16 1676.94 1537.53 Q1681.55 1532.88 1682.73 1531.53 Q1684.98 1529.01 1685.86 1527.27 Q1686.76 1525.51 1686.76 1523.82 Q1686.76 1521.07 1684.81 1519.33 Q1682.89 1517.6 1679.79 1517.6 Q1677.59 1517.6 1675.14 1518.36 Q1672.71 1519.13 1669.93 1520.68 L1669.93 1515.95 Q1672.75 1514.82 1675.21 1514.24 Q1677.66 1513.66 1679.7 1513.66 Q1685.07 1513.66 1688.26 1516.35 Q1691.46 1519.03 1691.46 1523.52 Q1691.46 1525.65 1690.65 1527.57 Q1689.86 1529.47 1687.75 1532.07 Q1687.18 1532.74 1684.07 1535.95 Q1680.97 1539.15 1675.32 1544.91 Z\" fill=\"#000000\" fill-rule=\"evenodd\" fill-opacity=\"1\" /><path clip-path=\"url(#clip650)\" d=\"M2091 1518.36 L2079.2 1536.81 L2091 1536.81 L2091 1518.36 M2089.78 1514.29 L2095.66 1514.29 L2095.66 1536.81 L2100.59 1536.81 L2100.59 1540.7 L2095.66 1540.7 L2095.66 1548.85 L2091 1548.85 L2091 1540.7 L2075.4 1540.7 L2075.4 1536.19 L2089.78 1514.29 Z\" fill=\"#000000\" fill-rule=\"evenodd\" fill-opacity=\"1\" /><polyline clip-path=\"url(#clip652)\" style=\"stroke:#000000; stroke-linecap:round; stroke-linejoin:round; stroke-width:2; stroke-opacity:0.1; fill:none\" points=\"\n",
       "  193.936,1486.45 2352.76,1486.45 \n",
       "  \"/>\n",
       "<polyline clip-path=\"url(#clip652)\" style=\"stroke:#000000; stroke-linecap:round; stroke-linejoin:round; stroke-width:2; stroke-opacity:0.1; fill:none\" points=\"\n",
       "  193.936,1126.65 2352.76,1126.65 \n",
       "  \"/>\n",
       "<polyline clip-path=\"url(#clip652)\" style=\"stroke:#000000; stroke-linecap:round; stroke-linejoin:round; stroke-width:2; stroke-opacity:0.1; fill:none\" points=\"\n",
       "  193.936,766.846 2352.76,766.846 \n",
       "  \"/>\n",
       "<polyline clip-path=\"url(#clip652)\" style=\"stroke:#000000; stroke-linecap:round; stroke-linejoin:round; stroke-width:2; stroke-opacity:0.1; fill:none\" points=\"\n",
       "  193.936,407.045 2352.76,407.045 \n",
       "  \"/>\n",
       "<polyline clip-path=\"url(#clip652)\" style=\"stroke:#000000; stroke-linecap:round; stroke-linejoin:round; stroke-width:2; stroke-opacity:0.1; fill:none\" points=\"\n",
       "  193.936,47.2441 2352.76,47.2441 \n",
       "  \"/>\n",
       "<polyline clip-path=\"url(#clip650)\" style=\"stroke:#000000; stroke-linecap:round; stroke-linejoin:round; stroke-width:4; stroke-opacity:1; fill:none\" points=\"\n",
       "  193.936,1486.45 193.936,47.2441 \n",
       "  \"/>\n",
       "<polyline clip-path=\"url(#clip650)\" style=\"stroke:#000000; stroke-linecap:round; stroke-linejoin:round; stroke-width:4; stroke-opacity:1; fill:none\" points=\"\n",
       "  193.936,1486.45 212.834,1486.45 \n",
       "  \"/>\n",
       "<polyline clip-path=\"url(#clip650)\" style=\"stroke:#000000; stroke-linecap:round; stroke-linejoin:round; stroke-width:4; stroke-opacity:1; fill:none\" points=\"\n",
       "  193.936,1126.65 212.834,1126.65 \n",
       "  \"/>\n",
       "<polyline clip-path=\"url(#clip650)\" style=\"stroke:#000000; stroke-linecap:round; stroke-linejoin:round; stroke-width:4; stroke-opacity:1; fill:none\" points=\"\n",
       "  193.936,766.846 212.834,766.846 \n",
       "  \"/>\n",
       "<polyline clip-path=\"url(#clip650)\" style=\"stroke:#000000; stroke-linecap:round; stroke-linejoin:round; stroke-width:4; stroke-opacity:1; fill:none\" points=\"\n",
       "  193.936,407.045 212.834,407.045 \n",
       "  \"/>\n",
       "<polyline clip-path=\"url(#clip650)\" style=\"stroke:#000000; stroke-linecap:round; stroke-linejoin:round; stroke-width:4; stroke-opacity:1; fill:none\" points=\"\n",
       "  193.936,47.2441 212.834,47.2441 \n",
       "  \"/>\n",
       "<path clip-path=\"url(#clip650)\" d=\"M50.9921 1486.9 L80.6679 1486.9 L80.6679 1490.83 L50.9921 1490.83 L50.9921 1486.9 Z\" fill=\"#000000\" fill-rule=\"evenodd\" fill-opacity=\"1\" /><path clip-path=\"url(#clip650)\" d=\"M90.8067 1469.17 L109.163 1469.17 L109.163 1473.1 L95.0891 1473.1 L95.0891 1481.58 Q96.1076 1481.23 97.1261 1481.07 Q98.1447 1480.88 99.1632 1480.88 Q104.95 1480.88 108.33 1484.05 Q111.709 1487.22 111.709 1492.64 Q111.709 1498.22 108.237 1501.32 Q104.765 1504.4 98.4456 1504.4 Q96.2697 1504.4 94.0012 1504.03 Q91.7558 1503.66 89.3484 1502.92 L89.3484 1498.22 Q91.4317 1499.35 93.6539 1499.91 Q95.8761 1500.46 98.353 1500.46 Q102.358 1500.46 104.696 1498.36 Q107.033 1496.25 107.033 1492.64 Q107.033 1489.03 104.696 1486.92 Q102.358 1484.82 98.353 1484.82 Q96.478 1484.82 94.603 1485.23 Q92.7512 1485.65 90.8067 1486.53 L90.8067 1469.17 Z\" fill=\"#000000\" fill-rule=\"evenodd\" fill-opacity=\"1\" /><path clip-path=\"url(#clip650)\" d=\"M120.922 1497.85 L125.807 1497.85 L125.807 1503.73 L120.922 1503.73 L120.922 1497.85 Z\" fill=\"#000000\" fill-rule=\"evenodd\" fill-opacity=\"1\" /><path clip-path=\"url(#clip650)\" d=\"M145.992 1472.25 Q142.381 1472.25 140.552 1475.81 Q138.746 1479.35 138.746 1486.48 Q138.746 1493.59 140.552 1497.15 Q142.381 1500.7 145.992 1500.7 Q149.626 1500.7 151.431 1497.15 Q153.26 1493.59 153.26 1486.48 Q153.26 1479.35 151.431 1475.81 Q149.626 1472.25 145.992 1472.25 M145.992 1468.54 Q151.802 1468.54 154.857 1473.15 Q157.936 1477.73 157.936 1486.48 Q157.936 1495.21 154.857 1499.82 Q151.802 1504.4 145.992 1504.4 Q140.181 1504.4 137.103 1499.82 Q134.047 1495.21 134.047 1486.48 Q134.047 1477.73 137.103 1473.15 Q140.181 1468.54 145.992 1468.54 Z\" fill=\"#000000\" fill-rule=\"evenodd\" fill-opacity=\"1\" /><path clip-path=\"url(#clip650)\" d=\"M51.9875 1127.1 L81.6633 1127.1 L81.6633 1131.03 L51.9875 1131.03 L51.9875 1127.1 Z\" fill=\"#000000\" fill-rule=\"evenodd\" fill-opacity=\"1\" /><path clip-path=\"url(#clip650)\" d=\"M95.7836 1139.99 L112.103 1139.99 L112.103 1143.93 L90.1586 1143.93 L90.1586 1139.99 Q92.8206 1137.24 97.4039 1132.61 Q102.01 1127.95 103.191 1126.61 Q105.436 1124.09 106.316 1122.35 Q107.219 1120.59 107.219 1118.9 Q107.219 1116.15 105.274 1114.41 Q103.353 1112.68 100.251 1112.68 Q98.0521 1112.68 95.5984 1113.44 Q93.1678 1114.2 90.3901 1115.76 L90.3901 1111.03 Q93.2141 1109.9 95.6678 1109.32 Q98.1215 1108.74 100.159 1108.74 Q105.529 1108.74 108.723 1111.43 Q111.918 1114.11 111.918 1118.6 Q111.918 1120.73 111.108 1122.65 Q110.321 1124.55 108.214 1127.14 Q107.635 1127.82 104.534 1131.03 Q101.432 1134.23 95.7836 1139.99 Z\" fill=\"#000000\" fill-rule=\"evenodd\" fill-opacity=\"1\" /><path clip-path=\"url(#clip650)\" d=\"M121.918 1138.05 L126.802 1138.05 L126.802 1143.93 L121.918 1143.93 L121.918 1138.05 Z\" fill=\"#000000\" fill-rule=\"evenodd\" fill-opacity=\"1\" /><path clip-path=\"url(#clip650)\" d=\"M137.033 1109.37 L155.39 1109.37 L155.39 1113.3 L141.316 1113.3 L141.316 1121.77 Q142.334 1121.43 143.353 1121.27 Q144.371 1121.08 145.39 1121.08 Q151.177 1121.08 154.556 1124.25 Q157.936 1127.42 157.936 1132.84 Q157.936 1138.42 154.464 1141.52 Q150.992 1144.6 144.672 1144.6 Q142.496 1144.6 140.228 1144.23 Q137.982 1143.86 135.575 1143.12 L135.575 1138.42 Q137.658 1139.55 139.881 1140.11 Q142.103 1140.66 144.58 1140.66 Q148.584 1140.66 150.922 1138.56 Q153.26 1136.45 153.26 1132.84 Q153.26 1129.23 150.922 1127.12 Q148.584 1125.01 144.58 1125.01 Q142.705 1125.01 140.83 1125.43 Q138.978 1125.85 137.033 1126.73 L137.033 1109.37 Z\" fill=\"#000000\" fill-rule=\"evenodd\" fill-opacity=\"1\" /><path clip-path=\"url(#clip650)\" d=\"M100.76 752.645 Q97.1493 752.645 95.3206 756.209 Q93.515 759.751 93.515 766.881 Q93.515 773.987 95.3206 777.552 Q97.1493 781.094 100.76 781.094 Q104.395 781.094 106.2 777.552 Q108.029 773.987 108.029 766.881 Q108.029 759.751 106.2 756.209 Q104.395 752.645 100.76 752.645 M100.76 748.941 Q106.571 748.941 109.626 753.547 Q112.705 758.131 112.705 766.881 Q112.705 775.608 109.626 780.214 Q106.571 784.797 100.76 784.797 Q94.9502 784.797 91.8715 780.214 Q88.816 775.608 88.816 766.881 Q88.816 758.131 91.8715 753.547 Q94.9502 748.941 100.76 748.941 Z\" fill=\"#000000\" fill-rule=\"evenodd\" fill-opacity=\"1\" /><path clip-path=\"url(#clip650)\" d=\"M120.922 778.246 L125.807 778.246 L125.807 784.126 L120.922 784.126 L120.922 778.246 Z\" fill=\"#000000\" fill-rule=\"evenodd\" fill-opacity=\"1\" /><path clip-path=\"url(#clip650)\" d=\"M145.992 752.645 Q142.381 752.645 140.552 756.209 Q138.746 759.751 138.746 766.881 Q138.746 773.987 140.552 777.552 Q142.381 781.094 145.992 781.094 Q149.626 781.094 151.431 777.552 Q153.26 773.987 153.26 766.881 Q153.26 759.751 151.431 756.209 Q149.626 752.645 145.992 752.645 M145.992 748.941 Q151.802 748.941 154.857 753.547 Q157.936 758.131 157.936 766.881 Q157.936 775.608 154.857 780.214 Q151.802 784.797 145.992 784.797 Q140.181 784.797 137.103 780.214 Q134.047 775.608 134.047 766.881 Q134.047 758.131 137.103 753.547 Q140.181 748.941 145.992 748.941 Z\" fill=\"#000000\" fill-rule=\"evenodd\" fill-opacity=\"1\" /><path clip-path=\"url(#clip650)\" d=\"M95.7836 420.39 L112.103 420.39 L112.103 424.325 L90.1586 424.325 L90.1586 420.39 Q92.8206 417.635 97.4039 413.006 Q102.01 408.353 103.191 407.01 Q105.436 404.487 106.316 402.751 Q107.219 400.992 107.219 399.302 Q107.219 396.547 105.274 394.811 Q103.353 393.075 100.251 393.075 Q98.0521 393.075 95.5984 393.839 Q93.1678 394.603 90.3901 396.154 L90.3901 391.432 Q93.2141 390.297 95.6678 389.719 Q98.1215 389.14 100.159 389.14 Q105.529 389.14 108.723 391.825 Q111.918 394.51 111.918 399.001 Q111.918 401.131 111.108 403.052 Q110.321 404.95 108.214 407.543 Q107.635 408.214 104.534 411.432 Q101.432 414.626 95.7836 420.39 Z\" fill=\"#000000\" fill-rule=\"evenodd\" fill-opacity=\"1\" /><path clip-path=\"url(#clip650)\" d=\"M121.918 418.445 L126.802 418.445 L126.802 424.325 L121.918 424.325 L121.918 418.445 Z\" fill=\"#000000\" fill-rule=\"evenodd\" fill-opacity=\"1\" /><path clip-path=\"url(#clip650)\" d=\"M137.033 389.765 L155.39 389.765 L155.39 393.7 L141.316 393.7 L141.316 402.172 Q142.334 401.825 143.353 401.663 Q144.371 401.478 145.39 401.478 Q151.177 401.478 154.556 404.649 Q157.936 407.82 157.936 413.237 Q157.936 418.816 154.464 421.918 Q150.992 424.996 144.672 424.996 Q142.496 424.996 140.228 424.626 Q137.982 424.256 135.575 423.515 L135.575 418.816 Q137.658 419.95 139.881 420.506 Q142.103 421.061 144.58 421.061 Q148.584 421.061 150.922 418.955 Q153.26 416.848 153.26 413.237 Q153.26 409.626 150.922 407.52 Q148.584 405.413 144.58 405.413 Q142.705 405.413 140.83 405.83 Q138.978 406.246 137.033 407.126 L137.033 389.765 Z\" fill=\"#000000\" fill-rule=\"evenodd\" fill-opacity=\"1\" /><path clip-path=\"url(#clip650)\" d=\"M90.8067 29.9641 L109.163 29.9641 L109.163 33.8993 L95.0891 33.8993 L95.0891 42.3714 Q96.1076 42.0242 97.1261 41.8622 Q98.1447 41.677 99.1632 41.677 Q104.95 41.677 108.33 44.8483 Q111.709 48.0196 111.709 53.4362 Q111.709 59.0149 108.237 62.1167 Q104.765 65.1954 98.4456 65.1954 Q96.2697 65.1954 94.0012 64.825 Q91.7558 64.4547 89.3484 63.7139 L89.3484 59.0149 Q91.4317 60.1491 93.6539 60.7047 Q95.8761 61.2602 98.353 61.2602 Q102.358 61.2602 104.696 59.1538 Q107.033 57.0473 107.033 53.4362 Q107.033 49.8251 104.696 47.7186 Q102.358 45.6122 98.353 45.6122 Q96.478 45.6122 94.603 46.0288 Q92.7512 46.4455 90.8067 47.3251 L90.8067 29.9641 Z\" fill=\"#000000\" fill-rule=\"evenodd\" fill-opacity=\"1\" /><path clip-path=\"url(#clip650)\" d=\"M120.922 58.6445 L125.807 58.6445 L125.807 64.5241 L120.922 64.5241 L120.922 58.6445 Z\" fill=\"#000000\" fill-rule=\"evenodd\" fill-opacity=\"1\" /><path clip-path=\"url(#clip650)\" d=\"M145.992 33.0428 Q142.381 33.0428 140.552 36.6076 Q138.746 40.1492 138.746 47.2788 Q138.746 54.3853 140.552 57.9501 Q142.381 61.4917 145.992 61.4917 Q149.626 61.4917 151.431 57.9501 Q153.26 54.3853 153.26 47.2788 Q153.26 40.1492 151.431 36.6076 Q149.626 33.0428 145.992 33.0428 M145.992 29.3391 Q151.802 29.3391 154.857 33.9456 Q157.936 38.5289 157.936 47.2788 Q157.936 56.0056 154.857 60.6121 Q151.802 65.1954 145.992 65.1954 Q140.181 65.1954 137.103 60.6121 Q134.047 56.0056 134.047 47.2788 Q134.047 38.5289 137.103 33.9456 Q140.181 29.3391 145.992 29.3391 Z\" fill=\"#000000\" fill-rule=\"evenodd\" fill-opacity=\"1\" /><polyline clip-path=\"url(#clip652)\" style=\"stroke:#009af9; stroke-linecap:round; stroke-linejoin:round; stroke-width:12; stroke-opacity:1; fill:none\" points=\"\n",
       "  255.035,1486.45 268.294,1477.08 390.898,1390.44 464.577,1338.37 526.872,1294.35 594.542,1246.53 656.928,1202.45 723.812,1155.18 801.304,1100.42 870.17,1051.76 \n",
       "  930.558,1009.08 996.398,962.554 1062.63,915.751 1135.86,864.004 1205.53,814.768 1277.98,763.574 1338.96,720.48 1413.41,667.867 1481.62,619.669 1544.61,575.156 \n",
       "  1608.42,530.064 1679.93,479.53 1744.73,433.738 1818.92,381.308 1887.62,332.764 1955.34,284.904 2021.1,238.437 2088.51,190.802 2162.36,138.612 2269.65,62.7976 \n",
       "  2291.66,47.2441 \n",
       "  \"/>\n",
       "<polyline clip-path=\"url(#clip652)\" style=\"stroke:#e26f46; stroke-linecap:round; stroke-linejoin:round; stroke-width:12; stroke-opacity:1; fill:none\" points=\"\n",
       "  255.035,726.021 258.35,728.273 261.664,730.535 264.979,732.806 268.294,735.086 298.945,756.492 329.596,778.131 360.247,799.515 390.898,820.161 409.318,832.017 \n",
       "  427.737,843.34 446.157,854.038 464.577,864.024 480.151,871.85 495.725,879.062 511.299,885.618 526.872,891.48 535.331,894.361 543.79,897.022 552.249,899.458 \n",
       "  560.707,901.666 569.166,903.641 577.625,905.38 586.084,906.88 594.542,908.138 602.341,909.083 610.139,909.819 617.937,910.345 625.735,910.661 633.533,910.766 \n",
       "  641.332,910.661 649.13,910.344 656.928,909.817 665.289,909.019 673.649,907.982 682.01,906.707 690.37,905.196 698.731,903.452 707.091,901.478 715.452,899.277 \n",
       "  723.812,896.853 733.499,893.771 743.185,890.402 752.872,886.753 762.558,882.833 772.245,878.651 781.931,874.216 791.617,869.539 801.304,864.628 818.52,855.363 \n",
       "  835.737,845.465 852.953,835.006 870.17,824.06 900.364,803.926 930.558,782.977 963.478,759.751 996.398,736.709 1012.96,725.38 1029.51,714.325 1046.07,703.616 \n",
       "  1062.63,693.326 1080.94,682.516 1099.24,672.387 1108.4,667.604 1117.55,663.021 1126.7,658.648 1135.86,654.494 1144.57,650.751 1153.28,647.221 1161.98,643.91 \n",
       "  1170.69,640.823 1179.4,637.967 1188.11,635.346 1196.82,632.966 1205.53,630.831 1214.59,628.874 1223.64,627.19 1232.7,625.783 1241.75,624.654 1250.81,623.806 \n",
       "  1259.86,623.241 1268.92,622.96 1277.98,622.963 1285.6,623.186 1293.22,623.61 1300.84,624.235 1308.47,625.06 1323.71,627.304 1338.96,630.33 1348.27,632.554 \n",
       "  1357.57,635.059 1366.88,637.838 1376.19,640.887 1385.49,644.199 1394.8,647.767 1404.11,651.584 1413.41,655.641 1430.46,663.67 1447.51,672.422 1464.57,681.836 \n",
       "  1481.62,691.845 1497.36,701.558 1513.11,711.66 1528.86,722.093 1544.61,732.793 1576.51,755.026 1608.42,777.548 1626.29,790.089 1644.17,802.452 1662.05,814.54 \n",
       "  1679.93,826.26 1696.13,836.489 1712.33,846.276 1728.53,855.562 1744.73,864.286 1754,869.007 1763.28,873.515 1772.55,877.803 1781.83,881.86 1791.1,885.679 \n",
       "  1800.37,889.252 1809.65,892.571 1818.92,895.629 1827.51,898.223 1836.1,900.583 1844.68,902.705 1853.27,904.586 1861.86,906.222 1870.44,907.611 1879.03,908.749 \n",
       "  1887.62,909.635 1896.08,910.26 1904.55,910.637 1913.01,910.766 1921.48,910.647 1929.95,910.278 1938.41,909.662 1946.88,908.8 1955.34,907.692 1963.56,906.383 \n",
       "  1971.78,904.847 1980,903.087 1988.22,901.104 1996.44,898.903 2004.66,896.487 2012.88,893.86 2021.1,891.025 2029.53,887.91 2037.95,884.588 2046.38,881.064 \n",
       "  2054.8,877.344 2071.66,869.345 2088.51,860.644 2106.97,850.376 2125.44,839.423 2134.67,833.717 2143.9,827.873 2153.13,821.904 2162.36,815.822 2189.18,797.627 \n",
       "  2216,778.899 2242.83,759.963 2269.65,741.145 2275.15,737.329 2280.65,733.534 2286.15,729.764 2291.66,726.021 \n",
       "  \"/>\n",
       "<polyline clip-path=\"url(#clip652)\" style=\"stroke:#3da44d; stroke-linecap:round; stroke-linejoin:round; stroke-width:12; stroke-opacity:1; fill:none\" points=\"\n",
       "  255.035,1098.26 268.294,1101.45 390.898,1094.78 464.577,1065.38 526.872,1025.78 594.542,962.222 656.928,871.914 690.37,801.14 723.812,702.806 762.558,527.344 \n",
       "  801.304,214.82 818.52,-12.8589 835.737,-344.082 852.953,-855.571 870.17,-1711 885.267,-3048.83 900.364,-5678.68 907.913,-8073.68 915.461,-12033 923.01,-19291.1 \n",
       "  930.558,-34872.3 934.673,-52320.1 938.788,-86471.3 940.846,-117390 942.903,-168156 944.961,-260261 947.018,-454677 948.047,-645324 949.076,-986452 950.105,-1.69093e+06 \n",
       "  951.133,-3.54235e+06 951.648,-4.1943e+06 952.162,-4.1943e+06 952.677,-4.1943e+06 953.191,-4.1943e+06 953.705,-4.1943e+06 954.22,-4.1943e+06 954.734,-4.1943e+06 955.248,-4.1943e+06 955.763,-3.45715e+06 \n",
       "  956.277,-2.31907e+06 956.792,-1.66267e+06 957.306,-1.25001e+06 958.335,-779928 959.363,-532469 961.421,-293041 963.478,-184934 965.536,-127102 967.593,-92592.5 969.651,-70363.4 \n",
       "  971.708,-55210.6 975.823,-36467 979.938,-25753.9 988.168,-14605.5 996.398,-9224.62 1004.68,-6210.96 1012.96,-4366.31 1021.24,-3156.46 1029.51,-2320.83 1046.07,-1273.97 \n",
       "  1062.63,-669.331 1099.24,4.04978 1135.86,305.367 1170.69,455.349 1205.53,541.516 1277.98,626.088 1338.96,652.009 1413.41,660.388 1481.62,658.61 1544.61,655.109 \n",
       "  1608.42,653.978 1679.93,660.987 1744.73,681.757 1818.92,736.889 1887.62,845.476 1921.48,936.241 1955.34,1068.88 1988.22,1261.14 2021.1,1558.09 2054.8,2059.21 \n",
       "  2088.51,2963.87 2106.97,3800.56 2125.44,5109.04 2134.67,6058.1 2143.9,7318.42 2153.13,9041.79 2162.36,11485.2 2175.77,17359.7 2189.18,29418.6 2195.89,40891.5 \n",
       "  2202.59,60746.3 2205.95,76626.4 2209.3,99687.5 2212.65,135014 2216,193139 2219.36,298912 2222.71,523239 2224.39,744347 2226.06,1.14224e+06 2226.9,1.47299e+06 \n",
       "  2227.74,1.97135e+06 2228.58,2.77317e+06 2229.42,4.18601e+06 2230.25,4.1943e+06 2231.09,4.1943e+06 2231.93,4.1943e+06 2232.77,4.1943e+06 2233.61,4.1943e+06 2234.44,4.1943e+06 2235.28,4.1943e+06 \n",
       "  2236.12,4.1943e+06 2236.96,3.7427e+06 2237.8,2.53049e+06 2238.64,1.82437e+06 2239.47,1.37732e+06 2241.15,864514 2242.83,592716 2246.18,328189 2249.53,208114 2252.88,143668 \n",
       "  2256.24,105126 2262.94,63287 2269.65,42263.8 2272.4,36579.5 2275.15,31973.4 2277.9,28188.9 2280.65,25041.7 2283.4,22396.2 2286.15,20151.1 2288.91,18229.6 \n",
       "  2291.66,16572.3 \n",
       "  \"/>\n",
       "<path clip-path=\"url(#clip650)\" d=\"\n",
       "M1961.41 406.258 L2280.8 406.258 L2280.8 95.2176 L1961.41 95.2176  Z\n",
       "  \" fill=\"#ffffff\" fill-rule=\"evenodd\" fill-opacity=\"1\"/>\n",
       "<polyline clip-path=\"url(#clip650)\" style=\"stroke:#000000; stroke-linecap:round; stroke-linejoin:round; stroke-width:4; stroke-opacity:1; fill:none\" points=\"\n",
       "  1961.41,406.258 2280.8,406.258 2280.8,95.2176 1961.41,95.2176 1961.41,406.258 \n",
       "  \"/>\n",
       "<polyline clip-path=\"url(#clip650)\" style=\"stroke:#009af9; stroke-linecap:round; stroke-linejoin:round; stroke-width:6; stroke-opacity:1; fill:none\" points=\"\n",
       "  1985.4,172.978 2129.32,172.978 \n",
       "  \"/>\n",
       "<path clip-path=\"url(#clip650)\" d=\"M2174.07 202.509 Q2171.36 209.453 2168.79 211.571 Q2166.22 213.689 2161.92 213.689 L2156.81 213.689 L2156.81 208.342 L2160.56 208.342 Q2163.2 208.342 2164.66 207.092 Q2166.12 205.842 2167.89 201.189 L2169.04 198.273 L2153.31 160.009 L2160.08 160.009 L2172.23 190.425 L2184.38 160.009 L2191.16 160.009 L2174.07 202.509 Z\" fill=\"#000000\" fill-rule=\"evenodd\" fill-opacity=\"1\" /><path clip-path=\"url(#clip650)\" d=\"M2202.09 192.995 L2213.55 192.995 L2213.55 153.446 L2201.09 155.946 L2201.09 149.558 L2213.48 147.058 L2220.5 147.058 L2220.5 192.995 L2231.95 192.995 L2231.95 198.898 L2202.09 198.898 L2202.09 192.995 Z\" fill=\"#000000\" fill-rule=\"evenodd\" fill-opacity=\"1\" /><polyline clip-path=\"url(#clip650)\" style=\"stroke:#e26f46; stroke-linecap:round; stroke-linejoin:round; stroke-width:6; stroke-opacity:1; fill:none\" points=\"\n",
       "  1985.4,250.738 2129.32,250.738 \n",
       "  \"/>\n",
       "<path clip-path=\"url(#clip650)\" d=\"M2174.07 280.269 Q2171.36 287.213 2168.79 289.331 Q2166.22 291.449 2161.92 291.449 L2156.81 291.449 L2156.81 286.102 L2160.56 286.102 Q2163.2 286.102 2164.66 284.852 Q2166.12 283.602 2167.89 278.949 L2169.04 276.033 L2153.31 237.769 L2160.08 237.769 L2172.23 268.185 L2184.38 237.769 L2191.16 237.769 L2174.07 280.269 Z\" fill=\"#000000\" fill-rule=\"evenodd\" fill-opacity=\"1\" /><path clip-path=\"url(#clip650)\" d=\"M2206.92 270.755 L2231.4 270.755 L2231.4 276.658 L2198.48 276.658 L2198.48 270.755 Q2202.47 266.623 2209.35 259.678 Q2216.26 252.699 2218.03 250.685 Q2221.4 246.901 2222.72 244.297 Q2224.07 241.658 2224.07 239.123 Q2224.07 234.991 2221.15 232.387 Q2218.27 229.783 2213.62 229.783 Q2210.32 229.783 2206.64 230.929 Q2203 232.074 2198.83 234.401 L2198.83 227.318 Q2203.06 225.616 2206.75 224.748 Q2210.43 223.88 2213.48 223.88 Q2221.54 223.88 2226.33 227.908 Q2231.12 231.936 2231.12 238.672 Q2231.12 241.866 2229.9 244.748 Q2228.72 247.595 2225.56 251.484 Q2224.7 252.491 2220.04 257.317 Q2215.39 262.109 2206.92 270.755 Z\" fill=\"#000000\" fill-rule=\"evenodd\" fill-opacity=\"1\" /><polyline clip-path=\"url(#clip650)\" style=\"stroke:#3da44d; stroke-linecap:round; stroke-linejoin:round; stroke-width:6; stroke-opacity:1; fill:none\" points=\"\n",
       "  1985.4,328.498 2129.32,328.498 \n",
       "  \"/>\n",
       "<path clip-path=\"url(#clip650)\" d=\"M2174.07 358.029 Q2171.36 364.973 2168.79 367.091 Q2166.22 369.209 2161.92 369.209 L2156.81 369.209 L2156.81 363.862 L2160.56 363.862 Q2163.2 363.862 2164.66 362.612 Q2166.12 361.362 2167.89 356.709 L2169.04 353.793 L2153.31 315.529 L2160.08 315.529 L2172.23 345.945 L2184.38 315.529 L2191.16 315.529 L2174.07 358.029 Z\" fill=\"#000000\" fill-rule=\"evenodd\" fill-opacity=\"1\" /><path clip-path=\"url(#clip650)\" d=\"M2222.13 326.466 Q2227.16 327.543 2229.97 330.945 Q2232.82 334.348 2232.82 339.348 Q2232.82 347.022 2227.54 351.223 Q2222.27 355.424 2212.54 355.424 Q2209.28 355.424 2205.81 354.765 Q2202.37 354.14 2198.69 352.855 L2198.69 346.084 Q2201.61 347.786 2205.08 348.654 Q2208.55 349.522 2212.34 349.522 Q2218.93 349.522 2222.37 346.918 Q2225.84 344.313 2225.84 339.348 Q2225.84 334.765 2222.61 332.195 Q2219.42 329.591 2213.69 329.591 L2207.65 329.591 L2207.65 323.827 L2213.97 323.827 Q2219.14 323.827 2221.88 321.779 Q2224.63 319.696 2224.63 315.807 Q2224.63 311.814 2221.78 309.696 Q2218.97 307.543 2213.69 307.543 Q2210.81 307.543 2207.51 308.168 Q2204.21 308.793 2200.25 310.112 L2200.25 303.862 Q2204.25 302.751 2207.72 302.196 Q2211.22 301.64 2214.31 301.64 Q2222.3 301.64 2226.95 305.286 Q2231.61 308.897 2231.61 315.077 Q2231.61 319.383 2229.14 322.369 Q2226.68 325.32 2222.13 326.466 Z\" fill=\"#000000\" fill-rule=\"evenodd\" fill-opacity=\"1\" /></svg>\n"
      ]
     },
     "execution_count": 9,
     "metadata": {},
     "output_type": "execute_result"
    }
   ],
   "source": [
    "h(x) = -1 / (gp(x) - 1)\n",
    "g3(x) = x + h(x) * (g(x) - x)\n",
    "plot([x-> x, cos, g3], ylims=(-5, 5))"
   ]
  },
  {
   "cell_type": "markdown",
   "id": "b01ca4b8",
   "metadata": {
    "cell_style": "split"
   },
   "source": [
    "* We don't know $g'(x_*)$ in advance because we don't know $x_*$ yet.\n",
    "* This method converges very fast\n",
    "* We actually just derived Newton's method."
   ]
  },
  {
   "cell_type": "markdown",
   "id": "6ff62d33",
   "metadata": {
    "slideshow": {
     "slide_type": "slide"
    }
   },
   "source": [
    "# A fresh derivation of Newton's method\n",
    "\n",
    "* A rootfinding problem $f(x) = 0$ can be converted to a fixed point problem $$x = x + f(x) =: g(x)$$ but there is no guarantee that $g'(x_*) = 1 + f'(x_*)$ will have magnitude less than 1.\n",
    "* Problem-specific algebraic manipulation can be used to make $|g'(x_*)|$ small.\n",
    "* $x = x + h(x) f(x)$ is also a valid formulation for any $h(x)$ bounded away from $0$.\n",
    "* Can we choose $h(x)$ such that $$ g'(x) = 1 + h'(x) f(x) + h(x) f'(x) = 0$$ when $f(x) = 0$?\n",
    "\n",
    "In other words,\n",
    "$$ x_{k+1} = x_k + \\underbrace{\\frac{-1}{f'(x_k)}}_{h(x_k)} f(x_k)  . $$"
   ]
  },
  {
   "cell_type": "markdown",
   "id": "e0f835bc",
   "metadata": {
    "slideshow": {
     "slide_type": "slide"
    }
   },
   "source": [
    "# Quadratic convergence!\n",
    "\n",
    "$$ \\left\\lvert \\frac{e_{k+1}}{e_k} \\right\\rvert \\to \\lvert g'(x_*) \\rvert $$\n",
    "\n",
    "* What does it mean that $g'(x_*) = 0$?\n",
    "* It turns out that Newton's method has _locally quadratic_ convergence to simple roots,\n",
    "$$\\lim_{k \\to \\infty} \\frac{|e_{k+1}|}{|e_k|^2} < \\infty.$$\n",
    "* \"The number of correct digits doubles each iteration.\"\n",
    "* Now that we know how to make a good guess accurate, the effort lies in getting a good guess."
   ]
  },
  {
   "cell_type": "markdown",
   "id": "703a3ba9",
   "metadata": {
    "cell_style": "center",
    "slideshow": {
     "slide_type": "slide"
    }
   },
   "source": [
    "# Culture: fast inverse square root\n",
    "\n",
    "The following code appeared literally (including comments) in the Quake III Arena source code (late 1990s).\n",
    "\n",
    "```c\n",
    "float Q_rsqrt( float number )\n",
    "{\n",
    "\tlong i;\n",
    "\tfloat x2, y;\n",
    "\tconst float threehalfs = 1.5F;\n",
    "\n",
    "\tx2 = number * 0.5F;\n",
    "\ty  = number;\n",
    "\ti  = * ( long * ) &y;                       // evil floating point bit level hacking\n",
    "\ti  = 0x5f3759df - ( i >> 1 );               // what the fuck? \n",
    "\ty  = * ( float * ) &i;\n",
    "    y  = y * ( threehalfs - ( x2 * y * y ) );   // 1st iteration\n",
    "//  y  = y * ( threehalfs - ( x2 * y * y ) );   // 2nd iteration, this can be removed\n",
    "\n",
    "\treturn y;\n",
    "}\n",
    "```"
   ]
  },
  {
   "cell_type": "markdown",
   "id": "6f47e2cc",
   "metadata": {
    "cell_style": "split",
    "slideshow": {
     "slide_type": "slide"
    }
   },
   "source": [
    "We now have [vector instructions](https://software.intel.com/sites/landingpage/IntrinsicsGuide/#text=rsqrt&expand=2989,1224,4470) for approximate inverse square root.\n",
    "More at https://en.wikipedia.org/wiki/Fast_inverse_square_root"
   ]
  },
  {
   "cell_type": "markdown",
   "id": "1d438c27",
   "metadata": {
    "slideshow": {
     "slide_type": "slide"
    }
   },
   "source": [
    "# How does it work?\n",
    "\n",
    "Let's look at the last line\n",
    "```c\n",
    "y  = y * ( threehalfs - ( x2 * y * y ) );   // 1st iteration\n",
    "```"
   ]
  },
  {
   "cell_type": "markdown",
   "id": "bfc55b58",
   "metadata": {
    "cell_style": "split"
   },
   "source": [
    "We want a function $f(y)$ such that $f(1/\\sqrt{x}) = 0$. One such function is\n",
    "$$ f(y) = 1/y^2 - x, \\quad f'(y) = -2/y^3.$$\n",
    "\n",
    "There are others, e.g.,\n",
    "$$f_1(y) = y^2 - 1/x,\\quad f'(y) = 2 y,$$\n",
    "but this would require a division."
   ]
  },
  {
   "cell_type": "markdown",
   "id": "2acdd512",
   "metadata": {
    "cell_style": "split"
   },
   "source": [
    "Newton's method is\n",
    "\\begin{align}\n",
    "y_{k+1} &= y_k - \\frac{f(y_k)}{f'(y_k)} \\\\\n",
    "&= y_k - \\frac{1/y_k^2 - x}{-2/y_k^3} \\\\\n",
    "&= y_k + \\frac 1 2 (y_k - x y_k^3) \\\\\n",
    "&= y_k \\left(\\frac 3 2 - \\frac 1 2 x y_k^2\\right)\n",
    "\\end{align}"
   ]
  },
  {
   "cell_type": "markdown",
   "id": "350da54a",
   "metadata": {
    "cell_style": "center",
    "slideshow": {
     "slide_type": "slide"
    }
   },
   "source": [
    "# Rootfinding outlook\n",
    "\n",
    "* Newton methods are immensely successful\n",
    "  * Convergence theory is local; we need good initial guesses (activity)\n",
    "  * Computing the derivative $f'(x)$ is *intrusive*\n",
    "    * Avoided by secant methods (approximate the derivative; activity)\n",
    "    * Algorithmic or numerical differentiation (future topics)\n",
    "  * Bisection is robust when conditions are met\n",
    "  * Line search (activity)\n",
    "  * When does Newton diverge?\n",
    "\n",
    "* More topics\n",
    "  * Find *all* the roots\n",
    "  * Use Newton-type methods with bounds\n",
    "  * Times when Newton converges slowly"
   ]
  },
  {
   "cell_type": "code",
   "execution_count": 17,
   "id": "bef9d79a",
   "metadata": {},
   "outputs": [
    {
     "data": {
      "text/plain": [
       "5.0e-31 - 3.1415926535897922im"
      ]
     },
     "execution_count": 17,
     "metadata": {},
     "output_type": "execute_result"
    }
   ],
   "source": [
    "log(Complex(-1. - 1e-15im))"
   ]
  },
  {
   "cell_type": "markdown",
   "id": "9b7fc5b6",
   "metadata": {
    "slideshow": {
     "slide_type": "slide"
    }
   },
   "source": [
    "# Exploratory rootfinding\n",
    "\n",
    "* Find a function $f(x)$ that models something you're interested in. You could consider nonlinear physical models (aerodynamic drag, nonlinear elasticity), behavioral models, probability distributions, or anything else that that catches your interest. Implement the function in Julia or another language.\n",
    "\n",
    "* Consider how you might know the output of such functions, but not an input. Think from the position of different stakeholders: is the equation used differently by an experimentalist collecting data versus by someone making predictions through simulation? How about a company or government reasoning about people versus the people their decisions may impact?\n",
    "\n",
    "* Formulate the map from known to desired data as a rootfinding problem and try one or more methods (Newton, bisection, etc., or use a rootfinding library).\n",
    "\n",
    "* Plot the inverse function (output versus input) from the standpoint of one or more stakeholder. Are there interesting inflection points? Are the methods reliable?\n",
    "\n",
    "* If there are a hierarchy of models for the application you're interested in, consider using a simpler model to provide an initial guess to a more complicated model."
   ]
  },
  {
   "cell_type": "markdown",
   "id": "9bf4fb6c",
   "metadata": {
    "slideshow": {
     "slide_type": "slide"
    }
   },
   "source": [
    "# Equation of state example\n",
    "\n",
    "Consider an [equation of state](https://en.wikipedia.org/wiki/Real_gas#Beattie%E2%80%93Bridgeman_model) for a real gas, which might provide pressure $p(T, \\rho)$ as a function of temperature $T$ and density $\\rho = 1/v$.\n",
    "\n",
    "* An experimentalist can measure temperature and pressure, and will need to solve for density (which is difficult to measure directly).\n",
    "* A simulation might know (at each cell or mesh point, at each time step) the density and internal energy, and need to compute pressure (and maybe temperature).\n",
    "* An analyst might have access to simulation output and wish to compute entropy (a thermodynamic property whose change reflects irreversible processes, and can be used to assess accuracy/stability of a simulation or efficiency of a machine).\n",
    "\n",
    "The above highlights how many equations are incomplete, failing to model how related quantities (internal energy and entropy in this case) depend on the other quantities. Standardization bodies (such as NIST, here in Boulder) and practitioners often prefer models that intrinsically provide a complete set of consistent relations. An elegent methodology for equations of state for gasses and fluids is by way of the [Helmholtz free energy](http://www.coolprop.org/fluid_properties/PurePseudoPure.html#pure-and-pseudo-pure-fluid-properties), which is not observable, but whose partial derivatives define a complete set of thermodynamic properties. The [CoolProp](http://www.coolprop.org) software has highly accurate models for many gasses, and practitioners often build less expensive models for narrower ranges of theromdynamic conditions."
   ]
  }
 ],
 "metadata": {
  "@webio": {
   "lastCommId": "cd1892c1e2064686902fbdf399e6e3e3",
   "lastKernelId": "6eae1736-6531-4224-a6c2-38e7ff163d19"
  },
  "celltoolbar": "Slideshow",
  "hide_code_all_hidden": false,
  "kernelspec": {
   "display_name": "Julia 1.7.2",
   "language": "julia",
   "name": "julia-1.7"
  },
  "language_info": {
   "file_extension": ".jl",
   "mimetype": "application/julia",
   "name": "julia",
   "version": "1.8.5"
  },
  "rise": {
   "enable_chalkboard": true
  }
 },
 "nbformat": 4,
 "nbformat_minor": 5
}
