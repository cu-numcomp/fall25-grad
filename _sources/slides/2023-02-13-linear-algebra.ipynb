{
 "cells": [
  {
   "cell_type": "markdown",
   "id": "4159be0e",
   "metadata": {
    "hideCode": false,
    "hidePrompt": false,
    "slideshow": {
     "slide_type": "slide"
    }
   },
   "source": [
    "# 2023-02-13 Linear Algebra\n",
    "\n",
    "\n",
    "## Last time\n",
    "\n",
    "* Forward and backward stability\n",
    "* Beyond IEEE double precision\n",
    "\n",
    "## Today\n",
    "\n",
    "* Algebra of linear transformations\n",
    "* Polynomial evaluation and fitting\n",
    "* Orthogonality"
   ]
  },
  {
   "cell_type": "code",
   "execution_count": 1,
   "id": "eb781a7a",
   "metadata": {
    "slideshow": {
     "slide_type": "skip"
    }
   },
   "outputs": [],
   "source": [
    "using Plots\n",
    "default(linewidth=4, legendfontsize=12)"
   ]
  },
  {
   "cell_type": "markdown",
   "id": "1f18c04a",
   "metadata": {
    "slideshow": {
     "slide_type": "slide"
    }
   },
   "source": [
    "# Matrices as linear transformations\n",
    "\n",
    "Linear algebra is the study of linear transformations on vectors, which represent points in a finite dimensional space.  The matrix-vector product $y = A x$ is a linear combination of the columns of $A$.  The familiar definition,\n",
    "\n",
    "$$ y_i = \\sum_j A_{i,j} x_j $$\n",
    "\n",
    "can also be viewed as\n",
    "\n",
    "$$ y = \\Bigg[ A_{:,1} \\Bigg| A_{:,2} \\Bigg| \\dotsm \\Bigg] \\begin{bmatrix} x_1 \\\\ x_2 \\\\ \\vdots \\end{bmatrix}\n",
    "= \\Bigg[ A_{:,1} \\Bigg] x_1 + \\Bigg[ A_{:,2} \\Bigg] x_2 + \\dotsb . $$"
   ]
  },
  {
   "cell_type": "markdown",
   "id": "47d22601",
   "metadata": {
    "slideshow": {
     "slide_type": "slide"
    }
   },
   "source": [
    "# Math and Julia Notation\n",
    "\n",
    "The notation $A_{i,j}$ corresponds to the Julia syntax `A[i,j]` and the colon `:` means the entire range (row or column).  So $A_{:,j}$ is the $j$th column and $A_{i,:}$ is the $i$th row.  The corresponding Julia syntax is `A[:,j]` and `A[i,:]`.\n",
    "\n",
    "Julia has syntax for row vectors, column vectors, and arrays."
   ]
  },
  {
   "cell_type": "code",
   "execution_count": 105,
   "id": "ff3361f2",
   "metadata": {
    "cell_style": "split"
   },
   "outputs": [
    {
     "data": {
      "text/plain": [
       "2×3 Matrix{Float64}:\n",
       " 1.0  2.0  3.0\n",
       " 4.0  5.0  6.0"
      ]
     },
     "execution_count": 105,
     "metadata": {},
     "output_type": "execute_result"
    }
   ],
   "source": [
    "[1. 2 3; 4 5 6]\n",
    "# np.array([[1, 2, 3], [4, 5, 6]])"
   ]
  },
  {
   "cell_type": "code",
   "execution_count": 107,
   "id": "d35b1571",
   "metadata": {
    "cell_style": "split"
   },
   "outputs": [
    {
     "data": {
      "text/plain": [
       "2×2 Matrix{Int64}:\n",
       " 1  2\n",
       " 4  3"
      ]
     },
     "execution_count": 107,
     "metadata": {},
     "output_type": "execute_result"
    }
   ],
   "source": [
    "[1 2 ; 4 3]"
   ]
  },
  {
   "cell_type": "code",
   "execution_count": 112,
   "id": "a32da848",
   "metadata": {
    "cell_style": "split"
   },
   "outputs": [
    {
     "data": {
      "text/plain": [
       "3×2 Matrix{Int64}:\n",
       "  1  0\n",
       "  0  2\n",
       " 10  3"
      ]
     },
     "execution_count": 112,
     "metadata": {},
     "output_type": "execute_result"
    }
   ],
   "source": [
    "[1 0; 0 2; 10 3]"
   ]
  },
  {
   "cell_type": "code",
   "execution_count": 111,
   "id": "bc208ae0",
   "metadata": {
    "cell_style": "split"
   },
   "outputs": [
    {
     "data": {
      "text/plain": [
       "1×3 adjoint(::Vector{Complex{Int64}}) with eltype Complex{Int64}:\n",
       " 1+0im  2-1im  3+0im"
      ]
     },
     "execution_count": 111,
     "metadata": {},
     "output_type": "execute_result"
    }
   ],
   "source": [
    "[1; 2 + 1im; 3]' # transpose"
   ]
  },
  {
   "cell_type": "markdown",
   "id": "5ac73ba3",
   "metadata": {
    "slideshow": {
     "slide_type": "slide"
    }
   },
   "source": [
    "# Implementing multiplication by row"
   ]
  },
  {
   "cell_type": "code",
   "execution_count": 124,
   "id": "32665740",
   "metadata": {
    "cell_style": "split"
   },
   "outputs": [
    {
     "data": {
      "text/plain": [
       "3×4 reshape(::StepRangeLen{Float64, Base.TwicePrecision{Float64}, Base.TwicePrecision{Float64}, Int64}, 3, 4) with eltype Float64:\n",
       " 1.0  4.0  7.0  10.0\n",
       " 2.0  5.0  8.0  11.0\n",
       " 3.0  6.0  9.0  12.0"
      ]
     },
     "execution_count": 124,
     "metadata": {},
     "output_type": "execute_result"
    }
   ],
   "source": [
    "function matmult1(A, x)\n",
    "    m, n = size(A)\n",
    "    y = zeros(m)\n",
    "    for i in 1:m\n",
    "        for j in 1:n\n",
    "            y[i] += A[i,j] * x[j]\n",
    "        end\n",
    "    end\n",
    "    y\n",
    "end\n",
    "\n",
    "A = reshape(1.:12, 3, 4) # 3x4 matrix\n",
    "#x = [10., 0, 0, 0]\n",
    "#matmult1(A, x)"
   ]
  },
  {
   "cell_type": "code",
   "execution_count": 135,
   "id": "1e791ea6",
   "metadata": {
    "cell_style": "split"
   },
   "outputs": [
    {
     "data": {
      "text/plain": [
       "20.0"
      ]
     },
     "execution_count": 135,
     "metadata": {},
     "output_type": "execute_result"
    }
   ],
   "source": [
    "# Dot product\n",
    "A[2, :]' * x"
   ]
  },
  {
   "cell_type": "code",
   "execution_count": 136,
   "id": "a0cf9482",
   "metadata": {
    "cell_style": "split"
   },
   "outputs": [
    {
     "data": {
      "text/plain": [
       "3-element Vector{Float64}:\n",
       " 10.0\n",
       " 20.0\n",
       " 30.0"
      ]
     },
     "execution_count": 136,
     "metadata": {},
     "output_type": "execute_result"
    }
   ],
   "source": [
    "function matmult2(A, x)\n",
    "    m, n = size(A)\n",
    "    y = zeros(m)\n",
    "    for i in 1:m\n",
    "        y[i] = A[i,:]' * x\n",
    "    end\n",
    "    y\n",
    "end\n",
    "\n",
    "matmult2(A, x)"
   ]
  },
  {
   "cell_type": "markdown",
   "id": "4f3af7b3",
   "metadata": {
    "slideshow": {
     "slide_type": "slide"
    }
   },
   "source": [
    "# Implementing multiplication by column\n"
   ]
  },
  {
   "cell_type": "code",
   "execution_count": 137,
   "id": "12c1dea5",
   "metadata": {
    "cell_style": "split"
   },
   "outputs": [
    {
     "data": {
      "text/plain": [
       "3-element Vector{Float64}:\n",
       " 10.0\n",
       " 20.0\n",
       " 30.0"
      ]
     },
     "execution_count": 137,
     "metadata": {},
     "output_type": "execute_result"
    }
   ],
   "source": [
    "function matmult3(A, x)\n",
    "    m, n = size(A)\n",
    "    y = zeros(m)\n",
    "    for j in 1:n\n",
    "        y += A[:, j] * x[j]\n",
    "    end\n",
    "    y\n",
    "end\n",
    "\n",
    "matmult3(A, x)"
   ]
  },
  {
   "cell_type": "code",
   "execution_count": 138,
   "id": "b573daf7",
   "metadata": {
    "cell_style": "split"
   },
   "outputs": [
    {
     "data": {
      "text/plain": [
       "3-element Vector{Float64}:\n",
       " 10.0\n",
       " 20.0\n",
       " 30.0"
      ]
     },
     "execution_count": 138,
     "metadata": {},
     "output_type": "execute_result"
    }
   ],
   "source": [
    "A * x # We'll use this version "
   ]
  },
  {
   "cell_type": "markdown",
   "id": "ffa46c2c",
   "metadata": {
    "slideshow": {
     "slide_type": "slide"
    }
   },
   "source": [
    "# Polynomial evaluation is (continuous) linear algebra\n",
    "We can evaluate polynomials using matrix-vector multiplication.\n",
    "For example,\n",
    "$$ - 3x + 5x^3 = \\Bigg[ 1 \\Bigg|\\, x \\Bigg|\\, x^2 \\,\\Bigg|\\, x^3 \\Bigg] \\begin{bmatrix}0 \\\\ -3 \\\\ 0 \\\\ 5 \\end{bmatrix} . $$"
   ]
  },
  {
   "cell_type": "code",
   "execution_count": 144,
   "id": "a7e1f3dc",
   "metadata": {
    "cell_style": "split"
   },
   "outputs": [
    {
     "name": "stdout",
     "output_type": "stream",
     "text": [
      "f = Polynomial(1 - x + 3*x^2 + 9*x^3)\n",
      "P(p + q) = Polynomial(1 - x + 3*x^2 + 9*x^3)\n"
     ]
    },
    {
     "data": {
      "text/plain": [
       "3-element Vector{Float64}:\n",
       "  1.0\n",
       " 12.0\n",
       " 83.0"
      ]
     },
     "execution_count": 144,
     "metadata": {},
     "output_type": "execute_result"
    }
   ],
   "source": [
    "using Polynomials\n",
    "P(x) = Polynomial(x)\n",
    "\n",
    "p = [0, -3, 0, 5]\n",
    "q = [1, 2, 3, 4]\n",
    "f = P(p) + P(q)\n",
    "@show f\n",
    "@show P(p+q)\n",
    "x = [0., 1, 2]\n",
    "f.(x)"
   ]
  },
  {
   "cell_type": "code",
   "execution_count": 145,
   "id": "3c90d1af",
   "metadata": {
    "cell_style": "split"
   },
   "outputs": [
    {
     "data": {
      "image/svg+xml": [
       "<?xml version=\"1.0\" encoding=\"utf-8\"?>\n",
       "<svg xmlns=\"http://www.w3.org/2000/svg\" xmlns:xlink=\"http://www.w3.org/1999/xlink\" width=\"600\" height=\"400\" viewBox=\"0 0 2400 1600\">\n",
       "<defs>\n",
       "  <clipPath id=\"clip170\">\n",
       "    <rect x=\"0\" y=\"0\" width=\"2400\" height=\"1600\"/>\n",
       "  </clipPath>\n",
       "</defs>\n",
       "<path clip-path=\"url(#clip170)\" d=\"\n",
       "M0 1600 L2400 1600 L2400 0 L0 0  Z\n",
       "  \" fill=\"#ffffff\" fill-rule=\"evenodd\" fill-opacity=\"1\"/>\n",
       "<defs>\n",
       "  <clipPath id=\"clip171\">\n",
       "    <rect x=\"480\" y=\"0\" width=\"1681\" height=\"1600\"/>\n",
       "  </clipPath>\n",
       "</defs>\n",
       "<path clip-path=\"url(#clip170)\" d=\"\n",
       "M178.867 1486.45 L2352.76 1486.45 L2352.76 47.2441 L178.867 47.2441  Z\n",
       "  \" fill=\"#ffffff\" fill-rule=\"evenodd\" fill-opacity=\"1\"/>\n",
       "<defs>\n",
       "  <clipPath id=\"clip172\">\n",
       "    <rect x=\"178\" y=\"47\" width=\"2175\" height=\"1440\"/>\n",
       "  </clipPath>\n",
       "</defs>\n",
       "<polyline clip-path=\"url(#clip172)\" style=\"stroke:#000000; stroke-linecap:round; stroke-linejoin:round; stroke-width:2; stroke-opacity:0.1; fill:none\" points=\"\n",
       "  178.867,1486.45 178.867,47.2441 \n",
       "  \"/>\n",
       "<polyline clip-path=\"url(#clip172)\" style=\"stroke:#000000; stroke-linecap:round; stroke-linejoin:round; stroke-width:2; stroke-opacity:0.1; fill:none\" points=\"\n",
       "  722.339,1486.45 722.339,47.2441 \n",
       "  \"/>\n",
       "<polyline clip-path=\"url(#clip172)\" style=\"stroke:#000000; stroke-linecap:round; stroke-linejoin:round; stroke-width:2; stroke-opacity:0.1; fill:none\" points=\"\n",
       "  1265.81,1486.45 1265.81,47.2441 \n",
       "  \"/>\n",
       "<polyline clip-path=\"url(#clip172)\" style=\"stroke:#000000; stroke-linecap:round; stroke-linejoin:round; stroke-width:2; stroke-opacity:0.1; fill:none\" points=\"\n",
       "  1809.28,1486.45 1809.28,47.2441 \n",
       "  \"/>\n",
       "<polyline clip-path=\"url(#clip172)\" style=\"stroke:#000000; stroke-linecap:round; stroke-linejoin:round; stroke-width:2; stroke-opacity:0.1; fill:none\" points=\"\n",
       "  2352.76,1486.45 2352.76,47.2441 \n",
       "  \"/>\n",
       "<polyline clip-path=\"url(#clip170)\" style=\"stroke:#000000; stroke-linecap:round; stroke-linejoin:round; stroke-width:4; stroke-opacity:1; fill:none\" points=\"\n",
       "  178.867,1486.45 2352.76,1486.45 \n",
       "  \"/>\n",
       "<polyline clip-path=\"url(#clip170)\" style=\"stroke:#000000; stroke-linecap:round; stroke-linejoin:round; stroke-width:4; stroke-opacity:1; fill:none\" points=\"\n",
       "  178.867,1486.45 178.867,1467.55 \n",
       "  \"/>\n",
       "<polyline clip-path=\"url(#clip170)\" style=\"stroke:#000000; stroke-linecap:round; stroke-linejoin:round; stroke-width:4; stroke-opacity:1; fill:none\" points=\"\n",
       "  722.339,1486.45 722.339,1467.55 \n",
       "  \"/>\n",
       "<polyline clip-path=\"url(#clip170)\" style=\"stroke:#000000; stroke-linecap:round; stroke-linejoin:round; stroke-width:4; stroke-opacity:1; fill:none\" points=\"\n",
       "  1265.81,1486.45 1265.81,1467.55 \n",
       "  \"/>\n",
       "<polyline clip-path=\"url(#clip170)\" style=\"stroke:#000000; stroke-linecap:round; stroke-linejoin:round; stroke-width:4; stroke-opacity:1; fill:none\" points=\"\n",
       "  1809.28,1486.45 1809.28,1467.55 \n",
       "  \"/>\n",
       "<polyline clip-path=\"url(#clip170)\" style=\"stroke:#000000; stroke-linecap:round; stroke-linejoin:round; stroke-width:4; stroke-opacity:1; fill:none\" points=\"\n",
       "  2352.76,1486.45 2352.76,1467.55 \n",
       "  \"/>\n",
       "<path clip-path=\"url(#clip170)\" d=\"M148.809 1532.02 L178.485 1532.02 L178.485 1535.95 L148.809 1535.95 L148.809 1532.02 Z\" fill=\"#000000\" fill-rule=\"evenodd\" fill-opacity=\"1\" /><path clip-path=\"url(#clip170)\" d=\"M192.605 1544.91 L208.924 1544.91 L208.924 1548.85 L186.98 1548.85 L186.98 1544.91 Q189.642 1542.16 194.225 1537.53 Q198.832 1532.88 200.012 1531.53 Q202.258 1529.01 203.137 1527.27 Q204.04 1525.51 204.04 1523.82 Q204.04 1521.07 202.096 1519.33 Q200.174 1517.6 197.073 1517.6 Q194.873 1517.6 192.42 1518.36 Q189.989 1519.13 187.211 1520.68 L187.211 1515.95 Q190.036 1514.82 192.489 1514.24 Q194.943 1513.66 196.98 1513.66 Q202.35 1513.66 205.545 1516.35 Q208.739 1519.03 208.739 1523.52 Q208.739 1525.65 207.929 1527.57 Q207.142 1529.47 205.035 1532.07 Q204.457 1532.74 201.355 1535.95 Q198.253 1539.15 192.605 1544.91 Z\" fill=\"#000000\" fill-rule=\"evenodd\" fill-opacity=\"1\" /><path clip-path=\"url(#clip170)\" d=\"M692.096 1532.02 L721.772 1532.02 L721.772 1535.95 L692.096 1535.95 L692.096 1532.02 Z\" fill=\"#000000\" fill-rule=\"evenodd\" fill-opacity=\"1\" /><path clip-path=\"url(#clip170)\" d=\"M732.675 1544.91 L740.313 1544.91 L740.313 1518.55 L732.003 1520.21 L732.003 1515.95 L740.267 1514.29 L744.943 1514.29 L744.943 1544.91 L752.582 1544.91 L752.582 1548.85 L732.675 1548.85 L732.675 1544.91 Z\" fill=\"#000000\" fill-rule=\"evenodd\" fill-opacity=\"1\" /><path clip-path=\"url(#clip170)\" d=\"M1265.81 1517.37 Q1262.2 1517.37 1260.37 1520.93 Q1258.57 1524.47 1258.57 1531.6 Q1258.57 1538.71 1260.37 1542.27 Q1262.2 1545.82 1265.81 1545.82 Q1269.45 1545.82 1271.25 1542.27 Q1273.08 1538.71 1273.08 1531.6 Q1273.08 1524.47 1271.25 1520.93 Q1269.45 1517.37 1265.81 1517.37 M1265.81 1513.66 Q1271.62 1513.66 1274.68 1518.27 Q1277.76 1522.85 1277.76 1531.6 Q1277.76 1540.33 1274.68 1544.94 Q1271.62 1549.52 1265.81 1549.52 Q1260 1549.52 1256.92 1544.94 Q1253.87 1540.33 1253.87 1531.6 Q1253.87 1522.85 1256.92 1518.27 Q1260 1513.66 1265.81 1513.66 Z\" fill=\"#000000\" fill-rule=\"evenodd\" fill-opacity=\"1\" /><path clip-path=\"url(#clip170)\" d=\"M1799.67 1544.91 L1807.3 1544.91 L1807.3 1518.55 L1798.99 1520.21 L1798.99 1515.95 L1807.26 1514.29 L1811.93 1514.29 L1811.93 1544.91 L1819.57 1544.91 L1819.57 1548.85 L1799.67 1548.85 L1799.67 1544.91 Z\" fill=\"#000000\" fill-rule=\"evenodd\" fill-opacity=\"1\" /><path clip-path=\"url(#clip170)\" d=\"M2347.41 1544.91 L2363.73 1544.91 L2363.73 1548.85 L2341.78 1548.85 L2341.78 1544.91 Q2344.45 1542.16 2349.03 1537.53 Q2353.64 1532.88 2354.82 1531.53 Q2357.06 1529.01 2357.94 1527.27 Q2358.84 1525.51 2358.84 1523.82 Q2358.84 1521.07 2356.9 1519.33 Q2354.98 1517.6 2351.88 1517.6 Q2349.68 1517.6 2347.22 1518.36 Q2344.79 1519.13 2342.02 1520.68 L2342.02 1515.95 Q2344.84 1514.82 2347.29 1514.24 Q2349.75 1513.66 2351.78 1513.66 Q2357.15 1513.66 2360.35 1516.35 Q2363.54 1519.03 2363.54 1523.52 Q2363.54 1525.65 2362.73 1527.57 Q2361.95 1529.47 2359.84 1532.07 Q2359.26 1532.74 2356.16 1535.95 Q2353.06 1539.15 2347.41 1544.91 Z\" fill=\"#000000\" fill-rule=\"evenodd\" fill-opacity=\"1\" /><polyline clip-path=\"url(#clip172)\" style=\"stroke:#000000; stroke-linecap:round; stroke-linejoin:round; stroke-width:2; stroke-opacity:0.1; fill:none\" points=\"\n",
       "  178.867,1377.83 2352.76,1377.83 \n",
       "  \"/>\n",
       "<polyline clip-path=\"url(#clip172)\" style=\"stroke:#000000; stroke-linecap:round; stroke-linejoin:round; stroke-width:2; stroke-opacity:0.1; fill:none\" points=\"\n",
       "  178.867,1135.38 2352.76,1135.38 \n",
       "  \"/>\n",
       "<polyline clip-path=\"url(#clip172)\" style=\"stroke:#000000; stroke-linecap:round; stroke-linejoin:round; stroke-width:2; stroke-opacity:0.1; fill:none\" points=\"\n",
       "  178.867,892.922 2352.76,892.922 \n",
       "  \"/>\n",
       "<polyline clip-path=\"url(#clip172)\" style=\"stroke:#000000; stroke-linecap:round; stroke-linejoin:round; stroke-width:2; stroke-opacity:0.1; fill:none\" points=\"\n",
       "  178.867,650.468 2352.76,650.468 \n",
       "  \"/>\n",
       "<polyline clip-path=\"url(#clip172)\" style=\"stroke:#000000; stroke-linecap:round; stroke-linejoin:round; stroke-width:2; stroke-opacity:0.1; fill:none\" points=\"\n",
       "  178.867,408.015 2352.76,408.015 \n",
       "  \"/>\n",
       "<polyline clip-path=\"url(#clip172)\" style=\"stroke:#000000; stroke-linecap:round; stroke-linejoin:round; stroke-width:2; stroke-opacity:0.1; fill:none\" points=\"\n",
       "  178.867,165.561 2352.76,165.561 \n",
       "  \"/>\n",
       "<polyline clip-path=\"url(#clip170)\" style=\"stroke:#000000; stroke-linecap:round; stroke-linejoin:round; stroke-width:4; stroke-opacity:1; fill:none\" points=\"\n",
       "  178.867,1486.45 178.867,47.2441 \n",
       "  \"/>\n",
       "<polyline clip-path=\"url(#clip170)\" style=\"stroke:#000000; stroke-linecap:round; stroke-linejoin:round; stroke-width:4; stroke-opacity:1; fill:none\" points=\"\n",
       "  178.867,1377.83 197.764,1377.83 \n",
       "  \"/>\n",
       "<polyline clip-path=\"url(#clip170)\" style=\"stroke:#000000; stroke-linecap:round; stroke-linejoin:round; stroke-width:4; stroke-opacity:1; fill:none\" points=\"\n",
       "  178.867,1135.38 197.764,1135.38 \n",
       "  \"/>\n",
       "<polyline clip-path=\"url(#clip170)\" style=\"stroke:#000000; stroke-linecap:round; stroke-linejoin:round; stroke-width:4; stroke-opacity:1; fill:none\" points=\"\n",
       "  178.867,892.922 197.764,892.922 \n",
       "  \"/>\n",
       "<polyline clip-path=\"url(#clip170)\" style=\"stroke:#000000; stroke-linecap:round; stroke-linejoin:round; stroke-width:4; stroke-opacity:1; fill:none\" points=\"\n",
       "  178.867,650.468 197.764,650.468 \n",
       "  \"/>\n",
       "<polyline clip-path=\"url(#clip170)\" style=\"stroke:#000000; stroke-linecap:round; stroke-linejoin:round; stroke-width:4; stroke-opacity:1; fill:none\" points=\"\n",
       "  178.867,408.015 197.764,408.015 \n",
       "  \"/>\n",
       "<polyline clip-path=\"url(#clip170)\" style=\"stroke:#000000; stroke-linecap:round; stroke-linejoin:round; stroke-width:4; stroke-opacity:1; fill:none\" points=\"\n",
       "  178.867,165.561 197.764,165.561 \n",
       "  \"/>\n",
       "<path clip-path=\"url(#clip170)\" d=\"M50.9921 1378.28 L80.6679 1378.28 L80.6679 1382.22 L50.9921 1382.22 L50.9921 1378.28 Z\" fill=\"#000000\" fill-rule=\"evenodd\" fill-opacity=\"1\" /><path clip-path=\"url(#clip170)\" d=\"M90.8067 1360.55 L109.163 1360.55 L109.163 1364.48 L95.0891 1364.48 L95.0891 1372.96 Q96.1076 1372.61 97.1261 1372.45 Q98.1447 1372.26 99.1632 1372.26 Q104.95 1372.26 108.33 1375.43 Q111.709 1378.6 111.709 1384.02 Q111.709 1389.6 108.237 1392.7 Q104.765 1395.78 98.4456 1395.78 Q96.2697 1395.78 94.0012 1395.41 Q91.7558 1395.04 89.3484 1394.3 L89.3484 1389.6 Q91.4317 1390.73 93.6539 1391.29 Q95.8761 1391.84 98.353 1391.84 Q102.358 1391.84 104.696 1389.74 Q107.033 1387.63 107.033 1384.02 Q107.033 1380.41 104.696 1378.3 Q102.358 1376.2 98.353 1376.2 Q96.478 1376.2 94.603 1376.61 Q92.7512 1377.03 90.8067 1377.91 L90.8067 1360.55 Z\" fill=\"#000000\" fill-rule=\"evenodd\" fill-opacity=\"1\" /><path clip-path=\"url(#clip170)\" d=\"M130.922 1363.63 Q127.311 1363.63 125.482 1367.19 Q123.677 1370.73 123.677 1377.86 Q123.677 1384.97 125.482 1388.53 Q127.311 1392.08 130.922 1392.08 Q134.556 1392.08 136.362 1388.53 Q138.191 1384.97 138.191 1377.86 Q138.191 1370.73 136.362 1367.19 Q134.556 1363.63 130.922 1363.63 M130.922 1359.92 Q136.732 1359.92 139.788 1364.53 Q142.867 1369.11 142.867 1377.86 Q142.867 1386.59 139.788 1391.2 Q136.732 1395.78 130.922 1395.78 Q125.112 1395.78 122.033 1391.2 Q118.978 1386.59 118.978 1377.86 Q118.978 1369.11 122.033 1364.53 Q125.112 1359.92 130.922 1359.92 Z\" fill=\"#000000\" fill-rule=\"evenodd\" fill-opacity=\"1\" /><path clip-path=\"url(#clip170)\" d=\"M51.9875 1135.83 L81.6633 1135.83 L81.6633 1139.76 L51.9875 1139.76 L51.9875 1135.83 Z\" fill=\"#000000\" fill-rule=\"evenodd\" fill-opacity=\"1\" /><path clip-path=\"url(#clip170)\" d=\"M95.7836 1148.72 L112.103 1148.72 L112.103 1152.66 L90.1586 1152.66 L90.1586 1148.72 Q92.8206 1145.97 97.4039 1141.34 Q102.01 1136.68 103.191 1135.34 Q105.436 1132.82 106.316 1131.08 Q107.219 1129.32 107.219 1127.63 Q107.219 1124.88 105.274 1123.14 Q103.353 1121.41 100.251 1121.41 Q98.0521 1121.41 95.5984 1122.17 Q93.1678 1122.93 90.3901 1124.48 L90.3901 1119.76 Q93.2141 1118.63 95.6678 1118.05 Q98.1215 1117.47 100.159 1117.47 Q105.529 1117.47 108.723 1120.16 Q111.918 1122.84 111.918 1127.33 Q111.918 1129.46 111.108 1131.38 Q110.321 1133.28 108.214 1135.87 Q107.635 1136.54 104.534 1139.76 Q101.432 1142.96 95.7836 1148.72 Z\" fill=\"#000000\" fill-rule=\"evenodd\" fill-opacity=\"1\" /><path clip-path=\"url(#clip170)\" d=\"M121.964 1118.1 L140.32 1118.1 L140.32 1122.03 L126.246 1122.03 L126.246 1130.5 Q127.265 1130.16 128.283 1129.99 Q129.302 1129.81 130.32 1129.81 Q136.107 1129.81 139.487 1132.98 Q142.867 1136.15 142.867 1141.57 Q142.867 1147.15 139.394 1150.25 Q135.922 1153.33 129.603 1153.33 Q127.427 1153.33 125.158 1152.96 Q122.913 1152.59 120.506 1151.85 L120.506 1147.15 Q122.589 1148.28 124.811 1148.84 Q127.033 1149.39 129.51 1149.39 Q133.515 1149.39 135.853 1147.28 Q138.191 1145.18 138.191 1141.57 Q138.191 1137.96 135.853 1135.85 Q133.515 1133.74 129.51 1133.74 Q127.635 1133.74 125.76 1134.16 Q123.908 1134.58 121.964 1135.46 L121.964 1118.1 Z\" fill=\"#000000\" fill-rule=\"evenodd\" fill-opacity=\"1\" /><path clip-path=\"url(#clip170)\" d=\"M130.922 878.72 Q127.311 878.72 125.482 882.285 Q123.677 885.827 123.677 892.957 Q123.677 900.063 125.482 903.628 Q127.311 907.169 130.922 907.169 Q134.556 907.169 136.362 903.628 Q138.191 900.063 138.191 892.957 Q138.191 885.827 136.362 882.285 Q134.556 878.72 130.922 878.72 M130.922 875.017 Q136.732 875.017 139.788 879.623 Q142.867 884.207 142.867 892.957 Q142.867 901.683 139.788 906.29 Q136.732 910.873 130.922 910.873 Q125.112 910.873 122.033 906.29 Q118.978 901.683 118.978 892.957 Q118.978 884.207 122.033 879.623 Q125.112 875.017 130.922 875.017 Z\" fill=\"#000000\" fill-rule=\"evenodd\" fill-opacity=\"1\" /><path clip-path=\"url(#clip170)\" d=\"M95.7836 663.813 L112.103 663.813 L112.103 667.748 L90.1586 667.748 L90.1586 663.813 Q92.8206 661.059 97.4039 656.429 Q102.01 651.776 103.191 650.434 Q105.436 647.91 106.316 646.174 Q107.219 644.415 107.219 642.725 Q107.219 639.971 105.274 638.235 Q103.353 636.498 100.251 636.498 Q98.0521 636.498 95.5984 637.262 Q93.1678 638.026 90.3901 639.577 L90.3901 634.855 Q93.2141 633.721 95.6678 633.142 Q98.1215 632.563 100.159 632.563 Q105.529 632.563 108.723 635.248 Q111.918 637.934 111.918 642.424 Q111.918 644.554 111.108 646.475 Q110.321 648.373 108.214 650.966 Q107.635 651.637 104.534 654.855 Q101.432 658.049 95.7836 663.813 Z\" fill=\"#000000\" fill-rule=\"evenodd\" fill-opacity=\"1\" /><path clip-path=\"url(#clip170)\" d=\"M121.964 633.188 L140.32 633.188 L140.32 637.123 L126.246 637.123 L126.246 645.596 Q127.265 645.248 128.283 645.086 Q129.302 644.901 130.32 644.901 Q136.107 644.901 139.487 648.072 Q142.867 651.244 142.867 656.66 Q142.867 662.239 139.394 665.341 Q135.922 668.42 129.603 668.42 Q127.427 668.42 125.158 668.049 Q122.913 667.679 120.506 666.938 L120.506 662.239 Q122.589 663.373 124.811 663.929 Q127.033 664.484 129.51 664.484 Q133.515 664.484 135.853 662.378 Q138.191 660.272 138.191 656.66 Q138.191 653.049 135.853 650.943 Q133.515 648.836 129.51 648.836 Q127.635 648.836 125.76 649.253 Q123.908 649.67 121.964 650.549 L121.964 633.188 Z\" fill=\"#000000\" fill-rule=\"evenodd\" fill-opacity=\"1\" /><path clip-path=\"url(#clip170)\" d=\"M90.8067 390.735 L109.163 390.735 L109.163 394.67 L95.0891 394.67 L95.0891 403.142 Q96.1076 402.795 97.1261 402.633 Q98.1447 402.448 99.1632 402.448 Q104.95 402.448 108.33 405.619 Q111.709 408.79 111.709 414.207 Q111.709 419.786 108.237 422.887 Q104.765 425.966 98.4456 425.966 Q96.2697 425.966 94.0012 425.596 Q91.7558 425.225 89.3484 424.485 L89.3484 419.786 Q91.4317 420.92 93.6539 421.475 Q95.8761 422.031 98.353 422.031 Q102.358 422.031 104.696 419.925 Q107.033 417.818 107.033 414.207 Q107.033 410.596 104.696 408.489 Q102.358 406.383 98.353 406.383 Q96.478 406.383 94.603 406.8 Q92.7512 407.216 90.8067 408.096 L90.8067 390.735 Z\" fill=\"#000000\" fill-rule=\"evenodd\" fill-opacity=\"1\" /><path clip-path=\"url(#clip170)\" d=\"M130.922 393.814 Q127.311 393.814 125.482 397.378 Q123.677 400.92 123.677 408.05 Q123.677 415.156 125.482 418.721 Q127.311 422.262 130.922 422.262 Q134.556 422.262 136.362 418.721 Q138.191 415.156 138.191 408.05 Q138.191 400.92 136.362 397.378 Q134.556 393.814 130.922 393.814 M130.922 390.11 Q136.732 390.11 139.788 394.716 Q142.867 399.3 142.867 408.05 Q142.867 416.776 139.788 421.383 Q136.732 425.966 130.922 425.966 Q125.112 425.966 122.033 421.383 Q118.978 416.776 118.978 408.05 Q118.978 399.3 122.033 394.716 Q125.112 390.11 130.922 390.11 Z\" fill=\"#000000\" fill-rule=\"evenodd\" fill-opacity=\"1\" /><path clip-path=\"url(#clip170)\" d=\"M90.5752 148.281 L112.797 148.281 L112.797 150.272 L100.251 182.841 L95.3669 182.841 L107.172 152.217 L90.5752 152.217 L90.5752 148.281 Z\" fill=\"#000000\" fill-rule=\"evenodd\" fill-opacity=\"1\" /><path clip-path=\"url(#clip170)\" d=\"M121.964 148.281 L140.32 148.281 L140.32 152.217 L126.246 152.217 L126.246 160.689 Q127.265 160.342 128.283 160.179 Q129.302 159.994 130.32 159.994 Q136.107 159.994 139.487 163.166 Q142.867 166.337 142.867 171.753 Q142.867 177.332 139.394 180.434 Q135.922 183.513 129.603 183.513 Q127.427 183.513 125.158 183.142 Q122.913 182.772 120.506 182.031 L120.506 177.332 Q122.589 178.466 124.811 179.022 Q127.033 179.578 129.51 179.578 Q133.515 179.578 135.853 177.471 Q138.191 175.365 138.191 171.753 Q138.191 168.142 135.853 166.036 Q133.515 163.929 129.51 163.929 Q127.635 163.929 125.76 164.346 Q123.908 164.763 121.964 165.642 L121.964 148.281 Z\" fill=\"#000000\" fill-rule=\"evenodd\" fill-opacity=\"1\" /><polyline clip-path=\"url(#clip172)\" style=\"stroke:#009af9; stroke-linecap:round; stroke-linejoin:round; stroke-width:16; stroke-opacity:1; fill:none\" points=\"\n",
       "  178.867,1445.72 182.405,1439.74 185.943,1433.8 189.482,1427.91 193.02,1422.06 225.737,1369.88 258.453,1321.13 291.17,1275.68 323.887,1233.43 343.548,1209.52 \n",
       "  363.209,1186.71 382.871,1164.95 402.532,1144.23 435.779,1111.49 469.026,1081.53 505.141,1051.98 541.257,1025.41 574.552,1003.43 607.847,983.722 643.543,964.995 \n",
       "  679.239,948.604 720.597,932.339 761.954,918.779 798.708,908.813 835.461,900.639 867.691,894.818 899.92,890.142 970.198,883.387 1040.89,880.414 1119.06,880.202 \n",
       "  1193.43,881.622 1270.75,883.309 1335.85,883.803 1415.32,881.873 1488.12,876.349 1521.74,872.224 1555.36,866.933 1589.41,860.258 1623.47,852.129 1661.63,841.134 \n",
       "  1699.8,827.97 1734.38,814.018 1768.96,798.002 1808.56,776.956 1848.16,752.825 1884.82,727.555 1921.48,699.305 1957.63,668.381 1993.77,634.251 2028.87,597.9 \n",
       "  2063.96,558.24 2081.95,536.584 2099.94,514.002 2117.93,490.476 2135.91,465.986 2155.62,438.027 2175.33,408.864 2195.04,378.471 2214.75,346.825 2243.38,298.568 \n",
       "  2272,247.536 2300.63,193.652 2329.26,136.839 2335.14,124.815 2341.01,112.663 2346.88,100.384 2352.76,87.9763 \n",
       "  \"/>\n",
       "<path clip-path=\"url(#clip170)\" d=\"\n",
       "M1229.07 1438.47 L2280.29 1438.47 L2280.29 1282.95 L1229.07 1282.95  Z\n",
       "  \" fill=\"#ffffff\" fill-rule=\"evenodd\" fill-opacity=\"1\"/>\n",
       "<polyline clip-path=\"url(#clip170)\" style=\"stroke:#000000; stroke-linecap:round; stroke-linejoin:round; stroke-width:4; stroke-opacity:1; fill:none\" points=\"\n",
       "  1229.07,1438.47 2280.29,1438.47 2280.29,1282.95 1229.07,1282.95 1229.07,1438.47 \n",
       "  \"/>\n",
       "<polyline clip-path=\"url(#clip170)\" style=\"stroke:#009af9; stroke-linecap:round; stroke-linejoin:round; stroke-width:6; stroke-opacity:1; fill:none\" points=\"\n",
       "  1253.22,1360.71 1398.15,1360.71 \n",
       "  \"/>\n",
       "<path clip-path=\"url(#clip170)\" d=\"M1423.31 1380.73 L1434.77 1380.73 L1434.77 1341.18 L1422.3 1343.68 L1422.3 1337.29 L1434.7 1334.79 L1441.71 1334.79 L1441.71 1380.73 L1453.17 1380.73 L1453.17 1386.63 L1423.31 1386.63 L1423.31 1380.73 Z\" fill=\"#000000\" fill-rule=\"evenodd\" fill-opacity=\"1\" /><path clip-path=\"url(#clip170)\" d=\"M1485.81 1364.31 L1504.52 1364.31 L1504.52 1370 L1485.81 1370 L1485.81 1364.31 Z\" fill=\"#000000\" fill-rule=\"evenodd\" fill-opacity=\"1\" /><path clip-path=\"url(#clip170)\" d=\"M1569.63 1347.75 L1555.56 1366.67 L1570.36 1386.63 L1562.82 1386.63 L1551.5 1371.36 L1540.18 1386.63 L1532.65 1386.63 L1547.75 1366.29 L1533.93 1347.75 L1541.47 1347.75 L1551.78 1361.6 L1562.09 1347.75 L1569.63 1347.75 Z\" fill=\"#000000\" fill-rule=\"evenodd\" fill-opacity=\"1\" /><path clip-path=\"url(#clip170)\" d=\"M1627.99 1342.05 L1627.99 1361.39 L1647.33 1361.39 L1647.33 1367.29 L1627.99 1367.29 L1627.99 1386.63 L1622.16 1386.63 L1622.16 1367.29 L1602.82 1367.29 L1602.82 1361.39 L1622.16 1361.39 L1622.16 1342.05 L1627.99 1342.05 Z\" fill=\"#000000\" fill-rule=\"evenodd\" fill-opacity=\"1\" /><path clip-path=\"url(#clip170)\" d=\"M1706.33 1358.68 Q1711.36 1359.76 1714.17 1363.16 Q1717.02 1366.57 1717.02 1371.57 Q1717.02 1379.24 1711.74 1383.44 Q1706.47 1387.64 1696.74 1387.64 Q1693.48 1387.64 1690.01 1386.98 Q1686.57 1386.36 1682.89 1385.07 L1682.89 1378.3 Q1685.81 1380 1689.28 1380.87 Q1692.75 1381.74 1696.54 1381.74 Q1703.13 1381.74 1706.57 1379.13 Q1710.04 1376.53 1710.04 1371.57 Q1710.04 1366.98 1706.81 1364.41 Q1703.62 1361.81 1697.89 1361.81 L1691.85 1361.81 L1691.85 1356.04 L1698.17 1356.04 Q1703.34 1356.04 1706.08 1354 Q1708.83 1351.91 1708.83 1348.02 Q1708.83 1344.03 1705.98 1341.91 Q1703.17 1339.76 1697.89 1339.76 Q1695.01 1339.76 1691.71 1340.38 Q1688.41 1341.01 1684.45 1342.33 L1684.45 1336.08 Q1688.45 1334.97 1691.92 1334.41 Q1695.42 1333.86 1698.51 1333.86 Q1706.5 1333.86 1711.15 1337.5 Q1715.81 1341.11 1715.81 1347.29 Q1715.81 1351.6 1713.34 1354.59 Q1710.88 1357.54 1706.33 1358.68 Z\" fill=\"#000000\" fill-rule=\"evenodd\" fill-opacity=\"1\" /><path clip-path=\"url(#clip170)\" d=\"M1756.15 1343.34 L1743.69 1350.07 L1756.15 1356.84 L1754.14 1360.25 L1742.47 1353.2 L1742.47 1366.29 L1738.51 1366.29 L1738.51 1353.2 L1726.85 1360.25 L1724.83 1356.84 L1737.3 1350.07 L1724.83 1343.34 L1726.85 1339.9 L1738.51 1346.95 L1738.51 1333.86 L1742.47 1333.86 L1742.47 1346.95 L1754.14 1339.9 L1756.15 1343.34 Z\" fill=\"#000000\" fill-rule=\"evenodd\" fill-opacity=\"1\" /><path clip-path=\"url(#clip170)\" d=\"M1797.3 1347.75 L1783.24 1366.67 L1798.03 1386.63 L1790.49 1386.63 L1779.17 1371.36 L1767.85 1386.63 L1760.32 1386.63 L1775.42 1366.29 L1761.6 1347.75 L1769.14 1347.75 L1779.45 1361.6 L1789.76 1347.75 L1797.3 1347.75 Z\" fill=\"#000000\" fill-rule=\"evenodd\" fill-opacity=\"1\" /><path clip-path=\"url(#clip170)\" d=\"M1833.55 1334.79 L1852.4 1354.13 L1845.42 1354.13 L1830.15 1340.42 L1814.87 1354.13 L1807.89 1354.13 L1826.74 1334.79 L1833.55 1334.79 Z\" fill=\"#000000\" fill-rule=\"evenodd\" fill-opacity=\"1\" /><path clip-path=\"url(#clip170)\" d=\"M1873.58 1380.73 L1898.06 1380.73 L1898.06 1386.63 L1865.15 1386.63 L1865.15 1380.73 Q1869.14 1376.6 1876.01 1369.66 Q1882.92 1362.68 1884.69 1360.66 Q1888.06 1356.88 1889.38 1354.27 Q1890.74 1351.63 1890.74 1349.1 Q1890.74 1344.97 1887.82 1342.36 Q1884.94 1339.76 1880.28 1339.76 Q1876.99 1339.76 1873.31 1340.91 Q1869.66 1342.05 1865.49 1344.38 L1865.49 1337.29 Q1869.73 1335.59 1873.41 1334.72 Q1877.09 1333.86 1880.15 1333.86 Q1888.2 1333.86 1892.99 1337.88 Q1897.78 1341.91 1897.78 1348.65 Q1897.78 1351.84 1896.57 1354.72 Q1895.39 1357.57 1892.23 1361.46 Q1891.36 1362.47 1886.71 1367.29 Q1882.06 1372.09 1873.58 1380.73 Z\" fill=\"#000000\" fill-rule=\"evenodd\" fill-opacity=\"1\" /><path clip-path=\"url(#clip170)\" d=\"M1960.49 1342.05 L1960.49 1361.39 L1979.83 1361.39 L1979.83 1367.29 L1960.49 1367.29 L1960.49 1386.63 L1954.66 1386.63 L1954.66 1367.29 L1935.32 1367.29 L1935.32 1361.39 L1954.66 1361.39 L1954.66 1342.05 L1960.49 1342.05 Z\" fill=\"#000000\" fill-rule=\"evenodd\" fill-opacity=\"1\" /><path clip-path=\"url(#clip170)\" d=\"M2017.78 1385.56 L2017.78 1379.17 Q2020.42 1380.42 2023.13 1381.08 Q2025.84 1381.74 2028.44 1381.74 Q2035.39 1381.74 2039.03 1377.09 Q2042.71 1372.4 2043.24 1362.88 Q2041.22 1365.87 2038.13 1367.47 Q2035.04 1369.07 2031.29 1369.07 Q2023.51 1369.07 2018.96 1364.38 Q2014.45 1359.66 2014.45 1351.5 Q2014.45 1343.51 2019.17 1338.68 Q2023.9 1333.86 2031.74 1333.86 Q2040.74 1333.86 2045.46 1340.77 Q2050.21 1347.64 2050.21 1360.77 Q2050.21 1373.02 2044.38 1380.35 Q2038.58 1387.64 2028.76 1387.64 Q2026.12 1387.64 2023.41 1387.12 Q2020.7 1386.6 2017.78 1385.56 M2031.74 1363.58 Q2036.46 1363.58 2039.21 1360.35 Q2041.99 1357.12 2041.99 1351.5 Q2041.99 1345.91 2039.21 1342.68 Q2036.46 1339.41 2031.74 1339.41 Q2027.02 1339.41 2024.24 1342.68 Q2021.5 1345.91 2021.5 1351.5 Q2021.5 1357.12 2024.24 1360.35 Q2027.02 1363.58 2031.74 1363.58 Z\" fill=\"#000000\" fill-rule=\"evenodd\" fill-opacity=\"1\" /><path clip-path=\"url(#clip170)\" d=\"M2088.65 1343.34 L2076.19 1350.07 L2088.65 1356.84 L2086.64 1360.25 L2074.97 1353.2 L2074.97 1366.29 L2071.01 1366.29 L2071.01 1353.2 L2059.35 1360.25 L2057.33 1356.84 L2069.8 1350.07 L2057.33 1343.34 L2059.35 1339.9 L2071.01 1346.95 L2071.01 1333.86 L2074.97 1333.86 L2074.97 1346.95 L2086.64 1339.9 L2088.65 1343.34 Z\" fill=\"#000000\" fill-rule=\"evenodd\" fill-opacity=\"1\" /><path clip-path=\"url(#clip170)\" d=\"M2129.8 1347.75 L2115.73 1366.67 L2130.53 1386.63 L2122.99 1386.63 L2111.67 1371.36 L2100.35 1386.63 L2092.82 1386.63 L2107.92 1366.29 L2094.1 1347.75 L2101.64 1347.75 L2111.95 1361.6 L2122.26 1347.75 L2129.8 1347.75 Z\" fill=\"#000000\" fill-rule=\"evenodd\" fill-opacity=\"1\" /><path clip-path=\"url(#clip170)\" d=\"M2166.05 1334.79 L2184.9 1354.13 L2177.92 1354.13 L2162.64 1340.42 L2147.37 1354.13 L2140.39 1354.13 L2159.24 1334.79 L2166.05 1334.79 Z\" fill=\"#000000\" fill-rule=\"evenodd\" fill-opacity=\"1\" /><path clip-path=\"url(#clip170)\" d=\"M2221.29 1358.68 Q2226.32 1359.76 2229.14 1363.16 Q2231.98 1366.57 2231.98 1371.57 Q2231.98 1379.24 2226.71 1383.44 Q2221.43 1387.64 2211.71 1387.64 Q2208.44 1387.64 2204.97 1386.98 Q2201.53 1386.36 2197.85 1385.07 L2197.85 1378.3 Q2200.77 1380 2204.24 1380.87 Q2207.71 1381.74 2211.5 1381.74 Q2218.1 1381.74 2221.53 1379.13 Q2225.01 1376.53 2225.01 1371.57 Q2225.01 1366.98 2221.78 1364.41 Q2218.58 1361.81 2212.85 1361.81 L2206.81 1361.81 L2206.81 1356.04 L2213.13 1356.04 Q2218.3 1356.04 2221.05 1354 Q2223.79 1351.91 2223.79 1348.02 Q2223.79 1344.03 2220.94 1341.91 Q2218.13 1339.76 2212.85 1339.76 Q2209.97 1339.76 2206.67 1340.38 Q2203.37 1341.01 2199.42 1342.33 L2199.42 1336.08 Q2203.41 1334.97 2206.88 1334.41 Q2210.39 1333.86 2213.48 1333.86 Q2221.46 1333.86 2226.12 1337.5 Q2230.77 1341.11 2230.77 1347.29 Q2230.77 1351.6 2228.3 1354.59 Q2225.84 1357.54 2221.29 1358.68 Z\" fill=\"#000000\" fill-rule=\"evenodd\" fill-opacity=\"1\" /></svg>\n"
      ]
     },
     "execution_count": 145,
     "metadata": {},
     "output_type": "execute_result"
    }
   ],
   "source": [
    "plot(f, legend=:bottomright, xlim=(-2, 2))"
   ]
  },
  {
   "cell_type": "markdown",
   "id": "68418fd7",
   "metadata": {
    "slideshow": {
     "slide_type": "slide"
    }
   },
   "source": [
    "# Polynomial evaluation is (discrete) linear algebra"
   ]
  },
  {
   "cell_type": "code",
   "execution_count": 148,
   "id": "6fdc3793",
   "metadata": {
    "cell_style": "split"
   },
   "outputs": [
    {
     "data": {
      "text/plain": [
       "3×4 Matrix{Float64}:\n",
       " 1.0  0.0  0.0  0.0\n",
       " 1.0  1.0  1.0  1.0\n",
       " 1.0  2.0  4.0  8.0"
      ]
     },
     "execution_count": 148,
     "metadata": {},
     "output_type": "execute_result"
    }
   ],
   "source": [
    "V = [one.(x) x x.^2 x.^3]"
   ]
  },
  {
   "cell_type": "code",
   "execution_count": 149,
   "id": "a7bd6f28",
   "metadata": {
    "cell_style": "split"
   },
   "outputs": [
    {
     "data": {
      "text/plain": [
       "3-element Vector{Float64}:\n",
       "  1.0\n",
       " 12.0\n",
       " 83.0"
      ]
     },
     "execution_count": 149,
     "metadata": {},
     "output_type": "execute_result"
    }
   ],
   "source": [
    "V * p + V * q"
   ]
  },
  {
   "cell_type": "code",
   "execution_count": 150,
   "id": "c18070be",
   "metadata": {
    "cell_style": "split"
   },
   "outputs": [
    {
     "data": {
      "text/plain": [
       "3-element Vector{Float64}:\n",
       "  1.0\n",
       " 12.0\n",
       " 83.0"
      ]
     },
     "execution_count": 150,
     "metadata": {},
     "output_type": "execute_result"
    }
   ],
   "source": [
    "V * (p + q)"
   ]
  },
  {
   "cell_type": "markdown",
   "id": "bcac861a",
   "metadata": {
    "slideshow": {
     "slide_type": "slide"
    }
   },
   "source": [
    "# Vandermonde matrices\n",
    "\n",
    "A Vandermonde matrix is one whose columns are functions evaluated at discrete points.\n",
    "\n",
    "$$V(x) = \\begin{bmatrix} 1 \\Bigg| x \\Bigg| x^2 \\Bigg| x^3 \\Bigg| \\dotsb \\end{bmatrix}$$"
   ]
  },
  {
   "cell_type": "code",
   "execution_count": 153,
   "id": "55291bbf",
   "metadata": {
    "cell_style": "split"
   },
   "outputs": [
    {
     "data": {
      "text/plain": [
       "vander (generic function with 2 methods)"
      ]
     },
     "execution_count": 153,
     "metadata": {},
     "output_type": "execute_result"
    }
   ],
   "source": [
    "function vander(x, k=nothing)\n",
    "    if isnothing(k)\n",
    "        k = length(x)\n",
    "    end\n",
    "    m = length(x)\n",
    "    V = ones(m, k)\n",
    "    for j in 2:k\n",
    "        V[:, j] = V[:, j-1] .* x\n",
    "    end\n",
    "    V\n",
    "end"
   ]
  },
  {
   "cell_type": "code",
   "execution_count": 154,
   "id": "6151d57b",
   "metadata": {
    "cell_style": "split"
   },
   "outputs": [
    {
     "data": {
      "image/svg+xml": [
       "<?xml version=\"1.0\" encoding=\"utf-8\"?>\n",
       "<svg xmlns=\"http://www.w3.org/2000/svg\" xmlns:xlink=\"http://www.w3.org/1999/xlink\" width=\"600\" height=\"400\" viewBox=\"0 0 2400 1600\">\n",
       "<defs>\n",
       "  <clipPath id=\"clip290\">\n",
       "    <rect x=\"0\" y=\"0\" width=\"2400\" height=\"1600\"/>\n",
       "  </clipPath>\n",
       "</defs>\n",
       "<path clip-path=\"url(#clip290)\" d=\"\n",
       "M0 1600 L2400 1600 L2400 0 L0 0  Z\n",
       "  \" fill=\"#ffffff\" fill-rule=\"evenodd\" fill-opacity=\"1\"/>\n",
       "<defs>\n",
       "  <clipPath id=\"clip291\">\n",
       "    <rect x=\"480\" y=\"0\" width=\"1681\" height=\"1600\"/>\n",
       "  </clipPath>\n",
       "</defs>\n",
       "<path clip-path=\"url(#clip290)\" d=\"\n",
       "M193.936 1486.45 L2352.76 1486.45 L2352.76 47.2441 L193.936 47.2441  Z\n",
       "  \" fill=\"#ffffff\" fill-rule=\"evenodd\" fill-opacity=\"1\"/>\n",
       "<defs>\n",
       "  <clipPath id=\"clip292\">\n",
       "    <rect x=\"193\" y=\"47\" width=\"2160\" height=\"1440\"/>\n",
       "  </clipPath>\n",
       "</defs>\n",
       "<polyline clip-path=\"url(#clip292)\" style=\"stroke:#000000; stroke-linecap:round; stroke-linejoin:round; stroke-width:2; stroke-opacity:0.1; fill:none\" points=\"\n",
       "  255.035,1486.45 255.035,47.2441 \n",
       "  \"/>\n",
       "<polyline clip-path=\"url(#clip292)\" style=\"stroke:#000000; stroke-linecap:round; stroke-linejoin:round; stroke-width:2; stroke-opacity:0.1; fill:none\" points=\"\n",
       "  764.19,1486.45 764.19,47.2441 \n",
       "  \"/>\n",
       "<polyline clip-path=\"url(#clip292)\" style=\"stroke:#000000; stroke-linecap:round; stroke-linejoin:round; stroke-width:2; stroke-opacity:0.1; fill:none\" points=\"\n",
       "  1273.35,1486.45 1273.35,47.2441 \n",
       "  \"/>\n",
       "<polyline clip-path=\"url(#clip292)\" style=\"stroke:#000000; stroke-linecap:round; stroke-linejoin:round; stroke-width:2; stroke-opacity:0.1; fill:none\" points=\"\n",
       "  1782.5,1486.45 1782.5,47.2441 \n",
       "  \"/>\n",
       "<polyline clip-path=\"url(#clip292)\" style=\"stroke:#000000; stroke-linecap:round; stroke-linejoin:round; stroke-width:2; stroke-opacity:0.1; fill:none\" points=\"\n",
       "  2291.66,1486.45 2291.66,47.2441 \n",
       "  \"/>\n",
       "<polyline clip-path=\"url(#clip290)\" style=\"stroke:#000000; stroke-linecap:round; stroke-linejoin:round; stroke-width:4; stroke-opacity:1; fill:none\" points=\"\n",
       "  193.936,1486.45 2352.76,1486.45 \n",
       "  \"/>\n",
       "<polyline clip-path=\"url(#clip290)\" style=\"stroke:#000000; stroke-linecap:round; stroke-linejoin:round; stroke-width:4; stroke-opacity:1; fill:none\" points=\"\n",
       "  255.035,1486.45 255.035,1467.55 \n",
       "  \"/>\n",
       "<polyline clip-path=\"url(#clip290)\" style=\"stroke:#000000; stroke-linecap:round; stroke-linejoin:round; stroke-width:4; stroke-opacity:1; fill:none\" points=\"\n",
       "  764.19,1486.45 764.19,1467.55 \n",
       "  \"/>\n",
       "<polyline clip-path=\"url(#clip290)\" style=\"stroke:#000000; stroke-linecap:round; stroke-linejoin:round; stroke-width:4; stroke-opacity:1; fill:none\" points=\"\n",
       "  1273.35,1486.45 1273.35,1467.55 \n",
       "  \"/>\n",
       "<polyline clip-path=\"url(#clip290)\" style=\"stroke:#000000; stroke-linecap:round; stroke-linejoin:round; stroke-width:4; stroke-opacity:1; fill:none\" points=\"\n",
       "  1782.5,1486.45 1782.5,1467.55 \n",
       "  \"/>\n",
       "<polyline clip-path=\"url(#clip290)\" style=\"stroke:#000000; stroke-linecap:round; stroke-linejoin:round; stroke-width:4; stroke-opacity:1; fill:none\" points=\"\n",
       "  2291.66,1486.45 2291.66,1467.55 \n",
       "  \"/>\n",
       "<path clip-path=\"url(#clip290)\" d=\"M201.563 1532.02 L231.239 1532.02 L231.239 1535.95 L201.563 1535.95 L201.563 1532.02 Z\" fill=\"#000000\" fill-rule=\"evenodd\" fill-opacity=\"1\" /><path clip-path=\"url(#clip290)\" d=\"M242.141 1544.91 L249.78 1544.91 L249.78 1518.55 L241.47 1520.21 L241.47 1515.95 L249.734 1514.29 L254.41 1514.29 L254.41 1544.91 L262.049 1544.91 L262.049 1548.85 L242.141 1548.85 L242.141 1544.91 Z\" fill=\"#000000\" fill-rule=\"evenodd\" fill-opacity=\"1\" /><path clip-path=\"url(#clip290)\" d=\"M271.493 1542.97 L276.377 1542.97 L276.377 1548.85 L271.493 1548.85 L271.493 1542.97 Z\" fill=\"#000000\" fill-rule=\"evenodd\" fill-opacity=\"1\" /><path clip-path=\"url(#clip290)\" d=\"M296.562 1517.37 Q292.951 1517.37 291.122 1520.93 Q289.317 1524.47 289.317 1531.6 Q289.317 1538.71 291.122 1542.27 Q292.951 1545.82 296.562 1545.82 Q300.196 1545.82 302.002 1542.27 Q303.831 1538.71 303.831 1531.6 Q303.831 1524.47 302.002 1520.93 Q300.196 1517.37 296.562 1517.37 M296.562 1513.66 Q302.372 1513.66 305.428 1518.27 Q308.507 1522.85 308.507 1531.6 Q308.507 1540.33 305.428 1544.94 Q302.372 1549.52 296.562 1549.52 Q290.752 1549.52 287.673 1544.94 Q284.618 1540.33 284.618 1531.6 Q284.618 1522.85 287.673 1518.27 Q290.752 1513.66 296.562 1513.66 Z\" fill=\"#000000\" fill-rule=\"evenodd\" fill-opacity=\"1\" /><path clip-path=\"url(#clip290)\" d=\"M711.216 1532.02 L740.892 1532.02 L740.892 1535.95 L711.216 1535.95 L711.216 1532.02 Z\" fill=\"#000000\" fill-rule=\"evenodd\" fill-opacity=\"1\" /><path clip-path=\"url(#clip290)\" d=\"M760.984 1517.37 Q757.373 1517.37 755.545 1520.93 Q753.739 1524.47 753.739 1531.6 Q753.739 1538.71 755.545 1542.27 Q757.373 1545.82 760.984 1545.82 Q764.619 1545.82 766.424 1542.27 Q768.253 1538.71 768.253 1531.6 Q768.253 1524.47 766.424 1520.93 Q764.619 1517.37 760.984 1517.37 M760.984 1513.66 Q766.794 1513.66 769.85 1518.27 Q772.929 1522.85 772.929 1531.6 Q772.929 1540.33 769.85 1544.94 Q766.794 1549.52 760.984 1549.52 Q755.174 1549.52 752.095 1544.94 Q749.04 1540.33 749.04 1531.6 Q749.04 1522.85 752.095 1518.27 Q755.174 1513.66 760.984 1513.66 Z\" fill=\"#000000\" fill-rule=\"evenodd\" fill-opacity=\"1\" /><path clip-path=\"url(#clip290)\" d=\"M781.146 1542.97 L786.03 1542.97 L786.03 1548.85 L781.146 1548.85 L781.146 1542.97 Z\" fill=\"#000000\" fill-rule=\"evenodd\" fill-opacity=\"1\" /><path clip-path=\"url(#clip290)\" d=\"M796.262 1514.29 L814.618 1514.29 L814.618 1518.22 L800.544 1518.22 L800.544 1526.7 Q801.563 1526.35 802.581 1526.19 Q803.6 1526 804.618 1526 Q810.405 1526 813.785 1529.17 Q817.165 1532.34 817.165 1537.76 Q817.165 1543.34 813.692 1546.44 Q810.22 1549.52 803.901 1549.52 Q801.725 1549.52 799.456 1549.15 Q797.211 1548.78 794.804 1548.04 L794.804 1543.34 Q796.887 1544.47 799.109 1545.03 Q801.331 1545.58 803.808 1545.58 Q807.813 1545.58 810.151 1543.48 Q812.489 1541.37 812.489 1537.76 Q812.489 1534.15 810.151 1532.04 Q807.813 1529.94 803.808 1529.94 Q801.933 1529.94 800.058 1530.35 Q798.206 1530.77 796.262 1531.65 L796.262 1514.29 Z\" fill=\"#000000\" fill-rule=\"evenodd\" fill-opacity=\"1\" /><path clip-path=\"url(#clip290)\" d=\"M1250.73 1517.37 Q1247.12 1517.37 1245.29 1520.93 Q1243.49 1524.47 1243.49 1531.6 Q1243.49 1538.71 1245.29 1542.27 Q1247.12 1545.82 1250.73 1545.82 Q1254.36 1545.82 1256.17 1542.27 Q1258 1538.71 1258 1531.6 Q1258 1524.47 1256.17 1520.93 Q1254.36 1517.37 1250.73 1517.37 M1250.73 1513.66 Q1256.54 1513.66 1259.6 1518.27 Q1262.67 1522.85 1262.67 1531.6 Q1262.67 1540.33 1259.6 1544.94 Q1256.54 1549.52 1250.73 1549.52 Q1244.92 1549.52 1241.84 1544.94 Q1238.79 1540.33 1238.79 1531.6 Q1238.79 1522.85 1241.84 1518.27 Q1244.92 1513.66 1250.73 1513.66 Z\" fill=\"#000000\" fill-rule=\"evenodd\" fill-opacity=\"1\" /><path clip-path=\"url(#clip290)\" d=\"M1270.89 1542.97 L1275.78 1542.97 L1275.78 1548.85 L1270.89 1548.85 L1270.89 1542.97 Z\" fill=\"#000000\" fill-rule=\"evenodd\" fill-opacity=\"1\" /><path clip-path=\"url(#clip290)\" d=\"M1295.96 1517.37 Q1292.35 1517.37 1290.52 1520.93 Q1288.72 1524.47 1288.72 1531.6 Q1288.72 1538.71 1290.52 1542.27 Q1292.35 1545.82 1295.96 1545.82 Q1299.6 1545.82 1301.4 1542.27 Q1303.23 1538.71 1303.23 1531.6 Q1303.23 1524.47 1301.4 1520.93 Q1299.6 1517.37 1295.96 1517.37 M1295.96 1513.66 Q1301.77 1513.66 1304.83 1518.27 Q1307.91 1522.85 1307.91 1531.6 Q1307.91 1540.33 1304.83 1544.94 Q1301.77 1549.52 1295.96 1549.52 Q1290.15 1549.52 1287.07 1544.94 Q1284.02 1540.33 1284.02 1531.6 Q1284.02 1522.85 1287.07 1518.27 Q1290.15 1513.66 1295.96 1513.66 Z\" fill=\"#000000\" fill-rule=\"evenodd\" fill-opacity=\"1\" /><path clip-path=\"url(#clip290)\" d=\"M1760.38 1517.37 Q1756.77 1517.37 1754.94 1520.93 Q1753.14 1524.47 1753.14 1531.6 Q1753.14 1538.71 1754.94 1542.27 Q1756.77 1545.82 1760.38 1545.82 Q1764.02 1545.82 1765.82 1542.27 Q1767.65 1538.71 1767.65 1531.6 Q1767.65 1524.47 1765.82 1520.93 Q1764.02 1517.37 1760.38 1517.37 M1760.38 1513.66 Q1766.19 1513.66 1769.25 1518.27 Q1772.33 1522.85 1772.33 1531.6 Q1772.33 1540.33 1769.25 1544.94 Q1766.19 1549.52 1760.38 1549.52 Q1754.57 1549.52 1751.49 1544.94 Q1748.44 1540.33 1748.44 1531.6 Q1748.44 1522.85 1751.49 1518.27 Q1754.57 1513.66 1760.38 1513.66 Z\" fill=\"#000000\" fill-rule=\"evenodd\" fill-opacity=\"1\" /><path clip-path=\"url(#clip290)\" d=\"M1780.55 1542.97 L1785.43 1542.97 L1785.43 1548.85 L1780.55 1548.85 L1780.55 1542.97 Z\" fill=\"#000000\" fill-rule=\"evenodd\" fill-opacity=\"1\" /><path clip-path=\"url(#clip290)\" d=\"M1795.66 1514.29 L1814.02 1514.29 L1814.02 1518.22 L1799.94 1518.22 L1799.94 1526.7 Q1800.96 1526.35 1801.98 1526.19 Q1803 1526 1804.02 1526 Q1809.8 1526 1813.18 1529.17 Q1816.56 1532.34 1816.56 1537.76 Q1816.56 1543.34 1813.09 1546.44 Q1809.62 1549.52 1803.3 1549.52 Q1801.12 1549.52 1798.86 1549.15 Q1796.61 1548.78 1794.2 1548.04 L1794.2 1543.34 Q1796.29 1544.47 1798.51 1545.03 Q1800.73 1545.58 1803.21 1545.58 Q1807.21 1545.58 1809.55 1543.48 Q1811.89 1541.37 1811.89 1537.76 Q1811.89 1534.15 1809.55 1532.04 Q1807.21 1529.94 1803.21 1529.94 Q1801.33 1529.94 1799.46 1530.35 Q1797.61 1530.77 1795.66 1531.65 L1795.66 1514.29 Z\" fill=\"#000000\" fill-rule=\"evenodd\" fill-opacity=\"1\" /><path clip-path=\"url(#clip290)\" d=\"M2258.81 1544.91 L2266.45 1544.91 L2266.45 1518.55 L2258.14 1520.21 L2258.14 1515.95 L2266.4 1514.29 L2271.08 1514.29 L2271.08 1544.91 L2278.72 1544.91 L2278.72 1548.85 L2258.81 1548.85 L2258.81 1544.91 Z\" fill=\"#000000\" fill-rule=\"evenodd\" fill-opacity=\"1\" /><path clip-path=\"url(#clip290)\" d=\"M2288.16 1542.97 L2293.05 1542.97 L2293.05 1548.85 L2288.16 1548.85 L2288.16 1542.97 Z\" fill=\"#000000\" fill-rule=\"evenodd\" fill-opacity=\"1\" /><path clip-path=\"url(#clip290)\" d=\"M2313.23 1517.37 Q2309.62 1517.37 2307.79 1520.93 Q2305.99 1524.47 2305.99 1531.6 Q2305.99 1538.71 2307.79 1542.27 Q2309.62 1545.82 2313.23 1545.82 Q2316.87 1545.82 2318.67 1542.27 Q2320.5 1538.71 2320.5 1531.6 Q2320.5 1524.47 2318.67 1520.93 Q2316.87 1517.37 2313.23 1517.37 M2313.23 1513.66 Q2319.04 1513.66 2322.1 1518.27 Q2325.18 1522.85 2325.18 1531.6 Q2325.18 1540.33 2322.1 1544.94 Q2319.04 1549.52 2313.23 1549.52 Q2307.42 1549.52 2304.34 1544.94 Q2301.29 1540.33 2301.29 1531.6 Q2301.29 1522.85 2304.34 1518.27 Q2307.42 1513.66 2313.23 1513.66 Z\" fill=\"#000000\" fill-rule=\"evenodd\" fill-opacity=\"1\" /><polyline clip-path=\"url(#clip292)\" style=\"stroke:#000000; stroke-linecap:round; stroke-linejoin:round; stroke-width:2; stroke-opacity:0.1; fill:none\" points=\"\n",
       "  193.936,1445.72 2352.76,1445.72 \n",
       "  \"/>\n",
       "<polyline clip-path=\"url(#clip292)\" style=\"stroke:#000000; stroke-linecap:round; stroke-linejoin:round; stroke-width:2; stroke-opacity:0.1; fill:none\" points=\"\n",
       "  193.936,1106.28 2352.76,1106.28 \n",
       "  \"/>\n",
       "<polyline clip-path=\"url(#clip292)\" style=\"stroke:#000000; stroke-linecap:round; stroke-linejoin:round; stroke-width:2; stroke-opacity:0.1; fill:none\" points=\"\n",
       "  193.936,766.846 2352.76,766.846 \n",
       "  \"/>\n",
       "<polyline clip-path=\"url(#clip292)\" style=\"stroke:#000000; stroke-linecap:round; stroke-linejoin:round; stroke-width:2; stroke-opacity:0.1; fill:none\" points=\"\n",
       "  193.936,427.411 2352.76,427.411 \n",
       "  \"/>\n",
       "<polyline clip-path=\"url(#clip292)\" style=\"stroke:#000000; stroke-linecap:round; stroke-linejoin:round; stroke-width:2; stroke-opacity:0.1; fill:none\" points=\"\n",
       "  193.936,87.9763 2352.76,87.9763 \n",
       "  \"/>\n",
       "<polyline clip-path=\"url(#clip290)\" style=\"stroke:#000000; stroke-linecap:round; stroke-linejoin:round; stroke-width:4; stroke-opacity:1; fill:none\" points=\"\n",
       "  193.936,1486.45 193.936,47.2441 \n",
       "  \"/>\n",
       "<polyline clip-path=\"url(#clip290)\" style=\"stroke:#000000; stroke-linecap:round; stroke-linejoin:round; stroke-width:4; stroke-opacity:1; fill:none\" points=\"\n",
       "  193.936,1445.72 212.834,1445.72 \n",
       "  \"/>\n",
       "<polyline clip-path=\"url(#clip290)\" style=\"stroke:#000000; stroke-linecap:round; stroke-linejoin:round; stroke-width:4; stroke-opacity:1; fill:none\" points=\"\n",
       "  193.936,1106.28 212.834,1106.28 \n",
       "  \"/>\n",
       "<polyline clip-path=\"url(#clip290)\" style=\"stroke:#000000; stroke-linecap:round; stroke-linejoin:round; stroke-width:4; stroke-opacity:1; fill:none\" points=\"\n",
       "  193.936,766.846 212.834,766.846 \n",
       "  \"/>\n",
       "<polyline clip-path=\"url(#clip290)\" style=\"stroke:#000000; stroke-linecap:round; stroke-linejoin:round; stroke-width:4; stroke-opacity:1; fill:none\" points=\"\n",
       "  193.936,427.411 212.834,427.411 \n",
       "  \"/>\n",
       "<polyline clip-path=\"url(#clip290)\" style=\"stroke:#000000; stroke-linecap:round; stroke-linejoin:round; stroke-width:4; stroke-opacity:1; fill:none\" points=\"\n",
       "  193.936,87.9763 212.834,87.9763 \n",
       "  \"/>\n",
       "<path clip-path=\"url(#clip290)\" d=\"M50.9921 1446.17 L80.6679 1446.17 L80.6679 1450.1 L50.9921 1450.1 L50.9921 1446.17 Z\" fill=\"#000000\" fill-rule=\"evenodd\" fill-opacity=\"1\" /><path clip-path=\"url(#clip290)\" d=\"M91.5706 1459.06 L99.2095 1459.06 L99.2095 1432.69 L90.8993 1434.36 L90.8993 1430.1 L99.1632 1428.44 L103.839 1428.44 L103.839 1459.06 L111.478 1459.06 L111.478 1463 L91.5706 1463 L91.5706 1459.06 Z\" fill=\"#000000\" fill-rule=\"evenodd\" fill-opacity=\"1\" /><path clip-path=\"url(#clip290)\" d=\"M120.922 1457.12 L125.807 1457.12 L125.807 1463 L120.922 1463 L120.922 1457.12 Z\" fill=\"#000000\" fill-rule=\"evenodd\" fill-opacity=\"1\" /><path clip-path=\"url(#clip290)\" d=\"M145.992 1431.51 Q142.381 1431.51 140.552 1435.08 Q138.746 1438.62 138.746 1445.75 Q138.746 1452.86 140.552 1456.42 Q142.381 1459.96 145.992 1459.96 Q149.626 1459.96 151.431 1456.42 Q153.26 1452.86 153.26 1445.75 Q153.26 1438.62 151.431 1435.08 Q149.626 1431.51 145.992 1431.51 M145.992 1427.81 Q151.802 1427.81 154.857 1432.42 Q157.936 1437 157.936 1445.75 Q157.936 1454.48 154.857 1459.08 Q151.802 1463.67 145.992 1463.67 Q140.181 1463.67 137.103 1459.08 Q134.047 1454.48 134.047 1445.75 Q134.047 1437 137.103 1432.42 Q140.181 1427.81 145.992 1427.81 Z\" fill=\"#000000\" fill-rule=\"evenodd\" fill-opacity=\"1\" /><path clip-path=\"url(#clip290)\" d=\"M51.9875 1106.73 L81.6633 1106.73 L81.6633 1110.67 L51.9875 1110.67 L51.9875 1106.73 Z\" fill=\"#000000\" fill-rule=\"evenodd\" fill-opacity=\"1\" /><path clip-path=\"url(#clip290)\" d=\"M101.756 1092.08 Q98.1447 1092.08 96.316 1095.64 Q94.5104 1099.19 94.5104 1106.32 Q94.5104 1113.42 96.316 1116.99 Q98.1447 1120.53 101.756 1120.53 Q105.39 1120.53 107.196 1116.99 Q109.024 1113.42 109.024 1106.32 Q109.024 1099.19 107.196 1095.64 Q105.39 1092.08 101.756 1092.08 M101.756 1088.38 Q107.566 1088.38 110.621 1092.98 Q113.7 1097.57 113.7 1106.32 Q113.7 1115.04 110.621 1119.65 Q107.566 1124.23 101.756 1124.23 Q95.9456 1124.23 92.8669 1119.65 Q89.8114 1115.04 89.8114 1106.32 Q89.8114 1097.57 92.8669 1092.98 Q95.9456 1088.38 101.756 1088.38 Z\" fill=\"#000000\" fill-rule=\"evenodd\" fill-opacity=\"1\" /><path clip-path=\"url(#clip290)\" d=\"M121.918 1117.68 L126.802 1117.68 L126.802 1123.56 L121.918 1123.56 L121.918 1117.68 Z\" fill=\"#000000\" fill-rule=\"evenodd\" fill-opacity=\"1\" /><path clip-path=\"url(#clip290)\" d=\"M137.033 1089 L155.39 1089 L155.39 1092.94 L141.316 1092.94 L141.316 1101.41 Q142.334 1101.06 143.353 1100.9 Q144.371 1100.71 145.39 1100.71 Q151.177 1100.71 154.556 1103.89 Q157.936 1107.06 157.936 1112.47 Q157.936 1118.05 154.464 1121.15 Q150.992 1124.23 144.672 1124.23 Q142.496 1124.23 140.228 1123.86 Q137.982 1123.49 135.575 1122.75 L135.575 1118.05 Q137.658 1119.19 139.881 1119.74 Q142.103 1120.3 144.58 1120.3 Q148.584 1120.3 150.922 1118.19 Q153.26 1116.08 153.26 1112.47 Q153.26 1108.86 150.922 1106.76 Q148.584 1104.65 144.58 1104.65 Q142.705 1104.65 140.83 1105.07 Q138.978 1105.48 137.033 1106.36 L137.033 1089 Z\" fill=\"#000000\" fill-rule=\"evenodd\" fill-opacity=\"1\" /><path clip-path=\"url(#clip290)\" d=\"M100.76 752.645 Q97.1493 752.645 95.3206 756.209 Q93.515 759.751 93.515 766.881 Q93.515 773.987 95.3206 777.552 Q97.1493 781.094 100.76 781.094 Q104.395 781.094 106.2 777.552 Q108.029 773.987 108.029 766.881 Q108.029 759.751 106.2 756.209 Q104.395 752.645 100.76 752.645 M100.76 748.941 Q106.571 748.941 109.626 753.547 Q112.705 758.131 112.705 766.881 Q112.705 775.608 109.626 780.214 Q106.571 784.797 100.76 784.797 Q94.9502 784.797 91.8715 780.214 Q88.816 775.608 88.816 766.881 Q88.816 758.131 91.8715 753.547 Q94.9502 748.941 100.76 748.941 Z\" fill=\"#000000\" fill-rule=\"evenodd\" fill-opacity=\"1\" /><path clip-path=\"url(#clip290)\" d=\"M120.922 778.246 L125.807 778.246 L125.807 784.126 L120.922 784.126 L120.922 778.246 Z\" fill=\"#000000\" fill-rule=\"evenodd\" fill-opacity=\"1\" /><path clip-path=\"url(#clip290)\" d=\"M145.992 752.645 Q142.381 752.645 140.552 756.209 Q138.746 759.751 138.746 766.881 Q138.746 773.987 140.552 777.552 Q142.381 781.094 145.992 781.094 Q149.626 781.094 151.431 777.552 Q153.26 773.987 153.26 766.881 Q153.26 759.751 151.431 756.209 Q149.626 752.645 145.992 752.645 M145.992 748.941 Q151.802 748.941 154.857 753.547 Q157.936 758.131 157.936 766.881 Q157.936 775.608 154.857 780.214 Q151.802 784.797 145.992 784.797 Q140.181 784.797 137.103 780.214 Q134.047 775.608 134.047 766.881 Q134.047 758.131 137.103 753.547 Q140.181 748.941 145.992 748.941 Z\" fill=\"#000000\" fill-rule=\"evenodd\" fill-opacity=\"1\" /><path clip-path=\"url(#clip290)\" d=\"M101.756 413.21 Q98.1447 413.21 96.316 416.775 Q94.5104 420.316 94.5104 427.446 Q94.5104 434.552 96.316 438.117 Q98.1447 441.659 101.756 441.659 Q105.39 441.659 107.196 438.117 Q109.024 434.552 109.024 427.446 Q109.024 420.316 107.196 416.775 Q105.39 413.21 101.756 413.21 M101.756 409.506 Q107.566 409.506 110.621 414.113 Q113.7 418.696 113.7 427.446 Q113.7 436.173 110.621 440.779 Q107.566 445.362 101.756 445.362 Q95.9456 445.362 92.8669 440.779 Q89.8114 436.173 89.8114 427.446 Q89.8114 418.696 92.8669 414.113 Q95.9456 409.506 101.756 409.506 Z\" fill=\"#000000\" fill-rule=\"evenodd\" fill-opacity=\"1\" /><path clip-path=\"url(#clip290)\" d=\"M121.918 438.812 L126.802 438.812 L126.802 444.691 L121.918 444.691 L121.918 438.812 Z\" fill=\"#000000\" fill-rule=\"evenodd\" fill-opacity=\"1\" /><path clip-path=\"url(#clip290)\" d=\"M137.033 410.131 L155.39 410.131 L155.39 414.066 L141.316 414.066 L141.316 422.538 Q142.334 422.191 143.353 422.029 Q144.371 421.844 145.39 421.844 Q151.177 421.844 154.556 425.015 Q157.936 428.187 157.936 433.603 Q157.936 439.182 154.464 442.284 Q150.992 445.362 144.672 445.362 Q142.496 445.362 140.228 444.992 Q137.982 444.622 135.575 443.881 L135.575 439.182 Q137.658 440.316 139.881 440.872 Q142.103 441.427 144.58 441.427 Q148.584 441.427 150.922 439.321 Q153.26 437.214 153.26 433.603 Q153.26 429.992 150.922 427.886 Q148.584 425.779 144.58 425.779 Q142.705 425.779 140.83 426.196 Q138.978 426.613 137.033 427.492 L137.033 410.131 Z\" fill=\"#000000\" fill-rule=\"evenodd\" fill-opacity=\"1\" /><path clip-path=\"url(#clip290)\" d=\"M91.5706 101.321 L99.2095 101.321 L99.2095 74.9555 L90.8993 76.6222 L90.8993 72.3629 L99.1632 70.6963 L103.839 70.6963 L103.839 101.321 L111.478 101.321 L111.478 105.256 L91.5706 105.256 L91.5706 101.321 Z\" fill=\"#000000\" fill-rule=\"evenodd\" fill-opacity=\"1\" /><path clip-path=\"url(#clip290)\" d=\"M120.922 99.3767 L125.807 99.3767 L125.807 105.256 L120.922 105.256 L120.922 99.3767 Z\" fill=\"#000000\" fill-rule=\"evenodd\" fill-opacity=\"1\" /><path clip-path=\"url(#clip290)\" d=\"M145.992 73.775 Q142.381 73.775 140.552 77.3398 Q138.746 80.8814 138.746 88.011 Q138.746 95.1174 140.552 98.6822 Q142.381 102.224 145.992 102.224 Q149.626 102.224 151.431 98.6822 Q153.26 95.1174 153.26 88.011 Q153.26 80.8814 151.431 77.3398 Q149.626 73.775 145.992 73.775 M145.992 70.0713 Q151.802 70.0713 154.857 74.6777 Q157.936 79.261 157.936 88.011 Q157.936 96.7378 154.857 101.344 Q151.802 105.928 145.992 105.928 Q140.181 105.928 137.103 101.344 Q134.047 96.7378 134.047 88.011 Q134.047 79.261 137.103 74.6777 Q140.181 70.0713 145.992 70.0713 Z\" fill=\"#000000\" fill-rule=\"evenodd\" fill-opacity=\"1\" /><circle clip-path=\"url(#clip292)\" cx=\"255.035\" cy=\"87.9763\" r=\"14.4\" fill=\"#009af9\" fill-rule=\"evenodd\" fill-opacity=\"1\" stroke=\"#000000\" stroke-opacity=\"1\" stroke-width=\"3.2\"/>\n",
       "<circle clip-path=\"url(#clip292)\" cx=\"296.598\" cy=\"87.9763\" r=\"14.4\" fill=\"#009af9\" fill-rule=\"evenodd\" fill-opacity=\"1\" stroke=\"#000000\" stroke-opacity=\"1\" stroke-width=\"3.2\"/>\n",
       "<circle clip-path=\"url(#clip292)\" cx=\"338.162\" cy=\"87.9763\" r=\"14.4\" fill=\"#009af9\" fill-rule=\"evenodd\" fill-opacity=\"1\" stroke=\"#000000\" stroke-opacity=\"1\" stroke-width=\"3.2\"/>\n",
       "<circle clip-path=\"url(#clip292)\" cx=\"379.726\" cy=\"87.9763\" r=\"14.4\" fill=\"#009af9\" fill-rule=\"evenodd\" fill-opacity=\"1\" stroke=\"#000000\" stroke-opacity=\"1\" stroke-width=\"3.2\"/>\n",
       "<circle clip-path=\"url(#clip292)\" cx=\"421.29\" cy=\"87.9763\" r=\"14.4\" fill=\"#009af9\" fill-rule=\"evenodd\" fill-opacity=\"1\" stroke=\"#000000\" stroke-opacity=\"1\" stroke-width=\"3.2\"/>\n",
       "<circle clip-path=\"url(#clip292)\" cx=\"462.853\" cy=\"87.9763\" r=\"14.4\" fill=\"#009af9\" fill-rule=\"evenodd\" fill-opacity=\"1\" stroke=\"#000000\" stroke-opacity=\"1\" stroke-width=\"3.2\"/>\n",
       "<circle clip-path=\"url(#clip292)\" cx=\"504.417\" cy=\"87.9763\" r=\"14.4\" fill=\"#009af9\" fill-rule=\"evenodd\" fill-opacity=\"1\" stroke=\"#000000\" stroke-opacity=\"1\" stroke-width=\"3.2\"/>\n",
       "<circle clip-path=\"url(#clip292)\" cx=\"545.981\" cy=\"87.9763\" r=\"14.4\" fill=\"#009af9\" fill-rule=\"evenodd\" fill-opacity=\"1\" stroke=\"#000000\" stroke-opacity=\"1\" stroke-width=\"3.2\"/>\n",
       "<circle clip-path=\"url(#clip292)\" cx=\"587.544\" cy=\"87.9763\" r=\"14.4\" fill=\"#009af9\" fill-rule=\"evenodd\" fill-opacity=\"1\" stroke=\"#000000\" stroke-opacity=\"1\" stroke-width=\"3.2\"/>\n",
       "<circle clip-path=\"url(#clip292)\" cx=\"629.108\" cy=\"87.9763\" r=\"14.4\" fill=\"#009af9\" fill-rule=\"evenodd\" fill-opacity=\"1\" stroke=\"#000000\" stroke-opacity=\"1\" stroke-width=\"3.2\"/>\n",
       "<circle clip-path=\"url(#clip292)\" cx=\"670.672\" cy=\"87.9763\" r=\"14.4\" fill=\"#009af9\" fill-rule=\"evenodd\" fill-opacity=\"1\" stroke=\"#000000\" stroke-opacity=\"1\" stroke-width=\"3.2\"/>\n",
       "<circle clip-path=\"url(#clip292)\" cx=\"712.236\" cy=\"87.9763\" r=\"14.4\" fill=\"#009af9\" fill-rule=\"evenodd\" fill-opacity=\"1\" stroke=\"#000000\" stroke-opacity=\"1\" stroke-width=\"3.2\"/>\n",
       "<circle clip-path=\"url(#clip292)\" cx=\"753.799\" cy=\"87.9763\" r=\"14.4\" fill=\"#009af9\" fill-rule=\"evenodd\" fill-opacity=\"1\" stroke=\"#000000\" stroke-opacity=\"1\" stroke-width=\"3.2\"/>\n",
       "<circle clip-path=\"url(#clip292)\" cx=\"795.363\" cy=\"87.9763\" r=\"14.4\" fill=\"#009af9\" fill-rule=\"evenodd\" fill-opacity=\"1\" stroke=\"#000000\" stroke-opacity=\"1\" stroke-width=\"3.2\"/>\n",
       "<circle clip-path=\"url(#clip292)\" cx=\"836.927\" cy=\"87.9763\" r=\"14.4\" fill=\"#009af9\" fill-rule=\"evenodd\" fill-opacity=\"1\" stroke=\"#000000\" stroke-opacity=\"1\" stroke-width=\"3.2\"/>\n",
       "<circle clip-path=\"url(#clip292)\" cx=\"878.491\" cy=\"87.9763\" r=\"14.4\" fill=\"#009af9\" fill-rule=\"evenodd\" fill-opacity=\"1\" stroke=\"#000000\" stroke-opacity=\"1\" stroke-width=\"3.2\"/>\n",
       "<circle clip-path=\"url(#clip292)\" cx=\"920.054\" cy=\"87.9763\" r=\"14.4\" fill=\"#009af9\" fill-rule=\"evenodd\" fill-opacity=\"1\" stroke=\"#000000\" stroke-opacity=\"1\" stroke-width=\"3.2\"/>\n",
       "<circle clip-path=\"url(#clip292)\" cx=\"961.618\" cy=\"87.9763\" r=\"14.4\" fill=\"#009af9\" fill-rule=\"evenodd\" fill-opacity=\"1\" stroke=\"#000000\" stroke-opacity=\"1\" stroke-width=\"3.2\"/>\n",
       "<circle clip-path=\"url(#clip292)\" cx=\"1003.18\" cy=\"87.9763\" r=\"14.4\" fill=\"#009af9\" fill-rule=\"evenodd\" fill-opacity=\"1\" stroke=\"#000000\" stroke-opacity=\"1\" stroke-width=\"3.2\"/>\n",
       "<circle clip-path=\"url(#clip292)\" cx=\"1044.75\" cy=\"87.9763\" r=\"14.4\" fill=\"#009af9\" fill-rule=\"evenodd\" fill-opacity=\"1\" stroke=\"#000000\" stroke-opacity=\"1\" stroke-width=\"3.2\"/>\n",
       "<circle clip-path=\"url(#clip292)\" cx=\"1086.31\" cy=\"87.9763\" r=\"14.4\" fill=\"#009af9\" fill-rule=\"evenodd\" fill-opacity=\"1\" stroke=\"#000000\" stroke-opacity=\"1\" stroke-width=\"3.2\"/>\n",
       "<circle clip-path=\"url(#clip292)\" cx=\"1127.87\" cy=\"87.9763\" r=\"14.4\" fill=\"#009af9\" fill-rule=\"evenodd\" fill-opacity=\"1\" stroke=\"#000000\" stroke-opacity=\"1\" stroke-width=\"3.2\"/>\n",
       "<circle clip-path=\"url(#clip292)\" cx=\"1169.44\" cy=\"87.9763\" r=\"14.4\" fill=\"#009af9\" fill-rule=\"evenodd\" fill-opacity=\"1\" stroke=\"#000000\" stroke-opacity=\"1\" stroke-width=\"3.2\"/>\n",
       "<circle clip-path=\"url(#clip292)\" cx=\"1211\" cy=\"87.9763\" r=\"14.4\" fill=\"#009af9\" fill-rule=\"evenodd\" fill-opacity=\"1\" stroke=\"#000000\" stroke-opacity=\"1\" stroke-width=\"3.2\"/>\n",
       "<circle clip-path=\"url(#clip292)\" cx=\"1252.56\" cy=\"87.9763\" r=\"14.4\" fill=\"#009af9\" fill-rule=\"evenodd\" fill-opacity=\"1\" stroke=\"#000000\" stroke-opacity=\"1\" stroke-width=\"3.2\"/>\n",
       "<circle clip-path=\"url(#clip292)\" cx=\"1294.13\" cy=\"87.9763\" r=\"14.4\" fill=\"#009af9\" fill-rule=\"evenodd\" fill-opacity=\"1\" stroke=\"#000000\" stroke-opacity=\"1\" stroke-width=\"3.2\"/>\n",
       "<circle clip-path=\"url(#clip292)\" cx=\"1335.69\" cy=\"87.9763\" r=\"14.4\" fill=\"#009af9\" fill-rule=\"evenodd\" fill-opacity=\"1\" stroke=\"#000000\" stroke-opacity=\"1\" stroke-width=\"3.2\"/>\n",
       "<circle clip-path=\"url(#clip292)\" cx=\"1377.26\" cy=\"87.9763\" r=\"14.4\" fill=\"#009af9\" fill-rule=\"evenodd\" fill-opacity=\"1\" stroke=\"#000000\" stroke-opacity=\"1\" stroke-width=\"3.2\"/>\n",
       "<circle clip-path=\"url(#clip292)\" cx=\"1418.82\" cy=\"87.9763\" r=\"14.4\" fill=\"#009af9\" fill-rule=\"evenodd\" fill-opacity=\"1\" stroke=\"#000000\" stroke-opacity=\"1\" stroke-width=\"3.2\"/>\n",
       "<circle clip-path=\"url(#clip292)\" cx=\"1460.38\" cy=\"87.9763\" r=\"14.4\" fill=\"#009af9\" fill-rule=\"evenodd\" fill-opacity=\"1\" stroke=\"#000000\" stroke-opacity=\"1\" stroke-width=\"3.2\"/>\n",
       "<circle clip-path=\"url(#clip292)\" cx=\"1501.95\" cy=\"87.9763\" r=\"14.4\" fill=\"#009af9\" fill-rule=\"evenodd\" fill-opacity=\"1\" stroke=\"#000000\" stroke-opacity=\"1\" stroke-width=\"3.2\"/>\n",
       "<circle clip-path=\"url(#clip292)\" cx=\"1543.51\" cy=\"87.9763\" r=\"14.4\" fill=\"#009af9\" fill-rule=\"evenodd\" fill-opacity=\"1\" stroke=\"#000000\" stroke-opacity=\"1\" stroke-width=\"3.2\"/>\n",
       "<circle clip-path=\"url(#clip292)\" cx=\"1585.07\" cy=\"87.9763\" r=\"14.4\" fill=\"#009af9\" fill-rule=\"evenodd\" fill-opacity=\"1\" stroke=\"#000000\" stroke-opacity=\"1\" stroke-width=\"3.2\"/>\n",
       "<circle clip-path=\"url(#clip292)\" cx=\"1626.64\" cy=\"87.9763\" r=\"14.4\" fill=\"#009af9\" fill-rule=\"evenodd\" fill-opacity=\"1\" stroke=\"#000000\" stroke-opacity=\"1\" stroke-width=\"3.2\"/>\n",
       "<circle clip-path=\"url(#clip292)\" cx=\"1668.2\" cy=\"87.9763\" r=\"14.4\" fill=\"#009af9\" fill-rule=\"evenodd\" fill-opacity=\"1\" stroke=\"#000000\" stroke-opacity=\"1\" stroke-width=\"3.2\"/>\n",
       "<circle clip-path=\"url(#clip292)\" cx=\"1709.77\" cy=\"87.9763\" r=\"14.4\" fill=\"#009af9\" fill-rule=\"evenodd\" fill-opacity=\"1\" stroke=\"#000000\" stroke-opacity=\"1\" stroke-width=\"3.2\"/>\n",
       "<circle clip-path=\"url(#clip292)\" cx=\"1751.33\" cy=\"87.9763\" r=\"14.4\" fill=\"#009af9\" fill-rule=\"evenodd\" fill-opacity=\"1\" stroke=\"#000000\" stroke-opacity=\"1\" stroke-width=\"3.2\"/>\n",
       "<circle clip-path=\"url(#clip292)\" cx=\"1792.89\" cy=\"87.9763\" r=\"14.4\" fill=\"#009af9\" fill-rule=\"evenodd\" fill-opacity=\"1\" stroke=\"#000000\" stroke-opacity=\"1\" stroke-width=\"3.2\"/>\n",
       "<circle clip-path=\"url(#clip292)\" cx=\"1834.46\" cy=\"87.9763\" r=\"14.4\" fill=\"#009af9\" fill-rule=\"evenodd\" fill-opacity=\"1\" stroke=\"#000000\" stroke-opacity=\"1\" stroke-width=\"3.2\"/>\n",
       "<circle clip-path=\"url(#clip292)\" cx=\"1876.02\" cy=\"87.9763\" r=\"14.4\" fill=\"#009af9\" fill-rule=\"evenodd\" fill-opacity=\"1\" stroke=\"#000000\" stroke-opacity=\"1\" stroke-width=\"3.2\"/>\n",
       "<circle clip-path=\"url(#clip292)\" cx=\"1917.58\" cy=\"87.9763\" r=\"14.4\" fill=\"#009af9\" fill-rule=\"evenodd\" fill-opacity=\"1\" stroke=\"#000000\" stroke-opacity=\"1\" stroke-width=\"3.2\"/>\n",
       "<circle clip-path=\"url(#clip292)\" cx=\"1959.15\" cy=\"87.9763\" r=\"14.4\" fill=\"#009af9\" fill-rule=\"evenodd\" fill-opacity=\"1\" stroke=\"#000000\" stroke-opacity=\"1\" stroke-width=\"3.2\"/>\n",
       "<circle clip-path=\"url(#clip292)\" cx=\"2000.71\" cy=\"87.9763\" r=\"14.4\" fill=\"#009af9\" fill-rule=\"evenodd\" fill-opacity=\"1\" stroke=\"#000000\" stroke-opacity=\"1\" stroke-width=\"3.2\"/>\n",
       "<circle clip-path=\"url(#clip292)\" cx=\"2042.27\" cy=\"87.9763\" r=\"14.4\" fill=\"#009af9\" fill-rule=\"evenodd\" fill-opacity=\"1\" stroke=\"#000000\" stroke-opacity=\"1\" stroke-width=\"3.2\"/>\n",
       "<circle clip-path=\"url(#clip292)\" cx=\"2083.84\" cy=\"87.9763\" r=\"14.4\" fill=\"#009af9\" fill-rule=\"evenodd\" fill-opacity=\"1\" stroke=\"#000000\" stroke-opacity=\"1\" stroke-width=\"3.2\"/>\n",
       "<circle clip-path=\"url(#clip292)\" cx=\"2125.4\" cy=\"87.9763\" r=\"14.4\" fill=\"#009af9\" fill-rule=\"evenodd\" fill-opacity=\"1\" stroke=\"#000000\" stroke-opacity=\"1\" stroke-width=\"3.2\"/>\n",
       "<circle clip-path=\"url(#clip292)\" cx=\"2166.97\" cy=\"87.9763\" r=\"14.4\" fill=\"#009af9\" fill-rule=\"evenodd\" fill-opacity=\"1\" stroke=\"#000000\" stroke-opacity=\"1\" stroke-width=\"3.2\"/>\n",
       "<circle clip-path=\"url(#clip292)\" cx=\"2208.53\" cy=\"87.9763\" r=\"14.4\" fill=\"#009af9\" fill-rule=\"evenodd\" fill-opacity=\"1\" stroke=\"#000000\" stroke-opacity=\"1\" stroke-width=\"3.2\"/>\n",
       "<circle clip-path=\"url(#clip292)\" cx=\"2250.09\" cy=\"87.9763\" r=\"14.4\" fill=\"#009af9\" fill-rule=\"evenodd\" fill-opacity=\"1\" stroke=\"#000000\" stroke-opacity=\"1\" stroke-width=\"3.2\"/>\n",
       "<circle clip-path=\"url(#clip292)\" cx=\"2291.66\" cy=\"87.9763\" r=\"14.4\" fill=\"#009af9\" fill-rule=\"evenodd\" fill-opacity=\"1\" stroke=\"#000000\" stroke-opacity=\"1\" stroke-width=\"3.2\"/>\n",
       "<circle clip-path=\"url(#clip292)\" cx=\"255.035\" cy=\"1445.72\" r=\"14.4\" fill=\"#e26f46\" fill-rule=\"evenodd\" fill-opacity=\"1\" stroke=\"#000000\" stroke-opacity=\"1\" stroke-width=\"3.2\"/>\n",
       "<circle clip-path=\"url(#clip292)\" cx=\"296.598\" cy=\"1418.01\" r=\"14.4\" fill=\"#e26f46\" fill-rule=\"evenodd\" fill-opacity=\"1\" stroke=\"#000000\" stroke-opacity=\"1\" stroke-width=\"3.2\"/>\n",
       "<circle clip-path=\"url(#clip292)\" cx=\"338.162\" cy=\"1390.3\" r=\"14.4\" fill=\"#e26f46\" fill-rule=\"evenodd\" fill-opacity=\"1\" stroke=\"#000000\" stroke-opacity=\"1\" stroke-width=\"3.2\"/>\n",
       "<circle clip-path=\"url(#clip292)\" cx=\"379.726\" cy=\"1362.59\" r=\"14.4\" fill=\"#e26f46\" fill-rule=\"evenodd\" fill-opacity=\"1\" stroke=\"#000000\" stroke-opacity=\"1\" stroke-width=\"3.2\"/>\n",
       "<circle clip-path=\"url(#clip292)\" cx=\"421.29\" cy=\"1334.88\" r=\"14.4\" fill=\"#e26f46\" fill-rule=\"evenodd\" fill-opacity=\"1\" stroke=\"#000000\" stroke-opacity=\"1\" stroke-width=\"3.2\"/>\n",
       "<circle clip-path=\"url(#clip292)\" cx=\"462.853\" cy=\"1307.17\" r=\"14.4\" fill=\"#e26f46\" fill-rule=\"evenodd\" fill-opacity=\"1\" stroke=\"#000000\" stroke-opacity=\"1\" stroke-width=\"3.2\"/>\n",
       "<circle clip-path=\"url(#clip292)\" cx=\"504.417\" cy=\"1279.46\" r=\"14.4\" fill=\"#e26f46\" fill-rule=\"evenodd\" fill-opacity=\"1\" stroke=\"#000000\" stroke-opacity=\"1\" stroke-width=\"3.2\"/>\n",
       "<circle clip-path=\"url(#clip292)\" cx=\"545.981\" cy=\"1251.75\" r=\"14.4\" fill=\"#e26f46\" fill-rule=\"evenodd\" fill-opacity=\"1\" stroke=\"#000000\" stroke-opacity=\"1\" stroke-width=\"3.2\"/>\n",
       "<circle clip-path=\"url(#clip292)\" cx=\"587.544\" cy=\"1224.04\" r=\"14.4\" fill=\"#e26f46\" fill-rule=\"evenodd\" fill-opacity=\"1\" stroke=\"#000000\" stroke-opacity=\"1\" stroke-width=\"3.2\"/>\n",
       "<circle clip-path=\"url(#clip292)\" cx=\"629.108\" cy=\"1196.33\" r=\"14.4\" fill=\"#e26f46\" fill-rule=\"evenodd\" fill-opacity=\"1\" stroke=\"#000000\" stroke-opacity=\"1\" stroke-width=\"3.2\"/>\n",
       "<circle clip-path=\"url(#clip292)\" cx=\"670.672\" cy=\"1168.63\" r=\"14.4\" fill=\"#e26f46\" fill-rule=\"evenodd\" fill-opacity=\"1\" stroke=\"#000000\" stroke-opacity=\"1\" stroke-width=\"3.2\"/>\n",
       "<circle clip-path=\"url(#clip292)\" cx=\"712.236\" cy=\"1140.92\" r=\"14.4\" fill=\"#e26f46\" fill-rule=\"evenodd\" fill-opacity=\"1\" stroke=\"#000000\" stroke-opacity=\"1\" stroke-width=\"3.2\"/>\n",
       "<circle clip-path=\"url(#clip292)\" cx=\"753.799\" cy=\"1113.21\" r=\"14.4\" fill=\"#e26f46\" fill-rule=\"evenodd\" fill-opacity=\"1\" stroke=\"#000000\" stroke-opacity=\"1\" stroke-width=\"3.2\"/>\n",
       "<circle clip-path=\"url(#clip292)\" cx=\"795.363\" cy=\"1085.5\" r=\"14.4\" fill=\"#e26f46\" fill-rule=\"evenodd\" fill-opacity=\"1\" stroke=\"#000000\" stroke-opacity=\"1\" stroke-width=\"3.2\"/>\n",
       "<circle clip-path=\"url(#clip292)\" cx=\"836.927\" cy=\"1057.79\" r=\"14.4\" fill=\"#e26f46\" fill-rule=\"evenodd\" fill-opacity=\"1\" stroke=\"#000000\" stroke-opacity=\"1\" stroke-width=\"3.2\"/>\n",
       "<circle clip-path=\"url(#clip292)\" cx=\"878.491\" cy=\"1030.08\" r=\"14.4\" fill=\"#e26f46\" fill-rule=\"evenodd\" fill-opacity=\"1\" stroke=\"#000000\" stroke-opacity=\"1\" stroke-width=\"3.2\"/>\n",
       "<circle clip-path=\"url(#clip292)\" cx=\"920.054\" cy=\"1002.37\" r=\"14.4\" fill=\"#e26f46\" fill-rule=\"evenodd\" fill-opacity=\"1\" stroke=\"#000000\" stroke-opacity=\"1\" stroke-width=\"3.2\"/>\n",
       "<circle clip-path=\"url(#clip292)\" cx=\"961.618\" cy=\"974.663\" r=\"14.4\" fill=\"#e26f46\" fill-rule=\"evenodd\" fill-opacity=\"1\" stroke=\"#000000\" stroke-opacity=\"1\" stroke-width=\"3.2\"/>\n",
       "<circle clip-path=\"url(#clip292)\" cx=\"1003.18\" cy=\"946.954\" r=\"14.4\" fill=\"#e26f46\" fill-rule=\"evenodd\" fill-opacity=\"1\" stroke=\"#000000\" stroke-opacity=\"1\" stroke-width=\"3.2\"/>\n",
       "<circle clip-path=\"url(#clip292)\" cx=\"1044.75\" cy=\"919.245\" r=\"14.4\" fill=\"#e26f46\" fill-rule=\"evenodd\" fill-opacity=\"1\" stroke=\"#000000\" stroke-opacity=\"1\" stroke-width=\"3.2\"/>\n",
       "<circle clip-path=\"url(#clip292)\" cx=\"1086.31\" cy=\"891.536\" r=\"14.4\" fill=\"#e26f46\" fill-rule=\"evenodd\" fill-opacity=\"1\" stroke=\"#000000\" stroke-opacity=\"1\" stroke-width=\"3.2\"/>\n",
       "<circle clip-path=\"url(#clip292)\" cx=\"1127.87\" cy=\"863.827\" r=\"14.4\" fill=\"#e26f46\" fill-rule=\"evenodd\" fill-opacity=\"1\" stroke=\"#000000\" stroke-opacity=\"1\" stroke-width=\"3.2\"/>\n",
       "<circle clip-path=\"url(#clip292)\" cx=\"1169.44\" cy=\"836.118\" r=\"14.4\" fill=\"#e26f46\" fill-rule=\"evenodd\" fill-opacity=\"1\" stroke=\"#000000\" stroke-opacity=\"1\" stroke-width=\"3.2\"/>\n",
       "<circle clip-path=\"url(#clip292)\" cx=\"1211\" cy=\"808.409\" r=\"14.4\" fill=\"#e26f46\" fill-rule=\"evenodd\" fill-opacity=\"1\" stroke=\"#000000\" stroke-opacity=\"1\" stroke-width=\"3.2\"/>\n",
       "<circle clip-path=\"url(#clip292)\" cx=\"1252.56\" cy=\"780.7\" r=\"14.4\" fill=\"#e26f46\" fill-rule=\"evenodd\" fill-opacity=\"1\" stroke=\"#000000\" stroke-opacity=\"1\" stroke-width=\"3.2\"/>\n",
       "<circle clip-path=\"url(#clip292)\" cx=\"1294.13\" cy=\"752.992\" r=\"14.4\" fill=\"#e26f46\" fill-rule=\"evenodd\" fill-opacity=\"1\" stroke=\"#000000\" stroke-opacity=\"1\" stroke-width=\"3.2\"/>\n",
       "<circle clip-path=\"url(#clip292)\" cx=\"1335.69\" cy=\"725.283\" r=\"14.4\" fill=\"#e26f46\" fill-rule=\"evenodd\" fill-opacity=\"1\" stroke=\"#000000\" stroke-opacity=\"1\" stroke-width=\"3.2\"/>\n",
       "<circle clip-path=\"url(#clip292)\" cx=\"1377.26\" cy=\"697.574\" r=\"14.4\" fill=\"#e26f46\" fill-rule=\"evenodd\" fill-opacity=\"1\" stroke=\"#000000\" stroke-opacity=\"1\" stroke-width=\"3.2\"/>\n",
       "<circle clip-path=\"url(#clip292)\" cx=\"1418.82\" cy=\"669.865\" r=\"14.4\" fill=\"#e26f46\" fill-rule=\"evenodd\" fill-opacity=\"1\" stroke=\"#000000\" stroke-opacity=\"1\" stroke-width=\"3.2\"/>\n",
       "<circle clip-path=\"url(#clip292)\" cx=\"1460.38\" cy=\"642.156\" r=\"14.4\" fill=\"#e26f46\" fill-rule=\"evenodd\" fill-opacity=\"1\" stroke=\"#000000\" stroke-opacity=\"1\" stroke-width=\"3.2\"/>\n",
       "<circle clip-path=\"url(#clip292)\" cx=\"1501.95\" cy=\"614.447\" r=\"14.4\" fill=\"#e26f46\" fill-rule=\"evenodd\" fill-opacity=\"1\" stroke=\"#000000\" stroke-opacity=\"1\" stroke-width=\"3.2\"/>\n",
       "<circle clip-path=\"url(#clip292)\" cx=\"1543.51\" cy=\"586.738\" r=\"14.4\" fill=\"#e26f46\" fill-rule=\"evenodd\" fill-opacity=\"1\" stroke=\"#000000\" stroke-opacity=\"1\" stroke-width=\"3.2\"/>\n",
       "<circle clip-path=\"url(#clip292)\" cx=\"1585.07\" cy=\"559.029\" r=\"14.4\" fill=\"#e26f46\" fill-rule=\"evenodd\" fill-opacity=\"1\" stroke=\"#000000\" stroke-opacity=\"1\" stroke-width=\"3.2\"/>\n",
       "<circle clip-path=\"url(#clip292)\" cx=\"1626.64\" cy=\"531.32\" r=\"14.4\" fill=\"#e26f46\" fill-rule=\"evenodd\" fill-opacity=\"1\" stroke=\"#000000\" stroke-opacity=\"1\" stroke-width=\"3.2\"/>\n",
       "<circle clip-path=\"url(#clip292)\" cx=\"1668.2\" cy=\"503.611\" r=\"14.4\" fill=\"#e26f46\" fill-rule=\"evenodd\" fill-opacity=\"1\" stroke=\"#000000\" stroke-opacity=\"1\" stroke-width=\"3.2\"/>\n",
       "<circle clip-path=\"url(#clip292)\" cx=\"1709.77\" cy=\"475.902\" r=\"14.4\" fill=\"#e26f46\" fill-rule=\"evenodd\" fill-opacity=\"1\" stroke=\"#000000\" stroke-opacity=\"1\" stroke-width=\"3.2\"/>\n",
       "<circle clip-path=\"url(#clip292)\" cx=\"1751.33\" cy=\"448.193\" r=\"14.4\" fill=\"#e26f46\" fill-rule=\"evenodd\" fill-opacity=\"1\" stroke=\"#000000\" stroke-opacity=\"1\" stroke-width=\"3.2\"/>\n",
       "<circle clip-path=\"url(#clip292)\" cx=\"1792.89\" cy=\"420.484\" r=\"14.4\" fill=\"#e26f46\" fill-rule=\"evenodd\" fill-opacity=\"1\" stroke=\"#000000\" stroke-opacity=\"1\" stroke-width=\"3.2\"/>\n",
       "<circle clip-path=\"url(#clip292)\" cx=\"1834.46\" cy=\"392.775\" r=\"14.4\" fill=\"#e26f46\" fill-rule=\"evenodd\" fill-opacity=\"1\" stroke=\"#000000\" stroke-opacity=\"1\" stroke-width=\"3.2\"/>\n",
       "<circle clip-path=\"url(#clip292)\" cx=\"1876.02\" cy=\"365.066\" r=\"14.4\" fill=\"#e26f46\" fill-rule=\"evenodd\" fill-opacity=\"1\" stroke=\"#000000\" stroke-opacity=\"1\" stroke-width=\"3.2\"/>\n",
       "<circle clip-path=\"url(#clip292)\" cx=\"1917.58\" cy=\"337.357\" r=\"14.4\" fill=\"#e26f46\" fill-rule=\"evenodd\" fill-opacity=\"1\" stroke=\"#000000\" stroke-opacity=\"1\" stroke-width=\"3.2\"/>\n",
       "<circle clip-path=\"url(#clip292)\" cx=\"1959.15\" cy=\"309.648\" r=\"14.4\" fill=\"#e26f46\" fill-rule=\"evenodd\" fill-opacity=\"1\" stroke=\"#000000\" stroke-opacity=\"1\" stroke-width=\"3.2\"/>\n",
       "<circle clip-path=\"url(#clip292)\" cx=\"2000.71\" cy=\"281.939\" r=\"14.4\" fill=\"#e26f46\" fill-rule=\"evenodd\" fill-opacity=\"1\" stroke=\"#000000\" stroke-opacity=\"1\" stroke-width=\"3.2\"/>\n",
       "<circle clip-path=\"url(#clip292)\" cx=\"2042.27\" cy=\"254.23\" r=\"14.4\" fill=\"#e26f46\" fill-rule=\"evenodd\" fill-opacity=\"1\" stroke=\"#000000\" stroke-opacity=\"1\" stroke-width=\"3.2\"/>\n",
       "<circle clip-path=\"url(#clip292)\" cx=\"2083.84\" cy=\"226.521\" r=\"14.4\" fill=\"#e26f46\" fill-rule=\"evenodd\" fill-opacity=\"1\" stroke=\"#000000\" stroke-opacity=\"1\" stroke-width=\"3.2\"/>\n",
       "<circle clip-path=\"url(#clip292)\" cx=\"2125.4\" cy=\"198.812\" r=\"14.4\" fill=\"#e26f46\" fill-rule=\"evenodd\" fill-opacity=\"1\" stroke=\"#000000\" stroke-opacity=\"1\" stroke-width=\"3.2\"/>\n",
       "<circle clip-path=\"url(#clip292)\" cx=\"2166.97\" cy=\"171.103\" r=\"14.4\" fill=\"#e26f46\" fill-rule=\"evenodd\" fill-opacity=\"1\" stroke=\"#000000\" stroke-opacity=\"1\" stroke-width=\"3.2\"/>\n",
       "<circle clip-path=\"url(#clip292)\" cx=\"2208.53\" cy=\"143.394\" r=\"14.4\" fill=\"#e26f46\" fill-rule=\"evenodd\" fill-opacity=\"1\" stroke=\"#000000\" stroke-opacity=\"1\" stroke-width=\"3.2\"/>\n",
       "<circle clip-path=\"url(#clip292)\" cx=\"2250.09\" cy=\"115.685\" r=\"14.4\" fill=\"#e26f46\" fill-rule=\"evenodd\" fill-opacity=\"1\" stroke=\"#000000\" stroke-opacity=\"1\" stroke-width=\"3.2\"/>\n",
       "<circle clip-path=\"url(#clip292)\" cx=\"2291.66\" cy=\"87.9763\" r=\"14.4\" fill=\"#e26f46\" fill-rule=\"evenodd\" fill-opacity=\"1\" stroke=\"#000000\" stroke-opacity=\"1\" stroke-width=\"3.2\"/>\n",
       "<circle clip-path=\"url(#clip292)\" cx=\"255.035\" cy=\"87.9763\" r=\"14.4\" fill=\"#3da44d\" fill-rule=\"evenodd\" fill-opacity=\"1\" stroke=\"#000000\" stroke-opacity=\"1\" stroke-width=\"3.2\"/>\n",
       "<circle clip-path=\"url(#clip292)\" cx=\"296.598\" cy=\"142.263\" r=\"14.4\" fill=\"#3da44d\" fill-rule=\"evenodd\" fill-opacity=\"1\" stroke=\"#000000\" stroke-opacity=\"1\" stroke-width=\"3.2\"/>\n",
       "<circle clip-path=\"url(#clip292)\" cx=\"338.162\" cy=\"194.288\" r=\"14.4\" fill=\"#3da44d\" fill-rule=\"evenodd\" fill-opacity=\"1\" stroke=\"#000000\" stroke-opacity=\"1\" stroke-width=\"3.2\"/>\n",
       "<circle clip-path=\"url(#clip292)\" cx=\"379.726\" cy=\"244.051\" r=\"14.4\" fill=\"#3da44d\" fill-rule=\"evenodd\" fill-opacity=\"1\" stroke=\"#000000\" stroke-opacity=\"1\" stroke-width=\"3.2\"/>\n",
       "<circle clip-path=\"url(#clip292)\" cx=\"421.29\" cy=\"291.552\" r=\"14.4\" fill=\"#3da44d\" fill-rule=\"evenodd\" fill-opacity=\"1\" stroke=\"#000000\" stroke-opacity=\"1\" stroke-width=\"3.2\"/>\n",
       "<circle clip-path=\"url(#clip292)\" cx=\"462.853\" cy=\"336.791\" r=\"14.4\" fill=\"#3da44d\" fill-rule=\"evenodd\" fill-opacity=\"1\" stroke=\"#000000\" stroke-opacity=\"1\" stroke-width=\"3.2\"/>\n",
       "<circle clip-path=\"url(#clip292)\" cx=\"504.417\" cy=\"379.769\" r=\"14.4\" fill=\"#3da44d\" fill-rule=\"evenodd\" fill-opacity=\"1\" stroke=\"#000000\" stroke-opacity=\"1\" stroke-width=\"3.2\"/>\n",
       "<circle clip-path=\"url(#clip292)\" cx=\"545.981\" cy=\"420.484\" r=\"14.4\" fill=\"#3da44d\" fill-rule=\"evenodd\" fill-opacity=\"1\" stroke=\"#000000\" stroke-opacity=\"1\" stroke-width=\"3.2\"/>\n",
       "<circle clip-path=\"url(#clip292)\" cx=\"587.544\" cy=\"458.937\" r=\"14.4\" fill=\"#3da44d\" fill-rule=\"evenodd\" fill-opacity=\"1\" stroke=\"#000000\" stroke-opacity=\"1\" stroke-width=\"3.2\"/>\n",
       "<circle clip-path=\"url(#clip292)\" cx=\"629.108\" cy=\"495.128\" r=\"14.4\" fill=\"#3da44d\" fill-rule=\"evenodd\" fill-opacity=\"1\" stroke=\"#000000\" stroke-opacity=\"1\" stroke-width=\"3.2\"/>\n",
       "<circle clip-path=\"url(#clip292)\" cx=\"670.672\" cy=\"529.058\" r=\"14.4\" fill=\"#3da44d\" fill-rule=\"evenodd\" fill-opacity=\"1\" stroke=\"#000000\" stroke-opacity=\"1\" stroke-width=\"3.2\"/>\n",
       "<circle clip-path=\"url(#clip292)\" cx=\"712.236\" cy=\"560.725\" r=\"14.4\" fill=\"#3da44d\" fill-rule=\"evenodd\" fill-opacity=\"1\" stroke=\"#000000\" stroke-opacity=\"1\" stroke-width=\"3.2\"/>\n",
       "<circle clip-path=\"url(#clip292)\" cx=\"753.799\" cy=\"590.131\" r=\"14.4\" fill=\"#3da44d\" fill-rule=\"evenodd\" fill-opacity=\"1\" stroke=\"#000000\" stroke-opacity=\"1\" stroke-width=\"3.2\"/>\n",
       "<circle clip-path=\"url(#clip292)\" cx=\"795.363\" cy=\"617.274\" r=\"14.4\" fill=\"#3da44d\" fill-rule=\"evenodd\" fill-opacity=\"1\" stroke=\"#000000\" stroke-opacity=\"1\" stroke-width=\"3.2\"/>\n",
       "<circle clip-path=\"url(#clip292)\" cx=\"836.927\" cy=\"642.156\" r=\"14.4\" fill=\"#3da44d\" fill-rule=\"evenodd\" fill-opacity=\"1\" stroke=\"#000000\" stroke-opacity=\"1\" stroke-width=\"3.2\"/>\n",
       "<circle clip-path=\"url(#clip292)\" cx=\"878.491\" cy=\"664.775\" r=\"14.4\" fill=\"#3da44d\" fill-rule=\"evenodd\" fill-opacity=\"1\" stroke=\"#000000\" stroke-opacity=\"1\" stroke-width=\"3.2\"/>\n",
       "<circle clip-path=\"url(#clip292)\" cx=\"920.054\" cy=\"685.133\" r=\"14.4\" fill=\"#3da44d\" fill-rule=\"evenodd\" fill-opacity=\"1\" stroke=\"#000000\" stroke-opacity=\"1\" stroke-width=\"3.2\"/>\n",
       "<circle clip-path=\"url(#clip292)\" cx=\"961.618\" cy=\"703.228\" r=\"14.4\" fill=\"#3da44d\" fill-rule=\"evenodd\" fill-opacity=\"1\" stroke=\"#000000\" stroke-opacity=\"1\" stroke-width=\"3.2\"/>\n",
       "<circle clip-path=\"url(#clip292)\" cx=\"1003.18\" cy=\"719.062\" r=\"14.4\" fill=\"#3da44d\" fill-rule=\"evenodd\" fill-opacity=\"1\" stroke=\"#000000\" stroke-opacity=\"1\" stroke-width=\"3.2\"/>\n",
       "<circle clip-path=\"url(#clip292)\" cx=\"1044.75\" cy=\"732.634\" r=\"14.4\" fill=\"#3da44d\" fill-rule=\"evenodd\" fill-opacity=\"1\" stroke=\"#000000\" stroke-opacity=\"1\" stroke-width=\"3.2\"/>\n",
       "<circle clip-path=\"url(#clip292)\" cx=\"1086.31\" cy=\"743.944\" r=\"14.4\" fill=\"#3da44d\" fill-rule=\"evenodd\" fill-opacity=\"1\" stroke=\"#000000\" stroke-opacity=\"1\" stroke-width=\"3.2\"/>\n",
       "<circle clip-path=\"url(#clip292)\" cx=\"1127.87\" cy=\"752.992\" r=\"14.4\" fill=\"#3da44d\" fill-rule=\"evenodd\" fill-opacity=\"1\" stroke=\"#000000\" stroke-opacity=\"1\" stroke-width=\"3.2\"/>\n",
       "<circle clip-path=\"url(#clip292)\" cx=\"1169.44\" cy=\"759.777\" r=\"14.4\" fill=\"#3da44d\" fill-rule=\"evenodd\" fill-opacity=\"1\" stroke=\"#000000\" stroke-opacity=\"1\" stroke-width=\"3.2\"/>\n",
       "<circle clip-path=\"url(#clip292)\" cx=\"1211\" cy=\"764.301\" r=\"14.4\" fill=\"#3da44d\" fill-rule=\"evenodd\" fill-opacity=\"1\" stroke=\"#000000\" stroke-opacity=\"1\" stroke-width=\"3.2\"/>\n",
       "<circle clip-path=\"url(#clip292)\" cx=\"1252.56\" cy=\"766.563\" r=\"14.4\" fill=\"#3da44d\" fill-rule=\"evenodd\" fill-opacity=\"1\" stroke=\"#000000\" stroke-opacity=\"1\" stroke-width=\"3.2\"/>\n",
       "<circle clip-path=\"url(#clip292)\" cx=\"1294.13\" cy=\"766.563\" r=\"14.4\" fill=\"#3da44d\" fill-rule=\"evenodd\" fill-opacity=\"1\" stroke=\"#000000\" stroke-opacity=\"1\" stroke-width=\"3.2\"/>\n",
       "<circle clip-path=\"url(#clip292)\" cx=\"1335.69\" cy=\"764.301\" r=\"14.4\" fill=\"#3da44d\" fill-rule=\"evenodd\" fill-opacity=\"1\" stroke=\"#000000\" stroke-opacity=\"1\" stroke-width=\"3.2\"/>\n",
       "<circle clip-path=\"url(#clip292)\" cx=\"1377.26\" cy=\"759.777\" r=\"14.4\" fill=\"#3da44d\" fill-rule=\"evenodd\" fill-opacity=\"1\" stroke=\"#000000\" stroke-opacity=\"1\" stroke-width=\"3.2\"/>\n",
       "<circle clip-path=\"url(#clip292)\" cx=\"1418.82\" cy=\"752.992\" r=\"14.4\" fill=\"#3da44d\" fill-rule=\"evenodd\" fill-opacity=\"1\" stroke=\"#000000\" stroke-opacity=\"1\" stroke-width=\"3.2\"/>\n",
       "<circle clip-path=\"url(#clip292)\" cx=\"1460.38\" cy=\"743.944\" r=\"14.4\" fill=\"#3da44d\" fill-rule=\"evenodd\" fill-opacity=\"1\" stroke=\"#000000\" stroke-opacity=\"1\" stroke-width=\"3.2\"/>\n",
       "<circle clip-path=\"url(#clip292)\" cx=\"1501.95\" cy=\"732.634\" r=\"14.4\" fill=\"#3da44d\" fill-rule=\"evenodd\" fill-opacity=\"1\" stroke=\"#000000\" stroke-opacity=\"1\" stroke-width=\"3.2\"/>\n",
       "<circle clip-path=\"url(#clip292)\" cx=\"1543.51\" cy=\"719.062\" r=\"14.4\" fill=\"#3da44d\" fill-rule=\"evenodd\" fill-opacity=\"1\" stroke=\"#000000\" stroke-opacity=\"1\" stroke-width=\"3.2\"/>\n",
       "<circle clip-path=\"url(#clip292)\" cx=\"1585.07\" cy=\"703.228\" r=\"14.4\" fill=\"#3da44d\" fill-rule=\"evenodd\" fill-opacity=\"1\" stroke=\"#000000\" stroke-opacity=\"1\" stroke-width=\"3.2\"/>\n",
       "<circle clip-path=\"url(#clip292)\" cx=\"1626.64\" cy=\"685.133\" r=\"14.4\" fill=\"#3da44d\" fill-rule=\"evenodd\" fill-opacity=\"1\" stroke=\"#000000\" stroke-opacity=\"1\" stroke-width=\"3.2\"/>\n",
       "<circle clip-path=\"url(#clip292)\" cx=\"1668.2\" cy=\"664.775\" r=\"14.4\" fill=\"#3da44d\" fill-rule=\"evenodd\" fill-opacity=\"1\" stroke=\"#000000\" stroke-opacity=\"1\" stroke-width=\"3.2\"/>\n",
       "<circle clip-path=\"url(#clip292)\" cx=\"1709.77\" cy=\"642.156\" r=\"14.4\" fill=\"#3da44d\" fill-rule=\"evenodd\" fill-opacity=\"1\" stroke=\"#000000\" stroke-opacity=\"1\" stroke-width=\"3.2\"/>\n",
       "<circle clip-path=\"url(#clip292)\" cx=\"1751.33\" cy=\"617.274\" r=\"14.4\" fill=\"#3da44d\" fill-rule=\"evenodd\" fill-opacity=\"1\" stroke=\"#000000\" stroke-opacity=\"1\" stroke-width=\"3.2\"/>\n",
       "<circle clip-path=\"url(#clip292)\" cx=\"1792.89\" cy=\"590.131\" r=\"14.4\" fill=\"#3da44d\" fill-rule=\"evenodd\" fill-opacity=\"1\" stroke=\"#000000\" stroke-opacity=\"1\" stroke-width=\"3.2\"/>\n",
       "<circle clip-path=\"url(#clip292)\" cx=\"1834.46\" cy=\"560.725\" r=\"14.4\" fill=\"#3da44d\" fill-rule=\"evenodd\" fill-opacity=\"1\" stroke=\"#000000\" stroke-opacity=\"1\" stroke-width=\"3.2\"/>\n",
       "<circle clip-path=\"url(#clip292)\" cx=\"1876.02\" cy=\"529.058\" r=\"14.4\" fill=\"#3da44d\" fill-rule=\"evenodd\" fill-opacity=\"1\" stroke=\"#000000\" stroke-opacity=\"1\" stroke-width=\"3.2\"/>\n",
       "<circle clip-path=\"url(#clip292)\" cx=\"1917.58\" cy=\"495.128\" r=\"14.4\" fill=\"#3da44d\" fill-rule=\"evenodd\" fill-opacity=\"1\" stroke=\"#000000\" stroke-opacity=\"1\" stroke-width=\"3.2\"/>\n",
       "<circle clip-path=\"url(#clip292)\" cx=\"1959.15\" cy=\"458.937\" r=\"14.4\" fill=\"#3da44d\" fill-rule=\"evenodd\" fill-opacity=\"1\" stroke=\"#000000\" stroke-opacity=\"1\" stroke-width=\"3.2\"/>\n",
       "<circle clip-path=\"url(#clip292)\" cx=\"2000.71\" cy=\"420.484\" r=\"14.4\" fill=\"#3da44d\" fill-rule=\"evenodd\" fill-opacity=\"1\" stroke=\"#000000\" stroke-opacity=\"1\" stroke-width=\"3.2\"/>\n",
       "<circle clip-path=\"url(#clip292)\" cx=\"2042.27\" cy=\"379.769\" r=\"14.4\" fill=\"#3da44d\" fill-rule=\"evenodd\" fill-opacity=\"1\" stroke=\"#000000\" stroke-opacity=\"1\" stroke-width=\"3.2\"/>\n",
       "<circle clip-path=\"url(#clip292)\" cx=\"2083.84\" cy=\"336.791\" r=\"14.4\" fill=\"#3da44d\" fill-rule=\"evenodd\" fill-opacity=\"1\" stroke=\"#000000\" stroke-opacity=\"1\" stroke-width=\"3.2\"/>\n",
       "<circle clip-path=\"url(#clip292)\" cx=\"2125.4\" cy=\"291.552\" r=\"14.4\" fill=\"#3da44d\" fill-rule=\"evenodd\" fill-opacity=\"1\" stroke=\"#000000\" stroke-opacity=\"1\" stroke-width=\"3.2\"/>\n",
       "<circle clip-path=\"url(#clip292)\" cx=\"2166.97\" cy=\"244.051\" r=\"14.4\" fill=\"#3da44d\" fill-rule=\"evenodd\" fill-opacity=\"1\" stroke=\"#000000\" stroke-opacity=\"1\" stroke-width=\"3.2\"/>\n",
       "<circle clip-path=\"url(#clip292)\" cx=\"2208.53\" cy=\"194.288\" r=\"14.4\" fill=\"#3da44d\" fill-rule=\"evenodd\" fill-opacity=\"1\" stroke=\"#000000\" stroke-opacity=\"1\" stroke-width=\"3.2\"/>\n",
       "<circle clip-path=\"url(#clip292)\" cx=\"2250.09\" cy=\"142.263\" r=\"14.4\" fill=\"#3da44d\" fill-rule=\"evenodd\" fill-opacity=\"1\" stroke=\"#000000\" stroke-opacity=\"1\" stroke-width=\"3.2\"/>\n",
       "<circle clip-path=\"url(#clip292)\" cx=\"2291.66\" cy=\"87.9763\" r=\"14.4\" fill=\"#3da44d\" fill-rule=\"evenodd\" fill-opacity=\"1\" stroke=\"#000000\" stroke-opacity=\"1\" stroke-width=\"3.2\"/>\n",
       "<circle clip-path=\"url(#clip292)\" cx=\"255.035\" cy=\"1445.72\" r=\"14.4\" fill=\"#c271d2\" fill-rule=\"evenodd\" fill-opacity=\"1\" stroke=\"#000000\" stroke-opacity=\"1\" stroke-width=\"3.2\"/>\n",
       "<circle clip-path=\"url(#clip292)\" cx=\"296.598\" cy=\"1365.94\" r=\"14.4\" fill=\"#c271d2\" fill-rule=\"evenodd\" fill-opacity=\"1\" stroke=\"#000000\" stroke-opacity=\"1\" stroke-width=\"3.2\"/>\n",
       "<circle clip-path=\"url(#clip292)\" cx=\"338.162\" cy=\"1292.66\" r=\"14.4\" fill=\"#c271d2\" fill-rule=\"evenodd\" fill-opacity=\"1\" stroke=\"#000000\" stroke-opacity=\"1\" stroke-width=\"3.2\"/>\n",
       "<circle clip-path=\"url(#clip292)\" cx=\"379.726\" cy=\"1225.63\" r=\"14.4\" fill=\"#c271d2\" fill-rule=\"evenodd\" fill-opacity=\"1\" stroke=\"#000000\" stroke-opacity=\"1\" stroke-width=\"3.2\"/>\n",
       "<circle clip-path=\"url(#clip292)\" cx=\"421.29\" cy=\"1164.54\" r=\"14.4\" fill=\"#c271d2\" fill-rule=\"evenodd\" fill-opacity=\"1\" stroke=\"#000000\" stroke-opacity=\"1\" stroke-width=\"3.2\"/>\n",
       "<circle clip-path=\"url(#clip292)\" cx=\"462.853\" cy=\"1109.13\" r=\"14.4\" fill=\"#c271d2\" fill-rule=\"evenodd\" fill-opacity=\"1\" stroke=\"#000000\" stroke-opacity=\"1\" stroke-width=\"3.2\"/>\n",
       "<circle clip-path=\"url(#clip292)\" cx=\"504.417\" cy=\"1059.13\" r=\"14.4\" fill=\"#c271d2\" fill-rule=\"evenodd\" fill-opacity=\"1\" stroke=\"#000000\" stroke-opacity=\"1\" stroke-width=\"3.2\"/>\n",
       "<circle clip-path=\"url(#clip292)\" cx=\"545.981\" cy=\"1014.25\" r=\"14.4\" fill=\"#c271d2\" fill-rule=\"evenodd\" fill-opacity=\"1\" stroke=\"#000000\" stroke-opacity=\"1\" stroke-width=\"3.2\"/>\n",
       "<circle clip-path=\"url(#clip292)\" cx=\"587.544\" cy=\"974.213\" r=\"14.4\" fill=\"#c271d2\" fill-rule=\"evenodd\" fill-opacity=\"1\" stroke=\"#000000\" stroke-opacity=\"1\" stroke-width=\"3.2\"/>\n",
       "<circle clip-path=\"url(#clip292)\" cx=\"629.108\" cy=\"938.749\" r=\"14.4\" fill=\"#c271d2\" fill-rule=\"evenodd\" fill-opacity=\"1\" stroke=\"#000000\" stroke-opacity=\"1\" stroke-width=\"3.2\"/>\n",
       "<circle clip-path=\"url(#clip292)\" cx=\"670.672\" cy=\"907.578\" r=\"14.4\" fill=\"#c271d2\" fill-rule=\"evenodd\" fill-opacity=\"1\" stroke=\"#000000\" stroke-opacity=\"1\" stroke-width=\"3.2\"/>\n",
       "<circle clip-path=\"url(#clip292)\" cx=\"712.236\" cy=\"880.423\" r=\"14.4\" fill=\"#c271d2\" fill-rule=\"evenodd\" fill-opacity=\"1\" stroke=\"#000000\" stroke-opacity=\"1\" stroke-width=\"3.2\"/>\n",
       "<circle clip-path=\"url(#clip292)\" cx=\"753.799\" cy=\"857.007\" r=\"14.4\" fill=\"#c271d2\" fill-rule=\"evenodd\" fill-opacity=\"1\" stroke=\"#000000\" stroke-opacity=\"1\" stroke-width=\"3.2\"/>\n",
       "<circle clip-path=\"url(#clip292)\" cx=\"795.363\" cy=\"837.053\" r=\"14.4\" fill=\"#c271d2\" fill-rule=\"evenodd\" fill-opacity=\"1\" stroke=\"#000000\" stroke-opacity=\"1\" stroke-width=\"3.2\"/>\n",
       "<circle clip-path=\"url(#clip292)\" cx=\"836.927\" cy=\"820.285\" r=\"14.4\" fill=\"#c271d2\" fill-rule=\"evenodd\" fill-opacity=\"1\" stroke=\"#000000\" stroke-opacity=\"1\" stroke-width=\"3.2\"/>\n",
       "<circle clip-path=\"url(#clip292)\" cx=\"878.491\" cy=\"806.424\" r=\"14.4\" fill=\"#c271d2\" fill-rule=\"evenodd\" fill-opacity=\"1\" stroke=\"#000000\" stroke-opacity=\"1\" stroke-width=\"3.2\"/>\n",
       "<circle clip-path=\"url(#clip292)\" cx=\"920.054\" cy=\"795.195\" r=\"14.4\" fill=\"#c271d2\" fill-rule=\"evenodd\" fill-opacity=\"1\" stroke=\"#000000\" stroke-opacity=\"1\" stroke-width=\"3.2\"/>\n",
       "<circle clip-path=\"url(#clip292)\" cx=\"961.618\" cy=\"786.321\" r=\"14.4\" fill=\"#c271d2\" fill-rule=\"evenodd\" fill-opacity=\"1\" stroke=\"#000000\" stroke-opacity=\"1\" stroke-width=\"3.2\"/>\n",
       "<circle clip-path=\"url(#clip292)\" cx=\"1003.18\" cy=\"779.523\" r=\"14.4\" fill=\"#c271d2\" fill-rule=\"evenodd\" fill-opacity=\"1\" stroke=\"#000000\" stroke-opacity=\"1\" stroke-width=\"3.2\"/>\n",
       "<circle clip-path=\"url(#clip292)\" cx=\"1044.75\" cy=\"774.526\" r=\"14.4\" fill=\"#c271d2\" fill-rule=\"evenodd\" fill-opacity=\"1\" stroke=\"#000000\" stroke-opacity=\"1\" stroke-width=\"3.2\"/>\n",
       "<circle clip-path=\"url(#clip292)\" cx=\"1086.31\" cy=\"771.053\" r=\"14.4\" fill=\"#c271d2\" fill-rule=\"evenodd\" fill-opacity=\"1\" stroke=\"#000000\" stroke-opacity=\"1\" stroke-width=\"3.2\"/>\n",
       "<circle clip-path=\"url(#clip292)\" cx=\"1127.87\" cy=\"768.825\" r=\"14.4\" fill=\"#c271d2\" fill-rule=\"evenodd\" fill-opacity=\"1\" stroke=\"#000000\" stroke-opacity=\"1\" stroke-width=\"3.2\"/>\n",
       "<circle clip-path=\"url(#clip292)\" cx=\"1169.44\" cy=\"767.567\" r=\"14.4\" fill=\"#c271d2\" fill-rule=\"evenodd\" fill-opacity=\"1\" stroke=\"#000000\" stroke-opacity=\"1\" stroke-width=\"3.2\"/>\n",
       "<circle clip-path=\"url(#clip292)\" cx=\"1211\" cy=\"767.002\" r=\"14.4\" fill=\"#c271d2\" fill-rule=\"evenodd\" fill-opacity=\"1\" stroke=\"#000000\" stroke-opacity=\"1\" stroke-width=\"3.2\"/>\n",
       "<circle clip-path=\"url(#clip292)\" cx=\"1252.56\" cy=\"766.852\" r=\"14.4\" fill=\"#c271d2\" fill-rule=\"evenodd\" fill-opacity=\"1\" stroke=\"#000000\" stroke-opacity=\"1\" stroke-width=\"3.2\"/>\n",
       "<circle clip-path=\"url(#clip292)\" cx=\"1294.13\" cy=\"766.84\" r=\"14.4\" fill=\"#c271d2\" fill-rule=\"evenodd\" fill-opacity=\"1\" stroke=\"#000000\" stroke-opacity=\"1\" stroke-width=\"3.2\"/>\n",
       "<circle clip-path=\"url(#clip292)\" cx=\"1335.69\" cy=\"766.69\" r=\"14.4\" fill=\"#c271d2\" fill-rule=\"evenodd\" fill-opacity=\"1\" stroke=\"#000000\" stroke-opacity=\"1\" stroke-width=\"3.2\"/>\n",
       "<circle clip-path=\"url(#clip292)\" cx=\"1377.26\" cy=\"766.125\" r=\"14.4\" fill=\"#c271d2\" fill-rule=\"evenodd\" fill-opacity=\"1\" stroke=\"#000000\" stroke-opacity=\"1\" stroke-width=\"3.2\"/>\n",
       "<circle clip-path=\"url(#clip292)\" cx=\"1418.82\" cy=\"764.867\" r=\"14.4\" fill=\"#c271d2\" fill-rule=\"evenodd\" fill-opacity=\"1\" stroke=\"#000000\" stroke-opacity=\"1\" stroke-width=\"3.2\"/>\n",
       "<circle clip-path=\"url(#clip292)\" cx=\"1460.38\" cy=\"762.639\" r=\"14.4\" fill=\"#c271d2\" fill-rule=\"evenodd\" fill-opacity=\"1\" stroke=\"#000000\" stroke-opacity=\"1\" stroke-width=\"3.2\"/>\n",
       "<circle clip-path=\"url(#clip292)\" cx=\"1501.95\" cy=\"759.166\" r=\"14.4\" fill=\"#c271d2\" fill-rule=\"evenodd\" fill-opacity=\"1\" stroke=\"#000000\" stroke-opacity=\"1\" stroke-width=\"3.2\"/>\n",
       "<circle clip-path=\"url(#clip292)\" cx=\"1543.51\" cy=\"754.169\" r=\"14.4\" fill=\"#c271d2\" fill-rule=\"evenodd\" fill-opacity=\"1\" stroke=\"#000000\" stroke-opacity=\"1\" stroke-width=\"3.2\"/>\n",
       "<circle clip-path=\"url(#clip292)\" cx=\"1585.07\" cy=\"747.371\" r=\"14.4\" fill=\"#c271d2\" fill-rule=\"evenodd\" fill-opacity=\"1\" stroke=\"#000000\" stroke-opacity=\"1\" stroke-width=\"3.2\"/>\n",
       "<circle clip-path=\"url(#clip292)\" cx=\"1626.64\" cy=\"738.497\" r=\"14.4\" fill=\"#c271d2\" fill-rule=\"evenodd\" fill-opacity=\"1\" stroke=\"#000000\" stroke-opacity=\"1\" stroke-width=\"3.2\"/>\n",
       "<circle clip-path=\"url(#clip292)\" cx=\"1668.2\" cy=\"727.268\" r=\"14.4\" fill=\"#c271d2\" fill-rule=\"evenodd\" fill-opacity=\"1\" stroke=\"#000000\" stroke-opacity=\"1\" stroke-width=\"3.2\"/>\n",
       "<circle clip-path=\"url(#clip292)\" cx=\"1709.77\" cy=\"713.407\" r=\"14.4\" fill=\"#c271d2\" fill-rule=\"evenodd\" fill-opacity=\"1\" stroke=\"#000000\" stroke-opacity=\"1\" stroke-width=\"3.2\"/>\n",
       "<circle clip-path=\"url(#clip292)\" cx=\"1751.33\" cy=\"696.639\" r=\"14.4\" fill=\"#c271d2\" fill-rule=\"evenodd\" fill-opacity=\"1\" stroke=\"#000000\" stroke-opacity=\"1\" stroke-width=\"3.2\"/>\n",
       "<circle clip-path=\"url(#clip292)\" cx=\"1792.89\" cy=\"676.685\" r=\"14.4\" fill=\"#c271d2\" fill-rule=\"evenodd\" fill-opacity=\"1\" stroke=\"#000000\" stroke-opacity=\"1\" stroke-width=\"3.2\"/>\n",
       "<circle clip-path=\"url(#clip292)\" cx=\"1834.46\" cy=\"653.269\" r=\"14.4\" fill=\"#c271d2\" fill-rule=\"evenodd\" fill-opacity=\"1\" stroke=\"#000000\" stroke-opacity=\"1\" stroke-width=\"3.2\"/>\n",
       "<circle clip-path=\"url(#clip292)\" cx=\"1876.02\" cy=\"626.114\" r=\"14.4\" fill=\"#c271d2\" fill-rule=\"evenodd\" fill-opacity=\"1\" stroke=\"#000000\" stroke-opacity=\"1\" stroke-width=\"3.2\"/>\n",
       "<circle clip-path=\"url(#clip292)\" cx=\"1917.58\" cy=\"594.943\" r=\"14.4\" fill=\"#c271d2\" fill-rule=\"evenodd\" fill-opacity=\"1\" stroke=\"#000000\" stroke-opacity=\"1\" stroke-width=\"3.2\"/>\n",
       "<circle clip-path=\"url(#clip292)\" cx=\"1959.15\" cy=\"559.479\" r=\"14.4\" fill=\"#c271d2\" fill-rule=\"evenodd\" fill-opacity=\"1\" stroke=\"#000000\" stroke-opacity=\"1\" stroke-width=\"3.2\"/>\n",
       "<circle clip-path=\"url(#clip292)\" cx=\"2000.71\" cy=\"519.444\" r=\"14.4\" fill=\"#c271d2\" fill-rule=\"evenodd\" fill-opacity=\"1\" stroke=\"#000000\" stroke-opacity=\"1\" stroke-width=\"3.2\"/>\n",
       "<circle clip-path=\"url(#clip292)\" cx=\"2042.27\" cy=\"474.563\" r=\"14.4\" fill=\"#c271d2\" fill-rule=\"evenodd\" fill-opacity=\"1\" stroke=\"#000000\" stroke-opacity=\"1\" stroke-width=\"3.2\"/>\n",
       "<circle clip-path=\"url(#clip292)\" cx=\"2083.84\" cy=\"424.558\" r=\"14.4\" fill=\"#c271d2\" fill-rule=\"evenodd\" fill-opacity=\"1\" stroke=\"#000000\" stroke-opacity=\"1\" stroke-width=\"3.2\"/>\n",
       "<circle clip-path=\"url(#clip292)\" cx=\"2125.4\" cy=\"369.151\" r=\"14.4\" fill=\"#c271d2\" fill-rule=\"evenodd\" fill-opacity=\"1\" stroke=\"#000000\" stroke-opacity=\"1\" stroke-width=\"3.2\"/>\n",
       "<circle clip-path=\"url(#clip292)\" cx=\"2166.97\" cy=\"308.067\" r=\"14.4\" fill=\"#c271d2\" fill-rule=\"evenodd\" fill-opacity=\"1\" stroke=\"#000000\" stroke-opacity=\"1\" stroke-width=\"3.2\"/>\n",
       "<circle clip-path=\"url(#clip292)\" cx=\"2208.53\" cy=\"241.028\" r=\"14.4\" fill=\"#c271d2\" fill-rule=\"evenodd\" fill-opacity=\"1\" stroke=\"#000000\" stroke-opacity=\"1\" stroke-width=\"3.2\"/>\n",
       "<circle clip-path=\"url(#clip292)\" cx=\"2250.09\" cy=\"167.756\" r=\"14.4\" fill=\"#c271d2\" fill-rule=\"evenodd\" fill-opacity=\"1\" stroke=\"#000000\" stroke-opacity=\"1\" stroke-width=\"3.2\"/>\n",
       "<circle clip-path=\"url(#clip292)\" cx=\"2291.66\" cy=\"87.9763\" r=\"14.4\" fill=\"#c271d2\" fill-rule=\"evenodd\" fill-opacity=\"1\" stroke=\"#000000\" stroke-opacity=\"1\" stroke-width=\"3.2\"/>\n",
       "<path clip-path=\"url(#clip290)\" d=\"\n",
       "M1959.71 1438.47 L2280.8 1438.47 L2280.8 1049.67 L1959.71 1049.67  Z\n",
       "  \" fill=\"#ffffff\" fill-rule=\"evenodd\" fill-opacity=\"1\"/>\n",
       "<polyline clip-path=\"url(#clip290)\" style=\"stroke:#000000; stroke-linecap:round; stroke-linejoin:round; stroke-width:4; stroke-opacity:1; fill:none\" points=\"\n",
       "  1959.71,1438.47 2280.8,1438.47 2280.8,1049.67 1959.71,1049.67 1959.71,1438.47 \n",
       "  \"/>\n",
       "<circle clip-path=\"url(#clip290)\" cx=\"2055.66\" cy=\"1127.43\" r=\"34.56\" fill=\"#009af9\" fill-rule=\"evenodd\" fill-opacity=\"1\" stroke=\"#000000\" stroke-opacity=\"1\" stroke-width=\"7.68\"/>\n",
       "<path clip-path=\"url(#clip290)\" d=\"M2172.37 1156.97 Q2169.66 1163.91 2167.09 1166.03 Q2164.52 1168.15 2160.22 1168.15 L2155.11 1168.15 L2155.11 1162.8 L2158.86 1162.8 Q2161.5 1162.8 2162.96 1161.55 Q2164.42 1160.3 2166.19 1155.65 L2167.34 1152.73 L2151.61 1114.47 L2158.38 1114.47 L2170.53 1144.88 L2182.68 1114.47 L2189.45 1114.47 L2172.37 1156.97 Z\" fill=\"#000000\" fill-rule=\"evenodd\" fill-opacity=\"1\" /><path clip-path=\"url(#clip290)\" d=\"M2200.39 1147.45 L2211.85 1147.45 L2211.85 1107.9 L2199.38 1110.4 L2199.38 1104.01 L2211.78 1101.51 L2218.79 1101.51 L2218.79 1147.45 L2230.25 1147.45 L2230.25 1153.35 L2200.39 1153.35 L2200.39 1147.45 Z\" fill=\"#000000\" fill-rule=\"evenodd\" fill-opacity=\"1\" /><circle clip-path=\"url(#clip290)\" cx=\"2055.66\" cy=\"1205.19\" r=\"34.56\" fill=\"#e26f46\" fill-rule=\"evenodd\" fill-opacity=\"1\" stroke=\"#000000\" stroke-opacity=\"1\" stroke-width=\"7.68\"/>\n",
       "<path clip-path=\"url(#clip290)\" d=\"M2172.37 1234.73 Q2169.66 1241.67 2167.09 1243.79 Q2164.52 1245.91 2160.22 1245.91 L2155.11 1245.91 L2155.11 1240.56 L2158.86 1240.56 Q2161.5 1240.56 2162.96 1239.31 Q2164.42 1238.06 2166.19 1233.41 L2167.34 1230.49 L2151.61 1192.23 L2158.38 1192.23 L2170.53 1222.64 L2182.68 1192.23 L2189.45 1192.23 L2172.37 1234.73 Z\" fill=\"#000000\" fill-rule=\"evenodd\" fill-opacity=\"1\" /><path clip-path=\"url(#clip290)\" d=\"M2205.22 1225.21 L2229.7 1225.21 L2229.7 1231.11 L2196.78 1231.11 L2196.78 1225.21 Q2200.77 1221.08 2207.65 1214.14 Q2214.56 1207.16 2216.33 1205.14 Q2219.7 1201.36 2221.02 1198.75 Q2222.37 1196.11 2222.37 1193.58 Q2222.37 1189.45 2219.45 1186.84 Q2216.57 1184.24 2211.92 1184.24 Q2208.62 1184.24 2204.94 1185.39 Q2201.29 1186.53 2197.13 1188.86 L2197.13 1181.77 Q2201.36 1180.07 2205.04 1179.2 Q2208.72 1178.34 2211.78 1178.34 Q2219.84 1178.34 2224.63 1182.36 Q2229.42 1186.39 2229.42 1193.13 Q2229.42 1196.32 2228.2 1199.2 Q2227.02 1202.05 2223.86 1205.94 Q2223 1206.95 2218.34 1211.77 Q2213.69 1216.57 2205.22 1225.21 Z\" fill=\"#000000\" fill-rule=\"evenodd\" fill-opacity=\"1\" /><circle clip-path=\"url(#clip290)\" cx=\"2055.66\" cy=\"1282.95\" r=\"34.56\" fill=\"#3da44d\" fill-rule=\"evenodd\" fill-opacity=\"1\" stroke=\"#000000\" stroke-opacity=\"1\" stroke-width=\"7.68\"/>\n",
       "<path clip-path=\"url(#clip290)\" d=\"M2172.37 1312.49 Q2169.66 1319.43 2167.09 1321.55 Q2164.52 1323.67 2160.22 1323.67 L2155.11 1323.67 L2155.11 1318.32 L2158.86 1318.32 Q2161.5 1318.32 2162.96 1317.07 Q2164.42 1315.82 2166.19 1311.17 L2167.34 1308.25 L2151.61 1269.99 L2158.38 1269.99 L2170.53 1300.4 L2182.68 1269.99 L2189.45 1269.99 L2172.37 1312.49 Z\" fill=\"#000000\" fill-rule=\"evenodd\" fill-opacity=\"1\" /><path clip-path=\"url(#clip290)\" d=\"M2220.43 1280.92 Q2225.46 1282 2228.27 1285.4 Q2231.12 1288.81 2231.12 1293.81 Q2231.12 1301.48 2225.84 1305.68 Q2220.56 1309.88 2210.84 1309.88 Q2207.58 1309.88 2204.11 1309.22 Q2200.67 1308.6 2196.99 1307.31 L2196.99 1300.54 Q2199.9 1302.24 2203.38 1303.11 Q2206.85 1303.98 2210.63 1303.98 Q2217.23 1303.98 2220.67 1301.37 Q2224.14 1298.77 2224.14 1293.81 Q2224.14 1289.22 2220.91 1286.65 Q2217.72 1284.05 2211.99 1284.05 L2205.95 1284.05 L2205.95 1278.28 L2212.27 1278.28 Q2217.44 1278.28 2220.18 1276.24 Q2222.93 1274.15 2222.93 1270.26 Q2222.93 1266.27 2220.08 1264.15 Q2217.27 1262 2211.99 1262 Q2209.11 1262 2205.81 1262.62 Q2202.51 1263.25 2198.55 1264.57 L2198.55 1258.32 Q2202.54 1257.21 2206.02 1256.65 Q2209.52 1256.1 2212.61 1256.1 Q2220.6 1256.1 2225.25 1259.74 Q2229.9 1263.35 2229.9 1269.53 Q2229.9 1273.84 2227.44 1276.83 Q2224.97 1279.78 2220.43 1280.92 Z\" fill=\"#000000\" fill-rule=\"evenodd\" fill-opacity=\"1\" /><circle clip-path=\"url(#clip290)\" cx=\"2055.66\" cy=\"1360.71\" r=\"34.56\" fill=\"#c271d2\" fill-rule=\"evenodd\" fill-opacity=\"1\" stroke=\"#000000\" stroke-opacity=\"1\" stroke-width=\"7.68\"/>\n",
       "<path clip-path=\"url(#clip290)\" d=\"M2172.37 1390.25 Q2169.66 1397.19 2167.09 1399.31 Q2164.52 1401.43 2160.22 1401.43 L2155.11 1401.43 L2155.11 1396.08 L2158.86 1396.08 Q2161.5 1396.08 2162.96 1394.83 Q2164.42 1393.58 2166.19 1388.93 L2167.34 1386.01 L2151.61 1347.75 L2158.38 1347.75 L2170.53 1378.16 L2182.68 1347.75 L2189.45 1347.75 L2172.37 1390.25 Z\" fill=\"#000000\" fill-rule=\"evenodd\" fill-opacity=\"1\" /><path clip-path=\"url(#clip290)\" d=\"M2218.45 1340.91 L2200.74 1368.58 L2218.45 1368.58 L2218.45 1340.91 M2216.61 1334.79 L2225.43 1334.79 L2225.43 1368.58 L2232.82 1368.58 L2232.82 1374.41 L2225.43 1374.41 L2225.43 1386.63 L2218.45 1386.63 L2218.45 1374.41 L2195.04 1374.41 L2195.04 1367.64 L2216.61 1334.79 Z\" fill=\"#000000\" fill-rule=\"evenodd\" fill-opacity=\"1\" /></svg>\n"
      ]
     },
     "execution_count": 154,
     "metadata": {},
     "output_type": "execute_result"
    }
   ],
   "source": [
    "x = LinRange(-1, 1, 50)\n",
    "V = vander(x, 4)\n",
    "scatter(x, V, legend=:bottomright)"
   ]
  },
  {
   "cell_type": "markdown",
   "id": "ce88943a",
   "metadata": {
    "slideshow": {
     "slide_type": "slide"
    }
   },
   "source": [
    "# Fitting is linear algebra\n",
    "\n",
    "$$ \\underbrace{\\begin{bmatrix} 1 \\Bigg| x \\Bigg| x^2 \\Bigg| x^3 \\Bigg| \\dotsb \\end{bmatrix}}_{V(x)} \\Big[ p \\Big] = \\Bigg[ y \\Bigg]$$"
   ]
  },
  {
   "cell_type": "code",
   "execution_count": 18,
   "id": "451865ac",
   "metadata": {
    "cell_style": "split"
   },
   "outputs": [
    {
     "data": {
      "image/svg+xml": [
       "<?xml version=\"1.0\" encoding=\"utf-8\"?>\n",
       "<svg xmlns=\"http://www.w3.org/2000/svg\" xmlns:xlink=\"http://www.w3.org/1999/xlink\" width=\"600\" height=\"400\" viewBox=\"0 0 2400 1600\">\n",
       "<defs>\n",
       "  <clipPath id=\"clip690\">\n",
       "    <rect x=\"0\" y=\"0\" width=\"2400\" height=\"1600\"/>\n",
       "  </clipPath>\n",
       "</defs>\n",
       "<path clip-path=\"url(#clip690)\" d=\"\n",
       "M0 1600 L2400 1600 L2400 0 L0 0  Z\n",
       "  \" fill=\"#ffffff\" fill-rule=\"evenodd\" fill-opacity=\"1\"/>\n",
       "<defs>\n",
       "  <clipPath id=\"clip691\">\n",
       "    <rect x=\"480\" y=\"0\" width=\"1681\" height=\"1600\"/>\n",
       "  </clipPath>\n",
       "</defs>\n",
       "<path clip-path=\"url(#clip690)\" d=\"\n",
       "M156.112 1486.45 L2352.76 1486.45 L2352.76 47.2441 L156.112 47.2441  Z\n",
       "  \" fill=\"#ffffff\" fill-rule=\"evenodd\" fill-opacity=\"1\"/>\n",
       "<defs>\n",
       "  <clipPath id=\"clip692\">\n",
       "    <rect x=\"156\" y=\"47\" width=\"2198\" height=\"1440\"/>\n",
       "  </clipPath>\n",
       "</defs>\n",
       "<polyline clip-path=\"url(#clip692)\" style=\"stroke:#000000; stroke-linecap:round; stroke-linejoin:round; stroke-width:2; stroke-opacity:0.1; fill:none\" points=\"\n",
       "  401.132,1486.45 401.132,47.2441 \n",
       "  \"/>\n",
       "<polyline clip-path=\"url(#clip692)\" style=\"stroke:#000000; stroke-linecap:round; stroke-linejoin:round; stroke-width:2; stroke-opacity:0.1; fill:none\" points=\"\n",
       "  705.883,1486.45 705.883,47.2441 \n",
       "  \"/>\n",
       "<polyline clip-path=\"url(#clip692)\" style=\"stroke:#000000; stroke-linecap:round; stroke-linejoin:round; stroke-width:2; stroke-opacity:0.1; fill:none\" points=\"\n",
       "  1010.63,1486.45 1010.63,47.2441 \n",
       "  \"/>\n",
       "<polyline clip-path=\"url(#clip692)\" style=\"stroke:#000000; stroke-linecap:round; stroke-linejoin:round; stroke-width:2; stroke-opacity:0.1; fill:none\" points=\"\n",
       "  1315.38,1486.45 1315.38,47.2441 \n",
       "  \"/>\n",
       "<polyline clip-path=\"url(#clip692)\" style=\"stroke:#000000; stroke-linecap:round; stroke-linejoin:round; stroke-width:2; stroke-opacity:0.1; fill:none\" points=\"\n",
       "  1620.13,1486.45 1620.13,47.2441 \n",
       "  \"/>\n",
       "<polyline clip-path=\"url(#clip692)\" style=\"stroke:#000000; stroke-linecap:round; stroke-linejoin:round; stroke-width:2; stroke-opacity:0.1; fill:none\" points=\"\n",
       "  1924.89,1486.45 1924.89,47.2441 \n",
       "  \"/>\n",
       "<polyline clip-path=\"url(#clip692)\" style=\"stroke:#000000; stroke-linecap:round; stroke-linejoin:round; stroke-width:2; stroke-opacity:0.1; fill:none\" points=\"\n",
       "  2229.64,1486.45 2229.64,47.2441 \n",
       "  \"/>\n",
       "<polyline clip-path=\"url(#clip690)\" style=\"stroke:#000000; stroke-linecap:round; stroke-linejoin:round; stroke-width:4; stroke-opacity:1; fill:none\" points=\"\n",
       "  156.112,1486.45 2352.76,1486.45 \n",
       "  \"/>\n",
       "<polyline clip-path=\"url(#clip690)\" style=\"stroke:#000000; stroke-linecap:round; stroke-linejoin:round; stroke-width:4; stroke-opacity:1; fill:none\" points=\"\n",
       "  401.132,1486.45 401.132,1467.55 \n",
       "  \"/>\n",
       "<polyline clip-path=\"url(#clip690)\" style=\"stroke:#000000; stroke-linecap:round; stroke-linejoin:round; stroke-width:4; stroke-opacity:1; fill:none\" points=\"\n",
       "  705.883,1486.45 705.883,1467.55 \n",
       "  \"/>\n",
       "<polyline clip-path=\"url(#clip690)\" style=\"stroke:#000000; stroke-linecap:round; stroke-linejoin:round; stroke-width:4; stroke-opacity:1; fill:none\" points=\"\n",
       "  1010.63,1486.45 1010.63,1467.55 \n",
       "  \"/>\n",
       "<polyline clip-path=\"url(#clip690)\" style=\"stroke:#000000; stroke-linecap:round; stroke-linejoin:round; stroke-width:4; stroke-opacity:1; fill:none\" points=\"\n",
       "  1315.38,1486.45 1315.38,1467.55 \n",
       "  \"/>\n",
       "<polyline clip-path=\"url(#clip690)\" style=\"stroke:#000000; stroke-linecap:round; stroke-linejoin:round; stroke-width:4; stroke-opacity:1; fill:none\" points=\"\n",
       "  1620.13,1486.45 1620.13,1467.55 \n",
       "  \"/>\n",
       "<polyline clip-path=\"url(#clip690)\" style=\"stroke:#000000; stroke-linecap:round; stroke-linejoin:round; stroke-width:4; stroke-opacity:1; fill:none\" points=\"\n",
       "  1924.89,1486.45 1924.89,1467.55 \n",
       "  \"/>\n",
       "<polyline clip-path=\"url(#clip690)\" style=\"stroke:#000000; stroke-linecap:round; stroke-linejoin:round; stroke-width:4; stroke-opacity:1; fill:none\" points=\"\n",
       "  2229.64,1486.45 2229.64,1467.55 \n",
       "  \"/>\n",
       "<path clip-path=\"url(#clip690)\" d=\"M333.077 1532.02 L362.752 1532.02 L362.752 1535.95 L333.077 1535.95 L333.077 1532.02 Z\" fill=\"#000000\" fill-rule=\"evenodd\" fill-opacity=\"1\" /><path clip-path=\"url(#clip690)\" d=\"M382.845 1517.37 Q379.234 1517.37 377.405 1520.93 Q375.6 1524.47 375.6 1531.6 Q375.6 1538.71 377.405 1542.27 Q379.234 1545.82 382.845 1545.82 Q386.479 1545.82 388.285 1542.27 Q390.113 1538.71 390.113 1531.6 Q390.113 1524.47 388.285 1520.93 Q386.479 1517.37 382.845 1517.37 M382.845 1513.66 Q388.655 1513.66 391.711 1518.27 Q394.789 1522.85 394.789 1531.6 Q394.789 1540.33 391.711 1544.94 Q388.655 1549.52 382.845 1549.52 Q377.035 1549.52 373.956 1544.94 Q370.9 1540.33 370.9 1531.6 Q370.9 1522.85 373.956 1518.27 Q377.035 1513.66 382.845 1513.66 Z\" fill=\"#000000\" fill-rule=\"evenodd\" fill-opacity=\"1\" /><path clip-path=\"url(#clip690)\" d=\"M403.007 1542.97 L407.891 1542.97 L407.891 1548.85 L403.007 1548.85 L403.007 1542.97 Z\" fill=\"#000000\" fill-rule=\"evenodd\" fill-opacity=\"1\" /><path clip-path=\"url(#clip690)\" d=\"M416.896 1514.29 L439.118 1514.29 L439.118 1516.28 L426.571 1548.85 L421.687 1548.85 L433.493 1518.22 L416.896 1518.22 L416.896 1514.29 Z\" fill=\"#000000\" fill-rule=\"evenodd\" fill-opacity=\"1\" /><path clip-path=\"url(#clip690)\" d=\"M448.284 1514.29 L466.641 1514.29 L466.641 1518.22 L452.567 1518.22 L452.567 1526.7 Q453.585 1526.35 454.604 1526.19 Q455.622 1526 456.641 1526 Q462.428 1526 465.807 1529.17 Q469.187 1532.34 469.187 1537.76 Q469.187 1543.34 465.715 1546.44 Q462.243 1549.52 455.923 1549.52 Q453.747 1549.52 451.479 1549.15 Q449.233 1548.78 446.826 1548.04 L446.826 1543.34 Q448.909 1544.47 451.132 1545.03 Q453.354 1545.58 455.831 1545.58 Q459.835 1545.58 462.173 1543.48 Q464.511 1541.37 464.511 1537.76 Q464.511 1534.15 462.173 1532.04 Q459.835 1529.94 455.831 1529.94 Q453.956 1529.94 452.081 1530.35 Q450.229 1530.77 448.284 1531.65 L448.284 1514.29 Z\" fill=\"#000000\" fill-rule=\"evenodd\" fill-opacity=\"1\" /><path clip-path=\"url(#clip690)\" d=\"M637.33 1532.02 L667.005 1532.02 L667.005 1535.95 L637.33 1535.95 L637.33 1532.02 Z\" fill=\"#000000\" fill-rule=\"evenodd\" fill-opacity=\"1\" /><path clip-path=\"url(#clip690)\" d=\"M687.098 1517.37 Q683.487 1517.37 681.658 1520.93 Q679.853 1524.47 679.853 1531.6 Q679.853 1538.71 681.658 1542.27 Q683.487 1545.82 687.098 1545.82 Q690.732 1545.82 692.538 1542.27 Q694.366 1538.71 694.366 1531.6 Q694.366 1524.47 692.538 1520.93 Q690.732 1517.37 687.098 1517.37 M687.098 1513.66 Q692.908 1513.66 695.964 1518.27 Q699.042 1522.85 699.042 1531.6 Q699.042 1540.33 695.964 1544.94 Q692.908 1549.52 687.098 1549.52 Q681.288 1549.52 678.209 1544.94 Q675.154 1540.33 675.154 1531.6 Q675.154 1522.85 678.209 1518.27 Q681.288 1513.66 687.098 1513.66 Z\" fill=\"#000000\" fill-rule=\"evenodd\" fill-opacity=\"1\" /><path clip-path=\"url(#clip690)\" d=\"M707.26 1542.97 L712.144 1542.97 L712.144 1548.85 L707.26 1548.85 L707.26 1542.97 Z\" fill=\"#000000\" fill-rule=\"evenodd\" fill-opacity=\"1\" /><path clip-path=\"url(#clip690)\" d=\"M722.376 1514.29 L740.732 1514.29 L740.732 1518.22 L726.658 1518.22 L726.658 1526.7 Q727.676 1526.35 728.695 1526.19 Q729.713 1526 730.732 1526 Q736.519 1526 739.899 1529.17 Q743.278 1532.34 743.278 1537.76 Q743.278 1543.34 739.806 1546.44 Q736.334 1549.52 730.014 1549.52 Q727.838 1549.52 725.57 1549.15 Q723.325 1548.78 720.917 1548.04 L720.917 1543.34 Q723.001 1544.47 725.223 1545.03 Q727.445 1545.58 729.922 1545.58 Q733.926 1545.58 736.264 1543.48 Q738.602 1541.37 738.602 1537.76 Q738.602 1534.15 736.264 1532.04 Q733.926 1529.94 729.922 1529.94 Q728.047 1529.94 726.172 1530.35 Q724.32 1530.77 722.376 1531.65 L722.376 1514.29 Z\" fill=\"#000000\" fill-rule=\"evenodd\" fill-opacity=\"1\" /><path clip-path=\"url(#clip690)\" d=\"M762.491 1517.37 Q758.88 1517.37 757.051 1520.93 Q755.246 1524.47 755.246 1531.6 Q755.246 1538.71 757.051 1542.27 Q758.88 1545.82 762.491 1545.82 Q766.125 1545.82 767.931 1542.27 Q769.76 1538.71 769.76 1531.6 Q769.76 1524.47 767.931 1520.93 Q766.125 1517.37 762.491 1517.37 M762.491 1513.66 Q768.301 1513.66 771.357 1518.27 Q774.435 1522.85 774.435 1531.6 Q774.435 1540.33 771.357 1544.94 Q768.301 1549.52 762.491 1549.52 Q756.681 1549.52 753.602 1544.94 Q750.547 1540.33 750.547 1531.6 Q750.547 1522.85 753.602 1518.27 Q756.681 1513.66 762.491 1513.66 Z\" fill=\"#000000\" fill-rule=\"evenodd\" fill-opacity=\"1\" /><path clip-path=\"url(#clip690)\" d=\"M942.578 1532.02 L972.254 1532.02 L972.254 1535.95 L942.578 1535.95 L942.578 1532.02 Z\" fill=\"#000000\" fill-rule=\"evenodd\" fill-opacity=\"1\" /><path clip-path=\"url(#clip690)\" d=\"M992.346 1517.37 Q988.735 1517.37 986.907 1520.93 Q985.101 1524.47 985.101 1531.6 Q985.101 1538.71 986.907 1542.27 Q988.735 1545.82 992.346 1545.82 Q995.981 1545.82 997.786 1542.27 Q999.615 1538.71 999.615 1531.6 Q999.615 1524.47 997.786 1520.93 Q995.981 1517.37 992.346 1517.37 M992.346 1513.66 Q998.157 1513.66 1001.21 1518.27 Q1004.29 1522.85 1004.29 1531.6 Q1004.29 1540.33 1001.21 1544.94 Q998.157 1549.52 992.346 1549.52 Q986.536 1549.52 983.458 1544.94 Q980.402 1540.33 980.402 1531.6 Q980.402 1522.85 983.458 1518.27 Q986.536 1513.66 992.346 1513.66 Z\" fill=\"#000000\" fill-rule=\"evenodd\" fill-opacity=\"1\" /><path clip-path=\"url(#clip690)\" d=\"M1012.51 1542.97 L1017.39 1542.97 L1017.39 1548.85 L1012.51 1548.85 L1012.51 1542.97 Z\" fill=\"#000000\" fill-rule=\"evenodd\" fill-opacity=\"1\" /><path clip-path=\"url(#clip690)\" d=\"M1031.61 1544.91 L1047.92 1544.91 L1047.92 1548.85 L1025.98 1548.85 L1025.98 1544.91 Q1028.64 1542.16 1033.23 1537.53 Q1037.83 1532.88 1039.01 1531.53 Q1041.26 1529.01 1042.14 1527.27 Q1043.04 1525.51 1043.04 1523.82 Q1043.04 1521.07 1041.1 1519.33 Q1039.17 1517.6 1036.07 1517.6 Q1033.87 1517.6 1031.42 1518.36 Q1028.99 1519.13 1026.21 1520.68 L1026.21 1515.95 Q1029.04 1514.82 1031.49 1514.24 Q1033.94 1513.66 1035.98 1513.66 Q1041.35 1513.66 1044.55 1516.35 Q1047.74 1519.03 1047.74 1523.52 Q1047.74 1525.65 1046.93 1527.57 Q1046.14 1529.47 1044.04 1532.07 Q1043.46 1532.74 1040.36 1535.95 Q1037.25 1539.15 1031.61 1544.91 Z\" fill=\"#000000\" fill-rule=\"evenodd\" fill-opacity=\"1\" /><path clip-path=\"url(#clip690)\" d=\"M1057.79 1514.29 L1076.14 1514.29 L1076.14 1518.22 L1062.07 1518.22 L1062.07 1526.7 Q1063.09 1526.35 1064.11 1526.19 Q1065.12 1526 1066.14 1526 Q1071.93 1526 1075.31 1529.17 Q1078.69 1532.34 1078.69 1537.76 Q1078.69 1543.34 1075.22 1546.44 Q1071.74 1549.52 1065.42 1549.52 Q1063.25 1549.52 1060.98 1549.15 Q1058.73 1548.78 1056.33 1548.04 L1056.33 1543.34 Q1058.41 1544.47 1060.63 1545.03 Q1062.86 1545.58 1065.33 1545.58 Q1069.34 1545.58 1071.67 1543.48 Q1074.01 1541.37 1074.01 1537.76 Q1074.01 1534.15 1071.67 1532.04 Q1069.34 1529.94 1065.33 1529.94 Q1063.46 1529.94 1061.58 1530.35 Q1059.73 1530.77 1057.79 1531.65 L1057.79 1514.29 Z\" fill=\"#000000\" fill-rule=\"evenodd\" fill-opacity=\"1\" /><path clip-path=\"url(#clip690)\" d=\"M1277.69 1517.37 Q1274.08 1517.37 1272.25 1520.93 Q1270.44 1524.47 1270.44 1531.6 Q1270.44 1538.71 1272.25 1542.27 Q1274.08 1545.82 1277.69 1545.82 Q1281.32 1545.82 1283.13 1542.27 Q1284.96 1538.71 1284.96 1531.6 Q1284.96 1524.47 1283.13 1520.93 Q1281.32 1517.37 1277.69 1517.37 M1277.69 1513.66 Q1283.5 1513.66 1286.55 1518.27 Q1289.63 1522.85 1289.63 1531.6 Q1289.63 1540.33 1286.55 1544.94 Q1283.5 1549.52 1277.69 1549.52 Q1271.88 1549.52 1268.8 1544.94 Q1265.74 1540.33 1265.74 1531.6 Q1265.74 1522.85 1268.8 1518.27 Q1271.88 1513.66 1277.69 1513.66 Z\" fill=\"#000000\" fill-rule=\"evenodd\" fill-opacity=\"1\" /><path clip-path=\"url(#clip690)\" d=\"M1297.85 1542.97 L1302.73 1542.97 L1302.73 1548.85 L1297.85 1548.85 L1297.85 1542.97 Z\" fill=\"#000000\" fill-rule=\"evenodd\" fill-opacity=\"1\" /><path clip-path=\"url(#clip690)\" d=\"M1322.92 1517.37 Q1319.31 1517.37 1317.48 1520.93 Q1315.67 1524.47 1315.67 1531.6 Q1315.67 1538.71 1317.48 1542.27 Q1319.31 1545.82 1322.92 1545.82 Q1326.55 1545.82 1328.36 1542.27 Q1330.19 1538.71 1330.19 1531.6 Q1330.19 1524.47 1328.36 1520.93 Q1326.55 1517.37 1322.92 1517.37 M1322.92 1513.66 Q1328.73 1513.66 1331.78 1518.27 Q1334.86 1522.85 1334.86 1531.6 Q1334.86 1540.33 1331.78 1544.94 Q1328.73 1549.52 1322.92 1549.52 Q1317.11 1549.52 1314.03 1544.94 Q1310.97 1540.33 1310.97 1531.6 Q1310.97 1522.85 1314.03 1518.27 Q1317.11 1513.66 1322.92 1513.66 Z\" fill=\"#000000\" fill-rule=\"evenodd\" fill-opacity=\"1\" /><path clip-path=\"url(#clip690)\" d=\"M1353.08 1517.37 Q1349.47 1517.37 1347.64 1520.93 Q1345.84 1524.47 1345.84 1531.6 Q1345.84 1538.71 1347.64 1542.27 Q1349.47 1545.82 1353.08 1545.82 Q1356.71 1545.82 1358.52 1542.27 Q1360.35 1538.71 1360.35 1531.6 Q1360.35 1524.47 1358.52 1520.93 Q1356.71 1517.37 1353.08 1517.37 M1353.08 1513.66 Q1358.89 1513.66 1361.95 1518.27 Q1365.03 1522.85 1365.03 1531.6 Q1365.03 1540.33 1361.95 1544.94 Q1358.89 1549.52 1353.08 1549.52 Q1347.27 1549.52 1344.19 1544.94 Q1341.14 1540.33 1341.14 1531.6 Q1341.14 1522.85 1344.19 1518.27 Q1347.27 1513.66 1353.08 1513.66 Z\" fill=\"#000000\" fill-rule=\"evenodd\" fill-opacity=\"1\" /><path clip-path=\"url(#clip690)\" d=\"M1582.94 1517.37 Q1579.33 1517.37 1577.5 1520.93 Q1575.69 1524.47 1575.69 1531.6 Q1575.69 1538.71 1577.5 1542.27 Q1579.33 1545.82 1582.94 1545.82 Q1586.57 1545.82 1588.38 1542.27 Q1590.2 1538.71 1590.2 1531.6 Q1590.2 1524.47 1588.38 1520.93 Q1586.57 1517.37 1582.94 1517.37 M1582.94 1513.66 Q1588.75 1513.66 1591.8 1518.27 Q1594.88 1522.85 1594.88 1531.6 Q1594.88 1540.33 1591.8 1544.94 Q1588.75 1549.52 1582.94 1549.52 Q1577.13 1549.52 1574.05 1544.94 Q1570.99 1540.33 1570.99 1531.6 Q1570.99 1522.85 1574.05 1518.27 Q1577.13 1513.66 1582.94 1513.66 Z\" fill=\"#000000\" fill-rule=\"evenodd\" fill-opacity=\"1\" /><path clip-path=\"url(#clip690)\" d=\"M1603.1 1542.97 L1607.98 1542.97 L1607.98 1548.85 L1603.1 1548.85 L1603.1 1542.97 Z\" fill=\"#000000\" fill-rule=\"evenodd\" fill-opacity=\"1\" /><path clip-path=\"url(#clip690)\" d=\"M1622.2 1544.91 L1638.51 1544.91 L1638.51 1548.85 L1616.57 1548.85 L1616.57 1544.91 Q1619.23 1542.16 1623.82 1537.53 Q1628.42 1532.88 1629.6 1531.53 Q1631.85 1529.01 1632.73 1527.27 Q1633.63 1525.51 1633.63 1523.82 Q1633.63 1521.07 1631.69 1519.33 Q1629.76 1517.6 1626.66 1517.6 Q1624.46 1517.6 1622.01 1518.36 Q1619.58 1519.13 1616.8 1520.68 L1616.8 1515.95 Q1619.63 1514.82 1622.08 1514.24 Q1624.53 1513.66 1626.57 1513.66 Q1631.94 1513.66 1635.13 1516.35 Q1638.33 1519.03 1638.33 1523.52 Q1638.33 1525.65 1637.52 1527.57 Q1636.73 1529.47 1634.63 1532.07 Q1634.05 1532.74 1630.95 1535.95 Q1627.84 1539.15 1622.2 1544.91 Z\" fill=\"#000000\" fill-rule=\"evenodd\" fill-opacity=\"1\" /><path clip-path=\"url(#clip690)\" d=\"M1648.38 1514.29 L1666.73 1514.29 L1666.73 1518.22 L1652.66 1518.22 L1652.66 1526.7 Q1653.68 1526.35 1654.69 1526.19 Q1655.71 1526 1656.73 1526 Q1662.52 1526 1665.9 1529.17 Q1669.28 1532.34 1669.28 1537.76 Q1669.28 1543.34 1665.81 1546.44 Q1662.33 1549.52 1656.01 1549.52 Q1653.84 1549.52 1651.57 1549.15 Q1649.32 1548.78 1646.92 1548.04 L1646.92 1543.34 Q1649 1544.47 1651.22 1545.03 Q1653.44 1545.58 1655.92 1545.58 Q1659.93 1545.58 1662.26 1543.48 Q1664.6 1541.37 1664.6 1537.76 Q1664.6 1534.15 1662.26 1532.04 Q1659.93 1529.94 1655.92 1529.94 Q1654.05 1529.94 1652.17 1530.35 Q1650.32 1530.77 1648.38 1531.65 L1648.38 1514.29 Z\" fill=\"#000000\" fill-rule=\"evenodd\" fill-opacity=\"1\" /><path clip-path=\"url(#clip690)\" d=\"M1887.19 1517.37 Q1883.58 1517.37 1881.75 1520.93 Q1879.94 1524.47 1879.94 1531.6 Q1879.94 1538.71 1881.75 1542.27 Q1883.58 1545.82 1887.19 1545.82 Q1890.82 1545.82 1892.63 1542.27 Q1894.46 1538.71 1894.46 1531.6 Q1894.46 1524.47 1892.63 1520.93 Q1890.82 1517.37 1887.19 1517.37 M1887.19 1513.66 Q1893 1513.66 1896.05 1518.27 Q1899.13 1522.85 1899.13 1531.6 Q1899.13 1540.33 1896.05 1544.94 Q1893 1549.52 1887.19 1549.52 Q1881.38 1549.52 1878.3 1544.94 Q1875.24 1540.33 1875.24 1531.6 Q1875.24 1522.85 1878.3 1518.27 Q1881.38 1513.66 1887.19 1513.66 Z\" fill=\"#000000\" fill-rule=\"evenodd\" fill-opacity=\"1\" /><path clip-path=\"url(#clip690)\" d=\"M1907.35 1542.97 L1912.24 1542.97 L1912.24 1548.85 L1907.35 1548.85 L1907.35 1542.97 Z\" fill=\"#000000\" fill-rule=\"evenodd\" fill-opacity=\"1\" /><path clip-path=\"url(#clip690)\" d=\"M1922.47 1514.29 L1940.82 1514.29 L1940.82 1518.22 L1926.75 1518.22 L1926.75 1526.7 Q1927.77 1526.35 1928.79 1526.19 Q1929.8 1526 1930.82 1526 Q1936.61 1526 1939.99 1529.17 Q1943.37 1532.34 1943.37 1537.76 Q1943.37 1543.34 1939.9 1546.44 Q1936.43 1549.52 1930.11 1549.52 Q1927.93 1549.52 1925.66 1549.15 Q1923.42 1548.78 1921.01 1548.04 L1921.01 1543.34 Q1923.09 1544.47 1925.31 1545.03 Q1927.54 1545.58 1930.01 1545.58 Q1934.02 1545.58 1936.36 1543.48 Q1938.69 1541.37 1938.69 1537.76 Q1938.69 1534.15 1936.36 1532.04 Q1934.02 1529.94 1930.01 1529.94 Q1928.14 1529.94 1926.26 1530.35 Q1924.41 1530.77 1922.47 1531.65 L1922.47 1514.29 Z\" fill=\"#000000\" fill-rule=\"evenodd\" fill-opacity=\"1\" /><path clip-path=\"url(#clip690)\" d=\"M1962.58 1517.37 Q1958.97 1517.37 1957.14 1520.93 Q1955.34 1524.47 1955.34 1531.6 Q1955.34 1538.71 1957.14 1542.27 Q1958.97 1545.82 1962.58 1545.82 Q1966.22 1545.82 1968.02 1542.27 Q1969.85 1538.71 1969.85 1531.6 Q1969.85 1524.47 1968.02 1520.93 Q1966.22 1517.37 1962.58 1517.37 M1962.58 1513.66 Q1968.39 1513.66 1971.45 1518.27 Q1974.53 1522.85 1974.53 1531.6 Q1974.53 1540.33 1971.45 1544.94 Q1968.39 1549.52 1962.58 1549.52 Q1956.77 1549.52 1953.69 1544.94 Q1950.64 1540.33 1950.64 1531.6 Q1950.64 1522.85 1953.69 1518.27 Q1956.77 1513.66 1962.58 1513.66 Z\" fill=\"#000000\" fill-rule=\"evenodd\" fill-opacity=\"1\" /><path clip-path=\"url(#clip690)\" d=\"M2192.44 1517.37 Q2188.83 1517.37 2187 1520.93 Q2185.19 1524.47 2185.19 1531.6 Q2185.19 1538.71 2187 1542.27 Q2188.83 1545.82 2192.44 1545.82 Q2196.07 1545.82 2197.88 1542.27 Q2199.71 1538.71 2199.71 1531.6 Q2199.71 1524.47 2197.88 1520.93 Q2196.07 1517.37 2192.44 1517.37 M2192.44 1513.66 Q2198.25 1513.66 2201.3 1518.27 Q2204.38 1522.85 2204.38 1531.6 Q2204.38 1540.33 2201.3 1544.94 Q2198.25 1549.52 2192.44 1549.52 Q2186.63 1549.52 2183.55 1544.94 Q2180.49 1540.33 2180.49 1531.6 Q2180.49 1522.85 2183.55 1518.27 Q2186.63 1513.66 2192.44 1513.66 Z\" fill=\"#000000\" fill-rule=\"evenodd\" fill-opacity=\"1\" /><path clip-path=\"url(#clip690)\" d=\"M2212.6 1542.97 L2217.48 1542.97 L2217.48 1548.85 L2212.6 1548.85 L2212.6 1542.97 Z\" fill=\"#000000\" fill-rule=\"evenodd\" fill-opacity=\"1\" /><path clip-path=\"url(#clip690)\" d=\"M2226.49 1514.29 L2248.71 1514.29 L2248.71 1516.28 L2236.16 1548.85 L2231.28 1548.85 L2243.09 1518.22 L2226.49 1518.22 L2226.49 1514.29 Z\" fill=\"#000000\" fill-rule=\"evenodd\" fill-opacity=\"1\" /><path clip-path=\"url(#clip690)\" d=\"M2257.88 1514.29 L2276.23 1514.29 L2276.23 1518.22 L2262.16 1518.22 L2262.16 1526.7 Q2263.18 1526.35 2264.2 1526.19 Q2265.22 1526 2266.23 1526 Q2272.02 1526 2275.4 1529.17 Q2278.78 1532.34 2278.78 1537.76 Q2278.78 1543.34 2275.31 1546.44 Q2271.84 1549.52 2265.52 1549.52 Q2263.34 1549.52 2261.07 1549.15 Q2258.83 1548.78 2256.42 1548.04 L2256.42 1543.34 Q2258.5 1544.47 2260.72 1545.03 Q2262.95 1545.58 2265.42 1545.58 Q2269.43 1545.58 2271.77 1543.48 Q2274.1 1541.37 2274.1 1537.76 Q2274.1 1534.15 2271.77 1532.04 Q2269.43 1529.94 2265.42 1529.94 Q2263.55 1529.94 2261.67 1530.35 Q2259.82 1530.77 2257.88 1531.65 L2257.88 1514.29 Z\" fill=\"#000000\" fill-rule=\"evenodd\" fill-opacity=\"1\" /><polyline clip-path=\"url(#clip692)\" style=\"stroke:#000000; stroke-linecap:round; stroke-linejoin:round; stroke-width:2; stroke-opacity:0.1; fill:none\" points=\"\n",
       "  156.112,1341.27 2352.76,1341.27 \n",
       "  \"/>\n",
       "<polyline clip-path=\"url(#clip692)\" style=\"stroke:#000000; stroke-linecap:round; stroke-linejoin:round; stroke-width:2; stroke-opacity:0.1; fill:none\" points=\"\n",
       "  156.112,1080.17 2352.76,1080.17 \n",
       "  \"/>\n",
       "<polyline clip-path=\"url(#clip692)\" style=\"stroke:#000000; stroke-linecap:round; stroke-linejoin:round; stroke-width:2; stroke-opacity:0.1; fill:none\" points=\"\n",
       "  156.112,819.067 2352.76,819.067 \n",
       "  \"/>\n",
       "<polyline clip-path=\"url(#clip692)\" style=\"stroke:#000000; stroke-linecap:round; stroke-linejoin:round; stroke-width:2; stroke-opacity:0.1; fill:none\" points=\"\n",
       "  156.112,557.963 2352.76,557.963 \n",
       "  \"/>\n",
       "<polyline clip-path=\"url(#clip692)\" style=\"stroke:#000000; stroke-linecap:round; stroke-linejoin:round; stroke-width:2; stroke-opacity:0.1; fill:none\" points=\"\n",
       "  156.112,296.859 2352.76,296.859 \n",
       "  \"/>\n",
       "<polyline clip-path=\"url(#clip690)\" style=\"stroke:#000000; stroke-linecap:round; stroke-linejoin:round; stroke-width:4; stroke-opacity:1; fill:none\" points=\"\n",
       "  156.112,1486.45 156.112,47.2441 \n",
       "  \"/>\n",
       "<polyline clip-path=\"url(#clip690)\" style=\"stroke:#000000; stroke-linecap:round; stroke-linejoin:round; stroke-width:4; stroke-opacity:1; fill:none\" points=\"\n",
       "  156.112,1341.27 175.01,1341.27 \n",
       "  \"/>\n",
       "<polyline clip-path=\"url(#clip690)\" style=\"stroke:#000000; stroke-linecap:round; stroke-linejoin:round; stroke-width:4; stroke-opacity:1; fill:none\" points=\"\n",
       "  156.112,1080.17 175.01,1080.17 \n",
       "  \"/>\n",
       "<polyline clip-path=\"url(#clip690)\" style=\"stroke:#000000; stroke-linecap:round; stroke-linejoin:round; stroke-width:4; stroke-opacity:1; fill:none\" points=\"\n",
       "  156.112,819.067 175.01,819.067 \n",
       "  \"/>\n",
       "<polyline clip-path=\"url(#clip690)\" style=\"stroke:#000000; stroke-linecap:round; stroke-linejoin:round; stroke-width:4; stroke-opacity:1; fill:none\" points=\"\n",
       "  156.112,557.963 175.01,557.963 \n",
       "  \"/>\n",
       "<polyline clip-path=\"url(#clip690)\" style=\"stroke:#000000; stroke-linecap:round; stroke-linejoin:round; stroke-width:4; stroke-opacity:1; fill:none\" points=\"\n",
       "  156.112,296.859 175.01,296.859 \n",
       "  \"/>\n",
       "<path clip-path=\"url(#clip690)\" d=\"M62.9365 1327.07 Q59.3254 1327.07 57.4967 1330.64 Q55.6912 1334.18 55.6912 1341.31 Q55.6912 1348.42 57.4967 1351.98 Q59.3254 1355.52 62.9365 1355.52 Q66.5707 1355.52 68.3763 1351.98 Q70.205 1348.42 70.205 1341.31 Q70.205 1334.18 68.3763 1330.64 Q66.5707 1327.07 62.9365 1327.07 M62.9365 1323.37 Q68.7467 1323.37 71.8022 1327.98 Q74.8809 1332.56 74.8809 1341.31 Q74.8809 1350.04 71.8022 1354.64 Q68.7467 1359.23 62.9365 1359.23 Q57.1264 1359.23 54.0477 1354.64 Q50.9921 1350.04 50.9921 1341.31 Q50.9921 1332.56 54.0477 1327.98 Q57.1264 1323.37 62.9365 1323.37 Z\" fill=\"#000000\" fill-rule=\"evenodd\" fill-opacity=\"1\" /><path clip-path=\"url(#clip690)\" d=\"M83.0984 1352.67 L87.9827 1352.67 L87.9827 1358.55 L83.0984 1358.55 L83.0984 1352.67 Z\" fill=\"#000000\" fill-rule=\"evenodd\" fill-opacity=\"1\" /><path clip-path=\"url(#clip690)\" d=\"M108.168 1327.07 Q104.557 1327.07 102.728 1330.64 Q100.922 1334.18 100.922 1341.31 Q100.922 1348.42 102.728 1351.98 Q104.557 1355.52 108.168 1355.52 Q111.802 1355.52 113.608 1351.98 Q115.436 1348.42 115.436 1341.31 Q115.436 1334.18 113.608 1330.64 Q111.802 1327.07 108.168 1327.07 M108.168 1323.37 Q113.978 1323.37 117.033 1327.98 Q120.112 1332.56 120.112 1341.31 Q120.112 1350.04 117.033 1354.64 Q113.978 1359.23 108.168 1359.23 Q102.358 1359.23 99.2789 1354.64 Q96.2234 1350.04 96.2234 1341.31 Q96.2234 1332.56 99.2789 1327.98 Q102.358 1323.37 108.168 1323.37 Z\" fill=\"#000000\" fill-rule=\"evenodd\" fill-opacity=\"1\" /><path clip-path=\"url(#clip690)\" d=\"M63.9319 1065.97 Q60.3208 1065.97 58.4921 1069.53 Q56.6865 1073.08 56.6865 1080.21 Q56.6865 1087.31 58.4921 1090.88 Q60.3208 1094.42 63.9319 1094.42 Q67.5661 1094.42 69.3717 1090.88 Q71.2004 1087.31 71.2004 1080.21 Q71.2004 1073.08 69.3717 1069.53 Q67.5661 1065.97 63.9319 1065.97 M63.9319 1062.27 Q69.742 1062.27 72.7976 1066.87 Q75.8763 1071.46 75.8763 1080.21 Q75.8763 1088.93 72.7976 1093.54 Q69.742 1098.12 63.9319 1098.12 Q58.1217 1098.12 55.043 1093.54 Q51.9875 1088.93 51.9875 1080.21 Q51.9875 1071.46 55.043 1066.87 Q58.1217 1062.27 63.9319 1062.27 Z\" fill=\"#000000\" fill-rule=\"evenodd\" fill-opacity=\"1\" /><path clip-path=\"url(#clip690)\" d=\"M84.0938 1091.57 L88.978 1091.57 L88.978 1097.45 L84.0938 1097.45 L84.0938 1091.57 Z\" fill=\"#000000\" fill-rule=\"evenodd\" fill-opacity=\"1\" /><path clip-path=\"url(#clip690)\" d=\"M99.2095 1062.89 L117.566 1062.89 L117.566 1066.83 L103.492 1066.83 L103.492 1075.3 Q104.51 1074.95 105.529 1074.79 Q106.547 1074.6 107.566 1074.6 Q113.353 1074.6 116.733 1077.77 Q120.112 1080.95 120.112 1086.36 Q120.112 1091.94 116.64 1095.04 Q113.168 1098.12 106.848 1098.12 Q104.672 1098.12 102.404 1097.75 Q100.159 1097.38 97.7511 1096.64 L97.7511 1091.94 Q99.8345 1093.08 102.057 1093.63 Q104.279 1094.19 106.756 1094.19 Q110.76 1094.19 113.098 1092.08 Q115.436 1089.97 115.436 1086.36 Q115.436 1082.75 113.098 1080.64 Q110.76 1078.54 106.756 1078.54 Q104.881 1078.54 103.006 1078.96 Q101.154 1079.37 99.2095 1080.25 L99.2095 1062.89 Z\" fill=\"#000000\" fill-rule=\"evenodd\" fill-opacity=\"1\" /><path clip-path=\"url(#clip690)\" d=\"M53.7467 832.412 L61.3856 832.412 L61.3856 806.046 L53.0754 807.713 L53.0754 803.453 L61.3393 801.787 L66.0152 801.787 L66.0152 832.412 L73.654 832.412 L73.654 836.347 L53.7467 836.347 L53.7467 832.412 Z\" fill=\"#000000\" fill-rule=\"evenodd\" fill-opacity=\"1\" /><path clip-path=\"url(#clip690)\" d=\"M83.0984 830.467 L87.9827 830.467 L87.9827 836.347 L83.0984 836.347 L83.0984 830.467 Z\" fill=\"#000000\" fill-rule=\"evenodd\" fill-opacity=\"1\" /><path clip-path=\"url(#clip690)\" d=\"M108.168 804.865 Q104.557 804.865 102.728 808.43 Q100.922 811.972 100.922 819.101 Q100.922 826.208 102.728 829.773 Q104.557 833.314 108.168 833.314 Q111.802 833.314 113.608 829.773 Q115.436 826.208 115.436 819.101 Q115.436 811.972 113.608 808.43 Q111.802 804.865 108.168 804.865 M108.168 801.162 Q113.978 801.162 117.033 805.768 Q120.112 810.351 120.112 819.101 Q120.112 827.828 117.033 832.435 Q113.978 837.018 108.168 837.018 Q102.358 837.018 99.2789 832.435 Q96.2234 827.828 96.2234 819.101 Q96.2234 810.351 99.2789 805.768 Q102.358 801.162 108.168 801.162 Z\" fill=\"#000000\" fill-rule=\"evenodd\" fill-opacity=\"1\" /><path clip-path=\"url(#clip690)\" d=\"M54.7421 571.308 L62.381 571.308 L62.381 544.942 L54.0708 546.609 L54.0708 542.35 L62.3347 540.683 L67.0106 540.683 L67.0106 571.308 L74.6494 571.308 L74.6494 575.243 L54.7421 575.243 L54.7421 571.308 Z\" fill=\"#000000\" fill-rule=\"evenodd\" fill-opacity=\"1\" /><path clip-path=\"url(#clip690)\" d=\"M84.0938 569.363 L88.978 569.363 L88.978 575.243 L84.0938 575.243 L84.0938 569.363 Z\" fill=\"#000000\" fill-rule=\"evenodd\" fill-opacity=\"1\" /><path clip-path=\"url(#clip690)\" d=\"M99.2095 540.683 L117.566 540.683 L117.566 544.618 L103.492 544.618 L103.492 553.09 Q104.51 552.743 105.529 552.581 Q106.547 552.396 107.566 552.396 Q113.353 552.396 116.733 555.567 Q120.112 558.738 120.112 564.155 Q120.112 569.734 116.64 572.836 Q113.168 575.914 106.848 575.914 Q104.672 575.914 102.404 575.544 Q100.159 575.174 97.7511 574.433 L97.7511 569.734 Q99.8345 570.868 102.057 571.424 Q104.279 571.979 106.756 571.979 Q110.76 571.979 113.098 569.873 Q115.436 567.766 115.436 564.155 Q115.436 560.544 113.098 558.438 Q110.76 556.331 106.756 556.331 Q104.881 556.331 103.006 556.748 Q101.154 557.164 99.2095 558.044 L99.2095 540.683 Z\" fill=\"#000000\" fill-rule=\"evenodd\" fill-opacity=\"1\" /><path clip-path=\"url(#clip690)\" d=\"M56.9643 310.204 L73.2837 310.204 L73.2837 314.139 L51.3393 314.139 L51.3393 310.204 Q54.0014 307.449 58.5847 302.82 Q63.1911 298.167 64.3717 296.825 Q66.617 294.301 67.4967 292.565 Q68.3994 290.806 68.3994 289.116 Q68.3994 286.362 66.455 284.626 Q64.5337 282.889 61.4319 282.889 Q59.2328 282.889 56.7791 283.653 Q54.3486 284.417 51.5708 285.968 L51.5708 281.246 Q54.3949 280.112 56.8486 279.533 Q59.3023 278.954 61.3393 278.954 Q66.7096 278.954 69.9041 281.639 Q73.0985 284.325 73.0985 288.815 Q73.0985 290.945 72.2883 292.866 Q71.5013 294.764 69.3948 297.357 Q68.8161 298.028 65.7143 301.246 Q62.6124 304.44 56.9643 310.204 Z\" fill=\"#000000\" fill-rule=\"evenodd\" fill-opacity=\"1\" /><path clip-path=\"url(#clip690)\" d=\"M83.0984 308.26 L87.9827 308.26 L87.9827 314.139 L83.0984 314.139 L83.0984 308.26 Z\" fill=\"#000000\" fill-rule=\"evenodd\" fill-opacity=\"1\" /><path clip-path=\"url(#clip690)\" d=\"M108.168 282.658 Q104.557 282.658 102.728 286.223 Q100.922 289.764 100.922 296.894 Q100.922 304 102.728 307.565 Q104.557 311.107 108.168 311.107 Q111.802 311.107 113.608 307.565 Q115.436 304 115.436 296.894 Q115.436 289.764 113.608 286.223 Q111.802 282.658 108.168 282.658 M108.168 278.954 Q113.978 278.954 117.033 283.561 Q120.112 288.144 120.112 296.894 Q120.112 305.621 117.033 310.227 Q113.978 314.811 108.168 314.811 Q102.358 314.811 99.2789 310.227 Q96.2234 305.621 96.2234 296.894 Q96.2234 288.144 99.2789 283.561 Q102.358 278.954 108.168 278.954 Z\" fill=\"#000000\" fill-rule=\"evenodd\" fill-opacity=\"1\" /><circle clip-path=\"url(#clip692)\" cx=\"218.281\" cy=\"819.067\" r=\"28.8\" fill=\"#009af9\" fill-rule=\"evenodd\" fill-opacity=\"1\" stroke=\"#000000\" stroke-opacity=\"1\" stroke-width=\"3.2\"/>\n",
       "<circle clip-path=\"url(#clip692)\" cx=\"1437.28\" cy=\"87.9763\" r=\"28.8\" fill=\"#009af9\" fill-rule=\"evenodd\" fill-opacity=\"1\" stroke=\"#000000\" stroke-opacity=\"1\" stroke-width=\"3.2\"/>\n",
       "<circle clip-path=\"url(#clip692)\" cx=\"1924.89\" cy=\"1445.72\" r=\"28.8\" fill=\"#009af9\" fill-rule=\"evenodd\" fill-opacity=\"1\" stroke=\"#000000\" stroke-opacity=\"1\" stroke-width=\"3.2\"/>\n",
       "<circle clip-path=\"url(#clip692)\" cx=\"2290.59\" cy=\"662.404\" r=\"28.8\" fill=\"#009af9\" fill-rule=\"evenodd\" fill-opacity=\"1\" stroke=\"#000000\" stroke-opacity=\"1\" stroke-width=\"3.2\"/>\n",
       "<path clip-path=\"url(#clip690)\" d=\"\n",
       "M1956.82 250.738 L2279.53 250.738 L2279.53 95.2176 L1956.82 95.2176  Z\n",
       "  \" fill=\"#ffffff\" fill-rule=\"evenodd\" fill-opacity=\"1\"/>\n",
       "<polyline clip-path=\"url(#clip690)\" style=\"stroke:#000000; stroke-linecap:round; stroke-linejoin:round; stroke-width:4; stroke-opacity:1; fill:none\" points=\"\n",
       "  1956.82,250.738 2279.53,250.738 2279.53,95.2176 1956.82,95.2176 1956.82,250.738 \n",
       "  \"/>\n",
       "<circle clip-path=\"url(#clip690)\" cx=\"2054.45\" cy=\"172.978\" r=\"34.56\" fill=\"#009af9\" fill-rule=\"evenodd\" fill-opacity=\"1\" stroke=\"#000000\" stroke-opacity=\"1\" stroke-width=\"3.84\"/>\n",
       "<path clip-path=\"url(#clip690)\" d=\"M2172.84 202.509 Q2170.13 209.453 2167.56 211.571 Q2164.99 213.689 2160.69 213.689 L2155.58 213.689 L2155.58 208.342 L2159.33 208.342 Q2161.97 208.342 2163.43 207.092 Q2164.89 205.842 2166.66 201.189 L2167.8 198.273 L2152.07 160.009 L2158.85 160.009 L2171 190.425 L2183.15 160.009 L2189.92 160.009 L2172.84 202.509 Z\" fill=\"#000000\" fill-rule=\"evenodd\" fill-opacity=\"1\" /><path clip-path=\"url(#clip690)\" d=\"M2200.86 192.995 L2212.32 192.995 L2212.32 153.446 L2199.85 155.946 L2199.85 149.558 L2212.25 147.058 L2219.26 147.058 L2219.26 192.995 L2230.72 192.995 L2230.72 198.898 L2200.86 198.898 L2200.86 192.995 Z\" fill=\"#000000\" fill-rule=\"evenodd\" fill-opacity=\"1\" /></svg>\n"
      ]
     },
     "execution_count": 18,
     "metadata": {},
     "output_type": "execute_result"
    }
   ],
   "source": [
    "x1 = [-.9, 0.1, .5, .8]\n",
    "y1 = [1, 2.4, -.2, 1.3]\n",
    "scatter(x1, y1, markersize=8)"
   ]
  },
  {
   "cell_type": "code",
   "execution_count": 157,
   "id": "62a84cfe",
   "metadata": {
    "cell_style": "split"
   },
   "outputs": [
    {
     "name": "stdout",
     "output_type": "stream",
     "text": [
      "size(V) = (4, 4)\n"
     ]
    },
    {
     "data": {
      "image/svg+xml": [
       "<?xml version=\"1.0\" encoding=\"utf-8\"?>\n",
       "<svg xmlns=\"http://www.w3.org/2000/svg\" xmlns:xlink=\"http://www.w3.org/1999/xlink\" width=\"600\" height=\"400\" viewBox=\"0 0 2400 1600\">\n",
       "<defs>\n",
       "  <clipPath id=\"clip410\">\n",
       "    <rect x=\"0\" y=\"0\" width=\"2400\" height=\"1600\"/>\n",
       "  </clipPath>\n",
       "</defs>\n",
       "<path clip-path=\"url(#clip410)\" d=\"\n",
       "M0 1600 L2400 1600 L2400 0 L0 0  Z\n",
       "  \" fill=\"#ffffff\" fill-rule=\"evenodd\" fill-opacity=\"1\"/>\n",
       "<defs>\n",
       "  <clipPath id=\"clip411\">\n",
       "    <rect x=\"480\" y=\"0\" width=\"1681\" height=\"1600\"/>\n",
       "  </clipPath>\n",
       "</defs>\n",
       "<defs>\n",
       "  <clipPath id=\"clip412\">\n",
       "    <rect x=\"147\" y=\"47\" width=\"2207\" height=\"1440\"/>\n",
       "  </clipPath>\n",
       "</defs>\n",
       "<path clip-path=\"url(#clip410)\" d=\"\n",
       "M147.108 1486.45 L2352.76 1486.45 L2352.76 47.2441 L147.108 47.2441  Z\n",
       "  \" fill=\"#ffffff\" fill-rule=\"evenodd\" fill-opacity=\"1\"/>\n",
       "<polyline clip-path=\"url(#clip412)\" style=\"stroke:#000000; stroke-linecap:round; stroke-linejoin:round; stroke-width:2; stroke-opacity:0.1; fill:none\" points=\"\n",
       "  147.108,1486.45 147.108,47.2441 \n",
       "  \"/>\n",
       "<polyline clip-path=\"url(#clip412)\" style=\"stroke:#000000; stroke-linecap:round; stroke-linejoin:round; stroke-width:2; stroke-opacity:0.1; fill:none\" points=\"\n",
       "  698.52,1486.45 698.52,47.2441 \n",
       "  \"/>\n",
       "<polyline clip-path=\"url(#clip412)\" style=\"stroke:#000000; stroke-linecap:round; stroke-linejoin:round; stroke-width:2; stroke-opacity:0.1; fill:none\" points=\"\n",
       "  1249.93,1486.45 1249.93,47.2441 \n",
       "  \"/>\n",
       "<polyline clip-path=\"url(#clip412)\" style=\"stroke:#000000; stroke-linecap:round; stroke-linejoin:round; stroke-width:2; stroke-opacity:0.1; fill:none\" points=\"\n",
       "  1801.34,1486.45 1801.34,47.2441 \n",
       "  \"/>\n",
       "<polyline clip-path=\"url(#clip412)\" style=\"stroke:#000000; stroke-linecap:round; stroke-linejoin:round; stroke-width:2; stroke-opacity:0.1; fill:none\" points=\"\n",
       "  2352.76,1486.45 2352.76,47.2441 \n",
       "  \"/>\n",
       "<polyline clip-path=\"url(#clip410)\" style=\"stroke:#000000; stroke-linecap:round; stroke-linejoin:round; stroke-width:4; stroke-opacity:1; fill:none\" points=\"\n",
       "  147.108,1486.45 2352.76,1486.45 \n",
       "  \"/>\n",
       "<polyline clip-path=\"url(#clip410)\" style=\"stroke:#000000; stroke-linecap:round; stroke-linejoin:round; stroke-width:4; stroke-opacity:1; fill:none\" points=\"\n",
       "  147.108,1486.45 147.108,1467.55 \n",
       "  \"/>\n",
       "<polyline clip-path=\"url(#clip410)\" style=\"stroke:#000000; stroke-linecap:round; stroke-linejoin:round; stroke-width:4; stroke-opacity:1; fill:none\" points=\"\n",
       "  698.52,1486.45 698.52,1467.55 \n",
       "  \"/>\n",
       "<polyline clip-path=\"url(#clip410)\" style=\"stroke:#000000; stroke-linecap:round; stroke-linejoin:round; stroke-width:4; stroke-opacity:1; fill:none\" points=\"\n",
       "  1249.93,1486.45 1249.93,1467.55 \n",
       "  \"/>\n",
       "<polyline clip-path=\"url(#clip410)\" style=\"stroke:#000000; stroke-linecap:round; stroke-linejoin:round; stroke-width:4; stroke-opacity:1; fill:none\" points=\"\n",
       "  1801.34,1486.45 1801.34,1467.55 \n",
       "  \"/>\n",
       "<polyline clip-path=\"url(#clip410)\" style=\"stroke:#000000; stroke-linecap:round; stroke-linejoin:round; stroke-width:4; stroke-opacity:1; fill:none\" points=\"\n",
       "  2352.76,1486.45 2352.76,1467.55 \n",
       "  \"/>\n",
       "<path clip-path=\"url(#clip410)\" d=\"M93.6356 1532.02 L123.311 1532.02 L123.311 1535.95 L93.6356 1535.95 L93.6356 1532.02 Z\" fill=\"#000000\" fill-rule=\"evenodd\" fill-opacity=\"1\" /><path clip-path=\"url(#clip410)\" d=\"M134.214 1544.91 L141.853 1544.91 L141.853 1518.55 L133.543 1520.21 L133.543 1515.95 L141.807 1514.29 L146.483 1514.29 L146.483 1544.91 L154.121 1544.91 L154.121 1548.85 L134.214 1548.85 L134.214 1544.91 Z\" fill=\"#000000\" fill-rule=\"evenodd\" fill-opacity=\"1\" /><path clip-path=\"url(#clip410)\" d=\"M163.566 1542.97 L168.45 1542.97 L168.45 1548.85 L163.566 1548.85 L163.566 1542.97 Z\" fill=\"#000000\" fill-rule=\"evenodd\" fill-opacity=\"1\" /><path clip-path=\"url(#clip410)\" d=\"M188.635 1517.37 Q185.024 1517.37 183.195 1520.93 Q181.39 1524.47 181.39 1531.6 Q181.39 1538.71 183.195 1542.27 Q185.024 1545.82 188.635 1545.82 Q192.269 1545.82 194.075 1542.27 Q195.904 1538.71 195.904 1531.6 Q195.904 1524.47 194.075 1520.93 Q192.269 1517.37 188.635 1517.37 M188.635 1513.66 Q194.445 1513.66 197.501 1518.27 Q200.579 1522.85 200.579 1531.6 Q200.579 1540.33 197.501 1544.94 Q194.445 1549.52 188.635 1549.52 Q182.825 1549.52 179.746 1544.94 Q176.691 1540.33 176.691 1531.6 Q176.691 1522.85 179.746 1518.27 Q182.825 1513.66 188.635 1513.66 Z\" fill=\"#000000\" fill-rule=\"evenodd\" fill-opacity=\"1\" /><path clip-path=\"url(#clip410)\" d=\"M645.545 1532.02 L675.221 1532.02 L675.221 1535.95 L645.545 1535.95 L645.545 1532.02 Z\" fill=\"#000000\" fill-rule=\"evenodd\" fill-opacity=\"1\" /><path clip-path=\"url(#clip410)\" d=\"M695.314 1517.37 Q691.703 1517.37 689.874 1520.93 Q688.068 1524.47 688.068 1531.6 Q688.068 1538.71 689.874 1542.27 Q691.703 1545.82 695.314 1545.82 Q698.948 1545.82 700.753 1542.27 Q702.582 1538.71 702.582 1531.6 Q702.582 1524.47 700.753 1520.93 Q698.948 1517.37 695.314 1517.37 M695.314 1513.66 Q701.124 1513.66 704.179 1518.27 Q707.258 1522.85 707.258 1531.6 Q707.258 1540.33 704.179 1544.94 Q701.124 1549.52 695.314 1549.52 Q689.503 1549.52 686.425 1544.94 Q683.369 1540.33 683.369 1531.6 Q683.369 1522.85 686.425 1518.27 Q689.503 1513.66 695.314 1513.66 Z\" fill=\"#000000\" fill-rule=\"evenodd\" fill-opacity=\"1\" /><path clip-path=\"url(#clip410)\" d=\"M715.476 1542.97 L720.36 1542.97 L720.36 1548.85 L715.476 1548.85 L715.476 1542.97 Z\" fill=\"#000000\" fill-rule=\"evenodd\" fill-opacity=\"1\" /><path clip-path=\"url(#clip410)\" d=\"M730.591 1514.29 L748.948 1514.29 L748.948 1518.22 L734.874 1518.22 L734.874 1526.7 Q735.892 1526.35 736.911 1526.19 Q737.929 1526 738.948 1526 Q744.735 1526 748.114 1529.17 Q751.494 1532.34 751.494 1537.76 Q751.494 1543.34 748.022 1546.44 Q744.549 1549.52 738.23 1549.52 Q736.054 1549.52 733.786 1549.15 Q731.54 1548.78 729.133 1548.04 L729.133 1543.34 Q731.216 1544.47 733.438 1545.03 Q735.661 1545.58 738.137 1545.58 Q742.142 1545.58 744.48 1543.48 Q746.818 1541.37 746.818 1537.76 Q746.818 1534.15 744.48 1532.04 Q742.142 1529.94 738.137 1529.94 Q736.262 1529.94 734.387 1530.35 Q732.536 1530.77 730.591 1531.65 L730.591 1514.29 Z\" fill=\"#000000\" fill-rule=\"evenodd\" fill-opacity=\"1\" /><path clip-path=\"url(#clip410)\" d=\"M1227.32 1517.37 Q1223.71 1517.37 1221.88 1520.93 Q1220.07 1524.47 1220.07 1531.6 Q1220.07 1538.71 1221.88 1542.27 Q1223.71 1545.82 1227.32 1545.82 Q1230.95 1545.82 1232.76 1542.27 Q1234.58 1538.71 1234.58 1531.6 Q1234.58 1524.47 1232.76 1520.93 Q1230.95 1517.37 1227.32 1517.37 M1227.32 1513.66 Q1233.13 1513.66 1236.18 1518.27 Q1239.26 1522.85 1239.26 1531.6 Q1239.26 1540.33 1236.18 1544.94 Q1233.13 1549.52 1227.32 1549.52 Q1221.51 1549.52 1218.43 1544.94 Q1215.37 1540.33 1215.37 1531.6 Q1215.37 1522.85 1218.43 1518.27 Q1221.51 1513.66 1227.32 1513.66 Z\" fill=\"#000000\" fill-rule=\"evenodd\" fill-opacity=\"1\" /><path clip-path=\"url(#clip410)\" d=\"M1247.48 1542.97 L1252.36 1542.97 L1252.36 1548.85 L1247.48 1548.85 L1247.48 1542.97 Z\" fill=\"#000000\" fill-rule=\"evenodd\" fill-opacity=\"1\" /><path clip-path=\"url(#clip410)\" d=\"M1272.55 1517.37 Q1268.94 1517.37 1267.11 1520.93 Q1265.3 1524.47 1265.3 1531.6 Q1265.3 1538.71 1267.11 1542.27 Q1268.94 1545.82 1272.55 1545.82 Q1276.18 1545.82 1277.99 1542.27 Q1279.82 1538.71 1279.82 1531.6 Q1279.82 1524.47 1277.99 1520.93 Q1276.18 1517.37 1272.55 1517.37 M1272.55 1513.66 Q1278.36 1513.66 1281.41 1518.27 Q1284.49 1522.85 1284.49 1531.6 Q1284.49 1540.33 1281.41 1544.94 Q1278.36 1549.52 1272.55 1549.52 Q1266.74 1549.52 1263.66 1544.94 Q1260.6 1540.33 1260.6 1531.6 Q1260.6 1522.85 1263.66 1518.27 Q1266.74 1513.66 1272.55 1513.66 Z\" fill=\"#000000\" fill-rule=\"evenodd\" fill-opacity=\"1\" /><path clip-path=\"url(#clip410)\" d=\"M1779.23 1517.37 Q1775.61 1517.37 1773.79 1520.93 Q1771.98 1524.47 1771.98 1531.6 Q1771.98 1538.71 1773.79 1542.27 Q1775.61 1545.82 1779.23 1545.82 Q1782.86 1545.82 1784.67 1542.27 Q1786.49 1538.71 1786.49 1531.6 Q1786.49 1524.47 1784.67 1520.93 Q1782.86 1517.37 1779.23 1517.37 M1779.23 1513.66 Q1785.04 1513.66 1788.09 1518.27 Q1791.17 1522.85 1791.17 1531.6 Q1791.17 1540.33 1788.09 1544.94 Q1785.04 1549.52 1779.23 1549.52 Q1773.42 1549.52 1770.34 1544.94 Q1767.28 1540.33 1767.28 1531.6 Q1767.28 1522.85 1770.34 1518.27 Q1773.42 1513.66 1779.23 1513.66 Z\" fill=\"#000000\" fill-rule=\"evenodd\" fill-opacity=\"1\" /><path clip-path=\"url(#clip410)\" d=\"M1799.39 1542.97 L1804.27 1542.97 L1804.27 1548.85 L1799.39 1548.85 L1799.39 1542.97 Z\" fill=\"#000000\" fill-rule=\"evenodd\" fill-opacity=\"1\" /><path clip-path=\"url(#clip410)\" d=\"M1814.5 1514.29 L1832.86 1514.29 L1832.86 1518.22 L1818.79 1518.22 L1818.79 1526.7 Q1819.8 1526.35 1820.82 1526.19 Q1821.84 1526 1822.86 1526 Q1828.65 1526 1832.03 1529.17 Q1835.41 1532.34 1835.41 1537.76 Q1835.41 1543.34 1831.93 1546.44 Q1828.46 1549.52 1822.14 1549.52 Q1819.97 1549.52 1817.7 1549.15 Q1815.45 1548.78 1813.05 1548.04 L1813.05 1543.34 Q1815.13 1544.47 1817.35 1545.03 Q1819.57 1545.58 1822.05 1545.58 Q1826.05 1545.58 1828.39 1543.48 Q1830.73 1541.37 1830.73 1537.76 Q1830.73 1534.15 1828.39 1532.04 Q1826.05 1529.94 1822.05 1529.94 Q1820.17 1529.94 1818.3 1530.35 Q1816.45 1530.77 1814.5 1531.65 L1814.5 1514.29 Z\" fill=\"#000000\" fill-rule=\"evenodd\" fill-opacity=\"1\" /><path clip-path=\"url(#clip410)\" d=\"M2319.91 1544.91 L2327.55 1544.91 L2327.55 1518.55 L2319.24 1520.21 L2319.24 1515.95 L2327.5 1514.29 L2332.18 1514.29 L2332.18 1544.91 L2339.82 1544.91 L2339.82 1548.85 L2319.91 1548.85 L2319.91 1544.91 Z\" fill=\"#000000\" fill-rule=\"evenodd\" fill-opacity=\"1\" /><path clip-path=\"url(#clip410)\" d=\"M2349.26 1542.97 L2354.14 1542.97 L2354.14 1548.85 L2349.26 1548.85 L2349.26 1542.97 Z\" fill=\"#000000\" fill-rule=\"evenodd\" fill-opacity=\"1\" /><path clip-path=\"url(#clip410)\" d=\"M2374.33 1517.37 Q2370.72 1517.37 2368.89 1520.93 Q2367.08 1524.47 2367.08 1531.6 Q2367.08 1538.71 2368.89 1542.27 Q2370.72 1545.82 2374.33 1545.82 Q2377.96 1545.82 2379.77 1542.27 Q2381.6 1538.71 2381.6 1531.6 Q2381.6 1524.47 2379.77 1520.93 Q2377.96 1517.37 2374.33 1517.37 M2374.33 1513.66 Q2380.14 1513.66 2383.2 1518.27 Q2386.27 1522.85 2386.27 1531.6 Q2386.27 1540.33 2383.2 1544.94 Q2380.14 1549.52 2374.33 1549.52 Q2368.52 1549.52 2365.44 1544.94 Q2362.39 1540.33 2362.39 1531.6 Q2362.39 1522.85 2365.44 1518.27 Q2368.52 1513.66 2374.33 1513.66 Z\" fill=\"#000000\" fill-rule=\"evenodd\" fill-opacity=\"1\" /><polyline clip-path=\"url(#clip412)\" style=\"stroke:#000000; stroke-linecap:round; stroke-linejoin:round; stroke-width:2; stroke-opacity:0.1; fill:none\" points=\"\n",
       "  147.108,1462.24 2352.76,1462.24 \n",
       "  \"/>\n",
       "<polyline clip-path=\"url(#clip412)\" style=\"stroke:#000000; stroke-linecap:round; stroke-linejoin:round; stroke-width:2; stroke-opacity:0.1; fill:none\" points=\"\n",
       "  147.108,1121.75 2352.76,1121.75 \n",
       "  \"/>\n",
       "<polyline clip-path=\"url(#clip412)\" style=\"stroke:#000000; stroke-linecap:round; stroke-linejoin:round; stroke-width:2; stroke-opacity:0.1; fill:none\" points=\"\n",
       "  147.108,781.258 2352.76,781.258 \n",
       "  \"/>\n",
       "<polyline clip-path=\"url(#clip412)\" style=\"stroke:#000000; stroke-linecap:round; stroke-linejoin:round; stroke-width:2; stroke-opacity:0.1; fill:none\" points=\"\n",
       "  147.108,440.767 2352.76,440.767 \n",
       "  \"/>\n",
       "<polyline clip-path=\"url(#clip412)\" style=\"stroke:#000000; stroke-linecap:round; stroke-linejoin:round; stroke-width:2; stroke-opacity:0.1; fill:none\" points=\"\n",
       "  147.108,100.275 2352.76,100.275 \n",
       "  \"/>\n",
       "<polyline clip-path=\"url(#clip410)\" style=\"stroke:#000000; stroke-linecap:round; stroke-linejoin:round; stroke-width:4; stroke-opacity:1; fill:none\" points=\"\n",
       "  147.108,1486.45 147.108,47.2441 \n",
       "  \"/>\n",
       "<polyline clip-path=\"url(#clip410)\" style=\"stroke:#000000; stroke-linecap:round; stroke-linejoin:round; stroke-width:4; stroke-opacity:1; fill:none\" points=\"\n",
       "  147.108,1462.24 166.005,1462.24 \n",
       "  \"/>\n",
       "<polyline clip-path=\"url(#clip410)\" style=\"stroke:#000000; stroke-linecap:round; stroke-linejoin:round; stroke-width:4; stroke-opacity:1; fill:none\" points=\"\n",
       "  147.108,1121.75 166.005,1121.75 \n",
       "  \"/>\n",
       "<polyline clip-path=\"url(#clip410)\" style=\"stroke:#000000; stroke-linecap:round; stroke-linejoin:round; stroke-width:4; stroke-opacity:1; fill:none\" points=\"\n",
       "  147.108,781.258 166.005,781.258 \n",
       "  \"/>\n",
       "<polyline clip-path=\"url(#clip410)\" style=\"stroke:#000000; stroke-linecap:round; stroke-linejoin:round; stroke-width:4; stroke-opacity:1; fill:none\" points=\"\n",
       "  147.108,440.767 166.005,440.767 \n",
       "  \"/>\n",
       "<polyline clip-path=\"url(#clip410)\" style=\"stroke:#000000; stroke-linecap:round; stroke-linejoin:round; stroke-width:4; stroke-opacity:1; fill:none\" points=\"\n",
       "  147.108,100.275 166.005,100.275 \n",
       "  \"/>\n",
       "<path clip-path=\"url(#clip410)\" d=\"M50.9921 1462.69 L80.6679 1462.69 L80.6679 1466.63 L50.9921 1466.63 L50.9921 1462.69 Z\" fill=\"#000000\" fill-rule=\"evenodd\" fill-opacity=\"1\" /><path clip-path=\"url(#clip410)\" d=\"M94.7882 1475.58 L111.108 1475.58 L111.108 1479.52 L89.1632 1479.52 L89.1632 1475.58 Q91.8252 1472.83 96.4085 1468.2 Q101.015 1463.55 102.196 1462.2 Q104.441 1459.68 105.321 1457.95 Q106.223 1456.19 106.223 1454.5 Q106.223 1451.74 104.279 1450.01 Q102.358 1448.27 99.2558 1448.27 Q97.0567 1448.27 94.603 1449.03 Q92.1725 1449.8 89.3947 1451.35 L89.3947 1446.63 Q92.2188 1445.49 94.6724 1444.91 Q97.1261 1444.33 99.1632 1444.33 Q104.534 1444.33 107.728 1447.02 Q110.922 1449.7 110.922 1454.2 Q110.922 1456.33 110.112 1458.25 Q109.325 1460.14 107.219 1462.74 Q106.64 1463.41 103.538 1466.63 Q100.436 1469.82 94.7882 1475.58 Z\" fill=\"#000000\" fill-rule=\"evenodd\" fill-opacity=\"1\" /><path clip-path=\"url(#clip410)\" d=\"M99.1632 1107.55 Q95.5521 1107.55 93.7234 1111.11 Q91.9178 1114.65 91.9178 1121.78 Q91.9178 1128.89 93.7234 1132.45 Q95.5521 1136 99.1632 1136 Q102.797 1136 104.603 1132.45 Q106.432 1128.89 106.432 1121.78 Q106.432 1114.65 104.603 1111.11 Q102.797 1107.55 99.1632 1107.55 M99.1632 1103.84 Q104.973 1103.84 108.029 1108.45 Q111.108 1113.03 111.108 1121.78 Q111.108 1130.51 108.029 1135.12 Q104.973 1139.7 99.1632 1139.7 Q93.353 1139.7 90.2743 1135.12 Q87.2188 1130.51 87.2188 1121.78 Q87.2188 1113.03 90.2743 1108.45 Q93.353 1103.84 99.1632 1103.84 Z\" fill=\"#000000\" fill-rule=\"evenodd\" fill-opacity=\"1\" /><path clip-path=\"url(#clip410)\" d=\"M94.7882 794.602 L111.108 794.602 L111.108 798.538 L89.1632 798.538 L89.1632 794.602 Q91.8252 791.848 96.4085 787.218 Q101.015 782.565 102.196 781.223 Q104.441 778.7 105.321 776.964 Q106.223 775.204 106.223 773.514 Q106.223 770.76 104.279 769.024 Q102.358 767.288 99.2558 767.288 Q97.0567 767.288 94.603 768.052 Q92.1725 768.815 89.3947 770.366 L89.3947 765.644 Q92.2188 764.51 94.6724 763.931 Q97.1261 763.353 99.1632 763.353 Q104.534 763.353 107.728 766.038 Q110.922 768.723 110.922 773.214 Q110.922 775.343 110.112 777.264 Q109.325 779.163 107.219 781.755 Q106.64 782.426 103.538 785.644 Q100.436 788.838 94.7882 794.602 Z\" fill=\"#000000\" fill-rule=\"evenodd\" fill-opacity=\"1\" /><path clip-path=\"url(#clip410)\" d=\"M101.524 427.561 L89.7188 446.01 L101.524 446.01 L101.524 427.561 M100.297 423.487 L106.177 423.487 L106.177 446.01 L111.108 446.01 L111.108 449.898 L106.177 449.898 L106.177 458.047 L101.524 458.047 L101.524 449.898 L85.9225 449.898 L85.9225 445.385 L100.297 423.487 Z\" fill=\"#000000\" fill-rule=\"evenodd\" fill-opacity=\"1\" /><path clip-path=\"url(#clip410)\" d=\"M99.5798 98.4121 Q96.4317 98.4121 94.5799 100.565 Q92.7512 102.718 92.7512 106.468 Q92.7512 110.194 94.5799 112.37 Q96.4317 114.523 99.5798 114.523 Q102.728 114.523 104.557 112.37 Q106.408 110.194 106.408 106.468 Q106.408 102.718 104.557 100.565 Q102.728 98.4121 99.5798 98.4121 M108.862 83.7594 L108.862 88.0186 Q107.103 87.1853 105.297 86.7455 Q103.515 86.3057 101.756 86.3057 Q97.1261 86.3057 94.6724 89.4306 Q92.2419 92.5556 91.8947 98.875 Q93.2604 96.8612 95.3206 95.7964 Q97.3808 94.7084 99.8576 94.7084 Q105.066 94.7084 108.075 97.8797 Q111.108 101.028 111.108 106.468 Q111.108 111.792 107.959 115.009 Q104.811 118.227 99.5798 118.227 Q93.5845 118.227 90.4132 113.643 Q87.2419 109.037 87.2419 100.31 Q87.2419 92.1158 91.1308 87.2547 Q95.0197 82.3705 101.571 82.3705 Q103.33 82.3705 105.112 82.7177 Q106.918 83.0649 108.862 83.7594 Z\" fill=\"#000000\" fill-rule=\"evenodd\" fill-opacity=\"1\" /><circle clip-path=\"url(#clip412)\" cx=\"257.39\" cy=\"951.503\" r=\"28.8\" fill=\"#009af9\" fill-rule=\"evenodd\" fill-opacity=\"1\" stroke=\"#000000\" stroke-opacity=\"1\" stroke-width=\"3.2\"/>\n",
       "<circle clip-path=\"url(#clip412)\" cx=\"1360.21\" cy=\"713.159\" r=\"28.8\" fill=\"#009af9\" fill-rule=\"evenodd\" fill-opacity=\"1\" stroke=\"#000000\" stroke-opacity=\"1\" stroke-width=\"3.2\"/>\n",
       "<circle clip-path=\"url(#clip412)\" cx=\"1801.34\" cy=\"1155.8\" r=\"28.8\" fill=\"#009af9\" fill-rule=\"evenodd\" fill-opacity=\"1\" stroke=\"#000000\" stroke-opacity=\"1\" stroke-width=\"3.2\"/>\n",
       "<circle clip-path=\"url(#clip412)\" cx=\"2132.19\" cy=\"900.429\" r=\"28.8\" fill=\"#009af9\" fill-rule=\"evenodd\" fill-opacity=\"1\" stroke=\"#000000\" stroke-opacity=\"1\" stroke-width=\"3.2\"/>\n",
       "<polyline clip-path=\"url(#clip412)\" style=\"stroke:#e26f46; stroke-linecap:round; stroke-linejoin:round; stroke-width:16; stroke-opacity:1; fill:none\" stroke-dasharray=\"64, 40\" points=\"\n",
       "  147.108,1445.72 192.121,1228.01 237.134,1032.49 282.147,858.251 327.16,704.393 372.174,570.012 417.187,454.209 462.2,356.08 507.213,274.724 552.227,209.239 \n",
       "  597.24,158.724 642.253,122.276 687.266,98.9942 732.28,87.9763 777.293,88.3205 822.306,99.1252 867.319,119.488 912.332,148.508 957.346,185.283 1002.36,228.912 \n",
       "  1047.37,278.491 1092.39,333.12 1137.4,391.897 1182.41,453.92 1227.43,518.288 1272.44,584.097 1317.45,650.447 1362.46,716.436 1407.48,781.162 1452.49,843.723 \n",
       "  1497.5,903.218 1542.52,958.744 1587.53,1009.4 1632.54,1054.28 1677.56,1092.49 1722.57,1123.13 1767.58,1145.29 1812.6,1158.06 1857.61,1160.56 1902.62,1151.87 \n",
       "  1947.64,1131.1 1992.65,1097.35 2037.66,1049.7 2082.68,987.267 2127.69,909.14 2172.7,814.419 2217.72,702.203 2262.73,571.59 2307.74,421.678 2352.76,251.565 \n",
       "  \n",
       "  \"/>\n",
       "<path clip-path=\"url(#clip410)\" d=\"\n",
       "M1851.87 328.498 L2279.23 328.498 L2279.23 95.2176 L1851.87 95.2176  Z\n",
       "  \" fill=\"#ffffff\" fill-rule=\"evenodd\" fill-opacity=\"1\"/>\n",
       "<polyline clip-path=\"url(#clip410)\" style=\"stroke:#000000; stroke-linecap:round; stroke-linejoin:round; stroke-width:4; stroke-opacity:1; fill:none\" points=\"\n",
       "  1851.87,328.498 2279.23,328.498 2279.23,95.2176 1851.87,95.2176 1851.87,328.498 \n",
       "  \"/>\n",
       "<circle clip-path=\"url(#clip410)\" cx=\"1949.9\" cy=\"172.978\" r=\"34.56\" fill=\"#009af9\" fill-rule=\"evenodd\" fill-opacity=\"1\" stroke=\"#000000\" stroke-opacity=\"1\" stroke-width=\"3.84\"/>\n",
       "<path clip-path=\"url(#clip410)\" d=\"M2068.69 202.509 Q2065.99 209.453 2063.42 211.571 Q2060.85 213.689 2056.54 213.689 L2051.44 213.689 L2051.44 208.342 L2055.19 208.342 Q2057.83 208.342 2059.28 207.092 Q2060.74 205.842 2062.51 201.189 L2063.66 198.273 L2047.93 160.009 L2054.7 160.009 L2066.85 190.425 L2079.01 160.009 L2085.78 160.009 L2068.69 202.509 Z\" fill=\"#000000\" fill-rule=\"evenodd\" fill-opacity=\"1\" /><path clip-path=\"url(#clip410)\" d=\"M2096.71 192.995 L2108.17 192.995 L2108.17 153.446 L2095.71 155.946 L2095.71 149.558 L2108.1 147.058 L2115.12 147.058 L2115.12 192.995 L2126.58 192.995 L2126.58 198.898 L2096.71 198.898 L2096.71 192.995 Z\" fill=\"#000000\" fill-rule=\"evenodd\" fill-opacity=\"1\" /><polyline clip-path=\"url(#clip410)\" style=\"stroke:#e26f46; stroke-linecap:round; stroke-linejoin:round; stroke-width:6; stroke-opacity:1; fill:none\" stroke-dasharray=\"24, 15\" points=\"\n",
       "  1876.38,250.738 2023.42,250.738 \n",
       "  \"/>\n",
       "<path clip-path=\"url(#clip410)\" d=\"M2099.23 220.284 Q2099.15 221.584 2098.28 221.654 Q2096.94 221.725 2096.13 221.9 Q2095.33 222.041 2094.06 222.568 Q2092.8 223.095 2091.57 224.36 Q2090.34 225.625 2089.07 227.627 L2063.18 268.839 Q2062.72 269.612 2062.33 269.858 Q2061.98 270.139 2061.18 270.139 Q2060.44 270.139 2060.16 269.823 Q2059.88 269.542 2059.73 268.488 L2054.04 224.079 Q2053.94 223.271 2053.83 222.919 Q2053.73 222.568 2053.31 222.217 Q2052.92 221.865 2052.08 221.76 Q2051.23 221.654 2049.72 221.654 Q2049.02 221.654 2048.7 221.619 Q2048.42 221.584 2048.18 221.408 Q2047.93 221.198 2047.93 220.776 Q2047.93 220.144 2048.18 219.827 Q2048.46 219.476 2048.67 219.441 Q2048.91 219.406 2049.3 219.406 Q2049.9 219.406 2051.2 219.476 Q2052.5 219.546 2053.16 219.546 Q2053.8 219.546 2055.13 219.582 Q2056.47 219.617 2057.13 219.617 Q2058.61 219.617 2061.6 219.511 Q2064.62 219.406 2066.06 219.406 Q2067.04 219.406 2067.04 220.214 Q2067.04 221.198 2066.62 221.444 Q2066.2 221.654 2065.25 221.654 Q2062.86 221.654 2061.56 222.252 Q2060.3 222.849 2060.3 223.798 L2065.18 261.882 L2087.28 226.749 Q2088.37 225.098 2088.37 224.008 Q2088.37 221.9 2085.03 221.654 Q2083.91 221.654 2083.91 220.776 Q2083.91 220.144 2084.19 219.827 Q2084.47 219.476 2084.68 219.441 Q2084.93 219.406 2085.28 219.406 Q2086.44 219.406 2088.79 219.511 Q2091.18 219.617 2092.37 219.617 Q2093.36 219.617 2095.36 219.511 Q2097.36 219.406 2098.28 219.406 Q2099.23 219.406 2099.23 220.284 Z\" fill=\"#000000\" fill-rule=\"evenodd\" fill-opacity=\"1\" /><path clip-path=\"url(#clip410)\" d=\"M2108.74 250.569 Q2108.74 238.413 2113.27 228.611 Q2115.2 224.5 2117.91 221.057 Q2120.61 217.614 2122.41 216.103 Q2124.2 214.593 2124.69 214.593 Q2125.39 214.593 2125.43 215.295 Q2125.43 215.647 2124.48 216.525 Q2112.89 228.33 2112.92 250.569 Q2112.92 272.879 2124.2 284.227 Q2125.43 285.457 2125.43 285.844 Q2125.43 286.546 2124.69 286.546 Q2124.2 286.546 2122.48 285.106 Q2120.76 283.665 2118.09 280.363 Q2115.41 277.06 2113.48 273.02 Q2108.74 263.218 2108.74 250.569 Z\" fill=\"#000000\" fill-rule=\"evenodd\" fill-opacity=\"1\" /><path clip-path=\"url(#clip410)\" d=\"M2166.73 241.505 Q2166.73 243.472 2165.5 244.597 Q2164.27 245.686 2162.87 245.686 Q2161.53 245.686 2160.83 244.913 Q2160.13 244.14 2160.13 243.156 Q2160.13 241.821 2161.11 240.662 Q2162.1 239.502 2163.57 239.256 Q2162.13 238.343 2159.99 238.343 Q2158.58 238.343 2157.35 239.081 Q2156.16 239.819 2155.42 240.767 Q2154.72 241.716 2154.09 243.086 Q2153.49 244.421 2153.24 245.229 Q2153.03 246.002 2152.86 246.845 L2150.4 256.683 Q2149.2 261.355 2149.2 263.007 Q2149.2 265.044 2150.19 266.415 Q2151.17 267.75 2153.14 267.75 Q2153.91 267.75 2154.79 267.539 Q2155.67 267.293 2156.79 266.661 Q2157.95 265.993 2158.97 265.009 Q2160.02 263.99 2161.04 262.269 Q2162.06 260.547 2162.73 258.334 Q2162.94 257.561 2163.64 257.561 Q2164.52 257.561 2164.52 258.264 Q2164.52 258.861 2164.03 260.126 Q2163.57 261.355 2162.55 262.972 Q2161.57 264.553 2160.27 265.993 Q2158.97 267.398 2157.04 268.382 Q2155.1 269.366 2153 269.366 Q2149.97 269.366 2147.97 267.75 Q2145.97 266.134 2145.23 263.885 Q2145.06 264.201 2144.81 264.623 Q2144.56 265.044 2143.83 265.993 Q2143.12 266.907 2142.32 267.609 Q2141.51 268.277 2140.24 268.804 Q2139.01 269.366 2137.68 269.366 Q2135.99 269.366 2134.48 268.874 Q2133 268.382 2131.95 267.258 Q2130.9 266.134 2130.9 264.588 Q2130.9 262.866 2132.06 261.672 Q2133.25 260.442 2134.87 260.442 Q2135.89 260.442 2136.69 261.039 Q2137.54 261.637 2137.54 262.936 Q2137.54 264.377 2136.55 265.466 Q2135.57 266.555 2134.16 266.836 Q2135.6 267.75 2137.75 267.75 Q2140.07 267.75 2141.89 265.712 Q2143.72 263.674 2144.6 260.266 Q2146.78 252.08 2147.62 248.426 Q2148.46 244.737 2148.46 243.156 Q2148.46 241.681 2148.08 240.662 Q2147.69 239.643 2147.02 239.186 Q2146.39 238.694 2145.79 238.519 Q2145.23 238.343 2144.6 238.343 Q2143.54 238.343 2142.35 238.765 Q2141.19 239.186 2139.79 240.17 Q2138.42 241.118 2137.12 243.086 Q2135.82 245.053 2134.94 247.759 Q2134.76 248.567 2133.99 248.567 Q2133.15 248.532 2133.15 247.829 Q2133.15 247.232 2133.6 246.002 Q2134.09 244.737 2135.08 243.156 Q2136.1 241.575 2137.4 240.17 Q2138.73 238.729 2140.66 237.746 Q2142.63 236.762 2144.74 236.762 Q2145.69 236.762 2146.6 236.973 Q2147.55 237.148 2148.67 237.675 Q2149.83 238.202 2150.85 239.362 Q2151.87 240.521 2152.5 242.208 Q2152.93 241.4 2153.49 240.627 Q2154.09 239.854 2155 238.905 Q2155.95 237.921 2157.25 237.359 Q2158.58 236.762 2160.06 236.762 Q2161.5 236.762 2162.9 237.148 Q2164.31 237.5 2165.5 238.659 Q2166.73 239.783 2166.73 241.505 Z\" fill=\"#000000\" fill-rule=\"evenodd\" fill-opacity=\"1\" /><path clip-path=\"url(#clip410)\" d=\"M2173.66 285.844 Q2173.66 285.492 2174.57 284.614 Q2186.17 272.809 2186.17 250.569 Q2186.17 228.26 2175.03 216.982 Q2173.66 215.682 2173.66 215.295 Q2173.66 214.593 2174.36 214.593 Q2174.86 214.593 2176.58 216.033 Q2178.33 217.474 2180.97 220.776 Q2183.64 224.079 2185.61 228.119 Q2190.35 237.921 2190.35 250.569 Q2190.35 262.726 2185.82 272.528 Q2183.88 276.639 2181.18 280.082 Q2178.47 283.525 2176.68 285.036 Q2174.89 286.546 2174.36 286.546 Q2173.66 286.546 2173.66 285.844 Z\" fill=\"#000000\" fill-rule=\"evenodd\" fill-opacity=\"1\" /><path clip-path=\"url(#clip410)\" d=\"M2231.97 248.251 Q2231.97 253.38 2229.37 258.334 Q2226.81 263.288 2222.77 266.344 Q2218.73 269.366 2214.62 269.366 Q2212.16 269.366 2210.5 268.031 Q2208.89 266.661 2208.01 264.728 Q2207.34 267.117 2205.9 272.844 Q2204.46 278.571 2204.46 279.133 Q2204.46 279.449 2204.53 279.59 Q2204.6 279.73 2204.92 279.906 Q2205.23 280.117 2206.01 280.187 Q2206.78 280.293 2208.08 280.293 Q2208.75 280.293 2208.99 280.293 Q2209.27 280.328 2209.52 280.503 Q2209.8 280.679 2209.8 281.065 Q2209.8 282.506 2208.5 282.506 Q2207.34 282.506 2204.95 282.401 Q2202.56 282.295 2201.37 282.295 Q2200.35 282.295 2198.31 282.401 Q2196.28 282.506 2195.33 282.506 Q2194.38 282.506 2194.38 281.663 Q2194.38 281.171 2194.52 280.855 Q2194.62 280.574 2194.91 280.433 Q2195.19 280.328 2195.43 280.293 Q2195.64 280.293 2196.06 280.293 Q2197.68 280.293 2198.38 280.011 Q2199.09 279.766 2199.33 279.239 Q2199.61 278.747 2199.93 277.341 L2208.01 245.299 Q2208.5 243.156 2208.5 241.645 Q2208.5 239.748 2207.9 239.046 Q2207.31 238.343 2206.25 238.343 Q2204.43 238.343 2203.23 240.521 Q2202.04 242.699 2201.02 246.916 Q2200.7 248.075 2200.49 248.321 Q2200.32 248.567 2199.79 248.567 Q2198.91 248.532 2198.91 247.829 Q2198.91 247.653 2199.19 246.529 Q2199.47 245.37 2200 243.683 Q2200.56 241.962 2201.16 240.873 Q2201.51 240.135 2201.83 239.643 Q2202.14 239.151 2202.78 238.378 Q2203.44 237.605 2204.39 237.184 Q2205.34 236.762 2206.5 236.762 Q2208.75 236.762 2210.61 238.097 Q2212.47 239.432 2212.96 242.137 Q2214.97 239.783 2217.43 238.273 Q2219.89 236.762 2222.38 236.762 Q2226.53 236.762 2229.23 239.994 Q2231.97 243.191 2231.97 248.251 M2226.77 245.089 Q2226.77 241.891 2225.54 240.135 Q2224.35 238.343 2222.17 238.343 Q2219.46 238.343 2216.34 241.083 Q2213.25 243.683 2212.61 246.107 L2209.06 260.196 L2208.85 261.355 Q2208.85 261.566 2208.96 262.199 Q2209.1 262.796 2209.49 263.78 Q2209.91 264.763 2210.47 265.642 Q2211.07 266.485 2212.12 267.117 Q2213.21 267.75 2214.55 267.75 Q2216.69 267.75 2219.01 265.853 Q2221.36 263.955 2223.12 260.372 Q2224.21 258.053 2225.47 253.064 Q2226.77 248.04 2226.77 245.089 Z\" fill=\"#000000\" fill-rule=\"evenodd\" fill-opacity=\"1\" /></svg>\n"
      ]
     },
     "execution_count": 157,
     "metadata": {},
     "output_type": "execute_result"
    }
   ],
   "source": [
    "V = vander(x1)\n",
    "@show size(V)\n",
    "p = V \\ y1 # write y1 in the polynomial basis\n",
    "scatter(x1, y1, markersize=8, xlims=(-1, 1))\n",
    "#plot!(P(p), label=\"P(p)\")\n",
    "plot!(x, vander(x, 4) * p, label=\"\\$ V(x) p\\$\", linestyle=:dash)"
   ]
  },
  {
   "cell_type": "markdown",
   "id": "17d2ea90",
   "metadata": {
    "slideshow": {
     "slide_type": "slide"
    }
   },
   "source": [
    "# Some common terminology\n",
    "\n",
    "* The **range** of $A$ is the space spanned by its columns.  This definition coincides with the range of a function $f(x)$ when $f(x) = A x$.\n",
    "* The (right) **nullspace** of $A$ is the space of vectors $x$ such that $A x = 0$.\n",
    "* The **rank** of $A$ is the dimension of its range.\n",
    "* A matrix has **full rank** if the nullspace of either $A$ or $A^T$ is empty (only the 0 vector).  Equivalently, if all the columns of $A$ (or $A^T$) are linearly independent.\n",
    "* A **nonsingular** (or **invertible**) matrix is a square matrix of full rank.  We call the inverse $A^{-1}$ and it satisfies $A^{-1} A = A A^{-1} = I$."
   ]
  },
  {
   "cell_type": "markdown",
   "id": "e5269948",
   "metadata": {
    "cell_style": "split",
    "slideshow": {
     "slide_type": "slide"
    }
   },
   "source": [
    "$\\DeclareMathOperator{\\rank}{rank} \\DeclareMathOperator{\\null}{null} $\n",
    "If $A \\in \\mathbb{R}^{m\\times m}$, which of these doesn't belong?\n",
    "1. $A$ has an inverse $A^{-1}$\n",
    "2. $\\rank (A) = m$\n",
    "3. $\\null(A) = \\{0\\}$\n",
    "4. $A A^T = A^T A$\n",
    "5. $\\det(A) \\ne 0$\n",
    "6. $A x = 0$ implies that $x = 0$"
   ]
  },
  {
   "cell_type": "code",
   "execution_count": 175,
   "id": "ecf60702",
   "metadata": {
    "cell_style": "split",
    "slideshow": {
     "slide_type": "fragment"
    }
   },
   "outputs": [
    {
     "name": "stdout",
     "output_type": "stream",
     "text": [
      "B = [0.2859982396934353 0.18759449524491867 -0.7832430558205019 1.2373350539578114; 0.18759449524491867 0.21064667505832912 -0.2917719197468648 0.966000242620058; -0.7832430558205019 -0.2917719197468648 -1.9014318752756914 -0.15443864588241019; 1.2373350539578114 0.966000242620058 -0.15443864588241019 1.404786960523927]\n"
     ]
    },
    {
     "data": {
      "text/plain": [
       "-0.03744462855916495"
      ]
     },
     "execution_count": 175,
     "metadata": {},
     "output_type": "execute_result"
    }
   ],
   "source": [
    "A = rand(4, 4)\n",
    "B = A' * A - A * A'\n",
    "@show B\n",
    "det(A)"
   ]
  },
  {
   "cell_type": "markdown",
   "id": "efa97478",
   "metadata": {
    "slideshow": {
     "slide_type": "slide"
    }
   },
   "source": [
    "# What is an inverse?\n",
    "\n",
    "When we write $x = A^{-1} y$, we mean that $x$ is the unique vector such that $A x = y$.\n",
    "(It is rare that we explicitly compute a matrix $A^{-1}$, though [it's not as \"bad\"](https://arxiv.org/abs/1201.6035) as people may have told you.)\n",
    "A vector $y$ is equivalent to $\\sum_i e_i y_i$ where $e_i$ are columns of the identity.\n",
    "Meanwhile, $x = A^{-1} y$ means that we are expressing that same vector $y$ in the basis of the columns of $A$, i.e., $\\sum_i A_{:,i} x_i$.\n"
   ]
  },
  {
   "cell_type": "code",
   "execution_count": 21,
   "id": "f44d4a40",
   "metadata": {
    "cell_style": "split"
   },
   "outputs": [
    {
     "data": {
      "text/plain": [
       "4×4 Matrix{Float64}:\n",
       " 0.979985  0.360392   0.184604   0.846419\n",
       " 0.897927  0.207376   0.578949   0.852997\n",
       " 0.684921  0.88859    0.672726   0.080342\n",
       " 0.513169  0.0925713  0.0562695  0.587593"
      ]
     },
     "execution_count": 21,
     "metadata": {},
     "output_type": "execute_result"
    }
   ],
   "source": [
    "using LinearAlgebra\n",
    "A = rand(4, 4)"
   ]
  },
  {
   "cell_type": "code",
   "execution_count": 22,
   "id": "6d5610a3",
   "metadata": {
    "cell_style": "split"
   },
   "outputs": [
    {
     "data": {
      "text/plain": [
       "4×4 Matrix{Float64}:\n",
       " 1.0          0.0  0.0   2.93245e-16\n",
       " 3.06357e-16  1.0  0.0  -1.91637e-16\n",
       " 5.05927e-17  0.0  1.0   2.02222e-17\n",
       " 2.18191e-16  0.0  0.0   1.0"
      ]
     },
     "execution_count": 22,
     "metadata": {},
     "output_type": "execute_result"
    }
   ],
   "source": [
    "A \\ A"
   ]
  },
  {
   "cell_type": "code",
   "execution_count": 23,
   "id": "33f6511a",
   "metadata": {
    "cell_style": "split"
   },
   "outputs": [
    {
     "data": {
      "text/plain": [
       "4×4 Matrix{Float64}:\n",
       "  1.0          -2.48484e-16  -3.63082e-16   1.05015e-15\n",
       "  1.1956e-16    1.0          -2.93023e-16  -1.03256e-15\n",
       " -3.04166e-17   1.22352e-16   1.0           2.82565e-16\n",
       "  2.55657e-16  -1.42748e-16  -1.54536e-16   1.0"
      ]
     },
     "execution_count": 23,
     "metadata": {},
     "output_type": "execute_result"
    }
   ],
   "source": [
    "inv(A) * A"
   ]
  },
  {
   "cell_type": "markdown",
   "id": "7a8eb495",
   "metadata": {
    "slideshow": {
     "slide_type": "slide"
    }
   },
   "source": [
    "# Inner products and orthogonality\n",
    "\n",
    "The **inner product**\n",
    "$$ x^T y = \\sum_i x_i y_i $$\n",
    "of vectors (or columns of a matrix) tell us about their magnitude and about the angle.\n",
    "The **norm** is induced by the inner product,\n",
    "$$ \\lVert x \\rVert = \\sqrt{x^T x} $$\n",
    "and the angle $\\theta$ is defined by\n",
    "$$ \\cos \\theta = \\frac{x^T y}{\\lVert x \\rVert \\, \\lVert y \\rVert} . $$\n",
    "Inner products are **bilinear**, which means that they satisfy some convenient algebraic properties\n",
    "$$ \\begin{split}\n",
    "(x + y)^T z &= x^T z + y^T z \\\\\n",
    "x^T (y + z) &= x^T y + x^T z \\\\\n",
    "(\\alpha x)^T (\\beta y) &= \\alpha \\beta x^T y \\\\\n",
    "\\end{split} . $$"
   ]
  },
  {
   "cell_type": "markdown",
   "id": "343e1be5",
   "metadata": {
    "slideshow": {
     "slide_type": "slide"
    }
   },
   "source": [
    "# Examples with inner products"
   ]
  },
  {
   "cell_type": "code",
   "execution_count": 24,
   "id": "8d795390",
   "metadata": {
    "cell_style": "split"
   },
   "outputs": [
    {
     "name": "stdout",
     "output_type": "stream",
     "text": [
      "x' * y = 1\n",
      "y' * x = 1\n"
     ]
    }
   ],
   "source": [
    "x = [0, 1]\n",
    "y = [1, 1]\n",
    "@show x' * y\n",
    "@show y' * x;"
   ]
  },
  {
   "cell_type": "code",
   "execution_count": 25,
   "id": "58505af3",
   "metadata": {
    "cell_style": "split"
   },
   "outputs": [
    {
     "name": "stdout",
     "output_type": "stream",
     "text": [
      "cos_θ = 0.49999999999999994\n",
      "cos(ϕ - pi / 2) = 0.4999999999999999\n"
     ]
    }
   ],
   "source": [
    "ϕ = pi/6\n",
    "y = [cos(ϕ), sin(ϕ)]\n",
    "cos_θ = x'*y / (norm(x) * norm(y))\n",
    "@show cos_θ\n",
    "@show cos(ϕ-pi/2);"
   ]
  },
  {
   "cell_type": "markdown",
   "id": "239ef511",
   "metadata": {
    "slideshow": {
     "slide_type": "slide"
    }
   },
   "source": [
    "# Polynomials can be orthogonal too!\n"
   ]
  },
  {
   "cell_type": "code",
   "execution_count": 26,
   "id": "95341495",
   "metadata": {
    "cell_style": "split"
   },
   "outputs": [
    {
     "data": {
      "image/svg+xml": [
       "<?xml version=\"1.0\" encoding=\"utf-8\"?>\n",
       "<svg xmlns=\"http://www.w3.org/2000/svg\" xmlns:xlink=\"http://www.w3.org/1999/xlink\" width=\"600\" height=\"400\" viewBox=\"0 0 2400 1600\">\n",
       "<defs>\n",
       "  <clipPath id=\"clip770\">\n",
       "    <rect x=\"0\" y=\"0\" width=\"2400\" height=\"1600\"/>\n",
       "  </clipPath>\n",
       "</defs>\n",
       "<path clip-path=\"url(#clip770)\" d=\"\n",
       "M0 1600 L2400 1600 L2400 0 L0 0  Z\n",
       "  \" fill=\"#ffffff\" fill-rule=\"evenodd\" fill-opacity=\"1\"/>\n",
       "<defs>\n",
       "  <clipPath id=\"clip771\">\n",
       "    <rect x=\"480\" y=\"0\" width=\"1681\" height=\"1600\"/>\n",
       "  </clipPath>\n",
       "</defs>\n",
       "<path clip-path=\"url(#clip770)\" d=\"\n",
       "M193.936 1486.45 L2352.76 1486.45 L2352.76 47.2441 L193.936 47.2441  Z\n",
       "  \" fill=\"#ffffff\" fill-rule=\"evenodd\" fill-opacity=\"1\"/>\n",
       "<defs>\n",
       "  <clipPath id=\"clip772\">\n",
       "    <rect x=\"193\" y=\"47\" width=\"2160\" height=\"1440\"/>\n",
       "  </clipPath>\n",
       "</defs>\n",
       "<polyline clip-path=\"url(#clip772)\" style=\"stroke:#000000; stroke-linecap:round; stroke-linejoin:round; stroke-width:2; stroke-opacity:0.1; fill:none\" points=\"\n",
       "  255.035,1486.45 255.035,47.2441 \n",
       "  \"/>\n",
       "<polyline clip-path=\"url(#clip772)\" style=\"stroke:#000000; stroke-linecap:round; stroke-linejoin:round; stroke-width:2; stroke-opacity:0.1; fill:none\" points=\"\n",
       "  764.19,1486.45 764.19,47.2441 \n",
       "  \"/>\n",
       "<polyline clip-path=\"url(#clip772)\" style=\"stroke:#000000; stroke-linecap:round; stroke-linejoin:round; stroke-width:2; stroke-opacity:0.1; fill:none\" points=\"\n",
       "  1273.35,1486.45 1273.35,47.2441 \n",
       "  \"/>\n",
       "<polyline clip-path=\"url(#clip772)\" style=\"stroke:#000000; stroke-linecap:round; stroke-linejoin:round; stroke-width:2; stroke-opacity:0.1; fill:none\" points=\"\n",
       "  1782.5,1486.45 1782.5,47.2441 \n",
       "  \"/>\n",
       "<polyline clip-path=\"url(#clip772)\" style=\"stroke:#000000; stroke-linecap:round; stroke-linejoin:round; stroke-width:2; stroke-opacity:0.1; fill:none\" points=\"\n",
       "  2291.66,1486.45 2291.66,47.2441 \n",
       "  \"/>\n",
       "<polyline clip-path=\"url(#clip770)\" style=\"stroke:#000000; stroke-linecap:round; stroke-linejoin:round; stroke-width:4; stroke-opacity:1; fill:none\" points=\"\n",
       "  193.936,1486.45 2352.76,1486.45 \n",
       "  \"/>\n",
       "<polyline clip-path=\"url(#clip770)\" style=\"stroke:#000000; stroke-linecap:round; stroke-linejoin:round; stroke-width:4; stroke-opacity:1; fill:none\" points=\"\n",
       "  255.035,1486.45 255.035,1467.55 \n",
       "  \"/>\n",
       "<polyline clip-path=\"url(#clip770)\" style=\"stroke:#000000; stroke-linecap:round; stroke-linejoin:round; stroke-width:4; stroke-opacity:1; fill:none\" points=\"\n",
       "  764.19,1486.45 764.19,1467.55 \n",
       "  \"/>\n",
       "<polyline clip-path=\"url(#clip770)\" style=\"stroke:#000000; stroke-linecap:round; stroke-linejoin:round; stroke-width:4; stroke-opacity:1; fill:none\" points=\"\n",
       "  1273.35,1486.45 1273.35,1467.55 \n",
       "  \"/>\n",
       "<polyline clip-path=\"url(#clip770)\" style=\"stroke:#000000; stroke-linecap:round; stroke-linejoin:round; stroke-width:4; stroke-opacity:1; fill:none\" points=\"\n",
       "  1782.5,1486.45 1782.5,1467.55 \n",
       "  \"/>\n",
       "<polyline clip-path=\"url(#clip770)\" style=\"stroke:#000000; stroke-linecap:round; stroke-linejoin:round; stroke-width:4; stroke-opacity:1; fill:none\" points=\"\n",
       "  2291.66,1486.45 2291.66,1467.55 \n",
       "  \"/>\n",
       "<path clip-path=\"url(#clip770)\" d=\"M201.563 1532.02 L231.239 1532.02 L231.239 1535.95 L201.563 1535.95 L201.563 1532.02 Z\" fill=\"#000000\" fill-rule=\"evenodd\" fill-opacity=\"1\" /><path clip-path=\"url(#clip770)\" d=\"M242.141 1544.91 L249.78 1544.91 L249.78 1518.55 L241.47 1520.21 L241.47 1515.95 L249.734 1514.29 L254.41 1514.29 L254.41 1544.91 L262.049 1544.91 L262.049 1548.85 L242.141 1548.85 L242.141 1544.91 Z\" fill=\"#000000\" fill-rule=\"evenodd\" fill-opacity=\"1\" /><path clip-path=\"url(#clip770)\" d=\"M271.493 1542.97 L276.377 1542.97 L276.377 1548.85 L271.493 1548.85 L271.493 1542.97 Z\" fill=\"#000000\" fill-rule=\"evenodd\" fill-opacity=\"1\" /><path clip-path=\"url(#clip770)\" d=\"M296.562 1517.37 Q292.951 1517.37 291.122 1520.93 Q289.317 1524.47 289.317 1531.6 Q289.317 1538.71 291.122 1542.27 Q292.951 1545.82 296.562 1545.82 Q300.196 1545.82 302.002 1542.27 Q303.831 1538.71 303.831 1531.6 Q303.831 1524.47 302.002 1520.93 Q300.196 1517.37 296.562 1517.37 M296.562 1513.66 Q302.372 1513.66 305.428 1518.27 Q308.507 1522.85 308.507 1531.6 Q308.507 1540.33 305.428 1544.94 Q302.372 1549.52 296.562 1549.52 Q290.752 1549.52 287.673 1544.94 Q284.618 1540.33 284.618 1531.6 Q284.618 1522.85 287.673 1518.27 Q290.752 1513.66 296.562 1513.66 Z\" fill=\"#000000\" fill-rule=\"evenodd\" fill-opacity=\"1\" /><path clip-path=\"url(#clip770)\" d=\"M711.216 1532.02 L740.892 1532.02 L740.892 1535.95 L711.216 1535.95 L711.216 1532.02 Z\" fill=\"#000000\" fill-rule=\"evenodd\" fill-opacity=\"1\" /><path clip-path=\"url(#clip770)\" d=\"M760.984 1517.37 Q757.373 1517.37 755.545 1520.93 Q753.739 1524.47 753.739 1531.6 Q753.739 1538.71 755.545 1542.27 Q757.373 1545.82 760.984 1545.82 Q764.619 1545.82 766.424 1542.27 Q768.253 1538.71 768.253 1531.6 Q768.253 1524.47 766.424 1520.93 Q764.619 1517.37 760.984 1517.37 M760.984 1513.66 Q766.794 1513.66 769.85 1518.27 Q772.929 1522.85 772.929 1531.6 Q772.929 1540.33 769.85 1544.94 Q766.794 1549.52 760.984 1549.52 Q755.174 1549.52 752.095 1544.94 Q749.04 1540.33 749.04 1531.6 Q749.04 1522.85 752.095 1518.27 Q755.174 1513.66 760.984 1513.66 Z\" fill=\"#000000\" fill-rule=\"evenodd\" fill-opacity=\"1\" /><path clip-path=\"url(#clip770)\" d=\"M781.146 1542.97 L786.03 1542.97 L786.03 1548.85 L781.146 1548.85 L781.146 1542.97 Z\" fill=\"#000000\" fill-rule=\"evenodd\" fill-opacity=\"1\" /><path clip-path=\"url(#clip770)\" d=\"M796.262 1514.29 L814.618 1514.29 L814.618 1518.22 L800.544 1518.22 L800.544 1526.7 Q801.563 1526.35 802.581 1526.19 Q803.6 1526 804.618 1526 Q810.405 1526 813.785 1529.17 Q817.165 1532.34 817.165 1537.76 Q817.165 1543.34 813.692 1546.44 Q810.22 1549.52 803.901 1549.52 Q801.725 1549.52 799.456 1549.15 Q797.211 1548.78 794.804 1548.04 L794.804 1543.34 Q796.887 1544.47 799.109 1545.03 Q801.331 1545.58 803.808 1545.58 Q807.813 1545.58 810.151 1543.48 Q812.489 1541.37 812.489 1537.76 Q812.489 1534.15 810.151 1532.04 Q807.813 1529.94 803.808 1529.94 Q801.933 1529.94 800.058 1530.35 Q798.206 1530.77 796.262 1531.65 L796.262 1514.29 Z\" fill=\"#000000\" fill-rule=\"evenodd\" fill-opacity=\"1\" /><path clip-path=\"url(#clip770)\" d=\"M1250.73 1517.37 Q1247.12 1517.37 1245.29 1520.93 Q1243.49 1524.47 1243.49 1531.6 Q1243.49 1538.71 1245.29 1542.27 Q1247.12 1545.82 1250.73 1545.82 Q1254.36 1545.82 1256.17 1542.27 Q1258 1538.71 1258 1531.6 Q1258 1524.47 1256.17 1520.93 Q1254.36 1517.37 1250.73 1517.37 M1250.73 1513.66 Q1256.54 1513.66 1259.6 1518.27 Q1262.67 1522.85 1262.67 1531.6 Q1262.67 1540.33 1259.6 1544.94 Q1256.54 1549.52 1250.73 1549.52 Q1244.92 1549.52 1241.84 1544.94 Q1238.79 1540.33 1238.79 1531.6 Q1238.79 1522.85 1241.84 1518.27 Q1244.92 1513.66 1250.73 1513.66 Z\" fill=\"#000000\" fill-rule=\"evenodd\" fill-opacity=\"1\" /><path clip-path=\"url(#clip770)\" d=\"M1270.89 1542.97 L1275.78 1542.97 L1275.78 1548.85 L1270.89 1548.85 L1270.89 1542.97 Z\" fill=\"#000000\" fill-rule=\"evenodd\" fill-opacity=\"1\" /><path clip-path=\"url(#clip770)\" d=\"M1295.96 1517.37 Q1292.35 1517.37 1290.52 1520.93 Q1288.72 1524.47 1288.72 1531.6 Q1288.72 1538.71 1290.52 1542.27 Q1292.35 1545.82 1295.96 1545.82 Q1299.6 1545.82 1301.4 1542.27 Q1303.23 1538.71 1303.23 1531.6 Q1303.23 1524.47 1301.4 1520.93 Q1299.6 1517.37 1295.96 1517.37 M1295.96 1513.66 Q1301.77 1513.66 1304.83 1518.27 Q1307.91 1522.85 1307.91 1531.6 Q1307.91 1540.33 1304.83 1544.94 Q1301.77 1549.52 1295.96 1549.52 Q1290.15 1549.52 1287.07 1544.94 Q1284.02 1540.33 1284.02 1531.6 Q1284.02 1522.85 1287.07 1518.27 Q1290.15 1513.66 1295.96 1513.66 Z\" fill=\"#000000\" fill-rule=\"evenodd\" fill-opacity=\"1\" /><path clip-path=\"url(#clip770)\" d=\"M1760.38 1517.37 Q1756.77 1517.37 1754.94 1520.93 Q1753.14 1524.47 1753.14 1531.6 Q1753.14 1538.71 1754.94 1542.27 Q1756.77 1545.82 1760.38 1545.82 Q1764.02 1545.82 1765.82 1542.27 Q1767.65 1538.71 1767.65 1531.6 Q1767.65 1524.47 1765.82 1520.93 Q1764.02 1517.37 1760.38 1517.37 M1760.38 1513.66 Q1766.19 1513.66 1769.25 1518.27 Q1772.33 1522.85 1772.33 1531.6 Q1772.33 1540.33 1769.25 1544.94 Q1766.19 1549.52 1760.38 1549.52 Q1754.57 1549.52 1751.49 1544.94 Q1748.44 1540.33 1748.44 1531.6 Q1748.44 1522.85 1751.49 1518.27 Q1754.57 1513.66 1760.38 1513.66 Z\" fill=\"#000000\" fill-rule=\"evenodd\" fill-opacity=\"1\" /><path clip-path=\"url(#clip770)\" d=\"M1780.55 1542.97 L1785.43 1542.97 L1785.43 1548.85 L1780.55 1548.85 L1780.55 1542.97 Z\" fill=\"#000000\" fill-rule=\"evenodd\" fill-opacity=\"1\" /><path clip-path=\"url(#clip770)\" d=\"M1795.66 1514.29 L1814.02 1514.29 L1814.02 1518.22 L1799.94 1518.22 L1799.94 1526.7 Q1800.96 1526.35 1801.98 1526.19 Q1803 1526 1804.02 1526 Q1809.8 1526 1813.18 1529.17 Q1816.56 1532.34 1816.56 1537.76 Q1816.56 1543.34 1813.09 1546.44 Q1809.62 1549.52 1803.3 1549.52 Q1801.12 1549.52 1798.86 1549.15 Q1796.61 1548.78 1794.2 1548.04 L1794.2 1543.34 Q1796.29 1544.47 1798.51 1545.03 Q1800.73 1545.58 1803.21 1545.58 Q1807.21 1545.58 1809.55 1543.48 Q1811.89 1541.37 1811.89 1537.76 Q1811.89 1534.15 1809.55 1532.04 Q1807.21 1529.94 1803.21 1529.94 Q1801.33 1529.94 1799.46 1530.35 Q1797.61 1530.77 1795.66 1531.65 L1795.66 1514.29 Z\" fill=\"#000000\" fill-rule=\"evenodd\" fill-opacity=\"1\" /><path clip-path=\"url(#clip770)\" d=\"M2258.81 1544.91 L2266.45 1544.91 L2266.45 1518.55 L2258.14 1520.21 L2258.14 1515.95 L2266.4 1514.29 L2271.08 1514.29 L2271.08 1544.91 L2278.72 1544.91 L2278.72 1548.85 L2258.81 1548.85 L2258.81 1544.91 Z\" fill=\"#000000\" fill-rule=\"evenodd\" fill-opacity=\"1\" /><path clip-path=\"url(#clip770)\" d=\"M2288.16 1542.97 L2293.05 1542.97 L2293.05 1548.85 L2288.16 1548.85 L2288.16 1542.97 Z\" fill=\"#000000\" fill-rule=\"evenodd\" fill-opacity=\"1\" /><path clip-path=\"url(#clip770)\" d=\"M2313.23 1517.37 Q2309.62 1517.37 2307.79 1520.93 Q2305.99 1524.47 2305.99 1531.6 Q2305.99 1538.71 2307.79 1542.27 Q2309.62 1545.82 2313.23 1545.82 Q2316.87 1545.82 2318.67 1542.27 Q2320.5 1538.71 2320.5 1531.6 Q2320.5 1524.47 2318.67 1520.93 Q2316.87 1517.37 2313.23 1517.37 M2313.23 1513.66 Q2319.04 1513.66 2322.1 1518.27 Q2325.18 1522.85 2325.18 1531.6 Q2325.18 1540.33 2322.1 1544.94 Q2319.04 1549.52 2313.23 1549.52 Q2307.42 1549.52 2304.34 1544.94 Q2301.29 1540.33 2301.29 1531.6 Q2301.29 1522.85 2304.34 1518.27 Q2307.42 1513.66 2313.23 1513.66 Z\" fill=\"#000000\" fill-rule=\"evenodd\" fill-opacity=\"1\" /><polyline clip-path=\"url(#clip772)\" style=\"stroke:#000000; stroke-linecap:round; stroke-linejoin:round; stroke-width:2; stroke-opacity:0.1; fill:none\" points=\"\n",
       "  193.936,1445.72 2352.76,1445.72 \n",
       "  \"/>\n",
       "<polyline clip-path=\"url(#clip772)\" style=\"stroke:#000000; stroke-linecap:round; stroke-linejoin:round; stroke-width:2; stroke-opacity:0.1; fill:none\" points=\"\n",
       "  193.936,1106.28 2352.76,1106.28 \n",
       "  \"/>\n",
       "<polyline clip-path=\"url(#clip772)\" style=\"stroke:#000000; stroke-linecap:round; stroke-linejoin:round; stroke-width:2; stroke-opacity:0.1; fill:none\" points=\"\n",
       "  193.936,766.846 2352.76,766.846 \n",
       "  \"/>\n",
       "<polyline clip-path=\"url(#clip772)\" style=\"stroke:#000000; stroke-linecap:round; stroke-linejoin:round; stroke-width:2; stroke-opacity:0.1; fill:none\" points=\"\n",
       "  193.936,427.411 2352.76,427.411 \n",
       "  \"/>\n",
       "<polyline clip-path=\"url(#clip772)\" style=\"stroke:#000000; stroke-linecap:round; stroke-linejoin:round; stroke-width:2; stroke-opacity:0.1; fill:none\" points=\"\n",
       "  193.936,87.9763 2352.76,87.9763 \n",
       "  \"/>\n",
       "<polyline clip-path=\"url(#clip770)\" style=\"stroke:#000000; stroke-linecap:round; stroke-linejoin:round; stroke-width:4; stroke-opacity:1; fill:none\" points=\"\n",
       "  193.936,1486.45 193.936,47.2441 \n",
       "  \"/>\n",
       "<polyline clip-path=\"url(#clip770)\" style=\"stroke:#000000; stroke-linecap:round; stroke-linejoin:round; stroke-width:4; stroke-opacity:1; fill:none\" points=\"\n",
       "  193.936,1445.72 212.834,1445.72 \n",
       "  \"/>\n",
       "<polyline clip-path=\"url(#clip770)\" style=\"stroke:#000000; stroke-linecap:round; stroke-linejoin:round; stroke-width:4; stroke-opacity:1; fill:none\" points=\"\n",
       "  193.936,1106.28 212.834,1106.28 \n",
       "  \"/>\n",
       "<polyline clip-path=\"url(#clip770)\" style=\"stroke:#000000; stroke-linecap:round; stroke-linejoin:round; stroke-width:4; stroke-opacity:1; fill:none\" points=\"\n",
       "  193.936,766.846 212.834,766.846 \n",
       "  \"/>\n",
       "<polyline clip-path=\"url(#clip770)\" style=\"stroke:#000000; stroke-linecap:round; stroke-linejoin:round; stroke-width:4; stroke-opacity:1; fill:none\" points=\"\n",
       "  193.936,427.411 212.834,427.411 \n",
       "  \"/>\n",
       "<polyline clip-path=\"url(#clip770)\" style=\"stroke:#000000; stroke-linecap:round; stroke-linejoin:round; stroke-width:4; stroke-opacity:1; fill:none\" points=\"\n",
       "  193.936,87.9763 212.834,87.9763 \n",
       "  \"/>\n",
       "<path clip-path=\"url(#clip770)\" d=\"M50.9921 1446.17 L80.6679 1446.17 L80.6679 1450.1 L50.9921 1450.1 L50.9921 1446.17 Z\" fill=\"#000000\" fill-rule=\"evenodd\" fill-opacity=\"1\" /><path clip-path=\"url(#clip770)\" d=\"M91.5706 1459.06 L99.2095 1459.06 L99.2095 1432.69 L90.8993 1434.36 L90.8993 1430.1 L99.1632 1428.44 L103.839 1428.44 L103.839 1459.06 L111.478 1459.06 L111.478 1463 L91.5706 1463 L91.5706 1459.06 Z\" fill=\"#000000\" fill-rule=\"evenodd\" fill-opacity=\"1\" /><path clip-path=\"url(#clip770)\" d=\"M120.922 1457.12 L125.807 1457.12 L125.807 1463 L120.922 1463 L120.922 1457.12 Z\" fill=\"#000000\" fill-rule=\"evenodd\" fill-opacity=\"1\" /><path clip-path=\"url(#clip770)\" d=\"M145.992 1431.51 Q142.381 1431.51 140.552 1435.08 Q138.746 1438.62 138.746 1445.75 Q138.746 1452.86 140.552 1456.42 Q142.381 1459.96 145.992 1459.96 Q149.626 1459.96 151.431 1456.42 Q153.26 1452.86 153.26 1445.75 Q153.26 1438.62 151.431 1435.08 Q149.626 1431.51 145.992 1431.51 M145.992 1427.81 Q151.802 1427.81 154.857 1432.42 Q157.936 1437 157.936 1445.75 Q157.936 1454.48 154.857 1459.08 Q151.802 1463.67 145.992 1463.67 Q140.181 1463.67 137.103 1459.08 Q134.047 1454.48 134.047 1445.75 Q134.047 1437 137.103 1432.42 Q140.181 1427.81 145.992 1427.81 Z\" fill=\"#000000\" fill-rule=\"evenodd\" fill-opacity=\"1\" /><path clip-path=\"url(#clip770)\" d=\"M51.9875 1106.73 L81.6633 1106.73 L81.6633 1110.67 L51.9875 1110.67 L51.9875 1106.73 Z\" fill=\"#000000\" fill-rule=\"evenodd\" fill-opacity=\"1\" /><path clip-path=\"url(#clip770)\" d=\"M101.756 1092.08 Q98.1447 1092.08 96.316 1095.64 Q94.5104 1099.19 94.5104 1106.32 Q94.5104 1113.42 96.316 1116.99 Q98.1447 1120.53 101.756 1120.53 Q105.39 1120.53 107.196 1116.99 Q109.024 1113.42 109.024 1106.32 Q109.024 1099.19 107.196 1095.64 Q105.39 1092.08 101.756 1092.08 M101.756 1088.38 Q107.566 1088.38 110.621 1092.98 Q113.7 1097.57 113.7 1106.32 Q113.7 1115.04 110.621 1119.65 Q107.566 1124.23 101.756 1124.23 Q95.9456 1124.23 92.8669 1119.65 Q89.8114 1115.04 89.8114 1106.32 Q89.8114 1097.57 92.8669 1092.98 Q95.9456 1088.38 101.756 1088.38 Z\" fill=\"#000000\" fill-rule=\"evenodd\" fill-opacity=\"1\" /><path clip-path=\"url(#clip770)\" d=\"M121.918 1117.68 L126.802 1117.68 L126.802 1123.56 L121.918 1123.56 L121.918 1117.68 Z\" fill=\"#000000\" fill-rule=\"evenodd\" fill-opacity=\"1\" /><path clip-path=\"url(#clip770)\" d=\"M137.033 1089 L155.39 1089 L155.39 1092.94 L141.316 1092.94 L141.316 1101.41 Q142.334 1101.06 143.353 1100.9 Q144.371 1100.71 145.39 1100.71 Q151.177 1100.71 154.556 1103.89 Q157.936 1107.06 157.936 1112.47 Q157.936 1118.05 154.464 1121.15 Q150.992 1124.23 144.672 1124.23 Q142.496 1124.23 140.228 1123.86 Q137.982 1123.49 135.575 1122.75 L135.575 1118.05 Q137.658 1119.19 139.881 1119.74 Q142.103 1120.3 144.58 1120.3 Q148.584 1120.3 150.922 1118.19 Q153.26 1116.08 153.26 1112.47 Q153.26 1108.86 150.922 1106.76 Q148.584 1104.65 144.58 1104.65 Q142.705 1104.65 140.83 1105.07 Q138.978 1105.48 137.033 1106.36 L137.033 1089 Z\" fill=\"#000000\" fill-rule=\"evenodd\" fill-opacity=\"1\" /><path clip-path=\"url(#clip770)\" d=\"M100.76 752.645 Q97.1493 752.645 95.3206 756.209 Q93.515 759.751 93.515 766.881 Q93.515 773.987 95.3206 777.552 Q97.1493 781.094 100.76 781.094 Q104.395 781.094 106.2 777.552 Q108.029 773.987 108.029 766.881 Q108.029 759.751 106.2 756.209 Q104.395 752.645 100.76 752.645 M100.76 748.941 Q106.571 748.941 109.626 753.547 Q112.705 758.131 112.705 766.881 Q112.705 775.608 109.626 780.214 Q106.571 784.797 100.76 784.797 Q94.9502 784.797 91.8715 780.214 Q88.816 775.608 88.816 766.881 Q88.816 758.131 91.8715 753.547 Q94.9502 748.941 100.76 748.941 Z\" fill=\"#000000\" fill-rule=\"evenodd\" fill-opacity=\"1\" /><path clip-path=\"url(#clip770)\" d=\"M120.922 778.246 L125.807 778.246 L125.807 784.126 L120.922 784.126 L120.922 778.246 Z\" fill=\"#000000\" fill-rule=\"evenodd\" fill-opacity=\"1\" /><path clip-path=\"url(#clip770)\" d=\"M145.992 752.645 Q142.381 752.645 140.552 756.209 Q138.746 759.751 138.746 766.881 Q138.746 773.987 140.552 777.552 Q142.381 781.094 145.992 781.094 Q149.626 781.094 151.431 777.552 Q153.26 773.987 153.26 766.881 Q153.26 759.751 151.431 756.209 Q149.626 752.645 145.992 752.645 M145.992 748.941 Q151.802 748.941 154.857 753.547 Q157.936 758.131 157.936 766.881 Q157.936 775.608 154.857 780.214 Q151.802 784.797 145.992 784.797 Q140.181 784.797 137.103 780.214 Q134.047 775.608 134.047 766.881 Q134.047 758.131 137.103 753.547 Q140.181 748.941 145.992 748.941 Z\" fill=\"#000000\" fill-rule=\"evenodd\" fill-opacity=\"1\" /><path clip-path=\"url(#clip770)\" d=\"M101.756 413.21 Q98.1447 413.21 96.316 416.775 Q94.5104 420.316 94.5104 427.446 Q94.5104 434.552 96.316 438.117 Q98.1447 441.659 101.756 441.659 Q105.39 441.659 107.196 438.117 Q109.024 434.552 109.024 427.446 Q109.024 420.316 107.196 416.775 Q105.39 413.21 101.756 413.21 M101.756 409.506 Q107.566 409.506 110.621 414.113 Q113.7 418.696 113.7 427.446 Q113.7 436.173 110.621 440.779 Q107.566 445.362 101.756 445.362 Q95.9456 445.362 92.8669 440.779 Q89.8114 436.173 89.8114 427.446 Q89.8114 418.696 92.8669 414.113 Q95.9456 409.506 101.756 409.506 Z\" fill=\"#000000\" fill-rule=\"evenodd\" fill-opacity=\"1\" /><path clip-path=\"url(#clip770)\" d=\"M121.918 438.812 L126.802 438.812 L126.802 444.691 L121.918 444.691 L121.918 438.812 Z\" fill=\"#000000\" fill-rule=\"evenodd\" fill-opacity=\"1\" /><path clip-path=\"url(#clip770)\" d=\"M137.033 410.131 L155.39 410.131 L155.39 414.066 L141.316 414.066 L141.316 422.538 Q142.334 422.191 143.353 422.029 Q144.371 421.844 145.39 421.844 Q151.177 421.844 154.556 425.015 Q157.936 428.187 157.936 433.603 Q157.936 439.182 154.464 442.284 Q150.992 445.362 144.672 445.362 Q142.496 445.362 140.228 444.992 Q137.982 444.622 135.575 443.881 L135.575 439.182 Q137.658 440.316 139.881 440.872 Q142.103 441.427 144.58 441.427 Q148.584 441.427 150.922 439.321 Q153.26 437.214 153.26 433.603 Q153.26 429.992 150.922 427.886 Q148.584 425.779 144.58 425.779 Q142.705 425.779 140.83 426.196 Q138.978 426.613 137.033 427.492 L137.033 410.131 Z\" fill=\"#000000\" fill-rule=\"evenodd\" fill-opacity=\"1\" /><path clip-path=\"url(#clip770)\" d=\"M91.5706 101.321 L99.2095 101.321 L99.2095 74.9555 L90.8993 76.6222 L90.8993 72.3629 L99.1632 70.6963 L103.839 70.6963 L103.839 101.321 L111.478 101.321 L111.478 105.256 L91.5706 105.256 L91.5706 101.321 Z\" fill=\"#000000\" fill-rule=\"evenodd\" fill-opacity=\"1\" /><path clip-path=\"url(#clip770)\" d=\"M120.922 99.3767 L125.807 99.3767 L125.807 105.256 L120.922 105.256 L120.922 99.3767 Z\" fill=\"#000000\" fill-rule=\"evenodd\" fill-opacity=\"1\" /><path clip-path=\"url(#clip770)\" d=\"M145.992 73.775 Q142.381 73.775 140.552 77.3398 Q138.746 80.8814 138.746 88.011 Q138.746 95.1174 140.552 98.6822 Q142.381 102.224 145.992 102.224 Q149.626 102.224 151.431 98.6822 Q153.26 95.1174 153.26 88.011 Q153.26 80.8814 151.431 77.3398 Q149.626 73.775 145.992 73.775 M145.992 70.0713 Q151.802 70.0713 154.857 74.6777 Q157.936 79.261 157.936 88.011 Q157.936 96.7378 154.857 101.344 Q151.802 105.928 145.992 105.928 Q140.181 105.928 137.103 101.344 Q134.047 96.7378 134.047 88.011 Q134.047 79.261 137.103 74.6777 Q140.181 70.0713 145.992 70.0713 Z\" fill=\"#000000\" fill-rule=\"evenodd\" fill-opacity=\"1\" /><circle clip-path=\"url(#clip772)\" cx=\"255.035\" cy=\"427.411\" r=\"14.4\" fill=\"#009af9\" fill-rule=\"evenodd\" fill-opacity=\"1\" stroke=\"#000000\" stroke-opacity=\"1\" stroke-width=\"3.2\"/>\n",
       "<circle clip-path=\"url(#clip772)\" cx=\"296.598\" cy=\"427.411\" r=\"14.4\" fill=\"#009af9\" fill-rule=\"evenodd\" fill-opacity=\"1\" stroke=\"#000000\" stroke-opacity=\"1\" stroke-width=\"3.2\"/>\n",
       "<circle clip-path=\"url(#clip772)\" cx=\"338.162\" cy=\"427.411\" r=\"14.4\" fill=\"#009af9\" fill-rule=\"evenodd\" fill-opacity=\"1\" stroke=\"#000000\" stroke-opacity=\"1\" stroke-width=\"3.2\"/>\n",
       "<circle clip-path=\"url(#clip772)\" cx=\"379.726\" cy=\"427.411\" r=\"14.4\" fill=\"#009af9\" fill-rule=\"evenodd\" fill-opacity=\"1\" stroke=\"#000000\" stroke-opacity=\"1\" stroke-width=\"3.2\"/>\n",
       "<circle clip-path=\"url(#clip772)\" cx=\"421.29\" cy=\"427.411\" r=\"14.4\" fill=\"#009af9\" fill-rule=\"evenodd\" fill-opacity=\"1\" stroke=\"#000000\" stroke-opacity=\"1\" stroke-width=\"3.2\"/>\n",
       "<circle clip-path=\"url(#clip772)\" cx=\"462.853\" cy=\"427.411\" r=\"14.4\" fill=\"#009af9\" fill-rule=\"evenodd\" fill-opacity=\"1\" stroke=\"#000000\" stroke-opacity=\"1\" stroke-width=\"3.2\"/>\n",
       "<circle clip-path=\"url(#clip772)\" cx=\"504.417\" cy=\"427.411\" r=\"14.4\" fill=\"#009af9\" fill-rule=\"evenodd\" fill-opacity=\"1\" stroke=\"#000000\" stroke-opacity=\"1\" stroke-width=\"3.2\"/>\n",
       "<circle clip-path=\"url(#clip772)\" cx=\"545.981\" cy=\"427.411\" r=\"14.4\" fill=\"#009af9\" fill-rule=\"evenodd\" fill-opacity=\"1\" stroke=\"#000000\" stroke-opacity=\"1\" stroke-width=\"3.2\"/>\n",
       "<circle clip-path=\"url(#clip772)\" cx=\"587.544\" cy=\"427.411\" r=\"14.4\" fill=\"#009af9\" fill-rule=\"evenodd\" fill-opacity=\"1\" stroke=\"#000000\" stroke-opacity=\"1\" stroke-width=\"3.2\"/>\n",
       "<circle clip-path=\"url(#clip772)\" cx=\"629.108\" cy=\"427.411\" r=\"14.4\" fill=\"#009af9\" fill-rule=\"evenodd\" fill-opacity=\"1\" stroke=\"#000000\" stroke-opacity=\"1\" stroke-width=\"3.2\"/>\n",
       "<circle clip-path=\"url(#clip772)\" cx=\"670.672\" cy=\"427.411\" r=\"14.4\" fill=\"#009af9\" fill-rule=\"evenodd\" fill-opacity=\"1\" stroke=\"#000000\" stroke-opacity=\"1\" stroke-width=\"3.2\"/>\n",
       "<circle clip-path=\"url(#clip772)\" cx=\"712.236\" cy=\"427.411\" r=\"14.4\" fill=\"#009af9\" fill-rule=\"evenodd\" fill-opacity=\"1\" stroke=\"#000000\" stroke-opacity=\"1\" stroke-width=\"3.2\"/>\n",
       "<circle clip-path=\"url(#clip772)\" cx=\"753.799\" cy=\"427.411\" r=\"14.4\" fill=\"#009af9\" fill-rule=\"evenodd\" fill-opacity=\"1\" stroke=\"#000000\" stroke-opacity=\"1\" stroke-width=\"3.2\"/>\n",
       "<circle clip-path=\"url(#clip772)\" cx=\"795.363\" cy=\"427.411\" r=\"14.4\" fill=\"#009af9\" fill-rule=\"evenodd\" fill-opacity=\"1\" stroke=\"#000000\" stroke-opacity=\"1\" stroke-width=\"3.2\"/>\n",
       "<circle clip-path=\"url(#clip772)\" cx=\"836.927\" cy=\"427.411\" r=\"14.4\" fill=\"#009af9\" fill-rule=\"evenodd\" fill-opacity=\"1\" stroke=\"#000000\" stroke-opacity=\"1\" stroke-width=\"3.2\"/>\n",
       "<circle clip-path=\"url(#clip772)\" cx=\"878.491\" cy=\"427.411\" r=\"14.4\" fill=\"#009af9\" fill-rule=\"evenodd\" fill-opacity=\"1\" stroke=\"#000000\" stroke-opacity=\"1\" stroke-width=\"3.2\"/>\n",
       "<circle clip-path=\"url(#clip772)\" cx=\"920.054\" cy=\"427.411\" r=\"14.4\" fill=\"#009af9\" fill-rule=\"evenodd\" fill-opacity=\"1\" stroke=\"#000000\" stroke-opacity=\"1\" stroke-width=\"3.2\"/>\n",
       "<circle clip-path=\"url(#clip772)\" cx=\"961.618\" cy=\"427.411\" r=\"14.4\" fill=\"#009af9\" fill-rule=\"evenodd\" fill-opacity=\"1\" stroke=\"#000000\" stroke-opacity=\"1\" stroke-width=\"3.2\"/>\n",
       "<circle clip-path=\"url(#clip772)\" cx=\"1003.18\" cy=\"427.411\" r=\"14.4\" fill=\"#009af9\" fill-rule=\"evenodd\" fill-opacity=\"1\" stroke=\"#000000\" stroke-opacity=\"1\" stroke-width=\"3.2\"/>\n",
       "<circle clip-path=\"url(#clip772)\" cx=\"1044.75\" cy=\"427.411\" r=\"14.4\" fill=\"#009af9\" fill-rule=\"evenodd\" fill-opacity=\"1\" stroke=\"#000000\" stroke-opacity=\"1\" stroke-width=\"3.2\"/>\n",
       "<circle clip-path=\"url(#clip772)\" cx=\"1086.31\" cy=\"427.411\" r=\"14.4\" fill=\"#009af9\" fill-rule=\"evenodd\" fill-opacity=\"1\" stroke=\"#000000\" stroke-opacity=\"1\" stroke-width=\"3.2\"/>\n",
       "<circle clip-path=\"url(#clip772)\" cx=\"1127.87\" cy=\"427.411\" r=\"14.4\" fill=\"#009af9\" fill-rule=\"evenodd\" fill-opacity=\"1\" stroke=\"#000000\" stroke-opacity=\"1\" stroke-width=\"3.2\"/>\n",
       "<circle clip-path=\"url(#clip772)\" cx=\"1169.44\" cy=\"427.411\" r=\"14.4\" fill=\"#009af9\" fill-rule=\"evenodd\" fill-opacity=\"1\" stroke=\"#000000\" stroke-opacity=\"1\" stroke-width=\"3.2\"/>\n",
       "<circle clip-path=\"url(#clip772)\" cx=\"1211\" cy=\"427.411\" r=\"14.4\" fill=\"#009af9\" fill-rule=\"evenodd\" fill-opacity=\"1\" stroke=\"#000000\" stroke-opacity=\"1\" stroke-width=\"3.2\"/>\n",
       "<circle clip-path=\"url(#clip772)\" cx=\"1252.56\" cy=\"427.411\" r=\"14.4\" fill=\"#009af9\" fill-rule=\"evenodd\" fill-opacity=\"1\" stroke=\"#000000\" stroke-opacity=\"1\" stroke-width=\"3.2\"/>\n",
       "<circle clip-path=\"url(#clip772)\" cx=\"1294.13\" cy=\"427.411\" r=\"14.4\" fill=\"#009af9\" fill-rule=\"evenodd\" fill-opacity=\"1\" stroke=\"#000000\" stroke-opacity=\"1\" stroke-width=\"3.2\"/>\n",
       "<circle clip-path=\"url(#clip772)\" cx=\"1335.69\" cy=\"427.411\" r=\"14.4\" fill=\"#009af9\" fill-rule=\"evenodd\" fill-opacity=\"1\" stroke=\"#000000\" stroke-opacity=\"1\" stroke-width=\"3.2\"/>\n",
       "<circle clip-path=\"url(#clip772)\" cx=\"1377.26\" cy=\"427.411\" r=\"14.4\" fill=\"#009af9\" fill-rule=\"evenodd\" fill-opacity=\"1\" stroke=\"#000000\" stroke-opacity=\"1\" stroke-width=\"3.2\"/>\n",
       "<circle clip-path=\"url(#clip772)\" cx=\"1418.82\" cy=\"427.411\" r=\"14.4\" fill=\"#009af9\" fill-rule=\"evenodd\" fill-opacity=\"1\" stroke=\"#000000\" stroke-opacity=\"1\" stroke-width=\"3.2\"/>\n",
       "<circle clip-path=\"url(#clip772)\" cx=\"1460.38\" cy=\"427.411\" r=\"14.4\" fill=\"#009af9\" fill-rule=\"evenodd\" fill-opacity=\"1\" stroke=\"#000000\" stroke-opacity=\"1\" stroke-width=\"3.2\"/>\n",
       "<circle clip-path=\"url(#clip772)\" cx=\"1501.95\" cy=\"427.411\" r=\"14.4\" fill=\"#009af9\" fill-rule=\"evenodd\" fill-opacity=\"1\" stroke=\"#000000\" stroke-opacity=\"1\" stroke-width=\"3.2\"/>\n",
       "<circle clip-path=\"url(#clip772)\" cx=\"1543.51\" cy=\"427.411\" r=\"14.4\" fill=\"#009af9\" fill-rule=\"evenodd\" fill-opacity=\"1\" stroke=\"#000000\" stroke-opacity=\"1\" stroke-width=\"3.2\"/>\n",
       "<circle clip-path=\"url(#clip772)\" cx=\"1585.07\" cy=\"427.411\" r=\"14.4\" fill=\"#009af9\" fill-rule=\"evenodd\" fill-opacity=\"1\" stroke=\"#000000\" stroke-opacity=\"1\" stroke-width=\"3.2\"/>\n",
       "<circle clip-path=\"url(#clip772)\" cx=\"1626.64\" cy=\"427.411\" r=\"14.4\" fill=\"#009af9\" fill-rule=\"evenodd\" fill-opacity=\"1\" stroke=\"#000000\" stroke-opacity=\"1\" stroke-width=\"3.2\"/>\n",
       "<circle clip-path=\"url(#clip772)\" cx=\"1668.2\" cy=\"427.411\" r=\"14.4\" fill=\"#009af9\" fill-rule=\"evenodd\" fill-opacity=\"1\" stroke=\"#000000\" stroke-opacity=\"1\" stroke-width=\"3.2\"/>\n",
       "<circle clip-path=\"url(#clip772)\" cx=\"1709.77\" cy=\"427.411\" r=\"14.4\" fill=\"#009af9\" fill-rule=\"evenodd\" fill-opacity=\"1\" stroke=\"#000000\" stroke-opacity=\"1\" stroke-width=\"3.2\"/>\n",
       "<circle clip-path=\"url(#clip772)\" cx=\"1751.33\" cy=\"427.411\" r=\"14.4\" fill=\"#009af9\" fill-rule=\"evenodd\" fill-opacity=\"1\" stroke=\"#000000\" stroke-opacity=\"1\" stroke-width=\"3.2\"/>\n",
       "<circle clip-path=\"url(#clip772)\" cx=\"1792.89\" cy=\"427.411\" r=\"14.4\" fill=\"#009af9\" fill-rule=\"evenodd\" fill-opacity=\"1\" stroke=\"#000000\" stroke-opacity=\"1\" stroke-width=\"3.2\"/>\n",
       "<circle clip-path=\"url(#clip772)\" cx=\"1834.46\" cy=\"427.411\" r=\"14.4\" fill=\"#009af9\" fill-rule=\"evenodd\" fill-opacity=\"1\" stroke=\"#000000\" stroke-opacity=\"1\" stroke-width=\"3.2\"/>\n",
       "<circle clip-path=\"url(#clip772)\" cx=\"1876.02\" cy=\"427.411\" r=\"14.4\" fill=\"#009af9\" fill-rule=\"evenodd\" fill-opacity=\"1\" stroke=\"#000000\" stroke-opacity=\"1\" stroke-width=\"3.2\"/>\n",
       "<circle clip-path=\"url(#clip772)\" cx=\"1917.58\" cy=\"427.411\" r=\"14.4\" fill=\"#009af9\" fill-rule=\"evenodd\" fill-opacity=\"1\" stroke=\"#000000\" stroke-opacity=\"1\" stroke-width=\"3.2\"/>\n",
       "<circle clip-path=\"url(#clip772)\" cx=\"1959.15\" cy=\"427.411\" r=\"14.4\" fill=\"#009af9\" fill-rule=\"evenodd\" fill-opacity=\"1\" stroke=\"#000000\" stroke-opacity=\"1\" stroke-width=\"3.2\"/>\n",
       "<circle clip-path=\"url(#clip772)\" cx=\"2000.71\" cy=\"427.411\" r=\"14.4\" fill=\"#009af9\" fill-rule=\"evenodd\" fill-opacity=\"1\" stroke=\"#000000\" stroke-opacity=\"1\" stroke-width=\"3.2\"/>\n",
       "<circle clip-path=\"url(#clip772)\" cx=\"2042.27\" cy=\"427.411\" r=\"14.4\" fill=\"#009af9\" fill-rule=\"evenodd\" fill-opacity=\"1\" stroke=\"#000000\" stroke-opacity=\"1\" stroke-width=\"3.2\"/>\n",
       "<circle clip-path=\"url(#clip772)\" cx=\"2083.84\" cy=\"427.411\" r=\"14.4\" fill=\"#009af9\" fill-rule=\"evenodd\" fill-opacity=\"1\" stroke=\"#000000\" stroke-opacity=\"1\" stroke-width=\"3.2\"/>\n",
       "<circle clip-path=\"url(#clip772)\" cx=\"2125.4\" cy=\"427.411\" r=\"14.4\" fill=\"#009af9\" fill-rule=\"evenodd\" fill-opacity=\"1\" stroke=\"#000000\" stroke-opacity=\"1\" stroke-width=\"3.2\"/>\n",
       "<circle clip-path=\"url(#clip772)\" cx=\"2166.97\" cy=\"427.411\" r=\"14.4\" fill=\"#009af9\" fill-rule=\"evenodd\" fill-opacity=\"1\" stroke=\"#000000\" stroke-opacity=\"1\" stroke-width=\"3.2\"/>\n",
       "<circle clip-path=\"url(#clip772)\" cx=\"2208.53\" cy=\"427.411\" r=\"14.4\" fill=\"#009af9\" fill-rule=\"evenodd\" fill-opacity=\"1\" stroke=\"#000000\" stroke-opacity=\"1\" stroke-width=\"3.2\"/>\n",
       "<circle clip-path=\"url(#clip772)\" cx=\"2250.09\" cy=\"427.411\" r=\"14.4\" fill=\"#009af9\" fill-rule=\"evenodd\" fill-opacity=\"1\" stroke=\"#000000\" stroke-opacity=\"1\" stroke-width=\"3.2\"/>\n",
       "<circle clip-path=\"url(#clip772)\" cx=\"2291.66\" cy=\"427.411\" r=\"14.4\" fill=\"#009af9\" fill-rule=\"evenodd\" fill-opacity=\"1\" stroke=\"#000000\" stroke-opacity=\"1\" stroke-width=\"3.2\"/>\n",
       "<circle clip-path=\"url(#clip772)\" cx=\"255.035\" cy=\"1445.72\" r=\"14.4\" fill=\"#e26f46\" fill-rule=\"evenodd\" fill-opacity=\"1\" stroke=\"#000000\" stroke-opacity=\"1\" stroke-width=\"3.2\"/>\n",
       "<circle clip-path=\"url(#clip772)\" cx=\"296.598\" cy=\"1418.01\" r=\"14.4\" fill=\"#e26f46\" fill-rule=\"evenodd\" fill-opacity=\"1\" stroke=\"#000000\" stroke-opacity=\"1\" stroke-width=\"3.2\"/>\n",
       "<circle clip-path=\"url(#clip772)\" cx=\"338.162\" cy=\"1390.3\" r=\"14.4\" fill=\"#e26f46\" fill-rule=\"evenodd\" fill-opacity=\"1\" stroke=\"#000000\" stroke-opacity=\"1\" stroke-width=\"3.2\"/>\n",
       "<circle clip-path=\"url(#clip772)\" cx=\"379.726\" cy=\"1362.59\" r=\"14.4\" fill=\"#e26f46\" fill-rule=\"evenodd\" fill-opacity=\"1\" stroke=\"#000000\" stroke-opacity=\"1\" stroke-width=\"3.2\"/>\n",
       "<circle clip-path=\"url(#clip772)\" cx=\"421.29\" cy=\"1334.88\" r=\"14.4\" fill=\"#e26f46\" fill-rule=\"evenodd\" fill-opacity=\"1\" stroke=\"#000000\" stroke-opacity=\"1\" stroke-width=\"3.2\"/>\n",
       "<circle clip-path=\"url(#clip772)\" cx=\"462.853\" cy=\"1307.17\" r=\"14.4\" fill=\"#e26f46\" fill-rule=\"evenodd\" fill-opacity=\"1\" stroke=\"#000000\" stroke-opacity=\"1\" stroke-width=\"3.2\"/>\n",
       "<circle clip-path=\"url(#clip772)\" cx=\"504.417\" cy=\"1279.46\" r=\"14.4\" fill=\"#e26f46\" fill-rule=\"evenodd\" fill-opacity=\"1\" stroke=\"#000000\" stroke-opacity=\"1\" stroke-width=\"3.2\"/>\n",
       "<circle clip-path=\"url(#clip772)\" cx=\"545.981\" cy=\"1251.75\" r=\"14.4\" fill=\"#e26f46\" fill-rule=\"evenodd\" fill-opacity=\"1\" stroke=\"#000000\" stroke-opacity=\"1\" stroke-width=\"3.2\"/>\n",
       "<circle clip-path=\"url(#clip772)\" cx=\"587.544\" cy=\"1224.04\" r=\"14.4\" fill=\"#e26f46\" fill-rule=\"evenodd\" fill-opacity=\"1\" stroke=\"#000000\" stroke-opacity=\"1\" stroke-width=\"3.2\"/>\n",
       "<circle clip-path=\"url(#clip772)\" cx=\"629.108\" cy=\"1196.33\" r=\"14.4\" fill=\"#e26f46\" fill-rule=\"evenodd\" fill-opacity=\"1\" stroke=\"#000000\" stroke-opacity=\"1\" stroke-width=\"3.2\"/>\n",
       "<circle clip-path=\"url(#clip772)\" cx=\"670.672\" cy=\"1168.63\" r=\"14.4\" fill=\"#e26f46\" fill-rule=\"evenodd\" fill-opacity=\"1\" stroke=\"#000000\" stroke-opacity=\"1\" stroke-width=\"3.2\"/>\n",
       "<circle clip-path=\"url(#clip772)\" cx=\"712.236\" cy=\"1140.92\" r=\"14.4\" fill=\"#e26f46\" fill-rule=\"evenodd\" fill-opacity=\"1\" stroke=\"#000000\" stroke-opacity=\"1\" stroke-width=\"3.2\"/>\n",
       "<circle clip-path=\"url(#clip772)\" cx=\"753.799\" cy=\"1113.21\" r=\"14.4\" fill=\"#e26f46\" fill-rule=\"evenodd\" fill-opacity=\"1\" stroke=\"#000000\" stroke-opacity=\"1\" stroke-width=\"3.2\"/>\n",
       "<circle clip-path=\"url(#clip772)\" cx=\"795.363\" cy=\"1085.5\" r=\"14.4\" fill=\"#e26f46\" fill-rule=\"evenodd\" fill-opacity=\"1\" stroke=\"#000000\" stroke-opacity=\"1\" stroke-width=\"3.2\"/>\n",
       "<circle clip-path=\"url(#clip772)\" cx=\"836.927\" cy=\"1057.79\" r=\"14.4\" fill=\"#e26f46\" fill-rule=\"evenodd\" fill-opacity=\"1\" stroke=\"#000000\" stroke-opacity=\"1\" stroke-width=\"3.2\"/>\n",
       "<circle clip-path=\"url(#clip772)\" cx=\"878.491\" cy=\"1030.08\" r=\"14.4\" fill=\"#e26f46\" fill-rule=\"evenodd\" fill-opacity=\"1\" stroke=\"#000000\" stroke-opacity=\"1\" stroke-width=\"3.2\"/>\n",
       "<circle clip-path=\"url(#clip772)\" cx=\"920.054\" cy=\"1002.37\" r=\"14.4\" fill=\"#e26f46\" fill-rule=\"evenodd\" fill-opacity=\"1\" stroke=\"#000000\" stroke-opacity=\"1\" stroke-width=\"3.2\"/>\n",
       "<circle clip-path=\"url(#clip772)\" cx=\"961.618\" cy=\"974.663\" r=\"14.4\" fill=\"#e26f46\" fill-rule=\"evenodd\" fill-opacity=\"1\" stroke=\"#000000\" stroke-opacity=\"1\" stroke-width=\"3.2\"/>\n",
       "<circle clip-path=\"url(#clip772)\" cx=\"1003.18\" cy=\"946.954\" r=\"14.4\" fill=\"#e26f46\" fill-rule=\"evenodd\" fill-opacity=\"1\" stroke=\"#000000\" stroke-opacity=\"1\" stroke-width=\"3.2\"/>\n",
       "<circle clip-path=\"url(#clip772)\" cx=\"1044.75\" cy=\"919.245\" r=\"14.4\" fill=\"#e26f46\" fill-rule=\"evenodd\" fill-opacity=\"1\" stroke=\"#000000\" stroke-opacity=\"1\" stroke-width=\"3.2\"/>\n",
       "<circle clip-path=\"url(#clip772)\" cx=\"1086.31\" cy=\"891.536\" r=\"14.4\" fill=\"#e26f46\" fill-rule=\"evenodd\" fill-opacity=\"1\" stroke=\"#000000\" stroke-opacity=\"1\" stroke-width=\"3.2\"/>\n",
       "<circle clip-path=\"url(#clip772)\" cx=\"1127.87\" cy=\"863.827\" r=\"14.4\" fill=\"#e26f46\" fill-rule=\"evenodd\" fill-opacity=\"1\" stroke=\"#000000\" stroke-opacity=\"1\" stroke-width=\"3.2\"/>\n",
       "<circle clip-path=\"url(#clip772)\" cx=\"1169.44\" cy=\"836.118\" r=\"14.4\" fill=\"#e26f46\" fill-rule=\"evenodd\" fill-opacity=\"1\" stroke=\"#000000\" stroke-opacity=\"1\" stroke-width=\"3.2\"/>\n",
       "<circle clip-path=\"url(#clip772)\" cx=\"1211\" cy=\"808.409\" r=\"14.4\" fill=\"#e26f46\" fill-rule=\"evenodd\" fill-opacity=\"1\" stroke=\"#000000\" stroke-opacity=\"1\" stroke-width=\"3.2\"/>\n",
       "<circle clip-path=\"url(#clip772)\" cx=\"1252.56\" cy=\"780.7\" r=\"14.4\" fill=\"#e26f46\" fill-rule=\"evenodd\" fill-opacity=\"1\" stroke=\"#000000\" stroke-opacity=\"1\" stroke-width=\"3.2\"/>\n",
       "<circle clip-path=\"url(#clip772)\" cx=\"1294.13\" cy=\"752.992\" r=\"14.4\" fill=\"#e26f46\" fill-rule=\"evenodd\" fill-opacity=\"1\" stroke=\"#000000\" stroke-opacity=\"1\" stroke-width=\"3.2\"/>\n",
       "<circle clip-path=\"url(#clip772)\" cx=\"1335.69\" cy=\"725.283\" r=\"14.4\" fill=\"#e26f46\" fill-rule=\"evenodd\" fill-opacity=\"1\" stroke=\"#000000\" stroke-opacity=\"1\" stroke-width=\"3.2\"/>\n",
       "<circle clip-path=\"url(#clip772)\" cx=\"1377.26\" cy=\"697.574\" r=\"14.4\" fill=\"#e26f46\" fill-rule=\"evenodd\" fill-opacity=\"1\" stroke=\"#000000\" stroke-opacity=\"1\" stroke-width=\"3.2\"/>\n",
       "<circle clip-path=\"url(#clip772)\" cx=\"1418.82\" cy=\"669.865\" r=\"14.4\" fill=\"#e26f46\" fill-rule=\"evenodd\" fill-opacity=\"1\" stroke=\"#000000\" stroke-opacity=\"1\" stroke-width=\"3.2\"/>\n",
       "<circle clip-path=\"url(#clip772)\" cx=\"1460.38\" cy=\"642.156\" r=\"14.4\" fill=\"#e26f46\" fill-rule=\"evenodd\" fill-opacity=\"1\" stroke=\"#000000\" stroke-opacity=\"1\" stroke-width=\"3.2\"/>\n",
       "<circle clip-path=\"url(#clip772)\" cx=\"1501.95\" cy=\"614.447\" r=\"14.4\" fill=\"#e26f46\" fill-rule=\"evenodd\" fill-opacity=\"1\" stroke=\"#000000\" stroke-opacity=\"1\" stroke-width=\"3.2\"/>\n",
       "<circle clip-path=\"url(#clip772)\" cx=\"1543.51\" cy=\"586.738\" r=\"14.4\" fill=\"#e26f46\" fill-rule=\"evenodd\" fill-opacity=\"1\" stroke=\"#000000\" stroke-opacity=\"1\" stroke-width=\"3.2\"/>\n",
       "<circle clip-path=\"url(#clip772)\" cx=\"1585.07\" cy=\"559.029\" r=\"14.4\" fill=\"#e26f46\" fill-rule=\"evenodd\" fill-opacity=\"1\" stroke=\"#000000\" stroke-opacity=\"1\" stroke-width=\"3.2\"/>\n",
       "<circle clip-path=\"url(#clip772)\" cx=\"1626.64\" cy=\"531.32\" r=\"14.4\" fill=\"#e26f46\" fill-rule=\"evenodd\" fill-opacity=\"1\" stroke=\"#000000\" stroke-opacity=\"1\" stroke-width=\"3.2\"/>\n",
       "<circle clip-path=\"url(#clip772)\" cx=\"1668.2\" cy=\"503.611\" r=\"14.4\" fill=\"#e26f46\" fill-rule=\"evenodd\" fill-opacity=\"1\" stroke=\"#000000\" stroke-opacity=\"1\" stroke-width=\"3.2\"/>\n",
       "<circle clip-path=\"url(#clip772)\" cx=\"1709.77\" cy=\"475.902\" r=\"14.4\" fill=\"#e26f46\" fill-rule=\"evenodd\" fill-opacity=\"1\" stroke=\"#000000\" stroke-opacity=\"1\" stroke-width=\"3.2\"/>\n",
       "<circle clip-path=\"url(#clip772)\" cx=\"1751.33\" cy=\"448.193\" r=\"14.4\" fill=\"#e26f46\" fill-rule=\"evenodd\" fill-opacity=\"1\" stroke=\"#000000\" stroke-opacity=\"1\" stroke-width=\"3.2\"/>\n",
       "<circle clip-path=\"url(#clip772)\" cx=\"1792.89\" cy=\"420.484\" r=\"14.4\" fill=\"#e26f46\" fill-rule=\"evenodd\" fill-opacity=\"1\" stroke=\"#000000\" stroke-opacity=\"1\" stroke-width=\"3.2\"/>\n",
       "<circle clip-path=\"url(#clip772)\" cx=\"1834.46\" cy=\"392.775\" r=\"14.4\" fill=\"#e26f46\" fill-rule=\"evenodd\" fill-opacity=\"1\" stroke=\"#000000\" stroke-opacity=\"1\" stroke-width=\"3.2\"/>\n",
       "<circle clip-path=\"url(#clip772)\" cx=\"1876.02\" cy=\"365.066\" r=\"14.4\" fill=\"#e26f46\" fill-rule=\"evenodd\" fill-opacity=\"1\" stroke=\"#000000\" stroke-opacity=\"1\" stroke-width=\"3.2\"/>\n",
       "<circle clip-path=\"url(#clip772)\" cx=\"1917.58\" cy=\"337.357\" r=\"14.4\" fill=\"#e26f46\" fill-rule=\"evenodd\" fill-opacity=\"1\" stroke=\"#000000\" stroke-opacity=\"1\" stroke-width=\"3.2\"/>\n",
       "<circle clip-path=\"url(#clip772)\" cx=\"1959.15\" cy=\"309.648\" r=\"14.4\" fill=\"#e26f46\" fill-rule=\"evenodd\" fill-opacity=\"1\" stroke=\"#000000\" stroke-opacity=\"1\" stroke-width=\"3.2\"/>\n",
       "<circle clip-path=\"url(#clip772)\" cx=\"2000.71\" cy=\"281.939\" r=\"14.4\" fill=\"#e26f46\" fill-rule=\"evenodd\" fill-opacity=\"1\" stroke=\"#000000\" stroke-opacity=\"1\" stroke-width=\"3.2\"/>\n",
       "<circle clip-path=\"url(#clip772)\" cx=\"2042.27\" cy=\"254.23\" r=\"14.4\" fill=\"#e26f46\" fill-rule=\"evenodd\" fill-opacity=\"1\" stroke=\"#000000\" stroke-opacity=\"1\" stroke-width=\"3.2\"/>\n",
       "<circle clip-path=\"url(#clip772)\" cx=\"2083.84\" cy=\"226.521\" r=\"14.4\" fill=\"#e26f46\" fill-rule=\"evenodd\" fill-opacity=\"1\" stroke=\"#000000\" stroke-opacity=\"1\" stroke-width=\"3.2\"/>\n",
       "<circle clip-path=\"url(#clip772)\" cx=\"2125.4\" cy=\"198.812\" r=\"14.4\" fill=\"#e26f46\" fill-rule=\"evenodd\" fill-opacity=\"1\" stroke=\"#000000\" stroke-opacity=\"1\" stroke-width=\"3.2\"/>\n",
       "<circle clip-path=\"url(#clip772)\" cx=\"2166.97\" cy=\"171.103\" r=\"14.4\" fill=\"#e26f46\" fill-rule=\"evenodd\" fill-opacity=\"1\" stroke=\"#000000\" stroke-opacity=\"1\" stroke-width=\"3.2\"/>\n",
       "<circle clip-path=\"url(#clip772)\" cx=\"2208.53\" cy=\"143.394\" r=\"14.4\" fill=\"#e26f46\" fill-rule=\"evenodd\" fill-opacity=\"1\" stroke=\"#000000\" stroke-opacity=\"1\" stroke-width=\"3.2\"/>\n",
       "<circle clip-path=\"url(#clip772)\" cx=\"2250.09\" cy=\"115.685\" r=\"14.4\" fill=\"#e26f46\" fill-rule=\"evenodd\" fill-opacity=\"1\" stroke=\"#000000\" stroke-opacity=\"1\" stroke-width=\"3.2\"/>\n",
       "<circle clip-path=\"url(#clip772)\" cx=\"2291.66\" cy=\"87.9763\" r=\"14.4\" fill=\"#e26f46\" fill-rule=\"evenodd\" fill-opacity=\"1\" stroke=\"#000000\" stroke-opacity=\"1\" stroke-width=\"3.2\"/>\n",
       "<circle clip-path=\"url(#clip772)\" cx=\"255.035\" cy=\"87.9763\" r=\"14.4\" fill=\"#3da44d\" fill-rule=\"evenodd\" fill-opacity=\"1\" stroke=\"#000000\" stroke-opacity=\"1\" stroke-width=\"3.2\"/>\n",
       "<circle clip-path=\"url(#clip772)\" cx=\"296.598\" cy=\"142.263\" r=\"14.4\" fill=\"#3da44d\" fill-rule=\"evenodd\" fill-opacity=\"1\" stroke=\"#000000\" stroke-opacity=\"1\" stroke-width=\"3.2\"/>\n",
       "<circle clip-path=\"url(#clip772)\" cx=\"338.162\" cy=\"194.288\" r=\"14.4\" fill=\"#3da44d\" fill-rule=\"evenodd\" fill-opacity=\"1\" stroke=\"#000000\" stroke-opacity=\"1\" stroke-width=\"3.2\"/>\n",
       "<circle clip-path=\"url(#clip772)\" cx=\"379.726\" cy=\"244.051\" r=\"14.4\" fill=\"#3da44d\" fill-rule=\"evenodd\" fill-opacity=\"1\" stroke=\"#000000\" stroke-opacity=\"1\" stroke-width=\"3.2\"/>\n",
       "<circle clip-path=\"url(#clip772)\" cx=\"421.29\" cy=\"291.552\" r=\"14.4\" fill=\"#3da44d\" fill-rule=\"evenodd\" fill-opacity=\"1\" stroke=\"#000000\" stroke-opacity=\"1\" stroke-width=\"3.2\"/>\n",
       "<circle clip-path=\"url(#clip772)\" cx=\"462.853\" cy=\"336.791\" r=\"14.4\" fill=\"#3da44d\" fill-rule=\"evenodd\" fill-opacity=\"1\" stroke=\"#000000\" stroke-opacity=\"1\" stroke-width=\"3.2\"/>\n",
       "<circle clip-path=\"url(#clip772)\" cx=\"504.417\" cy=\"379.769\" r=\"14.4\" fill=\"#3da44d\" fill-rule=\"evenodd\" fill-opacity=\"1\" stroke=\"#000000\" stroke-opacity=\"1\" stroke-width=\"3.2\"/>\n",
       "<circle clip-path=\"url(#clip772)\" cx=\"545.981\" cy=\"420.484\" r=\"14.4\" fill=\"#3da44d\" fill-rule=\"evenodd\" fill-opacity=\"1\" stroke=\"#000000\" stroke-opacity=\"1\" stroke-width=\"3.2\"/>\n",
       "<circle clip-path=\"url(#clip772)\" cx=\"587.544\" cy=\"458.937\" r=\"14.4\" fill=\"#3da44d\" fill-rule=\"evenodd\" fill-opacity=\"1\" stroke=\"#000000\" stroke-opacity=\"1\" stroke-width=\"3.2\"/>\n",
       "<circle clip-path=\"url(#clip772)\" cx=\"629.108\" cy=\"495.128\" r=\"14.4\" fill=\"#3da44d\" fill-rule=\"evenodd\" fill-opacity=\"1\" stroke=\"#000000\" stroke-opacity=\"1\" stroke-width=\"3.2\"/>\n",
       "<circle clip-path=\"url(#clip772)\" cx=\"670.672\" cy=\"529.058\" r=\"14.4\" fill=\"#3da44d\" fill-rule=\"evenodd\" fill-opacity=\"1\" stroke=\"#000000\" stroke-opacity=\"1\" stroke-width=\"3.2\"/>\n",
       "<circle clip-path=\"url(#clip772)\" cx=\"712.236\" cy=\"560.725\" r=\"14.4\" fill=\"#3da44d\" fill-rule=\"evenodd\" fill-opacity=\"1\" stroke=\"#000000\" stroke-opacity=\"1\" stroke-width=\"3.2\"/>\n",
       "<circle clip-path=\"url(#clip772)\" cx=\"753.799\" cy=\"590.131\" r=\"14.4\" fill=\"#3da44d\" fill-rule=\"evenodd\" fill-opacity=\"1\" stroke=\"#000000\" stroke-opacity=\"1\" stroke-width=\"3.2\"/>\n",
       "<circle clip-path=\"url(#clip772)\" cx=\"795.363\" cy=\"617.274\" r=\"14.4\" fill=\"#3da44d\" fill-rule=\"evenodd\" fill-opacity=\"1\" stroke=\"#000000\" stroke-opacity=\"1\" stroke-width=\"3.2\"/>\n",
       "<circle clip-path=\"url(#clip772)\" cx=\"836.927\" cy=\"642.156\" r=\"14.4\" fill=\"#3da44d\" fill-rule=\"evenodd\" fill-opacity=\"1\" stroke=\"#000000\" stroke-opacity=\"1\" stroke-width=\"3.2\"/>\n",
       "<circle clip-path=\"url(#clip772)\" cx=\"878.491\" cy=\"664.775\" r=\"14.4\" fill=\"#3da44d\" fill-rule=\"evenodd\" fill-opacity=\"1\" stroke=\"#000000\" stroke-opacity=\"1\" stroke-width=\"3.2\"/>\n",
       "<circle clip-path=\"url(#clip772)\" cx=\"920.054\" cy=\"685.133\" r=\"14.4\" fill=\"#3da44d\" fill-rule=\"evenodd\" fill-opacity=\"1\" stroke=\"#000000\" stroke-opacity=\"1\" stroke-width=\"3.2\"/>\n",
       "<circle clip-path=\"url(#clip772)\" cx=\"961.618\" cy=\"703.228\" r=\"14.4\" fill=\"#3da44d\" fill-rule=\"evenodd\" fill-opacity=\"1\" stroke=\"#000000\" stroke-opacity=\"1\" stroke-width=\"3.2\"/>\n",
       "<circle clip-path=\"url(#clip772)\" cx=\"1003.18\" cy=\"719.062\" r=\"14.4\" fill=\"#3da44d\" fill-rule=\"evenodd\" fill-opacity=\"1\" stroke=\"#000000\" stroke-opacity=\"1\" stroke-width=\"3.2\"/>\n",
       "<circle clip-path=\"url(#clip772)\" cx=\"1044.75\" cy=\"732.634\" r=\"14.4\" fill=\"#3da44d\" fill-rule=\"evenodd\" fill-opacity=\"1\" stroke=\"#000000\" stroke-opacity=\"1\" stroke-width=\"3.2\"/>\n",
       "<circle clip-path=\"url(#clip772)\" cx=\"1086.31\" cy=\"743.944\" r=\"14.4\" fill=\"#3da44d\" fill-rule=\"evenodd\" fill-opacity=\"1\" stroke=\"#000000\" stroke-opacity=\"1\" stroke-width=\"3.2\"/>\n",
       "<circle clip-path=\"url(#clip772)\" cx=\"1127.87\" cy=\"752.992\" r=\"14.4\" fill=\"#3da44d\" fill-rule=\"evenodd\" fill-opacity=\"1\" stroke=\"#000000\" stroke-opacity=\"1\" stroke-width=\"3.2\"/>\n",
       "<circle clip-path=\"url(#clip772)\" cx=\"1169.44\" cy=\"759.777\" r=\"14.4\" fill=\"#3da44d\" fill-rule=\"evenodd\" fill-opacity=\"1\" stroke=\"#000000\" stroke-opacity=\"1\" stroke-width=\"3.2\"/>\n",
       "<circle clip-path=\"url(#clip772)\" cx=\"1211\" cy=\"764.301\" r=\"14.4\" fill=\"#3da44d\" fill-rule=\"evenodd\" fill-opacity=\"1\" stroke=\"#000000\" stroke-opacity=\"1\" stroke-width=\"3.2\"/>\n",
       "<circle clip-path=\"url(#clip772)\" cx=\"1252.56\" cy=\"766.563\" r=\"14.4\" fill=\"#3da44d\" fill-rule=\"evenodd\" fill-opacity=\"1\" stroke=\"#000000\" stroke-opacity=\"1\" stroke-width=\"3.2\"/>\n",
       "<circle clip-path=\"url(#clip772)\" cx=\"1294.13\" cy=\"766.563\" r=\"14.4\" fill=\"#3da44d\" fill-rule=\"evenodd\" fill-opacity=\"1\" stroke=\"#000000\" stroke-opacity=\"1\" stroke-width=\"3.2\"/>\n",
       "<circle clip-path=\"url(#clip772)\" cx=\"1335.69\" cy=\"764.301\" r=\"14.4\" fill=\"#3da44d\" fill-rule=\"evenodd\" fill-opacity=\"1\" stroke=\"#000000\" stroke-opacity=\"1\" stroke-width=\"3.2\"/>\n",
       "<circle clip-path=\"url(#clip772)\" cx=\"1377.26\" cy=\"759.777\" r=\"14.4\" fill=\"#3da44d\" fill-rule=\"evenodd\" fill-opacity=\"1\" stroke=\"#000000\" stroke-opacity=\"1\" stroke-width=\"3.2\"/>\n",
       "<circle clip-path=\"url(#clip772)\" cx=\"1418.82\" cy=\"752.992\" r=\"14.4\" fill=\"#3da44d\" fill-rule=\"evenodd\" fill-opacity=\"1\" stroke=\"#000000\" stroke-opacity=\"1\" stroke-width=\"3.2\"/>\n",
       "<circle clip-path=\"url(#clip772)\" cx=\"1460.38\" cy=\"743.944\" r=\"14.4\" fill=\"#3da44d\" fill-rule=\"evenodd\" fill-opacity=\"1\" stroke=\"#000000\" stroke-opacity=\"1\" stroke-width=\"3.2\"/>\n",
       "<circle clip-path=\"url(#clip772)\" cx=\"1501.95\" cy=\"732.634\" r=\"14.4\" fill=\"#3da44d\" fill-rule=\"evenodd\" fill-opacity=\"1\" stroke=\"#000000\" stroke-opacity=\"1\" stroke-width=\"3.2\"/>\n",
       "<circle clip-path=\"url(#clip772)\" cx=\"1543.51\" cy=\"719.062\" r=\"14.4\" fill=\"#3da44d\" fill-rule=\"evenodd\" fill-opacity=\"1\" stroke=\"#000000\" stroke-opacity=\"1\" stroke-width=\"3.2\"/>\n",
       "<circle clip-path=\"url(#clip772)\" cx=\"1585.07\" cy=\"703.228\" r=\"14.4\" fill=\"#3da44d\" fill-rule=\"evenodd\" fill-opacity=\"1\" stroke=\"#000000\" stroke-opacity=\"1\" stroke-width=\"3.2\"/>\n",
       "<circle clip-path=\"url(#clip772)\" cx=\"1626.64\" cy=\"685.133\" r=\"14.4\" fill=\"#3da44d\" fill-rule=\"evenodd\" fill-opacity=\"1\" stroke=\"#000000\" stroke-opacity=\"1\" stroke-width=\"3.2\"/>\n",
       "<circle clip-path=\"url(#clip772)\" cx=\"1668.2\" cy=\"664.775\" r=\"14.4\" fill=\"#3da44d\" fill-rule=\"evenodd\" fill-opacity=\"1\" stroke=\"#000000\" stroke-opacity=\"1\" stroke-width=\"3.2\"/>\n",
       "<circle clip-path=\"url(#clip772)\" cx=\"1709.77\" cy=\"642.156\" r=\"14.4\" fill=\"#3da44d\" fill-rule=\"evenodd\" fill-opacity=\"1\" stroke=\"#000000\" stroke-opacity=\"1\" stroke-width=\"3.2\"/>\n",
       "<circle clip-path=\"url(#clip772)\" cx=\"1751.33\" cy=\"617.274\" r=\"14.4\" fill=\"#3da44d\" fill-rule=\"evenodd\" fill-opacity=\"1\" stroke=\"#000000\" stroke-opacity=\"1\" stroke-width=\"3.2\"/>\n",
       "<circle clip-path=\"url(#clip772)\" cx=\"1792.89\" cy=\"590.131\" r=\"14.4\" fill=\"#3da44d\" fill-rule=\"evenodd\" fill-opacity=\"1\" stroke=\"#000000\" stroke-opacity=\"1\" stroke-width=\"3.2\"/>\n",
       "<circle clip-path=\"url(#clip772)\" cx=\"1834.46\" cy=\"560.725\" r=\"14.4\" fill=\"#3da44d\" fill-rule=\"evenodd\" fill-opacity=\"1\" stroke=\"#000000\" stroke-opacity=\"1\" stroke-width=\"3.2\"/>\n",
       "<circle clip-path=\"url(#clip772)\" cx=\"1876.02\" cy=\"529.058\" r=\"14.4\" fill=\"#3da44d\" fill-rule=\"evenodd\" fill-opacity=\"1\" stroke=\"#000000\" stroke-opacity=\"1\" stroke-width=\"3.2\"/>\n",
       "<circle clip-path=\"url(#clip772)\" cx=\"1917.58\" cy=\"495.128\" r=\"14.4\" fill=\"#3da44d\" fill-rule=\"evenodd\" fill-opacity=\"1\" stroke=\"#000000\" stroke-opacity=\"1\" stroke-width=\"3.2\"/>\n",
       "<circle clip-path=\"url(#clip772)\" cx=\"1959.15\" cy=\"458.937\" r=\"14.4\" fill=\"#3da44d\" fill-rule=\"evenodd\" fill-opacity=\"1\" stroke=\"#000000\" stroke-opacity=\"1\" stroke-width=\"3.2\"/>\n",
       "<circle clip-path=\"url(#clip772)\" cx=\"2000.71\" cy=\"420.484\" r=\"14.4\" fill=\"#3da44d\" fill-rule=\"evenodd\" fill-opacity=\"1\" stroke=\"#000000\" stroke-opacity=\"1\" stroke-width=\"3.2\"/>\n",
       "<circle clip-path=\"url(#clip772)\" cx=\"2042.27\" cy=\"379.769\" r=\"14.4\" fill=\"#3da44d\" fill-rule=\"evenodd\" fill-opacity=\"1\" stroke=\"#000000\" stroke-opacity=\"1\" stroke-width=\"3.2\"/>\n",
       "<circle clip-path=\"url(#clip772)\" cx=\"2083.84\" cy=\"336.791\" r=\"14.4\" fill=\"#3da44d\" fill-rule=\"evenodd\" fill-opacity=\"1\" stroke=\"#000000\" stroke-opacity=\"1\" stroke-width=\"3.2\"/>\n",
       "<circle clip-path=\"url(#clip772)\" cx=\"2125.4\" cy=\"291.552\" r=\"14.4\" fill=\"#3da44d\" fill-rule=\"evenodd\" fill-opacity=\"1\" stroke=\"#000000\" stroke-opacity=\"1\" stroke-width=\"3.2\"/>\n",
       "<circle clip-path=\"url(#clip772)\" cx=\"2166.97\" cy=\"244.051\" r=\"14.4\" fill=\"#3da44d\" fill-rule=\"evenodd\" fill-opacity=\"1\" stroke=\"#000000\" stroke-opacity=\"1\" stroke-width=\"3.2\"/>\n",
       "<circle clip-path=\"url(#clip772)\" cx=\"2208.53\" cy=\"194.288\" r=\"14.4\" fill=\"#3da44d\" fill-rule=\"evenodd\" fill-opacity=\"1\" stroke=\"#000000\" stroke-opacity=\"1\" stroke-width=\"3.2\"/>\n",
       "<circle clip-path=\"url(#clip772)\" cx=\"2250.09\" cy=\"142.263\" r=\"14.4\" fill=\"#3da44d\" fill-rule=\"evenodd\" fill-opacity=\"1\" stroke=\"#000000\" stroke-opacity=\"1\" stroke-width=\"3.2\"/>\n",
       "<circle clip-path=\"url(#clip772)\" cx=\"2291.66\" cy=\"87.9763\" r=\"14.4\" fill=\"#3da44d\" fill-rule=\"evenodd\" fill-opacity=\"1\" stroke=\"#000000\" stroke-opacity=\"1\" stroke-width=\"3.2\"/>\n",
       "<polyline clip-path=\"url(#clip772)\" style=\"stroke:#000000; stroke-linecap:round; stroke-linejoin:round; stroke-width:16; stroke-opacity:1; fill:none\" points=\"\n",
       "  255.035,766.846 296.598,766.846 338.162,766.846 379.726,766.846 421.29,766.846 462.853,766.846 504.417,766.846 545.981,766.846 587.544,766.846 629.108,766.846 \n",
       "  670.672,766.846 712.236,766.846 753.799,766.846 795.363,766.846 836.927,766.846 878.491,766.846 920.054,766.846 961.618,766.846 1003.18,766.846 1044.75,766.846 \n",
       "  1086.31,766.846 1127.87,766.846 1169.44,766.846 1211,766.846 1252.56,766.846 1294.13,766.846 1335.69,766.846 1377.26,766.846 1418.82,766.846 1460.38,766.846 \n",
       "  1501.95,766.846 1543.51,766.846 1585.07,766.846 1626.64,766.846 1668.2,766.846 1709.77,766.846 1751.33,766.846 1792.89,766.846 1834.46,766.846 1876.02,766.846 \n",
       "  1917.58,766.846 1959.15,766.846 2000.71,766.846 2042.27,766.846 2083.84,766.846 2125.4,766.846 2166.97,766.846 2208.53,766.846 2250.09,766.846 2291.66,766.846 \n",
       "  \n",
       "  \"/>\n",
       "<path clip-path=\"url(#clip770)\" d=\"\n",
       "M1961.41 406.258 L2280.8 406.258 L2280.8 95.2176 L1961.41 95.2176  Z\n",
       "  \" fill=\"#ffffff\" fill-rule=\"evenodd\" fill-opacity=\"1\"/>\n",
       "<polyline clip-path=\"url(#clip770)\" style=\"stroke:#000000; stroke-linecap:round; stroke-linejoin:round; stroke-width:4; stroke-opacity:1; fill:none\" points=\"\n",
       "  1961.41,406.258 2280.8,406.258 2280.8,95.2176 1961.41,95.2176 1961.41,406.258 \n",
       "  \"/>\n",
       "<circle clip-path=\"url(#clip770)\" cx=\"2057.36\" cy=\"172.978\" r=\"34.56\" fill=\"#009af9\" fill-rule=\"evenodd\" fill-opacity=\"1\" stroke=\"#000000\" stroke-opacity=\"1\" stroke-width=\"7.68\"/>\n",
       "<path clip-path=\"url(#clip770)\" d=\"M2174.07 202.509 Q2171.36 209.453 2168.79 211.571 Q2166.22 213.689 2161.92 213.689 L2156.81 213.689 L2156.81 208.342 L2160.56 208.342 Q2163.2 208.342 2164.66 207.092 Q2166.12 205.842 2167.89 201.189 L2169.04 198.273 L2153.31 160.009 L2160.08 160.009 L2172.23 190.425 L2184.38 160.009 L2191.16 160.009 L2174.07 202.509 Z\" fill=\"#000000\" fill-rule=\"evenodd\" fill-opacity=\"1\" /><path clip-path=\"url(#clip770)\" d=\"M2202.09 192.995 L2213.55 192.995 L2213.55 153.446 L2201.09 155.946 L2201.09 149.558 L2213.48 147.058 L2220.5 147.058 L2220.5 192.995 L2231.95 192.995 L2231.95 198.898 L2202.09 198.898 L2202.09 192.995 Z\" fill=\"#000000\" fill-rule=\"evenodd\" fill-opacity=\"1\" /><circle clip-path=\"url(#clip770)\" cx=\"2057.36\" cy=\"250.738\" r=\"34.56\" fill=\"#e26f46\" fill-rule=\"evenodd\" fill-opacity=\"1\" stroke=\"#000000\" stroke-opacity=\"1\" stroke-width=\"7.68\"/>\n",
       "<path clip-path=\"url(#clip770)\" d=\"M2174.07 280.269 Q2171.36 287.213 2168.79 289.331 Q2166.22 291.449 2161.92 291.449 L2156.81 291.449 L2156.81 286.102 L2160.56 286.102 Q2163.2 286.102 2164.66 284.852 Q2166.12 283.602 2167.89 278.949 L2169.04 276.033 L2153.31 237.769 L2160.08 237.769 L2172.23 268.185 L2184.38 237.769 L2191.16 237.769 L2174.07 280.269 Z\" fill=\"#000000\" fill-rule=\"evenodd\" fill-opacity=\"1\" /><path clip-path=\"url(#clip770)\" d=\"M2206.92 270.755 L2231.4 270.755 L2231.4 276.658 L2198.48 276.658 L2198.48 270.755 Q2202.47 266.623 2209.35 259.678 Q2216.26 252.699 2218.03 250.685 Q2221.4 246.901 2222.72 244.297 Q2224.07 241.658 2224.07 239.123 Q2224.07 234.991 2221.15 232.387 Q2218.27 229.783 2213.62 229.783 Q2210.32 229.783 2206.64 230.929 Q2203 232.074 2198.83 234.401 L2198.83 227.318 Q2203.06 225.616 2206.75 224.748 Q2210.43 223.88 2213.48 223.88 Q2221.54 223.88 2226.33 227.908 Q2231.12 231.936 2231.12 238.672 Q2231.12 241.866 2229.9 244.748 Q2228.72 247.595 2225.56 251.484 Q2224.7 252.491 2220.04 257.317 Q2215.39 262.109 2206.92 270.755 Z\" fill=\"#000000\" fill-rule=\"evenodd\" fill-opacity=\"1\" /><circle clip-path=\"url(#clip770)\" cx=\"2057.36\" cy=\"328.498\" r=\"34.56\" fill=\"#3da44d\" fill-rule=\"evenodd\" fill-opacity=\"1\" stroke=\"#000000\" stroke-opacity=\"1\" stroke-width=\"7.68\"/>\n",
       "<path clip-path=\"url(#clip770)\" d=\"M2174.07 358.029 Q2171.36 364.973 2168.79 367.091 Q2166.22 369.209 2161.92 369.209 L2156.81 369.209 L2156.81 363.862 L2160.56 363.862 Q2163.2 363.862 2164.66 362.612 Q2166.12 361.362 2167.89 356.709 L2169.04 353.793 L2153.31 315.529 L2160.08 315.529 L2172.23 345.945 L2184.38 315.529 L2191.16 315.529 L2174.07 358.029 Z\" fill=\"#000000\" fill-rule=\"evenodd\" fill-opacity=\"1\" /><path clip-path=\"url(#clip770)\" d=\"M2222.13 326.466 Q2227.16 327.543 2229.97 330.945 Q2232.82 334.348 2232.82 339.348 Q2232.82 347.022 2227.54 351.223 Q2222.27 355.424 2212.54 355.424 Q2209.28 355.424 2205.81 354.765 Q2202.37 354.14 2198.69 352.855 L2198.69 346.084 Q2201.61 347.786 2205.08 348.654 Q2208.55 349.522 2212.34 349.522 Q2218.93 349.522 2222.37 346.918 Q2225.84 344.313 2225.84 339.348 Q2225.84 334.765 2222.61 332.195 Q2219.42 329.591 2213.69 329.591 L2207.65 329.591 L2207.65 323.827 L2213.97 323.827 Q2219.14 323.827 2221.88 321.779 Q2224.63 319.696 2224.63 315.807 Q2224.63 311.814 2221.78 309.696 Q2218.97 307.543 2213.69 307.543 Q2210.81 307.543 2207.51 308.168 Q2204.21 308.793 2200.25 310.112 L2200.25 303.862 Q2204.25 302.751 2207.72 302.196 Q2211.22 301.64 2214.31 301.64 Q2222.3 301.64 2226.95 305.286 Q2231.61 308.897 2231.61 315.077 Q2231.61 319.383 2229.14 322.369 Q2226.68 325.32 2222.13 326.466 Z\" fill=\"#000000\" fill-rule=\"evenodd\" fill-opacity=\"1\" /></svg>\n"
      ]
     },
     "execution_count": 26,
     "metadata": {},
     "output_type": "execute_result"
    }
   ],
   "source": [
    "x = LinRange(-1, 1, 50)\n",
    "A = vander(x, 4)\n",
    "M = A * [.5 0 0 0; # 0.5\n",
    "         0  1 0 0;  # x\n",
    "         0  0 1 0]' # x^2\n",
    "scatter(x, M)\n",
    "plot!(x, 0*x, label=:none, color=:black)"
   ]
  },
  {
   "cell_type": "markdown",
   "id": "fe22f024",
   "metadata": {
    "cell_style": "split"
   },
   "source": [
    "* Which inner product will be zero?\n",
    "\n",
    "  * Which functions are even and odd?"
   ]
  },
  {
   "cell_type": "markdown",
   "id": "ffae59ed",
   "metadata": {
    "slideshow": {
     "slide_type": "slide"
    }
   },
   "source": [
    "# Polynomial inner products"
   ]
  },
  {
   "cell_type": "code",
   "execution_count": 27,
   "id": "3c8c7db8",
   "metadata": {
    "cell_style": "split"
   },
   "outputs": [
    {
     "data": {
      "text/plain": [
       "-2.220446049250313e-16"
      ]
     },
     "execution_count": 27,
     "metadata": {},
     "output_type": "execute_result"
    }
   ],
   "source": [
    "M[:,1]' * M[:,2]"
   ]
  },
  {
   "cell_type": "code",
   "execution_count": 28,
   "id": "9ee5e1f7",
   "metadata": {
    "cell_style": "split"
   },
   "outputs": [
    {
     "data": {
      "text/plain": [
       "8.673469387755102"
      ]
     },
     "execution_count": 28,
     "metadata": {},
     "output_type": "execute_result"
    }
   ],
   "source": [
    "M[:,1]' * M[:,3]"
   ]
  },
  {
   "cell_type": "code",
   "execution_count": 29,
   "id": "68ad1630",
   "metadata": {
    "cell_style": "split"
   },
   "outputs": [
    {
     "data": {
      "text/plain": [
       "-4.440892098500626e-16"
      ]
     },
     "execution_count": 29,
     "metadata": {},
     "output_type": "execute_result"
    }
   ],
   "source": [
    "M[:,2]' * M[:,3]"
   ]
  }
 ],
 "metadata": {
  "@webio": {
   "lastCommId": "cd1892c1e2064686902fbdf399e6e3e3",
   "lastKernelId": "6eae1736-6531-4224-a6c2-38e7ff163d19"
  },
  "celltoolbar": "Slideshow",
  "hide_code_all_hidden": false,
  "kernelspec": {
   "display_name": "Julia 1.7.2",
   "language": "julia",
   "name": "julia-1.7"
  },
  "language_info": {
   "file_extension": ".jl",
   "mimetype": "application/julia",
   "name": "julia",
   "version": "1.8.5"
  },
  "rise": {
   "enable_chalkboard": true
  }
 },
 "nbformat": 4,
 "nbformat_minor": 5
}
