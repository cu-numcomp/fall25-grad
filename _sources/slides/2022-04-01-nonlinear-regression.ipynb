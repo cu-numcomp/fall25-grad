{
 "cells": [
  {
   "cell_type": "markdown",
   "id": "4159be0e",
   "metadata": {
    "hideCode": false,
    "hidePrompt": false,
    "slideshow": {
     "slide_type": "slide"
    }
   },
   "source": [
    "# 2022-04-01 Nonlinear Regression\n",
    "\n",
    "## Last time\n",
    "\n",
    "* Discuss projects\n",
    "* Gradient-based optimization for linear models\n",
    "* Effect of conditioning on convergence rate\n",
    "\n",
    "## Today\n",
    "* Nonlinear models\n",
    "* Computing derivatives\n",
    "  * numeric\n",
    "  * analytic by hand\n",
    "  * algorithmic (automatic) differentiation"
   ]
  },
  {
   "cell_type": "code",
   "execution_count": 1,
   "id": "eb781a7a",
   "metadata": {
    "slideshow": {
     "slide_type": "skip"
    }
   },
   "outputs": [
    {
     "data": {
      "text/plain": [
       "vcond (generic function with 1 method)"
      ]
     },
     "execution_count": 1,
     "metadata": {},
     "output_type": "execute_result"
    }
   ],
   "source": [
    "using LinearAlgebra\n",
    "using Plots\n",
    "default(linewidth=4, legendfontsize=12)\n",
    "\n",
    "function vander(x, k=nothing)\n",
    "    if isnothing(k)\n",
    "        k = length(x)\n",
    "    end\n",
    "    m = length(x)\n",
    "    V = ones(m, k)\n",
    "    for j in 2:k\n",
    "        V[:, j] = V[:, j-1] .* x\n",
    "    end\n",
    "    V\n",
    "end\n",
    "\n",
    "function vander_chebyshev(x, n=nothing)\n",
    "    if isnothing(n)\n",
    "        n = length(x) # Square by default\n",
    "    end\n",
    "    m = length(x)\n",
    "    T = ones(m, n)\n",
    "    if n > 1\n",
    "        T[:, 2] = x\n",
    "    end\n",
    "    for k in 3:n\n",
    "        #T[:, k] = x .* T[:, k-1]\n",
    "        T[:, k] = 2 * x .* T[:,k-1] - T[:, k-2]\n",
    "    end\n",
    "    T\n",
    "end\n",
    "\n",
    "function chebyshev_regress_eval(x, xx, n)\n",
    "    V = vander_chebyshev(x, n)\n",
    "    vander_chebyshev(xx, n) / V\n",
    "end\n",
    "\n",
    "runge(x) = 1 / (1 + 10*x^2)\n",
    "runge_noisy(x, sigma) = runge.(x) + randn(size(x)) * sigma\n",
    "\n",
    "CosRange(a, b, n) = (a + b)/2 .+ (b - a)/2 * cos.(LinRange(-pi, 0, n))\n",
    "\n",
    "vcond(mat, points, nmax) = [cond(mat(points(-1, 1, n))) for n in 2:nmax]"
   ]
  },
  {
   "cell_type": "markdown",
   "id": "ab251374",
   "metadata": {
    "slideshow": {
     "slide_type": "slide"
    }
   },
   "source": [
    "## Gradient descent\n",
    "\n",
    "Instead of solving the least squares problem using linear algebra (QR factorization), we could solve it using gradient descent.  That is, on each iteration, we'll take a step in the direction of the negative gradient."
   ]
  },
  {
   "cell_type": "code",
   "execution_count": 2,
   "id": "04841eea",
   "metadata": {
    "cell_style": "center"
   },
   "outputs": [
    {
     "data": {
      "text/plain": [
       "grad_descent (generic function with 1 method)"
      ]
     },
     "execution_count": 2,
     "metadata": {},
     "output_type": "execute_result"
    }
   ],
   "source": [
    "function grad_descent(loss, grad, c0; gamma=1e-3, tol=1e-5)\n",
    "    \"\"\"Minimize loss(c) via gradient descent with initial guess c0\n",
    "    using learning rate gamma.  Declares convergence when gradient\n",
    "    is less than tol or after 500 steps.\n",
    "    \"\"\"\n",
    "    c = copy(c0)\n",
    "    chist = [copy(c)]\n",
    "    lhist = [loss(c)]\n",
    "    for it in 1:500\n",
    "        g = grad(c)\n",
    "        c -= gamma * g\n",
    "        push!(chist, copy(c))\n",
    "        push!(lhist, loss(c))\n",
    "        if norm(g) < tol\n",
    "            break\n",
    "        end\n",
    "    end\n",
    "    (c, hcat(chist...), lhist)\n",
    "end"
   ]
  },
  {
   "cell_type": "markdown",
   "id": "ca23b5fe",
   "metadata": {
    "slideshow": {
     "slide_type": "slide"
    }
   },
   "source": [
    "## Quadratic model"
   ]
  },
  {
   "cell_type": "code",
   "execution_count": 43,
   "id": "ab3a31f0",
   "metadata": {
    "cell_style": "split",
    "hideCode": false,
    "scrolled": true
   },
   "outputs": [
    {
     "name": "stdout",
     "output_type": "stream",
     "text": [
      "cond(A) = 21.163274649089434\n"
     ]
    },
    {
     "data": {
      "image/svg+xml": [
       "<?xml version=\"1.0\" encoding=\"utf-8\"?>\n",
       "<svg xmlns=\"http://www.w3.org/2000/svg\" xmlns:xlink=\"http://www.w3.org/1999/xlink\" width=\"600\" height=\"400\" viewBox=\"0 0 2400 1600\">\n",
       "<defs>\n",
       "  <clipPath id=\"clip720\">\n",
       "    <rect x=\"0\" y=\"0\" width=\"2400\" height=\"1600\"/>\n",
       "  </clipPath>\n",
       "</defs>\n",
       "<path clip-path=\"url(#clip720)\" d=\"\n",
       "M0 1600 L2400 1600 L2400 0 L0 0  Z\n",
       "  \" fill=\"#ffffff\" fill-rule=\"evenodd\" fill-opacity=\"1\"/>\n",
       "<defs>\n",
       "  <clipPath id=\"clip721\">\n",
       "    <rect x=\"480\" y=\"0\" width=\"1681\" height=\"1600\"/>\n",
       "  </clipPath>\n",
       "</defs>\n",
       "<path clip-path=\"url(#clip720)\" d=\"\n",
       "M213.607 1486.45 L2352.76 1486.45 L2352.76 47.2441 L213.607 47.2441  Z\n",
       "  \" fill=\"#ffffff\" fill-rule=\"evenodd\" fill-opacity=\"1\"/>\n",
       "<defs>\n",
       "  <clipPath id=\"clip722\">\n",
       "    <rect x=\"213\" y=\"47\" width=\"2140\" height=\"1440\"/>\n",
       "  </clipPath>\n",
       "</defs>\n",
       "<polyline clip-path=\"url(#clip722)\" style=\"stroke:#000000; stroke-linecap:butt; stroke-linejoin:round; stroke-width:2; stroke-opacity:0.1; fill:none\" points=\"\n",
       "  213.607,1486.45 213.607,47.2441 \n",
       "  \"/>\n",
       "<polyline clip-path=\"url(#clip722)\" style=\"stroke:#000000; stroke-linecap:butt; stroke-linejoin:round; stroke-width:2; stroke-opacity:0.1; fill:none\" points=\"\n",
       "  748.395,1486.45 748.395,47.2441 \n",
       "  \"/>\n",
       "<polyline clip-path=\"url(#clip722)\" style=\"stroke:#000000; stroke-linecap:butt; stroke-linejoin:round; stroke-width:2; stroke-opacity:0.1; fill:none\" points=\"\n",
       "  1283.18,1486.45 1283.18,47.2441 \n",
       "  \"/>\n",
       "<polyline clip-path=\"url(#clip722)\" style=\"stroke:#000000; stroke-linecap:butt; stroke-linejoin:round; stroke-width:2; stroke-opacity:0.1; fill:none\" points=\"\n",
       "  1817.97,1486.45 1817.97,47.2441 \n",
       "  \"/>\n",
       "<polyline clip-path=\"url(#clip722)\" style=\"stroke:#000000; stroke-linecap:butt; stroke-linejoin:round; stroke-width:2; stroke-opacity:0.1; fill:none\" points=\"\n",
       "  2352.76,1486.45 2352.76,47.2441 \n",
       "  \"/>\n",
       "<polyline clip-path=\"url(#clip720)\" style=\"stroke:#000000; stroke-linecap:butt; stroke-linejoin:round; stroke-width:4; stroke-opacity:1; fill:none\" points=\"\n",
       "  213.607,1486.45 2352.76,1486.45 \n",
       "  \"/>\n",
       "<polyline clip-path=\"url(#clip720)\" style=\"stroke:#000000; stroke-linecap:butt; stroke-linejoin:round; stroke-width:4; stroke-opacity:1; fill:none\" points=\"\n",
       "  213.607,1486.45 213.607,1467.55 \n",
       "  \"/>\n",
       "<polyline clip-path=\"url(#clip720)\" style=\"stroke:#000000; stroke-linecap:butt; stroke-linejoin:round; stroke-width:4; stroke-opacity:1; fill:none\" points=\"\n",
       "  748.395,1486.45 748.395,1467.55 \n",
       "  \"/>\n",
       "<polyline clip-path=\"url(#clip720)\" style=\"stroke:#000000; stroke-linecap:butt; stroke-linejoin:round; stroke-width:4; stroke-opacity:1; fill:none\" points=\"\n",
       "  1283.18,1486.45 1283.18,1467.55 \n",
       "  \"/>\n",
       "<polyline clip-path=\"url(#clip720)\" style=\"stroke:#000000; stroke-linecap:butt; stroke-linejoin:round; stroke-width:4; stroke-opacity:1; fill:none\" points=\"\n",
       "  1817.97,1486.45 1817.97,1467.55 \n",
       "  \"/>\n",
       "<polyline clip-path=\"url(#clip720)\" style=\"stroke:#000000; stroke-linecap:butt; stroke-linejoin:round; stroke-width:4; stroke-opacity:1; fill:none\" points=\"\n",
       "  2352.76,1486.45 2352.76,1467.55 \n",
       "  \"/>\n",
       "<path clip-path=\"url(#clip720)\" d=\"M213.607 1517.37 Q209.996 1517.37 208.168 1520.93 Q206.362 1524.47 206.362 1531.6 Q206.362 1538.71 208.168 1542.27 Q209.996 1545.82 213.607 1545.82 Q217.242 1545.82 219.047 1542.27 Q220.876 1538.71 220.876 1531.6 Q220.876 1524.47 219.047 1520.93 Q217.242 1517.37 213.607 1517.37 M213.607 1513.66 Q219.418 1513.66 222.473 1518.27 Q225.552 1522.85 225.552 1531.6 Q225.552 1540.33 222.473 1544.94 Q219.418 1549.52 213.607 1549.52 Q207.797 1549.52 204.719 1544.94 Q201.663 1540.33 201.663 1531.6 Q201.663 1522.85 204.719 1518.27 Q207.797 1513.66 213.607 1513.66 Z\" fill=\"#000000\" fill-rule=\"evenodd\" fill-opacity=\"1\" /><path clip-path=\"url(#clip720)\" d=\"M727.168 1544.91 L743.487 1544.91 L743.487 1548.85 L721.543 1548.85 L721.543 1544.91 Q724.205 1542.16 728.788 1537.53 Q733.395 1532.88 734.575 1531.53 Q736.821 1529.01 737.7 1527.27 Q738.603 1525.51 738.603 1523.82 Q738.603 1521.07 736.659 1519.33 Q734.737 1517.6 731.635 1517.6 Q729.436 1517.6 726.983 1518.36 Q724.552 1519.13 721.774 1520.68 L721.774 1515.95 Q724.598 1514.82 727.052 1514.24 Q729.506 1513.66 731.543 1513.66 Q736.913 1513.66 740.108 1516.35 Q743.302 1519.03 743.302 1523.52 Q743.302 1525.65 742.492 1527.57 Q741.705 1529.47 739.598 1532.07 Q739.02 1532.74 735.918 1535.95 Q732.816 1539.15 727.168 1544.91 Z\" fill=\"#000000\" fill-rule=\"evenodd\" fill-opacity=\"1\" /><path clip-path=\"url(#clip720)\" d=\"M763.302 1517.37 Q759.691 1517.37 757.862 1520.93 Q756.057 1524.47 756.057 1531.6 Q756.057 1538.71 757.862 1542.27 Q759.691 1545.82 763.302 1545.82 Q766.936 1545.82 768.742 1542.27 Q770.57 1538.71 770.57 1531.6 Q770.57 1524.47 768.742 1520.93 Q766.936 1517.37 763.302 1517.37 M763.302 1513.66 Q769.112 1513.66 772.168 1518.27 Q775.246 1522.85 775.246 1531.6 Q775.246 1540.33 772.168 1544.94 Q769.112 1549.52 763.302 1549.52 Q757.492 1549.52 754.413 1544.94 Q751.358 1540.33 751.358 1531.6 Q751.358 1522.85 754.413 1518.27 Q757.492 1513.66 763.302 1513.66 Z\" fill=\"#000000\" fill-rule=\"evenodd\" fill-opacity=\"1\" /><path clip-path=\"url(#clip720)\" d=\"M1271.35 1518.36 L1259.55 1536.81 L1271.35 1536.81 L1271.35 1518.36 M1270.13 1514.29 L1276.01 1514.29 L1276.01 1536.81 L1280.94 1536.81 L1280.94 1540.7 L1276.01 1540.7 L1276.01 1548.85 L1271.35 1548.85 L1271.35 1540.7 L1255.75 1540.7 L1255.75 1536.19 L1270.13 1514.29 Z\" fill=\"#000000\" fill-rule=\"evenodd\" fill-opacity=\"1\" /><path clip-path=\"url(#clip720)\" d=\"M1298.67 1517.37 Q1295.06 1517.37 1293.23 1520.93 Q1291.42 1524.47 1291.42 1531.6 Q1291.42 1538.71 1293.23 1542.27 Q1295.06 1545.82 1298.67 1545.82 Q1302.3 1545.82 1304.11 1542.27 Q1305.94 1538.71 1305.94 1531.6 Q1305.94 1524.47 1304.11 1520.93 Q1302.3 1517.37 1298.67 1517.37 M1298.67 1513.66 Q1304.48 1513.66 1307.53 1518.27 Q1310.61 1522.85 1310.61 1531.6 Q1310.61 1540.33 1307.53 1544.94 Q1304.48 1549.52 1298.67 1549.52 Q1292.86 1549.52 1289.78 1544.94 Q1286.72 1540.33 1286.72 1531.6 Q1286.72 1522.85 1289.78 1518.27 Q1292.86 1513.66 1298.67 1513.66 Z\" fill=\"#000000\" fill-rule=\"evenodd\" fill-opacity=\"1\" /><path clip-path=\"url(#clip720)\" d=\"M1803.37 1529.7 Q1800.23 1529.7 1798.37 1531.86 Q1796.55 1534.01 1796.55 1537.76 Q1796.55 1541.49 1798.37 1543.66 Q1800.23 1545.82 1803.37 1545.82 Q1806.52 1545.82 1808.35 1543.66 Q1810.2 1541.49 1810.2 1537.76 Q1810.2 1534.01 1808.35 1531.86 Q1806.52 1529.7 1803.37 1529.7 M1812.66 1515.05 L1812.66 1519.31 Q1810.9 1518.48 1809.09 1518.04 Q1807.31 1517.6 1805.55 1517.6 Q1800.92 1517.6 1798.47 1520.72 Q1796.04 1523.85 1795.69 1530.17 Q1797.05 1528.15 1799.11 1527.09 Q1801.17 1526 1803.65 1526 Q1808.86 1526 1811.87 1529.17 Q1814.9 1532.32 1814.9 1537.76 Q1814.9 1543.08 1811.75 1546.3 Q1808.61 1549.52 1803.37 1549.52 Q1797.38 1549.52 1794.21 1544.94 Q1791.04 1540.33 1791.04 1531.6 Q1791.04 1523.41 1794.92 1518.55 Q1798.81 1513.66 1805.36 1513.66 Q1807.12 1513.66 1808.91 1514.01 Q1810.71 1514.36 1812.66 1515.05 Z\" fill=\"#000000\" fill-rule=\"evenodd\" fill-opacity=\"1\" /><path clip-path=\"url(#clip720)\" d=\"M1832.96 1517.37 Q1829.35 1517.37 1827.52 1520.93 Q1825.71 1524.47 1825.71 1531.6 Q1825.71 1538.71 1827.52 1542.27 Q1829.35 1545.82 1832.96 1545.82 Q1836.59 1545.82 1838.4 1542.27 Q1840.23 1538.71 1840.23 1531.6 Q1840.23 1524.47 1838.4 1520.93 Q1836.59 1517.37 1832.96 1517.37 M1832.96 1513.66 Q1838.77 1513.66 1841.82 1518.27 Q1844.9 1522.85 1844.9 1531.6 Q1844.9 1540.33 1841.82 1544.94 Q1838.77 1549.52 1832.96 1549.52 Q1827.15 1549.52 1824.07 1544.94 Q1821.01 1540.33 1821.01 1531.6 Q1821.01 1522.85 1824.07 1518.27 Q1827.15 1513.66 1832.96 1513.66 Z\" fill=\"#000000\" fill-rule=\"evenodd\" fill-opacity=\"1\" /><path clip-path=\"url(#clip720)\" d=\"M2337.63 1532.44 Q2334.3 1532.44 2332.37 1534.22 Q2330.48 1536 2330.48 1539.13 Q2330.48 1542.25 2332.37 1544.03 Q2334.3 1545.82 2337.63 1545.82 Q2340.96 1545.82 2342.88 1544.03 Q2344.8 1542.23 2344.8 1539.13 Q2344.8 1536 2342.88 1534.22 Q2340.99 1532.44 2337.63 1532.44 M2332.95 1530.45 Q2329.94 1529.7 2328.25 1527.64 Q2326.59 1525.58 2326.59 1522.62 Q2326.59 1518.48 2329.53 1516.07 Q2332.49 1513.66 2337.63 1513.66 Q2342.79 1513.66 2345.73 1516.07 Q2348.67 1518.48 2348.67 1522.62 Q2348.67 1525.58 2346.98 1527.64 Q2345.31 1529.7 2342.33 1530.45 Q2345.71 1531.23 2347.58 1533.52 Q2349.48 1535.82 2349.48 1539.13 Q2349.48 1544.15 2346.4 1546.83 Q2343.35 1549.52 2337.63 1549.52 Q2331.91 1549.52 2328.83 1546.83 Q2325.78 1544.15 2325.78 1539.13 Q2325.78 1535.82 2327.68 1533.52 Q2329.57 1531.23 2332.95 1530.45 M2331.24 1523.06 Q2331.24 1525.75 2332.91 1527.25 Q2334.6 1528.76 2337.63 1528.76 Q2340.64 1528.76 2342.33 1527.25 Q2344.04 1525.75 2344.04 1523.06 Q2344.04 1520.38 2342.33 1518.87 Q2340.64 1517.37 2337.63 1517.37 Q2334.6 1517.37 2332.91 1518.87 Q2331.24 1520.38 2331.24 1523.06 Z\" fill=\"#000000\" fill-rule=\"evenodd\" fill-opacity=\"1\" /><path clip-path=\"url(#clip720)\" d=\"M2367.79 1517.37 Q2364.18 1517.37 2362.35 1520.93 Q2360.55 1524.47 2360.55 1531.6 Q2360.55 1538.71 2362.35 1542.27 Q2364.18 1545.82 2367.79 1545.82 Q2371.42 1545.82 2373.23 1542.27 Q2375.06 1538.71 2375.06 1531.6 Q2375.06 1524.47 2373.23 1520.93 Q2371.42 1517.37 2367.79 1517.37 M2367.79 1513.66 Q2373.6 1513.66 2376.66 1518.27 Q2379.73 1522.85 2379.73 1531.6 Q2379.73 1540.33 2376.66 1544.94 Q2373.6 1549.52 2367.79 1549.52 Q2361.98 1549.52 2358.9 1544.94 Q2355.85 1540.33 2355.85 1531.6 Q2355.85 1522.85 2358.9 1518.27 Q2361.98 1513.66 2367.79 1513.66 Z\" fill=\"#000000\" fill-rule=\"evenodd\" fill-opacity=\"1\" /><polyline clip-path=\"url(#clip722)\" style=\"stroke:#000000; stroke-linecap:butt; stroke-linejoin:round; stroke-width:2; stroke-opacity:0.1; fill:none\" points=\"\n",
       "  213.607,1400.98 2352.76,1400.98 \n",
       "  \"/>\n",
       "<polyline clip-path=\"url(#clip722)\" style=\"stroke:#000000; stroke-linecap:butt; stroke-linejoin:round; stroke-width:2; stroke-opacity:0.1; fill:none\" points=\"\n",
       "  213.607,802.482 2352.76,802.482 \n",
       "  \"/>\n",
       "<polyline clip-path=\"url(#clip722)\" style=\"stroke:#000000; stroke-linecap:butt; stroke-linejoin:round; stroke-width:2; stroke-opacity:0.1; fill:none\" points=\"\n",
       "  213.607,203.987 2352.76,203.987 \n",
       "  \"/>\n",
       "<polyline clip-path=\"url(#clip720)\" style=\"stroke:#000000; stroke-linecap:butt; stroke-linejoin:round; stroke-width:4; stroke-opacity:1; fill:none\" points=\"\n",
       "  213.607,1486.45 213.607,47.2441 \n",
       "  \"/>\n",
       "<polyline clip-path=\"url(#clip720)\" style=\"stroke:#000000; stroke-linecap:butt; stroke-linejoin:round; stroke-width:4; stroke-opacity:1; fill:none\" points=\"\n",
       "  213.607,1400.98 232.505,1400.98 \n",
       "  \"/>\n",
       "<polyline clip-path=\"url(#clip720)\" style=\"stroke:#000000; stroke-linecap:butt; stroke-linejoin:round; stroke-width:4; stroke-opacity:1; fill:none\" points=\"\n",
       "  213.607,802.482 232.505,802.482 \n",
       "  \"/>\n",
       "<polyline clip-path=\"url(#clip720)\" style=\"stroke:#000000; stroke-linecap:butt; stroke-linejoin:round; stroke-width:4; stroke-opacity:1; fill:none\" points=\"\n",
       "  213.607,203.987 232.505,203.987 \n",
       "  \"/>\n",
       "<path clip-path=\"url(#clip720)\" d=\"M51.6634 1420.77 L59.3023 1420.77 L59.3023 1394.4 L50.9921 1396.07 L50.9921 1391.81 L59.256 1390.15 L63.9319 1390.15 L63.9319 1420.77 L71.5707 1420.77 L71.5707 1424.71 L51.6634 1424.71 L51.6634 1420.77 Z\" fill=\"#000000\" fill-rule=\"evenodd\" fill-opacity=\"1\" /><path clip-path=\"url(#clip720)\" d=\"M91.0151 1393.22 Q87.404 1393.22 85.5753 1396.79 Q83.7697 1400.33 83.7697 1407.46 Q83.7697 1414.57 85.5753 1418.13 Q87.404 1421.67 91.0151 1421.67 Q94.6493 1421.67 96.4548 1418.13 Q98.2835 1414.57 98.2835 1407.46 Q98.2835 1400.33 96.4548 1396.79 Q94.6493 1393.22 91.0151 1393.22 M91.0151 1389.52 Q96.8252 1389.52 99.8808 1394.13 Q102.959 1398.71 102.959 1407.46 Q102.959 1416.19 99.8808 1420.79 Q96.8252 1425.38 91.0151 1425.38 Q85.2049 1425.38 82.1262 1420.79 Q79.0707 1416.19 79.0707 1407.46 Q79.0707 1398.71 82.1262 1394.13 Q85.2049 1389.52 91.0151 1389.52 Z\" fill=\"#000000\" fill-rule=\"evenodd\" fill-opacity=\"1\" /><path clip-path=\"url(#clip720)\" d=\"M102.959 1383.62 L127.071 1383.62 L127.071 1386.82 L102.959 1386.82 L102.959 1383.62 Z\" fill=\"#000000\" fill-rule=\"evenodd\" fill-opacity=\"1\" /><path clip-path=\"url(#clip720)\" d=\"M135.929 1394.1 L142.136 1394.1 L142.136 1372.68 L135.384 1374.03 L135.384 1370.57 L142.098 1369.22 L145.898 1369.22 L145.898 1394.1 L152.104 1394.1 L152.104 1397.3 L135.929 1397.3 L135.929 1394.1 Z\" fill=\"#000000\" fill-rule=\"evenodd\" fill-opacity=\"1\" /><path clip-path=\"url(#clip720)\" d=\"M167.903 1371.72 Q164.969 1371.72 163.483 1374.61 Q162.016 1377.49 162.016 1383.28 Q162.016 1389.06 163.483 1391.95 Q164.969 1394.83 167.903 1394.83 Q170.855 1394.83 172.322 1391.95 Q173.808 1389.06 173.808 1383.28 Q173.808 1377.49 172.322 1374.61 Q170.855 1371.72 167.903 1371.72 M167.903 1368.71 Q172.623 1368.71 175.106 1372.45 Q177.607 1376.17 177.607 1383.28 Q177.607 1390.37 175.106 1394.12 Q172.623 1397.84 167.903 1397.84 Q163.182 1397.84 160.68 1394.12 Q158.198 1390.37 158.198 1383.28 Q158.198 1376.17 160.68 1372.45 Q163.182 1368.71 167.903 1368.71 Z\" fill=\"#000000\" fill-rule=\"evenodd\" fill-opacity=\"1\" /><path clip-path=\"url(#clip720)\" d=\"M76.9787 822.275 L84.6175 822.275 L84.6175 795.909 L76.3074 797.576 L76.3074 793.317 L84.5712 791.65 L89.2471 791.65 L89.2471 822.275 L96.886 822.275 L96.886 826.21 L76.9787 826.21 L76.9787 822.275 Z\" fill=\"#000000\" fill-rule=\"evenodd\" fill-opacity=\"1\" /><path clip-path=\"url(#clip720)\" d=\"M116.33 794.729 Q112.719 794.729 110.891 798.293 Q109.085 801.835 109.085 808.965 Q109.085 816.071 110.891 819.636 Q112.719 823.178 116.33 823.178 Q119.965 823.178 121.77 819.636 Q123.599 816.071 123.599 808.965 Q123.599 801.835 121.77 798.293 Q119.965 794.729 116.33 794.729 M116.33 791.025 Q122.14 791.025 125.196 795.631 Q128.275 800.215 128.275 808.965 Q128.275 817.692 125.196 822.298 Q122.14 826.881 116.33 826.881 Q110.52 826.881 107.441 822.298 Q104.386 817.692 104.386 808.965 Q104.386 800.215 107.441 795.631 Q110.52 791.025 116.33 791.025 Z\" fill=\"#000000\" fill-rule=\"evenodd\" fill-opacity=\"1\" /><path clip-path=\"url(#clip720)\" d=\"M128.275 785.126 L152.386 785.126 L152.386 788.324 L128.275 788.324 L128.275 785.126 Z\" fill=\"#000000\" fill-rule=\"evenodd\" fill-opacity=\"1\" /><path clip-path=\"url(#clip720)\" d=\"M160.624 770.72 L175.539 770.72 L175.539 773.917 L164.103 773.917 L164.103 780.801 Q164.931 780.518 165.759 780.387 Q166.586 780.236 167.414 780.236 Q172.116 780.236 174.862 782.813 Q177.607 785.39 177.607 789.791 Q177.607 794.323 174.786 796.844 Q171.965 799.345 166.831 799.345 Q165.063 799.345 163.22 799.044 Q161.395 798.743 159.439 798.141 L159.439 794.323 Q161.132 795.245 162.937 795.696 Q164.743 796.148 166.755 796.148 Q170.009 796.148 171.909 794.436 Q173.808 792.725 173.808 789.791 Q173.808 786.857 171.909 785.145 Q170.009 783.434 166.755 783.434 Q165.232 783.434 163.709 783.772 Q162.204 784.111 160.624 784.825 L160.624 770.72 Z\" fill=\"#000000\" fill-rule=\"evenodd\" fill-opacity=\"1\" /><path clip-path=\"url(#clip720)\" d=\"M106.902 223.779 L114.541 223.779 L114.541 197.413 L106.231 199.08 L106.231 194.821 L114.494 193.154 L119.17 193.154 L119.17 223.779 L126.809 223.779 L126.809 227.714 L106.902 227.714 L106.902 223.779 Z\" fill=\"#000000\" fill-rule=\"evenodd\" fill-opacity=\"1\" /><path clip-path=\"url(#clip720)\" d=\"M146.253 196.233 Q142.642 196.233 140.814 199.798 Q139.008 203.339 139.008 210.469 Q139.008 217.575 140.814 221.14 Q142.642 224.682 146.253 224.682 Q149.888 224.682 151.693 221.14 Q153.522 217.575 153.522 210.469 Q153.522 203.339 151.693 199.798 Q149.888 196.233 146.253 196.233 M146.253 192.529 Q152.064 192.529 155.119 197.136 Q158.198 201.719 158.198 210.469 Q158.198 219.196 155.119 223.802 Q152.064 228.386 146.253 228.386 Q140.443 228.386 137.365 223.802 Q134.309 219.196 134.309 210.469 Q134.309 201.719 137.365 197.136 Q140.443 192.529 146.253 192.529 Z\" fill=\"#000000\" fill-rule=\"evenodd\" fill-opacity=\"1\" /><path clip-path=\"url(#clip720)\" d=\"M167.903 174.725 Q164.969 174.725 163.483 177.622 Q162.016 180.499 162.016 186.292 Q162.016 192.066 163.483 194.962 Q164.969 197.84 167.903 197.84 Q170.855 197.84 172.322 194.962 Q173.808 192.066 173.808 186.292 Q173.808 180.499 172.322 177.622 Q170.855 174.725 167.903 174.725 M167.903 171.716 Q172.623 171.716 175.106 175.459 Q177.607 179.183 177.607 186.292 Q177.607 193.383 175.106 197.125 Q172.623 200.849 167.903 200.849 Q163.182 200.849 160.68 197.125 Q158.198 193.383 158.198 186.292 Q158.198 179.183 160.68 175.459 Q163.182 171.716 167.903 171.716 Z\" fill=\"#000000\" fill-rule=\"evenodd\" fill-opacity=\"1\" /><polyline clip-path=\"url(#clip722)\" style=\"stroke:#009af9; stroke-linecap:butt; stroke-linejoin:round; stroke-width:16; stroke-opacity:1; fill:none\" points=\"\n",
       "  240.347,87.9763 267.086,110.007 293.826,131.884 320.565,153.568 347.304,175.01 374.044,196.154 400.783,216.934 427.522,237.275 454.262,257.096 481.001,276.315 \n",
       "  507.74,294.849 534.48,312.629 561.219,329.597 587.958,345.722 614.698,360.997 641.437,375.442 668.177,389.104 694.916,402.048 721.655,414.35 748.395,426.095 \n",
       "  775.134,437.364 801.873,448.235 828.613,458.778 855.352,469.055 882.091,479.117 908.831,489.008 935.57,498.763 962.309,508.411 989.049,517.975 1015.79,527.473 \n",
       "  1042.53,536.92 1069.27,546.326 1096.01,555.701 1122.75,565.052 1149.48,574.384 1176.22,583.702 1202.96,593.008 1229.7,602.305 1256.44,611.595 1283.18,620.881 \n",
       "  1309.92,630.162 1336.66,639.44 1363.4,648.715 1390.14,657.989 1416.88,667.261 1443.62,676.532 1470.36,685.802 1497.1,695.071 1523.84,704.34 1550.58,713.609 \n",
       "  1577.31,722.877 1604.05,732.145 1630.79,741.413 1657.53,750.68 1684.27,759.948 1711.01,769.215 1737.75,778.483 1764.49,787.75 1791.23,797.017 1817.97,806.284 \n",
       "  1844.71,815.552 1871.45,824.819 1898.19,834.086 1924.93,843.353 1951.67,852.62 1978.4,861.887 2005.14,871.155 2031.88,880.422 2058.62,889.689 2085.36,898.956 \n",
       "  2112.1,908.223 2138.84,917.49 2165.58,926.757 2192.32,936.024 2219.06,945.292 2245.8,954.559 2272.54,963.826 2299.28,973.093 2326.02,982.36 2352.76,991.627 \n",
       "  2379.5,1000.89 2406.23,1010.16 2432.97,1019.43 2459.71,1028.7 2486.45,1037.96 2513.19,1047.23 2539.93,1056.5 2566.67,1065.76 2593.41,1075.03 2620.15,1084.3 \n",
       "  2646.89,1093.57 2673.63,1102.83 2700.37,1112.1 2727.11,1121.37 2753.85,1130.63 2780.59,1139.9 2807.32,1149.17 2834.06,1158.44 2860.8,1167.7 2887.54,1176.97 \n",
       "  2914.28,1186.24 2941.02,1195.5 2967.76,1204.77 2994.5,1214.04 3021.24,1223.3 3047.98,1232.57 3074.72,1241.84 3101.46,1251.11 3128.2,1260.37 3154.94,1269.64 \n",
       "  3181.68,1278.91 3208.42,1288.17 3235.15,1297.44 3261.89,1306.71 3288.63,1315.98 3315.37,1325.24 3342.11,1334.51 3368.85,1343.78 3395.59,1353.04 3422.33,1362.31 \n",
       "  3449.07,1371.58 3475.81,1380.85 3502.55,1390.11 3529.29,1399.38 3556.03,1408.65 3582.77,1417.91 3609.51,1427.18 3636.24,1436.45 3662.98,1445.72 \n",
       "  \"/>\n",
       "<path clip-path=\"url(#clip720)\" d=\"\n",
       "M1965.12 250.738 L2281.45 250.738 L2281.45 95.2176 L1965.12 95.2176  Z\n",
       "  \" fill=\"#ffffff\" fill-rule=\"evenodd\" fill-opacity=\"1\"/>\n",
       "<polyline clip-path=\"url(#clip720)\" style=\"stroke:#000000; stroke-linecap:butt; stroke-linejoin:round; stroke-width:4; stroke-opacity:1; fill:none\" points=\"\n",
       "  1965.12,250.738 2281.45,250.738 2281.45,95.2176 1965.12,95.2176 1965.12,250.738 \n",
       "  \"/>\n",
       "<polyline clip-path=\"url(#clip720)\" style=\"stroke:#009af9; stroke-linecap:butt; stroke-linejoin:round; stroke-width:6; stroke-opacity:1; fill:none\" points=\"\n",
       "  1988.89,172.978 2131.5,172.978 \n",
       "  \"/>\n",
       "<path clip-path=\"url(#clip720)\" d=\"M2176.03 202.509 Q2173.32 209.453 2170.75 211.571 Q2168.19 213.689 2163.88 213.689 L2158.78 213.689 L2158.78 208.342 L2162.53 208.342 Q2165.16 208.342 2166.62 207.092 Q2168.08 205.842 2169.85 201.189 L2171 198.273 L2155.27 160.009 L2162.04 160.009 L2174.19 190.425 L2186.35 160.009 L2193.12 160.009 L2176.03 202.509 Z\" fill=\"#000000\" fill-rule=\"evenodd\" fill-opacity=\"1\" /><path clip-path=\"url(#clip720)\" d=\"M2204.05 192.995 L2215.51 192.995 L2215.51 153.446 L2203.05 155.946 L2203.05 149.558 L2215.44 147.058 L2222.46 147.058 L2222.46 192.995 L2233.91 192.995 L2233.91 198.898 L2204.05 198.898 L2204.05 192.995 Z\" fill=\"#000000\" fill-rule=\"evenodd\" fill-opacity=\"1\" /></svg>\n"
      ]
     },
     "execution_count": 43,
     "metadata": {},
     "output_type": "execute_result"
    }
   ],
   "source": [
    "A = [1 1; 1 20]\n",
    "@show cond(A)\n",
    "loss(c) = .5 * c' * A * c\n",
    "grad(c) = A * c\n",
    "\n",
    "c, chist, lhist = grad_descent(loss, grad, [.9, .9],\n",
    "    gamma=.09)\n",
    "plot(lhist, yscale=:log10, xlims=(0, 80))"
   ]
  },
  {
   "cell_type": "code",
   "execution_count": 44,
   "id": "7909e35d",
   "metadata": {
    "cell_style": "split"
   },
   "outputs": [
    {
     "data": {
      "image/svg+xml": [
       "<?xml version=\"1.0\" encoding=\"utf-8\"?>\n",
       "<svg xmlns=\"http://www.w3.org/2000/svg\" xmlns:xlink=\"http://www.w3.org/1999/xlink\" width=\"600\" height=\"400\" viewBox=\"0 0 2400 1600\">\n",
       "<defs>\n",
       "  <clipPath id=\"clip760\">\n",
       "    <rect x=\"0\" y=\"0\" width=\"2400\" height=\"1600\"/>\n",
       "  </clipPath>\n",
       "</defs>\n",
       "<path clip-path=\"url(#clip760)\" d=\"\n",
       "M0 1600 L2400 1600 L2400 0 L0 0  Z\n",
       "  \" fill=\"#ffffff\" fill-rule=\"evenodd\" fill-opacity=\"1\"/>\n",
       "<defs>\n",
       "  <clipPath id=\"clip761\">\n",
       "    <rect x=\"480\" y=\"0\" width=\"1681\" height=\"1600\"/>\n",
       "  </clipPath>\n",
       "</defs>\n",
       "<path clip-path=\"url(#clip760)\" d=\"\n",
       "M193.936 1486.45 L2112.76 1486.45 L2112.76 47.2441 L193.936 47.2441  Z\n",
       "  \" fill=\"#ffffff\" fill-rule=\"evenodd\" fill-opacity=\"1\"/>\n",
       "<defs>\n",
       "  <clipPath id=\"clip762\">\n",
       "    <rect x=\"193\" y=\"47\" width=\"1920\" height=\"1440\"/>\n",
       "  </clipPath>\n",
       "</defs>\n",
       "<polyline clip-path=\"url(#clip762)\" style=\"stroke:#000000; stroke-linecap:butt; stroke-linejoin:round; stroke-width:2; stroke-opacity:0.1; fill:none\" points=\"\n",
       "  248.242,1486.45 248.242,47.2441 \n",
       "  \"/>\n",
       "<polyline clip-path=\"url(#clip762)\" style=\"stroke:#000000; stroke-linecap:butt; stroke-linejoin:round; stroke-width:2; stroke-opacity:0.1; fill:none\" points=\"\n",
       "  700.794,1486.45 700.794,47.2441 \n",
       "  \"/>\n",
       "<polyline clip-path=\"url(#clip762)\" style=\"stroke:#000000; stroke-linecap:butt; stroke-linejoin:round; stroke-width:2; stroke-opacity:0.1; fill:none\" points=\"\n",
       "  1153.35,1486.45 1153.35,47.2441 \n",
       "  \"/>\n",
       "<polyline clip-path=\"url(#clip762)\" style=\"stroke:#000000; stroke-linecap:butt; stroke-linejoin:round; stroke-width:2; stroke-opacity:0.1; fill:none\" points=\"\n",
       "  1605.9,1486.45 1605.9,47.2441 \n",
       "  \"/>\n",
       "<polyline clip-path=\"url(#clip762)\" style=\"stroke:#000000; stroke-linecap:butt; stroke-linejoin:round; stroke-width:2; stroke-opacity:0.1; fill:none\" points=\"\n",
       "  2058.45,1486.45 2058.45,47.2441 \n",
       "  \"/>\n",
       "<polyline clip-path=\"url(#clip760)\" style=\"stroke:#000000; stroke-linecap:butt; stroke-linejoin:round; stroke-width:4; stroke-opacity:1; fill:none\" points=\"\n",
       "  193.936,1486.45 2112.76,1486.45 \n",
       "  \"/>\n",
       "<polyline clip-path=\"url(#clip760)\" style=\"stroke:#000000; stroke-linecap:butt; stroke-linejoin:round; stroke-width:4; stroke-opacity:1; fill:none\" points=\"\n",
       "  248.242,1486.45 248.242,1467.55 \n",
       "  \"/>\n",
       "<polyline clip-path=\"url(#clip760)\" style=\"stroke:#000000; stroke-linecap:butt; stroke-linejoin:round; stroke-width:4; stroke-opacity:1; fill:none\" points=\"\n",
       "  700.794,1486.45 700.794,1467.55 \n",
       "  \"/>\n",
       "<polyline clip-path=\"url(#clip760)\" style=\"stroke:#000000; stroke-linecap:butt; stroke-linejoin:round; stroke-width:4; stroke-opacity:1; fill:none\" points=\"\n",
       "  1153.35,1486.45 1153.35,1467.55 \n",
       "  \"/>\n",
       "<polyline clip-path=\"url(#clip760)\" style=\"stroke:#000000; stroke-linecap:butt; stroke-linejoin:round; stroke-width:4; stroke-opacity:1; fill:none\" points=\"\n",
       "  1605.9,1486.45 1605.9,1467.55 \n",
       "  \"/>\n",
       "<polyline clip-path=\"url(#clip760)\" style=\"stroke:#000000; stroke-linecap:butt; stroke-linejoin:round; stroke-width:4; stroke-opacity:1; fill:none\" points=\"\n",
       "  2058.45,1486.45 2058.45,1467.55 \n",
       "  \"/>\n",
       "<path clip-path=\"url(#clip760)\" d=\"M194.77 1532.02 L224.446 1532.02 L224.446 1535.95 L194.77 1535.95 L194.77 1532.02 Z\" fill=\"#000000\" fill-rule=\"evenodd\" fill-opacity=\"1\" /><path clip-path=\"url(#clip760)\" d=\"M235.349 1544.91 L242.988 1544.91 L242.988 1518.55 L234.677 1520.21 L234.677 1515.95 L242.941 1514.29 L247.617 1514.29 L247.617 1544.91 L255.256 1544.91 L255.256 1548.85 L235.349 1548.85 L235.349 1544.91 Z\" fill=\"#000000\" fill-rule=\"evenodd\" fill-opacity=\"1\" /><path clip-path=\"url(#clip760)\" d=\"M264.7 1542.97 L269.585 1542.97 L269.585 1548.85 L264.7 1548.85 L264.7 1542.97 Z\" fill=\"#000000\" fill-rule=\"evenodd\" fill-opacity=\"1\" /><path clip-path=\"url(#clip760)\" d=\"M289.77 1517.37 Q286.159 1517.37 284.33 1520.93 Q282.524 1524.47 282.524 1531.6 Q282.524 1538.71 284.33 1542.27 Q286.159 1545.82 289.77 1545.82 Q293.404 1545.82 295.21 1542.27 Q297.038 1538.71 297.038 1531.6 Q297.038 1524.47 295.21 1520.93 Q293.404 1517.37 289.77 1517.37 M289.77 1513.66 Q295.58 1513.66 298.635 1518.27 Q301.714 1522.85 301.714 1531.6 Q301.714 1540.33 298.635 1544.94 Q295.58 1549.52 289.77 1549.52 Q283.96 1549.52 280.881 1544.94 Q277.825 1540.33 277.825 1531.6 Q277.825 1522.85 280.881 1518.27 Q283.96 1513.66 289.77 1513.66 Z\" fill=\"#000000\" fill-rule=\"evenodd\" fill-opacity=\"1\" /><path clip-path=\"url(#clip760)\" d=\"M647.82 1532.02 L677.496 1532.02 L677.496 1535.95 L647.82 1535.95 L647.82 1532.02 Z\" fill=\"#000000\" fill-rule=\"evenodd\" fill-opacity=\"1\" /><path clip-path=\"url(#clip760)\" d=\"M697.588 1517.37 Q693.977 1517.37 692.148 1520.93 Q690.343 1524.47 690.343 1531.6 Q690.343 1538.71 692.148 1542.27 Q693.977 1545.82 697.588 1545.82 Q701.222 1545.82 703.028 1542.27 Q704.857 1538.71 704.857 1531.6 Q704.857 1524.47 703.028 1520.93 Q701.222 1517.37 697.588 1517.37 M697.588 1513.66 Q703.398 1513.66 706.454 1518.27 Q709.532 1522.85 709.532 1531.6 Q709.532 1540.33 706.454 1544.94 Q703.398 1549.52 697.588 1549.52 Q691.778 1549.52 688.699 1544.94 Q685.644 1540.33 685.644 1531.6 Q685.644 1522.85 688.699 1518.27 Q691.778 1513.66 697.588 1513.66 Z\" fill=\"#000000\" fill-rule=\"evenodd\" fill-opacity=\"1\" /><path clip-path=\"url(#clip760)\" d=\"M717.75 1542.97 L722.634 1542.97 L722.634 1548.85 L717.75 1548.85 L717.75 1542.97 Z\" fill=\"#000000\" fill-rule=\"evenodd\" fill-opacity=\"1\" /><path clip-path=\"url(#clip760)\" d=\"M732.866 1514.29 L751.222 1514.29 L751.222 1518.22 L737.148 1518.22 L737.148 1526.7 Q738.167 1526.35 739.185 1526.19 Q740.204 1526 741.222 1526 Q747.009 1526 750.389 1529.17 Q753.768 1532.34 753.768 1537.76 Q753.768 1543.34 750.296 1546.44 Q746.824 1549.52 740.505 1549.52 Q738.329 1549.52 736.06 1549.15 Q733.815 1548.78 731.407 1548.04 L731.407 1543.34 Q733.491 1544.47 735.713 1545.03 Q737.935 1545.58 740.412 1545.58 Q744.417 1545.58 746.754 1543.48 Q749.092 1541.37 749.092 1537.76 Q749.092 1534.15 746.754 1532.04 Q744.417 1529.94 740.412 1529.94 Q738.537 1529.94 736.662 1530.35 Q734.81 1530.77 732.866 1531.65 L732.866 1514.29 Z\" fill=\"#000000\" fill-rule=\"evenodd\" fill-opacity=\"1\" /><path clip-path=\"url(#clip760)\" d=\"M1130.73 1517.37 Q1127.12 1517.37 1125.29 1520.93 Q1123.49 1524.47 1123.49 1531.6 Q1123.49 1538.71 1125.29 1542.27 Q1127.12 1545.82 1130.73 1545.82 Q1134.36 1545.82 1136.17 1542.27 Q1138 1538.71 1138 1531.6 Q1138 1524.47 1136.17 1520.93 Q1134.36 1517.37 1130.73 1517.37 M1130.73 1513.66 Q1136.54 1513.66 1139.6 1518.27 Q1142.67 1522.85 1142.67 1531.6 Q1142.67 1540.33 1139.6 1544.94 Q1136.54 1549.52 1130.73 1549.52 Q1124.92 1549.52 1121.84 1544.94 Q1118.79 1540.33 1118.79 1531.6 Q1118.79 1522.85 1121.84 1518.27 Q1124.92 1513.66 1130.73 1513.66 Z\" fill=\"#000000\" fill-rule=\"evenodd\" fill-opacity=\"1\" /><path clip-path=\"url(#clip760)\" d=\"M1150.89 1542.97 L1155.78 1542.97 L1155.78 1548.85 L1150.89 1548.85 L1150.89 1542.97 Z\" fill=\"#000000\" fill-rule=\"evenodd\" fill-opacity=\"1\" /><path clip-path=\"url(#clip760)\" d=\"M1175.96 1517.37 Q1172.35 1517.37 1170.52 1520.93 Q1168.72 1524.47 1168.72 1531.6 Q1168.72 1538.71 1170.52 1542.27 Q1172.35 1545.82 1175.96 1545.82 Q1179.6 1545.82 1181.4 1542.27 Q1183.23 1538.71 1183.23 1531.6 Q1183.23 1524.47 1181.4 1520.93 Q1179.6 1517.37 1175.96 1517.37 M1175.96 1513.66 Q1181.77 1513.66 1184.83 1518.27 Q1187.91 1522.85 1187.91 1531.6 Q1187.91 1540.33 1184.83 1544.94 Q1181.77 1549.52 1175.96 1549.52 Q1170.15 1549.52 1167.07 1544.94 Q1164.02 1540.33 1164.02 1531.6 Q1164.02 1522.85 1167.07 1518.27 Q1170.15 1513.66 1175.96 1513.66 Z\" fill=\"#000000\" fill-rule=\"evenodd\" fill-opacity=\"1\" /><path clip-path=\"url(#clip760)\" d=\"M1583.78 1517.37 Q1580.17 1517.37 1578.34 1520.93 Q1576.53 1524.47 1576.53 1531.6 Q1576.53 1538.71 1578.34 1542.27 Q1580.17 1545.82 1583.78 1545.82 Q1587.41 1545.82 1589.22 1542.27 Q1591.05 1538.71 1591.05 1531.6 Q1591.05 1524.47 1589.22 1520.93 Q1587.41 1517.37 1583.78 1517.37 M1583.78 1513.66 Q1589.59 1513.66 1592.65 1518.27 Q1595.72 1522.85 1595.72 1531.6 Q1595.72 1540.33 1592.65 1544.94 Q1589.59 1549.52 1583.78 1549.52 Q1577.97 1549.52 1574.89 1544.94 Q1571.84 1540.33 1571.84 1531.6 Q1571.84 1522.85 1574.89 1518.27 Q1577.97 1513.66 1583.78 1513.66 Z\" fill=\"#000000\" fill-rule=\"evenodd\" fill-opacity=\"1\" /><path clip-path=\"url(#clip760)\" d=\"M1603.94 1542.97 L1608.83 1542.97 L1608.83 1548.85 L1603.94 1548.85 L1603.94 1542.97 Z\" fill=\"#000000\" fill-rule=\"evenodd\" fill-opacity=\"1\" /><path clip-path=\"url(#clip760)\" d=\"M1619.06 1514.29 L1637.41 1514.29 L1637.41 1518.22 L1623.34 1518.22 L1623.34 1526.7 Q1624.36 1526.35 1625.38 1526.19 Q1626.4 1526 1627.41 1526 Q1633.2 1526 1636.58 1529.17 Q1639.96 1532.34 1639.96 1537.76 Q1639.96 1543.34 1636.49 1546.44 Q1633.02 1549.52 1626.7 1549.52 Q1624.52 1549.52 1622.25 1549.15 Q1620.01 1548.78 1617.6 1548.04 L1617.6 1543.34 Q1619.68 1544.47 1621.9 1545.03 Q1624.13 1545.58 1626.6 1545.58 Q1630.61 1545.58 1632.95 1543.48 Q1635.28 1541.37 1635.28 1537.76 Q1635.28 1534.15 1632.95 1532.04 Q1630.61 1529.94 1626.6 1529.94 Q1624.73 1529.94 1622.85 1530.35 Q1621 1530.77 1619.06 1531.65 L1619.06 1514.29 Z\" fill=\"#000000\" fill-rule=\"evenodd\" fill-opacity=\"1\" /><path clip-path=\"url(#clip760)\" d=\"M2025.6 1544.91 L2033.24 1544.91 L2033.24 1518.55 L2024.93 1520.21 L2024.93 1515.95 L2033.2 1514.29 L2037.87 1514.29 L2037.87 1544.91 L2045.51 1544.91 L2045.51 1548.85 L2025.6 1548.85 L2025.6 1544.91 Z\" fill=\"#000000\" fill-rule=\"evenodd\" fill-opacity=\"1\" /><path clip-path=\"url(#clip760)\" d=\"M2054.95 1542.97 L2059.84 1542.97 L2059.84 1548.85 L2054.95 1548.85 L2054.95 1542.97 Z\" fill=\"#000000\" fill-rule=\"evenodd\" fill-opacity=\"1\" /><path clip-path=\"url(#clip760)\" d=\"M2080.02 1517.37 Q2076.41 1517.37 2074.58 1520.93 Q2072.78 1524.47 2072.78 1531.6 Q2072.78 1538.71 2074.58 1542.27 Q2076.41 1545.82 2080.02 1545.82 Q2083.66 1545.82 2085.46 1542.27 Q2087.29 1538.71 2087.29 1531.6 Q2087.29 1524.47 2085.46 1520.93 Q2083.66 1517.37 2080.02 1517.37 M2080.02 1513.66 Q2085.83 1513.66 2088.89 1518.27 Q2091.97 1522.85 2091.97 1531.6 Q2091.97 1540.33 2088.89 1544.94 Q2085.83 1549.52 2080.02 1549.52 Q2074.21 1549.52 2071.13 1544.94 Q2068.08 1540.33 2068.08 1531.6 Q2068.08 1522.85 2071.13 1518.27 Q2074.21 1513.66 2080.02 1513.66 Z\" fill=\"#000000\" fill-rule=\"evenodd\" fill-opacity=\"1\" /><polyline clip-path=\"url(#clip762)\" style=\"stroke:#000000; stroke-linecap:butt; stroke-linejoin:round; stroke-width:2; stroke-opacity:0.1; fill:none\" points=\"\n",
       "  193.936,1445.72 2112.76,1445.72 \n",
       "  \"/>\n",
       "<polyline clip-path=\"url(#clip762)\" style=\"stroke:#000000; stroke-linecap:butt; stroke-linejoin:round; stroke-width:2; stroke-opacity:0.1; fill:none\" points=\"\n",
       "  193.936,1106.28 2112.76,1106.28 \n",
       "  \"/>\n",
       "<polyline clip-path=\"url(#clip762)\" style=\"stroke:#000000; stroke-linecap:butt; stroke-linejoin:round; stroke-width:2; stroke-opacity:0.1; fill:none\" points=\"\n",
       "  193.936,766.846 2112.76,766.846 \n",
       "  \"/>\n",
       "<polyline clip-path=\"url(#clip762)\" style=\"stroke:#000000; stroke-linecap:butt; stroke-linejoin:round; stroke-width:2; stroke-opacity:0.1; fill:none\" points=\"\n",
       "  193.936,427.411 2112.76,427.411 \n",
       "  \"/>\n",
       "<polyline clip-path=\"url(#clip762)\" style=\"stroke:#000000; stroke-linecap:butt; stroke-linejoin:round; stroke-width:2; stroke-opacity:0.1; fill:none\" points=\"\n",
       "  193.936,87.9763 2112.76,87.9763 \n",
       "  \"/>\n",
       "<polyline clip-path=\"url(#clip760)\" style=\"stroke:#000000; stroke-linecap:butt; stroke-linejoin:round; stroke-width:4; stroke-opacity:1; fill:none\" points=\"\n",
       "  193.936,1486.45 193.936,47.2441 \n",
       "  \"/>\n",
       "<polyline clip-path=\"url(#clip760)\" style=\"stroke:#000000; stroke-linecap:butt; stroke-linejoin:round; stroke-width:4; stroke-opacity:1; fill:none\" points=\"\n",
       "  193.936,1445.72 210.733,1445.72 \n",
       "  \"/>\n",
       "<polyline clip-path=\"url(#clip760)\" style=\"stroke:#000000; stroke-linecap:butt; stroke-linejoin:round; stroke-width:4; stroke-opacity:1; fill:none\" points=\"\n",
       "  193.936,1106.28 210.733,1106.28 \n",
       "  \"/>\n",
       "<polyline clip-path=\"url(#clip760)\" style=\"stroke:#000000; stroke-linecap:butt; stroke-linejoin:round; stroke-width:4; stroke-opacity:1; fill:none\" points=\"\n",
       "  193.936,766.846 210.733,766.846 \n",
       "  \"/>\n",
       "<polyline clip-path=\"url(#clip760)\" style=\"stroke:#000000; stroke-linecap:butt; stroke-linejoin:round; stroke-width:4; stroke-opacity:1; fill:none\" points=\"\n",
       "  193.936,427.411 210.733,427.411 \n",
       "  \"/>\n",
       "<polyline clip-path=\"url(#clip760)\" style=\"stroke:#000000; stroke-linecap:butt; stroke-linejoin:round; stroke-width:4; stroke-opacity:1; fill:none\" points=\"\n",
       "  193.936,87.9763 210.733,87.9763 \n",
       "  \"/>\n",
       "<path clip-path=\"url(#clip760)\" d=\"M50.9921 1446.17 L80.6679 1446.17 L80.6679 1450.1 L50.9921 1450.1 L50.9921 1446.17 Z\" fill=\"#000000\" fill-rule=\"evenodd\" fill-opacity=\"1\" /><path clip-path=\"url(#clip760)\" d=\"M91.5706 1459.06 L99.2095 1459.06 L99.2095 1432.69 L90.8993 1434.36 L90.8993 1430.1 L99.1632 1428.44 L103.839 1428.44 L103.839 1459.06 L111.478 1459.06 L111.478 1463 L91.5706 1463 L91.5706 1459.06 Z\" fill=\"#000000\" fill-rule=\"evenodd\" fill-opacity=\"1\" /><path clip-path=\"url(#clip760)\" d=\"M120.922 1457.12 L125.807 1457.12 L125.807 1463 L120.922 1463 L120.922 1457.12 Z\" fill=\"#000000\" fill-rule=\"evenodd\" fill-opacity=\"1\" /><path clip-path=\"url(#clip760)\" d=\"M145.992 1431.51 Q142.381 1431.51 140.552 1435.08 Q138.746 1438.62 138.746 1445.75 Q138.746 1452.86 140.552 1456.42 Q142.381 1459.96 145.992 1459.96 Q149.626 1459.96 151.431 1456.42 Q153.26 1452.86 153.26 1445.75 Q153.26 1438.62 151.431 1435.08 Q149.626 1431.51 145.992 1431.51 M145.992 1427.81 Q151.802 1427.81 154.857 1432.42 Q157.936 1437 157.936 1445.75 Q157.936 1454.48 154.857 1459.08 Q151.802 1463.67 145.992 1463.67 Q140.181 1463.67 137.103 1459.08 Q134.047 1454.48 134.047 1445.75 Q134.047 1437 137.103 1432.42 Q140.181 1427.81 145.992 1427.81 Z\" fill=\"#000000\" fill-rule=\"evenodd\" fill-opacity=\"1\" /><path clip-path=\"url(#clip760)\" d=\"M51.9875 1106.73 L81.6633 1106.73 L81.6633 1110.67 L51.9875 1110.67 L51.9875 1106.73 Z\" fill=\"#000000\" fill-rule=\"evenodd\" fill-opacity=\"1\" /><path clip-path=\"url(#clip760)\" d=\"M101.756 1092.08 Q98.1447 1092.08 96.316 1095.64 Q94.5104 1099.19 94.5104 1106.32 Q94.5104 1113.42 96.316 1116.99 Q98.1447 1120.53 101.756 1120.53 Q105.39 1120.53 107.196 1116.99 Q109.024 1113.42 109.024 1106.32 Q109.024 1099.19 107.196 1095.64 Q105.39 1092.08 101.756 1092.08 M101.756 1088.38 Q107.566 1088.38 110.621 1092.98 Q113.7 1097.57 113.7 1106.32 Q113.7 1115.04 110.621 1119.65 Q107.566 1124.23 101.756 1124.23 Q95.9456 1124.23 92.8669 1119.65 Q89.8114 1115.04 89.8114 1106.32 Q89.8114 1097.57 92.8669 1092.98 Q95.9456 1088.38 101.756 1088.38 Z\" fill=\"#000000\" fill-rule=\"evenodd\" fill-opacity=\"1\" /><path clip-path=\"url(#clip760)\" d=\"M121.918 1117.68 L126.802 1117.68 L126.802 1123.56 L121.918 1123.56 L121.918 1117.68 Z\" fill=\"#000000\" fill-rule=\"evenodd\" fill-opacity=\"1\" /><path clip-path=\"url(#clip760)\" d=\"M137.033 1089 L155.39 1089 L155.39 1092.94 L141.316 1092.94 L141.316 1101.41 Q142.334 1101.06 143.353 1100.9 Q144.371 1100.71 145.39 1100.71 Q151.177 1100.71 154.556 1103.89 Q157.936 1107.06 157.936 1112.47 Q157.936 1118.05 154.464 1121.15 Q150.992 1124.23 144.672 1124.23 Q142.496 1124.23 140.228 1123.86 Q137.982 1123.49 135.575 1122.75 L135.575 1118.05 Q137.658 1119.19 139.881 1119.74 Q142.103 1120.3 144.58 1120.3 Q148.584 1120.3 150.922 1118.19 Q153.26 1116.08 153.26 1112.47 Q153.26 1108.86 150.922 1106.76 Q148.584 1104.65 144.58 1104.65 Q142.705 1104.65 140.83 1105.07 Q138.978 1105.48 137.033 1106.36 L137.033 1089 Z\" fill=\"#000000\" fill-rule=\"evenodd\" fill-opacity=\"1\" /><path clip-path=\"url(#clip760)\" d=\"M100.76 752.645 Q97.1493 752.645 95.3206 756.209 Q93.515 759.751 93.515 766.881 Q93.515 773.987 95.3206 777.552 Q97.1493 781.094 100.76 781.094 Q104.395 781.094 106.2 777.552 Q108.029 773.987 108.029 766.881 Q108.029 759.751 106.2 756.209 Q104.395 752.645 100.76 752.645 M100.76 748.941 Q106.571 748.941 109.626 753.547 Q112.705 758.131 112.705 766.881 Q112.705 775.608 109.626 780.214 Q106.571 784.797 100.76 784.797 Q94.9502 784.797 91.8715 780.214 Q88.816 775.608 88.816 766.881 Q88.816 758.131 91.8715 753.547 Q94.9502 748.941 100.76 748.941 Z\" fill=\"#000000\" fill-rule=\"evenodd\" fill-opacity=\"1\" /><path clip-path=\"url(#clip760)\" d=\"M120.922 778.246 L125.807 778.246 L125.807 784.126 L120.922 784.126 L120.922 778.246 Z\" fill=\"#000000\" fill-rule=\"evenodd\" fill-opacity=\"1\" /><path clip-path=\"url(#clip760)\" d=\"M145.992 752.645 Q142.381 752.645 140.552 756.209 Q138.746 759.751 138.746 766.881 Q138.746 773.987 140.552 777.552 Q142.381 781.094 145.992 781.094 Q149.626 781.094 151.431 777.552 Q153.26 773.987 153.26 766.881 Q153.26 759.751 151.431 756.209 Q149.626 752.645 145.992 752.645 M145.992 748.941 Q151.802 748.941 154.857 753.547 Q157.936 758.131 157.936 766.881 Q157.936 775.608 154.857 780.214 Q151.802 784.797 145.992 784.797 Q140.181 784.797 137.103 780.214 Q134.047 775.608 134.047 766.881 Q134.047 758.131 137.103 753.547 Q140.181 748.941 145.992 748.941 Z\" fill=\"#000000\" fill-rule=\"evenodd\" fill-opacity=\"1\" /><path clip-path=\"url(#clip760)\" d=\"M101.756 413.21 Q98.1447 413.21 96.316 416.775 Q94.5104 420.316 94.5104 427.446 Q94.5104 434.552 96.316 438.117 Q98.1447 441.659 101.756 441.659 Q105.39 441.659 107.196 438.117 Q109.024 434.552 109.024 427.446 Q109.024 420.316 107.196 416.775 Q105.39 413.21 101.756 413.21 M101.756 409.506 Q107.566 409.506 110.621 414.113 Q113.7 418.696 113.7 427.446 Q113.7 436.173 110.621 440.779 Q107.566 445.362 101.756 445.362 Q95.9456 445.362 92.8669 440.779 Q89.8114 436.173 89.8114 427.446 Q89.8114 418.696 92.8669 414.113 Q95.9456 409.506 101.756 409.506 Z\" fill=\"#000000\" fill-rule=\"evenodd\" fill-opacity=\"1\" /><path clip-path=\"url(#clip760)\" d=\"M121.918 438.812 L126.802 438.812 L126.802 444.691 L121.918 444.691 L121.918 438.812 Z\" fill=\"#000000\" fill-rule=\"evenodd\" fill-opacity=\"1\" /><path clip-path=\"url(#clip760)\" d=\"M137.033 410.131 L155.39 410.131 L155.39 414.066 L141.316 414.066 L141.316 422.538 Q142.334 422.191 143.353 422.029 Q144.371 421.844 145.39 421.844 Q151.177 421.844 154.556 425.015 Q157.936 428.187 157.936 433.603 Q157.936 439.182 154.464 442.284 Q150.992 445.362 144.672 445.362 Q142.496 445.362 140.228 444.992 Q137.982 444.622 135.575 443.881 L135.575 439.182 Q137.658 440.316 139.881 440.872 Q142.103 441.427 144.58 441.427 Q148.584 441.427 150.922 439.321 Q153.26 437.214 153.26 433.603 Q153.26 429.992 150.922 427.886 Q148.584 425.779 144.58 425.779 Q142.705 425.779 140.83 426.196 Q138.978 426.613 137.033 427.492 L137.033 410.131 Z\" fill=\"#000000\" fill-rule=\"evenodd\" fill-opacity=\"1\" /><path clip-path=\"url(#clip760)\" d=\"M91.5706 101.321 L99.2095 101.321 L99.2095 74.9555 L90.8993 76.6222 L90.8993 72.3629 L99.1632 70.6963 L103.839 70.6963 L103.839 101.321 L111.478 101.321 L111.478 105.256 L91.5706 105.256 L91.5706 101.321 Z\" fill=\"#000000\" fill-rule=\"evenodd\" fill-opacity=\"1\" /><path clip-path=\"url(#clip760)\" d=\"M120.922 99.3767 L125.807 99.3767 L125.807 105.256 L120.922 105.256 L120.922 99.3767 Z\" fill=\"#000000\" fill-rule=\"evenodd\" fill-opacity=\"1\" /><path clip-path=\"url(#clip760)\" d=\"M145.992 73.775 Q142.381 73.775 140.552 77.3398 Q138.746 80.8814 138.746 88.011 Q138.746 95.1174 140.552 98.6822 Q142.381 102.224 145.992 102.224 Q149.626 102.224 151.431 98.6822 Q153.26 95.1174 153.26 88.011 Q153.26 80.8814 151.431 77.3398 Q149.626 73.775 145.992 73.775 M145.992 70.0713 Q151.802 70.0713 154.857 74.6777 Q157.936 79.261 157.936 88.011 Q157.936 96.7378 154.857 101.344 Q151.802 105.928 145.992 105.928 Q140.181 105.928 137.103 101.344 Q134.047 96.7378 134.047 88.011 Q134.047 79.261 137.103 74.6777 Q140.181 70.0713 145.992 70.0713 Z\" fill=\"#000000\" fill-rule=\"evenodd\" fill-opacity=\"1\" /><polyline clip-path=\"url(#clip762)\" style=\"stroke:#009af9; stroke-linecap:butt; stroke-linejoin:round; stroke-width:16; stroke-opacity:1; fill:none\" points=\"\n",
       "  1967.94,155.863 1821.31,1310.62 1826.44,376.917 1719.08,1124.23 1711.04,519.131 1631.13,1002.66 1616.42,610.443 1555.98,923.228 1538.51,668.92 1492.09,871.187 \n",
       "  1474.13,706.24 1437.98,836.985 1420.78,729.949 1392.28,814.416 1376.49,744.919 1353.77,799.451 1339.65,754.292 1321.37,789.465 1308.97,760.093 1294.15,782.753 \n",
       "  1283.39,763.625 1271.3,778.201 1262.04,765.724 1252.13,775.081 1244.22,766.926 1236.05,772.917 1229.34,767.573 1222.59,771.395 1216.9,767.881 1211.31,770.308 \n",
       "  1206.5,767.989 1201.86,769.52 1197.81,767.981 1193.95,768.939 1190.54,767.912 1187.32,768.504 1184.46,767.813 1181.78,768.173 1179.38,767.704 1177.14,767.917 \n",
       "  1175.13,767.595 1173.26,767.717 1171.57,767.493 1170.01,767.558 1168.59,767.401 1167.29,767.431 1166.1,767.319 1165.01,767.329 1164.02,767.247 1163.11,767.246 \n",
       "  1162.28,767.185 1161.51,767.177 1160.82,767.132 1160.18,767.121 1159.6,767.087 1159.06,767.075 1158.58,767.049 1158.13,767.037 1157.72,767.016 1157.35,767.005 \n",
       "  1157.01,766.989 1156.7,766.979 1156.41,766.966 1156.15,766.957 1155.91,766.946 1155.69,766.939 1155.49,766.93 1155.31,766.924 1155.14,766.916 1154.99,766.911 \n",
       "  1154.85,766.905 1154.72,766.9 1154.6,766.895 1154.5,766.891 1154.4,766.887 1154.31,766.884 1154.23,766.881 1154.15,766.878 1154.08,766.875 1154.02,766.873 \n",
       "  1153.96,766.87 1153.91,766.868 1153.86,766.866 1153.82,766.865 1153.78,766.863 1153.74,766.862 1153.71,766.86 1153.68,766.859 1153.65,766.858 1153.62,766.857 \n",
       "  1153.6,766.856 1153.58,766.855 1153.56,766.854 1153.54,766.854 1153.52,766.853 1153.51,766.852 1153.49,766.852 1153.48,766.851 1153.47,766.851 1153.46,766.85 \n",
       "  1153.45,766.85 1153.44,766.85 1153.43,766.849 1153.43,766.849 1153.42,766.849 1153.41,766.849 1153.41,766.848 1153.4,766.848 1153.4,766.848 1153.39,766.848 \n",
       "  1153.39,766.848 1153.38,766.848 1153.38,766.847 1153.38,766.847 1153.38,766.847 1153.37,766.847 1153.37,766.847 1153.37,766.847 1153.37,766.847 1153.36,766.847 \n",
       "  1153.36,766.847 1153.36,766.847 1153.36,766.847 1153.36,766.847 1153.36,766.846 1153.36,766.846 1153.36,766.846 1153.36,766.846 1153.35,766.846 \n",
       "  \"/>\n",
       "<circle clip-path=\"url(#clip762)\" cx=\"1967.94\" cy=\"155.863\" r=\"14\" fill=\"#009af9\" fill-rule=\"evenodd\" fill-opacity=\"1\" stroke=\"#000000\" stroke-opacity=\"1\" stroke-width=\"3.2\"/>\n",
       "<circle clip-path=\"url(#clip762)\" cx=\"1821.31\" cy=\"1310.62\" r=\"14\" fill=\"#009af9\" fill-rule=\"evenodd\" fill-opacity=\"1\" stroke=\"#000000\" stroke-opacity=\"1\" stroke-width=\"3.2\"/>\n",
       "<circle clip-path=\"url(#clip762)\" cx=\"1826.44\" cy=\"376.917\" r=\"14\" fill=\"#009af9\" fill-rule=\"evenodd\" fill-opacity=\"1\" stroke=\"#000000\" stroke-opacity=\"1\" stroke-width=\"3.2\"/>\n",
       "<circle clip-path=\"url(#clip762)\" cx=\"1719.08\" cy=\"1124.23\" r=\"14\" fill=\"#009af9\" fill-rule=\"evenodd\" fill-opacity=\"1\" stroke=\"#000000\" stroke-opacity=\"1\" stroke-width=\"3.2\"/>\n",
       "<circle clip-path=\"url(#clip762)\" cx=\"1711.04\" cy=\"519.131\" r=\"14\" fill=\"#009af9\" fill-rule=\"evenodd\" fill-opacity=\"1\" stroke=\"#000000\" stroke-opacity=\"1\" stroke-width=\"3.2\"/>\n",
       "<circle clip-path=\"url(#clip762)\" cx=\"1631.13\" cy=\"1002.66\" r=\"14\" fill=\"#009af9\" fill-rule=\"evenodd\" fill-opacity=\"1\" stroke=\"#000000\" stroke-opacity=\"1\" stroke-width=\"3.2\"/>\n",
       "<circle clip-path=\"url(#clip762)\" cx=\"1616.42\" cy=\"610.443\" r=\"14\" fill=\"#009af9\" fill-rule=\"evenodd\" fill-opacity=\"1\" stroke=\"#000000\" stroke-opacity=\"1\" stroke-width=\"3.2\"/>\n",
       "<circle clip-path=\"url(#clip762)\" cx=\"1555.98\" cy=\"923.228\" r=\"14\" fill=\"#009af9\" fill-rule=\"evenodd\" fill-opacity=\"1\" stroke=\"#000000\" stroke-opacity=\"1\" stroke-width=\"3.2\"/>\n",
       "<circle clip-path=\"url(#clip762)\" cx=\"1538.51\" cy=\"668.92\" r=\"14\" fill=\"#009af9\" fill-rule=\"evenodd\" fill-opacity=\"1\" stroke=\"#000000\" stroke-opacity=\"1\" stroke-width=\"3.2\"/>\n",
       "<circle clip-path=\"url(#clip762)\" cx=\"1492.09\" cy=\"871.187\" r=\"14\" fill=\"#009af9\" fill-rule=\"evenodd\" fill-opacity=\"1\" stroke=\"#000000\" stroke-opacity=\"1\" stroke-width=\"3.2\"/>\n",
       "<circle clip-path=\"url(#clip762)\" cx=\"1474.13\" cy=\"706.24\" r=\"14\" fill=\"#009af9\" fill-rule=\"evenodd\" fill-opacity=\"1\" stroke=\"#000000\" stroke-opacity=\"1\" stroke-width=\"3.2\"/>\n",
       "<circle clip-path=\"url(#clip762)\" cx=\"1437.98\" cy=\"836.985\" r=\"14\" fill=\"#009af9\" fill-rule=\"evenodd\" fill-opacity=\"1\" stroke=\"#000000\" stroke-opacity=\"1\" stroke-width=\"3.2\"/>\n",
       "<circle clip-path=\"url(#clip762)\" cx=\"1420.78\" cy=\"729.949\" r=\"14\" fill=\"#009af9\" fill-rule=\"evenodd\" fill-opacity=\"1\" stroke=\"#000000\" stroke-opacity=\"1\" stroke-width=\"3.2\"/>\n",
       "<circle clip-path=\"url(#clip762)\" cx=\"1392.28\" cy=\"814.416\" r=\"14\" fill=\"#009af9\" fill-rule=\"evenodd\" fill-opacity=\"1\" stroke=\"#000000\" stroke-opacity=\"1\" stroke-width=\"3.2\"/>\n",
       "<circle clip-path=\"url(#clip762)\" cx=\"1376.49\" cy=\"744.919\" r=\"14\" fill=\"#009af9\" fill-rule=\"evenodd\" fill-opacity=\"1\" stroke=\"#000000\" stroke-opacity=\"1\" stroke-width=\"3.2\"/>\n",
       "<circle clip-path=\"url(#clip762)\" cx=\"1353.77\" cy=\"799.451\" r=\"14\" fill=\"#009af9\" fill-rule=\"evenodd\" fill-opacity=\"1\" stroke=\"#000000\" stroke-opacity=\"1\" stroke-width=\"3.2\"/>\n",
       "<circle clip-path=\"url(#clip762)\" cx=\"1339.65\" cy=\"754.292\" r=\"14\" fill=\"#009af9\" fill-rule=\"evenodd\" fill-opacity=\"1\" stroke=\"#000000\" stroke-opacity=\"1\" stroke-width=\"3.2\"/>\n",
       "<circle clip-path=\"url(#clip762)\" cx=\"1321.37\" cy=\"789.465\" r=\"14\" fill=\"#009af9\" fill-rule=\"evenodd\" fill-opacity=\"1\" stroke=\"#000000\" stroke-opacity=\"1\" stroke-width=\"3.2\"/>\n",
       "<circle clip-path=\"url(#clip762)\" cx=\"1308.97\" cy=\"760.093\" r=\"14\" fill=\"#009af9\" fill-rule=\"evenodd\" fill-opacity=\"1\" stroke=\"#000000\" stroke-opacity=\"1\" stroke-width=\"3.2\"/>\n",
       "<circle clip-path=\"url(#clip762)\" cx=\"1294.15\" cy=\"782.753\" r=\"14\" fill=\"#009af9\" fill-rule=\"evenodd\" fill-opacity=\"1\" stroke=\"#000000\" stroke-opacity=\"1\" stroke-width=\"3.2\"/>\n",
       "<circle clip-path=\"url(#clip762)\" cx=\"1283.39\" cy=\"763.625\" r=\"14\" fill=\"#009af9\" fill-rule=\"evenodd\" fill-opacity=\"1\" stroke=\"#000000\" stroke-opacity=\"1\" stroke-width=\"3.2\"/>\n",
       "<circle clip-path=\"url(#clip762)\" cx=\"1271.3\" cy=\"778.201\" r=\"14\" fill=\"#009af9\" fill-rule=\"evenodd\" fill-opacity=\"1\" stroke=\"#000000\" stroke-opacity=\"1\" stroke-width=\"3.2\"/>\n",
       "<circle clip-path=\"url(#clip762)\" cx=\"1262.04\" cy=\"765.724\" r=\"14\" fill=\"#009af9\" fill-rule=\"evenodd\" fill-opacity=\"1\" stroke=\"#000000\" stroke-opacity=\"1\" stroke-width=\"3.2\"/>\n",
       "<circle clip-path=\"url(#clip762)\" cx=\"1252.13\" cy=\"775.081\" r=\"14\" fill=\"#009af9\" fill-rule=\"evenodd\" fill-opacity=\"1\" stroke=\"#000000\" stroke-opacity=\"1\" stroke-width=\"3.2\"/>\n",
       "<circle clip-path=\"url(#clip762)\" cx=\"1244.22\" cy=\"766.926\" r=\"14\" fill=\"#009af9\" fill-rule=\"evenodd\" fill-opacity=\"1\" stroke=\"#000000\" stroke-opacity=\"1\" stroke-width=\"3.2\"/>\n",
       "<circle clip-path=\"url(#clip762)\" cx=\"1236.05\" cy=\"772.917\" r=\"14\" fill=\"#009af9\" fill-rule=\"evenodd\" fill-opacity=\"1\" stroke=\"#000000\" stroke-opacity=\"1\" stroke-width=\"3.2\"/>\n",
       "<circle clip-path=\"url(#clip762)\" cx=\"1229.34\" cy=\"767.573\" r=\"14\" fill=\"#009af9\" fill-rule=\"evenodd\" fill-opacity=\"1\" stroke=\"#000000\" stroke-opacity=\"1\" stroke-width=\"3.2\"/>\n",
       "<circle clip-path=\"url(#clip762)\" cx=\"1222.59\" cy=\"771.395\" r=\"14\" fill=\"#009af9\" fill-rule=\"evenodd\" fill-opacity=\"1\" stroke=\"#000000\" stroke-opacity=\"1\" stroke-width=\"3.2\"/>\n",
       "<circle clip-path=\"url(#clip762)\" cx=\"1216.9\" cy=\"767.881\" r=\"14\" fill=\"#009af9\" fill-rule=\"evenodd\" fill-opacity=\"1\" stroke=\"#000000\" stroke-opacity=\"1\" stroke-width=\"3.2\"/>\n",
       "<circle clip-path=\"url(#clip762)\" cx=\"1211.31\" cy=\"770.308\" r=\"14\" fill=\"#009af9\" fill-rule=\"evenodd\" fill-opacity=\"1\" stroke=\"#000000\" stroke-opacity=\"1\" stroke-width=\"3.2\"/>\n",
       "<circle clip-path=\"url(#clip762)\" cx=\"1206.5\" cy=\"767.989\" r=\"14\" fill=\"#009af9\" fill-rule=\"evenodd\" fill-opacity=\"1\" stroke=\"#000000\" stroke-opacity=\"1\" stroke-width=\"3.2\"/>\n",
       "<circle clip-path=\"url(#clip762)\" cx=\"1201.86\" cy=\"769.52\" r=\"14\" fill=\"#009af9\" fill-rule=\"evenodd\" fill-opacity=\"1\" stroke=\"#000000\" stroke-opacity=\"1\" stroke-width=\"3.2\"/>\n",
       "<circle clip-path=\"url(#clip762)\" cx=\"1197.81\" cy=\"767.981\" r=\"14\" fill=\"#009af9\" fill-rule=\"evenodd\" fill-opacity=\"1\" stroke=\"#000000\" stroke-opacity=\"1\" stroke-width=\"3.2\"/>\n",
       "<circle clip-path=\"url(#clip762)\" cx=\"1193.95\" cy=\"768.939\" r=\"14\" fill=\"#009af9\" fill-rule=\"evenodd\" fill-opacity=\"1\" stroke=\"#000000\" stroke-opacity=\"1\" stroke-width=\"3.2\"/>\n",
       "<circle clip-path=\"url(#clip762)\" cx=\"1190.54\" cy=\"767.912\" r=\"14\" fill=\"#009af9\" fill-rule=\"evenodd\" fill-opacity=\"1\" stroke=\"#000000\" stroke-opacity=\"1\" stroke-width=\"3.2\"/>\n",
       "<circle clip-path=\"url(#clip762)\" cx=\"1187.32\" cy=\"768.504\" r=\"14\" fill=\"#009af9\" fill-rule=\"evenodd\" fill-opacity=\"1\" stroke=\"#000000\" stroke-opacity=\"1\" stroke-width=\"3.2\"/>\n",
       "<circle clip-path=\"url(#clip762)\" cx=\"1184.46\" cy=\"767.813\" r=\"14\" fill=\"#009af9\" fill-rule=\"evenodd\" fill-opacity=\"1\" stroke=\"#000000\" stroke-opacity=\"1\" stroke-width=\"3.2\"/>\n",
       "<circle clip-path=\"url(#clip762)\" cx=\"1181.78\" cy=\"768.173\" r=\"14\" fill=\"#009af9\" fill-rule=\"evenodd\" fill-opacity=\"1\" stroke=\"#000000\" stroke-opacity=\"1\" stroke-width=\"3.2\"/>\n",
       "<circle clip-path=\"url(#clip762)\" cx=\"1179.38\" cy=\"767.704\" r=\"14\" fill=\"#009af9\" fill-rule=\"evenodd\" fill-opacity=\"1\" stroke=\"#000000\" stroke-opacity=\"1\" stroke-width=\"3.2\"/>\n",
       "<circle clip-path=\"url(#clip762)\" cx=\"1177.14\" cy=\"767.917\" r=\"14\" fill=\"#009af9\" fill-rule=\"evenodd\" fill-opacity=\"1\" stroke=\"#000000\" stroke-opacity=\"1\" stroke-width=\"3.2\"/>\n",
       "<circle clip-path=\"url(#clip762)\" cx=\"1175.13\" cy=\"767.595\" r=\"14\" fill=\"#009af9\" fill-rule=\"evenodd\" fill-opacity=\"1\" stroke=\"#000000\" stroke-opacity=\"1\" stroke-width=\"3.2\"/>\n",
       "<circle clip-path=\"url(#clip762)\" cx=\"1173.26\" cy=\"767.717\" r=\"14\" fill=\"#009af9\" fill-rule=\"evenodd\" fill-opacity=\"1\" stroke=\"#000000\" stroke-opacity=\"1\" stroke-width=\"3.2\"/>\n",
       "<circle clip-path=\"url(#clip762)\" cx=\"1171.57\" cy=\"767.493\" r=\"14\" fill=\"#009af9\" fill-rule=\"evenodd\" fill-opacity=\"1\" stroke=\"#000000\" stroke-opacity=\"1\" stroke-width=\"3.2\"/>\n",
       "<circle clip-path=\"url(#clip762)\" cx=\"1170.01\" cy=\"767.558\" r=\"14\" fill=\"#009af9\" fill-rule=\"evenodd\" fill-opacity=\"1\" stroke=\"#000000\" stroke-opacity=\"1\" stroke-width=\"3.2\"/>\n",
       "<circle clip-path=\"url(#clip762)\" cx=\"1168.59\" cy=\"767.401\" r=\"14\" fill=\"#009af9\" fill-rule=\"evenodd\" fill-opacity=\"1\" stroke=\"#000000\" stroke-opacity=\"1\" stroke-width=\"3.2\"/>\n",
       "<circle clip-path=\"url(#clip762)\" cx=\"1167.29\" cy=\"767.431\" r=\"14\" fill=\"#009af9\" fill-rule=\"evenodd\" fill-opacity=\"1\" stroke=\"#000000\" stroke-opacity=\"1\" stroke-width=\"3.2\"/>\n",
       "<circle clip-path=\"url(#clip762)\" cx=\"1166.1\" cy=\"767.319\" r=\"14\" fill=\"#009af9\" fill-rule=\"evenodd\" fill-opacity=\"1\" stroke=\"#000000\" stroke-opacity=\"1\" stroke-width=\"3.2\"/>\n",
       "<circle clip-path=\"url(#clip762)\" cx=\"1165.01\" cy=\"767.329\" r=\"14\" fill=\"#009af9\" fill-rule=\"evenodd\" fill-opacity=\"1\" stroke=\"#000000\" stroke-opacity=\"1\" stroke-width=\"3.2\"/>\n",
       "<circle clip-path=\"url(#clip762)\" cx=\"1164.02\" cy=\"767.247\" r=\"14\" fill=\"#009af9\" fill-rule=\"evenodd\" fill-opacity=\"1\" stroke=\"#000000\" stroke-opacity=\"1\" stroke-width=\"3.2\"/>\n",
       "<circle clip-path=\"url(#clip762)\" cx=\"1163.11\" cy=\"767.246\" r=\"14\" fill=\"#009af9\" fill-rule=\"evenodd\" fill-opacity=\"1\" stroke=\"#000000\" stroke-opacity=\"1\" stroke-width=\"3.2\"/>\n",
       "<circle clip-path=\"url(#clip762)\" cx=\"1162.28\" cy=\"767.185\" r=\"14\" fill=\"#009af9\" fill-rule=\"evenodd\" fill-opacity=\"1\" stroke=\"#000000\" stroke-opacity=\"1\" stroke-width=\"3.2\"/>\n",
       "<circle clip-path=\"url(#clip762)\" cx=\"1161.51\" cy=\"767.177\" r=\"14\" fill=\"#009af9\" fill-rule=\"evenodd\" fill-opacity=\"1\" stroke=\"#000000\" stroke-opacity=\"1\" stroke-width=\"3.2\"/>\n",
       "<circle clip-path=\"url(#clip762)\" cx=\"1160.82\" cy=\"767.132\" r=\"14\" fill=\"#009af9\" fill-rule=\"evenodd\" fill-opacity=\"1\" stroke=\"#000000\" stroke-opacity=\"1\" stroke-width=\"3.2\"/>\n",
       "<circle clip-path=\"url(#clip762)\" cx=\"1160.18\" cy=\"767.121\" r=\"14\" fill=\"#009af9\" fill-rule=\"evenodd\" fill-opacity=\"1\" stroke=\"#000000\" stroke-opacity=\"1\" stroke-width=\"3.2\"/>\n",
       "<circle clip-path=\"url(#clip762)\" cx=\"1159.6\" cy=\"767.087\" r=\"14\" fill=\"#009af9\" fill-rule=\"evenodd\" fill-opacity=\"1\" stroke=\"#000000\" stroke-opacity=\"1\" stroke-width=\"3.2\"/>\n",
       "<circle clip-path=\"url(#clip762)\" cx=\"1159.06\" cy=\"767.075\" r=\"14\" fill=\"#009af9\" fill-rule=\"evenodd\" fill-opacity=\"1\" stroke=\"#000000\" stroke-opacity=\"1\" stroke-width=\"3.2\"/>\n",
       "<circle clip-path=\"url(#clip762)\" cx=\"1158.58\" cy=\"767.049\" r=\"14\" fill=\"#009af9\" fill-rule=\"evenodd\" fill-opacity=\"1\" stroke=\"#000000\" stroke-opacity=\"1\" stroke-width=\"3.2\"/>\n",
       "<circle clip-path=\"url(#clip762)\" cx=\"1158.13\" cy=\"767.037\" r=\"14\" fill=\"#009af9\" fill-rule=\"evenodd\" fill-opacity=\"1\" stroke=\"#000000\" stroke-opacity=\"1\" stroke-width=\"3.2\"/>\n",
       "<circle clip-path=\"url(#clip762)\" cx=\"1157.72\" cy=\"767.016\" r=\"14\" fill=\"#009af9\" fill-rule=\"evenodd\" fill-opacity=\"1\" stroke=\"#000000\" stroke-opacity=\"1\" stroke-width=\"3.2\"/>\n",
       "<circle clip-path=\"url(#clip762)\" cx=\"1157.35\" cy=\"767.005\" r=\"14\" fill=\"#009af9\" fill-rule=\"evenodd\" fill-opacity=\"1\" stroke=\"#000000\" stroke-opacity=\"1\" stroke-width=\"3.2\"/>\n",
       "<circle clip-path=\"url(#clip762)\" cx=\"1157.01\" cy=\"766.989\" r=\"14\" fill=\"#009af9\" fill-rule=\"evenodd\" fill-opacity=\"1\" stroke=\"#000000\" stroke-opacity=\"1\" stroke-width=\"3.2\"/>\n",
       "<circle clip-path=\"url(#clip762)\" cx=\"1156.7\" cy=\"766.979\" r=\"14\" fill=\"#009af9\" fill-rule=\"evenodd\" fill-opacity=\"1\" stroke=\"#000000\" stroke-opacity=\"1\" stroke-width=\"3.2\"/>\n",
       "<circle clip-path=\"url(#clip762)\" cx=\"1156.41\" cy=\"766.966\" r=\"14\" fill=\"#009af9\" fill-rule=\"evenodd\" fill-opacity=\"1\" stroke=\"#000000\" stroke-opacity=\"1\" stroke-width=\"3.2\"/>\n",
       "<circle clip-path=\"url(#clip762)\" cx=\"1156.15\" cy=\"766.957\" r=\"14\" fill=\"#009af9\" fill-rule=\"evenodd\" fill-opacity=\"1\" stroke=\"#000000\" stroke-opacity=\"1\" stroke-width=\"3.2\"/>\n",
       "<circle clip-path=\"url(#clip762)\" cx=\"1155.91\" cy=\"766.946\" r=\"14\" fill=\"#009af9\" fill-rule=\"evenodd\" fill-opacity=\"1\" stroke=\"#000000\" stroke-opacity=\"1\" stroke-width=\"3.2\"/>\n",
       "<circle clip-path=\"url(#clip762)\" cx=\"1155.69\" cy=\"766.939\" r=\"14\" fill=\"#009af9\" fill-rule=\"evenodd\" fill-opacity=\"1\" stroke=\"#000000\" stroke-opacity=\"1\" stroke-width=\"3.2\"/>\n",
       "<circle clip-path=\"url(#clip762)\" cx=\"1155.49\" cy=\"766.93\" r=\"14\" fill=\"#009af9\" fill-rule=\"evenodd\" fill-opacity=\"1\" stroke=\"#000000\" stroke-opacity=\"1\" stroke-width=\"3.2\"/>\n",
       "<circle clip-path=\"url(#clip762)\" cx=\"1155.31\" cy=\"766.924\" r=\"14\" fill=\"#009af9\" fill-rule=\"evenodd\" fill-opacity=\"1\" stroke=\"#000000\" stroke-opacity=\"1\" stroke-width=\"3.2\"/>\n",
       "<circle clip-path=\"url(#clip762)\" cx=\"1155.14\" cy=\"766.916\" r=\"14\" fill=\"#009af9\" fill-rule=\"evenodd\" fill-opacity=\"1\" stroke=\"#000000\" stroke-opacity=\"1\" stroke-width=\"3.2\"/>\n",
       "<circle clip-path=\"url(#clip762)\" cx=\"1154.99\" cy=\"766.911\" r=\"14\" fill=\"#009af9\" fill-rule=\"evenodd\" fill-opacity=\"1\" stroke=\"#000000\" stroke-opacity=\"1\" stroke-width=\"3.2\"/>\n",
       "<circle clip-path=\"url(#clip762)\" cx=\"1154.85\" cy=\"766.905\" r=\"14\" fill=\"#009af9\" fill-rule=\"evenodd\" fill-opacity=\"1\" stroke=\"#000000\" stroke-opacity=\"1\" stroke-width=\"3.2\"/>\n",
       "<circle clip-path=\"url(#clip762)\" cx=\"1154.72\" cy=\"766.9\" r=\"14\" fill=\"#009af9\" fill-rule=\"evenodd\" fill-opacity=\"1\" stroke=\"#000000\" stroke-opacity=\"1\" stroke-width=\"3.2\"/>\n",
       "<circle clip-path=\"url(#clip762)\" cx=\"1154.6\" cy=\"766.895\" r=\"14\" fill=\"#009af9\" fill-rule=\"evenodd\" fill-opacity=\"1\" stroke=\"#000000\" stroke-opacity=\"1\" stroke-width=\"3.2\"/>\n",
       "<circle clip-path=\"url(#clip762)\" cx=\"1154.5\" cy=\"766.891\" r=\"14\" fill=\"#009af9\" fill-rule=\"evenodd\" fill-opacity=\"1\" stroke=\"#000000\" stroke-opacity=\"1\" stroke-width=\"3.2\"/>\n",
       "<circle clip-path=\"url(#clip762)\" cx=\"1154.4\" cy=\"766.887\" r=\"14\" fill=\"#009af9\" fill-rule=\"evenodd\" fill-opacity=\"1\" stroke=\"#000000\" stroke-opacity=\"1\" stroke-width=\"3.2\"/>\n",
       "<circle clip-path=\"url(#clip762)\" cx=\"1154.31\" cy=\"766.884\" r=\"14\" fill=\"#009af9\" fill-rule=\"evenodd\" fill-opacity=\"1\" stroke=\"#000000\" stroke-opacity=\"1\" stroke-width=\"3.2\"/>\n",
       "<circle clip-path=\"url(#clip762)\" cx=\"1154.23\" cy=\"766.881\" r=\"14\" fill=\"#009af9\" fill-rule=\"evenodd\" fill-opacity=\"1\" stroke=\"#000000\" stroke-opacity=\"1\" stroke-width=\"3.2\"/>\n",
       "<circle clip-path=\"url(#clip762)\" cx=\"1154.15\" cy=\"766.878\" r=\"14\" fill=\"#009af9\" fill-rule=\"evenodd\" fill-opacity=\"1\" stroke=\"#000000\" stroke-opacity=\"1\" stroke-width=\"3.2\"/>\n",
       "<circle clip-path=\"url(#clip762)\" cx=\"1154.08\" cy=\"766.875\" r=\"14\" fill=\"#009af9\" fill-rule=\"evenodd\" fill-opacity=\"1\" stroke=\"#000000\" stroke-opacity=\"1\" stroke-width=\"3.2\"/>\n",
       "<circle clip-path=\"url(#clip762)\" cx=\"1154.02\" cy=\"766.873\" r=\"14\" fill=\"#009af9\" fill-rule=\"evenodd\" fill-opacity=\"1\" stroke=\"#000000\" stroke-opacity=\"1\" stroke-width=\"3.2\"/>\n",
       "<circle clip-path=\"url(#clip762)\" cx=\"1153.96\" cy=\"766.87\" r=\"14\" fill=\"#009af9\" fill-rule=\"evenodd\" fill-opacity=\"1\" stroke=\"#000000\" stroke-opacity=\"1\" stroke-width=\"3.2\"/>\n",
       "<circle clip-path=\"url(#clip762)\" cx=\"1153.91\" cy=\"766.868\" r=\"14\" fill=\"#009af9\" fill-rule=\"evenodd\" fill-opacity=\"1\" stroke=\"#000000\" stroke-opacity=\"1\" stroke-width=\"3.2\"/>\n",
       "<circle clip-path=\"url(#clip762)\" cx=\"1153.86\" cy=\"766.866\" r=\"14\" fill=\"#009af9\" fill-rule=\"evenodd\" fill-opacity=\"1\" stroke=\"#000000\" stroke-opacity=\"1\" stroke-width=\"3.2\"/>\n",
       "<circle clip-path=\"url(#clip762)\" cx=\"1153.82\" cy=\"766.865\" r=\"14\" fill=\"#009af9\" fill-rule=\"evenodd\" fill-opacity=\"1\" stroke=\"#000000\" stroke-opacity=\"1\" stroke-width=\"3.2\"/>\n",
       "<circle clip-path=\"url(#clip762)\" cx=\"1153.78\" cy=\"766.863\" r=\"14\" fill=\"#009af9\" fill-rule=\"evenodd\" fill-opacity=\"1\" stroke=\"#000000\" stroke-opacity=\"1\" stroke-width=\"3.2\"/>\n",
       "<circle clip-path=\"url(#clip762)\" cx=\"1153.74\" cy=\"766.862\" r=\"14\" fill=\"#009af9\" fill-rule=\"evenodd\" fill-opacity=\"1\" stroke=\"#000000\" stroke-opacity=\"1\" stroke-width=\"3.2\"/>\n",
       "<circle clip-path=\"url(#clip762)\" cx=\"1153.71\" cy=\"766.86\" r=\"14\" fill=\"#009af9\" fill-rule=\"evenodd\" fill-opacity=\"1\" stroke=\"#000000\" stroke-opacity=\"1\" stroke-width=\"3.2\"/>\n",
       "<circle clip-path=\"url(#clip762)\" cx=\"1153.68\" cy=\"766.859\" r=\"14\" fill=\"#009af9\" fill-rule=\"evenodd\" fill-opacity=\"1\" stroke=\"#000000\" stroke-opacity=\"1\" stroke-width=\"3.2\"/>\n",
       "<circle clip-path=\"url(#clip762)\" cx=\"1153.65\" cy=\"766.858\" r=\"14\" fill=\"#009af9\" fill-rule=\"evenodd\" fill-opacity=\"1\" stroke=\"#000000\" stroke-opacity=\"1\" stroke-width=\"3.2\"/>\n",
       "<circle clip-path=\"url(#clip762)\" cx=\"1153.62\" cy=\"766.857\" r=\"14\" fill=\"#009af9\" fill-rule=\"evenodd\" fill-opacity=\"1\" stroke=\"#000000\" stroke-opacity=\"1\" stroke-width=\"3.2\"/>\n",
       "<circle clip-path=\"url(#clip762)\" cx=\"1153.6\" cy=\"766.856\" r=\"14\" fill=\"#009af9\" fill-rule=\"evenodd\" fill-opacity=\"1\" stroke=\"#000000\" stroke-opacity=\"1\" stroke-width=\"3.2\"/>\n",
       "<circle clip-path=\"url(#clip762)\" cx=\"1153.58\" cy=\"766.855\" r=\"14\" fill=\"#009af9\" fill-rule=\"evenodd\" fill-opacity=\"1\" stroke=\"#000000\" stroke-opacity=\"1\" stroke-width=\"3.2\"/>\n",
       "<circle clip-path=\"url(#clip762)\" cx=\"1153.56\" cy=\"766.854\" r=\"14\" fill=\"#009af9\" fill-rule=\"evenodd\" fill-opacity=\"1\" stroke=\"#000000\" stroke-opacity=\"1\" stroke-width=\"3.2\"/>\n",
       "<circle clip-path=\"url(#clip762)\" cx=\"1153.54\" cy=\"766.854\" r=\"14\" fill=\"#009af9\" fill-rule=\"evenodd\" fill-opacity=\"1\" stroke=\"#000000\" stroke-opacity=\"1\" stroke-width=\"3.2\"/>\n",
       "<circle clip-path=\"url(#clip762)\" cx=\"1153.52\" cy=\"766.853\" r=\"14\" fill=\"#009af9\" fill-rule=\"evenodd\" fill-opacity=\"1\" stroke=\"#000000\" stroke-opacity=\"1\" stroke-width=\"3.2\"/>\n",
       "<circle clip-path=\"url(#clip762)\" cx=\"1153.51\" cy=\"766.852\" r=\"14\" fill=\"#009af9\" fill-rule=\"evenodd\" fill-opacity=\"1\" stroke=\"#000000\" stroke-opacity=\"1\" stroke-width=\"3.2\"/>\n",
       "<circle clip-path=\"url(#clip762)\" cx=\"1153.49\" cy=\"766.852\" r=\"14\" fill=\"#009af9\" fill-rule=\"evenodd\" fill-opacity=\"1\" stroke=\"#000000\" stroke-opacity=\"1\" stroke-width=\"3.2\"/>\n",
       "<circle clip-path=\"url(#clip762)\" cx=\"1153.48\" cy=\"766.851\" r=\"14\" fill=\"#009af9\" fill-rule=\"evenodd\" fill-opacity=\"1\" stroke=\"#000000\" stroke-opacity=\"1\" stroke-width=\"3.2\"/>\n",
       "<circle clip-path=\"url(#clip762)\" cx=\"1153.47\" cy=\"766.851\" r=\"14\" fill=\"#009af9\" fill-rule=\"evenodd\" fill-opacity=\"1\" stroke=\"#000000\" stroke-opacity=\"1\" stroke-width=\"3.2\"/>\n",
       "<circle clip-path=\"url(#clip762)\" cx=\"1153.46\" cy=\"766.85\" r=\"14\" fill=\"#009af9\" fill-rule=\"evenodd\" fill-opacity=\"1\" stroke=\"#000000\" stroke-opacity=\"1\" stroke-width=\"3.2\"/>\n",
       "<circle clip-path=\"url(#clip762)\" cx=\"1153.45\" cy=\"766.85\" r=\"14\" fill=\"#009af9\" fill-rule=\"evenodd\" fill-opacity=\"1\" stroke=\"#000000\" stroke-opacity=\"1\" stroke-width=\"3.2\"/>\n",
       "<circle clip-path=\"url(#clip762)\" cx=\"1153.44\" cy=\"766.85\" r=\"14\" fill=\"#009af9\" fill-rule=\"evenodd\" fill-opacity=\"1\" stroke=\"#000000\" stroke-opacity=\"1\" stroke-width=\"3.2\"/>\n",
       "<circle clip-path=\"url(#clip762)\" cx=\"1153.43\" cy=\"766.849\" r=\"14\" fill=\"#009af9\" fill-rule=\"evenodd\" fill-opacity=\"1\" stroke=\"#000000\" stroke-opacity=\"1\" stroke-width=\"3.2\"/>\n",
       "<circle clip-path=\"url(#clip762)\" cx=\"1153.43\" cy=\"766.849\" r=\"14\" fill=\"#009af9\" fill-rule=\"evenodd\" fill-opacity=\"1\" stroke=\"#000000\" stroke-opacity=\"1\" stroke-width=\"3.2\"/>\n",
       "<circle clip-path=\"url(#clip762)\" cx=\"1153.42\" cy=\"766.849\" r=\"14\" fill=\"#009af9\" fill-rule=\"evenodd\" fill-opacity=\"1\" stroke=\"#000000\" stroke-opacity=\"1\" stroke-width=\"3.2\"/>\n",
       "<circle clip-path=\"url(#clip762)\" cx=\"1153.41\" cy=\"766.849\" r=\"14\" fill=\"#009af9\" fill-rule=\"evenodd\" fill-opacity=\"1\" stroke=\"#000000\" stroke-opacity=\"1\" stroke-width=\"3.2\"/>\n",
       "<circle clip-path=\"url(#clip762)\" cx=\"1153.41\" cy=\"766.848\" r=\"14\" fill=\"#009af9\" fill-rule=\"evenodd\" fill-opacity=\"1\" stroke=\"#000000\" stroke-opacity=\"1\" stroke-width=\"3.2\"/>\n",
       "<circle clip-path=\"url(#clip762)\" cx=\"1153.4\" cy=\"766.848\" r=\"14\" fill=\"#009af9\" fill-rule=\"evenodd\" fill-opacity=\"1\" stroke=\"#000000\" stroke-opacity=\"1\" stroke-width=\"3.2\"/>\n",
       "<circle clip-path=\"url(#clip762)\" cx=\"1153.4\" cy=\"766.848\" r=\"14\" fill=\"#009af9\" fill-rule=\"evenodd\" fill-opacity=\"1\" stroke=\"#000000\" stroke-opacity=\"1\" stroke-width=\"3.2\"/>\n",
       "<circle clip-path=\"url(#clip762)\" cx=\"1153.39\" cy=\"766.848\" r=\"14\" fill=\"#009af9\" fill-rule=\"evenodd\" fill-opacity=\"1\" stroke=\"#000000\" stroke-opacity=\"1\" stroke-width=\"3.2\"/>\n",
       "<circle clip-path=\"url(#clip762)\" cx=\"1153.39\" cy=\"766.848\" r=\"14\" fill=\"#009af9\" fill-rule=\"evenodd\" fill-opacity=\"1\" stroke=\"#000000\" stroke-opacity=\"1\" stroke-width=\"3.2\"/>\n",
       "<circle clip-path=\"url(#clip762)\" cx=\"1153.38\" cy=\"766.848\" r=\"14\" fill=\"#009af9\" fill-rule=\"evenodd\" fill-opacity=\"1\" stroke=\"#000000\" stroke-opacity=\"1\" stroke-width=\"3.2\"/>\n",
       "<circle clip-path=\"url(#clip762)\" cx=\"1153.38\" cy=\"766.847\" r=\"14\" fill=\"#009af9\" fill-rule=\"evenodd\" fill-opacity=\"1\" stroke=\"#000000\" stroke-opacity=\"1\" stroke-width=\"3.2\"/>\n",
       "<circle clip-path=\"url(#clip762)\" cx=\"1153.38\" cy=\"766.847\" r=\"14\" fill=\"#009af9\" fill-rule=\"evenodd\" fill-opacity=\"1\" stroke=\"#000000\" stroke-opacity=\"1\" stroke-width=\"3.2\"/>\n",
       "<circle clip-path=\"url(#clip762)\" cx=\"1153.38\" cy=\"766.847\" r=\"14\" fill=\"#009af9\" fill-rule=\"evenodd\" fill-opacity=\"1\" stroke=\"#000000\" stroke-opacity=\"1\" stroke-width=\"3.2\"/>\n",
       "<circle clip-path=\"url(#clip762)\" cx=\"1153.37\" cy=\"766.847\" r=\"14\" fill=\"#009af9\" fill-rule=\"evenodd\" fill-opacity=\"1\" stroke=\"#000000\" stroke-opacity=\"1\" stroke-width=\"3.2\"/>\n",
       "<circle clip-path=\"url(#clip762)\" cx=\"1153.37\" cy=\"766.847\" r=\"14\" fill=\"#009af9\" fill-rule=\"evenodd\" fill-opacity=\"1\" stroke=\"#000000\" stroke-opacity=\"1\" stroke-width=\"3.2\"/>\n",
       "<circle clip-path=\"url(#clip762)\" cx=\"1153.37\" cy=\"766.847\" r=\"14\" fill=\"#009af9\" fill-rule=\"evenodd\" fill-opacity=\"1\" stroke=\"#000000\" stroke-opacity=\"1\" stroke-width=\"3.2\"/>\n",
       "<circle clip-path=\"url(#clip762)\" cx=\"1153.37\" cy=\"766.847\" r=\"14\" fill=\"#009af9\" fill-rule=\"evenodd\" fill-opacity=\"1\" stroke=\"#000000\" stroke-opacity=\"1\" stroke-width=\"3.2\"/>\n",
       "<circle clip-path=\"url(#clip762)\" cx=\"1153.36\" cy=\"766.847\" r=\"14\" fill=\"#009af9\" fill-rule=\"evenodd\" fill-opacity=\"1\" stroke=\"#000000\" stroke-opacity=\"1\" stroke-width=\"3.2\"/>\n",
       "<circle clip-path=\"url(#clip762)\" cx=\"1153.36\" cy=\"766.847\" r=\"14\" fill=\"#009af9\" fill-rule=\"evenodd\" fill-opacity=\"1\" stroke=\"#000000\" stroke-opacity=\"1\" stroke-width=\"3.2\"/>\n",
       "<circle clip-path=\"url(#clip762)\" cx=\"1153.36\" cy=\"766.847\" r=\"14\" fill=\"#009af9\" fill-rule=\"evenodd\" fill-opacity=\"1\" stroke=\"#000000\" stroke-opacity=\"1\" stroke-width=\"3.2\"/>\n",
       "<circle clip-path=\"url(#clip762)\" cx=\"1153.36\" cy=\"766.847\" r=\"14\" fill=\"#009af9\" fill-rule=\"evenodd\" fill-opacity=\"1\" stroke=\"#000000\" stroke-opacity=\"1\" stroke-width=\"3.2\"/>\n",
       "<circle clip-path=\"url(#clip762)\" cx=\"1153.36\" cy=\"766.847\" r=\"14\" fill=\"#009af9\" fill-rule=\"evenodd\" fill-opacity=\"1\" stroke=\"#000000\" stroke-opacity=\"1\" stroke-width=\"3.2\"/>\n",
       "<circle clip-path=\"url(#clip762)\" cx=\"1153.36\" cy=\"766.846\" r=\"14\" fill=\"#009af9\" fill-rule=\"evenodd\" fill-opacity=\"1\" stroke=\"#000000\" stroke-opacity=\"1\" stroke-width=\"3.2\"/>\n",
       "<circle clip-path=\"url(#clip762)\" cx=\"1153.36\" cy=\"766.846\" r=\"14\" fill=\"#009af9\" fill-rule=\"evenodd\" fill-opacity=\"1\" stroke=\"#000000\" stroke-opacity=\"1\" stroke-width=\"3.2\"/>\n",
       "<circle clip-path=\"url(#clip762)\" cx=\"1153.36\" cy=\"766.846\" r=\"14\" fill=\"#009af9\" fill-rule=\"evenodd\" fill-opacity=\"1\" stroke=\"#000000\" stroke-opacity=\"1\" stroke-width=\"3.2\"/>\n",
       "<circle clip-path=\"url(#clip762)\" cx=\"1153.36\" cy=\"766.846\" r=\"14\" fill=\"#009af9\" fill-rule=\"evenodd\" fill-opacity=\"1\" stroke=\"#000000\" stroke-opacity=\"1\" stroke-width=\"3.2\"/>\n",
       "<circle clip-path=\"url(#clip762)\" cx=\"1153.35\" cy=\"766.846\" r=\"14\" fill=\"#009af9\" fill-rule=\"evenodd\" fill-opacity=\"1\" stroke=\"#000000\" stroke-opacity=\"1\" stroke-width=\"3.2\"/>\n",
       "<polyline clip-path=\"url(#clip762)\" style=\"stroke:#f1e864; stroke-linecap:butt; stroke-linejoin:round; stroke-width:16; stroke-opacity:1; fill:none\" points=\"\n",
       "  248.242,1421.72 310.663,1426.18 373.084,1430.51 435.505,1434.72 497.926,1438.79 560.347,1442.73 609.404,1445.72 \n",
       "  \"/>\n",
       "<polyline clip-path=\"url(#clip762)\" style=\"stroke:#a12b61; stroke-linecap:butt; stroke-linejoin:round; stroke-width:16; stroke-opacity:1; fill:none\" points=\"\n",
       "  248.242,1190.87 310.663,1196.45 373.084,1201.84 435.505,1207.05 492.502,1211.62 497.926,1212.02 560.347,1216.38 622.768,1220.56 685.189,1224.55 747.61,1228.35 \n",
       "  810.031,1231.96 872.452,1235.38 934.873,1238.61 997.294,1241.63 1059.71,1244.45 1122.14,1247.07 1184.56,1249.47 1246.98,1251.67 1309.4,1253.65 1371.82,1255.41 \n",
       "  1434.24,1256.95 1496.66,1258.27 1506.63,1258.44 1559.08,1259.27 1621.5,1260.05 1683.92,1260.61 1746.34,1260.95 1808.77,1261.07 1871.19,1260.97 1933.61,1260.65 \n",
       "  1996.03,1260.09 2058.45,1259.3 \n",
       "  \"/>\n",
       "<polyline clip-path=\"url(#clip762)\" style=\"stroke:#ba3655; stroke-linecap:butt; stroke-linejoin:round; stroke-width:16; stroke-opacity:1; fill:none\" points=\"\n",
       "  2058.45,1293.7 1996.03,1294.32 1933.61,1294.71 1871.19,1294.87 1808.77,1294.81 1746.34,1294.53 1683.92,1294.03 1621.5,1293.31 1559.08,1292.38 1496.66,1291.24 \n",
       "  1434.24,1289.89 1371.82,1288.34 1309.4,1286.59 1246.98,1284.64 1184.56,1282.49 1122.14,1280.15 1059.71,1277.62 997.294,1274.91 934.873,1272.01 872.452,1268.92 \n",
       "  810.031,1265.66 747.61,1262.21 685.189,1258.6 682.658,1258.44 622.768,1254.46 560.347,1250.12 497.926,1245.6 435.505,1240.9 373.084,1236.02 310.663,1230.98 \n",
       "  248.242,1225.76 \n",
       "  \"/>\n",
       "<polyline clip-path=\"url(#clip762)\" style=\"stroke:#d04544; stroke-linecap:butt; stroke-linejoin:round; stroke-width:16; stroke-opacity:1; fill:none\" points=\"\n",
       "  248.242,1258.68 310.663,1263.6 373.084,1268.35 435.505,1272.95 497.926,1277.38 560.347,1281.64 622.768,1285.74 685.189,1289.66 747.61,1293.42 810.031,1297 \n",
       "  872.452,1300.4 934.873,1303.63 968.37,1305.26 997.294,1306.56 1059.71,1309.18 1122.14,1311.63 1184.56,1313.9 1246.98,1316 1309.4,1317.92 1371.82,1319.66 \n",
       "  1434.24,1321.21 1496.66,1322.57 1559.08,1323.75 1621.5,1324.74 1683.92,1325.53 1746.34,1326.12 1808.77,1326.52 1871.19,1326.72 1933.61,1326.71 1996.03,1326.49 \n",
       "  2058.45,1326.07 \n",
       "  \"/>\n",
       "<polyline clip-path=\"url(#clip762)\" style=\"stroke:#e35832; stroke-linecap:butt; stroke-linejoin:round; stroke-width:16; stroke-opacity:1; fill:none\" points=\"\n",
       "  2058.45,1356.98 1996.03,1357.24 1933.61,1357.32 1871.19,1357.2 1808.77,1356.9 1746.34,1356.41 1683.92,1355.74 1621.5,1354.89 1559.08,1353.87 1496.66,1352.66 \n",
       "  1470.13,1352.08 1434.24,1351.22 1371.82,1349.54 1309.4,1347.68 1246.98,1345.64 1184.56,1343.42 1122.14,1341.02 1059.71,1338.45 997.294,1335.7 934.873,1332.79 \n",
       "  872.452,1329.71 810.031,1326.46 747.61,1323.05 685.189,1319.48 622.768,1315.75 560.347,1311.86 497.926,1307.82 459.953,1305.26 435.505,1303.48 373.084,1298.75 \n",
       "  310.663,1293.87 248.242,1288.83 \n",
       "  \"/>\n",
       "<polyline clip-path=\"url(#clip762)\" style=\"stroke:#f0701e; stroke-linecap:butt; stroke-linejoin:round; stroke-width:16; stroke-opacity:1; fill:none\" points=\"\n",
       "  248.242,1317.89 310.663,1322.65 373.084,1327.26 435.505,1331.72 497.926,1336.03 560.347,1340.19 622.768,1344.19 685.189,1348.04 747.61,1351.73 753.831,1352.08 \n",
       "  810.031,1355.02 872.452,1358.12 934.873,1361.08 997.294,1363.88 1059.71,1366.52 1122.14,1369 1184.56,1371.32 1246.98,1373.48 1309.4,1375.47 1371.82,1377.3 \n",
       "  1434.24,1378.95 1496.66,1380.44 1559.08,1381.75 1621.5,1382.89 1683.92,1383.85 1746.34,1384.63 1808.77,1385.23 1871.19,1385.64 1933.61,1385.87 1996.03,1385.92 \n",
       "  2058.45,1385.77 \n",
       "  \"/>\n",
       "<polyline clip-path=\"url(#clip762)\" style=\"stroke:#f98c09; stroke-linecap:butt; stroke-linejoin:round; stroke-width:16; stroke-opacity:1; fill:none\" points=\"\n",
       "  2058.45,1413.38 1996.03,1413.41 1933.61,1413.27 1871.19,1412.96 1808.77,1412.47 1746.34,1411.81 1683.92,1410.99 1621.5,1410 1559.08,1408.85 1496.66,1407.53 \n",
       "  1434.24,1406.06 1371.82,1404.42 1309.4,1402.63 1246.98,1400.68 1193.92,1398.9 1184.56,1398.56 1122.14,1396.13 1059.71,1393.55 997.294,1390.8 934.873,1387.9 \n",
       "  872.452,1384.85 810.031,1381.64 747.61,1378.28 685.189,1374.77 622.768,1371.11 560.347,1367.3 497.926,1363.35 435.505,1359.26 373.084,1355.02 331.164,1352.08 \n",
       "  310.663,1350.53 248.242,1345.66 \n",
       "  \"/>\n",
       "<polyline clip-path=\"url(#clip762)\" style=\"stroke:#fbaa0e; stroke-linecap:butt; stroke-linejoin:round; stroke-width:16; stroke-opacity:1; fill:none\" points=\"\n",
       "  248.242,1371.88 310.663,1376.49 373.084,1380.96 435.505,1385.29 497.926,1389.48 560.347,1393.53 622.768,1397.43 647.174,1398.9 685.189,1401.03 747.61,1404.39 \n",
       "  810.031,1407.6 872.452,1410.68 934.873,1413.61 997.294,1416.4 1059.71,1419.04 1122.14,1421.53 1184.56,1423.87 1246.98,1426.06 1309.4,1428.1 1371.82,1429.98 \n",
       "  1434.24,1431.71 1496.66,1433.28 1559.08,1434.69 1621.5,1435.94 1683.92,1437.02 1746.34,1437.94 1808.77,1438.7 1871.19,1439.28 1933.61,1439.69 1996.03,1439.93 \n",
       "  2058.45,1440 \n",
       "  \"/>\n",
       "<polyline clip-path=\"url(#clip762)\" style=\"stroke:#88216a; stroke-linecap:butt; stroke-linejoin:round; stroke-width:16; stroke-opacity:1; fill:none\" points=\"\n",
       "  2058.45,1221.29 1996.03,1222.37 1933.61,1223.19 1871.19,1223.75 1808.77,1224.05 1746.34,1224.11 1683.92,1223.92 1621.5,1223.49 1559.08,1222.83 1496.66,1221.93 \n",
       "  1434.24,1220.8 1371.82,1219.44 1309.4,1217.86 1246.98,1216.06 1184.56,1214.04 1122.14,1211.81 1117.31,1211.62 1059.71,1209.12 997.294,1206.19 934.873,1203.03 \n",
       "  872.452,1199.65 810.031,1196.05 747.61,1192.25 685.189,1188.23 622.768,1184.01 560.347,1179.58 497.926,1174.96 435.505,1170.14 373.084,1165.12 369.274,1164.8 \n",
       "  310.663,1159.36 248.242,1153.35 \n",
       "  \"/>\n",
       "<polyline clip-path=\"url(#clip762)\" style=\"stroke:#6e186e; stroke-linecap:butt; stroke-linejoin:round; stroke-width:16; stroke-opacity:1; fill:none\" points=\"\n",
       "  248.242,1112.18 303.859,1117.99 310.663,1118.62 373.084,1124.19 435.505,1129.55 497.926,1134.69 560.347,1139.63 622.768,1144.34 685.189,1148.83 747.61,1153.09 \n",
       "  810.031,1157.12 872.452,1160.92 934.873,1164.47 941.149,1164.8 997.294,1167.46 1059.71,1170.18 1122.14,1172.67 1184.56,1174.94 1246.98,1176.96 1309.4,1178.74 \n",
       "  1371.82,1180.28 1434.24,1181.57 1496.66,1182.6 1559.08,1183.38 1621.5,1183.9 1683.92,1184.14 1746.34,1184.12 1808.77,1183.82 1871.19,1183.24 1933.61,1182.37 \n",
       "  1996.03,1181.21 2058.45,1179.75 \n",
       "  \"/>\n",
       "<polyline clip-path=\"url(#clip762)\" style=\"stroke:#550f6d; stroke-linecap:butt; stroke-linejoin:round; stroke-width:16; stroke-opacity:1; fill:none\" points=\"\n",
       "  2058.45,1133.23 1996.03,1135.2 1933.61,1136.83 1871.19,1138.12 1808.77,1139.09 1746.34,1139.72 1683.92,1140.04 1621.5,1140.05 1559.08,1139.76 1496.66,1139.16 \n",
       "  1434.24,1138.27 1371.82,1137.09 1309.4,1135.64 1246.98,1133.9 1184.56,1131.89 1122.14,1129.62 1059.71,1127.08 997.294,1124.29 934.873,1121.24 873.13,1117.99 \n",
       "  872.452,1117.94 810.031,1113.92 747.61,1109.64 685.189,1105.09 622.768,1100.29 560.347,1095.24 497.926,1089.95 435.505,1084.42 373.084,1078.65 310.663,1072.65 \n",
       "  295.819,1071.17 248.242,1065.73 \n",
       "  \"/>\n",
       "<polyline clip-path=\"url(#clip762)\" style=\"stroke:#3b0964; stroke-linecap:butt; stroke-linejoin:round; stroke-width:16; stroke-opacity:1; fill:none\" points=\"\n",
       "  248.242,1011.23 310.663,1019.15 353.156,1024.35 373.084,1026.44 435.505,1032.68 497.926,1038.67 560.347,1044.38 622.768,1049.82 685.189,1054.98 747.61,1059.84 \n",
       "  810.031,1064.42 872.452,1068.69 911.651,1071.17 934.873,1072.44 997.294,1075.57 1059.71,1078.42 1122.14,1080.97 1184.56,1083.22 1246.98,1085.16 1309.4,1086.8 \n",
       "  1371.82,1088.11 1434.24,1089.1 1496.66,1089.76 1559.08,1090.07 1621.5,1090.04 1683.92,1089.65 1746.34,1088.89 1808.77,1087.76 1871.19,1086.25 1933.61,1084.35 \n",
       "  1996.03,1082.05 2058.45,1079.34 \n",
       "  \"/>\n",
       "<polyline clip-path=\"url(#clip762)\" style=\"stroke:#1f0c47; stroke-linecap:butt; stroke-linejoin:round; stroke-width:16; stroke-opacity:1; fill:none\" points=\"\n",
       "  2058.45,1011.45 1996.03,1016.2 1933.61,1020.3 1871.19,1023.79 1859.13,1024.35 1808.77,1026.25 1746.34,1028.14 1683.92,1029.57 1621.5,1030.56 1559.08,1031.13 \n",
       "  1496.66,1031.27 1434.24,1031.01 1371.82,1030.35 1309.4,1029.3 1246.98,1027.88 1184.56,1026.09 1134.19,1024.35 1122.14,1023.85 1059.71,1020.86 997.294,1017.47 \n",
       "  934.873,1013.69 872.452,1009.54 810.031,1005.02 747.61,1000.14 685.189,994.923 622.768,989.369 560.347,983.489 500.348,977.53 497.926,977.239 435.505,969.311 \n",
       "  373.084,961.048 310.663,952.462 248.242,943.561 \n",
       "  \"/>\n",
       "<polyline clip-path=\"url(#clip762)\" style=\"stroke:#090621; stroke-linecap:butt; stroke-linejoin:round; stroke-width:16; stroke-opacity:1; fill:none\" points=\"\n",
       "  248.242,840.483 310.663,854.111 373.084,867.367 435.505,880.228 454.145,883.892 497.926,890.181 560.347,898.692 622.768,906.768 685.189,914.39 747.61,921.537 \n",
       "  810.031,928.187 835.963,930.711 872.452,933.464 934.873,937.702 997.294,941.476 1059.71,944.767 1122.14,947.559 1184.56,949.832 1246.98,951.567 1309.4,952.742 \n",
       "  1371.82,953.336 1434.24,953.326 1496.66,952.687 1559.08,951.393 1621.5,949.418 1683.92,946.733 1746.34,943.308 1808.77,939.111 1871.19,934.107 1907.68,930.711 \n",
       "  1933.61,927.23 1996.03,917.591 2058.45,906.498 \n",
       "  \"/>\n",
       "<polyline clip-path=\"url(#clip762)\" style=\"stroke:#090621; stroke-linecap:butt; stroke-linejoin:round; stroke-width:16; stroke-opacity:1; fill:none\" points=\"\n",
       "  2058.45,693.209 1996.03,679.581 1933.61,666.325 1871.19,653.464 1852.55,649.799 1808.77,643.511 1746.34,635 1683.92,626.924 1621.5,619.302 1559.08,612.155 \n",
       "  1496.66,605.505 1470.73,602.981 1434.24,600.228 1371.82,595.99 1309.4,592.216 1246.98,588.925 1184.56,586.133 1122.14,583.86 1059.71,582.125 997.294,580.95 \n",
       "  934.873,580.356 872.452,580.366 810.031,581.005 747.61,582.299 685.189,584.274 622.768,586.959 560.347,590.384 497.926,594.581 435.505,599.585 399.016,602.981 \n",
       "  373.084,606.461 310.663,616.101 248.242,627.194 \n",
       "  \"/>\n",
       "<polyline clip-path=\"url(#clip762)\" style=\"stroke:#1f0c47; stroke-linecap:butt; stroke-linejoin:round; stroke-width:16; stroke-opacity:1; fill:none\" points=\"\n",
       "  248.242,522.246 310.663,517.496 373.084,513.39 435.505,509.906 447.564,509.344 497.926,507.446 560.347,505.557 622.768,504.121 685.189,503.127 747.61,502.563 \n",
       "  810.031,502.418 872.452,502.681 934.873,503.341 997.294,504.388 1059.71,505.813 1122.14,507.605 1172.5,509.344 1184.56,509.839 1246.98,512.832 1309.4,516.224 \n",
       "  1371.82,520.002 1434.24,524.157 1496.66,528.676 1559.08,533.55 1621.5,538.769 1683.92,544.323 1746.34,550.203 1806.34,556.162 1808.77,556.453 1871.19,564.381 \n",
       "  1933.61,572.644 1996.03,581.23 2058.45,590.131 \n",
       "  \"/>\n",
       "<polyline clip-path=\"url(#clip762)\" style=\"stroke:#3b0964; stroke-linecap:butt; stroke-linejoin:round; stroke-width:16; stroke-opacity:1; fill:none\" points=\"\n",
       "  2058.45,522.467 1996.03,514.539 1953.54,509.344 1933.61,507.257 1871.19,501.01 1808.77,495.027 1746.34,489.312 1683.92,483.874 1621.5,478.717 1559.08,473.848 \n",
       "  1496.66,469.275 1434.24,465.005 1395.04,462.525 1371.82,461.251 1309.4,458.12 1246.98,455.277 1184.56,452.726 1122.14,450.474 1059.71,448.528 997.294,446.894 \n",
       "  934.873,445.579 872.452,444.59 810.031,443.935 747.61,443.62 685.189,443.654 622.768,444.045 560.347,444.8 497.926,445.928 435.505,447.439 373.084,449.34 \n",
       "  310.663,451.642 248.242,454.353 \n",
       "  \"/>\n",
       "<polyline clip-path=\"url(#clip762)\" style=\"stroke:#550f6d; stroke-linecap:butt; stroke-linejoin:round; stroke-width:16; stroke-opacity:1; fill:none\" points=\"\n",
       "  248.242,400.462 310.663,398.489 373.084,396.86 435.505,395.568 497.926,394.607 560.347,393.969 622.768,393.649 685.189,393.64 747.61,393.937 810.031,394.532 \n",
       "  872.452,395.421 934.873,396.598 997.294,398.057 1059.71,399.793 1122.14,401.8 1184.56,404.075 1246.98,406.611 1309.4,409.404 1371.82,412.449 1433.56,415.706 \n",
       "  1434.24,415.747 1496.66,419.769 1559.08,424.056 1621.5,428.601 1683.92,433.401 1746.34,438.45 1808.77,443.743 1871.19,449.275 1933.61,455.042 1996.03,461.038 \n",
       "  2010.87,462.525 2058.45,467.964 \n",
       "  \"/>\n",
       "<polyline clip-path=\"url(#clip762)\" style=\"stroke:#6e186e; stroke-linecap:butt; stroke-linejoin:round; stroke-width:16; stroke-opacity:1; fill:none\" points=\"\n",
       "  2058.45,421.511 2002.83,415.706 1996.03,415.074 1933.61,409.506 1871.19,404.147 1808.77,398.999 1746.34,394.067 1683.92,389.354 1621.5,384.864 1559.08,380.601 \n",
       "  1496.66,376.57 1434.24,372.775 1371.82,369.219 1365.54,368.888 1309.4,366.234 1246.98,363.511 1184.56,361.017 1122.14,358.756 1059.71,356.732 997.294,354.949 \n",
       "  934.873,353.412 872.452,352.123 810.031,351.088 747.61,350.311 685.189,349.796 622.768,349.548 560.347,349.572 497.926,349.872 435.505,350.454 373.084,351.322 \n",
       "  310.663,352.482 248.242,353.939 \n",
       "  \"/>\n",
       "<polyline clip-path=\"url(#clip762)\" style=\"stroke:#88216a; stroke-linecap:butt; stroke-linejoin:round; stroke-width:16; stroke-opacity:1; fill:none\" points=\"\n",
       "  248.242,312.4 310.663,311.322 373.084,310.505 435.505,309.945 497.926,309.639 560.347,309.581 622.768,309.769 685.189,310.197 747.61,310.864 810.031,311.764 \n",
       "  872.452,312.894 934.873,314.251 997.294,315.832 1059.71,317.632 1122.14,319.649 1184.56,321.88 1189.39,322.069 1246.98,324.568 1309.4,327.505 1371.82,330.664 \n",
       "  1434.24,334.044 1496.66,337.639 1559.08,341.446 1621.5,345.463 1683.92,349.685 1746.34,354.11 1808.77,358.735 1871.19,363.555 1933.61,368.569 1937.42,368.888 \n",
       "  1996.03,374.335 2058.45,380.341 \n",
       "  \"/>\n",
       "<polyline clip-path=\"url(#clip762)\" style=\"stroke:#a12b61; stroke-linecap:butt; stroke-linejoin:round; stroke-width:16; stroke-opacity:1; fill:none\" points=\"\n",
       "  2058.45,342.823 1996.03,337.244 1933.61,331.851 1871.19,326.646 1814.19,322.069 1808.77,321.673 1746.34,317.313 1683.92,313.136 1621.5,309.145 1559.08,305.341 \n",
       "  1496.66,301.729 1434.24,298.309 1371.82,295.087 1309.4,292.063 1246.98,289.243 1184.56,286.627 1122.14,284.22 1059.71,282.024 997.294,280.044 934.873,278.281 \n",
       "  872.452,276.74 810.031,275.424 800.061,275.251 747.61,274.421 685.189,273.646 622.768,273.085 560.347,272.742 497.926,272.618 435.505,272.717 373.084,273.044 \n",
       "  310.663,273.6 248.242,274.389 \n",
       "  \"/>\n",
       "<polyline clip-path=\"url(#clip762)\" style=\"stroke:#ba3655; stroke-linecap:butt; stroke-linejoin:round; stroke-width:16; stroke-opacity:1; fill:none\" points=\"\n",
       "  248.242,239.994 310.663,239.372 373.084,238.98 435.505,238.817 497.926,238.88 560.347,239.164 622.768,239.666 685.189,240.385 747.61,241.315 810.031,242.456 \n",
       "  872.452,243.803 934.873,245.354 997.294,247.106 1059.71,249.056 1122.14,251.201 1184.56,253.54 1246.98,256.069 1309.4,258.785 1371.82,261.687 1434.24,264.771 \n",
       "  1496.66,268.036 1559.08,271.478 1621.5,275.096 1624.03,275.251 1683.92,279.236 1746.34,283.575 1808.77,288.095 1871.19,292.794 1933.61,297.669 1996.03,302.717 \n",
       "  2058.45,307.936 \n",
       "  \"/>\n",
       "<polyline clip-path=\"url(#clip762)\" style=\"stroke:#d04544; stroke-linecap:butt; stroke-linejoin:round; stroke-width:16; stroke-opacity:1; fill:none\" points=\"\n",
       "  2058.45,275.007 1996.03,270.094 1933.61,265.339 1871.19,260.746 1808.77,256.316 1746.34,252.052 1683.92,247.955 1621.5,244.028 1559.08,240.272 1496.66,236.692 \n",
       "  1434.24,233.287 1371.82,230.062 1338.32,228.432 1309.4,227.135 1246.98,224.512 1184.56,222.063 1122.14,219.788 1059.71,217.691 997.294,215.773 934.873,214.036 \n",
       "  872.452,212.484 810.031,211.118 747.61,209.941 685.189,208.956 622.768,208.164 560.347,207.568 497.926,207.171 435.505,206.976 373.084,206.984 310.663,207.2 \n",
       "  248.242,207.625 \n",
       "  \"/>\n",
       "<polyline clip-path=\"url(#clip762)\" style=\"stroke:#e35832; stroke-linecap:butt; stroke-linejoin:round; stroke-width:16; stroke-opacity:1; fill:none\" points=\"\n",
       "  248.242,176.715 310.663,176.45 373.084,176.376 435.505,176.491 497.926,176.793 560.347,177.28 622.768,177.949 685.189,178.797 747.61,179.824 810.031,181.027 \n",
       "  836.56,181.613 872.452,182.471 934.873,184.15 997.294,186.012 1059.71,188.055 1122.14,190.276 1184.56,192.673 1246.98,195.245 1309.4,197.988 1371.82,200.901 \n",
       "  1434.24,203.982 1496.66,207.228 1559.08,210.638 1621.5,214.209 1683.92,217.94 1746.34,221.829 1808.77,225.874 1846.74,228.432 1871.19,230.214 1933.61,234.939 \n",
       "  1996.03,239.823 2058.45,244.866 \n",
       "  \"/>\n",
       "<polyline clip-path=\"url(#clip762)\" style=\"stroke:#f0701e; stroke-linecap:butt; stroke-linejoin:round; stroke-width:16; stroke-opacity:1; fill:none\" points=\"\n",
       "  2058.45,215.802 1996.03,211.042 1933.61,206.431 1871.19,201.969 1808.77,197.658 1746.34,193.5 1683.92,189.497 1621.5,185.651 1559.08,181.964 1552.86,181.613 \n",
       "  1496.66,178.676 1434.24,175.568 1371.82,172.613 1309.4,169.814 1246.98,167.173 1184.56,164.691 1122.14,162.371 1059.71,160.213 997.294,158.221 934.873,156.396 \n",
       "  872.452,154.74 810.031,153.254 747.61,151.942 685.189,150.805 622.768,149.845 560.347,149.064 497.926,148.464 435.505,148.048 373.084,147.818 310.663,147.776 \n",
       "  248.242,147.924 \n",
       "  \"/>\n",
       "<polyline clip-path=\"url(#clip762)\" style=\"stroke:#f98c09; stroke-linecap:butt; stroke-linejoin:round; stroke-width:16; stroke-opacity:1; fill:none\" points=\"\n",
       "  248.242,120.313 310.663,120.279 373.084,120.421 435.505,120.736 497.926,121.223 560.347,121.879 622.768,122.702 685.189,123.692 747.61,124.845 810.031,126.16 \n",
       "  872.452,127.636 934.873,129.271 997.294,131.062 1059.71,133.009 1112.77,134.795 1122.14,135.133 1184.56,137.558 1246.98,140.144 1309.4,142.888 1371.82,145.789 \n",
       "  1434.24,148.845 1496.66,152.054 1559.08,155.415 1621.5,158.926 1683.92,162.585 1746.34,166.391 1808.77,170.342 1871.19,174.435 1933.61,178.671 1975.53,181.613 \n",
       "  1996.03,183.16 2058.45,188.029 \n",
       "  \"/>\n",
       "<polyline clip-path=\"url(#clip762)\" style=\"stroke:#fbaa0e; stroke-linecap:butt; stroke-linejoin:round; stroke-width:16; stroke-opacity:1; fill:none\" points=\"\n",
       "  2058.45,161.813 1996.03,157.204 1933.61,152.733 1871.19,148.402 1808.77,144.212 1746.34,140.164 1683.92,136.261 1659.52,134.795 1621.5,132.663 1559.08,129.305 \n",
       "  1496.66,126.088 1434.24,123.013 1371.82,120.081 1309.4,117.295 1246.98,114.655 1184.56,112.163 1122.14,109.82 1059.71,107.629 997.294,105.591 934.873,103.708 \n",
       "  872.452,101.98 810.031,100.411 747.61,99.0015 685.189,97.7534 622.768,96.6685 560.347,95.7487 497.926,94.9958 435.505,94.4117 373.084,93.9982 310.663,93.7572 \n",
       "  248.242,93.6908 \n",
       "  \"/>\n",
       "<polyline clip-path=\"url(#clip762)\" style=\"stroke:#f8c931; stroke-linecap:butt; stroke-linejoin:round; stroke-width:16; stroke-opacity:1; fill:none\" points=\"\n",
       "  1208.97,87.9763 1246.98,89.5459 1309.4,92.2749 1371.82,95.1498 1434.24,98.169 1496.66,101.331 1559.08,104.634 1621.5,108.078 1683.92,111.659 1746.34,115.378 \n",
       "  1808.77,119.232 1871.19,123.221 1933.61,127.342 1996.03,131.595 \n",
       "  \"/>\n",
       "<polyline clip-path=\"url(#clip762)\" style=\"stroke:#f8c931; stroke-linecap:butt; stroke-linejoin:round; stroke-width:16; stroke-opacity:1; fill:none\" points=\"\n",
       "  2041.57,134.795 2058.45,136.063 \n",
       "  \"/>\n",
       "<polyline clip-path=\"url(#clip762)\" style=\"stroke:#f1e864; stroke-linecap:butt; stroke-linejoin:round; stroke-width:16; stroke-opacity:1; fill:none\" points=\"\n",
       "  2058.45,111.977 1996.03,107.512 \n",
       "  \"/>\n",
       "<polyline clip-path=\"url(#clip762)\" style=\"stroke:#f1e864; stroke-linecap:butt; stroke-linejoin:round; stroke-width:16; stroke-opacity:1; fill:none\" points=\"\n",
       "  1697.29,87.9763 1746.34,90.9631 1808.77,94.9014 1871.19,98.9732 1933.61,103.177 1996.03,107.512 \n",
       "  \"/>\n",
       "<polyline clip-path=\"url(#clip762)\" style=\"stroke:#f8c931; stroke-linecap:butt; stroke-linejoin:round; stroke-width:16; stroke-opacity:1; fill:none\" points=\"\n",
       "  248.242,1397.63 265.124,1398.9 310.663,1402.1 373.084,1406.35 435.505,1410.47 497.926,1414.46 560.347,1418.31 622.768,1422.03 685.189,1425.61 747.61,1429.06 \n",
       "  810.031,1432.36 872.452,1435.52 934.873,1438.54 997.294,1441.42 1059.71,1444.15 1097.72,1445.72 \n",
       "  \"/>\n",
       "<defs>\n",
       "  <clipPath id=\"clip763\">\n",
       "    <rect x=\"2160\" y=\"47\" width=\"73\" height=\"1440\"/>\n",
       "  </clipPath>\n",
       "</defs>\n",
       "<polyline clip-path=\"url(#clip763)\" style=\"stroke:#0a0723; stroke-linecap:butt; stroke-linejoin:round; stroke-width:16; stroke-opacity:1; fill:none\" points=\"\n",
       "  2160.76,1396.5 2232.76,1396.5 \n",
       "  \"/>\n",
       "<polyline clip-path=\"url(#clip763)\" style=\"stroke:#200c4a; stroke-linecap:butt; stroke-linejoin:round; stroke-width:16; stroke-opacity:1; fill:none\" points=\"\n",
       "  2160.76,1306.55 2232.76,1306.55 \n",
       "  \"/>\n",
       "<polyline clip-path=\"url(#clip763)\" style=\"stroke:#3c0965; stroke-linecap:butt; stroke-linejoin:round; stroke-width:16; stroke-opacity:1; fill:none\" points=\"\n",
       "  2160.76,1216.6 2232.76,1216.6 \n",
       "  \"/>\n",
       "<polyline clip-path=\"url(#clip763)\" style=\"stroke:#570f6d; stroke-linecap:butt; stroke-linejoin:round; stroke-width:16; stroke-opacity:1; fill:none\" points=\"\n",
       "  2160.76,1126.65 2232.76,1126.65 \n",
       "  \"/>\n",
       "<polyline clip-path=\"url(#clip763)\" style=\"stroke:#70196e; stroke-linecap:butt; stroke-linejoin:round; stroke-width:16; stroke-opacity:1; fill:none\" points=\"\n",
       "  2160.76,1036.7 2232.76,1036.7 \n",
       "  \"/>\n",
       "<polyline clip-path=\"url(#clip763)\" style=\"stroke:#892269; stroke-linecap:butt; stroke-linejoin:round; stroke-width:16; stroke-opacity:1; fill:none\" points=\"\n",
       "  2160.76,946.746 2232.76,946.746 \n",
       "  \"/>\n",
       "<polyline clip-path=\"url(#clip763)\" style=\"stroke:#a32b61; stroke-linecap:butt; stroke-linejoin:round; stroke-width:16; stroke-opacity:1; fill:none\" points=\"\n",
       "  2160.76,856.796 2232.76,856.796 \n",
       "  \"/>\n",
       "<polyline clip-path=\"url(#clip763)\" style=\"stroke:#bb3754; stroke-linecap:butt; stroke-linejoin:round; stroke-width:16; stroke-opacity:1; fill:none\" points=\"\n",
       "  2160.76,766.846 2232.76,766.846 \n",
       "  \"/>\n",
       "<polyline clip-path=\"url(#clip763)\" style=\"stroke:#d04544; stroke-linecap:butt; stroke-linejoin:round; stroke-width:16; stroke-opacity:1; fill:none\" points=\"\n",
       "  2160.76,676.896 2232.76,676.896 \n",
       "  \"/>\n",
       "<polyline clip-path=\"url(#clip763)\" style=\"stroke:#e35832; stroke-linecap:butt; stroke-linejoin:round; stroke-width:16; stroke-opacity:1; fill:none\" points=\"\n",
       "  2160.76,586.946 2232.76,586.946 \n",
       "  \"/>\n",
       "<polyline clip-path=\"url(#clip763)\" style=\"stroke:#f0701e; stroke-linecap:butt; stroke-linejoin:round; stroke-width:16; stroke-opacity:1; fill:none\" points=\"\n",
       "  2160.76,496.995 2232.76,496.995 \n",
       "  \"/>\n",
       "<polyline clip-path=\"url(#clip763)\" style=\"stroke:#f98c09; stroke-linecap:butt; stroke-linejoin:round; stroke-width:16; stroke-opacity:1; fill:none\" points=\"\n",
       "  2160.76,407.045 2232.76,407.045 \n",
       "  \"/>\n",
       "<polyline clip-path=\"url(#clip763)\" style=\"stroke:#fbaa0e; stroke-linecap:butt; stroke-linejoin:round; stroke-width:16; stroke-opacity:1; fill:none\" points=\"\n",
       "  2160.76,317.095 2232.76,317.095 \n",
       "  \"/>\n",
       "<polyline clip-path=\"url(#clip763)\" style=\"stroke:#f8c931; stroke-linecap:butt; stroke-linejoin:round; stroke-width:16; stroke-opacity:1; fill:none\" points=\"\n",
       "  2160.76,227.145 2232.76,227.145 \n",
       "  \"/>\n",
       "<polyline clip-path=\"url(#clip763)\" style=\"stroke:#f1e864; stroke-linecap:butt; stroke-linejoin:round; stroke-width:16; stroke-opacity:1; fill:none\" points=\"\n",
       "  2160.76,137.194 2232.76,137.194 \n",
       "  \"/>\n",
       "<path clip-path=\"url(#clip760)\" d=\"M2274.38 1184.4 L2290.7 1184.4 L2290.7 1188.34 L2268.76 1188.34 L2268.76 1184.4 Q2271.42 1181.65 2276 1177.02 Q2280.61 1172.36 2281.79 1171.02 Q2284.03 1168.5 2284.91 1166.76 Q2285.82 1165 2285.82 1163.31 Q2285.82 1160.56 2283.87 1158.82 Q2281.95 1157.09 2278.85 1157.09 Q2276.65 1157.09 2274.2 1157.85 Q2271.77 1158.61 2268.99 1160.16 L2268.99 1155.44 Q2271.81 1154.31 2274.27 1153.73 Q2276.72 1153.15 2278.76 1153.15 Q2284.13 1153.15 2287.32 1155.84 Q2290.52 1158.52 2290.52 1163.01 Q2290.52 1165.14 2289.7 1167.06 Q2288.92 1168.96 2286.81 1171.55 Q2286.23 1172.23 2283.13 1175.44 Q2280.03 1178.64 2274.38 1184.4 Z\" fill=\"#000000\" fill-rule=\"evenodd\" fill-opacity=\"1\" /><path clip-path=\"url(#clip760)\" d=\"M2300.51 1182.46 L2305.4 1182.46 L2305.4 1188.34 L2300.51 1188.34 L2300.51 1182.46 Z\" fill=\"#000000\" fill-rule=\"evenodd\" fill-opacity=\"1\" /><path clip-path=\"url(#clip760)\" d=\"M2315.63 1153.78 L2333.99 1153.78 L2333.99 1157.71 L2319.91 1157.71 L2319.91 1166.18 Q2320.93 1165.84 2321.95 1165.67 Q2322.97 1165.49 2323.99 1165.49 Q2329.77 1165.49 2333.15 1168.66 Q2336.53 1171.83 2336.53 1177.25 Q2336.53 1182.83 2333.06 1185.93 Q2329.59 1189.01 2323.27 1189.01 Q2321.09 1189.01 2318.83 1188.64 Q2316.58 1188.27 2314.17 1187.53 L2314.17 1182.83 Q2316.26 1183.96 2318.48 1184.52 Q2320.7 1185.07 2323.18 1185.07 Q2327.18 1185.07 2329.52 1182.97 Q2331.86 1180.86 2331.86 1177.25 Q2331.86 1173.64 2329.52 1171.53 Q2327.18 1169.42 2323.18 1169.42 Q2321.3 1169.42 2319.43 1169.84 Q2317.58 1170.26 2315.63 1171.14 L2315.63 1153.78 Z\" fill=\"#000000\" fill-rule=\"evenodd\" fill-opacity=\"1\" /><path clip-path=\"url(#clip760)\" d=\"M2270.21 840.598 L2288.57 840.598 L2288.57 844.533 L2274.5 844.533 L2274.5 853.005 Q2275.52 852.658 2276.53 852.496 Q2277.55 852.311 2278.57 852.311 Q2284.36 852.311 2287.74 855.482 Q2291.12 858.654 2291.12 864.07 Q2291.12 869.649 2287.64 872.751 Q2284.17 875.829 2277.85 875.829 Q2275.68 875.829 2273.41 875.459 Q2271.16 875.089 2268.76 874.348 L2268.76 869.649 Q2270.84 870.783 2273.06 871.339 Q2275.28 871.894 2277.76 871.894 Q2281.77 871.894 2284.1 869.788 Q2286.44 867.681 2286.44 864.07 Q2286.44 860.459 2284.1 858.353 Q2281.77 856.246 2277.76 856.246 Q2275.89 856.246 2274.01 856.663 Q2272.16 857.08 2270.21 857.959 L2270.21 840.598 Z\" fill=\"#000000\" fill-rule=\"evenodd\" fill-opacity=\"1\" /><path clip-path=\"url(#clip760)\" d=\"M2300.33 869.279 L2305.21 869.279 L2305.21 875.158 L2300.33 875.158 L2300.33 869.279 Z\" fill=\"#000000\" fill-rule=\"evenodd\" fill-opacity=\"1\" /><path clip-path=\"url(#clip760)\" d=\"M2325.4 843.677 Q2321.79 843.677 2319.96 847.242 Q2318.15 850.783 2318.15 857.913 Q2318.15 865.019 2319.96 868.584 Q2321.79 872.126 2325.4 872.126 Q2329.03 872.126 2330.84 868.584 Q2332.67 865.019 2332.67 857.913 Q2332.67 850.783 2330.84 847.242 Q2329.03 843.677 2325.4 843.677 M2325.4 839.973 Q2331.21 839.973 2334.26 844.58 Q2337.34 849.163 2337.34 857.913 Q2337.34 866.64 2334.26 871.246 Q2331.21 875.829 2325.4 875.829 Q2319.59 875.829 2316.51 871.246 Q2313.45 866.64 2313.45 857.913 Q2313.45 849.163 2316.51 844.58 Q2319.59 839.973 2325.4 839.973 Z\" fill=\"#000000\" fill-rule=\"evenodd\" fill-opacity=\"1\" /><path clip-path=\"url(#clip760)\" d=\"M2268.76 527.42 L2290.98 527.42 L2290.98 529.411 L2278.43 561.98 L2273.55 561.98 L2285.35 531.355 L2268.76 531.355 L2268.76 527.42 Z\" fill=\"#000000\" fill-rule=\"evenodd\" fill-opacity=\"1\" /><path clip-path=\"url(#clip760)\" d=\"M2300.1 556.101 L2304.98 556.101 L2304.98 561.98 L2300.1 561.98 L2300.1 556.101 Z\" fill=\"#000000\" fill-rule=\"evenodd\" fill-opacity=\"1\" /><path clip-path=\"url(#clip760)\" d=\"M2315.21 527.42 L2333.57 527.42 L2333.57 531.355 L2319.5 531.355 L2319.5 539.827 Q2320.51 539.48 2321.53 539.318 Q2322.55 539.133 2323.57 539.133 Q2329.36 539.133 2332.74 542.304 Q2336.12 545.476 2336.12 550.892 Q2336.12 556.471 2332.64 559.573 Q2329.17 562.651 2322.85 562.651 Q2320.68 562.651 2318.41 562.281 Q2316.16 561.911 2313.76 561.17 L2313.76 556.471 Q2315.84 557.605 2318.06 558.161 Q2320.28 558.716 2322.76 558.716 Q2326.76 558.716 2329.1 556.61 Q2331.44 554.503 2331.44 550.892 Q2331.44 547.281 2329.1 545.175 Q2326.76 543.068 2322.76 543.068 Q2320.89 543.068 2319.01 543.485 Q2317.16 543.902 2315.21 544.781 L2315.21 527.42 Z\" fill=\"#000000\" fill-rule=\"evenodd\" fill-opacity=\"1\" /><path clip-path=\"url(#clip760)\" d=\"M2269.43 244.867 L2277.07 244.867 L2277.07 218.501 L2268.76 220.168 L2268.76 215.909 L2277.02 214.242 L2281.7 214.242 L2281.7 244.867 L2289.33 244.867 L2289.33 248.802 L2269.43 248.802 L2269.43 244.867 Z\" fill=\"#000000\" fill-rule=\"evenodd\" fill-opacity=\"1\" /><path clip-path=\"url(#clip760)\" d=\"M2308.78 217.321 Q2305.17 217.321 2303.34 220.886 Q2301.53 224.427 2301.53 231.557 Q2301.53 238.663 2303.34 242.228 Q2305.17 245.77 2308.78 245.77 Q2312.41 245.77 2314.22 242.228 Q2316.05 238.663 2316.05 231.557 Q2316.05 224.427 2314.22 220.886 Q2312.41 217.321 2308.78 217.321 M2308.78 213.617 Q2314.59 213.617 2317.64 218.224 Q2320.72 222.807 2320.72 231.557 Q2320.72 240.284 2317.64 244.89 Q2314.59 249.473 2308.78 249.473 Q2302.97 249.473 2299.89 244.89 Q2296.83 240.284 2296.83 231.557 Q2296.83 222.807 2299.89 218.224 Q2302.97 213.617 2308.78 213.617 Z\" fill=\"#000000\" fill-rule=\"evenodd\" fill-opacity=\"1\" /><path clip-path=\"url(#clip760)\" d=\"M2328.94 242.923 L2333.83 242.923 L2333.83 248.802 L2328.94 248.802 L2328.94 242.923 Z\" fill=\"#000000\" fill-rule=\"evenodd\" fill-opacity=\"1\" /><path clip-path=\"url(#clip760)\" d=\"M2354.01 217.321 Q2350.4 217.321 2348.57 220.886 Q2346.76 224.427 2346.76 231.557 Q2346.76 238.663 2348.57 242.228 Q2350.4 245.77 2354.01 245.77 Q2357.64 245.77 2359.45 242.228 Q2361.28 238.663 2361.28 231.557 Q2361.28 224.427 2359.45 220.886 Q2357.64 217.321 2354.01 217.321 M2354.01 213.617 Q2359.82 213.617 2362.88 218.224 Q2365.95 222.807 2365.95 231.557 Q2365.95 240.284 2362.88 244.89 Q2359.82 249.473 2354.01 249.473 Q2348.2 249.473 2345.12 244.89 Q2342.07 240.284 2342.07 231.557 Q2342.07 222.807 2345.12 218.224 Q2348.2 213.617 2354.01 213.617 Z\" fill=\"#000000\" fill-rule=\"evenodd\" fill-opacity=\"1\" /><polyline clip-path=\"url(#clip760)\" style=\"stroke:#000000; stroke-linecap:butt; stroke-linejoin:round; stroke-width:4; stroke-opacity:1; fill:none\" points=\"\n",
       "  2232.76,1486.45 2232.76,1174.68 2256.76,1174.68 2232.76,1174.68 2232.76,861.507 2256.76,861.507 2232.76,861.507 2232.76,548.329 2256.76,548.329 2232.76,548.329 \n",
       "  2232.76,235.151 2256.76,235.151 2232.76,235.151 2232.76,47.2441 \n",
       "  \"/>\n",
       "<path clip-path=\"url(#clip760)\" d=\"\n",
       "M1756.95 250.738 L2048.8 250.738 L2048.8 95.2176 L1756.95 95.2176  Z\n",
       "  \" fill=\"#ffffff\" fill-rule=\"evenodd\" fill-opacity=\"1\"/>\n",
       "<polyline clip-path=\"url(#clip760)\" style=\"stroke:#000000; stroke-linecap:butt; stroke-linejoin:round; stroke-width:4; stroke-opacity:1; fill:none\" points=\"\n",
       "  1756.95,250.738 2048.8,250.738 2048.8,95.2176 1756.95,95.2176 1756.95,250.738 \n",
       "  \"/>\n",
       "<polyline clip-path=\"url(#clip760)\" style=\"stroke:#009af9; stroke-linecap:butt; stroke-linejoin:round; stroke-width:6; stroke-opacity:1; fill:none\" points=\"\n",
       "  1778.27,172.978 1906.19,172.978 \n",
       "  \"/>\n",
       "<circle clip-path=\"url(#clip760)\" cx=\"1842.23\" cy=\"172.978\" r=\"34\" fill=\"#009af9\" fill-rule=\"evenodd\" fill-opacity=\"1\" stroke=\"#000000\" stroke-opacity=\"1\" stroke-width=\"7.68\"/>\n",
       "<path clip-path=\"url(#clip760)\" d=\"M1948.27 202.509 Q1945.56 209.453 1943 211.571 Q1940.43 213.689 1936.12 213.689 L1931.02 213.689 L1931.02 208.342 L1934.77 208.342 Q1937.41 208.342 1938.86 207.092 Q1940.32 205.842 1942.09 201.189 L1943.24 198.273 L1927.51 160.009 L1934.28 160.009 L1946.43 190.425 L1958.59 160.009 L1965.36 160.009 L1948.27 202.509 Z\" fill=\"#000000\" fill-rule=\"evenodd\" fill-opacity=\"1\" /><path clip-path=\"url(#clip760)\" d=\"M1976.29 192.995 L1987.75 192.995 L1987.75 153.446 L1975.29 155.946 L1975.29 149.558 L1987.68 147.058 L1994.7 147.058 L1994.7 192.995 L2006.15 192.995 L2006.15 198.898 L1976.29 198.898 L1976.29 192.995 Z\" fill=\"#000000\" fill-rule=\"evenodd\" fill-opacity=\"1\" /></svg>\n"
      ]
     },
     "execution_count": 44,
     "metadata": {},
     "output_type": "execute_result"
    }
   ],
   "source": [
    "plot(chist[1, :], chist[2, :], marker=:circle)\n",
    "x = LinRange(-1, 1, 30)\n",
    "contour!(x, x, (x,y) -> loss([x, y]))"
   ]
  },
  {
   "cell_type": "markdown",
   "id": "ddd68837",
   "metadata": {
    "slideshow": {
     "slide_type": "slide"
    }
   },
   "source": [
    "# Chebyshev regression via optimization\n",
    "\n"
   ]
  },
  {
   "cell_type": "code",
   "execution_count": 48,
   "id": "5520e580",
   "metadata": {
    "cell_style": "split"
   },
   "outputs": [
    {
     "data": {
      "text/plain": [
       "8-element Vector{Float64}:\n",
       "  0.2574425176426252\n",
       " -0.07677183142880879\n",
       " -0.45869836761594074\n",
       " -0.03424918979535217\n",
       "  0.0015455111399231755\n",
       " -0.04040206116680208\n",
       " -0.2646122776404021\n",
       " -0.022719353732199264"
      ]
     },
     "execution_count": 48,
     "metadata": {},
     "output_type": "execute_result"
    }
   ],
   "source": [
    "x = LinRange(-1, 1, 200)\n",
    "sigma = 0.5; n = 8\n",
    "y = runge_noisy(x, sigma)\n",
    "V = vander_chebyshev(x, n)\n",
    "function loss(c)\n",
    "    r = V * c - y\n",
    "    .5 * r' * r\n",
    "end\n",
    "function grad(c)\n",
    "    r = V * c - y\n",
    "    V' * r\n",
    "end\n",
    "c, _, lhist = grad_descent(loss, grad, ones(n),\n",
    "    gamma=0.008)\n",
    "c"
   ]
  },
  {
   "cell_type": "code",
   "execution_count": 49,
   "id": "77957be4",
   "metadata": {
    "cell_style": "split"
   },
   "outputs": [
    {
     "name": "stdout",
     "output_type": "stream",
     "text": [
      "cond(V' * V) = 9.259357328426905\n"
     ]
    },
    {
     "data": {
      "image/svg+xml": [
       "<?xml version=\"1.0\" encoding=\"utf-8\"?>\n",
       "<svg xmlns=\"http://www.w3.org/2000/svg\" xmlns:xlink=\"http://www.w3.org/1999/xlink\" width=\"600\" height=\"400\" viewBox=\"0 0 2400 1600\">\n",
       "<defs>\n",
       "  <clipPath id=\"clip880\">\n",
       "    <rect x=\"0\" y=\"0\" width=\"2400\" height=\"1600\"/>\n",
       "  </clipPath>\n",
       "</defs>\n",
       "<path clip-path=\"url(#clip880)\" d=\"\n",
       "M0 1600 L2400 1600 L2400 0 L0 0  Z\n",
       "  \" fill=\"#ffffff\" fill-rule=\"evenodd\" fill-opacity=\"1\"/>\n",
       "<defs>\n",
       "  <clipPath id=\"clip881\">\n",
       "    <rect x=\"480\" y=\"0\" width=\"1681\" height=\"1600\"/>\n",
       "  </clipPath>\n",
       "</defs>\n",
       "<path clip-path=\"url(#clip880)\" d=\"\n",
       "M213.607 1486.45 L2352.76 1486.45 L2352.76 47.2441 L213.607 47.2441  Z\n",
       "  \" fill=\"#ffffff\" fill-rule=\"evenodd\" fill-opacity=\"1\"/>\n",
       "<defs>\n",
       "  <clipPath id=\"clip882\">\n",
       "    <rect x=\"213\" y=\"47\" width=\"2140\" height=\"1440\"/>\n",
       "  </clipPath>\n",
       "</defs>\n",
       "<polyline clip-path=\"url(#clip882)\" style=\"stroke:#000000; stroke-linecap:butt; stroke-linejoin:round; stroke-width:2; stroke-opacity:0.1; fill:none\" points=\"\n",
       "  250.953,1486.45 250.953,47.2441 \n",
       "  \"/>\n",
       "<polyline clip-path=\"url(#clip882)\" style=\"stroke:#000000; stroke-linecap:butt; stroke-linejoin:round; stroke-width:2; stroke-opacity:0.1; fill:none\" points=\"\n",
       "  714.876,1486.45 714.876,47.2441 \n",
       "  \"/>\n",
       "<polyline clip-path=\"url(#clip882)\" style=\"stroke:#000000; stroke-linecap:butt; stroke-linejoin:round; stroke-width:2; stroke-opacity:0.1; fill:none\" points=\"\n",
       "  1178.8,1486.45 1178.8,47.2441 \n",
       "  \"/>\n",
       "<polyline clip-path=\"url(#clip882)\" style=\"stroke:#000000; stroke-linecap:butt; stroke-linejoin:round; stroke-width:2; stroke-opacity:0.1; fill:none\" points=\"\n",
       "  1642.72,1486.45 1642.72,47.2441 \n",
       "  \"/>\n",
       "<polyline clip-path=\"url(#clip882)\" style=\"stroke:#000000; stroke-linecap:butt; stroke-linejoin:round; stroke-width:2; stroke-opacity:0.1; fill:none\" points=\"\n",
       "  2106.64,1486.45 2106.64,47.2441 \n",
       "  \"/>\n",
       "<polyline clip-path=\"url(#clip880)\" style=\"stroke:#000000; stroke-linecap:butt; stroke-linejoin:round; stroke-width:4; stroke-opacity:1; fill:none\" points=\"\n",
       "  213.607,1486.45 2352.76,1486.45 \n",
       "  \"/>\n",
       "<polyline clip-path=\"url(#clip880)\" style=\"stroke:#000000; stroke-linecap:butt; stroke-linejoin:round; stroke-width:4; stroke-opacity:1; fill:none\" points=\"\n",
       "  250.953,1486.45 250.953,1467.55 \n",
       "  \"/>\n",
       "<polyline clip-path=\"url(#clip880)\" style=\"stroke:#000000; stroke-linecap:butt; stroke-linejoin:round; stroke-width:4; stroke-opacity:1; fill:none\" points=\"\n",
       "  714.876,1486.45 714.876,1467.55 \n",
       "  \"/>\n",
       "<polyline clip-path=\"url(#clip880)\" style=\"stroke:#000000; stroke-linecap:butt; stroke-linejoin:round; stroke-width:4; stroke-opacity:1; fill:none\" points=\"\n",
       "  1178.8,1486.45 1178.8,1467.55 \n",
       "  \"/>\n",
       "<polyline clip-path=\"url(#clip880)\" style=\"stroke:#000000; stroke-linecap:butt; stroke-linejoin:round; stroke-width:4; stroke-opacity:1; fill:none\" points=\"\n",
       "  1642.72,1486.45 1642.72,1467.55 \n",
       "  \"/>\n",
       "<polyline clip-path=\"url(#clip880)\" style=\"stroke:#000000; stroke-linecap:butt; stroke-linejoin:round; stroke-width:4; stroke-opacity:1; fill:none\" points=\"\n",
       "  2106.64,1486.45 2106.64,1467.55 \n",
       "  \"/>\n",
       "<path clip-path=\"url(#clip880)\" d=\"M250.953 1517.37 Q247.342 1517.37 245.513 1520.93 Q243.708 1524.47 243.708 1531.6 Q243.708 1538.71 245.513 1542.27 Q247.342 1545.82 250.953 1545.82 Q254.588 1545.82 256.393 1542.27 Q258.222 1538.71 258.222 1531.6 Q258.222 1524.47 256.393 1520.93 Q254.588 1517.37 250.953 1517.37 M250.953 1513.66 Q256.763 1513.66 259.819 1518.27 Q262.898 1522.85 262.898 1531.6 Q262.898 1540.33 259.819 1544.94 Q256.763 1549.52 250.953 1549.52 Q245.143 1549.52 242.064 1544.94 Q239.009 1540.33 239.009 1531.6 Q239.009 1522.85 242.064 1518.27 Q245.143 1513.66 250.953 1513.66 Z\" fill=\"#000000\" fill-rule=\"evenodd\" fill-opacity=\"1\" /><path clip-path=\"url(#clip880)\" d=\"M693.649 1544.91 L709.969 1544.91 L709.969 1548.85 L688.024 1548.85 L688.024 1544.91 Q690.686 1542.16 695.27 1537.53 Q699.876 1532.88 701.057 1531.53 Q703.302 1529.01 704.182 1527.27 Q705.085 1525.51 705.085 1523.82 Q705.085 1521.07 703.14 1519.33 Q701.219 1517.6 698.117 1517.6 Q695.918 1517.6 693.464 1518.36 Q691.034 1519.13 688.256 1520.68 L688.256 1515.95 Q691.08 1514.82 693.534 1514.24 Q695.987 1513.66 698.024 1513.66 Q703.395 1513.66 706.589 1516.35 Q709.784 1519.03 709.784 1523.52 Q709.784 1525.65 708.973 1527.57 Q708.186 1529.47 706.08 1532.07 Q705.501 1532.74 702.399 1535.95 Q699.298 1539.15 693.649 1544.91 Z\" fill=\"#000000\" fill-rule=\"evenodd\" fill-opacity=\"1\" /><path clip-path=\"url(#clip880)\" d=\"M729.783 1517.37 Q726.172 1517.37 724.344 1520.93 Q722.538 1524.47 722.538 1531.6 Q722.538 1538.71 724.344 1542.27 Q726.172 1545.82 729.783 1545.82 Q733.418 1545.82 735.223 1542.27 Q737.052 1538.71 737.052 1531.6 Q737.052 1524.47 735.223 1520.93 Q733.418 1517.37 729.783 1517.37 M729.783 1513.66 Q735.594 1513.66 738.649 1518.27 Q741.728 1522.85 741.728 1531.6 Q741.728 1540.33 738.649 1544.94 Q735.594 1549.52 729.783 1549.52 Q723.973 1549.52 720.895 1544.94 Q717.839 1540.33 717.839 1531.6 Q717.839 1522.85 720.895 1518.27 Q723.973 1513.66 729.783 1513.66 Z\" fill=\"#000000\" fill-rule=\"evenodd\" fill-opacity=\"1\" /><path clip-path=\"url(#clip880)\" d=\"M1166.97 1518.36 L1155.16 1536.81 L1166.97 1536.81 L1166.97 1518.36 M1165.74 1514.29 L1171.62 1514.29 L1171.62 1536.81 L1176.55 1536.81 L1176.55 1540.7 L1171.62 1540.7 L1171.62 1548.85 L1166.97 1548.85 L1166.97 1540.7 L1151.37 1540.7 L1151.37 1536.19 L1165.74 1514.29 Z\" fill=\"#000000\" fill-rule=\"evenodd\" fill-opacity=\"1\" /><path clip-path=\"url(#clip880)\" d=\"M1194.29 1517.37 Q1190.67 1517.37 1188.85 1520.93 Q1187.04 1524.47 1187.04 1531.6 Q1187.04 1538.71 1188.85 1542.27 Q1190.67 1545.82 1194.29 1545.82 Q1197.92 1545.82 1199.72 1542.27 Q1201.55 1538.71 1201.55 1531.6 Q1201.55 1524.47 1199.72 1520.93 Q1197.92 1517.37 1194.29 1517.37 M1194.29 1513.66 Q1200.1 1513.66 1203.15 1518.27 Q1206.23 1522.85 1206.23 1531.6 Q1206.23 1540.33 1203.15 1544.94 Q1200.1 1549.52 1194.29 1549.52 Q1188.47 1549.52 1185.4 1544.94 Q1182.34 1540.33 1182.34 1531.6 Q1182.34 1522.85 1185.4 1518.27 Q1188.47 1513.66 1194.29 1513.66 Z\" fill=\"#000000\" fill-rule=\"evenodd\" fill-opacity=\"1\" /><path clip-path=\"url(#clip880)\" d=\"M1628.13 1529.7 Q1624.98 1529.7 1623.13 1531.86 Q1621.3 1534.01 1621.3 1537.76 Q1621.3 1541.49 1623.13 1543.66 Q1624.98 1545.82 1628.13 1545.82 Q1631.28 1545.82 1633.1 1543.66 Q1634.96 1541.49 1634.96 1537.76 Q1634.96 1534.01 1633.1 1531.86 Q1631.28 1529.7 1628.13 1529.7 M1637.41 1515.05 L1637.41 1519.31 Q1635.65 1518.48 1633.84 1518.04 Q1632.06 1517.6 1630.3 1517.6 Q1625.67 1517.6 1623.22 1520.72 Q1620.79 1523.85 1620.44 1530.17 Q1621.81 1528.15 1623.87 1527.09 Q1625.93 1526 1628.4 1526 Q1633.61 1526 1636.62 1529.17 Q1639.65 1532.32 1639.65 1537.76 Q1639.65 1543.08 1636.51 1546.3 Q1633.36 1549.52 1628.13 1549.52 Q1622.13 1549.52 1618.96 1544.94 Q1615.79 1540.33 1615.79 1531.6 Q1615.79 1523.41 1619.68 1518.55 Q1623.57 1513.66 1630.12 1513.66 Q1631.88 1513.66 1633.66 1514.01 Q1635.47 1514.36 1637.41 1515.05 Z\" fill=\"#000000\" fill-rule=\"evenodd\" fill-opacity=\"1\" /><path clip-path=\"url(#clip880)\" d=\"M1657.71 1517.37 Q1654.1 1517.37 1652.27 1520.93 Q1650.46 1524.47 1650.46 1531.6 Q1650.46 1538.71 1652.27 1542.27 Q1654.1 1545.82 1657.71 1545.82 Q1661.34 1545.82 1663.15 1542.27 Q1664.98 1538.71 1664.98 1531.6 Q1664.98 1524.47 1663.15 1520.93 Q1661.34 1517.37 1657.71 1517.37 M1657.71 1513.66 Q1663.52 1513.66 1666.58 1518.27 Q1669.65 1522.85 1669.65 1531.6 Q1669.65 1540.33 1666.58 1544.94 Q1663.52 1549.52 1657.71 1549.52 Q1651.9 1549.52 1648.82 1544.94 Q1645.77 1540.33 1645.77 1531.6 Q1645.77 1522.85 1648.82 1518.27 Q1651.9 1513.66 1657.71 1513.66 Z\" fill=\"#000000\" fill-rule=\"evenodd\" fill-opacity=\"1\" /><path clip-path=\"url(#clip880)\" d=\"M2091.52 1532.44 Q2088.18 1532.44 2086.26 1534.22 Q2084.36 1536 2084.36 1539.13 Q2084.36 1542.25 2086.26 1544.03 Q2088.18 1545.82 2091.52 1545.82 Q2094.85 1545.82 2096.77 1544.03 Q2098.69 1542.23 2098.69 1539.13 Q2098.69 1536 2096.77 1534.22 Q2094.87 1532.44 2091.52 1532.44 M2086.84 1530.45 Q2083.83 1529.7 2082.14 1527.64 Q2080.48 1525.58 2080.48 1522.62 Q2080.48 1518.48 2083.42 1516.07 Q2086.38 1513.66 2091.52 1513.66 Q2096.68 1513.66 2099.62 1516.07 Q2102.56 1518.48 2102.56 1522.62 Q2102.56 1525.58 2100.87 1527.64 Q2099.2 1529.7 2096.22 1530.45 Q2099.6 1531.23 2101.47 1533.52 Q2103.37 1535.82 2103.37 1539.13 Q2103.37 1544.15 2100.29 1546.83 Q2097.24 1549.52 2091.52 1549.52 Q2085.8 1549.52 2082.72 1546.83 Q2079.67 1544.15 2079.67 1539.13 Q2079.67 1535.82 2081.56 1533.52 Q2083.46 1531.23 2086.84 1530.45 M2085.13 1523.06 Q2085.13 1525.75 2086.8 1527.25 Q2088.49 1528.76 2091.52 1528.76 Q2094.53 1528.76 2096.22 1527.25 Q2097.93 1525.75 2097.93 1523.06 Q2097.93 1520.38 2096.22 1518.87 Q2094.53 1517.37 2091.52 1517.37 Q2088.49 1517.37 2086.8 1518.87 Q2085.13 1520.38 2085.13 1523.06 Z\" fill=\"#000000\" fill-rule=\"evenodd\" fill-opacity=\"1\" /><path clip-path=\"url(#clip880)\" d=\"M2121.68 1517.37 Q2118.07 1517.37 2116.24 1520.93 Q2114.43 1524.47 2114.43 1531.6 Q2114.43 1538.71 2116.24 1542.27 Q2118.07 1545.82 2121.68 1545.82 Q2125.31 1545.82 2127.12 1542.27 Q2128.95 1538.71 2128.95 1531.6 Q2128.95 1524.47 2127.12 1520.93 Q2125.31 1517.37 2121.68 1517.37 M2121.68 1513.66 Q2127.49 1513.66 2130.55 1518.27 Q2133.62 1522.85 2133.62 1531.6 Q2133.62 1540.33 2130.55 1544.94 Q2127.49 1549.52 2121.68 1549.52 Q2115.87 1549.52 2112.79 1544.94 Q2109.74 1540.33 2109.74 1531.6 Q2109.74 1522.85 2112.79 1518.27 Q2115.87 1513.66 2121.68 1513.66 Z\" fill=\"#000000\" fill-rule=\"evenodd\" fill-opacity=\"1\" /><polyline clip-path=\"url(#clip882)\" style=\"stroke:#000000; stroke-linecap:butt; stroke-linejoin:round; stroke-width:2; stroke-opacity:0.1; fill:none\" points=\"\n",
       "  213.607,1187.12 2352.76,1187.12 \n",
       "  \"/>\n",
       "<polyline clip-path=\"url(#clip882)\" style=\"stroke:#000000; stroke-linecap:butt; stroke-linejoin:round; stroke-width:2; stroke-opacity:0.1; fill:none\" points=\"\n",
       "  213.607,736.54 2352.76,736.54 \n",
       "  \"/>\n",
       "<polyline clip-path=\"url(#clip882)\" style=\"stroke:#000000; stroke-linecap:butt; stroke-linejoin:round; stroke-width:2; stroke-opacity:0.1; fill:none\" points=\"\n",
       "  213.607,285.964 2352.76,285.964 \n",
       "  \"/>\n",
       "<polyline clip-path=\"url(#clip880)\" style=\"stroke:#000000; stroke-linecap:butt; stroke-linejoin:round; stroke-width:4; stroke-opacity:1; fill:none\" points=\"\n",
       "  213.607,1486.45 213.607,47.2441 \n",
       "  \"/>\n",
       "<polyline clip-path=\"url(#clip880)\" style=\"stroke:#000000; stroke-linecap:butt; stroke-linejoin:round; stroke-width:4; stroke-opacity:1; fill:none\" points=\"\n",
       "  213.607,1187.12 232.505,1187.12 \n",
       "  \"/>\n",
       "<polyline clip-path=\"url(#clip880)\" style=\"stroke:#000000; stroke-linecap:butt; stroke-linejoin:round; stroke-width:4; stroke-opacity:1; fill:none\" points=\"\n",
       "  213.607,736.54 232.505,736.54 \n",
       "  \"/>\n",
       "<polyline clip-path=\"url(#clip880)\" style=\"stroke:#000000; stroke-linecap:butt; stroke-linejoin:round; stroke-width:4; stroke-opacity:1; fill:none\" points=\"\n",
       "  213.607,285.964 232.505,285.964 \n",
       "  \"/>\n",
       "<path clip-path=\"url(#clip880)\" d=\"M51.6634 1206.91 L59.3023 1206.91 L59.3023 1180.54 L50.9921 1182.21 L50.9921 1177.95 L59.256 1176.28 L63.9319 1176.28 L63.9319 1206.91 L71.5707 1206.91 L71.5707 1210.84 L51.6634 1210.84 L51.6634 1206.91 Z\" fill=\"#000000\" fill-rule=\"evenodd\" fill-opacity=\"1\" /><path clip-path=\"url(#clip880)\" d=\"M91.0151 1179.36 Q87.404 1179.36 85.5753 1182.93 Q83.7697 1186.47 83.7697 1193.6 Q83.7697 1200.7 85.5753 1204.27 Q87.404 1207.81 91.0151 1207.81 Q94.6493 1207.81 96.4548 1204.27 Q98.2835 1200.7 98.2835 1193.6 Q98.2835 1186.47 96.4548 1182.93 Q94.6493 1179.36 91.0151 1179.36 M91.0151 1175.66 Q96.8252 1175.66 99.8808 1180.26 Q102.959 1184.85 102.959 1193.6 Q102.959 1202.33 99.8808 1206.93 Q96.8252 1211.51 91.0151 1211.51 Q85.2049 1211.51 82.1262 1206.93 Q79.0707 1202.33 79.0707 1193.6 Q79.0707 1184.85 82.1262 1180.26 Q85.2049 1175.66 91.0151 1175.66 Z\" fill=\"#000000\" fill-rule=\"evenodd\" fill-opacity=\"1\" /><path clip-path=\"url(#clip880)\" d=\"M102.959 1169.76 L127.071 1169.76 L127.071 1172.96 L102.959 1172.96 L102.959 1169.76 Z\" fill=\"#000000\" fill-rule=\"evenodd\" fill-opacity=\"1\" /><path clip-path=\"url(#clip880)\" d=\"M135.929 1180.24 L142.136 1180.24 L142.136 1158.81 L135.384 1160.17 L135.384 1156.71 L142.098 1155.35 L145.898 1155.35 L145.898 1180.24 L152.104 1180.24 L152.104 1183.43 L135.929 1183.43 L135.929 1180.24 Z\" fill=\"#000000\" fill-rule=\"evenodd\" fill-opacity=\"1\" /><path clip-path=\"url(#clip880)\" d=\"M167.903 1157.85 Q164.969 1157.85 163.483 1160.75 Q162.016 1163.63 162.016 1169.42 Q162.016 1175.2 163.483 1178.09 Q164.969 1180.97 167.903 1180.97 Q170.855 1180.97 172.322 1178.09 Q173.808 1175.2 173.808 1169.42 Q173.808 1163.63 172.322 1160.75 Q170.855 1157.85 167.903 1157.85 M167.903 1154.85 Q172.623 1154.85 175.106 1158.59 Q177.607 1162.31 177.607 1169.42 Q177.607 1176.51 175.106 1180.25 Q172.623 1183.98 167.903 1183.98 Q163.182 1183.98 160.68 1180.25 Q158.198 1176.51 158.198 1169.42 Q158.198 1162.31 160.68 1158.59 Q163.182 1154.85 167.903 1154.85 Z\" fill=\"#000000\" fill-rule=\"evenodd\" fill-opacity=\"1\" /><path clip-path=\"url(#clip880)\" d=\"M76.9787 756.332 L84.6175 756.332 L84.6175 729.967 L76.3074 731.633 L76.3074 727.374 L84.5712 725.707 L89.2471 725.707 L89.2471 756.332 L96.886 756.332 L96.886 760.267 L76.9787 760.267 L76.9787 756.332 Z\" fill=\"#000000\" fill-rule=\"evenodd\" fill-opacity=\"1\" /><path clip-path=\"url(#clip880)\" d=\"M116.33 728.786 Q112.719 728.786 110.891 732.351 Q109.085 735.892 109.085 743.022 Q109.085 750.129 110.891 753.693 Q112.719 757.235 116.33 757.235 Q119.965 757.235 121.77 753.693 Q123.599 750.129 123.599 743.022 Q123.599 735.892 121.77 732.351 Q119.965 728.786 116.33 728.786 M116.33 725.082 Q122.14 725.082 125.196 729.689 Q128.275 734.272 128.275 743.022 Q128.275 751.749 125.196 756.355 Q122.14 760.939 116.33 760.939 Q110.52 760.939 107.441 756.355 Q104.386 751.749 104.386 743.022 Q104.386 734.272 107.441 729.689 Q110.52 725.082 116.33 725.082 Z\" fill=\"#000000\" fill-rule=\"evenodd\" fill-opacity=\"1\" /><path clip-path=\"url(#clip880)\" d=\"M128.275 719.184 L152.386 719.184 L152.386 722.381 L128.275 722.381 L128.275 719.184 Z\" fill=\"#000000\" fill-rule=\"evenodd\" fill-opacity=\"1\" /><path clip-path=\"url(#clip880)\" d=\"M160.624 704.777 L175.539 704.777 L175.539 707.974 L164.103 707.974 L164.103 714.858 Q164.931 714.576 165.759 714.444 Q166.586 714.294 167.414 714.294 Q172.116 714.294 174.862 716.87 Q177.607 719.447 177.607 723.848 Q177.607 728.381 174.786 730.901 Q171.965 733.402 166.831 733.402 Q165.063 733.402 163.22 733.101 Q161.395 732.801 159.439 732.199 L159.439 728.381 Q161.132 729.302 162.937 729.754 Q164.743 730.205 166.755 730.205 Q170.009 730.205 171.909 728.494 Q173.808 726.782 173.808 723.848 Q173.808 720.914 171.909 719.202 Q170.009 717.491 166.755 717.491 Q165.232 717.491 163.709 717.83 Q162.204 718.168 160.624 718.883 L160.624 704.777 Z\" fill=\"#000000\" fill-rule=\"evenodd\" fill-opacity=\"1\" /><path clip-path=\"url(#clip880)\" d=\"M106.902 305.756 L114.541 305.756 L114.541 279.39 L106.231 281.057 L106.231 276.798 L114.494 275.131 L119.17 275.131 L119.17 305.756 L126.809 305.756 L126.809 309.691 L106.902 309.691 L106.902 305.756 Z\" fill=\"#000000\" fill-rule=\"evenodd\" fill-opacity=\"1\" /><path clip-path=\"url(#clip880)\" d=\"M146.253 278.21 Q142.642 278.21 140.814 281.775 Q139.008 285.316 139.008 292.446 Q139.008 299.552 140.814 303.117 Q142.642 306.659 146.253 306.659 Q149.888 306.659 151.693 303.117 Q153.522 299.552 153.522 292.446 Q153.522 285.316 151.693 281.775 Q149.888 278.21 146.253 278.21 M146.253 274.506 Q152.064 274.506 155.119 279.113 Q158.198 283.696 158.198 292.446 Q158.198 301.173 155.119 305.779 Q152.064 310.362 146.253 310.362 Q140.443 310.362 137.365 305.779 Q134.309 301.173 134.309 292.446 Q134.309 283.696 137.365 279.113 Q140.443 274.506 146.253 274.506 Z\" fill=\"#000000\" fill-rule=\"evenodd\" fill-opacity=\"1\" /><path clip-path=\"url(#clip880)\" d=\"M167.903 256.702 Q164.969 256.702 163.483 259.599 Q162.016 262.476 162.016 268.269 Q162.016 274.043 163.483 276.939 Q164.969 279.817 167.903 279.817 Q170.855 279.817 172.322 276.939 Q173.808 274.043 173.808 268.269 Q173.808 262.476 172.322 259.599 Q170.855 256.702 167.903 256.702 M167.903 253.693 Q172.623 253.693 175.106 257.436 Q177.607 261.16 177.607 268.269 Q177.607 275.359 175.106 279.102 Q172.623 282.826 167.903 282.826 Q163.182 282.826 160.68 279.102 Q158.198 275.359 158.198 268.269 Q158.198 261.16 160.68 257.436 Q163.182 253.693 167.903 253.693 Z\" fill=\"#000000\" fill-rule=\"evenodd\" fill-opacity=\"1\" /><polyline clip-path=\"url(#clip882)\" style=\"stroke:#009af9; stroke-linecap:butt; stroke-linejoin:round; stroke-width:16; stroke-opacity:1; fill:none\" points=\"\n",
       "  274.149,87.9763 297.346,115.567 320.542,136.076 343.738,155.905 366.934,175.502 390.13,194.952 413.326,214.276 436.522,233.479 459.719,252.564 482.915,271.534 \n",
       "  506.111,290.389 529.307,309.133 552.503,327.768 575.699,346.297 598.895,364.723 622.092,383.049 645.288,401.277 668.484,419.412 691.68,437.455 714.876,455.408 \n",
       "  738.072,473.273 761.268,491.053 784.465,508.747 807.661,526.357 830.857,543.882 854.053,561.322 877.249,578.676 900.445,595.942 923.641,613.117 946.838,630.2 \n",
       "  970.034,647.186 993.23,664.071 1016.43,680.853 1039.62,697.525 1062.82,714.083 1086.01,730.522 1109.21,746.838 1132.41,763.024 1155.6,779.077 1178.8,794.992 \n",
       "  1202,810.766 1225.19,826.394 1248.39,841.875 1271.58,857.207 1294.78,872.39 1317.98,887.423 1341.17,902.308 1364.37,917.048 1387.56,931.645 1410.76,946.103 \n",
       "  1433.96,960.428 1457.15,974.624 1480.35,988.699 1503.55,1002.66 1526.74,1016.51 1549.94,1030.25 1573.13,1043.91 1596.33,1057.47 1619.53,1070.95 1642.72,1084.36 \n",
       "  1665.92,1097.69 1689.11,1110.97 1712.31,1124.18 1735.51,1137.35 1758.7,1150.46 1781.9,1163.54 1805.09,1176.57 1828.29,1189.57 1851.49,1202.54 1874.68,1215.49 \n",
       "  1897.88,1228.4 1921.08,1241.29 1944.27,1254.18 1967.47,1267.01 1990.66,1279.86 2013.86,1292.72 2037.06,1305.5 2060.25,1318.28 2083.45,1331.19 2106.64,1343.93 \n",
       "  2129.84,1356.64 2153.04,1369.41 2176.23,1382.52 2199.43,1394.96 2222.63,1407.46 2245.82,1419.63 2269.02,1433.44 2292.21,1445.72 \n",
       "  \"/>\n",
       "<path clip-path=\"url(#clip880)\" d=\"\n",
       "M1965.12 250.738 L2281.45 250.738 L2281.45 95.2176 L1965.12 95.2176  Z\n",
       "  \" fill=\"#ffffff\" fill-rule=\"evenodd\" fill-opacity=\"1\"/>\n",
       "<polyline clip-path=\"url(#clip880)\" style=\"stroke:#000000; stroke-linecap:butt; stroke-linejoin:round; stroke-width:4; stroke-opacity:1; fill:none\" points=\"\n",
       "  1965.12,250.738 2281.45,250.738 2281.45,95.2176 1965.12,95.2176 1965.12,250.738 \n",
       "  \"/>\n",
       "<polyline clip-path=\"url(#clip880)\" style=\"stroke:#009af9; stroke-linecap:butt; stroke-linejoin:round; stroke-width:6; stroke-opacity:1; fill:none\" points=\"\n",
       "  1988.89,172.978 2131.5,172.978 \n",
       "  \"/>\n",
       "<path clip-path=\"url(#clip880)\" d=\"M2176.03 202.509 Q2173.32 209.453 2170.75 211.571 Q2168.19 213.689 2163.88 213.689 L2158.78 213.689 L2158.78 208.342 L2162.53 208.342 Q2165.16 208.342 2166.62 207.092 Q2168.08 205.842 2169.85 201.189 L2171 198.273 L2155.27 160.009 L2162.04 160.009 L2174.19 190.425 L2186.35 160.009 L2193.12 160.009 L2176.03 202.509 Z\" fill=\"#000000\" fill-rule=\"evenodd\" fill-opacity=\"1\" /><path clip-path=\"url(#clip880)\" d=\"M2204.05 192.995 L2215.51 192.995 L2215.51 153.446 L2203.05 155.946 L2203.05 149.558 L2215.44 147.058 L2222.46 147.058 L2222.46 192.995 L2233.91 192.995 L2233.91 198.898 L2204.05 198.898 L2204.05 192.995 Z\" fill=\"#000000\" fill-rule=\"evenodd\" fill-opacity=\"1\" /></svg>\n"
      ]
     },
     "execution_count": 49,
     "metadata": {},
     "output_type": "execute_result"
    }
   ],
   "source": [
    "c0 = V \\ y\n",
    "l0 = 0.5 * norm(V * c0 - y)^2\n",
    "@show cond(V' * V)\n",
    "plot(lhist .- l0, yscale=:log10)\n",
    "#plot!(i -> l0, color=:black)"
   ]
  },
  {
   "cell_type": "markdown",
   "id": "8c8e60c7",
   "metadata": {
    "slideshow": {
     "slide_type": "slide"
    }
   },
   "source": [
    "# Why use QR vs gradient-based optimization?"
   ]
  },
  {
   "cell_type": "markdown",
   "id": "7a95e2e9",
   "metadata": {
    "slideshow": {
     "slide_type": "slide"
    }
   },
   "source": [
    "# Nonlinear models\n",
    "\n",
    "Instead of the linear model\n",
    "$$ f(x,c) = V(x) c = c_0 + c_1 \\underbrace{x}_{T_1(x)} + c_2 T_2(x) + \\dotsb $$\n",
    "let's consider a rational model with only three parameters\n",
    "$$ f(x,c) = \\frac{1}{c_1 + c_2 x + c_3 x^2} = (c_1 + c_2 x + c_3 x^2)^{-1} . $$\n",
    "We'll use the same loss function\n",
    "$$ L(c; x,y) = \\frac 1 2 \\lVert f(x,c) - y \\rVert^2 . $$\n",
    "\n",
    "We will also need the gradient\n",
    "$$ \\nabla_c L(c; x,y) = \\big( f(x,c) - y \\big)^T \\nabla_c f(x,c) $$\n",
    "where\n",
    "\\begin{align}\n",
    "\\frac{\\partial f(x,c)}{\\partial c_1} &= -(c_1 + c_2 x + c_3 x^2)^{-2} = - f(x,c)^2 \\\\\n",
    "\\frac{\\partial f(x,c)}{\\partial c_2} &= -(c_1 + c_2 x + c_3 x^2)^{-2} x = - f(x,c)^2 x \\\\\n",
    "\\frac{\\partial f(x,c)}{\\partial c_3} &= -(c_1 + c_2 x + c_3 x^2)^{-2} x^2 = - f(x,c)^2 x^2 .\n",
    "\\end{align}"
   ]
  },
  {
   "cell_type": "markdown",
   "id": "247e6403",
   "metadata": {
    "slideshow": {
     "slide_type": "slide"
    }
   },
   "source": [
    "# Fitting a rational function"
   ]
  },
  {
   "cell_type": "code",
   "execution_count": 51,
   "id": "d6c610e7",
   "metadata": {
    "cell_style": "split"
   },
   "outputs": [
    {
     "data": {
      "text/plain": [
       "gradient (generic function with 1 method)"
      ]
     },
     "execution_count": 51,
     "metadata": {},
     "output_type": "execute_result"
    }
   ],
   "source": [
    "f(x, c) = 1 ./ (c[1] .+ c[2].*x + c[3].*x.^2)\n",
    "function gradf(x, c)\n",
    "    f2 = f(x, c).^2\n",
    "    [-f2 -f2.*x -f2.*x.^2]\n",
    "end\n",
    "function loss(c)\n",
    "    r = f(x, c) - y\n",
    "    0.5 * r' * r\n",
    "end\n",
    "function gradient(c)\n",
    "    r = f(x, c) - y\n",
    "    vec(r' * gradf(x, c))\n",
    "end"
   ]
  },
  {
   "cell_type": "code",
   "execution_count": 87,
   "id": "ffd37ce6",
   "metadata": {
    "cell_style": "split"
   },
   "outputs": [
    {
     "name": "stdout",
     "output_type": "stream",
     "text": [
      "c = [0.9360587066416243, 0.49240962714220576, 10.23410523331987]\n"
     ]
    },
    {
     "data": {
      "image/svg+xml": [
       "<?xml version=\"1.0\" encoding=\"utf-8\"?>\n",
       "<svg xmlns=\"http://www.w3.org/2000/svg\" xmlns:xlink=\"http://www.w3.org/1999/xlink\" width=\"600\" height=\"400\" viewBox=\"0 0 2400 1600\">\n",
       "<defs>\n",
       "  <clipPath id=\"clip320\">\n",
       "    <rect x=\"0\" y=\"0\" width=\"2400\" height=\"1600\"/>\n",
       "  </clipPath>\n",
       "</defs>\n",
       "<path clip-path=\"url(#clip320)\" d=\"\n",
       "M0 1600 L2400 1600 L2400 0 L0 0  Z\n",
       "  \" fill=\"#ffffff\" fill-rule=\"evenodd\" fill-opacity=\"1\"/>\n",
       "<defs>\n",
       "  <clipPath id=\"clip321\">\n",
       "    <rect x=\"480\" y=\"0\" width=\"1681\" height=\"1600\"/>\n",
       "  </clipPath>\n",
       "</defs>\n",
       "<path clip-path=\"url(#clip320)\" d=\"\n",
       "M242.571 1486.45 L2352.76 1486.45 L2352.76 47.2441 L242.571 47.2441  Z\n",
       "  \" fill=\"#ffffff\" fill-rule=\"evenodd\" fill-opacity=\"1\"/>\n",
       "<defs>\n",
       "  <clipPath id=\"clip322\">\n",
       "    <rect x=\"242\" y=\"47\" width=\"2111\" height=\"1440\"/>\n",
       "  </clipPath>\n",
       "</defs>\n",
       "<polyline clip-path=\"url(#clip322)\" style=\"stroke:#000000; stroke-linecap:butt; stroke-linejoin:round; stroke-width:2; stroke-opacity:0.1; fill:none\" points=\"\n",
       "  298.312,1486.45 298.312,47.2441 \n",
       "  \"/>\n",
       "<polyline clip-path=\"url(#clip322)\" style=\"stroke:#000000; stroke-linecap:butt; stroke-linejoin:round; stroke-width:2; stroke-opacity:0.1; fill:none\" points=\"\n",
       "  696.46,1486.45 696.46,47.2441 \n",
       "  \"/>\n",
       "<polyline clip-path=\"url(#clip322)\" style=\"stroke:#000000; stroke-linecap:butt; stroke-linejoin:round; stroke-width:2; stroke-opacity:0.1; fill:none\" points=\"\n",
       "  1094.61,1486.45 1094.61,47.2441 \n",
       "  \"/>\n",
       "<polyline clip-path=\"url(#clip322)\" style=\"stroke:#000000; stroke-linecap:butt; stroke-linejoin:round; stroke-width:2; stroke-opacity:0.1; fill:none\" points=\"\n",
       "  1492.76,1486.45 1492.76,47.2441 \n",
       "  \"/>\n",
       "<polyline clip-path=\"url(#clip322)\" style=\"stroke:#000000; stroke-linecap:butt; stroke-linejoin:round; stroke-width:2; stroke-opacity:0.1; fill:none\" points=\"\n",
       "  1890.9,1486.45 1890.9,47.2441 \n",
       "  \"/>\n",
       "<polyline clip-path=\"url(#clip322)\" style=\"stroke:#000000; stroke-linecap:butt; stroke-linejoin:round; stroke-width:2; stroke-opacity:0.1; fill:none\" points=\"\n",
       "  2289.05,1486.45 2289.05,47.2441 \n",
       "  \"/>\n",
       "<polyline clip-path=\"url(#clip320)\" style=\"stroke:#000000; stroke-linecap:butt; stroke-linejoin:round; stroke-width:4; stroke-opacity:1; fill:none\" points=\"\n",
       "  242.571,1486.45 2352.76,1486.45 \n",
       "  \"/>\n",
       "<polyline clip-path=\"url(#clip320)\" style=\"stroke:#000000; stroke-linecap:butt; stroke-linejoin:round; stroke-width:4; stroke-opacity:1; fill:none\" points=\"\n",
       "  298.312,1486.45 298.312,1467.55 \n",
       "  \"/>\n",
       "<polyline clip-path=\"url(#clip320)\" style=\"stroke:#000000; stroke-linecap:butt; stroke-linejoin:round; stroke-width:4; stroke-opacity:1; fill:none\" points=\"\n",
       "  696.46,1486.45 696.46,1467.55 \n",
       "  \"/>\n",
       "<polyline clip-path=\"url(#clip320)\" style=\"stroke:#000000; stroke-linecap:butt; stroke-linejoin:round; stroke-width:4; stroke-opacity:1; fill:none\" points=\"\n",
       "  1094.61,1486.45 1094.61,1467.55 \n",
       "  \"/>\n",
       "<polyline clip-path=\"url(#clip320)\" style=\"stroke:#000000; stroke-linecap:butt; stroke-linejoin:round; stroke-width:4; stroke-opacity:1; fill:none\" points=\"\n",
       "  1492.76,1486.45 1492.76,1467.55 \n",
       "  \"/>\n",
       "<polyline clip-path=\"url(#clip320)\" style=\"stroke:#000000; stroke-linecap:butt; stroke-linejoin:round; stroke-width:4; stroke-opacity:1; fill:none\" points=\"\n",
       "  1890.9,1486.45 1890.9,1467.55 \n",
       "  \"/>\n",
       "<polyline clip-path=\"url(#clip320)\" style=\"stroke:#000000; stroke-linecap:butt; stroke-linejoin:round; stroke-width:4; stroke-opacity:1; fill:none\" points=\"\n",
       "  2289.05,1486.45 2289.05,1467.55 \n",
       "  \"/>\n",
       "<path clip-path=\"url(#clip320)\" d=\"M298.312 1517.37 Q294.701 1517.37 292.872 1520.93 Q291.067 1524.47 291.067 1531.6 Q291.067 1538.71 292.872 1542.27 Q294.701 1545.82 298.312 1545.82 Q301.946 1545.82 303.752 1542.27 Q305.581 1538.71 305.581 1531.6 Q305.581 1524.47 303.752 1520.93 Q301.946 1517.37 298.312 1517.37 M298.312 1513.66 Q304.122 1513.66 307.178 1518.27 Q310.257 1522.85 310.257 1531.6 Q310.257 1540.33 307.178 1544.94 Q304.122 1549.52 298.312 1549.52 Q292.502 1549.52 289.423 1544.94 Q286.368 1540.33 286.368 1531.6 Q286.368 1522.85 289.423 1518.27 Q292.502 1513.66 298.312 1513.66 Z\" fill=\"#000000\" fill-rule=\"evenodd\" fill-opacity=\"1\" /><path clip-path=\"url(#clip320)\" d=\"M656.067 1544.91 L663.706 1544.91 L663.706 1518.55 L655.396 1520.21 L655.396 1515.95 L663.659 1514.29 L668.335 1514.29 L668.335 1544.91 L675.974 1544.91 L675.974 1548.85 L656.067 1548.85 L656.067 1544.91 Z\" fill=\"#000000\" fill-rule=\"evenodd\" fill-opacity=\"1\" /><path clip-path=\"url(#clip320)\" d=\"M695.419 1517.37 Q691.807 1517.37 689.979 1520.93 Q688.173 1524.47 688.173 1531.6 Q688.173 1538.71 689.979 1542.27 Q691.807 1545.82 695.419 1545.82 Q699.053 1545.82 700.858 1542.27 Q702.687 1538.71 702.687 1531.6 Q702.687 1524.47 700.858 1520.93 Q699.053 1517.37 695.419 1517.37 M695.419 1513.66 Q701.229 1513.66 704.284 1518.27 Q707.363 1522.85 707.363 1531.6 Q707.363 1540.33 704.284 1544.94 Q701.229 1549.52 695.419 1549.52 Q689.608 1549.52 686.53 1544.94 Q683.474 1540.33 683.474 1531.6 Q683.474 1522.85 686.53 1518.27 Q689.608 1513.66 695.419 1513.66 Z\" fill=\"#000000\" fill-rule=\"evenodd\" fill-opacity=\"1\" /><path clip-path=\"url(#clip320)\" d=\"M725.58 1517.37 Q721.969 1517.37 720.141 1520.93 Q718.335 1524.47 718.335 1531.6 Q718.335 1538.71 720.141 1542.27 Q721.969 1545.82 725.58 1545.82 Q729.215 1545.82 731.02 1542.27 Q732.849 1538.71 732.849 1531.6 Q732.849 1524.47 731.02 1520.93 Q729.215 1517.37 725.58 1517.37 M725.58 1513.66 Q731.391 1513.66 734.446 1518.27 Q737.525 1522.85 737.525 1531.6 Q737.525 1540.33 734.446 1544.94 Q731.391 1549.52 725.58 1549.52 Q719.77 1549.52 716.692 1544.94 Q713.636 1540.33 713.636 1531.6 Q713.636 1522.85 716.692 1518.27 Q719.77 1513.66 725.58 1513.66 Z\" fill=\"#000000\" fill-rule=\"evenodd\" fill-opacity=\"1\" /><path clip-path=\"url(#clip320)\" d=\"M1058.3 1544.91 L1074.62 1544.91 L1074.62 1548.85 L1052.68 1548.85 L1052.68 1544.91 Q1055.34 1542.16 1059.92 1537.53 Q1064.53 1532.88 1065.71 1531.53 Q1067.95 1529.01 1068.83 1527.27 Q1069.74 1525.51 1069.74 1523.82 Q1069.74 1521.07 1067.79 1519.33 Q1065.87 1517.6 1062.77 1517.6 Q1060.57 1517.6 1058.12 1518.36 Q1055.68 1519.13 1052.91 1520.68 L1052.91 1515.95 Q1055.73 1514.82 1058.18 1514.24 Q1060.64 1513.66 1062.68 1513.66 Q1068.05 1513.66 1071.24 1516.35 Q1074.43 1519.03 1074.43 1523.52 Q1074.43 1525.65 1073.62 1527.57 Q1072.84 1529.47 1070.73 1532.07 Q1070.15 1532.74 1067.05 1535.95 Q1063.95 1539.15 1058.3 1544.91 Z\" fill=\"#000000\" fill-rule=\"evenodd\" fill-opacity=\"1\" /><path clip-path=\"url(#clip320)\" d=\"M1094.43 1517.37 Q1090.82 1517.37 1088.99 1520.93 Q1087.19 1524.47 1087.19 1531.6 Q1087.19 1538.71 1088.99 1542.27 Q1090.82 1545.82 1094.43 1545.82 Q1098.07 1545.82 1099.87 1542.27 Q1101.7 1538.71 1101.7 1531.6 Q1101.7 1524.47 1099.87 1520.93 Q1098.07 1517.37 1094.43 1517.37 M1094.43 1513.66 Q1100.24 1513.66 1103.3 1518.27 Q1106.38 1522.85 1106.38 1531.6 Q1106.38 1540.33 1103.3 1544.94 Q1100.24 1549.52 1094.43 1549.52 Q1088.62 1549.52 1085.55 1544.94 Q1082.49 1540.33 1082.49 1531.6 Q1082.49 1522.85 1085.55 1518.27 Q1088.62 1513.66 1094.43 1513.66 Z\" fill=\"#000000\" fill-rule=\"evenodd\" fill-opacity=\"1\" /><path clip-path=\"url(#clip320)\" d=\"M1124.6 1517.37 Q1120.99 1517.37 1119.16 1520.93 Q1117.35 1524.47 1117.35 1531.6 Q1117.35 1538.71 1119.16 1542.27 Q1120.99 1545.82 1124.6 1545.82 Q1128.23 1545.82 1130.04 1542.27 Q1131.86 1538.71 1131.86 1531.6 Q1131.86 1524.47 1130.04 1520.93 Q1128.23 1517.37 1124.6 1517.37 M1124.6 1513.66 Q1130.41 1513.66 1133.46 1518.27 Q1136.54 1522.85 1136.54 1531.6 Q1136.54 1540.33 1133.46 1544.94 Q1130.41 1549.52 1124.6 1549.52 Q1118.79 1549.52 1115.71 1544.94 Q1112.65 1540.33 1112.65 1531.6 Q1112.65 1522.85 1115.71 1518.27 Q1118.79 1513.66 1124.6 1513.66 Z\" fill=\"#000000\" fill-rule=\"evenodd\" fill-opacity=\"1\" /><path clip-path=\"url(#clip320)\" d=\"M1466.52 1530.21 Q1469.87 1530.93 1471.75 1533.2 Q1473.65 1535.47 1473.65 1538.8 Q1473.65 1543.92 1470.13 1546.72 Q1466.61 1549.52 1460.13 1549.52 Q1457.95 1549.52 1455.64 1549.08 Q1453.35 1548.66 1450.89 1547.81 L1450.89 1543.29 Q1452.84 1544.43 1455.15 1545.01 Q1457.47 1545.58 1459.99 1545.58 Q1464.39 1545.58 1466.68 1543.85 Q1468.99 1542.11 1468.99 1538.8 Q1468.99 1535.75 1466.84 1534.03 Q1464.71 1532.3 1460.89 1532.3 L1456.87 1532.3 L1456.87 1528.45 L1461.08 1528.45 Q1464.53 1528.45 1466.36 1527.09 Q1468.18 1525.7 1468.18 1523.11 Q1468.18 1520.45 1466.29 1519.03 Q1464.41 1517.6 1460.89 1517.6 Q1458.97 1517.6 1456.77 1518.01 Q1454.57 1518.43 1451.93 1519.31 L1451.93 1515.14 Q1454.6 1514.4 1456.91 1514.03 Q1459.25 1513.66 1461.31 1513.66 Q1466.63 1513.66 1469.74 1516.09 Q1472.84 1518.5 1472.84 1522.62 Q1472.84 1525.49 1471.19 1527.48 Q1469.55 1529.45 1466.52 1530.21 Z\" fill=\"#000000\" fill-rule=\"evenodd\" fill-opacity=\"1\" /><path clip-path=\"url(#clip320)\" d=\"M1492.51 1517.37 Q1488.9 1517.37 1487.07 1520.93 Q1485.27 1524.47 1485.27 1531.6 Q1485.27 1538.71 1487.07 1542.27 Q1488.9 1545.82 1492.51 1545.82 Q1496.15 1545.82 1497.95 1542.27 Q1499.78 1538.71 1499.78 1531.6 Q1499.78 1524.47 1497.95 1520.93 Q1496.15 1517.37 1492.51 1517.37 M1492.51 1513.66 Q1498.32 1513.66 1501.38 1518.27 Q1504.46 1522.85 1504.46 1531.6 Q1504.46 1540.33 1501.38 1544.94 Q1498.32 1549.52 1492.51 1549.52 Q1486.7 1549.52 1483.62 1544.94 Q1480.57 1540.33 1480.57 1531.6 Q1480.57 1522.85 1483.62 1518.27 Q1486.7 1513.66 1492.51 1513.66 Z\" fill=\"#000000\" fill-rule=\"evenodd\" fill-opacity=\"1\" /><path clip-path=\"url(#clip320)\" d=\"M1522.68 1517.37 Q1519.06 1517.37 1517.24 1520.93 Q1515.43 1524.47 1515.43 1531.6 Q1515.43 1538.71 1517.24 1542.27 Q1519.06 1545.82 1522.68 1545.82 Q1526.31 1545.82 1528.11 1542.27 Q1529.94 1538.71 1529.94 1531.6 Q1529.94 1524.47 1528.11 1520.93 Q1526.31 1517.37 1522.68 1517.37 M1522.68 1513.66 Q1528.49 1513.66 1531.54 1518.27 Q1534.62 1522.85 1534.62 1531.6 Q1534.62 1540.33 1531.54 1544.94 Q1528.49 1549.52 1522.68 1549.52 Q1516.86 1549.52 1513.79 1544.94 Q1510.73 1540.33 1510.73 1531.6 Q1510.73 1522.85 1513.79 1518.27 Q1516.86 1513.66 1522.68 1513.66 Z\" fill=\"#000000\" fill-rule=\"evenodd\" fill-opacity=\"1\" /><path clip-path=\"url(#clip320)\" d=\"M1863.99 1518.36 L1852.19 1536.81 L1863.99 1536.81 L1863.99 1518.36 M1862.77 1514.29 L1868.65 1514.29 L1868.65 1536.81 L1873.58 1536.81 L1873.58 1540.7 L1868.65 1540.7 L1868.65 1548.85 L1863.99 1548.85 L1863.99 1540.7 L1848.39 1540.7 L1848.39 1536.19 L1862.77 1514.29 Z\" fill=\"#000000\" fill-rule=\"evenodd\" fill-opacity=\"1\" /><path clip-path=\"url(#clip320)\" d=\"M1891.31 1517.37 Q1887.7 1517.37 1885.87 1520.93 Q1884.06 1524.47 1884.06 1531.6 Q1884.06 1538.71 1885.87 1542.27 Q1887.7 1545.82 1891.31 1545.82 Q1894.94 1545.82 1896.75 1542.27 Q1898.58 1538.71 1898.58 1531.6 Q1898.58 1524.47 1896.75 1520.93 Q1894.94 1517.37 1891.31 1517.37 M1891.31 1513.66 Q1897.12 1513.66 1900.17 1518.27 Q1903.25 1522.85 1903.25 1531.6 Q1903.25 1540.33 1900.17 1544.94 Q1897.12 1549.52 1891.31 1549.52 Q1885.5 1549.52 1882.42 1544.94 Q1879.36 1540.33 1879.36 1531.6 Q1879.36 1522.85 1882.42 1518.27 Q1885.5 1513.66 1891.31 1513.66 Z\" fill=\"#000000\" fill-rule=\"evenodd\" fill-opacity=\"1\" /><path clip-path=\"url(#clip320)\" d=\"M1921.47 1517.37 Q1917.86 1517.37 1916.03 1520.93 Q1914.23 1524.47 1914.23 1531.6 Q1914.23 1538.71 1916.03 1542.27 Q1917.86 1545.82 1921.47 1545.82 Q1925.11 1545.82 1926.91 1542.27 Q1928.74 1538.71 1928.74 1531.6 Q1928.74 1524.47 1926.91 1520.93 Q1925.11 1517.37 1921.47 1517.37 M1921.47 1513.66 Q1927.28 1513.66 1930.34 1518.27 Q1933.42 1522.85 1933.42 1531.6 Q1933.42 1540.33 1930.34 1544.94 Q1927.28 1549.52 1921.47 1549.52 Q1915.66 1549.52 1912.58 1544.94 Q1909.53 1540.33 1909.53 1531.6 Q1909.53 1522.85 1912.58 1518.27 Q1915.66 1513.66 1921.47 1513.66 Z\" fill=\"#000000\" fill-rule=\"evenodd\" fill-opacity=\"1\" /><path clip-path=\"url(#clip320)\" d=\"M2248.67 1514.29 L2267.03 1514.29 L2267.03 1518.22 L2252.95 1518.22 L2252.95 1526.7 Q2253.97 1526.35 2254.99 1526.19 Q2256.01 1526 2257.03 1526 Q2262.81 1526 2266.19 1529.17 Q2269.57 1532.34 2269.57 1537.76 Q2269.57 1543.34 2266.1 1546.44 Q2262.63 1549.52 2256.31 1549.52 Q2254.13 1549.52 2251.86 1549.15 Q2249.62 1548.78 2247.21 1548.04 L2247.21 1543.34 Q2249.3 1544.47 2251.52 1545.03 Q2253.74 1545.58 2256.22 1545.58 Q2260.22 1545.58 2262.56 1543.48 Q2264.9 1541.37 2264.9 1537.76 Q2264.9 1534.15 2262.56 1532.04 Q2260.22 1529.94 2256.22 1529.94 Q2254.34 1529.94 2252.47 1530.35 Q2250.61 1530.77 2248.67 1531.65 L2248.67 1514.29 Z\" fill=\"#000000\" fill-rule=\"evenodd\" fill-opacity=\"1\" /><path clip-path=\"url(#clip320)\" d=\"M2288.79 1517.37 Q2285.17 1517.37 2283.35 1520.93 Q2281.54 1524.47 2281.54 1531.6 Q2281.54 1538.71 2283.35 1542.27 Q2285.17 1545.82 2288.79 1545.82 Q2292.42 1545.82 2294.23 1542.27 Q2296.05 1538.71 2296.05 1531.6 Q2296.05 1524.47 2294.23 1520.93 Q2292.42 1517.37 2288.79 1517.37 M2288.79 1513.66 Q2294.6 1513.66 2297.65 1518.27 Q2300.73 1522.85 2300.73 1531.6 Q2300.73 1540.33 2297.65 1544.94 Q2294.6 1549.52 2288.79 1549.52 Q2282.98 1549.52 2279.9 1544.94 Q2276.84 1540.33 2276.84 1531.6 Q2276.84 1522.85 2279.9 1518.27 Q2282.98 1513.66 2288.79 1513.66 Z\" fill=\"#000000\" fill-rule=\"evenodd\" fill-opacity=\"1\" /><path clip-path=\"url(#clip320)\" d=\"M2318.95 1517.37 Q2315.34 1517.37 2313.51 1520.93 Q2311.7 1524.47 2311.7 1531.6 Q2311.7 1538.71 2313.51 1542.27 Q2315.34 1545.82 2318.95 1545.82 Q2322.58 1545.82 2324.39 1542.27 Q2326.22 1538.71 2326.22 1531.6 Q2326.22 1524.47 2324.39 1520.93 Q2322.58 1517.37 2318.95 1517.37 M2318.95 1513.66 Q2324.76 1513.66 2327.81 1518.27 Q2330.89 1522.85 2330.89 1531.6 Q2330.89 1540.33 2327.81 1544.94 Q2324.76 1549.52 2318.95 1549.52 Q2313.14 1549.52 2310.06 1544.94 Q2307 1540.33 2307 1531.6 Q2307 1522.85 2310.06 1518.27 Q2313.14 1513.66 2318.95 1513.66 Z\" fill=\"#000000\" fill-rule=\"evenodd\" fill-opacity=\"1\" /><polyline clip-path=\"url(#clip322)\" style=\"stroke:#000000; stroke-linecap:butt; stroke-linejoin:round; stroke-width:2; stroke-opacity:0.1; fill:none\" points=\"\n",
       "  242.571,1075.4 2352.76,1075.4 \n",
       "  \"/>\n",
       "<polyline clip-path=\"url(#clip322)\" style=\"stroke:#000000; stroke-linecap:butt; stroke-linejoin:round; stroke-width:2; stroke-opacity:0.1; fill:none\" points=\"\n",
       "  242.571,613.368 2352.76,613.368 \n",
       "  \"/>\n",
       "<polyline clip-path=\"url(#clip322)\" style=\"stroke:#000000; stroke-linecap:butt; stroke-linejoin:round; stroke-width:2; stroke-opacity:0.1; fill:none\" points=\"\n",
       "  242.571,151.338 2352.76,151.338 \n",
       "  \"/>\n",
       "<polyline clip-path=\"url(#clip320)\" style=\"stroke:#000000; stroke-linecap:butt; stroke-linejoin:round; stroke-width:4; stroke-opacity:1; fill:none\" points=\"\n",
       "  242.571,1486.45 242.571,47.2441 \n",
       "  \"/>\n",
       "<polyline clip-path=\"url(#clip320)\" style=\"stroke:#000000; stroke-linecap:butt; stroke-linejoin:round; stroke-width:4; stroke-opacity:1; fill:none\" points=\"\n",
       "  242.571,1075.4 261.469,1075.4 \n",
       "  \"/>\n",
       "<polyline clip-path=\"url(#clip320)\" style=\"stroke:#000000; stroke-linecap:butt; stroke-linejoin:round; stroke-width:4; stroke-opacity:1; fill:none\" points=\"\n",
       "  242.571,613.368 261.469,613.368 \n",
       "  \"/>\n",
       "<polyline clip-path=\"url(#clip320)\" style=\"stroke:#000000; stroke-linecap:butt; stroke-linejoin:round; stroke-width:4; stroke-opacity:1; fill:none\" points=\"\n",
       "  242.571,151.338 261.469,151.338 \n",
       "  \"/>\n",
       "<path clip-path=\"url(#clip320)\" d=\"M51.6634 1095.19 L59.3023 1095.19 L59.3023 1068.83 L50.9921 1070.49 L50.9921 1066.23 L59.256 1064.57 L63.9319 1064.57 L63.9319 1095.19 L71.5707 1095.19 L71.5707 1099.13 L51.6634 1099.13 L51.6634 1095.19 Z\" fill=\"#000000\" fill-rule=\"evenodd\" fill-opacity=\"1\" /><path clip-path=\"url(#clip320)\" d=\"M91.0151 1067.64 Q87.404 1067.64 85.5753 1071.21 Q83.7697 1074.75 83.7697 1081.88 Q83.7697 1088.99 85.5753 1092.55 Q87.404 1096.09 91.0151 1096.09 Q94.6493 1096.09 96.4548 1092.55 Q98.2835 1088.99 98.2835 1081.88 Q98.2835 1074.75 96.4548 1071.21 Q94.6493 1067.64 91.0151 1067.64 M91.0151 1063.94 Q96.8252 1063.94 99.8808 1068.55 Q102.959 1073.13 102.959 1081.88 Q102.959 1090.61 99.8808 1095.21 Q96.8252 1099.8 91.0151 1099.8 Q85.2049 1099.8 82.1262 1095.21 Q79.0707 1090.61 79.0707 1081.88 Q79.0707 1073.13 82.1262 1068.55 Q85.2049 1063.94 91.0151 1063.94 Z\" fill=\"#000000\" fill-rule=\"evenodd\" fill-opacity=\"1\" /><path clip-path=\"url(#clip320)\" d=\"M103.505 1068.52 L109.711 1068.52 L109.711 1047.1 L102.959 1048.45 L102.959 1044.99 L109.674 1043.64 L113.473 1043.64 L113.473 1068.52 L119.68 1068.52 L119.68 1071.72 L103.505 1071.72 L103.505 1068.52 Z\" fill=\"#000000\" fill-rule=\"evenodd\" fill-opacity=\"1\" /><path clip-path=\"url(#clip320)\" d=\"M127.353 1066.94 L131.322 1066.94 L131.322 1071.72 L127.353 1071.72 L127.353 1066.94 Z\" fill=\"#000000\" fill-rule=\"evenodd\" fill-opacity=\"1\" /><path clip-path=\"url(#clip320)\" d=\"M151.107 1056.58 Q153.834 1057.16 155.358 1059 Q156.9 1060.84 156.9 1063.55 Q156.9 1067.71 154.041 1069.99 Q151.183 1072.26 145.916 1072.26 Q144.148 1072.26 142.268 1071.9 Q140.406 1071.57 138.412 1070.87 L138.412 1067.2 Q139.992 1068.12 141.873 1068.59 Q143.753 1069.06 145.804 1069.06 Q149.377 1069.06 151.239 1067.65 Q153.12 1066.24 153.12 1063.55 Q153.12 1061.07 151.371 1059.68 Q149.64 1058.27 146.537 1058.27 L143.264 1058.27 L143.264 1055.15 L146.688 1055.15 Q149.49 1055.15 150.976 1054.04 Q152.461 1052.91 152.461 1050.8 Q152.461 1048.64 150.919 1047.49 Q149.396 1046.33 146.537 1046.33 Q144.976 1046.33 143.189 1046.66 Q141.403 1047 139.258 1047.72 L139.258 1044.33 Q141.421 1043.73 143.302 1043.43 Q145.202 1043.13 146.876 1043.13 Q151.201 1043.13 153.722 1045.1 Q156.242 1047.06 156.242 1050.41 Q156.242 1052.74 154.906 1054.36 Q153.571 1055.95 151.107 1056.58 Z\" fill=\"#000000\" fill-rule=\"evenodd\" fill-opacity=\"1\" /><path clip-path=\"url(#clip320)\" d=\"M164.216 1071.13 L164.216 1067.67 Q165.646 1068.35 167.113 1068.71 Q168.58 1069.06 169.99 1069.06 Q173.752 1069.06 175.727 1066.54 Q177.72 1064 178.002 1058.85 Q176.912 1060.47 175.238 1061.33 Q173.564 1062.2 171.533 1062.2 Q167.32 1062.2 164.856 1059.66 Q162.411 1057.1 162.411 1052.68 Q162.411 1048.36 164.969 1045.74 Q167.527 1043.13 171.777 1043.13 Q176.648 1043.13 179.206 1046.87 Q181.783 1050.59 181.783 1057.7 Q181.783 1064.34 178.623 1068.31 Q175.482 1072.26 170.16 1072.26 Q168.73 1072.26 167.263 1071.98 Q165.796 1071.7 164.216 1071.13 M171.777 1059.23 Q174.335 1059.23 175.821 1057.48 Q177.325 1055.73 177.325 1052.68 Q177.325 1049.65 175.821 1047.9 Q174.335 1046.14 171.777 1046.14 Q169.219 1046.14 167.715 1047.9 Q166.229 1049.65 166.229 1052.68 Q166.229 1055.73 167.715 1057.48 Q169.219 1059.23 171.777 1059.23 Z\" fill=\"#000000\" fill-rule=\"evenodd\" fill-opacity=\"1\" /><path clip-path=\"url(#clip320)\" d=\"M197.205 1056.16 Q194.647 1056.16 193.143 1057.91 Q191.657 1059.66 191.657 1062.71 Q191.657 1065.73 193.143 1067.5 Q194.647 1069.25 197.205 1069.25 Q199.763 1069.25 201.249 1067.5 Q202.753 1065.73 202.753 1062.71 Q202.753 1059.66 201.249 1057.91 Q199.763 1056.16 197.205 1056.16 M204.747 1044.26 L204.747 1047.72 Q203.318 1047.04 201.851 1046.68 Q200.402 1046.33 198.973 1046.33 Q195.212 1046.33 193.218 1048.86 Q191.243 1051.4 190.961 1056.54 Q192.071 1054.9 193.745 1054.04 Q195.418 1053.15 197.431 1053.15 Q201.663 1053.15 204.108 1055.73 Q206.571 1058.29 206.571 1062.71 Q206.571 1067.03 204.014 1069.65 Q201.456 1072.26 197.205 1072.26 Q192.334 1072.26 189.757 1068.54 Q187.181 1064.79 187.181 1057.7 Q187.181 1051.05 190.34 1047.1 Q193.5 1043.13 198.823 1043.13 Q200.252 1043.13 201.7 1043.41 Q203.167 1043.69 204.747 1044.26 Z\" fill=\"#000000\" fill-rule=\"evenodd\" fill-opacity=\"1\" /><path clip-path=\"url(#clip320)\" d=\"M52.5286 633.16 L60.1674 633.16 L60.1674 606.795 L51.8573 608.461 L51.8573 604.202 L60.1211 602.536 L64.797 602.536 L64.797 633.16 L72.4359 633.16 L72.4359 637.096 L52.5286 637.096 L52.5286 633.16 Z\" fill=\"#000000\" fill-rule=\"evenodd\" fill-opacity=\"1\" /><path clip-path=\"url(#clip320)\" d=\"M91.8802 605.614 Q88.2691 605.614 86.4404 609.179 Q84.6349 612.721 84.6349 619.85 Q84.6349 626.957 86.4404 630.521 Q88.2691 634.063 91.8802 634.063 Q95.5145 634.063 97.32 630.521 Q99.1487 626.957 99.1487 619.85 Q99.1487 612.721 97.32 609.179 Q95.5145 605.614 91.8802 605.614 M91.8802 601.911 Q97.6904 601.911 100.746 606.517 Q103.825 611.1 103.825 619.85 Q103.825 628.577 100.746 633.184 Q97.6904 637.767 91.8802 637.767 Q86.0701 637.767 82.9914 633.184 Q79.9358 628.577 79.9358 619.85 Q79.9358 611.1 82.9914 606.517 Q86.0701 601.911 91.8802 601.911 Z\" fill=\"#000000\" fill-rule=\"evenodd\" fill-opacity=\"1\" /><path clip-path=\"url(#clip320)\" d=\"M104.37 606.488 L110.577 606.488 L110.577 585.066 L103.825 586.42 L103.825 582.959 L110.539 581.605 L114.338 581.605 L114.338 606.488 L120.545 606.488 L120.545 609.685 L104.37 609.685 L104.37 606.488 Z\" fill=\"#000000\" fill-rule=\"evenodd\" fill-opacity=\"1\" /><path clip-path=\"url(#clip320)\" d=\"M128.218 604.908 L132.187 604.908 L132.187 609.685 L128.218 609.685 L128.218 604.908 Z\" fill=\"#000000\" fill-rule=\"evenodd\" fill-opacity=\"1\" /><path clip-path=\"url(#clip320)\" d=\"M151.972 594.545 Q154.7 595.128 156.223 596.971 Q157.765 598.814 157.765 601.523 Q157.765 605.679 154.906 607.955 Q152.048 610.231 146.782 610.231 Q145.014 610.231 143.133 609.873 Q141.271 609.535 139.277 608.839 L139.277 605.171 Q140.857 606.093 142.738 606.563 Q144.619 607.033 146.669 607.033 Q150.242 607.033 152.104 605.623 Q153.985 604.212 153.985 601.523 Q153.985 599.04 152.236 597.648 Q150.505 596.238 147.402 596.238 L144.13 596.238 L144.13 593.115 L147.553 593.115 Q150.355 593.115 151.841 592.006 Q153.327 590.877 153.327 588.771 Q153.327 586.608 151.784 585.461 Q150.261 584.295 147.402 584.295 Q145.841 584.295 144.054 584.633 Q142.268 584.972 140.124 585.686 L140.124 582.301 Q142.286 581.699 144.167 581.398 Q146.067 581.097 147.741 581.097 Q152.067 581.097 154.587 583.072 Q157.107 585.028 157.107 588.376 Q157.107 590.708 155.772 592.326 Q154.436 593.924 151.972 594.545 Z\" fill=\"#000000\" fill-rule=\"evenodd\" fill-opacity=\"1\" /><path clip-path=\"url(#clip320)\" d=\"M165.082 609.102 L165.082 605.641 Q166.511 606.319 167.978 606.676 Q169.445 607.033 170.855 607.033 Q174.617 607.033 176.592 604.513 Q178.585 601.974 178.868 596.821 Q177.777 598.438 176.103 599.303 Q174.429 600.168 172.398 600.168 Q168.185 600.168 165.721 597.629 Q163.276 595.071 163.276 590.652 Q163.276 586.326 165.834 583.712 Q168.392 581.097 172.642 581.097 Q177.513 581.097 180.071 584.84 Q182.648 588.564 182.648 595.673 Q182.648 602.312 179.488 606.281 Q176.347 610.231 171.025 610.231 Q169.595 610.231 168.128 609.948 Q166.661 609.666 165.082 609.102 M172.642 597.197 Q175.2 597.197 176.686 595.448 Q178.191 593.699 178.191 590.652 Q178.191 587.624 176.686 585.874 Q175.2 584.107 172.642 584.107 Q170.084 584.107 168.58 585.874 Q167.094 587.624 167.094 590.652 Q167.094 593.699 168.58 595.448 Q170.084 597.197 172.642 597.197 Z\" fill=\"#000000\" fill-rule=\"evenodd\" fill-opacity=\"1\" /><path clip-path=\"url(#clip320)\" d=\"M188.516 581.605 L206.571 581.605 L206.571 583.223 L196.378 609.685 L192.409 609.685 L202.001 584.802 L188.516 584.802 L188.516 581.605 Z\" fill=\"#000000\" fill-rule=\"evenodd\" fill-opacity=\"1\" /><path clip-path=\"url(#clip320)\" d=\"M51.8703 171.13 L59.5092 171.13 L59.5092 144.764 L51.199 146.431 L51.199 142.172 L59.4629 140.505 L64.1388 140.505 L64.1388 171.13 L71.7776 171.13 L71.7776 175.065 L51.8703 175.065 L51.8703 171.13 Z\" fill=\"#000000\" fill-rule=\"evenodd\" fill-opacity=\"1\" /><path clip-path=\"url(#clip320)\" d=\"M91.2219 143.584 Q87.6109 143.584 85.7822 147.149 Q83.9766 150.69 83.9766 157.82 Q83.9766 164.926 85.7822 168.491 Q87.6109 172.033 91.2219 172.033 Q94.8562 172.033 96.6617 168.491 Q98.4904 164.926 98.4904 157.82 Q98.4904 150.69 96.6617 147.149 Q94.8562 143.584 91.2219 143.584 M91.2219 139.88 Q97.0321 139.88 100.088 144.487 Q103.166 149.07 103.166 157.82 Q103.166 166.547 100.088 171.153 Q97.0321 175.736 91.2219 175.736 Q85.4118 175.736 82.3331 171.153 Q79.2776 166.547 79.2776 157.82 Q79.2776 149.07 82.3331 144.487 Q85.4118 139.88 91.2219 139.88 Z\" fill=\"#000000\" fill-rule=\"evenodd\" fill-opacity=\"1\" /><path clip-path=\"url(#clip320)\" d=\"M103.712 144.457 L109.918 144.457 L109.918 123.035 L103.166 124.39 L103.166 120.929 L109.881 119.575 L113.68 119.575 L113.68 144.457 L119.886 144.457 L119.886 147.655 L103.712 147.655 L103.712 144.457 Z\" fill=\"#000000\" fill-rule=\"evenodd\" fill-opacity=\"1\" /><path clip-path=\"url(#clip320)\" d=\"M127.56 142.878 L131.528 142.878 L131.528 147.655 L127.56 147.655 L127.56 142.878 Z\" fill=\"#000000\" fill-rule=\"evenodd\" fill-opacity=\"1\" /><path clip-path=\"url(#clip320)\" d=\"M151.314 132.514 Q154.041 133.098 155.565 134.941 Q157.107 136.784 157.107 139.492 Q157.107 143.649 154.248 145.924 Q151.389 148.2 146.123 148.2 Q144.355 148.2 142.475 147.843 Q140.613 147.504 138.619 146.808 L138.619 143.141 Q140.199 144.062 142.08 144.533 Q143.96 145.003 146.01 145.003 Q149.584 145.003 151.446 143.592 Q153.327 142.182 153.327 139.492 Q153.327 137.01 151.578 135.618 Q149.847 134.207 146.744 134.207 L143.471 134.207 L143.471 131.085 L146.894 131.085 Q149.697 131.085 151.183 129.975 Q152.668 128.847 152.668 126.74 Q152.668 124.578 151.126 123.43 Q149.603 122.264 146.744 122.264 Q145.183 122.264 143.396 122.603 Q141.609 122.941 139.465 123.656 L139.465 120.271 Q141.628 119.669 143.509 119.368 Q145.409 119.067 147.082 119.067 Q151.408 119.067 153.928 121.042 Q156.449 122.998 156.449 126.346 Q156.449 128.678 155.113 130.295 Q153.778 131.894 151.314 132.514 Z\" fill=\"#000000\" fill-rule=\"evenodd\" fill-opacity=\"1\" /><path clip-path=\"url(#clip320)\" d=\"M164.423 147.072 L164.423 143.611 Q165.853 144.288 167.32 144.645 Q168.787 145.003 170.197 145.003 Q173.959 145.003 175.934 142.483 Q177.927 139.944 178.209 134.79 Q177.118 136.408 175.445 137.273 Q173.771 138.138 171.739 138.138 Q167.527 138.138 165.063 135.599 Q162.618 133.041 162.618 128.621 Q162.618 124.295 165.176 121.681 Q167.733 119.067 171.984 119.067 Q176.855 119.067 179.413 122.81 Q181.99 126.534 181.99 133.643 Q181.99 140.282 178.83 144.251 Q175.689 148.2 170.366 148.2 Q168.937 148.2 167.47 147.918 Q166.003 147.636 164.423 147.072 M171.984 135.166 Q174.542 135.166 176.028 133.417 Q177.532 131.668 177.532 128.621 Q177.532 125.593 176.028 123.844 Q174.542 122.076 171.984 122.076 Q169.426 122.076 167.921 123.844 Q166.436 125.593 166.436 128.621 Q166.436 131.668 167.921 133.417 Q169.426 135.166 171.984 135.166 Z\" fill=\"#000000\" fill-rule=\"evenodd\" fill-opacity=\"1\" /><path clip-path=\"url(#clip320)\" d=\"M196.942 134.32 Q194.234 134.32 192.673 135.768 Q191.13 137.216 191.13 139.755 Q191.13 142.295 192.673 143.743 Q194.234 145.191 196.942 145.191 Q199.65 145.191 201.211 143.743 Q202.772 142.276 202.772 139.755 Q202.772 137.216 201.211 135.768 Q199.669 134.32 196.942 134.32 M193.143 132.703 Q190.698 132.101 189.325 130.427 Q187.971 128.753 187.971 126.346 Q187.971 122.979 190.359 121.023 Q192.767 119.067 196.942 119.067 Q201.136 119.067 203.525 121.023 Q205.913 122.979 205.913 126.346 Q205.913 128.753 204.54 130.427 Q203.186 132.101 200.76 132.703 Q203.506 133.342 205.029 135.204 Q206.571 137.066 206.571 139.755 Q206.571 143.837 204.07 146.018 Q201.587 148.2 196.942 148.2 Q192.296 148.2 189.795 146.018 Q187.312 143.837 187.312 139.755 Q187.312 137.066 188.855 135.204 Q190.397 133.342 193.143 132.703 M191.751 126.703 Q191.751 128.885 193.105 130.107 Q194.478 131.33 196.942 131.33 Q199.387 131.33 200.76 130.107 Q202.152 128.885 202.152 126.703 Q202.152 124.521 200.76 123.299 Q199.387 122.076 196.942 122.076 Q194.478 122.076 193.105 123.299 Q191.751 124.521 191.751 126.703 Z\" fill=\"#000000\" fill-rule=\"evenodd\" fill-opacity=\"1\" /><polyline clip-path=\"url(#clip322)\" style=\"stroke:#009af9; stroke-linecap:butt; stroke-linejoin:round; stroke-width:16; stroke-opacity:1; fill:none\" points=\"\n",
       "  302.294,87.9763 306.275,344.67 310.257,480.366 314.238,550.506 318.22,588.276 322.201,611.126 326.183,627.392 330.164,640.796 334.145,652.927 338.127,664.443 \n",
       "  342.108,675.611 346.09,686.54 350.071,697.275 354.053,707.836 358.034,718.231 362.016,728.466 365.997,738.543 369.979,748.465 373.96,758.236 377.942,767.857 \n",
       "  381.923,777.33 385.905,786.658 389.886,795.843 393.868,804.888 397.849,813.793 401.831,822.562 405.812,831.197 409.794,839.699 413.775,848.07 417.757,856.313 \n",
       "  421.738,864.429 425.72,872.421 429.701,880.29 433.682,888.039 437.664,895.668 441.645,903.18 445.627,910.576 449.608,917.859 453.59,925.031 457.571,932.092 \n",
       "  461.553,939.044 465.534,945.89 469.516,952.63 473.497,959.268 477.479,965.803 481.46,972.238 485.442,978.574 489.423,984.812 493.405,990.955 497.386,997.004 \n",
       "  501.368,1002.96 505.349,1008.82 509.331,1014.6 513.312,1020.28 517.294,1025.88 521.275,1031.4 525.257,1036.83 529.238,1042.17 533.219,1047.43 537.201,1052.62 \n",
       "  541.182,1057.72 545.164,1062.75 549.145,1067.69 553.127,1072.57 557.108,1077.37 561.09,1082.09 565.071,1086.74 569.053,1091.33 573.034,1095.84 577.016,1100.28 \n",
       "  580.997,1104.66 584.979,1108.97 588.96,1113.21 592.942,1117.39 596.923,1121.5 600.905,1125.56 604.886,1129.55 608.868,1133.48 612.849,1137.35 616.831,1141.16 \n",
       "  620.812,1144.92 624.794,1148.61 628.775,1152.25 632.756,1155.84 636.738,1159.37 640.719,1162.85 644.701,1166.28 648.682,1169.65 652.664,1172.98 656.645,1176.25 \n",
       "  660.627,1179.48 664.608,1182.65 668.59,1185.78 672.571,1188.87 676.553,1191.9 680.534,1194.89 684.516,1197.84 688.497,1200.74 692.479,1203.6 696.46,1206.41 \n",
       "  700.442,1209.19 704.423,1211.92 708.405,1214.61 712.386,1217.26 716.368,1219.88 720.349,1222.45 724.331,1224.99 728.312,1227.49 732.293,1229.95 736.275,1232.37 \n",
       "  740.256,1234.76 744.238,1237.12 748.219,1239.44 752.201,1241.73 756.182,1243.98 760.164,1246.2 764.145,1248.39 768.127,1250.54 772.108,1252.67 776.09,1254.76 \n",
       "  780.071,1256.82 784.053,1258.86 788.034,1260.86 792.016,1262.84 795.997,1264.78 799.979,1266.7 803.96,1268.59 807.942,1270.46 811.923,1272.29 815.905,1274.1 \n",
       "  819.886,1275.89 823.868,1277.65 827.849,1279.39 831.831,1281.1 835.812,1282.78 839.793,1284.44 843.775,1286.08 847.756,1287.7 851.738,1289.29 855.719,1290.86 \n",
       "  859.701,1292.41 863.682,1293.94 867.664,1295.45 871.645,1296.93 875.627,1298.4 879.608,1299.84 883.59,1301.27 887.571,1302.67 891.553,1304.06 895.534,1305.42 \n",
       "  899.516,1306.77 903.497,1308.1 907.479,1309.41 911.46,1310.71 915.442,1311.98 919.423,1313.24 923.405,1314.49 927.386,1315.71 931.368,1316.92 935.349,1318.11 \n",
       "  939.33,1319.29 943.312,1320.45 947.293,1321.6 951.275,1322.73 955.256,1323.85 959.238,1324.95 963.219,1326.04 967.201,1327.11 971.182,1328.17 975.164,1329.22 \n",
       "  979.145,1330.25 983.127,1331.27 987.108,1332.27 991.09,1333.27 995.071,1334.25 999.053,1335.22 1003.03,1336.17 1007.02,1337.12 1011,1338.05 1014.98,1338.97 \n",
       "  1018.96,1339.88 1022.94,1340.78 1026.92,1341.66 1030.9,1342.54 1034.89,1343.4 1038.87,1344.26 1042.85,1345.1 1046.83,1345.94 1050.81,1346.76 1054.79,1347.57 \n",
       "  1058.77,1348.38 1062.76,1349.17 1066.74,1349.96 1070.72,1350.73 1074.7,1351.5 1078.68,1352.26 1082.66,1353.01 1086.65,1353.75 1090.63,1354.48 1094.61,1355.2 \n",
       "  1098.59,1355.92 1102.57,1356.62 1106.55,1357.32 1110.53,1358.01 1114.52,1358.7 1118.5,1359.37 1122.48,1360.04 1126.46,1360.7 1130.44,1361.35 1134.42,1362 \n",
       "  1138.4,1362.64 1142.39,1363.27 1146.37,1363.9 1150.35,1364.51 1154.33,1365.13 1158.31,1365.73 1162.29,1366.33 1166.27,1366.92 1170.26,1367.51 1174.24,1368.09 \n",
       "  1178.22,1368.67 1182.2,1369.23 1186.18,1369.8 1190.16,1370.35 1194.15,1370.9 1198.13,1371.45 1202.11,1371.99 1206.09,1372.53 1210.07,1373.06 1214.05,1373.58 \n",
       "  1218.03,1374.1 1222.02,1374.61 1226,1375.12 1229.98,1375.63 1233.96,1376.13 1237.94,1376.62 1241.92,1377.11 1245.9,1377.6 1249.89,1378.08 1253.87,1378.56 \n",
       "  1257.85,1379.03 1261.83,1379.5 1265.81,1379.96 1269.79,1380.42 1273.77,1380.88 1277.76,1381.33 1281.74,1381.78 1285.72,1382.22 1289.7,1382.66 1293.68,1383.1 \n",
       "  1297.66,1383.53 1301.65,1383.96 1305.63,1384.38 1309.61,1384.81 1313.59,1385.22 1317.57,1385.64 1321.55,1386.05 1325.53,1386.46 1329.52,1386.86 1333.5,1387.26 \n",
       "  1337.48,1387.66 1341.46,1388.06 1345.44,1388.45 1349.42,1388.84 1353.4,1389.22 1357.39,1389.61 1361.37,1389.99 1365.35,1390.37 1369.33,1390.74 1373.31,1391.11 \n",
       "  1377.29,1391.48 1381.27,1391.85 1385.26,1392.21 1389.24,1392.57 1393.22,1392.93 1397.2,1393.29 1401.18,1393.64 1405.16,1393.99 1409.15,1394.34 1413.13,1394.69 \n",
       "  1417.11,1395.03 1421.09,1395.37 1425.07,1395.71 1429.05,1396.05 1433.03,1396.39 1437.02,1396.72 1441,1397.05 1444.98,1397.38 1448.96,1397.7 1452.94,1398.03 \n",
       "  1456.92,1398.35 1460.9,1398.67 1464.89,1398.99 1468.87,1399.31 1472.85,1399.62 1476.83,1399.94 1480.81,1400.25 1484.79,1400.56 1488.77,1400.86 1492.76,1401.17 \n",
       "  1496.74,1401.47 1500.72,1401.78 1504.7,1402.08 1508.68,1402.38 1512.66,1402.67 1516.65,1402.97 1520.63,1403.26 1524.61,1403.56 1528.59,1403.85 1532.57,1404.14 \n",
       "  1536.55,1404.43 1540.53,1404.71 1544.52,1405 1548.5,1405.28 1552.48,1405.56 1556.46,1405.85 1560.44,1406.13 1564.42,1406.4 1568.4,1406.68 1572.39,1406.96 \n",
       "  1576.37,1407.23 1580.35,1407.5 1584.33,1407.78 1588.31,1408.05 1592.29,1408.32 1596.27,1408.59 1600.26,1408.85 1604.24,1409.12 1608.22,1409.38 1612.2,1409.65 \n",
       "  1616.18,1409.91 1620.16,1410.17 1624.15,1410.43 1628.13,1410.69 1632.11,1410.95 1636.09,1411.21 1640.07,1411.46 1644.05,1411.72 1648.03,1411.97 1652.02,1412.23 \n",
       "  1656,1412.48 1659.98,1412.73 1663.96,1412.98 1667.94,1413.23 1671.92,1413.48 1675.9,1413.72 1679.89,1413.97 1683.87,1414.22 1687.85,1414.46 1691.83,1414.71 \n",
       "  1695.81,1414.95 1699.79,1415.19 1703.77,1415.43 1707.76,1415.67 1711.74,1415.91 1715.72,1416.15 1719.7,1416.39 1723.68,1416.63 1727.66,1416.87 1731.65,1417.1 \n",
       "  1735.63,1417.34 1739.61,1417.57 1743.59,1417.81 1747.57,1418.04 1751.55,1418.27 1755.53,1418.5 1759.52,1418.74 1763.5,1418.97 1767.48,1419.2 1771.46,1419.42 \n",
       "  1775.44,1419.65 1779.42,1419.88 1783.4,1420.11 1787.39,1420.33 1791.37,1420.56 1795.35,1420.79 1799.33,1421.01 1803.31,1421.23 1807.29,1421.46 1811.27,1421.68 \n",
       "  1815.26,1421.9 1819.24,1422.13 1823.22,1422.35 1827.2,1422.57 1831.18,1422.79 1835.16,1423.01 1839.14,1423.23 1843.13,1423.44 1847.11,1423.66 1851.09,1423.88 \n",
       "  1855.07,1424.1 1859.05,1424.31 1863.03,1424.53 1867.02,1424.74 1871,1424.96 1874.98,1425.17 1878.96,1425.39 1882.94,1425.6 1886.92,1425.81 1890.9,1426.03 \n",
       "  1894.89,1426.24 1898.87,1426.45 1902.85,1426.66 1906.83,1426.87 1910.81,1427.08 1914.79,1427.29 1918.77,1427.5 1922.76,1427.71 1926.74,1427.92 1930.72,1428.13 \n",
       "  1934.7,1428.33 1938.68,1428.54 1942.66,1428.75 1946.64,1428.95 1950.63,1429.16 1954.61,1429.37 1958.59,1429.57 1962.57,1429.78 1966.55,1429.98 1970.53,1430.19 \n",
       "  1974.52,1430.39 1978.5,1430.59 1982.48,1430.8 1986.46,1431 1990.44,1431.2 1994.42,1431.4 1998.4,1431.6 2002.39,1431.81 2006.37,1432.01 2010.35,1432.21 \n",
       "  2014.33,1432.41 2018.31,1432.61 2022.29,1432.81 2026.27,1433.01 2030.26,1433.2 2034.24,1433.4 2038.22,1433.6 2042.2,1433.8 2046.18,1434 2050.16,1434.19 \n",
       "  2054.14,1434.39 2058.13,1434.59 2062.11,1434.78 2066.09,1434.98 2070.07,1435.18 2074.05,1435.37 2078.03,1435.57 2082.02,1435.76 2086,1435.96 2089.98,1436.15 \n",
       "  2093.96,1436.34 2097.94,1436.54 2101.92,1436.73 2105.9,1436.92 2109.89,1437.12 2113.87,1437.31 2117.85,1437.5 2121.83,1437.69 2125.81,1437.89 2129.79,1438.08 \n",
       "  2133.77,1438.27 2137.76,1438.46 2141.74,1438.65 2145.72,1438.84 2149.7,1439.03 2153.68,1439.22 2157.66,1439.41 2161.64,1439.6 2165.63,1439.79 2169.61,1439.98 \n",
       "  2173.59,1440.17 2177.57,1440.35 2181.55,1440.54 2185.53,1440.73 2189.52,1440.92 2193.5,1441.1 2197.48,1441.29 2201.46,1441.48 2205.44,1441.67 2209.42,1441.85 \n",
       "  2213.4,1442.04 2217.39,1442.22 2221.37,1442.41 2225.35,1442.6 2229.33,1442.78 2233.31,1442.97 2237.29,1443.15 2241.27,1443.34 2245.26,1443.52 2249.24,1443.7 \n",
       "  2253.22,1443.89 2257.2,1444.07 2261.18,1444.26 2265.16,1444.44 2269.14,1444.62 2273.13,1444.8 2277.11,1444.99 2281.09,1445.17 2285.07,1445.35 2289.05,1445.53 \n",
       "  2293.03,1445.72 \n",
       "  \"/>\n",
       "<path clip-path=\"url(#clip320)\" d=\"\n",
       "M1969.31 250.738 L2282.42 250.738 L2282.42 95.2176 L1969.31 95.2176  Z\n",
       "  \" fill=\"#ffffff\" fill-rule=\"evenodd\" fill-opacity=\"1\"/>\n",
       "<polyline clip-path=\"url(#clip320)\" style=\"stroke:#000000; stroke-linecap:butt; stroke-linejoin:round; stroke-width:4; stroke-opacity:1; fill:none\" points=\"\n",
       "  1969.31,250.738 2282.42,250.738 2282.42,95.2176 1969.31,95.2176 1969.31,250.738 \n",
       "  \"/>\n",
       "<polyline clip-path=\"url(#clip320)\" style=\"stroke:#009af9; stroke-linecap:butt; stroke-linejoin:round; stroke-width:6; stroke-opacity:1; fill:none\" points=\"\n",
       "  1992.75,172.978 2133.43,172.978 \n",
       "  \"/>\n",
       "<path clip-path=\"url(#clip320)\" d=\"M2177.64 202.509 Q2174.93 209.453 2172.36 211.571 Q2169.79 213.689 2165.49 213.689 L2160.38 213.689 L2160.38 208.342 L2164.13 208.342 Q2166.77 208.342 2168.23 207.092 Q2169.69 205.842 2171.46 201.189 L2172.61 198.273 L2156.88 160.009 L2163.65 160.009 L2175.8 190.425 L2187.95 160.009 L2194.73 160.009 L2177.64 202.509 Z\" fill=\"#000000\" fill-rule=\"evenodd\" fill-opacity=\"1\" /><path clip-path=\"url(#clip320)\" d=\"M2205.66 192.995 L2217.12 192.995 L2217.12 153.446 L2204.66 155.946 L2204.66 149.558 L2217.05 147.058 L2224.07 147.058 L2224.07 192.995 L2235.52 192.995 L2235.52 198.898 L2205.66 198.898 L2205.66 192.995 Z\" fill=\"#000000\" fill-rule=\"evenodd\" fill-opacity=\"1\" /></svg>\n"
      ]
     },
     "execution_count": 87,
     "metadata": {},
     "output_type": "execute_result"
    }
   ],
   "source": [
    "c, _, lhist = grad_descent(loss, gradient, [1., 0, 10.],\n",
    "    gamma=1e-2)\n",
    "@show c\n",
    "plot(lhist, yscale=:log10)"
   ]
  },
  {
   "cell_type": "markdown",
   "id": "7f4be7cd",
   "metadata": {
    "slideshow": {
     "slide_type": "slide"
    }
   },
   "source": [
    "# Compare fits on noisy data"
   ]
  },
  {
   "cell_type": "code",
   "execution_count": 88,
   "id": "11ab1f9e",
   "metadata": {
    "slideshow": {
     "slide_type": ""
    }
   },
   "outputs": [
    {
     "data": {
      "image/svg+xml": [
       "<?xml version=\"1.0\" encoding=\"utf-8\"?>\n",
       "<svg xmlns=\"http://www.w3.org/2000/svg\" xmlns:xlink=\"http://www.w3.org/1999/xlink\" width=\"600\" height=\"400\" viewBox=\"0 0 2400 1600\">\n",
       "<defs>\n",
       "  <clipPath id=\"clip360\">\n",
       "    <rect x=\"0\" y=\"0\" width=\"2400\" height=\"1600\"/>\n",
       "  </clipPath>\n",
       "</defs>\n",
       "<path clip-path=\"url(#clip360)\" d=\"\n",
       "M0 1600 L2400 1600 L2400 0 L0 0  Z\n",
       "  \" fill=\"#ffffff\" fill-rule=\"evenodd\" fill-opacity=\"1\"/>\n",
       "<defs>\n",
       "  <clipPath id=\"clip361\">\n",
       "    <rect x=\"480\" y=\"0\" width=\"1681\" height=\"1600\"/>\n",
       "  </clipPath>\n",
       "</defs>\n",
       "<path clip-path=\"url(#clip360)\" d=\"\n",
       "M147.478 1486.45 L2352.76 1486.45 L2352.76 47.2441 L147.478 47.2441  Z\n",
       "  \" fill=\"#ffffff\" fill-rule=\"evenodd\" fill-opacity=\"1\"/>\n",
       "<defs>\n",
       "  <clipPath id=\"clip362\">\n",
       "    <rect x=\"147\" y=\"47\" width=\"2206\" height=\"1440\"/>\n",
       "  </clipPath>\n",
       "</defs>\n",
       "<polyline clip-path=\"url(#clip362)\" style=\"stroke:#000000; stroke-linecap:butt; stroke-linejoin:round; stroke-width:2; stroke-opacity:0.1; fill:none\" points=\"\n",
       "  209.891,1486.45 209.891,47.2441 \n",
       "  \"/>\n",
       "<polyline clip-path=\"url(#clip362)\" style=\"stroke:#000000; stroke-linecap:butt; stroke-linejoin:round; stroke-width:2; stroke-opacity:0.1; fill:none\" points=\"\n",
       "  730.004,1486.45 730.004,47.2441 \n",
       "  \"/>\n",
       "<polyline clip-path=\"url(#clip362)\" style=\"stroke:#000000; stroke-linecap:butt; stroke-linejoin:round; stroke-width:2; stroke-opacity:0.1; fill:none\" points=\"\n",
       "  1250.12,1486.45 1250.12,47.2441 \n",
       "  \"/>\n",
       "<polyline clip-path=\"url(#clip362)\" style=\"stroke:#000000; stroke-linecap:butt; stroke-linejoin:round; stroke-width:2; stroke-opacity:0.1; fill:none\" points=\"\n",
       "  1770.23,1486.45 1770.23,47.2441 \n",
       "  \"/>\n",
       "<polyline clip-path=\"url(#clip362)\" style=\"stroke:#000000; stroke-linecap:butt; stroke-linejoin:round; stroke-width:2; stroke-opacity:0.1; fill:none\" points=\"\n",
       "  2290.34,1486.45 2290.34,47.2441 \n",
       "  \"/>\n",
       "<polyline clip-path=\"url(#clip360)\" style=\"stroke:#000000; stroke-linecap:butt; stroke-linejoin:round; stroke-width:4; stroke-opacity:1; fill:none\" points=\"\n",
       "  147.478,1486.45 2352.76,1486.45 \n",
       "  \"/>\n",
       "<polyline clip-path=\"url(#clip360)\" style=\"stroke:#000000; stroke-linecap:butt; stroke-linejoin:round; stroke-width:4; stroke-opacity:1; fill:none\" points=\"\n",
       "  209.891,1486.45 209.891,1467.55 \n",
       "  \"/>\n",
       "<polyline clip-path=\"url(#clip360)\" style=\"stroke:#000000; stroke-linecap:butt; stroke-linejoin:round; stroke-width:4; stroke-opacity:1; fill:none\" points=\"\n",
       "  730.004,1486.45 730.004,1467.55 \n",
       "  \"/>\n",
       "<polyline clip-path=\"url(#clip360)\" style=\"stroke:#000000; stroke-linecap:butt; stroke-linejoin:round; stroke-width:4; stroke-opacity:1; fill:none\" points=\"\n",
       "  1250.12,1486.45 1250.12,1467.55 \n",
       "  \"/>\n",
       "<polyline clip-path=\"url(#clip360)\" style=\"stroke:#000000; stroke-linecap:butt; stroke-linejoin:round; stroke-width:4; stroke-opacity:1; fill:none\" points=\"\n",
       "  1770.23,1486.45 1770.23,1467.55 \n",
       "  \"/>\n",
       "<polyline clip-path=\"url(#clip360)\" style=\"stroke:#000000; stroke-linecap:butt; stroke-linejoin:round; stroke-width:4; stroke-opacity:1; fill:none\" points=\"\n",
       "  2290.34,1486.45 2290.34,1467.55 \n",
       "  \"/>\n",
       "<path clip-path=\"url(#clip360)\" d=\"M156.42 1532.02 L186.095 1532.02 L186.095 1535.95 L156.42 1535.95 L156.42 1532.02 Z\" fill=\"#000000\" fill-rule=\"evenodd\" fill-opacity=\"1\" /><path clip-path=\"url(#clip360)\" d=\"M196.998 1544.91 L204.637 1544.91 L204.637 1518.55 L196.327 1520.21 L196.327 1515.95 L204.591 1514.29 L209.266 1514.29 L209.266 1544.91 L216.905 1544.91 L216.905 1548.85 L196.998 1548.85 L196.998 1544.91 Z\" fill=\"#000000\" fill-rule=\"evenodd\" fill-opacity=\"1\" /><path clip-path=\"url(#clip360)\" d=\"M226.35 1542.97 L231.234 1542.97 L231.234 1548.85 L226.35 1548.85 L226.35 1542.97 Z\" fill=\"#000000\" fill-rule=\"evenodd\" fill-opacity=\"1\" /><path clip-path=\"url(#clip360)\" d=\"M251.419 1517.37 Q247.808 1517.37 245.979 1520.93 Q244.174 1524.47 244.174 1531.6 Q244.174 1538.71 245.979 1542.27 Q247.808 1545.82 251.419 1545.82 Q255.053 1545.82 256.859 1542.27 Q258.687 1538.71 258.687 1531.6 Q258.687 1524.47 256.859 1520.93 Q255.053 1517.37 251.419 1517.37 M251.419 1513.66 Q257.229 1513.66 260.285 1518.27 Q263.363 1522.85 263.363 1531.6 Q263.363 1540.33 260.285 1544.94 Q257.229 1549.52 251.419 1549.52 Q245.609 1549.52 242.53 1544.94 Q239.475 1540.33 239.475 1531.6 Q239.475 1522.85 242.53 1518.27 Q245.609 1513.66 251.419 1513.66 Z\" fill=\"#000000\" fill-rule=\"evenodd\" fill-opacity=\"1\" /><path clip-path=\"url(#clip360)\" d=\"M677.03 1532.02 L706.706 1532.02 L706.706 1535.95 L677.03 1535.95 L677.03 1532.02 Z\" fill=\"#000000\" fill-rule=\"evenodd\" fill-opacity=\"1\" /><path clip-path=\"url(#clip360)\" d=\"M726.798 1517.37 Q723.187 1517.37 721.358 1520.93 Q719.553 1524.47 719.553 1531.6 Q719.553 1538.71 721.358 1542.27 Q723.187 1545.82 726.798 1545.82 Q730.432 1545.82 732.238 1542.27 Q734.067 1538.71 734.067 1531.6 Q734.067 1524.47 732.238 1520.93 Q730.432 1517.37 726.798 1517.37 M726.798 1513.66 Q732.608 1513.66 735.664 1518.27 Q738.743 1522.85 738.743 1531.6 Q738.743 1540.33 735.664 1544.94 Q732.608 1549.52 726.798 1549.52 Q720.988 1549.52 717.909 1544.94 Q714.854 1540.33 714.854 1531.6 Q714.854 1522.85 717.909 1518.27 Q720.988 1513.66 726.798 1513.66 Z\" fill=\"#000000\" fill-rule=\"evenodd\" fill-opacity=\"1\" /><path clip-path=\"url(#clip360)\" d=\"M746.96 1542.97 L751.844 1542.97 L751.844 1548.85 L746.96 1548.85 L746.96 1542.97 Z\" fill=\"#000000\" fill-rule=\"evenodd\" fill-opacity=\"1\" /><path clip-path=\"url(#clip360)\" d=\"M762.076 1514.29 L780.432 1514.29 L780.432 1518.22 L766.358 1518.22 L766.358 1526.7 Q767.377 1526.35 768.395 1526.19 Q769.414 1526 770.432 1526 Q776.219 1526 779.599 1529.17 Q782.978 1532.34 782.978 1537.76 Q782.978 1543.34 779.506 1546.44 Q776.034 1549.52 769.715 1549.52 Q767.539 1549.52 765.27 1549.15 Q763.025 1548.78 760.617 1548.04 L760.617 1543.34 Q762.701 1544.47 764.923 1545.03 Q767.145 1545.58 769.622 1545.58 Q773.627 1545.58 775.965 1543.48 Q778.303 1541.37 778.303 1537.76 Q778.303 1534.15 775.965 1532.04 Q773.627 1529.94 769.622 1529.94 Q767.747 1529.94 765.872 1530.35 Q764.02 1530.77 762.076 1531.65 L762.076 1514.29 Z\" fill=\"#000000\" fill-rule=\"evenodd\" fill-opacity=\"1\" /><path clip-path=\"url(#clip360)\" d=\"M1227.5 1517.37 Q1223.89 1517.37 1222.06 1520.93 Q1220.26 1524.47 1220.26 1531.6 Q1220.26 1538.71 1222.06 1542.27 Q1223.89 1545.82 1227.5 1545.82 Q1231.14 1545.82 1232.94 1542.27 Q1234.77 1538.71 1234.77 1531.6 Q1234.77 1524.47 1232.94 1520.93 Q1231.14 1517.37 1227.5 1517.37 M1227.5 1513.66 Q1233.31 1513.66 1236.37 1518.27 Q1239.45 1522.85 1239.45 1531.6 Q1239.45 1540.33 1236.37 1544.94 Q1233.31 1549.52 1227.5 1549.52 Q1221.69 1549.52 1218.61 1544.94 Q1215.56 1540.33 1215.56 1531.6 Q1215.56 1522.85 1218.61 1518.27 Q1221.69 1513.66 1227.5 1513.66 Z\" fill=\"#000000\" fill-rule=\"evenodd\" fill-opacity=\"1\" /><path clip-path=\"url(#clip360)\" d=\"M1247.66 1542.97 L1252.55 1542.97 L1252.55 1548.85 L1247.66 1548.85 L1247.66 1542.97 Z\" fill=\"#000000\" fill-rule=\"evenodd\" fill-opacity=\"1\" /><path clip-path=\"url(#clip360)\" d=\"M1272.73 1517.37 Q1269.12 1517.37 1267.29 1520.93 Q1265.49 1524.47 1265.49 1531.6 Q1265.49 1538.71 1267.29 1542.27 Q1269.12 1545.82 1272.73 1545.82 Q1276.37 1545.82 1278.17 1542.27 Q1280 1538.71 1280 1531.6 Q1280 1524.47 1278.17 1520.93 Q1276.37 1517.37 1272.73 1517.37 M1272.73 1513.66 Q1278.54 1513.66 1281.6 1518.27 Q1284.68 1522.85 1284.68 1531.6 Q1284.68 1540.33 1281.6 1544.94 Q1278.54 1549.52 1272.73 1549.52 Q1266.92 1549.52 1263.84 1544.94 Q1260.79 1540.33 1260.79 1531.6 Q1260.79 1522.85 1263.84 1518.27 Q1266.92 1513.66 1272.73 1513.66 Z\" fill=\"#000000\" fill-rule=\"evenodd\" fill-opacity=\"1\" /><path clip-path=\"url(#clip360)\" d=\"M1748.11 1517.37 Q1744.5 1517.37 1742.67 1520.93 Q1740.87 1524.47 1740.87 1531.6 Q1740.87 1538.71 1742.67 1542.27 Q1744.5 1545.82 1748.11 1545.82 Q1751.75 1545.82 1753.55 1542.27 Q1755.38 1538.71 1755.38 1531.6 Q1755.38 1524.47 1753.55 1520.93 Q1751.75 1517.37 1748.11 1517.37 M1748.11 1513.66 Q1753.92 1513.66 1756.98 1518.27 Q1760.06 1522.85 1760.06 1531.6 Q1760.06 1540.33 1756.98 1544.94 Q1753.92 1549.52 1748.11 1549.52 Q1742.3 1549.52 1739.22 1544.94 Q1736.17 1540.33 1736.17 1531.6 Q1736.17 1522.85 1739.22 1518.27 Q1742.3 1513.66 1748.11 1513.66 Z\" fill=\"#000000\" fill-rule=\"evenodd\" fill-opacity=\"1\" /><path clip-path=\"url(#clip360)\" d=\"M1768.27 1542.97 L1773.16 1542.97 L1773.16 1548.85 L1768.27 1548.85 L1768.27 1542.97 Z\" fill=\"#000000\" fill-rule=\"evenodd\" fill-opacity=\"1\" /><path clip-path=\"url(#clip360)\" d=\"M1783.39 1514.29 L1801.75 1514.29 L1801.75 1518.22 L1787.67 1518.22 L1787.67 1526.7 Q1788.69 1526.35 1789.71 1526.19 Q1790.73 1526 1791.75 1526 Q1797.53 1526 1800.91 1529.17 Q1804.29 1532.34 1804.29 1537.76 Q1804.29 1543.34 1800.82 1546.44 Q1797.35 1549.52 1791.03 1549.52 Q1788.85 1549.52 1786.58 1549.15 Q1784.34 1548.78 1781.93 1548.04 L1781.93 1543.34 Q1784.01 1544.47 1786.24 1545.03 Q1788.46 1545.58 1790.94 1545.58 Q1794.94 1545.58 1797.28 1543.48 Q1799.62 1541.37 1799.62 1537.76 Q1799.62 1534.15 1797.28 1532.04 Q1794.94 1529.94 1790.94 1529.94 Q1789.06 1529.94 1787.19 1530.35 Q1785.33 1530.77 1783.39 1531.65 L1783.39 1514.29 Z\" fill=\"#000000\" fill-rule=\"evenodd\" fill-opacity=\"1\" /><path clip-path=\"url(#clip360)\" d=\"M2257.5 1544.91 L2265.13 1544.91 L2265.13 1518.55 L2256.82 1520.21 L2256.82 1515.95 L2265.09 1514.29 L2269.76 1514.29 L2269.76 1544.91 L2277.4 1544.91 L2277.4 1548.85 L2257.5 1548.85 L2257.5 1544.91 Z\" fill=\"#000000\" fill-rule=\"evenodd\" fill-opacity=\"1\" /><path clip-path=\"url(#clip360)\" d=\"M2286.85 1542.97 L2291.73 1542.97 L2291.73 1548.85 L2286.85 1548.85 L2286.85 1542.97 Z\" fill=\"#000000\" fill-rule=\"evenodd\" fill-opacity=\"1\" /><path clip-path=\"url(#clip360)\" d=\"M2311.92 1517.37 Q2308.31 1517.37 2306.48 1520.93 Q2304.67 1524.47 2304.67 1531.6 Q2304.67 1538.71 2306.48 1542.27 Q2308.31 1545.82 2311.92 1545.82 Q2315.55 1545.82 2317.36 1542.27 Q2319.18 1538.71 2319.18 1531.6 Q2319.18 1524.47 2317.36 1520.93 Q2315.55 1517.37 2311.92 1517.37 M2311.92 1513.66 Q2317.73 1513.66 2320.78 1518.27 Q2323.86 1522.85 2323.86 1531.6 Q2323.86 1540.33 2320.78 1544.94 Q2317.73 1549.52 2311.92 1549.52 Q2306.11 1549.52 2303.03 1544.94 Q2299.97 1540.33 2299.97 1531.6 Q2299.97 1522.85 2303.03 1518.27 Q2306.11 1513.66 2311.92 1513.66 Z\" fill=\"#000000\" fill-rule=\"evenodd\" fill-opacity=\"1\" /><polyline clip-path=\"url(#clip362)\" style=\"stroke:#000000; stroke-linecap:butt; stroke-linejoin:round; stroke-width:2; stroke-opacity:0.1; fill:none\" points=\"\n",
       "  147.478,1342.64 2352.76,1342.64 \n",
       "  \"/>\n",
       "<polyline clip-path=\"url(#clip362)\" style=\"stroke:#000000; stroke-linecap:butt; stroke-linejoin:round; stroke-width:2; stroke-opacity:0.1; fill:none\" points=\"\n",
       "  147.478,936.57 2352.76,936.57 \n",
       "  \"/>\n",
       "<polyline clip-path=\"url(#clip362)\" style=\"stroke:#000000; stroke-linecap:butt; stroke-linejoin:round; stroke-width:2; stroke-opacity:0.1; fill:none\" points=\"\n",
       "  147.478,530.499 2352.76,530.499 \n",
       "  \"/>\n",
       "<polyline clip-path=\"url(#clip362)\" style=\"stroke:#000000; stroke-linecap:butt; stroke-linejoin:round; stroke-width:2; stroke-opacity:0.1; fill:none\" points=\"\n",
       "  147.478,124.428 2352.76,124.428 \n",
       "  \"/>\n",
       "<polyline clip-path=\"url(#clip360)\" style=\"stroke:#000000; stroke-linecap:butt; stroke-linejoin:round; stroke-width:4; stroke-opacity:1; fill:none\" points=\"\n",
       "  147.478,1486.45 147.478,47.2441 \n",
       "  \"/>\n",
       "<polyline clip-path=\"url(#clip360)\" style=\"stroke:#000000; stroke-linecap:butt; stroke-linejoin:round; stroke-width:4; stroke-opacity:1; fill:none\" points=\"\n",
       "  147.478,1342.64 166.376,1342.64 \n",
       "  \"/>\n",
       "<polyline clip-path=\"url(#clip360)\" style=\"stroke:#000000; stroke-linecap:butt; stroke-linejoin:round; stroke-width:4; stroke-opacity:1; fill:none\" points=\"\n",
       "  147.478,936.57 166.376,936.57 \n",
       "  \"/>\n",
       "<polyline clip-path=\"url(#clip360)\" style=\"stroke:#000000; stroke-linecap:butt; stroke-linejoin:round; stroke-width:4; stroke-opacity:1; fill:none\" points=\"\n",
       "  147.478,530.499 166.376,530.499 \n",
       "  \"/>\n",
       "<polyline clip-path=\"url(#clip360)\" style=\"stroke:#000000; stroke-linecap:butt; stroke-linejoin:round; stroke-width:4; stroke-opacity:1; fill:none\" points=\"\n",
       "  147.478,124.428 166.376,124.428 \n",
       "  \"/>\n",
       "<path clip-path=\"url(#clip360)\" d=\"M50.9921 1343.09 L80.6679 1343.09 L80.6679 1347.03 L50.9921 1347.03 L50.9921 1343.09 Z\" fill=\"#000000\" fill-rule=\"evenodd\" fill-opacity=\"1\" /><path clip-path=\"url(#clip360)\" d=\"M91.5706 1355.99 L99.2095 1355.99 L99.2095 1329.62 L90.8993 1331.29 L90.8993 1327.03 L99.1632 1325.36 L103.839 1325.36 L103.839 1355.99 L111.478 1355.99 L111.478 1359.92 L91.5706 1359.92 L91.5706 1355.99 Z\" fill=\"#000000\" fill-rule=\"evenodd\" fill-opacity=\"1\" /><path clip-path=\"url(#clip360)\" d=\"M99.5335 922.369 Q95.9224 922.369 94.0937 925.933 Q92.2882 929.475 92.2882 936.605 Q92.2882 943.711 94.0937 947.276 Q95.9224 950.818 99.5335 950.818 Q103.168 950.818 104.973 947.276 Q106.802 943.711 106.802 936.605 Q106.802 929.475 104.973 925.933 Q103.168 922.369 99.5335 922.369 M99.5335 918.665 Q105.344 918.665 108.399 923.271 Q111.478 927.855 111.478 936.605 Q111.478 945.331 108.399 949.938 Q105.344 954.521 99.5335 954.521 Q93.7234 954.521 90.6447 949.938 Q87.5892 945.331 87.5892 936.605 Q87.5892 927.855 90.6447 923.271 Q93.7234 918.665 99.5335 918.665 Z\" fill=\"#000000\" fill-rule=\"evenodd\" fill-opacity=\"1\" /><path clip-path=\"url(#clip360)\" d=\"M91.5706 543.844 L99.2095 543.844 L99.2095 517.478 L90.8993 519.145 L90.8993 514.886 L99.1632 513.219 L103.839 513.219 L103.839 543.844 L111.478 543.844 L111.478 547.779 L91.5706 547.779 L91.5706 543.844 Z\" fill=\"#000000\" fill-rule=\"evenodd\" fill-opacity=\"1\" /><path clip-path=\"url(#clip360)\" d=\"M95.1586 137.773 L111.478 137.773 L111.478 141.708 L89.5336 141.708 L89.5336 137.773 Q92.1956 135.018 96.7789 130.388 Q101.385 125.736 102.566 124.393 Q104.811 121.87 105.691 120.134 Q106.594 118.375 106.594 116.685 Q106.594 113.93 104.649 112.194 Q102.728 110.458 99.6261 110.458 Q97.4271 110.458 94.9734 111.222 Q92.5428 111.986 89.7651 113.537 L89.7651 108.815 Q92.5891 107.68 95.0428 107.102 Q97.4965 106.523 99.5335 106.523 Q104.904 106.523 108.098 109.208 Q111.293 111.893 111.293 116.384 Q111.293 118.514 110.483 120.435 Q109.696 122.333 107.589 124.926 Q107.01 125.597 103.909 128.814 Q100.807 132.009 95.1586 137.773 Z\" fill=\"#000000\" fill-rule=\"evenodd\" fill-opacity=\"1\" /><circle clip-path=\"url(#clip362)\" cx=\"209.891\" cy=\"1215.42\" r=\"14\" fill=\"#009af9\" fill-rule=\"evenodd\" fill-opacity=\"1\" stroke=\"#000000\" stroke-opacity=\"1\" stroke-width=\"3.2\"/>\n",
       "<circle clip-path=\"url(#clip362)\" cx=\"220.346\" cy=\"781.467\" r=\"14\" fill=\"#009af9\" fill-rule=\"evenodd\" fill-opacity=\"1\" stroke=\"#000000\" stroke-opacity=\"1\" stroke-width=\"3.2\"/>\n",
       "<circle clip-path=\"url(#clip362)\" cx=\"230.8\" cy=\"963.211\" r=\"14\" fill=\"#009af9\" fill-rule=\"evenodd\" fill-opacity=\"1\" stroke=\"#000000\" stroke-opacity=\"1\" stroke-width=\"3.2\"/>\n",
       "<circle clip-path=\"url(#clip362)\" cx=\"241.255\" cy=\"1445.72\" r=\"14\" fill=\"#009af9\" fill-rule=\"evenodd\" fill-opacity=\"1\" stroke=\"#000000\" stroke-opacity=\"1\" stroke-width=\"3.2\"/>\n",
       "<circle clip-path=\"url(#clip362)\" cx=\"251.71\" cy=\"693.965\" r=\"14\" fill=\"#009af9\" fill-rule=\"evenodd\" fill-opacity=\"1\" stroke=\"#000000\" stroke-opacity=\"1\" stroke-width=\"3.2\"/>\n",
       "<circle clip-path=\"url(#clip362)\" cx=\"262.164\" cy=\"376.54\" r=\"14\" fill=\"#009af9\" fill-rule=\"evenodd\" fill-opacity=\"1\" stroke=\"#000000\" stroke-opacity=\"1\" stroke-width=\"3.2\"/>\n",
       "<circle clip-path=\"url(#clip362)\" cx=\"272.619\" cy=\"881.083\" r=\"14\" fill=\"#009af9\" fill-rule=\"evenodd\" fill-opacity=\"1\" stroke=\"#000000\" stroke-opacity=\"1\" stroke-width=\"3.2\"/>\n",
       "<circle clip-path=\"url(#clip362)\" cx=\"283.073\" cy=\"947.546\" r=\"14\" fill=\"#009af9\" fill-rule=\"evenodd\" fill-opacity=\"1\" stroke=\"#000000\" stroke-opacity=\"1\" stroke-width=\"3.2\"/>\n",
       "<circle clip-path=\"url(#clip362)\" cx=\"293.528\" cy=\"1019.5\" r=\"14\" fill=\"#009af9\" fill-rule=\"evenodd\" fill-opacity=\"1\" stroke=\"#000000\" stroke-opacity=\"1\" stroke-width=\"3.2\"/>\n",
       "<circle clip-path=\"url(#clip362)\" cx=\"303.982\" cy=\"880.122\" r=\"14\" fill=\"#009af9\" fill-rule=\"evenodd\" fill-opacity=\"1\" stroke=\"#000000\" stroke-opacity=\"1\" stroke-width=\"3.2\"/>\n",
       "<circle clip-path=\"url(#clip362)\" cx=\"314.437\" cy=\"882.909\" r=\"14\" fill=\"#009af9\" fill-rule=\"evenodd\" fill-opacity=\"1\" stroke=\"#000000\" stroke-opacity=\"1\" stroke-width=\"3.2\"/>\n",
       "<circle clip-path=\"url(#clip362)\" cx=\"324.891\" cy=\"870.478\" r=\"14\" fill=\"#009af9\" fill-rule=\"evenodd\" fill-opacity=\"1\" stroke=\"#000000\" stroke-opacity=\"1\" stroke-width=\"3.2\"/>\n",
       "<circle clip-path=\"url(#clip362)\" cx=\"335.346\" cy=\"766.989\" r=\"14\" fill=\"#009af9\" fill-rule=\"evenodd\" fill-opacity=\"1\" stroke=\"#000000\" stroke-opacity=\"1\" stroke-width=\"3.2\"/>\n",
       "<circle clip-path=\"url(#clip362)\" cx=\"345.8\" cy=\"906.867\" r=\"14\" fill=\"#009af9\" fill-rule=\"evenodd\" fill-opacity=\"1\" stroke=\"#000000\" stroke-opacity=\"1\" stroke-width=\"3.2\"/>\n",
       "<circle clip-path=\"url(#clip362)\" cx=\"356.255\" cy=\"697.566\" r=\"14\" fill=\"#009af9\" fill-rule=\"evenodd\" fill-opacity=\"1\" stroke=\"#000000\" stroke-opacity=\"1\" stroke-width=\"3.2\"/>\n",
       "<circle clip-path=\"url(#clip362)\" cx=\"366.709\" cy=\"824.476\" r=\"14\" fill=\"#009af9\" fill-rule=\"evenodd\" fill-opacity=\"1\" stroke=\"#000000\" stroke-opacity=\"1\" stroke-width=\"3.2\"/>\n",
       "<circle clip-path=\"url(#clip362)\" cx=\"377.164\" cy=\"828.288\" r=\"14\" fill=\"#009af9\" fill-rule=\"evenodd\" fill-opacity=\"1\" stroke=\"#000000\" stroke-opacity=\"1\" stroke-width=\"3.2\"/>\n",
       "<circle clip-path=\"url(#clip362)\" cx=\"387.618\" cy=\"1001.77\" r=\"14\" fill=\"#009af9\" fill-rule=\"evenodd\" fill-opacity=\"1\" stroke=\"#000000\" stroke-opacity=\"1\" stroke-width=\"3.2\"/>\n",
       "<circle clip-path=\"url(#clip362)\" cx=\"398.073\" cy=\"1032.14\" r=\"14\" fill=\"#009af9\" fill-rule=\"evenodd\" fill-opacity=\"1\" stroke=\"#000000\" stroke-opacity=\"1\" stroke-width=\"3.2\"/>\n",
       "<circle clip-path=\"url(#clip362)\" cx=\"408.527\" cy=\"688.645\" r=\"14\" fill=\"#009af9\" fill-rule=\"evenodd\" fill-opacity=\"1\" stroke=\"#000000\" stroke-opacity=\"1\" stroke-width=\"3.2\"/>\n",
       "<circle clip-path=\"url(#clip362)\" cx=\"418.982\" cy=\"1092.75\" r=\"14\" fill=\"#009af9\" fill-rule=\"evenodd\" fill-opacity=\"1\" stroke=\"#000000\" stroke-opacity=\"1\" stroke-width=\"3.2\"/>\n",
       "<circle clip-path=\"url(#clip362)\" cx=\"429.437\" cy=\"679.383\" r=\"14\" fill=\"#009af9\" fill-rule=\"evenodd\" fill-opacity=\"1\" stroke=\"#000000\" stroke-opacity=\"1\" stroke-width=\"3.2\"/>\n",
       "<circle clip-path=\"url(#clip362)\" cx=\"439.891\" cy=\"973.979\" r=\"14\" fill=\"#009af9\" fill-rule=\"evenodd\" fill-opacity=\"1\" stroke=\"#000000\" stroke-opacity=\"1\" stroke-width=\"3.2\"/>\n",
       "<circle clip-path=\"url(#clip362)\" cx=\"450.346\" cy=\"789.238\" r=\"14\" fill=\"#009af9\" fill-rule=\"evenodd\" fill-opacity=\"1\" stroke=\"#000000\" stroke-opacity=\"1\" stroke-width=\"3.2\"/>\n",
       "<circle clip-path=\"url(#clip362)\" cx=\"460.8\" cy=\"843.302\" r=\"14\" fill=\"#009af9\" fill-rule=\"evenodd\" fill-opacity=\"1\" stroke=\"#000000\" stroke-opacity=\"1\" stroke-width=\"3.2\"/>\n",
       "<circle clip-path=\"url(#clip362)\" cx=\"471.255\" cy=\"1057.7\" r=\"14\" fill=\"#009af9\" fill-rule=\"evenodd\" fill-opacity=\"1\" stroke=\"#000000\" stroke-opacity=\"1\" stroke-width=\"3.2\"/>\n",
       "<circle clip-path=\"url(#clip362)\" cx=\"481.709\" cy=\"169.603\" r=\"14\" fill=\"#009af9\" fill-rule=\"evenodd\" fill-opacity=\"1\" stroke=\"#000000\" stroke-opacity=\"1\" stroke-width=\"3.2\"/>\n",
       "<circle clip-path=\"url(#clip362)\" cx=\"492.164\" cy=\"818.315\" r=\"14\" fill=\"#009af9\" fill-rule=\"evenodd\" fill-opacity=\"1\" stroke=\"#000000\" stroke-opacity=\"1\" stroke-width=\"3.2\"/>\n",
       "<circle clip-path=\"url(#clip362)\" cx=\"502.618\" cy=\"712.335\" r=\"14\" fill=\"#009af9\" fill-rule=\"evenodd\" fill-opacity=\"1\" stroke=\"#000000\" stroke-opacity=\"1\" stroke-width=\"3.2\"/>\n",
       "<circle clip-path=\"url(#clip362)\" cx=\"513.073\" cy=\"662.991\" r=\"14\" fill=\"#009af9\" fill-rule=\"evenodd\" fill-opacity=\"1\" stroke=\"#000000\" stroke-opacity=\"1\" stroke-width=\"3.2\"/>\n",
       "<circle clip-path=\"url(#clip362)\" cx=\"523.527\" cy=\"823.622\" r=\"14\" fill=\"#009af9\" fill-rule=\"evenodd\" fill-opacity=\"1\" stroke=\"#000000\" stroke-opacity=\"1\" stroke-width=\"3.2\"/>\n",
       "<circle clip-path=\"url(#clip362)\" cx=\"533.982\" cy=\"793.302\" r=\"14\" fill=\"#009af9\" fill-rule=\"evenodd\" fill-opacity=\"1\" stroke=\"#000000\" stroke-opacity=\"1\" stroke-width=\"3.2\"/>\n",
       "<circle clip-path=\"url(#clip362)\" cx=\"544.436\" cy=\"1118.07\" r=\"14\" fill=\"#009af9\" fill-rule=\"evenodd\" fill-opacity=\"1\" stroke=\"#000000\" stroke-opacity=\"1\" stroke-width=\"3.2\"/>\n",
       "<circle clip-path=\"url(#clip362)\" cx=\"554.891\" cy=\"945.956\" r=\"14\" fill=\"#009af9\" fill-rule=\"evenodd\" fill-opacity=\"1\" stroke=\"#000000\" stroke-opacity=\"1\" stroke-width=\"3.2\"/>\n",
       "<circle clip-path=\"url(#clip362)\" cx=\"565.345\" cy=\"952.619\" r=\"14\" fill=\"#009af9\" fill-rule=\"evenodd\" fill-opacity=\"1\" stroke=\"#000000\" stroke-opacity=\"1\" stroke-width=\"3.2\"/>\n",
       "<circle clip-path=\"url(#clip362)\" cx=\"575.8\" cy=\"585.998\" r=\"14\" fill=\"#009af9\" fill-rule=\"evenodd\" fill-opacity=\"1\" stroke=\"#000000\" stroke-opacity=\"1\" stroke-width=\"3.2\"/>\n",
       "<circle clip-path=\"url(#clip362)\" cx=\"586.254\" cy=\"658.559\" r=\"14\" fill=\"#009af9\" fill-rule=\"evenodd\" fill-opacity=\"1\" stroke=\"#000000\" stroke-opacity=\"1\" stroke-width=\"3.2\"/>\n",
       "<circle clip-path=\"url(#clip362)\" cx=\"596.709\" cy=\"788.579\" r=\"14\" fill=\"#009af9\" fill-rule=\"evenodd\" fill-opacity=\"1\" stroke=\"#000000\" stroke-opacity=\"1\" stroke-width=\"3.2\"/>\n",
       "<circle clip-path=\"url(#clip362)\" cx=\"607.163\" cy=\"712.273\" r=\"14\" fill=\"#009af9\" fill-rule=\"evenodd\" fill-opacity=\"1\" stroke=\"#000000\" stroke-opacity=\"1\" stroke-width=\"3.2\"/>\n",
       "<circle clip-path=\"url(#clip362)\" cx=\"617.618\" cy=\"721.671\" r=\"14\" fill=\"#009af9\" fill-rule=\"evenodd\" fill-opacity=\"1\" stroke=\"#000000\" stroke-opacity=\"1\" stroke-width=\"3.2\"/>\n",
       "<circle clip-path=\"url(#clip362)\" cx=\"628.073\" cy=\"707.603\" r=\"14\" fill=\"#009af9\" fill-rule=\"evenodd\" fill-opacity=\"1\" stroke=\"#000000\" stroke-opacity=\"1\" stroke-width=\"3.2\"/>\n",
       "<circle clip-path=\"url(#clip362)\" cx=\"638.527\" cy=\"1002.53\" r=\"14\" fill=\"#009af9\" fill-rule=\"evenodd\" fill-opacity=\"1\" stroke=\"#000000\" stroke-opacity=\"1\" stroke-width=\"3.2\"/>\n",
       "<circle clip-path=\"url(#clip362)\" cx=\"648.982\" cy=\"1251.49\" r=\"14\" fill=\"#009af9\" fill-rule=\"evenodd\" fill-opacity=\"1\" stroke=\"#000000\" stroke-opacity=\"1\" stroke-width=\"3.2\"/>\n",
       "<circle clip-path=\"url(#clip362)\" cx=\"659.436\" cy=\"791.23\" r=\"14\" fill=\"#009af9\" fill-rule=\"evenodd\" fill-opacity=\"1\" stroke=\"#000000\" stroke-opacity=\"1\" stroke-width=\"3.2\"/>\n",
       "<circle clip-path=\"url(#clip362)\" cx=\"669.891\" cy=\"874.527\" r=\"14\" fill=\"#009af9\" fill-rule=\"evenodd\" fill-opacity=\"1\" stroke=\"#000000\" stroke-opacity=\"1\" stroke-width=\"3.2\"/>\n",
       "<circle clip-path=\"url(#clip362)\" cx=\"680.345\" cy=\"712.339\" r=\"14\" fill=\"#009af9\" fill-rule=\"evenodd\" fill-opacity=\"1\" stroke=\"#000000\" stroke-opacity=\"1\" stroke-width=\"3.2\"/>\n",
       "<circle clip-path=\"url(#clip362)\" cx=\"690.8\" cy=\"707.157\" r=\"14\" fill=\"#009af9\" fill-rule=\"evenodd\" fill-opacity=\"1\" stroke=\"#000000\" stroke-opacity=\"1\" stroke-width=\"3.2\"/>\n",
       "<circle clip-path=\"url(#clip362)\" cx=\"701.254\" cy=\"678.732\" r=\"14\" fill=\"#009af9\" fill-rule=\"evenodd\" fill-opacity=\"1\" stroke=\"#000000\" stroke-opacity=\"1\" stroke-width=\"3.2\"/>\n",
       "<circle clip-path=\"url(#clip362)\" cx=\"711.709\" cy=\"937.053\" r=\"14\" fill=\"#009af9\" fill-rule=\"evenodd\" fill-opacity=\"1\" stroke=\"#000000\" stroke-opacity=\"1\" stroke-width=\"3.2\"/>\n",
       "<circle clip-path=\"url(#clip362)\" cx=\"722.163\" cy=\"1282.69\" r=\"14\" fill=\"#009af9\" fill-rule=\"evenodd\" fill-opacity=\"1\" stroke=\"#000000\" stroke-opacity=\"1\" stroke-width=\"3.2\"/>\n",
       "<circle clip-path=\"url(#clip362)\" cx=\"732.618\" cy=\"435.311\" r=\"14\" fill=\"#009af9\" fill-rule=\"evenodd\" fill-opacity=\"1\" stroke=\"#000000\" stroke-opacity=\"1\" stroke-width=\"3.2\"/>\n",
       "<circle clip-path=\"url(#clip362)\" cx=\"743.072\" cy=\"944.431\" r=\"14\" fill=\"#009af9\" fill-rule=\"evenodd\" fill-opacity=\"1\" stroke=\"#000000\" stroke-opacity=\"1\" stroke-width=\"3.2\"/>\n",
       "<circle clip-path=\"url(#clip362)\" cx=\"753.527\" cy=\"656.816\" r=\"14\" fill=\"#009af9\" fill-rule=\"evenodd\" fill-opacity=\"1\" stroke=\"#000000\" stroke-opacity=\"1\" stroke-width=\"3.2\"/>\n",
       "<circle clip-path=\"url(#clip362)\" cx=\"763.981\" cy=\"388.259\" r=\"14\" fill=\"#009af9\" fill-rule=\"evenodd\" fill-opacity=\"1\" stroke=\"#000000\" stroke-opacity=\"1\" stroke-width=\"3.2\"/>\n",
       "<circle clip-path=\"url(#clip362)\" cx=\"774.436\" cy=\"706.234\" r=\"14\" fill=\"#009af9\" fill-rule=\"evenodd\" fill-opacity=\"1\" stroke=\"#000000\" stroke-opacity=\"1\" stroke-width=\"3.2\"/>\n",
       "<circle clip-path=\"url(#clip362)\" cx=\"784.89\" cy=\"1000\" r=\"14\" fill=\"#009af9\" fill-rule=\"evenodd\" fill-opacity=\"1\" stroke=\"#000000\" stroke-opacity=\"1\" stroke-width=\"3.2\"/>\n",
       "<circle clip-path=\"url(#clip362)\" cx=\"795.345\" cy=\"641.776\" r=\"14\" fill=\"#009af9\" fill-rule=\"evenodd\" fill-opacity=\"1\" stroke=\"#000000\" stroke-opacity=\"1\" stroke-width=\"3.2\"/>\n",
       "<circle clip-path=\"url(#clip362)\" cx=\"805.799\" cy=\"1150.01\" r=\"14\" fill=\"#009af9\" fill-rule=\"evenodd\" fill-opacity=\"1\" stroke=\"#000000\" stroke-opacity=\"1\" stroke-width=\"3.2\"/>\n",
       "<circle clip-path=\"url(#clip362)\" cx=\"816.254\" cy=\"761.632\" r=\"14\" fill=\"#009af9\" fill-rule=\"evenodd\" fill-opacity=\"1\" stroke=\"#000000\" stroke-opacity=\"1\" stroke-width=\"3.2\"/>\n",
       "<circle clip-path=\"url(#clip362)\" cx=\"826.709\" cy=\"658.718\" r=\"14\" fill=\"#009af9\" fill-rule=\"evenodd\" fill-opacity=\"1\" stroke=\"#000000\" stroke-opacity=\"1\" stroke-width=\"3.2\"/>\n",
       "<circle clip-path=\"url(#clip362)\" cx=\"837.163\" cy=\"740.711\" r=\"14\" fill=\"#009af9\" fill-rule=\"evenodd\" fill-opacity=\"1\" stroke=\"#000000\" stroke-opacity=\"1\" stroke-width=\"3.2\"/>\n",
       "<circle clip-path=\"url(#clip362)\" cx=\"847.618\" cy=\"951.805\" r=\"14\" fill=\"#009af9\" fill-rule=\"evenodd\" fill-opacity=\"1\" stroke=\"#000000\" stroke-opacity=\"1\" stroke-width=\"3.2\"/>\n",
       "<circle clip-path=\"url(#clip362)\" cx=\"858.072\" cy=\"1120.44\" r=\"14\" fill=\"#009af9\" fill-rule=\"evenodd\" fill-opacity=\"1\" stroke=\"#000000\" stroke-opacity=\"1\" stroke-width=\"3.2\"/>\n",
       "<circle clip-path=\"url(#clip362)\" cx=\"868.527\" cy=\"1173.21\" r=\"14\" fill=\"#009af9\" fill-rule=\"evenodd\" fill-opacity=\"1\" stroke=\"#000000\" stroke-opacity=\"1\" stroke-width=\"3.2\"/>\n",
       "<circle clip-path=\"url(#clip362)\" cx=\"878.981\" cy=\"715.825\" r=\"14\" fill=\"#009af9\" fill-rule=\"evenodd\" fill-opacity=\"1\" stroke=\"#000000\" stroke-opacity=\"1\" stroke-width=\"3.2\"/>\n",
       "<circle clip-path=\"url(#clip362)\" cx=\"889.436\" cy=\"660.29\" r=\"14\" fill=\"#009af9\" fill-rule=\"evenodd\" fill-opacity=\"1\" stroke=\"#000000\" stroke-opacity=\"1\" stroke-width=\"3.2\"/>\n",
       "<circle clip-path=\"url(#clip362)\" cx=\"899.89\" cy=\"853.772\" r=\"14\" fill=\"#009af9\" fill-rule=\"evenodd\" fill-opacity=\"1\" stroke=\"#000000\" stroke-opacity=\"1\" stroke-width=\"3.2\"/>\n",
       "<circle clip-path=\"url(#clip362)\" cx=\"910.345\" cy=\"592.081\" r=\"14\" fill=\"#009af9\" fill-rule=\"evenodd\" fill-opacity=\"1\" stroke=\"#000000\" stroke-opacity=\"1\" stroke-width=\"3.2\"/>\n",
       "<circle clip-path=\"url(#clip362)\" cx=\"920.799\" cy=\"912.476\" r=\"14\" fill=\"#009af9\" fill-rule=\"evenodd\" fill-opacity=\"1\" stroke=\"#000000\" stroke-opacity=\"1\" stroke-width=\"3.2\"/>\n",
       "<circle clip-path=\"url(#clip362)\" cx=\"931.254\" cy=\"692.69\" r=\"14\" fill=\"#009af9\" fill-rule=\"evenodd\" fill-opacity=\"1\" stroke=\"#000000\" stroke-opacity=\"1\" stroke-width=\"3.2\"/>\n",
       "<circle clip-path=\"url(#clip362)\" cx=\"941.708\" cy=\"675.614\" r=\"14\" fill=\"#009af9\" fill-rule=\"evenodd\" fill-opacity=\"1\" stroke=\"#000000\" stroke-opacity=\"1\" stroke-width=\"3.2\"/>\n",
       "<circle clip-path=\"url(#clip362)\" cx=\"952.163\" cy=\"931.269\" r=\"14\" fill=\"#009af9\" fill-rule=\"evenodd\" fill-opacity=\"1\" stroke=\"#000000\" stroke-opacity=\"1\" stroke-width=\"3.2\"/>\n",
       "<circle clip-path=\"url(#clip362)\" cx=\"962.617\" cy=\"739.708\" r=\"14\" fill=\"#009af9\" fill-rule=\"evenodd\" fill-opacity=\"1\" stroke=\"#000000\" stroke-opacity=\"1\" stroke-width=\"3.2\"/>\n",
       "<circle clip-path=\"url(#clip362)\" cx=\"973.072\" cy=\"618.967\" r=\"14\" fill=\"#009af9\" fill-rule=\"evenodd\" fill-opacity=\"1\" stroke=\"#000000\" stroke-opacity=\"1\" stroke-width=\"3.2\"/>\n",
       "<circle clip-path=\"url(#clip362)\" cx=\"983.526\" cy=\"534.342\" r=\"14\" fill=\"#009af9\" fill-rule=\"evenodd\" fill-opacity=\"1\" stroke=\"#000000\" stroke-opacity=\"1\" stroke-width=\"3.2\"/>\n",
       "<circle clip-path=\"url(#clip362)\" cx=\"993.981\" cy=\"452.195\" r=\"14\" fill=\"#009af9\" fill-rule=\"evenodd\" fill-opacity=\"1\" stroke=\"#000000\" stroke-opacity=\"1\" stroke-width=\"3.2\"/>\n",
       "<circle clip-path=\"url(#clip362)\" cx=\"1004.44\" cy=\"741.363\" r=\"14\" fill=\"#009af9\" fill-rule=\"evenodd\" fill-opacity=\"1\" stroke=\"#000000\" stroke-opacity=\"1\" stroke-width=\"3.2\"/>\n",
       "<circle clip-path=\"url(#clip362)\" cx=\"1014.89\" cy=\"884.813\" r=\"14\" fill=\"#009af9\" fill-rule=\"evenodd\" fill-opacity=\"1\" stroke=\"#000000\" stroke-opacity=\"1\" stroke-width=\"3.2\"/>\n",
       "<circle clip-path=\"url(#clip362)\" cx=\"1025.34\" cy=\"540.744\" r=\"14\" fill=\"#009af9\" fill-rule=\"evenodd\" fill-opacity=\"1\" stroke=\"#000000\" stroke-opacity=\"1\" stroke-width=\"3.2\"/>\n",
       "<circle clip-path=\"url(#clip362)\" cx=\"1035.8\" cy=\"677.016\" r=\"14\" fill=\"#009af9\" fill-rule=\"evenodd\" fill-opacity=\"1\" stroke=\"#000000\" stroke-opacity=\"1\" stroke-width=\"3.2\"/>\n",
       "<circle clip-path=\"url(#clip362)\" cx=\"1046.25\" cy=\"603.161\" r=\"14\" fill=\"#009af9\" fill-rule=\"evenodd\" fill-opacity=\"1\" stroke=\"#000000\" stroke-opacity=\"1\" stroke-width=\"3.2\"/>\n",
       "<circle clip-path=\"url(#clip362)\" cx=\"1056.71\" cy=\"799.393\" r=\"14\" fill=\"#009af9\" fill-rule=\"evenodd\" fill-opacity=\"1\" stroke=\"#000000\" stroke-opacity=\"1\" stroke-width=\"3.2\"/>\n",
       "<circle clip-path=\"url(#clip362)\" cx=\"1067.16\" cy=\"624.823\" r=\"14\" fill=\"#009af9\" fill-rule=\"evenodd\" fill-opacity=\"1\" stroke=\"#000000\" stroke-opacity=\"1\" stroke-width=\"3.2\"/>\n",
       "<circle clip-path=\"url(#clip362)\" cx=\"1077.62\" cy=\"844.612\" r=\"14\" fill=\"#009af9\" fill-rule=\"evenodd\" fill-opacity=\"1\" stroke=\"#000000\" stroke-opacity=\"1\" stroke-width=\"3.2\"/>\n",
       "<circle clip-path=\"url(#clip362)\" cx=\"1088.07\" cy=\"353.375\" r=\"14\" fill=\"#009af9\" fill-rule=\"evenodd\" fill-opacity=\"1\" stroke=\"#000000\" stroke-opacity=\"1\" stroke-width=\"3.2\"/>\n",
       "<circle clip-path=\"url(#clip362)\" cx=\"1098.53\" cy=\"367.698\" r=\"14\" fill=\"#009af9\" fill-rule=\"evenodd\" fill-opacity=\"1\" stroke=\"#000000\" stroke-opacity=\"1\" stroke-width=\"3.2\"/>\n",
       "<circle clip-path=\"url(#clip362)\" cx=\"1108.98\" cy=\"699.804\" r=\"14\" fill=\"#009af9\" fill-rule=\"evenodd\" fill-opacity=\"1\" stroke=\"#000000\" stroke-opacity=\"1\" stroke-width=\"3.2\"/>\n",
       "<circle clip-path=\"url(#clip362)\" cx=\"1119.44\" cy=\"698.175\" r=\"14\" fill=\"#009af9\" fill-rule=\"evenodd\" fill-opacity=\"1\" stroke=\"#000000\" stroke-opacity=\"1\" stroke-width=\"3.2\"/>\n",
       "<circle clip-path=\"url(#clip362)\" cx=\"1129.89\" cy=\"352.257\" r=\"14\" fill=\"#009af9\" fill-rule=\"evenodd\" fill-opacity=\"1\" stroke=\"#000000\" stroke-opacity=\"1\" stroke-width=\"3.2\"/>\n",
       "<circle clip-path=\"url(#clip362)\" cx=\"1140.34\" cy=\"530.08\" r=\"14\" fill=\"#009af9\" fill-rule=\"evenodd\" fill-opacity=\"1\" stroke=\"#000000\" stroke-opacity=\"1\" stroke-width=\"3.2\"/>\n",
       "<circle clip-path=\"url(#clip362)\" cx=\"1150.8\" cy=\"519.465\" r=\"14\" fill=\"#009af9\" fill-rule=\"evenodd\" fill-opacity=\"1\" stroke=\"#000000\" stroke-opacity=\"1\" stroke-width=\"3.2\"/>\n",
       "<circle clip-path=\"url(#clip362)\" cx=\"1161.25\" cy=\"294.462\" r=\"14\" fill=\"#009af9\" fill-rule=\"evenodd\" fill-opacity=\"1\" stroke=\"#000000\" stroke-opacity=\"1\" stroke-width=\"3.2\"/>\n",
       "<circle clip-path=\"url(#clip362)\" cx=\"1171.71\" cy=\"364.681\" r=\"14\" fill=\"#009af9\" fill-rule=\"evenodd\" fill-opacity=\"1\" stroke=\"#000000\" stroke-opacity=\"1\" stroke-width=\"3.2\"/>\n",
       "<circle clip-path=\"url(#clip362)\" cx=\"1182.16\" cy=\"753.965\" r=\"14\" fill=\"#009af9\" fill-rule=\"evenodd\" fill-opacity=\"1\" stroke=\"#000000\" stroke-opacity=\"1\" stroke-width=\"3.2\"/>\n",
       "<circle clip-path=\"url(#clip362)\" cx=\"1192.62\" cy=\"87.9763\" r=\"14\" fill=\"#009af9\" fill-rule=\"evenodd\" fill-opacity=\"1\" stroke=\"#000000\" stroke-opacity=\"1\" stroke-width=\"3.2\"/>\n",
       "<circle clip-path=\"url(#clip362)\" cx=\"1203.07\" cy=\"114.593\" r=\"14\" fill=\"#009af9\" fill-rule=\"evenodd\" fill-opacity=\"1\" stroke=\"#000000\" stroke-opacity=\"1\" stroke-width=\"3.2\"/>\n",
       "<circle clip-path=\"url(#clip362)\" cx=\"1213.53\" cy=\"428.918\" r=\"14\" fill=\"#009af9\" fill-rule=\"evenodd\" fill-opacity=\"1\" stroke=\"#000000\" stroke-opacity=\"1\" stroke-width=\"3.2\"/>\n",
       "<circle clip-path=\"url(#clip362)\" cx=\"1223.98\" cy=\"470.071\" r=\"14\" fill=\"#009af9\" fill-rule=\"evenodd\" fill-opacity=\"1\" stroke=\"#000000\" stroke-opacity=\"1\" stroke-width=\"3.2\"/>\n",
       "<circle clip-path=\"url(#clip362)\" cx=\"1234.44\" cy=\"594.774\" r=\"14\" fill=\"#009af9\" fill-rule=\"evenodd\" fill-opacity=\"1\" stroke=\"#000000\" stroke-opacity=\"1\" stroke-width=\"3.2\"/>\n",
       "<circle clip-path=\"url(#clip362)\" cx=\"1244.89\" cy=\"270.885\" r=\"14\" fill=\"#009af9\" fill-rule=\"evenodd\" fill-opacity=\"1\" stroke=\"#000000\" stroke-opacity=\"1\" stroke-width=\"3.2\"/>\n",
       "<circle clip-path=\"url(#clip362)\" cx=\"1255.34\" cy=\"657.511\" r=\"14\" fill=\"#009af9\" fill-rule=\"evenodd\" fill-opacity=\"1\" stroke=\"#000000\" stroke-opacity=\"1\" stroke-width=\"3.2\"/>\n",
       "<circle clip-path=\"url(#clip362)\" cx=\"1265.8\" cy=\"705.838\" r=\"14\" fill=\"#009af9\" fill-rule=\"evenodd\" fill-opacity=\"1\" stroke=\"#000000\" stroke-opacity=\"1\" stroke-width=\"3.2\"/>\n",
       "<circle clip-path=\"url(#clip362)\" cx=\"1276.25\" cy=\"734.035\" r=\"14\" fill=\"#009af9\" fill-rule=\"evenodd\" fill-opacity=\"1\" stroke=\"#000000\" stroke-opacity=\"1\" stroke-width=\"3.2\"/>\n",
       "<circle clip-path=\"url(#clip362)\" cx=\"1286.71\" cy=\"516.709\" r=\"14\" fill=\"#009af9\" fill-rule=\"evenodd\" fill-opacity=\"1\" stroke=\"#000000\" stroke-opacity=\"1\" stroke-width=\"3.2\"/>\n",
       "<circle clip-path=\"url(#clip362)\" cx=\"1297.16\" cy=\"513.263\" r=\"14\" fill=\"#009af9\" fill-rule=\"evenodd\" fill-opacity=\"1\" stroke=\"#000000\" stroke-opacity=\"1\" stroke-width=\"3.2\"/>\n",
       "<circle clip-path=\"url(#clip362)\" cx=\"1307.62\" cy=\"364.912\" r=\"14\" fill=\"#009af9\" fill-rule=\"evenodd\" fill-opacity=\"1\" stroke=\"#000000\" stroke-opacity=\"1\" stroke-width=\"3.2\"/>\n",
       "<circle clip-path=\"url(#clip362)\" cx=\"1318.07\" cy=\"445.686\" r=\"14\" fill=\"#009af9\" fill-rule=\"evenodd\" fill-opacity=\"1\" stroke=\"#000000\" stroke-opacity=\"1\" stroke-width=\"3.2\"/>\n",
       "<circle clip-path=\"url(#clip362)\" cx=\"1328.53\" cy=\"598.707\" r=\"14\" fill=\"#009af9\" fill-rule=\"evenodd\" fill-opacity=\"1\" stroke=\"#000000\" stroke-opacity=\"1\" stroke-width=\"3.2\"/>\n",
       "<circle clip-path=\"url(#clip362)\" cx=\"1338.98\" cy=\"579.615\" r=\"14\" fill=\"#009af9\" fill-rule=\"evenodd\" fill-opacity=\"1\" stroke=\"#000000\" stroke-opacity=\"1\" stroke-width=\"3.2\"/>\n",
       "<circle clip-path=\"url(#clip362)\" cx=\"1349.43\" cy=\"1106.84\" r=\"14\" fill=\"#009af9\" fill-rule=\"evenodd\" fill-opacity=\"1\" stroke=\"#000000\" stroke-opacity=\"1\" stroke-width=\"3.2\"/>\n",
       "<circle clip-path=\"url(#clip362)\" cx=\"1359.89\" cy=\"430.519\" r=\"14\" fill=\"#009af9\" fill-rule=\"evenodd\" fill-opacity=\"1\" stroke=\"#000000\" stroke-opacity=\"1\" stroke-width=\"3.2\"/>\n",
       "<circle clip-path=\"url(#clip362)\" cx=\"1370.34\" cy=\"328.918\" r=\"14\" fill=\"#009af9\" fill-rule=\"evenodd\" fill-opacity=\"1\" stroke=\"#000000\" stroke-opacity=\"1\" stroke-width=\"3.2\"/>\n",
       "<circle clip-path=\"url(#clip362)\" cx=\"1380.8\" cy=\"666.405\" r=\"14\" fill=\"#009af9\" fill-rule=\"evenodd\" fill-opacity=\"1\" stroke=\"#000000\" stroke-opacity=\"1\" stroke-width=\"3.2\"/>\n",
       "<circle clip-path=\"url(#clip362)\" cx=\"1391.25\" cy=\"576.589\" r=\"14\" fill=\"#009af9\" fill-rule=\"evenodd\" fill-opacity=\"1\" stroke=\"#000000\" stroke-opacity=\"1\" stroke-width=\"3.2\"/>\n",
       "<circle clip-path=\"url(#clip362)\" cx=\"1401.71\" cy=\"901.765\" r=\"14\" fill=\"#009af9\" fill-rule=\"evenodd\" fill-opacity=\"1\" stroke=\"#000000\" stroke-opacity=\"1\" stroke-width=\"3.2\"/>\n",
       "<circle clip-path=\"url(#clip362)\" cx=\"1412.16\" cy=\"965.319\" r=\"14\" fill=\"#009af9\" fill-rule=\"evenodd\" fill-opacity=\"1\" stroke=\"#000000\" stroke-opacity=\"1\" stroke-width=\"3.2\"/>\n",
       "<circle clip-path=\"url(#clip362)\" cx=\"1422.62\" cy=\"532.3\" r=\"14\" fill=\"#009af9\" fill-rule=\"evenodd\" fill-opacity=\"1\" stroke=\"#000000\" stroke-opacity=\"1\" stroke-width=\"3.2\"/>\n",
       "<circle clip-path=\"url(#clip362)\" cx=\"1433.07\" cy=\"529.699\" r=\"14\" fill=\"#009af9\" fill-rule=\"evenodd\" fill-opacity=\"1\" stroke=\"#000000\" stroke-opacity=\"1\" stroke-width=\"3.2\"/>\n",
       "<circle clip-path=\"url(#clip362)\" cx=\"1443.53\" cy=\"700.87\" r=\"14\" fill=\"#009af9\" fill-rule=\"evenodd\" fill-opacity=\"1\" stroke=\"#000000\" stroke-opacity=\"1\" stroke-width=\"3.2\"/>\n",
       "<circle clip-path=\"url(#clip362)\" cx=\"1453.98\" cy=\"578.411\" r=\"14\" fill=\"#009af9\" fill-rule=\"evenodd\" fill-opacity=\"1\" stroke=\"#000000\" stroke-opacity=\"1\" stroke-width=\"3.2\"/>\n",
       "<circle clip-path=\"url(#clip362)\" cx=\"1464.43\" cy=\"1020\" r=\"14\" fill=\"#009af9\" fill-rule=\"evenodd\" fill-opacity=\"1\" stroke=\"#000000\" stroke-opacity=\"1\" stroke-width=\"3.2\"/>\n",
       "<circle clip-path=\"url(#clip362)\" cx=\"1474.89\" cy=\"683.378\" r=\"14\" fill=\"#009af9\" fill-rule=\"evenodd\" fill-opacity=\"1\" stroke=\"#000000\" stroke-opacity=\"1\" stroke-width=\"3.2\"/>\n",
       "<circle clip-path=\"url(#clip362)\" cx=\"1485.34\" cy=\"450.155\" r=\"14\" fill=\"#009af9\" fill-rule=\"evenodd\" fill-opacity=\"1\" stroke=\"#000000\" stroke-opacity=\"1\" stroke-width=\"3.2\"/>\n",
       "<circle clip-path=\"url(#clip362)\" cx=\"1495.8\" cy=\"783.876\" r=\"14\" fill=\"#009af9\" fill-rule=\"evenodd\" fill-opacity=\"1\" stroke=\"#000000\" stroke-opacity=\"1\" stroke-width=\"3.2\"/>\n",
       "<circle clip-path=\"url(#clip362)\" cx=\"1506.25\" cy=\"632.483\" r=\"14\" fill=\"#009af9\" fill-rule=\"evenodd\" fill-opacity=\"1\" stroke=\"#000000\" stroke-opacity=\"1\" stroke-width=\"3.2\"/>\n",
       "<circle clip-path=\"url(#clip362)\" cx=\"1516.71\" cy=\"491.703\" r=\"14\" fill=\"#009af9\" fill-rule=\"evenodd\" fill-opacity=\"1\" stroke=\"#000000\" stroke-opacity=\"1\" stroke-width=\"3.2\"/>\n",
       "<circle clip-path=\"url(#clip362)\" cx=\"1527.16\" cy=\"721.027\" r=\"14\" fill=\"#009af9\" fill-rule=\"evenodd\" fill-opacity=\"1\" stroke=\"#000000\" stroke-opacity=\"1\" stroke-width=\"3.2\"/>\n",
       "<circle clip-path=\"url(#clip362)\" cx=\"1537.62\" cy=\"216.286\" r=\"14\" fill=\"#009af9\" fill-rule=\"evenodd\" fill-opacity=\"1\" stroke=\"#000000\" stroke-opacity=\"1\" stroke-width=\"3.2\"/>\n",
       "<circle clip-path=\"url(#clip362)\" cx=\"1548.07\" cy=\"606.358\" r=\"14\" fill=\"#009af9\" fill-rule=\"evenodd\" fill-opacity=\"1\" stroke=\"#000000\" stroke-opacity=\"1\" stroke-width=\"3.2\"/>\n",
       "<circle clip-path=\"url(#clip362)\" cx=\"1558.53\" cy=\"840.13\" r=\"14\" fill=\"#009af9\" fill-rule=\"evenodd\" fill-opacity=\"1\" stroke=\"#000000\" stroke-opacity=\"1\" stroke-width=\"3.2\"/>\n",
       "<circle clip-path=\"url(#clip362)\" cx=\"1568.98\" cy=\"649.581\" r=\"14\" fill=\"#009af9\" fill-rule=\"evenodd\" fill-opacity=\"1\" stroke=\"#000000\" stroke-opacity=\"1\" stroke-width=\"3.2\"/>\n",
       "<circle clip-path=\"url(#clip362)\" cx=\"1579.43\" cy=\"706.808\" r=\"14\" fill=\"#009af9\" fill-rule=\"evenodd\" fill-opacity=\"1\" stroke=\"#000000\" stroke-opacity=\"1\" stroke-width=\"3.2\"/>\n",
       "<circle clip-path=\"url(#clip362)\" cx=\"1589.89\" cy=\"529.178\" r=\"14\" fill=\"#009af9\" fill-rule=\"evenodd\" fill-opacity=\"1\" stroke=\"#000000\" stroke-opacity=\"1\" stroke-width=\"3.2\"/>\n",
       "<circle clip-path=\"url(#clip362)\" cx=\"1600.34\" cy=\"1008.81\" r=\"14\" fill=\"#009af9\" fill-rule=\"evenodd\" fill-opacity=\"1\" stroke=\"#000000\" stroke-opacity=\"1\" stroke-width=\"3.2\"/>\n",
       "<circle clip-path=\"url(#clip362)\" cx=\"1610.8\" cy=\"982.246\" r=\"14\" fill=\"#009af9\" fill-rule=\"evenodd\" fill-opacity=\"1\" stroke=\"#000000\" stroke-opacity=\"1\" stroke-width=\"3.2\"/>\n",
       "<circle clip-path=\"url(#clip362)\" cx=\"1621.25\" cy=\"769.497\" r=\"14\" fill=\"#009af9\" fill-rule=\"evenodd\" fill-opacity=\"1\" stroke=\"#000000\" stroke-opacity=\"1\" stroke-width=\"3.2\"/>\n",
       "<circle clip-path=\"url(#clip362)\" cx=\"1631.71\" cy=\"664.74\" r=\"14\" fill=\"#009af9\" fill-rule=\"evenodd\" fill-opacity=\"1\" stroke=\"#000000\" stroke-opacity=\"1\" stroke-width=\"3.2\"/>\n",
       "<circle clip-path=\"url(#clip362)\" cx=\"1642.16\" cy=\"631.265\" r=\"14\" fill=\"#009af9\" fill-rule=\"evenodd\" fill-opacity=\"1\" stroke=\"#000000\" stroke-opacity=\"1\" stroke-width=\"3.2\"/>\n",
       "<circle clip-path=\"url(#clip362)\" cx=\"1652.62\" cy=\"930.621\" r=\"14\" fill=\"#009af9\" fill-rule=\"evenodd\" fill-opacity=\"1\" stroke=\"#000000\" stroke-opacity=\"1\" stroke-width=\"3.2\"/>\n",
       "<circle clip-path=\"url(#clip362)\" cx=\"1663.07\" cy=\"1096.46\" r=\"14\" fill=\"#009af9\" fill-rule=\"evenodd\" fill-opacity=\"1\" stroke=\"#000000\" stroke-opacity=\"1\" stroke-width=\"3.2\"/>\n",
       "<circle clip-path=\"url(#clip362)\" cx=\"1673.53\" cy=\"926.108\" r=\"14\" fill=\"#009af9\" fill-rule=\"evenodd\" fill-opacity=\"1\" stroke=\"#000000\" stroke-opacity=\"1\" stroke-width=\"3.2\"/>\n",
       "<circle clip-path=\"url(#clip362)\" cx=\"1683.98\" cy=\"863.59\" r=\"14\" fill=\"#009af9\" fill-rule=\"evenodd\" fill-opacity=\"1\" stroke=\"#000000\" stroke-opacity=\"1\" stroke-width=\"3.2\"/>\n",
       "<circle clip-path=\"url(#clip362)\" cx=\"1694.43\" cy=\"818.569\" r=\"14\" fill=\"#009af9\" fill-rule=\"evenodd\" fill-opacity=\"1\" stroke=\"#000000\" stroke-opacity=\"1\" stroke-width=\"3.2\"/>\n",
       "<circle clip-path=\"url(#clip362)\" cx=\"1704.89\" cy=\"926.33\" r=\"14\" fill=\"#009af9\" fill-rule=\"evenodd\" fill-opacity=\"1\" stroke=\"#000000\" stroke-opacity=\"1\" stroke-width=\"3.2\"/>\n",
       "<circle clip-path=\"url(#clip362)\" cx=\"1715.34\" cy=\"1037.8\" r=\"14\" fill=\"#009af9\" fill-rule=\"evenodd\" fill-opacity=\"1\" stroke=\"#000000\" stroke-opacity=\"1\" stroke-width=\"3.2\"/>\n",
       "<circle clip-path=\"url(#clip362)\" cx=\"1725.8\" cy=\"701.386\" r=\"14\" fill=\"#009af9\" fill-rule=\"evenodd\" fill-opacity=\"1\" stroke=\"#000000\" stroke-opacity=\"1\" stroke-width=\"3.2\"/>\n",
       "<circle clip-path=\"url(#clip362)\" cx=\"1736.25\" cy=\"845.037\" r=\"14\" fill=\"#009af9\" fill-rule=\"evenodd\" fill-opacity=\"1\" stroke=\"#000000\" stroke-opacity=\"1\" stroke-width=\"3.2\"/>\n",
       "<circle clip-path=\"url(#clip362)\" cx=\"1746.71\" cy=\"1082.16\" r=\"14\" fill=\"#009af9\" fill-rule=\"evenodd\" fill-opacity=\"1\" stroke=\"#000000\" stroke-opacity=\"1\" stroke-width=\"3.2\"/>\n",
       "<circle clip-path=\"url(#clip362)\" cx=\"1757.16\" cy=\"679.226\" r=\"14\" fill=\"#009af9\" fill-rule=\"evenodd\" fill-opacity=\"1\" stroke=\"#000000\" stroke-opacity=\"1\" stroke-width=\"3.2\"/>\n",
       "<circle clip-path=\"url(#clip362)\" cx=\"1767.62\" cy=\"886.631\" r=\"14\" fill=\"#009af9\" fill-rule=\"evenodd\" fill-opacity=\"1\" stroke=\"#000000\" stroke-opacity=\"1\" stroke-width=\"3.2\"/>\n",
       "<circle clip-path=\"url(#clip362)\" cx=\"1778.07\" cy=\"779.744\" r=\"14\" fill=\"#009af9\" fill-rule=\"evenodd\" fill-opacity=\"1\" stroke=\"#000000\" stroke-opacity=\"1\" stroke-width=\"3.2\"/>\n",
       "<circle clip-path=\"url(#clip362)\" cx=\"1788.53\" cy=\"613.98\" r=\"14\" fill=\"#009af9\" fill-rule=\"evenodd\" fill-opacity=\"1\" stroke=\"#000000\" stroke-opacity=\"1\" stroke-width=\"3.2\"/>\n",
       "<circle clip-path=\"url(#clip362)\" cx=\"1798.98\" cy=\"644.81\" r=\"14\" fill=\"#009af9\" fill-rule=\"evenodd\" fill-opacity=\"1\" stroke=\"#000000\" stroke-opacity=\"1\" stroke-width=\"3.2\"/>\n",
       "<circle clip-path=\"url(#clip362)\" cx=\"1809.43\" cy=\"536.361\" r=\"14\" fill=\"#009af9\" fill-rule=\"evenodd\" fill-opacity=\"1\" stroke=\"#000000\" stroke-opacity=\"1\" stroke-width=\"3.2\"/>\n",
       "<circle clip-path=\"url(#clip362)\" cx=\"1819.89\" cy=\"928.138\" r=\"14\" fill=\"#009af9\" fill-rule=\"evenodd\" fill-opacity=\"1\" stroke=\"#000000\" stroke-opacity=\"1\" stroke-width=\"3.2\"/>\n",
       "<circle clip-path=\"url(#clip362)\" cx=\"1830.34\" cy=\"785.936\" r=\"14\" fill=\"#009af9\" fill-rule=\"evenodd\" fill-opacity=\"1\" stroke=\"#000000\" stroke-opacity=\"1\" stroke-width=\"3.2\"/>\n",
       "<circle clip-path=\"url(#clip362)\" cx=\"1840.8\" cy=\"995.561\" r=\"14\" fill=\"#009af9\" fill-rule=\"evenodd\" fill-opacity=\"1\" stroke=\"#000000\" stroke-opacity=\"1\" stroke-width=\"3.2\"/>\n",
       "<circle clip-path=\"url(#clip362)\" cx=\"1851.25\" cy=\"976.307\" r=\"14\" fill=\"#009af9\" fill-rule=\"evenodd\" fill-opacity=\"1\" stroke=\"#000000\" stroke-opacity=\"1\" stroke-width=\"3.2\"/>\n",
       "<circle clip-path=\"url(#clip362)\" cx=\"1861.71\" cy=\"829.801\" r=\"14\" fill=\"#009af9\" fill-rule=\"evenodd\" fill-opacity=\"1\" stroke=\"#000000\" stroke-opacity=\"1\" stroke-width=\"3.2\"/>\n",
       "<circle clip-path=\"url(#clip362)\" cx=\"1872.16\" cy=\"622.922\" r=\"14\" fill=\"#009af9\" fill-rule=\"evenodd\" fill-opacity=\"1\" stroke=\"#000000\" stroke-opacity=\"1\" stroke-width=\"3.2\"/>\n",
       "<circle clip-path=\"url(#clip362)\" cx=\"1882.62\" cy=\"1202.41\" r=\"14\" fill=\"#009af9\" fill-rule=\"evenodd\" fill-opacity=\"1\" stroke=\"#000000\" stroke-opacity=\"1\" stroke-width=\"3.2\"/>\n",
       "<circle clip-path=\"url(#clip362)\" cx=\"1893.07\" cy=\"572.668\" r=\"14\" fill=\"#009af9\" fill-rule=\"evenodd\" fill-opacity=\"1\" stroke=\"#000000\" stroke-opacity=\"1\" stroke-width=\"3.2\"/>\n",
       "<circle clip-path=\"url(#clip362)\" cx=\"1903.52\" cy=\"1147.26\" r=\"14\" fill=\"#009af9\" fill-rule=\"evenodd\" fill-opacity=\"1\" stroke=\"#000000\" stroke-opacity=\"1\" stroke-width=\"3.2\"/>\n",
       "<circle clip-path=\"url(#clip362)\" cx=\"1913.98\" cy=\"934.74\" r=\"14\" fill=\"#009af9\" fill-rule=\"evenodd\" fill-opacity=\"1\" stroke=\"#000000\" stroke-opacity=\"1\" stroke-width=\"3.2\"/>\n",
       "<circle clip-path=\"url(#clip362)\" cx=\"1924.43\" cy=\"880.459\" r=\"14\" fill=\"#009af9\" fill-rule=\"evenodd\" fill-opacity=\"1\" stroke=\"#000000\" stroke-opacity=\"1\" stroke-width=\"3.2\"/>\n",
       "<circle clip-path=\"url(#clip362)\" cx=\"1934.89\" cy=\"534.643\" r=\"14\" fill=\"#009af9\" fill-rule=\"evenodd\" fill-opacity=\"1\" stroke=\"#000000\" stroke-opacity=\"1\" stroke-width=\"3.2\"/>\n",
       "<circle clip-path=\"url(#clip362)\" cx=\"1945.34\" cy=\"1203.37\" r=\"14\" fill=\"#009af9\" fill-rule=\"evenodd\" fill-opacity=\"1\" stroke=\"#000000\" stroke-opacity=\"1\" stroke-width=\"3.2\"/>\n",
       "<circle clip-path=\"url(#clip362)\" cx=\"1955.8\" cy=\"690.334\" r=\"14\" fill=\"#009af9\" fill-rule=\"evenodd\" fill-opacity=\"1\" stroke=\"#000000\" stroke-opacity=\"1\" stroke-width=\"3.2\"/>\n",
       "<circle clip-path=\"url(#clip362)\" cx=\"1966.25\" cy=\"872.808\" r=\"14\" fill=\"#009af9\" fill-rule=\"evenodd\" fill-opacity=\"1\" stroke=\"#000000\" stroke-opacity=\"1\" stroke-width=\"3.2\"/>\n",
       "<circle clip-path=\"url(#clip362)\" cx=\"1976.71\" cy=\"967.174\" r=\"14\" fill=\"#009af9\" fill-rule=\"evenodd\" fill-opacity=\"1\" stroke=\"#000000\" stroke-opacity=\"1\" stroke-width=\"3.2\"/>\n",
       "<circle clip-path=\"url(#clip362)\" cx=\"1987.16\" cy=\"840.553\" r=\"14\" fill=\"#009af9\" fill-rule=\"evenodd\" fill-opacity=\"1\" stroke=\"#000000\" stroke-opacity=\"1\" stroke-width=\"3.2\"/>\n",
       "<circle clip-path=\"url(#clip362)\" cx=\"1997.62\" cy=\"533.212\" r=\"14\" fill=\"#009af9\" fill-rule=\"evenodd\" fill-opacity=\"1\" stroke=\"#000000\" stroke-opacity=\"1\" stroke-width=\"3.2\"/>\n",
       "<circle clip-path=\"url(#clip362)\" cx=\"2008.07\" cy=\"1036.98\" r=\"14\" fill=\"#009af9\" fill-rule=\"evenodd\" fill-opacity=\"1\" stroke=\"#000000\" stroke-opacity=\"1\" stroke-width=\"3.2\"/>\n",
       "<circle clip-path=\"url(#clip362)\" cx=\"2018.52\" cy=\"863.197\" r=\"14\" fill=\"#009af9\" fill-rule=\"evenodd\" fill-opacity=\"1\" stroke=\"#000000\" stroke-opacity=\"1\" stroke-width=\"3.2\"/>\n",
       "<circle clip-path=\"url(#clip362)\" cx=\"2028.98\" cy=\"894.13\" r=\"14\" fill=\"#009af9\" fill-rule=\"evenodd\" fill-opacity=\"1\" stroke=\"#000000\" stroke-opacity=\"1\" stroke-width=\"3.2\"/>\n",
       "<circle clip-path=\"url(#clip362)\" cx=\"2039.43\" cy=\"714.86\" r=\"14\" fill=\"#009af9\" fill-rule=\"evenodd\" fill-opacity=\"1\" stroke=\"#000000\" stroke-opacity=\"1\" stroke-width=\"3.2\"/>\n",
       "<circle clip-path=\"url(#clip362)\" cx=\"2049.89\" cy=\"564.882\" r=\"14\" fill=\"#009af9\" fill-rule=\"evenodd\" fill-opacity=\"1\" stroke=\"#000000\" stroke-opacity=\"1\" stroke-width=\"3.2\"/>\n",
       "<circle clip-path=\"url(#clip362)\" cx=\"2060.34\" cy=\"673.417\" r=\"14\" fill=\"#009af9\" fill-rule=\"evenodd\" fill-opacity=\"1\" stroke=\"#000000\" stroke-opacity=\"1\" stroke-width=\"3.2\"/>\n",
       "<circle clip-path=\"url(#clip362)\" cx=\"2070.8\" cy=\"758.884\" r=\"14\" fill=\"#009af9\" fill-rule=\"evenodd\" fill-opacity=\"1\" stroke=\"#000000\" stroke-opacity=\"1\" stroke-width=\"3.2\"/>\n",
       "<circle clip-path=\"url(#clip362)\" cx=\"2081.25\" cy=\"1034.49\" r=\"14\" fill=\"#009af9\" fill-rule=\"evenodd\" fill-opacity=\"1\" stroke=\"#000000\" stroke-opacity=\"1\" stroke-width=\"3.2\"/>\n",
       "<circle clip-path=\"url(#clip362)\" cx=\"2091.71\" cy=\"1020.63\" r=\"14\" fill=\"#009af9\" fill-rule=\"evenodd\" fill-opacity=\"1\" stroke=\"#000000\" stroke-opacity=\"1\" stroke-width=\"3.2\"/>\n",
       "<circle clip-path=\"url(#clip362)\" cx=\"2102.16\" cy=\"1144.95\" r=\"14\" fill=\"#009af9\" fill-rule=\"evenodd\" fill-opacity=\"1\" stroke=\"#000000\" stroke-opacity=\"1\" stroke-width=\"3.2\"/>\n",
       "<circle clip-path=\"url(#clip362)\" cx=\"2112.62\" cy=\"772.733\" r=\"14\" fill=\"#009af9\" fill-rule=\"evenodd\" fill-opacity=\"1\" stroke=\"#000000\" stroke-opacity=\"1\" stroke-width=\"3.2\"/>\n",
       "<circle clip-path=\"url(#clip362)\" cx=\"2123.07\" cy=\"799.703\" r=\"14\" fill=\"#009af9\" fill-rule=\"evenodd\" fill-opacity=\"1\" stroke=\"#000000\" stroke-opacity=\"1\" stroke-width=\"3.2\"/>\n",
       "<circle clip-path=\"url(#clip362)\" cx=\"2133.52\" cy=\"819.03\" r=\"14\" fill=\"#009af9\" fill-rule=\"evenodd\" fill-opacity=\"1\" stroke=\"#000000\" stroke-opacity=\"1\" stroke-width=\"3.2\"/>\n",
       "<circle clip-path=\"url(#clip362)\" cx=\"2143.98\" cy=\"803.415\" r=\"14\" fill=\"#009af9\" fill-rule=\"evenodd\" fill-opacity=\"1\" stroke=\"#000000\" stroke-opacity=\"1\" stroke-width=\"3.2\"/>\n",
       "<circle clip-path=\"url(#clip362)\" cx=\"2154.43\" cy=\"786.689\" r=\"14\" fill=\"#009af9\" fill-rule=\"evenodd\" fill-opacity=\"1\" stroke=\"#000000\" stroke-opacity=\"1\" stroke-width=\"3.2\"/>\n",
       "<circle clip-path=\"url(#clip362)\" cx=\"2164.89\" cy=\"707.064\" r=\"14\" fill=\"#009af9\" fill-rule=\"evenodd\" fill-opacity=\"1\" stroke=\"#000000\" stroke-opacity=\"1\" stroke-width=\"3.2\"/>\n",
       "<circle clip-path=\"url(#clip362)\" cx=\"2175.34\" cy=\"1078.17\" r=\"14\" fill=\"#009af9\" fill-rule=\"evenodd\" fill-opacity=\"1\" stroke=\"#000000\" stroke-opacity=\"1\" stroke-width=\"3.2\"/>\n",
       "<circle clip-path=\"url(#clip362)\" cx=\"2185.8\" cy=\"825.232\" r=\"14\" fill=\"#009af9\" fill-rule=\"evenodd\" fill-opacity=\"1\" stroke=\"#000000\" stroke-opacity=\"1\" stroke-width=\"3.2\"/>\n",
       "<circle clip-path=\"url(#clip362)\" cx=\"2196.25\" cy=\"738.237\" r=\"14\" fill=\"#009af9\" fill-rule=\"evenodd\" fill-opacity=\"1\" stroke=\"#000000\" stroke-opacity=\"1\" stroke-width=\"3.2\"/>\n",
       "<circle clip-path=\"url(#clip362)\" cx=\"2206.71\" cy=\"822.682\" r=\"14\" fill=\"#009af9\" fill-rule=\"evenodd\" fill-opacity=\"1\" stroke=\"#000000\" stroke-opacity=\"1\" stroke-width=\"3.2\"/>\n",
       "<circle clip-path=\"url(#clip362)\" cx=\"2217.16\" cy=\"647.892\" r=\"14\" fill=\"#009af9\" fill-rule=\"evenodd\" fill-opacity=\"1\" stroke=\"#000000\" stroke-opacity=\"1\" stroke-width=\"3.2\"/>\n",
       "<circle clip-path=\"url(#clip362)\" cx=\"2227.62\" cy=\"961.718\" r=\"14\" fill=\"#009af9\" fill-rule=\"evenodd\" fill-opacity=\"1\" stroke=\"#000000\" stroke-opacity=\"1\" stroke-width=\"3.2\"/>\n",
       "<circle clip-path=\"url(#clip362)\" cx=\"2238.07\" cy=\"1280.53\" r=\"14\" fill=\"#009af9\" fill-rule=\"evenodd\" fill-opacity=\"1\" stroke=\"#000000\" stroke-opacity=\"1\" stroke-width=\"3.2\"/>\n",
       "<circle clip-path=\"url(#clip362)\" cx=\"2248.52\" cy=\"708.791\" r=\"14\" fill=\"#009af9\" fill-rule=\"evenodd\" fill-opacity=\"1\" stroke=\"#000000\" stroke-opacity=\"1\" stroke-width=\"3.2\"/>\n",
       "<circle clip-path=\"url(#clip362)\" cx=\"2258.98\" cy=\"1101.22\" r=\"14\" fill=\"#009af9\" fill-rule=\"evenodd\" fill-opacity=\"1\" stroke=\"#000000\" stroke-opacity=\"1\" stroke-width=\"3.2\"/>\n",
       "<circle clip-path=\"url(#clip362)\" cx=\"2269.43\" cy=\"1350.13\" r=\"14\" fill=\"#009af9\" fill-rule=\"evenodd\" fill-opacity=\"1\" stroke=\"#000000\" stroke-opacity=\"1\" stroke-width=\"3.2\"/>\n",
       "<circle clip-path=\"url(#clip362)\" cx=\"2279.89\" cy=\"1275.42\" r=\"14\" fill=\"#009af9\" fill-rule=\"evenodd\" fill-opacity=\"1\" stroke=\"#000000\" stroke-opacity=\"1\" stroke-width=\"3.2\"/>\n",
       "<circle clip-path=\"url(#clip362)\" cx=\"2290.34\" cy=\"979.053\" r=\"14\" fill=\"#009af9\" fill-rule=\"evenodd\" fill-opacity=\"1\" stroke=\"#000000\" stroke-opacity=\"1\" stroke-width=\"3.2\"/>\n",
       "<polyline clip-path=\"url(#clip362)\" style=\"stroke:#000000; stroke-linecap:butt; stroke-linejoin:round; stroke-width:16; stroke-opacity:1; fill:none\" points=\"\n",
       "  209.891,899.654 220.05,898.99 230.209,898.309 324.14,891.067 418.072,881.68 474.52,874.662 530.969,866.309 578.696,857.968 626.423,848.196 678.268,835.61 \n",
       "  730.112,820.515 777.909,803.897 825.705,784.178 851.326,772.15 876.947,759.009 902.569,744.691 928.19,729.155 987.559,688.524 1046.93,642.644 1099.69,600.73 \n",
       "  1152.45,563.395 1175.58,550.328 1198.72,540.177 1221.85,533.475 1244.98,530.598 1270.2,532.008 1295.43,538.059 1320.65,548.346 1345.87,562.218 1396.61,597.705 \n",
       "  1447.35,637.882 1503.46,681.681 1559.56,721.138 1586.25,737.92 1612.94,753.371 1639.63,767.523 1666.32,780.44 1721.82,803.706 1777.32,822.782 1824.05,836.16 \n",
       "  1870.77,847.517 1927.81,859.139 1984.85,868.766 2038.47,876.355 2092.09,882.797 2178,891.232 2263.9,897.889 2277.12,898.787 2290.34,899.654 \n",
       "  \"/>\n",
       "<polyline clip-path=\"url(#clip362)\" style=\"stroke:#3da44d; stroke-linecap:butt; stroke-linejoin:round; stroke-width:16; stroke-opacity:1; fill:none\" points=\"\n",
       "  209.891,1154.39 220.346,1009.12 230.8,935.365 241.255,897.827 251.71,877.308 262.164,864.397 272.619,855.22 283.073,848.695 293.528,844.859 303.982,843.935 \n",
       "  314.437,845.886 324.891,850.282 335.346,856.335 345.8,863.034 356.255,869.296 366.709,874.112 377.164,876.665 387.618,876.401 398.073,873.07 408.527,866.722 \n",
       "  418.982,857.678 429.437,846.481 439.891,833.832 450.346,820.518 460.8,807.35 471.255,795.096 481.709,784.43 492.164,775.897 502.618,769.878 513.073,766.586 \n",
       "  523.527,766.057 533.982,768.165 544.436,772.641 554.891,779.097 565.345,787.058 575.8,795.994 586.254,805.355 596.709,814.601 607.163,823.231 617.618,830.808 \n",
       "  628.073,836.978 638.527,841.481 648.982,844.163 659.436,844.973 669.891,843.961 680.345,841.27 690.8,837.124 701.254,831.811 711.709,825.664 722.163,819.044 \n",
       "  732.618,812.319 743.072,805.847 753.527,799.952 763.981,794.919 774.436,790.969 784.89,788.258 795.345,786.868 805.799,786.799 816.254,787.977 826.709,790.251 \n",
       "  837.163,793.402 847.618,797.155 858.072,801.184 868.527,805.13 878.981,808.616 889.436,811.257 899.89,812.681 910.345,812.538 920.799,810.518 931.254,806.362 \n",
       "  941.708,799.869 952.163,790.91 962.617,779.427 973.072,765.443 983.526,749.056 993.981,730.442 1004.44,709.849 1014.89,687.587 1025.34,664.026 1035.8,639.577 \n",
       "  1046.25,614.687 1056.71,589.824 1067.16,565.46 1077.62,542.063 1088.07,520.08 1098.53,499.925 1108.98,481.969 1119.44,466.526 1129.89,453.85 1140.34,444.126 \n",
       "  1150.8,437.462 1161.25,433.895 1171.71,433.382 1182.16,435.809 1192.62,440.993 1203.07,448.689 1213.53,458.598 1223.98,470.376 1234.44,483.647 1244.89,498.011 \n",
       "  1255.34,513.063 1265.8,528.397 1276.25,543.624 1286.71,558.381 1297.16,572.344 1307.62,585.234 1318.07,596.824 1328.53,606.949 1338.98,615.507 1349.43,622.46 \n",
       "  1359.89,627.835 1370.34,631.721 1380.8,634.264 1391.25,635.662 1401.71,636.154 1412.16,636.014 1422.62,635.537 1433.07,635.031 1443.53,634.802 1453.98,635.146 \n",
       "  1464.43,636.334 1474.89,638.605 1485.34,642.154 1495.8,647.126 1506.25,653.611 1516.71,661.636 1527.16,671.169 1537.62,682.117 1548.07,694.326 1558.53,707.593 \n",
       "  1568.98,721.667 1579.43,736.26 1589.89,751.061 1600.34,765.741 1610.8,779.973 1621.25,793.44 1631.71,805.85 1642.16,816.946 1652.62,826.52 1663.07,834.418 \n",
       "  1673.53,840.55 1683.98,844.892 1694.43,847.491 1704.89,848.461 1715.34,847.977 1725.8,846.272 1736.25,843.625 1746.71,840.346 1757.16,836.765 1767.62,833.215 \n",
       "  1778.07,830.012 1788.53,827.444 1798.98,825.75 1809.43,825.108 1819.89,825.624 1830.34,827.323 1840.8,830.144 1851.25,833.944 1861.71,838.5 1872.16,843.521 \n",
       "  1882.62,848.665 1893.07,853.558 1903.52,857.82 1913.98,861.091 1924.43,863.06 1934.89,863.49 1945.34,862.248 1955.8,859.324 1966.25,854.842 1976.71,849.071 \n",
       "  1987.16,842.415 1997.62,835.397 2008.07,828.628 2018.52,822.763 2028.98,818.445 2039.43,816.241 2049.89,816.571 2060.34,819.636 2070.8,825.358 2081.25,833.331 \n",
       "  2091.71,842.798 2102.16,852.674 2112.62,861.603 2123.07,868.086 2133.52,870.666 2143.98,868.18 2154.43,860.074 2164.89,846.751 2175.34,829.928 2185.8,812.929 \n",
       "  2196.25,800.822 2206.71,800.276 2217.16,818.916 2227.62,863.952 2238.07,939.693 2248.52,1043.51 2258.98,1159.65 2269.43,1250.1 2279.89,1241.57 2290.34,1007.36 \n",
       "  \n",
       "  \"/>\n",
       "<polyline clip-path=\"url(#clip362)\" style=\"stroke:#c271d2; stroke-linecap:butt; stroke-linejoin:round; stroke-width:16; stroke-opacity:1; fill:none\" points=\"\n",
       "  209.891,898.54 220.05,897.836 230.209,897.113 324.14,889.392 418.072,879.295 474.52,871.685 530.969,862.564 578.696,853.391 626.423,842.57 678.268,828.521 \n",
       "  730.112,811.524 777.909,792.648 825.705,770.063 851.326,756.207 876.947,741.012 902.569,724.407 928.19,706.352 987.559,659.155 1046.93,606.524 1073.31,582.858 \n",
       "  1099.69,560.184 1126.07,539.579 1152.45,522.23 1175.58,510.614 1198.72,503.065 1221.85,500.045 1244.98,501.747 1270.2,508.849 1295.43,520.906 1320.65,537.088 \n",
       "  1345.87,556.389 1396.61,600.523 1447.35,645.971 1475.4,669.898 1503.46,692.39 1531.51,713.226 1559.56,732.326 1586.25,748.901 1612.94,763.982 1639.63,777.662 \n",
       "  1666.32,790.048 1721.82,812.152 1777.32,830.113 1824.05,842.64 1870.77,853.241 1927.81,864.064 1984.85,873.018 2038.47,880.072 2092.09,886.061 2178,893.907 \n",
       "  2263.9,900.107 2277.12,900.943 2290.34,901.752 \n",
       "  \"/>\n",
       "<path clip-path=\"url(#clip360)\" d=\"\n",
       "M1550.99 484.018 L2279.25 484.018 L2279.25 95.2176 L1550.99 95.2176  Z\n",
       "  \" fill=\"#ffffff\" fill-rule=\"evenodd\" fill-opacity=\"1\"/>\n",
       "<polyline clip-path=\"url(#clip360)\" style=\"stroke:#000000; stroke-linecap:butt; stroke-linejoin:round; stroke-width:4; stroke-opacity:1; fill:none\" points=\"\n",
       "  1550.99,484.018 2279.25,484.018 2279.25,95.2176 1550.99,95.2176 1550.99,484.018 \n",
       "  \"/>\n",
       "<circle clip-path=\"url(#clip360)\" cx=\"1649\" cy=\"172.978\" r=\"34\" fill=\"#009af9\" fill-rule=\"evenodd\" fill-opacity=\"1\" stroke=\"#000000\" stroke-opacity=\"1\" stroke-width=\"7.68\"/>\n",
       "<path clip-path=\"url(#clip360)\" d=\"M1767.78 202.509 Q1765.07 209.453 1762.5 211.571 Q1759.93 213.689 1755.62 213.689 L1750.52 213.689 L1750.52 208.342 L1754.27 208.342 Q1756.91 208.342 1758.37 207.092 Q1759.83 205.842 1761.6 201.189 L1762.74 198.273 L1747.01 160.009 L1753.78 160.009 L1765.94 190.425 L1778.09 160.009 L1784.86 160.009 L1767.78 202.509 Z\" fill=\"#000000\" fill-rule=\"evenodd\" fill-opacity=\"1\" /><path clip-path=\"url(#clip360)\" d=\"M1795.8 192.995 L1807.26 192.995 L1807.26 153.446 L1794.79 155.946 L1794.79 149.558 L1807.19 147.058 L1814.2 147.058 L1814.2 192.995 L1825.66 192.995 L1825.66 198.898 L1795.8 198.898 L1795.8 192.995 Z\" fill=\"#000000\" fill-rule=\"evenodd\" fill-opacity=\"1\" /><polyline clip-path=\"url(#clip360)\" style=\"stroke:#000000; stroke-linecap:butt; stroke-linejoin:round; stroke-width:6; stroke-opacity:1; fill:none\" points=\"\n",
       "  1575.49,250.738 1722.51,250.738 \n",
       "  \"/>\n",
       "<path clip-path=\"url(#clip360)\" d=\"M1771.6 252.352 Q1773.85 253.116 1775.97 255.616 Q1778.12 258.116 1780.28 262.491 L1787.4 276.658 L1779.86 276.658 L1773.23 263.359 Q1770.66 258.151 1768.23 256.449 Q1765.83 254.748 1761.67 254.748 L1754.03 254.748 L1754.03 276.658 L1747.01 276.658 L1747.01 224.818 L1762.85 224.818 Q1771.74 224.818 1776.11 228.533 Q1780.49 232.248 1780.49 239.748 Q1780.49 244.644 1778.19 247.873 Q1775.94 251.102 1771.6 252.352 M1754.03 230.581 L1754.03 248.984 L1762.85 248.984 Q1767.92 248.984 1770.49 246.658 Q1773.09 244.297 1773.09 239.748 Q1773.09 235.199 1770.49 232.908 Q1767.92 230.581 1762.85 230.581 L1754.03 230.581 Z\" fill=\"#000000\" fill-rule=\"evenodd\" fill-opacity=\"1\" /><path clip-path=\"url(#clip360)\" d=\"M1792.29 261.31 L1792.29 237.769 L1798.68 237.769 L1798.68 261.067 Q1798.68 266.588 1800.83 269.366 Q1802.99 272.109 1807.29 272.109 Q1812.46 272.109 1815.45 268.81 Q1818.47 265.512 1818.47 259.817 L1818.47 237.769 L1824.86 237.769 L1824.86 276.658 L1818.47 276.658 L1818.47 270.685 Q1816.15 274.227 1813.06 275.963 Q1810 277.664 1805.94 277.664 Q1799.24 277.664 1795.76 273.498 Q1792.29 269.331 1792.29 261.31 M1808.37 236.831 L1808.37 236.831 Z\" fill=\"#000000\" fill-rule=\"evenodd\" fill-opacity=\"1\" /><path clip-path=\"url(#clip360)\" d=\"M1870.35 253.185 L1870.35 276.658 L1863.96 276.658 L1863.96 253.394 Q1863.96 247.873 1861.8 245.13 Q1859.65 242.387 1855.35 242.387 Q1850.17 242.387 1847.19 245.685 Q1844.2 248.984 1844.2 254.679 L1844.2 276.658 L1837.78 276.658 L1837.78 237.769 L1844.2 237.769 L1844.2 243.811 Q1846.49 240.304 1849.58 238.567 Q1852.71 236.831 1856.77 236.831 Q1863.47 236.831 1866.91 240.998 Q1870.35 245.13 1870.35 253.185 Z\" fill=\"#000000\" fill-rule=\"evenodd\" fill-opacity=\"1\" /><path clip-path=\"url(#clip360)\" d=\"M1908.68 256.762 Q1908.68 249.817 1905.8 245.998 Q1902.95 242.179 1897.78 242.179 Q1892.64 242.179 1889.76 245.998 Q1886.91 249.817 1886.91 256.762 Q1886.91 263.672 1889.76 267.491 Q1892.64 271.31 1897.78 271.31 Q1902.95 271.31 1905.8 267.491 Q1908.68 263.672 1908.68 256.762 M1915.07 271.831 Q1915.07 281.762 1910.66 286.588 Q1906.25 291.449 1897.15 291.449 Q1893.78 291.449 1890.8 290.928 Q1887.81 290.442 1885 289.401 L1885 283.185 Q1887.81 284.713 1890.55 285.442 Q1893.3 286.171 1896.15 286.171 Q1902.43 286.171 1905.55 282.873 Q1908.68 279.609 1908.68 272.977 L1908.68 269.817 Q1906.7 273.255 1903.61 274.956 Q1900.52 276.658 1896.21 276.658 Q1889.06 276.658 1884.69 271.206 Q1880.31 265.755 1880.31 256.762 Q1880.31 247.734 1884.69 242.283 Q1889.06 236.831 1896.21 236.831 Q1900.52 236.831 1903.61 238.533 Q1906.7 240.234 1908.68 243.672 L1908.68 237.769 L1915.07 237.769 L1915.07 271.831 Z\" fill=\"#000000\" fill-rule=\"evenodd\" fill-opacity=\"1\" /><path clip-path=\"url(#clip360)\" d=\"M1961.49 255.616 L1961.49 258.741 L1932.12 258.741 Q1932.53 265.338 1936.08 268.81 Q1939.65 272.248 1946.01 272.248 Q1949.69 272.248 1953.12 271.345 Q1956.6 270.442 1960 268.637 L1960 274.678 Q1956.56 276.137 1952.95 276.901 Q1949.34 277.664 1945.62 277.664 Q1936.32 277.664 1930.87 272.248 Q1925.45 266.831 1925.45 257.595 Q1925.45 248.047 1930.59 242.456 Q1935.76 236.831 1944.51 236.831 Q1952.36 236.831 1956.91 241.901 Q1961.49 246.935 1961.49 255.616 M1955.1 253.741 Q1955.03 248.498 1952.15 245.373 Q1949.3 242.248 1944.58 242.248 Q1939.24 242.248 1936.01 245.269 Q1932.81 248.29 1932.33 253.776 L1955.1 253.741 Z\" fill=\"#000000\" fill-rule=\"evenodd\" fill-opacity=\"1\" /><polyline clip-path=\"url(#clip360)\" style=\"stroke:#3da44d; stroke-linecap:butt; stroke-linejoin:round; stroke-width:6; stroke-opacity:1; fill:none\" points=\"\n",
       "  1575.49,328.498 1722.51,328.498 \n",
       "  \"/>\n",
       "<path clip-path=\"url(#clip360)\" d=\"M1788.82 306.571 L1788.82 313.966 Q1785.28 310.668 1781.25 309.036 Q1777.26 307.404 1772.74 307.404 Q1763.85 307.404 1759.13 312.855 Q1754.41 318.272 1754.41 328.55 Q1754.41 338.793 1759.13 344.244 Q1763.85 349.661 1772.74 349.661 Q1777.26 349.661 1781.25 348.029 Q1785.28 346.397 1788.82 343.098 L1788.82 350.425 Q1785.14 352.925 1781.01 354.174 Q1776.91 355.424 1772.33 355.424 Q1760.56 355.424 1753.78 348.237 Q1747.01 341.015 1747.01 328.55 Q1747.01 316.05 1753.78 308.862 Q1760.56 301.64 1772.33 301.64 Q1776.98 301.64 1781.08 302.89 Q1785.21 304.105 1788.82 306.571 Z\" fill=\"#000000\" fill-rule=\"evenodd\" fill-opacity=\"1\" /><path clip-path=\"url(#clip360)\" d=\"M1831.7 330.945 L1831.7 354.418 L1825.31 354.418 L1825.31 331.154 Q1825.31 325.633 1823.16 322.89 Q1821.01 320.147 1816.7 320.147 Q1811.53 320.147 1808.54 323.445 Q1805.56 326.744 1805.56 332.439 L1805.56 354.418 L1799.13 354.418 L1799.13 300.39 L1805.56 300.39 L1805.56 321.571 Q1807.85 318.064 1810.94 316.327 Q1814.06 314.591 1818.12 314.591 Q1824.83 314.591 1828.26 318.758 Q1831.7 322.89 1831.7 330.945 Z\" fill=\"#000000\" fill-rule=\"evenodd\" fill-opacity=\"1\" /><path clip-path=\"url(#clip360)\" d=\"M1877.71 333.376 L1877.71 336.501 L1848.33 336.501 Q1848.75 343.098 1852.29 346.57 Q1855.87 350.008 1862.22 350.008 Q1865.9 350.008 1869.34 349.105 Q1872.81 348.202 1876.21 346.397 L1876.21 352.438 Q1872.78 353.897 1869.17 354.661 Q1865.55 355.424 1861.84 355.424 Q1852.53 355.424 1847.08 350.008 Q1841.67 344.591 1841.67 335.355 Q1841.67 325.807 1846.81 320.216 Q1851.98 314.591 1860.73 314.591 Q1868.58 314.591 1873.12 319.661 Q1877.71 324.695 1877.71 333.376 M1871.32 331.501 Q1871.25 326.258 1868.37 323.133 Q1865.52 320.008 1860.8 320.008 Q1855.45 320.008 1852.22 323.029 Q1849.03 326.05 1848.54 331.536 L1871.32 331.501 Z\" fill=\"#000000\" fill-rule=\"evenodd\" fill-opacity=\"1\" /><path clip-path=\"url(#clip360)\" d=\"M1916.11 335.008 Q1916.11 327.959 1913.19 323.966 Q1910.31 319.939 1905.24 319.939 Q1900.17 319.939 1897.26 323.966 Q1894.37 327.959 1894.37 335.008 Q1894.37 342.057 1897.26 346.084 Q1900.17 350.077 1905.24 350.077 Q1910.31 350.077 1913.19 346.084 Q1916.11 342.057 1916.11 335.008 M1894.37 321.432 Q1896.39 317.959 1899.44 316.293 Q1902.53 314.591 1906.8 314.591 Q1913.89 314.591 1918.3 320.216 Q1922.74 325.841 1922.74 335.008 Q1922.74 344.175 1918.3 349.8 Q1913.89 355.424 1906.8 355.424 Q1902.53 355.424 1899.44 353.758 Q1896.39 352.056 1894.37 348.584 L1894.37 354.418 L1887.95 354.418 L1887.95 300.39 L1894.37 300.39 L1894.37 321.432 Z\" fill=\"#000000\" fill-rule=\"evenodd\" fill-opacity=\"1\" /><path clip-path=\"url(#clip360)\" d=\"M1949.51 358.029 Q1946.8 364.973 1944.24 367.091 Q1941.67 369.209 1937.36 369.209 L1932.26 369.209 L1932.26 363.862 L1936.01 363.862 Q1938.64 363.862 1940.1 362.612 Q1941.56 361.362 1943.33 356.709 L1944.48 353.793 L1928.75 315.529 L1935.52 315.529 L1947.67 345.945 L1959.83 315.529 L1966.6 315.529 L1949.51 358.029 Z\" fill=\"#000000\" fill-rule=\"evenodd\" fill-opacity=\"1\" /><path clip-path=\"url(#clip360)\" d=\"M2000.21 316.675 L2000.21 322.716 Q1997.5 321.327 1994.58 320.633 Q1991.67 319.939 1988.54 319.939 Q1983.78 319.939 1981.39 321.397 Q1979.03 322.855 1979.03 325.772 Q1979.03 327.994 1980.73 329.279 Q1982.43 330.529 1987.57 331.675 L1989.76 332.161 Q1996.56 333.619 1999.41 336.293 Q2002.29 338.932 2002.29 343.688 Q2002.29 349.105 1997.98 352.265 Q1993.71 355.424 1986.21 355.424 Q1983.09 355.424 1979.69 354.799 Q1976.32 354.209 1972.57 352.994 L1972.57 346.397 Q1976.11 348.237 1979.55 349.175 Q1982.98 350.077 1986.35 350.077 Q1990.87 350.077 1993.3 348.55 Q1995.73 346.987 1995.73 344.175 Q1995.73 341.57 1993.96 340.182 Q1992.22 338.793 1986.28 337.508 L1984.06 336.987 Q1978.12 335.737 1975.48 333.168 Q1972.85 330.564 1972.85 326.05 Q1972.85 320.564 1976.73 317.577 Q1980.62 314.591 1987.78 314.591 Q1991.32 314.591 1994.44 315.112 Q1997.57 315.633 2000.21 316.675 Z\" fill=\"#000000\" fill-rule=\"evenodd\" fill-opacity=\"1\" /><path clip-path=\"url(#clip360)\" d=\"M2044.79 330.945 L2044.79 354.418 L2038.4 354.418 L2038.4 331.154 Q2038.4 325.633 2036.25 322.89 Q2034.1 320.147 2029.79 320.147 Q2024.62 320.147 2021.63 323.445 Q2018.64 326.744 2018.64 332.439 L2018.64 354.418 L2012.22 354.418 L2012.22 300.39 L2018.64 300.39 L2018.64 321.571 Q2020.94 318.064 2024.03 316.327 Q2027.15 314.591 2031.21 314.591 Q2037.92 314.591 2041.35 318.758 Q2044.79 322.89 2044.79 330.945 Z\" fill=\"#000000\" fill-rule=\"evenodd\" fill-opacity=\"1\" /><path clip-path=\"url(#clip360)\" d=\"M2090.8 333.376 L2090.8 336.501 L2061.42 336.501 Q2061.84 343.098 2065.38 346.57 Q2068.96 350.008 2075.31 350.008 Q2078.99 350.008 2082.43 349.105 Q2085.9 348.202 2089.3 346.397 L2089.3 352.438 Q2085.87 353.897 2082.26 354.661 Q2078.64 355.424 2074.93 355.424 Q2065.62 355.424 2060.17 350.008 Q2054.76 344.591 2054.76 335.355 Q2054.76 325.807 2059.89 320.216 Q2065.07 314.591 2073.82 314.591 Q2081.66 314.591 2086.21 319.661 Q2090.8 324.695 2090.8 333.376 M2084.41 331.501 Q2084.34 326.258 2081.46 323.133 Q2078.61 320.008 2073.89 320.008 Q2068.54 320.008 2065.31 323.029 Q2062.12 326.05 2061.63 331.536 L2084.41 331.501 Z\" fill=\"#000000\" fill-rule=\"evenodd\" fill-opacity=\"1\" /><path clip-path=\"url(#clip360)\" d=\"M2096.7 315.529 L2103.47 315.529 L2115.62 348.168 L2127.78 315.529 L2134.55 315.529 L2119.96 354.418 L2111.28 354.418 L2096.7 315.529 Z\" fill=\"#000000\" fill-rule=\"evenodd\" fill-opacity=\"1\" /><path clip-path=\"url(#clip360)\" d=\"M2185.66 300.39 L2185.66 305.703 L2179.55 305.703 Q2176.11 305.703 2174.75 307.091 Q2173.44 308.48 2173.44 312.091 L2173.44 315.529 L2183.96 315.529 L2183.96 320.494 L2173.44 320.494 L2173.44 354.418 L2167.01 354.418 L2167.01 320.494 L2160.9 320.494 L2160.9 315.529 L2167.01 315.529 L2167.01 312.821 Q2167.01 306.328 2170.03 303.376 Q2173.05 300.39 2179.62 300.39 L2185.66 300.39 Z\" fill=\"#000000\" fill-rule=\"evenodd\" fill-opacity=\"1\" /><path clip-path=\"url(#clip360)\" d=\"M2191 315.529 L2197.39 315.529 L2197.39 354.418 L2191 354.418 L2191 315.529 M2191 300.39 L2197.39 300.39 L2197.39 308.48 L2191 308.48 L2191 300.39 Z\" fill=\"#000000\" fill-rule=\"evenodd\" fill-opacity=\"1\" /><path clip-path=\"url(#clip360)\" d=\"M2217.08 304.487 L2217.08 315.529 L2230.24 315.529 L2230.24 320.494 L2217.08 320.494 L2217.08 341.605 Q2217.08 346.362 2218.37 347.716 Q2219.68 349.07 2223.68 349.07 L2230.24 349.07 L2230.24 354.418 L2223.68 354.418 Q2216.28 354.418 2213.47 351.675 Q2210.66 348.897 2210.66 341.605 L2210.66 320.494 L2205.97 320.494 L2205.97 315.529 L2210.66 315.529 L2210.66 304.487 L2217.08 304.487 Z\" fill=\"#000000\" fill-rule=\"evenodd\" fill-opacity=\"1\" /><polyline clip-path=\"url(#clip360)\" style=\"stroke:#c271d2; stroke-linecap:butt; stroke-linejoin:round; stroke-width:6; stroke-opacity:1; fill:none\" points=\"\n",
       "  1575.49,406.258 1722.51,406.258 \n",
       "  \"/>\n",
       "<path clip-path=\"url(#clip360)\" d=\"M1771.6 407.872 Q1773.85 408.636 1775.97 411.136 Q1778.12 413.636 1780.28 418.011 L1787.4 432.178 L1779.86 432.178 L1773.23 418.879 Q1770.66 413.671 1768.23 411.969 Q1765.83 410.268 1761.67 410.268 L1754.03 410.268 L1754.03 432.178 L1747.01 432.178 L1747.01 380.338 L1762.85 380.338 Q1771.74 380.338 1776.11 384.053 Q1780.49 387.768 1780.49 395.268 Q1780.49 400.164 1778.19 403.393 Q1775.94 406.622 1771.6 407.872 M1754.03 386.101 L1754.03 404.504 L1762.85 404.504 Q1767.92 404.504 1770.49 402.178 Q1773.09 399.817 1773.09 395.268 Q1773.09 390.719 1770.49 388.428 Q1767.92 386.101 1762.85 386.101 L1754.03 386.101 Z\" fill=\"#000000\" fill-rule=\"evenodd\" fill-opacity=\"1\" /><path clip-path=\"url(#clip360)\" d=\"M1812.26 412.629 Q1804.51 412.629 1801.53 414.4 Q1798.54 416.171 1798.54 420.442 Q1798.54 423.844 1800.76 425.858 Q1803.02 427.837 1806.87 427.837 Q1812.19 427.837 1815.38 424.087 Q1818.61 420.303 1818.61 414.053 L1818.61 412.629 L1812.26 412.629 M1825 409.99 L1825 432.178 L1818.61 432.178 L1818.61 426.275 Q1816.42 429.816 1813.16 431.518 Q1809.9 433.184 1805.17 433.184 Q1799.2 433.184 1795.66 429.851 Q1792.15 426.483 1792.15 420.858 Q1792.15 414.296 1796.53 410.962 Q1800.94 407.629 1809.65 407.629 L1818.61 407.629 L1818.61 407.004 Q1818.61 402.594 1815.69 400.199 Q1812.81 397.768 1807.57 397.768 Q1804.24 397.768 1801.08 398.567 Q1797.92 399.365 1795 400.962 L1795 395.06 Q1798.51 393.706 1801.81 393.046 Q1805.1 392.351 1808.23 392.351 Q1816.67 392.351 1820.83 396.726 Q1825 401.101 1825 409.99 Z\" fill=\"#000000\" fill-rule=\"evenodd\" fill-opacity=\"1\" /><path clip-path=\"url(#clip360)\" d=\"M1844.48 382.247 L1844.48 393.289 L1857.64 393.289 L1857.64 398.254 L1844.48 398.254 L1844.48 419.365 Q1844.48 424.122 1845.76 425.476 Q1847.08 426.83 1851.08 426.83 L1857.64 426.83 L1857.64 432.178 L1851.08 432.178 Q1843.68 432.178 1840.87 429.435 Q1838.06 426.657 1838.06 419.365 L1838.06 398.254 L1833.37 398.254 L1833.37 393.289 L1838.06 393.289 L1838.06 382.247 L1844.48 382.247 Z\" fill=\"#000000\" fill-rule=\"evenodd\" fill-opacity=\"1\" /><path clip-path=\"url(#clip360)\" d=\"M1866.04 393.289 L1872.43 393.289 L1872.43 432.178 L1866.04 432.178 L1866.04 393.289 M1866.04 378.15 L1872.43 378.15 L1872.43 386.24 L1866.04 386.24 L1866.04 378.15 Z\" fill=\"#000000\" fill-rule=\"evenodd\" fill-opacity=\"1\" /><path clip-path=\"url(#clip360)\" d=\"M1900.87 397.768 Q1895.73 397.768 1892.74 401.796 Q1889.76 405.789 1889.76 412.768 Q1889.76 419.747 1892.71 423.775 Q1895.69 427.768 1900.87 427.768 Q1905.97 427.768 1908.96 423.74 Q1911.94 419.712 1911.94 412.768 Q1911.94 405.858 1908.96 401.83 Q1905.97 397.768 1900.87 397.768 M1900.87 392.351 Q1909.2 392.351 1913.96 397.768 Q1918.71 403.185 1918.71 412.768 Q1918.71 422.316 1913.96 427.768 Q1909.2 433.184 1900.87 433.184 Q1892.5 433.184 1887.74 427.768 Q1883.02 422.316 1883.02 412.768 Q1883.02 403.185 1887.74 397.768 Q1892.5 392.351 1900.87 392.351 Z\" fill=\"#000000\" fill-rule=\"evenodd\" fill-opacity=\"1\" /><path clip-path=\"url(#clip360)\" d=\"M1961.63 408.705 L1961.63 432.178 L1955.24 432.178 L1955.24 408.914 Q1955.24 403.393 1953.09 400.65 Q1950.94 397.907 1946.63 397.907 Q1941.46 397.907 1938.47 401.205 Q1935.49 404.504 1935.49 410.199 L1935.49 432.178 L1929.06 432.178 L1929.06 393.289 L1935.49 393.289 L1935.49 399.331 Q1937.78 395.824 1940.87 394.087 Q1943.99 392.351 1948.05 392.351 Q1954.76 392.351 1958.19 396.518 Q1961.63 400.65 1961.63 408.705 Z\" fill=\"#000000\" fill-rule=\"evenodd\" fill-opacity=\"1\" /><path clip-path=\"url(#clip360)\" d=\"M1992.05 412.629 Q1984.3 412.629 1981.32 414.4 Q1978.33 416.171 1978.33 420.442 Q1978.33 423.844 1980.55 425.858 Q1982.81 427.837 1986.67 427.837 Q1991.98 427.837 1995.17 424.087 Q1998.4 420.303 1998.4 414.053 L1998.4 412.629 L1992.05 412.629 M2004.79 409.99 L2004.79 432.178 L1998.4 432.178 L1998.4 426.275 Q1996.21 429.816 1992.95 431.518 Q1989.69 433.184 1984.96 433.184 Q1978.99 433.184 1975.45 429.851 Q1971.94 426.483 1971.94 420.858 Q1971.94 414.296 1976.32 410.962 Q1980.73 407.629 1989.44 407.629 L1998.4 407.629 L1998.4 407.004 Q1998.4 402.594 1995.48 400.199 Q1992.6 397.768 1987.36 397.768 Q1984.03 397.768 1980.87 398.567 Q1977.71 399.365 1974.79 400.962 L1974.79 395.06 Q1978.3 393.706 1981.6 393.046 Q1984.89 392.351 1988.02 392.351 Q1996.46 392.351 2000.62 396.726 Q2004.79 401.101 2004.79 409.99 Z\" fill=\"#000000\" fill-rule=\"evenodd\" fill-opacity=\"1\" /><path clip-path=\"url(#clip360)\" d=\"M2017.95 378.15 L2024.34 378.15 L2024.34 432.178 L2017.95 432.178 L2017.95 378.15 Z\" fill=\"#000000\" fill-rule=\"evenodd\" fill-opacity=\"1\" /><path clip-path=\"url(#clip360)\" d=\"M2080 378.15 L2080 383.463 L2073.89 383.463 Q2070.45 383.463 2069.1 384.851 Q2067.78 386.24 2067.78 389.851 L2067.78 393.289 L2078.3 393.289 L2078.3 398.254 L2067.78 398.254 L2067.78 432.178 L2061.35 432.178 L2061.35 398.254 L2055.24 398.254 L2055.24 393.289 L2061.35 393.289 L2061.35 390.581 Q2061.35 384.088 2064.37 381.136 Q2067.39 378.15 2073.96 378.15 L2080 378.15 Z\" fill=\"#000000\" fill-rule=\"evenodd\" fill-opacity=\"1\" /><path clip-path=\"url(#clip360)\" d=\"M2085.35 393.289 L2091.73 393.289 L2091.73 432.178 L2085.35 432.178 L2085.35 393.289 M2085.35 378.15 L2091.73 378.15 L2091.73 386.24 L2085.35 386.24 L2085.35 378.15 Z\" fill=\"#000000\" fill-rule=\"evenodd\" fill-opacity=\"1\" /><path clip-path=\"url(#clip360)\" d=\"M2111.42 382.247 L2111.42 393.289 L2124.58 393.289 L2124.58 398.254 L2111.42 398.254 L2111.42 419.365 Q2111.42 424.122 2112.71 425.476 Q2114.03 426.83 2118.02 426.83 L2124.58 426.83 L2124.58 432.178 L2118.02 432.178 Q2110.62 432.178 2107.81 429.435 Q2105 426.657 2105 419.365 L2105 398.254 L2100.31 398.254 L2100.31 393.289 L2105 393.289 L2105 382.247 L2111.42 382.247 Z\" fill=\"#000000\" fill-rule=\"evenodd\" fill-opacity=\"1\" /></svg>\n"
      ]
     },
     "execution_count": 88,
     "metadata": {},
     "output_type": "execute_result"
    }
   ],
   "source": [
    "scatter(x, y)\n",
    "V = vander_chebyshev(x, 20)\n",
    "plot!(x -> runge(x), color=:black, label=\"Runge\")\n",
    "plot!(x, V * (V \\ y), label=\"Chebyshev fit\")\n",
    "plot!(x -> f(x, c), label=\"Rational fit\")"
   ]
  },
  {
   "cell_type": "markdown",
   "id": "f24ddf56",
   "metadata": {
    "slideshow": {
     "slide_type": "slide"
    }
   },
   "source": [
    "# How do we compute those derivatives as the model gets complicated?"
   ]
  },
  {
   "cell_type": "markdown",
   "id": "2a6b77fe",
   "metadata": {
    "slideshow": {
     "slide_type": "fragment"
    }
   },
   "source": [
    "$$\\lim_{h\\to 0} \\frac{f(x+h) - f(x)}{h}$$"
   ]
  },
  {
   "cell_type": "markdown",
   "id": "233b645b",
   "metadata": {
    "slideshow": {
     "slide_type": "fragment"
    }
   },
   "source": [
    "* How should we choose $h$?"
   ]
  },
  {
   "cell_type": "markdown",
   "id": "7d4ea33c",
   "metadata": {
    "slideshow": {
     "slide_type": "slide"
    }
   },
   "source": [
    "# Taylor series\n",
    "\n",
    "Classical accuracy analysis assumes that functions are sufficiently smooth, meaning that derivatives exist and Taylor expansions are valid within a neighborhood.  In particular,\n",
    "$$ f(x+h) = f(x) + f'(x) h + f''(x) \\frac{h^2}{2!} + \\underbrace{f'''(x) \\frac{h^3}{3!} + \\dotsb}_{O(h^3)} . $$\n",
    "\n",
    "The big-$O$ notation is meant in the limit $h\\to 0$.  Specifically, a function $g(h) \\in O(h^p)$ (sometimes written $g(h) = O(h^p)$) when\n",
    "there exists a constant $C$ such that\n",
    "$$ g(h) \\le C h^p $$\n",
    "for all sufficiently *small* $h$."
   ]
  },
  {
   "cell_type": "markdown",
   "id": "3b471362",
   "metadata": {
    "slideshow": {
     "slide_type": "slide"
    }
   },
   "source": [
    "# Rounding error\n",
    "\n",
    "We have an additional source of error, *rounding error*, which comes from not being able to compute $f(x)$ or $f(x+h)$ exactly, nor subtract them exactly.  Suppose that we can, however, compute these functions with a relative error on the order of $\\epsilon_{\\text{machine}}$.  This leads to\n",
    "$$ \\begin{split}\n",
    "\\tilde f(x) &= f(x)(1 + \\epsilon_1) \\\\\n",
    "\\tilde f(x \\oplus h) &= \\tilde f((x+h)(1 + \\epsilon_2)) \\\\\n",
    "&= f((x + h)(1 + \\epsilon_2))(1 + \\epsilon_3) \\\\\n",
    "&= [f(x+h) + f'(x+h)(x+h)\\epsilon_2 + O(\\epsilon_2^2)](1 + \\epsilon_3) \\\\\n",
    "&= f(x+h)(1 + \\epsilon_3) + f'(x+h)x\\epsilon_2 + O(\\epsilon_{\\text{machine}}^2 + \\epsilon_{\\text{machine}} h)\n",
    "\\end{split}\n",
    "$$"
   ]
  },
  {
   "cell_type": "markdown",
   "id": "fac52f0e",
   "metadata": {
    "slideshow": {
     "slide_type": "slide"
    }
   },
   "source": [
    "# Tedious error propagation\n",
    "$$ \\begin{split}\n",
    "\\left\\lvert \\frac{\\tilde f(x+h) \\ominus \\tilde f(x)}{h} - \\frac{f(x+h) - f(x)}{h} \\right\\rvert &=\n",
    "  \\left\\lvert \\frac{f(x+h)(1 + \\epsilon_3) + f'(x+h)x\\epsilon_2 + O(\\epsilon_{\\text{machine}}^2 + \\epsilon_{\\text{machine}} h) - f(x)(1 + \\epsilon_1) - f(x+h) + f(x)}{h} \\right\\rvert \\\\\n",
    "  &\\le \\frac{|f(x+h)\\epsilon_3| + |f'(x+h)x\\epsilon_2| + |f(x)\\epsilon_1| + O(\\epsilon_{\\text{machine}}^2 + \\epsilon_{\\text{machine}}h)}{h} \\\\\n",
    "  &\\le \\frac{(2 \\max_{[x,x+h]} |f| + \\max_{[x,x+h]} |f' x| \\epsilon_{\\text{machine}} + O(\\epsilon_{\\text{machine}}^2 + \\epsilon_{\\text{machine}} h)}{h} \\\\\n",
    "  &= (2\\max|f| + \\max|f'x|) \\frac{\\epsilon_{\\text{machine}}}{h} + O(\\epsilon_{\\text{machine}}) \\\\\n",
    "\\end{split} $$\n",
    "where we have assumed that $h \\ge \\epsilon_{\\text{machine}}$.\n",
    "This error becomes large (relative to $f'$ -- we are concerned with relative error after all)\n",
    "* $f$ is large compared to $f'$\n",
    "* $x$ is large\n",
    "* $h$ is too small"
   ]
  },
  {
   "cell_type": "markdown",
   "id": "1bbbd745",
   "metadata": {
    "slideshow": {
     "slide_type": "slide"
    }
   },
   "source": [
    "# Automatic step size selection\n",
    "\n",
    "* Walker and Pernice\n",
    "* Dennis and Schnabel"
   ]
  },
  {
   "cell_type": "code",
   "execution_count": 91,
   "id": "94296d94",
   "metadata": {
    "cell_style": "center",
    "slideshow": {
     "slide_type": ""
    }
   },
   "outputs": [
    {
     "data": {
      "text/plain": [
       "-2.9698852266335507e-9"
      ]
     },
     "execution_count": 91,
     "metadata": {},
     "output_type": "execute_result"
    }
   ],
   "source": [
    "diff(f, x; h=1e-8) = (f(x+h) - f(x)) / h\n",
    "\n",
    "function diff_wp(f, x; eps=1e-8)\n",
    "    \"\"\"Diff using Walker and Pernice (1998) choice of step\"\"\"\n",
    "    h = eps * (1 + abs(x))\n",
    "    (f(x+h) - f(x)) / h\n",
    "end\n",
    "\n",
    "x = 1\n",
    "diff_wp(sin, x) - cos(x)"
   ]
  },
  {
   "cell_type": "markdown",
   "id": "001e124a",
   "metadata": {
    "slideshow": {
     "slide_type": "slide"
    }
   },
   "source": [
    "# Symbolic differentiation"
   ]
  },
  {
   "cell_type": "code",
   "execution_count": 92,
   "id": "66a60312",
   "metadata": {
    "cell_style": "split"
   },
   "outputs": [
    {
     "data": {
      "text/latex": [
       "\\begin{equation}\n",
       "\\frac{dsin(x)}{dx}\n",
       "\\end{equation}\n"
      ],
      "text/plain": [
       "Differential(x)(sin(x))"
      ]
     },
     "execution_count": 92,
     "metadata": {},
     "output_type": "execute_result"
    }
   ],
   "source": [
    "using Symbolics\n",
    "\n",
    "@variables x\n",
    "Dx = Differential(x)\n",
    "\n",
    "y = sin(x)\n",
    "Dx(y)"
   ]
  },
  {
   "cell_type": "code",
   "execution_count": 93,
   "id": "51841c1f",
   "metadata": {
    "cell_style": "split"
   },
   "outputs": [
    {
     "data": {
      "text/latex": [
       "\\begin{equation}\n",
       "\\cos\\left( x \\right)\n",
       "\\end{equation}\n"
      ],
      "text/plain": [
       "cos(x)"
      ]
     },
     "execution_count": 93,
     "metadata": {},
     "output_type": "execute_result"
    }
   ],
   "source": [
    "expand_derivatives(Dx(y))"
   ]
  },
  {
   "cell_type": "markdown",
   "id": "78a21b01",
   "metadata": {
    "slideshow": {
     "slide_type": "slide"
    }
   },
   "source": [
    "# Awesome, what about products?"
   ]
  },
  {
   "cell_type": "code",
   "execution_count": 96,
   "id": "247c4d85",
   "metadata": {},
   "outputs": [
    {
     "data": {
      "text/latex": [
       "\\begin{equation}\n",
       "\\frac{\\left( \\frac{\\left( \\frac{\\cos\\left( x^{\\pi} \\right)}{x} - 3.141592653589793 x^{2.141592653589793} \\log\\left( x \\right) \\sin\\left( x^{\\pi} \\right) \\right) \\cos\\left( \\cos^{3.141592653589793}\\left( x^{\\pi} \\right) \\left( \\log\\left( x \\right) \\right)^{3.141592653589793} \\right)}{\\cos\\left( x^{\\pi} \\right) \\log\\left( x \\right)} - \\left( \\frac{3.141592653589793 \\cos^{3.141592653589793}\\left( x^{\\pi} \\right) \\left( \\log\\left( x \\right) \\right)^{2.141592653589793}}{x} - 9.869604401089358 \\cos^{2.141592653589793}\\left( x^{\\pi} \\right) \\left( \\log\\left( x \\right) \\right)^{3.141592653589793} x^{2.141592653589793} \\sin\\left( x^{\\pi} \\right) \\right) \\sin\\left( \\cos^{3.141592653589793}\\left( x^{\\pi} \\right) \\left( \\log\\left( x \\right) \\right)^{3.141592653589793} \\right) \\log\\left( \\log\\left( x \\right) \\cos\\left( x^{\\pi} \\right) \\right) \\right) \\cos\\left( \\left( \\log\\left( \\log\\left( x \\right) \\cos\\left( x^{\\pi} \\right) \\right) \\right)^{3.141592653589793} \\cos^{3.141592653589793}\\left( \\cos^{3.141592653589793}^{3.141592653589793}\\left( x^{\\pi} \\right) \\left( \\log\\left( x \\right) \\right)^{3.141592653589793} \\right) \\right)}{\\log\\left( \\log\\left( x \\right) \\cos\\left( x^{\\pi} \\right) \\right) \\cos\\left( \\cos^{3.141592653589793}\\left( x^{\\pi} \\right) \\left( \\log\\left( x \\right) \\right)^{3.141592653589793} \\right)} - \\left(  - 3.141592653589793 \\left( \\log\\left( \\log\\left( x \\right) \\cos\\left( x^{\\pi} \\right) \\right) \\right)^{3.141592653589793} \\cos^{2.141592653589793}\\left( \\cos^{2.141592653589793}^{3.141592653589793}\\left( x^{\\pi} \\right) \\left( \\log\\left( x \\right) \\right)^{3.141592653589793} \\right) \\left( \\frac{3.141592653589793 \\cos^{3.141592653589793}\\left( x^{\\pi} \\right) \\left( \\log\\left( x \\right) \\right)^{2.141592653589793}}{x} - 9.869604401089358 \\cos^{2.141592653589793}\\left( x^{\\pi} \\right) \\left( \\log\\left( x \\right) \\right)^{3.141592653589793} x^{2.141592653589793} \\sin\\left( x^{\\pi} \\right) \\right) \\sin\\left( \\cos^{3.141592653589793}\\left( x^{\\pi} \\right) \\left( \\log\\left( x \\right) \\right)^{3.141592653589793} \\right) + \\frac{3.141592653589793 \\left( \\log\\left( \\log\\left( x \\right) \\cos\\left( x^{\\pi} \\right) \\right) \\right)^{2.141592653589793} \\cos^{3.141592653589793}\\left( \\cos^{3.141592653589793}^{3.141592653589793}\\left( x^{\\pi} \\right) \\left( \\log\\left( x \\right) \\right)^{3.141592653589793} \\right) \\left( \\frac{\\cos\\left( x^{\\pi} \\right)}{x} - 3.141592653589793 x^{2.141592653589793} \\log\\left( x \\right) \\sin\\left( x^{\\pi} \\right) \\right)}{\\cos\\left( x^{\\pi} \\right) \\log\\left( x \\right)} \\right) \\sin\\left( \\left( \\log\\left( \\log\\left( x \\right) \\cos\\left( x^{\\pi} \\right) \\right) \\right)^{3.141592653589793} \\cos^{3.141592653589793}\\left( \\cos^{3.141592653589793}^{3.141592653589793}\\left( x^{\\pi} \\right) \\left( \\log\\left( x \\right) \\right)^{3.141592653589793} \\right) \\right) \\log\\left( \\cos\\left( \\cos^{3.141592653589793}\\left( x^{\\pi} \\right) \\left( \\log\\left( x \\right) \\right)^{3.141592653589793} \\right) \\log\\left( \\log\\left( x \\right) \\cos\\left( x^{\\pi} \\right) \\right) \\right)\n",
       "\\end{equation}\n"
      ],
      "text/plain": [
       "(((x^-1)*cos(x^π) - 3.141592653589793(x^2.141592653589793)*log(x)*sin(x^π))*(log(x)^-1)*(cos(x^π)^-1)*cos((log(x)^3.141592653589793)*(cos(x^π)^3.141592653589793)) - (3.141592653589793(x^-1)*(log(x)^2.141592653589793)*(cos(x^π)^3.141592653589793) - 9.869604401089358(x^2.141592653589793)*(log(x)^3.141592653589793)*(cos(x^π)^2.141592653589793)*sin(x^π))*sin((log(x)^3.141592653589793)*(cos(x^π)^3.141592653589793))*log(log(x)*cos(x^π)))*(cos((log(x)^3.141592653589793)*(cos(x^π)^3.141592653589793))^-1)*(log(log(x)*cos(x^π))^-1)*cos((cos((log(x)^3.141592653589793)*(cos(x^π)^3.141592653589793))^3.141592653589793)*(log(log(x)*cos(x^π))^3.141592653589793)) - (3.141592653589793((x^-1)*cos(x^π) - 3.141592653589793(x^2.141592653589793)*log(x)*sin(x^π))*(log(x)^-1)*(cos(x^π)^-1)*(cos((log(x)^3.141592653589793)*(cos(x^π)^3.141592653589793))^3.141592653589793)*(log(log(x)*cos(x^π))^2.141592653589793) - 3.141592653589793(3.141592653589793(x^-1)*(log(x)^2.141592653589793)*(cos(x^π)^3.141592653589793) - 9.869604401089358(x^2.141592653589793)*(log(x)^3.141592653589793)*(cos(x^π)^2.141592653589793)*sin(x^π))*(cos((log(x)^3.141592653589793)*(cos(x^π)^3.141592653589793))^2.141592653589793)*(log(log(x)*cos(x^π))^3.141592653589793)*sin((log(x)^3.141592653589793)*(cos(x^π)^3.141592653589793)))*sin((cos((log(x)^3.141592653589793)*(cos(x^π)^3.141592653589793))^3.141592653589793)*(log(log(x)*cos(x^π))^3.141592653589793))*log(cos((log(x)^3.141592653589793)*(cos(x^π)^3.141592653589793))*log(log(x)*cos(x^π)))"
      ]
     },
     "execution_count": 96,
     "metadata": {},
     "output_type": "execute_result"
    }
   ],
   "source": [
    "y = x\n",
    "for _ in 1:3\n",
    "    y = cos(y^pi) * log(y)\n",
    "end\n",
    "expand_derivatives(Dx(y))"
   ]
  },
  {
   "cell_type": "markdown",
   "id": "ac1b80f6",
   "metadata": {
    "slideshow": {
     "slide_type": "fragment"
    }
   },
   "source": [
    "* The size of these expressions can grow **exponentially**"
   ]
  },
  {
   "cell_type": "markdown",
   "id": "79a814a6",
   "metadata": {
    "slideshow": {
     "slide_type": "slide"
    }
   },
   "source": [
    "# Hand-coding derivatives\n",
    "\n",
    "$$ df = f'(x) dx $$"
   ]
  },
  {
   "cell_type": "code",
   "execution_count": 15,
   "id": "7c27ac54",
   "metadata": {
    "cell_style": "split"
   },
   "outputs": [
    {
     "data": {
      "text/plain": [
       "(-1.5346823414986814, -34.032439961925064)"
      ]
     },
     "execution_count": 15,
     "metadata": {},
     "output_type": "execute_result"
    }
   ],
   "source": [
    "function f(x)\n",
    "    y = x\n",
    "    for _ in 1:2\n",
    "        a = y^pi\n",
    "        b = cos(a)\n",
    "        c = log(y)\n",
    "        y = b * c\n",
    "    end\n",
    "    y\n",
    "end\n",
    "\n",
    "f(1.9), diff_wp(f, 1.9)"
   ]
  },
  {
   "cell_type": "code",
   "execution_count": 23,
   "id": "8527e788",
   "metadata": {
    "cell_style": "split",
    "slideshow": {
     "slide_type": "fragment"
    }
   },
   "outputs": [
    {
     "data": {
      "text/plain": [
       "(-1.5346823414986814, -34.03241959914048)"
      ]
     },
     "execution_count": 23,
     "metadata": {},
     "output_type": "execute_result"
    }
   ],
   "source": [
    "function df(x, dx)\n",
    "    y = x\n",
    "    dy = dx\n",
    "    for _ in 1:2\n",
    "        a = y ^ pi\n",
    "        da = pi * y^(pi - 1) * dy\n",
    "\n",
    "        \n",
    "    end\n",
    "    y, dy\n",
    "end\n",
    "\n",
    "df(1.9, 1)"
   ]
  },
  {
   "cell_type": "markdown",
   "id": "ebe488cc",
   "metadata": {
    "slideshow": {
     "slide_type": "slide"
    }
   },
   "source": [
    "# We can go the other way\n",
    "\n",
    "We can differentiate a composition $h(g(f(x)))$ as\n",
    "\n",
    "\\begin{align}\n",
    "  \\operatorname{d} h &= h' \\operatorname{d} g \\\\\n",
    "  \\operatorname{d} g &= g' \\operatorname{d} f \\\\\n",
    "  \\operatorname{d} f &= f' \\operatorname{d} x.\n",
    "\\end{align}\n",
    "\n",
    "What we've done above is called \"forward mode\", and amounts to placing the parentheses in the chain rule like\n",
    "\n",
    "$$ \\operatorname d h = \\frac{dh}{dg} \\left(\\frac{dg}{df} \\left(\\frac{df}{dx} \\operatorname d x \\right) \\right) .$$\n",
    "\n",
    "The expression means the same thing if we rearrange the parentheses,\n",
    "\n",
    "$$ \\operatorname d h = \\left( \\left( \\left( \\frac{dh}{dg} \\right) \\frac{dg}{df} \\right) \\frac{df}{dx} \\right) \\operatorname d x .$$"
   ]
  },
  {
   "cell_type": "markdown",
   "id": "971729c9",
   "metadata": {
    "slideshow": {
     "slide_type": "slide"
    }
   },
   "source": [
    "# Automatic differentiation"
   ]
  },
  {
   "cell_type": "code",
   "execution_count": 18,
   "id": "d3d2f01f",
   "metadata": {},
   "outputs": [
    {
     "name": "stderr",
     "output_type": "stream",
     "text": [
      "WARNING: using Zygote.gradient in module Main conflicts with an existing identifier.\n"
     ]
    }
   ],
   "source": [
    "using Zygote"
   ]
  },
  {
   "cell_type": "code",
   "execution_count": 19,
   "id": "b0289826",
   "metadata": {},
   "outputs": [
    {
     "data": {
      "text/plain": [
       "(-34.03241959914049,)"
      ]
     },
     "execution_count": 19,
     "metadata": {},
     "output_type": "execute_result"
    }
   ],
   "source": [
    "Zygote.gradient(f, 1.9)"
   ]
  },
  {
   "cell_type": "markdown",
   "id": "c01a4ea4",
   "metadata": {
    "slideshow": {
     "slide_type": "slide"
    }
   },
   "source": [
    "# How does Zygote work?"
   ]
  },
  {
   "cell_type": "code",
   "execution_count": 26,
   "id": "443c9a8f",
   "metadata": {
    "cell_style": "split"
   },
   "outputs": [
    {
     "name": "stdout",
     "output_type": "stream",
     "text": [
      "\u001b[90m;  @ In[26]:1 within `square`\u001b[39m\n",
      "\u001b[95mdefine\u001b[39m \u001b[36mdouble\u001b[39m \u001b[93m@julia_square_11120\u001b[39m\u001b[33m(\u001b[39m\u001b[36mdouble\u001b[39m \u001b[0m%0\u001b[33m)\u001b[39m \u001b[0m#0 \u001b[33m{\u001b[39m\n",
      "\u001b[91mtop:\u001b[39m\n",
      "\u001b[90m; ┌ @ intfuncs.jl:312 within `literal_pow`\u001b[39m\n",
      "\u001b[90m; │┌ @ float.jl:405 within `*`\u001b[39m\n",
      "    \u001b[0m%1 \u001b[0m= \u001b[96m\u001b[1mfmul\u001b[22m\u001b[39m \u001b[36mdouble\u001b[39m \u001b[0m%0\u001b[0m, \u001b[0m%0\n",
      "\u001b[90m; └└\u001b[39m\n",
      "  \u001b[96m\u001b[1mret\u001b[22m\u001b[39m \u001b[36mdouble\u001b[39m \u001b[0m%1\n",
      "\u001b[33m}\u001b[39m\n"
     ]
    }
   ],
   "source": [
    "square(x) = x^2\n",
    "@code_llvm square(1.5)"
   ]
  },
  {
   "cell_type": "code",
   "execution_count": 30,
   "id": "bee4c0a7",
   "metadata": {
    "cell_style": "split"
   },
   "outputs": [
    {
     "name": "stdout",
     "output_type": "stream",
     "text": [
      "\u001b[90m;  @ /home/jed/.julia/packages/Zygote/H6vD3/src/compiler/interface.jl:74 within `gradient`\u001b[39m\n",
      "\u001b[95mdefine\u001b[39m \u001b[33m[\u001b[39m\u001b[33m1\u001b[39m \u001b[0mx \u001b[36mdouble\u001b[39m\u001b[33m]\u001b[39m \u001b[93m@julia_gradient_11254\u001b[39m\u001b[33m(\u001b[39m\u001b[36mdouble\u001b[39m \u001b[0m%0\u001b[33m)\u001b[39m \u001b[0m#0 \u001b[33m{\u001b[39m\n",
      "\u001b[91mtop:\u001b[39m\n",
      "\u001b[90m;  @ /home/jed/.julia/packages/Zygote/H6vD3/src/compiler/interface.jl:76 within `gradient`\u001b[39m\n",
      "\u001b[90m; ┌ @ /home/jed/.julia/packages/Zygote/H6vD3/src/compiler/interface.jl:41 within `#56`\u001b[39m\n",
      "\u001b[90m; │┌ @ In[26]:1 within `Pullback`\u001b[39m\n",
      "\u001b[90m; ││┌ @ /home/jed/.julia/packages/ZygoteRules/AIbCs/src/adjoint.jl:67 within `#1822#back`\u001b[39m\n",
      "\u001b[90m; │││┌ @ /home/jed/.julia/packages/Zygote/H6vD3/src/lib/number.jl:6 within `#254`\u001b[39m\n",
      "\u001b[90m; ││││┌ @ promotion.jl:380 within `*` @ float.jl:405\u001b[39m\n",
      "       \u001b[0m%1 \u001b[0m= \u001b[96m\u001b[1mfmul\u001b[22m\u001b[39m \u001b[36mdouble\u001b[39m \u001b[0m%0\u001b[0m, \u001b[33m2.000000e+00\u001b[39m\n",
      "\u001b[90m; └└└└└\u001b[39m\n",
      "\u001b[90m;  @ /home/jed/.julia/packages/Zygote/H6vD3/src/compiler/interface.jl:77 within `gradient`\u001b[39m\n",
      "  \u001b[0m%.fca.0.insert \u001b[0m= \u001b[96m\u001b[1minsertvalue\u001b[22m\u001b[39m \u001b[33m[\u001b[39m\u001b[33m1\u001b[39m \u001b[0mx \u001b[36mdouble\u001b[39m\u001b[33m]\u001b[39m \u001b[95mzeroinitializer\u001b[39m\u001b[0m, \u001b[36mdouble\u001b[39m \u001b[0m%1\u001b[0m, \u001b[33m0\u001b[39m\n",
      "  \u001b[96m\u001b[1mret\u001b[22m\u001b[39m \u001b[33m[\u001b[39m\u001b[33m1\u001b[39m \u001b[0mx \u001b[36mdouble\u001b[39m\u001b[33m]\u001b[39m \u001b[0m%.fca.0.insert\n",
      "\u001b[33m}\u001b[39m\n"
     ]
    }
   ],
   "source": [
    "@code_llvm Zygote.gradient(square, 1.5)"
   ]
  }
 ],
 "metadata": {
  "@webio": {
   "lastCommId": null,
   "lastKernelId": null
  },
  "celltoolbar": "Slideshow",
  "hide_code_all_hidden": false,
  "kernelspec": {
   "display_name": "Julia 1.7.2",
   "language": "julia",
   "name": "julia-1.7"
  },
  "language_info": {
   "file_extension": ".jl",
   "mimetype": "application/julia",
   "name": "julia",
   "version": "1.7.2"
  },
  "rise": {
   "enable_chalkboard": true
  }
 },
 "nbformat": 4,
 "nbformat_minor": 5
}
