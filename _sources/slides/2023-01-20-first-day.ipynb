{
 "cells": [
  {
   "cell_type": "markdown",
   "id": "4159be0e",
   "metadata": {
    "slideshow": {
     "slide_type": "slide"
    }
   },
   "source": [
    "# 2023-01-20 First Day\n",
    "## Numerical Computation\n",
    "\n",
    "## Instructor: Jed Brown, jed.brown@colorado.edu, ECOT 824\n",
    "\n",
    "1. Who am I?\n",
    "2. What is this course about?\n",
    "3. How will it work?\n",
    "4. Discussion\n",
    "5. (maybe) First activity"
   ]
  },
  {
   "cell_type": "code",
   "execution_count": 1,
   "id": "0a9c9cd2",
   "metadata": {},
   "outputs": [],
   "source": [
    "using Plots\n",
    "default(linewidth=3, legendfontsize=12, xtickfontsize=12, ytickfontsize=12)"
   ]
  },
  {
   "cell_type": "markdown",
   "id": "0daceff0",
   "metadata": {
    "slideshow": {
     "slide_type": "slide"
    }
   },
   "source": [
    "# Positionality: Who am I?\n",
    "\n",
    "* Jed Brown (he/him); you can call me Jed\n",
    "* Math + Physics undergrad, MS Math, Dr.Sc. Environmental Engineering (Computational Glaciology)\n",
    "* Postdoc and staff at Argonne National Laboratory (DOE Office of Science)\n",
    "* CU since 2015\n",
    "* Maintainer of open source software like [PETSc](https://petsc.org) and [libCEED](https://libceed.org)\n",
    "* Cis-het white man (which unavoidably affects my experience in these spaces)"
   ]
  },
  {
   "cell_type": "markdown",
   "id": "ece03c41",
   "metadata": {
    "slideshow": {
     "slide_type": "slide"
    }
   },
   "source": [
    "## Physical Prediction, Inference, and Design Group\n",
    "* Develop and maintain open source libraries\n",
    "* Research in fast/parallel algorithms, extensible software\n",
    "* Partner with scientists and engineers in many disciplines: geoscience, aerospace, civil engineering, fusion\n",
    "* Listen, learn about computational bottlenecks, build technology and communities"
   ]
  },
  {
   "cell_type": "markdown",
   "id": "4321bd4a",
   "metadata": {
    "cell_style": "split"
   },
   "source": [
    "<video src=\"../img/ROPI_OutView.webm\" width=\"100%\" controls loop />"
   ]
  },
  {
   "cell_type": "markdown",
   "id": "0e67c8ac",
   "metadata": {
    "cell_style": "split"
   },
   "source": [
    "<video src=\"../img/schwarz-pendulum.webm\" width=\"90%\" controls loop />"
   ]
  },
  {
   "cell_type": "markdown",
   "id": "b1decb86",
   "metadata": {
    "slideshow": {
     "slide_type": "slide"
    }
   },
   "source": [
    "# Prerequisites"
   ]
  },
  {
   "cell_type": "markdown",
   "id": "0d6e6809",
   "metadata": {
    "cell_style": "split",
    "slideshow": {
     "slide_type": ""
    }
   },
   "source": [
    "## Calculus\n",
    "\n",
    "* Fundamental Theorem of Calculus\n",
    "* Differentiate and integrate polynomials\n",
    "* Taylor series\n",
    "* Gradients (we'll introduce and discuss)\n",
    "\n",
    "We won't use integral tricks (and any time you spent on that was a waste; sorry)"
   ]
  },
  {
   "cell_type": "markdown",
   "id": "008e0174",
   "metadata": {
    "cell_style": "split"
   },
   "source": [
    "## Linear Algebra\n",
    "\n",
    "* vector spaces, orthogonality\n",
    "* QR factorization\n",
    "* projectors, reflectors, and rotations (will teach)\n",
    "\n",
    "We'll never compute RREF or eigenvalues by hand (and any time you spent on that was a waste; sorry)"
   ]
  },
  {
   "cell_type": "markdown",
   "id": "7d4939f4",
   "metadata": {
    "slideshow": {
     "slide_type": "slide"
    }
   },
   "source": [
    "# What is Numerical Computation?"
   ]
  },
  {
   "cell_type": "markdown",
   "id": "c138664f",
   "metadata": {
    "cell_style": "split"
   },
   "source": [
    "From [Trefethen (1992)](https://people.maths.ox.ac.uk/trefethen/publication/PDF/1992_55.pdf)\n",
    "\n",
    "> Here is the wrong answer:\n",
    ">> Numerical analysis is the study of rounding errors."
   ]
  },
  {
   "cell_type": "markdown",
   "id": "8ea0f7cc",
   "metadata": {
    "cell_style": "split",
    "slideshow": {
     "slide_type": "fragment"
    }
   },
   "source": [
    "Trefethen goes on to propose\n",
    ">> Numerical analysis is the study of algorithms for the problems of continuous mathematics."
   ]
  },
  {
   "cell_type": "markdown",
   "id": "02de1e33",
   "metadata": {
    "slideshow": {
     "slide_type": "fragment"
    }
   },
   "source": [
    "> This stuff is like computer science meets calculus\n",
    ">\n",
    "> -- former student"
   ]
  },
  {
   "cell_type": "markdown",
   "id": "753f15fe",
   "metadata": {
    "cell_style": "split",
    "slideshow": {
     "slide_type": "slide"
    }
   },
   "source": [
    "# What is continuous mathematics?"
   ]
  },
  {
   "cell_type": "markdown",
   "id": "e3ddf39b",
   "metadata": {
    "cell_style": "split",
    "slideshow": {
     "slide_type": ""
    }
   },
   "source": [
    "* Continuous objects with finite representations on a computer\n",
    "  * real and complex numbers $a \\in \\mathbb R$\n",
    "  * vectors $\\mathbf x \\in \\mathbb R^n$\n",
    "  * matrices $A \\in \\mathbb R^{m\\times n}$\n",
    "* Continuous objects with infinite representations on a computer\n",
    "  * functions $f: \\mathbb R \\to \\mathbb R$\n",
    "  * higher order functions: $g(f)$"
   ]
  },
  {
   "cell_type": "markdown",
   "id": "c5a8bd60",
   "metadata": {
    "cell_style": "split"
   },
   "source": [
    "## Finite vs Infinite algorithms\n",
    "\n",
    "* Compute the matrix product $A B$\n",
    "* Solve $A x = b$ for $x$\n",
    "* Compute the eigenvalues $\\lambda$ of $A \\in \\mathbb R^{10\\times 10}$\n",
    "* Compute $\\int_a^b f(x)$"
   ]
  },
  {
   "cell_type": "markdown",
   "id": "2dd843ce",
   "metadata": {
    "cell_style": "split",
    "slideshow": {
     "slide_type": "slide"
    }
   },
   "source": [
    "# Rootfinding"
   ]
  },
  {
   "cell_type": "markdown",
   "id": "347a2da3",
   "metadata": {
    "cell_style": "split",
    "slideshow": {
     "slide_type": ""
    }
   },
   "source": [
    "Given $f(x)$, find $x$ such that $f(x) = 0$.\n",
    "\n",
    "* Cost\n",
    "  * Evaluation of $f(x)$ and perhaps derivatives $f'(x)$.\n",
    "  * Other arithmetic\n",
    "* Convergence: how many evaluations to reach a given accuracy?\n",
    "* Robustness: does the algorithm always converge?"
   ]
  },
  {
   "cell_type": "code",
   "execution_count": 9,
   "id": "7e55dd6f",
   "metadata": {
    "cell_style": "split",
    "slideshow": {
     "slide_type": "fragment"
    }
   },
   "outputs": [
    {
     "data": {
      "image/svg+xml": [
       "<?xml version=\"1.0\" encoding=\"utf-8\"?>\n",
       "<svg xmlns=\"http://www.w3.org/2000/svg\" xmlns:xlink=\"http://www.w3.org/1999/xlink\" width=\"600\" height=\"400\" viewBox=\"0 0 2400 1600\">\n",
       "<defs>\n",
       "  <clipPath id=\"clip690\">\n",
       "    <rect x=\"0\" y=\"0\" width=\"2400\" height=\"1600\"/>\n",
       "  </clipPath>\n",
       "</defs>\n",
       "<path clip-path=\"url(#clip690)\" d=\"\n",
       "M0 1600 L2400 1600 L2400 0 L0 0  Z\n",
       "  \" fill=\"#ffffff\" fill-rule=\"evenodd\" fill-opacity=\"1\"/>\n",
       "<defs>\n",
       "  <clipPath id=\"clip691\">\n",
       "    <rect x=\"480\" y=\"0\" width=\"1681\" height=\"1600\"/>\n",
       "  </clipPath>\n",
       "</defs>\n",
       "<path clip-path=\"url(#clip690)\" d=\"\n",
       "M224.804 1469.17 L2352.76 1469.17 L2352.76 47.2441 L224.804 47.2441  Z\n",
       "  \" fill=\"#ffffff\" fill-rule=\"evenodd\" fill-opacity=\"1\"/>\n",
       "<defs>\n",
       "  <clipPath id=\"clip692\">\n",
       "    <rect x=\"224\" y=\"47\" width=\"2129\" height=\"1423\"/>\n",
       "  </clipPath>\n",
       "</defs>\n",
       "<polyline clip-path=\"url(#clip692)\" style=\"stroke:#000000; stroke-linecap:round; stroke-linejoin:round; stroke-width:2; stroke-opacity:0.1; fill:none\" points=\"\n",
       "  224.804,1469.17 224.804,47.2441 \n",
       "  \"/>\n",
       "<polyline clip-path=\"url(#clip692)\" style=\"stroke:#000000; stroke-linecap:round; stroke-linejoin:round; stroke-width:2; stroke-opacity:0.1; fill:none\" points=\"\n",
       "  934.121,1469.17 934.121,47.2441 \n",
       "  \"/>\n",
       "<polyline clip-path=\"url(#clip692)\" style=\"stroke:#000000; stroke-linecap:round; stroke-linejoin:round; stroke-width:2; stroke-opacity:0.1; fill:none\" points=\"\n",
       "  1643.44,1469.17 1643.44,47.2441 \n",
       "  \"/>\n",
       "<polyline clip-path=\"url(#clip692)\" style=\"stroke:#000000; stroke-linecap:round; stroke-linejoin:round; stroke-width:2; stroke-opacity:0.1; fill:none\" points=\"\n",
       "  2352.76,1469.17 2352.76,47.2441 \n",
       "  \"/>\n",
       "<polyline clip-path=\"url(#clip690)\" style=\"stroke:#000000; stroke-linecap:round; stroke-linejoin:round; stroke-width:4; stroke-opacity:1; fill:none\" points=\"\n",
       "  224.804,1469.17 2352.76,1469.17 \n",
       "  \"/>\n",
       "<polyline clip-path=\"url(#clip690)\" style=\"stroke:#000000; stroke-linecap:round; stroke-linejoin:round; stroke-width:4; stroke-opacity:1; fill:none\" points=\"\n",
       "  224.804,1469.17 224.804,1450.27 \n",
       "  \"/>\n",
       "<polyline clip-path=\"url(#clip690)\" style=\"stroke:#000000; stroke-linecap:round; stroke-linejoin:round; stroke-width:4; stroke-opacity:1; fill:none\" points=\"\n",
       "  934.121,1469.17 934.121,1450.27 \n",
       "  \"/>\n",
       "<polyline clip-path=\"url(#clip690)\" style=\"stroke:#000000; stroke-linecap:round; stroke-linejoin:round; stroke-width:4; stroke-opacity:1; fill:none\" points=\"\n",
       "  1643.44,1469.17 1643.44,1450.27 \n",
       "  \"/>\n",
       "<polyline clip-path=\"url(#clip690)\" style=\"stroke:#000000; stroke-linecap:round; stroke-linejoin:round; stroke-width:4; stroke-opacity:1; fill:none\" points=\"\n",
       "  2352.76,1469.17 2352.76,1450.27 \n",
       "  \"/>\n",
       "<path clip-path=\"url(#clip690)\" d=\"M145.343 1527.92 L189.856 1527.92 L189.856 1533.83 L145.343 1533.83 L145.343 1527.92 Z\" fill=\"#000000\" fill-rule=\"evenodd\" fill-opacity=\"1\" /><path clip-path=\"url(#clip690)\" d=\"M211.037 1547.27 L235.516 1547.27 L235.516 1553.17 L202.599 1553.17 L202.599 1547.27 Q206.592 1543.13 213.467 1536.19 Q220.377 1529.21 222.148 1527.2 Q225.516 1523.41 226.835 1520.81 Q228.189 1518.17 228.189 1515.63 Q228.189 1511.5 225.273 1508.9 Q222.391 1506.29 217.738 1506.29 Q214.439 1506.29 210.759 1507.44 Q207.113 1508.58 202.946 1510.91 L202.946 1503.83 Q207.182 1502.13 210.863 1501.26 Q214.544 1500.39 217.599 1500.39 Q225.655 1500.39 230.446 1504.42 Q235.238 1508.45 235.238 1515.18 Q235.238 1518.38 234.023 1521.26 Q232.842 1524.11 229.682 1527.99 Q228.814 1529 224.162 1533.83 Q219.509 1538.62 211.037 1547.27 Z\" fill=\"#000000\" fill-rule=\"evenodd\" fill-opacity=\"1\" /><path clip-path=\"url(#clip690)\" d=\"M250.238 1544.35 L257.564 1544.35 L257.564 1553.17 L250.238 1553.17 L250.238 1544.35 Z\" fill=\"#000000\" fill-rule=\"evenodd\" fill-opacity=\"1\" /><path clip-path=\"url(#clip690)\" d=\"M272.911 1501.33 L300.446 1501.33 L300.446 1507.23 L279.335 1507.23 L279.335 1519.94 Q280.863 1519.42 282.39 1519.18 Q283.918 1518.9 285.446 1518.9 Q294.126 1518.9 299.196 1523.65 Q304.265 1528.41 304.265 1536.54 Q304.265 1544.9 299.057 1549.56 Q293.849 1554.17 284.37 1554.17 Q281.106 1554.17 277.703 1553.62 Q274.335 1553.06 270.724 1551.95 L270.724 1544.9 Q273.849 1546.61 277.182 1547.44 Q280.515 1548.27 284.231 1548.27 Q290.238 1548.27 293.744 1545.11 Q297.251 1541.95 297.251 1536.54 Q297.251 1531.12 293.744 1527.96 Q290.238 1524.8 284.231 1524.8 Q281.418 1524.8 278.606 1525.42 Q275.828 1526.05 272.911 1527.37 L272.911 1501.33 Z\" fill=\"#000000\" fill-rule=\"evenodd\" fill-opacity=\"1\" /><path clip-path=\"url(#clip690)\" d=\"M900.198 1505.95 Q894.781 1505.95 892.038 1511.29 Q889.33 1516.61 889.33 1527.3 Q889.33 1537.96 892.038 1543.31 Q894.781 1548.62 900.198 1548.62 Q905.649 1548.62 908.357 1543.31 Q911.101 1537.96 911.101 1527.3 Q911.101 1516.61 908.357 1511.29 Q905.649 1505.95 900.198 1505.95 M900.198 1500.39 Q908.913 1500.39 913.496 1507.3 Q918.114 1514.18 918.114 1527.3 Q918.114 1540.39 913.496 1547.3 Q908.913 1554.17 900.198 1554.17 Q891.483 1554.17 886.865 1547.3 Q882.281 1540.39 882.281 1527.3 Q882.281 1514.18 886.865 1507.3 Q891.483 1500.39 900.198 1500.39 Z\" fill=\"#000000\" fill-rule=\"evenodd\" fill-opacity=\"1\" /><path clip-path=\"url(#clip690)\" d=\"M930.441 1544.35 L937.767 1544.35 L937.767 1553.17 L930.441 1553.17 L930.441 1544.35 Z\" fill=\"#000000\" fill-rule=\"evenodd\" fill-opacity=\"1\" /><path clip-path=\"url(#clip690)\" d=\"M968.045 1505.95 Q962.628 1505.95 959.885 1511.29 Q957.177 1516.61 957.177 1527.3 Q957.177 1537.96 959.885 1543.31 Q962.628 1548.62 968.045 1548.62 Q973.496 1548.62 976.204 1543.31 Q978.947 1537.96 978.947 1527.3 Q978.947 1516.61 976.204 1511.29 Q973.496 1505.95 968.045 1505.95 M968.045 1500.39 Q976.76 1500.39 981.343 1507.3 Q985.961 1514.18 985.961 1527.3 Q985.961 1540.39 981.343 1547.3 Q976.76 1554.17 968.045 1554.17 Q959.329 1554.17 954.711 1547.3 Q950.128 1540.39 950.128 1527.3 Q950.128 1514.18 954.711 1507.3 Q959.329 1500.39 968.045 1500.39 Z\" fill=\"#000000\" fill-rule=\"evenodd\" fill-opacity=\"1\" /><path clip-path=\"url(#clip690)\" d=\"M1601.04 1547.27 L1625.52 1547.27 L1625.52 1553.17 L1592.61 1553.17 L1592.61 1547.27 Q1596.6 1543.13 1603.47 1536.19 Q1610.38 1529.21 1612.15 1527.2 Q1615.52 1523.41 1616.84 1520.81 Q1618.2 1518.17 1618.2 1515.63 Q1618.2 1511.5 1615.28 1508.9 Q1612.4 1506.29 1607.74 1506.29 Q1604.45 1506.29 1600.77 1507.44 Q1597.12 1508.58 1592.95 1510.91 L1592.95 1503.83 Q1597.19 1502.13 1600.87 1501.26 Q1604.55 1500.39 1607.61 1500.39 Q1615.66 1500.39 1620.45 1504.42 Q1625.24 1508.45 1625.24 1515.18 Q1625.24 1518.38 1624.03 1521.26 Q1622.85 1524.11 1619.69 1527.99 Q1618.82 1529 1614.17 1533.83 Q1609.52 1538.62 1601.04 1547.27 Z\" fill=\"#000000\" fill-rule=\"evenodd\" fill-opacity=\"1\" /><path clip-path=\"url(#clip690)\" d=\"M1640.24 1544.35 L1647.57 1544.35 L1647.57 1553.17 L1640.24 1553.17 L1640.24 1544.35 Z\" fill=\"#000000\" fill-rule=\"evenodd\" fill-opacity=\"1\" /><path clip-path=\"url(#clip690)\" d=\"M1662.92 1501.33 L1690.45 1501.33 L1690.45 1507.23 L1669.34 1507.23 L1669.34 1519.94 Q1670.87 1519.42 1672.4 1519.18 Q1673.92 1518.9 1675.45 1518.9 Q1684.13 1518.9 1689.2 1523.65 Q1694.27 1528.41 1694.27 1536.54 Q1694.27 1544.9 1689.06 1549.56 Q1683.86 1554.17 1674.38 1554.17 Q1671.11 1554.17 1667.71 1553.62 Q1664.34 1553.06 1660.73 1551.95 L1660.73 1544.9 Q1663.86 1546.61 1667.19 1547.44 Q1670.52 1548.27 1674.24 1548.27 Q1680.24 1548.27 1683.75 1545.11 Q1687.26 1541.95 1687.26 1536.54 Q1687.26 1531.12 1683.75 1527.96 Q1680.24 1524.8 1674.24 1524.8 Q1671.42 1524.8 1668.61 1525.42 Q1665.83 1526.05 1662.92 1527.37 L1662.92 1501.33 Z\" fill=\"#000000\" fill-rule=\"evenodd\" fill-opacity=\"1\" /><path clip-path=\"url(#clip690)\" d=\"M2303.5 1501.33 L2331.04 1501.33 L2331.04 1507.23 L2309.93 1507.23 L2309.93 1519.94 Q2311.45 1519.42 2312.98 1519.18 Q2314.51 1518.9 2316.04 1518.9 Q2324.72 1518.9 2329.79 1523.65 Q2334.86 1528.41 2334.86 1536.54 Q2334.86 1544.9 2329.65 1549.56 Q2324.44 1554.17 2314.96 1554.17 Q2311.7 1554.17 2308.29 1553.62 Q2304.93 1553.06 2301.32 1551.95 L2301.32 1544.9 Q2304.44 1546.61 2307.77 1547.44 Q2311.11 1548.27 2314.82 1548.27 Q2320.83 1548.27 2324.34 1545.11 Q2327.84 1541.95 2327.84 1536.54 Q2327.84 1531.12 2324.34 1527.96 Q2320.83 1524.8 2314.82 1524.8 Q2312.01 1524.8 2309.2 1525.42 Q2306.42 1526.05 2303.5 1527.37 L2303.5 1501.33 Z\" fill=\"#000000\" fill-rule=\"evenodd\" fill-opacity=\"1\" /><path clip-path=\"url(#clip690)\" d=\"M2348.68 1544.35 L2356 1544.35 L2356 1553.17 L2348.68 1553.17 L2348.68 1544.35 Z\" fill=\"#000000\" fill-rule=\"evenodd\" fill-opacity=\"1\" /><path clip-path=\"url(#clip690)\" d=\"M2386.28 1505.95 Q2380.86 1505.95 2378.12 1511.29 Q2375.41 1516.61 2375.41 1527.3 Q2375.41 1537.96 2378.12 1543.31 Q2380.86 1548.62 2386.28 1548.62 Q2391.73 1548.62 2394.44 1543.31 Q2397.18 1537.96 2397.18 1527.3 Q2397.18 1516.61 2394.44 1511.29 Q2391.73 1505.95 2386.28 1505.95 M2386.28 1500.39 Q2395 1500.39 2399.58 1507.3 Q2404.2 1514.18 2404.2 1527.3 Q2404.2 1540.39 2399.58 1547.3 Q2395 1554.17 2386.28 1554.17 Q2377.56 1554.17 2372.95 1547.3 Q2368.36 1540.39 2368.36 1527.3 Q2368.36 1514.18 2372.95 1507.3 Q2377.56 1500.39 2386.28 1500.39 Z\" fill=\"#000000\" fill-rule=\"evenodd\" fill-opacity=\"1\" /><polyline clip-path=\"url(#clip692)\" style=\"stroke:#000000; stroke-linecap:round; stroke-linejoin:round; stroke-width:2; stroke-opacity:0.1; fill:none\" points=\"\n",
       "  224.804,1172.93 2352.76,1172.93 \n",
       "  \"/>\n",
       "<polyline clip-path=\"url(#clip692)\" style=\"stroke:#000000; stroke-linecap:round; stroke-linejoin:round; stroke-width:2; stroke-opacity:0.1; fill:none\" points=\"\n",
       "  224.804,828.888 2352.76,828.888 \n",
       "  \"/>\n",
       "<polyline clip-path=\"url(#clip692)\" style=\"stroke:#000000; stroke-linecap:round; stroke-linejoin:round; stroke-width:2; stroke-opacity:0.1; fill:none\" points=\"\n",
       "  224.804,484.844 2352.76,484.844 \n",
       "  \"/>\n",
       "<polyline clip-path=\"url(#clip692)\" style=\"stroke:#000000; stroke-linecap:round; stroke-linejoin:round; stroke-width:2; stroke-opacity:0.1; fill:none\" points=\"\n",
       "  224.804,140.8 2352.76,140.8 \n",
       "  \"/>\n",
       "<polyline clip-path=\"url(#clip690)\" style=\"stroke:#000000; stroke-linecap:round; stroke-linejoin:round; stroke-width:4; stroke-opacity:1; fill:none\" points=\"\n",
       "  224.804,1469.17 224.804,47.2441 \n",
       "  \"/>\n",
       "<polyline clip-path=\"url(#clip690)\" style=\"stroke:#000000; stroke-linecap:round; stroke-linejoin:round; stroke-width:4; stroke-opacity:1; fill:none\" points=\"\n",
       "  224.804,1172.93 243.702,1172.93 \n",
       "  \"/>\n",
       "<polyline clip-path=\"url(#clip690)\" style=\"stroke:#000000; stroke-linecap:round; stroke-linejoin:round; stroke-width:4; stroke-opacity:1; fill:none\" points=\"\n",
       "  224.804,828.888 243.702,828.888 \n",
       "  \"/>\n",
       "<polyline clip-path=\"url(#clip690)\" style=\"stroke:#000000; stroke-linecap:round; stroke-linejoin:round; stroke-width:4; stroke-opacity:1; fill:none\" points=\"\n",
       "  224.804,484.844 243.702,484.844 \n",
       "  \"/>\n",
       "<polyline clip-path=\"url(#clip690)\" style=\"stroke:#000000; stroke-linecap:round; stroke-linejoin:round; stroke-width:4; stroke-opacity:1; fill:none\" points=\"\n",
       "  224.804,140.8 243.702,140.8 \n",
       "  \"/>\n",
       "<path clip-path=\"url(#clip690)\" d=\"M50.9921 1173.61 L95.5058 1173.61 L95.5058 1179.51 L50.9921 1179.51 L50.9921 1173.61 Z\" fill=\"#000000\" fill-rule=\"evenodd\" fill-opacity=\"1\" /><path clip-path=\"url(#clip690)\" d=\"M116.686 1192.95 L141.165 1192.95 L141.165 1198.85 L108.249 1198.85 L108.249 1192.95 Q112.242 1188.82 119.117 1181.87 Q126.026 1174.89 127.797 1172.88 Q131.165 1169.1 132.485 1166.49 Q133.839 1163.85 133.839 1161.32 Q133.839 1157.19 130.922 1154.58 Q128.04 1151.98 123.388 1151.98 Q120.089 1151.98 116.408 1153.12 Q112.763 1154.27 108.596 1156.6 L108.596 1149.51 Q112.832 1147.81 116.513 1146.94 Q120.193 1146.07 123.249 1146.07 Q131.304 1146.07 136.096 1150.1 Q140.887 1154.13 140.887 1160.87 Q140.887 1164.06 139.672 1166.94 Q138.492 1169.79 135.332 1173.68 Q134.464 1174.69 129.811 1179.51 Q125.158 1184.3 116.686 1192.95 Z\" fill=\"#000000\" fill-rule=\"evenodd\" fill-opacity=\"1\" /><path clip-path=\"url(#clip690)\" d=\"M170.887 1151.63 Q165.471 1151.63 162.728 1156.98 Q160.019 1162.29 160.019 1172.98 Q160.019 1183.64 162.728 1188.99 Q165.471 1194.3 170.887 1194.3 Q176.339 1194.3 179.047 1188.99 Q181.79 1183.64 181.79 1172.98 Q181.79 1162.29 179.047 1156.98 Q176.339 1151.63 170.887 1151.63 M170.887 1146.07 Q179.603 1146.07 184.186 1152.98 Q188.804 1159.86 188.804 1172.98 Q188.804 1186.07 184.186 1192.98 Q179.603 1199.86 170.887 1199.86 Q162.172 1199.86 157.554 1192.98 Q152.971 1186.07 152.971 1172.98 Q152.971 1159.86 157.554 1152.98 Q162.172 1146.07 170.887 1146.07 Z\" fill=\"#000000\" fill-rule=\"evenodd\" fill-opacity=\"1\" /><path clip-path=\"url(#clip690)\" d=\"M170.887 807.586 Q165.471 807.586 162.728 812.933 Q160.019 818.246 160.019 828.94 Q160.019 839.6 162.728 844.947 Q165.471 850.26 170.887 850.26 Q176.339 850.26 179.047 844.947 Q181.79 839.6 181.79 828.94 Q181.79 818.246 179.047 812.933 Q176.339 807.586 170.887 807.586 M170.887 802.031 Q179.603 802.031 184.186 808.94 Q188.804 815.815 188.804 828.94 Q188.804 842.03 184.186 848.94 Q179.603 855.815 170.887 855.815 Q162.172 855.815 157.554 848.94 Q152.971 842.03 152.971 828.94 Q152.971 815.815 157.554 808.94 Q162.172 802.031 170.887 802.031 Z\" fill=\"#000000\" fill-rule=\"evenodd\" fill-opacity=\"1\" /><path clip-path=\"url(#clip690)\" d=\"M116.686 504.861 L141.165 504.861 L141.165 510.764 L108.249 510.764 L108.249 504.861 Q112.242 500.73 119.117 493.785 Q126.026 486.806 127.797 484.792 Q131.165 481.007 132.485 478.403 Q133.839 475.764 133.839 473.23 Q133.839 469.098 130.922 466.494 Q128.04 463.889 123.388 463.889 Q120.089 463.889 116.408 465.035 Q112.763 466.181 108.596 468.507 L108.596 461.424 Q112.832 459.723 116.513 458.855 Q120.193 457.987 123.249 457.987 Q131.304 457.987 136.096 462.014 Q140.887 466.042 140.887 472.778 Q140.887 475.973 139.672 478.855 Q138.492 481.702 135.332 485.591 Q134.464 486.598 129.811 491.424 Q125.158 496.216 116.686 504.861 Z\" fill=\"#000000\" fill-rule=\"evenodd\" fill-opacity=\"1\" /><path clip-path=\"url(#clip690)\" d=\"M170.887 463.542 Q165.471 463.542 162.728 468.889 Q160.019 474.202 160.019 484.896 Q160.019 495.556 162.728 500.903 Q165.471 506.216 170.887 506.216 Q176.339 506.216 179.047 500.903 Q181.79 495.556 181.79 484.896 Q181.79 474.202 179.047 468.889 Q176.339 463.542 170.887 463.542 M170.887 457.987 Q179.603 457.987 184.186 464.896 Q188.804 471.771 188.804 484.896 Q188.804 497.986 184.186 504.896 Q179.603 511.771 170.887 511.771 Q162.172 511.771 157.554 504.896 Q152.971 497.986 152.971 484.896 Q152.971 471.771 157.554 464.896 Q162.172 457.987 170.887 457.987 Z\" fill=\"#000000\" fill-rule=\"evenodd\" fill-opacity=\"1\" /><path clip-path=\"url(#clip690)\" d=\"M129.915 120.991 L112.207 148.665 L129.915 148.665 L129.915 120.991 M128.075 114.88 L136.894 114.88 L136.894 148.665 L144.29 148.665 L144.29 154.498 L136.894 154.498 L136.894 166.72 L129.915 166.72 L129.915 154.498 L106.513 154.498 L106.513 147.727 L128.075 114.88 Z\" fill=\"#000000\" fill-rule=\"evenodd\" fill-opacity=\"1\" /><path clip-path=\"url(#clip690)\" d=\"M170.887 119.498 Q165.471 119.498 162.728 124.846 Q160.019 130.158 160.019 140.852 Q160.019 151.512 162.728 156.859 Q165.471 162.172 170.887 162.172 Q176.339 162.172 179.047 156.859 Q181.79 151.512 181.79 140.852 Q181.79 130.158 179.047 124.846 Q176.339 119.498 170.887 119.498 M170.887 113.943 Q179.603 113.943 184.186 120.852 Q188.804 127.727 188.804 140.852 Q188.804 153.943 184.186 160.852 Q179.603 167.727 170.887 167.727 Q162.172 167.727 157.554 160.852 Q152.971 153.943 152.971 140.852 Q152.971 127.727 157.554 120.852 Q162.172 113.943 170.887 113.943 Z\" fill=\"#000000\" fill-rule=\"evenodd\" fill-opacity=\"1\" /><polyline clip-path=\"url(#clip692)\" style=\"stroke:#009af9; stroke-linecap:round; stroke-linejoin:round; stroke-width:12; stroke-opacity:1; fill:none\" points=\"\n",
       "  224.804,812.817 238.658,812.829 366.759,812.654 443.743,812.165 508.832,811.41 579.536,810.13 644.72,808.439 714.603,806.009 795.57,802.364 867.524,798.456 \n",
       "  930.621,794.696 999.413,790.603 1068.61,787.099 1145.13,785.052 1217.92,786.425 1255.77,789.059 1293.62,793.419 1325.48,798.683 1357.34,805.639 1376.78,810.816 \n",
       "  1396.23,816.762 1415.68,823.53 1435.13,831.173 1470.76,847.618 1506.39,867.474 1539.3,889.07 1572.21,913.967 1588.87,927.873 1605.54,942.663 1622.21,958.338 \n",
       "  1638.88,974.894 1657.56,994.481 1676.24,1015.13 1694.91,1036.8 1713.59,1059.44 1747.45,1102.68 1781.3,1148.24 1820.06,1202.16 1858.82,1256.31 1876.77,1280.86 \n",
       "  1894.71,1304.72 1912.65,1327.59 1930.6,1349.15 1948.29,1368.77 1965.98,1386.39 1983.67,1401.59 2001.36,1413.93 2009.95,1418.74 2018.54,1422.71 2027.12,1425.77 \n",
       "  2035.71,1427.86 2044.3,1428.92 2052.89,1428.88 2061.48,1427.68 2070.07,1425.23 2078.87,1421.36 2087.67,1416.03 2096.48,1409.16 2105.28,1400.66 2114.09,1390.45 \n",
       "  2122.89,1378.43 2131.69,1364.52 2140.5,1348.63 2150.14,1328.81 2159.79,1306.36 2169.43,1281.15 2179.08,1253.05 2188.73,1221.91 2198.37,1187.6 2203.19,1169.21 \n",
       "  2208.02,1149.98 2212.84,1129.88 2217.66,1108.9 2224.67,1076.81 2231.67,1042.77 2238.68,1006.72 2245.69,968.593 2252.69,928.344 2259.7,885.911 2266.71,841.237 \n",
       "  2273.71,794.265 2280.72,744.936 2287.72,693.194 2294.73,638.98 2301.74,582.237 2308.74,522.909 2315.75,460.938 2322.75,396.268 2329.76,328.843 2332.63,300.369 \n",
       "  2335.51,271.417 2338.38,241.985 2341.26,212.069 2344.13,181.665 2347.01,150.769 2349.88,119.378 2352.76,87.4872 \n",
       "  \"/>\n",
       "<polyline clip-path=\"url(#clip692)\" style=\"stroke:#e26f46; stroke-linecap:round; stroke-linejoin:round; stroke-width:12; stroke-opacity:1; fill:none\" points=\"\n",
       "  224.804,828.888 238.658,828.888 366.759,828.888 443.743,828.888 508.832,828.888 579.536,828.888 644.72,828.888 714.603,828.888 795.57,828.888 867.524,828.888 \n",
       "  930.621,828.888 999.413,828.888 1068.61,828.888 1145.13,828.888 1217.92,828.888 1293.62,828.888 1357.34,828.888 1435.13,828.888 1506.39,828.888 1572.21,828.888 \n",
       "  1638.88,828.888 1713.59,828.888 1781.3,828.888 1858.82,828.888 1930.6,828.888 2001.36,828.888 2070.07,828.888 2140.5,828.888 2217.66,828.888 2329.76,828.888 \n",
       "  2352.76,828.888 \n",
       "  \"/>\n",
       "<path clip-path=\"url(#clip690)\" d=\"\n",
       "M1966.74 327.922 L2281.82 327.922 L2281.82 94.6416 L1966.74 94.6416  Z\n",
       "  \" fill=\"#ffffff\" fill-rule=\"evenodd\" fill-opacity=\"1\"/>\n",
       "<polyline clip-path=\"url(#clip690)\" style=\"stroke:#000000; stroke-linecap:round; stroke-linejoin:round; stroke-width:4; stroke-opacity:1; fill:none\" points=\"\n",
       "  1966.74,327.922 2281.82,327.922 2281.82,94.6416 1966.74,94.6416 1966.74,327.922 \n",
       "  \"/>\n",
       "<polyline clip-path=\"url(#clip690)\" style=\"stroke:#009af9; stroke-linecap:round; stroke-linejoin:round; stroke-width:6; stroke-opacity:1; fill:none\" points=\"\n",
       "  1990.38,172.402 2132.25,172.402 \n",
       "  \"/>\n",
       "<path clip-path=\"url(#clip690)\" d=\"M2176.65 201.933 Q2173.95 208.877 2171.38 210.995 Q2168.81 213.113 2164.5 213.113 L2159.4 213.113 L2159.4 207.766 L2163.15 207.766 Q2165.79 207.766 2167.25 206.516 Q2168.7 205.266 2170.47 200.613 L2171.62 197.697 L2155.89 159.433 L2162.66 159.433 L2174.81 189.849 L2186.97 159.433 L2193.74 159.433 L2176.65 201.933 Z\" fill=\"#000000\" fill-rule=\"evenodd\" fill-opacity=\"1\" /><path clip-path=\"url(#clip690)\" d=\"M2204.68 192.419 L2216.13 192.419 L2216.13 152.87 L2203.67 155.37 L2203.67 148.982 L2216.06 146.482 L2223.08 146.482 L2223.08 192.419 L2234.54 192.419 L2234.54 198.322 L2204.68 198.322 L2204.68 192.419 Z\" fill=\"#000000\" fill-rule=\"evenodd\" fill-opacity=\"1\" /><polyline clip-path=\"url(#clip690)\" style=\"stroke:#e26f46; stroke-linecap:round; stroke-linejoin:round; stroke-width:6; stroke-opacity:1; fill:none\" points=\"\n",
       "  1990.38,250.162 2132.25,250.162 \n",
       "  \"/>\n",
       "<path clip-path=\"url(#clip690)\" d=\"M2176.65 279.693 Q2173.95 286.637 2171.38 288.755 Q2168.81 290.873 2164.5 290.873 L2159.4 290.873 L2159.4 285.526 L2163.15 285.526 Q2165.79 285.526 2167.25 284.276 Q2168.7 283.026 2170.47 278.373 L2171.62 275.457 L2155.89 237.193 L2162.66 237.193 L2174.81 267.609 L2186.97 237.193 L2193.74 237.193 L2176.65 279.693 Z\" fill=\"#000000\" fill-rule=\"evenodd\" fill-opacity=\"1\" /><path clip-path=\"url(#clip690)\" d=\"M2209.5 270.179 L2233.98 270.179 L2233.98 276.082 L2201.06 276.082 L2201.06 270.179 Q2205.06 266.047 2211.93 259.102 Q2218.84 252.123 2220.61 250.109 Q2223.98 246.325 2225.3 243.721 Q2226.65 241.082 2226.65 238.547 Q2226.65 234.415 2223.74 231.811 Q2220.86 229.207 2216.2 229.207 Q2212.9 229.207 2209.22 230.353 Q2205.58 231.498 2201.41 233.825 L2201.41 226.742 Q2205.65 225.04 2209.33 224.172 Q2213.01 223.304 2216.06 223.304 Q2224.12 223.304 2228.91 227.332 Q2233.7 231.36 2233.7 238.096 Q2233.7 241.29 2232.49 244.172 Q2231.31 247.019 2228.15 250.908 Q2227.28 251.915 2222.63 256.741 Q2217.97 261.533 2209.5 270.179 Z\" fill=\"#000000\" fill-rule=\"evenodd\" fill-opacity=\"1\" /></svg>\n"
      ]
     },
     "execution_count": 9,
     "metadata": {},
     "output_type": "execute_result"
    }
   ],
   "source": [
    "using Plots\n",
    "\n",
    "f(x) = exp(x) * cos(x) + 1\n",
    "plot([f, x -> 0], xlims=[-2.5, 5])"
   ]
  },
  {
   "cell_type": "markdown",
   "id": "53f643a4",
   "metadata": {
    "slideshow": {
     "slide_type": "slide"
    }
   },
   "source": [
    "# Numerical linear algebra"
   ]
  },
  {
   "cell_type": "markdown",
   "id": "c1e9f4c2",
   "metadata": {
    "cell_style": "split"
   },
   "source": [
    "## Finite algorithms for factorization\n",
    "* $QR = A$, such that $Q^T Q = I$ and $R$ is right-triangular.\n",
    "* $L U = A$, such that $L$ and $U$ are lower and upper triangular, respectively.\n",
    "\n",
    "## Infinite (iterative) algorithms\n",
    "\n",
    "* $X \\Lambda X^{-1} = A$ where $\\Lambda$ is diagonal.\n",
    "* $U \\Sigma V^T = A$, such that $U^T U = I$, $V^T V = I$, and $\\Sigma$ is diagonal with nonnegative entries.\n",
    "* Iterative solution of $Ax=b$ using Krylov basis $\\{b, Ab, A^2b, \\dotsc \\}$"
   ]
  },
  {
   "cell_type": "markdown",
   "id": "8b37a91a",
   "metadata": {
    "cell_style": "split"
   },
   "source": [
    "## Concepts\n",
    "* Accurate estimates of cost\n",
    "* Orthogonality, null spaces, projections\n",
    "* Geometry and modeling\n",
    "* Stable and backwards-stable algorithms\n",
    "* Conditioning\n",
    "* Develop a language in which to frame many concepts in the course"
   ]
  },
  {
   "cell_type": "markdown",
   "id": "8733c954",
   "metadata": {
    "slideshow": {
     "slide_type": "slide"
    }
   },
   "source": [
    "# Approximating functions from data"
   ]
  },
  {
   "cell_type": "markdown",
   "id": "32c2308d",
   "metadata": {
    "cell_style": "split"
   },
   "source": [
    "## Interpolation\n",
    "\n",
    "Given samples $(x_0, f(x_0)), (x_1, f(x_1)), \\dotsc$, determine an easily-computable function $g(x)$ that **exactly** fits these samples and behaves **sensibly** in between."
   ]
  },
  {
   "cell_type": "markdown",
   "id": "b4d7c50f",
   "metadata": {
    "cell_style": "split"
   },
   "source": [
    "## Regression\n",
    "\n",
    "Given **noisy** data $(x_0, y_0), (x_1, y_1), \\dotsc$, determine an easily-computable function $g(x)$ that **explains** these data."
   ]
  },
  {
   "cell_type": "markdown",
   "id": "47155e79",
   "metadata": {},
   "source": [
    "We will need to make subjective choices to specify a problem with a unique solution."
   ]
  },
  {
   "cell_type": "markdown",
   "id": "9dc52632",
   "metadata": {
    "slideshow": {
     "slide_type": "slide"
    }
   },
   "source": [
    "# Calculus: functions of functions"
   ]
  },
  {
   "cell_type": "markdown",
   "id": "52ddbd39",
   "metadata": {
    "cell_style": "split"
   },
   "source": [
    "## Differentiation\n",
    "\n",
    "Given a function $f(x)$ (as a computer program or callable function), define a new function\n",
    "\n",
    "$$g(x) \\approx f'(x). $$\n",
    "\n",
    "We can do this\n",
    "* Numerically (black box)\n",
    "* By-hand code transformation\n",
    "* Automatic code transformation"
   ]
  },
  {
   "cell_type": "markdown",
   "id": "86575335",
   "metadata": {
    "cell_style": "split"
   },
   "source": [
    "## Integration\n",
    "Given a function $f(x)$ (as a computer program or callable function), approximate the integral\n",
    "\n",
    "$$ \\int_a^b f(x) . $$"
   ]
  },
  {
   "cell_type": "markdown",
   "id": "585e42e5",
   "metadata": {
    "slideshow": {
     "slide_type": "slide"
    }
   },
   "source": [
    "# Numerical optimization\n",
    "\n",
    "Given a scalar function $f(x)$ (and perhaps its gradient $f'(x)$), determine\n",
    "$$ x_* = \\operatorname{argmin}_x f(x) . $$"
   ]
  },
  {
   "cell_type": "markdown",
   "id": "e74328db",
   "metadata": {
    "slideshow": {
     "slide_type": "slide"
    }
   },
   "source": [
    "# Differential equations\n",
    "\n",
    "Given a dynamical system\n",
    "$$ \\frac{\\partial u(t)}{\\partial t} = f(u(t)), $$\n",
    "and initial condition $u(0) = u_0$, estimate $u(t)$ for arbitrary $t$."
   ]
  },
  {
   "cell_type": "markdown",
   "id": "6d0376df",
   "metadata": {
    "slideshow": {
     "slide_type": "slide"
    }
   },
   "source": [
    "# Higher dimensions\n",
    "\n",
    "Many of these algorithms will generalize to functions of multiple variables.  Different algorithms may be needed for such \"high-dimensional\" problems."
   ]
  },
  {
   "cell_type": "markdown",
   "id": "a181eea5",
   "metadata": {
    "slideshow": {
     "slide_type": "slide"
    }
   },
   "source": [
    "# Computer Science = Runnable Abstraction Science"
   ]
  },
  {
   "cell_type": "markdown",
   "id": "b66498d2",
   "metadata": {
    "cell_style": "split"
   },
   "source": [
    "## In the \"grinder\"\n",
    "* Mathematical language and principles for each major class of method\n",
    "  * What is covered by theory\n",
    "  * When you're venturing off-trail\n",
    "  * Analytic tools to predict and debug\n",
    "* Realistic cost and exploitable structure\n",
    "  * Performance on modern hardware\n",
    "* Write/modify stand-alone code\n",
    "* Select and use (parallel) libraries"
   ]
  },
  {
   "cell_type": "markdown",
   "id": "ad132037",
   "metadata": {
    "cell_style": "split"
   },
   "source": [
    "## How can you trust the solution?\n",
    "* Verification: solving the problem right\n",
    "* Validation: solving the right problem\n",
    "\n",
    "## Abstractions/collaboration\n",
    "* Domain scientists, engineers\n",
    "* Optimizers, statisticians\n",
    "* Abstractions that reduce cognitive load\n",
    "* Metrics/visualization for decisions"
   ]
  },
  {
   "cell_type": "markdown",
   "id": "d910b1c2",
   "metadata": {
    "slideshow": {
     "slide_type": "slide"
    }
   },
   "source": [
    "# On programming languages"
   ]
  },
  {
   "cell_type": "markdown",
   "id": "1b6d3017",
   "metadata": {
    "cell_style": "split"
   },
   "source": [
    "## C\n",
    "Reliable and popular for libraries (PETSc, etc.). \"Simple\", unsafe, capable of encapsulation.\n",
    "\n",
    "## C++\n",
    "Popular with applications and some libraries. Powerful, but complicated and unsafe.\n",
    "\n",
    "## Fortran\n",
    "The OG of numerical computing. Good for \"array programming\", but encapsulation is hard. Unsafe depending on dialect."
   ]
  },
  {
   "cell_type": "markdown",
   "id": "19695d74",
   "metadata": {
    "cell_style": "split"
   },
   "source": [
    "## Julia\n",
    "For ground-up examples in class and in activities. Capable of high performance, expressive multiple dispatch, works well in a notebook. Error messages are not great.\n",
    "\n",
    "## Python\n",
    "Good access to JIT, though with sharp edges. Poor native performance, but good libraries to compiled code.\n",
    "\n",
    "## Rust\n",
    "New compiled language. Good performance, encapsulation, safety, static analysis. Poor libraries (so far)."
   ]
  },
  {
   "cell_type": "markdown",
   "id": "9e462589",
   "metadata": {},
   "source": [
    "You don't need to know any of these well and you can choose the language for your project."
   ]
  },
  {
   "cell_type": "markdown",
   "id": "51106d86",
   "metadata": {
    "slideshow": {
     "slide_type": "slide"
    }
   },
   "source": [
    "<img src=\"../img/Butler1988-Table1.png\" width=\"80%\" />"
   ]
  },
  {
   "cell_type": "markdown",
   "id": "a69f134c",
   "metadata": {
    "slideshow": {
     "slide_type": "slide"
    }
   },
   "source": [
    "# I won't grade and I won't waste your time"
   ]
  },
  {
   "cell_type": "markdown",
   "id": "1ad89faa",
   "metadata": {
    "cell_style": "center",
    "slideshow": {
     "slide_type": "fragment"
    }
   },
   "source": [
    "<div class=\"floatleft70\"\n",
    "\n",
    "  * I will provide feedback   \n",
    "  * I will be a mentor and guide navigating this field\n",
    "  * I will help you get what you want out of the class (with a dash of wholesome context)\n",
    "\n",
    "  > My mom said, \"basically, your professor is asking you to be an adult\". That was too flexible.\n",
    "\n",
    "  > In other classes, I didn’t feel like I could bounce back, but in this one I did.\n",
    "</div>\n",
    "\n",
    "<div class=\"floatright30\">\n",
    "<a href=\"https://www.wvupressonline.com/ungrading\"><img src=\"../img/Ungrading.jpg\" width=\"100%\" /></a>\n",
    "</div>"
   ]
  },
  {
   "cell_type": "markdown",
   "id": "2eec927d",
   "metadata": {
    "slideshow": {
     "slide_type": "slide"
    }
   },
   "source": [
    "# Formative vs Summative Assessment"
   ]
  },
  {
   "cell_type": "markdown",
   "id": "fdcfe852",
   "metadata": {
    "cell_style": "split"
   },
   "source": [
    "## Formative\n",
    "\n",
    "* Continual component of learning\n",
    "* Check our understanding\n",
    "* Guide next steps\n",
    "* Collaborative\n",
    "* Develops self-direction\n",
    "* Surrounded by formative assessment throughout our careers\n",
    "  * Learn to recognize these opportunities"
   ]
  },
  {
   "cell_type": "markdown",
   "id": "8a89456b",
   "metadata": {
    "cell_style": "split"
   },
   "source": [
    "## Summative\n",
    "\n",
    "* Instructor evaluation of student understanding after a unit\n",
    "* Driven by a need for \"fairness\" and \"objectivity\"\n",
    "  * Permeates culture and goals of a class\n",
    "  * Stifles creativity\n",
    "* Often adversarial\n",
    "* Goal is scoring/ranking, not learning itself\n",
    "* Feels \"cheap\" when encountered in careers"
   ]
  },
  {
   "cell_type": "markdown",
   "id": "333ffc2e",
   "metadata": {
    "slideshow": {
     "slide_type": "fragment"
    }
   },
   "source": [
    "This class centers formative assessment and the process by which you respond and reflect on it."
   ]
  },
  {
   "cell_type": "markdown",
   "id": "8b1167b9",
   "metadata": {
    "slideshow": {
     "slide_type": "slide"
    }
   },
   "source": [
    "# What about the letter grade?"
   ]
  },
  {
   "cell_type": "markdown",
   "id": "748b2379",
   "metadata": {
    "slideshow": {
     "slide_type": "fragment"
    }
   },
   "source": [
    "* Collect a portfolio of the work and insights you're most proud of\n",
    "  * You can follow your creativity\n",
    "* Journaling through the semester (setting goals, reflecting on formative assessments)\n",
    "* Individual meetings during the last week of the semester (mid-term preview)\n",
    "* We'll have a conversation and you'll propose a grade based on your portfolio\n",
    "  * I'll trust you."
   ]
  },
  {
   "cell_type": "markdown",
   "id": "6e66274a",
   "metadata": {
    "slideshow": {
     "slide_type": "fragment"
    }
   },
   "source": [
    "*I can nudge upward when students are too modest -- pretty common. In rare cases, I may adjust down.*"
   ]
  },
  {
   "cell_type": "markdown",
   "id": "123c7b1c",
   "metadata": {
    "slideshow": {
     "slide_type": "slide"
    }
   },
   "source": [
    "# What I need from you: Growth Mindset\n",
    "\n",
    "<img src=\"../img/Henry2019-Table1.png\" width=\"90%\" />"
   ]
  },
  {
   "cell_type": "markdown",
   "id": "47fe3ae4",
   "metadata": {
    "slideshow": {
     "slide_type": "slide"
    }
   },
   "source": [
    "# How will the semester look?"
   ]
  },
  {
   "cell_type": "markdown",
   "id": "583d6bfb",
   "metadata": {
    "cell_style": "split"
   },
   "source": [
    "## Lecture periods\n",
    "* Refresh, introduce, activity/group discussion, reflect\n",
    "* Pointers to further resources/activities\n",
    "\n",
    "## Readings and activities\n",
    "* Annotate assigned readings\n",
    "* (Short) coding, experiments, presentation of results\n",
    "* Use the math and programming tools of the field\n",
    "* Open-ended, go further occasionally\n",
    "\n",
    "## Learning plans\n",
    "* Write, track, and revise a personal learning plan.\n",
    "* Meet/chat approx weekly to check in with partner"
   ]
  },
  {
   "cell_type": "markdown",
   "id": "c3f5351b",
   "metadata": {
    "cell_style": "split"
   },
   "source": [
    "## Projects (second half of semester)\n",
    "* Dig into community software that implements or relies on numerical computation\n",
    "* Short presentation on how the community works\n",
    " * Key stakeholders\n",
    " * Strengths and weaknesses\n",
    "* Discuss and critique\n",
    "\n",
    "## Original study or contribution\n",
    "* Tutorial, documentation, performance study, comparison, new features, new application\n",
    "* Reflect in a short presentation"
   ]
  },
  {
   "cell_type": "markdown",
   "id": "fc3d6bd3",
   "metadata": {
    "slideshow": {
     "slide_type": "slide"
    }
   },
   "source": [
    "# Expectations"
   ]
  },
  {
   "cell_type": "markdown",
   "id": "36d6ec3a",
   "metadata": {
    "cell_style": "split"
   },
   "source": [
    "1. Enter with a growth mindset, practice adaptive coping, and nurture your intrinsic motivation\n",
    "2. Attend class (in-person or virtual) and participate in discussions\n",
    "3. Annotate assigned readings and respond thoughtfully to prompts\n",
    "4. Make an honest attempt on activities\n",
    "5. Interact with the class notebooks and read reference material\n",
    "6 Set goals and track your progress\n",
    "  * revise these goals as you learn more\n",
    "7. Meet/chat with your partner weekly for at least a few minutes\n",
    "  * share how lecture and activities are going\n",
    "  * share your goals and how you're progressing\n",
    "  * identify questions"
   ]
  },
  {
   "cell_type": "markdown",
   "id": "df6203f5",
   "metadata": {
    "cell_style": "split"
   },
   "source": [
    "8. Ask or answer at least one question per week\n",
    "  * ask a question that you don't know the answer to\n",
    "  * ask a question that you do know the answer to, but you think will be a good exercise/seed for discussion \n",
    "  * ask me during office hours, write up your best understanding\n",
    "  * make a meme relevant to the class\n",
    "  * raise a concern or suggestion that you and/or peers have\n",
    "  * contribute an answer or relevant discussion to any of the above\n",
    "9. Individual and group projects\n"
   ]
  },
  {
   "cell_type": "markdown",
   "id": "b5acb449",
   "metadata": {
    "slideshow": {
     "slide_type": "slide"
    }
   },
   "source": [
    "# Advice from last year\n",
    "\n",
    "\"What advice would you give to your former self at the start of the term?\""
   ]
  },
  {
   "cell_type": "markdown",
   "id": "e0da0194",
   "metadata": {
    "cell_style": "split",
    "slideshow": {
     "slide_type": ""
    }
   },
   "source": [
    "> Come in with “learn as much as you can” rather than “get good grade”.\n",
    "\n",
    "> Don’t get overwhelmed by “big dense equations”. Pay attention to initial concepts (stability, conditioning).\n",
    "\n",
    "> Be serious about linear algebra.\n",
    "\n",
    "> Take more initiative about how to manage time and structuring personal goals."
   ]
  },
  {
   "attachments": {},
   "cell_type": "markdown",
   "id": "03fed074",
   "metadata": {
    "cell_style": "split"
   },
   "source": [
    "> Take your time and play with all the buttons, not “completionist”.\n",
    "\n",
    "> Calm down and really write the functions, visualize, and experiment. Biggest regret was not engaging with programming activities to build concepts from class independently.\n",
    "\n",
    "> Take things slow and don’t stress. Stay on top of topics, attend class, you’ll be okay."
   ]
  },
  {
   "cell_type": "markdown",
   "id": "a473030e",
   "metadata": {
    "slideshow": {
     "slide_type": "slide"
    }
   },
   "source": [
    "# Tools"
   ]
  },
  {
   "cell_type": "markdown",
   "id": "61105cbb",
   "metadata": {
    "cell_style": "split"
   },
   "source": [
    "## Git and GitHub\n",
    "\n",
    "* GitHub Classroom to manage repositories\n",
    "* Write using notebooks and markdown\n",
    "* Review using GitHub tools and nbgrader\n",
    "\n",
    "## Zulip\n",
    "\n",
    "* math- and code-aware team chat\n",
    "* live, informal\n",
    "* thread managemnet so a question in class can spin off into a deeper asynchronous conversation"
   ]
  },
  {
   "cell_type": "markdown",
   "id": "7850eace",
   "metadata": {
    "cell_style": "split"
   },
   "source": [
    "## Jupyter\n",
    "\n",
    "* RISE slides available on website\n",
    "* Activities with scaffolding\n",
    "* Nbgrader for writing feedback\n",
    "* Works with many languages; we'll mostly use Julia\n",
    "* Collaborative mode (new)\n",
    "\n",
    "## JupyterHub: [coding.csel.io](https://coding.csel.io)\n",
    "* Nothing to install, persistent storage\n",
    "* Select `Numerical Computation` tile"
   ]
  },
  {
   "cell_type": "markdown",
   "id": "400fc848",
   "metadata": {
    "cell_style": "center",
    "slideshow": {
     "slide_type": "slide"
    }
   },
   "source": [
    "# Poll: What is floating point arithmetic?"
   ]
  },
  {
   "cell_type": "markdown",
   "id": "73e46069",
   "metadata": {
    "cell_style": "split",
    "slideshow": {
     "slide_type": ""
    }
   },
   "source": [
    "1. fuzzy arithmetic\n",
    "2. exact arithmetic, correctly rounded\n",
    "3. the primary focus of numerical analysis"
   ]
  },
  {
   "cell_type": "code",
   "execution_count": 3,
   "id": "b3206a55",
   "metadata": {
    "cell_style": "split"
   },
   "outputs": [
    {
     "data": {
      "text/plain": [
       "0.30000000000000004"
      ]
     },
     "execution_count": 3,
     "metadata": {},
     "output_type": "execute_result"
    }
   ],
   "source": [
    "0.1 + 0.2\n"
   ]
  },
  {
   "cell_type": "code",
   "execution_count": 4,
   "id": "e2726136",
   "metadata": {
    "cell_style": "split",
    "slideshow": {
     "slide_type": "fragment"
    }
   },
   "outputs": [
    {
     "data": {
      "image/svg+xml": [
       "<?xml version=\"1.0\" encoding=\"utf-8\"?>\n",
       "<svg xmlns=\"http://www.w3.org/2000/svg\" xmlns:xlink=\"http://www.w3.org/1999/xlink\" width=\"600\" height=\"400\" viewBox=\"0 0 2400 1600\">\n",
       "<defs>\n",
       "  <clipPath id=\"clip650\">\n",
       "    <rect x=\"0\" y=\"0\" width=\"2400\" height=\"1600\"/>\n",
       "  </clipPath>\n",
       "</defs>\n",
       "<path clip-path=\"url(#clip650)\" d=\"\n",
       "M0 1600 L2400 1600 L2400 0 L0 0  Z\n",
       "  \" fill=\"#ffffff\" fill-rule=\"evenodd\" fill-opacity=\"1\"/>\n",
       "<defs>\n",
       "  <clipPath id=\"clip651\">\n",
       "    <rect x=\"480\" y=\"0\" width=\"1681\" height=\"1600\"/>\n",
       "  </clipPath>\n",
       "</defs>\n",
       "<path clip-path=\"url(#clip650)\" d=\"\n",
       "M190.672 1469.17 L2352.76 1469.17 L2352.76 47.2441 L190.672 47.2441  Z\n",
       "  \" fill=\"#ffffff\" fill-rule=\"evenodd\" fill-opacity=\"1\"/>\n",
       "<defs>\n",
       "  <clipPath id=\"clip652\">\n",
       "    <rect x=\"190\" y=\"47\" width=\"2163\" height=\"1423\"/>\n",
       "  </clipPath>\n",
       "</defs>\n",
       "<polyline clip-path=\"url(#clip652)\" style=\"stroke:#000000; stroke-linecap:round; stroke-linejoin:round; stroke-width:2; stroke-opacity:0.1; fill:none\" points=\"\n",
       "  190.672,1469.17 190.672,47.2441 \n",
       "  \"/>\n",
       "<polyline clip-path=\"url(#clip652)\" style=\"stroke:#000000; stroke-linecap:round; stroke-linejoin:round; stroke-width:2; stroke-opacity:0.1; fill:none\" points=\"\n",
       "  731.193,1469.17 731.193,47.2441 \n",
       "  \"/>\n",
       "<polyline clip-path=\"url(#clip652)\" style=\"stroke:#000000; stroke-linecap:round; stroke-linejoin:round; stroke-width:2; stroke-opacity:0.1; fill:none\" points=\"\n",
       "  1271.71,1469.17 1271.71,47.2441 \n",
       "  \"/>\n",
       "<polyline clip-path=\"url(#clip652)\" style=\"stroke:#000000; stroke-linecap:round; stroke-linejoin:round; stroke-width:2; stroke-opacity:0.1; fill:none\" points=\"\n",
       "  1812.23,1469.17 1812.23,47.2441 \n",
       "  \"/>\n",
       "<polyline clip-path=\"url(#clip652)\" style=\"stroke:#000000; stroke-linecap:round; stroke-linejoin:round; stroke-width:2; stroke-opacity:0.1; fill:none\" points=\"\n",
       "  2352.76,1469.17 2352.76,47.2441 \n",
       "  \"/>\n",
       "<polyline clip-path=\"url(#clip650)\" style=\"stroke:#000000; stroke-linecap:round; stroke-linejoin:round; stroke-width:4; stroke-opacity:1; fill:none\" points=\"\n",
       "  190.672,1469.17 2352.76,1469.17 \n",
       "  \"/>\n",
       "<polyline clip-path=\"url(#clip650)\" style=\"stroke:#000000; stroke-linecap:round; stroke-linejoin:round; stroke-width:4; stroke-opacity:1; fill:none\" points=\"\n",
       "  190.672,1469.17 190.672,1450.27 \n",
       "  \"/>\n",
       "<polyline clip-path=\"url(#clip650)\" style=\"stroke:#000000; stroke-linecap:round; stroke-linejoin:round; stroke-width:4; stroke-opacity:1; fill:none\" points=\"\n",
       "  731.193,1469.17 731.193,1450.27 \n",
       "  \"/>\n",
       "<polyline clip-path=\"url(#clip650)\" style=\"stroke:#000000; stroke-linecap:round; stroke-linejoin:round; stroke-width:4; stroke-opacity:1; fill:none\" points=\"\n",
       "  1271.71,1469.17 1271.71,1450.27 \n",
       "  \"/>\n",
       "<polyline clip-path=\"url(#clip650)\" style=\"stroke:#000000; stroke-linecap:round; stroke-linejoin:round; stroke-width:4; stroke-opacity:1; fill:none\" points=\"\n",
       "  1812.23,1469.17 1812.23,1450.27 \n",
       "  \"/>\n",
       "<polyline clip-path=\"url(#clip650)\" style=\"stroke:#000000; stroke-linecap:round; stroke-linejoin:round; stroke-width:4; stroke-opacity:1; fill:none\" points=\"\n",
       "  2352.76,1469.17 2352.76,1450.27 \n",
       "  \"/>\n",
       "<path clip-path=\"url(#clip650)\" d=\"M110.464 1527.92 L154.978 1527.92 L154.978 1533.83 L110.464 1533.83 L110.464 1527.92 Z\" fill=\"#000000\" fill-rule=\"evenodd\" fill-opacity=\"1\" /><path clip-path=\"url(#clip650)\" d=\"M171.332 1547.27 L182.79 1547.27 L182.79 1507.72 L170.325 1510.22 L170.325 1503.83 L182.721 1501.33 L189.735 1501.33 L189.735 1547.27 L201.193 1547.27 L201.193 1553.17 L171.332 1553.17 L171.332 1547.27 Z\" fill=\"#000000\" fill-rule=\"evenodd\" fill-opacity=\"1\" /><path clip-path=\"url(#clip650)\" d=\"M215.359 1544.35 L222.686 1544.35 L222.686 1553.17 L215.359 1553.17 L215.359 1544.35 Z\" fill=\"#000000\" fill-rule=\"evenodd\" fill-opacity=\"1\" /><path clip-path=\"url(#clip650)\" d=\"M252.963 1505.95 Q247.547 1505.95 244.804 1511.29 Q242.095 1516.61 242.095 1527.3 Q242.095 1537.96 244.804 1543.31 Q247.547 1548.62 252.963 1548.62 Q258.415 1548.62 261.123 1543.31 Q263.866 1537.96 263.866 1527.3 Q263.866 1516.61 261.123 1511.29 Q258.415 1505.95 252.963 1505.95 M252.963 1500.39 Q261.679 1500.39 266.262 1507.3 Q270.88 1514.18 270.88 1527.3 Q270.88 1540.39 266.262 1547.3 Q261.679 1554.17 252.963 1554.17 Q244.248 1554.17 239.63 1547.3 Q235.047 1540.39 235.047 1527.3 Q235.047 1514.18 239.63 1507.3 Q244.248 1500.39 252.963 1500.39 Z\" fill=\"#000000\" fill-rule=\"evenodd\" fill-opacity=\"1\" /><path clip-path=\"url(#clip650)\" d=\"M651.732 1527.92 L696.245 1527.92 L696.245 1533.83 L651.732 1533.83 L651.732 1527.92 Z\" fill=\"#000000\" fill-rule=\"evenodd\" fill-opacity=\"1\" /><path clip-path=\"url(#clip650)\" d=\"M726.384 1505.95 Q720.967 1505.95 718.224 1511.29 Q715.516 1516.61 715.516 1527.3 Q715.516 1537.96 718.224 1543.31 Q720.967 1548.62 726.384 1548.62 Q731.835 1548.62 734.544 1543.31 Q737.287 1537.96 737.287 1527.3 Q737.287 1516.61 734.544 1511.29 Q731.835 1505.95 726.384 1505.95 M726.384 1500.39 Q735.099 1500.39 739.683 1507.3 Q744.301 1514.18 744.301 1527.3 Q744.301 1540.39 739.683 1547.3 Q735.099 1554.17 726.384 1554.17 Q717.669 1554.17 713.051 1547.3 Q708.467 1540.39 708.467 1527.3 Q708.467 1514.18 713.051 1507.3 Q717.669 1500.39 726.384 1500.39 Z\" fill=\"#000000\" fill-rule=\"evenodd\" fill-opacity=\"1\" /><path clip-path=\"url(#clip650)\" d=\"M756.627 1544.35 L763.953 1544.35 L763.953 1553.17 L756.627 1553.17 L756.627 1544.35 Z\" fill=\"#000000\" fill-rule=\"evenodd\" fill-opacity=\"1\" /><path clip-path=\"url(#clip650)\" d=\"M779.3 1501.33 L806.835 1501.33 L806.835 1507.23 L785.724 1507.23 L785.724 1519.94 Q787.252 1519.42 788.78 1519.18 Q790.307 1518.9 791.835 1518.9 Q800.516 1518.9 805.585 1523.65 Q810.654 1528.41 810.654 1536.54 Q810.654 1544.9 805.446 1549.56 Q800.238 1554.17 790.759 1554.17 Q787.495 1554.17 784.092 1553.62 Q780.724 1553.06 777.113 1551.95 L777.113 1544.9 Q780.238 1546.61 783.571 1547.44 Q786.905 1548.27 790.62 1548.27 Q796.627 1548.27 800.134 1545.11 Q803.641 1541.95 803.641 1536.54 Q803.641 1531.12 800.134 1527.96 Q796.627 1524.8 790.62 1524.8 Q787.807 1524.8 784.995 1525.42 Q782.217 1526.05 779.3 1527.37 L779.3 1501.33 Z\" fill=\"#000000\" fill-rule=\"evenodd\" fill-opacity=\"1\" /><path clip-path=\"url(#clip650)\" d=\"M1237.79 1505.95 Q1232.37 1505.95 1229.63 1511.29 Q1226.92 1516.61 1226.92 1527.3 Q1226.92 1537.96 1229.63 1543.31 Q1232.37 1548.62 1237.79 1548.62 Q1243.24 1548.62 1245.95 1543.31 Q1248.69 1537.96 1248.69 1527.3 Q1248.69 1516.61 1245.95 1511.29 Q1243.24 1505.95 1237.79 1505.95 M1237.79 1500.39 Q1246.51 1500.39 1251.09 1507.3 Q1255.71 1514.18 1255.71 1527.3 Q1255.71 1540.39 1251.09 1547.3 Q1246.51 1554.17 1237.79 1554.17 Q1229.08 1554.17 1224.46 1547.3 Q1219.87 1540.39 1219.87 1527.3 Q1219.87 1514.18 1224.46 1507.3 Q1229.08 1500.39 1237.79 1500.39 Z\" fill=\"#000000\" fill-rule=\"evenodd\" fill-opacity=\"1\" /><path clip-path=\"url(#clip650)\" d=\"M1268.03 1544.35 L1275.36 1544.35 L1275.36 1553.17 L1268.03 1553.17 L1268.03 1544.35 Z\" fill=\"#000000\" fill-rule=\"evenodd\" fill-opacity=\"1\" /><path clip-path=\"url(#clip650)\" d=\"M1305.64 1505.95 Q1300.22 1505.95 1297.48 1511.29 Q1294.77 1516.61 1294.77 1527.3 Q1294.77 1537.96 1297.48 1543.31 Q1300.22 1548.62 1305.64 1548.62 Q1311.09 1548.62 1313.8 1543.31 Q1316.54 1537.96 1316.54 1527.3 Q1316.54 1516.61 1313.8 1511.29 Q1311.09 1505.95 1305.64 1505.95 M1305.64 1500.39 Q1314.35 1500.39 1318.94 1507.3 Q1323.55 1514.18 1323.55 1527.3 Q1323.55 1540.39 1318.94 1547.3 Q1314.35 1554.17 1305.64 1554.17 Q1296.92 1554.17 1292.3 1547.3 Q1287.72 1540.39 1287.72 1527.3 Q1287.72 1514.18 1292.3 1507.3 Q1296.92 1500.39 1305.64 1500.39 Z\" fill=\"#000000\" fill-rule=\"evenodd\" fill-opacity=\"1\" /><path clip-path=\"url(#clip650)\" d=\"M1779.06 1505.95 Q1773.64 1505.95 1770.9 1511.29 Q1768.19 1516.61 1768.19 1527.3 Q1768.19 1537.96 1770.9 1543.31 Q1773.64 1548.62 1779.06 1548.62 Q1784.51 1548.62 1787.22 1543.31 Q1789.96 1537.96 1789.96 1527.3 Q1789.96 1516.61 1787.22 1511.29 Q1784.51 1505.95 1779.06 1505.95 M1779.06 1500.39 Q1787.77 1500.39 1792.36 1507.3 Q1796.97 1514.18 1796.97 1527.3 Q1796.97 1540.39 1792.36 1547.3 Q1787.77 1554.17 1779.06 1554.17 Q1770.34 1554.17 1765.72 1547.3 Q1761.14 1540.39 1761.14 1527.3 Q1761.14 1514.18 1765.72 1507.3 Q1770.34 1500.39 1779.06 1500.39 Z\" fill=\"#000000\" fill-rule=\"evenodd\" fill-opacity=\"1\" /><path clip-path=\"url(#clip650)\" d=\"M1809.3 1544.35 L1816.63 1544.35 L1816.63 1553.17 L1809.3 1553.17 L1809.3 1544.35 Z\" fill=\"#000000\" fill-rule=\"evenodd\" fill-opacity=\"1\" /><path clip-path=\"url(#clip650)\" d=\"M1831.97 1501.33 L1859.51 1501.33 L1859.51 1507.23 L1838.4 1507.23 L1838.4 1519.94 Q1839.93 1519.42 1841.45 1519.18 Q1842.98 1518.9 1844.51 1518.9 Q1853.19 1518.9 1858.26 1523.65 Q1863.33 1528.41 1863.33 1536.54 Q1863.33 1544.9 1858.12 1549.56 Q1852.91 1554.17 1843.43 1554.17 Q1840.17 1554.17 1836.77 1553.62 Q1833.4 1553.06 1829.79 1551.95 L1829.79 1544.9 Q1832.91 1546.61 1836.25 1547.44 Q1839.58 1548.27 1843.29 1548.27 Q1849.3 1548.27 1852.81 1545.11 Q1856.31 1541.95 1856.31 1536.54 Q1856.31 1531.12 1852.81 1527.96 Q1849.3 1524.8 1843.29 1524.8 Q1840.48 1524.8 1837.67 1525.42 Q1834.89 1526.05 1831.97 1527.37 L1831.97 1501.33 Z\" fill=\"#000000\" fill-rule=\"evenodd\" fill-opacity=\"1\" /><path clip-path=\"url(#clip650)\" d=\"M2303.49 1547.27 L2314.94 1547.27 L2314.94 1507.72 L2302.48 1510.22 L2302.48 1503.83 L2314.87 1501.33 L2321.89 1501.33 L2321.89 1547.27 L2333.35 1547.27 L2333.35 1553.17 L2303.49 1553.17 L2303.49 1547.27 Z\" fill=\"#000000\" fill-rule=\"evenodd\" fill-opacity=\"1\" /><path clip-path=\"url(#clip650)\" d=\"M2347.51 1544.35 L2354.84 1544.35 L2354.84 1553.17 L2347.51 1553.17 L2347.51 1544.35 Z\" fill=\"#000000\" fill-rule=\"evenodd\" fill-opacity=\"1\" /><path clip-path=\"url(#clip650)\" d=\"M2385.12 1505.95 Q2379.7 1505.95 2376.96 1511.29 Q2374.25 1516.61 2374.25 1527.3 Q2374.25 1537.96 2376.96 1543.31 Q2379.7 1548.62 2385.12 1548.62 Q2390.57 1548.62 2393.28 1543.31 Q2396.02 1537.96 2396.02 1527.3 Q2396.02 1516.61 2393.28 1511.29 Q2390.57 1505.95 2385.12 1505.95 M2385.12 1500.39 Q2393.83 1500.39 2398.42 1507.3 Q2403.03 1514.18 2403.03 1527.3 Q2403.03 1540.39 2398.42 1547.3 Q2393.83 1554.17 2385.12 1554.17 Q2376.4 1554.17 2371.78 1547.3 Q2367.2 1540.39 2367.2 1527.3 Q2367.2 1514.18 2371.78 1507.3 Q2376.4 1500.39 2385.12 1500.39 Z\" fill=\"#000000\" fill-rule=\"evenodd\" fill-opacity=\"1\" /><polyline clip-path=\"url(#clip652)\" style=\"stroke:#000000; stroke-linecap:round; stroke-linejoin:round; stroke-width:2; stroke-opacity:0.1; fill:none\" points=\"\n",
       "  190.672,1428.92 2352.76,1428.92 \n",
       "  \"/>\n",
       "<polyline clip-path=\"url(#clip652)\" style=\"stroke:#000000; stroke-linecap:round; stroke-linejoin:round; stroke-width:2; stroke-opacity:0.1; fill:none\" points=\"\n",
       "  190.672,1093.57 2352.76,1093.57 \n",
       "  \"/>\n",
       "<polyline clip-path=\"url(#clip652)\" style=\"stroke:#000000; stroke-linecap:round; stroke-linejoin:round; stroke-width:2; stroke-opacity:0.1; fill:none\" points=\"\n",
       "  190.672,758.206 2352.76,758.206 \n",
       "  \"/>\n",
       "<polyline clip-path=\"url(#clip652)\" style=\"stroke:#000000; stroke-linecap:round; stroke-linejoin:round; stroke-width:2; stroke-opacity:0.1; fill:none\" points=\"\n",
       "  190.672,422.847 2352.76,422.847 \n",
       "  \"/>\n",
       "<polyline clip-path=\"url(#clip652)\" style=\"stroke:#000000; stroke-linecap:round; stroke-linejoin:round; stroke-width:2; stroke-opacity:0.1; fill:none\" points=\"\n",
       "  190.672,87.4872 2352.76,87.4872 \n",
       "  \"/>\n",
       "<polyline clip-path=\"url(#clip650)\" style=\"stroke:#000000; stroke-linecap:round; stroke-linejoin:round; stroke-width:4; stroke-opacity:1; fill:none\" points=\"\n",
       "  190.672,1469.17 190.672,47.2441 \n",
       "  \"/>\n",
       "<polyline clip-path=\"url(#clip650)\" style=\"stroke:#000000; stroke-linecap:round; stroke-linejoin:round; stroke-width:4; stroke-opacity:1; fill:none\" points=\"\n",
       "  190.672,1428.92 209.57,1428.92 \n",
       "  \"/>\n",
       "<polyline clip-path=\"url(#clip650)\" style=\"stroke:#000000; stroke-linecap:round; stroke-linejoin:round; stroke-width:4; stroke-opacity:1; fill:none\" points=\"\n",
       "  190.672,1093.57 209.57,1093.57 \n",
       "  \"/>\n",
       "<polyline clip-path=\"url(#clip650)\" style=\"stroke:#000000; stroke-linecap:round; stroke-linejoin:round; stroke-width:4; stroke-opacity:1; fill:none\" points=\"\n",
       "  190.672,758.206 209.57,758.206 \n",
       "  \"/>\n",
       "<polyline clip-path=\"url(#clip650)\" style=\"stroke:#000000; stroke-linecap:round; stroke-linejoin:round; stroke-width:4; stroke-opacity:1; fill:none\" points=\"\n",
       "  190.672,422.847 209.57,422.847 \n",
       "  \"/>\n",
       "<polyline clip-path=\"url(#clip650)\" style=\"stroke:#000000; stroke-linecap:round; stroke-linejoin:round; stroke-width:4; stroke-opacity:1; fill:none\" points=\"\n",
       "  190.672,87.4872 209.57,87.4872 \n",
       "  \"/>\n",
       "<path clip-path=\"url(#clip650)\" d=\"M68.9087 1407.62 Q63.4921 1407.62 60.749 1412.97 Q58.0407 1418.28 58.0407 1428.98 Q58.0407 1439.64 60.749 1444.98 Q63.4921 1450.3 68.9087 1450.3 Q74.3601 1450.3 77.0684 1444.98 Q79.8114 1439.64 79.8114 1428.98 Q79.8114 1418.28 77.0684 1412.97 Q74.3601 1407.62 68.9087 1407.62 M68.9087 1402.07 Q77.6239 1402.07 82.2072 1408.98 Q86.8253 1415.85 86.8253 1428.98 Q86.8253 1442.07 82.2072 1448.98 Q77.6239 1455.85 68.9087 1455.85 Q60.1935 1455.85 55.5754 1448.98 Q50.9921 1442.07 50.9921 1428.98 Q50.9921 1415.85 55.5754 1408.98 Q60.1935 1402.07 68.9087 1402.07 Z\" fill=\"#000000\" fill-rule=\"evenodd\" fill-opacity=\"1\" /><path clip-path=\"url(#clip650)\" d=\"M99.1516 1446.03 L106.478 1446.03 L106.478 1454.84 L99.1516 1454.84 L99.1516 1446.03 Z\" fill=\"#000000\" fill-rule=\"evenodd\" fill-opacity=\"1\" /><path clip-path=\"url(#clip650)\" d=\"M136.756 1407.62 Q131.339 1407.62 128.596 1412.97 Q125.888 1418.28 125.888 1428.98 Q125.888 1439.64 128.596 1444.98 Q131.339 1450.3 136.756 1450.3 Q142.207 1450.3 144.915 1444.98 Q147.658 1439.64 147.658 1428.98 Q147.658 1418.28 144.915 1412.97 Q142.207 1407.62 136.756 1407.62 M136.756 1402.07 Q145.471 1402.07 150.054 1408.98 Q154.672 1415.85 154.672 1428.98 Q154.672 1442.07 150.054 1448.98 Q145.471 1455.85 136.756 1455.85 Q128.04 1455.85 123.422 1448.98 Q118.839 1442.07 118.839 1428.98 Q118.839 1415.85 123.422 1408.98 Q128.04 1402.07 136.756 1402.07 Z\" fill=\"#000000\" fill-rule=\"evenodd\" fill-opacity=\"1\" /><path clip-path=\"url(#clip650)\" d=\"M70.4017 1072.26 Q64.9851 1072.26 62.2421 1077.61 Q59.5337 1082.92 59.5337 1093.62 Q59.5337 1104.28 62.2421 1109.62 Q64.9851 1114.94 70.4017 1114.94 Q75.8531 1114.94 78.5614 1109.62 Q81.3045 1104.28 81.3045 1093.62 Q81.3045 1082.92 78.5614 1077.61 Q75.8531 1072.26 70.4017 1072.26 M70.4017 1066.71 Q79.117 1066.71 83.7003 1073.62 Q88.3183 1080.49 88.3183 1093.62 Q88.3183 1106.71 83.7003 1113.62 Q79.117 1120.49 70.4017 1120.49 Q61.6865 1120.49 57.0685 1113.62 Q52.4852 1106.71 52.4852 1093.62 Q52.4852 1080.49 57.0685 1073.62 Q61.6865 1066.71 70.4017 1066.71 Z\" fill=\"#000000\" fill-rule=\"evenodd\" fill-opacity=\"1\" /><path clip-path=\"url(#clip650)\" d=\"M100.645 1110.67 L107.971 1110.67 L107.971 1119.49 L100.645 1119.49 L100.645 1110.67 Z\" fill=\"#000000\" fill-rule=\"evenodd\" fill-opacity=\"1\" /><path clip-path=\"url(#clip650)\" d=\"M123.318 1067.65 L150.853 1067.65 L150.853 1073.55 L129.742 1073.55 L129.742 1086.26 Q131.269 1085.74 132.797 1085.49 Q134.325 1085.21 135.853 1085.21 Q144.533 1085.21 149.603 1089.97 Q154.672 1094.73 154.672 1102.85 Q154.672 1111.22 149.464 1115.87 Q144.256 1120.49 134.776 1120.49 Q131.513 1120.49 128.11 1119.94 Q124.742 1119.38 121.131 1118.27 L121.131 1111.22 Q124.256 1112.92 127.589 1113.76 Q130.922 1114.59 134.638 1114.59 Q140.644 1114.59 144.151 1111.43 Q147.658 1108.27 147.658 1102.85 Q147.658 1097.44 144.151 1094.28 Q140.644 1091.12 134.638 1091.12 Q131.825 1091.12 129.013 1091.74 Q126.235 1092.37 123.318 1093.69 L123.318 1067.65 Z\" fill=\"#000000\" fill-rule=\"evenodd\" fill-opacity=\"1\" /><path clip-path=\"url(#clip650)\" d=\"M55.124 778.223 L66.5823 778.223 L66.5823 738.675 L54.1171 741.175 L54.1171 734.786 L66.5129 732.286 L73.5267 732.286 L73.5267 778.223 L84.985 778.223 L84.985 784.126 L55.124 784.126 L55.124 778.223 Z\" fill=\"#000000\" fill-rule=\"evenodd\" fill-opacity=\"1\" /><path clip-path=\"url(#clip650)\" d=\"M99.1516 775.307 L106.478 775.307 L106.478 784.126 L99.1516 784.126 L99.1516 775.307 Z\" fill=\"#000000\" fill-rule=\"evenodd\" fill-opacity=\"1\" /><path clip-path=\"url(#clip650)\" d=\"M136.756 736.904 Q131.339 736.904 128.596 742.251 Q125.888 747.564 125.888 758.258 Q125.888 768.918 128.596 774.265 Q131.339 779.577 136.756 779.577 Q142.207 779.577 144.915 774.265 Q147.658 768.918 147.658 758.258 Q147.658 747.564 144.915 742.251 Q142.207 736.904 136.756 736.904 M136.756 731.348 Q145.471 731.348 150.054 738.258 Q154.672 745.133 154.672 758.258 Q154.672 771.348 150.054 778.258 Q145.471 785.133 136.756 785.133 Q128.04 785.133 123.422 778.258 Q118.839 771.348 118.839 758.258 Q118.839 745.133 123.422 738.258 Q128.04 731.348 136.756 731.348 Z\" fill=\"#000000\" fill-rule=\"evenodd\" fill-opacity=\"1\" /><path clip-path=\"url(#clip650)\" d=\"M56.6171 442.864 L68.0754 442.864 L68.0754 403.315 L55.6102 405.815 L55.6102 399.427 L68.0059 396.927 L75.0198 396.927 L75.0198 442.864 L86.478 442.864 L86.478 448.767 L56.6171 448.767 L56.6171 442.864 Z\" fill=\"#000000\" fill-rule=\"evenodd\" fill-opacity=\"1\" /><path clip-path=\"url(#clip650)\" d=\"M100.645 439.947 L107.971 439.947 L107.971 448.767 L100.645 448.767 L100.645 439.947 Z\" fill=\"#000000\" fill-rule=\"evenodd\" fill-opacity=\"1\" /><path clip-path=\"url(#clip650)\" d=\"M123.318 396.927 L150.853 396.927 L150.853 402.829 L129.742 402.829 L129.742 415.538 Q131.269 415.017 132.797 414.774 Q134.325 414.496 135.853 414.496 Q144.533 414.496 149.603 419.253 Q154.672 424.01 154.672 432.135 Q154.672 440.503 149.464 445.156 Q144.256 449.774 134.776 449.774 Q131.513 449.774 128.11 449.218 Q124.742 448.662 121.131 447.551 L121.131 440.503 Q124.256 442.204 127.589 443.037 Q130.922 443.871 134.638 443.871 Q140.644 443.871 144.151 440.711 Q147.658 437.551 147.658 432.135 Q147.658 426.718 144.151 423.558 Q140.644 420.399 134.638 420.399 Q131.825 420.399 129.013 421.024 Q126.235 421.649 123.318 422.968 L123.318 396.927 Z\" fill=\"#000000\" fill-rule=\"evenodd\" fill-opacity=\"1\" /><path clip-path=\"url(#clip650)\" d=\"M59.9504 107.504 L84.4294 107.504 L84.4294 113.407 L51.513 113.407 L51.513 107.504 Q55.506 103.373 62.381 96.4281 Q69.2906 89.449 71.0615 87.4351 Q74.4295 83.6504 75.7489 81.0463 Q77.1031 78.4074 77.1031 75.8727 Q77.1031 71.7408 74.1864 69.1366 Q71.3045 66.5325 66.6518 66.5325 Q63.3532 66.5325 59.6726 67.6783 Q56.0268 68.8241 51.8602 71.1505 L51.8602 64.0672 Q56.0963 62.3658 59.7768 61.4978 Q63.4573 60.6297 66.5129 60.6297 Q74.5684 60.6297 79.36 64.6575 Q84.1517 68.6852 84.1517 75.4213 Q84.1517 78.6157 82.9364 81.4977 Q81.7559 84.3449 78.5961 88.2337 Q77.7281 89.2407 73.0753 94.067 Q68.4226 98.8587 59.9504 107.504 Z\" fill=\"#000000\" fill-rule=\"evenodd\" fill-opacity=\"1\" /><path clip-path=\"url(#clip650)\" d=\"M99.1516 104.588 L106.478 104.588 L106.478 113.407 L99.1516 113.407 L99.1516 104.588 Z\" fill=\"#000000\" fill-rule=\"evenodd\" fill-opacity=\"1\" /><path clip-path=\"url(#clip650)\" d=\"M136.756 66.1853 Q131.339 66.1853 128.596 71.5324 Q125.888 76.8449 125.888 87.5393 Q125.888 98.199 128.596 103.546 Q131.339 108.859 136.756 108.859 Q142.207 108.859 144.915 103.546 Q147.658 98.199 147.658 87.5393 Q147.658 76.8449 144.915 71.5324 Q142.207 66.1853 136.756 66.1853 M136.756 60.6297 Q145.471 60.6297 150.054 67.5394 Q154.672 74.4144 154.672 87.5393 Q154.672 100.63 150.054 107.539 Q145.471 114.414 136.756 114.414 Q128.04 114.414 123.422 107.539 Q118.839 100.63 118.839 87.5393 Q118.839 74.4144 123.422 67.5394 Q128.04 60.6297 136.756 60.6297 Z\" fill=\"#000000\" fill-rule=\"evenodd\" fill-opacity=\"1\" /><polyline clip-path=\"url(#clip652)\" style=\"stroke:#009af9; stroke-linecap:round; stroke-linejoin:round; stroke-width:12; stroke-opacity:1; fill:none\" points=\"\n",
       "  190.672,1428.92 204.748,1420.19 334.905,1339.44 413.123,1290.91 479.256,1249.88 551.094,1205.31 617.323,1164.21 688.328,1120.16 770.593,1069.12 843.701,1023.76 \n",
       "  907.81,983.986 977.706,940.62 1048.02,896.996 1125.76,848.764 1199.72,802.873 1276.63,755.157 1341.37,714.99 1420.41,665.95 1492.81,621.027 1559.69,579.537 \n",
       "  1627.43,537.509 1703.34,490.408 1772.14,447.726 1850.9,398.858 1923.83,353.611 1995.72,309.003 2065.53,265.692 2137.09,221.293 2215.5,172.648 2329.39,101.984 \n",
       "  2352.76,87.4872 \n",
       "  \"/>\n",
       "</svg>\n"
      ]
     },
     "execution_count": 4,
     "metadata": {},
     "output_type": "execute_result"
    }
   ],
   "source": [
    "a = 1\n",
    "plot(x -> 1 + x, xlim=(-a, a), legend=:none)"
   ]
  },
  {
   "cell_type": "markdown",
   "id": "c49bf903",
   "metadata": {
    "slideshow": {
     "slide_type": "slide"
    }
   },
   "source": [
    "# Machine epsilon\n",
    "\n",
    "We approximate real numbers with **floating point** arithmetic, which can only represent discrete values. In particular, there exists a largest number, which we call $\\epsilon_{\\text{machine}}$, such that\n",
    "$$ 1 \\oplus x = 1 \\quad \\text{for all}\\  \\lvert x \\rvert < \\epsilon_{\\text{machine}}.$$\n",
    "\n",
    "The notation $\\oplus, \\ominus, \\odot, \\oslash$ represent the elementary operation carried out in floating point arithmetic."
   ]
  },
  {
   "cell_type": "code",
   "execution_count": 5,
   "id": "86096208",
   "metadata": {
    "cell_style": "split",
    "slideshow": {
     "slide_type": "fragment"
    }
   },
   "outputs": [
    {
     "data": {
      "text/plain": [
       "1.1102230246251565e-16"
      ]
     },
     "execution_count": 5,
     "metadata": {},
     "output_type": "execute_result"
    }
   ],
   "source": [
    "eps = 1\n",
    "while 1 + eps != 1\n",
    "    eps = eps / 2\n",
    "end\n",
    "eps"
   ]
  },
  {
   "cell_type": "markdown",
   "id": "56fade8b",
   "metadata": {
    "slideshow": {
     "slide_type": "slide"
    }
   },
   "source": [
    "# Beating `exp`\n",
    "\n",
    "$$e^x = 1 + x + \\frac{x^2}{2!} + \\frac{x^3}{3!} + \\dotsb$$\n",
    "\n",
    "Suppose we want to compute $f(x) = e^x - 1$ for small values of $x$."
   ]
  },
  {
   "cell_type": "code",
   "execution_count": 6,
   "id": "282ad48a",
   "metadata": {
    "cell_style": "split"
   },
   "outputs": [
    {
     "data": {
      "text/plain": [
       "9.99999993922529e-9"
      ]
     },
     "execution_count": 6,
     "metadata": {},
     "output_type": "execute_result"
    }
   ],
   "source": [
    "f1(x) = exp(x) - 1\n",
    "y1 = f1(1e-8)"
   ]
  },
  {
   "cell_type": "code",
   "execution_count": 7,
   "id": "eff4a68c",
   "metadata": {
    "cell_style": "split"
   },
   "outputs": [
    {
     "data": {
      "text/plain": [
       "1.000000005e-8"
      ]
     },
     "execution_count": 7,
     "metadata": {},
     "output_type": "execute_result"
    }
   ],
   "source": [
    "f2(x) = x + x^2/2 + x^3/6\n",
    "y2 = f2(1e-8)"
   ]
  },
  {
   "cell_type": "markdown",
   "id": "379682f9",
   "metadata": {
    "slideshow": {
     "slide_type": "fragment"
    }
   },
   "source": [
    "Which answer is more accurate?"
   ]
  },
  {
   "cell_type": "code",
   "execution_count": 8,
   "id": "6081053e",
   "metadata": {
    "cell_style": "split"
   },
   "outputs": [
    {
     "name": "stdout",
     "output_type": "stream",
     "text": [
      "y1 - y2 = -1.1077470910720506e-16\n",
      "(y1 - y2) / y2 = -1.1077470855333152e-8\n"
     ]
    }
   ],
   "source": [
    "@show (y1 - y2)        # Absolute difference\n",
    "@show (y1 - y2) / y2;  # Relative difference"
   ]
  }
 ],
 "metadata": {
  "celltoolbar": "Slideshow",
  "kernelspec": {
   "display_name": "Julia 1.7.2",
   "language": "julia",
   "name": "julia-1.7"
  },
  "language_info": {
   "file_extension": ".jl",
   "mimetype": "application/julia",
   "name": "julia",
   "version": "1.8.4"
  },
  "rise": {
   "enable_chalkboard": true
  }
 },
 "nbformat": 4,
 "nbformat_minor": 5
}
