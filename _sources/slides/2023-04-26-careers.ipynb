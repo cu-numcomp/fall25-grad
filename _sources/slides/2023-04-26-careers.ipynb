{
 "cells": [
  {
   "cell_type": "markdown",
   "id": "57ca9f28",
   "metadata": {
    "slideshow": {
     "slide_type": "slide"
    }
   },
   "source": [
    "# Careers in numerical computation\n",
    "\n",
    "\n",
    "## Today\n",
    "* Research\n",
    "  * National Labs\n",
    "  * Industrial R&D\n",
    "  * Academia\n",
    "* Production\n",
    "  * Cloud and hardware\n",
    "  * Independent Software Vendors (ISV)\n",
    "  * Open source/services companies\n",
    "  * Engineering companies\n",
    "\n",
    "## Friday\n",
    "* Fast Fourier Transform\n",
    "* Monte Carlo integration"
   ]
  },
  {
   "cell_type": "markdown",
   "id": "aea37e47",
   "metadata": {
    "slideshow": {
     "slide_type": "slide"
    }
   },
   "source": [
    "# National Labs"
   ]
  },
  {
   "cell_type": "markdown",
   "id": "0109e632",
   "metadata": {
    "slideshow": {
     "slide_type": ""
    }
   },
   "source": [
    "* Department of Energy\n",
    "  * Office of Science (Berkeley, Argonne, Pacific Northwest, ...)\n",
    "  * National Nuclear Security Administration (Livermore, Los Alamos, Sandia)\n",
    "  * Office of Renewable Energy (NREL)\n",
    "* National Oceanic and Atmospheric Administration (NOAA)\n",
    "  * Weather and climate, operational numerical weather prediction and research\n",
    "* National Center for Atmospheric Research (NCAR)\n",
    "  * Comprehensive climate focus (includes ocean, sea ice, land ice, land)\n",
    "* National Institute of Standards and Technology\n",
    "  * Fundamental materials (e.g., gas equations of state), metrology\n",
    "* National Aeronautics and Space Administration (NASA)\n",
    "  * Earth research, especially remote sensing (satellite and aerial)\n",
    "  * Fluid and structural mechanics for safe, reliable, efficient flight (includes partnerships with FAA)\n",
    "  * Materials science and engineering (overlapping scope with industry)"
   ]
  },
  {
   "cell_type": "markdown",
   "id": "a0086adc",
   "metadata": {
    "slideshow": {
     "slide_type": "slide"
    }
   },
   "source": [
    "# Examples of lab/agency-led software"
   ]
  },
  {
   "cell_type": "markdown",
   "id": "7c5cf4dd",
   "metadata": {},
   "source": [
    "* HPC Middleware (MPI implementations, resource managers)\n",
    "* Numerical Libraries (PETSc, hypre, Sundials, Trilinos, MFEM)\n",
    "* Open source simulation applications (MOOSE library, LAMMPS, Nek, Albany)\n",
    "* Internal/export controlled simulation (BLAST, FUN3D, Sierra, MCNP, MOOSE apps)\n",
    "  * Nuclear reactor safety, stockpile stewardship, proprietary designs\n",
    "  * [Goodyear-Sandia partnership on tire simulation](https://newsreleases.sandia.gov/goodyear-sandia/)\n",
    "* Community Earth System Model (NCAR), Energy Exascale Earth System Model (E3SM)\n",
    "* Some orgs publicly embrace open source [LLNL Open Source](https://software.llnl.gov/)"
   ]
  },
  {
   "cell_type": "markdown",
   "id": "bf3445fa",
   "metadata": {
    "slideshow": {
     "slide_type": "slide"
    }
   },
   "source": [
    "# Industrial R&D\n",
    "\n",
    "* Hardware vendors and cloud providers: CUDA, HIP, SYCL, OpenMP, MPI\n",
    "  * \"Science/engineering should use our programming models/run fast on our hardware\"\n",
    "  * \"Data science\" (statistical computing) should also be fast\n",
    "* High-stakes methods development\n",
    "  * Example: [High-Lift Prediction Workshop](https://hiliftpw.larc.nasa.gov/) ([participants](https://hiliftpw.larc.nasa.gov/Workshop3/participantlist.html))\n",
    "* Research papers in specific venues are valuable\n",
    "* Windows into industrial research culture\n",
    "  * Who participates in comparison studies, standards organizations, etc.?\n",
    "  * Who attends technical conferences (not trade shows) and holds elected positions in professional societies?"
   ]
  },
  {
   "cell_type": "markdown",
   "id": "83b1a82b",
   "metadata": {
    "slideshow": {
     "slide_type": "slide"
    }
   },
   "source": [
    "# Academia"
   ]
  },
  {
   "cell_type": "markdown",
   "id": "e4c851ad",
   "metadata": {},
   "source": [
    "* Tenure-track\n",
    "  * Teaching\n",
    "  * External funding is mainly to support students and research staff\n",
    "  * Eternally swimming in hats\n",
    "* Research faculty/research software engineer\n",
    "  * Usually reliant on external grants, often a \"center\"\n",
    "  * There are some \"research software engineering\" facility/service groups (e.g., [Princeton](https://researchcomputing.princeton.edu/news/2022/princeton-bets-big-research-software-engineering))\n",
    "  * [CU Institutes](https://www.colorado.edu/research/research-institutes) (CIRES, INSTAAR, LASP, JILA, BioFrontiers, ...)"
   ]
  },
  {
   "cell_type": "markdown",
   "id": "705e4ad4",
   "metadata": {
    "slideshow": {
     "slide_type": "slide"
    }
   },
   "source": [
    "# Independence, transparency, and security\n",
    "\n",
    "* Competitive government funding\n",
    "  * Grant review panel, process to avoid conflicts of interest\n",
    "  * Applicants receive reviews with positive and negative\n",
    "  * Often low funding rate (e.g., 10% of proposals get funded)\n",
    "  * Acadamics can apply to any agency, DOE labs only eligible for DOE funding\n",
    "* Block government funding\n",
    "  * NNSA funding for classified work; mission-oriented work at other agencies\n",
    "  * Internal review process, may be formal (\"LDRD\") but likely doesn't avoid CoI (reviewed by your management chain)\n",
    "* Industry\n",
    "  * Often informal process to influence management decisions\n",
    "  * Depends more on personal trust, likely more dependent on individual managers (can change rapidly with reorg)\n",
    "  * Since no formal process or external review, minimal feedback"
   ]
  },
  {
   "cell_type": "markdown",
   "id": "38ade84b",
   "metadata": {
    "cell_style": "split",
    "slideshow": {
     "slide_type": "slide"
    }
   },
   "source": [
    "# Production"
   ]
  },
  {
   "cell_type": "markdown",
   "id": "c9dea056",
   "metadata": {
    "cell_style": "split",
    "slideshow": {
     "slide_type": ""
    }
   },
   "source": [
    "* Cloud and hardware vendors\n",
    "  * build or contribute to numerical libraries\n",
    "  * use numerical computing to design silicon, optimize fabrication process\n",
    "  * use numerical computing to design and optimize data centers, analyze workloads\n",
    "* Independent Software Vendors\n",
    "  * Geometric modeling/CAD, simulation (ANSYS, Abaqus, etc.)\n",
    "  * Matlab, Mathematica, etc.\n",
    "* Open source/services\n",
    "  * Distribution/integration: Posit (aka. RStudio), Enthought, Continuum, QuanSight\n",
    "  * Training/consulting/support: OpenFOAM\n",
    "  * Various large tech companies have people doing open source numerical library development"
   ]
  },
  {
   "attachments": {},
   "cell_type": "markdown",
   "id": "f39e82d1",
   "metadata": {
    "cell_style": "split"
   },
   "source": [
    "* Engineering companies\n",
    "  * Growing in-house simulation tools\n",
    "  * Larger companies can afford to make these tools\n",
    "\n",
    "![](../img/OldsSnell-CommercialInHouseOpenEngineeringSoftware-2022.png)\n"
   ]
  },
  {
   "cell_type": "markdown",
   "id": "e9610777",
   "metadata": {
    "slideshow": {
     "slide_type": "slide"
    }
   },
   "source": [
    "# What does technical leadership look like?"
   ]
  },
  {
   "cell_type": "markdown",
   "id": "b2078d6b",
   "metadata": {
    "slideshow": {
     "slide_type": "slide"
    }
   },
   "source": [
    "# Projects\n",
    "\n",
    "* Motivation\n",
    "* What you did and how\n",
    "* Results and interpretation\n",
    "* Examples of positive and negative impacts/risks"
   ]
  }
 ],
 "metadata": {
  "celltoolbar": "Slideshow",
  "kernelspec": {
   "display_name": "Julia 1.8.5",
   "language": "julia",
   "name": "julia-1.8"
  },
  "language_info": {
   "file_extension": ".jl",
   "mimetype": "application/julia",
   "name": "julia",
   "version": "1.8.5"
  }
 },
 "nbformat": 4,
 "nbformat_minor": 5
}
