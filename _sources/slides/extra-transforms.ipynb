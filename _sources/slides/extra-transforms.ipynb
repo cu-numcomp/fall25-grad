{
 "cells": [
  {
   "cell_type": "markdown",
   "id": "de6496b8",
   "metadata": {},
   "source": [
    "# Fast transforms\n",
    "* Fast Fourier Transform\n",
    "* Monte Carlo integration"
   ]
  }
 ],
 "metadata": {
  "kernelspec": {
   "display_name": "Julia 1.8.5",
   "language": "julia",
   "name": "julia-1.8"
  },
  "language_info": {
   "file_extension": ".jl",
   "mimetype": "application/julia",
   "name": "julia",
   "version": "1.8.5"
  }
 },
 "nbformat": 4,
 "nbformat_minor": 5
}
