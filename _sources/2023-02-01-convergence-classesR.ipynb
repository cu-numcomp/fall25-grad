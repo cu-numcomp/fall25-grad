{
 "cells": [
  {
   "cell_type": "markdown",
   "id": "46d41406",
   "metadata": {
    "hideCode": false,
    "hidePrompt": false,
    "slideshow": {
     "slide_type": "slide"
    }
   },
   "source": [
    "# 2023-02-01 Convergence classes\n",
    "\n",
    "* Office hours: Monday 9-10pm, Tuesday 2-3pm, Thursday 2-3pm\n",
    "* This week will stay virtual. Plan is to start in-person the following Monday (Jan 31)\n",
    "\n",
    "## Last time\n",
    "\n",
    "* Forward and backward error\n",
    "* Computing volume of a polygon\n",
    "* Rootfinding examples\n",
    "* Use [Roots.jl](https://juliapackages.com/p/roots) to solve\n",
    "* Introduce Bisection\n",
    "\n",
    "## Today\n",
    "\n",
    "* Discuss rootfinding as a modeling tool\n",
    "* Limitations of bisection\n",
    "* Convergence classes\n",
    "* Intro to Newton"
   ]
  },
  {
   "cell_type": "code",
   "execution_count": 1,
   "id": "a650ab48",
   "metadata": {
    "slideshow": {
     "slide_type": "skip"
    }
   },
   "outputs": [],
   "source": [
    "using Plots\n",
    "default(linewidth=4)"
   ]
  },
  {
   "cell_type": "markdown",
   "id": "d299e9db",
   "metadata": {
    "slideshow": {
     "slide_type": "slide"
    }
   },
   "source": [
    "# Rootfinding\n",
    "\n",
    "> Given $f(x)$, find $x$ such that $f(x) = 0$.\n",
    "\n",
    "We'll work with scalars ($f$ and $x$ are just numbers) for now, and revisit later when they vector-valued."
   ]
  },
  {
   "cell_type": "markdown",
   "id": "12ae82a7",
   "metadata": {
    "cell_style": "center",
    "slideshow": {
     "slide_type": "slide"
    }
   },
   "source": [
    "\n",
    "\n",
    "# Iterative bisection"
   ]
  },
  {
   "cell_type": "code",
   "execution_count": 1,
   "id": "0495e9b8",
   "metadata": {
    "cell_style": "split"
   },
   "outputs": [
    {
     "data": {
      "text/plain": [
       "bisect_iter (generic function with 1 method)"
      ]
     },
     "execution_count": 1,
     "metadata": {},
     "output_type": "execute_result"
    }
   ],
   "source": [
    "f(x) = cos(x) - x\n",
    "hasroot(f, a, b) = f(a) * f(b) < 0\n",
    "function bisect_iter(f, a, b, tol)\n",
    "    hist = Float64[]\n",
    "    while abs(b - a) > tol\n",
    "        mid = (a + b) / 2\n",
    "        push!(hist, mid)\n",
    "        if hasroot(f, a, mid)\n",
    "            b = mid\n",
    "        else\n",
    "            a = mid\n",
    "        end\n",
    "    end\n",
    "    hist\n",
    "end"
   ]
  },
  {
   "cell_type": "code",
   "execution_count": 17,
   "id": "15d29c9a",
   "metadata": {
    "cell_style": "split"
   },
   "outputs": [
    {
     "data": {
      "text/plain": [
       "52-element Vector{Float64}:\n",
       " 1.0\n",
       " 0.0\n",
       " 0.5\n",
       " 0.75\n",
       " 0.625\n",
       " 0.6875\n",
       " 0.71875\n",
       " 0.734375\n",
       " 0.7421875\n",
       " 0.73828125\n",
       " 0.740234375\n",
       " 0.7392578125\n",
       " 0.73876953125\n",
       " ⋮\n",
       " 0.7390851332147577\n",
       " 0.7390851332156672\n",
       " 0.7390851332152124\n",
       " 0.739085133214985\n",
       " 0.7390851332150987\n",
       " 0.7390851332151556\n",
       " 0.739085133215184\n",
       " 0.7390851332151698\n",
       " 0.7390851332151627\n",
       " 0.7390851332151591\n",
       " 0.7390851332151609\n",
       " 0.73908513321516"
      ]
     },
     "execution_count": 17,
     "metadata": {},
     "output_type": "execute_result"
    }
   ],
   "source": [
    "hist = bisect_iter(f, -1, 3, 1e-15)"
   ]
  },
  {
   "cell_type": "markdown",
   "id": "7e067e0f",
   "metadata": {
    "slideshow": {
     "slide_type": "slide"
    }
   },
   "source": [
    "# Let's plot the error\n",
    "\n",
    "$$ \\lvert \\texttt{bisect}^k(f, a, b) - r \\rvert, \\quad k = 1, 2, \\dotsc $$\n",
    "\n",
    "where $r$ is the true root, $f(r) = 0$."
   ]
  },
  {
   "cell_type": "code",
   "execution_count": 9,
   "id": "6c0d0788",
   "metadata": {
    "cell_style": "split"
   },
   "outputs": [
    {
     "data": {
      "image/svg+xml": [
       "<?xml version=\"1.0\" encoding=\"utf-8\"?>\n",
       "<svg xmlns=\"http://www.w3.org/2000/svg\" xmlns:xlink=\"http://www.w3.org/1999/xlink\" width=\"600\" height=\"400\" viewBox=\"0 0 2400 1600\">\n",
       "<defs>\n",
       "  <clipPath id=\"clip610\">\n",
       "    <rect x=\"0\" y=\"0\" width=\"2400\" height=\"1600\"/>\n",
       "  </clipPath>\n",
       "</defs>\n",
       "<path clip-path=\"url(#clip610)\" d=\"\n",
       "M0 1600 L2400 1600 L2400 0 L0 0  Z\n",
       "  \" fill=\"#ffffff\" fill-rule=\"evenodd\" fill-opacity=\"1\"/>\n",
       "<defs>\n",
       "  <clipPath id=\"clip611\">\n",
       "    <rect x=\"480\" y=\"0\" width=\"1681\" height=\"1600\"/>\n",
       "  </clipPath>\n",
       "</defs>\n",
       "<path clip-path=\"url(#clip610)\" d=\"\n",
       "M213.607 1486.45 L2352.76 1486.45 L2352.76 47.2441 L213.607 47.2441  Z\n",
       "  \" fill=\"#ffffff\" fill-rule=\"evenodd\" fill-opacity=\"1\"/>\n",
       "<defs>\n",
       "  <clipPath id=\"clip612\">\n",
       "    <rect x=\"213\" y=\"47\" width=\"2140\" height=\"1440\"/>\n",
       "  </clipPath>\n",
       "</defs>\n",
       "<polyline clip-path=\"url(#clip612)\" style=\"stroke:#000000; stroke-linecap:round; stroke-linejoin:round; stroke-width:2; stroke-opacity:0.1; fill:none\" points=\"\n",
       "  214.795,1486.45 214.795,47.2441 \n",
       "  \"/>\n",
       "<polyline clip-path=\"url(#clip612)\" style=\"stroke:#000000; stroke-linecap:round; stroke-linejoin:round; stroke-width:2; stroke-opacity:0.1; fill:none\" points=\"\n",
       "  808.343,1486.45 808.343,47.2441 \n",
       "  \"/>\n",
       "<polyline clip-path=\"url(#clip612)\" style=\"stroke:#000000; stroke-linecap:round; stroke-linejoin:round; stroke-width:2; stroke-opacity:0.1; fill:none\" points=\"\n",
       "  1401.89,1486.45 1401.89,47.2441 \n",
       "  \"/>\n",
       "<polyline clip-path=\"url(#clip612)\" style=\"stroke:#000000; stroke-linecap:round; stroke-linejoin:round; stroke-width:2; stroke-opacity:0.1; fill:none\" points=\"\n",
       "  1995.44,1486.45 1995.44,47.2441 \n",
       "  \"/>\n",
       "<polyline clip-path=\"url(#clip610)\" style=\"stroke:#000000; stroke-linecap:round; stroke-linejoin:round; stroke-width:4; stroke-opacity:1; fill:none\" points=\"\n",
       "  213.607,1486.45 2352.76,1486.45 \n",
       "  \"/>\n",
       "<polyline clip-path=\"url(#clip610)\" style=\"stroke:#000000; stroke-linecap:round; stroke-linejoin:round; stroke-width:4; stroke-opacity:1; fill:none\" points=\"\n",
       "  214.795,1486.45 214.795,1467.55 \n",
       "  \"/>\n",
       "<polyline clip-path=\"url(#clip610)\" style=\"stroke:#000000; stroke-linecap:round; stroke-linejoin:round; stroke-width:4; stroke-opacity:1; fill:none\" points=\"\n",
       "  808.343,1486.45 808.343,1467.55 \n",
       "  \"/>\n",
       "<polyline clip-path=\"url(#clip610)\" style=\"stroke:#000000; stroke-linecap:round; stroke-linejoin:round; stroke-width:4; stroke-opacity:1; fill:none\" points=\"\n",
       "  1401.89,1486.45 1401.89,1467.55 \n",
       "  \"/>\n",
       "<polyline clip-path=\"url(#clip610)\" style=\"stroke:#000000; stroke-linecap:round; stroke-linejoin:round; stroke-width:4; stroke-opacity:1; fill:none\" points=\"\n",
       "  1995.44,1486.45 1995.44,1467.55 \n",
       "  \"/>\n",
       "<path clip-path=\"url(#clip610)\" d=\"M214.795 1517.37 Q211.183 1517.37 209.355 1520.93 Q207.549 1524.47 207.549 1531.6 Q207.549 1538.71 209.355 1542.27 Q211.183 1545.82 214.795 1545.82 Q218.429 1545.82 220.234 1542.27 Q222.063 1538.71 222.063 1531.6 Q222.063 1524.47 220.234 1520.93 Q218.429 1517.37 214.795 1517.37 M214.795 1513.66 Q220.605 1513.66 223.66 1518.27 Q226.739 1522.85 226.739 1531.6 Q226.739 1540.33 223.66 1544.94 Q220.605 1549.52 214.795 1549.52 Q208.984 1549.52 205.906 1544.94 Q202.85 1540.33 202.85 1531.6 Q202.85 1522.85 205.906 1518.27 Q208.984 1513.66 214.795 1513.66 Z\" fill=\"#000000\" fill-rule=\"evenodd\" fill-opacity=\"1\" /><path clip-path=\"url(#clip610)\" d=\"M783.031 1544.91 L790.669 1544.91 L790.669 1518.55 L782.359 1520.21 L782.359 1515.95 L790.623 1514.29 L795.299 1514.29 L795.299 1544.91 L802.938 1544.91 L802.938 1548.85 L783.031 1548.85 L783.031 1544.91 Z\" fill=\"#000000\" fill-rule=\"evenodd\" fill-opacity=\"1\" /><path clip-path=\"url(#clip610)\" d=\"M822.382 1517.37 Q818.771 1517.37 816.942 1520.93 Q815.137 1524.47 815.137 1531.6 Q815.137 1538.71 816.942 1542.27 Q818.771 1545.82 822.382 1545.82 Q826.016 1545.82 827.822 1542.27 Q829.651 1538.71 829.651 1531.6 Q829.651 1524.47 827.822 1520.93 Q826.016 1517.37 822.382 1517.37 M822.382 1513.66 Q828.192 1513.66 831.248 1518.27 Q834.327 1522.85 834.327 1531.6 Q834.327 1540.33 831.248 1544.94 Q828.192 1549.52 822.382 1549.52 Q816.572 1549.52 813.493 1544.94 Q810.438 1540.33 810.438 1531.6 Q810.438 1522.85 813.493 1518.27 Q816.572 1513.66 822.382 1513.66 Z\" fill=\"#000000\" fill-rule=\"evenodd\" fill-opacity=\"1\" /><path clip-path=\"url(#clip610)\" d=\"M1380.66 1544.91 L1396.98 1544.91 L1396.98 1548.85 L1375.04 1548.85 L1375.04 1544.91 Q1377.7 1542.16 1382.28 1537.53 Q1386.89 1532.88 1388.07 1531.53 Q1390.32 1529.01 1391.2 1527.27 Q1392.1 1525.51 1392.1 1523.82 Q1392.1 1521.07 1390.16 1519.33 Q1388.23 1517.6 1385.13 1517.6 Q1382.93 1517.6 1380.48 1518.36 Q1378.05 1519.13 1375.27 1520.68 L1375.27 1515.95 Q1378.1 1514.82 1380.55 1514.24 Q1383 1513.66 1385.04 1513.66 Q1390.41 1513.66 1393.6 1516.35 Q1396.8 1519.03 1396.8 1523.52 Q1396.8 1525.65 1395.99 1527.57 Q1395.2 1529.47 1393.1 1532.07 Q1392.52 1532.74 1389.41 1535.95 Q1386.31 1539.15 1380.66 1544.91 Z\" fill=\"#000000\" fill-rule=\"evenodd\" fill-opacity=\"1\" /><path clip-path=\"url(#clip610)\" d=\"M1416.8 1517.37 Q1413.19 1517.37 1411.36 1520.93 Q1409.55 1524.47 1409.55 1531.6 Q1409.55 1538.71 1411.36 1542.27 Q1413.19 1545.82 1416.8 1545.82 Q1420.43 1545.82 1422.24 1542.27 Q1424.07 1538.71 1424.07 1531.6 Q1424.07 1524.47 1422.24 1520.93 Q1420.43 1517.37 1416.8 1517.37 M1416.8 1513.66 Q1422.61 1513.66 1425.66 1518.27 Q1428.74 1522.85 1428.74 1531.6 Q1428.74 1540.33 1425.66 1544.94 Q1422.61 1549.52 1416.8 1549.52 Q1410.99 1549.52 1407.91 1544.94 Q1404.85 1540.33 1404.85 1531.6 Q1404.85 1522.85 1407.91 1518.27 Q1410.99 1513.66 1416.8 1513.66 Z\" fill=\"#000000\" fill-rule=\"evenodd\" fill-opacity=\"1\" /><path clip-path=\"url(#clip610)\" d=\"M1984.28 1530.21 Q1987.64 1530.93 1989.51 1533.2 Q1991.41 1535.47 1991.41 1538.8 Q1991.41 1543.92 1987.89 1546.72 Q1984.38 1549.52 1977.89 1549.52 Q1975.72 1549.52 1973.4 1549.08 Q1971.11 1548.66 1968.66 1547.81 L1968.66 1543.29 Q1970.6 1544.43 1972.92 1545.01 Q1975.23 1545.58 1977.75 1545.58 Q1982.15 1545.58 1984.44 1543.85 Q1986.76 1542.11 1986.76 1538.8 Q1986.76 1535.75 1984.61 1534.03 Q1982.48 1532.3 1978.66 1532.3 L1974.63 1532.3 L1974.63 1528.45 L1978.84 1528.45 Q1982.29 1528.45 1984.12 1527.09 Q1985.95 1525.7 1985.95 1523.11 Q1985.95 1520.45 1984.05 1519.03 Q1982.18 1517.6 1978.66 1517.6 Q1976.74 1517.6 1974.54 1518.01 Q1972.34 1518.43 1969.7 1519.31 L1969.7 1515.14 Q1972.36 1514.4 1974.68 1514.03 Q1977.01 1513.66 1979.07 1513.66 Q1984.4 1513.66 1987.5 1516.09 Q1990.6 1518.5 1990.6 1522.62 Q1990.6 1525.49 1988.96 1527.48 Q1987.31 1529.45 1984.28 1530.21 Z\" fill=\"#000000\" fill-rule=\"evenodd\" fill-opacity=\"1\" /><path clip-path=\"url(#clip610)\" d=\"M2010.28 1517.37 Q2006.67 1517.37 2004.84 1520.93 Q2003.03 1524.47 2003.03 1531.6 Q2003.03 1538.71 2004.84 1542.27 Q2006.67 1545.82 2010.28 1545.82 Q2013.91 1545.82 2015.72 1542.27 Q2017.55 1538.71 2017.55 1531.6 Q2017.55 1524.47 2015.72 1520.93 Q2013.91 1517.37 2010.28 1517.37 M2010.28 1513.66 Q2016.09 1513.66 2019.14 1518.27 Q2022.22 1522.85 2022.22 1531.6 Q2022.22 1540.33 2019.14 1544.94 Q2016.09 1549.52 2010.28 1549.52 Q2004.47 1549.52 2001.39 1544.94 Q1998.33 1540.33 1998.33 1531.6 Q1998.33 1522.85 2001.39 1518.27 Q2004.47 1513.66 2010.28 1513.66 Z\" fill=\"#000000\" fill-rule=\"evenodd\" fill-opacity=\"1\" /><polyline clip-path=\"url(#clip612)\" style=\"stroke:#000000; stroke-linecap:round; stroke-linejoin:round; stroke-width:2; stroke-opacity:0.1; fill:none\" points=\"\n",
       "  213.607,1415.43 2352.76,1415.43 \n",
       "  \"/>\n",
       "<polyline clip-path=\"url(#clip612)\" style=\"stroke:#000000; stroke-linecap:round; stroke-linejoin:round; stroke-width:2; stroke-opacity:0.1; fill:none\" points=\"\n",
       "  213.607,771.099 2352.76,771.099 \n",
       "  \"/>\n",
       "<polyline clip-path=\"url(#clip612)\" style=\"stroke:#000000; stroke-linecap:round; stroke-linejoin:round; stroke-width:2; stroke-opacity:0.1; fill:none\" points=\"\n",
       "  213.607,126.769 2352.76,126.769 \n",
       "  \"/>\n",
       "<polyline clip-path=\"url(#clip610)\" style=\"stroke:#000000; stroke-linecap:round; stroke-linejoin:round; stroke-width:4; stroke-opacity:1; fill:none\" points=\"\n",
       "  213.607,1486.45 213.607,47.2441 \n",
       "  \"/>\n",
       "<polyline clip-path=\"url(#clip610)\" style=\"stroke:#000000; stroke-linecap:round; stroke-linejoin:round; stroke-width:4; stroke-opacity:1; fill:none\" points=\"\n",
       "  213.607,1415.43 232.505,1415.43 \n",
       "  \"/>\n",
       "<polyline clip-path=\"url(#clip610)\" style=\"stroke:#000000; stroke-linecap:round; stroke-linejoin:round; stroke-width:4; stroke-opacity:1; fill:none\" points=\"\n",
       "  213.607,771.099 232.505,771.099 \n",
       "  \"/>\n",
       "<polyline clip-path=\"url(#clip610)\" style=\"stroke:#000000; stroke-linecap:round; stroke-linejoin:round; stroke-width:4; stroke-opacity:1; fill:none\" points=\"\n",
       "  213.607,126.769 232.505,126.769 \n",
       "  \"/>\n",
       "<path clip-path=\"url(#clip610)\" d=\"M51.6634 1435.22 L59.3023 1435.22 L59.3023 1408.86 L50.9921 1410.52 L50.9921 1406.26 L59.256 1404.6 L63.9319 1404.6 L63.9319 1435.22 L71.5707 1435.22 L71.5707 1439.16 L51.6634 1439.16 L51.6634 1435.22 Z\" fill=\"#000000\" fill-rule=\"evenodd\" fill-opacity=\"1\" /><path clip-path=\"url(#clip610)\" d=\"M91.0151 1407.68 Q87.404 1407.68 85.5753 1411.24 Q83.7697 1414.78 83.7697 1421.91 Q83.7697 1429.02 85.5753 1432.58 Q87.404 1436.12 91.0151 1436.12 Q94.6493 1436.12 96.4548 1432.58 Q98.2835 1429.02 98.2835 1421.91 Q98.2835 1414.78 96.4548 1411.24 Q94.6493 1407.68 91.0151 1407.68 M91.0151 1403.97 Q96.8252 1403.97 99.8808 1408.58 Q102.959 1413.16 102.959 1421.91 Q102.959 1430.64 99.8808 1435.25 Q96.8252 1439.83 91.0151 1439.83 Q85.2049 1439.83 82.1262 1435.25 Q79.0707 1430.64 79.0707 1421.91 Q79.0707 1413.16 82.1262 1408.58 Q85.2049 1403.97 91.0151 1403.97 Z\" fill=\"#000000\" fill-rule=\"evenodd\" fill-opacity=\"1\" /><path clip-path=\"url(#clip610)\" d=\"M102.959 1398.07 L127.071 1398.07 L127.071 1401.27 L102.959 1401.27 L102.959 1398.07 Z\" fill=\"#000000\" fill-rule=\"evenodd\" fill-opacity=\"1\" /><path clip-path=\"url(#clip610)\" d=\"M135.929 1408.55 L142.136 1408.55 L142.136 1387.13 L135.384 1388.48 L135.384 1385.02 L142.098 1383.67 L145.898 1383.67 L145.898 1408.55 L152.104 1408.55 L152.104 1411.75 L135.929 1411.75 L135.929 1408.55 Z\" fill=\"#000000\" fill-rule=\"evenodd\" fill-opacity=\"1\" /><path clip-path=\"url(#clip610)\" d=\"M167.903 1386.17 Q164.969 1386.17 163.483 1389.06 Q162.016 1391.94 162.016 1397.74 Q162.016 1403.51 163.483 1406.41 Q164.969 1409.28 167.903 1409.28 Q170.855 1409.28 172.322 1406.41 Q173.808 1403.51 173.808 1397.74 Q173.808 1391.94 172.322 1389.06 Q170.855 1386.17 167.903 1386.17 M167.903 1383.16 Q172.623 1383.16 175.106 1386.9 Q177.607 1390.63 177.607 1397.74 Q177.607 1404.83 175.106 1408.57 Q172.623 1412.29 167.903 1412.29 Q163.182 1412.29 160.68 1408.57 Q158.198 1404.83 158.198 1397.74 Q158.198 1390.63 160.68 1386.9 Q163.182 1383.16 167.903 1383.16 Z\" fill=\"#000000\" fill-rule=\"evenodd\" fill-opacity=\"1\" /><path clip-path=\"url(#clip610)\" d=\"M76.9787 790.892 L84.6175 790.892 L84.6175 764.526 L76.3074 766.193 L76.3074 761.933 L84.5712 760.267 L89.2471 760.267 L89.2471 790.892 L96.886 790.892 L96.886 794.827 L76.9787 794.827 L76.9787 790.892 Z\" fill=\"#000000\" fill-rule=\"evenodd\" fill-opacity=\"1\" /><path clip-path=\"url(#clip610)\" d=\"M116.33 763.346 Q112.719 763.346 110.891 766.91 Q109.085 770.452 109.085 777.582 Q109.085 784.688 110.891 788.253 Q112.719 791.794 116.33 791.794 Q119.965 791.794 121.77 788.253 Q123.599 784.688 123.599 777.582 Q123.599 770.452 121.77 766.91 Q119.965 763.346 116.33 763.346 M116.33 759.642 Q122.14 759.642 125.196 764.248 Q128.275 768.832 128.275 777.582 Q128.275 786.308 125.196 790.915 Q122.14 795.498 116.33 795.498 Q110.52 795.498 107.441 790.915 Q104.386 786.308 104.386 777.582 Q104.386 768.832 107.441 764.248 Q110.52 759.642 116.33 759.642 Z\" fill=\"#000000\" fill-rule=\"evenodd\" fill-opacity=\"1\" /><path clip-path=\"url(#clip610)\" d=\"M128.275 753.743 L152.386 753.743 L152.386 756.94 L128.275 756.94 L128.275 753.743 Z\" fill=\"#000000\" fill-rule=\"evenodd\" fill-opacity=\"1\" /><path clip-path=\"url(#clip610)\" d=\"M160.624 739.336 L175.539 739.336 L175.539 742.534 L164.103 742.534 L164.103 749.417 Q164.931 749.135 165.759 749.004 Q166.586 748.853 167.414 748.853 Q172.116 748.853 174.862 751.43 Q177.607 754.006 177.607 758.407 Q177.607 762.94 174.786 765.46 Q171.965 767.962 166.831 767.962 Q165.063 767.962 163.22 767.661 Q161.395 767.36 159.439 766.758 L159.439 762.94 Q161.132 763.862 162.937 764.313 Q164.743 764.765 166.755 764.765 Q170.009 764.765 171.909 763.053 Q173.808 761.342 173.808 758.407 Q173.808 755.473 171.909 753.762 Q170.009 752.05 166.755 752.05 Q165.232 752.05 163.709 752.389 Q162.204 752.728 160.624 753.442 L160.624 739.336 Z\" fill=\"#000000\" fill-rule=\"evenodd\" fill-opacity=\"1\" /><path clip-path=\"url(#clip610)\" d=\"M106.902 146.561 L114.541 146.561 L114.541 120.196 L106.231 121.862 L106.231 117.603 L114.494 115.936 L119.17 115.936 L119.17 146.561 L126.809 146.561 L126.809 150.496 L106.902 150.496 L106.902 146.561 Z\" fill=\"#000000\" fill-rule=\"evenodd\" fill-opacity=\"1\" /><path clip-path=\"url(#clip610)\" d=\"M146.253 119.015 Q142.642 119.015 140.814 122.58 Q139.008 126.122 139.008 133.251 Q139.008 140.358 140.814 143.922 Q142.642 147.464 146.253 147.464 Q149.888 147.464 151.693 143.922 Q153.522 140.358 153.522 133.251 Q153.522 126.122 151.693 122.58 Q149.888 119.015 146.253 119.015 M146.253 115.311 Q152.064 115.311 155.119 119.918 Q158.198 124.501 158.198 133.251 Q158.198 141.978 155.119 146.584 Q152.064 151.168 146.253 151.168 Q140.443 151.168 137.365 146.584 Q134.309 141.978 134.309 133.251 Q134.309 124.501 137.365 119.918 Q140.443 115.311 146.253 115.311 Z\" fill=\"#000000\" fill-rule=\"evenodd\" fill-opacity=\"1\" /><path clip-path=\"url(#clip610)\" d=\"M167.903 97.5075 Q164.969 97.5075 163.483 100.404 Q162.016 103.281 162.016 109.074 Q162.016 114.848 163.483 117.745 Q164.969 120.622 167.903 120.622 Q170.855 120.622 172.322 117.745 Q173.808 114.848 173.808 109.074 Q173.808 103.281 172.322 100.404 Q170.855 97.5075 167.903 97.5075 M167.903 94.4982 Q172.623 94.4982 175.106 98.241 Q177.607 101.965 177.607 109.074 Q177.607 116.165 175.106 119.908 Q172.623 123.631 167.903 123.631 Q163.182 123.631 160.68 119.908 Q158.198 116.165 158.198 109.074 Q158.198 101.965 160.68 98.241 Q163.182 94.4982 167.903 94.4982 Z\" fill=\"#000000\" fill-rule=\"evenodd\" fill-opacity=\"1\" /><circle clip-path=\"url(#clip612)\" cx=\"274.149\" cy=\"201.962\" r=\"14.4\" fill=\"#009af9\" fill-rule=\"evenodd\" fill-opacity=\"1\" stroke=\"#000000\" stroke-opacity=\"1\" stroke-width=\"3.2\"/>\n",
       "<circle clip-path=\"url(#clip612)\" cx=\"333.504\" cy=\"143.69\" r=\"14.4\" fill=\"#009af9\" fill-rule=\"evenodd\" fill-opacity=\"1\" stroke=\"#000000\" stroke-opacity=\"1\" stroke-width=\"3.2\"/>\n",
       "<circle clip-path=\"url(#clip612)\" cx=\"392.859\" cy=\"206.852\" r=\"14.4\" fill=\"#009af9\" fill-rule=\"evenodd\" fill-opacity=\"1\" stroke=\"#000000\" stroke-opacity=\"1\" stroke-width=\"3.2\"/>\n",
       "<circle clip-path=\"url(#clip612)\" cx=\"452.214\" cy=\"379.602\" r=\"14.4\" fill=\"#009af9\" fill-rule=\"evenodd\" fill-opacity=\"1\" stroke=\"#000000\" stroke-opacity=\"1\" stroke-width=\"3.2\"/>\n",
       "<circle clip-path=\"url(#clip612)\" cx=\"511.569\" cy=\"248.26\" r=\"14.4\" fill=\"#009af9\" fill-rule=\"evenodd\" fill-opacity=\"1\" stroke=\"#000000\" stroke-opacity=\"1\" stroke-width=\"3.2\"/>\n",
       "<circle clip-path=\"url(#clip612)\" cx=\"570.924\" cy=\"292.681\" r=\"14.4\" fill=\"#009af9\" fill-rule=\"evenodd\" fill-opacity=\"1\" stroke=\"#000000\" stroke-opacity=\"1\" stroke-width=\"3.2\"/>\n",
       "<circle clip-path=\"url(#clip612)\" cx=\"630.278\" cy=\"344.778\" r=\"14.4\" fill=\"#009af9\" fill-rule=\"evenodd\" fill-opacity=\"1\" stroke=\"#000000\" stroke-opacity=\"1\" stroke-width=\"3.2\"/>\n",
       "<circle clip-path=\"url(#clip612)\" cx=\"689.633\" cy=\"426.636\" r=\"14.4\" fill=\"#009af9\" fill-rule=\"evenodd\" fill-opacity=\"1\" stroke=\"#000000\" stroke-opacity=\"1\" stroke-width=\"3.2\"/>\n",
       "<circle clip-path=\"url(#clip612)\" cx=\"748.988\" cy=\"450.004\" r=\"14.4\" fill=\"#009af9\" fill-rule=\"evenodd\" fill-opacity=\"1\" stroke=\"#000000\" stroke-opacity=\"1\" stroke-width=\"3.2\"/>\n",
       "<circle clip-path=\"url(#clip612)\" cx=\"808.343\" cy=\"525.584\" r=\"14.4\" fill=\"#009af9\" fill-rule=\"evenodd\" fill-opacity=\"1\" stroke=\"#000000\" stroke-opacity=\"1\" stroke-width=\"3.2\"/>\n",
       "<circle clip-path=\"url(#clip612)\" cx=\"867.698\" cy=\"505.582\" r=\"14.4\" fill=\"#009af9\" fill-rule=\"evenodd\" fill-opacity=\"1\" stroke=\"#000000\" stroke-opacity=\"1\" stroke-width=\"3.2\"/>\n",
       "<circle clip-path=\"url(#clip612)\" cx=\"927.053\" cy=\"611.661\" r=\"14.4\" fill=\"#009af9\" fill-rule=\"evenodd\" fill-opacity=\"1\" stroke=\"#000000\" stroke-opacity=\"1\" stroke-width=\"3.2\"/>\n",
       "<circle clip-path=\"url(#clip612)\" cx=\"986.407\" cy=\"577.911\" r=\"14.4\" fill=\"#009af9\" fill-rule=\"evenodd\" fill-opacity=\"1\" stroke=\"#000000\" stroke-opacity=\"1\" stroke-width=\"3.2\"/>\n",
       "<circle clip-path=\"url(#clip612)\" cx=\"1045.76\" cy=\"661.038\" r=\"14.4\" fill=\"#009af9\" fill-rule=\"evenodd\" fill-opacity=\"1\" stroke=\"#000000\" stroke-opacity=\"1\" stroke-width=\"3.2\"/>\n",
       "<circle clip-path=\"url(#clip612)\" cx=\"1105.12\" cy=\"680.348\" r=\"14.4\" fill=\"#009af9\" fill-rule=\"evenodd\" fill-opacity=\"1\" stroke=\"#000000\" stroke-opacity=\"1\" stroke-width=\"3.2\"/>\n",
       "<circle clip-path=\"url(#clip612)\" cx=\"1164.47\" cy=\"768.763\" r=\"14.4\" fill=\"#009af9\" fill-rule=\"evenodd\" fill-opacity=\"1\" stroke=\"#000000\" stroke-opacity=\"1\" stroke-width=\"3.2\"/>\n",
       "<circle clip-path=\"url(#clip612)\" cx=\"1223.83\" cy=\"732.052\" r=\"14.4\" fill=\"#009af9\" fill-rule=\"evenodd\" fill-opacity=\"1\" stroke=\"#000000\" stroke-opacity=\"1\" stroke-width=\"3.2\"/>\n",
       "<circle clip-path=\"url(#clip612)\" cx=\"1283.18\" cy=\"811.798\" r=\"14.4\" fill=\"#009af9\" fill-rule=\"evenodd\" fill-opacity=\"1\" stroke=\"#000000\" stroke-opacity=\"1\" stroke-width=\"3.2\"/>\n",
       "<circle clip-path=\"url(#clip612)\" cx=\"1342.54\" cy=\"842.405\" r=\"14.4\" fill=\"#009af9\" fill-rule=\"evenodd\" fill-opacity=\"1\" stroke=\"#000000\" stroke-opacity=\"1\" stroke-width=\"3.2\"/>\n",
       "<circle clip-path=\"url(#clip612)\" cx=\"1401.89\" cy=\"898.974\" r=\"14.4\" fill=\"#009af9\" fill-rule=\"evenodd\" fill-opacity=\"1\" stroke=\"#000000\" stroke-opacity=\"1\" stroke-width=\"3.2\"/>\n",
       "<circle clip-path=\"url(#clip612)\" cx=\"1461.25\" cy=\"906.52\" r=\"14.4\" fill=\"#009af9\" fill-rule=\"evenodd\" fill-opacity=\"1\" stroke=\"#000000\" stroke-opacity=\"1\" stroke-width=\"3.2\"/>\n",
       "<circle clip-path=\"url(#clip612)\" cx=\"1520.6\" cy=\"1053.63\" r=\"14.4\" fill=\"#009af9\" fill-rule=\"evenodd\" fill-opacity=\"1\" stroke=\"#000000\" stroke-opacity=\"1\" stroke-width=\"3.2\"/>\n",
       "<circle clip-path=\"url(#clip612)\" cx=\"1579.96\" cy=\"949.506\" r=\"14.4\" fill=\"#009af9\" fill-rule=\"evenodd\" fill-opacity=\"1\" stroke=\"#000000\" stroke-opacity=\"1\" stroke-width=\"3.2\"/>\n",
       "<circle clip-path=\"url(#clip612)\" cx=\"1639.31\" cy=\"997.763\" r=\"14.4\" fill=\"#009af9\" fill-rule=\"evenodd\" fill-opacity=\"1\" stroke=\"#000000\" stroke-opacity=\"1\" stroke-width=\"3.2\"/>\n",
       "<circle clip-path=\"url(#clip612)\" cx=\"1698.67\" cy=\"1062.28\" r=\"14.4\" fill=\"#009af9\" fill-rule=\"evenodd\" fill-opacity=\"1\" stroke=\"#000000\" stroke-opacity=\"1\" stroke-width=\"3.2\"/>\n",
       "<circle clip-path=\"url(#clip612)\" cx=\"1758.02\" cy=\"1201.18\" r=\"14.4\" fill=\"#009af9\" fill-rule=\"evenodd\" fill-opacity=\"1\" stroke=\"#000000\" stroke-opacity=\"1\" stroke-width=\"3.2\"/>\n",
       "<circle clip-path=\"url(#clip612)\" cx=\"1817.38\" cy=\"1105.96\" r=\"14.4\" fill=\"#009af9\" fill-rule=\"evenodd\" fill-opacity=\"1\" stroke=\"#000000\" stroke-opacity=\"1\" stroke-width=\"3.2\"/>\n",
       "<circle clip-path=\"url(#clip612)\" cx=\"1876.73\" cy=\"1156.03\" r=\"14.4\" fill=\"#009af9\" fill-rule=\"evenodd\" fill-opacity=\"1\" stroke=\"#000000\" stroke-opacity=\"1\" stroke-width=\"3.2\"/>\n",
       "<circle clip-path=\"url(#clip612)\" cx=\"1936.08\" cy=\"1227.91\" r=\"14.4\" fill=\"#009af9\" fill-rule=\"evenodd\" fill-opacity=\"1\" stroke=\"#000000\" stroke-opacity=\"1\" stroke-width=\"3.2\"/>\n",
       "<circle clip-path=\"url(#clip612)\" cx=\"1995.44\" cy=\"1294.16\" r=\"14.4\" fill=\"#009af9\" fill-rule=\"evenodd\" fill-opacity=\"1\" stroke=\"#000000\" stroke-opacity=\"1\" stroke-width=\"3.2\"/>\n",
       "<circle clip-path=\"url(#clip612)\" cx=\"2054.79\" cy=\"1287.15\" r=\"14.4\" fill=\"#009af9\" fill-rule=\"evenodd\" fill-opacity=\"1\" stroke=\"#000000\" stroke-opacity=\"1\" stroke-width=\"3.2\"/>\n",
       "<circle clip-path=\"url(#clip612)\" cx=\"2114.15\" cy=\"1445.72\" r=\"14.4\" fill=\"#009af9\" fill-rule=\"evenodd\" fill-opacity=\"1\" stroke=\"#000000\" stroke-opacity=\"1\" stroke-width=\"3.2\"/>\n",
       "<circle clip-path=\"url(#clip612)\" cx=\"2173.5\" cy=\"1336.81\" r=\"14.4\" fill=\"#009af9\" fill-rule=\"evenodd\" fill-opacity=\"1\" stroke=\"#000000\" stroke-opacity=\"1\" stroke-width=\"3.2\"/>\n",
       "<circle clip-path=\"url(#clip612)\" cx=\"2232.86\" cy=\"1384.23\" r=\"14.4\" fill=\"#009af9\" fill-rule=\"evenodd\" fill-opacity=\"1\" stroke=\"#000000\" stroke-opacity=\"1\" stroke-width=\"3.2\"/>\n",
       "<circle clip-path=\"url(#clip612)\" cx=\"2292.21\" cy=\"1445.72\" r=\"14.4\" fill=\"#009af9\" fill-rule=\"evenodd\" fill-opacity=\"1\" stroke=\"#000000\" stroke-opacity=\"1\" stroke-width=\"3.2\"/>\n",
       "<polyline clip-path=\"url(#clip612)\" style=\"stroke:#e26f46; stroke-linecap:round; stroke-linejoin:round; stroke-width:4; stroke-opacity:1; fill:none\" points=\"\n",
       "  274.149,87.9763 333.504,126.769 392.859,165.561 452.214,204.354 511.569,243.146 570.924,281.939 630.278,320.732 689.633,359.524 748.988,398.317 808.343,437.109 \n",
       "  867.698,475.902 927.053,514.694 986.407,553.487 1045.76,592.279 1105.12,631.072 1164.47,669.865 1223.83,708.657 1283.18,747.45 1342.54,786.242 1401.89,825.035 \n",
       "  1461.25,863.827 1520.6,902.62 1579.96,941.412 1639.31,980.205 1698.67,1019 1758.02,1057.79 1817.38,1096.58 1876.73,1135.38 1936.08,1174.17 1995.44,1212.96 \n",
       "  2054.79,1251.75 2114.15,1290.55 2173.5,1329.34 2232.86,1368.13 2292.21,1406.92 \n",
       "  \"/>\n",
       "<path clip-path=\"url(#clip610)\" d=\"\n",
       "M1991.34 250.738 L2281.45 250.738 L2281.45 95.2176 L1991.34 95.2176  Z\n",
       "  \" fill=\"#ffffff\" fill-rule=\"evenodd\" fill-opacity=\"1\"/>\n",
       "<polyline clip-path=\"url(#clip610)\" style=\"stroke:#000000; stroke-linecap:round; stroke-linejoin:round; stroke-width:4; stroke-opacity:1; fill:none\" points=\"\n",
       "  1991.34,250.738 2281.45,250.738 2281.45,95.2176 1991.34,95.2176 1991.34,250.738 \n",
       "  \"/>\n",
       "<circle clip-path=\"url(#clip610)\" cx=\"2086.41\" cy=\"147.058\" r=\"23.04\" fill=\"#009af9\" fill-rule=\"evenodd\" fill-opacity=\"1\" stroke=\"#000000\" stroke-opacity=\"1\" stroke-width=\"5.12\"/>\n",
       "<path clip-path=\"url(#clip610)\" d=\"M2195.33 166.745 Q2193.52 171.375 2191.81 172.787 Q2190.1 174.199 2187.22 174.199 L2183.82 174.199 L2183.82 170.634 L2186.32 170.634 Q2188.08 170.634 2189.05 169.8 Q2190.03 168.967 2191.21 165.865 L2191.97 163.921 L2181.48 138.412 L2186 138.412 L2194.1 158.689 L2202.2 138.412 L2206.72 138.412 L2195.33 166.745 Z\" fill=\"#000000\" fill-rule=\"evenodd\" fill-opacity=\"1\" /><path clip-path=\"url(#clip610)\" d=\"M2214.01 160.402 L2221.65 160.402 L2221.65 134.037 L2213.34 135.703 L2213.34 131.444 L2221.6 129.778 L2226.28 129.778 L2226.28 160.402 L2233.91 160.402 L2233.91 164.338 L2214.01 164.338 L2214.01 160.402 Z\" fill=\"#000000\" fill-rule=\"evenodd\" fill-opacity=\"1\" /><polyline clip-path=\"url(#clip610)\" style=\"stroke:#e26f46; stroke-linecap:round; stroke-linejoin:round; stroke-width:4; stroke-opacity:1; fill:none\" points=\"\n",
       "  2015.11,198.898 2157.72,198.898 \n",
       "  \"/>\n",
       "<path clip-path=\"url(#clip610)\" d=\"M2195.33 218.585 Q2193.52 223.215 2191.81 224.627 Q2190.1 226.039 2187.22 226.039 L2183.82 226.039 L2183.82 222.474 L2186.32 222.474 Q2188.08 222.474 2189.05 221.64 Q2190.03 220.807 2191.21 217.705 L2191.97 215.761 L2181.48 190.252 L2186 190.252 L2194.1 210.529 L2202.2 190.252 L2206.72 190.252 L2195.33 218.585 Z\" fill=\"#000000\" fill-rule=\"evenodd\" fill-opacity=\"1\" /><path clip-path=\"url(#clip610)\" d=\"M2217.22 212.242 L2233.54 212.242 L2233.54 216.178 L2211.6 216.178 L2211.6 212.242 Q2214.26 209.488 2218.84 204.858 Q2223.45 200.205 2224.63 198.863 Q2226.88 196.34 2227.76 194.604 Q2228.66 192.844 2228.66 191.155 Q2228.66 188.4 2226.72 186.664 Q2224.79 184.928 2221.69 184.928 Q2219.49 184.928 2217.04 185.692 Q2214.61 186.455 2211.83 188.006 L2211.83 183.284 Q2214.66 182.15 2217.11 181.571 Q2219.56 180.993 2221.6 180.993 Q2226.97 180.993 2230.16 183.678 Q2233.36 186.363 2233.36 190.854 Q2233.36 192.983 2232.55 194.905 Q2231.76 196.803 2229.66 199.395 Q2229.08 200.067 2225.97 203.284 Q2222.87 206.479 2217.22 212.242 Z\" fill=\"#000000\" fill-rule=\"evenodd\" fill-opacity=\"1\" /></svg>\n"
      ]
     },
     "execution_count": 9,
     "metadata": {},
     "output_type": "execute_result"
    }
   ],
   "source": [
    "hist = bisect_iter(f, -1, 3, 1e-10)\n",
    "r = hist[end] # What are we trusting?\n",
    "hist = hist[1:end-1]\n",
    "scatter( abs.(hist .- r), yscale=:log10)\n",
    "ks = 1:length(hist)\n",
    "plot!(ks, 4 * (.5 .^ ks)) "
   ]
  },
  {
   "cell_type": "markdown",
   "id": "7839795c",
   "metadata": {
    "cell_style": "split",
    "slideshow": {
     "slide_type": "fragment"
    }
   },
   "source": [
    "Evidently the error $e_k = x_k - x_*$ after $k$ bisections satisfies the bound\n",
    "$$ |e^k| \\le c 2^{-k} . $$"
   ]
  },
  {
   "cell_type": "markdown",
   "id": "c43a3a42",
   "metadata": {
    "slideshow": {
     "slide_type": "slide"
    }
   },
   "source": [
    "# Convergence classes"
   ]
  },
  {
   "cell_type": "markdown",
   "id": "8c897dc9",
   "metadata": {
    "cell_style": "split",
    "slideshow": {
     "slide_type": ""
    }
   },
   "source": [
    "A convergent rootfinding algorithm produces a sequence of approximations $x_k$ such that $$\\lim_{k \\to \\infty} x_k \\to x_*$$ where $f(x_*) = 0$.  For analysis, it is convenient to define the errors $e_k = x_k - x_*$. We say that an iterative algorithm is **$q$-linearly convergent** if $$\\lim_{k \\to \\infty} |e_{k+1}| / |e_k| = \\rho < 1.$$  (The $q$ is for \"quotient\".)  A smaller convergence factor $\\rho$ represents faster convergence.  A slightly weaker condition ($r$-linear convergence or just **linear convergence**) is that\n",
    "$$ |e_k| \\le \\epsilon_k $$\n",
    "for all sufficiently large $k$ when the sequence $\\{\\epsilon_k\\}$ converges $q$-linearly to 0."
   ]
  },
  {
   "cell_type": "code",
   "execution_count": 12,
   "id": "6f84ac29",
   "metadata": {
    "cell_style": "split",
    "slideshow": {
     "slide_type": ""
    }
   },
   "outputs": [
    {
     "data": {
      "image/svg+xml": [
       "<?xml version=\"1.0\" encoding=\"utf-8\"?>\n",
       "<svg xmlns=\"http://www.w3.org/2000/svg\" xmlns:xlink=\"http://www.w3.org/1999/xlink\" width=\"600\" height=\"400\" viewBox=\"0 0 2400 1600\">\n",
       "<defs>\n",
       "  <clipPath id=\"clip690\">\n",
       "    <rect x=\"0\" y=\"0\" width=\"2400\" height=\"1600\"/>\n",
       "  </clipPath>\n",
       "</defs>\n",
       "<path clip-path=\"url(#clip690)\" d=\"\n",
       "M0 1600 L2400 1600 L2400 0 L0 0  Z\n",
       "  \" fill=\"#ffffff\" fill-rule=\"evenodd\" fill-opacity=\"1\"/>\n",
       "<defs>\n",
       "  <clipPath id=\"clip691\">\n",
       "    <rect x=\"480\" y=\"0\" width=\"1681\" height=\"1600\"/>\n",
       "  </clipPath>\n",
       "</defs>\n",
       "<path clip-path=\"url(#clip690)\" d=\"\n",
       "M156.598 1486.45 L2352.76 1486.45 L2352.76 47.2441 L156.598 47.2441  Z\n",
       "  \" fill=\"#ffffff\" fill-rule=\"evenodd\" fill-opacity=\"1\"/>\n",
       "<defs>\n",
       "  <clipPath id=\"clip692\">\n",
       "    <rect x=\"156\" y=\"47\" width=\"2197\" height=\"1440\"/>\n",
       "  </clipPath>\n",
       "</defs>\n",
       "<polyline clip-path=\"url(#clip692)\" style=\"stroke:#000000; stroke-linecap:round; stroke-linejoin:round; stroke-width:2; stroke-opacity:0.1; fill:none\" points=\"\n",
       "  504.526,1486.45 504.526,47.2441 \n",
       "  \"/>\n",
       "<polyline clip-path=\"url(#clip692)\" style=\"stroke:#000000; stroke-linecap:round; stroke-linejoin:round; stroke-width:2; stroke-opacity:0.1; fill:none\" points=\"\n",
       "  861.741,1486.45 861.741,47.2441 \n",
       "  \"/>\n",
       "<polyline clip-path=\"url(#clip692)\" style=\"stroke:#000000; stroke-linecap:round; stroke-linejoin:round; stroke-width:2; stroke-opacity:0.1; fill:none\" points=\"\n",
       "  1218.96,1486.45 1218.96,47.2441 \n",
       "  \"/>\n",
       "<polyline clip-path=\"url(#clip692)\" style=\"stroke:#000000; stroke-linecap:round; stroke-linejoin:round; stroke-width:2; stroke-opacity:0.1; fill:none\" points=\"\n",
       "  1576.17,1486.45 1576.17,47.2441 \n",
       "  \"/>\n",
       "<polyline clip-path=\"url(#clip692)\" style=\"stroke:#000000; stroke-linecap:round; stroke-linejoin:round; stroke-width:2; stroke-opacity:0.1; fill:none\" points=\"\n",
       "  1933.39,1486.45 1933.39,47.2441 \n",
       "  \"/>\n",
       "<polyline clip-path=\"url(#clip692)\" style=\"stroke:#000000; stroke-linecap:round; stroke-linejoin:round; stroke-width:2; stroke-opacity:0.1; fill:none\" points=\"\n",
       "  2290.6,1486.45 2290.6,47.2441 \n",
       "  \"/>\n",
       "<polyline clip-path=\"url(#clip690)\" style=\"stroke:#000000; stroke-linecap:round; stroke-linejoin:round; stroke-width:4; stroke-opacity:1; fill:none\" points=\"\n",
       "  156.598,1486.45 2352.76,1486.45 \n",
       "  \"/>\n",
       "<polyline clip-path=\"url(#clip690)\" style=\"stroke:#000000; stroke-linecap:round; stroke-linejoin:round; stroke-width:4; stroke-opacity:1; fill:none\" points=\"\n",
       "  504.526,1486.45 504.526,1467.55 \n",
       "  \"/>\n",
       "<polyline clip-path=\"url(#clip690)\" style=\"stroke:#000000; stroke-linecap:round; stroke-linejoin:round; stroke-width:4; stroke-opacity:1; fill:none\" points=\"\n",
       "  861.741,1486.45 861.741,1467.55 \n",
       "  \"/>\n",
       "<polyline clip-path=\"url(#clip690)\" style=\"stroke:#000000; stroke-linecap:round; stroke-linejoin:round; stroke-width:4; stroke-opacity:1; fill:none\" points=\"\n",
       "  1218.96,1486.45 1218.96,1467.55 \n",
       "  \"/>\n",
       "<polyline clip-path=\"url(#clip690)\" style=\"stroke:#000000; stroke-linecap:round; stroke-linejoin:round; stroke-width:4; stroke-opacity:1; fill:none\" points=\"\n",
       "  1576.17,1486.45 1576.17,1467.55 \n",
       "  \"/>\n",
       "<polyline clip-path=\"url(#clip690)\" style=\"stroke:#000000; stroke-linecap:round; stroke-linejoin:round; stroke-width:4; stroke-opacity:1; fill:none\" points=\"\n",
       "  1933.39,1486.45 1933.39,1467.55 \n",
       "  \"/>\n",
       "<polyline clip-path=\"url(#clip690)\" style=\"stroke:#000000; stroke-linecap:round; stroke-linejoin:round; stroke-width:4; stroke-opacity:1; fill:none\" points=\"\n",
       "  2290.6,1486.45 2290.6,1467.55 \n",
       "  \"/>\n",
       "<path clip-path=\"url(#clip690)\" d=\"M494.803 1514.29 L513.16 1514.29 L513.16 1518.22 L499.086 1518.22 L499.086 1526.7 Q500.104 1526.35 501.123 1526.19 Q502.141 1526 503.16 1526 Q508.947 1526 512.327 1529.17 Q515.706 1532.34 515.706 1537.76 Q515.706 1543.34 512.234 1546.44 Q508.762 1549.52 502.442 1549.52 Q500.266 1549.52 497.998 1549.15 Q495.753 1548.78 493.345 1548.04 L493.345 1543.34 Q495.428 1544.47 497.651 1545.03 Q499.873 1545.58 502.35 1545.58 Q506.354 1545.58 508.692 1543.48 Q511.03 1541.37 511.03 1537.76 Q511.03 1534.15 508.692 1532.04 Q506.354 1529.94 502.35 1529.94 Q500.475 1529.94 498.6 1530.35 Q496.748 1530.77 494.803 1531.65 L494.803 1514.29 Z\" fill=\"#000000\" fill-rule=\"evenodd\" fill-opacity=\"1\" /><path clip-path=\"url(#clip690)\" d=\"M836.428 1544.91 L844.067 1544.91 L844.067 1518.55 L835.757 1520.21 L835.757 1515.95 L844.021 1514.29 L848.697 1514.29 L848.697 1544.91 L856.336 1544.91 L856.336 1548.85 L836.428 1548.85 L836.428 1544.91 Z\" fill=\"#000000\" fill-rule=\"evenodd\" fill-opacity=\"1\" /><path clip-path=\"url(#clip690)\" d=\"M875.78 1517.37 Q872.169 1517.37 870.34 1520.93 Q868.535 1524.47 868.535 1531.6 Q868.535 1538.71 870.34 1542.27 Q872.169 1545.82 875.78 1545.82 Q879.414 1545.82 881.22 1542.27 Q883.048 1538.71 883.048 1531.6 Q883.048 1524.47 881.22 1520.93 Q879.414 1517.37 875.78 1517.37 M875.78 1513.66 Q881.59 1513.66 884.646 1518.27 Q887.724 1522.85 887.724 1531.6 Q887.724 1540.33 884.646 1544.94 Q881.59 1549.52 875.78 1549.52 Q869.97 1549.52 866.891 1544.94 Q863.835 1540.33 863.835 1531.6 Q863.835 1522.85 866.891 1518.27 Q869.97 1513.66 875.78 1513.66 Z\" fill=\"#000000\" fill-rule=\"evenodd\" fill-opacity=\"1\" /><path clip-path=\"url(#clip690)\" d=\"M1194.14 1544.91 L1201.78 1544.91 L1201.78 1518.55 L1193.47 1520.21 L1193.47 1515.95 L1201.73 1514.29 L1206.41 1514.29 L1206.41 1544.91 L1214.05 1544.91 L1214.05 1548.85 L1194.14 1548.85 L1194.14 1544.91 Z\" fill=\"#000000\" fill-rule=\"evenodd\" fill-opacity=\"1\" /><path clip-path=\"url(#clip690)\" d=\"M1223.54 1514.29 L1241.9 1514.29 L1241.9 1518.22 L1227.82 1518.22 L1227.82 1526.7 Q1228.84 1526.35 1229.86 1526.19 Q1230.88 1526 1231.9 1526 Q1237.68 1526 1241.06 1529.17 Q1244.44 1532.34 1244.44 1537.76 Q1244.44 1543.34 1240.97 1546.44 Q1237.5 1549.52 1231.18 1549.52 Q1229 1549.52 1226.73 1549.15 Q1224.49 1548.78 1222.08 1548.04 L1222.08 1543.34 Q1224.16 1544.47 1226.39 1545.03 Q1228.61 1545.58 1231.09 1545.58 Q1235.09 1545.58 1237.43 1543.48 Q1239.77 1541.37 1239.77 1537.76 Q1239.77 1534.15 1237.43 1532.04 Q1235.09 1529.94 1231.09 1529.94 Q1229.21 1529.94 1227.34 1530.35 Q1225.48 1530.77 1223.54 1531.65 L1223.54 1514.29 Z\" fill=\"#000000\" fill-rule=\"evenodd\" fill-opacity=\"1\" /><path clip-path=\"url(#clip690)\" d=\"M1554.94 1544.91 L1571.26 1544.91 L1571.26 1548.85 L1549.32 1548.85 L1549.32 1544.91 Q1551.98 1542.16 1556.56 1537.53 Q1561.17 1532.88 1562.35 1531.53 Q1564.6 1529.01 1565.48 1527.27 Q1566.38 1525.51 1566.38 1523.82 Q1566.38 1521.07 1564.43 1519.33 Q1562.51 1517.6 1559.41 1517.6 Q1557.21 1517.6 1554.76 1518.36 Q1552.33 1519.13 1549.55 1520.68 L1549.55 1515.95 Q1552.37 1514.82 1554.83 1514.24 Q1557.28 1513.66 1559.32 1513.66 Q1564.69 1513.66 1567.88 1516.35 Q1571.08 1519.03 1571.08 1523.52 Q1571.08 1525.65 1570.27 1527.57 Q1569.48 1529.47 1567.37 1532.07 Q1566.8 1532.74 1563.69 1535.95 Q1560.59 1539.15 1554.94 1544.91 Z\" fill=\"#000000\" fill-rule=\"evenodd\" fill-opacity=\"1\" /><path clip-path=\"url(#clip690)\" d=\"M1591.08 1517.37 Q1587.47 1517.37 1585.64 1520.93 Q1583.83 1524.47 1583.83 1531.6 Q1583.83 1538.71 1585.64 1542.27 Q1587.47 1545.82 1591.08 1545.82 Q1594.71 1545.82 1596.52 1542.27 Q1598.35 1538.71 1598.35 1531.6 Q1598.35 1524.47 1596.52 1520.93 Q1594.71 1517.37 1591.08 1517.37 M1591.08 1513.66 Q1596.89 1513.66 1599.94 1518.27 Q1603.02 1522.85 1603.02 1531.6 Q1603.02 1540.33 1599.94 1544.94 Q1596.89 1549.52 1591.08 1549.52 Q1585.27 1549.52 1582.19 1544.94 Q1579.13 1540.33 1579.13 1531.6 Q1579.13 1522.85 1582.19 1518.27 Q1585.27 1513.66 1591.08 1513.66 Z\" fill=\"#000000\" fill-rule=\"evenodd\" fill-opacity=\"1\" /><path clip-path=\"url(#clip690)\" d=\"M1912.66 1544.91 L1928.98 1544.91 L1928.98 1548.85 L1907.03 1548.85 L1907.03 1544.91 Q1909.69 1542.16 1914.28 1537.53 Q1918.88 1532.88 1920.06 1531.53 Q1922.31 1529.01 1923.19 1527.27 Q1924.09 1525.51 1924.09 1523.82 Q1924.09 1521.07 1922.15 1519.33 Q1920.23 1517.6 1917.12 1517.6 Q1914.92 1517.6 1912.47 1518.36 Q1910.04 1519.13 1907.26 1520.68 L1907.26 1515.95 Q1910.09 1514.82 1912.54 1514.24 Q1914.99 1513.66 1917.03 1513.66 Q1922.4 1513.66 1925.6 1516.35 Q1928.79 1519.03 1928.79 1523.52 Q1928.79 1525.65 1927.98 1527.57 Q1927.19 1529.47 1925.09 1532.07 Q1924.51 1532.74 1921.41 1535.95 Q1918.3 1539.15 1912.66 1544.91 Z\" fill=\"#000000\" fill-rule=\"evenodd\" fill-opacity=\"1\" /><path clip-path=\"url(#clip690)\" d=\"M1938.84 1514.29 L1957.19 1514.29 L1957.19 1518.22 L1943.12 1518.22 L1943.12 1526.7 Q1944.14 1526.35 1945.16 1526.19 Q1946.17 1526 1947.19 1526 Q1952.98 1526 1956.36 1529.17 Q1959.74 1532.34 1959.74 1537.76 Q1959.74 1543.34 1956.27 1546.44 Q1952.8 1549.52 1946.48 1549.52 Q1944.3 1549.52 1942.03 1549.15 Q1939.79 1548.78 1937.38 1548.04 L1937.38 1543.34 Q1939.46 1544.47 1941.68 1545.03 Q1943.91 1545.58 1946.38 1545.58 Q1950.39 1545.58 1952.73 1543.48 Q1955.06 1541.37 1955.06 1537.76 Q1955.06 1534.15 1952.73 1532.04 Q1950.39 1529.94 1946.38 1529.94 Q1944.51 1529.94 1942.63 1530.35 Q1940.78 1530.77 1938.84 1531.65 L1938.84 1514.29 Z\" fill=\"#000000\" fill-rule=\"evenodd\" fill-opacity=\"1\" /><path clip-path=\"url(#clip690)\" d=\"M2279.44 1530.21 Q2282.8 1530.93 2284.67 1533.2 Q2286.57 1535.47 2286.57 1538.8 Q2286.57 1543.92 2283.05 1546.72 Q2279.54 1549.52 2273.05 1549.52 Q2270.88 1549.52 2268.56 1549.08 Q2266.27 1548.66 2263.82 1547.81 L2263.82 1543.29 Q2265.76 1544.43 2268.08 1545.01 Q2270.39 1545.58 2272.92 1545.58 Q2277.31 1545.58 2279.61 1543.85 Q2281.92 1542.11 2281.92 1538.8 Q2281.92 1535.75 2279.77 1534.03 Q2277.64 1532.3 2273.82 1532.3 L2269.79 1532.3 L2269.79 1528.45 L2274 1528.45 Q2277.45 1528.45 2279.28 1527.09 Q2281.11 1525.7 2281.11 1523.11 Q2281.11 1520.45 2279.21 1519.03 Q2277.34 1517.6 2273.82 1517.6 Q2271.9 1517.6 2269.7 1518.01 Q2267.5 1518.43 2264.86 1519.31 L2264.86 1515.14 Q2267.52 1514.4 2269.84 1514.03 Q2272.17 1513.66 2274.23 1513.66 Q2279.56 1513.66 2282.66 1516.09 Q2285.76 1518.5 2285.76 1522.62 Q2285.76 1525.49 2284.12 1527.48 Q2282.48 1529.45 2279.44 1530.21 Z\" fill=\"#000000\" fill-rule=\"evenodd\" fill-opacity=\"1\" /><path clip-path=\"url(#clip690)\" d=\"M2305.44 1517.37 Q2301.83 1517.37 2300 1520.93 Q2298.19 1524.47 2298.19 1531.6 Q2298.19 1538.71 2300 1542.27 Q2301.83 1545.82 2305.44 1545.82 Q2309.07 1545.82 2310.88 1542.27 Q2312.71 1538.71 2312.71 1531.6 Q2312.71 1524.47 2310.88 1520.93 Q2309.07 1517.37 2305.44 1517.37 M2305.44 1513.66 Q2311.25 1513.66 2314.3 1518.27 Q2317.38 1522.85 2317.38 1531.6 Q2317.38 1540.33 2314.3 1544.94 Q2311.25 1549.52 2305.44 1549.52 Q2299.63 1549.52 2296.55 1544.94 Q2293.49 1540.33 2293.49 1531.6 Q2293.49 1522.85 2296.55 1518.27 Q2299.63 1513.66 2305.44 1513.66 Z\" fill=\"#000000\" fill-rule=\"evenodd\" fill-opacity=\"1\" /><polyline clip-path=\"url(#clip692)\" style=\"stroke:#000000; stroke-linecap:round; stroke-linejoin:round; stroke-width:2; stroke-opacity:0.1; fill:none\" points=\"\n",
       "  156.598,1486.45 2352.76,1486.45 \n",
       "  \"/>\n",
       "<polyline clip-path=\"url(#clip692)\" style=\"stroke:#000000; stroke-linecap:round; stroke-linejoin:round; stroke-width:2; stroke-opacity:0.1; fill:none\" points=\"\n",
       "  156.598,1198.61 2352.76,1198.61 \n",
       "  \"/>\n",
       "<polyline clip-path=\"url(#clip692)\" style=\"stroke:#000000; stroke-linecap:round; stroke-linejoin:round; stroke-width:2; stroke-opacity:0.1; fill:none\" points=\"\n",
       "  156.598,910.766 2352.76,910.766 \n",
       "  \"/>\n",
       "<polyline clip-path=\"url(#clip692)\" style=\"stroke:#000000; stroke-linecap:round; stroke-linejoin:round; stroke-width:2; stroke-opacity:0.1; fill:none\" points=\"\n",
       "  156.598,622.926 2352.76,622.926 \n",
       "  \"/>\n",
       "<polyline clip-path=\"url(#clip692)\" style=\"stroke:#000000; stroke-linecap:round; stroke-linejoin:round; stroke-width:2; stroke-opacity:0.1; fill:none\" points=\"\n",
       "  156.598,335.085 2352.76,335.085 \n",
       "  \"/>\n",
       "<polyline clip-path=\"url(#clip692)\" style=\"stroke:#000000; stroke-linecap:round; stroke-linejoin:round; stroke-width:2; stroke-opacity:0.1; fill:none\" points=\"\n",
       "  156.598,47.2441 2352.76,47.2441 \n",
       "  \"/>\n",
       "<polyline clip-path=\"url(#clip690)\" style=\"stroke:#000000; stroke-linecap:round; stroke-linejoin:round; stroke-width:4; stroke-opacity:1; fill:none\" points=\"\n",
       "  156.598,1486.45 156.598,47.2441 \n",
       "  \"/>\n",
       "<polyline clip-path=\"url(#clip690)\" style=\"stroke:#000000; stroke-linecap:round; stroke-linejoin:round; stroke-width:4; stroke-opacity:1; fill:none\" points=\"\n",
       "  156.598,1486.45 175.496,1486.45 \n",
       "  \"/>\n",
       "<polyline clip-path=\"url(#clip690)\" style=\"stroke:#000000; stroke-linecap:round; stroke-linejoin:round; stroke-width:4; stroke-opacity:1; fill:none\" points=\"\n",
       "  156.598,1198.61 175.496,1198.61 \n",
       "  \"/>\n",
       "<polyline clip-path=\"url(#clip690)\" style=\"stroke:#000000; stroke-linecap:round; stroke-linejoin:round; stroke-width:4; stroke-opacity:1; fill:none\" points=\"\n",
       "  156.598,910.766 175.496,910.766 \n",
       "  \"/>\n",
       "<polyline clip-path=\"url(#clip690)\" style=\"stroke:#000000; stroke-linecap:round; stroke-linejoin:round; stroke-width:4; stroke-opacity:1; fill:none\" points=\"\n",
       "  156.598,622.926 175.496,622.926 \n",
       "  \"/>\n",
       "<polyline clip-path=\"url(#clip690)\" style=\"stroke:#000000; stroke-linecap:round; stroke-linejoin:round; stroke-width:4; stroke-opacity:1; fill:none\" points=\"\n",
       "  156.598,335.085 175.496,335.085 \n",
       "  \"/>\n",
       "<polyline clip-path=\"url(#clip690)\" style=\"stroke:#000000; stroke-linecap:round; stroke-linejoin:round; stroke-width:4; stroke-opacity:1; fill:none\" points=\"\n",
       "  156.598,47.2441 175.496,47.2441 \n",
       "  \"/>\n",
       "<path clip-path=\"url(#clip690)\" d=\"M63.4226 1472.25 Q59.8115 1472.25 57.9828 1475.81 Q56.1773 1479.35 56.1773 1486.48 Q56.1773 1493.59 57.9828 1497.15 Q59.8115 1500.7 63.4226 1500.7 Q67.0569 1500.7 68.8624 1497.15 Q70.6911 1493.59 70.6911 1486.48 Q70.6911 1479.35 68.8624 1475.81 Q67.0569 1472.25 63.4226 1472.25 M63.4226 1468.54 Q69.2328 1468.54 72.2883 1473.15 Q75.367 1477.73 75.367 1486.48 Q75.367 1495.21 72.2883 1499.82 Q69.2328 1504.4 63.4226 1504.4 Q57.6125 1504.4 54.5338 1499.82 Q51.4782 1495.21 51.4782 1486.48 Q51.4782 1477.73 54.5338 1473.15 Q57.6125 1468.54 63.4226 1468.54 Z\" fill=\"#000000\" fill-rule=\"evenodd\" fill-opacity=\"1\" /><path clip-path=\"url(#clip690)\" d=\"M83.5845 1497.85 L88.4688 1497.85 L88.4688 1503.73 L83.5845 1503.73 L83.5845 1497.85 Z\" fill=\"#000000\" fill-rule=\"evenodd\" fill-opacity=\"1\" /><path clip-path=\"url(#clip690)\" d=\"M108.654 1472.25 Q105.043 1472.25 103.214 1475.81 Q101.409 1479.35 101.409 1486.48 Q101.409 1493.59 103.214 1497.15 Q105.043 1500.7 108.654 1500.7 Q112.288 1500.7 114.094 1497.15 Q115.922 1493.59 115.922 1486.48 Q115.922 1479.35 114.094 1475.81 Q112.288 1472.25 108.654 1472.25 M108.654 1468.54 Q114.464 1468.54 117.52 1473.15 Q120.598 1477.73 120.598 1486.48 Q120.598 1495.21 117.52 1499.82 Q114.464 1504.4 108.654 1504.4 Q102.844 1504.4 99.765 1499.82 Q96.7095 1495.21 96.7095 1486.48 Q96.7095 1477.73 99.765 1473.15 Q102.844 1468.54 108.654 1468.54 Z\" fill=\"#000000\" fill-rule=\"evenodd\" fill-opacity=\"1\" /><path clip-path=\"url(#clip690)\" d=\"M65.0198 1184.41 Q61.4087 1184.41 59.58 1187.97 Q57.7745 1191.51 57.7745 1198.64 Q57.7745 1205.75 59.58 1209.31 Q61.4087 1212.85 65.0198 1212.85 Q68.6541 1212.85 70.4596 1209.31 Q72.2883 1205.75 72.2883 1198.64 Q72.2883 1191.51 70.4596 1187.97 Q68.6541 1184.41 65.0198 1184.41 M65.0198 1180.7 Q70.83 1180.7 73.8855 1185.31 Q76.9642 1189.89 76.9642 1198.64 Q76.9642 1207.37 73.8855 1211.98 Q70.83 1216.56 65.0198 1216.56 Q59.2097 1216.56 56.131 1211.98 Q53.0754 1207.37 53.0754 1198.64 Q53.0754 1189.89 56.131 1185.31 Q59.2097 1180.7 65.0198 1180.7 Z\" fill=\"#000000\" fill-rule=\"evenodd\" fill-opacity=\"1\" /><path clip-path=\"url(#clip690)\" d=\"M85.1818 1210.01 L90.066 1210.01 L90.066 1215.89 L85.1818 1215.89 L85.1818 1210.01 Z\" fill=\"#000000\" fill-rule=\"evenodd\" fill-opacity=\"1\" /><path clip-path=\"url(#clip690)\" d=\"M104.279 1211.95 L120.598 1211.95 L120.598 1215.89 L98.6539 1215.89 L98.6539 1211.95 Q101.316 1209.2 105.899 1204.57 Q110.506 1199.91 111.686 1198.57 Q113.932 1196.05 114.811 1194.31 Q115.714 1192.55 115.714 1190.86 Q115.714 1188.11 113.77 1186.37 Q111.848 1184.64 108.746 1184.64 Q106.547 1184.64 104.094 1185.4 Q101.663 1186.17 98.8854 1187.72 L98.8854 1182.99 Q101.709 1181.86 104.163 1181.28 Q106.617 1180.7 108.654 1180.7 Q114.024 1180.7 117.219 1183.39 Q120.413 1186.07 120.413 1190.56 Q120.413 1192.69 119.603 1194.61 Q118.816 1196.51 116.709 1199.1 Q116.131 1199.78 113.029 1202.99 Q109.927 1206.19 104.279 1211.95 Z\" fill=\"#000000\" fill-rule=\"evenodd\" fill-opacity=\"1\" /><path clip-path=\"url(#clip690)\" d=\"M62.9365 896.565 Q59.3254 896.565 57.4967 900.13 Q55.6912 903.671 55.6912 910.801 Q55.6912 917.908 57.4967 921.472 Q59.3254 925.014 62.9365 925.014 Q66.5707 925.014 68.3763 921.472 Q70.205 917.908 70.205 910.801 Q70.205 903.671 68.3763 900.13 Q66.5707 896.565 62.9365 896.565 M62.9365 892.861 Q68.7467 892.861 71.8022 897.468 Q74.8809 902.051 74.8809 910.801 Q74.8809 919.528 71.8022 924.134 Q68.7467 928.718 62.9365 928.718 Q57.1264 928.718 54.0477 924.134 Q50.9921 919.528 50.9921 910.801 Q50.9921 902.051 54.0477 897.468 Q57.1264 892.861 62.9365 892.861 Z\" fill=\"#000000\" fill-rule=\"evenodd\" fill-opacity=\"1\" /><path clip-path=\"url(#clip690)\" d=\"M83.0984 922.167 L87.9827 922.167 L87.9827 928.046 L83.0984 928.046 L83.0984 922.167 Z\" fill=\"#000000\" fill-rule=\"evenodd\" fill-opacity=\"1\" /><path clip-path=\"url(#clip690)\" d=\"M111.015 897.56 L99.2095 916.009 L111.015 916.009 L111.015 897.56 M109.788 893.486 L115.668 893.486 L115.668 916.009 L120.598 916.009 L120.598 919.898 L115.668 919.898 L115.668 928.046 L111.015 928.046 L111.015 919.898 L95.4132 919.898 L95.4132 915.384 L109.788 893.486 Z\" fill=\"#000000\" fill-rule=\"evenodd\" fill-opacity=\"1\" /><path clip-path=\"url(#clip690)\" d=\"M63.2606 608.724 Q59.6495 608.724 57.8208 612.289 Q56.0152 615.831 56.0152 622.96 Q56.0152 630.067 57.8208 633.632 Q59.6495 637.173 63.2606 637.173 Q66.8948 637.173 68.7004 633.632 Q70.5291 630.067 70.5291 622.96 Q70.5291 615.831 68.7004 612.289 Q66.8948 608.724 63.2606 608.724 M63.2606 605.021 Q69.0707 605.021 72.1263 609.627 Q75.205 614.21 75.205 622.96 Q75.205 631.687 72.1263 636.294 Q69.0707 640.877 63.2606 640.877 Q57.4504 640.877 54.3717 636.294 Q51.3162 631.687 51.3162 622.96 Q51.3162 614.21 54.3717 609.627 Q57.4504 605.021 63.2606 605.021 Z\" fill=\"#000000\" fill-rule=\"evenodd\" fill-opacity=\"1\" /><path clip-path=\"url(#clip690)\" d=\"M83.4225 634.326 L88.3067 634.326 L88.3067 640.206 L83.4225 640.206 L83.4225 634.326 Z\" fill=\"#000000\" fill-rule=\"evenodd\" fill-opacity=\"1\" /><path clip-path=\"url(#clip690)\" d=\"M109.071 621.062 Q105.922 621.062 104.071 623.215 Q102.242 625.368 102.242 629.118 Q102.242 632.845 104.071 635.02 Q105.922 637.173 109.071 637.173 Q112.219 637.173 114.047 635.02 Q115.899 632.845 115.899 629.118 Q115.899 625.368 114.047 623.215 Q112.219 621.062 109.071 621.062 M118.353 606.409 L118.353 610.669 Q116.594 609.835 114.788 609.396 Q113.006 608.956 111.246 608.956 Q106.617 608.956 104.163 612.081 Q101.733 615.206 101.385 621.525 Q102.751 619.511 104.811 618.446 Q106.871 617.359 109.348 617.359 Q114.557 617.359 117.566 620.53 Q120.598 623.678 120.598 629.118 Q120.598 634.442 117.45 637.659 Q114.302 640.877 109.071 640.877 Q103.075 640.877 99.9039 636.294 Q96.7326 631.687 96.7326 622.96 Q96.7326 614.766 100.621 609.905 Q104.51 605.021 111.061 605.021 Q112.82 605.021 114.603 605.368 Q116.408 605.715 118.353 606.409 Z\" fill=\"#000000\" fill-rule=\"evenodd\" fill-opacity=\"1\" /><path clip-path=\"url(#clip690)\" d=\"M63.5152 320.884 Q59.9041 320.884 58.0754 324.448 Q56.2699 327.99 56.2699 335.12 Q56.2699 342.226 58.0754 345.791 Q59.9041 349.332 63.5152 349.332 Q67.1494 349.332 68.955 345.791 Q70.7837 342.226 70.7837 335.12 Q70.7837 327.99 68.955 324.448 Q67.1494 320.884 63.5152 320.884 M63.5152 317.18 Q69.3254 317.18 72.3809 321.786 Q75.4596 326.37 75.4596 335.12 Q75.4596 343.846 72.3809 348.453 Q69.3254 353.036 63.5152 353.036 Q57.7051 353.036 54.6264 348.453 Q51.5708 343.846 51.5708 335.12 Q51.5708 326.37 54.6264 321.786 Q57.7051 317.18 63.5152 317.18 Z\" fill=\"#000000\" fill-rule=\"evenodd\" fill-opacity=\"1\" /><path clip-path=\"url(#clip690)\" d=\"M83.6771 346.485 L88.5614 346.485 L88.5614 352.365 L83.6771 352.365 L83.6771 346.485 Z\" fill=\"#000000\" fill-rule=\"evenodd\" fill-opacity=\"1\" /><path clip-path=\"url(#clip690)\" d=\"M108.746 335.953 Q105.413 335.953 103.492 337.735 Q101.594 339.518 101.594 342.643 Q101.594 345.768 103.492 347.55 Q105.413 349.332 108.746 349.332 Q112.08 349.332 114.001 347.55 Q115.922 345.745 115.922 342.643 Q115.922 339.518 114.001 337.735 Q112.103 335.953 108.746 335.953 M104.071 333.962 Q101.061 333.221 99.3715 331.161 Q97.7048 329.101 97.7048 326.138 Q97.7048 321.995 100.645 319.587 Q103.608 317.18 108.746 317.18 Q113.908 317.18 116.848 319.587 Q119.788 321.995 119.788 326.138 Q119.788 329.101 118.098 331.161 Q116.432 333.221 113.445 333.962 Q116.825 334.749 118.7 337.041 Q120.598 339.333 120.598 342.643 Q120.598 347.666 117.52 350.351 Q114.464 353.036 108.746 353.036 Q103.029 353.036 99.9502 350.351 Q96.8947 347.666 96.8947 342.643 Q96.8947 339.333 98.7928 337.041 Q100.691 334.749 104.071 333.962 M102.358 326.578 Q102.358 329.263 104.024 330.768 Q105.714 332.272 108.746 332.272 Q111.756 332.272 113.445 330.768 Q115.158 329.263 115.158 326.578 Q115.158 323.893 113.445 322.388 Q111.756 320.884 108.746 320.884 Q105.714 320.884 104.024 322.388 Q102.358 323.893 102.358 326.578 Z\" fill=\"#000000\" fill-rule=\"evenodd\" fill-opacity=\"1\" /><path clip-path=\"url(#clip690)\" d=\"M54.2328 60.5889 L61.8717 60.5889 L61.8717 34.2233 L53.5616 35.89 L53.5616 31.6308 L61.8254 29.9641 L66.5013 29.9641 L66.5013 60.5889 L74.1402 60.5889 L74.1402 64.5241 L54.2328 64.5241 L54.2328 60.5889 Z\" fill=\"#000000\" fill-rule=\"evenodd\" fill-opacity=\"1\" /><path clip-path=\"url(#clip690)\" d=\"M83.5845 58.6445 L88.4688 58.6445 L88.4688 64.5241 L83.5845 64.5241 L83.5845 58.6445 Z\" fill=\"#000000\" fill-rule=\"evenodd\" fill-opacity=\"1\" /><path clip-path=\"url(#clip690)\" d=\"M108.654 33.0428 Q105.043 33.0428 103.214 36.6076 Q101.409 40.1492 101.409 47.2788 Q101.409 54.3853 103.214 57.9501 Q105.043 61.4917 108.654 61.4917 Q112.288 61.4917 114.094 57.9501 Q115.922 54.3853 115.922 47.2788 Q115.922 40.1492 114.094 36.6076 Q112.288 33.0428 108.654 33.0428 M108.654 29.3391 Q114.464 29.3391 117.52 33.9456 Q120.598 38.5289 120.598 47.2788 Q120.598 56.0056 117.52 60.6121 Q114.464 65.1954 108.654 65.1954 Q102.844 65.1954 99.765 60.6121 Q96.7095 56.0056 96.7095 47.2788 Q96.7095 38.5289 99.765 33.9456 Q102.844 29.3391 108.654 29.3391 Z\" fill=\"#000000\" fill-rule=\"evenodd\" fill-opacity=\"1\" /><circle clip-path=\"url(#clip692)\" cx=\"218.754\" cy=\"1198.61\" r=\"14.4\" fill=\"#009af9\" fill-rule=\"evenodd\" fill-opacity=\"1\" stroke=\"#000000\" stroke-opacity=\"1\" stroke-width=\"3.2\"/>\n",
       "<circle clip-path=\"url(#clip692)\" cx=\"290.197\" cy=\"1198.61\" r=\"14.4\" fill=\"#009af9\" fill-rule=\"evenodd\" fill-opacity=\"1\" stroke=\"#000000\" stroke-opacity=\"1\" stroke-width=\"3.2\"/>\n",
       "<circle clip-path=\"url(#clip692)\" cx=\"361.64\" cy=\"1198.61\" r=\"14.4\" fill=\"#009af9\" fill-rule=\"evenodd\" fill-opacity=\"1\" stroke=\"#000000\" stroke-opacity=\"1\" stroke-width=\"3.2\"/>\n",
       "<circle clip-path=\"url(#clip692)\" cx=\"433.083\" cy=\"1198.61\" r=\"14.4\" fill=\"#009af9\" fill-rule=\"evenodd\" fill-opacity=\"1\" stroke=\"#000000\" stroke-opacity=\"1\" stroke-width=\"3.2\"/>\n",
       "<circle clip-path=\"url(#clip692)\" cx=\"504.526\" cy=\"1198.61\" r=\"14.4\" fill=\"#009af9\" fill-rule=\"evenodd\" fill-opacity=\"1\" stroke=\"#000000\" stroke-opacity=\"1\" stroke-width=\"3.2\"/>\n",
       "<circle clip-path=\"url(#clip692)\" cx=\"575.969\" cy=\"1198.61\" r=\"14.4\" fill=\"#009af9\" fill-rule=\"evenodd\" fill-opacity=\"1\" stroke=\"#000000\" stroke-opacity=\"1\" stroke-width=\"3.2\"/>\n",
       "<circle clip-path=\"url(#clip692)\" cx=\"647.412\" cy=\"1198.61\" r=\"14.4\" fill=\"#009af9\" fill-rule=\"evenodd\" fill-opacity=\"1\" stroke=\"#000000\" stroke-opacity=\"1\" stroke-width=\"3.2\"/>\n",
       "<circle clip-path=\"url(#clip692)\" cx=\"718.855\" cy=\"1198.61\" r=\"14.4\" fill=\"#009af9\" fill-rule=\"evenodd\" fill-opacity=\"1\" stroke=\"#000000\" stroke-opacity=\"1\" stroke-width=\"3.2\"/>\n",
       "<circle clip-path=\"url(#clip692)\" cx=\"790.298\" cy=\"1198.61\" r=\"14.4\" fill=\"#009af9\" fill-rule=\"evenodd\" fill-opacity=\"1\" stroke=\"#000000\" stroke-opacity=\"1\" stroke-width=\"3.2\"/>\n",
       "<circle clip-path=\"url(#clip692)\" cx=\"861.741\" cy=\"1198.61\" r=\"14.4\" fill=\"#009af9\" fill-rule=\"evenodd\" fill-opacity=\"1\" stroke=\"#000000\" stroke-opacity=\"1\" stroke-width=\"3.2\"/>\n",
       "<circle clip-path=\"url(#clip692)\" cx=\"933.184\" cy=\"1198.61\" r=\"14.4\" fill=\"#009af9\" fill-rule=\"evenodd\" fill-opacity=\"1\" stroke=\"#000000\" stroke-opacity=\"1\" stroke-width=\"3.2\"/>\n",
       "<circle clip-path=\"url(#clip692)\" cx=\"1004.63\" cy=\"1198.61\" r=\"14.4\" fill=\"#009af9\" fill-rule=\"evenodd\" fill-opacity=\"1\" stroke=\"#000000\" stroke-opacity=\"1\" stroke-width=\"3.2\"/>\n",
       "<circle clip-path=\"url(#clip692)\" cx=\"1076.07\" cy=\"1198.61\" r=\"14.4\" fill=\"#009af9\" fill-rule=\"evenodd\" fill-opacity=\"1\" stroke=\"#000000\" stroke-opacity=\"1\" stroke-width=\"3.2\"/>\n",
       "<circle clip-path=\"url(#clip692)\" cx=\"1147.51\" cy=\"1198.61\" r=\"14.4\" fill=\"#009af9\" fill-rule=\"evenodd\" fill-opacity=\"1\" stroke=\"#000000\" stroke-opacity=\"1\" stroke-width=\"3.2\"/>\n",
       "<circle clip-path=\"url(#clip692)\" cx=\"1218.96\" cy=\"1198.61\" r=\"14.4\" fill=\"#009af9\" fill-rule=\"evenodd\" fill-opacity=\"1\" stroke=\"#000000\" stroke-opacity=\"1\" stroke-width=\"3.2\"/>\n",
       "<circle clip-path=\"url(#clip692)\" cx=\"1290.4\" cy=\"1198.61\" r=\"14.4\" fill=\"#009af9\" fill-rule=\"evenodd\" fill-opacity=\"1\" stroke=\"#000000\" stroke-opacity=\"1\" stroke-width=\"3.2\"/>\n",
       "<circle clip-path=\"url(#clip692)\" cx=\"1361.84\" cy=\"1198.61\" r=\"14.4\" fill=\"#009af9\" fill-rule=\"evenodd\" fill-opacity=\"1\" stroke=\"#000000\" stroke-opacity=\"1\" stroke-width=\"3.2\"/>\n",
       "<circle clip-path=\"url(#clip692)\" cx=\"1433.28\" cy=\"1198.61\" r=\"14.4\" fill=\"#009af9\" fill-rule=\"evenodd\" fill-opacity=\"1\" stroke=\"#000000\" stroke-opacity=\"1\" stroke-width=\"3.2\"/>\n",
       "<circle clip-path=\"url(#clip692)\" cx=\"1504.73\" cy=\"1198.61\" r=\"14.4\" fill=\"#009af9\" fill-rule=\"evenodd\" fill-opacity=\"1\" stroke=\"#000000\" stroke-opacity=\"1\" stroke-width=\"3.2\"/>\n",
       "<circle clip-path=\"url(#clip692)\" cx=\"1576.17\" cy=\"1198.61\" r=\"14.4\" fill=\"#009af9\" fill-rule=\"evenodd\" fill-opacity=\"1\" stroke=\"#000000\" stroke-opacity=\"1\" stroke-width=\"3.2\"/>\n",
       "<circle clip-path=\"url(#clip692)\" cx=\"1647.61\" cy=\"1198.61\" r=\"14.4\" fill=\"#009af9\" fill-rule=\"evenodd\" fill-opacity=\"1\" stroke=\"#000000\" stroke-opacity=\"1\" stroke-width=\"3.2\"/>\n",
       "<circle clip-path=\"url(#clip692)\" cx=\"1719.06\" cy=\"1198.61\" r=\"14.4\" fill=\"#009af9\" fill-rule=\"evenodd\" fill-opacity=\"1\" stroke=\"#000000\" stroke-opacity=\"1\" stroke-width=\"3.2\"/>\n",
       "<circle clip-path=\"url(#clip692)\" cx=\"1790.5\" cy=\"1198.61\" r=\"14.4\" fill=\"#009af9\" fill-rule=\"evenodd\" fill-opacity=\"1\" stroke=\"#000000\" stroke-opacity=\"1\" stroke-width=\"3.2\"/>\n",
       "<circle clip-path=\"url(#clip692)\" cx=\"1861.94\" cy=\"1198.61\" r=\"14.4\" fill=\"#009af9\" fill-rule=\"evenodd\" fill-opacity=\"1\" stroke=\"#000000\" stroke-opacity=\"1\" stroke-width=\"3.2\"/>\n",
       "<circle clip-path=\"url(#clip692)\" cx=\"1933.39\" cy=\"1198.61\" r=\"14.4\" fill=\"#009af9\" fill-rule=\"evenodd\" fill-opacity=\"1\" stroke=\"#000000\" stroke-opacity=\"1\" stroke-width=\"3.2\"/>\n",
       "<circle clip-path=\"url(#clip692)\" cx=\"2004.83\" cy=\"1198.61\" r=\"14.4\" fill=\"#009af9\" fill-rule=\"evenodd\" fill-opacity=\"1\" stroke=\"#000000\" stroke-opacity=\"1\" stroke-width=\"3.2\"/>\n",
       "<circle clip-path=\"url(#clip692)\" cx=\"2076.27\" cy=\"1198.61\" r=\"14.4\" fill=\"#009af9\" fill-rule=\"evenodd\" fill-opacity=\"1\" stroke=\"#000000\" stroke-opacity=\"1\" stroke-width=\"3.2\"/>\n",
       "<circle clip-path=\"url(#clip692)\" cx=\"2147.71\" cy=\"1198.61\" r=\"14.4\" fill=\"#009af9\" fill-rule=\"evenodd\" fill-opacity=\"1\" stroke=\"#000000\" stroke-opacity=\"1\" stroke-width=\"3.2\"/>\n",
       "<circle clip-path=\"url(#clip692)\" cx=\"2219.16\" cy=\"1198.61\" r=\"14.4\" fill=\"#009af9\" fill-rule=\"evenodd\" fill-opacity=\"1\" stroke=\"#000000\" stroke-opacity=\"1\" stroke-width=\"3.2\"/>\n",
       "<circle clip-path=\"url(#clip692)\" cx=\"2290.6\" cy=\"1198.61\" r=\"14.4\" fill=\"#009af9\" fill-rule=\"evenodd\" fill-opacity=\"1\" stroke=\"#000000\" stroke-opacity=\"1\" stroke-width=\"3.2\"/>\n",
       "<path clip-path=\"url(#clip690)\" d=\"\n",
       "M1983.1 198.898 L2279.55 198.898 L2279.55 95.2176 L1983.1 95.2176  Z\n",
       "  \" fill=\"#ffffff\" fill-rule=\"evenodd\" fill-opacity=\"1\"/>\n",
       "<polyline clip-path=\"url(#clip690)\" style=\"stroke:#000000; stroke-linecap:round; stroke-linejoin:round; stroke-width:4; stroke-opacity:1; fill:none\" points=\"\n",
       "  1983.1,198.898 2279.55,198.898 2279.55,95.2176 1983.1,95.2176 1983.1,198.898 \n",
       "  \"/>\n",
       "<circle clip-path=\"url(#clip690)\" cx=\"2080.71\" cy=\"147.058\" r=\"23.04\" fill=\"#009af9\" fill-rule=\"evenodd\" fill-opacity=\"1\" stroke=\"#000000\" stroke-opacity=\"1\" stroke-width=\"5.12\"/>\n",
       "<path clip-path=\"url(#clip690)\" d=\"M2192.16 166.745 Q2190.35 171.375 2188.64 172.787 Q2186.93 174.199 2184.06 174.199 L2180.65 174.199 L2180.65 170.634 L2183.15 170.634 Q2184.91 170.634 2185.89 169.8 Q2186.86 168.967 2188.04 165.865 L2188.8 163.921 L2178.32 138.412 L2182.83 138.412 L2190.93 158.689 L2199.03 138.412 L2203.55 138.412 L2192.16 166.745 Z\" fill=\"#000000\" fill-rule=\"evenodd\" fill-opacity=\"1\" /><path clip-path=\"url(#clip690)\" d=\"M2210.84 160.402 L2218.48 160.402 L2218.48 134.037 L2210.17 135.703 L2210.17 131.444 L2218.43 129.778 L2223.11 129.778 L2223.11 160.402 L2230.75 160.402 L2230.75 164.338 L2210.84 164.338 L2210.84 160.402 Z\" fill=\"#000000\" fill-rule=\"evenodd\" fill-opacity=\"1\" /></svg>\n"
      ]
     },
     "execution_count": 12,
     "metadata": {},
     "output_type": "execute_result"
    }
   ],
   "source": [
    "ρ = 0.2\n",
    "errors = [1.]\n",
    "for i in 1:30\n",
    "    next_e = errors[end] * ρ\n",
    "    push!(errors, next_e)\n",
    "end\n",
    "#plot(errors, yscale=:log10, ylims=(1e-10, 1))\n",
    "e = hist .- r\n",
    "scatter(abs.(errors[2:end] ./ errors[1:end-1]), ylims=(0,1))"
   ]
  },
  {
   "cell_type": "markdown",
   "id": "0cef4c8a",
   "metadata": {
    "slideshow": {
     "slide_type": "fragment"
    }
   },
   "source": [
    "## Bisection: A = q-linearly convergent, B = r-linearly convergent, C = neither"
   ]
  },
  {
   "cell_type": "markdown",
   "id": "02f7c585",
   "metadata": {
    "slideshow": {
     "slide_type": "slide"
    }
   },
   "source": [
    "# Remarks on bisection\n",
    "\n",
    "* Specifying an interval is often inconvenient\n",
    "* An interval in which the function changes sign guarantees convergence (robustness)\n",
    "* No derivative information is required\n",
    "* If bisection works for $f(x)$, then it works and gives the same accuracy for $f(x) \\sigma(x)$ where $\\sigma(x) > 0$.\n",
    "* Roots of even degree are problematic\n",
    "* A bound on the solution error is directly available\n",
    "* The convergence rate is modest -- one iteration per bit of accuracy"
   ]
  },
  {
   "cell_type": "markdown",
   "id": "0a00717f",
   "metadata": {
    "slideshow": {
     "slide_type": "slide"
    }
   },
   "source": [
    "# Newton-Raphson Method\n",
    "\n",
    "Much of numerical analysis reduces to [Taylor series](https://en.wikipedia.org/wiki/Taylor_series), the approximation\n",
    "$$ f(x) = f(x_0) + f'(x_0) (x-x_0) + f''(x_0) (x - x_0)^2 / 2 + \\underbrace{\\dotsb}_{O((x-x_0)^3)} $$\n",
    "centered on some reference point $x_0$.\n",
    "\n",
    "In numerical computation, it is exceedingly rare to look beyond the first-order approximation\n",
    "$$ \\tilde f_{x_0}(x) = f(x_0) + f'(x_0)(x - x_0) . $$\n",
    "Since $\\tilde f_{x_0}(x)$ is a linear function, we can explicitly compute the unique solution of $\\tilde f_{x_0}(x) = 0$ as\n",
    "$$ x = x_0 - f(x_0) / f'(x_0) . $$\n",
    "This is Newton's Method (aka Newton-Raphson or Newton-Raphson-Simpson) for finding the roots of differentiable functions."
   ]
  },
  {
   "cell_type": "markdown",
   "id": "6df48567",
   "metadata": {
    "slideshow": {
     "slide_type": "slide"
    }
   },
   "source": [
    "# An implementation"
   ]
  },
  {
   "cell_type": "code",
   "execution_count": 34,
   "id": "c02084b7",
   "metadata": {
    "cell_style": "center",
    "slideshow": {
     "slide_type": "-"
    }
   },
   "outputs": [
    {
     "data": {
      "text/plain": [
       "(0.739085133385284, -2.847205804457076e-10, 4)"
      ]
     },
     "execution_count": 34,
     "metadata": {},
     "output_type": "execute_result"
    }
   ],
   "source": [
    "function newton(f, fp, x0; tol=1e-8, verbose=false)\n",
    "    x = x0\n",
    "    for k in 1:100 # max number of iterations\n",
    "        fx = f(x)\n",
    "        fpx = fp(x)\n",
    "        if verbose\n",
    "            println(\"[$k] x=$x  f(x)=$fx  f'(x)=$fpx\")\n",
    "        end\n",
    "        if abs(fx) < tol\n",
    "            return x, fx, k\n",
    "        end\n",
    "        x = x - fx / fpx\n",
    "    end  \n",
    "end\n",
    "\n",
    "f(x) = cos(x) - x\n",
    "fp(x) = -sin(x) - 1\n",
    "newton(f, fp, 1)"
   ]
  },
  {
   "cell_type": "code",
   "execution_count": 24,
   "id": "dddd268d",
   "metadata": {
    "slideshow": {
     "slide_type": "slide"
    }
   },
   "outputs": [
    {
     "data": {
      "image/svg+xml": [
       "<?xml version=\"1.0\" encoding=\"utf-8\"?>\n",
       "<svg xmlns=\"http://www.w3.org/2000/svg\" xmlns:xlink=\"http://www.w3.org/1999/xlink\" width=\"600\" height=\"400\" viewBox=\"0 0 2400 1600\">\n",
       "<defs>\n",
       "  <clipPath id=\"clip930\">\n",
       "    <rect x=\"0\" y=\"0\" width=\"2400\" height=\"1600\"/>\n",
       "  </clipPath>\n",
       "</defs>\n",
       "<path clip-path=\"url(#clip930)\" d=\"\n",
       "M0 1600 L2400 1600 L2400 0 L0 0  Z\n",
       "  \" fill=\"#ffffff\" fill-rule=\"evenodd\" fill-opacity=\"1\"/>\n",
       "<defs>\n",
       "  <clipPath id=\"clip931\">\n",
       "    <rect x=\"480\" y=\"0\" width=\"1681\" height=\"1600\"/>\n",
       "  </clipPath>\n",
       "</defs>\n",
       "<path clip-path=\"url(#clip930)\" d=\"\n",
       "M224.098 1486.45 L2352.76 1486.45 L2352.76 47.2441 L224.098 47.2441  Z\n",
       "  \" fill=\"#ffffff\" fill-rule=\"evenodd\" fill-opacity=\"1\"/>\n",
       "<defs>\n",
       "  <clipPath id=\"clip932\">\n",
       "    <rect x=\"224\" y=\"47\" width=\"2130\" height=\"1440\"/>\n",
       "  </clipPath>\n",
       "</defs>\n",
       "<polyline clip-path=\"url(#clip932)\" style=\"stroke:#000000; stroke-linecap:round; stroke-linejoin:round; stroke-width:2; stroke-opacity:0.1; fill:none\" points=\"\n",
       "  224.098,1486.45 224.098,47.2441 \n",
       "  \"/>\n",
       "<polyline clip-path=\"url(#clip932)\" style=\"stroke:#000000; stroke-linecap:round; stroke-linejoin:round; stroke-width:2; stroke-opacity:0.1; fill:none\" points=\"\n",
       "  756.262,1486.45 756.262,47.2441 \n",
       "  \"/>\n",
       "<polyline clip-path=\"url(#clip932)\" style=\"stroke:#000000; stroke-linecap:round; stroke-linejoin:round; stroke-width:2; stroke-opacity:0.1; fill:none\" points=\"\n",
       "  1288.43,1486.45 1288.43,47.2441 \n",
       "  \"/>\n",
       "<polyline clip-path=\"url(#clip932)\" style=\"stroke:#000000; stroke-linecap:round; stroke-linejoin:round; stroke-width:2; stroke-opacity:0.1; fill:none\" points=\"\n",
       "  1820.59,1486.45 1820.59,47.2441 \n",
       "  \"/>\n",
       "<polyline clip-path=\"url(#clip932)\" style=\"stroke:#000000; stroke-linecap:round; stroke-linejoin:round; stroke-width:2; stroke-opacity:0.1; fill:none\" points=\"\n",
       "  2352.76,1486.45 2352.76,47.2441 \n",
       "  \"/>\n",
       "<polyline clip-path=\"url(#clip930)\" style=\"stroke:#000000; stroke-linecap:round; stroke-linejoin:round; stroke-width:4; stroke-opacity:1; fill:none\" points=\"\n",
       "  224.098,1486.45 2352.76,1486.45 \n",
       "  \"/>\n",
       "<polyline clip-path=\"url(#clip930)\" style=\"stroke:#000000; stroke-linecap:round; stroke-linejoin:round; stroke-width:4; stroke-opacity:1; fill:none\" points=\"\n",
       "  224.098,1486.45 224.098,1467.55 \n",
       "  \"/>\n",
       "<polyline clip-path=\"url(#clip930)\" style=\"stroke:#000000; stroke-linecap:round; stroke-linejoin:round; stroke-width:4; stroke-opacity:1; fill:none\" points=\"\n",
       "  756.262,1486.45 756.262,1467.55 \n",
       "  \"/>\n",
       "<polyline clip-path=\"url(#clip930)\" style=\"stroke:#000000; stroke-linecap:round; stroke-linejoin:round; stroke-width:4; stroke-opacity:1; fill:none\" points=\"\n",
       "  1288.43,1486.45 1288.43,1467.55 \n",
       "  \"/>\n",
       "<polyline clip-path=\"url(#clip930)\" style=\"stroke:#000000; stroke-linecap:round; stroke-linejoin:round; stroke-width:4; stroke-opacity:1; fill:none\" points=\"\n",
       "  1820.59,1486.45 1820.59,1467.55 \n",
       "  \"/>\n",
       "<polyline clip-path=\"url(#clip930)\" style=\"stroke:#000000; stroke-linecap:round; stroke-linejoin:round; stroke-width:4; stroke-opacity:1; fill:none\" points=\"\n",
       "  2352.76,1486.45 2352.76,1467.55 \n",
       "  \"/>\n",
       "<path clip-path=\"url(#clip930)\" d=\"M171.32 1517.37 Q167.709 1517.37 165.881 1520.93 Q164.075 1524.47 164.075 1531.6 Q164.075 1538.71 165.881 1542.27 Q167.709 1545.82 171.32 1545.82 Q174.955 1545.82 176.76 1542.27 Q178.589 1538.71 178.589 1531.6 Q178.589 1524.47 176.76 1520.93 Q174.955 1517.37 171.32 1517.37 M171.32 1513.66 Q177.131 1513.66 180.186 1518.27 Q183.265 1522.85 183.265 1531.6 Q183.265 1540.33 180.186 1544.94 Q177.131 1549.52 171.32 1549.52 Q165.51 1549.52 162.432 1544.94 Q159.376 1540.33 159.376 1531.6 Q159.376 1522.85 162.432 1518.27 Q165.51 1513.66 171.32 1513.66 Z\" fill=\"#000000\" fill-rule=\"evenodd\" fill-opacity=\"1\" /><path clip-path=\"url(#clip930)\" d=\"M191.482 1542.97 L196.367 1542.97 L196.367 1548.85 L191.482 1548.85 L191.482 1542.97 Z\" fill=\"#000000\" fill-rule=\"evenodd\" fill-opacity=\"1\" /><path clip-path=\"url(#clip930)\" d=\"M205.371 1514.29 L227.593 1514.29 L227.593 1516.28 L215.047 1548.85 L210.163 1548.85 L221.968 1518.22 L205.371 1518.22 L205.371 1514.29 Z\" fill=\"#000000\" fill-rule=\"evenodd\" fill-opacity=\"1\" /><path clip-path=\"url(#clip930)\" d=\"M246.713 1517.37 Q243.102 1517.37 241.274 1520.93 Q239.468 1524.47 239.468 1531.6 Q239.468 1538.71 241.274 1542.27 Q243.102 1545.82 246.713 1545.82 Q250.348 1545.82 252.153 1542.27 Q253.982 1538.71 253.982 1531.6 Q253.982 1524.47 252.153 1520.93 Q250.348 1517.37 246.713 1517.37 M246.713 1513.66 Q252.524 1513.66 255.579 1518.27 Q258.658 1522.85 258.658 1531.6 Q258.658 1540.33 255.579 1544.94 Q252.524 1549.52 246.713 1549.52 Q240.903 1549.52 237.825 1544.94 Q234.769 1540.33 234.769 1531.6 Q234.769 1522.85 237.825 1518.27 Q240.903 1513.66 246.713 1513.66 Z\" fill=\"#000000\" fill-rule=\"evenodd\" fill-opacity=\"1\" /><path clip-path=\"url(#clip930)\" d=\"M276.875 1517.37 Q273.264 1517.37 271.436 1520.93 Q269.63 1524.47 269.63 1531.6 Q269.63 1538.71 271.436 1542.27 Q273.264 1545.82 276.875 1545.82 Q280.51 1545.82 282.315 1542.27 Q284.144 1538.71 284.144 1531.6 Q284.144 1524.47 282.315 1520.93 Q280.51 1517.37 276.875 1517.37 M276.875 1513.66 Q282.686 1513.66 285.741 1518.27 Q288.82 1522.85 288.82 1531.6 Q288.82 1540.33 285.741 1544.94 Q282.686 1549.52 276.875 1549.52 Q271.065 1549.52 267.987 1544.94 Q264.931 1540.33 264.931 1531.6 Q264.931 1522.85 267.987 1518.27 Q271.065 1513.66 276.875 1513.66 Z\" fill=\"#000000\" fill-rule=\"evenodd\" fill-opacity=\"1\" /><path clip-path=\"url(#clip930)\" d=\"M703.983 1517.37 Q700.371 1517.37 698.543 1520.93 Q696.737 1524.47 696.737 1531.6 Q696.737 1538.71 698.543 1542.27 Q700.371 1545.82 703.983 1545.82 Q707.617 1545.82 709.422 1542.27 Q711.251 1538.71 711.251 1531.6 Q711.251 1524.47 709.422 1520.93 Q707.617 1517.37 703.983 1517.37 M703.983 1513.66 Q709.793 1513.66 712.848 1518.27 Q715.927 1522.85 715.927 1531.6 Q715.927 1540.33 712.848 1544.94 Q709.793 1549.52 703.983 1549.52 Q698.172 1549.52 695.094 1544.94 Q692.038 1540.33 692.038 1531.6 Q692.038 1522.85 695.094 1518.27 Q698.172 1513.66 703.983 1513.66 Z\" fill=\"#000000\" fill-rule=\"evenodd\" fill-opacity=\"1\" /><path clip-path=\"url(#clip930)\" d=\"M724.144 1542.97 L729.029 1542.97 L729.029 1548.85 L724.144 1548.85 L724.144 1542.97 Z\" fill=\"#000000\" fill-rule=\"evenodd\" fill-opacity=\"1\" /><path clip-path=\"url(#clip930)\" d=\"M738.033 1514.29 L760.255 1514.29 L760.255 1516.28 L747.709 1548.85 L742.825 1548.85 L754.63 1518.22 L738.033 1518.22 L738.033 1514.29 Z\" fill=\"#000000\" fill-rule=\"evenodd\" fill-opacity=\"1\" /><path clip-path=\"url(#clip930)\" d=\"M773.403 1544.91 L789.723 1544.91 L789.723 1548.85 L767.779 1548.85 L767.779 1544.91 Q770.441 1542.16 775.024 1537.53 Q779.63 1532.88 780.811 1531.53 Q783.056 1529.01 783.936 1527.27 Q784.839 1525.51 784.839 1523.82 Q784.839 1521.07 782.894 1519.33 Q780.973 1517.6 777.871 1517.6 Q775.672 1517.6 773.218 1518.36 Q770.788 1519.13 768.01 1520.68 L768.01 1515.95 Q770.834 1514.82 773.288 1514.24 Q775.741 1513.66 777.778 1513.66 Q783.149 1513.66 786.343 1516.35 Q789.538 1519.03 789.538 1523.52 Q789.538 1525.65 788.727 1527.57 Q787.94 1529.47 785.834 1532.07 Q785.255 1532.74 782.153 1535.95 Q779.052 1539.15 773.403 1544.91 Z\" fill=\"#000000\" fill-rule=\"evenodd\" fill-opacity=\"1\" /><path clip-path=\"url(#clip930)\" d=\"M799.584 1514.29 L817.94 1514.29 L817.94 1518.22 L803.866 1518.22 L803.866 1526.7 Q804.885 1526.35 805.903 1526.19 Q806.922 1526 807.94 1526 Q813.727 1526 817.107 1529.17 Q820.487 1532.34 820.487 1537.76 Q820.487 1543.34 817.014 1546.44 Q813.542 1549.52 807.223 1549.52 Q805.047 1549.52 802.778 1549.15 Q800.533 1548.78 798.126 1548.04 L798.126 1543.34 Q800.209 1544.47 802.431 1545.03 Q804.653 1545.58 807.13 1545.58 Q811.135 1545.58 813.473 1543.48 Q815.811 1541.37 815.811 1537.76 Q815.811 1534.15 813.473 1532.04 Q811.135 1529.94 807.13 1529.94 Q805.255 1529.94 803.38 1530.35 Q801.528 1530.77 799.584 1531.65 L799.584 1514.29 Z\" fill=\"#000000\" fill-rule=\"evenodd\" fill-opacity=\"1\" /><path clip-path=\"url(#clip930)\" d=\"M1235.65 1517.37 Q1232.04 1517.37 1230.21 1520.93 Q1228.4 1524.47 1228.4 1531.6 Q1228.4 1538.71 1230.21 1542.27 Q1232.04 1545.82 1235.65 1545.82 Q1239.28 1545.82 1241.09 1542.27 Q1242.92 1538.71 1242.92 1531.6 Q1242.92 1524.47 1241.09 1520.93 Q1239.28 1517.37 1235.65 1517.37 M1235.65 1513.66 Q1241.46 1513.66 1244.52 1518.27 Q1247.59 1522.85 1247.59 1531.6 Q1247.59 1540.33 1244.52 1544.94 Q1241.46 1549.52 1235.65 1549.52 Q1229.84 1549.52 1226.76 1544.94 Q1223.71 1540.33 1223.71 1531.6 Q1223.71 1522.85 1226.76 1518.27 Q1229.84 1513.66 1235.65 1513.66 Z\" fill=\"#000000\" fill-rule=\"evenodd\" fill-opacity=\"1\" /><path clip-path=\"url(#clip930)\" d=\"M1255.81 1542.97 L1260.7 1542.97 L1260.7 1548.85 L1255.81 1548.85 L1255.81 1542.97 Z\" fill=\"#000000\" fill-rule=\"evenodd\" fill-opacity=\"1\" /><path clip-path=\"url(#clip930)\" d=\"M1269.7 1514.29 L1291.92 1514.29 L1291.92 1516.28 L1279.38 1548.85 L1274.49 1548.85 L1286.3 1518.22 L1269.7 1518.22 L1269.7 1514.29 Z\" fill=\"#000000\" fill-rule=\"evenodd\" fill-opacity=\"1\" /><path clip-path=\"url(#clip930)\" d=\"M1301.09 1514.29 L1319.45 1514.29 L1319.45 1518.22 L1305.37 1518.22 L1305.37 1526.7 Q1306.39 1526.35 1307.41 1526.19 Q1308.43 1526 1309.45 1526 Q1315.23 1526 1318.61 1529.17 Q1321.99 1532.34 1321.99 1537.76 Q1321.99 1543.34 1318.52 1546.44 Q1315.05 1549.52 1308.73 1549.52 Q1306.55 1549.52 1304.28 1549.15 Q1302.04 1548.78 1299.63 1548.04 L1299.63 1543.34 Q1301.71 1544.47 1303.94 1545.03 Q1306.16 1545.58 1308.64 1545.58 Q1312.64 1545.58 1314.98 1543.48 Q1317.32 1541.37 1317.32 1537.76 Q1317.32 1534.15 1314.98 1532.04 Q1312.64 1529.94 1308.64 1529.94 Q1306.76 1529.94 1304.89 1530.35 Q1303.03 1530.77 1301.09 1531.65 L1301.09 1514.29 Z\" fill=\"#000000\" fill-rule=\"evenodd\" fill-opacity=\"1\" /><path clip-path=\"url(#clip930)\" d=\"M1341.2 1517.37 Q1337.59 1517.37 1335.76 1520.93 Q1333.96 1524.47 1333.96 1531.6 Q1333.96 1538.71 1335.76 1542.27 Q1337.59 1545.82 1341.2 1545.82 Q1344.84 1545.82 1346.64 1542.27 Q1348.47 1538.71 1348.47 1531.6 Q1348.47 1524.47 1346.64 1520.93 Q1344.84 1517.37 1341.2 1517.37 M1341.2 1513.66 Q1347.01 1513.66 1350.07 1518.27 Q1353.15 1522.85 1353.15 1531.6 Q1353.15 1540.33 1350.07 1544.94 Q1347.01 1549.52 1341.2 1549.52 Q1335.39 1549.52 1332.32 1544.94 Q1329.26 1540.33 1329.26 1531.6 Q1329.26 1522.85 1332.32 1518.27 Q1335.39 1513.66 1341.2 1513.66 Z\" fill=\"#000000\" fill-rule=\"evenodd\" fill-opacity=\"1\" /><path clip-path=\"url(#clip930)\" d=\"M1768.31 1517.37 Q1764.7 1517.37 1762.87 1520.93 Q1761.07 1524.47 1761.07 1531.6 Q1761.07 1538.71 1762.87 1542.27 Q1764.7 1545.82 1768.31 1545.82 Q1771.95 1545.82 1773.75 1542.27 Q1775.58 1538.71 1775.58 1531.6 Q1775.58 1524.47 1773.75 1520.93 Q1771.95 1517.37 1768.31 1517.37 M1768.31 1513.66 Q1774.12 1513.66 1777.18 1518.27 Q1780.26 1522.85 1780.26 1531.6 Q1780.26 1540.33 1777.18 1544.94 Q1774.12 1549.52 1768.31 1549.52 Q1762.5 1549.52 1759.42 1544.94 Q1756.37 1540.33 1756.37 1531.6 Q1756.37 1522.85 1759.42 1518.27 Q1762.5 1513.66 1768.31 1513.66 Z\" fill=\"#000000\" fill-rule=\"evenodd\" fill-opacity=\"1\" /><path clip-path=\"url(#clip930)\" d=\"M1788.47 1542.97 L1793.36 1542.97 L1793.36 1548.85 L1788.47 1548.85 L1788.47 1542.97 Z\" fill=\"#000000\" fill-rule=\"evenodd\" fill-opacity=\"1\" /><path clip-path=\"url(#clip930)\" d=\"M1802.36 1514.29 L1824.58 1514.29 L1824.58 1516.28 L1812.04 1548.85 L1807.15 1548.85 L1818.96 1518.22 L1802.36 1518.22 L1802.36 1514.29 Z\" fill=\"#000000\" fill-rule=\"evenodd\" fill-opacity=\"1\" /><path clip-path=\"url(#clip930)\" d=\"M1832.52 1514.29 L1854.75 1514.29 L1854.75 1516.28 L1842.2 1548.85 L1837.32 1548.85 L1849.12 1518.22 L1832.52 1518.22 L1832.52 1514.29 Z\" fill=\"#000000\" fill-rule=\"evenodd\" fill-opacity=\"1\" /><path clip-path=\"url(#clip930)\" d=\"M1863.91 1514.29 L1882.27 1514.29 L1882.27 1518.22 L1868.2 1518.22 L1868.2 1526.7 Q1869.21 1526.35 1870.23 1526.19 Q1871.25 1526 1872.27 1526 Q1878.06 1526 1881.44 1529.17 Q1884.82 1532.34 1884.82 1537.76 Q1884.82 1543.34 1881.34 1546.44 Q1877.87 1549.52 1871.55 1549.52 Q1869.38 1549.52 1867.11 1549.15 Q1864.86 1548.78 1862.45 1548.04 L1862.45 1543.34 Q1864.54 1544.47 1866.76 1545.03 Q1868.98 1545.58 1871.46 1545.58 Q1875.46 1545.58 1877.8 1543.48 Q1880.14 1541.37 1880.14 1537.76 Q1880.14 1534.15 1877.8 1532.04 Q1875.46 1529.94 1871.46 1529.94 Q1869.58 1529.94 1867.71 1530.35 Q1865.86 1530.77 1863.91 1531.65 L1863.91 1514.29 Z\" fill=\"#000000\" fill-rule=\"evenodd\" fill-opacity=\"1\" /><path clip-path=\"url(#clip930)\" d=\"M2299.98 1517.37 Q2296.37 1517.37 2294.54 1520.93 Q2292.73 1524.47 2292.73 1531.6 Q2292.73 1538.71 2294.54 1542.27 Q2296.37 1545.82 2299.98 1545.82 Q2303.61 1545.82 2305.42 1542.27 Q2307.25 1538.71 2307.25 1531.6 Q2307.25 1524.47 2305.42 1520.93 Q2303.61 1517.37 2299.98 1517.37 M2299.98 1513.66 Q2305.79 1513.66 2308.84 1518.27 Q2311.92 1522.85 2311.92 1531.6 Q2311.92 1540.33 2308.84 1544.94 Q2305.79 1549.52 2299.98 1549.52 Q2294.17 1549.52 2291.09 1544.94 Q2288.03 1540.33 2288.03 1531.6 Q2288.03 1522.85 2291.09 1518.27 Q2294.17 1513.66 2299.98 1513.66 Z\" fill=\"#000000\" fill-rule=\"evenodd\" fill-opacity=\"1\" /><path clip-path=\"url(#clip930)\" d=\"M2320.14 1542.97 L2325.02 1542.97 L2325.02 1548.85 L2320.14 1548.85 L2320.14 1542.97 Z\" fill=\"#000000\" fill-rule=\"evenodd\" fill-opacity=\"1\" /><path clip-path=\"url(#clip930)\" d=\"M2345.21 1532.44 Q2341.88 1532.44 2339.96 1534.22 Q2338.06 1536 2338.06 1539.13 Q2338.06 1542.25 2339.96 1544.03 Q2341.88 1545.82 2345.21 1545.82 Q2348.54 1545.82 2350.46 1544.03 Q2352.39 1542.23 2352.39 1539.13 Q2352.39 1536 2350.46 1534.22 Q2348.57 1532.44 2345.21 1532.44 M2340.53 1530.45 Q2337.52 1529.7 2335.83 1527.64 Q2334.17 1525.58 2334.17 1522.62 Q2334.17 1518.48 2337.11 1516.07 Q2340.07 1513.66 2345.21 1513.66 Q2350.37 1513.66 2353.31 1516.07 Q2356.25 1518.48 2356.25 1522.62 Q2356.25 1525.58 2354.56 1527.64 Q2352.89 1529.7 2349.91 1530.45 Q2353.29 1531.23 2355.16 1533.52 Q2357.06 1535.82 2357.06 1539.13 Q2357.06 1544.15 2353.98 1546.83 Q2350.93 1549.52 2345.21 1549.52 Q2339.49 1549.52 2336.41 1546.83 Q2333.36 1544.15 2333.36 1539.13 Q2333.36 1535.82 2335.26 1533.52 Q2337.15 1531.23 2340.53 1530.45 M2338.82 1523.06 Q2338.82 1525.75 2340.49 1527.25 Q2342.18 1528.76 2345.21 1528.76 Q2348.22 1528.76 2349.91 1527.25 Q2351.62 1525.75 2351.62 1523.06 Q2351.62 1520.38 2349.91 1518.87 Q2348.22 1517.37 2345.21 1517.37 Q2342.18 1517.37 2340.49 1518.87 Q2338.82 1520.38 2338.82 1523.06 Z\" fill=\"#000000\" fill-rule=\"evenodd\" fill-opacity=\"1\" /><path clip-path=\"url(#clip930)\" d=\"M2375.37 1517.37 Q2371.76 1517.37 2369.93 1520.93 Q2368.13 1524.47 2368.13 1531.6 Q2368.13 1538.71 2369.93 1542.27 Q2371.76 1545.82 2375.37 1545.82 Q2379.01 1545.82 2380.81 1542.27 Q2382.64 1538.71 2382.64 1531.6 Q2382.64 1524.47 2380.81 1520.93 Q2379.01 1517.37 2375.37 1517.37 M2375.37 1513.66 Q2381.18 1513.66 2384.24 1518.27 Q2387.32 1522.85 2387.32 1531.6 Q2387.32 1540.33 2384.24 1544.94 Q2381.18 1549.52 2375.37 1549.52 Q2369.56 1549.52 2366.48 1544.94 Q2363.43 1540.33 2363.43 1531.6 Q2363.43 1522.85 2366.48 1518.27 Q2369.56 1513.66 2375.37 1513.66 Z\" fill=\"#000000\" fill-rule=\"evenodd\" fill-opacity=\"1\" /><path clip-path=\"url(#clip930)\" d=\"M2405.53 1517.37 Q2401.92 1517.37 2400.09 1520.93 Q2398.29 1524.47 2398.29 1531.6 Q2398.29 1538.71 2400.09 1542.27 Q2401.92 1545.82 2405.53 1545.82 Q2409.17 1545.82 2410.97 1542.27 Q2412.8 1538.71 2412.8 1531.6 Q2412.8 1524.47 2410.97 1520.93 Q2409.17 1517.37 2405.53 1517.37 M2405.53 1513.66 Q2411.34 1513.66 2414.4 1518.27 Q2417.48 1522.85 2417.48 1531.6 Q2417.48 1540.33 2414.4 1544.94 Q2411.34 1549.52 2405.53 1549.52 Q2399.72 1549.52 2396.64 1544.94 Q2393.59 1540.33 2393.59 1531.6 Q2393.59 1522.85 2396.64 1518.27 Q2399.72 1513.66 2405.53 1513.66 Z\" fill=\"#000000\" fill-rule=\"evenodd\" fill-opacity=\"1\" /><polyline clip-path=\"url(#clip932)\" style=\"stroke:#000000; stroke-linecap:round; stroke-linejoin:round; stroke-width:2; stroke-opacity:0.1; fill:none\" points=\"\n",
       "  224.098,1422.91 2352.76,1422.91 \n",
       "  \"/>\n",
       "<polyline clip-path=\"url(#clip932)\" style=\"stroke:#000000; stroke-linecap:round; stroke-linejoin:round; stroke-width:2; stroke-opacity:0.1; fill:none\" points=\"\n",
       "  224.098,1076.61 2352.76,1076.61 \n",
       "  \"/>\n",
       "<polyline clip-path=\"url(#clip932)\" style=\"stroke:#000000; stroke-linecap:round; stroke-linejoin:round; stroke-width:2; stroke-opacity:0.1; fill:none\" points=\"\n",
       "  224.098,730.313 2352.76,730.313 \n",
       "  \"/>\n",
       "<polyline clip-path=\"url(#clip932)\" style=\"stroke:#000000; stroke-linecap:round; stroke-linejoin:round; stroke-width:2; stroke-opacity:0.1; fill:none\" points=\"\n",
       "  224.098,384.016 2352.76,384.016 \n",
       "  \"/>\n",
       "<polyline clip-path=\"url(#clip930)\" style=\"stroke:#000000; stroke-linecap:round; stroke-linejoin:round; stroke-width:4; stroke-opacity:1; fill:none\" points=\"\n",
       "  224.098,1486.45 224.098,47.2441 \n",
       "  \"/>\n",
       "<polyline clip-path=\"url(#clip930)\" style=\"stroke:#000000; stroke-linecap:round; stroke-linejoin:round; stroke-width:4; stroke-opacity:1; fill:none\" points=\"\n",
       "  224.098,1422.91 242.996,1422.91 \n",
       "  \"/>\n",
       "<polyline clip-path=\"url(#clip930)\" style=\"stroke:#000000; stroke-linecap:round; stroke-linejoin:round; stroke-width:4; stroke-opacity:1; fill:none\" points=\"\n",
       "  224.098,1076.61 242.996,1076.61 \n",
       "  \"/>\n",
       "<polyline clip-path=\"url(#clip930)\" style=\"stroke:#000000; stroke-linecap:round; stroke-linejoin:round; stroke-width:4; stroke-opacity:1; fill:none\" points=\"\n",
       "  224.098,730.313 242.996,730.313 \n",
       "  \"/>\n",
       "<polyline clip-path=\"url(#clip930)\" style=\"stroke:#000000; stroke-linecap:round; stroke-linejoin:round; stroke-width:4; stroke-opacity:1; fill:none\" points=\"\n",
       "  224.098,384.016 242.996,384.016 \n",
       "  \"/>\n",
       "<path clip-path=\"url(#clip930)\" d=\"M50.9921 1423.36 L80.6679 1423.36 L80.6679 1427.29 L50.9921 1427.29 L50.9921 1423.36 Z\" fill=\"#000000\" fill-rule=\"evenodd\" fill-opacity=\"1\" /><path clip-path=\"url(#clip930)\" d=\"M100.76 1408.71 Q97.1493 1408.71 95.3206 1412.27 Q93.515 1415.81 93.515 1422.94 Q93.515 1430.05 95.3206 1433.61 Q97.1493 1437.15 100.76 1437.15 Q104.395 1437.15 106.2 1433.61 Q108.029 1430.05 108.029 1422.94 Q108.029 1415.81 106.2 1412.27 Q104.395 1408.71 100.76 1408.71 M100.76 1405 Q106.571 1405 109.626 1409.61 Q112.705 1414.19 112.705 1422.94 Q112.705 1431.67 109.626 1436.27 Q106.571 1440.86 100.76 1440.86 Q94.9502 1440.86 91.8715 1436.27 Q88.816 1431.67 88.816 1422.94 Q88.816 1414.19 91.8715 1409.61 Q94.9502 1405 100.76 1405 Z\" fill=\"#000000\" fill-rule=\"evenodd\" fill-opacity=\"1\" /><path clip-path=\"url(#clip930)\" d=\"M120.922 1434.31 L125.807 1434.31 L125.807 1440.19 L120.922 1440.19 L120.922 1434.31 Z\" fill=\"#000000\" fill-rule=\"evenodd\" fill-opacity=\"1\" /><path clip-path=\"url(#clip930)\" d=\"M136.802 1436.25 L144.441 1436.25 L144.441 1409.89 L136.131 1411.55 L136.131 1407.29 L144.394 1405.63 L149.07 1405.63 L149.07 1436.25 L156.709 1436.25 L156.709 1440.19 L136.802 1440.19 L136.802 1436.25 Z\" fill=\"#000000\" fill-rule=\"evenodd\" fill-opacity=\"1\" /><path clip-path=\"url(#clip930)\" d=\"M176.153 1408.71 Q172.542 1408.71 170.714 1412.27 Q168.908 1415.81 168.908 1422.94 Q168.908 1430.05 170.714 1433.61 Q172.542 1437.15 176.153 1437.15 Q179.788 1437.15 181.593 1433.61 Q183.422 1430.05 183.422 1422.94 Q183.422 1415.81 181.593 1412.27 Q179.788 1408.71 176.153 1408.71 M176.153 1405 Q181.964 1405 185.019 1409.61 Q188.098 1414.19 188.098 1422.94 Q188.098 1431.67 185.019 1436.27 Q181.964 1440.86 176.153 1440.86 Q170.343 1440.86 167.265 1436.27 Q164.209 1431.67 164.209 1422.94 Q164.209 1414.19 167.265 1409.61 Q170.343 1405 176.153 1405 Z\" fill=\"#000000\" fill-rule=\"evenodd\" fill-opacity=\"1\" /><path clip-path=\"url(#clip930)\" d=\"M51.9875 1077.06 L81.6633 1077.06 L81.6633 1081 L51.9875 1081 L51.9875 1077.06 Z\" fill=\"#000000\" fill-rule=\"evenodd\" fill-opacity=\"1\" /><path clip-path=\"url(#clip930)\" d=\"M101.756 1062.41 Q98.1447 1062.41 96.316 1065.97 Q94.5104 1069.51 94.5104 1076.64 Q94.5104 1083.75 96.316 1087.32 Q98.1447 1090.86 101.756 1090.86 Q105.39 1090.86 107.196 1087.32 Q109.024 1083.75 109.024 1076.64 Q109.024 1069.51 107.196 1065.97 Q105.39 1062.41 101.756 1062.41 M101.756 1058.7 Q107.566 1058.7 110.621 1063.31 Q113.7 1067.89 113.7 1076.64 Q113.7 1085.37 110.621 1089.98 Q107.566 1094.56 101.756 1094.56 Q95.9456 1094.56 92.8669 1089.98 Q89.8114 1085.37 89.8114 1076.64 Q89.8114 1067.89 92.8669 1063.31 Q95.9456 1058.7 101.756 1058.7 Z\" fill=\"#000000\" fill-rule=\"evenodd\" fill-opacity=\"1\" /><path clip-path=\"url(#clip930)\" d=\"M121.918 1088.01 L126.802 1088.01 L126.802 1093.89 L121.918 1093.89 L121.918 1088.01 Z\" fill=\"#000000\" fill-rule=\"evenodd\" fill-opacity=\"1\" /><path clip-path=\"url(#clip930)\" d=\"M146.987 1062.41 Q143.376 1062.41 141.547 1065.97 Q139.742 1069.51 139.742 1076.64 Q139.742 1083.75 141.547 1087.32 Q143.376 1090.86 146.987 1090.86 Q150.621 1090.86 152.427 1087.32 Q154.255 1083.75 154.255 1076.64 Q154.255 1069.51 152.427 1065.97 Q150.621 1062.41 146.987 1062.41 M146.987 1058.7 Q152.797 1058.7 155.853 1063.31 Q158.931 1067.89 158.931 1076.64 Q158.931 1085.37 155.853 1089.98 Q152.797 1094.56 146.987 1094.56 Q141.177 1094.56 138.098 1089.98 Q135.043 1085.37 135.043 1076.64 Q135.043 1067.89 138.098 1063.31 Q141.177 1058.7 146.987 1058.7 Z\" fill=\"#000000\" fill-rule=\"evenodd\" fill-opacity=\"1\" /><path clip-path=\"url(#clip930)\" d=\"M167.195 1059.33 L185.552 1059.33 L185.552 1063.26 L171.478 1063.26 L171.478 1071.74 Q172.496 1071.39 173.515 1071.23 Q174.533 1071.04 175.552 1071.04 Q181.339 1071.04 184.718 1074.21 Q188.098 1077.39 188.098 1082.8 Q188.098 1088.38 184.626 1091.48 Q181.153 1094.56 174.834 1094.56 Q172.658 1094.56 170.39 1094.19 Q168.144 1093.82 165.737 1093.08 L165.737 1088.38 Q167.82 1089.51 170.042 1090.07 Q172.265 1090.63 174.741 1090.63 Q178.746 1090.63 181.084 1088.52 Q183.422 1086.41 183.422 1082.8 Q183.422 1079.19 181.084 1077.08 Q178.746 1074.98 174.741 1074.98 Q172.866 1074.98 170.991 1075.39 Q169.14 1075.81 167.195 1076.69 L167.195 1059.33 Z\" fill=\"#000000\" fill-rule=\"evenodd\" fill-opacity=\"1\" /><path clip-path=\"url(#clip930)\" d=\"M100.76 716.111 Q97.1493 716.111 95.3206 719.676 Q93.515 723.218 93.515 730.347 Q93.515 737.454 95.3206 741.019 Q97.1493 744.56 100.76 744.56 Q104.395 744.56 106.2 741.019 Q108.029 737.454 108.029 730.347 Q108.029 723.218 106.2 719.676 Q104.395 716.111 100.76 716.111 M100.76 712.408 Q106.571 712.408 109.626 717.014 Q112.705 721.598 112.705 730.347 Q112.705 739.074 109.626 743.681 Q106.571 748.264 100.76 748.264 Q94.9502 748.264 91.8715 743.681 Q88.816 739.074 88.816 730.347 Q88.816 721.598 91.8715 717.014 Q94.9502 712.408 100.76 712.408 Z\" fill=\"#000000\" fill-rule=\"evenodd\" fill-opacity=\"1\" /><path clip-path=\"url(#clip930)\" d=\"M120.922 741.713 L125.807 741.713 L125.807 747.593 L120.922 747.593 L120.922 741.713 Z\" fill=\"#000000\" fill-rule=\"evenodd\" fill-opacity=\"1\" /><path clip-path=\"url(#clip930)\" d=\"M145.992 716.111 Q142.381 716.111 140.552 719.676 Q138.746 723.218 138.746 730.347 Q138.746 737.454 140.552 741.019 Q142.381 744.56 145.992 744.56 Q149.626 744.56 151.431 741.019 Q153.26 737.454 153.26 730.347 Q153.26 723.218 151.431 719.676 Q149.626 716.111 145.992 716.111 M145.992 712.408 Q151.802 712.408 154.857 717.014 Q157.936 721.598 157.936 730.347 Q157.936 739.074 154.857 743.681 Q151.802 748.264 145.992 748.264 Q140.181 748.264 137.103 743.681 Q134.047 739.074 134.047 730.347 Q134.047 721.598 137.103 717.014 Q140.181 712.408 145.992 712.408 Z\" fill=\"#000000\" fill-rule=\"evenodd\" fill-opacity=\"1\" /><path clip-path=\"url(#clip930)\" d=\"M176.153 716.111 Q172.542 716.111 170.714 719.676 Q168.908 723.218 168.908 730.347 Q168.908 737.454 170.714 741.019 Q172.542 744.56 176.153 744.56 Q179.788 744.56 181.593 741.019 Q183.422 737.454 183.422 730.347 Q183.422 723.218 181.593 719.676 Q179.788 716.111 176.153 716.111 M176.153 712.408 Q181.964 712.408 185.019 717.014 Q188.098 721.598 188.098 730.347 Q188.098 739.074 185.019 743.681 Q181.964 748.264 176.153 748.264 Q170.343 748.264 167.265 743.681 Q164.209 739.074 164.209 730.347 Q164.209 721.598 167.265 717.014 Q170.343 712.408 176.153 712.408 Z\" fill=\"#000000\" fill-rule=\"evenodd\" fill-opacity=\"1\" /><path clip-path=\"url(#clip930)\" d=\"M101.756 369.815 Q98.1447 369.815 96.316 373.379 Q94.5104 376.921 94.5104 384.051 Q94.5104 391.157 96.316 394.722 Q98.1447 398.263 101.756 398.263 Q105.39 398.263 107.196 394.722 Q109.024 391.157 109.024 384.051 Q109.024 376.921 107.196 373.379 Q105.39 369.815 101.756 369.815 M101.756 366.111 Q107.566 366.111 110.621 370.717 Q113.7 375.301 113.7 384.051 Q113.7 392.777 110.621 397.384 Q107.566 401.967 101.756 401.967 Q95.9456 401.967 92.8669 397.384 Q89.8114 392.777 89.8114 384.051 Q89.8114 375.301 92.8669 370.717 Q95.9456 366.111 101.756 366.111 Z\" fill=\"#000000\" fill-rule=\"evenodd\" fill-opacity=\"1\" /><path clip-path=\"url(#clip930)\" d=\"M121.918 395.416 L126.802 395.416 L126.802 401.296 L121.918 401.296 L121.918 395.416 Z\" fill=\"#000000\" fill-rule=\"evenodd\" fill-opacity=\"1\" /><path clip-path=\"url(#clip930)\" d=\"M146.987 369.815 Q143.376 369.815 141.547 373.379 Q139.742 376.921 139.742 384.051 Q139.742 391.157 141.547 394.722 Q143.376 398.263 146.987 398.263 Q150.621 398.263 152.427 394.722 Q154.255 391.157 154.255 384.051 Q154.255 376.921 152.427 373.379 Q150.621 369.815 146.987 369.815 M146.987 366.111 Q152.797 366.111 155.853 370.717 Q158.931 375.301 158.931 384.051 Q158.931 392.777 155.853 397.384 Q152.797 401.967 146.987 401.967 Q141.177 401.967 138.098 397.384 Q135.043 392.777 135.043 384.051 Q135.043 375.301 138.098 370.717 Q141.177 366.111 146.987 366.111 Z\" fill=\"#000000\" fill-rule=\"evenodd\" fill-opacity=\"1\" /><path clip-path=\"url(#clip930)\" d=\"M167.195 366.736 L185.552 366.736 L185.552 370.671 L171.478 370.671 L171.478 379.143 Q172.496 378.796 173.515 378.634 Q174.533 378.449 175.552 378.449 Q181.339 378.449 184.718 381.62 Q188.098 384.791 188.098 390.208 Q188.098 395.787 184.626 398.888 Q181.153 401.967 174.834 401.967 Q172.658 401.967 170.39 401.597 Q168.144 401.226 165.737 400.486 L165.737 395.787 Q167.82 396.921 170.042 397.476 Q172.265 398.032 174.741 398.032 Q178.746 398.032 181.084 395.925 Q183.422 393.819 183.422 390.208 Q183.422 386.597 181.084 384.49 Q178.746 382.384 174.741 382.384 Q172.866 382.384 170.991 382.801 Q169.14 383.217 167.195 384.097 L167.195 366.736 Z\" fill=\"#000000\" fill-rule=\"evenodd\" fill-opacity=\"1\" /><polyline clip-path=\"url(#clip932)\" style=\"stroke:#009af9; stroke-linecap:round; stroke-linejoin:round; stroke-width:4; stroke-opacity:1; fill:none\" points=\"\n",
       "  224.098,281.22 237.957,288.635 366.101,357.305 443.11,398.665 508.22,433.688 578.948,471.788 644.153,506.964 714.06,544.73 795.053,588.557 867.031,627.567 \n",
       "  930.149,661.825 998.964,699.226 1068.19,736.903 1144.72,778.624 1217.55,818.381 1293.27,859.782 1357,894.683 1434.82,937.354 1506.11,976.503 1571.95,1012.71 \n",
       "  1638.64,1049.44 1713.38,1090.65 1781.11,1128.05 1858.66,1170.94 1930.46,1210.7 2001.24,1249.96 2069.97,1288.13 2140.43,1327.31 2217.62,1370.3 2329.75,1432.86 \n",
       "  2352.76,1445.72 \n",
       "  \"/>\n",
       "<polyline clip-path=\"url(#clip932)\" style=\"stroke:#e26f46; stroke-linecap:round; stroke-linejoin:round; stroke-width:4; stroke-opacity:1; fill:none\" points=\"\n",
       "  224.098,87.9763 237.957,96.2798 366.101,173.058 443.11,219.198 508.22,258.209 578.948,300.586 644.153,339.653 714.06,381.538 795.053,430.066 867.031,473.191 \n",
       "  930.149,511.009 998.964,552.24 1068.19,593.716 1144.72,639.573 1217.55,683.204 1293.27,728.571 1357,766.761 1434.82,813.385 1506.11,856.097 1571.95,895.544 \n",
       "  1638.64,935.503 1713.38,980.285 1781.11,1020.87 1858.66,1067.33 1930.46,1110.35 2001.24,1152.76 2069.97,1193.94 2140.43,1236.15 2217.62,1282.4 2329.75,1349.58 \n",
       "  2352.76,1363.37 \n",
       "  \"/>\n",
       "<polyline clip-path=\"url(#clip932)\" style=\"stroke:#3da44d; stroke-linecap:round; stroke-linejoin:round; stroke-width:4; stroke-opacity:1; fill:none\" points=\"\n",
       "  224.098,274.696 237.957,282.28 366.101,352.405 443.11,394.547 508.22,430.177 578.948,468.882 644.153,504.565 714.06,542.82 795.053,587.143 867.031,626.531 \n",
       "  930.149,661.072 998.964,698.73 1068.19,736.612 1144.72,778.495 1217.55,818.346 1293.27,859.782 1357,894.662 1434.82,937.247 1506.11,976.257 1571.95,1012.29 \n",
       "  1638.64,1048.78 1713.38,1089.68 1781.11,1126.75 1858.66,1169.18 1930.46,1208.48 2001.24,1247.21 2069.97,1284.82 2140.43,1323.38 2217.62,1365.62 2329.75,1426.98 \n",
       "  2352.76,1439.57 \n",
       "  \"/>\n",
       "<path clip-path=\"url(#clip930)\" d=\"\n",
       "M1968.71 302.578 L2281.8 302.578 L2281.8 95.2176 L1968.71 95.2176  Z\n",
       "  \" fill=\"#ffffff\" fill-rule=\"evenodd\" fill-opacity=\"1\"/>\n",
       "<polyline clip-path=\"url(#clip930)\" style=\"stroke:#000000; stroke-linecap:round; stroke-linejoin:round; stroke-width:4; stroke-opacity:1; fill:none\" points=\"\n",
       "  1968.71,302.578 2281.8,302.578 2281.8,95.2176 1968.71,95.2176 1968.71,302.578 \n",
       "  \"/>\n",
       "<polyline clip-path=\"url(#clip930)\" style=\"stroke:#009af9; stroke-linecap:round; stroke-linejoin:round; stroke-width:4; stroke-opacity:1; fill:none\" points=\"\n",
       "  1992.36,147.058 2134.27,147.058 \n",
       "  \"/>\n",
       "<path clip-path=\"url(#clip930)\" d=\"M2174.43 128.319 L2174.43 131.861 L2170.35 131.861 Q2168.06 131.861 2167.16 132.787 Q2166.28 133.713 2166.28 136.12 L2166.28 138.412 L2173.29 138.412 L2173.29 141.722 L2166.28 141.722 L2166.28 164.338 L2162 164.338 L2162 141.722 L2157.92 141.722 L2157.92 138.412 L2162 138.412 L2162 136.606 Q2162 132.278 2164.01 130.31 Q2166.03 128.319 2170.4 128.319 L2174.43 128.319 Z\" fill=\"#000000\" fill-rule=\"evenodd\" fill-opacity=\"1\" /><path clip-path=\"url(#clip930)\" d=\"M2188.22 128.366 Q2185.12 133.69 2183.62 138.898 Q2182.11 144.106 2182.11 149.453 Q2182.11 154.801 2183.62 160.055 Q2185.15 165.287 2188.22 170.588 L2184.52 170.588 Q2181.05 165.148 2179.31 159.893 Q2177.6 154.639 2177.6 149.453 Q2177.6 144.291 2179.31 139.06 Q2181.03 133.828 2184.52 128.366 L2188.22 128.366 Z\" fill=\"#000000\" fill-rule=\"evenodd\" fill-opacity=\"1\" /><path clip-path=\"url(#clip930)\" d=\"M2218.04 138.412 L2208.66 151.027 L2218.52 164.338 L2213.5 164.338 L2205.96 154.152 L2198.41 164.338 L2193.39 164.338 L2203.46 150.773 L2194.24 138.412 L2199.27 138.412 L2206.14 147.648 L2213.02 138.412 L2218.04 138.412 Z\" fill=\"#000000\" fill-rule=\"evenodd\" fill-opacity=\"1\" /><path clip-path=\"url(#clip930)\" d=\"M2223.87 128.366 L2227.58 128.366 Q2231.05 133.828 2232.76 139.06 Q2234.5 144.291 2234.5 149.453 Q2234.5 154.639 2232.76 159.893 Q2231.05 165.148 2227.58 170.588 L2223.87 170.588 Q2226.95 165.287 2228.46 160.055 Q2229.98 154.801 2229.98 149.453 Q2229.98 144.106 2228.46 138.898 Q2226.95 133.69 2223.87 128.366 Z\" fill=\"#000000\" fill-rule=\"evenodd\" fill-opacity=\"1\" /><polyline clip-path=\"url(#clip930)\" style=\"stroke:#e26f46; stroke-linecap:round; stroke-linejoin:round; stroke-width:4; stroke-opacity:1; fill:none\" points=\"\n",
       "  1992.36,198.898 2134.27,198.898 \n",
       "  \"/>\n",
       "<path clip-path=\"url(#clip930)\" d=\"M2171.77 218.585 Q2169.96 223.215 2168.25 224.627 Q2166.53 226.039 2163.66 226.039 L2160.26 226.039 L2160.26 222.474 L2162.76 222.474 Q2164.52 222.474 2165.49 221.64 Q2166.47 220.807 2167.65 217.705 L2168.41 215.761 L2157.92 190.252 L2162.44 190.252 L2170.54 210.529 L2178.64 190.252 L2183.15 190.252 L2171.77 218.585 Z\" fill=\"#000000\" fill-rule=\"evenodd\" fill-opacity=\"1\" /><path clip-path=\"url(#clip930)\" d=\"M2190.45 212.242 L2198.09 212.242 L2198.09 185.877 L2189.78 187.543 L2189.78 183.284 L2198.04 181.618 L2202.71 181.618 L2202.71 212.242 L2210.35 212.242 L2210.35 216.178 L2190.45 216.178 L2190.45 212.242 Z\" fill=\"#000000\" fill-rule=\"evenodd\" fill-opacity=\"1\" /><polyline clip-path=\"url(#clip930)\" style=\"stroke:#3da44d; stroke-linecap:round; stroke-linejoin:round; stroke-width:4; stroke-opacity:1; fill:none\" points=\"\n",
       "  1992.36,250.738 2134.27,250.738 \n",
       "  \"/>\n",
       "<path clip-path=\"url(#clip930)\" d=\"M2171.77 270.425 Q2169.96 275.055 2168.25 276.467 Q2166.53 277.879 2163.66 277.879 L2160.26 277.879 L2160.26 274.314 L2162.76 274.314 Q2164.52 274.314 2165.49 273.48 Q2166.47 272.647 2167.65 269.545 L2168.41 267.601 L2157.92 242.092 L2162.44 242.092 L2170.54 262.369 L2178.64 242.092 L2183.15 242.092 L2171.77 270.425 Z\" fill=\"#000000\" fill-rule=\"evenodd\" fill-opacity=\"1\" /><path clip-path=\"url(#clip930)\" d=\"M2193.66 264.082 L2209.98 264.082 L2209.98 268.018 L2188.04 268.018 L2188.04 264.082 Q2190.7 261.328 2195.28 256.698 Q2199.89 252.045 2201.07 250.703 Q2203.32 248.18 2204.2 246.444 Q2205.1 244.684 2205.1 242.995 Q2205.1 240.24 2203.15 238.504 Q2201.23 236.768 2198.13 236.768 Q2195.93 236.768 2193.48 237.532 Q2191.05 238.295 2188.27 239.846 L2188.27 235.124 Q2191.09 233.99 2193.55 233.411 Q2196 232.833 2198.04 232.833 Q2203.41 232.833 2206.6 235.518 Q2209.8 238.203 2209.8 242.694 Q2209.8 244.823 2208.99 246.745 Q2208.2 248.643 2206.09 251.235 Q2205.52 251.907 2202.41 255.124 Q2199.31 258.319 2193.66 264.082 Z\" fill=\"#000000\" fill-rule=\"evenodd\" fill-opacity=\"1\" /></svg>\n"
      ]
     },
     "execution_count": 24,
     "metadata": {},
     "output_type": "execute_result"
    }
   ],
   "source": [
    "plot([f, x-> fp(1.)*(x-1.) + f(1.), x-> fp(0.7503638678402439)*(x-0.7503638678402439) + f(0.7503638678402439)],\n",
    "    label = [\"f(x)\" \"y1\" \"y2\"], lw=1, xlims=(0.7, 0.8))"
   ]
  },
  {
   "cell_type": "markdown",
   "id": "d3e656c0",
   "metadata": {
    "slideshow": {
     "slide_type": "slide"
    }
   },
   "source": [
    "# That's really fast!\n",
    "\n",
    "* 10 digits of accuracy in 4 iterations.\n",
    "* How is this convergence test different from the one we used for bisection?\n",
    "* How can this break down?\n",
    "\n",
    "$$ x_{k+1} = x_k - \\frac{f(x_k)}{f'(x_k)} $$"
   ]
  },
  {
   "cell_type": "code",
   "execution_count": 30,
   "id": "6ec23f6a",
   "metadata": {
    "cell_style": "center",
    "slideshow": {
     "slide_type": "-"
    }
   },
   "outputs": [
    {
     "name": "stdout",
     "output_type": "stream",
     "text": [
      "[1] x=-1.4707963267948965  f(x)=1.5706297434417247  f'(x)=-0.0049958347219742905\n",
      "[2] x=312.9170549232224  f(x)=-312.59435002533314  f'(x)=-0.05350037037604283\n",
      "[3] x=-5529.927542752894  f(x)=5530.676391917825  f'(x)=-0.33725953180603474\n",
      "[4] x=10868.945936970244  f(x)=-10868.376227850798  f'(x)=-0.17815359146505727\n",
      "[5] x=-50136.70732252356  f(x)=50135.70777741902  f'(x)=-1.0301593101044748\n",
      "[6] x=-1468.7903453577164  f(x)=1468.8859787856973  f'(x)=-1.9954166200403913\n",
      "[7] x=-732.6603742863299  f(x)=731.8761094362295  f'(x)=-1.6204261800544972\n",
      "[8] x=-281.0038172368656  f(x)=280.8358913898124  f'(x)=-1.9857996296872256\n",
      "[9] x=-139.58174866993488  f(x)=139.79912372811944  f'(x)=-0.02391184615360531\n",
      "[10] x=5706.856156210999  f(x)=-5707.008659764705  f'(x)=-1.9883029222393844\n",
      "[11] x=2836.5648158265976  f(x)=-2837.5220962814674  f'(x)=-1.2891610809292957\n",
      "[12] x=635.503879177757  f(x)=-634.8839651181479  f'(x)=-1.784669713127157\n",
      "[13] x=279.7607629875442  f(x)=-280.7481464325292  f'(x)=-0.8416524942745961\n",
      "[14] x=-53.80700796583557  f(x)=52.88592082634005  f'(x)=-1.3893564966145653\n",
      "[15] x=-15.74196061822768  f(x)=14.742538472479499  f'(x)=-1.0339908015219368\n",
      "[16] x=-1.4840596284124175  f(x)=1.5706876106501757  f'(x)=-0.0037592697076601622\n",
      "[17] x=416.333158287511  f(x)=-416.4052274406877  f'(x)=-1.99739963763799\n",
      "[18] x=207.8594910282616  f(x)=-206.9888910802111  f'(x)=-1.4919915959184906\n",
      "[19] x=69.12620885264326  f(x)=-68.1262712417355  f'(x)=-1.0111702413616044\n",
      "[20] x=1.7525179991632598  f(x)=-1.933241162917233  f'(x)=-1.9835340045381016\n",
      "[21] x=0.7778731690296721  f(x)=-0.0654654835715871  f'(x)=-1.7017658368004631\n",
      "[22] x=0.7394040200105153  f(x)=-0.0005337303513481828  f'(x)=-1.6738476794194503\n",
      "[23] x=0.7390851556610822  f(x)=-3.756576461011463e-8  f'(x)=-1.6736120457726615\n",
      "[24] x=0.7390851332151608  f(x)=-2.220446049250313e-16  f'(x)=-1.6736120291832148\n"
     ]
    },
    {
     "data": {
      "text/plain": [
       "(0.7390851332151608, -2.220446049250313e-16, 24)"
      ]
     },
     "execution_count": 30,
     "metadata": {},
     "output_type": "execute_result"
    }
   ],
   "source": [
    "newton(f, fp, -pi/2 + 0.1; verbose=true)"
   ]
  },
  {
   "cell_type": "code",
   "execution_count": 52,
   "id": "fab8ab87",
   "metadata": {
    "cell_style": "center",
    "slideshow": {
     "slide_type": "slide"
    }
   },
   "outputs": [
    {
     "data": {
      "image/svg+xml": [
       "<?xml version=\"1.0\" encoding=\"utf-8\"?>\n",
       "<svg xmlns=\"http://www.w3.org/2000/svg\" xmlns:xlink=\"http://www.w3.org/1999/xlink\" width=\"600\" height=\"400\" viewBox=\"0 0 2400 1600\">\n",
       "<defs>\n",
       "  <clipPath id=\"clip060\">\n",
       "    <rect x=\"0\" y=\"0\" width=\"2400\" height=\"1600\"/>\n",
       "  </clipPath>\n",
       "</defs>\n",
       "<path clip-path=\"url(#clip060)\" d=\"\n",
       "M0 1600 L2400 1600 L2400 0 L0 0  Z\n",
       "  \" fill=\"#ffffff\" fill-rule=\"evenodd\" fill-opacity=\"1\"/>\n",
       "<defs>\n",
       "  <clipPath id=\"clip061\">\n",
       "    <rect x=\"480\" y=\"0\" width=\"1681\" height=\"1600\"/>\n",
       "  </clipPath>\n",
       "</defs>\n",
       "<path clip-path=\"url(#clip060)\" d=\"\n",
       "M149.191 1486.45 L2352.76 1486.45 L2352.76 47.2441 L149.191 47.2441  Z\n",
       "  \" fill=\"#ffffff\" fill-rule=\"evenodd\" fill-opacity=\"1\"/>\n",
       "<defs>\n",
       "  <clipPath id=\"clip062\">\n",
       "    <rect x=\"149\" y=\"47\" width=\"2205\" height=\"1440\"/>\n",
       "  </clipPath>\n",
       "</defs>\n",
       "<polyline clip-path=\"url(#clip062)\" style=\"stroke:#000000; stroke-linecap:round; stroke-linejoin:round; stroke-width:2; stroke-opacity:0.1; fill:none\" points=\"\n",
       "  424.636,1486.45 424.636,47.2441 \n",
       "  \"/>\n",
       "<polyline clip-path=\"url(#clip062)\" style=\"stroke:#000000; stroke-linecap:round; stroke-linejoin:round; stroke-width:2; stroke-opacity:0.1; fill:none\" points=\"\n",
       "  975.528,1486.45 975.528,47.2441 \n",
       "  \"/>\n",
       "<polyline clip-path=\"url(#clip062)\" style=\"stroke:#000000; stroke-linecap:round; stroke-linejoin:round; stroke-width:2; stroke-opacity:0.1; fill:none\" points=\"\n",
       "  1526.42,1486.45 1526.42,47.2441 \n",
       "  \"/>\n",
       "<polyline clip-path=\"url(#clip062)\" style=\"stroke:#000000; stroke-linecap:round; stroke-linejoin:round; stroke-width:2; stroke-opacity:0.1; fill:none\" points=\"\n",
       "  2077.31,1486.45 2077.31,47.2441 \n",
       "  \"/>\n",
       "<polyline clip-path=\"url(#clip060)\" style=\"stroke:#000000; stroke-linecap:round; stroke-linejoin:round; stroke-width:4; stroke-opacity:1; fill:none\" points=\"\n",
       "  149.191,1486.45 2352.76,1486.45 \n",
       "  \"/>\n",
       "<polyline clip-path=\"url(#clip060)\" style=\"stroke:#000000; stroke-linecap:round; stroke-linejoin:round; stroke-width:4; stroke-opacity:1; fill:none\" points=\"\n",
       "  424.636,1486.45 424.636,1467.55 \n",
       "  \"/>\n",
       "<polyline clip-path=\"url(#clip060)\" style=\"stroke:#000000; stroke-linecap:round; stroke-linejoin:round; stroke-width:4; stroke-opacity:1; fill:none\" points=\"\n",
       "  975.528,1486.45 975.528,1467.55 \n",
       "  \"/>\n",
       "<polyline clip-path=\"url(#clip060)\" style=\"stroke:#000000; stroke-linecap:round; stroke-linejoin:round; stroke-width:4; stroke-opacity:1; fill:none\" points=\"\n",
       "  1526.42,1486.45 1526.42,1467.55 \n",
       "  \"/>\n",
       "<polyline clip-path=\"url(#clip060)\" style=\"stroke:#000000; stroke-linecap:round; stroke-linejoin:round; stroke-width:4; stroke-opacity:1; fill:none\" points=\"\n",
       "  2077.31,1486.45 2077.31,1467.55 \n",
       "  \"/>\n",
       "<path clip-path=\"url(#clip060)\" d=\"M393.537 1532.02 L423.213 1532.02 L423.213 1535.95 L393.537 1535.95 L393.537 1532.02 Z\" fill=\"#000000\" fill-rule=\"evenodd\" fill-opacity=\"1\" /><path clip-path=\"url(#clip060)\" d=\"M446.153 1518.36 L434.347 1536.81 L446.153 1536.81 L446.153 1518.36 M444.926 1514.29 L450.805 1514.29 L450.805 1536.81 L455.736 1536.81 L455.736 1540.7 L450.805 1540.7 L450.805 1548.85 L446.153 1548.85 L446.153 1540.7 L430.551 1540.7 L430.551 1536.19 L444.926 1514.29 Z\" fill=\"#000000\" fill-rule=\"evenodd\" fill-opacity=\"1\" /><path clip-path=\"url(#clip060)\" d=\"M945.47 1532.02 L975.146 1532.02 L975.146 1535.95 L945.47 1535.95 L945.47 1532.02 Z\" fill=\"#000000\" fill-rule=\"evenodd\" fill-opacity=\"1\" /><path clip-path=\"url(#clip060)\" d=\"M989.266 1544.91 L1005.59 1544.91 L1005.59 1548.85 L983.641 1548.85 L983.641 1544.91 Q986.303 1542.16 990.886 1537.53 Q995.493 1532.88 996.673 1531.53 Q998.919 1529.01 999.798 1527.27 Q1000.7 1525.51 1000.7 1523.82 Q1000.7 1521.07 998.757 1519.33 Q996.836 1517.6 993.734 1517.6 Q991.535 1517.6 989.081 1518.36 Q986.65 1519.13 983.873 1520.68 L983.873 1515.95 Q986.697 1514.82 989.15 1514.24 Q991.604 1513.66 993.641 1513.66 Q999.011 1513.66 1002.21 1516.35 Q1005.4 1519.03 1005.4 1523.52 Q1005.4 1525.65 1004.59 1527.57 Q1003.8 1529.47 1001.7 1532.07 Q1001.12 1532.74 998.016 1535.95 Q994.914 1539.15 989.266 1544.91 Z\" fill=\"#000000\" fill-rule=\"evenodd\" fill-opacity=\"1\" /><path clip-path=\"url(#clip060)\" d=\"M1526.42 1517.37 Q1522.81 1517.37 1520.98 1520.93 Q1519.17 1524.47 1519.17 1531.6 Q1519.17 1538.71 1520.98 1542.27 Q1522.81 1545.82 1526.42 1545.82 Q1530.05 1545.82 1531.86 1542.27 Q1533.69 1538.71 1533.69 1531.6 Q1533.69 1524.47 1531.86 1520.93 Q1530.05 1517.37 1526.42 1517.37 M1526.42 1513.66 Q1532.23 1513.66 1535.28 1518.27 Q1538.36 1522.85 1538.36 1531.6 Q1538.36 1540.33 1535.28 1544.94 Q1532.23 1549.52 1526.42 1549.52 Q1520.61 1549.52 1517.53 1544.94 Q1514.47 1540.33 1514.47 1531.6 Q1514.47 1522.85 1517.53 1518.27 Q1520.61 1513.66 1526.42 1513.66 Z\" fill=\"#000000\" fill-rule=\"evenodd\" fill-opacity=\"1\" /><path clip-path=\"url(#clip060)\" d=\"M2071.96 1544.91 L2088.28 1544.91 L2088.28 1548.85 L2066.34 1548.85 L2066.34 1544.91 Q2069 1542.16 2073.58 1537.53 Q2078.19 1532.88 2079.37 1531.53 Q2081.62 1529.01 2082.5 1527.27 Q2083.4 1525.51 2083.4 1523.82 Q2083.4 1521.07 2081.45 1519.33 Q2079.53 1517.6 2076.43 1517.6 Q2074.23 1517.6 2071.78 1518.36 Q2069.35 1519.13 2066.57 1520.68 L2066.57 1515.95 Q2069.39 1514.82 2071.85 1514.24 Q2074.3 1513.66 2076.34 1513.66 Q2081.71 1513.66 2084.9 1516.35 Q2088.1 1519.03 2088.1 1523.52 Q2088.1 1525.65 2087.29 1527.57 Q2086.5 1529.47 2084.39 1532.07 Q2083.81 1532.74 2080.71 1535.95 Q2077.61 1539.15 2071.96 1544.91 Z\" fill=\"#000000\" fill-rule=\"evenodd\" fill-opacity=\"1\" /><polyline clip-path=\"url(#clip062)\" style=\"stroke:#000000; stroke-linecap:round; stroke-linejoin:round; stroke-width:2; stroke-opacity:0.1; fill:none\" points=\"\n",
       "  149.191,1447.18 2352.76,1447.18 \n",
       "  \"/>\n",
       "<polyline clip-path=\"url(#clip062)\" style=\"stroke:#000000; stroke-linecap:round; stroke-linejoin:round; stroke-width:2; stroke-opacity:0.1; fill:none\" points=\"\n",
       "  149.191,1154.36 2352.76,1154.36 \n",
       "  \"/>\n",
       "<polyline clip-path=\"url(#clip062)\" style=\"stroke:#000000; stroke-linecap:round; stroke-linejoin:round; stroke-width:2; stroke-opacity:0.1; fill:none\" points=\"\n",
       "  149.191,861.548 2352.76,861.548 \n",
       "  \"/>\n",
       "<polyline clip-path=\"url(#clip062)\" style=\"stroke:#000000; stroke-linecap:round; stroke-linejoin:round; stroke-width:2; stroke-opacity:0.1; fill:none\" points=\"\n",
       "  149.191,568.731 2352.76,568.731 \n",
       "  \"/>\n",
       "<polyline clip-path=\"url(#clip062)\" style=\"stroke:#000000; stroke-linecap:round; stroke-linejoin:round; stroke-width:2; stroke-opacity:0.1; fill:none\" points=\"\n",
       "  149.191,275.915 2352.76,275.915 \n",
       "  \"/>\n",
       "<polyline clip-path=\"url(#clip060)\" style=\"stroke:#000000; stroke-linecap:round; stroke-linejoin:round; stroke-width:4; stroke-opacity:1; fill:none\" points=\"\n",
       "  149.191,1486.45 149.191,47.2441 \n",
       "  \"/>\n",
       "<polyline clip-path=\"url(#clip060)\" style=\"stroke:#000000; stroke-linecap:round; stroke-linejoin:round; stroke-width:4; stroke-opacity:1; fill:none\" points=\"\n",
       "  149.191,1447.18 168.089,1447.18 \n",
       "  \"/>\n",
       "<polyline clip-path=\"url(#clip060)\" style=\"stroke:#000000; stroke-linecap:round; stroke-linejoin:round; stroke-width:4; stroke-opacity:1; fill:none\" points=\"\n",
       "  149.191,1154.36 168.089,1154.36 \n",
       "  \"/>\n",
       "<polyline clip-path=\"url(#clip060)\" style=\"stroke:#000000; stroke-linecap:round; stroke-linejoin:round; stroke-width:4; stroke-opacity:1; fill:none\" points=\"\n",
       "  149.191,861.548 168.089,861.548 \n",
       "  \"/>\n",
       "<polyline clip-path=\"url(#clip060)\" style=\"stroke:#000000; stroke-linecap:round; stroke-linejoin:round; stroke-width:4; stroke-opacity:1; fill:none\" points=\"\n",
       "  149.191,568.731 168.089,568.731 \n",
       "  \"/>\n",
       "<polyline clip-path=\"url(#clip060)\" style=\"stroke:#000000; stroke-linecap:round; stroke-linejoin:round; stroke-width:4; stroke-opacity:1; fill:none\" points=\"\n",
       "  149.191,275.915 168.089,275.915 \n",
       "  \"/>\n",
       "<path clip-path=\"url(#clip060)\" d=\"M50.9921 1447.63 L80.6679 1447.63 L80.6679 1451.57 L50.9921 1451.57 L50.9921 1447.63 Z\" fill=\"#000000\" fill-rule=\"evenodd\" fill-opacity=\"1\" /><path clip-path=\"url(#clip060)\" d=\"M103.608 1433.97 L91.8021 1452.42 L103.608 1452.42 L103.608 1433.97 M102.381 1429.9 L108.26 1429.9 L108.26 1452.42 L113.191 1452.42 L113.191 1456.31 L108.26 1456.31 L108.26 1464.46 L103.608 1464.46 L103.608 1456.31 L88.0058 1456.31 L88.0058 1451.8 L102.381 1429.9 Z\" fill=\"#000000\" fill-rule=\"evenodd\" fill-opacity=\"1\" /><path clip-path=\"url(#clip060)\" d=\"M53.0754 1154.82 L82.7512 1154.82 L82.7512 1158.75 L53.0754 1158.75 L53.0754 1154.82 Z\" fill=\"#000000\" fill-rule=\"evenodd\" fill-opacity=\"1\" /><path clip-path=\"url(#clip060)\" d=\"M96.8715 1167.71 L113.191 1167.71 L113.191 1171.64 L91.2465 1171.64 L91.2465 1167.71 Q93.9086 1164.95 98.4919 1160.33 Q103.098 1155.67 104.279 1154.33 Q106.524 1151.81 107.404 1150.07 Q108.307 1148.31 108.307 1146.62 Q108.307 1143.87 106.362 1142.13 Q104.441 1140.39 101.339 1140.39 Q99.14 1140.39 96.6863 1141.16 Q94.2558 1141.92 91.478 1143.47 L91.478 1138.75 Q94.3021 1137.62 96.7558 1137.04 Q99.2095 1136.46 101.246 1136.46 Q106.617 1136.46 109.811 1139.14 Q113.006 1141.83 113.006 1146.32 Q113.006 1148.45 112.196 1150.37 Q111.408 1152.27 109.302 1154.86 Q108.723 1155.53 105.621 1158.75 Q102.52 1161.95 96.8715 1167.71 Z\" fill=\"#000000\" fill-rule=\"evenodd\" fill-opacity=\"1\" /><path clip-path=\"url(#clip060)\" d=\"M101.246 847.347 Q97.6354 847.347 95.8067 850.911 Q94.0012 854.453 94.0012 861.583 Q94.0012 868.689 95.8067 872.254 Q97.6354 875.796 101.246 875.796 Q104.881 875.796 106.686 872.254 Q108.515 868.689 108.515 861.583 Q108.515 854.453 106.686 850.911 Q104.881 847.347 101.246 847.347 M101.246 843.643 Q107.057 843.643 110.112 848.249 Q113.191 852.833 113.191 861.583 Q113.191 870.309 110.112 874.916 Q107.057 879.499 101.246 879.499 Q95.4363 879.499 92.3576 874.916 Q89.3021 870.309 89.3021 861.583 Q89.3021 852.833 92.3576 848.249 Q95.4363 843.643 101.246 843.643 Z\" fill=\"#000000\" fill-rule=\"evenodd\" fill-opacity=\"1\" /><path clip-path=\"url(#clip060)\" d=\"M96.8715 582.076 L113.191 582.076 L113.191 586.011 L91.2465 586.011 L91.2465 582.076 Q93.9086 579.322 98.4919 574.692 Q103.098 570.039 104.279 568.697 Q106.524 566.174 107.404 564.438 Q108.307 562.678 108.307 560.988 Q108.307 558.234 106.362 556.498 Q104.441 554.762 101.339 554.762 Q99.14 554.762 96.6863 555.526 Q94.2558 556.289 91.478 557.84 L91.478 553.118 Q94.3021 551.984 96.7558 551.405 Q99.2095 550.826 101.246 550.826 Q106.617 550.826 109.811 553.512 Q113.006 556.197 113.006 560.688 Q113.006 562.817 112.196 564.738 Q111.408 566.637 109.302 569.229 Q108.723 569.9 105.621 573.118 Q102.52 576.312 96.8715 582.076 Z\" fill=\"#000000\" fill-rule=\"evenodd\" fill-opacity=\"1\" /><path clip-path=\"url(#clip060)\" d=\"M103.608 262.709 L91.8021 281.158 L103.608 281.158 L103.608 262.709 M102.381 258.635 L108.26 258.635 L108.26 281.158 L113.191 281.158 L113.191 285.047 L108.26 285.047 L108.26 293.195 L103.608 293.195 L103.608 285.047 L88.0058 285.047 L88.0058 280.533 L102.381 258.635 Z\" fill=\"#000000\" fill-rule=\"evenodd\" fill-opacity=\"1\" /><polyline clip-path=\"url(#clip062)\" style=\"stroke:#009af9; stroke-linecap:round; stroke-linejoin:round; stroke-width:16; stroke-opacity:1; fill:none\" points=\"\n",
       "  149.191,87.9763 156.364,95.4589 163.537,102.967 229.864,173.159 296.191,243.306 336.05,284.597 375.91,324.721 409.61,357.443 443.311,388.827 479.92,421.167 \n",
       "  516.528,451.464 550.278,477.419 584.028,501.353 620.211,524.669 656.394,545.489 698.316,566.457 740.238,584.071 777.493,596.996 814.748,607.481 847.418,614.802 \n",
       "  880.087,620.519 915.706,625.117 951.324,628.242 987.155,630.167 1022.98,631.158 1102.21,631.571 1177.6,632.256 1216.79,633.724 1255.98,636.47 1288.97,640.042 \n",
       "  1321.96,644.98 1362.24,653.12 1402.52,663.847 1439.42,676.139 1476.32,690.924 1510.39,706.869 1544.47,725.049 1578.99,745.741 1613.51,768.689 1652.2,796.995 \n",
       "  1690.88,827.889 1725.94,857.95 1761,889.785 1801.13,928.135 1841.27,968.169 1878.43,1006.39 1915.6,1045.39 1988.87,1123.16 2060.02,1197.63 2096.49,1234.6 \n",
       "  2132.95,1270.34 2172.91,1307.76 2212.86,1343.01 2241.88,1367.1 2270.9,1389.81 2299.92,1411.04 2328.94,1430.73 2334.9,1434.58 2340.85,1438.36 2346.8,1442.07 \n",
       "  2352.76,1445.72 \n",
       "  \"/>\n",
       "<polyline clip-path=\"url(#clip062)\" style=\"stroke:#e26f46; stroke-linecap:round; stroke-linejoin:round; stroke-width:16; stroke-opacity:1; fill:none\" points=\"\n",
       "  149.191,631.57 163.537,631.57 296.191,631.57 375.91,631.57 443.311,631.57 516.528,631.57 584.028,631.57 656.394,631.57 740.238,631.57 814.748,631.57 \n",
       "  880.087,631.57 951.324,631.57 1022.98,631.57 1102.21,631.57 1177.6,631.57 1255.98,631.57 1321.96,631.57 1402.52,631.57 1476.32,631.57 1544.47,631.57 \n",
       "  1613.51,631.57 1690.88,631.57 1761,631.57 1841.27,631.57 1915.6,631.57 1988.87,631.57 2060.02,631.57 2132.95,631.57 2212.86,631.57 2328.94,631.57 \n",
       "  2352.76,631.57 \n",
       "  \"/>\n",
       "<path clip-path=\"url(#clip060)\" d=\"\n",
       "M222.643 1438.47 L544.057 1438.47 L544.057 1282.95 L222.643 1282.95  Z\n",
       "  \" fill=\"#ffffff\" fill-rule=\"evenodd\" fill-opacity=\"1\"/>\n",
       "<polyline clip-path=\"url(#clip060)\" style=\"stroke:#000000; stroke-linecap:round; stroke-linejoin:round; stroke-width:4; stroke-opacity:1; fill:none\" points=\"\n",
       "  222.643,1438.47 544.057,1438.47 544.057,1282.95 222.643,1282.95 222.643,1438.47 \n",
       "  \"/>\n",
       "<polyline clip-path=\"url(#clip060)\" style=\"stroke:#009af9; stroke-linecap:round; stroke-linejoin:round; stroke-width:4; stroke-opacity:1; fill:none\" points=\"\n",
       "  247.127,1334.79 394.031,1334.79 \n",
       "  \"/>\n",
       "<path clip-path=\"url(#clip060)\" d=\"M435.02 1316.06 L435.02 1319.6 L430.946 1319.6 Q428.654 1319.6 427.752 1320.52 Q426.872 1321.45 426.872 1323.86 L426.872 1326.15 L433.886 1326.15 L433.886 1329.46 L426.872 1329.46 L426.872 1352.07 L422.59 1352.07 L422.59 1329.46 L418.515 1329.46 L418.515 1326.15 L422.59 1326.15 L422.59 1324.34 Q422.59 1320.01 424.603 1318.05 Q426.617 1316.06 430.992 1316.06 L435.02 1316.06 Z\" fill=\"#000000\" fill-rule=\"evenodd\" fill-opacity=\"1\" /><path clip-path=\"url(#clip060)\" d=\"M448.816 1316.1 Q445.714 1321.43 444.21 1326.63 Q442.705 1331.84 442.705 1337.19 Q442.705 1342.54 444.21 1347.79 Q445.738 1353.02 448.816 1358.32 L445.113 1358.32 Q441.64 1352.88 439.904 1347.63 Q438.191 1342.38 438.191 1337.19 Q438.191 1332.03 439.904 1326.8 Q441.617 1321.57 445.113 1316.1 L448.816 1316.1 Z\" fill=\"#000000\" fill-rule=\"evenodd\" fill-opacity=\"1\" /><path clip-path=\"url(#clip060)\" d=\"M478.631 1326.15 L469.256 1338.76 L479.117 1352.07 L474.094 1352.07 L466.548 1341.89 L459.001 1352.07 L453.978 1352.07 L464.048 1338.51 L454.835 1326.15 L459.858 1326.15 L466.733 1335.38 L473.608 1326.15 L478.631 1326.15 Z\" fill=\"#000000\" fill-rule=\"evenodd\" fill-opacity=\"1\" /><path clip-path=\"url(#clip060)\" d=\"M484.464 1316.1 L488.168 1316.1 Q491.64 1321.57 493.353 1326.8 Q495.089 1332.03 495.089 1337.19 Q495.089 1342.38 493.353 1347.63 Q491.64 1352.88 488.168 1358.32 L484.464 1358.32 Q487.543 1353.02 489.048 1347.79 Q490.575 1342.54 490.575 1337.19 Q490.575 1331.84 489.048 1326.63 Q487.543 1321.43 484.464 1316.1 Z\" fill=\"#000000\" fill-rule=\"evenodd\" fill-opacity=\"1\" /><polyline clip-path=\"url(#clip060)\" style=\"stroke:#e26f46; stroke-linecap:round; stroke-linejoin:round; stroke-width:4; stroke-opacity:1; fill:none\" points=\"\n",
       "  247.127,1386.63 394.031,1386.63 \n",
       "  \"/>\n",
       "<path clip-path=\"url(#clip060)\" d=\"M432.358 1406.32 Q430.552 1410.95 428.84 1412.36 Q427.127 1413.78 424.256 1413.78 L420.853 1413.78 L420.853 1410.21 L423.353 1410.21 Q425.113 1410.21 426.085 1409.38 Q427.057 1408.54 428.238 1405.44 L429.002 1403.5 L418.515 1377.99 L423.029 1377.99 L431.131 1398.27 L439.233 1377.99 L443.747 1377.99 L432.358 1406.32 Z\" fill=\"#000000\" fill-rule=\"evenodd\" fill-opacity=\"1\" /><path clip-path=\"url(#clip060)\" d=\"M451.038 1399.98 L458.677 1399.98 L458.677 1373.61 L450.367 1375.28 L450.367 1371.02 L458.631 1369.35 L463.307 1369.35 L463.307 1399.98 L470.946 1399.98 L470.946 1403.91 L451.038 1403.91 L451.038 1399.98 Z\" fill=\"#000000\" fill-rule=\"evenodd\" fill-opacity=\"1\" /></svg>\n"
      ]
     },
     "execution_count": 52,
     "metadata": {},
     "output_type": "execute_result"
    }
   ],
   "source": [
    "plot([f, x-> fp(-pi/2)*(x+pi/2) + f(-pi/2)],\n",
    "label = [\"f(x)\" \"y1\"], legend=:bottomleft, xlims=(-5, 3))"
   ]
  },
  {
   "cell_type": "markdown",
   "id": "b7ff9e15",
   "metadata": {
    "slideshow": {
     "slide_type": "slide"
    }
   },
   "source": [
    "# Plotting Newton convergence"
   ]
  },
  {
   "cell_type": "code",
   "execution_count": 31,
   "id": "640345e4",
   "metadata": {
    "cell_style": "split",
    "slideshow": {
     "slide_type": "-"
    }
   },
   "outputs": [
    {
     "data": {
      "text/plain": [
       "newton_hist (generic function with 1 method)"
      ]
     },
     "execution_count": 31,
     "metadata": {},
     "output_type": "execute_result"
    }
   ],
   "source": [
    "function newton_hist(f, fp, x0; tol=1e-12)\n",
    "    x = x0\n",
    "    hist = []\n",
    "    for k in 1:100 # max number of iterations\n",
    "        fx = f(x)\n",
    "        fpx = fp(x)\n",
    "        push!(hist, [x fx fpx])\n",
    "        if abs(fx) < tol\n",
    "            return vcat(hist...)\n",
    "        end\n",
    "        x = x - fx / fpx\n",
    "    end\n",
    "end"
   ]
  },
  {
   "cell_type": "code",
   "execution_count": 32,
   "id": "baa5fd73",
   "metadata": {
    "cell_style": "split",
    "slideshow": {
     "slide_type": "-"
    }
   },
   "outputs": [
    {
     "name": "stdout",
     "output_type": "stream",
     "text": [
      "x_star = xs[end, 1] = 0.7390851332151607\n"
     ]
    },
    {
     "data": {
      "image/svg+xml": [
       "<?xml version=\"1.0\" encoding=\"utf-8\"?>\n",
       "<svg xmlns=\"http://www.w3.org/2000/svg\" xmlns:xlink=\"http://www.w3.org/1999/xlink\" width=\"600\" height=\"400\" viewBox=\"0 0 2400 1600\">\n",
       "<defs>\n",
       "  <clipPath id=\"clip970\">\n",
       "    <rect x=\"0\" y=\"0\" width=\"2400\" height=\"1600\"/>\n",
       "  </clipPath>\n",
       "</defs>\n",
       "<path clip-path=\"url(#clip970)\" d=\"\n",
       "M0 1600 L2400 1600 L2400 0 L0 0  Z\n",
       "  \" fill=\"#ffffff\" fill-rule=\"evenodd\" fill-opacity=\"1\"/>\n",
       "<defs>\n",
       "  <clipPath id=\"clip971\">\n",
       "    <rect x=\"480\" y=\"0\" width=\"1681\" height=\"1600\"/>\n",
       "  </clipPath>\n",
       "</defs>\n",
       "<path clip-path=\"url(#clip970)\" d=\"\n",
       "M213.607 1486.45 L2352.76 1486.45 L2352.76 47.2441 L213.607 47.2441  Z\n",
       "  \" fill=\"#ffffff\" fill-rule=\"evenodd\" fill-opacity=\"1\"/>\n",
       "<defs>\n",
       "  <clipPath id=\"clip972\">\n",
       "    <rect x=\"213\" y=\"47\" width=\"2140\" height=\"1440\"/>\n",
       "  </clipPath>\n",
       "</defs>\n",
       "<polyline clip-path=\"url(#clip972)\" style=\"stroke:#000000; stroke-linecap:round; stroke-linejoin:round; stroke-width:2; stroke-opacity:0.1; fill:none\" points=\"\n",
       "  274.149,1486.45 274.149,47.2441 \n",
       "  \"/>\n",
       "<polyline clip-path=\"url(#clip972)\" style=\"stroke:#000000; stroke-linecap:round; stroke-linejoin:round; stroke-width:2; stroke-opacity:0.1; fill:none\" points=\"\n",
       "  946.838,1486.45 946.838,47.2441 \n",
       "  \"/>\n",
       "<polyline clip-path=\"url(#clip972)\" style=\"stroke:#000000; stroke-linecap:round; stroke-linejoin:round; stroke-width:2; stroke-opacity:0.1; fill:none\" points=\"\n",
       "  1619.53,1486.45 1619.53,47.2441 \n",
       "  \"/>\n",
       "<polyline clip-path=\"url(#clip972)\" style=\"stroke:#000000; stroke-linecap:round; stroke-linejoin:round; stroke-width:2; stroke-opacity:0.1; fill:none\" points=\"\n",
       "  2292.21,1486.45 2292.21,47.2441 \n",
       "  \"/>\n",
       "<polyline clip-path=\"url(#clip970)\" style=\"stroke:#000000; stroke-linecap:round; stroke-linejoin:round; stroke-width:4; stroke-opacity:1; fill:none\" points=\"\n",
       "  213.607,1486.45 2352.76,1486.45 \n",
       "  \"/>\n",
       "<polyline clip-path=\"url(#clip970)\" style=\"stroke:#000000; stroke-linecap:round; stroke-linejoin:round; stroke-width:4; stroke-opacity:1; fill:none\" points=\"\n",
       "  274.149,1486.45 274.149,1467.55 \n",
       "  \"/>\n",
       "<polyline clip-path=\"url(#clip970)\" style=\"stroke:#000000; stroke-linecap:round; stroke-linejoin:round; stroke-width:4; stroke-opacity:1; fill:none\" points=\"\n",
       "  946.838,1486.45 946.838,1467.55 \n",
       "  \"/>\n",
       "<polyline clip-path=\"url(#clip970)\" style=\"stroke:#000000; stroke-linecap:round; stroke-linejoin:round; stroke-width:4; stroke-opacity:1; fill:none\" points=\"\n",
       "  1619.53,1486.45 1619.53,1467.55 \n",
       "  \"/>\n",
       "<polyline clip-path=\"url(#clip970)\" style=\"stroke:#000000; stroke-linecap:round; stroke-linejoin:round; stroke-width:4; stroke-opacity:1; fill:none\" points=\"\n",
       "  2292.21,1486.45 2292.21,1467.55 \n",
       "  \"/>\n",
       "<path clip-path=\"url(#clip970)\" d=\"M264.531 1544.91 L272.17 1544.91 L272.17 1518.55 L263.86 1520.21 L263.86 1515.95 L272.124 1514.29 L276.8 1514.29 L276.8 1544.91 L284.439 1544.91 L284.439 1548.85 L264.531 1548.85 L264.531 1544.91 Z\" fill=\"#000000\" fill-rule=\"evenodd\" fill-opacity=\"1\" /><path clip-path=\"url(#clip970)\" d=\"M941.49 1544.91 L957.81 1544.91 L957.81 1548.85 L935.865 1548.85 L935.865 1544.91 Q938.527 1542.16 943.111 1537.53 Q947.717 1532.88 948.898 1531.53 Q951.143 1529.01 952.023 1527.27 Q952.926 1525.51 952.926 1523.82 Q952.926 1521.07 950.981 1519.33 Q949.06 1517.6 945.958 1517.6 Q943.759 1517.6 941.305 1518.36 Q938.875 1519.13 936.097 1520.68 L936.097 1515.95 Q938.921 1514.82 941.375 1514.24 Q943.828 1513.66 945.865 1513.66 Q951.236 1513.66 954.43 1516.35 Q957.625 1519.03 957.625 1523.52 Q957.625 1525.65 956.814 1527.57 Q956.027 1529.47 953.921 1532.07 Q953.342 1532.74 950.24 1535.95 Q947.139 1539.15 941.49 1544.91 Z\" fill=\"#000000\" fill-rule=\"evenodd\" fill-opacity=\"1\" /><path clip-path=\"url(#clip970)\" d=\"M1623.77 1530.21 Q1627.13 1530.93 1629 1533.2 Q1630.9 1535.47 1630.9 1538.8 Q1630.9 1543.92 1627.38 1546.72 Q1623.87 1549.52 1617.38 1549.52 Q1615.21 1549.52 1612.89 1549.08 Q1610.6 1548.66 1608.15 1547.81 L1608.15 1543.29 Q1610.09 1544.43 1612.41 1545.01 Q1614.72 1545.58 1617.25 1545.58 Q1621.64 1545.58 1623.94 1543.85 Q1626.25 1542.11 1626.25 1538.8 Q1626.25 1535.75 1624.1 1534.03 Q1621.97 1532.3 1618.15 1532.3 L1614.12 1532.3 L1614.12 1528.45 L1618.33 1528.45 Q1621.78 1528.45 1623.61 1527.09 Q1625.44 1525.7 1625.44 1523.11 Q1625.44 1520.45 1623.54 1519.03 Q1621.67 1517.6 1618.15 1517.6 Q1616.23 1517.6 1614.03 1518.01 Q1611.83 1518.43 1609.19 1519.31 L1609.19 1515.14 Q1611.85 1514.4 1614.17 1514.03 Q1616.5 1513.66 1618.57 1513.66 Q1623.89 1513.66 1626.99 1516.09 Q1630.09 1518.5 1630.09 1522.62 Q1630.09 1525.49 1628.45 1527.48 Q1626.81 1529.45 1623.77 1530.21 Z\" fill=\"#000000\" fill-rule=\"evenodd\" fill-opacity=\"1\" /><path clip-path=\"url(#clip970)\" d=\"M2295.22 1518.36 L2283.42 1536.81 L2295.22 1536.81 L2295.22 1518.36 M2294 1514.29 L2299.88 1514.29 L2299.88 1536.81 L2304.81 1536.81 L2304.81 1540.7 L2299.88 1540.7 L2299.88 1548.85 L2295.22 1548.85 L2295.22 1540.7 L2279.62 1540.7 L2279.62 1536.19 L2294 1514.29 Z\" fill=\"#000000\" fill-rule=\"evenodd\" fill-opacity=\"1\" /><polyline clip-path=\"url(#clip972)\" style=\"stroke:#000000; stroke-linecap:round; stroke-linejoin:round; stroke-width:2; stroke-opacity:0.1; fill:none\" points=\"\n",
       "  213.607,1479.82 2352.76,1479.82 \n",
       "  \"/>\n",
       "<polyline clip-path=\"url(#clip972)\" style=\"stroke:#000000; stroke-linecap:round; stroke-linejoin:round; stroke-width:2; stroke-opacity:0.1; fill:none\" points=\"\n",
       "  213.607,740.777 2352.76,740.777 \n",
       "  \"/>\n",
       "<polyline clip-path=\"url(#clip970)\" style=\"stroke:#000000; stroke-linecap:round; stroke-linejoin:round; stroke-width:4; stroke-opacity:1; fill:none\" points=\"\n",
       "  213.607,1486.45 213.607,47.2441 \n",
       "  \"/>\n",
       "<polyline clip-path=\"url(#clip970)\" style=\"stroke:#000000; stroke-linecap:round; stroke-linejoin:round; stroke-width:4; stroke-opacity:1; fill:none\" points=\"\n",
       "  213.607,1479.82 232.505,1479.82 \n",
       "  \"/>\n",
       "<polyline clip-path=\"url(#clip970)\" style=\"stroke:#000000; stroke-linecap:round; stroke-linejoin:round; stroke-width:4; stroke-opacity:1; fill:none\" points=\"\n",
       "  213.607,740.777 232.505,740.777 \n",
       "  \"/>\n",
       "<path clip-path=\"url(#clip970)\" d=\"M51.6634 1499.62 L59.3023 1499.62 L59.3023 1473.25 L50.9921 1474.92 L50.9921 1470.66 L59.256 1468.99 L63.9319 1468.99 L63.9319 1499.62 L71.5707 1499.62 L71.5707 1503.55 L51.6634 1503.55 L51.6634 1499.62 Z\" fill=\"#000000\" fill-rule=\"evenodd\" fill-opacity=\"1\" /><path clip-path=\"url(#clip970)\" d=\"M91.0151 1472.07 Q87.404 1472.07 85.5753 1475.64 Q83.7697 1479.18 83.7697 1486.31 Q83.7697 1493.41 85.5753 1496.98 Q87.404 1500.52 91.0151 1500.52 Q94.6493 1500.52 96.4548 1496.98 Q98.2835 1493.41 98.2835 1486.31 Q98.2835 1479.18 96.4548 1475.64 Q94.6493 1472.07 91.0151 1472.07 M91.0151 1468.37 Q96.8252 1468.37 99.8808 1472.97 Q102.959 1477.56 102.959 1486.31 Q102.959 1495.03 99.8808 1499.64 Q96.8252 1504.22 91.0151 1504.22 Q85.2049 1504.22 82.1262 1499.64 Q79.0707 1495.03 79.0707 1486.31 Q79.0707 1477.56 82.1262 1472.97 Q85.2049 1468.37 91.0151 1468.37 Z\" fill=\"#000000\" fill-rule=\"evenodd\" fill-opacity=\"1\" /><path clip-path=\"url(#clip970)\" d=\"M102.959 1462.47 L127.071 1462.47 L127.071 1465.67 L102.959 1465.67 L102.959 1462.47 Z\" fill=\"#000000\" fill-rule=\"evenodd\" fill-opacity=\"1\" /><path clip-path=\"url(#clip970)\" d=\"M135.929 1472.94 L142.136 1472.94 L142.136 1451.52 L135.384 1452.88 L135.384 1449.42 L142.098 1448.06 L145.898 1448.06 L145.898 1472.94 L152.104 1472.94 L152.104 1476.14 L135.929 1476.14 L135.929 1472.94 Z\" fill=\"#000000\" fill-rule=\"evenodd\" fill-opacity=\"1\" /><path clip-path=\"url(#clip970)\" d=\"M167.903 1450.56 Q164.969 1450.56 163.483 1453.46 Q162.016 1456.34 162.016 1462.13 Q162.016 1467.9 163.483 1470.8 Q164.969 1473.68 167.903 1473.68 Q170.855 1473.68 172.322 1470.8 Q173.808 1467.9 173.808 1462.13 Q173.808 1456.34 172.322 1453.46 Q170.855 1450.56 167.903 1450.56 M167.903 1447.55 Q172.623 1447.55 175.106 1451.3 Q177.607 1455.02 177.607 1462.13 Q177.607 1469.22 175.106 1472.96 Q172.623 1476.69 167.903 1476.69 Q163.182 1476.69 160.68 1472.96 Q158.198 1469.22 158.198 1462.13 Q158.198 1455.02 160.68 1451.3 Q163.182 1447.55 167.903 1447.55 Z\" fill=\"#000000\" fill-rule=\"evenodd\" fill-opacity=\"1\" /><path clip-path=\"url(#clip970)\" d=\"M76.9787 760.569 L84.6175 760.569 L84.6175 734.204 L76.3074 735.871 L76.3074 731.611 L84.5712 729.945 L89.2471 729.945 L89.2471 760.569 L96.886 760.569 L96.886 764.505 L76.9787 764.505 L76.9787 760.569 Z\" fill=\"#000000\" fill-rule=\"evenodd\" fill-opacity=\"1\" /><path clip-path=\"url(#clip970)\" d=\"M116.33 733.023 Q112.719 733.023 110.891 736.588 Q109.085 740.13 109.085 747.259 Q109.085 754.366 110.891 757.931 Q112.719 761.472 116.33 761.472 Q119.965 761.472 121.77 757.931 Q123.599 754.366 123.599 747.259 Q123.599 740.13 121.77 736.588 Q119.965 733.023 116.33 733.023 M116.33 729.32 Q122.14 729.32 125.196 733.926 Q128.275 738.509 128.275 747.259 Q128.275 755.986 125.196 760.593 Q122.14 765.176 116.33 765.176 Q110.52 765.176 107.441 760.593 Q104.386 755.986 104.386 747.259 Q104.386 738.509 107.441 733.926 Q110.52 729.32 116.33 729.32 Z\" fill=\"#000000\" fill-rule=\"evenodd\" fill-opacity=\"1\" /><path clip-path=\"url(#clip970)\" d=\"M128.275 723.421 L152.386 723.421 L152.386 726.618 L128.275 726.618 L128.275 723.421 Z\" fill=\"#000000\" fill-rule=\"evenodd\" fill-opacity=\"1\" /><path clip-path=\"url(#clip970)\" d=\"M160.624 709.014 L175.539 709.014 L175.539 712.212 L164.103 712.212 L164.103 719.095 Q164.931 718.813 165.759 718.681 Q166.586 718.531 167.414 718.531 Q172.116 718.531 174.862 721.108 Q177.607 723.684 177.607 728.085 Q177.607 732.618 174.786 735.138 Q171.965 737.64 166.831 737.64 Q165.063 737.64 163.22 737.339 Q161.395 737.038 159.439 736.436 L159.439 732.618 Q161.132 733.54 162.937 733.991 Q164.743 734.442 166.755 734.442 Q170.009 734.442 171.909 732.731 Q173.808 731.019 173.808 728.085 Q173.808 725.151 171.909 723.44 Q170.009 721.728 166.755 721.728 Q165.232 721.728 163.709 722.067 Q162.204 722.405 160.624 723.12 L160.624 709.014 Z\" fill=\"#000000\" fill-rule=\"evenodd\" fill-opacity=\"1\" /><polyline clip-path=\"url(#clip972)\" style=\"stroke:#009af9; stroke-linecap:round; stroke-linejoin:round; stroke-width:4; stroke-opacity:1; fill:none\" points=\"\n",
       "  274.149,87.9763 946.838,289.624 1619.53,675.241 2292.21,1445.72 \n",
       "  \"/>\n",
       "<line clip-path=\"url(#clip972)\" x1=\"274.149\" y1=\"87.9763\" x2=\"274.149\" y2=\"71.9763\" style=\"stroke:#009af9; stroke-width:3.2; stroke-opacity:1\"/>\n",
       "<line clip-path=\"url(#clip972)\" x1=\"274.149\" y1=\"87.9763\" x2=\"258.149\" y2=\"87.9763\" style=\"stroke:#009af9; stroke-width:3.2; stroke-opacity:1\"/>\n",
       "<line clip-path=\"url(#clip972)\" x1=\"274.149\" y1=\"87.9763\" x2=\"274.149\" y2=\"103.976\" style=\"stroke:#009af9; stroke-width:3.2; stroke-opacity:1\"/>\n",
       "<line clip-path=\"url(#clip972)\" x1=\"274.149\" y1=\"87.9763\" x2=\"290.149\" y2=\"87.9763\" style=\"stroke:#009af9; stroke-width:3.2; stroke-opacity:1\"/>\n",
       "<line clip-path=\"url(#clip972)\" x1=\"946.838\" y1=\"289.624\" x2=\"946.838\" y2=\"273.624\" style=\"stroke:#009af9; stroke-width:3.2; stroke-opacity:1\"/>\n",
       "<line clip-path=\"url(#clip972)\" x1=\"946.838\" y1=\"289.624\" x2=\"930.838\" y2=\"289.624\" style=\"stroke:#009af9; stroke-width:3.2; stroke-opacity:1\"/>\n",
       "<line clip-path=\"url(#clip972)\" x1=\"946.838\" y1=\"289.624\" x2=\"946.838\" y2=\"305.624\" style=\"stroke:#009af9; stroke-width:3.2; stroke-opacity:1\"/>\n",
       "<line clip-path=\"url(#clip972)\" x1=\"946.838\" y1=\"289.624\" x2=\"962.838\" y2=\"289.624\" style=\"stroke:#009af9; stroke-width:3.2; stroke-opacity:1\"/>\n",
       "<line clip-path=\"url(#clip972)\" x1=\"1619.53\" y1=\"675.241\" x2=\"1619.53\" y2=\"659.241\" style=\"stroke:#009af9; stroke-width:3.2; stroke-opacity:1\"/>\n",
       "<line clip-path=\"url(#clip972)\" x1=\"1619.53\" y1=\"675.241\" x2=\"1603.53\" y2=\"675.241\" style=\"stroke:#009af9; stroke-width:3.2; stroke-opacity:1\"/>\n",
       "<line clip-path=\"url(#clip972)\" x1=\"1619.53\" y1=\"675.241\" x2=\"1619.53\" y2=\"691.241\" style=\"stroke:#009af9; stroke-width:3.2; stroke-opacity:1\"/>\n",
       "<line clip-path=\"url(#clip972)\" x1=\"1619.53\" y1=\"675.241\" x2=\"1635.53\" y2=\"675.241\" style=\"stroke:#009af9; stroke-width:3.2; stroke-opacity:1\"/>\n",
       "<line clip-path=\"url(#clip972)\" x1=\"2292.21\" y1=\"1445.72\" x2=\"2292.21\" y2=\"1429.72\" style=\"stroke:#009af9; stroke-width:3.2; stroke-opacity:1\"/>\n",
       "<line clip-path=\"url(#clip972)\" x1=\"2292.21\" y1=\"1445.72\" x2=\"2276.21\" y2=\"1445.72\" style=\"stroke:#009af9; stroke-width:3.2; stroke-opacity:1\"/>\n",
       "<line clip-path=\"url(#clip972)\" x1=\"2292.21\" y1=\"1445.72\" x2=\"2292.21\" y2=\"1461.72\" style=\"stroke:#009af9; stroke-width:3.2; stroke-opacity:1\"/>\n",
       "<line clip-path=\"url(#clip972)\" x1=\"2292.21\" y1=\"1445.72\" x2=\"2308.21\" y2=\"1445.72\" style=\"stroke:#009af9; stroke-width:3.2; stroke-opacity:1\"/>\n",
       "<path clip-path=\"url(#clip970)\" d=\"\n",
       "M1991.34 198.898 L2281.45 198.898 L2281.45 95.2176 L1991.34 95.2176  Z\n",
       "  \" fill=\"#ffffff\" fill-rule=\"evenodd\" fill-opacity=\"1\"/>\n",
       "<polyline clip-path=\"url(#clip970)\" style=\"stroke:#000000; stroke-linecap:round; stroke-linejoin:round; stroke-width:4; stroke-opacity:1; fill:none\" points=\"\n",
       "  1991.34,198.898 2281.45,198.898 2281.45,95.2176 1991.34,95.2176 1991.34,198.898 \n",
       "  \"/>\n",
       "<polyline clip-path=\"url(#clip970)\" style=\"stroke:#009af9; stroke-linecap:round; stroke-linejoin:round; stroke-width:4; stroke-opacity:1; fill:none\" points=\"\n",
       "  2015.11,147.058 2157.72,147.058 \n",
       "  \"/>\n",
       "<line clip-path=\"url(#clip970)\" x1=\"2086.41\" y1=\"147.058\" x2=\"2086.41\" y2=\"121.458\" style=\"stroke:#009af9; stroke-width:5.12; stroke-opacity:1\"/>\n",
       "<line clip-path=\"url(#clip970)\" x1=\"2086.41\" y1=\"147.058\" x2=\"2060.81\" y2=\"147.058\" style=\"stroke:#009af9; stroke-width:5.12; stroke-opacity:1\"/>\n",
       "<line clip-path=\"url(#clip970)\" x1=\"2086.41\" y1=\"147.058\" x2=\"2086.41\" y2=\"172.658\" style=\"stroke:#009af9; stroke-width:5.12; stroke-opacity:1\"/>\n",
       "<line clip-path=\"url(#clip970)\" x1=\"2086.41\" y1=\"147.058\" x2=\"2112.01\" y2=\"147.058\" style=\"stroke:#009af9; stroke-width:5.12; stroke-opacity:1\"/>\n",
       "<path clip-path=\"url(#clip970)\" d=\"M2195.33 166.745 Q2193.52 171.375 2191.81 172.787 Q2190.1 174.199 2187.22 174.199 L2183.82 174.199 L2183.82 170.634 L2186.32 170.634 Q2188.08 170.634 2189.05 169.8 Q2190.03 168.967 2191.21 165.865 L2191.97 163.921 L2181.48 138.412 L2186 138.412 L2194.1 158.689 L2202.2 138.412 L2206.72 138.412 L2195.33 166.745 Z\" fill=\"#000000\" fill-rule=\"evenodd\" fill-opacity=\"1\" /><path clip-path=\"url(#clip970)\" d=\"M2214.01 160.402 L2221.65 160.402 L2221.65 134.037 L2213.34 135.703 L2213.34 131.444 L2221.6 129.778 L2226.28 129.778 L2226.28 160.402 L2233.91 160.402 L2233.91 164.338 L2214.01 164.338 L2214.01 160.402 Z\" fill=\"#000000\" fill-rule=\"evenodd\" fill-opacity=\"1\" /></svg>\n"
      ]
     },
     "execution_count": 32,
     "metadata": {},
     "output_type": "execute_result"
    }
   ],
   "source": [
    "xs = newton_hist(f, fp, 1)\n",
    "@show x_star = xs[end,1]\n",
    "plot(xs[1:end-1,1] .- x_star, yscale=:log10, marker=:auto)"
   ]
  },
  {
   "cell_type": "markdown",
   "id": "70c030b4",
   "metadata": {
    "slideshow": {
     "slide_type": "slide"
    }
   },
   "source": [
    "# Quadratic convergence!\n",
    "* It turns out that Newton's method has _locally quadratic_ convergence to simple roots,\n",
    "$$\\lim_{k \\to \\infty} \\frac{|e_{k+1}|}{|e_k|^2} < \\infty.$$\n",
    "* \"The number of correct digits doubles each iteration.\"\n",
    "* Now that we know how to make a good guess accurate, the effort lies in getting a good guess."
   ]
  }
 ],
 "metadata": {
  "@webio": {
   "lastCommId": "d005758a2c014970b1ecb25bdfe0e5ce",
   "lastKernelId": "6b2d1577-a396-467b-b12c-4c035d941eea"
  },
  "celltoolbar": "Slideshow",
  "hide_code_all_hidden": false,
  "kernelspec": {
   "display_name": "Julia 1.7.2",
   "language": "julia",
   "name": "julia-1.7"
  },
  "language_info": {
   "file_extension": ".jl",
   "mimetype": "application/julia",
   "name": "julia",
   "version": "1.8.5"
  },
  "rise": {
   "enable_chalkboard": true
  }
 },
 "nbformat": 4,
 "nbformat_minor": 5
}
